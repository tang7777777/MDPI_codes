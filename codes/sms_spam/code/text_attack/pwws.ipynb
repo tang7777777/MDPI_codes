{
 "cells": [
  {
   "cell_type": "code",
   "execution_count": 19,
   "id": "36cc277f",
   "metadata": {},
   "outputs": [],
   "source": [
    "import torch\n",
    "from copy import deepcopy\n",
    "from transformers import AutoTokenizer, AutoModelForSequenceClassification\n",
    "from textattack.datasets import HuggingFaceDataset\n",
    "from textattack.models.wrappers import HuggingFaceModelWrapper\n",
    "from textattack.models.wrappers import ModelWrapper\n",
    "from transformers import AutoModelForSequenceClassification, AutoTokenizer\n",
    "\n"
   ]
  },
  {
   "cell_type": "code",
   "execution_count": 20,
   "id": "ec9b8b76",
   "metadata": {},
   "outputs": [
    {
     "name": "stderr",
     "output_type": "stream",
     "text": [
      "Reusing dataset sms_spam (C:\\Users\\DELL\\.cache\\huggingface\\datasets\\sms_spam\\plain_text\\1.0.0\\53f051d3b5f62d99d61792c91acefe4f1577ad3e4c216fb0ad39e30b9f20019c)\n",
      "100%|███████████████████████████████████████████████████████████████████████████████████| 1/1 [00:00<00:00, 991.56it/s]\n"
     ]
    },
    {
     "data": {
      "text/plain": [
       "list"
      ]
     },
     "metadata": {},
     "output_type": "display_data"
    },
    {
     "data": {
      "text/plain": [
       "Dataset({\n",
       "    features: ['label'],\n",
       "    num_rows: 5574\n",
       "})"
      ]
     },
     "metadata": {},
     "output_type": "display_data"
    },
    {
     "data": {
      "text/plain": [
       "Dataset({\n",
       "    features: ['label', 'text'],\n",
       "    num_rows: 5574\n",
       "})"
      ]
     },
     "metadata": {},
     "output_type": "display_data"
    },
    {
     "name": "stderr",
     "output_type": "stream",
     "text": [
      "Loading cached shuffled indices for dataset at C:\\Users\\DELL\\.cache\\huggingface\\datasets\\sms_spam\\plain_text\\1.0.0\\53f051d3b5f62d99d61792c91acefe4f1577ad3e4c216fb0ad39e30b9f20019c\\cache-1dabca71be75cbef.arrow\n"
     ]
    }
   ],
   "source": [
    "from datasets import load_dataset\n",
    "from datasets import Dataset\n",
    "dataset = load_dataset(\"sms_spam\")\n",
    "dataset = dataset.rename_column(\"sms\", \"text\")\n",
    "dataset = dataset['train']\n",
    "\n",
    "processed_text = dataset['text']\n",
    "display(type(processed_text))\n",
    "processed_text = [s.replace('\\n', '') for s in processed_text]\n",
    "\n",
    "dataset = dataset.remove_columns([\"text\"])\n",
    "display(dataset)\n",
    "dataset = dataset.add_column(\"text\", processed_text)\n",
    "display(dataset)\n",
    "dataset = dataset.shuffle(seed=42).select([i for i in list(range(5500))])\n",
    "\n",
    "\n",
    "train_ds = Dataset.from_dict(dataset[0:4500])\n",
    "validation_ds = Dataset.from_dict(dataset[4500:5000])\n",
    "test_ds = Dataset.from_dict(dataset[5000:5500])\n",
    "\n",
    "data = test_ds\n",
    "\n",
    "\n",
    "\n"
   ]
  },
  {
   "cell_type": "code",
   "execution_count": 21,
   "id": "e90cd59a",
   "metadata": {},
   "outputs": [
    {
     "data": {
      "text/plain": [
       "Dataset({\n",
       "    features: ['label', 'text'],\n",
       "    num_rows: 500\n",
       "})"
      ]
     },
     "metadata": {},
     "output_type": "display_data"
    },
    {
     "data": {
      "text/plain": [
       "{'label': [0, 0, 0, 0, 1],\n",
       " 'text': ['Yeah so basically any time next week you can get away from your mom &amp; get up before 3',\n",
       "  \"Haha... can... But i'm having dinner with my cousin...\",\n",
       "  'How is your schedule next week? I am out of town this weekend.',\n",
       "  'Alright i have a new goal now',\n",
       "  'Check Out Choose Your Babe Videos @ sms.shsex.netUN fgkslpoPW fgkslpo']}"
      ]
     },
     "metadata": {},
     "output_type": "display_data"
    }
   ],
   "source": [
    "display(data)\n",
    "display(data[0:5])"
   ]
  },
  {
   "cell_type": "code",
   "execution_count": 22,
   "id": "f4eebd5f",
   "metadata": {},
   "outputs": [
    {
     "data": {
      "text/plain": [
       "<textattack.datasets.huggingface_dataset.HuggingFaceDataset at 0x1c76fbdf700>"
      ]
     },
     "metadata": {},
     "output_type": "display_data"
    }
   ],
   "source": [
    "import textattack\n",
    "dataset = textattack.datasets.HuggingFaceDataset(data)\n",
    "display(dataset)"
   ]
  },
  {
   "cell_type": "code",
   "execution_count": 23,
   "id": "6407fe57",
   "metadata": {},
   "outputs": [],
   "source": [
    "#attack the original model using TextFooler\n",
    "device = torch.device(str(\"cuda:0\") if torch.cuda.is_available() else \"cpu\") \n",
    "model_path = r'C:\\Users\\DELL\\Text_Augmentation\\sms_spam_dataset_3runs\\models\\CheckList\\run3'\n",
    "tokenizer = AutoTokenizer.from_pretrained(\"distilbert-base-uncased\")\n",
    "model = AutoModelForSequenceClassification.from_pretrained(model_path, num_labels=2)\n",
    "\n",
    "model_wrapper = HuggingFaceModelWrapper(model, tokenizer)\n",
    "\n"
   ]
  },
  {
   "cell_type": "code",
   "execution_count": 24,
   "id": "1ee6adf4",
   "metadata": {
    "scrolled": false
   },
   "outputs": [
    {
     "name": "stderr",
     "output_type": "stream",
     "text": [
      "[nltk_data] Downloading package omw-1.4 to\n",
      "[nltk_data]     C:\\Users\\DELL\\AppData\\Roaming\\nltk_data...\n",
      "[nltk_data]   Package omw-1.4 is already up-to-date!\n",
      "textattack: Unknown if model of class <class 'transformers.models.distilbert.modeling_distilbert.DistilBertForSequenceClassification'> compatible with goal function <class 'textattack.goal_functions.classification.untargeted_classification.UntargetedClassification'>.\n"
     ]
    },
    {
     "data": {
      "text/plain": [
       "Attack(\n",
       "  (search_method): GreedyWordSwapWIR(\n",
       "    (wir_method):  weighted-saliency\n",
       "  )\n",
       "  (goal_function):  UntargetedClassification\n",
       "  (transformation):  WordSwapWordNet\n",
       "  (constraints): \n",
       "    (0): RepeatModification\n",
       "    (1): StopwordModification\n",
       "  (is_black_box):  True\n",
       ")"
      ]
     },
     "metadata": {},
     "output_type": "display_data"
    }
   ],
   "source": [
    "from textattack.attack_recipes.pwws_ren_2019 import PWWSRen2019\n",
    "attack = PWWSRen2019.build(model_wrapper)\n",
    "attack.cuda_()\n",
    "display(attack)"
   ]
  },
  {
   "cell_type": "code",
   "execution_count": 25,
   "id": "3344201d",
   "metadata": {
    "scrolled": true
   },
   "outputs": [
    {
     "name": "stderr",
     "output_type": "stream",
     "text": [
      "textattack: Logging to CSV at path C:\\Users\\DELL\\Text_Augmentation\\sms_spam_dataset_3runs\\resullts\\CheckList\\run3\\pwws_attack_results.csv\n"
     ]
    },
    {
     "name": "stdout",
     "output_type": "stream",
     "text": [
      "Attack(\n",
      "  (search_method): GreedyWordSwapWIR(\n",
      "    (wir_method):  weighted-saliency\n",
      "  )\n",
      "  (goal_function):  UntargetedClassification\n",
      "  (transformation):  WordSwapWordNet\n",
      "  (constraints): \n",
      "    (0): RepeatModification\n",
      "    (1): StopwordModification\n",
      "  (is_black_box):  True\n",
      ") \n",
      "\n"
     ]
    },
    {
     "name": "stderr",
     "output_type": "stream",
     "text": [
      "  0%|▏                                                                                 | 1/500 [00:01<13:41,  1.65s/it]C:\\Users\\DELL\\anaconda3\\envs\\ta\\lib\\site-packages\\textattack\\loggers\\csv_logger.py:41: FutureWarning: The frame.append method is deprecated and will be removed from pandas in a future version. Use pandas.concat instead.\n",
      "  self.df = self.df.append(row, ignore_index=True)\n",
      "[Succeeded / Failed / Skipped / Total] 0 / 1 / 0 / 1:   0%|                            | 1/500 [00:01<13:46,  1.66s/it]C:\\Users\\DELL\\anaconda3\\envs\\ta\\lib\\site-packages\\textattack\\loggers\\csv_logger.py:41: FutureWarning: The frame.append method is deprecated and will be removed from pandas in a future version. Use pandas.concat instead.\n",
      "  self.df = self.df.append(row, ignore_index=True)\n",
      "[Succeeded / Failed / Skipped / Total] 0 / 2 / 0 / 2:   0%|                            | 2/500 [00:01<07:16,  1.14it/s]"
     ]
    },
    {
     "name": "stdout",
     "output_type": "stream",
     "text": [
      "--------------------------------------------- Result 1 ---------------------------------------------\n",
      "[[0 (100%)]] --> [[[FAILED]]]\n",
      "\n",
      "Yeah so basically any time next week you can get away from your mom &amp; get up before 3\n",
      "\n",
      "\n",
      "--------------------------------------------- Result 2 ---------------------------------------------\n",
      "[[0 (100%)]] --> [[[FAILED]]]\n",
      "\n",
      "Haha... can... But i'm having dinner with my cousin...\n",
      "\n",
      "\n"
     ]
    },
    {
     "name": "stderr",
     "output_type": "stream",
     "text": [
      "[Succeeded / Failed / Skipped / Total] 0 / 2 / 0 / 2:   1%|▏                           | 3/500 [00:02<05:33,  1.49it/s]C:\\Users\\DELL\\anaconda3\\envs\\ta\\lib\\site-packages\\textattack\\loggers\\csv_logger.py:41: FutureWarning: The frame.append method is deprecated and will be removed from pandas in a future version. Use pandas.concat instead.\n",
      "  self.df = self.df.append(row, ignore_index=True)\n",
      "[Succeeded / Failed / Skipped / Total] 0 / 3 / 0 / 3:   1%|▏                           | 3/500 [00:02<05:35,  1.48it/s]C:\\Users\\DELL\\anaconda3\\envs\\ta\\lib\\site-packages\\textattack\\loggers\\csv_logger.py:41: FutureWarning: The frame.append method is deprecated and will be removed from pandas in a future version. Use pandas.concat instead.\n",
      "  self.df = self.df.append(row, ignore_index=True)\n"
     ]
    },
    {
     "name": "stdout",
     "output_type": "stream",
     "text": [
      "--------------------------------------------- Result 3 ---------------------------------------------\n",
      "[[0 (100%)]] --> [[[FAILED]]]\n",
      "\n",
      "How is your schedule next week? I am out of town this weekend.\n",
      "\n",
      "\n",
      "--------------------------------------------- Result 4 ---------------------------------------------\n",
      "[[0 (100%)]] --> [[[FAILED]]]\n",
      "\n",
      "Alright i have a new goal now\n",
      "\n",
      "\n"
     ]
    },
    {
     "name": "stderr",
     "output_type": "stream",
     "text": [
      "[Succeeded / Failed / Skipped / Total] 0 / 4 / 0 / 4:   1%|▎                           | 5/500 [00:02<03:39,  2.25it/s]C:\\Users\\DELL\\anaconda3\\envs\\ta\\lib\\site-packages\\textattack\\loggers\\csv_logger.py:41: FutureWarning: The frame.append method is deprecated and will be removed from pandas in a future version. Use pandas.concat instead.\n",
      "  self.df = self.df.append(row, ignore_index=True)\n",
      "[Succeeded / Failed / Skipped / Total] 0 / 4 / 1 / 5:   1%|▎                           | 5/500 [00:02<03:41,  2.23it/s]"
     ]
    },
    {
     "name": "stdout",
     "output_type": "stream",
     "text": [
      "--------------------------------------------- Result 5 ---------------------------------------------\n",
      "[[0 (95%)]] --> [[[SKIPPED]]]\n",
      "\n",
      "Check Out Choose Your Babe Videos @ sms.shsex.netUN fgkslpoPW fgkslpo\n",
      "\n",
      "\n"
     ]
    },
    {
     "name": "stderr",
     "output_type": "stream",
     "text": [
      "C:\\Users\\DELL\\anaconda3\\envs\\ta\\lib\\site-packages\\textattack\\loggers\\csv_logger.py:41: FutureWarning: The frame.append method is deprecated and will be removed from pandas in a future version. Use pandas.concat instead.\n",
      "  self.df = self.df.append(row, ignore_index=True)\n",
      "\r",
      "[Succeeded / Failed / Skipped / Total] 0 / 5 / 1 / 6:   1%|▎                           | 6/500 [00:03<05:15,  1.57it/s]"
     ]
    },
    {
     "name": "stdout",
     "output_type": "stream",
     "text": [
      "--------------------------------------------- Result 6 ---------------------------------------------\n",
      "[[1 (100%)]] --> [[[FAILED]]]\n",
      "\n",
      "Send a logo 2 ur lover - 2 names joined by a heart. Txt LOVE NAME1 NAME2 MOBNO eg LOVE ADAM EVE 07123456789 to 87077 Yahoo! POBox36504W45WQ TxtNO 4 no ads 150p.\n",
      "\n",
      "\n"
     ]
    },
    {
     "name": "stderr",
     "output_type": "stream",
     "text": [
      "[Succeeded / Failed / Skipped / Total] 0 / 5 / 1 / 6:   1%|▍                           | 7/500 [00:04<05:47,  1.42it/s]C:\\Users\\DELL\\anaconda3\\envs\\ta\\lib\\site-packages\\textattack\\loggers\\csv_logger.py:41: FutureWarning: The frame.append method is deprecated and will be removed from pandas in a future version. Use pandas.concat instead.\n",
      "  self.df = self.df.append(row, ignore_index=True)\n",
      "[Succeeded / Failed / Skipped / Total] 0 / 6 / 1 / 7:   1%|▍                           | 7/500 [00:04<05:48,  1.41it/s]"
     ]
    },
    {
     "name": "stdout",
     "output_type": "stream",
     "text": [
      "--------------------------------------------- Result 7 ---------------------------------------------\n",
      "[[0 (100%)]] --> [[[FAILED]]]\n",
      "\n",
      "Its a site to simulate the test. It just gives you very tough questions to test your readiness.\n",
      "\n",
      "\n"
     ]
    },
    {
     "name": "stderr",
     "output_type": "stream",
     "text": [
      "C:\\Users\\DELL\\anaconda3\\envs\\ta\\lib\\site-packages\\textattack\\loggers\\csv_logger.py:41: FutureWarning: The frame.append method is deprecated and will be removed from pandas in a future version. Use pandas.concat instead.\n",
      "  self.df = self.df.append(row, ignore_index=True)\n",
      "\r",
      "[Succeeded / Failed / Skipped / Total] 0 / 7 / 1 / 8:   2%|▍                           | 8/500 [00:05<05:33,  1.47it/s]"
     ]
    },
    {
     "name": "stdout",
     "output_type": "stream",
     "text": [
      "--------------------------------------------- Result 8 ---------------------------------------------\n",
      "[[0 (100%)]] --> [[[FAILED]]]\n",
      "\n",
      "Sorry, I'll call later\n",
      "\n",
      "\n"
     ]
    },
    {
     "name": "stderr",
     "output_type": "stream",
     "text": [
      "[Succeeded / Failed / Skipped / Total] 0 / 7 / 1 / 8:   2%|▌                           | 9/500 [00:07<06:37,  1.24it/s]C:\\Users\\DELL\\anaconda3\\envs\\ta\\lib\\site-packages\\textattack\\loggers\\csv_logger.py:41: FutureWarning: The frame.append method is deprecated and will be removed from pandas in a future version. Use pandas.concat instead.\n",
      "  self.df = self.df.append(row, ignore_index=True)\n",
      "[Succeeded / Failed / Skipped / Total] 1 / 7 / 1 / 9:   2%|▌                           | 9/500 [00:07<06:38,  1.23it/s]"
     ]
    },
    {
     "name": "stdout",
     "output_type": "stream",
     "text": [
      "--------------------------------------------- Result 9 ---------------------------------------------\n",
      "[[0 (100%)]] --> [[1 (99%)]]\n",
      "\n",
      "Allo! We have braved the [[buses]] and taken on the [[trains]] and triumphed. [[I]] [[mean]] we‘re in [[b]]‘[[ham]]. [[Have]] a [[jolly]] [[good]] [[rest]] of week\n",
      "\n",
      "Allo! We have braved the [[double-decker]] and taken on the [[geartrain]] and triumphed. [[1]] [[hateful]] we‘re in [[boron]]‘[[overplay]]. [[feature]] a [[josh]] [[expert]] [[ease]] of week\n",
      "\n",
      "\n"
     ]
    },
    {
     "name": "stderr",
     "output_type": "stream",
     "text": [
      "C:\\Users\\DELL\\anaconda3\\envs\\ta\\lib\\site-packages\\textattack\\loggers\\csv_logger.py:41: FutureWarning: The frame.append method is deprecated and will be removed from pandas in a future version. Use pandas.concat instead.\n",
      "  self.df = self.df.append(row, ignore_index=True)\n",
      "[Succeeded / Failed / Skipped / Total] 1 / 8 / 1 / 10:   2%|▌                         | 11/500 [00:08<06:14,  1.31it/s]C:\\Users\\DELL\\anaconda3\\envs\\ta\\lib\\site-packages\\textattack\\loggers\\csv_logger.py:41: FutureWarning: The frame.append method is deprecated and will be removed from pandas in a future version. Use pandas.concat instead.\n",
      "  self.df = self.df.append(row, ignore_index=True)\n",
      "[Succeeded / Failed / Skipped / Total] 1 / 9 / 1 / 11:   2%|▌                         | 11/500 [00:08<06:14,  1.30it/s]"
     ]
    },
    {
     "name": "stdout",
     "output_type": "stream",
     "text": [
      "--------------------------------------------- Result 10 ---------------------------------------------\n",
      "[[0 (100%)]] --> [[[FAILED]]]\n",
      "\n",
      "Yeah. I got a list with only u and Joanna if I'm feeling really anti social\n",
      "\n",
      "\n",
      "--------------------------------------------- Result 11 ---------------------------------------------\n",
      "[[0 (100%)]] --> [[[FAILED]]]\n",
      "\n",
      "Discussed with your mother ah?\n",
      "\n",
      "\n"
     ]
    },
    {
     "name": "stderr",
     "output_type": "stream",
     "text": [
      "C:\\Users\\DELL\\anaconda3\\envs\\ta\\lib\\site-packages\\textattack\\loggers\\csv_logger.py:41: FutureWarning: The frame.append method is deprecated and will be removed from pandas in a future version. Use pandas.concat instead.\n",
      "  self.df = self.df.append(row, ignore_index=True)\n",
      "[Succeeded / Failed / Skipped / Total] 1 / 10 / 1 / 12:   3%|▋                        | 13/500 [00:09<05:59,  1.36it/s]C:\\Users\\DELL\\anaconda3\\envs\\ta\\lib\\site-packages\\textattack\\loggers\\csv_logger.py:41: FutureWarning: The frame.append method is deprecated and will be removed from pandas in a future version. Use pandas.concat instead.\n",
      "  self.df = self.df.append(row, ignore_index=True)\n",
      "[Succeeded / Failed / Skipped / Total] 1 / 11 / 1 / 13:   3%|▋                        | 13/500 [00:09<05:59,  1.35it/s]"
     ]
    },
    {
     "name": "stdout",
     "output_type": "stream",
     "text": [
      "--------------------------------------------- Result 12 ---------------------------------------------\n",
      "[[1 (100%)]] --> [[[FAILED]]]\n",
      "\n",
      "URGENT! Your mobile No 07xxxxxxxxx won a £2,000 bonus caller prize on 02/06/03! this is the 2nd attempt to reach YOU! call 09066362231 ASAP! BOX97N7QP, 150PPM\n",
      "\n",
      "\n",
      "--------------------------------------------- Result 13 ---------------------------------------------\n",
      "[[0 (100%)]] --> [[[FAILED]]]\n",
      "\n",
      "Serious? What like proper tongued her\n",
      "\n",
      "\n"
     ]
    },
    {
     "name": "stderr",
     "output_type": "stream",
     "text": [
      "C:\\Users\\DELL\\anaconda3\\envs\\ta\\lib\\site-packages\\textattack\\loggers\\csv_logger.py:41: FutureWarning: The frame.append method is deprecated and will be removed from pandas in a future version. Use pandas.concat instead.\n",
      "  self.df = self.df.append(row, ignore_index=True)\n",
      "\r",
      "[Succeeded / Failed / Skipped / Total] 1 / 12 / 1 / 14:   3%|▋                        | 14/500 [00:11<06:41,  1.21it/s]"
     ]
    },
    {
     "name": "stdout",
     "output_type": "stream",
     "text": [
      "--------------------------------------------- Result 14 ---------------------------------------------\n",
      "[[0 (100%)]] --> [[[FAILED]]]\n",
      "\n",
      "Gal n boy walking in d park. gal-can i hold ur hand? boy-y? do u think i would run away? gal-no, jst wana c how it feels walking in heaven with an prince..GN:-)\n",
      "\n",
      "\n"
     ]
    },
    {
     "name": "stderr",
     "output_type": "stream",
     "text": [
      "[Succeeded / Failed / Skipped / Total] 1 / 12 / 1 / 14:   3%|▊                        | 15/500 [00:12<06:53,  1.17it/s]C:\\Users\\DELL\\anaconda3\\envs\\ta\\lib\\site-packages\\textattack\\loggers\\csv_logger.py:41: FutureWarning: The frame.append method is deprecated and will be removed from pandas in a future version. Use pandas.concat instead.\n",
      "  self.df = self.df.append(row, ignore_index=True)\n",
      "[Succeeded / Failed / Skipped / Total] 2 / 12 / 1 / 15:   3%|▊                        | 15/500 [00:12<06:54,  1.17it/s]"
     ]
    },
    {
     "name": "stdout",
     "output_type": "stream",
     "text": [
      "--------------------------------------------- Result 15 ---------------------------------------------\n",
      "[[0 (100%)]] --> [[1 (83%)]]\n",
      "\n",
      "[[HI]] HUN! IM [[NOT]] COMIN 2NITE-TELL EVERY1 IM [[SORRY]] 4 ME, [[HOPE]] U AVA GOODTIME!OLI [[RANG]] MELNITE IFINK IT [[MITE]] B [[SORTED]],[[BUT]] IL [[EXPLAIN]] EVERYTHIN ON MON.L8RS.[[x]]\n",
      "\n",
      "[[hello]] HUN! IM [[non]] COMIN 2NITE-TELL EVERY1 IM [[good-for-nothing]] 4 ME, [[promise]] U AVA GOODTIME!OLI [[phone]] MELNITE IFINK IT [[touch]] B [[screen]],[[simply]] IL [[excuse]] EVERYTHIN ON MON.L8RS.[[XTC]]\n",
      "\n",
      "\n"
     ]
    },
    {
     "name": "stderr",
     "output_type": "stream",
     "text": [
      "C:\\Users\\DELL\\anaconda3\\envs\\ta\\lib\\site-packages\\textattack\\loggers\\csv_logger.py:41: FutureWarning: The frame.append method is deprecated and will be removed from pandas in a future version. Use pandas.concat instead.\n",
      "  self.df = self.df.append(row, ignore_index=True)\n",
      "\r",
      "[Succeeded / Failed / Skipped / Total] 2 / 13 / 1 / 16:   3%|▊                        | 16/500 [00:13<06:57,  1.16it/s]"
     ]
    },
    {
     "name": "stdout",
     "output_type": "stream",
     "text": [
      "--------------------------------------------- Result 16 ---------------------------------------------\n",
      "[[0 (100%)]] --> [[[FAILED]]]\n",
      "\n",
      "Short But Cute : \" Be a good person , but dont try to prove\" ..... Gud mrng...\n",
      "\n",
      "\n"
     ]
    },
    {
     "name": "stderr",
     "output_type": "stream",
     "text": [
      "[Succeeded / Failed / Skipped / Total] 2 / 13 / 1 / 16:   3%|▊                        | 17/500 [00:15<07:30,  1.07it/s]C:\\Users\\DELL\\anaconda3\\envs\\ta\\lib\\site-packages\\textattack\\loggers\\csv_logger.py:41: FutureWarning: The frame.append method is deprecated and will be removed from pandas in a future version. Use pandas.concat instead.\n",
      "  self.df = self.df.append(row, ignore_index=True)\n",
      "[Succeeded / Failed / Skipped / Total] 2 / 14 / 1 / 17:   3%|▊                        | 17/500 [00:15<07:30,  1.07it/s]"
     ]
    },
    {
     "name": "stdout",
     "output_type": "stream",
     "text": [
      "--------------------------------------------- Result 17 ---------------------------------------------\n",
      "[[1 (100%)]] --> [[[FAILED]]]\n",
      "\n",
      "Well done ENGLAND! Get the official poly ringtone or colour flag on yer mobile! text TONE or FLAG to 84199 NOW! Opt-out txt ENG STOP. Box39822 W111WX £1.50\n",
      "\n",
      "\n"
     ]
    },
    {
     "name": "stderr",
     "output_type": "stream",
     "text": [
      "C:\\Users\\DELL\\anaconda3\\envs\\ta\\lib\\site-packages\\textattack\\loggers\\csv_logger.py:41: FutureWarning: The frame.append method is deprecated and will be removed from pandas in a future version. Use pandas.concat instead.\n",
      "  self.df = self.df.append(row, ignore_index=True)\n",
      "\r",
      "[Succeeded / Failed / Skipped / Total] 2 / 15 / 1 / 18:   4%|▉                        | 18/500 [00:16<07:12,  1.11it/s]"
     ]
    },
    {
     "name": "stdout",
     "output_type": "stream",
     "text": [
      "--------------------------------------------- Result 18 ---------------------------------------------\n",
      "[[0 (100%)]] --> [[[FAILED]]]\n",
      "\n",
      "Aight I'll grab something to eat too, text me when you're back at mu\n",
      "\n",
      "\n"
     ]
    },
    {
     "name": "stderr",
     "output_type": "stream",
     "text": [
      "[Succeeded / Failed / Skipped / Total] 2 / 15 / 1 / 18:   4%|▉                        | 19/500 [00:16<07:10,  1.12it/s]C:\\Users\\DELL\\anaconda3\\envs\\ta\\lib\\site-packages\\textattack\\loggers\\csv_logger.py:41: FutureWarning: The frame.append method is deprecated and will be removed from pandas in a future version. Use pandas.concat instead.\n",
      "  self.df = self.df.append(row, ignore_index=True)\n",
      "[Succeeded / Failed / Skipped / Total] 2 / 16 / 1 / 19:   4%|▉                        | 19/500 [00:17<07:10,  1.12it/s]"
     ]
    },
    {
     "name": "stdout",
     "output_type": "stream",
     "text": [
      "--------------------------------------------- Result 19 ---------------------------------------------\n",
      "[[0 (100%)]] --> [[[FAILED]]]\n",
      "\n",
      "K:)k..its good:)when are you going?\n",
      "\n",
      "\n"
     ]
    },
    {
     "name": "stderr",
     "output_type": "stream",
     "text": [
      "C:\\Users\\DELL\\anaconda3\\envs\\ta\\lib\\site-packages\\textattack\\loggers\\csv_logger.py:41: FutureWarning: The frame.append method is deprecated and will be removed from pandas in a future version. Use pandas.concat instead.\n",
      "  self.df = self.df.append(row, ignore_index=True)\n",
      "\r",
      "[Succeeded / Failed / Skipped / Total] 2 / 17 / 1 / 20:   4%|█                        | 20/500 [00:17<07:06,  1.13it/s]"
     ]
    },
    {
     "name": "stdout",
     "output_type": "stream",
     "text": [
      "--------------------------------------------- Result 20 ---------------------------------------------\n",
      "[[0 (100%)]] --> [[[FAILED]]]\n",
      "\n",
      "It took Mr owl 3 licks\n",
      "\n",
      "\n"
     ]
    },
    {
     "name": "stderr",
     "output_type": "stream",
     "text": [
      "[Succeeded / Failed / Skipped / Total] 2 / 17 / 1 / 20:   4%|█                        | 21/500 [00:18<06:52,  1.16it/s]C:\\Users\\DELL\\anaconda3\\envs\\ta\\lib\\site-packages\\textattack\\loggers\\csv_logger.py:41: FutureWarning: The frame.append method is deprecated and will be removed from pandas in a future version. Use pandas.concat instead.\n",
      "  self.df = self.df.append(row, ignore_index=True)\n",
      "[Succeeded / Failed / Skipped / Total] 2 / 18 / 1 / 21:   4%|█                        | 21/500 [00:18<06:53,  1.16it/s]"
     ]
    },
    {
     "name": "stdout",
     "output_type": "stream",
     "text": [
      "--------------------------------------------- Result 21 ---------------------------------------------\n",
      "[[0 (100%)]] --> [[[FAILED]]]\n",
      "\n",
      "A few people are at the game, I'm at the mall with iouri and kaila\n",
      "\n",
      "\n"
     ]
    },
    {
     "name": "stderr",
     "output_type": "stream",
     "text": [
      "C:\\Users\\DELL\\anaconda3\\envs\\ta\\lib\\site-packages\\textattack\\loggers\\csv_logger.py:41: FutureWarning: The frame.append method is deprecated and will be removed from pandas in a future version. Use pandas.concat instead.\n",
      "  self.df = self.df.append(row, ignore_index=True)\n",
      "\r",
      "[Succeeded / Failed / Skipped / Total] 2 / 19 / 1 / 22:   4%|█                        | 22/500 [00:19<06:56,  1.15it/s]"
     ]
    },
    {
     "name": "stdout",
     "output_type": "stream",
     "text": [
      "--------------------------------------------- Result 22 ---------------------------------------------\n",
      "[[0 (99%)]] --> [[[FAILED]]]\n",
      "\n",
      "Derp. Which is worse, a dude who always wants to party or a dude who files a complaint about the three drug abusers he lives with\n",
      "\n",
      "\n"
     ]
    },
    {
     "name": "stderr",
     "output_type": "stream",
     "text": [
      "[Succeeded / Failed / Skipped / Total] 2 / 19 / 1 / 22:   5%|█▏                       | 23/500 [00:19<06:54,  1.15it/s]C:\\Users\\DELL\\anaconda3\\envs\\ta\\lib\\site-packages\\textattack\\loggers\\csv_logger.py:41: FutureWarning: The frame.append method is deprecated and will be removed from pandas in a future version. Use pandas.concat instead.\n",
      "  self.df = self.df.append(row, ignore_index=True)\n",
      "[Succeeded / Failed / Skipped / Total] 3 / 19 / 1 / 23:   5%|█▏                       | 23/500 [00:19<06:54,  1.15it/s]"
     ]
    },
    {
     "name": "stdout",
     "output_type": "stream",
     "text": [
      "--------------------------------------------- Result 23 ---------------------------------------------\n",
      "[[0 (100%)]] --> [[1 (97%)]]\n",
      "\n",
      "[[I]] want kfc its Tuesday. [[Only]] [[buy]] 2 meals [[ONLY]] 2. No gravy. Only 2 Mark. 2!\n",
      "\n",
      "[[iodine]] want kfc its Tuesday. [[exclusively]] [[purchase]] 2 meals [[exclusively]] 2. No gravy. Only 2 Mark. 2!\n",
      "\n",
      "\n"
     ]
    },
    {
     "name": "stderr",
     "output_type": "stream",
     "text": [
      "C:\\Users\\DELL\\anaconda3\\envs\\ta\\lib\\site-packages\\textattack\\loggers\\csv_logger.py:41: FutureWarning: The frame.append method is deprecated and will be removed from pandas in a future version. Use pandas.concat instead.\n",
      "  self.df = self.df.append(row, ignore_index=True)\n",
      "\r",
      "[Succeeded / Failed / Skipped / Total] 3 / 20 / 1 / 24:   5%|█▏                       | 24/500 [00:20<06:41,  1.19it/s]"
     ]
    },
    {
     "name": "stdout",
     "output_type": "stream",
     "text": [
      "--------------------------------------------- Result 24 ---------------------------------------------\n",
      "[[0 (100%)]] --> [[[FAILED]]]\n",
      "\n",
      "I dont know oh. Hopefully this month.\n",
      "\n",
      "\n"
     ]
    },
    {
     "name": "stderr",
     "output_type": "stream",
     "text": [
      "[Succeeded / Failed / Skipped / Total] 3 / 20 / 1 / 24:   5%|█▎                       | 25/500 [00:20<06:31,  1.21it/s]C:\\Users\\DELL\\anaconda3\\envs\\ta\\lib\\site-packages\\textattack\\loggers\\csv_logger.py:41: FutureWarning: The frame.append method is deprecated and will be removed from pandas in a future version. Use pandas.concat instead.\n",
      "  self.df = self.df.append(row, ignore_index=True)\n",
      "[Succeeded / Failed / Skipped / Total] 3 / 21 / 1 / 25:   5%|█▎                       | 25/500 [00:20<06:32,  1.21it/s]"
     ]
    },
    {
     "name": "stdout",
     "output_type": "stream",
     "text": [
      "--------------------------------------------- Result 25 ---------------------------------------------\n",
      "[[0 (100%)]] --> [[[FAILED]]]\n",
      "\n",
      "Received, understood n acted upon!\n",
      "\n",
      "\n"
     ]
    },
    {
     "name": "stderr",
     "output_type": "stream",
     "text": [
      "C:\\Users\\DELL\\anaconda3\\envs\\ta\\lib\\site-packages\\textattack\\loggers\\csv_logger.py:41: FutureWarning: The frame.append method is deprecated and will be removed from pandas in a future version. Use pandas.concat instead.\n",
      "  self.df = self.df.append(row, ignore_index=True)\n",
      "\r",
      "[Succeeded / Failed / Skipped / Total] 3 / 22 / 1 / 26:   5%|█▎                       | 26/500 [00:20<06:20,  1.24it/s]"
     ]
    },
    {
     "name": "stdout",
     "output_type": "stream",
     "text": [
      "--------------------------------------------- Result 26 ---------------------------------------------\n",
      "[[0 (100%)]] --> [[[FAILED]]]\n",
      "\n",
      "Lol boo I was hoping for a laugh\n",
      "\n",
      "\n"
     ]
    },
    {
     "name": "stderr",
     "output_type": "stream",
     "text": [
      "[Succeeded / Failed / Skipped / Total] 3 / 22 / 1 / 26:   5%|█▎                       | 27/500 [00:21<06:14,  1.26it/s]C:\\Users\\DELL\\anaconda3\\envs\\ta\\lib\\site-packages\\textattack\\loggers\\csv_logger.py:41: FutureWarning: The frame.append method is deprecated and will be removed from pandas in a future version. Use pandas.concat instead.\n",
      "  self.df = self.df.append(row, ignore_index=True)\n",
      "[Succeeded / Failed / Skipped / Total] 3 / 23 / 1 / 27:   5%|█▎                       | 27/500 [00:21<06:14,  1.26it/s]"
     ]
    },
    {
     "name": "stdout",
     "output_type": "stream",
     "text": [
      "--------------------------------------------- Result 27 ---------------------------------------------\n",
      "[[0 (100%)]] --> [[[FAILED]]]\n",
      "\n",
      "I am not sure about night menu. . . I know only about noon menu\n",
      "\n",
      "\n"
     ]
    },
    {
     "name": "stderr",
     "output_type": "stream",
     "text": [
      "C:\\Users\\DELL\\anaconda3\\envs\\ta\\lib\\site-packages\\textattack\\loggers\\csv_logger.py:41: FutureWarning: The frame.append method is deprecated and will be removed from pandas in a future version. Use pandas.concat instead.\n",
      "  self.df = self.df.append(row, ignore_index=True)\n",
      "\r",
      "[Succeeded / Failed / Skipped / Total] 3 / 24 / 1 / 28:   6%|█▍                       | 28/500 [00:22<06:16,  1.25it/s]"
     ]
    },
    {
     "name": "stdout",
     "output_type": "stream",
     "text": [
      "--------------------------------------------- Result 28 ---------------------------------------------\n",
      "[[1 (100%)]] --> [[[FAILED]]]\n",
      "\n",
      "Please call our customer service representative on FREEPHONE 0808 145 4742 between 9am-11pm as you have WON a guaranteed £1000 cash or £5000 prize!\n",
      "\n",
      "\n"
     ]
    },
    {
     "name": "stderr",
     "output_type": "stream",
     "text": [
      "[Succeeded / Failed / Skipped / Total] 3 / 24 / 1 / 28:   6%|█▍                       | 29/500 [00:22<06:12,  1.27it/s]C:\\Users\\DELL\\anaconda3\\envs\\ta\\lib\\site-packages\\textattack\\loggers\\csv_logger.py:41: FutureWarning: The frame.append method is deprecated and will be removed from pandas in a future version. Use pandas.concat instead.\n",
      "  self.df = self.df.append(row, ignore_index=True)\n",
      "[Succeeded / Failed / Skipped / Total] 3 / 25 / 1 / 29:   6%|█▍                       | 29/500 [00:22<06:12,  1.27it/s]"
     ]
    },
    {
     "name": "stdout",
     "output_type": "stream",
     "text": [
      "--------------------------------------------- Result 29 ---------------------------------------------\n",
      "[[0 (100%)]] --> [[[FAILED]]]\n",
      "\n",
      "Not yet had..ya sapna aunty manege y'day hogidhe..chinnu full weak and swalpa black agidhane..\n",
      "\n",
      "\n"
     ]
    },
    {
     "name": "stderr",
     "output_type": "stream",
     "text": [
      "C:\\Users\\DELL\\anaconda3\\envs\\ta\\lib\\site-packages\\textattack\\loggers\\csv_logger.py:41: FutureWarning: The frame.append method is deprecated and will be removed from pandas in a future version. Use pandas.concat instead.\n",
      "  self.df = self.df.append(row, ignore_index=True)\n",
      "\r",
      "[Succeeded / Failed / Skipped / Total] 3 / 26 / 1 / 30:   6%|█▌                       | 30/500 [00:24<06:22,  1.23it/s]"
     ]
    },
    {
     "name": "stdout",
     "output_type": "stream",
     "text": [
      "--------------------------------------------- Result 30 ---------------------------------------------\n",
      "[[0 (100%)]] --> [[[FAILED]]]\n",
      "\n",
      "Glad it went well :) come over at 11 then we'll have plenty of time before claire goes to work.\n",
      "\n",
      "\n"
     ]
    },
    {
     "name": "stderr",
     "output_type": "stream",
     "text": [
      "[Succeeded / Failed / Skipped / Total] 3 / 26 / 1 / 30:   6%|█▌                       | 31/500 [00:24<06:17,  1.24it/s]C:\\Users\\DELL\\anaconda3\\envs\\ta\\lib\\site-packages\\textattack\\loggers\\csv_logger.py:41: FutureWarning: The frame.append method is deprecated and will be removed from pandas in a future version. Use pandas.concat instead.\n",
      "  self.df = self.df.append(row, ignore_index=True)\n",
      "[Succeeded / Failed / Skipped / Total] 3 / 27 / 1 / 31:   6%|█▌                       | 31/500 [00:24<06:17,  1.24it/s]"
     ]
    },
    {
     "name": "stdout",
     "output_type": "stream",
     "text": [
      "--------------------------------------------- Result 31 ---------------------------------------------\n",
      "[[0 (100%)]] --> [[[FAILED]]]\n",
      "\n",
      "Your bill at 3 is £33.65 so thats not bad!\n",
      "\n",
      "\n"
     ]
    },
    {
     "name": "stderr",
     "output_type": "stream",
     "text": [
      "C:\\Users\\DELL\\anaconda3\\envs\\ta\\lib\\site-packages\\textattack\\loggers\\csv_logger.py:41: FutureWarning: The frame.append method is deprecated and will be removed from pandas in a future version. Use pandas.concat instead.\n",
      "  self.df = self.df.append(row, ignore_index=True)\n",
      "\r",
      "[Succeeded / Failed / Skipped / Total] 3 / 28 / 1 / 32:   6%|█▌                       | 32/500 [00:25<06:12,  1.26it/s]"
     ]
    },
    {
     "name": "stdout",
     "output_type": "stream",
     "text": [
      "--------------------------------------------- Result 32 ---------------------------------------------\n",
      "[[0 (100%)]] --> [[[FAILED]]]\n",
      "\n",
      "Re your call; You didn't see my facebook huh?\n",
      "\n",
      "\n"
     ]
    },
    {
     "name": "stderr",
     "output_type": "stream",
     "text": [
      "[Succeeded / Failed / Skipped / Total] 3 / 28 / 1 / 32:   7%|█▋                       | 33/500 [00:26<06:08,  1.27it/s]C:\\Users\\DELL\\anaconda3\\envs\\ta\\lib\\site-packages\\textattack\\loggers\\csv_logger.py:41: FutureWarning: The frame.append method is deprecated and will be removed from pandas in a future version. Use pandas.concat instead.\n",
      "  self.df = self.df.append(row, ignore_index=True)\n",
      "[Succeeded / Failed / Skipped / Total] 3 / 29 / 1 / 33:   7%|█▋                       | 33/500 [00:26<06:08,  1.27it/s]"
     ]
    },
    {
     "name": "stdout",
     "output_type": "stream",
     "text": [
      "--------------------------------------------- Result 33 ---------------------------------------------\n",
      "[[0 (100%)]] --> [[[FAILED]]]\n",
      "\n",
      "Give one miss from that number please\n",
      "\n",
      "\n"
     ]
    },
    {
     "name": "stderr",
     "output_type": "stream",
     "text": [
      "C:\\Users\\DELL\\anaconda3\\envs\\ta\\lib\\site-packages\\textattack\\loggers\\csv_logger.py:41: FutureWarning: The frame.append method is deprecated and will be removed from pandas in a future version. Use pandas.concat instead.\n",
      "  self.df = self.df.append(row, ignore_index=True)\n",
      "\r",
      "[Succeeded / Failed / Skipped / Total] 3 / 30 / 1 / 34:   7%|█▋                       | 34/500 [00:26<06:04,  1.28it/s]"
     ]
    },
    {
     "name": "stdout",
     "output_type": "stream",
     "text": [
      "--------------------------------------------- Result 34 ---------------------------------------------\n",
      "[[0 (100%)]] --> [[[FAILED]]]\n",
      "\n",
      "It's cool, let me know before it kicks off around  &lt;#&gt; , I'll be out and about all day\n",
      "\n",
      "\n"
     ]
    },
    {
     "name": "stderr",
     "output_type": "stream",
     "text": [
      "[Succeeded / Failed / Skipped / Total] 3 / 30 / 1 / 34:   7%|█▊                       | 35/500 [00:26<05:57,  1.30it/s]C:\\Users\\DELL\\anaconda3\\envs\\ta\\lib\\site-packages\\textattack\\loggers\\csv_logger.py:41: FutureWarning: The frame.append method is deprecated and will be removed from pandas in a future version. Use pandas.concat instead.\n",
      "  self.df = self.df.append(row, ignore_index=True)\n",
      "[Succeeded / Failed / Skipped / Total] 3 / 31 / 1 / 35:   7%|█▊                       | 35/500 [00:26<05:58,  1.30it/s]"
     ]
    },
    {
     "name": "stdout",
     "output_type": "stream",
     "text": [
      "--------------------------------------------- Result 35 ---------------------------------------------\n",
      "[[0 (100%)]] --> [[[FAILED]]]\n",
      "\n",
      "Or I guess  &lt;#&gt;  min\n",
      "\n",
      "\n"
     ]
    },
    {
     "name": "stderr",
     "output_type": "stream",
     "text": [
      "C:\\Users\\DELL\\anaconda3\\envs\\ta\\lib\\site-packages\\textattack\\loggers\\csv_logger.py:41: FutureWarning: The frame.append method is deprecated and will be removed from pandas in a future version. Use pandas.concat instead.\n",
      "  self.df = self.df.append(row, ignore_index=True)\n",
      "\r",
      "[Succeeded / Failed / Skipped / Total] 3 / 32 / 1 / 36:   7%|█▊                       | 36/500 [00:27<05:53,  1.31it/s]"
     ]
    },
    {
     "name": "stdout",
     "output_type": "stream",
     "text": [
      "--------------------------------------------- Result 36 ---------------------------------------------\n",
      "[[0 (100%)]] --> [[[FAILED]]]\n",
      "\n",
      "This pen thing is beyond a joke. Wont a Biro do? Don't do a masters as can't do this ever again! \n",
      "\n",
      "\n"
     ]
    },
    {
     "name": "stderr",
     "output_type": "stream",
     "text": [
      "[Succeeded / Failed / Skipped / Total] 3 / 32 / 1 / 36:   7%|█▊                       | 37/500 [00:28<05:51,  1.32it/s]C:\\Users\\DELL\\anaconda3\\envs\\ta\\lib\\site-packages\\textattack\\loggers\\csv_logger.py:41: FutureWarning: The frame.append method is deprecated and will be removed from pandas in a future version. Use pandas.concat instead.\n",
      "  self.df = self.df.append(row, ignore_index=True)\n",
      "[Succeeded / Failed / Skipped / Total] 3 / 33 / 1 / 37:   7%|█▊                       | 37/500 [00:28<05:51,  1.32it/s]C:\\Users\\DELL\\anaconda3\\envs\\ta\\lib\\site-packages\\textattack\\loggers\\csv_logger.py:41: FutureWarning: The frame.append method is deprecated and will be removed from pandas in a future version. Use pandas.concat instead.\n",
      "  self.df = self.df.append(row, ignore_index=True)\n"
     ]
    },
    {
     "name": "stdout",
     "output_type": "stream",
     "text": [
      "--------------------------------------------- Result 37 ---------------------------------------------\n",
      "[[0 (100%)]] --> [[[FAILED]]]\n",
      "\n",
      "NEFT Transaction with reference number  &lt;#&gt;  for Rs. &lt;DECIMAL&gt;  has been credited to the beneficiary account on  &lt;#&gt;  at  &lt;TIME&gt; : &lt;#&gt;\n",
      "\n",
      "\n",
      "--------------------------------------------- Result 38 ---------------------------------------------\n"
     ]
    },
    {
     "name": "stderr",
     "output_type": "stream",
     "text": [
      "[Succeeded / Failed / Skipped / Total] 4 / 33 / 1 / 38:   8%|█▉                       | 39/500 [00:28<05:35,  1.38it/s]C:\\Users\\DELL\\anaconda3\\envs\\ta\\lib\\site-packages\\textattack\\loggers\\csv_logger.py:41: FutureWarning: The frame.append method is deprecated and will be removed from pandas in a future version. Use pandas.concat instead.\n",
      "  self.df = self.df.append(row, ignore_index=True)\n",
      "[Succeeded / Failed / Skipped / Total] 4 / 34 / 1 / 39:   8%|█▉                       | 39/500 [00:28<05:35,  1.37it/s]"
     ]
    },
    {
     "name": "stdout",
     "output_type": "stream",
     "text": [
      "[[1 (99%)]] --> [[0 (99%)]]\n",
      "\n",
      "[[Adult]] 18 Content Your video will be with you shortly\n",
      "\n",
      "[[grown]] 18 Content Your video will be with you shortly\n",
      "\n",
      "\n",
      "--------------------------------------------- Result 39 ---------------------------------------------\n",
      "[[0 (100%)]] --> [[[FAILED]]]\n",
      "\n",
      "Ya tel, wats ur problem..\n",
      "\n",
      "\n"
     ]
    },
    {
     "name": "stderr",
     "output_type": "stream",
     "text": [
      "C:\\Users\\DELL\\anaconda3\\envs\\ta\\lib\\site-packages\\textattack\\loggers\\csv_logger.py:41: FutureWarning: The frame.append method is deprecated and will be removed from pandas in a future version. Use pandas.concat instead.\n",
      "  self.df = self.df.append(row, ignore_index=True)\n",
      "\r",
      "[Succeeded / Failed / Skipped / Total] 4 / 35 / 1 / 40:   8%|██                       | 40/500 [00:29<05:35,  1.37it/s]"
     ]
    },
    {
     "name": "stdout",
     "output_type": "stream",
     "text": [
      "--------------------------------------------- Result 40 ---------------------------------------------\n",
      "[[0 (100%)]] --> [[[FAILED]]]\n",
      "\n",
      "We are hoping to get away by 7, from Langport. You still up for town tonight?\n",
      "\n",
      "\n"
     ]
    },
    {
     "name": "stderr",
     "output_type": "stream",
     "text": [
      "[Succeeded / Failed / Skipped / Total] 4 / 35 / 1 / 40:   8%|██                       | 41/500 [00:29<05:32,  1.38it/s]C:\\Users\\DELL\\anaconda3\\envs\\ta\\lib\\site-packages\\textattack\\loggers\\csv_logger.py:41: FutureWarning: The frame.append method is deprecated and will be removed from pandas in a future version. Use pandas.concat instead.\n",
      "  self.df = self.df.append(row, ignore_index=True)\n",
      "[Succeeded / Failed / Skipped / Total] 4 / 36 / 1 / 41:   8%|██                       | 41/500 [00:29<05:32,  1.38it/s]"
     ]
    },
    {
     "name": "stdout",
     "output_type": "stream",
     "text": [
      "--------------------------------------------- Result 41 ---------------------------------------------\n",
      "[[0 (100%)]] --> [[[FAILED]]]\n",
      "\n",
      "I call you later, don't have network. If urgnt, sms me.\n",
      "\n",
      "\n"
     ]
    },
    {
     "name": "stderr",
     "output_type": "stream",
     "text": [
      "C:\\Users\\DELL\\anaconda3\\envs\\ta\\lib\\site-packages\\textattack\\loggers\\csv_logger.py:41: FutureWarning: The frame.append method is deprecated and will be removed from pandas in a future version. Use pandas.concat instead.\n",
      "  self.df = self.df.append(row, ignore_index=True)\n",
      "\r",
      "[Succeeded / Failed / Skipped / Total] 4 / 37 / 1 / 42:   8%|██                       | 42/500 [00:30<05:32,  1.38it/s]"
     ]
    },
    {
     "name": "stdout",
     "output_type": "stream",
     "text": [
      "--------------------------------------------- Result 42 ---------------------------------------------\n",
      "[[1 (100%)]] --> [[[FAILED]]]\n",
      "\n",
      "Customer service annoncement. You have a New Years delivery waiting for you. Please call 07046744435 now to arrange delivery\n",
      "\n",
      "\n"
     ]
    },
    {
     "name": "stderr",
     "output_type": "stream",
     "text": [
      "[Succeeded / Failed / Skipped / Total] 4 / 37 / 1 / 42:   9%|██▏                      | 43/500 [00:31<05:33,  1.37it/s]C:\\Users\\DELL\\anaconda3\\envs\\ta\\lib\\site-packages\\textattack\\loggers\\csv_logger.py:41: FutureWarning: The frame.append method is deprecated and will be removed from pandas in a future version. Use pandas.concat instead.\n",
      "  self.df = self.df.append(row, ignore_index=True)\n",
      "[Succeeded / Failed / Skipped / Total] 4 / 38 / 1 / 43:   9%|██▏                      | 43/500 [00:31<05:33,  1.37it/s]"
     ]
    },
    {
     "name": "stdout",
     "output_type": "stream",
     "text": [
      "--------------------------------------------- Result 43 ---------------------------------------------\n",
      "[[0 (100%)]] --> [[[FAILED]]]\n",
      "\n",
      "Y dun cut too short leh. U dun like ah? She failed. She's quite sad.\n",
      "\n",
      "\n"
     ]
    },
    {
     "name": "stderr",
     "output_type": "stream",
     "text": [
      "C:\\Users\\DELL\\anaconda3\\envs\\ta\\lib\\site-packages\\textattack\\loggers\\csv_logger.py:41: FutureWarning: The frame.append method is deprecated and will be removed from pandas in a future version. Use pandas.concat instead.\n",
      "  self.df = self.df.append(row, ignore_index=True)\n",
      "\r",
      "[Succeeded / Failed / Skipped / Total] 4 / 39 / 1 / 44:   9%|██▏                      | 44/500 [00:31<05:28,  1.39it/s]"
     ]
    },
    {
     "name": "stdout",
     "output_type": "stream",
     "text": [
      "--------------------------------------------- Result 44 ---------------------------------------------\n",
      "[[0 (100%)]] --> [[[FAILED]]]\n",
      "\n",
      "Small problem in auction:)punj now asking tiwary\n",
      "\n",
      "\n"
     ]
    },
    {
     "name": "stderr",
     "output_type": "stream",
     "text": [
      "[Succeeded / Failed / Skipped / Total] 4 / 39 / 1 / 44:   9%|██▎                      | 45/500 [00:32<05:29,  1.38it/s]C:\\Users\\DELL\\anaconda3\\envs\\ta\\lib\\site-packages\\textattack\\loggers\\csv_logger.py:41: FutureWarning: The frame.append method is deprecated and will be removed from pandas in a future version. Use pandas.concat instead.\n",
      "  self.df = self.df.append(row, ignore_index=True)\n",
      "[Succeeded / Failed / Skipped / Total] 4 / 40 / 1 / 45:   9%|██▎                      | 45/500 [00:32<05:29,  1.38it/s]"
     ]
    },
    {
     "name": "stdout",
     "output_type": "stream",
     "text": [
      "--------------------------------------------- Result 45 ---------------------------------------------\n",
      "[[0 (100%)]] --> [[[FAILED]]]\n",
      "\n",
      "Oic... Then better quickly go bathe n settle down...\n",
      "\n",
      "\n"
     ]
    },
    {
     "name": "stderr",
     "output_type": "stream",
     "text": [
      "C:\\Users\\DELL\\anaconda3\\envs\\ta\\lib\\site-packages\\textattack\\loggers\\csv_logger.py:41: FutureWarning: The frame.append method is deprecated and will be removed from pandas in a future version. Use pandas.concat instead.\n",
      "  self.df = self.df.append(row, ignore_index=True)\n",
      "\r",
      "[Succeeded / Failed / Skipped / Total] 4 / 41 / 1 / 46:   9%|██▎                      | 46/500 [00:33<05:26,  1.39it/s]"
     ]
    },
    {
     "name": "stdout",
     "output_type": "stream",
     "text": [
      "--------------------------------------------- Result 46 ---------------------------------------------\n",
      "[[0 (100%)]] --> [[[FAILED]]]\n",
      "\n",
      "Okay. I've seen it. So i should pick it on friday?\n",
      "\n",
      "\n"
     ]
    },
    {
     "name": "stderr",
     "output_type": "stream",
     "text": [
      "[Succeeded / Failed / Skipped / Total] 4 / 41 / 1 / 46:   9%|██▎                      | 47/500 [00:34<05:30,  1.37it/s]C:\\Users\\DELL\\anaconda3\\envs\\ta\\lib\\site-packages\\textattack\\loggers\\csv_logger.py:41: FutureWarning: The frame.append method is deprecated and will be removed from pandas in a future version. Use pandas.concat instead.\n",
      "  self.df = self.df.append(row, ignore_index=True)\n",
      "[Succeeded / Failed / Skipped / Total] 5 / 41 / 1 / 47:   9%|██▎                      | 47/500 [00:34<05:31,  1.37it/s]"
     ]
    },
    {
     "name": "stdout",
     "output_type": "stream",
     "text": [
      "--------------------------------------------- Result 47 ---------------------------------------------\n",
      "[[0 (100%)]] --> [[1 (95%)]]\n",
      "\n",
      "Yun ah.the ubi [[one]] [[say]] if ü wan call by tomorrow.call 67441233 look for irene.ere only [[got]] bus8,22,65,61,66,382. Ubi cres,ubi tech park.6ph for 1st 5wkg days.èn\n",
      "\n",
      "Yun ah.the ubi [[matchless]] [[order]] if ü wan call by tomorrow.call 67441233 look for irene.ere only [[receive]] bus8,22,65,61,66,382. Ubi cres,ubi tech park.6ph for 1st 5wkg days.èn\n",
      "\n",
      "\n"
     ]
    },
    {
     "name": "stderr",
     "output_type": "stream",
     "text": [
      "C:\\Users\\DELL\\anaconda3\\envs\\ta\\lib\\site-packages\\textattack\\loggers\\csv_logger.py:41: FutureWarning: The frame.append method is deprecated and will be removed from pandas in a future version. Use pandas.concat instead.\n",
      "  self.df = self.df.append(row, ignore_index=True)\n",
      "\r",
      "[Succeeded / Failed / Skipped / Total] 6 / 41 / 1 / 48:  10%|██▍                      | 48/500 [00:35<05:36,  1.34it/s]"
     ]
    },
    {
     "name": "stdout",
     "output_type": "stream",
     "text": [
      "--------------------------------------------- Result 48 ---------------------------------------------\n",
      "[[1 (100%)]] --> [[0 (77%)]]\n",
      "\n",
      "[[Hi]], this is Mandy Sullivan calling from HOTMIX [[FM]]...you are chosen to [[receive]] £5000.00 in our Easter [[Prize]] [[draw]].....Please [[telephone]] 09041940223 to claim before 29/03/05 or your [[prize]] will be transferred to someone else....\n",
      "\n",
      "[[hullo]], this is Mandy Sullivan calling from HOTMIX [[fermium]]...you are chosen to [[incur]] £5000.00 in our Easter [[plunder]] [[disembowel]].....Please [[ring]] 09041940223 to claim before 29/03/05 or your [[plunder]] will be transferred to someone else....\n",
      "\n",
      "\n"
     ]
    },
    {
     "name": "stderr",
     "output_type": "stream",
     "text": [
      "[Succeeded / Failed / Skipped / Total] 6 / 41 / 1 / 48:  10%|██▍                      | 49/500 [00:37<05:43,  1.31it/s]C:\\Users\\DELL\\anaconda3\\envs\\ta\\lib\\site-packages\\textattack\\loggers\\csv_logger.py:41: FutureWarning: The frame.append method is deprecated and will be removed from pandas in a future version. Use pandas.concat instead.\n",
      "  self.df = self.df.append(row, ignore_index=True)\n",
      "[Succeeded / Failed / Skipped / Total] 6 / 42 / 1 / 49:  10%|██▍                      | 49/500 [00:37<05:44,  1.31it/s]"
     ]
    },
    {
     "name": "stdout",
     "output_type": "stream",
     "text": [
      "--------------------------------------------- Result 49 ---------------------------------------------\n",
      "[[0 (100%)]] --> [[[FAILED]]]\n",
      "\n",
      "I tot u outside cos darren say u come shopping. Of course we nice wat. We jus went sim lim look at mp3 player.\n",
      "\n",
      "\n"
     ]
    },
    {
     "name": "stderr",
     "output_type": "stream",
     "text": [
      "C:\\Users\\DELL\\anaconda3\\envs\\ta\\lib\\site-packages\\textattack\\loggers\\csv_logger.py:41: FutureWarning: The frame.append method is deprecated and will be removed from pandas in a future version. Use pandas.concat instead.\n",
      "  self.df = self.df.append(row, ignore_index=True)\n",
      "\r",
      "[Succeeded / Failed / Skipped / Total] 6 / 43 / 1 / 50:  10%|██▌                      | 50/500 [00:38<05:49,  1.29it/s]"
     ]
    },
    {
     "name": "stdout",
     "output_type": "stream",
     "text": [
      "--------------------------------------------- Result 50 ---------------------------------------------\n",
      "[[1 (100%)]] --> [[[FAILED]]]\n",
      "\n",
      "Last Chance! Claim ur £150 worth of discount vouchers today! Text SHOP to 85023 now! SavaMob, offers mobile! T Cs SavaMob POBOX84, M263UZ. £3.00 Sub. 16\n",
      "\n",
      "\n"
     ]
    },
    {
     "name": "stderr",
     "output_type": "stream",
     "text": [
      "[Succeeded / Failed / Skipped / Total] 6 / 43 / 1 / 50:  10%|██▌                      | 51/500 [00:39<05:48,  1.29it/s]C:\\Users\\DELL\\anaconda3\\envs\\ta\\lib\\site-packages\\textattack\\loggers\\csv_logger.py:41: FutureWarning: The frame.append method is deprecated and will be removed from pandas in a future version. Use pandas.concat instead.\n",
      "  self.df = self.df.append(row, ignore_index=True)\n",
      "[Succeeded / Failed / Skipped / Total] 6 / 44 / 1 / 51:  10%|██▌                      | 51/500 [00:39<05:49,  1.29it/s]"
     ]
    },
    {
     "name": "stdout",
     "output_type": "stream",
     "text": [
      "--------------------------------------------- Result 51 ---------------------------------------------\n",
      "[[0 (100%)]] --> [[[FAILED]]]\n",
      "\n",
      "Let there be snow. Let there be snow. This kind of weather brings ppl together so friendships can grow.\n",
      "\n",
      "\n"
     ]
    },
    {
     "name": "stderr",
     "output_type": "stream",
     "text": [
      "C:\\Users\\DELL\\anaconda3\\envs\\ta\\lib\\site-packages\\textattack\\loggers\\csv_logger.py:41: FutureWarning: The frame.append method is deprecated and will be removed from pandas in a future version. Use pandas.concat instead.\n",
      "  self.df = self.df.append(row, ignore_index=True)\n",
      "\r",
      "[Succeeded / Failed / Skipped / Total] 6 / 45 / 1 / 52:  10%|██▌                      | 52/500 [00:40<05:50,  1.28it/s]"
     ]
    },
    {
     "name": "stdout",
     "output_type": "stream",
     "text": [
      "--------------------------------------------- Result 52 ---------------------------------------------\n",
      "[[0 (100%)]] --> [[[FAILED]]]\n",
      "\n",
      "Probably money worries. Things are coming due and i have several outstanding invoices for work i did two and three months ago.\n",
      "\n",
      "\n"
     ]
    },
    {
     "name": "stderr",
     "output_type": "stream",
     "text": [
      "[Succeeded / Failed / Skipped / Total] 6 / 45 / 1 / 52:  11%|██▋                      | 53/500 [00:40<05:45,  1.29it/s]C:\\Users\\DELL\\anaconda3\\envs\\ta\\lib\\site-packages\\textattack\\loggers\\csv_logger.py:41: FutureWarning: The frame.append method is deprecated and will be removed from pandas in a future version. Use pandas.concat instead.\n",
      "  self.df = self.df.append(row, ignore_index=True)\n",
      "[Succeeded / Failed / Skipped / Total] 6 / 46 / 1 / 53:  11%|██▋                      | 53/500 [00:40<05:45,  1.29it/s]"
     ]
    },
    {
     "name": "stdout",
     "output_type": "stream",
     "text": [
      "--------------------------------------------- Result 53 ---------------------------------------------\n",
      "[[0 (100%)]] --> [[[FAILED]]]\n",
      "\n",
      "Well done and ! luv ya all \n",
      "\n",
      "\n"
     ]
    },
    {
     "name": "stderr",
     "output_type": "stream",
     "text": [
      "C:\\Users\\DELL\\anaconda3\\envs\\ta\\lib\\site-packages\\textattack\\loggers\\csv_logger.py:41: FutureWarning: The frame.append method is deprecated and will be removed from pandas in a future version. Use pandas.concat instead.\n",
      "  self.df = self.df.append(row, ignore_index=True)\n",
      "[Succeeded / Failed / Skipped / Total] 6 / 47 / 1 / 54:  11%|██▊                      | 55/500 [00:41<05:38,  1.32it/s]C:\\Users\\DELL\\anaconda3\\envs\\ta\\lib\\site-packages\\textattack\\loggers\\csv_logger.py:41: FutureWarning: The frame.append method is deprecated and will be removed from pandas in a future version. Use pandas.concat instead.\n",
      "  self.df = self.df.append(row, ignore_index=True)\n",
      "[Succeeded / Failed / Skipped / Total] 6 / 48 / 1 / 55:  11%|██▊                      | 55/500 [00:41<05:38,  1.32it/s]"
     ]
    },
    {
     "name": "stdout",
     "output_type": "stream",
     "text": [
      "--------------------------------------------- Result 54 ---------------------------------------------\n",
      "[[0 (100%)]] --> [[[FAILED]]]\n",
      "\n",
      "Omg I want to scream. I weighed myself and I lost more weight! Woohoo!\n",
      "\n",
      "\n",
      "--------------------------------------------- Result 55 ---------------------------------------------\n",
      "[[0 (100%)]] --> [[[FAILED]]]\n",
      "\n",
      "Huh y lei...\n",
      "\n",
      "\n"
     ]
    },
    {
     "name": "stderr",
     "output_type": "stream",
     "text": [
      "C:\\Users\\DELL\\anaconda3\\envs\\ta\\lib\\site-packages\\textattack\\loggers\\csv_logger.py:41: FutureWarning: The frame.append method is deprecated and will be removed from pandas in a future version. Use pandas.concat instead.\n",
      "  self.df = self.df.append(row, ignore_index=True)\n",
      "\r",
      "[Succeeded / Failed / Skipped / Total] 6 / 49 / 1 / 56:  11%|██▊                      | 56/500 [00:42<05:36,  1.32it/s]"
     ]
    },
    {
     "name": "stdout",
     "output_type": "stream",
     "text": [
      "--------------------------------------------- Result 56 ---------------------------------------------\n",
      "[[0 (100%)]] --> [[[FAILED]]]\n",
      "\n",
      "Daddy, shu shu is looking 4 u... U wan me 2 tell him u're not in singapore or wat?\n",
      "\n",
      "\n"
     ]
    },
    {
     "name": "stderr",
     "output_type": "stream",
     "text": [
      "[Succeeded / Failed / Skipped / Total] 6 / 49 / 1 / 56:  11%|██▊                      | 57/500 [00:43<05:39,  1.31it/s]C:\\Users\\DELL\\anaconda3\\envs\\ta\\lib\\site-packages\\textattack\\loggers\\csv_logger.py:41: FutureWarning: The frame.append method is deprecated and will be removed from pandas in a future version. Use pandas.concat instead.\n",
      "  self.df = self.df.append(row, ignore_index=True)\n",
      "[Succeeded / Failed / Skipped / Total] 7 / 49 / 1 / 57:  11%|██▊                      | 57/500 [00:43<05:39,  1.31it/s]"
     ]
    },
    {
     "name": "stdout",
     "output_type": "stream",
     "text": [
      "--------------------------------------------- Result 57 ---------------------------------------------\n",
      "[[1 (100%)]] --> [[0 (59%)]]\n",
      "\n",
      "[[WIN]]: We have a [[winner]]! Mr. [[T]]. Foley won an iPod! More [[exciting]] [[prizes]] [[soon]], so [[keep]] an [[eye]] on ur [[mobile]] or [[visit]] www.win-82050.[[co]].[[uk]]\n",
      "\n",
      "[[succeed]]: We have a [[achiever]]! Mr.. [[triiodothyronine]]. Foley won an iPod! More [[energise]] [[plunder]] [[presently]], so [[donjon]] an [[middle]] on ur [[peregrine]] or [[gossip]] www.win-82050.[[Colorado]].[[Britain]]\n",
      "\n",
      "\n"
     ]
    },
    {
     "name": "stderr",
     "output_type": "stream",
     "text": [
      "C:\\Users\\DELL\\anaconda3\\envs\\ta\\lib\\site-packages\\textattack\\loggers\\csv_logger.py:41: FutureWarning: The frame.append method is deprecated and will be removed from pandas in a future version. Use pandas.concat instead.\n",
      "  self.df = self.df.append(row, ignore_index=True)\n",
      "\r",
      "[Succeeded / Failed / Skipped / Total] 7 / 50 / 1 / 58:  12%|██▉                      | 58/500 [00:44<05:38,  1.30it/s]"
     ]
    },
    {
     "name": "stdout",
     "output_type": "stream",
     "text": [
      "--------------------------------------------- Result 58 ---------------------------------------------\n",
      "[[1 (100%)]] --> [[[FAILED]]]\n",
      "\n",
      "URGENT!! Your 4* Costa Del Sol Holiday or £5000 await collection. Call 09050090044 Now toClaim. SAE, TC s, POBox334, Stockport, SK38xh, Cost£1.50/pm, Max10mins\n",
      "\n",
      "\n"
     ]
    },
    {
     "name": "stderr",
     "output_type": "stream",
     "text": [
      "[Succeeded / Failed / Skipped / Total] 7 / 50 / 1 / 58:  12%|██▉                      | 59/500 [00:45<05:38,  1.30it/s]C:\\Users\\DELL\\anaconda3\\envs\\ta\\lib\\site-packages\\textattack\\loggers\\csv_logger.py:41: FutureWarning: The frame.append method is deprecated and will be removed from pandas in a future version. Use pandas.concat instead.\n",
      "  self.df = self.df.append(row, ignore_index=True)\n",
      "[Succeeded / Failed / Skipped / Total] 7 / 51 / 1 / 59:  12%|██▉                      | 59/500 [00:45<05:38,  1.30it/s]C:\\Users\\DELL\\anaconda3\\envs\\ta\\lib\\site-packages\\textattack\\loggers\\csv_logger.py:41: FutureWarning: The frame.append method is deprecated and will be removed from pandas in a future version. Use pandas.concat instead.\n",
      "  self.df = self.df.append(row, ignore_index=True)\n",
      "[Succeeded / Failed / Skipped / Total] 7 / 52 / 1 / 60:  12%|███                      | 60/500 [00:45<05:33,  1.32it/s]"
     ]
    },
    {
     "name": "stdout",
     "output_type": "stream",
     "text": [
      "--------------------------------------------- Result 59 ---------------------------------------------\n",
      "[[0 (100%)]] --> [[[FAILED]]]\n",
      "\n",
      "Ok i found dis pierre cardin one which looks normal costs 20 its on sale.\n",
      "\n",
      "\n",
      "--------------------------------------------- Result 60 ---------------------------------------------\n",
      "[[0 (100%)]] --> [[[FAILED]]]\n",
      "\n",
      "How much for an eighth?\n",
      "\n",
      "\n"
     ]
    },
    {
     "name": "stderr",
     "output_type": "stream",
     "text": [
      "[Succeeded / Failed / Skipped / Total] 7 / 52 / 1 / 60:  12%|███                      | 61/500 [00:47<05:38,  1.30it/s]C:\\Users\\DELL\\anaconda3\\envs\\ta\\lib\\site-packages\\textattack\\loggers\\csv_logger.py:41: FutureWarning: The frame.append method is deprecated and will be removed from pandas in a future version. Use pandas.concat instead.\n",
      "  self.df = self.df.append(row, ignore_index=True)\n",
      "[Succeeded / Failed / Skipped / Total] 8 / 52 / 1 / 61:  12%|███                      | 61/500 [00:47<05:38,  1.30it/s]"
     ]
    },
    {
     "name": "stdout",
     "output_type": "stream",
     "text": [
      "--------------------------------------------- Result 61 ---------------------------------------------\n",
      "[[1 (100%)]] --> [[0 (61%)]]\n",
      "\n",
      "[[Loan]] for any [[purpose]] £[[500]] - £[[75]],000. [[Homeowners]] + Tenants welcome. [[Have]] you been [[previously]] refused? We can [[still]] [[help]]. [[Call]] [[Free]] 0800 1956669 or [[text]] [[back]] 'help'\n",
      "\n",
      "[[lend]] for any [[determination]] £[[D]] - £[[seventy-five]],000. [[householder]] + Tenants welcome. [[bear]] you been [[antecedently]] refused? We can [[distillery]] [[avail]]. [[squall]] [[disembarrass]] 0800 1956669 or [[schoolbook]] [[rachis]] 'help'\n",
      "\n",
      "\n"
     ]
    },
    {
     "name": "stderr",
     "output_type": "stream",
     "text": [
      "C:\\Users\\DELL\\anaconda3\\envs\\ta\\lib\\site-packages\\textattack\\loggers\\csv_logger.py:41: FutureWarning: The frame.append method is deprecated and will be removed from pandas in a future version. Use pandas.concat instead.\n",
      "  self.df = self.df.append(row, ignore_index=True)\n",
      "\r",
      "[Succeeded / Failed / Skipped / Total] 8 / 53 / 1 / 62:  12%|███                      | 62/500 [00:47<05:36,  1.30it/s]"
     ]
    },
    {
     "name": "stdout",
     "output_type": "stream",
     "text": [
      "--------------------------------------------- Result 62 ---------------------------------------------\n",
      "[[0 (100%)]] --> [[[FAILED]]]\n",
      "\n",
      "Mm yes dear look how i am hugging you both. :-P\n",
      "\n",
      "\n"
     ]
    },
    {
     "name": "stderr",
     "output_type": "stream",
     "text": [
      "[Succeeded / Failed / Skipped / Total] 8 / 53 / 1 / 62:  13%|███▏                     | 63/500 [00:47<05:32,  1.31it/s]C:\\Users\\DELL\\anaconda3\\envs\\ta\\lib\\site-packages\\textattack\\loggers\\csv_logger.py:41: FutureWarning: The frame.append method is deprecated and will be removed from pandas in a future version. Use pandas.concat instead.\n",
      "  self.df = self.df.append(row, ignore_index=True)\n",
      "[Succeeded / Failed / Skipped / Total] 9 / 53 / 1 / 63:  13%|███▏                     | 63/500 [00:47<05:32,  1.31it/s]"
     ]
    },
    {
     "name": "stdout",
     "output_type": "stream",
     "text": [
      "--------------------------------------------- Result 63 ---------------------------------------------\n",
      "[[0 (100%)]] --> [[1 (79%)]]\n",
      "\n",
      "[[I]] [[sent]] lanre fakeye's Eckankar [[details]] to the [[mail]] [[box]]\n",
      "\n",
      "[[single]] [[charge]] lanre fakeye's Eckankar [[item]] to the [[send]] [[package]]\n",
      "\n",
      "\n"
     ]
    },
    {
     "name": "stderr",
     "output_type": "stream",
     "text": [
      "C:\\Users\\DELL\\anaconda3\\envs\\ta\\lib\\site-packages\\textattack\\loggers\\csv_logger.py:41: FutureWarning: The frame.append method is deprecated and will be removed from pandas in a future version. Use pandas.concat instead.\n",
      "  self.df = self.df.append(row, ignore_index=True)\n",
      "[Succeeded / Failed / Skipped / Total] 9 / 54 / 1 / 64:  13%|███▎                     | 65/500 [00:48<05:26,  1.33it/s]C:\\Users\\DELL\\anaconda3\\envs\\ta\\lib\\site-packages\\textattack\\loggers\\csv_logger.py:41: FutureWarning: The frame.append method is deprecated and will be removed from pandas in a future version. Use pandas.concat instead.\n",
      "  self.df = self.df.append(row, ignore_index=True)\n",
      "[Succeeded / Failed / Skipped / Total] 9 / 55 / 1 / 65:  13%|███▎                     | 65/500 [00:48<05:26,  1.33it/s]"
     ]
    },
    {
     "name": "stdout",
     "output_type": "stream",
     "text": [
      "--------------------------------------------- Result 64 ---------------------------------------------\n",
      "[[0 (100%)]] --> [[[FAILED]]]\n",
      "\n",
      "I can take you at like noon\n",
      "\n",
      "\n",
      "--------------------------------------------- Result 65 ---------------------------------------------\n",
      "[[0 (100%)]] --> [[[FAILED]]]\n",
      "\n",
      "East coast\n",
      "\n",
      "\n"
     ]
    },
    {
     "name": "stderr",
     "output_type": "stream",
     "text": [
      "C:\\Users\\DELL\\anaconda3\\envs\\ta\\lib\\site-packages\\textattack\\loggers\\csv_logger.py:41: FutureWarning: The frame.append method is deprecated and will be removed from pandas in a future version. Use pandas.concat instead.\n",
      "  self.df = self.df.append(row, ignore_index=True)\n",
      "\r",
      "[Succeeded / Failed / Skipped / Total] 9 / 56 / 1 / 66:  13%|███▎                     | 66/500 [00:49<05:23,  1.34it/s]"
     ]
    },
    {
     "name": "stdout",
     "output_type": "stream",
     "text": [
      "--------------------------------------------- Result 66 ---------------------------------------------\n",
      "[[0 (100%)]] --> [[[FAILED]]]\n",
      "\n",
      "ok. I am a gentleman and will treat you with dignity and respect.\n",
      "\n",
      "\n"
     ]
    },
    {
     "name": "stderr",
     "output_type": "stream",
     "text": [
      "[Succeeded / Failed / Skipped / Total] 9 / 56 / 1 / 66:  13%|███▎                     | 67/500 [00:49<05:22,  1.34it/s]C:\\Users\\DELL\\anaconda3\\envs\\ta\\lib\\site-packages\\textattack\\loggers\\csv_logger.py:41: FutureWarning: The frame.append method is deprecated and will be removed from pandas in a future version. Use pandas.concat instead.\n",
      "  self.df = self.df.append(row, ignore_index=True)\n",
      "[Succeeded / Failed / Skipped / Total] 9 / 57 / 1 / 67:  13%|███▎                     | 67/500 [00:49<05:22,  1.34it/s]C:\\Users\\DELL\\anaconda3\\envs\\ta\\lib\\site-packages\\textattack\\loggers\\csv_logger.py:41: FutureWarning: The frame.append method is deprecated and will be removed from pandas in a future version. Use pandas.concat instead.\n",
      "  self.df = self.df.append(row, ignore_index=True)\n",
      "[Succeeded / Failed / Skipped / Total] 9 / 58 / 1 / 68:  14%|███▍                     | 68/500 [00:50<05:17,  1.36it/s]"
     ]
    },
    {
     "name": "stdout",
     "output_type": "stream",
     "text": [
      "--------------------------------------------- Result 67 ---------------------------------------------\n",
      "[[0 (100%)]] --> [[[FAILED]]]\n",
      "\n",
      "Oh baby of the house. How come you dont have any new pictures on facebook\n",
      "\n",
      "\n",
      "--------------------------------------------- Result 68 ---------------------------------------------\n",
      "[[0 (100%)]] --> [[[FAILED]]]\n",
      "\n",
      "Er yep sure. Props?\n",
      "\n",
      "\n"
     ]
    },
    {
     "name": "stderr",
     "output_type": "stream",
     "text": [
      "[Succeeded / Failed / Skipped / Total] 9 / 58 / 1 / 68:  14%|███▍                     | 69/500 [00:50<05:13,  1.38it/s]C:\\Users\\DELL\\anaconda3\\envs\\ta\\lib\\site-packages\\textattack\\loggers\\csv_logger.py:41: FutureWarning: The frame.append method is deprecated and will be removed from pandas in a future version. Use pandas.concat instead.\n",
      "  self.df = self.df.append(row, ignore_index=True)\n",
      "[Succeeded / Failed / Skipped / Total] 9 / 59 / 1 / 69:  14%|███▍                     | 69/500 [00:50<05:13,  1.38it/s]"
     ]
    },
    {
     "name": "stdout",
     "output_type": "stream",
     "text": [
      "--------------------------------------------- Result 69 ---------------------------------------------\n",
      "[[0 (100%)]] --> [[[FAILED]]]\n",
      "\n",
      "Tension ah?what machi?any problem?\n",
      "\n",
      "\n"
     ]
    },
    {
     "name": "stderr",
     "output_type": "stream",
     "text": [
      "C:\\Users\\DELL\\anaconda3\\envs\\ta\\lib\\site-packages\\textattack\\loggers\\csv_logger.py:41: FutureWarning: The frame.append method is deprecated and will be removed from pandas in a future version. Use pandas.concat instead.\n",
      "  self.df = self.df.append(row, ignore_index=True)\n",
      "[Succeeded / Failed / Skipped / Total] 9 / 60 / 1 / 70:  14%|███▌                     | 71/500 [00:51<05:09,  1.38it/s]C:\\Users\\DELL\\anaconda3\\envs\\ta\\lib\\site-packages\\textattack\\loggers\\csv_logger.py:41: FutureWarning: The frame.append method is deprecated and will be removed from pandas in a future version. Use pandas.concat instead.\n",
      "  self.df = self.df.append(row, ignore_index=True)\n",
      "[Succeeded / Failed / Skipped / Total] 9 / 61 / 1 / 71:  14%|███▌                     | 71/500 [00:51<05:10,  1.38it/s]"
     ]
    },
    {
     "name": "stdout",
     "output_type": "stream",
     "text": [
      "--------------------------------------------- Result 70 ---------------------------------------------\n",
      "[[0 (100%)]] --> [[[FAILED]]]\n",
      "\n",
      "Don‘t give a flying monkeys wot they think and I certainly don‘t mind. Any friend of mine and all that!\n",
      "\n",
      "\n",
      "--------------------------------------------- Result 71 ---------------------------------------------\n",
      "[[0 (100%)]] --> [[[FAILED]]]\n",
      "\n",
      "My phone\n",
      "\n",
      "\n"
     ]
    },
    {
     "name": "stderr",
     "output_type": "stream",
     "text": [
      "C:\\Users\\DELL\\anaconda3\\envs\\ta\\lib\\site-packages\\textattack\\loggers\\csv_logger.py:41: FutureWarning: The frame.append method is deprecated and will be removed from pandas in a future version. Use pandas.concat instead.\n",
      "  self.df = self.df.append(row, ignore_index=True)\n",
      "\r",
      "[Succeeded / Failed / Skipped / Total] 9 / 62 / 1 / 72:  14%|███▌                     | 72/500 [00:52<05:10,  1.38it/s]"
     ]
    },
    {
     "name": "stdout",
     "output_type": "stream",
     "text": [
      "--------------------------------------------- Result 72 ---------------------------------------------\n",
      "[[0 (100%)]] --> [[[FAILED]]]\n",
      "\n",
      "Save yourself the stress. If the person has a dorm account, just send your account details and the money will be sent to you.\n",
      "\n",
      "\n"
     ]
    },
    {
     "name": "stderr",
     "output_type": "stream",
     "text": [
      "[Succeeded / Failed / Skipped / Total] 9 / 62 / 1 / 72:  15%|███▋                     | 73/500 [00:52<05:09,  1.38it/s]C:\\Users\\DELL\\anaconda3\\envs\\ta\\lib\\site-packages\\textattack\\loggers\\csv_logger.py:41: FutureWarning: The frame.append method is deprecated and will be removed from pandas in a future version. Use pandas.concat instead.\n",
      "  self.df = self.df.append(row, ignore_index=True)\n",
      "[Succeeded / Failed / Skipped / Total] 9 / 63 / 1 / 73:  15%|███▋                     | 73/500 [00:52<05:09,  1.38it/s]"
     ]
    },
    {
     "name": "stdout",
     "output_type": "stream",
     "text": [
      "--------------------------------------------- Result 73 ---------------------------------------------\n",
      "[[0 (100%)]] --> [[[FAILED]]]\n",
      "\n",
      "I'm tired of arguing with you about this week after week. Do what you want and from now on, i'll do the same.\n",
      "\n",
      "\n"
     ]
    },
    {
     "name": "stderr",
     "output_type": "stream",
     "text": [
      "C:\\Users\\DELL\\anaconda3\\envs\\ta\\lib\\site-packages\\textattack\\loggers\\csv_logger.py:41: FutureWarning: The frame.append method is deprecated and will be removed from pandas in a future version. Use pandas.concat instead.\n",
      "  self.df = self.df.append(row, ignore_index=True)\n",
      "\r",
      "[Succeeded / Failed / Skipped / Total] 9 / 64 / 1 / 74:  15%|███▋                     | 74/500 [00:53<05:09,  1.38it/s]"
     ]
    },
    {
     "name": "stdout",
     "output_type": "stream",
     "text": [
      "--------------------------------------------- Result 74 ---------------------------------------------\n",
      "[[0 (100%)]] --> [[[FAILED]]]\n",
      "\n",
      "You know, wot people wear. T shirts, jumpers, hat, belt, is all we know. We r at Cribbs\n",
      "\n",
      "\n"
     ]
    },
    {
     "name": "stderr",
     "output_type": "stream",
     "text": [
      "[Succeeded / Failed / Skipped / Total] 9 / 64 / 1 / 74:  15%|███▊                     | 75/500 [00:54<05:08,  1.38it/s]C:\\Users\\DELL\\anaconda3\\envs\\ta\\lib\\site-packages\\textattack\\loggers\\csv_logger.py:41: FutureWarning: The frame.append method is deprecated and will be removed from pandas in a future version. Use pandas.concat instead.\n",
      "  self.df = self.df.append(row, ignore_index=True)\n",
      "[Succeeded / Failed / Skipped / Total] 9 / 65 / 1 / 75:  15%|███▊                     | 75/500 [00:54<05:08,  1.38it/s]"
     ]
    },
    {
     "name": "stdout",
     "output_type": "stream",
     "text": [
      "--------------------------------------------- Result 75 ---------------------------------------------\n",
      "[[0 (100%)]] --> [[[FAILED]]]\n",
      "\n",
      "I am going to sao mu today. Will be done only at 12 \n",
      "\n",
      "\n"
     ]
    },
    {
     "name": "stderr",
     "output_type": "stream",
     "text": [
      "C:\\Users\\DELL\\anaconda3\\envs\\ta\\lib\\site-packages\\textattack\\loggers\\csv_logger.py:41: FutureWarning: The frame.append method is deprecated and will be removed from pandas in a future version. Use pandas.concat instead.\n",
      "  self.df = self.df.append(row, ignore_index=True)\n",
      "\r",
      "[Succeeded / Failed / Skipped / Total] 9 / 66 / 1 / 76:  15%|███▊                     | 76/500 [00:54<05:06,  1.38it/s]"
     ]
    },
    {
     "name": "stdout",
     "output_type": "stream",
     "text": [
      "--------------------------------------------- Result 76 ---------------------------------------------\n",
      "[[0 (100%)]] --> [[[FAILED]]]\n",
      "\n",
      "Haf u eaten? Wat time u wan me 2 come?\n",
      "\n",
      "\n"
     ]
    },
    {
     "name": "stderr",
     "output_type": "stream",
     "text": [
      "[Succeeded / Failed / Skipped / Total] 9 / 66 / 1 / 76:  15%|███▊                     | 77/500 [00:56<05:07,  1.37it/s]C:\\Users\\DELL\\anaconda3\\envs\\ta\\lib\\site-packages\\textattack\\loggers\\csv_logger.py:41: FutureWarning: The frame.append method is deprecated and will be removed from pandas in a future version. Use pandas.concat instead.\n",
      "  self.df = self.df.append(row, ignore_index=True)\n",
      "[Succeeded / Failed / Skipped / Total] 9 / 67 / 1 / 77:  15%|███▊                     | 77/500 [00:56<05:07,  1.37it/s]"
     ]
    },
    {
     "name": "stdout",
     "output_type": "stream",
     "text": [
      "--------------------------------------------- Result 77 ---------------------------------------------\n",
      "[[1 (100%)]] --> [[[FAILED]]]\n",
      "\n",
      "Thanks for your Ringtone Order, Reference T91. You will be charged GBP 4 per week. You can unsubscribe at anytime by calling customer services on 09057039994\n",
      "\n",
      "\n"
     ]
    },
    {
     "name": "stderr",
     "output_type": "stream",
     "text": [
      "C:\\Users\\DELL\\anaconda3\\envs\\ta\\lib\\site-packages\\textattack\\loggers\\csv_logger.py:41: FutureWarning: The frame.append method is deprecated and will be removed from pandas in a future version. Use pandas.concat instead.\n",
      "  self.df = self.df.append(row, ignore_index=True)\n",
      "[Succeeded / Failed / Skipped / Total] 9 / 68 / 1 / 78:  16%|███▉                     | 79/500 [00:56<05:02,  1.39it/s]C:\\Users\\DELL\\anaconda3\\envs\\ta\\lib\\site-packages\\textattack\\loggers\\csv_logger.py:41: FutureWarning: The frame.append method is deprecated and will be removed from pandas in a future version. Use pandas.concat instead.\n",
      "  self.df = self.df.append(row, ignore_index=True)\n",
      "[Succeeded / Failed / Skipped / Total] 9 / 69 / 1 / 79:  16%|███▉                     | 79/500 [00:56<05:02,  1.39it/s]"
     ]
    },
    {
     "name": "stdout",
     "output_type": "stream",
     "text": [
      "--------------------------------------------- Result 78 ---------------------------------------------\n",
      "[[0 (100%)]] --> [[[FAILED]]]\n",
      "\n",
      "I thk 530 lor. But dunno can get tickets a not. Wat u doing now?\n",
      "\n",
      "\n",
      "--------------------------------------------- Result 79 ---------------------------------------------\n",
      "[[0 (100%)]] --> [[[FAILED]]]\n",
      "\n",
      "How are you. Its been ages. How's abj\n",
      "\n",
      "\n"
     ]
    },
    {
     "name": "stderr",
     "output_type": "stream",
     "text": [
      "C:\\Users\\DELL\\anaconda3\\envs\\ta\\lib\\site-packages\\textattack\\loggers\\csv_logger.py:41: FutureWarning: The frame.append method is deprecated and will be removed from pandas in a future version. Use pandas.concat instead.\n",
      "  self.df = self.df.append(row, ignore_index=True)\n",
      "\r",
      "[Succeeded / Failed / Skipped / Total] 9 / 70 / 1 / 80:  16%|████                     | 80/500 [00:59<05:13,  1.34it/s]"
     ]
    },
    {
     "name": "stdout",
     "output_type": "stream",
     "text": [
      "--------------------------------------------- Result 80 ---------------------------------------------\n",
      "[[0 (100%)]] --> [[[FAILED]]]\n",
      "\n",
      "Remember all those whom i hurt during days of satanic imposter in me.need to pay a price,so be it.may destiny keep me going and as u said pray that i get the mind to get over the same.\n",
      "\n",
      "\n"
     ]
    },
    {
     "name": "stderr",
     "output_type": "stream",
     "text": [
      "[Succeeded / Failed / Skipped / Total] 9 / 70 / 1 / 80:  16%|████                     | 81/500 [01:00<05:10,  1.35it/s]C:\\Users\\DELL\\anaconda3\\envs\\ta\\lib\\site-packages\\textattack\\loggers\\csv_logger.py:41: FutureWarning: The frame.append method is deprecated and will be removed from pandas in a future version. Use pandas.concat instead.\n",
      "  self.df = self.df.append(row, ignore_index=True)\n",
      "[Succeeded / Failed / Skipped / Total] 9 / 71 / 1 / 81:  16%|████                     | 81/500 [01:00<05:10,  1.35it/s]"
     ]
    },
    {
     "name": "stdout",
     "output_type": "stream",
     "text": [
      "--------------------------------------------- Result 81 ---------------------------------------------\n",
      "[[0 (100%)]] --> [[[FAILED]]]\n",
      "\n",
      "Okay... I booked all already... Including the one at bugis.\n",
      "\n",
      "\n"
     ]
    },
    {
     "name": "stderr",
     "output_type": "stream",
     "text": [
      "C:\\Users\\DELL\\anaconda3\\envs\\ta\\lib\\site-packages\\textattack\\loggers\\csv_logger.py:41: FutureWarning: The frame.append method is deprecated and will be removed from pandas in a future version. Use pandas.concat instead.\n",
      "  self.df = self.df.append(row, ignore_index=True)\n",
      "\r",
      "[Succeeded / Failed / Skipped / Total] 9 / 72 / 1 / 82:  16%|████                     | 82/500 [01:00<05:09,  1.35it/s]"
     ]
    },
    {
     "name": "stdout",
     "output_type": "stream",
     "text": [
      "--------------------------------------------- Result 82 ---------------------------------------------\n",
      "[[0 (100%)]] --> [[[FAILED]]]\n",
      "\n",
      "Yo carlos, a few friends are already asking me about you, you working at all this weekend?\n",
      "\n",
      "\n"
     ]
    },
    {
     "name": "stderr",
     "output_type": "stream",
     "text": [
      "[Succeeded / Failed / Skipped / Total] 9 / 72 / 1 / 82:  17%|████▏                    | 83/500 [01:02<05:13,  1.33it/s]C:\\Users\\DELL\\anaconda3\\envs\\ta\\lib\\site-packages\\textattack\\loggers\\csv_logger.py:41: FutureWarning: The frame.append method is deprecated and will be removed from pandas in a future version. Use pandas.concat instead.\n",
      "  self.df = self.df.append(row, ignore_index=True)\n",
      "[Succeeded / Failed / Skipped / Total] 9 / 73 / 1 / 83:  17%|████▏                    | 83/500 [01:02<05:13,  1.33it/s]C:\\Users\\DELL\\anaconda3\\envs\\ta\\lib\\site-packages\\textattack\\loggers\\csv_logger.py:41: FutureWarning: The frame.append method is deprecated and will be removed from pandas in a future version. Use pandas.concat instead.\n",
      "  self.df = self.df.append(row, ignore_index=True)\n",
      "[Succeeded / Failed / Skipped / Total] 9 / 74 / 1 / 84:  17%|████▏                    | 84/500 [01:02<05:10,  1.34it/s]"
     ]
    },
    {
     "name": "stdout",
     "output_type": "stream",
     "text": [
      "--------------------------------------------- Result 83 ---------------------------------------------\n",
      "[[0 (100%)]] --> [[[FAILED]]]\n",
      "\n",
      "Isn't frnd a necesity in life? imagine urself witout a frnd.. hw'd u feel at ur colleg? wat'll u do wth ur cell? wat abt functions? thnk abt events espe'll cared, missed &amp; irritated u? 4wrd it to all those dear-loving frnds wthout whom u cant live.. I jst did it.. Takecare..:) GOODMORNING\n",
      "\n",
      "\n",
      "--------------------------------------------- Result 84 ---------------------------------------------\n",
      "[[0 (100%)]] --> [[[FAILED]]]\n",
      "\n",
      "How do you plan to manage that\n",
      "\n",
      "\n"
     ]
    },
    {
     "name": "stderr",
     "output_type": "stream",
     "text": [
      "[Succeeded / Failed / Skipped / Total] 9 / 74 / 1 / 84:  17%|████▎                    | 85/500 [01:03<05:08,  1.35it/s]C:\\Users\\DELL\\anaconda3\\envs\\ta\\lib\\site-packages\\textattack\\loggers\\csv_logger.py:41: FutureWarning: The frame.append method is deprecated and will be removed from pandas in a future version. Use pandas.concat instead.\n",
      "  self.df = self.df.append(row, ignore_index=True)\n",
      "[Succeeded / Failed / Skipped / Total] 9 / 75 / 1 / 85:  17%|████▎                    | 85/500 [01:03<05:08,  1.35it/s]"
     ]
    },
    {
     "name": "stdout",
     "output_type": "stream",
     "text": [
      "--------------------------------------------- Result 85 ---------------------------------------------\n",
      "[[0 (100%)]] --> [[[FAILED]]]\n",
      "\n",
      "1's finish meeting call me.\n",
      "\n",
      "\n"
     ]
    },
    {
     "name": "stderr",
     "output_type": "stream",
     "text": [
      "C:\\Users\\DELL\\anaconda3\\envs\\ta\\lib\\site-packages\\textattack\\loggers\\csv_logger.py:41: FutureWarning: The frame.append method is deprecated and will be removed from pandas in a future version. Use pandas.concat instead.\n",
      "  self.df = self.df.append(row, ignore_index=True)\n",
      "\r",
      "[Succeeded / Failed / Skipped / Total] 9 / 76 / 1 / 86:  17%|████▎                    | 86/500 [01:03<05:05,  1.36it/s]"
     ]
    },
    {
     "name": "stdout",
     "output_type": "stream",
     "text": [
      "--------------------------------------------- Result 86 ---------------------------------------------\n",
      "[[1 (100%)]] --> [[[FAILED]]]\n",
      "\n",
      "You have won ?1,000 cash or a ?2,000 prize! To claim, call09050000327\n",
      "\n",
      "\n"
     ]
    },
    {
     "name": "stderr",
     "output_type": "stream",
     "text": [
      "[Succeeded / Failed / Skipped / Total] 9 / 76 / 1 / 86:  17%|████▎                    | 87/500 [01:04<05:04,  1.36it/s]C:\\Users\\DELL\\anaconda3\\envs\\ta\\lib\\site-packages\\textattack\\loggers\\csv_logger.py:41: FutureWarning: The frame.append method is deprecated and will be removed from pandas in a future version. Use pandas.concat instead.\n",
      "  self.df = self.df.append(row, ignore_index=True)\n",
      "[Succeeded / Failed / Skipped / Total] 9 / 77 / 1 / 87:  17%|████▎                    | 87/500 [01:04<05:04,  1.36it/s]"
     ]
    },
    {
     "name": "stdout",
     "output_type": "stream",
     "text": [
      "--------------------------------------------- Result 87 ---------------------------------------------\n",
      "[[0 (100%)]] --> [[[FAILED]]]\n",
      "\n",
      "Dunno he jus say go lido. Same time 930.\n",
      "\n",
      "\n"
     ]
    },
    {
     "name": "stderr",
     "output_type": "stream",
     "text": [
      "C:\\Users\\DELL\\anaconda3\\envs\\ta\\lib\\site-packages\\textattack\\loggers\\csv_logger.py:41: FutureWarning: The frame.append method is deprecated and will be removed from pandas in a future version. Use pandas.concat instead.\n",
      "  self.df = self.df.append(row, ignore_index=True)\n",
      "\r",
      "[Succeeded / Failed / Skipped / Total] 9 / 78 / 1 / 88:  18%|████▍                    | 88/500 [01:04<05:01,  1.37it/s]"
     ]
    },
    {
     "name": "stdout",
     "output_type": "stream",
     "text": [
      "--------------------------------------------- Result 88 ---------------------------------------------\n",
      "[[0 (100%)]] --> [[[FAILED]]]\n",
      "\n",
      "Can you talk with me..\n",
      "\n",
      "\n"
     ]
    },
    {
     "name": "stderr",
     "output_type": "stream",
     "text": [
      "[Succeeded / Failed / Skipped / Total] 9 / 78 / 1 / 88:  18%|████▍                    | 89/500 [01:04<04:58,  1.38it/s]C:\\Users\\DELL\\anaconda3\\envs\\ta\\lib\\site-packages\\textattack\\loggers\\csv_logger.py:41: FutureWarning: The frame.append method is deprecated and will be removed from pandas in a future version. Use pandas.concat instead.\n",
      "  self.df = self.df.append(row, ignore_index=True)\n",
      "[Succeeded / Failed / Skipped / Total] 9 / 79 / 1 / 89:  18%|████▍                    | 89/500 [01:04<04:58,  1.38it/s]"
     ]
    },
    {
     "name": "stdout",
     "output_type": "stream",
     "text": [
      "--------------------------------------------- Result 89 ---------------------------------------------\n",
      "[[0 (100%)]] --> [[[FAILED]]]\n",
      "\n",
      "Gud mrng dear have a nice day\n",
      "\n",
      "\n"
     ]
    },
    {
     "name": "stderr",
     "output_type": "stream",
     "text": [
      "C:\\Users\\DELL\\anaconda3\\envs\\ta\\lib\\site-packages\\textattack\\loggers\\csv_logger.py:41: FutureWarning: The frame.append method is deprecated and will be removed from pandas in a future version. Use pandas.concat instead.\n",
      "  self.df = self.df.append(row, ignore_index=True)\n",
      "\r",
      "[Succeeded / Failed / Skipped / Total] 9 / 80 / 1 / 90:  18%|████▌                    | 90/500 [01:05<04:59,  1.37it/s]"
     ]
    },
    {
     "name": "stdout",
     "output_type": "stream",
     "text": [
      "--------------------------------------------- Result 90 ---------------------------------------------\n",
      "[[0 (100%)]] --> [[[FAILED]]]\n",
      "\n",
      "Imagine Life WITHOUT ME... see.. How fast u are searching me?Don't worry.. l'm always there To disturb U.. Goodnoon..:)\n",
      "\n",
      "\n"
     ]
    },
    {
     "name": "stderr",
     "output_type": "stream",
     "text": [
      "[Succeeded / Failed / Skipped / Total] 9 / 80 / 1 / 90:  18%|████▌                    | 91/500 [01:06<04:58,  1.37it/s]C:\\Users\\DELL\\anaconda3\\envs\\ta\\lib\\site-packages\\textattack\\loggers\\csv_logger.py:41: FutureWarning: The frame.append method is deprecated and will be removed from pandas in a future version. Use pandas.concat instead.\n",
      "  self.df = self.df.append(row, ignore_index=True)\n",
      "[Succeeded / Failed / Skipped / Total] 9 / 81 / 1 / 91:  18%|████▌                    | 91/500 [01:06<04:58,  1.37it/s]C:\\Users\\DELL\\anaconda3\\envs\\ta\\lib\\site-packages\\textattack\\loggers\\csv_logger.py:41: FutureWarning: The frame.append method is deprecated and will be removed from pandas in a future version. Use pandas.concat instead.\n",
      "  self.df = self.df.append(row, ignore_index=True)\n",
      "[Succeeded / Failed / Skipped / Total] 9 / 82 / 1 / 92:  18%|████▌                    | 92/500 [01:06<04:54,  1.38it/s]"
     ]
    },
    {
     "name": "stdout",
     "output_type": "stream",
     "text": [
      "--------------------------------------------- Result 91 ---------------------------------------------\n",
      "[[0 (100%)]] --> [[[FAILED]]]\n",
      "\n",
      "Sounds gd... Haha... Can... Wah, u yan jiu so fast liao...\n",
      "\n",
      "\n",
      "--------------------------------------------- Result 92 ---------------------------------------------\n",
      "[[0 (100%)]] --> [[[FAILED]]]\n",
      "\n",
      "Wanna do some art?! :D\n",
      "\n",
      "\n"
     ]
    },
    {
     "name": "stderr",
     "output_type": "stream",
     "text": [
      "[Succeeded / Failed / Skipped / Total] 9 / 82 / 1 / 92:  19%|████▋                    | 93/500 [01:06<04:51,  1.40it/s]C:\\Users\\DELL\\anaconda3\\envs\\ta\\lib\\site-packages\\textattack\\loggers\\csv_logger.py:41: FutureWarning: The frame.append method is deprecated and will be removed from pandas in a future version. Use pandas.concat instead.\n",
      "  self.df = self.df.append(row, ignore_index=True)\n",
      "[Succeeded / Failed / Skipped / Total] 9 / 83 / 1 / 93:  19%|████▋                    | 93/500 [01:06<04:51,  1.40it/s]"
     ]
    },
    {
     "name": "stdout",
     "output_type": "stream",
     "text": [
      "--------------------------------------------- Result 93 ---------------------------------------------\n",
      "[[0 (100%)]] --> [[[FAILED]]]\n",
      "\n",
      "Me, i dont know again oh\n",
      "\n",
      "\n"
     ]
    },
    {
     "name": "stderr",
     "output_type": "stream",
     "text": [
      "C:\\Users\\DELL\\anaconda3\\envs\\ta\\lib\\site-packages\\textattack\\loggers\\csv_logger.py:41: FutureWarning: The frame.append method is deprecated and will be removed from pandas in a future version. Use pandas.concat instead.\n",
      "  self.df = self.df.append(row, ignore_index=True)\n",
      "[Succeeded / Failed / Skipped / Total] 10 / 83 / 1 / 94:  19%|████▌                   | 95/500 [01:08<04:50,  1.40it/s]"
     ]
    },
    {
     "name": "stdout",
     "output_type": "stream",
     "text": [
      "--------------------------------------------- Result 94 ---------------------------------------------\n",
      "[[0 (100%)]] --> [[1 (74%)]]\n",
      "\n",
      "[[Hi]]. Hope ur day * [[good]]! [[Back]] from [[walk]], [[table]] booked for half [[eight]]. [[Let]] me [[know]] when ur coming over.\n",
      "\n",
      "[[hello]]. Hope ur day * [[expert]]! [[support]] from [[paseo]], [[remit]] booked for half [[eight-spot]]. [[allow]] me [[live]] when ur coming over.\n",
      "\n",
      "\n"
     ]
    },
    {
     "name": "stderr",
     "output_type": "stream",
     "text": [
      "C:\\Users\\DELL\\anaconda3\\envs\\ta\\lib\\site-packages\\textattack\\loggers\\csv_logger.py:41: FutureWarning: The frame.append method is deprecated and will be removed from pandas in a future version. Use pandas.concat instead.\n",
      "  self.df = self.df.append(row, ignore_index=True)\n",
      "\r",
      "[Succeeded / Failed / Skipped / Total] 10 / 84 / 1 / 95:  19%|████▌                   | 95/500 [01:08<04:50,  1.40it/s]"
     ]
    },
    {
     "name": "stdout",
     "output_type": "stream",
     "text": [
      "--------------------------------------------- Result 95 ---------------------------------------------\n",
      "[[0 (100%)]] --> [[[FAILED]]]\n",
      "\n",
      "Ya very nice. . .be ready on thursday\n",
      "\n",
      "\n"
     ]
    },
    {
     "name": "stderr",
     "output_type": "stream",
     "text": [
      "C:\\Users\\DELL\\anaconda3\\envs\\ta\\lib\\site-packages\\textattack\\loggers\\csv_logger.py:41: FutureWarning: The frame.append method is deprecated and will be removed from pandas in a future version. Use pandas.concat instead.\n",
      "  self.df = self.df.append(row, ignore_index=True)\n",
      "\r",
      "[Succeeded / Failed / Skipped / Total] 10 / 85 / 1 / 96:  19%|████▌                   | 96/500 [01:08<04:49,  1.39it/s]"
     ]
    },
    {
     "name": "stdout",
     "output_type": "stream",
     "text": [
      "--------------------------------------------- Result 96 ---------------------------------------------\n",
      "[[0 (100%)]] --> [[[FAILED]]]\n",
      "\n",
      "my ex-wife was not able to have kids. Do you want kids one day?\n",
      "\n",
      "\n"
     ]
    },
    {
     "name": "stderr",
     "output_type": "stream",
     "text": [
      "[Succeeded / Failed / Skipped / Total] 10 / 85 / 1 / 96:  19%|████▋                   | 97/500 [01:09<04:49,  1.39it/s]C:\\Users\\DELL\\anaconda3\\envs\\ta\\lib\\site-packages\\textattack\\loggers\\csv_logger.py:41: FutureWarning: The frame.append method is deprecated and will be removed from pandas in a future version. Use pandas.concat instead.\n",
      "  self.df = self.df.append(row, ignore_index=True)\n",
      "[Succeeded / Failed / Skipped / Total] 10 / 86 / 1 / 97:  19%|████▋                   | 97/500 [01:09<04:49,  1.39it/s]"
     ]
    },
    {
     "name": "stdout",
     "output_type": "stream",
     "text": [
      "--------------------------------------------- Result 97 ---------------------------------------------\n",
      "[[1 (100%)]] --> [[[FAILED]]]\n",
      "\n",
      "You have won ?1,000 cash or a ?2,000 prize! To claim, call09050000327. T&C: RSTM, SW7 3SS. 150ppm\n",
      "\n",
      "\n"
     ]
    },
    {
     "name": "stderr",
     "output_type": "stream",
     "text": [
      "C:\\Users\\DELL\\anaconda3\\envs\\ta\\lib\\site-packages\\textattack\\loggers\\csv_logger.py:41: FutureWarning: The frame.append method is deprecated and will be removed from pandas in a future version. Use pandas.concat instead.\n",
      "  self.df = self.df.append(row, ignore_index=True)\n",
      "\r",
      "[Succeeded / Failed / Skipped / Total] 10 / 87 / 1 / 98:  20%|████▋                   | 98/500 [01:10<04:48,  1.40it/s]"
     ]
    },
    {
     "name": "stdout",
     "output_type": "stream",
     "text": [
      "--------------------------------------------- Result 98 ---------------------------------------------\n",
      "[[0 (100%)]] --> [[[FAILED]]]\n",
      "\n",
      "You call him and tell now infront of them. Call him now.\n",
      "\n",
      "\n"
     ]
    },
    {
     "name": "stderr",
     "output_type": "stream",
     "text": [
      "[Succeeded / Failed / Skipped / Total] 10 / 87 / 1 / 98:  20%|████▊                   | 99/500 [01:10<04:47,  1.40it/s]C:\\Users\\DELL\\anaconda3\\envs\\ta\\lib\\site-packages\\textattack\\loggers\\csv_logger.py:41: FutureWarning: The frame.append method is deprecated and will be removed from pandas in a future version. Use pandas.concat instead.\n",
      "  self.df = self.df.append(row, ignore_index=True)\n",
      "[Succeeded / Failed / Skipped / Total] 10 / 88 / 1 / 99:  20%|████▊                   | 99/500 [01:10<04:47,  1.40it/s]C:\\Users\\DELL\\anaconda3\\envs\\ta\\lib\\site-packages\\textattack\\loggers\\csv_logger.py:41: FutureWarning: The frame.append method is deprecated and will be removed from pandas in a future version. Use pandas.concat instead.\n",
      "  self.df = self.df.append(row, ignore_index=True)\n",
      "[Succeeded / Failed / Skipped / Total] 10 / 89 / 1 / 100:  20%|████▍                 | 100/500 [01:11<04:44,  1.41it/s]"
     ]
    },
    {
     "name": "stdout",
     "output_type": "stream",
     "text": [
      "--------------------------------------------- Result 99 ---------------------------------------------\n",
      "[[0 (100%)]] --> [[[FAILED]]]\n",
      "\n",
      "Today is ACCEPT DAY..U Accept me as? Brother Sister Lover Dear1 Best1 Clos1 Lvblefrnd Jstfrnd Cutefrnd Lifpartnr Belovd Swtheart Bstfrnd No rply means enemy\n",
      "\n",
      "\n",
      "--------------------------------------------- Result 100 ---------------------------------------------\n",
      "[[0 (100%)]] --> [[[FAILED]]]\n",
      "\n",
      "Yeah, probably earlier than that\n",
      "\n",
      "\n"
     ]
    },
    {
     "name": "stderr",
     "output_type": "stream",
     "text": [
      "[Succeeded / Failed / Skipped / Total] 10 / 89 / 1 / 100:  20%|████▍                 | 101/500 [01:11<04:41,  1.42it/s]C:\\Users\\DELL\\anaconda3\\envs\\ta\\lib\\site-packages\\textattack\\loggers\\csv_logger.py:41: FutureWarning: The frame.append method is deprecated and will be removed from pandas in a future version. Use pandas.concat instead.\n",
      "  self.df = self.df.append(row, ignore_index=True)\n",
      "[Succeeded / Failed / Skipped / Total] 10 / 90 / 1 / 101:  20%|████▍                 | 101/500 [01:11<04:41,  1.42it/s]"
     ]
    },
    {
     "name": "stdout",
     "output_type": "stream",
     "text": [
      "--------------------------------------------- Result 101 ---------------------------------------------\n",
      "[[0 (100%)]] --> [[[FAILED]]]\n",
      "\n",
      "Ok... But bag again..\n",
      "\n",
      "\n"
     ]
    },
    {
     "name": "stderr",
     "output_type": "stream",
     "text": [
      "C:\\Users\\DELL\\anaconda3\\envs\\ta\\lib\\site-packages\\textattack\\loggers\\csv_logger.py:41: FutureWarning: The frame.append method is deprecated and will be removed from pandas in a future version. Use pandas.concat instead.\n",
      "  self.df = self.df.append(row, ignore_index=True)\n",
      "\r",
      "[Succeeded / Failed / Skipped / Total] 10 / 91 / 1 / 102:  20%|████▍                 | 102/500 [01:11<04:40,  1.42it/s]"
     ]
    },
    {
     "name": "stdout",
     "output_type": "stream",
     "text": [
      "--------------------------------------------- Result 102 ---------------------------------------------\n",
      "[[0 (100%)]] --> [[[FAILED]]]\n",
      "\n",
      "Am okay. Will soon be over. All the best\n",
      "\n",
      "\n"
     ]
    },
    {
     "name": "stderr",
     "output_type": "stream",
     "text": [
      "[Succeeded / Failed / Skipped / Total] 10 / 91 / 1 / 102:  21%|████▌                 | 103/500 [01:13<04:41,  1.41it/s]C:\\Users\\DELL\\anaconda3\\envs\\ta\\lib\\site-packages\\textattack\\loggers\\csv_logger.py:41: FutureWarning: The frame.append method is deprecated and will be removed from pandas in a future version. Use pandas.concat instead.\n",
      "  self.df = self.df.append(row, ignore_index=True)\n",
      "[Succeeded / Failed / Skipped / Total] 10 / 92 / 1 / 103:  21%|████▌                 | 103/500 [01:13<04:41,  1.41it/s]"
     ]
    },
    {
     "name": "stdout",
     "output_type": "stream",
     "text": [
      "--------------------------------------------- Result 103 ---------------------------------------------\n",
      "[[1 (100%)]] --> [[[FAILED]]]\n",
      "\n",
      "Mila, age23, blonde, new in UK. I look sex with UK guys. if u like fun with me. Text MTALK to 69866.18 . 30pp/txt 1st 5free. £1.50 increments. Help08718728876\n",
      "\n",
      "\n"
     ]
    },
    {
     "name": "stderr",
     "output_type": "stream",
     "text": [
      "C:\\Users\\DELL\\anaconda3\\envs\\ta\\lib\\site-packages\\textattack\\loggers\\csv_logger.py:41: FutureWarning: The frame.append method is deprecated and will be removed from pandas in a future version. Use pandas.concat instead.\n",
      "  self.df = self.df.append(row, ignore_index=True)\n",
      "\r",
      "[Succeeded / Failed / Skipped / Total] 10 / 93 / 1 / 104:  21%|████▌                 | 104/500 [01:14<04:45,  1.39it/s]"
     ]
    },
    {
     "name": "stdout",
     "output_type": "stream",
     "text": [
      "--------------------------------------------- Result 104 ---------------------------------------------\n",
      "[[0 (100%)]] --> [[[FAILED]]]\n",
      "\n",
      "Good evening Sir, Al Salam Wahleykkum.sharing a happy news.By the grace of God, i got an offer from Tayseer,TISSCO and i joined.Hope you are fine.Inshah Allah,meet you sometime.Rakhesh,visitor from India.\n",
      "\n",
      "\n"
     ]
    },
    {
     "name": "stderr",
     "output_type": "stream",
     "text": [
      "[Succeeded / Failed / Skipped / Total] 10 / 93 / 1 / 104:  21%|████▌                 | 105/500 [01:15<04:43,  1.39it/s]C:\\Users\\DELL\\anaconda3\\envs\\ta\\lib\\site-packages\\textattack\\loggers\\csv_logger.py:41: FutureWarning: The frame.append method is deprecated and will be removed from pandas in a future version. Use pandas.concat instead.\n",
      "  self.df = self.df.append(row, ignore_index=True)\n",
      "[Succeeded / Failed / Skipped / Total] 11 / 93 / 1 / 105:  21%|████▌                 | 105/500 [01:15<04:43,  1.39it/s]"
     ]
    },
    {
     "name": "stdout",
     "output_type": "stream",
     "text": [
      "--------------------------------------------- Result 105 ---------------------------------------------\n",
      "[[0 (100%)]] --> [[1 (87%)]]\n",
      "\n",
      "[[Am]] on the uworld [[site]]. Am i [[buying]] the qbank only or am i buying it with the self [[assessment]] also?\n",
      "\n",
      "[[live]] on the uworld [[website]]. Am i [[purchase]] the qbank only or am i buying it with the self [[appraisal]] also?\n",
      "\n",
      "\n"
     ]
    },
    {
     "name": "stderr",
     "output_type": "stream",
     "text": [
      "C:\\Users\\DELL\\anaconda3\\envs\\ta\\lib\\site-packages\\textattack\\loggers\\csv_logger.py:41: FutureWarning: The frame.append method is deprecated and will be removed from pandas in a future version. Use pandas.concat instead.\n",
      "  self.df = self.df.append(row, ignore_index=True)\n",
      "\r",
      "[Succeeded / Failed / Skipped / Total] 11 / 94 / 1 / 106:  21%|████▋                 | 106/500 [01:16<04:42,  1.39it/s]"
     ]
    },
    {
     "name": "stdout",
     "output_type": "stream",
     "text": [
      "--------------------------------------------- Result 106 ---------------------------------------------\n",
      "[[0 (100%)]] --> [[[FAILED]]]\n",
      "\n",
      "I like to talk pa but am not able to. I dont know y.\n",
      "\n",
      "\n"
     ]
    },
    {
     "name": "stderr",
     "output_type": "stream",
     "text": [
      "[Succeeded / Failed / Skipped / Total] 11 / 94 / 1 / 106:  21%|████▋                 | 107/500 [01:16<04:42,  1.39it/s]C:\\Users\\DELL\\anaconda3\\envs\\ta\\lib\\site-packages\\textattack\\loggers\\csv_logger.py:41: FutureWarning: The frame.append method is deprecated and will be removed from pandas in a future version. Use pandas.concat instead.\n",
      "  self.df = self.df.append(row, ignore_index=True)\n",
      "[Succeeded / Failed / Skipped / Total] 11 / 95 / 1 / 107:  21%|████▋                 | 107/500 [01:16<04:42,  1.39it/s]"
     ]
    },
    {
     "name": "stdout",
     "output_type": "stream",
     "text": [
      "--------------------------------------------- Result 107 ---------------------------------------------\n",
      "[[0 (100%)]] --> [[[FAILED]]]\n",
      "\n",
      "Sac will score big hundred.he is set batsman:-)\n",
      "\n",
      "\n"
     ]
    },
    {
     "name": "stderr",
     "output_type": "stream",
     "text": [
      "C:\\Users\\DELL\\anaconda3\\envs\\ta\\lib\\site-packages\\textattack\\loggers\\csv_logger.py:41: FutureWarning: The frame.append method is deprecated and will be removed from pandas in a future version. Use pandas.concat instead.\n",
      "  self.df = self.df.append(row, ignore_index=True)\n",
      "\r",
      "[Succeeded / Failed / Skipped / Total] 12 / 95 / 1 / 108:  22%|████▊                 | 108/500 [01:19<04:49,  1.35it/s]"
     ]
    },
    {
     "name": "stdout",
     "output_type": "stream",
     "text": [
      "--------------------------------------------- Result 108 ---------------------------------------------\n",
      "[[0 (100%)]] --> [[1 (66%)]]\n",
      "\n",
      "[[Hi]] [[baby]] ive just [[got]] [[back]] from [[work]] and i was [[wanting]] to [[see]] [[u]] allday! [[I]] [[hope]] i didnt [[piss]] u off on the [[phone]] [[today]]. If u are up give me a [[call]] [[xxx]]\n",
      "\n",
      "[[hello]] [[spoil]] ive just [[beat]] [[support]] from [[cultivate]] and i was [[require]] to [[date]] [[uranium]] allday! [[single]] [[promise]] i didnt [[make]] u off on the [[headphone]] [[now]]. If u are up give me a [[claim]] [[30]]\n",
      "\n",
      "\n"
     ]
    },
    {
     "name": "stderr",
     "output_type": "stream",
     "text": [
      "[Succeeded / Failed / Skipped / Total] 12 / 95 / 1 / 108:  22%|████▊                 | 109/500 [01:23<04:59,  1.31it/s]C:\\Users\\DELL\\anaconda3\\envs\\ta\\lib\\site-packages\\textattack\\loggers\\csv_logger.py:41: FutureWarning: The frame.append method is deprecated and will be removed from pandas in a future version. Use pandas.concat instead.\n",
      "  self.df = self.df.append(row, ignore_index=True)\n",
      "[Succeeded / Failed / Skipped / Total] 12 / 96 / 1 / 109:  22%|████▊                 | 109/500 [01:23<04:59,  1.31it/s]"
     ]
    },
    {
     "name": "stdout",
     "output_type": "stream",
     "text": [
      "--------------------------------------------- Result 109 ---------------------------------------------\n",
      "[[0 (100%)]] --> [[[FAILED]]]\n",
      "\n",
      "Dude. What's up. How Teresa. Hope you have been okay. When i didnt hear from these people, i called them and they had received the package since dec  &lt;#&gt; . Just thot you'ld like to know. Do have a fantastic year and all the best with your reading. Plus if you can really really Bam first aid for Usmle, then your work is done.\n",
      "\n",
      "\n"
     ]
    },
    {
     "name": "stderr",
     "output_type": "stream",
     "text": [
      "C:\\Users\\DELL\\anaconda3\\envs\\ta\\lib\\site-packages\\textattack\\loggers\\csv_logger.py:41: FutureWarning: The frame.append method is deprecated and will be removed from pandas in a future version. Use pandas.concat instead.\n",
      "  self.df = self.df.append(row, ignore_index=True)\n",
      "[Succeeded / Failed / Skipped / Total] 12 / 97 / 1 / 110:  22%|████▉                 | 111/500 [01:23<04:54,  1.32it/s]C:\\Users\\DELL\\anaconda3\\envs\\ta\\lib\\site-packages\\textattack\\loggers\\csv_logger.py:41: FutureWarning: The frame.append method is deprecated and will be removed from pandas in a future version. Use pandas.concat instead.\n",
      "  self.df = self.df.append(row, ignore_index=True)\n",
      "[Succeeded / Failed / Skipped / Total] 12 / 98 / 1 / 111:  22%|████▉                 | 111/500 [01:23<04:54,  1.32it/s]"
     ]
    },
    {
     "name": "stdout",
     "output_type": "stream",
     "text": [
      "--------------------------------------------- Result 110 ---------------------------------------------\n",
      "[[0 (100%)]] --> [[[FAILED]]]\n",
      "\n",
      "I want snow. It's just freezing and windy.\n",
      "\n",
      "\n",
      "--------------------------------------------- Result 111 ---------------------------------------------\n",
      "[[0 (100%)]] --> [[[FAILED]]]\n",
      "\n",
      "Yeah why not, is the gang all ready\n",
      "\n",
      "\n"
     ]
    },
    {
     "name": "stderr",
     "output_type": "stream",
     "text": [
      "C:\\Users\\DELL\\anaconda3\\envs\\ta\\lib\\site-packages\\textattack\\loggers\\csv_logger.py:41: FutureWarning: The frame.append method is deprecated and will be removed from pandas in a future version. Use pandas.concat instead.\n",
      "  self.df = self.df.append(row, ignore_index=True)\n",
      "\r",
      "[Succeeded / Failed / Skipped / Total] 12 / 99 / 1 / 112:  22%|████▉                 | 112/500 [01:24<04:52,  1.33it/s]"
     ]
    },
    {
     "name": "stdout",
     "output_type": "stream",
     "text": [
      "--------------------------------------------- Result 112 ---------------------------------------------\n",
      "[[0 (100%)]] --> [[[FAILED]]]\n",
      "\n",
      "Really good:)dhanush rocks once again:)\n",
      "\n",
      "\n"
     ]
    },
    {
     "name": "stderr",
     "output_type": "stream",
     "text": [
      "[Succeeded / Failed / Skipped / Total] 12 / 99 / 1 / 112:  23%|████▉                 | 113/500 [01:24<04:50,  1.33it/s]C:\\Users\\DELL\\anaconda3\\envs\\ta\\lib\\site-packages\\textattack\\loggers\\csv_logger.py:41: FutureWarning: The frame.append method is deprecated and will be removed from pandas in a future version. Use pandas.concat instead.\n",
      "  self.df = self.df.append(row, ignore_index=True)\n",
      "[Succeeded / Failed / Skipped / Total] 12 / 100 / 1 / 113:  23%|████▋                | 113/500 [01:24<04:50,  1.33it/s]"
     ]
    },
    {
     "name": "stdout",
     "output_type": "stream",
     "text": [
      "--------------------------------------------- Result 113 ---------------------------------------------\n",
      "[[0 (100%)]] --> [[[FAILED]]]\n",
      "\n",
      "\"Si.como no?!listened2the plaid album-quite gd&the new air1 which is hilarious-also boughtbraindancea comp.ofstuff on aphexs ;abel,u hav2hear it!c u sn xxxx\"\n",
      "\n",
      "\n"
     ]
    },
    {
     "name": "stderr",
     "output_type": "stream",
     "text": [
      "C:\\Users\\DELL\\anaconda3\\envs\\ta\\lib\\site-packages\\textattack\\loggers\\csv_logger.py:41: FutureWarning: The frame.append method is deprecated and will be removed from pandas in a future version. Use pandas.concat instead.\n",
      "  self.df = self.df.append(row, ignore_index=True)\n",
      "\r",
      "[Succeeded / Failed / Skipped / Total] 12 / 101 / 1 / 114:  23%|████▊                | 114/500 [01:25<04:48,  1.34it/s]"
     ]
    },
    {
     "name": "stdout",
     "output_type": "stream",
     "text": [
      "--------------------------------------------- Result 114 ---------------------------------------------\n",
      "[[0 (100%)]] --> [[[FAILED]]]\n",
      "\n",
      "I'm at home. Please call\n",
      "\n",
      "\n"
     ]
    },
    {
     "name": "stderr",
     "output_type": "stream",
     "text": [
      "[Succeeded / Failed / Skipped / Total] 12 / 101 / 1 / 114:  23%|████▊                | 115/500 [01:26<04:48,  1.34it/s]C:\\Users\\DELL\\anaconda3\\envs\\ta\\lib\\site-packages\\textattack\\loggers\\csv_logger.py:41: FutureWarning: The frame.append method is deprecated and will be removed from pandas in a future version. Use pandas.concat instead.\n",
      "  self.df = self.df.append(row, ignore_index=True)\n",
      "[Succeeded / Failed / Skipped / Total] 12 / 102 / 1 / 115:  23%|████▊                | 115/500 [01:26<04:48,  1.34it/s]"
     ]
    },
    {
     "name": "stdout",
     "output_type": "stream",
     "text": [
      "--------------------------------------------- Result 115 ---------------------------------------------\n",
      "[[0 (100%)]] --> [[[FAILED]]]\n",
      "\n",
      "Huh so slow i tot u reach long ago liao... U 2 more days only i 4 more leh...\n",
      "\n",
      "\n"
     ]
    },
    {
     "name": "stderr",
     "output_type": "stream",
     "text": [
      "C:\\Users\\DELL\\anaconda3\\envs\\ta\\lib\\site-packages\\textattack\\loggers\\csv_logger.py:41: FutureWarning: The frame.append method is deprecated and will be removed from pandas in a future version. Use pandas.concat instead.\n",
      "  self.df = self.df.append(row, ignore_index=True)\n",
      "\r",
      "[Succeeded / Failed / Skipped / Total] 12 / 103 / 1 / 116:  23%|████▊                | 116/500 [01:27<04:49,  1.33it/s]"
     ]
    },
    {
     "name": "stdout",
     "output_type": "stream",
     "text": [
      "--------------------------------------------- Result 116 ---------------------------------------------\n",
      "[[1 (100%)]] --> [[[FAILED]]]\n",
      "\n",
      "URGENT! You have won a 1 week FREE membership in our £100,000 Prize Jackpot! Txt the word: CLAIM to No: 81010 T&C www.dbuk.net LCCLTD POBOX 4403LDNW1A7RW18\n",
      "\n",
      "\n"
     ]
    },
    {
     "name": "stderr",
     "output_type": "stream",
     "text": [
      "[Succeeded / Failed / Skipped / Total] 12 / 103 / 1 / 116:  23%|████▉                | 117/500 [01:27<04:47,  1.33it/s]C:\\Users\\DELL\\anaconda3\\envs\\ta\\lib\\site-packages\\textattack\\loggers\\csv_logger.py:41: FutureWarning: The frame.append method is deprecated and will be removed from pandas in a future version. Use pandas.concat instead.\n",
      "  self.df = self.df.append(row, ignore_index=True)\n",
      "[Succeeded / Failed / Skipped / Total] 12 / 104 / 1 / 117:  23%|████▉                | 117/500 [01:27<04:47,  1.33it/s]"
     ]
    },
    {
     "name": "stdout",
     "output_type": "stream",
     "text": [
      "--------------------------------------------- Result 117 ---------------------------------------------\n",
      "[[0 (100%)]] --> [[[FAILED]]]\n",
      "\n",
      "Ya, told..she was asking wats matter?\n",
      "\n",
      "\n"
     ]
    },
    {
     "name": "stderr",
     "output_type": "stream",
     "text": [
      "C:\\Users\\DELL\\anaconda3\\envs\\ta\\lib\\site-packages\\textattack\\loggers\\csv_logger.py:41: FutureWarning: The frame.append method is deprecated and will be removed from pandas in a future version. Use pandas.concat instead.\n",
      "  self.df = self.df.append(row, ignore_index=True)\n",
      "\r",
      "[Succeeded / Failed / Skipped / Total] 12 / 105 / 1 / 118:  24%|████▉                | 118/500 [01:28<04:45,  1.34it/s]"
     ]
    },
    {
     "name": "stdout",
     "output_type": "stream",
     "text": [
      "--------------------------------------------- Result 118 ---------------------------------------------\n",
      "[[0 (100%)]] --> [[[FAILED]]]\n",
      "\n",
      "Well she's in for a big surprise!\n",
      "\n",
      "\n"
     ]
    },
    {
     "name": "stderr",
     "output_type": "stream",
     "text": [
      "[Succeeded / Failed / Skipped / Total] 12 / 105 / 1 / 118:  24%|████▉                | 119/500 [01:29<04:45,  1.33it/s]C:\\Users\\DELL\\anaconda3\\envs\\ta\\lib\\site-packages\\textattack\\loggers\\csv_logger.py:41: FutureWarning: The frame.append method is deprecated and will be removed from pandas in a future version. Use pandas.concat instead.\n",
      "  self.df = self.df.append(row, ignore_index=True)\n",
      "[Succeeded / Failed / Skipped / Total] 12 / 106 / 1 / 119:  24%|████▉                | 119/500 [01:29<04:45,  1.33it/s]"
     ]
    },
    {
     "name": "stdout",
     "output_type": "stream",
     "text": [
      "--------------------------------------------- Result 119 ---------------------------------------------\n",
      "[[1 (100%)]] --> [[[FAILED]]]\n",
      "\n",
      "WELL DONE! Your 4* Costa Del Sol Holiday or £5000 await collection. Call 09050090044 Now toClaim. SAE, TCs, POBox334, Stockport, SK38xh, Cost£1.50/pm, Max10mins\n",
      "\n",
      "\n"
     ]
    },
    {
     "name": "stderr",
     "output_type": "stream",
     "text": [
      "C:\\Users\\DELL\\anaconda3\\envs\\ta\\lib\\site-packages\\textattack\\loggers\\csv_logger.py:41: FutureWarning: The frame.append method is deprecated and will be removed from pandas in a future version. Use pandas.concat instead.\n",
      "  self.df = self.df.append(row, ignore_index=True)\n",
      "[Succeeded / Failed / Skipped / Total] 12 / 107 / 1 / 120:  24%|█████                | 121/500 [01:29<04:41,  1.35it/s]C:\\Users\\DELL\\anaconda3\\envs\\ta\\lib\\site-packages\\textattack\\loggers\\csv_logger.py:41: FutureWarning: The frame.append method is deprecated and will be removed from pandas in a future version. Use pandas.concat instead.\n",
      "  self.df = self.df.append(row, ignore_index=True)\n",
      "[Succeeded / Failed / Skipped / Total] 12 / 108 / 1 / 121:  24%|█████                | 121/500 [01:29<04:41,  1.35it/s]"
     ]
    },
    {
     "name": "stdout",
     "output_type": "stream",
     "text": [
      "--------------------------------------------- Result 120 ---------------------------------------------\n",
      "[[0 (100%)]] --> [[[FAILED]]]\n",
      "\n",
      "They finally came to fix the ceiling.\n",
      "\n",
      "\n",
      "--------------------------------------------- Result 121 ---------------------------------------------\n",
      "[[0 (100%)]] --> [[[FAILED]]]\n",
      "\n",
      "Nah can't help you there, I've never had an iphone\n",
      "\n",
      "\n"
     ]
    },
    {
     "name": "stderr",
     "output_type": "stream",
     "text": [
      "C:\\Users\\DELL\\anaconda3\\envs\\ta\\lib\\site-packages\\textattack\\loggers\\csv_logger.py:41: FutureWarning: The frame.append method is deprecated and will be removed from pandas in a future version. Use pandas.concat instead.\n",
      "  self.df = self.df.append(row, ignore_index=True)\n",
      "\r",
      "[Succeeded / Failed / Skipped / Total] 12 / 109 / 1 / 122:  24%|█████                | 122/500 [01:30<04:39,  1.35it/s]"
     ]
    },
    {
     "name": "stdout",
     "output_type": "stream",
     "text": [
      "--------------------------------------------- Result 122 ---------------------------------------------\n",
      "[[0 (100%)]] --> [[[FAILED]]]\n",
      "\n",
      "K:)all the best:)congrats...\n",
      "\n",
      "\n"
     ]
    },
    {
     "name": "stderr",
     "output_type": "stream",
     "text": [
      "[Succeeded / Failed / Skipped / Total] 12 / 109 / 1 / 122:  25%|█████▏               | 123/500 [01:30<04:37,  1.36it/s]C:\\Users\\DELL\\anaconda3\\envs\\ta\\lib\\site-packages\\textattack\\loggers\\csv_logger.py:41: FutureWarning: The frame.append method is deprecated and will be removed from pandas in a future version. Use pandas.concat instead.\n",
      "  self.df = self.df.append(row, ignore_index=True)\n",
      "[Succeeded / Failed / Skipped / Total] 12 / 110 / 1 / 123:  25%|█████▏               | 123/500 [01:30<04:38,  1.36it/s]"
     ]
    },
    {
     "name": "stdout",
     "output_type": "stream",
     "text": [
      "--------------------------------------------- Result 123 ---------------------------------------------\n",
      "[[0 (100%)]] --> [[[FAILED]]]\n",
      "\n",
      "U call me alter at 11 ok.\n",
      "\n",
      "\n"
     ]
    },
    {
     "name": "stderr",
     "output_type": "stream",
     "text": [
      "C:\\Users\\DELL\\anaconda3\\envs\\ta\\lib\\site-packages\\textattack\\loggers\\csv_logger.py:41: FutureWarning: The frame.append method is deprecated and will be removed from pandas in a future version. Use pandas.concat instead.\n",
      "  self.df = self.df.append(row, ignore_index=True)\n",
      "\r",
      "[Succeeded / Failed / Skipped / Total] 12 / 111 / 1 / 124:  25%|█████▏               | 124/500 [01:31<04:38,  1.35it/s]"
     ]
    },
    {
     "name": "stdout",
     "output_type": "stream",
     "text": [
      "--------------------------------------------- Result 124 ---------------------------------------------\n",
      "[[0 (100%)]] --> [[[FAILED]]]\n",
      "\n",
      "I'm outside islands, head towards hard rock and you'll run into me\n",
      "\n",
      "\n"
     ]
    },
    {
     "name": "stderr",
     "output_type": "stream",
     "text": [
      "[Succeeded / Failed / Skipped / Total] 12 / 111 / 1 / 124:  25%|█████▎               | 125/500 [01:32<04:38,  1.35it/s]C:\\Users\\DELL\\anaconda3\\envs\\ta\\lib\\site-packages\\textattack\\loggers\\csv_logger.py:41: FutureWarning: The frame.append method is deprecated and will be removed from pandas in a future version. Use pandas.concat instead.\n",
      "  self.df = self.df.append(row, ignore_index=True)\n",
      "[Succeeded / Failed / Skipped / Total] 12 / 112 / 1 / 125:  25%|█████▎               | 125/500 [01:32<04:38,  1.35it/s]"
     ]
    },
    {
     "name": "stdout",
     "output_type": "stream",
     "text": [
      "--------------------------------------------- Result 125 ---------------------------------------------\n",
      "[[1 (100%)]] --> [[[FAILED]]]\n",
      "\n",
      "Free entry to the gr8prizes wkly comp 4 a chance to win the latest Nokia 8800, PSP or £250 cash every wk.TXT GREAT to 80878 http//www.gr8prizes.com 08715705022\n",
      "\n",
      "\n"
     ]
    },
    {
     "name": "stderr",
     "output_type": "stream",
     "text": [
      "C:\\Users\\DELL\\anaconda3\\envs\\ta\\lib\\site-packages\\textattack\\loggers\\csv_logger.py:41: FutureWarning: The frame.append method is deprecated and will be removed from pandas in a future version. Use pandas.concat instead.\n",
      "  self.df = self.df.append(row, ignore_index=True)\n",
      "\r",
      "[Succeeded / Failed / Skipped / Total] 12 / 113 / 1 / 126:  25%|█████▎               | 126/500 [01:33<04:36,  1.35it/s]"
     ]
    },
    {
     "name": "stdout",
     "output_type": "stream",
     "text": [
      "--------------------------------------------- Result 126 ---------------------------------------------\n",
      "[[0 (100%)]] --> [[[FAILED]]]\n",
      "\n",
      "Hope you are having a great day.\n",
      "\n",
      "\n"
     ]
    },
    {
     "name": "stderr",
     "output_type": "stream",
     "text": [
      "[Succeeded / Failed / Skipped / Total] 12 / 113 / 1 / 126:  25%|█████▎               | 127/500 [01:33<04:35,  1.35it/s]C:\\Users\\DELL\\anaconda3\\envs\\ta\\lib\\site-packages\\textattack\\loggers\\csv_logger.py:41: FutureWarning: The frame.append method is deprecated and will be removed from pandas in a future version. Use pandas.concat instead.\n",
      "  self.df = self.df.append(row, ignore_index=True)\n",
      "[Succeeded / Failed / Skipped / Total] 12 / 114 / 1 / 127:  25%|█████▎               | 127/500 [01:33<04:35,  1.35it/s]"
     ]
    },
    {
     "name": "stdout",
     "output_type": "stream",
     "text": [
      "--------------------------------------------- Result 127 ---------------------------------------------\n",
      "[[0 (100%)]] --> [[[FAILED]]]\n",
      "\n",
      "Its like that hotel dusk game i think. You solve puzzles in a area thing\n",
      "\n",
      "\n"
     ]
    },
    {
     "name": "stderr",
     "output_type": "stream",
     "text": [
      "C:\\Users\\DELL\\anaconda3\\envs\\ta\\lib\\site-packages\\textattack\\loggers\\csv_logger.py:41: FutureWarning: The frame.append method is deprecated and will be removed from pandas in a future version. Use pandas.concat instead.\n",
      "  self.df = self.df.append(row, ignore_index=True)\n",
      "\r",
      "[Succeeded / Failed / Skipped / Total] 12 / 115 / 1 / 128:  26%|█████▍               | 128/500 [01:36<04:40,  1.33it/s]"
     ]
    },
    {
     "name": "stdout",
     "output_type": "stream",
     "text": [
      "--------------------------------------------- Result 128 ---------------------------------------------\n",
      "[[0 (100%)]] --> [[[FAILED]]]\n",
      "\n",
      "Heart is empty without love.. Mind is empty without wisdom.. Eyes r empty without dreams &amp; Life is empty without frnds.. So Alwys Be In Touch. Good night &amp; sweet dreams\n",
      "\n",
      "\n"
     ]
    },
    {
     "name": "stderr",
     "output_type": "stream",
     "text": [
      "[Succeeded / Failed / Skipped / Total] 12 / 115 / 1 / 128:  26%|█████▍               | 129/500 [01:37<04:39,  1.33it/s]C:\\Users\\DELL\\anaconda3\\envs\\ta\\lib\\site-packages\\textattack\\loggers\\csv_logger.py:41: FutureWarning: The frame.append method is deprecated and will be removed from pandas in a future version. Use pandas.concat instead.\n",
      "  self.df = self.df.append(row, ignore_index=True)\n",
      "[Succeeded / Failed / Skipped / Total] 13 / 115 / 1 / 129:  26%|█████▍               | 129/500 [01:37<04:39,  1.33it/s]"
     ]
    },
    {
     "name": "stdout",
     "output_type": "stream",
     "text": [
      "--------------------------------------------- Result 129 ---------------------------------------------\n",
      "[[0 (100%)]] --> [[1 (89%)]]\n",
      "\n",
      "[[I]] [[cant]] [[pick]] the phone [[right]] now. Pls send a message\n",
      "\n",
      "[[iodine]] [[buzzword]] [[option]] the phone [[powerful]] now. Pls send a message\n",
      "\n",
      "\n"
     ]
    },
    {
     "name": "stderr",
     "output_type": "stream",
     "text": [
      "C:\\Users\\DELL\\anaconda3\\envs\\ta\\lib\\site-packages\\textattack\\loggers\\csv_logger.py:41: FutureWarning: The frame.append method is deprecated and will be removed from pandas in a future version. Use pandas.concat instead.\n",
      "  self.df = self.df.append(row, ignore_index=True)\n",
      "\r",
      "[Succeeded / Failed / Skipped / Total] 13 / 116 / 1 / 130:  26%|█████▍               | 130/500 [01:38<04:39,  1.32it/s]"
     ]
    },
    {
     "name": "stdout",
     "output_type": "stream",
     "text": [
      "--------------------------------------------- Result 130 ---------------------------------------------\n",
      "[[0 (100%)]] --> [[[FAILED]]]\n",
      "\n",
      "Ok set let u noe e details later...\n",
      "\n",
      "\n"
     ]
    },
    {
     "name": "stderr",
     "output_type": "stream",
     "text": [
      "[Succeeded / Failed / Skipped / Total] 13 / 116 / 1 / 130:  26%|█████▌               | 131/500 [01:39<04:39,  1.32it/s]C:\\Users\\DELL\\anaconda3\\envs\\ta\\lib\\site-packages\\textattack\\loggers\\csv_logger.py:41: FutureWarning: The frame.append method is deprecated and will be removed from pandas in a future version. Use pandas.concat instead.\n",
      "  self.df = self.df.append(row, ignore_index=True)\n",
      "[Succeeded / Failed / Skipped / Total] 14 / 116 / 1 / 131:  26%|█████▌               | 131/500 [01:39<04:39,  1.32it/s]"
     ]
    },
    {
     "name": "stdout",
     "output_type": "stream",
     "text": [
      "--------------------------------------------- Result 131 ---------------------------------------------\n",
      "[[0 (100%)]] --> [[1 (82%)]]\n",
      "\n",
      "Awww dat is [[sweet]]! We can [[think]] of something to do he he! [[Have]] a [[nice]] time tonight [[ill]] [[probably]] txt u [[later]] [[cos]] im lonely :( xxx.\n",
      "\n",
      "Awww dat is [[sweet-flavored]]! We can [[recollect]] of something to do he he! [[feature]] a [[decent]] time tonight [[complaint]] [[plausibly]] txt u [[previous]] [[cobalt]] im lonely :( xxx.\n",
      "\n",
      "\n"
     ]
    },
    {
     "name": "stderr",
     "output_type": "stream",
     "text": [
      "C:\\Users\\DELL\\anaconda3\\envs\\ta\\lib\\site-packages\\textattack\\loggers\\csv_logger.py:41: FutureWarning: The frame.append method is deprecated and will be removed from pandas in a future version. Use pandas.concat instead.\n",
      "  self.df = self.df.append(row, ignore_index=True)\n",
      "\r",
      "[Succeeded / Failed / Skipped / Total] 14 / 117 / 1 / 132:  26%|█████▌               | 132/500 [01:39<04:37,  1.33it/s]"
     ]
    },
    {
     "name": "stdout",
     "output_type": "stream",
     "text": [
      "--------------------------------------------- Result 132 ---------------------------------------------\n",
      "[[0 (100%)]] --> [[[FAILED]]]\n",
      "\n",
      "Haha... Really oh no... How? Then will they deduct your lesson tmr?\n",
      "\n",
      "\n"
     ]
    },
    {
     "name": "stderr",
     "output_type": "stream",
     "text": [
      "[Succeeded / Failed / Skipped / Total] 14 / 117 / 1 / 132:  27%|█████▌               | 133/500 [01:39<04:35,  1.33it/s]C:\\Users\\DELL\\anaconda3\\envs\\ta\\lib\\site-packages\\textattack\\loggers\\csv_logger.py:41: FutureWarning: The frame.append method is deprecated and will be removed from pandas in a future version. Use pandas.concat instead.\n",
      "  self.df = self.df.append(row, ignore_index=True)\n",
      "[Succeeded / Failed / Skipped / Total] 14 / 118 / 1 / 133:  27%|█████▌               | 133/500 [01:39<04:35,  1.33it/s]"
     ]
    },
    {
     "name": "stdout",
     "output_type": "stream",
     "text": [
      "--------------------------------------------- Result 133 ---------------------------------------------\n",
      "[[0 (100%)]] --> [[[FAILED]]]\n",
      "\n",
      "I will treasure every moment we spend together...\n",
      "\n",
      "\n"
     ]
    },
    {
     "name": "stderr",
     "output_type": "stream",
     "text": [
      "C:\\Users\\DELL\\anaconda3\\envs\\ta\\lib\\site-packages\\textattack\\loggers\\csv_logger.py:41: FutureWarning: The frame.append method is deprecated and will be removed from pandas in a future version. Use pandas.concat instead.\n",
      "  self.df = self.df.append(row, ignore_index=True)\n",
      "[Succeeded / Failed / Skipped / Total] 14 / 119 / 1 / 134:  27%|█████▋               | 135/500 [01:40<04:31,  1.35it/s]C:\\Users\\DELL\\anaconda3\\envs\\ta\\lib\\site-packages\\textattack\\loggers\\csv_logger.py:41: FutureWarning: The frame.append method is deprecated and will be removed from pandas in a future version. Use pandas.concat instead.\n",
      "  self.df = self.df.append(row, ignore_index=True)\n",
      "[Succeeded / Failed / Skipped / Total] 14 / 120 / 1 / 135:  27%|█████▋               | 135/500 [01:40<04:31,  1.34it/s]"
     ]
    },
    {
     "name": "stdout",
     "output_type": "stream",
     "text": [
      "--------------------------------------------- Result 134 ---------------------------------------------\n",
      "[[0 (100%)]] --> [[[FAILED]]]\n",
      "\n",
      "I'm in town now so i'll jus take mrt down later.\n",
      "\n",
      "\n",
      "--------------------------------------------- Result 135 ---------------------------------------------\n",
      "[[0 (100%)]] --> [[[FAILED]]]\n",
      "\n",
      "Are you this much buzy\n",
      "\n",
      "\n"
     ]
    },
    {
     "name": "stderr",
     "output_type": "stream",
     "text": [
      "C:\\Users\\DELL\\anaconda3\\envs\\ta\\lib\\site-packages\\textattack\\loggers\\csv_logger.py:41: FutureWarning: The frame.append method is deprecated and will be removed from pandas in a future version. Use pandas.concat instead.\n",
      "  self.df = self.df.append(row, ignore_index=True)\n",
      "[Succeeded / Failed / Skipped / Total] 14 / 121 / 1 / 136:  27%|█████▊               | 137/500 [01:40<04:26,  1.36it/s]C:\\Users\\DELL\\anaconda3\\envs\\ta\\lib\\site-packages\\textattack\\loggers\\csv_logger.py:41: FutureWarning: The frame.append method is deprecated and will be removed from pandas in a future version. Use pandas.concat instead.\n",
      "  self.df = self.df.append(row, ignore_index=True)\n",
      "[Succeeded / Failed / Skipped / Total] 14 / 122 / 1 / 137:  27%|█████▊               | 137/500 [01:40<04:26,  1.36it/s]"
     ]
    },
    {
     "name": "stdout",
     "output_type": "stream",
     "text": [
      "--------------------------------------------- Result 136 ---------------------------------------------\n",
      "[[0 (100%)]] --> [[[FAILED]]]\n",
      "\n",
      "Mm i had my food da from out\n",
      "\n",
      "\n",
      "--------------------------------------------- Result 137 ---------------------------------------------\n",
      "[[0 (100%)]] --> [[[FAILED]]]\n",
      "\n",
      "i dnt wnt to tlk wid u\n",
      "\n",
      "\n"
     ]
    },
    {
     "name": "stderr",
     "output_type": "stream",
     "text": [
      "C:\\Users\\DELL\\anaconda3\\envs\\ta\\lib\\site-packages\\textattack\\loggers\\csv_logger.py:41: FutureWarning: The frame.append method is deprecated and will be removed from pandas in a future version. Use pandas.concat instead.\n",
      "  self.df = self.df.append(row, ignore_index=True)\n",
      "[Succeeded / Failed / Skipped / Total] 14 / 123 / 1 / 138:  28%|█████▊               | 139/500 [01:41<04:22,  1.38it/s]"
     ]
    },
    {
     "name": "stdout",
     "output_type": "stream",
     "text": [
      "--------------------------------------------- Result 138 ---------------------------------------------\n",
      "[[0 (100%)]] --> [[[FAILED]]]\n",
      "\n",
      "Cool, text me when you head out\n",
      "\n",
      "\n"
     ]
    },
    {
     "name": "stderr",
     "output_type": "stream",
     "text": [
      "C:\\Users\\DELL\\anaconda3\\envs\\ta\\lib\\site-packages\\textattack\\loggers\\csv_logger.py:41: FutureWarning: The frame.append method is deprecated and will be removed from pandas in a future version. Use pandas.concat instead.\n",
      "  self.df = self.df.append(row, ignore_index=True)\n",
      "\r",
      "[Succeeded / Failed / Skipped / Total] 14 / 124 / 1 / 139:  28%|█████▊               | 139/500 [01:41<04:22,  1.38it/s]"
     ]
    },
    {
     "name": "stdout",
     "output_type": "stream",
     "text": [
      "--------------------------------------------- Result 139 ---------------------------------------------\n",
      "[[0 (100%)]] --> [[[FAILED]]]\n",
      "\n",
      "See you there! \n",
      "\n",
      "\n"
     ]
    },
    {
     "name": "stderr",
     "output_type": "stream",
     "text": [
      "C:\\Users\\DELL\\anaconda3\\envs\\ta\\lib\\site-packages\\textattack\\loggers\\csv_logger.py:41: FutureWarning: The frame.append method is deprecated and will be removed from pandas in a future version. Use pandas.concat instead.\n",
      "  self.df = self.df.append(row, ignore_index=True)\n",
      "\r",
      "[Succeeded / Failed / Skipped / Total] 14 / 125 / 1 / 140:  28%|█████▉               | 140/500 [01:41<04:21,  1.38it/s]"
     ]
    },
    {
     "name": "stdout",
     "output_type": "stream",
     "text": [
      "--------------------------------------------- Result 140 ---------------------------------------------\n",
      "[[0 (100%)]] --> [[[FAILED]]]\n",
      "\n",
      "My sister cleared two round in birla soft yesterday.\n",
      "\n",
      "\n"
     ]
    },
    {
     "name": "stderr",
     "output_type": "stream",
     "text": [
      "[Succeeded / Failed / Skipped / Total] 14 / 125 / 1 / 140:  28%|█████▉               | 141/500 [01:42<04:20,  1.38it/s]C:\\Users\\DELL\\anaconda3\\envs\\ta\\lib\\site-packages\\textattack\\loggers\\csv_logger.py:41: FutureWarning: The frame.append method is deprecated and will be removed from pandas in a future version. Use pandas.concat instead.\n",
      "  self.df = self.df.append(row, ignore_index=True)\n",
      "[Succeeded / Failed / Skipped / Total] 14 / 126 / 1 / 141:  28%|█████▉               | 141/500 [01:42<04:20,  1.38it/s]"
     ]
    },
    {
     "name": "stdout",
     "output_type": "stream",
     "text": [
      "--------------------------------------------- Result 141 ---------------------------------------------\n",
      "[[0 (100%)]] --> [[[FAILED]]]\n",
      "\n",
      " what number do u live at? Is it 11?\n",
      "\n",
      "\n"
     ]
    },
    {
     "name": "stderr",
     "output_type": "stream",
     "text": [
      "C:\\Users\\DELL\\anaconda3\\envs\\ta\\lib\\site-packages\\textattack\\loggers\\csv_logger.py:41: FutureWarning: The frame.append method is deprecated and will be removed from pandas in a future version. Use pandas.concat instead.\n",
      "  self.df = self.df.append(row, ignore_index=True)\n",
      "\r",
      "[Succeeded / Failed / Skipped / Total] 15 / 126 / 1 / 142:  28%|█████▉               | 142/500 [01:42<04:19,  1.38it/s]"
     ]
    },
    {
     "name": "stdout",
     "output_type": "stream",
     "text": [
      "--------------------------------------------- Result 142 ---------------------------------------------\n",
      "[[0 (100%)]] --> [[1 (76%)]]\n",
      "\n",
      "[[Wait]] 2 min..[[stand]] at [[bus]] [[stop]]\n",
      "\n",
      "[[postponement]] 2 min..[[tie-up]] at [[double-decker]] [[stoppage]]\n",
      "\n",
      "\n"
     ]
    },
    {
     "name": "stderr",
     "output_type": "stream",
     "text": [
      "[Succeeded / Failed / Skipped / Total] 15 / 126 / 1 / 142:  29%|██████               | 143/500 [01:45<04:22,  1.36it/s]C:\\Users\\DELL\\anaconda3\\envs\\ta\\lib\\site-packages\\textattack\\loggers\\csv_logger.py:41: FutureWarning: The frame.append method is deprecated and will be removed from pandas in a future version. Use pandas.concat instead.\n",
      "  self.df = self.df.append(row, ignore_index=True)\n",
      "[Succeeded / Failed / Skipped / Total] 15 / 127 / 1 / 143:  29%|██████               | 143/500 [01:45<04:22,  1.36it/s]"
     ]
    },
    {
     "name": "stdout",
     "output_type": "stream",
     "text": [
      "--------------------------------------------- Result 143 ---------------------------------------------\n",
      "[[1 (100%)]] --> [[[FAILED]]]\n",
      "\n",
      "Urgent Urgent! We have 800 FREE flights to Europe to give away, call B4 10th Sept & take a friend 4 FREE. Call now to claim on 09050000555. BA128NNFWFLY150ppm\n",
      "\n",
      "\n"
     ]
    },
    {
     "name": "stderr",
     "output_type": "stream",
     "text": [
      "C:\\Users\\DELL\\anaconda3\\envs\\ta\\lib\\site-packages\\textattack\\loggers\\csv_logger.py:41: FutureWarning: The frame.append method is deprecated and will be removed from pandas in a future version. Use pandas.concat instead.\n",
      "  self.df = self.df.append(row, ignore_index=True)\n",
      "\r",
      "[Succeeded / Failed / Skipped / Total] 15 / 128 / 1 / 144:  29%|██████               | 144/500 [01:45<04:20,  1.36it/s]"
     ]
    },
    {
     "name": "stdout",
     "output_type": "stream",
     "text": [
      "--------------------------------------------- Result 144 ---------------------------------------------\n",
      "[[0 (100%)]] --> [[[FAILED]]]\n",
      "\n",
      "As usual u can call me ard 10 smth.\n",
      "\n",
      "\n"
     ]
    },
    {
     "name": "stderr",
     "output_type": "stream",
     "text": [
      "[Succeeded / Failed / Skipped / Total] 15 / 128 / 1 / 144:  29%|██████               | 145/500 [01:45<04:19,  1.37it/s]C:\\Users\\DELL\\anaconda3\\envs\\ta\\lib\\site-packages\\textattack\\loggers\\csv_logger.py:41: FutureWarning: The frame.append method is deprecated and will be removed from pandas in a future version. Use pandas.concat instead.\n",
      "  self.df = self.df.append(row, ignore_index=True)\n",
      "[Succeeded / Failed / Skipped / Total] 15 / 129 / 1 / 145:  29%|██████               | 145/500 [01:45<04:19,  1.37it/s]"
     ]
    },
    {
     "name": "stdout",
     "output_type": "stream",
     "text": [
      "--------------------------------------------- Result 145 ---------------------------------------------\n",
      "[[0 (100%)]] --> [[[FAILED]]]\n",
      "\n",
      "Yes see ya not on the dot\n",
      "\n",
      "\n"
     ]
    },
    {
     "name": "stderr",
     "output_type": "stream",
     "text": [
      "C:\\Users\\DELL\\anaconda3\\envs\\ta\\lib\\site-packages\\textattack\\loggers\\csv_logger.py:41: FutureWarning: The frame.append method is deprecated and will be removed from pandas in a future version. Use pandas.concat instead.\n",
      "  self.df = self.df.append(row, ignore_index=True)\n",
      "\r",
      "[Succeeded / Failed / Skipped / Total] 15 / 130 / 1 / 146:  29%|██████▏              | 146/500 [01:46<04:18,  1.37it/s]"
     ]
    },
    {
     "name": "stdout",
     "output_type": "stream",
     "text": [
      "--------------------------------------------- Result 146 ---------------------------------------------\n",
      "[[1 (100%)]] --> [[[FAILED]]]\n",
      "\n",
      "For ur chance to win a £250 wkly shopping spree TXT: SHOP to 80878. T's&C's www.txt-2-shop.com custcare 08715705022, 1x150p/wk\n",
      "\n",
      "\n"
     ]
    },
    {
     "name": "stderr",
     "output_type": "stream",
     "text": [
      "[Succeeded / Failed / Skipped / Total] 15 / 130 / 1 / 146:  29%|██████▏              | 147/500 [01:46<04:16,  1.38it/s]C:\\Users\\DELL\\anaconda3\\envs\\ta\\lib\\site-packages\\textattack\\loggers\\csv_logger.py:41: FutureWarning: The frame.append method is deprecated and will be removed from pandas in a future version. Use pandas.concat instead.\n",
      "  self.df = self.df.append(row, ignore_index=True)\n",
      "[Succeeded / Failed / Skipped / Total] 15 / 131 / 1 / 147:  29%|██████▏              | 147/500 [01:46<04:16,  1.38it/s]"
     ]
    },
    {
     "name": "stdout",
     "output_type": "stream",
     "text": [
      "--------------------------------------------- Result 147 ---------------------------------------------\n",
      "[[0 (100%)]] --> [[[FAILED]]]\n",
      "\n",
      "Thanx 4 e brownie it's v nice...\n",
      "\n",
      "\n"
     ]
    },
    {
     "name": "stderr",
     "output_type": "stream",
     "text": [
      "C:\\Users\\DELL\\anaconda3\\envs\\ta\\lib\\site-packages\\textattack\\loggers\\csv_logger.py:41: FutureWarning: The frame.append method is deprecated and will be removed from pandas in a future version. Use pandas.concat instead.\n",
      "  self.df = self.df.append(row, ignore_index=True)\n",
      "\r",
      "[Succeeded / Failed / Skipped / Total] 15 / 132 / 1 / 148:  30%|██████▏              | 148/500 [01:47<04:15,  1.38it/s]"
     ]
    },
    {
     "name": "stdout",
     "output_type": "stream",
     "text": [
      "--------------------------------------------- Result 148 ---------------------------------------------\n",
      "[[0 (100%)]] --> [[[FAILED]]]\n",
      "\n",
      "No I'm good for the movie, is it ok if I leave in an hourish?\n",
      "\n",
      "\n"
     ]
    },
    {
     "name": "stderr",
     "output_type": "stream",
     "text": [
      "[Succeeded / Failed / Skipped / Total] 15 / 132 / 1 / 148:  30%|██████▎              | 149/500 [01:48<04:15,  1.38it/s]C:\\Users\\DELL\\anaconda3\\envs\\ta\\lib\\site-packages\\textattack\\loggers\\csv_logger.py:41: FutureWarning: The frame.append method is deprecated and will be removed from pandas in a future version. Use pandas.concat instead.\n",
      "  self.df = self.df.append(row, ignore_index=True)\n",
      "[Succeeded / Failed / Skipped / Total] 15 / 133 / 1 / 149:  30%|██████▎              | 149/500 [01:48<04:15,  1.38it/s]"
     ]
    },
    {
     "name": "stdout",
     "output_type": "stream",
     "text": [
      "--------------------------------------------- Result 149 ---------------------------------------------\n",
      "[[0 (100%)]] --> [[[FAILED]]]\n",
      "\n",
      "S...from the training manual it show there is no tech process:)its all about password reset and troubleshooting:)\n",
      "\n",
      "\n"
     ]
    },
    {
     "name": "stderr",
     "output_type": "stream",
     "text": [
      "C:\\Users\\DELL\\anaconda3\\envs\\ta\\lib\\site-packages\\textattack\\loggers\\csv_logger.py:41: FutureWarning: The frame.append method is deprecated and will be removed from pandas in a future version. Use pandas.concat instead.\n",
      "  self.df = self.df.append(row, ignore_index=True)\n",
      "[Succeeded / Failed / Skipped / Total] 15 / 134 / 1 / 150:  30%|██████▎              | 151/500 [01:49<04:12,  1.38it/s]C:\\Users\\DELL\\anaconda3\\envs\\ta\\lib\\site-packages\\textattack\\loggers\\csv_logger.py:41: FutureWarning: The frame.append method is deprecated and will be removed from pandas in a future version. Use pandas.concat instead.\n",
      "  self.df = self.df.append(row, ignore_index=True)\n",
      "[Succeeded / Failed / Skipped / Total] 15 / 135 / 1 / 151:  30%|██████▎              | 151/500 [01:49<04:12,  1.38it/s]"
     ]
    },
    {
     "name": "stdout",
     "output_type": "stream",
     "text": [
      "--------------------------------------------- Result 150 ---------------------------------------------\n",
      "[[1 (100%)]] --> [[[FAILED]]]\n",
      "\n",
      "URGENT! Your mobile No 077xxx WON a £2,000 Bonus Caller Prize on 02/06/03! This is the 2nd attempt to reach YOU! Call 09066362206 ASAP! BOX97N7QP, 150ppm\n",
      "\n",
      "\n",
      "--------------------------------------------- Result 151 ---------------------------------------------\n",
      "[[0 (100%)]] --> [[[FAILED]]]\n",
      "\n",
      "What year. And how many miles.\n",
      "\n",
      "\n"
     ]
    },
    {
     "name": "stderr",
     "output_type": "stream",
     "text": [
      "C:\\Users\\DELL\\anaconda3\\envs\\ta\\lib\\site-packages\\textattack\\loggers\\csv_logger.py:41: FutureWarning: The frame.append method is deprecated and will be removed from pandas in a future version. Use pandas.concat instead.\n",
      "  self.df = self.df.append(row, ignore_index=True)\n",
      "\r",
      "[Succeeded / Failed / Skipped / Total] 15 / 136 / 1 / 152:  30%|██████▍              | 152/500 [01:50<04:12,  1.38it/s]"
     ]
    },
    {
     "name": "stdout",
     "output_type": "stream",
     "text": [
      "--------------------------------------------- Result 152 ---------------------------------------------\n",
      "[[0 (100%)]] --> [[[FAILED]]]\n",
      "\n",
      "I know complain num only..bettr directly go to bsnl offc nd apply for it..\n",
      "\n",
      "\n"
     ]
    },
    {
     "name": "stderr",
     "output_type": "stream",
     "text": [
      "[Succeeded / Failed / Skipped / Total] 15 / 136 / 1 / 152:  31%|██████▍              | 153/500 [01:51<04:13,  1.37it/s]C:\\Users\\DELL\\anaconda3\\envs\\ta\\lib\\site-packages\\textattack\\loggers\\csv_logger.py:41: FutureWarning: The frame.append method is deprecated and will be removed from pandas in a future version. Use pandas.concat instead.\n",
      "  self.df = self.df.append(row, ignore_index=True)\n",
      "[Succeeded / Failed / Skipped / Total] 15 / 137 / 1 / 153:  31%|██████▍              | 153/500 [01:51<04:13,  1.37it/s]"
     ]
    },
    {
     "name": "stdout",
     "output_type": "stream",
     "text": [
      "--------------------------------------------- Result 153 ---------------------------------------------\n",
      "[[1 (100%)]] --> [[[FAILED]]]\n",
      "\n",
      "You have won a guaranteed £200 award or even £1000 cashto claim UR award call free on 08000407165 (18+) 2 stop getstop on 88222 PHP\n",
      "\n",
      "\n"
     ]
    },
    {
     "name": "stderr",
     "output_type": "stream",
     "text": [
      "C:\\Users\\DELL\\anaconda3\\envs\\ta\\lib\\site-packages\\textattack\\loggers\\csv_logger.py:41: FutureWarning: The frame.append method is deprecated and will be removed from pandas in a future version. Use pandas.concat instead.\n",
      "  self.df = self.df.append(row, ignore_index=True)\n",
      "\r",
      "[Succeeded / Failed / Skipped / Total] 15 / 138 / 1 / 154:  31%|██████▍              | 154/500 [01:52<04:12,  1.37it/s]"
     ]
    },
    {
     "name": "stdout",
     "output_type": "stream",
     "text": [
      "--------------------------------------------- Result 154 ---------------------------------------------\n",
      "[[0 (100%)]] --> [[[FAILED]]]\n",
      "\n",
      "You still around? I could use a half-8th\n",
      "\n",
      "\n"
     ]
    },
    {
     "name": "stderr",
     "output_type": "stream",
     "text": [
      "[Succeeded / Failed / Skipped / Total] 15 / 138 / 1 / 154:  31%|██████▌              | 155/500 [01:54<04:14,  1.36it/s]C:\\Users\\DELL\\anaconda3\\envs\\ta\\lib\\site-packages\\textattack\\loggers\\csv_logger.py:41: FutureWarning: The frame.append method is deprecated and will be removed from pandas in a future version. Use pandas.concat instead.\n",
      "  self.df = self.df.append(row, ignore_index=True)\n",
      "[Succeeded / Failed / Skipped / Total] 15 / 139 / 1 / 155:  31%|██████▌              | 155/500 [01:54<04:14,  1.36it/s]"
     ]
    },
    {
     "name": "stdout",
     "output_type": "stream",
     "text": [
      "--------------------------------------------- Result 155 ---------------------------------------------\n",
      "[[0 (100%)]] --> [[[FAILED]]]\n",
      "\n",
      "Mark works tomorrow. He gets out at 5. His work is by your house so he can meet u afterwards.\n",
      "\n",
      "\n"
     ]
    },
    {
     "name": "stderr",
     "output_type": "stream",
     "text": [
      "C:\\Users\\DELL\\anaconda3\\envs\\ta\\lib\\site-packages\\textattack\\loggers\\csv_logger.py:41: FutureWarning: The frame.append method is deprecated and will be removed from pandas in a future version. Use pandas.concat instead.\n",
      "  self.df = self.df.append(row, ignore_index=True)\n",
      "[Succeeded / Failed / Skipped / Total] 15 / 140 / 1 / 156:  31%|██████▌              | 157/500 [01:55<04:12,  1.36it/s]C:\\Users\\DELL\\anaconda3\\envs\\ta\\lib\\site-packages\\textattack\\loggers\\csv_logger.py:41: FutureWarning: The frame.append method is deprecated and will be removed from pandas in a future version. Use pandas.concat instead.\n",
      "  self.df = self.df.append(row, ignore_index=True)\n",
      "[Succeeded / Failed / Skipped / Total] 15 / 141 / 1 / 157:  31%|██████▌              | 157/500 [01:55<04:12,  1.36it/s]"
     ]
    },
    {
     "name": "stdout",
     "output_type": "stream",
     "text": [
      "--------------------------------------------- Result 156 ---------------------------------------------\n",
      "[[0 (100%)]] --> [[[FAILED]]]\n",
      "\n",
      "Or better still can you catch her and let ask her if she can sell  &lt;#&gt;  for me.\n",
      "\n",
      "\n",
      "--------------------------------------------- Result 157 ---------------------------------------------\n",
      "[[0 (100%)]] --> [[[FAILED]]]\n",
      "\n",
      "I fetch yun or u fetch?\n",
      "\n",
      "\n"
     ]
    },
    {
     "name": "stderr",
     "output_type": "stream",
     "text": [
      "C:\\Users\\DELL\\anaconda3\\envs\\ta\\lib\\site-packages\\textattack\\loggers\\csv_logger.py:41: FutureWarning: The frame.append method is deprecated and will be removed from pandas in a future version. Use pandas.concat instead.\n",
      "  self.df = self.df.append(row, ignore_index=True)\n",
      "\r",
      "[Succeeded / Failed / Skipped / Total] 15 / 142 / 1 / 158:  32%|██████▋              | 158/500 [01:56<04:12,  1.35it/s]"
     ]
    },
    {
     "name": "stdout",
     "output_type": "stream",
     "text": [
      "--------------------------------------------- Result 158 ---------------------------------------------\n",
      "[[0 (100%)]] --> [[[FAILED]]]\n",
      "\n",
      "I'm in school now n i'll be in da lab doing some stuff give me a call when ü r done.\n",
      "\n",
      "\n"
     ]
    },
    {
     "name": "stderr",
     "output_type": "stream",
     "text": [
      "[Succeeded / Failed / Skipped / Total] 15 / 142 / 1 / 158:  32%|██████▋              | 159/500 [01:57<04:11,  1.36it/s]C:\\Users\\DELL\\anaconda3\\envs\\ta\\lib\\site-packages\\textattack\\loggers\\csv_logger.py:41: FutureWarning: The frame.append method is deprecated and will be removed from pandas in a future version. Use pandas.concat instead.\n",
      "  self.df = self.df.append(row, ignore_index=True)\n",
      "[Succeeded / Failed / Skipped / Total] 15 / 143 / 1 / 159:  32%|██████▋              | 159/500 [01:57<04:11,  1.36it/s]"
     ]
    },
    {
     "name": "stdout",
     "output_type": "stream",
     "text": [
      "--------------------------------------------- Result 159 ---------------------------------------------\n",
      "[[1 (100%)]] --> [[[FAILED]]]\n",
      "\n",
      "<Forwarded from 448712404000>Please CALL 08712404000 immediately as there is an urgent message waiting for you.\n",
      "\n",
      "\n"
     ]
    },
    {
     "name": "stderr",
     "output_type": "stream",
     "text": [
      "C:\\Users\\DELL\\anaconda3\\envs\\ta\\lib\\site-packages\\textattack\\loggers\\csv_logger.py:41: FutureWarning: The frame.append method is deprecated and will be removed from pandas in a future version. Use pandas.concat instead.\n",
      "  self.df = self.df.append(row, ignore_index=True)\n",
      "\r",
      "[Succeeded / Failed / Skipped / Total] 15 / 144 / 1 / 160:  32%|██████▋              | 160/500 [01:58<04:11,  1.35it/s]"
     ]
    },
    {
     "name": "stdout",
     "output_type": "stream",
     "text": [
      "--------------------------------------------- Result 160 ---------------------------------------------\n",
      "[[0 (100%)]] --> [[[FAILED]]]\n",
      "\n",
      "Hi, wlcome back, did wonder if you got eaten by a lion or something, nothing much\n",
      "\n",
      "\n"
     ]
    },
    {
     "name": "stderr",
     "output_type": "stream",
     "text": [
      "[Succeeded / Failed / Skipped / Total] 15 / 144 / 1 / 160:  32%|██████▊              | 161/500 [01:58<04:10,  1.35it/s]C:\\Users\\DELL\\anaconda3\\envs\\ta\\lib\\site-packages\\textattack\\loggers\\csv_logger.py:41: FutureWarning: The frame.append method is deprecated and will be removed from pandas in a future version. Use pandas.concat instead.\n",
      "  self.df = self.df.append(row, ignore_index=True)\n",
      "[Succeeded / Failed / Skipped / Total] 15 / 145 / 1 / 161:  32%|██████▊              | 161/500 [01:58<04:10,  1.35it/s]C:\\Users\\DELL\\anaconda3\\envs\\ta\\lib\\site-packages\\textattack\\loggers\\csv_logger.py:41: FutureWarning: The frame.append method is deprecated and will be removed from pandas in a future version. Use pandas.concat instead.\n",
      "  self.df = self.df.append(row, ignore_index=True)\n",
      "[Succeeded / Failed / Skipped / Total] 15 / 146 / 1 / 162:  32%|██████▊              | 162/500 [01:59<04:08,  1.36it/s]"
     ]
    },
    {
     "name": "stdout",
     "output_type": "stream",
     "text": [
      "--------------------------------------------- Result 161 ---------------------------------------------\n",
      "[[0 (100%)]] --> [[[FAILED]]]\n",
      "\n",
      "Carlos'll be here in a minute if you still need to buy\n",
      "\n",
      "\n",
      "--------------------------------------------- Result 162 ---------------------------------------------\n",
      "[[0 (100%)]] --> [[[FAILED]]]\n",
      "\n",
      "Ok..\n",
      "\n",
      "\n"
     ]
    },
    {
     "name": "stderr",
     "output_type": "stream",
     "text": [
      "[Succeeded / Failed / Skipped / Total] 15 / 146 / 1 / 162:  33%|██████▊              | 163/500 [01:59<04:08,  1.36it/s]C:\\Users\\DELL\\anaconda3\\envs\\ta\\lib\\site-packages\\textattack\\loggers\\csv_logger.py:41: FutureWarning: The frame.append method is deprecated and will be removed from pandas in a future version. Use pandas.concat instead.\n",
      "  self.df = self.df.append(row, ignore_index=True)\n",
      "[Succeeded / Failed / Skipped / Total] 15 / 147 / 1 / 163:  33%|██████▊              | 163/500 [01:59<04:08,  1.36it/s]"
     ]
    },
    {
     "name": "stdout",
     "output_type": "stream",
     "text": [
      "--------------------------------------------- Result 163 ---------------------------------------------\n",
      "[[0 (100%)]] --> [[[FAILED]]]\n",
      "\n",
      "And that's fine, I got enough bud to last most of the night at least\n",
      "\n",
      "\n"
     ]
    },
    {
     "name": "stderr",
     "output_type": "stream",
     "text": [
      "C:\\Users\\DELL\\anaconda3\\envs\\ta\\lib\\site-packages\\textattack\\loggers\\csv_logger.py:41: FutureWarning: The frame.append method is deprecated and will be removed from pandas in a future version. Use pandas.concat instead.\n",
      "  self.df = self.df.append(row, ignore_index=True)\n",
      "\r",
      "[Succeeded / Failed / Skipped / Total] 15 / 148 / 1 / 164:  33%|██████▉              | 164/500 [02:00<04:06,  1.36it/s]"
     ]
    },
    {
     "name": "stdout",
     "output_type": "stream",
     "text": [
      "--------------------------------------------- Result 164 ---------------------------------------------\n",
      "[[0 (100%)]] --> [[[FAILED]]]\n",
      "\n",
      "Do you hide anythiing or keeping distance from me\n",
      "\n",
      "\n"
     ]
    },
    {
     "name": "stderr",
     "output_type": "stream",
     "text": [
      "[Succeeded / Failed / Skipped / Total] 15 / 148 / 1 / 164:  33%|██████▉              | 165/500 [02:01<04:05,  1.36it/s]C:\\Users\\DELL\\anaconda3\\envs\\ta\\lib\\site-packages\\textattack\\loggers\\csv_logger.py:41: FutureWarning: The frame.append method is deprecated and will be removed from pandas in a future version. Use pandas.concat instead.\n",
      "  self.df = self.df.append(row, ignore_index=True)\n",
      "[Succeeded / Failed / Skipped / Total] 15 / 149 / 1 / 165:  33%|██████▉              | 165/500 [02:01<04:05,  1.36it/s]"
     ]
    },
    {
     "name": "stdout",
     "output_type": "stream",
     "text": [
      "--------------------------------------------- Result 165 ---------------------------------------------\n",
      "[[0 (100%)]] --> [[[FAILED]]]\n",
      "\n",
      "Ok then i'll let him noe later n ask him call u tmr...\n",
      "\n",
      "\n"
     ]
    },
    {
     "name": "stderr",
     "output_type": "stream",
     "text": [
      "C:\\Users\\DELL\\anaconda3\\envs\\ta\\lib\\site-packages\\textattack\\loggers\\csv_logger.py:41: FutureWarning: The frame.append method is deprecated and will be removed from pandas in a future version. Use pandas.concat instead.\n",
      "  self.df = self.df.append(row, ignore_index=True)\n",
      "\r",
      "[Succeeded / Failed / Skipped / Total] 15 / 150 / 1 / 166:  33%|██████▉              | 166/500 [02:01<04:05,  1.36it/s]"
     ]
    },
    {
     "name": "stdout",
     "output_type": "stream",
     "text": [
      "--------------------------------------------- Result 166 ---------------------------------------------\n",
      "[[1 (100%)]] --> [[[FAILED]]]\n",
      "\n",
      "You are a winner U have been specially selected 2 receive £1000 cash or a 4* holiday (flights inc) speak to a live operator 2 claim 0871277810810\n",
      "\n",
      "\n"
     ]
    },
    {
     "name": "stderr",
     "output_type": "stream",
     "text": [
      "[Succeeded / Failed / Skipped / Total] 15 / 150 / 1 / 166:  33%|███████              | 167/500 [02:02<04:04,  1.36it/s]C:\\Users\\DELL\\anaconda3\\envs\\ta\\lib\\site-packages\\textattack\\loggers\\csv_logger.py:41: FutureWarning: The frame.append method is deprecated and will be removed from pandas in a future version. Use pandas.concat instead.\n",
      "  self.df = self.df.append(row, ignore_index=True)\n",
      "[Succeeded / Failed / Skipped / Total] 15 / 151 / 1 / 167:  33%|███████              | 167/500 [02:02<04:04,  1.36it/s]"
     ]
    },
    {
     "name": "stdout",
     "output_type": "stream",
     "text": [
      "--------------------------------------------- Result 167 ---------------------------------------------\n",
      "[[0 (100%)]] --> [[[FAILED]]]\n",
      "\n",
      "But we havent got da topic yet rite?\n",
      "\n",
      "\n"
     ]
    },
    {
     "name": "stderr",
     "output_type": "stream",
     "text": [
      "C:\\Users\\DELL\\anaconda3\\envs\\ta\\lib\\site-packages\\textattack\\loggers\\csv_logger.py:41: FutureWarning: The frame.append method is deprecated and will be removed from pandas in a future version. Use pandas.concat instead.\n",
      "  self.df = self.df.append(row, ignore_index=True)\n",
      "\r",
      "[Succeeded / Failed / Skipped / Total] 15 / 152 / 1 / 168:  34%|███████              | 168/500 [02:03<04:04,  1.36it/s]"
     ]
    },
    {
     "name": "stdout",
     "output_type": "stream",
     "text": [
      "--------------------------------------------- Result 168 ---------------------------------------------\n",
      "[[1 (100%)]] --> [[[FAILED]]]\n",
      "\n",
      "* FREE* POLYPHONIC RINGTONE Text SUPER to 87131 to get your FREE POLY TONE of the week now! 16 SN PoBox202 NR31 7ZS subscription 450pw\n",
      "\n",
      "\n"
     ]
    },
    {
     "name": "stderr",
     "output_type": "stream",
     "text": [
      "[Succeeded / Failed / Skipped / Total] 15 / 152 / 1 / 168:  34%|███████              | 169/500 [02:04<04:02,  1.36it/s]C:\\Users\\DELL\\anaconda3\\envs\\ta\\lib\\site-packages\\textattack\\loggers\\csv_logger.py:41: FutureWarning: The frame.append method is deprecated and will be removed from pandas in a future version. Use pandas.concat instead.\n",
      "  self.df = self.df.append(row, ignore_index=True)\n",
      "[Succeeded / Failed / Skipped / Total] 15 / 153 / 1 / 169:  34%|███████              | 169/500 [02:04<04:03,  1.36it/s]"
     ]
    },
    {
     "name": "stdout",
     "output_type": "stream",
     "text": [
      "--------------------------------------------- Result 169 ---------------------------------------------\n",
      "[[0 (100%)]] --> [[[FAILED]]]\n",
      "\n",
      "Tell where you reached\n",
      "\n",
      "\n"
     ]
    },
    {
     "name": "stderr",
     "output_type": "stream",
     "text": [
      "C:\\Users\\DELL\\anaconda3\\envs\\ta\\lib\\site-packages\\textattack\\loggers\\csv_logger.py:41: FutureWarning: The frame.append method is deprecated and will be removed from pandas in a future version. Use pandas.concat instead.\n",
      "  self.df = self.df.append(row, ignore_index=True)\n",
      "\r",
      "[Succeeded / Failed / Skipped / Total] 15 / 154 / 1 / 170:  34%|███████▏             | 170/500 [02:04<04:02,  1.36it/s]"
     ]
    },
    {
     "name": "stdout",
     "output_type": "stream",
     "text": [
      "--------------------------------------------- Result 170 ---------------------------------------------\n",
      "[[0 (100%)]] --> [[[FAILED]]]\n",
      "\n",
      "I am in hospital da. . I will return home in evening\n",
      "\n",
      "\n"
     ]
    },
    {
     "name": "stderr",
     "output_type": "stream",
     "text": [
      "[Succeeded / Failed / Skipped / Total] 15 / 154 / 1 / 170:  34%|███████▏             | 171/500 [02:05<04:00,  1.37it/s]C:\\Users\\DELL\\anaconda3\\envs\\ta\\lib\\site-packages\\textattack\\loggers\\csv_logger.py:41: FutureWarning: The frame.append method is deprecated and will be removed from pandas in a future version. Use pandas.concat instead.\n",
      "  self.df = self.df.append(row, ignore_index=True)\n",
      "[Succeeded / Failed / Skipped / Total] 15 / 155 / 1 / 171:  34%|███████▏             | 171/500 [02:05<04:00,  1.37it/s]"
     ]
    },
    {
     "name": "stdout",
     "output_type": "stream",
     "text": [
      "--------------------------------------------- Result 171 ---------------------------------------------\n",
      "[[0 (100%)]] --> [[[FAILED]]]\n",
      "\n",
      "Also remember the beads don't come off. Ever.\n",
      "\n",
      "\n"
     ]
    },
    {
     "name": "stderr",
     "output_type": "stream",
     "text": [
      "C:\\Users\\DELL\\anaconda3\\envs\\ta\\lib\\site-packages\\textattack\\loggers\\csv_logger.py:41: FutureWarning: The frame.append method is deprecated and will be removed from pandas in a future version. Use pandas.concat instead.\n",
      "  self.df = self.df.append(row, ignore_index=True)\n",
      "\r",
      "[Succeeded / Failed / Skipped / Total] 15 / 156 / 1 / 172:  34%|███████▏             | 172/500 [02:05<03:59,  1.37it/s]"
     ]
    },
    {
     "name": "stdout",
     "output_type": "stream",
     "text": [
      "--------------------------------------------- Result 172 ---------------------------------------------\n",
      "[[0 (100%)]] --> [[[FAILED]]]\n",
      "\n",
      "I wanna watch that movie\n",
      "\n",
      "\n"
     ]
    },
    {
     "name": "stderr",
     "output_type": "stream",
     "text": [
      "[Succeeded / Failed / Skipped / Total] 15 / 156 / 1 / 172:  35%|███████▎             | 173/500 [02:05<03:57,  1.37it/s]C:\\Users\\DELL\\anaconda3\\envs\\ta\\lib\\site-packages\\textattack\\loggers\\csv_logger.py:41: FutureWarning: The frame.append method is deprecated and will be removed from pandas in a future version. Use pandas.concat instead.\n",
      "  self.df = self.df.append(row, ignore_index=True)\n",
      "[Succeeded / Failed / Skipped / Total] 15 / 157 / 1 / 173:  35%|███████▎             | 173/500 [02:05<03:57,  1.37it/s]C:\\Users\\DELL\\anaconda3\\envs\\ta\\lib\\site-packages\\textattack\\loggers\\csv_logger.py:41: FutureWarning: The frame.append method is deprecated and will be removed from pandas in a future version. Use pandas.concat instead.\n",
      "  self.df = self.df.append(row, ignore_index=True)\n",
      "[Succeeded / Failed / Skipped / Total] 15 / 158 / 1 / 174:  35%|███████▎             | 174/500 [02:05<03:55,  1.38it/s]"
     ]
    },
    {
     "name": "stdout",
     "output_type": "stream",
     "text": [
      "--------------------------------------------- Result 173 ---------------------------------------------\n",
      "[[0 (100%)]] --> [[[FAILED]]]\n",
      "\n",
      "Nothing much, chillin at home. Any super bowl plan?\n",
      "\n",
      "\n",
      "--------------------------------------------- Result 174 ---------------------------------------------\n",
      "[[0 (100%)]] --> [[[FAILED]]]\n",
      "\n",
      "Yup\n",
      "\n",
      "\n"
     ]
    },
    {
     "name": "stderr",
     "output_type": "stream",
     "text": [
      "[Succeeded / Failed / Skipped / Total] 15 / 158 / 1 / 174:  35%|███████▎             | 175/500 [02:06<03:54,  1.39it/s]C:\\Users\\DELL\\anaconda3\\envs\\ta\\lib\\site-packages\\textattack\\loggers\\csv_logger.py:41: FutureWarning: The frame.append method is deprecated and will be removed from pandas in a future version. Use pandas.concat instead.\n",
      "  self.df = self.df.append(row, ignore_index=True)\n",
      "[Succeeded / Failed / Skipped / Total] 15 / 159 / 1 / 175:  35%|███████▎             | 175/500 [02:06<03:54,  1.39it/s]"
     ]
    },
    {
     "name": "stdout",
     "output_type": "stream",
     "text": [
      "--------------------------------------------- Result 175 ---------------------------------------------\n",
      "[[0 (100%)]] --> [[[FAILED]]]\n",
      "\n",
      "LOL .. *grins* .. I'm not babe, but thanks for thinking of me!\n",
      "\n",
      "\n"
     ]
    },
    {
     "name": "stderr",
     "output_type": "stream",
     "text": [
      "C:\\Users\\DELL\\anaconda3\\envs\\ta\\lib\\site-packages\\textattack\\loggers\\csv_logger.py:41: FutureWarning: The frame.append method is deprecated and will be removed from pandas in a future version. Use pandas.concat instead.\n",
      "  self.df = self.df.append(row, ignore_index=True)\n",
      "\r",
      "[Succeeded / Failed / Skipped / Total] 15 / 160 / 1 / 176:  35%|███████▍             | 176/500 [02:07<03:53,  1.38it/s]"
     ]
    },
    {
     "name": "stdout",
     "output_type": "stream",
     "text": [
      "--------------------------------------------- Result 176 ---------------------------------------------\n",
      "[[0 (100%)]] --> [[[FAILED]]]\n",
      "\n",
      "Happy new year to u and ur family...may this new year bring happiness , stability and tranquility to ur vibrant colourful life:):)\n",
      "\n",
      "\n"
     ]
    },
    {
     "name": "stderr",
     "output_type": "stream",
     "text": [
      "[Succeeded / Failed / Skipped / Total] 15 / 160 / 1 / 176:  35%|███████▍             | 177/500 [02:08<03:55,  1.37it/s]C:\\Users\\DELL\\anaconda3\\envs\\ta\\lib\\site-packages\\textattack\\loggers\\csv_logger.py:41: FutureWarning: The frame.append method is deprecated and will be removed from pandas in a future version. Use pandas.concat instead.\n",
      "  self.df = self.df.append(row, ignore_index=True)\n",
      "[Succeeded / Failed / Skipped / Total] 15 / 161 / 1 / 177:  35%|███████▍             | 177/500 [02:08<03:55,  1.37it/s]"
     ]
    },
    {
     "name": "stdout",
     "output_type": "stream",
     "text": [
      "--------------------------------------------- Result 177 ---------------------------------------------\n",
      "[[0 (100%)]] --> [[[FAILED]]]\n",
      "\n",
      "I jus reached home. I go bathe first. But my sis using net tell u when she finishes k...\n",
      "\n",
      "\n"
     ]
    },
    {
     "name": "stderr",
     "output_type": "stream",
     "text": [
      "C:\\Users\\DELL\\anaconda3\\envs\\ta\\lib\\site-packages\\textattack\\loggers\\csv_logger.py:41: FutureWarning: The frame.append method is deprecated and will be removed from pandas in a future version. Use pandas.concat instead.\n",
      "  self.df = self.df.append(row, ignore_index=True)\n",
      "[Succeeded / Failed / Skipped / Total] 15 / 162 / 1 / 178:  36%|███████▌             | 179/500 [02:11<03:55,  1.37it/s]C:\\Users\\DELL\\anaconda3\\envs\\ta\\lib\\site-packages\\textattack\\loggers\\csv_logger.py:41: FutureWarning: The frame.append method is deprecated and will be removed from pandas in a future version. Use pandas.concat instead.\n",
      "  self.df = self.df.append(row, ignore_index=True)\n",
      "[Succeeded / Failed / Skipped / Total] 15 / 163 / 1 / 179:  36%|███████▌             | 179/500 [02:11<03:55,  1.37it/s]"
     ]
    },
    {
     "name": "stdout",
     "output_type": "stream",
     "text": [
      "--------------------------------------------- Result 178 ---------------------------------------------\n",
      "[[0 (100%)]] --> [[[FAILED]]]\n",
      "\n",
      "Nothing but we jus tot u would ask cos u ba gua... But we went mt faber yest... Yest jus went out already mah so today not going out... Jus call lor...\n",
      "\n",
      "\n",
      "--------------------------------------------- Result 179 ---------------------------------------------\n",
      "[[0 (100%)]] --> [[[FAILED]]]\n",
      "\n",
      "Ok lor...\n",
      "\n",
      "\n"
     ]
    },
    {
     "name": "stderr",
     "output_type": "stream",
     "text": [
      "C:\\Users\\DELL\\anaconda3\\envs\\ta\\lib\\site-packages\\textattack\\loggers\\csv_logger.py:41: FutureWarning: The frame.append method is deprecated and will be removed from pandas in a future version. Use pandas.concat instead.\n",
      "  self.df = self.df.append(row, ignore_index=True)\n",
      "\r",
      "[Succeeded / Failed / Skipped / Total] 15 / 164 / 1 / 180:  36%|███████▌             | 180/500 [02:12<03:55,  1.36it/s]"
     ]
    },
    {
     "name": "stdout",
     "output_type": "stream",
     "text": [
      "--------------------------------------------- Result 180 ---------------------------------------------\n",
      "[[0 (100%)]] --> [[[FAILED]]]\n",
      "\n",
      "1.20 that call cost. Which i guess isnt bad. Miss ya, need ya, want ya, love ya\n",
      "\n",
      "\n"
     ]
    },
    {
     "name": "stderr",
     "output_type": "stream",
     "text": [
      "[Succeeded / Failed / Skipped / Total] 15 / 164 / 1 / 180:  36%|███████▌             | 181/500 [02:13<03:55,  1.35it/s]C:\\Users\\DELL\\anaconda3\\envs\\ta\\lib\\site-packages\\textattack\\loggers\\csv_logger.py:41: FutureWarning: The frame.append method is deprecated and will be removed from pandas in a future version. Use pandas.concat instead.\n",
      "  self.df = self.df.append(row, ignore_index=True)\n",
      "[Succeeded / Failed / Skipped / Total] 16 / 164 / 1 / 181:  36%|███████▌             | 181/500 [02:13<03:55,  1.35it/s]"
     ]
    },
    {
     "name": "stdout",
     "output_type": "stream",
     "text": [
      "--------------------------------------------- Result 181 ---------------------------------------------\n",
      "[[1 (100%)]] --> [[0 (56%)]]\n",
      "\n",
      "[[Get]] a [[brand]] new [[mobile]] phone by being an agent of The Mob! [[Plus]] [[loads]] more [[goodies]]! For more info just [[text]] [[MAT]] to 87021.\n",
      "\n",
      "[[develop]] a [[stigmatize]] new [[fluid]] phone by being an agent of The Mob! [[positive]] [[lade]] more [[goody]]! For more info just [[textbook]] [[flatness]] to 87021.\n",
      "\n",
      "\n"
     ]
    },
    {
     "name": "stderr",
     "output_type": "stream",
     "text": [
      "C:\\Users\\DELL\\anaconda3\\envs\\ta\\lib\\site-packages\\textattack\\loggers\\csv_logger.py:41: FutureWarning: The frame.append method is deprecated and will be removed from pandas in a future version. Use pandas.concat instead.\n",
      "  self.df = self.df.append(row, ignore_index=True)\n",
      "[Succeeded / Failed / Skipped / Total] 17 / 164 / 1 / 182:  37%|███████▋             | 183/500 [02:14<03:52,  1.36it/s]C:\\Users\\DELL\\anaconda3\\envs\\ta\\lib\\site-packages\\textattack\\loggers\\csv_logger.py:41: FutureWarning: The frame.append method is deprecated and will be removed from pandas in a future version. Use pandas.concat instead.\n",
      "  self.df = self.df.append(row, ignore_index=True)\n",
      "[Succeeded / Failed / Skipped / Total] 17 / 164 / 2 / 183:  37%|███████▋             | 183/500 [02:14<03:52,  1.36it/s]C:\\Users\\DELL\\anaconda3\\envs\\ta\\lib\\site-packages\\textattack\\loggers\\csv_logger.py:41: FutureWarning: The frame.append method is deprecated and will be removed from pandas in a future version. Use pandas.concat instead.\n",
      "  self.df = self.df.append(row, ignore_index=True)\n",
      "[Succeeded / Failed / Skipped / Total] 17 / 165 / 2 / 184:  37%|███████▋             | 184/500 [02:14<03:50,  1.37it/s]"
     ]
    },
    {
     "name": "stdout",
     "output_type": "stream",
     "text": [
      "--------------------------------------------- Result 182 ---------------------------------------------\n",
      "[[1 (100%)]] --> [[0 (59%)]]\n",
      "\n",
      "important information [[4]] [[orange]] [[user]] . today is your lucky day!2find out why log onto http://www.urawinner.com THERE'S [[A]] FANTASTIC [[SURPRISE]] AWAITING YOU!\n",
      "\n",
      "important information [[quatern]] [[orangish]] [[exploiter]] . today is your lucky day!2find out why log onto http://www.urawinner.com THERE'S [[axerophthol]] FANTASTIC [[surprisal]] AWAITING YOU!\n",
      "\n",
      "\n",
      "--------------------------------------------- Result 183 ---------------------------------------------\n",
      "[[1 (99%)]] --> [[[SKIPPED]]]\n",
      "\n",
      "They have a thread on the wishlist section of the forums where ppl post nitro requests. Start from the last page and collect from the bottom up.\n",
      "\n",
      "\n",
      "--------------------------------------------- Result 184 ---------------------------------------------\n",
      "[[0 (100%)]] --> [[[FAILED]]]\n",
      "\n",
      "how tall are you princess?\n",
      "\n",
      "\n"
     ]
    },
    {
     "name": "stderr",
     "output_type": "stream",
     "text": [
      "[Succeeded / Failed / Skipped / Total] 17 / 165 / 2 / 184:  37%|███████▊             | 185/500 [02:14<03:49,  1.38it/s]C:\\Users\\DELL\\anaconda3\\envs\\ta\\lib\\site-packages\\textattack\\loggers\\csv_logger.py:41: FutureWarning: The frame.append method is deprecated and will be removed from pandas in a future version. Use pandas.concat instead.\n",
      "  self.df = self.df.append(row, ignore_index=True)\n",
      "[Succeeded / Failed / Skipped / Total] 17 / 166 / 2 / 185:  37%|███████▊             | 185/500 [02:14<03:49,  1.38it/s]"
     ]
    },
    {
     "name": "stdout",
     "output_type": "stream",
     "text": [
      "--------------------------------------------- Result 185 ---------------------------------------------\n",
      "[[0 (100%)]] --> [[[FAILED]]]\n",
      "\n",
      "Yupz... I've oredi booked slots 4 my weekends liao... \n",
      "\n",
      "\n"
     ]
    },
    {
     "name": "stderr",
     "output_type": "stream",
     "text": [
      "C:\\Users\\DELL\\anaconda3\\envs\\ta\\lib\\site-packages\\textattack\\loggers\\csv_logger.py:41: FutureWarning: The frame.append method is deprecated and will be removed from pandas in a future version. Use pandas.concat instead.\n",
      "  self.df = self.df.append(row, ignore_index=True)\n",
      "\r",
      "[Succeeded / Failed / Skipped / Total] 17 / 167 / 2 / 186:  37%|███████▊             | 186/500 [02:14<03:47,  1.38it/s]"
     ]
    },
    {
     "name": "stdout",
     "output_type": "stream",
     "text": [
      "--------------------------------------------- Result 186 ---------------------------------------------\n",
      "[[0 (100%)]] --> [[[FAILED]]]\n",
      "\n",
      "Check with nuerologist.\n",
      "\n",
      "\n"
     ]
    },
    {
     "name": "stderr",
     "output_type": "stream",
     "text": [
      "[Succeeded / Failed / Skipped / Total] 17 / 167 / 2 / 186:  37%|███████▊             | 187/500 [02:15<03:46,  1.38it/s]C:\\Users\\DELL\\anaconda3\\envs\\ta\\lib\\site-packages\\textattack\\loggers\\csv_logger.py:41: FutureWarning: The frame.append method is deprecated and will be removed from pandas in a future version. Use pandas.concat instead.\n",
      "  self.df = self.df.append(row, ignore_index=True)\n",
      "[Succeeded / Failed / Skipped / Total] 17 / 168 / 2 / 187:  37%|███████▊             | 187/500 [02:15<03:46,  1.38it/s]C:\\Users\\DELL\\anaconda3\\envs\\ta\\lib\\site-packages\\textattack\\loggers\\csv_logger.py:41: FutureWarning: The frame.append method is deprecated and will be removed from pandas in a future version. Use pandas.concat instead.\n",
      "  self.df = self.df.append(row, ignore_index=True)\n",
      "[Succeeded / Failed / Skipped / Total] 17 / 169 / 2 / 188:  38%|███████▉             | 188/500 [02:15<03:44,  1.39it/s]"
     ]
    },
    {
     "name": "stdout",
     "output_type": "stream",
     "text": [
      "--------------------------------------------- Result 187 ---------------------------------------------\n",
      "[[0 (100%)]] --> [[[FAILED]]]\n",
      "\n",
      "Honey boo I'm missing u.\n",
      "\n",
      "\n",
      "--------------------------------------------- Result 188 ---------------------------------------------\n",
      "[[0 (100%)]] --> [[[FAILED]]]\n",
      "\n",
      "We still on for tonight?\n",
      "\n",
      "\n"
     ]
    },
    {
     "name": "stderr",
     "output_type": "stream",
     "text": [
      "[Succeeded / Failed / Skipped / Total] 17 / 169 / 2 / 188:  38%|███████▉             | 189/500 [02:17<03:45,  1.38it/s]C:\\Users\\DELL\\anaconda3\\envs\\ta\\lib\\site-packages\\textattack\\loggers\\csv_logger.py:41: FutureWarning: The frame.append method is deprecated and will be removed from pandas in a future version. Use pandas.concat instead.\n",
      "  self.df = self.df.append(row, ignore_index=True)\n",
      "[Succeeded / Failed / Skipped / Total] 17 / 170 / 2 / 189:  38%|███████▉             | 189/500 [02:17<03:45,  1.38it/s]C:\\Users\\DELL\\anaconda3\\envs\\ta\\lib\\site-packages\\textattack\\loggers\\csv_logger.py:41: FutureWarning: The frame.append method is deprecated and will be removed from pandas in a future version. Use pandas.concat instead.\n",
      "  self.df = self.df.append(row, ignore_index=True)\n",
      "[Succeeded / Failed / Skipped / Total] 17 / 171 / 2 / 190:  38%|███████▉             | 190/500 [02:17<03:43,  1.38it/s]"
     ]
    },
    {
     "name": "stdout",
     "output_type": "stream",
     "text": [
      "--------------------------------------------- Result 189 ---------------------------------------------\n",
      "[[0 (100%)]] --> [[[FAILED]]]\n",
      "\n",
      "Hi the way I was with u 2day, is the normal way&this is the real me. UR unique&I hope I know u 4 the rest of mylife. Hope u find wot was lost.\n",
      "\n",
      "\n",
      "--------------------------------------------- Result 190 ---------------------------------------------\n",
      "[[0 (100%)]] --> [[[FAILED]]]\n",
      "\n",
      "Gibbs unsold.mike hussey\n",
      "\n",
      "\n"
     ]
    },
    {
     "name": "stderr",
     "output_type": "stream",
     "text": [
      "[Succeeded / Failed / Skipped / Total] 17 / 171 / 2 / 190:  38%|████████             | 191/500 [02:17<03:42,  1.39it/s]C:\\Users\\DELL\\anaconda3\\envs\\ta\\lib\\site-packages\\textattack\\loggers\\csv_logger.py:41: FutureWarning: The frame.append method is deprecated and will be removed from pandas in a future version. Use pandas.concat instead.\n",
      "  self.df = self.df.append(row, ignore_index=True)\n",
      "[Succeeded / Failed / Skipped / Total] 17 / 172 / 2 / 191:  38%|████████             | 191/500 [02:17<03:42,  1.39it/s]"
     ]
    },
    {
     "name": "stdout",
     "output_type": "stream",
     "text": [
      "--------------------------------------------- Result 191 ---------------------------------------------\n",
      "[[0 (100%)]] --> [[[FAILED]]]\n",
      "\n",
      "What time should I tell my friend to be around?\n",
      "\n",
      "\n"
     ]
    },
    {
     "name": "stderr",
     "output_type": "stream",
     "text": [
      "C:\\Users\\DELL\\anaconda3\\envs\\ta\\lib\\site-packages\\textattack\\loggers\\csv_logger.py:41: FutureWarning: The frame.append method is deprecated and will be removed from pandas in a future version. Use pandas.concat instead.\n",
      "  self.df = self.df.append(row, ignore_index=True)\n",
      "\r",
      "[Succeeded / Failed / Skipped / Total] 17 / 173 / 2 / 192:  38%|████████             | 192/500 [02:18<03:42,  1.38it/s]"
     ]
    },
    {
     "name": "stdout",
     "output_type": "stream",
     "text": [
      "--------------------------------------------- Result 192 ---------------------------------------------\n",
      "[[0 (100%)]] --> [[[FAILED]]]\n",
      "\n",
      "Joy's father is John. Then John is the ____ of Joy's father. If u ans ths you hav  &lt;#&gt;  IQ. Tis s IAS question try to answer.\n",
      "\n",
      "\n"
     ]
    },
    {
     "name": "stderr",
     "output_type": "stream",
     "text": [
      "[Succeeded / Failed / Skipped / Total] 17 / 173 / 2 / 192:  39%|████████             | 193/500 [02:20<03:42,  1.38it/s]C:\\Users\\DELL\\anaconda3\\envs\\ta\\lib\\site-packages\\textattack\\loggers\\csv_logger.py:41: FutureWarning: The frame.append method is deprecated and will be removed from pandas in a future version. Use pandas.concat instead.\n",
      "  self.df = self.df.append(row, ignore_index=True)\n",
      "[Succeeded / Failed / Skipped / Total] 17 / 174 / 2 / 193:  39%|████████             | 193/500 [02:20<03:42,  1.38it/s]"
     ]
    },
    {
     "name": "stdout",
     "output_type": "stream",
     "text": [
      "--------------------------------------------- Result 193 ---------------------------------------------\n",
      "[[0 (100%)]] --> [[[FAILED]]]\n",
      "\n",
      "Bill, as in: Are there any letters for me. i’m expecting one from orange that isn’t a bill but may still say orange on it.\n",
      "\n",
      "\n"
     ]
    },
    {
     "name": "stderr",
     "output_type": "stream",
     "text": [
      "C:\\Users\\DELL\\anaconda3\\envs\\ta\\lib\\site-packages\\textattack\\loggers\\csv_logger.py:41: FutureWarning: The frame.append method is deprecated and will be removed from pandas in a future version. Use pandas.concat instead.\n",
      "  self.df = self.df.append(row, ignore_index=True)\n",
      "\r",
      "[Succeeded / Failed / Skipped / Total] 17 / 175 / 2 / 194:  39%|████████▏            | 194/500 [02:20<03:41,  1.38it/s]"
     ]
    },
    {
     "name": "stdout",
     "output_type": "stream",
     "text": [
      "--------------------------------------------- Result 194 ---------------------------------------------\n",
      "[[0 (100%)]] --> [[[FAILED]]]\n",
      "\n",
      "Alrite jod hows the revision goin? Keris bin doin a smidgin. N e way u wanna cum over after college?xx\n",
      "\n",
      "\n"
     ]
    },
    {
     "name": "stderr",
     "output_type": "stream",
     "text": [
      "[Succeeded / Failed / Skipped / Total] 17 / 175 / 2 / 194:  39%|████████▏            | 195/500 [02:22<03:42,  1.37it/s]C:\\Users\\DELL\\anaconda3\\envs\\ta\\lib\\site-packages\\textattack\\loggers\\csv_logger.py:41: FutureWarning: The frame.append method is deprecated and will be removed from pandas in a future version. Use pandas.concat instead.\n",
      "  self.df = self.df.append(row, ignore_index=True)\n",
      "[Succeeded / Failed / Skipped / Total] 17 / 176 / 2 / 195:  39%|████████▏            | 195/500 [02:22<03:42,  1.37it/s]"
     ]
    },
    {
     "name": "stdout",
     "output_type": "stream",
     "text": [
      "--------------------------------------------- Result 195 ---------------------------------------------\n",
      "[[0 (99%)]] --> [[[FAILED]]]\n",
      "\n",
      "You're not sure that I'm not trying to make xavier smoke because I don't want to smoke after being told I smoke too much?\n",
      "\n",
      "\n"
     ]
    },
    {
     "name": "stderr",
     "output_type": "stream",
     "text": [
      "C:\\Users\\DELL\\anaconda3\\envs\\ta\\lib\\site-packages\\textattack\\loggers\\csv_logger.py:41: FutureWarning: The frame.append method is deprecated and will be removed from pandas in a future version. Use pandas.concat instead.\n",
      "  self.df = self.df.append(row, ignore_index=True)\n",
      "\r",
      "[Succeeded / Failed / Skipped / Total] 17 / 177 / 2 / 196:  39%|████████▏            | 196/500 [02:24<03:44,  1.35it/s]"
     ]
    },
    {
     "name": "stdout",
     "output_type": "stream",
     "text": [
      "--------------------------------------------- Result 196 ---------------------------------------------\n",
      "[[0 (100%)]] --> [[[FAILED]]]\n",
      "\n",
      "Thanks again for your reply today. When is ur visa coming in. And r u still buying the gucci and bags. My sister things are not easy, uncle john also has his own bills so i really need to think about how to make my own money. Later sha.\n",
      "\n",
      "\n"
     ]
    },
    {
     "name": "stderr",
     "output_type": "stream",
     "text": [
      "[Succeeded / Failed / Skipped / Total] 17 / 177 / 2 / 196:  39%|████████▎            | 197/500 [02:25<03:43,  1.35it/s]C:\\Users\\DELL\\anaconda3\\envs\\ta\\lib\\site-packages\\textattack\\loggers\\csv_logger.py:41: FutureWarning: The frame.append method is deprecated and will be removed from pandas in a future version. Use pandas.concat instead.\n",
      "  self.df = self.df.append(row, ignore_index=True)\n",
      "[Succeeded / Failed / Skipped / Total] 17 / 178 / 2 / 197:  39%|████████▎            | 197/500 [02:25<03:43,  1.35it/s]"
     ]
    },
    {
     "name": "stdout",
     "output_type": "stream",
     "text": [
      "--------------------------------------------- Result 197 ---------------------------------------------\n",
      "[[0 (100%)]] --> [[[FAILED]]]\n",
      "\n",
      "It could work, we'll reach a consensus at the next meeting\n",
      "\n",
      "\n"
     ]
    },
    {
     "name": "stderr",
     "output_type": "stream",
     "text": [
      "C:\\Users\\DELL\\anaconda3\\envs\\ta\\lib\\site-packages\\textattack\\loggers\\csv_logger.py:41: FutureWarning: The frame.append method is deprecated and will be removed from pandas in a future version. Use pandas.concat instead.\n",
      "  self.df = self.df.append(row, ignore_index=True)\n",
      "\r",
      "[Succeeded / Failed / Skipped / Total] 17 / 179 / 2 / 198:  40%|████████▎            | 198/500 [02:26<03:43,  1.35it/s]"
     ]
    },
    {
     "name": "stdout",
     "output_type": "stream",
     "text": [
      "--------------------------------------------- Result 198 ---------------------------------------------\n",
      "[[0 (100%)]] --> [[[FAILED]]]\n",
      "\n",
      "Yeah like if it goes like it did with my friends imma flip my shit in like half an hour\n",
      "\n",
      "\n"
     ]
    },
    {
     "name": "stderr",
     "output_type": "stream",
     "text": [
      "[Succeeded / Failed / Skipped / Total] 17 / 179 / 2 / 198:  40%|████████▎            | 199/500 [02:27<03:42,  1.35it/s]C:\\Users\\DELL\\anaconda3\\envs\\ta\\lib\\site-packages\\textattack\\loggers\\csv_logger.py:41: FutureWarning: The frame.append method is deprecated and will be removed from pandas in a future version. Use pandas.concat instead.\n",
      "  self.df = self.df.append(row, ignore_index=True)\n",
      "[Succeeded / Failed / Skipped / Total] 17 / 180 / 2 / 199:  40%|████████▎            | 199/500 [02:27<03:42,  1.35it/s]"
     ]
    },
    {
     "name": "stdout",
     "output_type": "stream",
     "text": [
      "--------------------------------------------- Result 199 ---------------------------------------------\n",
      "[[0 (100%)]] --> [[[FAILED]]]\n",
      "\n",
      "Auntie huai juan never pick up her phone\n",
      "\n",
      "\n"
     ]
    },
    {
     "name": "stderr",
     "output_type": "stream",
     "text": [
      "C:\\Users\\DELL\\anaconda3\\envs\\ta\\lib\\site-packages\\textattack\\loggers\\csv_logger.py:41: FutureWarning: The frame.append method is deprecated and will be removed from pandas in a future version. Use pandas.concat instead.\n",
      "  self.df = self.df.append(row, ignore_index=True)\n",
      "\r",
      "[Succeeded / Failed / Skipped / Total] 17 / 181 / 2 / 200:  40%|████████▍            | 200/500 [02:27<03:41,  1.36it/s]"
     ]
    },
    {
     "name": "stdout",
     "output_type": "stream",
     "text": [
      "--------------------------------------------- Result 200 ---------------------------------------------\n",
      "[[0 (100%)]] --> [[[FAILED]]]\n",
      "\n",
      "Lol. Well quality aint bad at all so i aint complaining\n",
      "\n",
      "\n"
     ]
    },
    {
     "name": "stderr",
     "output_type": "stream",
     "text": [
      "[Succeeded / Failed / Skipped / Total] 17 / 181 / 2 / 200:  40%|████████▍            | 201/500 [02:27<03:39,  1.36it/s]C:\\Users\\DELL\\anaconda3\\envs\\ta\\lib\\site-packages\\textattack\\loggers\\csv_logger.py:41: FutureWarning: The frame.append method is deprecated and will be removed from pandas in a future version. Use pandas.concat instead.\n",
      "  self.df = self.df.append(row, ignore_index=True)\n",
      "[Succeeded / Failed / Skipped / Total] 17 / 182 / 2 / 201:  40%|████████▍            | 201/500 [02:27<03:39,  1.36it/s]C:\\Users\\DELL\\anaconda3\\envs\\ta\\lib\\site-packages\\textattack\\loggers\\csv_logger.py:41: FutureWarning: The frame.append method is deprecated and will be removed from pandas in a future version. Use pandas.concat instead.\n",
      "  self.df = self.df.append(row, ignore_index=True)\n",
      "[Succeeded / Failed / Skipped / Total] 17 / 183 / 2 / 202:  40%|████████▍            | 202/500 [02:27<03:38,  1.37it/s]"
     ]
    },
    {
     "name": "stdout",
     "output_type": "stream",
     "text": [
      "--------------------------------------------- Result 201 ---------------------------------------------\n",
      "[[0 (100%)]] --> [[[FAILED]]]\n",
      "\n",
      "Reverse is cheating. That is not mathematics.\n",
      "\n",
      "\n",
      "--------------------------------------------- Result 202 ---------------------------------------------\n",
      "[[0 (100%)]] --> [[[FAILED]]]\n",
      "\n",
      "* Will be september by then!\n",
      "\n",
      "\n"
     ]
    },
    {
     "name": "stderr",
     "output_type": "stream",
     "text": [
      "[Succeeded / Failed / Skipped / Total] 17 / 183 / 2 / 202:  41%|████████▌            | 203/500 [02:29<03:38,  1.36it/s]C:\\Users\\DELL\\anaconda3\\envs\\ta\\lib\\site-packages\\textattack\\loggers\\csv_logger.py:41: FutureWarning: The frame.append method is deprecated and will be removed from pandas in a future version. Use pandas.concat instead.\n",
      "  self.df = self.df.append(row, ignore_index=True)\n",
      "[Succeeded / Failed / Skipped / Total] 17 / 184 / 2 / 203:  41%|████████▌            | 203/500 [02:29<03:38,  1.36it/s]C:\\Users\\DELL\\anaconda3\\envs\\ta\\lib\\site-packages\\textattack\\loggers\\csv_logger.py:41: FutureWarning: The frame.append method is deprecated and will be removed from pandas in a future version. Use pandas.concat instead.\n",
      "  self.df = self.df.append(row, ignore_index=True)\n",
      "[Succeeded / Failed / Skipped / Total] 17 / 185 / 2 / 204:  41%|████████▌            | 204/500 [02:29<03:36,  1.37it/s]"
     ]
    },
    {
     "name": "stdout",
     "output_type": "stream",
     "text": [
      "--------------------------------------------- Result 203 ---------------------------------------------\n",
      "[[0 (100%)]] --> [[[FAILED]]]\n",
      "\n",
      "Oic cos me n my sis got no lunch today my dad went out... So dunno whether 2 eat in sch or wat...\n",
      "\n",
      "\n",
      "--------------------------------------------- Result 204 ---------------------------------------------\n",
      "[[0 (100%)]] --> [[[FAILED]]]\n",
      "\n",
      "Yes, my reg is  Ciao!\n",
      "\n",
      "\n"
     ]
    },
    {
     "name": "stderr",
     "output_type": "stream",
     "text": [
      "[Succeeded / Failed / Skipped / Total] 17 / 185 / 2 / 204:  41%|████████▌            | 205/500 [02:30<03:36,  1.36it/s]C:\\Users\\DELL\\anaconda3\\envs\\ta\\lib\\site-packages\\textattack\\loggers\\csv_logger.py:41: FutureWarning: The frame.append method is deprecated and will be removed from pandas in a future version. Use pandas.concat instead.\n",
      "  self.df = self.df.append(row, ignore_index=True)\n",
      "[Succeeded / Failed / Skipped / Total] 17 / 186 / 2 / 205:  41%|████████▌            | 205/500 [02:30<03:36,  1.36it/s]"
     ]
    },
    {
     "name": "stdout",
     "output_type": "stream",
     "text": [
      "--------------------------------------------- Result 205 ---------------------------------------------\n",
      "[[0 (100%)]] --> [[[FAILED]]]\n",
      "\n",
      "U need my presnts always bcz U cant mis love. \"jeevithathile irulinae neekunna prakasamanu sneham\" prakasam ennal prabha 'That mns prabha is'LOVE' Got it. Dont mis me....\n",
      "\n",
      "\n"
     ]
    },
    {
     "name": "stderr",
     "output_type": "stream",
     "text": [
      "C:\\Users\\DELL\\anaconda3\\envs\\ta\\lib\\site-packages\\textattack\\loggers\\csv_logger.py:41: FutureWarning: The frame.append method is deprecated and will be removed from pandas in a future version. Use pandas.concat instead.\n",
      "  self.df = self.df.append(row, ignore_index=True)\n",
      "\r",
      "[Succeeded / Failed / Skipped / Total] 17 / 187 / 2 / 206:  41%|████████▋            | 206/500 [02:31<03:36,  1.36it/s]"
     ]
    },
    {
     "name": "stdout",
     "output_type": "stream",
     "text": [
      "--------------------------------------------- Result 206 ---------------------------------------------\n",
      "[[0 (100%)]] --> [[[FAILED]]]\n",
      "\n",
      "R U &SAM P IN EACHOTHER. IF WE MEET WE CAN GO 2 MY HOUSE\n",
      "\n",
      "\n"
     ]
    },
    {
     "name": "stderr",
     "output_type": "stream",
     "text": [
      "[Succeeded / Failed / Skipped / Total] 17 / 187 / 2 / 206:  41%|████████▋            | 207/500 [02:32<03:35,  1.36it/s]C:\\Users\\DELL\\anaconda3\\envs\\ta\\lib\\site-packages\\textattack\\loggers\\csv_logger.py:41: FutureWarning: The frame.append method is deprecated and will be removed from pandas in a future version. Use pandas.concat instead.\n",
      "  self.df = self.df.append(row, ignore_index=True)\n",
      "[Succeeded / Failed / Skipped / Total] 17 / 188 / 2 / 207:  41%|████████▋            | 207/500 [02:32<03:35,  1.36it/s]"
     ]
    },
    {
     "name": "stdout",
     "output_type": "stream",
     "text": [
      "--------------------------------------------- Result 207 ---------------------------------------------\n",
      "[[0 (100%)]] --> [[[FAILED]]]\n",
      "\n",
      "Ok lor... Sony ericsson salesman... I ask shuhui then she say quite gd 2 use so i considering...\n",
      "\n",
      "\n"
     ]
    },
    {
     "name": "stderr",
     "output_type": "stream",
     "text": [
      "C:\\Users\\DELL\\anaconda3\\envs\\ta\\lib\\site-packages\\textattack\\loggers\\csv_logger.py:41: FutureWarning: The frame.append method is deprecated and will be removed from pandas in a future version. Use pandas.concat instead.\n",
      "  self.df = self.df.append(row, ignore_index=True)\n",
      "\r",
      "[Succeeded / Failed / Skipped / Total] 17 / 189 / 2 / 208:  42%|████████▋            | 208/500 [02:34<03:36,  1.35it/s]"
     ]
    },
    {
     "name": "stdout",
     "output_type": "stream",
     "text": [
      "--------------------------------------------- Result 208 ---------------------------------------------\n",
      "[[0 (100%)]] --> [[[FAILED]]]\n",
      "\n",
      "And stop wondering \"wow is she ever going to stop tm'ing me ?!\" because I will tm you whenever I want because you are MINE ... *laughs*\n",
      "\n",
      "\n"
     ]
    },
    {
     "name": "stderr",
     "output_type": "stream",
     "text": [
      "[Succeeded / Failed / Skipped / Total] 17 / 189 / 2 / 208:  42%|████████▊            | 209/500 [02:35<03:37,  1.34it/s]C:\\Users\\DELL\\anaconda3\\envs\\ta\\lib\\site-packages\\textattack\\loggers\\csv_logger.py:41: FutureWarning: The frame.append method is deprecated and will be removed from pandas in a future version. Use pandas.concat instead.\n",
      "  self.df = self.df.append(row, ignore_index=True)\n",
      "[Succeeded / Failed / Skipped / Total] 17 / 190 / 2 / 209:  42%|████████▊            | 209/500 [02:35<03:37,  1.34it/s]C:\\Users\\DELL\\anaconda3\\envs\\ta\\lib\\site-packages\\textattack\\loggers\\csv_logger.py:41: FutureWarning: The frame.append method is deprecated and will be removed from pandas in a future version. Use pandas.concat instead.\n",
      "  self.df = self.df.append(row, ignore_index=True)\n",
      "[Succeeded / Failed / Skipped / Total] 17 / 191 / 2 / 210:  42%|████████▊            | 210/500 [02:36<03:35,  1.35it/s]"
     ]
    },
    {
     "name": "stdout",
     "output_type": "stream",
     "text": [
      "--------------------------------------------- Result 209 ---------------------------------------------\n",
      "[[0 (100%)]] --> [[[FAILED]]]\n",
      "\n",
      "One of best dialogue in cute reltnship..!! \"Wen i Die, Dont Come Near My Body..!! Bcoz My Hands May Not Come 2 Wipe Ur Tears Off That Time..!Gud ni8\n",
      "\n",
      "\n",
      "--------------------------------------------- Result 210 ---------------------------------------------\n",
      "[[0 (100%)]] --> [[[FAILED]]]\n",
      "\n",
      "How much did ur hdd casing cost.\n",
      "\n",
      "\n"
     ]
    },
    {
     "name": "stderr",
     "output_type": "stream",
     "text": [
      "[Succeeded / Failed / Skipped / Total] 17 / 191 / 2 / 210:  42%|████████▊            | 211/500 [02:37<03:35,  1.34it/s]C:\\Users\\DELL\\anaconda3\\envs\\ta\\lib\\site-packages\\textattack\\loggers\\csv_logger.py:41: FutureWarning: The frame.append method is deprecated and will be removed from pandas in a future version. Use pandas.concat instead.\n",
      "  self.df = self.df.append(row, ignore_index=True)\n",
      "[Succeeded / Failed / Skipped / Total] 17 / 192 / 2 / 211:  42%|████████▊            | 211/500 [02:37<03:35,  1.34it/s]"
     ]
    },
    {
     "name": "stdout",
     "output_type": "stream",
     "text": [
      "--------------------------------------------- Result 211 ---------------------------------------------\n",
      "[[0 (100%)]] --> [[[FAILED]]]\n",
      "\n",
      "I emailed yifeng my part oredi.. Can ü get it fr him..\n",
      "\n",
      "\n"
     ]
    },
    {
     "name": "stderr",
     "output_type": "stream",
     "text": [
      "C:\\Users\\DELL\\anaconda3\\envs\\ta\\lib\\site-packages\\textattack\\loggers\\csv_logger.py:41: FutureWarning: The frame.append method is deprecated and will be removed from pandas in a future version. Use pandas.concat instead.\n",
      "  self.df = self.df.append(row, ignore_index=True)\n",
      "\r",
      "[Succeeded / Failed / Skipped / Total] 17 / 193 / 2 / 212:  42%|████████▉            | 212/500 [02:38<03:35,  1.34it/s]"
     ]
    },
    {
     "name": "stdout",
     "output_type": "stream",
     "text": [
      "--------------------------------------------- Result 212 ---------------------------------------------\n",
      "[[1 (100%)]] --> [[[FAILED]]]\n",
      "\n",
      "Gr8 Poly tones 4 ALL mobs direct 2u rply with POLY TITLE to 8007 eg POLY BREATHE1 Titles: CRAZYIN, SLEEPINGWITH, FINEST, YMCA :getzed.co.uk POBox365O4W45WQ 300p\n",
      "\n",
      "\n"
     ]
    },
    {
     "name": "stderr",
     "output_type": "stream",
     "text": [
      "[Succeeded / Failed / Skipped / Total] 17 / 193 / 2 / 212:  43%|████████▉            | 213/500 [02:39<03:34,  1.34it/s]C:\\Users\\DELL\\anaconda3\\envs\\ta\\lib\\site-packages\\textattack\\loggers\\csv_logger.py:41: FutureWarning: The frame.append method is deprecated and will be removed from pandas in a future version. Use pandas.concat instead.\n",
      "  self.df = self.df.append(row, ignore_index=True)\n",
      "[Succeeded / Failed / Skipped / Total] 17 / 194 / 2 / 213:  43%|████████▉            | 213/500 [02:39<03:34,  1.34it/s]"
     ]
    },
    {
     "name": "stdout",
     "output_type": "stream",
     "text": [
      "--------------------------------------------- Result 213 ---------------------------------------------\n",
      "[[0 (100%)]] --> [[[FAILED]]]\n",
      "\n",
      "How long does applebees fucking take\n",
      "\n",
      "\n"
     ]
    },
    {
     "name": "stderr",
     "output_type": "stream",
     "text": [
      "C:\\Users\\DELL\\anaconda3\\envs\\ta\\lib\\site-packages\\textattack\\loggers\\csv_logger.py:41: FutureWarning: The frame.append method is deprecated and will be removed from pandas in a future version. Use pandas.concat instead.\n",
      "  self.df = self.df.append(row, ignore_index=True)\n",
      "\r",
      "[Succeeded / Failed / Skipped / Total] 17 / 195 / 2 / 214:  43%|████████▉            | 214/500 [02:39<03:33,  1.34it/s]"
     ]
    },
    {
     "name": "stdout",
     "output_type": "stream",
     "text": [
      "--------------------------------------------- Result 214 ---------------------------------------------\n",
      "[[0 (100%)]] --> [[[FAILED]]]\n",
      "\n",
      "No plm i will come da. On the way.\n",
      "\n",
      "\n"
     ]
    },
    {
     "name": "stderr",
     "output_type": "stream",
     "text": [
      "[Succeeded / Failed / Skipped / Total] 17 / 195 / 2 / 214:  43%|█████████            | 215/500 [02:40<03:32,  1.34it/s]C:\\Users\\DELL\\anaconda3\\envs\\ta\\lib\\site-packages\\textattack\\loggers\\csv_logger.py:41: FutureWarning: The frame.append method is deprecated and will be removed from pandas in a future version. Use pandas.concat instead.\n",
      "  self.df = self.df.append(row, ignore_index=True)\n",
      "[Succeeded / Failed / Skipped / Total] 17 / 196 / 2 / 215:  43%|█████████            | 215/500 [02:40<03:32,  1.34it/s]"
     ]
    },
    {
     "name": "stdout",
     "output_type": "stream",
     "text": [
      "--------------------------------------------- Result 215 ---------------------------------------------\n",
      "[[0 (100%)]] --> [[[FAILED]]]\n",
      "\n",
      "Hey, iouri gave me your number, I'm wylie, ryan's friend\n",
      "\n",
      "\n"
     ]
    },
    {
     "name": "stderr",
     "output_type": "stream",
     "text": [
      "C:\\Users\\DELL\\anaconda3\\envs\\ta\\lib\\site-packages\\textattack\\loggers\\csv_logger.py:41: FutureWarning: The frame.append method is deprecated and will be removed from pandas in a future version. Use pandas.concat instead.\n",
      "  self.df = self.df.append(row, ignore_index=True)\n",
      "[Succeeded / Failed / Skipped / Total] 18 / 196 / 2 / 216:  43%|█████████            | 217/500 [02:42<03:31,  1.34it/s]C:\\Users\\DELL\\anaconda3\\envs\\ta\\lib\\site-packages\\textattack\\loggers\\csv_logger.py:41: FutureWarning: The frame.append method is deprecated and will be removed from pandas in a future version. Use pandas.concat instead.\n",
      "  self.df = self.df.append(row, ignore_index=True)\n",
      "[Succeeded / Failed / Skipped / Total] 18 / 197 / 2 / 217:  43%|█████████            | 217/500 [02:42<03:31,  1.34it/s]"
     ]
    },
    {
     "name": "stdout",
     "output_type": "stream",
     "text": [
      "--------------------------------------------- Result 216 ---------------------------------------------\n",
      "[[1 (100%)]] --> [[0 (80%)]]\n",
      "\n",
      "[[Back]] 2 work 2morro half term over! [[Can]] U C me 2nite [[4]] some [[sexy]] [[passion]] B4 I have 2 go [[back]]? [[Chat]] [[NOW]] 09099726481 Luv DENA [[Calls]] £[[1]]/minMobsmoreLKPOBOX177HP51FL\n",
      "\n",
      "[[hind]] 2 work 2morro half term over! [[tooshie]] U C me 2nite [[quaternion]] some [[aphrodisiacal]] [[cacoethes]] B4 I have 2 go [[rachis]]? [[chaffer]] [[forthwith]] 09099726481 Luv DENA [[hollo]] £[[ane]]/minMobsmoreLKPOBOX177HP51FL\n",
      "\n",
      "\n",
      "--------------------------------------------- Result 217 ---------------------------------------------\n",
      "[[0 (100%)]] --> [[[FAILED]]]\n",
      "\n",
      "I was slept that time.you there?\n",
      "\n",
      "\n"
     ]
    },
    {
     "name": "stderr",
     "output_type": "stream",
     "text": [
      "C:\\Users\\DELL\\anaconda3\\envs\\ta\\lib\\site-packages\\textattack\\loggers\\csv_logger.py:41: FutureWarning: The frame.append method is deprecated and will be removed from pandas in a future version. Use pandas.concat instead.\n",
      "  self.df = self.df.append(row, ignore_index=True)\n",
      "\r",
      "[Succeeded / Failed / Skipped / Total] 18 / 198 / 2 / 218:  44%|█████████▏           | 218/500 [02:43<03:31,  1.34it/s]"
     ]
    },
    {
     "name": "stdout",
     "output_type": "stream",
     "text": [
      "--------------------------------------------- Result 218 ---------------------------------------------\n",
      "[[0 (100%)]] --> [[[FAILED]]]\n",
      "\n",
      "Let me know how to contact you. I've you settled in a room. Lets know you are ok.\n",
      "\n",
      "\n"
     ]
    },
    {
     "name": "stderr",
     "output_type": "stream",
     "text": [
      "[Succeeded / Failed / Skipped / Total] 18 / 198 / 2 / 218:  44%|█████████▏           | 219/500 [02:43<03:30,  1.34it/s]C:\\Users\\DELL\\anaconda3\\envs\\ta\\lib\\site-packages\\textattack\\loggers\\csv_logger.py:41: FutureWarning: The frame.append method is deprecated and will be removed from pandas in a future version. Use pandas.concat instead.\n",
      "  self.df = self.df.append(row, ignore_index=True)\n",
      "[Succeeded / Failed / Skipped / Total] 18 / 199 / 2 / 219:  44%|█████████▏           | 219/500 [02:43<03:30,  1.34it/s]C:\\Users\\DELL\\anaconda3\\envs\\ta\\lib\\site-packages\\textattack\\loggers\\csv_logger.py:41: FutureWarning: The frame.append method is deprecated and will be removed from pandas in a future version. Use pandas.concat instead.\n",
      "  self.df = self.df.append(row, ignore_index=True)\n",
      "[Succeeded / Failed / Skipped / Total] 18 / 200 / 2 / 220:  44%|█████████▎           | 221/500 [02:43<03:26,  1.35it/s]C:\\Users\\DELL\\anaconda3\\envs\\ta\\lib\\site-packages\\textattack\\loggers\\csv_logger.py:41: FutureWarning: The frame.append method is deprecated and will be removed from pandas in a future version. Use pandas.concat instead.\n",
      "  self.df = self.df.append(row, ignore_index=True)\n",
      "[Succeeded / Failed / Skipped / Total] 18 / 201 / 2 / 221:  44%|█████████▎           | 221/500 [02:43<03:26,  1.35it/s]"
     ]
    },
    {
     "name": "stdout",
     "output_type": "stream",
     "text": [
      "--------------------------------------------- Result 219 ---------------------------------------------\n",
      "[[0 (100%)]] --> [[[FAILED]]]\n",
      "\n",
      "If you were/are free i can give. Otherwise nalla adi entey nattil kittum\n",
      "\n",
      "\n",
      "--------------------------------------------- Result 220 ---------------------------------------------\n",
      "[[0 (100%)]] --> [[[FAILED]]]\n",
      "\n",
      "Wat u doing there?\n",
      "\n",
      "\n",
      "--------------------------------------------- Result 221 ---------------------------------------------\n",
      "[[0 (100%)]] --> [[[FAILED]]]\n",
      "\n",
      "No but the bluray player can\n",
      "\n",
      "\n"
     ]
    },
    {
     "name": "stderr",
     "output_type": "stream",
     "text": [
      "C:\\Users\\DELL\\anaconda3\\envs\\ta\\lib\\site-packages\\textattack\\loggers\\csv_logger.py:41: FutureWarning: The frame.append method is deprecated and will be removed from pandas in a future version. Use pandas.concat instead.\n",
      "  self.df = self.df.append(row, ignore_index=True)\n",
      "\r",
      "[Succeeded / Failed / Skipped / Total] 18 / 202 / 2 / 222:  44%|█████████▎           | 222/500 [02:44<03:25,  1.35it/s]"
     ]
    },
    {
     "name": "stdout",
     "output_type": "stream",
     "text": [
      "--------------------------------------------- Result 222 ---------------------------------------------\n",
      "[[0 (100%)]] --> [[[FAILED]]]\n",
      "\n",
      "K I'll be there before 4.\n",
      "\n",
      "\n"
     ]
    },
    {
     "name": "stderr",
     "output_type": "stream",
     "text": [
      "[Succeeded / Failed / Skipped / Total] 18 / 202 / 2 / 222:  45%|█████████▎           | 223/500 [02:46<03:26,  1.34it/s]C:\\Users\\DELL\\anaconda3\\envs\\ta\\lib\\site-packages\\textattack\\loggers\\csv_logger.py:41: FutureWarning: The frame.append method is deprecated and will be removed from pandas in a future version. Use pandas.concat instead.\n",
      "  self.df = self.df.append(row, ignore_index=True)\n",
      "[Succeeded / Failed / Skipped / Total] 18 / 203 / 2 / 223:  45%|█████████▎           | 223/500 [02:46<03:27,  1.34it/s]"
     ]
    },
    {
     "name": "stdout",
     "output_type": "stream",
     "text": [
      "--------------------------------------------- Result 223 ---------------------------------------------\n",
      "[[0 (100%)]] --> [[[FAILED]]]\n",
      "\n",
      "Do you know why god created gap between your fingers..? So that, One who is made for you comes &amp; fills those gaps by holding your hand with LOVE..!\n",
      "\n",
      "\n"
     ]
    },
    {
     "name": "stderr",
     "output_type": "stream",
     "text": [
      "C:\\Users\\DELL\\anaconda3\\envs\\ta\\lib\\site-packages\\textattack\\loggers\\csv_logger.py:41: FutureWarning: The frame.append method is deprecated and will be removed from pandas in a future version. Use pandas.concat instead.\n",
      "  self.df = self.df.append(row, ignore_index=True)\n",
      "[Succeeded / Failed / Skipped / Total] 18 / 204 / 2 / 224:  45%|█████████▍           | 225/500 [02:47<03:24,  1.34it/s]C:\\Users\\DELL\\anaconda3\\envs\\ta\\lib\\site-packages\\textattack\\loggers\\csv_logger.py:41: FutureWarning: The frame.append method is deprecated and will be removed from pandas in a future version. Use pandas.concat instead.\n",
      "  self.df = self.df.append(row, ignore_index=True)\n",
      "[Succeeded / Failed / Skipped / Total] 18 / 205 / 2 / 225:  45%|█████████▍           | 225/500 [02:47<03:24,  1.34it/s]"
     ]
    },
    {
     "name": "stdout",
     "output_type": "stream",
     "text": [
      "--------------------------------------------- Result 224 ---------------------------------------------\n",
      "[[0 (100%)]] --> [[[FAILED]]]\n",
      "\n",
      "Hmmm.... Mayb can try e shoppin area one, but forgot e name of hotel...\n",
      "\n",
      "\n",
      "--------------------------------------------- Result 225 ---------------------------------------------\n",
      "[[0 (100%)]] --> [[[FAILED]]]\n",
      "\n",
      "Siva is in hostel aha:-.\n",
      "\n",
      "\n"
     ]
    },
    {
     "name": "stderr",
     "output_type": "stream",
     "text": [
      "C:\\Users\\DELL\\anaconda3\\envs\\ta\\lib\\site-packages\\textattack\\loggers\\csv_logger.py:41: FutureWarning: The frame.append method is deprecated and will be removed from pandas in a future version. Use pandas.concat instead.\n",
      "  self.df = self.df.append(row, ignore_index=True)\n",
      "\r",
      "[Succeeded / Failed / Skipped / Total] 18 / 206 / 2 / 226:  45%|█████████▍           | 226/500 [02:47<03:23,  1.35it/s]"
     ]
    },
    {
     "name": "stdout",
     "output_type": "stream",
     "text": [
      "--------------------------------------------- Result 226 ---------------------------------------------\n",
      "[[0 (100%)]] --> [[[FAILED]]]\n",
      "\n",
      "Goodo! Yes we must speak friday - egg-potato ratio for tortilla needed! \n",
      "\n",
      "\n"
     ]
    },
    {
     "name": "stderr",
     "output_type": "stream",
     "text": [
      "[Succeeded / Failed / Skipped / Total] 18 / 206 / 2 / 226:  45%|█████████▌           | 227/500 [02:48<03:22,  1.35it/s]C:\\Users\\DELL\\anaconda3\\envs\\ta\\lib\\site-packages\\textattack\\loggers\\csv_logger.py:41: FutureWarning: The frame.append method is deprecated and will be removed from pandas in a future version. Use pandas.concat instead.\n",
      "  self.df = self.df.append(row, ignore_index=True)\n",
      "[Succeeded / Failed / Skipped / Total] 18 / 207 / 2 / 227:  45%|█████████▌           | 227/500 [02:48<03:22,  1.35it/s]"
     ]
    },
    {
     "name": "stdout",
     "output_type": "stream",
     "text": [
      "--------------------------------------------- Result 227 ---------------------------------------------\n",
      "[[0 (100%)]] --> [[[FAILED]]]\n",
      "\n",
      "would u fuckin believe it they didnt know i had thurs pre booked off so they re cancelled me AGAIN! that needs to b sacked\n",
      "\n",
      "\n"
     ]
    },
    {
     "name": "stderr",
     "output_type": "stream",
     "text": [
      "C:\\Users\\DELL\\anaconda3\\envs\\ta\\lib\\site-packages\\textattack\\loggers\\csv_logger.py:41: FutureWarning: The frame.append method is deprecated and will be removed from pandas in a future version. Use pandas.concat instead.\n",
      "  self.df = self.df.append(row, ignore_index=True)\n",
      "\r",
      "[Succeeded / Failed / Skipped / Total] 18 / 208 / 2 / 228:  46%|█████████▌           | 228/500 [02:50<03:23,  1.34it/s]"
     ]
    },
    {
     "name": "stdout",
     "output_type": "stream",
     "text": [
      "--------------------------------------------- Result 228 ---------------------------------------------\n",
      "[[1 (100%)]] --> [[[FAILED]]]\n",
      "\n",
      "Dear Voucher Holder 2 claim your 1st class airport lounge passes when using Your holiday voucher call 08704439680. When booking quote 1st class x 2\n",
      "\n",
      "\n"
     ]
    },
    {
     "name": "stderr",
     "output_type": "stream",
     "text": [
      "[Succeeded / Failed / Skipped / Total] 18 / 208 / 2 / 228:  46%|█████████▌           | 229/500 [02:50<03:22,  1.34it/s]C:\\Users\\DELL\\anaconda3\\envs\\ta\\lib\\site-packages\\textattack\\loggers\\csv_logger.py:41: FutureWarning: The frame.append method is deprecated and will be removed from pandas in a future version. Use pandas.concat instead.\n",
      "  self.df = self.df.append(row, ignore_index=True)\n",
      "[Succeeded / Failed / Skipped / Total] 18 / 209 / 2 / 229:  46%|█████████▌           | 229/500 [02:50<03:22,  1.34it/s]"
     ]
    },
    {
     "name": "stdout",
     "output_type": "stream",
     "text": [
      "--------------------------------------------- Result 229 ---------------------------------------------\n",
      "[[0 (100%)]] --> [[[FAILED]]]\n",
      "\n",
      "It should take about  &lt;#&gt;  min\n",
      "\n",
      "\n"
     ]
    },
    {
     "name": "stderr",
     "output_type": "stream",
     "text": [
      "C:\\Users\\DELL\\anaconda3\\envs\\ta\\lib\\site-packages\\textattack\\loggers\\csv_logger.py:41: FutureWarning: The frame.append method is deprecated and will be removed from pandas in a future version. Use pandas.concat instead.\n",
      "  self.df = self.df.append(row, ignore_index=True)\n",
      "\r",
      "[Succeeded / Failed / Skipped / Total] 19 / 209 / 2 / 230:  46%|█████████▋           | 230/500 [02:52<03:22,  1.34it/s]"
     ]
    },
    {
     "name": "stdout",
     "output_type": "stream",
     "text": [
      "--------------------------------------------- Result 230 ---------------------------------------------\n",
      "[[0 (78%)]] --> [[1 (99%)]]\n",
      "\n",
      "My slave! I want you to [[take]] 2 or 3 pictures of yourself today in bright light on your cell phone! Bright light!\n",
      "\n",
      "My slave! I want you to [[subscribe]] 2 or 3 pictures of yourself today in bright light on your cell phone! Bright light!\n",
      "\n",
      "\n"
     ]
    },
    {
     "name": "stderr",
     "output_type": "stream",
     "text": [
      "[Succeeded / Failed / Skipped / Total] 19 / 209 / 2 / 230:  46%|█████████▋           | 231/500 [02:54<03:22,  1.33it/s]C:\\Users\\DELL\\anaconda3\\envs\\ta\\lib\\site-packages\\textattack\\loggers\\csv_logger.py:41: FutureWarning: The frame.append method is deprecated and will be removed from pandas in a future version. Use pandas.concat instead.\n",
      "  self.df = self.df.append(row, ignore_index=True)\n",
      "[Succeeded / Failed / Skipped / Total] 20 / 209 / 2 / 231:  46%|█████████▋           | 231/500 [02:54<03:22,  1.33it/s]"
     ]
    },
    {
     "name": "stdout",
     "output_type": "stream",
     "text": [
      "--------------------------------------------- Result 231 ---------------------------------------------\n",
      "[[0 (100%)]] --> [[1 (86%)]]\n",
      "\n",
      "Haven't [[found]] a [[way]] to get another app for your phone, eh ? Will you [[go]] to the net cafe ? Did you take that job? Geeee I need you babe. [[I]] crave to see you ...\n",
      "\n",
      "Haven't [[launch]] a [[mode]] to get another app for your phone, eh ? Will you [[XTC]] to the net cafe ? Did you take that job? Geeee I need you babe. [[1]] crave to see you ...\n",
      "\n",
      "\n"
     ]
    },
    {
     "name": "stderr",
     "output_type": "stream",
     "text": [
      "C:\\Users\\DELL\\anaconda3\\envs\\ta\\lib\\site-packages\\textattack\\loggers\\csv_logger.py:41: FutureWarning: The frame.append method is deprecated and will be removed from pandas in a future version. Use pandas.concat instead.\n",
      "  self.df = self.df.append(row, ignore_index=True)\n",
      "[Succeeded / Failed / Skipped / Total] 21 / 209 / 2 / 232:  47%|█████████▊           | 233/500 [02:55<03:20,  1.33it/s]C:\\Users\\DELL\\anaconda3\\envs\\ta\\lib\\site-packages\\textattack\\loggers\\csv_logger.py:41: FutureWarning: The frame.append method is deprecated and will be removed from pandas in a future version. Use pandas.concat instead.\n",
      "  self.df = self.df.append(row, ignore_index=True)\n",
      "[Succeeded / Failed / Skipped / Total] 21 / 210 / 2 / 233:  47%|█████████▊           | 233/500 [02:55<03:20,  1.33it/s]"
     ]
    },
    {
     "name": "stdout",
     "output_type": "stream",
     "text": [
      "--------------------------------------------- Result 232 ---------------------------------------------\n",
      "[[0 (100%)]] --> [[1 (60%)]]\n",
      "\n",
      "[[I]] love your [[ass]]! Do you enjoy [[doggy]] [[style]]? :)\n",
      "\n",
      "[[single]] love your [[buttocks]]! Do you enjoy [[bow-wow]] [[mode]]? :)\n",
      "\n",
      "\n",
      "--------------------------------------------- Result 233 ---------------------------------------------\n",
      "[[0 (100%)]] --> [[[FAILED]]]\n",
      "\n",
      "1 in cbe. 2 in chennai.\n",
      "\n",
      "\n"
     ]
    },
    {
     "name": "stderr",
     "output_type": "stream",
     "text": [
      "C:\\Users\\DELL\\anaconda3\\envs\\ta\\lib\\site-packages\\textattack\\loggers\\csv_logger.py:41: FutureWarning: The frame.append method is deprecated and will be removed from pandas in a future version. Use pandas.concat instead.\n",
      "  self.df = self.df.append(row, ignore_index=True)\n",
      "\r",
      "[Succeeded / Failed / Skipped / Total] 21 / 211 / 2 / 234:  47%|█████████▊           | 234/500 [02:56<03:20,  1.33it/s]"
     ]
    },
    {
     "name": "stdout",
     "output_type": "stream",
     "text": [
      "--------------------------------------------- Result 234 ---------------------------------------------\n",
      "[[0 (100%)]] --> [[[FAILED]]]\n",
      "\n",
      "Yeah, probably but not sure. Ilol let u know, but personally I wuldnt bother, then again if ur goin to then I mite as well!!\n",
      "\n",
      "\n"
     ]
    },
    {
     "name": "stderr",
     "output_type": "stream",
     "text": [
      "[Succeeded / Failed / Skipped / Total] 21 / 211 / 2 / 234:  47%|█████████▊           | 235/500 [02:56<03:19,  1.33it/s]C:\\Users\\DELL\\anaconda3\\envs\\ta\\lib\\site-packages\\textattack\\loggers\\csv_logger.py:41: FutureWarning: The frame.append method is deprecated and will be removed from pandas in a future version. Use pandas.concat instead.\n",
      "  self.df = self.df.append(row, ignore_index=True)\n",
      "[Succeeded / Failed / Skipped / Total] 21 / 212 / 2 / 235:  47%|█████████▊           | 235/500 [02:56<03:19,  1.33it/s]"
     ]
    },
    {
     "name": "stdout",
     "output_type": "stream",
     "text": [
      "--------------------------------------------- Result 235 ---------------------------------------------\n",
      "[[0 (100%)]] --> [[[FAILED]]]\n",
      "\n",
      "Happy birthday... May all ur dreams come true...\n",
      "\n",
      "\n"
     ]
    },
    {
     "name": "stderr",
     "output_type": "stream",
     "text": [
      "C:\\Users\\DELL\\anaconda3\\envs\\ta\\lib\\site-packages\\textattack\\loggers\\csv_logger.py:41: FutureWarning: The frame.append method is deprecated and will be removed from pandas in a future version. Use pandas.concat instead.\n",
      "  self.df = self.df.append(row, ignore_index=True)\n",
      "\r",
      "[Succeeded / Failed / Skipped / Total] 21 / 213 / 2 / 236:  47%|█████████▉           | 236/500 [02:57<03:18,  1.33it/s]"
     ]
    },
    {
     "name": "stdout",
     "output_type": "stream",
     "text": [
      "--------------------------------------------- Result 236 ---------------------------------------------\n",
      "[[0 (100%)]] --> [[[FAILED]]]\n",
      "\n",
      "I like to think there's always the possibility of being in a pub later.\n",
      "\n",
      "\n"
     ]
    },
    {
     "name": "stderr",
     "output_type": "stream",
     "text": [
      "[Succeeded / Failed / Skipped / Total] 21 / 213 / 2 / 236:  47%|█████████▉           | 237/500 [02:58<03:18,  1.33it/s]C:\\Users\\DELL\\anaconda3\\envs\\ta\\lib\\site-packages\\textattack\\loggers\\csv_logger.py:41: FutureWarning: The frame.append method is deprecated and will be removed from pandas in a future version. Use pandas.concat instead.\n",
      "  self.df = self.df.append(row, ignore_index=True)\n",
      "[Succeeded / Failed / Skipped / Total] 21 / 214 / 2 / 237:  47%|█████████▉           | 237/500 [02:58<03:18,  1.33it/s]"
     ]
    },
    {
     "name": "stdout",
     "output_type": "stream",
     "text": [
      "--------------------------------------------- Result 237 ---------------------------------------------\n",
      "[[0 (100%)]] --> [[[FAILED]]]\n",
      "\n",
      "Sorry, my battery died, I can come by but I'm only getting a gram for now, where's your place?\n",
      "\n",
      "\n"
     ]
    },
    {
     "name": "stderr",
     "output_type": "stream",
     "text": [
      "C:\\Users\\DELL\\anaconda3\\envs\\ta\\lib\\site-packages\\textattack\\loggers\\csv_logger.py:41: FutureWarning: The frame.append method is deprecated and will be removed from pandas in a future version. Use pandas.concat instead.\n",
      "  self.df = self.df.append(row, ignore_index=True)\n",
      "\r",
      "[Succeeded / Failed / Skipped / Total] 21 / 215 / 2 / 238:  48%|█████████▉           | 238/500 [03:00<03:18,  1.32it/s]"
     ]
    },
    {
     "name": "stdout",
     "output_type": "stream",
     "text": [
      "--------------------------------------------- Result 238 ---------------------------------------------\n",
      "[[0 (100%)]] --> [[[FAILED]]]\n",
      "\n",
      "Your opinion about me? 1. Over 2. Jada 3. Kusruthi 4. Lovable 5. Silent 6. Spl character 7. Not matured 8. Stylish 9. Simple Pls reply..\n",
      "\n",
      "\n"
     ]
    },
    {
     "name": "stderr",
     "output_type": "stream",
     "text": [
      "[Succeeded / Failed / Skipped / Total] 21 / 215 / 2 / 238:  48%|██████████           | 239/500 [03:01<03:17,  1.32it/s]C:\\Users\\DELL\\anaconda3\\envs\\ta\\lib\\site-packages\\textattack\\loggers\\csv_logger.py:41: FutureWarning: The frame.append method is deprecated and will be removed from pandas in a future version. Use pandas.concat instead.\n",
      "  self.df = self.df.append(row, ignore_index=True)\n",
      "[Succeeded / Failed / Skipped / Total] 21 / 216 / 2 / 239:  48%|██████████           | 239/500 [03:01<03:17,  1.32it/s]"
     ]
    },
    {
     "name": "stdout",
     "output_type": "stream",
     "text": [
      "--------------------------------------------- Result 239 ---------------------------------------------\n",
      "[[1 (100%)]] --> [[[FAILED]]]\n",
      "\n",
      "You are guaranteed the latest Nokia Phone, a 40GB iPod MP3 player or a £500 prize! Txt word: COLLECT to No: 83355! IBHltd LdnW15H 150p/Mtmsgrcvd18\n",
      "\n",
      "\n"
     ]
    },
    {
     "name": "stderr",
     "output_type": "stream",
     "text": [
      "C:\\Users\\DELL\\anaconda3\\envs\\ta\\lib\\site-packages\\textattack\\loggers\\csv_logger.py:41: FutureWarning: The frame.append method is deprecated and will be removed from pandas in a future version. Use pandas.concat instead.\n",
      "  self.df = self.df.append(row, ignore_index=True)\n",
      "\r",
      "[Succeeded / Failed / Skipped / Total] 21 / 217 / 2 / 240:  48%|██████████           | 240/500 [03:01<03:16,  1.32it/s]"
     ]
    },
    {
     "name": "stdout",
     "output_type": "stream",
     "text": [
      "--------------------------------------------- Result 240 ---------------------------------------------\n",
      "[[0 (100%)]] --> [[[FAILED]]]\n",
      "\n",
      "A bloo bloo bloo I'll miss the first bowl\n",
      "\n",
      "\n"
     ]
    },
    {
     "name": "stderr",
     "output_type": "stream",
     "text": [
      "[Succeeded / Failed / Skipped / Total] 21 / 217 / 2 / 240:  48%|██████████           | 241/500 [03:02<03:15,  1.32it/s]C:\\Users\\DELL\\anaconda3\\envs\\ta\\lib\\site-packages\\textattack\\loggers\\csv_logger.py:41: FutureWarning: The frame.append method is deprecated and will be removed from pandas in a future version. Use pandas.concat instead.\n",
      "  self.df = self.df.append(row, ignore_index=True)\n",
      "[Succeeded / Failed / Skipped / Total] 21 / 218 / 2 / 241:  48%|██████████           | 241/500 [03:02<03:15,  1.32it/s]"
     ]
    },
    {
     "name": "stdout",
     "output_type": "stream",
     "text": [
      "--------------------------------------------- Result 241 ---------------------------------------------\n",
      "[[0 (100%)]] --> [[[FAILED]]]\n",
      "\n",
      "Well thats nice. Too bad i cant eat it\n",
      "\n",
      "\n"
     ]
    },
    {
     "name": "stderr",
     "output_type": "stream",
     "text": [
      "C:\\Users\\DELL\\anaconda3\\envs\\ta\\lib\\site-packages\\textattack\\loggers\\csv_logger.py:41: FutureWarning: The frame.append method is deprecated and will be removed from pandas in a future version. Use pandas.concat instead.\n",
      "  self.df = self.df.append(row, ignore_index=True)\n",
      "\r",
      "[Succeeded / Failed / Skipped / Total] 22 / 218 / 2 / 242:  48%|██████████▏          | 242/500 [03:03<03:15,  1.32it/s]"
     ]
    },
    {
     "name": "stdout",
     "output_type": "stream",
     "text": [
      "--------------------------------------------- Result 242 ---------------------------------------------\n",
      "[[0 (100%)]] --> [[1 (98%)]]\n",
      "\n",
      "[[Dear]] [[got]] train and seat mine lower seat\n",
      "\n",
      "[[high-priced]] [[aim]] train and seat mine lower seat\n",
      "\n",
      "\n"
     ]
    },
    {
     "name": "stderr",
     "output_type": "stream",
     "text": [
      "[Succeeded / Failed / Skipped / Total] 22 / 218 / 2 / 242:  49%|██████████▏          | 243/500 [03:05<03:15,  1.31it/s]C:\\Users\\DELL\\anaconda3\\envs\\ta\\lib\\site-packages\\textattack\\loggers\\csv_logger.py:41: FutureWarning: The frame.append method is deprecated and will be removed from pandas in a future version. Use pandas.concat instead.\n",
      "  self.df = self.df.append(row, ignore_index=True)\n",
      "[Succeeded / Failed / Skipped / Total] 22 / 219 / 2 / 243:  49%|██████████▏          | 243/500 [03:05<03:15,  1.31it/s]"
     ]
    },
    {
     "name": "stdout",
     "output_type": "stream",
     "text": [
      "--------------------------------------------- Result 243 ---------------------------------------------\n",
      "[[1 (100%)]] --> [[[FAILED]]]\n",
      "\n",
      "URGENT! We are trying to contact U. Todays draw shows that you have won a £800 prize GUARANTEED. Call 09050003091 from land line. Claim C52. Valid 12hrs only\n",
      "\n",
      "\n"
     ]
    },
    {
     "name": "stderr",
     "output_type": "stream",
     "text": [
      "C:\\Users\\DELL\\anaconda3\\envs\\ta\\lib\\site-packages\\textattack\\loggers\\csv_logger.py:41: FutureWarning: The frame.append method is deprecated and will be removed from pandas in a future version. Use pandas.concat instead.\n",
      "  self.df = self.df.append(row, ignore_index=True)\n",
      "\r",
      "[Succeeded / Failed / Skipped / Total] 22 / 220 / 2 / 244:  49%|██████████▏          | 244/500 [03:05<03:14,  1.32it/s]"
     ]
    },
    {
     "name": "stdout",
     "output_type": "stream",
     "text": [
      "--------------------------------------------- Result 244 ---------------------------------------------\n",
      "[[0 (100%)]] --> [[[FAILED]]]\n",
      "\n",
      "Probably a couple hours tops\n",
      "\n",
      "\n"
     ]
    },
    {
     "name": "stderr",
     "output_type": "stream",
     "text": [
      "[Succeeded / Failed / Skipped / Total] 22 / 220 / 2 / 244:  49%|██████████▎          | 245/500 [03:07<03:15,  1.31it/s]C:\\Users\\DELL\\anaconda3\\envs\\ta\\lib\\site-packages\\textattack\\loggers\\csv_logger.py:41: FutureWarning: The frame.append method is deprecated and will be removed from pandas in a future version. Use pandas.concat instead.\n",
      "  self.df = self.df.append(row, ignore_index=True)\n",
      "[Succeeded / Failed / Skipped / Total] 22 / 221 / 2 / 245:  49%|██████████▎          | 245/500 [03:07<03:15,  1.31it/s]"
     ]
    },
    {
     "name": "stdout",
     "output_type": "stream",
     "text": [
      "--------------------------------------------- Result 245 ---------------------------------------------\n",
      "[[1 (100%)]] --> [[[FAILED]]]\n",
      "\n",
      "URGENT! We are trying to contact U. Todays draw shows that you have won a £800 prize GUARANTEED. Call 09050001808 from land line. Claim M95. Valid12hrs only\n",
      "\n",
      "\n"
     ]
    },
    {
     "name": "stderr",
     "output_type": "stream",
     "text": [
      "C:\\Users\\DELL\\anaconda3\\envs\\ta\\lib\\site-packages\\textattack\\loggers\\csv_logger.py:41: FutureWarning: The frame.append method is deprecated and will be removed from pandas in a future version. Use pandas.concat instead.\n",
      "  self.df = self.df.append(row, ignore_index=True)\n",
      "\r",
      "[Succeeded / Failed / Skipped / Total] 22 / 222 / 2 / 246:  49%|██████████▎          | 246/500 [03:07<03:13,  1.31it/s]"
     ]
    },
    {
     "name": "stdout",
     "output_type": "stream",
     "text": [
      "--------------------------------------------- Result 246 ---------------------------------------------\n",
      "[[0 (100%)]] --> [[[FAILED]]]\n",
      "\n",
      "Yeah I should be able to, I'll text you when I'm ready to meet up\n",
      "\n",
      "\n"
     ]
    },
    {
     "name": "stderr",
     "output_type": "stream",
     "text": [
      "[Succeeded / Failed / Skipped / Total] 22 / 222 / 2 / 246:  49%|██████████▎          | 247/500 [03:08<03:13,  1.31it/s]C:\\Users\\DELL\\anaconda3\\envs\\ta\\lib\\site-packages\\textattack\\loggers\\csv_logger.py:41: FutureWarning: The frame.append method is deprecated and will be removed from pandas in a future version. Use pandas.concat instead.\n",
      "  self.df = self.df.append(row, ignore_index=True)\n",
      "[Succeeded / Failed / Skipped / Total] 22 / 223 / 2 / 247:  49%|██████████▎          | 247/500 [03:08<03:13,  1.31it/s]"
     ]
    },
    {
     "name": "stdout",
     "output_type": "stream",
     "text": [
      "--------------------------------------------- Result 247 ---------------------------------------------\n",
      "[[0 (100%)]] --> [[[FAILED]]]\n",
      "\n",
      "Hello. Damn this christmas thing. I think i have decided to keep this mp3 that doesnt work.\n",
      "\n",
      "\n"
     ]
    },
    {
     "name": "stderr",
     "output_type": "stream",
     "text": [
      "C:\\Users\\DELL\\anaconda3\\envs\\ta\\lib\\site-packages\\textattack\\loggers\\csv_logger.py:41: FutureWarning: The frame.append method is deprecated and will be removed from pandas in a future version. Use pandas.concat instead.\n",
      "  self.df = self.df.append(row, ignore_index=True)\n",
      "\r",
      "[Succeeded / Failed / Skipped / Total] 23 / 223 / 2 / 248:  50%|██████████▍          | 248/500 [03:09<03:12,  1.31it/s]"
     ]
    },
    {
     "name": "stdout",
     "output_type": "stream",
     "text": [
      "--------------------------------------------- Result 248 ---------------------------------------------\n",
      "[[0 (100%)]] --> [[1 (51%)]]\n",
      "\n",
      "[[Think]] you sent the text to the home phone. That [[cant]] display [[texts]]. If you still want to send it his number is\n",
      "\n",
      "[[retrieve]] you sent the text to the home phone. That [[buzzword]] display [[schoolbook]]. If you still want to send it his number is\n",
      "\n",
      "\n"
     ]
    },
    {
     "name": "stderr",
     "output_type": "stream",
     "text": [
      "[Succeeded / Failed / Skipped / Total] 23 / 223 / 2 / 248:  50%|██████████▍          | 249/500 [03:11<03:13,  1.30it/s]C:\\Users\\DELL\\anaconda3\\envs\\ta\\lib\\site-packages\\textattack\\loggers\\csv_logger.py:41: FutureWarning: The frame.append method is deprecated and will be removed from pandas in a future version. Use pandas.concat instead.\n",
      "  self.df = self.df.append(row, ignore_index=True)\n",
      "[Succeeded / Failed / Skipped / Total] 23 / 224 / 2 / 249:  50%|██████████▍          | 249/500 [03:11<03:13,  1.30it/s]"
     ]
    },
    {
     "name": "stdout",
     "output_type": "stream",
     "text": [
      "--------------------------------------------- Result 249 ---------------------------------------------\n",
      "[[0 (100%)]] --> [[[FAILED]]]\n",
      "\n",
      "The sign of maturity is not when we start saying big things.. But actually it is, when we start understanding small things... *HAVE A NICE EVENING* BSLVYL\n",
      "\n",
      "\n"
     ]
    },
    {
     "name": "stderr",
     "output_type": "stream",
     "text": [
      "C:\\Users\\DELL\\anaconda3\\envs\\ta\\lib\\site-packages\\textattack\\loggers\\csv_logger.py:41: FutureWarning: The frame.append method is deprecated and will be removed from pandas in a future version. Use pandas.concat instead.\n",
      "  self.df = self.df.append(row, ignore_index=True)\n",
      "\r",
      "[Succeeded / Failed / Skipped / Total] 23 / 225 / 2 / 250:  50%|██████████▌          | 250/500 [03:11<03:11,  1.30it/s]"
     ]
    },
    {
     "name": "stdout",
     "output_type": "stream",
     "text": [
      "--------------------------------------------- Result 250 ---------------------------------------------\n",
      "[[0 (100%)]] --> [[[FAILED]]]\n",
      "\n",
      "Ü only send me the contents page...\n",
      "\n",
      "\n"
     ]
    },
    {
     "name": "stderr",
     "output_type": "stream",
     "text": [
      "[Succeeded / Failed / Skipped / Total] 23 / 225 / 2 / 250:  50%|██████████▌          | 251/500 [03:12<03:10,  1.30it/s]C:\\Users\\DELL\\anaconda3\\envs\\ta\\lib\\site-packages\\textattack\\loggers\\csv_logger.py:41: FutureWarning: The frame.append method is deprecated and will be removed from pandas in a future version. Use pandas.concat instead.\n",
      "  self.df = self.df.append(row, ignore_index=True)\n",
      "[Succeeded / Failed / Skipped / Total] 23 / 226 / 2 / 251:  50%|██████████▌          | 251/500 [03:12<03:10,  1.30it/s]"
     ]
    },
    {
     "name": "stdout",
     "output_type": "stream",
     "text": [
      "--------------------------------------------- Result 251 ---------------------------------------------\n",
      "[[0 (100%)]] --> [[[FAILED]]]\n",
      "\n",
      "aight we can pick some up, you open before tonight?\n",
      "\n",
      "\n"
     ]
    },
    {
     "name": "stderr",
     "output_type": "stream",
     "text": [
      "C:\\Users\\DELL\\anaconda3\\envs\\ta\\lib\\site-packages\\textattack\\loggers\\csv_logger.py:41: FutureWarning: The frame.append method is deprecated and will be removed from pandas in a future version. Use pandas.concat instead.\n",
      "  self.df = self.df.append(row, ignore_index=True)\n",
      "[Succeeded / Failed / Skipped / Total] 23 / 227 / 2 / 252:  51%|██████████▋          | 253/500 [03:14<03:10,  1.30it/s]C:\\Users\\DELL\\anaconda3\\envs\\ta\\lib\\site-packages\\textattack\\loggers\\csv_logger.py:41: FutureWarning: The frame.append method is deprecated and will be removed from pandas in a future version. Use pandas.concat instead.\n",
      "  self.df = self.df.append(row, ignore_index=True)\n",
      "[Succeeded / Failed / Skipped / Total] 23 / 228 / 2 / 253:  51%|██████████▋          | 253/500 [03:14<03:10,  1.30it/s]"
     ]
    },
    {
     "name": "stdout",
     "output_type": "stream",
     "text": [
      "--------------------------------------------- Result 252 ---------------------------------------------\n",
      "[[0 (100%)]] --> [[[FAILED]]]\n",
      "\n",
      "Hiya , have u been paying money into my account? If so, thanks. Got a pleasant surprise when i checked my balance -u c, i don't get statements 4 that acc\n",
      "\n",
      "\n",
      "--------------------------------------------- Result 253 ---------------------------------------------\n",
      "[[0 (100%)]] --> [[[FAILED]]]\n",
      "\n",
      "Apo all other are mokka players only\n",
      "\n",
      "\n"
     ]
    },
    {
     "name": "stderr",
     "output_type": "stream",
     "text": [
      "C:\\Users\\DELL\\anaconda3\\envs\\ta\\lib\\site-packages\\textattack\\loggers\\csv_logger.py:41: FutureWarning: The frame.append method is deprecated and will be removed from pandas in a future version. Use pandas.concat instead.\n",
      "  self.df = self.df.append(row, ignore_index=True)\n",
      "\r",
      "[Succeeded / Failed / Skipped / Total] 23 / 229 / 2 / 254:  51%|██████████▋          | 254/500 [03:14<03:08,  1.30it/s]"
     ]
    },
    {
     "name": "stdout",
     "output_type": "stream",
     "text": [
      "--------------------------------------------- Result 254 ---------------------------------------------\n",
      "[[0 (100%)]] --> [[[FAILED]]]\n",
      "\n",
      "Nope... Juz off from work...\n",
      "\n",
      "\n"
     ]
    },
    {
     "name": "stderr",
     "output_type": "stream",
     "text": [
      "[Succeeded / Failed / Skipped / Total] 23 / 229 / 2 / 254:  51%|██████████▋          | 255/500 [03:15<03:08,  1.30it/s]C:\\Users\\DELL\\anaconda3\\envs\\ta\\lib\\site-packages\\textattack\\loggers\\csv_logger.py:41: FutureWarning: The frame.append method is deprecated and will be removed from pandas in a future version. Use pandas.concat instead.\n",
      "  self.df = self.df.append(row, ignore_index=True)\n",
      "[Succeeded / Failed / Skipped / Total] 24 / 229 / 2 / 255:  51%|██████████▋          | 255/500 [03:15<03:08,  1.30it/s]"
     ]
    },
    {
     "name": "stdout",
     "output_type": "stream",
     "text": [
      "--------------------------------------------- Result 255 ---------------------------------------------\n",
      "[[0 (100%)]] --> [[1 (91%)]]\n",
      "\n",
      "[[I]] absolutely [[LOVE]] [[South]] [[Park]]! [[I]] only recently started watching the [[office]].\n",
      "\n",
      "[[single]] absolutely [[bang]] [[Dixieland]] [[ballpark]]! [[1]] only recently started watching the [[role]].\n",
      "\n",
      "\n"
     ]
    },
    {
     "name": "stderr",
     "output_type": "stream",
     "text": [
      "C:\\Users\\DELL\\anaconda3\\envs\\ta\\lib\\site-packages\\textattack\\loggers\\csv_logger.py:41: FutureWarning: The frame.append method is deprecated and will be removed from pandas in a future version. Use pandas.concat instead.\n",
      "  self.df = self.df.append(row, ignore_index=True)\n",
      "[Succeeded / Failed / Skipped / Total] 25 / 229 / 2 / 256:  51%|██████████▊          | 257/500 [03:17<03:06,  1.30it/s]C:\\Users\\DELL\\anaconda3\\envs\\ta\\lib\\site-packages\\textattack\\loggers\\csv_logger.py:41: FutureWarning: The frame.append method is deprecated and will be removed from pandas in a future version. Use pandas.concat instead.\n",
      "  self.df = self.df.append(row, ignore_index=True)\n",
      "[Succeeded / Failed / Skipped / Total] 25 / 230 / 2 / 257:  51%|██████████▊          | 257/500 [03:17<03:06,  1.30it/s]"
     ]
    },
    {
     "name": "stdout",
     "output_type": "stream",
     "text": [
      "--------------------------------------------- Result 256 ---------------------------------------------\n",
      "[[0 (100%)]] --> [[1 (55%)]]\n",
      "\n",
      "[[No]] * am [[working]] on the [[ringing]] [[u]] [[thing]] but have [[whole]] houseful of [[screaming]] [[brats]] so * am [[pulling]] my [[hair]] out! [[Loving]] [[u]]\n",
      "\n",
      "[[nobelium]] * am [[process]] on the [[surround]] [[uranium]] [[affair]] but have [[totally]] houseful of [[hilarious]] [[bratwurst]] so * am [[rip]] my [[fuzz]] out! [[enjoy]] [[uranium]]\n",
      "\n",
      "\n",
      "--------------------------------------------- Result 257 ---------------------------------------------\n",
      "[[0 (100%)]] --> [[[FAILED]]]\n",
      "\n",
      "No problem. How are you doing?\n",
      "\n",
      "\n"
     ]
    },
    {
     "name": "stderr",
     "output_type": "stream",
     "text": [
      "C:\\Users\\DELL\\anaconda3\\envs\\ta\\lib\\site-packages\\textattack\\loggers\\csv_logger.py:41: FutureWarning: The frame.append method is deprecated and will be removed from pandas in a future version. Use pandas.concat instead.\n",
      "  self.df = self.df.append(row, ignore_index=True)\n",
      "\r",
      "[Succeeded / Failed / Skipped / Total] 26 / 230 / 2 / 258:  52%|██████████▊          | 258/500 [03:18<03:06,  1.30it/s]"
     ]
    },
    {
     "name": "stdout",
     "output_type": "stream",
     "text": [
      "--------------------------------------------- Result 258 ---------------------------------------------\n",
      "[[0 (100%)]] --> [[1 (100%)]]\n",
      "\n",
      "[[Dude]] avatar [[3d]] was [[imp]]. At one [[point]] i [[thought]] there were actually [[flies]] in the room and [[almost]] [[tried]] hittng [[one]] as a [[reflex]]\n",
      "\n",
      "[[buster]] avatar [[3D]] was [[scalawag]]. At one [[item]] i [[view]] there were actually [[vaporize]] in the room and [[most]] [[time-tested]] hittng [[matchless]] as a [[automatic]]\n",
      "\n",
      "\n"
     ]
    },
    {
     "name": "stderr",
     "output_type": "stream",
     "text": [
      "[Succeeded / Failed / Skipped / Total] 26 / 230 / 2 / 258:  52%|██████████▉          | 259/500 [03:18<03:04,  1.30it/s]C:\\Users\\DELL\\anaconda3\\envs\\ta\\lib\\site-packages\\textattack\\loggers\\csv_logger.py:41: FutureWarning: The frame.append method is deprecated and will be removed from pandas in a future version. Use pandas.concat instead.\n",
      "  self.df = self.df.append(row, ignore_index=True)\n",
      "[Succeeded / Failed / Skipped / Total] 26 / 231 / 2 / 259:  52%|██████████▉          | 259/500 [03:18<03:04,  1.30it/s]"
     ]
    },
    {
     "name": "stdout",
     "output_type": "stream",
     "text": [
      "--------------------------------------------- Result 259 ---------------------------------------------\n",
      "[[0 (100%)]] --> [[[FAILED]]]\n",
      "\n",
      "jay says he'll put in  &lt;#&gt;\n",
      "\n",
      "\n"
     ]
    },
    {
     "name": "stderr",
     "output_type": "stream",
     "text": [
      "C:\\Users\\DELL\\anaconda3\\envs\\ta\\lib\\site-packages\\textattack\\loggers\\csv_logger.py:41: FutureWarning: The frame.append method is deprecated and will be removed from pandas in a future version. Use pandas.concat instead.\n",
      "  self.df = self.df.append(row, ignore_index=True)\n",
      "\r",
      "[Succeeded / Failed / Skipped / Total] 26 / 232 / 2 / 260:  52%|██████████▉          | 260/500 [03:19<03:03,  1.31it/s]"
     ]
    },
    {
     "name": "stdout",
     "output_type": "stream",
     "text": [
      "--------------------------------------------- Result 260 ---------------------------------------------\n",
      "[[0 (100%)]] --> [[[FAILED]]]\n",
      "\n",
      "i can call in  &lt;#&gt;  min if thats ok\n",
      "\n",
      "\n"
     ]
    },
    {
     "name": "stderr",
     "output_type": "stream",
     "text": [
      "[Succeeded / Failed / Skipped / Total] 26 / 232 / 2 / 260:  52%|██████████▉          | 261/500 [03:20<03:03,  1.30it/s]C:\\Users\\DELL\\anaconda3\\envs\\ta\\lib\\site-packages\\textattack\\loggers\\csv_logger.py:41: FutureWarning: The frame.append method is deprecated and will be removed from pandas in a future version. Use pandas.concat instead.\n",
      "  self.df = self.df.append(row, ignore_index=True)\n",
      "[Succeeded / Failed / Skipped / Total] 26 / 233 / 2 / 261:  52%|██████████▉          | 261/500 [03:20<03:03,  1.30it/s]"
     ]
    },
    {
     "name": "stdout",
     "output_type": "stream",
     "text": [
      "--------------------------------------------- Result 261 ---------------------------------------------\n",
      "[[0 (100%)]] --> [[[FAILED]]]\n",
      "\n",
      "says the  &lt;#&gt;  year old with a man and money. I'm down to my last  &lt;#&gt; . Still waiting for that check.\n",
      "\n",
      "\n"
     ]
    },
    {
     "name": "stderr",
     "output_type": "stream",
     "text": [
      "C:\\Users\\DELL\\anaconda3\\envs\\ta\\lib\\site-packages\\textattack\\loggers\\csv_logger.py:41: FutureWarning: The frame.append method is deprecated and will be removed from pandas in a future version. Use pandas.concat instead.\n",
      "  self.df = self.df.append(row, ignore_index=True)\n",
      "\r",
      "[Succeeded / Failed / Skipped / Total] 26 / 234 / 2 / 262:  52%|███████████          | 262/500 [03:20<03:02,  1.30it/s]"
     ]
    },
    {
     "name": "stdout",
     "output_type": "stream",
     "text": [
      "--------------------------------------------- Result 262 ---------------------------------------------\n",
      "[[0 (100%)]] --> [[[FAILED]]]\n",
      "\n",
      "I was gonna ask you lol but i think its at 7\n",
      "\n",
      "\n"
     ]
    },
    {
     "name": "stderr",
     "output_type": "stream",
     "text": [
      "[Succeeded / Failed / Skipped / Total] 26 / 234 / 2 / 262:  53%|███████████          | 263/500 [03:22<03:02,  1.30it/s]C:\\Users\\DELL\\anaconda3\\envs\\ta\\lib\\site-packages\\textattack\\loggers\\csv_logger.py:41: FutureWarning: The frame.append method is deprecated and will be removed from pandas in a future version. Use pandas.concat instead.\n",
      "  self.df = self.df.append(row, ignore_index=True)\n",
      "[Succeeded / Failed / Skipped / Total] 26 / 235 / 2 / 263:  53%|███████████          | 263/500 [03:22<03:02,  1.30it/s]C:\\Users\\DELL\\anaconda3\\envs\\ta\\lib\\site-packages\\textattack\\loggers\\csv_logger.py:41: FutureWarning: The frame.append method is deprecated and will be removed from pandas in a future version. Use pandas.concat instead.\n",
      "  self.df = self.df.append(row, ignore_index=True)\n",
      "[Succeeded / Failed / Skipped / Total] 26 / 236 / 2 / 264:  53%|███████████          | 264/500 [03:22<03:01,  1.30it/s]"
     ]
    },
    {
     "name": "stdout",
     "output_type": "stream",
     "text": [
      "--------------------------------------------- Result 263 ---------------------------------------------\n",
      "[[1 (100%)]] --> [[[FAILED]]]\n",
      "\n",
      "Had your mobile 11mths ? Update for FREE to Oranges latest colour camera mobiles & unlimited weekend calls. Call Mobile Upd8 on freefone 08000839402 or 2StopTx\n",
      "\n",
      "\n",
      "--------------------------------------------- Result 264 ---------------------------------------------\n",
      "[[0 (100%)]] --> [[[FAILED]]]\n",
      "\n",
      "Yes..but they said its IT.,\n",
      "\n",
      "\n"
     ]
    },
    {
     "name": "stderr",
     "output_type": "stream",
     "text": [
      "[Succeeded / Failed / Skipped / Total] 26 / 236 / 2 / 264:  53%|███████████▏         | 265/500 [03:22<02:59,  1.31it/s]C:\\Users\\DELL\\anaconda3\\envs\\ta\\lib\\site-packages\\textattack\\loggers\\csv_logger.py:41: FutureWarning: The frame.append method is deprecated and will be removed from pandas in a future version. Use pandas.concat instead.\n",
      "  self.df = self.df.append(row, ignore_index=True)\n",
      "[Succeeded / Failed / Skipped / Total] 26 / 237 / 2 / 265:  53%|███████████▏         | 265/500 [03:22<02:59,  1.31it/s]"
     ]
    },
    {
     "name": "stdout",
     "output_type": "stream",
     "text": [
      "--------------------------------------------- Result 265 ---------------------------------------------\n",
      "[[0 (100%)]] --> [[[FAILED]]]\n",
      "\n",
      "My friends use to call the same.\n",
      "\n",
      "\n"
     ]
    },
    {
     "name": "stderr",
     "output_type": "stream",
     "text": [
      "C:\\Users\\DELL\\anaconda3\\envs\\ta\\lib\\site-packages\\textattack\\loggers\\csv_logger.py:41: FutureWarning: The frame.append method is deprecated and will be removed from pandas in a future version. Use pandas.concat instead.\n",
      "  self.df = self.df.append(row, ignore_index=True)\n",
      "\r",
      "[Succeeded / Failed / Skipped / Total] 26 / 238 / 2 / 266:  53%|███████████▏         | 266/500 [03:23<02:58,  1.31it/s]"
     ]
    },
    {
     "name": "stdout",
     "output_type": "stream",
     "text": [
      "--------------------------------------------- Result 266 ---------------------------------------------\n",
      "[[0 (100%)]] --> [[[FAILED]]]\n",
      "\n",
      "Its ok chikku, and its my 1 of favourite song..:-)\n",
      "\n",
      "\n"
     ]
    },
    {
     "name": "stderr",
     "output_type": "stream",
     "text": [
      "[Succeeded / Failed / Skipped / Total] 26 / 238 / 2 / 266:  53%|███████████▏         | 267/500 [03:23<02:57,  1.31it/s]C:\\Users\\DELL\\anaconda3\\envs\\ta\\lib\\site-packages\\textattack\\loggers\\csv_logger.py:41: FutureWarning: The frame.append method is deprecated and will be removed from pandas in a future version. Use pandas.concat instead.\n",
      "  self.df = self.df.append(row, ignore_index=True)\n",
      "[Succeeded / Failed / Skipped / Total] 26 / 239 / 2 / 267:  53%|███████████▏         | 267/500 [03:23<02:57,  1.31it/s]"
     ]
    },
    {
     "name": "stdout",
     "output_type": "stream",
     "text": [
      "--------------------------------------------- Result 267 ---------------------------------------------\n",
      "[[0 (100%)]] --> [[[FAILED]]]\n",
      "\n",
      "I'm in office now . I will call you  &lt;#&gt;  min:)\n",
      "\n",
      "\n"
     ]
    },
    {
     "name": "stderr",
     "output_type": "stream",
     "text": [
      "C:\\Users\\DELL\\anaconda3\\envs\\ta\\lib\\site-packages\\textattack\\loggers\\csv_logger.py:41: FutureWarning: The frame.append method is deprecated and will be removed from pandas in a future version. Use pandas.concat instead.\n",
      "  self.df = self.df.append(row, ignore_index=True)\n",
      "\r",
      "[Succeeded / Failed / Skipped / Total] 26 / 240 / 2 / 268:  54%|███████████▎         | 268/500 [03:24<02:57,  1.31it/s]"
     ]
    },
    {
     "name": "stdout",
     "output_type": "stream",
     "text": [
      "--------------------------------------------- Result 268 ---------------------------------------------\n",
      "[[1 (100%)]] --> [[[FAILED]]]\n",
      "\n",
      "You are guaranteed the latest Nokia Phone, a 40GB iPod MP3 player or a £500 prize! Txt word: COLLECT to No: 83355! IBHltd LdnW15H 150p/Mtmsgrcvd18+\n",
      "\n",
      "\n"
     ]
    },
    {
     "name": "stderr",
     "output_type": "stream",
     "text": [
      "[Succeeded / Failed / Skipped / Total] 26 / 240 / 2 / 268:  54%|███████████▎         | 269/500 [03:25<02:56,  1.31it/s]C:\\Users\\DELL\\anaconda3\\envs\\ta\\lib\\site-packages\\textattack\\loggers\\csv_logger.py:41: FutureWarning: The frame.append method is deprecated and will be removed from pandas in a future version. Use pandas.concat instead.\n",
      "  self.df = self.df.append(row, ignore_index=True)\n",
      "[Succeeded / Failed / Skipped / Total] 26 / 241 / 2 / 269:  54%|███████████▎         | 269/500 [03:25<02:56,  1.31it/s]"
     ]
    },
    {
     "name": "stdout",
     "output_type": "stream",
     "text": [
      "--------------------------------------------- Result 269 ---------------------------------------------\n",
      "[[0 (100%)]] --> [[[FAILED]]]\n",
      "\n",
      "As if i wasn't having enough trouble sleeping.\n",
      "\n",
      "\n"
     ]
    },
    {
     "name": "stderr",
     "output_type": "stream",
     "text": [
      "C:\\Users\\DELL\\anaconda3\\envs\\ta\\lib\\site-packages\\textattack\\loggers\\csv_logger.py:41: FutureWarning: The frame.append method is deprecated and will be removed from pandas in a future version. Use pandas.concat instead.\n",
      "  self.df = self.df.append(row, ignore_index=True)\n",
      "[Succeeded / Failed / Skipped / Total] 26 / 242 / 2 / 270:  54%|███████████▍         | 271/500 [03:25<02:53,  1.32it/s]C:\\Users\\DELL\\anaconda3\\envs\\ta\\lib\\site-packages\\textattack\\loggers\\csv_logger.py:41: FutureWarning: The frame.append method is deprecated and will be removed from pandas in a future version. Use pandas.concat instead.\n",
      "  self.df = self.df.append(row, ignore_index=True)\n",
      "[Succeeded / Failed / Skipped / Total] 26 / 243 / 2 / 271:  54%|███████████▍         | 271/500 [03:25<02:53,  1.32it/s]"
     ]
    },
    {
     "name": "stdout",
     "output_type": "stream",
     "text": [
      "--------------------------------------------- Result 270 ---------------------------------------------\n",
      "[[0 (100%)]] --> [[[FAILED]]]\n",
      "\n",
      "Today am going to college so am not able to atten the class.\n",
      "\n",
      "\n",
      "--------------------------------------------- Result 271 ---------------------------------------------\n",
      "[[0 (100%)]] --> [[[FAILED]]]\n",
      "\n",
      "And how you will do that, princess? :)\n",
      "\n",
      "\n"
     ]
    },
    {
     "name": "stderr",
     "output_type": "stream",
     "text": [
      "C:\\Users\\DELL\\anaconda3\\envs\\ta\\lib\\site-packages\\textattack\\loggers\\csv_logger.py:41: FutureWarning: The frame.append method is deprecated and will be removed from pandas in a future version. Use pandas.concat instead.\n",
      "  self.df = self.df.append(row, ignore_index=True)\n",
      "\r",
      "[Succeeded / Failed / Skipped / Total] 26 / 244 / 2 / 272:  54%|███████████▍         | 272/500 [03:26<02:52,  1.32it/s]"
     ]
    },
    {
     "name": "stdout",
     "output_type": "stream",
     "text": [
      "--------------------------------------------- Result 272 ---------------------------------------------\n",
      "[[0 (100%)]] --> [[[FAILED]]]\n",
      "\n",
      "I had it already..sabarish asked me to go..\n",
      "\n",
      "\n"
     ]
    },
    {
     "name": "stderr",
     "output_type": "stream",
     "text": [
      "[Succeeded / Failed / Skipped / Total] 26 / 244 / 2 / 272:  55%|███████████▍         | 273/500 [03:26<02:52,  1.32it/s]C:\\Users\\DELL\\anaconda3\\envs\\ta\\lib\\site-packages\\textattack\\loggers\\csv_logger.py:41: FutureWarning: The frame.append method is deprecated and will be removed from pandas in a future version. Use pandas.concat instead.\n",
      "  self.df = self.df.append(row, ignore_index=True)\n",
      "[Succeeded / Failed / Skipped / Total] 26 / 245 / 2 / 273:  55%|███████████▍         | 273/500 [03:26<02:52,  1.32it/s]"
     ]
    },
    {
     "name": "stdout",
     "output_type": "stream",
     "text": [
      "--------------------------------------------- Result 273 ---------------------------------------------\n",
      "[[0 (100%)]] --> [[[FAILED]]]\n",
      "\n",
      "Jane babes not goin 2 wrk, feel ill after lst nite. Foned in already cover 4 me chuck.:-)\n",
      "\n",
      "\n"
     ]
    },
    {
     "name": "stderr",
     "output_type": "stream",
     "text": [
      "C:\\Users\\DELL\\anaconda3\\envs\\ta\\lib\\site-packages\\textattack\\loggers\\csv_logger.py:41: FutureWarning: The frame.append method is deprecated and will be removed from pandas in a future version. Use pandas.concat instead.\n",
      "  self.df = self.df.append(row, ignore_index=True)\n",
      "\r",
      "[Succeeded / Failed / Skipped / Total] 26 / 246 / 2 / 274:  55%|███████████▌         | 274/500 [03:27<02:50,  1.32it/s]"
     ]
    },
    {
     "name": "stdout",
     "output_type": "stream",
     "text": [
      "--------------------------------------------- Result 274 ---------------------------------------------\n",
      "[[0 (100%)]] --> [[[FAILED]]]\n",
      "\n",
      "Bring home some Wendy =D\n",
      "\n",
      "\n"
     ]
    },
    {
     "name": "stderr",
     "output_type": "stream",
     "text": [
      "[Succeeded / Failed / Skipped / Total] 26 / 246 / 2 / 274:  55%|███████████▌         | 275/500 [03:28<02:50,  1.32it/s]C:\\Users\\DELL\\anaconda3\\envs\\ta\\lib\\site-packages\\textattack\\loggers\\csv_logger.py:41: FutureWarning: The frame.append method is deprecated and will be removed from pandas in a future version. Use pandas.concat instead.\n",
      "  self.df = self.df.append(row, ignore_index=True)\n",
      "[Succeeded / Failed / Skipped / Total] 26 / 247 / 2 / 275:  55%|███████████▌         | 275/500 [03:28<02:50,  1.32it/s]C:\\Users\\DELL\\anaconda3\\envs\\ta\\lib\\site-packages\\textattack\\loggers\\csv_logger.py:41: FutureWarning: The frame.append method is deprecated and will be removed from pandas in a future version. Use pandas.concat instead.\n",
      "  self.df = self.df.append(row, ignore_index=True)\n",
      "[Succeeded / Failed / Skipped / Total] 26 / 248 / 2 / 276:  55%|███████████▌         | 276/500 [03:28<02:48,  1.33it/s]"
     ]
    },
    {
     "name": "stdout",
     "output_type": "stream",
     "text": [
      "--------------------------------------------- Result 275 ---------------------------------------------\n",
      "[[0 (100%)]] --> [[[FAILED]]]\n",
      "\n",
      "Pls go there today  &lt;#&gt; . I dont want any excuses\n",
      "\n",
      "\n",
      "--------------------------------------------- Result 276 ---------------------------------------------\n",
      "[[0 (100%)]] --> [[[FAILED]]]\n",
      "\n",
      "Bugis oso near wat... \n",
      "\n",
      "\n"
     ]
    },
    {
     "name": "stderr",
     "output_type": "stream",
     "text": [
      "[Succeeded / Failed / Skipped / Total] 26 / 248 / 2 / 276:  55%|███████████▋         | 277/500 [03:28<02:48,  1.33it/s]C:\\Users\\DELL\\anaconda3\\envs\\ta\\lib\\site-packages\\textattack\\loggers\\csv_logger.py:41: FutureWarning: The frame.append method is deprecated and will be removed from pandas in a future version. Use pandas.concat instead.\n",
      "  self.df = self.df.append(row, ignore_index=True)\n",
      "[Succeeded / Failed / Skipped / Total] 27 / 248 / 2 / 277:  55%|███████████▋         | 277/500 [03:28<02:48,  1.33it/s]"
     ]
    },
    {
     "name": "stdout",
     "output_type": "stream",
     "text": [
      "--------------------------------------------- Result 277 ---------------------------------------------\n",
      "[[0 (100%)]] --> [[1 (87%)]]\n",
      "\n",
      "[[Hi]] [[kindly]] give [[us]] [[back]] our documents which we submitted for [[loan]] from STAPATI\n",
      "\n",
      "[[hello]] [[openhearted]] give [[USA]] [[support]] our documents which we submitted for [[loanword]] from STAPATI\n",
      "\n",
      "\n"
     ]
    },
    {
     "name": "stderr",
     "output_type": "stream",
     "text": [
      "C:\\Users\\DELL\\anaconda3\\envs\\ta\\lib\\site-packages\\textattack\\loggers\\csv_logger.py:41: FutureWarning: The frame.append method is deprecated and will be removed from pandas in a future version. Use pandas.concat instead.\n",
      "  self.df = self.df.append(row, ignore_index=True)\n",
      "\r",
      "[Succeeded / Failed / Skipped / Total] 27 / 249 / 2 / 278:  56%|███████████▋         | 278/500 [03:29<02:47,  1.33it/s]"
     ]
    },
    {
     "name": "stdout",
     "output_type": "stream",
     "text": [
      "--------------------------------------------- Result 278 ---------------------------------------------\n",
      "[[0 (100%)]] --> [[[FAILED]]]\n",
      "\n",
      "By the way, 'rencontre' is to meet again. Mountains dont....\n",
      "\n",
      "\n"
     ]
    },
    {
     "name": "stderr",
     "output_type": "stream",
     "text": [
      "[Succeeded / Failed / Skipped / Total] 27 / 249 / 2 / 278:  56%|███████████▋         | 279/500 [03:31<02:47,  1.32it/s]C:\\Users\\DELL\\anaconda3\\envs\\ta\\lib\\site-packages\\textattack\\loggers\\csv_logger.py:41: FutureWarning: The frame.append method is deprecated and will be removed from pandas in a future version. Use pandas.concat instead.\n",
      "  self.df = self.df.append(row, ignore_index=True)\n",
      "[Succeeded / Failed / Skipped / Total] 28 / 249 / 2 / 279:  56%|███████████▋         | 279/500 [03:31<02:47,  1.32it/s]C:\\Users\\DELL\\anaconda3\\envs\\ta\\lib\\site-packages\\textattack\\loggers\\csv_logger.py:41: FutureWarning: The frame.append method is deprecated and will be removed from pandas in a future version. Use pandas.concat instead.\n",
      "  self.df = self.df.append(row, ignore_index=True)\n",
      "[Succeeded / Failed / Skipped / Total] 28 / 250 / 2 / 280:  56%|███████████▊         | 280/500 [03:31<02:45,  1.33it/s]"
     ]
    },
    {
     "name": "stdout",
     "output_type": "stream",
     "text": [
      "--------------------------------------------- Result 279 ---------------------------------------------\n",
      "[[0 (100%)]] --> [[1 (83%)]]\n",
      "\n",
      "[[I]]m cool ta luv but v.tired 2 cause i have been doin loads of planning all wk, we have got our social services inspection at the nursery! [[Take]] care & spk sn [[x]].\n",
      "\n",
      "[[1]]m cool ta luv but v.tired 2 cause i have been doin loads of planning all wk, we have got our social services inspection at the nursery! [[subscribe]] care & spk sn [[XTC]].\n",
      "\n",
      "\n",
      "--------------------------------------------- Result 280 ---------------------------------------------\n",
      "[[0 (100%)]] --> [[[FAILED]]]\n",
      "\n",
      "You should change your fb to jaykwon thuglyfe falconerf\n",
      "\n",
      "\n"
     ]
    },
    {
     "name": "stderr",
     "output_type": "stream",
     "text": [
      "[Succeeded / Failed / Skipped / Total] 28 / 250 / 2 / 280:  56%|███████████▊         | 281/500 [03:32<02:45,  1.32it/s]C:\\Users\\DELL\\anaconda3\\envs\\ta\\lib\\site-packages\\textattack\\loggers\\csv_logger.py:41: FutureWarning: The frame.append method is deprecated and will be removed from pandas in a future version. Use pandas.concat instead.\n",
      "  self.df = self.df.append(row, ignore_index=True)\n",
      "[Succeeded / Failed / Skipped / Total] 28 / 251 / 2 / 281:  56%|███████████▊         | 281/500 [03:32<02:45,  1.32it/s]"
     ]
    },
    {
     "name": "stdout",
     "output_type": "stream",
     "text": [
      "--------------------------------------------- Result 281 ---------------------------------------------\n",
      "[[1 (100%)]] --> [[[FAILED]]]\n",
      "\n",
      "Please call our customer service representative on FREEPHONE 0808 145 4742 between 9am-11pm as you have WON a guaranteed £1000 cash or £5000 prize!\n",
      "\n",
      "\n"
     ]
    },
    {
     "name": "stderr",
     "output_type": "stream",
     "text": [
      "C:\\Users\\DELL\\anaconda3\\envs\\ta\\lib\\site-packages\\textattack\\loggers\\csv_logger.py:41: FutureWarning: The frame.append method is deprecated and will be removed from pandas in a future version. Use pandas.concat instead.\n",
      "  self.df = self.df.append(row, ignore_index=True)\n",
      "\r",
      "[Succeeded / Failed / Skipped / Total] 28 / 252 / 2 / 282:  56%|███████████▊         | 282/500 [03:32<02:44,  1.32it/s]"
     ]
    },
    {
     "name": "stdout",
     "output_type": "stream",
     "text": [
      "--------------------------------------------- Result 282 ---------------------------------------------\n",
      "[[0 (100%)]] --> [[[FAILED]]]\n",
      "\n",
      "Ok i thk i got it. Then u wan me 2 come now or wat?\n",
      "\n",
      "\n"
     ]
    },
    {
     "name": "stderr",
     "output_type": "stream",
     "text": [
      "[Succeeded / Failed / Skipped / Total] 28 / 252 / 2 / 282:  57%|███████████▉         | 283/500 [03:33<02:43,  1.33it/s]C:\\Users\\DELL\\anaconda3\\envs\\ta\\lib\\site-packages\\textattack\\loggers\\csv_logger.py:41: FutureWarning: The frame.append method is deprecated and will be removed from pandas in a future version. Use pandas.concat instead.\n",
      "  self.df = self.df.append(row, ignore_index=True)\n",
      "[Succeeded / Failed / Skipped / Total] 28 / 253 / 2 / 283:  57%|███████████▉         | 283/500 [03:33<02:43,  1.32it/s]C:\\Users\\DELL\\anaconda3\\envs\\ta\\lib\\site-packages\\textattack\\loggers\\csv_logger.py:41: FutureWarning: The frame.append method is deprecated and will be removed from pandas in a future version. Use pandas.concat instead.\n",
      "  self.df = self.df.append(row, ignore_index=True)\n",
      "[Succeeded / Failed / Skipped / Total] 28 / 254 / 2 / 284:  57%|███████████▉         | 284/500 [03:33<02:42,  1.33it/s]"
     ]
    },
    {
     "name": "stdout",
     "output_type": "stream",
     "text": [
      "--------------------------------------------- Result 283 ---------------------------------------------\n",
      "[[0 (100%)]] --> [[[FAILED]]]\n",
      "\n",
      "Dun b sad.. It's over.. Dun thk abt it already. Concentrate on ur other papers k.\n",
      "\n",
      "\n",
      "--------------------------------------------- Result 284 ---------------------------------------------\n",
      "[[0 (100%)]] --> [[[FAILED]]]\n",
      "\n",
      "Aight, I'll ask a few of my roommates\n",
      "\n",
      "\n"
     ]
    },
    {
     "name": "stderr",
     "output_type": "stream",
     "text": [
      "[Succeeded / Failed / Skipped / Total] 28 / 254 / 2 / 284:  57%|███████████▉         | 285/500 [03:34<02:41,  1.33it/s]C:\\Users\\DELL\\anaconda3\\envs\\ta\\lib\\site-packages\\textattack\\loggers\\csv_logger.py:41: FutureWarning: The frame.append method is deprecated and will be removed from pandas in a future version. Use pandas.concat instead.\n",
      "  self.df = self.df.append(row, ignore_index=True)\n",
      "[Succeeded / Failed / Skipped / Total] 28 / 255 / 2 / 285:  57%|███████████▉         | 285/500 [03:34<02:41,  1.33it/s]"
     ]
    },
    {
     "name": "stdout",
     "output_type": "stream",
     "text": [
      "--------------------------------------------- Result 285 ---------------------------------------------\n",
      "[[0 (100%)]] --> [[[FAILED]]]\n",
      "\n",
      "* Was really good to see you the other day dudette, been missing you!\n",
      "\n",
      "\n"
     ]
    },
    {
     "name": "stderr",
     "output_type": "stream",
     "text": [
      "C:\\Users\\DELL\\anaconda3\\envs\\ta\\lib\\site-packages\\textattack\\loggers\\csv_logger.py:41: FutureWarning: The frame.append method is deprecated and will be removed from pandas in a future version. Use pandas.concat instead.\n",
      "  self.df = self.df.append(row, ignore_index=True)\n",
      "\r",
      "[Succeeded / Failed / Skipped / Total] 28 / 256 / 2 / 286:  57%|████████████         | 286/500 [03:35<02:41,  1.32it/s]"
     ]
    },
    {
     "name": "stdout",
     "output_type": "stream",
     "text": [
      "--------------------------------------------- Result 286 ---------------------------------------------\n",
      "[[0 (100%)]] --> [[[FAILED]]]\n",
      "\n",
      "Think I could stop by in like an hour or so? My roommate's looking to stock up for a trip\n",
      "\n",
      "\n"
     ]
    },
    {
     "name": "stderr",
     "output_type": "stream",
     "text": [
      "[Succeeded / Failed / Skipped / Total] 28 / 256 / 2 / 286:  57%|████████████         | 287/500 [03:36<02:40,  1.33it/s]C:\\Users\\DELL\\anaconda3\\envs\\ta\\lib\\site-packages\\textattack\\loggers\\csv_logger.py:41: FutureWarning: The frame.append method is deprecated and will be removed from pandas in a future version. Use pandas.concat instead.\n",
      "  self.df = self.df.append(row, ignore_index=True)\n",
      "[Succeeded / Failed / Skipped / Total] 28 / 257 / 2 / 287:  57%|████████████         | 287/500 [03:36<02:40,  1.33it/s]C:\\Users\\DELL\\anaconda3\\envs\\ta\\lib\\site-packages\\textattack\\loggers\\csv_logger.py:41: FutureWarning: The frame.append method is deprecated and will be removed from pandas in a future version. Use pandas.concat instead.\n",
      "  self.df = self.df.append(row, ignore_index=True)\n",
      "[Succeeded / Failed / Skipped / Total] 28 / 258 / 2 / 288:  58%|████████████         | 288/500 [03:36<02:39,  1.33it/s]"
     ]
    },
    {
     "name": "stdout",
     "output_type": "stream",
     "text": [
      "--------------------------------------------- Result 287 ---------------------------------------------\n",
      "[[0 (100%)]] --> [[[FAILED]]]\n",
      "\n",
      "I said its okay. Sorry\n",
      "\n",
      "\n",
      "--------------------------------------------- Result 288 ---------------------------------------------\n",
      "[[0 (100%)]] --> [[[FAILED]]]\n",
      "\n",
      "Sorry * was at the grocers.\n",
      "\n",
      "\n"
     ]
    },
    {
     "name": "stderr",
     "output_type": "stream",
     "text": [
      "[Succeeded / Failed / Skipped / Total] 28 / 258 / 2 / 288:  58%|████████████▏        | 289/500 [03:37<02:38,  1.33it/s]C:\\Users\\DELL\\anaconda3\\envs\\ta\\lib\\site-packages\\textattack\\loggers\\csv_logger.py:41: FutureWarning: The frame.append method is deprecated and will be removed from pandas in a future version. Use pandas.concat instead.\n",
      "  self.df = self.df.append(row, ignore_index=True)\n",
      "[Succeeded / Failed / Skipped / Total] 28 / 259 / 2 / 289:  58%|████████████▏        | 289/500 [03:37<02:38,  1.33it/s]"
     ]
    },
    {
     "name": "stdout",
     "output_type": "stream",
     "text": [
      "--------------------------------------------- Result 289 ---------------------------------------------\n",
      "[[0 (100%)]] --> [[[FAILED]]]\n",
      "\n",
      "Excellent, I'll see what riley's plans are\n",
      "\n",
      "\n"
     ]
    },
    {
     "name": "stderr",
     "output_type": "stream",
     "text": [
      "C:\\Users\\DELL\\anaconda3\\envs\\ta\\lib\\site-packages\\textattack\\loggers\\csv_logger.py:41: FutureWarning: The frame.append method is deprecated and will be removed from pandas in a future version. Use pandas.concat instead.\n",
      "  self.df = self.df.append(row, ignore_index=True)\n",
      "[Succeeded / Failed / Skipped / Total] 28 / 260 / 2 / 290:  58%|████████████▏        | 291/500 [03:38<02:36,  1.33it/s]C:\\Users\\DELL\\anaconda3\\envs\\ta\\lib\\site-packages\\textattack\\loggers\\csv_logger.py:41: FutureWarning: The frame.append method is deprecated and will be removed from pandas in a future version. Use pandas.concat instead.\n",
      "  self.df = self.df.append(row, ignore_index=True)\n",
      "[Succeeded / Failed / Skipped / Total] 28 / 261 / 2 / 291:  58%|████████████▏        | 291/500 [03:38<02:36,  1.33it/s]"
     ]
    },
    {
     "name": "stdout",
     "output_type": "stream",
     "text": [
      "--------------------------------------------- Result 290 ---------------------------------------------\n",
      "[[0 (100%)]] --> [[[FAILED]]]\n",
      "\n",
      "Olol i printed out a forum post by a guy with the exact same  prob which was fixed with a gpu replacement. Hopefully they dont ignore that.\n",
      "\n",
      "\n",
      "--------------------------------------------- Result 291 ---------------------------------------------\n",
      "[[0 (100%)]] --> [[[FAILED]]]\n",
      "\n",
      "Awesome, be there in a minute\n",
      "\n",
      "\n"
     ]
    },
    {
     "name": "stderr",
     "output_type": "stream",
     "text": [
      "C:\\Users\\DELL\\anaconda3\\envs\\ta\\lib\\site-packages\\textattack\\loggers\\csv_logger.py:41: FutureWarning: The frame.append method is deprecated and will be removed from pandas in a future version. Use pandas.concat instead.\n",
      "  self.df = self.df.append(row, ignore_index=True)\n",
      "\r",
      "[Succeeded / Failed / Skipped / Total] 28 / 262 / 2 / 292:  58%|████████████▎        | 292/500 [03:40<02:36,  1.33it/s]"
     ]
    },
    {
     "name": "stdout",
     "output_type": "stream",
     "text": [
      "--------------------------------------------- Result 292 ---------------------------------------------\n",
      "[[1 (100%)]] --> [[[FAILED]]]\n",
      "\n",
      "Do you want a New Nokia 3510i Colour Phone Delivered Tomorrow? With 200 FREE minutes to any mobile + 100 FREE text + FREE camcorder Reply or Call 08000930705\n",
      "\n",
      "\n"
     ]
    },
    {
     "name": "stderr",
     "output_type": "stream",
     "text": [
      "[Succeeded / Failed / Skipped / Total] 28 / 262 / 2 / 292:  59%|████████████▎        | 293/500 [03:40<02:35,  1.33it/s]C:\\Users\\DELL\\anaconda3\\envs\\ta\\lib\\site-packages\\textattack\\loggers\\csv_logger.py:41: FutureWarning: The frame.append method is deprecated and will be removed from pandas in a future version. Use pandas.concat instead.\n",
      "  self.df = self.df.append(row, ignore_index=True)\n",
      "[Succeeded / Failed / Skipped / Total] 28 / 263 / 2 / 293:  59%|████████████▎        | 293/500 [03:40<02:35,  1.33it/s]"
     ]
    },
    {
     "name": "stdout",
     "output_type": "stream",
     "text": [
      "--------------------------------------------- Result 293 ---------------------------------------------\n",
      "[[0 (100%)]] --> [[[FAILED]]]\n",
      "\n",
      "Ujhhhhhhh computer shipped out with address to sandiago and parantella lane. Wtf. Poop.\n",
      "\n",
      "\n"
     ]
    },
    {
     "name": "stderr",
     "output_type": "stream",
     "text": [
      "C:\\Users\\DELL\\anaconda3\\envs\\ta\\lib\\site-packages\\textattack\\loggers\\csv_logger.py:41: FutureWarning: The frame.append method is deprecated and will be removed from pandas in a future version. Use pandas.concat instead.\n",
      "  self.df = self.df.append(row, ignore_index=True)\n",
      "[Succeeded / Failed / Skipped / Total] 28 / 264 / 2 / 294:  59%|████████████▍        | 295/500 [03:41<02:34,  1.33it/s]C:\\Users\\DELL\\anaconda3\\envs\\ta\\lib\\site-packages\\textattack\\loggers\\csv_logger.py:41: FutureWarning: The frame.append method is deprecated and will be removed from pandas in a future version. Use pandas.concat instead.\n",
      "  self.df = self.df.append(row, ignore_index=True)\n",
      "[Succeeded / Failed / Skipped / Total] 28 / 265 / 2 / 295:  59%|████████████▍        | 295/500 [03:41<02:34,  1.33it/s]"
     ]
    },
    {
     "name": "stdout",
     "output_type": "stream",
     "text": [
      "--------------------------------------------- Result 294 ---------------------------------------------\n",
      "[[0 (100%)]] --> [[[FAILED]]]\n",
      "\n",
      "Good Morning my Dear........... Have a great &amp; successful day.\n",
      "\n",
      "\n",
      "--------------------------------------------- Result 295 ---------------------------------------------\n",
      "[[0 (100%)]] --> [[[FAILED]]]\n",
      "\n",
      ":-( sad puppy noise\n",
      "\n",
      "\n"
     ]
    },
    {
     "name": "stderr",
     "output_type": "stream",
     "text": [
      "C:\\Users\\DELL\\anaconda3\\envs\\ta\\lib\\site-packages\\textattack\\loggers\\csv_logger.py:41: FutureWarning: The frame.append method is deprecated and will be removed from pandas in a future version. Use pandas.concat instead.\n",
      "  self.df = self.df.append(row, ignore_index=True)\n",
      "\r",
      "[Succeeded / Failed / Skipped / Total] 28 / 266 / 2 / 296:  59%|████████████▍        | 296/500 [03:41<02:32,  1.33it/s]"
     ]
    },
    {
     "name": "stdout",
     "output_type": "stream",
     "text": [
      "--------------------------------------------- Result 296 ---------------------------------------------\n",
      "[[0 (100%)]] --> [[[FAILED]]]\n",
      "\n",
      "2marrow only. Wed at  &lt;#&gt;  to 2 aha.\n",
      "\n",
      "\n"
     ]
    },
    {
     "name": "stderr",
     "output_type": "stream",
     "text": [
      "[Succeeded / Failed / Skipped / Total] 28 / 266 / 2 / 296:  59%|████████████▍        | 297/500 [03:42<02:31,  1.34it/s]C:\\Users\\DELL\\anaconda3\\envs\\ta\\lib\\site-packages\\textattack\\loggers\\csv_logger.py:41: FutureWarning: The frame.append method is deprecated and will be removed from pandas in a future version. Use pandas.concat instead.\n",
      "  self.df = self.df.append(row, ignore_index=True)\n",
      "[Succeeded / Failed / Skipped / Total] 28 / 267 / 2 / 297:  59%|████████████▍        | 297/500 [03:42<02:31,  1.34it/s]"
     ]
    },
    {
     "name": "stdout",
     "output_type": "stream",
     "text": [
      "--------------------------------------------- Result 297 ---------------------------------------------\n",
      "[[0 (100%)]] --> [[[FAILED]]]\n",
      "\n",
      "Vikky, come around  &lt;TIME&gt; ..\n",
      "\n",
      "\n"
     ]
    },
    {
     "name": "stderr",
     "output_type": "stream",
     "text": [
      "C:\\Users\\DELL\\anaconda3\\envs\\ta\\lib\\site-packages\\textattack\\loggers\\csv_logger.py:41: FutureWarning: The frame.append method is deprecated and will be removed from pandas in a future version. Use pandas.concat instead.\n",
      "  self.df = self.df.append(row, ignore_index=True)\n",
      "\r",
      "[Succeeded / Failed / Skipped / Total] 28 / 268 / 2 / 298:  60%|████████████▌        | 298/500 [03:42<02:30,  1.34it/s]"
     ]
    },
    {
     "name": "stdout",
     "output_type": "stream",
     "text": [
      "--------------------------------------------- Result 298 ---------------------------------------------\n",
      "[[0 (100%)]] --> [[[FAILED]]]\n",
      "\n",
      "Fuuuuck I need to stop sleepin, sup\n",
      "\n",
      "\n"
     ]
    },
    {
     "name": "stderr",
     "output_type": "stream",
     "text": [
      "[Succeeded / Failed / Skipped / Total] 28 / 268 / 2 / 298:  60%|████████████▌        | 299/500 [03:43<02:29,  1.34it/s]C:\\Users\\DELL\\anaconda3\\envs\\ta\\lib\\site-packages\\textattack\\loggers\\csv_logger.py:41: FutureWarning: The frame.append method is deprecated and will be removed from pandas in a future version. Use pandas.concat instead.\n",
      "  self.df = self.df.append(row, ignore_index=True)\n",
      "[Succeeded / Failed / Skipped / Total] 28 / 269 / 2 / 299:  60%|████████████▌        | 299/500 [03:43<02:29,  1.34it/s]"
     ]
    },
    {
     "name": "stdout",
     "output_type": "stream",
     "text": [
      "--------------------------------------------- Result 299 ---------------------------------------------\n",
      "[[0 (100%)]] --> [[[FAILED]]]\n",
      "\n",
      "Brainless Baby Doll..:-D;-), vehicle sariyag drive madoke barolla..\n",
      "\n",
      "\n"
     ]
    },
    {
     "name": "stderr",
     "output_type": "stream",
     "text": [
      "C:\\Users\\DELL\\anaconda3\\envs\\ta\\lib\\site-packages\\textattack\\loggers\\csv_logger.py:41: FutureWarning: The frame.append method is deprecated and will be removed from pandas in a future version. Use pandas.concat instead.\n",
      "  self.df = self.df.append(row, ignore_index=True)\n",
      "\r",
      "[Succeeded / Failed / Skipped / Total] 28 / 270 / 2 / 300:  60%|████████████▌        | 300/500 [03:43<02:29,  1.34it/s]"
     ]
    },
    {
     "name": "stdout",
     "output_type": "stream",
     "text": [
      "--------------------------------------------- Result 300 ---------------------------------------------\n",
      "[[0 (100%)]] --> [[[FAILED]]]\n",
      "\n",
      "Ü mean it's confirmed... I tot they juz say oni... Ok then... \n",
      "\n",
      "\n"
     ]
    },
    {
     "name": "stderr",
     "output_type": "stream",
     "text": [
      "[Succeeded / Failed / Skipped / Total] 28 / 270 / 2 / 300:  60%|████████████▋        | 301/500 [03:44<02:28,  1.34it/s]C:\\Users\\DELL\\anaconda3\\envs\\ta\\lib\\site-packages\\textattack\\loggers\\csv_logger.py:41: FutureWarning: The frame.append method is deprecated and will be removed from pandas in a future version. Use pandas.concat instead.\n",
      "  self.df = self.df.append(row, ignore_index=True)\n",
      "[Succeeded / Failed / Skipped / Total] 28 / 271 / 2 / 301:  60%|████████████▋        | 301/500 [03:44<02:28,  1.34it/s]C:\\Users\\DELL\\anaconda3\\envs\\ta\\lib\\site-packages\\textattack\\loggers\\csv_logger.py:41: FutureWarning: The frame.append method is deprecated and will be removed from pandas in a future version. Use pandas.concat instead.\n",
      "  self.df = self.df.append(row, ignore_index=True)\n",
      "[Succeeded / Failed / Skipped / Total] 28 / 272 / 2 / 302:  60%|████████████▋        | 302/500 [03:44<02:27,  1.34it/s]"
     ]
    },
    {
     "name": "stdout",
     "output_type": "stream",
     "text": [
      "--------------------------------------------- Result 301 ---------------------------------------------\n",
      "[[0 (100%)]] --> [[[FAILED]]]\n",
      "\n",
      "Argh my 3g is spotty, anyway the only thing I remember from the research we did was that province and sterling were the only problem-free places we looked at\n",
      "\n",
      "\n",
      "--------------------------------------------- Result 302 ---------------------------------------------\n",
      "[[0 (100%)]] --> [[[FAILED]]]\n",
      "\n",
      "It's wylie, you in tampa or sarasota?\n",
      "\n",
      "\n"
     ]
    },
    {
     "name": "stderr",
     "output_type": "stream",
     "text": [
      "[Succeeded / Failed / Skipped / Total] 28 / 272 / 2 / 302:  61%|████████████▋        | 303/500 [03:45<02:26,  1.34it/s]C:\\Users\\DELL\\anaconda3\\envs\\ta\\lib\\site-packages\\textattack\\loggers\\csv_logger.py:41: FutureWarning: The frame.append method is deprecated and will be removed from pandas in a future version. Use pandas.concat instead.\n",
      "  self.df = self.df.append(row, ignore_index=True)\n",
      "[Succeeded / Failed / Skipped / Total] 29 / 272 / 2 / 303:  61%|████████████▋        | 303/500 [03:45<02:26,  1.34it/s]"
     ]
    },
    {
     "name": "stdout",
     "output_type": "stream",
     "text": [
      "--------------------------------------------- Result 303 ---------------------------------------------\n",
      "[[0 (100%)]] --> [[1 (60%)]]\n",
      "\n",
      "[[K]] fyi [[x]] has a ride early tomorrow [[morning]] but he's crashing at our [[place]] tonight\n",
      "\n",
      "[[1000]] fyi [[XTC]] has a ride early tomorrow [[daybreak]] but he's crashing at our [[localize]] tonight\n",
      "\n",
      "\n"
     ]
    },
    {
     "name": "stderr",
     "output_type": "stream",
     "text": [
      "C:\\Users\\DELL\\anaconda3\\envs\\ta\\lib\\site-packages\\textattack\\loggers\\csv_logger.py:41: FutureWarning: The frame.append method is deprecated and will be removed from pandas in a future version. Use pandas.concat instead.\n",
      "  self.df = self.df.append(row, ignore_index=True)\n",
      "[Succeeded / Failed / Skipped / Total] 30 / 272 / 2 / 304:  61%|████████████▊        | 305/500 [03:46<02:24,  1.35it/s]C:\\Users\\DELL\\anaconda3\\envs\\ta\\lib\\site-packages\\textattack\\loggers\\csv_logger.py:41: FutureWarning: The frame.append method is deprecated and will be removed from pandas in a future version. Use pandas.concat instead.\n",
      "  self.df = self.df.append(row, ignore_index=True)\n",
      "[Succeeded / Failed / Skipped / Total] 30 / 273 / 2 / 305:  61%|████████████▊        | 305/500 [03:46<02:24,  1.35it/s]"
     ]
    },
    {
     "name": "stdout",
     "output_type": "stream",
     "text": [
      "--------------------------------------------- Result 304 ---------------------------------------------\n",
      "[[0 (100%)]] --> [[1 (69%)]]\n",
      "\n",
      "[[As]] per your request 'Maangalyam (Alaipayuthe)' has been [[set]] as your callertune for all [[Callers]]. [[Press]] *9 to copy your [[friends]] Callertune\n",
      "\n",
      "[[A]] per your request 'Maangalyam (Alaipayuthe)' has been [[typeset]] as your callertune for all [[caller-up]]. [[compress]] *9 to copy your [[supporter]] Callertune\n",
      "\n",
      "\n",
      "--------------------------------------------- Result 305 ---------------------------------------------\n",
      "[[0 (95%)]] --> [[[FAILED]]]\n",
      "\n",
      "Webpage s not available!\n",
      "\n",
      "\n"
     ]
    },
    {
     "name": "stderr",
     "output_type": "stream",
     "text": [
      "C:\\Users\\DELL\\anaconda3\\envs\\ta\\lib\\site-packages\\textattack\\loggers\\csv_logger.py:41: FutureWarning: The frame.append method is deprecated and will be removed from pandas in a future version. Use pandas.concat instead.\n",
      "  self.df = self.df.append(row, ignore_index=True)\n",
      "\r",
      "[Succeeded / Failed / Skipped / Total] 30 / 274 / 2 / 306:  61%|████████████▊        | 306/500 [03:47<02:24,  1.35it/s]"
     ]
    },
    {
     "name": "stdout",
     "output_type": "stream",
     "text": [
      "--------------------------------------------- Result 306 ---------------------------------------------\n",
      "[[0 (100%)]] --> [[[FAILED]]]\n",
      "\n",
      "My Parents, My Kidz, My Friends n My Colleagues. All screaming.. SURPRISE !! and I was waiting on the sofa.. ... ..... ' NAKED...!\n",
      "\n",
      "\n"
     ]
    },
    {
     "name": "stderr",
     "output_type": "stream",
     "text": [
      "[Succeeded / Failed / Skipped / Total] 30 / 274 / 2 / 306:  61%|████████████▉        | 307/500 [03:49<02:24,  1.34it/s]C:\\Users\\DELL\\anaconda3\\envs\\ta\\lib\\site-packages\\textattack\\loggers\\csv_logger.py:41: FutureWarning: The frame.append method is deprecated and will be removed from pandas in a future version. Use pandas.concat instead.\n",
      "  self.df = self.df.append(row, ignore_index=True)\n",
      "[Succeeded / Failed / Skipped / Total] 30 / 275 / 2 / 307:  61%|████████████▉        | 307/500 [03:49<02:24,  1.34it/s]"
     ]
    },
    {
     "name": "stdout",
     "output_type": "stream",
     "text": [
      "--------------------------------------------- Result 307 ---------------------------------------------\n",
      "[[1 (100%)]] --> [[[FAILED]]]\n",
      "\n",
      "URGENT! We are trying to contact you. Last weekends draw shows that you have won a £900 prize GUARANTEED. Call 09061701851. Claim code K61. Valid 12hours only\n",
      "\n",
      "\n"
     ]
    },
    {
     "name": "stderr",
     "output_type": "stream",
     "text": [
      "C:\\Users\\DELL\\anaconda3\\envs\\ta\\lib\\site-packages\\textattack\\loggers\\csv_logger.py:41: FutureWarning: The frame.append method is deprecated and will be removed from pandas in a future version. Use pandas.concat instead.\n",
      "  self.df = self.df.append(row, ignore_index=True)\n",
      "\r",
      "[Succeeded / Failed / Skipped / Total] 30 / 276 / 2 / 308:  62%|████████████▉        | 308/500 [03:49<02:23,  1.34it/s]"
     ]
    },
    {
     "name": "stdout",
     "output_type": "stream",
     "text": [
      "--------------------------------------------- Result 308 ---------------------------------------------\n",
      "[[0 (100%)]] --> [[[FAILED]]]\n",
      "\n",
      "What's a feathery bowa? Is that something guys have that I don't know about?\n",
      "\n",
      "\n"
     ]
    },
    {
     "name": "stderr",
     "output_type": "stream",
     "text": [
      "[Succeeded / Failed / Skipped / Total] 30 / 276 / 2 / 308:  62%|████████████▉        | 309/500 [03:51<02:23,  1.34it/s]C:\\Users\\DELL\\anaconda3\\envs\\ta\\lib\\site-packages\\textattack\\loggers\\csv_logger.py:41: FutureWarning: The frame.append method is deprecated and will be removed from pandas in a future version. Use pandas.concat instead.\n",
      "  self.df = self.df.append(row, ignore_index=True)\n",
      "[Succeeded / Failed / Skipped / Total] 30 / 277 / 2 / 309:  62%|████████████▉        | 309/500 [03:51<02:23,  1.34it/s]"
     ]
    },
    {
     "name": "stdout",
     "output_type": "stream",
     "text": [
      "--------------------------------------------- Result 309 ---------------------------------------------\n",
      "[[0 (100%)]] --> [[[FAILED]]]\n",
      "\n",
      "Feb  &lt;#&gt;  is \"I LOVE U\" day. Send dis to all ur \"VALUED FRNDS\" evn me. If 3 comes back u'll gt married d person u luv! If u ignore dis u will lose ur luv 4 Evr\n",
      "\n",
      "\n"
     ]
    },
    {
     "name": "stderr",
     "output_type": "stream",
     "text": [
      "C:\\Users\\DELL\\anaconda3\\envs\\ta\\lib\\site-packages\\textattack\\loggers\\csv_logger.py:41: FutureWarning: The frame.append method is deprecated and will be removed from pandas in a future version. Use pandas.concat instead.\n",
      "  self.df = self.df.append(row, ignore_index=True)\n",
      "\r",
      "[Succeeded / Failed / Skipped / Total] 30 / 278 / 2 / 310:  62%|█████████████        | 310/500 [03:52<02:22,  1.33it/s]"
     ]
    },
    {
     "name": "stdout",
     "output_type": "stream",
     "text": [
      "--------------------------------------------- Result 310 ---------------------------------------------\n",
      "[[0 (100%)]] --> [[[FAILED]]]\n",
      "\n",
      "My supervisor find 4 me one lor i thk his students. I havent ask her yet. Tell u aft i ask her.\n",
      "\n",
      "\n"
     ]
    },
    {
     "name": "stderr",
     "output_type": "stream",
     "text": [
      "[Succeeded / Failed / Skipped / Total] 30 / 278 / 2 / 310:  62%|█████████████        | 311/500 [03:54<02:22,  1.33it/s]C:\\Users\\DELL\\anaconda3\\envs\\ta\\lib\\site-packages\\textattack\\loggers\\csv_logger.py:41: FutureWarning: The frame.append method is deprecated and will be removed from pandas in a future version. Use pandas.concat instead.\n",
      "  self.df = self.df.append(row, ignore_index=True)\n",
      "[Succeeded / Failed / Skipped / Total] 30 / 279 / 2 / 311:  62%|█████████████        | 311/500 [03:54<02:22,  1.33it/s]"
     ]
    },
    {
     "name": "stdout",
     "output_type": "stream",
     "text": [
      "--------------------------------------------- Result 311 ---------------------------------------------\n",
      "[[0 (100%)]] --> [[[FAILED]]]\n",
      "\n",
      "Lol! Nah wasn't too bad thanks. Its good to b home but its been quite a reality check. Hows ur day been? Did u do anything with website?\n",
      "\n",
      "\n"
     ]
    },
    {
     "name": "stderr",
     "output_type": "stream",
     "text": [
      "C:\\Users\\DELL\\anaconda3\\envs\\ta\\lib\\site-packages\\textattack\\loggers\\csv_logger.py:41: FutureWarning: The frame.append method is deprecated and will be removed from pandas in a future version. Use pandas.concat instead.\n",
      "  self.df = self.df.append(row, ignore_index=True)\n",
      "\r",
      "[Succeeded / Failed / Skipped / Total] 30 / 280 / 2 / 312:  62%|█████████████        | 312/500 [03:54<02:21,  1.33it/s]"
     ]
    },
    {
     "name": "stdout",
     "output_type": "stream",
     "text": [
      "--------------------------------------------- Result 312 ---------------------------------------------\n",
      "[[0 (100%)]] --> [[[FAILED]]]\n",
      "\n",
      "Great. Have a safe trip. Dont panic surrender all.\n",
      "\n",
      "\n"
     ]
    },
    {
     "name": "stderr",
     "output_type": "stream",
     "text": [
      "[Succeeded / Failed / Skipped / Total] 30 / 280 / 2 / 312:  63%|█████████████▏       | 313/500 [03:58<02:22,  1.31it/s]C:\\Users\\DELL\\anaconda3\\envs\\ta\\lib\\site-packages\\textattack\\loggers\\csv_logger.py:41: FutureWarning: The frame.append method is deprecated and will be removed from pandas in a future version. Use pandas.concat instead.\n",
      "  self.df = self.df.append(row, ignore_index=True)\n",
      "[Succeeded / Failed / Skipped / Total] 30 / 281 / 2 / 313:  63%|█████████████▏       | 313/500 [03:58<02:22,  1.31it/s]"
     ]
    },
    {
     "name": "stdout",
     "output_type": "stream",
     "text": [
      "--------------------------------------------- Result 313 ---------------------------------------------\n",
      "[[0 (100%)]] --> [[[FAILED]]]\n",
      "\n",
      "She is our sister.. She belongs 2 our family.. She is d hope of tomorrow.. Pray 4 her,who was fated 4 d Shoranur train incident. Lets hold our hands together &amp; fuelled by love &amp; concern prior 2 her grief &amp; pain. Pls join in dis chain &amp; pass it. STOP VIOLENCE AGAINST WOMEN.\n",
      "\n",
      "\n"
     ]
    },
    {
     "name": "stderr",
     "output_type": "stream",
     "text": [
      "C:\\Users\\DELL\\anaconda3\\envs\\ta\\lib\\site-packages\\textattack\\loggers\\csv_logger.py:41: FutureWarning: The frame.append method is deprecated and will be removed from pandas in a future version. Use pandas.concat instead.\n",
      "  self.df = self.df.append(row, ignore_index=True)\n",
      "\r",
      "[Succeeded / Failed / Skipped / Total] 30 / 282 / 2 / 314:  63%|█████████████▏       | 314/500 [03:59<02:21,  1.31it/s]"
     ]
    },
    {
     "name": "stdout",
     "output_type": "stream",
     "text": [
      "--------------------------------------------- Result 314 ---------------------------------------------\n",
      "[[0 (100%)]] --> [[[FAILED]]]\n",
      "\n",
      "What i mean is do they come chase you out when its over or is it stated you can watch as many movies as you want.\n",
      "\n",
      "\n"
     ]
    },
    {
     "name": "stderr",
     "output_type": "stream",
     "text": [
      "[Succeeded / Failed / Skipped / Total] 30 / 282 / 2 / 314:  63%|█████████████▏       | 315/500 [03:59<02:20,  1.31it/s]C:\\Users\\DELL\\anaconda3\\envs\\ta\\lib\\site-packages\\textattack\\loggers\\csv_logger.py:41: FutureWarning: The frame.append method is deprecated and will be removed from pandas in a future version. Use pandas.concat instead.\n",
      "  self.df = self.df.append(row, ignore_index=True)\n",
      "[Succeeded / Failed / Skipped / Total] 30 / 283 / 2 / 315:  63%|█████████████▏       | 315/500 [03:59<02:20,  1.31it/s]"
     ]
    },
    {
     "name": "stdout",
     "output_type": "stream",
     "text": [
      "--------------------------------------------- Result 315 ---------------------------------------------\n",
      "[[0 (100%)]] --> [[[FAILED]]]\n",
      "\n",
      "Happy new years melody!\n",
      "\n",
      "\n"
     ]
    },
    {
     "name": "stderr",
     "output_type": "stream",
     "text": [
      "C:\\Users\\DELL\\anaconda3\\envs\\ta\\lib\\site-packages\\textattack\\loggers\\csv_logger.py:41: FutureWarning: The frame.append method is deprecated and will be removed from pandas in a future version. Use pandas.concat instead.\n",
      "  self.df = self.df.append(row, ignore_index=True)\n",
      "\r",
      "[Succeeded / Failed / Skipped / Total] 30 / 284 / 2 / 316:  63%|█████████████▎       | 316/500 [04:00<02:20,  1.31it/s]"
     ]
    },
    {
     "name": "stdout",
     "output_type": "stream",
     "text": [
      "--------------------------------------------- Result 316 ---------------------------------------------\n",
      "[[0 (100%)]] --> [[[FAILED]]]\n",
      "\n",
      "Aiyar u so poor thing... I give u my support k... Jia you! I'll think of u...\n",
      "\n",
      "\n"
     ]
    },
    {
     "name": "stderr",
     "output_type": "stream",
     "text": [
      "[Succeeded / Failed / Skipped / Total] 30 / 284 / 2 / 316:  63%|█████████████▎       | 317/500 [04:02<02:19,  1.31it/s]C:\\Users\\DELL\\anaconda3\\envs\\ta\\lib\\site-packages\\textattack\\loggers\\csv_logger.py:41: FutureWarning: The frame.append method is deprecated and will be removed from pandas in a future version. Use pandas.concat instead.\n",
      "  self.df = self.df.append(row, ignore_index=True)\n",
      "[Succeeded / Failed / Skipped / Total] 30 / 285 / 2 / 317:  63%|█████████████▎       | 317/500 [04:02<02:19,  1.31it/s]"
     ]
    },
    {
     "name": "stdout",
     "output_type": "stream",
     "text": [
      "--------------------------------------------- Result 317 ---------------------------------------------\n",
      "[[1 (100%)]] --> [[[FAILED]]]\n",
      "\n",
      "<Forwarded from 21870000>Hi - this is your Mailbox Messaging SMS alert. You have 4 messages. You have 21 matches. Please call back on 09056242159 to retrieve your messages and matches\n",
      "\n",
      "\n"
     ]
    },
    {
     "name": "stderr",
     "output_type": "stream",
     "text": [
      "C:\\Users\\DELL\\anaconda3\\envs\\ta\\lib\\site-packages\\textattack\\loggers\\csv_logger.py:41: FutureWarning: The frame.append method is deprecated and will be removed from pandas in a future version. Use pandas.concat instead.\n",
      "  self.df = self.df.append(row, ignore_index=True)\n",
      "\r",
      "[Succeeded / Failed / Skipped / Total] 30 / 286 / 2 / 318:  64%|█████████████▎       | 318/500 [04:02<02:18,  1.31it/s]"
     ]
    },
    {
     "name": "stdout",
     "output_type": "stream",
     "text": [
      "--------------------------------------------- Result 318 ---------------------------------------------\n",
      "[[0 (100%)]] --> [[[FAILED]]]\n",
      "\n",
      "Thanks for yesterday sir. You have been wonderful. Hope you enjoyed the burial. MojiBiola\n",
      "\n",
      "\n"
     ]
    },
    {
     "name": "stderr",
     "output_type": "stream",
     "text": [
      "[Succeeded / Failed / Skipped / Total] 30 / 286 / 2 / 318:  64%|█████████████▍       | 319/500 [04:03<02:17,  1.31it/s]C:\\Users\\DELL\\anaconda3\\envs\\ta\\lib\\site-packages\\textattack\\loggers\\csv_logger.py:41: FutureWarning: The frame.append method is deprecated and will be removed from pandas in a future version. Use pandas.concat instead.\n",
      "  self.df = self.df.append(row, ignore_index=True)\n",
      "[Succeeded / Failed / Skipped / Total] 30 / 287 / 2 / 319:  64%|█████████████▍       | 319/500 [04:03<02:17,  1.31it/s]C:\\Users\\DELL\\anaconda3\\envs\\ta\\lib\\site-packages\\textattack\\loggers\\csv_logger.py:41: FutureWarning: The frame.append method is deprecated and will be removed from pandas in a future version. Use pandas.concat instead.\n",
      "  self.df = self.df.append(row, ignore_index=True)\n",
      "[Succeeded / Failed / Skipped / Total] 30 / 287 / 3 / 320:  64%|█████████████▍       | 320/500 [04:03<02:16,  1.32it/s]"
     ]
    },
    {
     "name": "stdout",
     "output_type": "stream",
     "text": [
      "--------------------------------------------- Result 319 ---------------------------------------------\n",
      "[[0 (100%)]] --> [[[FAILED]]]\n",
      "\n",
      "Lol! Oops sorry! Have fun. \n",
      "\n",
      "\n",
      "--------------------------------------------- Result 320 ---------------------------------------------\n",
      "[[0 (100%)]] --> [[[SKIPPED]]]\n",
      "\n",
      "Will u meet ur dream partner soon? Is ur career off 2 a flyng start? 2 find out free, txt HORO followed by ur star sign, e. g. HORO ARIES\n",
      "\n",
      "\n"
     ]
    },
    {
     "name": "stderr",
     "output_type": "stream",
     "text": [
      "[Succeeded / Failed / Skipped / Total] 30 / 287 / 3 / 320:  64%|█████████████▍       | 321/500 [04:03<02:15,  1.32it/s]C:\\Users\\DELL\\anaconda3\\envs\\ta\\lib\\site-packages\\textattack\\loggers\\csv_logger.py:41: FutureWarning: The frame.append method is deprecated and will be removed from pandas in a future version. Use pandas.concat instead.\n",
      "  self.df = self.df.append(row, ignore_index=True)\n",
      "[Succeeded / Failed / Skipped / Total] 30 / 288 / 3 / 321:  64%|█████████████▍       | 321/500 [04:03<02:15,  1.32it/s]C:\\Users\\DELL\\anaconda3\\envs\\ta\\lib\\site-packages\\textattack\\loggers\\csv_logger.py:41: FutureWarning: The frame.append method is deprecated and will be removed from pandas in a future version. Use pandas.concat instead.\n",
      "  self.df = self.df.append(row, ignore_index=True)\n",
      "[Succeeded / Failed / Skipped / Total] 30 / 289 / 3 / 322:  64%|█████████████▌       | 322/500 [04:03<02:14,  1.32it/s]"
     ]
    },
    {
     "name": "stdout",
     "output_type": "stream",
     "text": [
      "--------------------------------------------- Result 321 ---------------------------------------------\n",
      "[[0 (100%)]] --> [[[FAILED]]]\n",
      "\n",
      "I asked you to call him now ok\n",
      "\n",
      "\n",
      "--------------------------------------------- Result 322 ---------------------------------------------\n",
      "[[0 (100%)]] --> [[[FAILED]]]\n",
      "\n",
      "Mm i am on the way to railway\n",
      "\n",
      "\n"
     ]
    },
    {
     "name": "stderr",
     "output_type": "stream",
     "text": [
      "[Succeeded / Failed / Skipped / Total] 30 / 289 / 3 / 322:  65%|█████████████▌       | 323/500 [04:04<02:13,  1.32it/s]C:\\Users\\DELL\\anaconda3\\envs\\ta\\lib\\site-packages\\textattack\\loggers\\csv_logger.py:41: FutureWarning: The frame.append method is deprecated and will be removed from pandas in a future version. Use pandas.concat instead.\n",
      "  self.df = self.df.append(row, ignore_index=True)\n",
      "[Succeeded / Failed / Skipped / Total] 30 / 290 / 3 / 323:  65%|█████████████▌       | 323/500 [04:04<02:13,  1.32it/s]"
     ]
    },
    {
     "name": "stdout",
     "output_type": "stream",
     "text": [
      "--------------------------------------------- Result 323 ---------------------------------------------\n",
      "[[0 (100%)]] --> [[[FAILED]]]\n",
      "\n",
      "I am on the way to ur home\n",
      "\n",
      "\n"
     ]
    },
    {
     "name": "stderr",
     "output_type": "stream",
     "text": [
      "C:\\Users\\DELL\\anaconda3\\envs\\ta\\lib\\site-packages\\textattack\\loggers\\csv_logger.py:41: FutureWarning: The frame.append method is deprecated and will be removed from pandas in a future version. Use pandas.concat instead.\n",
      "  self.df = self.df.append(row, ignore_index=True)\n",
      "[Succeeded / Failed / Skipped / Total] 30 / 291 / 3 / 324:  65%|█████████████▋       | 325/500 [04:04<02:11,  1.33it/s]C:\\Users\\DELL\\anaconda3\\envs\\ta\\lib\\site-packages\\textattack\\loggers\\csv_logger.py:41: FutureWarning: The frame.append method is deprecated and will be removed from pandas in a future version. Use pandas.concat instead.\n",
      "  self.df = self.df.append(row, ignore_index=True)\n",
      "[Succeeded / Failed / Skipped / Total] 30 / 292 / 3 / 325:  65%|█████████████▋       | 325/500 [04:04<02:11,  1.33it/s]"
     ]
    },
    {
     "name": "stdout",
     "output_type": "stream",
     "text": [
      "--------------------------------------------- Result 324 ---------------------------------------------\n",
      "[[1 (100%)]] --> [[[FAILED]]]\n",
      "\n",
      "Please CALL 08712402779 immediately as there is an urgent message waiting for you\n",
      "\n",
      "\n",
      "--------------------------------------------- Result 325 ---------------------------------------------\n",
      "[[0 (100%)]] --> [[[FAILED]]]\n",
      "\n",
      "So when do you wanna gym?\n",
      "\n",
      "\n"
     ]
    },
    {
     "name": "stderr",
     "output_type": "stream",
     "text": [
      "C:\\Users\\DELL\\anaconda3\\envs\\ta\\lib\\site-packages\\textattack\\loggers\\csv_logger.py:41: FutureWarning: The frame.append method is deprecated and will be removed from pandas in a future version. Use pandas.concat instead.\n",
      "  self.df = self.df.append(row, ignore_index=True)\n",
      "\r",
      "[Succeeded / Failed / Skipped / Total] 31 / 292 / 3 / 326:  65%|█████████████▋       | 326/500 [04:06<02:11,  1.32it/s]"
     ]
    },
    {
     "name": "stdout",
     "output_type": "stream",
     "text": [
      "--------------------------------------------- Result 326 ---------------------------------------------\n",
      "[[0 (100%)]] --> [[1 (69%)]]\n",
      "\n",
      "So many people [[seems]] to be [[special]] at [[first]] sight, But only very few will remain [[special]] to you [[till]] your [[last]] [[sight]].. Maintain them [[till]] [[life]] ends.. Sh!jas\n",
      "\n",
      "So many people [[appear]] to be [[extra]] at [[world-class]] sight, But only very few will remain [[limited]] to you [[cashbox]] your [[net]] [[view]].. Maintain them [[cashbox]] [[animation]] ends.. Sh!jas\n",
      "\n",
      "\n"
     ]
    },
    {
     "name": "stderr",
     "output_type": "stream",
     "text": [
      "[Succeeded / Failed / Skipped / Total] 31 / 292 / 3 / 326:  65%|█████████████▋       | 327/500 [04:06<02:10,  1.33it/s]C:\\Users\\DELL\\anaconda3\\envs\\ta\\lib\\site-packages\\textattack\\loggers\\csv_logger.py:41: FutureWarning: The frame.append method is deprecated and will be removed from pandas in a future version. Use pandas.concat instead.\n",
      "  self.df = self.df.append(row, ignore_index=True)\n",
      "[Succeeded / Failed / Skipped / Total] 31 / 293 / 3 / 327:  65%|█████████████▋       | 327/500 [04:06<02:10,  1.33it/s]"
     ]
    },
    {
     "name": "stdout",
     "output_type": "stream",
     "text": [
      "--------------------------------------------- Result 327 ---------------------------------------------\n",
      "[[0 (100%)]] --> [[[FAILED]]]\n",
      "\n",
      "* Will have two more cartons off u and is very pleased with shelves\n",
      "\n",
      "\n"
     ]
    },
    {
     "name": "stderr",
     "output_type": "stream",
     "text": [
      "C:\\Users\\DELL\\anaconda3\\envs\\ta\\lib\\site-packages\\textattack\\loggers\\csv_logger.py:41: FutureWarning: The frame.append method is deprecated and will be removed from pandas in a future version. Use pandas.concat instead.\n",
      "  self.df = self.df.append(row, ignore_index=True)\n",
      "\r",
      "[Succeeded / Failed / Skipped / Total] 31 / 294 / 3 / 328:  66%|█████████████▊       | 328/500 [04:07<02:09,  1.33it/s]"
     ]
    },
    {
     "name": "stdout",
     "output_type": "stream",
     "text": [
      "--------------------------------------------- Result 328 ---------------------------------------------\n",
      "[[0 (100%)]] --> [[[FAILED]]]\n",
      "\n",
      "Same as u... Dun wan... Y u dun like me already ah... Wat u doing now? Still eating?\n",
      "\n",
      "\n"
     ]
    },
    {
     "name": "stderr",
     "output_type": "stream",
     "text": [
      "[Succeeded / Failed / Skipped / Total] 31 / 294 / 3 / 328:  66%|█████████████▊       | 329/500 [04:07<02:08,  1.33it/s]C:\\Users\\DELL\\anaconda3\\envs\\ta\\lib\\site-packages\\textattack\\loggers\\csv_logger.py:41: FutureWarning: The frame.append method is deprecated and will be removed from pandas in a future version. Use pandas.concat instead.\n",
      "  self.df = self.df.append(row, ignore_index=True)\n",
      "[Succeeded / Failed / Skipped / Total] 31 / 295 / 3 / 329:  66%|█████████████▊       | 329/500 [04:07<02:08,  1.33it/s]"
     ]
    },
    {
     "name": "stdout",
     "output_type": "stream",
     "text": [
      "--------------------------------------------- Result 329 ---------------------------------------------\n",
      "[[0 (100%)]] --> [[[FAILED]]]\n",
      "\n",
      "K I'm ready,  &lt;#&gt; ?\n",
      "\n",
      "\n"
     ]
    },
    {
     "name": "stderr",
     "output_type": "stream",
     "text": [
      "C:\\Users\\DELL\\anaconda3\\envs\\ta\\lib\\site-packages\\textattack\\loggers\\csv_logger.py:41: FutureWarning: The frame.append method is deprecated and will be removed from pandas in a future version. Use pandas.concat instead.\n",
      "  self.df = self.df.append(row, ignore_index=True)\n",
      "\r",
      "[Succeeded / Failed / Skipped / Total] 31 / 296 / 3 / 330:  66%|█████████████▊       | 330/500 [04:07<02:07,  1.33it/s]"
     ]
    },
    {
     "name": "stdout",
     "output_type": "stream",
     "text": [
      "--------------------------------------------- Result 330 ---------------------------------------------\n",
      "[[0 (100%)]] --> [[[FAILED]]]\n",
      "\n",
      "Come round, it's . \n",
      "\n",
      "\n"
     ]
    },
    {
     "name": "stderr",
     "output_type": "stream",
     "text": [
      "[Succeeded / Failed / Skipped / Total] 31 / 296 / 3 / 330:  66%|█████████████▉       | 331/500 [04:08<02:06,  1.33it/s]C:\\Users\\DELL\\anaconda3\\envs\\ta\\lib\\site-packages\\textattack\\loggers\\csv_logger.py:41: FutureWarning: The frame.append method is deprecated and will be removed from pandas in a future version. Use pandas.concat instead.\n",
      "  self.df = self.df.append(row, ignore_index=True)\n",
      "[Succeeded / Failed / Skipped / Total] 31 / 297 / 3 / 331:  66%|█████████████▉       | 331/500 [04:08<02:06,  1.33it/s]"
     ]
    },
    {
     "name": "stdout",
     "output_type": "stream",
     "text": [
      "--------------------------------------------- Result 331 ---------------------------------------------\n",
      "[[0 (100%)]] --> [[[FAILED]]]\n",
      "\n",
      "not that I know of, most people up here are still out of town\n",
      "\n",
      "\n"
     ]
    },
    {
     "name": "stderr",
     "output_type": "stream",
     "text": [
      "C:\\Users\\DELL\\anaconda3\\envs\\ta\\lib\\site-packages\\textattack\\loggers\\csv_logger.py:41: FutureWarning: The frame.append method is deprecated and will be removed from pandas in a future version. Use pandas.concat instead.\n",
      "  self.df = self.df.append(row, ignore_index=True)\n",
      "\r",
      "[Succeeded / Failed / Skipped / Total] 31 / 298 / 3 / 332:  66%|█████████████▉       | 332/500 [04:09<02:06,  1.33it/s]"
     ]
    },
    {
     "name": "stdout",
     "output_type": "stream",
     "text": [
      "--------------------------------------------- Result 332 ---------------------------------------------\n",
      "[[0 (100%)]] --> [[[FAILED]]]\n",
      "\n",
      "I tot it's my group mate... Lucky i havent reply... Wat time do ü need to leave... \n",
      "\n",
      "\n"
     ]
    },
    {
     "name": "stderr",
     "output_type": "stream",
     "text": [
      "[Succeeded / Failed / Skipped / Total] 31 / 298 / 3 / 332:  67%|█████████████▉       | 333/500 [04:09<02:05,  1.33it/s]C:\\Users\\DELL\\anaconda3\\envs\\ta\\lib\\site-packages\\textattack\\loggers\\csv_logger.py:41: FutureWarning: The frame.append method is deprecated and will be removed from pandas in a future version. Use pandas.concat instead.\n",
      "  self.df = self.df.append(row, ignore_index=True)\n",
      "[Succeeded / Failed / Skipped / Total] 32 / 298 / 3 / 333:  67%|█████████████▉       | 333/500 [04:09<02:05,  1.33it/s]"
     ]
    },
    {
     "name": "stdout",
     "output_type": "stream",
     "text": [
      "--------------------------------------------- Result 333 ---------------------------------------------\n",
      "[[0 (100%)]] --> [[1 (93%)]]\n",
      "\n",
      "If [[I]] get there before you after your [[ten]] [[billion]] calls and [[texts]] so help me god\n",
      "\n",
      "If [[single]] get there before you after your [[ten-spot]] [[1000000000000]] calls and [[schoolbook]] so help me god\n",
      "\n",
      "\n"
     ]
    },
    {
     "name": "stderr",
     "output_type": "stream",
     "text": [
      "C:\\Users\\DELL\\anaconda3\\envs\\ta\\lib\\site-packages\\textattack\\loggers\\csv_logger.py:41: FutureWarning: The frame.append method is deprecated and will be removed from pandas in a future version. Use pandas.concat instead.\n",
      "  self.df = self.df.append(row, ignore_index=True)\n",
      "\r",
      "[Succeeded / Failed / Skipped / Total] 32 / 299 / 3 / 334:  67%|██████████████       | 334/500 [04:10<02:04,  1.33it/s]"
     ]
    },
    {
     "name": "stdout",
     "output_type": "stream",
     "text": [
      "--------------------------------------------- Result 334 ---------------------------------------------\n",
      "[[0 (100%)]] --> [[[FAILED]]]\n",
      "\n",
      "I just really need shit before tomorrow and I know you won't be awake before like 6\n",
      "\n",
      "\n"
     ]
    },
    {
     "name": "stderr",
     "output_type": "stream",
     "text": [
      "[Succeeded / Failed / Skipped / Total] 32 / 299 / 3 / 334:  67%|██████████████       | 335/500 [04:12<02:04,  1.33it/s]C:\\Users\\DELL\\anaconda3\\envs\\ta\\lib\\site-packages\\textattack\\loggers\\csv_logger.py:41: FutureWarning: The frame.append method is deprecated and will be removed from pandas in a future version. Use pandas.concat instead.\n",
      "  self.df = self.df.append(row, ignore_index=True)\n",
      "[Succeeded / Failed / Skipped / Total] 32 / 300 / 3 / 335:  67%|██████████████       | 335/500 [04:12<02:04,  1.33it/s]"
     ]
    },
    {
     "name": "stdout",
     "output_type": "stream",
     "text": [
      "--------------------------------------------- Result 335 ---------------------------------------------\n",
      "[[0 (100%)]] --> [[[FAILED]]]\n",
      "\n",
      "Don't make life too stressfull.. Always find time to Laugh.. It may not add years to your Life! But surely adds more life to ur years!! Gud ni8..swt dreams..\n",
      "\n",
      "\n"
     ]
    },
    {
     "name": "stderr",
     "output_type": "stream",
     "text": [
      "C:\\Users\\DELL\\anaconda3\\envs\\ta\\lib\\site-packages\\textattack\\loggers\\csv_logger.py:41: FutureWarning: The frame.append method is deprecated and will be removed from pandas in a future version. Use pandas.concat instead.\n",
      "  self.df = self.df.append(row, ignore_index=True)\n",
      "[Succeeded / Failed / Skipped / Total] 32 / 301 / 3 / 336:  67%|██████████████▏      | 337/500 [04:14<02:02,  1.33it/s]"
     ]
    },
    {
     "name": "stdout",
     "output_type": "stream",
     "text": [
      "--------------------------------------------- Result 336 ---------------------------------------------\n",
      "[[0 (100%)]] --> [[[FAILED]]]\n",
      "\n",
      "Becoz its  &lt;#&gt;  jan whn al the post ofice is in holiday so she cn go fr the post ofice...got it duffer\n",
      "\n",
      "\n"
     ]
    },
    {
     "name": "stderr",
     "output_type": "stream",
     "text": [
      "C:\\Users\\DELL\\anaconda3\\envs\\ta\\lib\\site-packages\\textattack\\loggers\\csv_logger.py:41: FutureWarning: The frame.append method is deprecated and will be removed from pandas in a future version. Use pandas.concat instead.\n",
      "  self.df = self.df.append(row, ignore_index=True)\n",
      "\r",
      "[Succeeded / Failed / Skipped / Total] 32 / 302 / 3 / 337:  67%|██████████████▏      | 337/500 [04:14<02:02,  1.33it/s]"
     ]
    },
    {
     "name": "stdout",
     "output_type": "stream",
     "text": [
      "--------------------------------------------- Result 337 ---------------------------------------------\n",
      "[[0 (100%)]] --> [[[FAILED]]]\n",
      "\n",
      "Ok lor. I'm in town now lei.\n",
      "\n",
      "\n"
     ]
    },
    {
     "name": "stderr",
     "output_type": "stream",
     "text": [
      "C:\\Users\\DELL\\anaconda3\\envs\\ta\\lib\\site-packages\\textattack\\loggers\\csv_logger.py:41: FutureWarning: The frame.append method is deprecated and will be removed from pandas in a future version. Use pandas.concat instead.\n",
      "  self.df = self.df.append(row, ignore_index=True)\n",
      "\r",
      "[Succeeded / Failed / Skipped / Total] 32 / 303 / 3 / 338:  68%|██████████████▏      | 338/500 [04:15<02:02,  1.33it/s]"
     ]
    },
    {
     "name": "stdout",
     "output_type": "stream",
     "text": [
      "--------------------------------------------- Result 338 ---------------------------------------------\n",
      "[[0 (100%)]] --> [[[FAILED]]]\n",
      "\n",
      "You do your studies alone without anyones help. If you cant no need to study.\n",
      "\n",
      "\n"
     ]
    },
    {
     "name": "stderr",
     "output_type": "stream",
     "text": [
      "[Succeeded / Failed / Skipped / Total] 32 / 303 / 3 / 338:  68%|██████████████▏      | 339/500 [04:15<02:01,  1.33it/s]C:\\Users\\DELL\\anaconda3\\envs\\ta\\lib\\site-packages\\textattack\\loggers\\csv_logger.py:41: FutureWarning: The frame.append method is deprecated and will be removed from pandas in a future version. Use pandas.concat instead.\n",
      "  self.df = self.df.append(row, ignore_index=True)\n",
      "[Succeeded / Failed / Skipped / Total] 32 / 304 / 3 / 339:  68%|██████████████▏      | 339/500 [04:15<02:01,  1.33it/s]"
     ]
    },
    {
     "name": "stdout",
     "output_type": "stream",
     "text": [
      "--------------------------------------------- Result 339 ---------------------------------------------\n",
      "[[0 (100%)]] --> [[[FAILED]]]\n",
      "\n",
      "… and don‘t worry we‘ll have finished by march … ish!\n",
      "\n",
      "\n"
     ]
    },
    {
     "name": "stderr",
     "output_type": "stream",
     "text": [
      "C:\\Users\\DELL\\anaconda3\\envs\\ta\\lib\\site-packages\\textattack\\loggers\\csv_logger.py:41: FutureWarning: The frame.append method is deprecated and will be removed from pandas in a future version. Use pandas.concat instead.\n",
      "  self.df = self.df.append(row, ignore_index=True)\n",
      "[Succeeded / Failed / Skipped / Total] 32 / 305 / 3 / 340:  68%|██████████████▎      | 341/500 [04:16<01:59,  1.33it/s]C:\\Users\\DELL\\anaconda3\\envs\\ta\\lib\\site-packages\\textattack\\loggers\\csv_logger.py:41: FutureWarning: The frame.append method is deprecated and will be removed from pandas in a future version. Use pandas.concat instead.\n",
      "  self.df = self.df.append(row, ignore_index=True)\n",
      "[Succeeded / Failed / Skipped / Total] 32 / 306 / 3 / 341:  68%|██████████████▎      | 341/500 [04:16<01:59,  1.33it/s]"
     ]
    },
    {
     "name": "stdout",
     "output_type": "stream",
     "text": [
      "--------------------------------------------- Result 340 ---------------------------------------------\n",
      "[[0 (100%)]] --> [[[FAILED]]]\n",
      "\n",
      "Hey cutie. How goes it? Here in WALES its kinda ok. There is like hills and shit but i still avent killed myself. \n",
      "\n",
      "\n",
      "--------------------------------------------- Result 341 ---------------------------------------------\n",
      "[[0 (100%)]] --> [[[FAILED]]]\n",
      "\n",
      "Wat r u doing now?\n",
      "\n",
      "\n"
     ]
    },
    {
     "name": "stderr",
     "output_type": "stream",
     "text": [
      "C:\\Users\\DELL\\anaconda3\\envs\\ta\\lib\\site-packages\\textattack\\loggers\\csv_logger.py:41: FutureWarning: The frame.append method is deprecated and will be removed from pandas in a future version. Use pandas.concat instead.\n",
      "  self.df = self.df.append(row, ignore_index=True)\n",
      "\r",
      "[Succeeded / Failed / Skipped / Total] 32 / 307 / 3 / 342:  68%|██████████████▎      | 342/500 [04:17<01:58,  1.33it/s]"
     ]
    },
    {
     "name": "stdout",
     "output_type": "stream",
     "text": [
      "--------------------------------------------- Result 342 ---------------------------------------------\n",
      "[[0 (100%)]] --> [[[FAILED]]]\n",
      "\n",
      "What class of  &lt;#&gt;  reunion?\n",
      "\n",
      "\n"
     ]
    },
    {
     "name": "stderr",
     "output_type": "stream",
     "text": [
      "[Succeeded / Failed / Skipped / Total] 32 / 307 / 3 / 342:  69%|██████████████▍      | 343/500 [04:17<01:57,  1.33it/s]C:\\Users\\DELL\\anaconda3\\envs\\ta\\lib\\site-packages\\textattack\\loggers\\csv_logger.py:41: FutureWarning: The frame.append method is deprecated and will be removed from pandas in a future version. Use pandas.concat instead.\n",
      "  self.df = self.df.append(row, ignore_index=True)\n",
      "[Succeeded / Failed / Skipped / Total] 32 / 308 / 3 / 343:  69%|██████████████▍      | 343/500 [04:17<01:57,  1.33it/s]"
     ]
    },
    {
     "name": "stdout",
     "output_type": "stream",
     "text": [
      "--------------------------------------------- Result 343 ---------------------------------------------\n",
      "[[0 (100%)]] --> [[[FAILED]]]\n",
      "\n",
      "Sorry, went to bed early, nightnight\n",
      "\n",
      "\n"
     ]
    },
    {
     "name": "stderr",
     "output_type": "stream",
     "text": [
      "C:\\Users\\DELL\\anaconda3\\envs\\ta\\lib\\site-packages\\textattack\\loggers\\csv_logger.py:41: FutureWarning: The frame.append method is deprecated and will be removed from pandas in a future version. Use pandas.concat instead.\n",
      "  self.df = self.df.append(row, ignore_index=True)\n",
      "[Succeeded / Failed / Skipped / Total] 32 / 309 / 3 / 344:  69%|██████████████▍      | 345/500 [04:18<01:56,  1.34it/s]"
     ]
    },
    {
     "name": "stdout",
     "output_type": "stream",
     "text": [
      "--------------------------------------------- Result 344 ---------------------------------------------\n",
      "[[0 (100%)]] --> [[[FAILED]]]\n",
      "\n",
      "Dhoni have luck to win some big title.so we will win:)\n",
      "\n",
      "\n"
     ]
    },
    {
     "name": "stderr",
     "output_type": "stream",
     "text": [
      "C:\\Users\\DELL\\anaconda3\\envs\\ta\\lib\\site-packages\\textattack\\loggers\\csv_logger.py:41: FutureWarning: The frame.append method is deprecated and will be removed from pandas in a future version. Use pandas.concat instead.\n",
      "  self.df = self.df.append(row, ignore_index=True)\n",
      "\r",
      "[Succeeded / Failed / Skipped / Total] 32 / 310 / 3 / 345:  69%|██████████████▍      | 345/500 [04:18<01:56,  1.34it/s]"
     ]
    },
    {
     "name": "stdout",
     "output_type": "stream",
     "text": [
      "--------------------------------------------- Result 345 ---------------------------------------------\n",
      "[[0 (100%)]] --> [[[FAILED]]]\n",
      "\n",
      "I will come tomorrow di\n",
      "\n",
      "\n"
     ]
    },
    {
     "name": "stderr",
     "output_type": "stream",
     "text": [
      "C:\\Users\\DELL\\anaconda3\\envs\\ta\\lib\\site-packages\\textattack\\loggers\\csv_logger.py:41: FutureWarning: The frame.append method is deprecated and will be removed from pandas in a future version. Use pandas.concat instead.\n",
      "  self.df = self.df.append(row, ignore_index=True)\n",
      "\r",
      "[Succeeded / Failed / Skipped / Total] 32 / 311 / 3 / 346:  69%|██████████████▌      | 346/500 [04:18<01:55,  1.34it/s]"
     ]
    },
    {
     "name": "stdout",
     "output_type": "stream",
     "text": [
      "--------------------------------------------- Result 346 ---------------------------------------------\n",
      "[[0 (100%)]] --> [[[FAILED]]]\n",
      "\n",
      "Also track down any lighters you can find\n",
      "\n",
      "\n"
     ]
    },
    {
     "name": "stderr",
     "output_type": "stream",
     "text": [
      "[Succeeded / Failed / Skipped / Total] 32 / 311 / 3 / 346:  69%|██████████████▌      | 347/500 [04:19<01:54,  1.34it/s]C:\\Users\\DELL\\anaconda3\\envs\\ta\\lib\\site-packages\\textattack\\loggers\\csv_logger.py:41: FutureWarning: The frame.append method is deprecated and will be removed from pandas in a future version. Use pandas.concat instead.\n",
      "  self.df = self.df.append(row, ignore_index=True)\n",
      "[Succeeded / Failed / Skipped / Total] 32 / 312 / 3 / 347:  69%|██████████████▌      | 347/500 [04:19<01:54,  1.34it/s]"
     ]
    },
    {
     "name": "stdout",
     "output_type": "stream",
     "text": [
      "--------------------------------------------- Result 347 ---------------------------------------------\n",
      "[[0 (100%)]] --> [[[FAILED]]]\n",
      "\n",
      "Printer is cool. I mean groovy. Wine is groovying\n",
      "\n",
      "\n"
     ]
    },
    {
     "name": "stderr",
     "output_type": "stream",
     "text": [
      "C:\\Users\\DELL\\anaconda3\\envs\\ta\\lib\\site-packages\\textattack\\loggers\\csv_logger.py:41: FutureWarning: The frame.append method is deprecated and will be removed from pandas in a future version. Use pandas.concat instead.\n",
      "  self.df = self.df.append(row, ignore_index=True)\n",
      "[Succeeded / Failed / Skipped / Total] 32 / 313 / 3 / 348:  70%|██████████████▋      | 349/500 [04:19<01:52,  1.34it/s]C:\\Users\\DELL\\anaconda3\\envs\\ta\\lib\\site-packages\\textattack\\loggers\\csv_logger.py:41: FutureWarning: The frame.append method is deprecated and will be removed from pandas in a future version. Use pandas.concat instead.\n",
      "  self.df = self.df.append(row, ignore_index=True)\n",
      "[Succeeded / Failed / Skipped / Total] 32 / 314 / 3 / 349:  70%|██████████████▋      | 349/500 [04:19<01:52,  1.34it/s]"
     ]
    },
    {
     "name": "stdout",
     "output_type": "stream",
     "text": [
      "--------------------------------------------- Result 348 ---------------------------------------------\n",
      "[[0 (100%)]] --> [[[FAILED]]]\n",
      "\n",
      "Will be out of class in a few hours. Sorry\n",
      "\n",
      "\n",
      "--------------------------------------------- Result 349 ---------------------------------------------\n",
      "[[0 (100%)]] --> [[[FAILED]]]\n",
      "\n",
      "It,,s a taxt massage....tie-pos argh ok! Lool!\n",
      "\n",
      "\n"
     ]
    },
    {
     "name": "stderr",
     "output_type": "stream",
     "text": [
      "C:\\Users\\DELL\\anaconda3\\envs\\ta\\lib\\site-packages\\textattack\\loggers\\csv_logger.py:41: FutureWarning: The frame.append method is deprecated and will be removed from pandas in a future version. Use pandas.concat instead.\n",
      "  self.df = self.df.append(row, ignore_index=True)\n",
      "[Succeeded / Failed / Skipped / Total] 32 / 315 / 3 / 350:  70%|██████████████▋      | 351/500 [04:21<01:51,  1.34it/s]C:\\Users\\DELL\\anaconda3\\envs\\ta\\lib\\site-packages\\textattack\\loggers\\csv_logger.py:41: FutureWarning: The frame.append method is deprecated and will be removed from pandas in a future version. Use pandas.concat instead.\n",
      "  self.df = self.df.append(row, ignore_index=True)\n",
      "[Succeeded / Failed / Skipped / Total] 32 / 316 / 3 / 351:  70%|██████████████▋      | 351/500 [04:21<01:51,  1.34it/s]"
     ]
    },
    {
     "name": "stdout",
     "output_type": "stream",
     "text": [
      "--------------------------------------------- Result 350 ---------------------------------------------\n",
      "[[0 (100%)]] --> [[[FAILED]]]\n",
      "\n",
      "If u laugh really loud.. If u talk spontaneously.. If u dont care what others feel.. U are probably with your dear &amp; best friends.. GOODEVENING Dear..:)\n",
      "\n",
      "\n",
      "--------------------------------------------- Result 351 ---------------------------------------------\n",
      "[[0 (100%)]] --> [[[FAILED]]]\n",
      "\n",
      "Yes fine \n",
      "\n",
      "\n"
     ]
    },
    {
     "name": "stderr",
     "output_type": "stream",
     "text": [
      "C:\\Users\\DELL\\anaconda3\\envs\\ta\\lib\\site-packages\\textattack\\loggers\\csv_logger.py:41: FutureWarning: The frame.append method is deprecated and will be removed from pandas in a future version. Use pandas.concat instead.\n",
      "  self.df = self.df.append(row, ignore_index=True)\n",
      "\r",
      "[Succeeded / Failed / Skipped / Total] 33 / 316 / 3 / 352:  70%|██████████████▊      | 352/500 [04:22<01:50,  1.34it/s]"
     ]
    },
    {
     "name": "stdout",
     "output_type": "stream",
     "text": [
      "--------------------------------------------- Result 352 ---------------------------------------------\n",
      "[[0 (100%)]] --> [[1 (83%)]]\n",
      "\n",
      "[[Love]] that holiday Monday [[feeling]] [[even]] if [[I]] have to [[go]] to the dentists in an hour\n",
      "\n",
      "[[enjoy]] that holiday Monday [[flavour]] [[fifty-fifty]] if [[one]] have to [[XTC]] to the dentists in an hour\n",
      "\n",
      "\n"
     ]
    },
    {
     "name": "stderr",
     "output_type": "stream",
     "text": [
      "[Succeeded / Failed / Skipped / Total] 33 / 316 / 3 / 352:  71%|██████████████▊      | 353/500 [04:23<01:49,  1.34it/s]C:\\Users\\DELL\\anaconda3\\envs\\ta\\lib\\site-packages\\textattack\\loggers\\csv_logger.py:41: FutureWarning: The frame.append method is deprecated and will be removed from pandas in a future version. Use pandas.concat instead.\n",
      "  self.df = self.df.append(row, ignore_index=True)\n",
      "[Succeeded / Failed / Skipped / Total] 33 / 317 / 3 / 353:  71%|██████████████▊      | 353/500 [04:23<01:49,  1.34it/s]"
     ]
    },
    {
     "name": "stdout",
     "output_type": "stream",
     "text": [
      "--------------------------------------------- Result 353 ---------------------------------------------\n",
      "[[0 (100%)]] --> [[[FAILED]]]\n",
      "\n",
      "Hope you are feeling great. Pls fill me in. Abiola\n",
      "\n",
      "\n"
     ]
    },
    {
     "name": "stderr",
     "output_type": "stream",
     "text": [
      "C:\\Users\\DELL\\anaconda3\\envs\\ta\\lib\\site-packages\\textattack\\loggers\\csv_logger.py:41: FutureWarning: The frame.append method is deprecated and will be removed from pandas in a future version. Use pandas.concat instead.\n",
      "  self.df = self.df.append(row, ignore_index=True)\n",
      "\r",
      "[Succeeded / Failed / Skipped / Total] 34 / 317 / 3 / 354:  71%|██████████████▊      | 354/500 [04:27<01:50,  1.32it/s]"
     ]
    },
    {
     "name": "stdout",
     "output_type": "stream",
     "text": [
      "--------------------------------------------- Result 354 ---------------------------------------------\n",
      "[[0 (100%)]] --> [[1 (53%)]]\n",
      "\n",
      "Hey sweet, I was wondering when you had a moment if you might come to me ? [[I]] want to send a file to someone but it won't [[go]] over yahoo for them because their connection sucks, remember when you set up that page for me to [[go]] to and download the format disc ? Could you tell me how to do that ? Or do you know some other [[way]] to download [[big]] files ? Because they can download stuff directly from the internet. Any [[help]] would be [[great]], my [[prey]] ... *teasing kiss*\n",
      "\n",
      "Hey sweet, I was wondering when you had a moment if you might come to me ? [[iodine]] want to send a file to someone but it won't [[decease]] over yahoo for them because their connection sucks, remember when you set up that page for me to [[XTC]] to and download the format disc ? Could you tell me how to do that ? Or do you know some other [[mode]] to download [[cock-a-hoop]] files ? Because they can download stuff directly from the internet. Any [[supporter]] would be [[outstanding]], my [[feed]] ... *teasing kiss*\n",
      "\n",
      "\n"
     ]
    },
    {
     "name": "stderr",
     "output_type": "stream",
     "text": [
      "[Succeeded / Failed / Skipped / Total] 34 / 317 / 3 / 354:  71%|██████████████▉      | 355/500 [04:28<01:49,  1.32it/s]C:\\Users\\DELL\\anaconda3\\envs\\ta\\lib\\site-packages\\textattack\\loggers\\csv_logger.py:41: FutureWarning: The frame.append method is deprecated and will be removed from pandas in a future version. Use pandas.concat instead.\n",
      "  self.df = self.df.append(row, ignore_index=True)\n",
      "[Succeeded / Failed / Skipped / Total] 34 / 318 / 3 / 355:  71%|██████████████▉      | 355/500 [04:28<01:49,  1.32it/s]C:\\Users\\DELL\\anaconda3\\envs\\ta\\lib\\site-packages\\textattack\\loggers\\csv_logger.py:41: FutureWarning: The frame.append method is deprecated and will be removed from pandas in a future version. Use pandas.concat instead.\n",
      "  self.df = self.df.append(row, ignore_index=True)\n",
      "[Succeeded / Failed / Skipped / Total] 34 / 319 / 3 / 356:  71%|██████████████▉      | 356/500 [04:28<01:48,  1.33it/s]"
     ]
    },
    {
     "name": "stdout",
     "output_type": "stream",
     "text": [
      "--------------------------------------------- Result 355 ---------------------------------------------\n",
      "[[0 (100%)]] --> [[[FAILED]]]\n",
      "\n",
      "I am taking half day leave bec i am not well\n",
      "\n",
      "\n",
      "--------------------------------------------- Result 356 ---------------------------------------------\n",
      "[[0 (100%)]] --> [[[FAILED]]]\n",
      "\n",
      "Hey what are you doing. Y no reply pa..\n",
      "\n",
      "\n"
     ]
    },
    {
     "name": "stderr",
     "output_type": "stream",
     "text": [
      "[Succeeded / Failed / Skipped / Total] 34 / 319 / 3 / 356:  71%|██████████████▉      | 357/500 [04:30<01:48,  1.32it/s]C:\\Users\\DELL\\anaconda3\\envs\\ta\\lib\\site-packages\\textattack\\loggers\\csv_logger.py:41: FutureWarning: The frame.append method is deprecated and will be removed from pandas in a future version. Use pandas.concat instead.\n",
      "  self.df = self.df.append(row, ignore_index=True)\n",
      "[Succeeded / Failed / Skipped / Total] 34 / 320 / 3 / 357:  71%|██████████████▉      | 357/500 [04:30<01:48,  1.32it/s]"
     ]
    },
    {
     "name": "stdout",
     "output_type": "stream",
     "text": [
      "--------------------------------------------- Result 357 ---------------------------------------------\n",
      "[[0 (100%)]] --> [[[FAILED]]]\n",
      "\n",
      "Same here, but I consider walls and bunkers and shit important just because I never play on peaceful but I guess your place is high enough that it don't matter\n",
      "\n",
      "\n"
     ]
    },
    {
     "name": "stderr",
     "output_type": "stream",
     "text": [
      "C:\\Users\\DELL\\anaconda3\\envs\\ta\\lib\\site-packages\\textattack\\loggers\\csv_logger.py:41: FutureWarning: The frame.append method is deprecated and will be removed from pandas in a future version. Use pandas.concat instead.\n",
      "  self.df = self.df.append(row, ignore_index=True)\n",
      "[Succeeded / Failed / Skipped / Total] 35 / 320 / 3 / 358:  72%|███████████████      | 359/500 [04:32<01:46,  1.32it/s]C:\\Users\\DELL\\anaconda3\\envs\\ta\\lib\\site-packages\\textattack\\loggers\\csv_logger.py:41: FutureWarning: The frame.append method is deprecated and will be removed from pandas in a future version. Use pandas.concat instead.\n",
      "  self.df = self.df.append(row, ignore_index=True)\n",
      "[Succeeded / Failed / Skipped / Total] 35 / 321 / 3 / 359:  72%|███████████████      | 359/500 [04:32<01:46,  1.32it/s]"
     ]
    },
    {
     "name": "stdout",
     "output_type": "stream",
     "text": [
      "--------------------------------------------- Result 358 ---------------------------------------------\n",
      "[[0 (100%)]] --> [[1 (70%)]]\n",
      "\n",
      "Hello, my [[love]]! How [[goes]] that day ? [[I]] [[wish]] your [[well]] and [[fine]] babe and hope that you [[find]] some job [[prospects]]. [[I]] miss you, boytoy ... *a [[teasing]] kiss*\n",
      "\n",
      "Hello, my [[bang]]! How [[XTC]] that day ? [[single]] [[compliments]] your [[fountainhead]] and [[exquisitely]] babe and hope that you [[receive]] some job [[view]]. [[1]] miss you, boytoy ... *a [[card]] kiss*\n",
      "\n",
      "\n",
      "--------------------------------------------- Result 359 ---------------------------------------------\n",
      "[[0 (100%)]] --> [[[FAILED]]]\n",
      "\n",
      "Those were my exact intentions\n",
      "\n",
      "\n"
     ]
    },
    {
     "name": "stderr",
     "output_type": "stream",
     "text": [
      "C:\\Users\\DELL\\anaconda3\\envs\\ta\\lib\\site-packages\\textattack\\loggers\\csv_logger.py:41: FutureWarning: The frame.append method is deprecated and will be removed from pandas in a future version. Use pandas.concat instead.\n",
      "  self.df = self.df.append(row, ignore_index=True)\n",
      "\r",
      "[Succeeded / Failed / Skipped / Total] 35 / 322 / 3 / 360:  72%|███████████████      | 360/500 [04:33<01:46,  1.32it/s]"
     ]
    },
    {
     "name": "stdout",
     "output_type": "stream",
     "text": [
      "--------------------------------------------- Result 360 ---------------------------------------------\n",
      "[[0 (100%)]] --> [[[FAILED]]]\n",
      "\n",
      "Sorry da thangam, very very sorry i am held up with prasad.\n",
      "\n",
      "\n"
     ]
    },
    {
     "name": "stderr",
     "output_type": "stream",
     "text": [
      "[Succeeded / Failed / Skipped / Total] 35 / 322 / 3 / 360:  72%|███████████████▏     | 361/500 [04:34<01:45,  1.31it/s]C:\\Users\\DELL\\anaconda3\\envs\\ta\\lib\\site-packages\\textattack\\loggers\\csv_logger.py:41: FutureWarning: The frame.append method is deprecated and will be removed from pandas in a future version. Use pandas.concat instead.\n",
      "  self.df = self.df.append(row, ignore_index=True)\n",
      "[Succeeded / Failed / Skipped / Total] 35 / 323 / 3 / 361:  72%|███████████████▏     | 361/500 [04:34<01:45,  1.31it/s]"
     ]
    },
    {
     "name": "stdout",
     "output_type": "stream",
     "text": [
      "--------------------------------------------- Result 361 ---------------------------------------------\n",
      "[[1 (100%)]] --> [[[FAILED]]]\n",
      "\n",
      "Shop till u Drop, IS IT YOU, either 10K, 5K, £500 Cash or £100 Travel voucher, Call now, 09064011000. NTT PO Box CR01327BT fixedline Cost 150ppm mobile vary\n",
      "\n",
      "\n"
     ]
    },
    {
     "name": "stderr",
     "output_type": "stream",
     "text": [
      "C:\\Users\\DELL\\anaconda3\\envs\\ta\\lib\\site-packages\\textattack\\loggers\\csv_logger.py:41: FutureWarning: The frame.append method is deprecated and will be removed from pandas in a future version. Use pandas.concat instead.\n",
      "  self.df = self.df.append(row, ignore_index=True)\n",
      "\r",
      "[Succeeded / Failed / Skipped / Total] 36 / 323 / 3 / 362:  72%|███████████████▏     | 362/500 [04:36<01:45,  1.31it/s]"
     ]
    },
    {
     "name": "stdout",
     "output_type": "stream",
     "text": [
      "--------------------------------------------- Result 362 ---------------------------------------------\n",
      "[[0 (100%)]] --> [[1 (87%)]]\n",
      "\n",
      "Hey i booked the kb on [[sat]] already... what other lessons are we going for ah? [[Keep]] your [[sat]] night free we need to [[meet]] and confirm our [[lodging]] \n",
      "\n",
      "Hey i booked the kb on [[baby-sit]] already... what other lessons are we going for ah? [[celebrate]] your [[model]] night free we need to [[match]] and confirm our [[charge]] \n",
      "\n",
      "\n"
     ]
    },
    {
     "name": "stderr",
     "output_type": "stream",
     "text": [
      "[Succeeded / Failed / Skipped / Total] 36 / 323 / 3 / 362:  73%|███████████████▏     | 363/500 [04:36<01:44,  1.31it/s]C:\\Users\\DELL\\anaconda3\\envs\\ta\\lib\\site-packages\\textattack\\loggers\\csv_logger.py:41: FutureWarning: The frame.append method is deprecated and will be removed from pandas in a future version. Use pandas.concat instead.\n",
      "  self.df = self.df.append(row, ignore_index=True)\n",
      "[Succeeded / Failed / Skipped / Total] 36 / 324 / 3 / 363:  73%|███████████████▏     | 363/500 [04:36<01:44,  1.31it/s]"
     ]
    },
    {
     "name": "stdout",
     "output_type": "stream",
     "text": [
      "--------------------------------------------- Result 363 ---------------------------------------------\n",
      "[[0 (100%)]] --> [[[FAILED]]]\n",
      "\n",
      "I can probably come by, everybody's done around  &lt;#&gt;  right?\n",
      "\n",
      "\n"
     ]
    },
    {
     "name": "stderr",
     "output_type": "stream",
     "text": [
      "C:\\Users\\DELL\\anaconda3\\envs\\ta\\lib\\site-packages\\textattack\\loggers\\csv_logger.py:41: FutureWarning: The frame.append method is deprecated and will be removed from pandas in a future version. Use pandas.concat instead.\n",
      "  self.df = self.df.append(row, ignore_index=True)\n",
      "\r",
      "[Succeeded / Failed / Skipped / Total] 36 / 325 / 3 / 364:  73%|███████████████▎     | 364/500 [04:36<01:43,  1.31it/s]"
     ]
    },
    {
     "name": "stdout",
     "output_type": "stream",
     "text": [
      "--------------------------------------------- Result 364 ---------------------------------------------\n",
      "[[0 (100%)]] --> [[[FAILED]]]\n",
      "\n",
      "have * good weekend.\n",
      "\n",
      "\n"
     ]
    },
    {
     "name": "stderr",
     "output_type": "stream",
     "text": [
      "[Succeeded / Failed / Skipped / Total] 36 / 325 / 3 / 364:  73%|███████████████▎     | 365/500 [04:37<01:42,  1.32it/s]C:\\Users\\DELL\\anaconda3\\envs\\ta\\lib\\site-packages\\textattack\\loggers\\csv_logger.py:41: FutureWarning: The frame.append method is deprecated and will be removed from pandas in a future version. Use pandas.concat instead.\n",
      "  self.df = self.df.append(row, ignore_index=True)\n",
      "[Succeeded / Failed / Skipped / Total] 37 / 325 / 3 / 365:  73%|███████████████▎     | 365/500 [04:37<01:42,  1.32it/s]"
     ]
    },
    {
     "name": "stdout",
     "output_type": "stream",
     "text": [
      "--------------------------------------------- Result 365 ---------------------------------------------\n",
      "[[0 (97%)]] --> [[1 (97%)]]\n",
      "\n",
      "This is one of the days you have a [[billion]] classes, right?\n",
      "\n",
      "This is one of the days you have a [[1000000000000]] classes, right?\n",
      "\n",
      "\n"
     ]
    },
    {
     "name": "stderr",
     "output_type": "stream",
     "text": [
      "C:\\Users\\DELL\\anaconda3\\envs\\ta\\lib\\site-packages\\textattack\\loggers\\csv_logger.py:41: FutureWarning: The frame.append method is deprecated and will be removed from pandas in a future version. Use pandas.concat instead.\n",
      "  self.df = self.df.append(row, ignore_index=True)\n",
      "\r",
      "[Succeeded / Failed / Skipped / Total] 37 / 326 / 3 / 366:  73%|███████████████▎     | 366/500 [04:41<01:43,  1.30it/s]"
     ]
    },
    {
     "name": "stdout",
     "output_type": "stream",
     "text": [
      "--------------------------------------------- Result 366 ---------------------------------------------\n",
      "[[0 (100%)]] --> [[[FAILED]]]\n",
      "\n",
      "Sir, I have been late in paying rent for the past few months and had to pay a $ &lt;#&gt;  charge. I felt it would be inconsiderate of me to nag about something you give at great cost to yourself and that's why i didnt speak up. I however am in a recession and wont be able to pay the charge this month hence my askin well ahead of month's end. Can you please help. Thanks\n",
      "\n",
      "\n"
     ]
    },
    {
     "name": "stderr",
     "output_type": "stream",
     "text": [
      "[Succeeded / Failed / Skipped / Total] 37 / 326 / 3 / 366:  73%|███████████████▍     | 367/500 [04:41<01:42,  1.30it/s]C:\\Users\\DELL\\anaconda3\\envs\\ta\\lib\\site-packages\\textattack\\loggers\\csv_logger.py:41: FutureWarning: The frame.append method is deprecated and will be removed from pandas in a future version. Use pandas.concat instead.\n",
      "  self.df = self.df.append(row, ignore_index=True)\n",
      "[Succeeded / Failed / Skipped / Total] 37 / 327 / 3 / 367:  73%|███████████████▍     | 367/500 [04:41<01:42,  1.30it/s]C:\\Users\\DELL\\anaconda3\\envs\\ta\\lib\\site-packages\\textattack\\loggers\\csv_logger.py:41: FutureWarning: The frame.append method is deprecated and will be removed from pandas in a future version. Use pandas.concat instead.\n",
      "  self.df = self.df.append(row, ignore_index=True)\n",
      "[Succeeded / Failed / Skipped / Total] 37 / 328 / 3 / 368:  74%|███████████████▍     | 368/500 [04:41<01:41,  1.31it/s]"
     ]
    },
    {
     "name": "stdout",
     "output_type": "stream",
     "text": [
      "--------------------------------------------- Result 367 ---------------------------------------------\n",
      "[[0 (100%)]] --> [[[FAILED]]]\n",
      "\n",
      "Badrith is only for chennai:)i will surely pick for us:)no competition for him.\n",
      "\n",
      "\n",
      "--------------------------------------------- Result 368 ---------------------------------------------\n",
      "[[0 (100%)]] --> [[[FAILED]]]\n",
      "\n",
      " &lt;#&gt;  in mca. But not conform.\n",
      "\n",
      "\n"
     ]
    },
    {
     "name": "stderr",
     "output_type": "stream",
     "text": [
      "[Succeeded / Failed / Skipped / Total] 37 / 328 / 3 / 368:  74%|███████████████▍     | 369/500 [04:44<01:40,  1.30it/s]C:\\Users\\DELL\\anaconda3\\envs\\ta\\lib\\site-packages\\textattack\\loggers\\csv_logger.py:41: FutureWarning: The frame.append method is deprecated and will be removed from pandas in a future version. Use pandas.concat instead.\n",
      "  self.df = self.df.append(row, ignore_index=True)\n",
      "[Succeeded / Failed / Skipped / Total] 37 / 329 / 3 / 369:  74%|███████████████▍     | 369/500 [04:44<01:40,  1.30it/s]"
     ]
    },
    {
     "name": "stdout",
     "output_type": "stream",
     "text": [
      "--------------------------------------------- Result 369 ---------------------------------------------\n",
      "[[1 (100%)]] --> [[[FAILED]]]\n",
      "\n",
      "FREE RINGTONE text FIRST to 87131 for a poly or text GET to 87131 for a true tone! Help? 0845 2814032 16 after 1st free, tones are 3x£150pw to e£nd txt stop\n",
      "\n",
      "\n"
     ]
    },
    {
     "name": "stderr",
     "output_type": "stream",
     "text": [
      "C:\\Users\\DELL\\anaconda3\\envs\\ta\\lib\\site-packages\\textattack\\loggers\\csv_logger.py:41: FutureWarning: The frame.append method is deprecated and will be removed from pandas in a future version. Use pandas.concat instead.\n",
      "  self.df = self.df.append(row, ignore_index=True)\n",
      "\r",
      "[Succeeded / Failed / Skipped / Total] 37 / 330 / 3 / 370:  74%|███████████████▌     | 370/500 [04:45<01:40,  1.29it/s]"
     ]
    },
    {
     "name": "stdout",
     "output_type": "stream",
     "text": [
      "--------------------------------------------- Result 370 ---------------------------------------------\n",
      "[[0 (100%)]] --> [[[FAILED]]]\n",
      "\n",
      "Lol ok ill try to send. Be warned Sprint is dead slow. You'll prolly get it tomorrow\n",
      "\n",
      "\n"
     ]
    },
    {
     "name": "stderr",
     "output_type": "stream",
     "text": [
      "[Succeeded / Failed / Skipped / Total] 37 / 330 / 3 / 370:  74%|███████████████▌     | 371/500 [04:46<01:39,  1.29it/s]C:\\Users\\DELL\\anaconda3\\envs\\ta\\lib\\site-packages\\textattack\\loggers\\csv_logger.py:41: FutureWarning: The frame.append method is deprecated and will be removed from pandas in a future version. Use pandas.concat instead.\n",
      "  self.df = self.df.append(row, ignore_index=True)\n",
      "[Succeeded / Failed / Skipped / Total] 37 / 331 / 3 / 371:  74%|███████████████▌     | 371/500 [04:46<01:39,  1.29it/s]"
     ]
    },
    {
     "name": "stdout",
     "output_type": "stream",
     "text": [
      "--------------------------------------------- Result 371 ---------------------------------------------\n",
      "[[0 (100%)]] --> [[[FAILED]]]\n",
      "\n",
      "And miss vday the parachute and double coins??? U must not know me very well...\n",
      "\n",
      "\n"
     ]
    },
    {
     "name": "stderr",
     "output_type": "stream",
     "text": [
      "C:\\Users\\DELL\\anaconda3\\envs\\ta\\lib\\site-packages\\textattack\\loggers\\csv_logger.py:41: FutureWarning: The frame.append method is deprecated and will be removed from pandas in a future version. Use pandas.concat instead.\n",
      "  self.df = self.df.append(row, ignore_index=True)\n",
      "\r",
      "[Succeeded / Failed / Skipped / Total] 37 / 332 / 3 / 372:  74%|███████████████▌     | 372/500 [04:46<01:38,  1.30it/s]"
     ]
    },
    {
     "name": "stdout",
     "output_type": "stream",
     "text": [
      "--------------------------------------------- Result 372 ---------------------------------------------\n",
      "[[0 (100%)]] --> [[[FAILED]]]\n",
      "\n",
      "K..i deleted my contact that why?\n",
      "\n",
      "\n"
     ]
    },
    {
     "name": "stderr",
     "output_type": "stream",
     "text": [
      "[Succeeded / Failed / Skipped / Total] 37 / 332 / 3 / 372:  75%|███████████████▋     | 373/500 [04:47<01:37,  1.30it/s]C:\\Users\\DELL\\anaconda3\\envs\\ta\\lib\\site-packages\\textattack\\loggers\\csv_logger.py:41: FutureWarning: The frame.append method is deprecated and will be removed from pandas in a future version. Use pandas.concat instead.\n",
      "  self.df = self.df.append(row, ignore_index=True)\n",
      "[Succeeded / Failed / Skipped / Total] 37 / 333 / 3 / 373:  75%|███████████████▋     | 373/500 [04:47<01:37,  1.30it/s]"
     ]
    },
    {
     "name": "stdout",
     "output_type": "stream",
     "text": [
      "--------------------------------------------- Result 373 ---------------------------------------------\n",
      "[[0 (100%)]] --> [[[FAILED]]]\n",
      "\n",
      "Do you like Italian food?\n",
      "\n",
      "\n"
     ]
    },
    {
     "name": "stderr",
     "output_type": "stream",
     "text": [
      "C:\\Users\\DELL\\anaconda3\\envs\\ta\\lib\\site-packages\\textattack\\loggers\\csv_logger.py:41: FutureWarning: The frame.append method is deprecated and will be removed from pandas in a future version. Use pandas.concat instead.\n",
      "  self.df = self.df.append(row, ignore_index=True)\n",
      "\r",
      "[Succeeded / Failed / Skipped / Total] 37 / 334 / 3 / 374:  75%|███████████████▋     | 374/500 [04:47<01:36,  1.30it/s]"
     ]
    },
    {
     "name": "stdout",
     "output_type": "stream",
     "text": [
      "--------------------------------------------- Result 374 ---------------------------------------------\n",
      "[[0 (100%)]] --> [[[FAILED]]]\n",
      "\n",
      "Customer place i will call you\n",
      "\n",
      "\n"
     ]
    },
    {
     "name": "stderr",
     "output_type": "stream",
     "text": [
      "[Succeeded / Failed / Skipped / Total] 37 / 334 / 3 / 374:  75%|███████████████▊     | 375/500 [04:47<01:35,  1.30it/s]C:\\Users\\DELL\\anaconda3\\envs\\ta\\lib\\site-packages\\textattack\\loggers\\csv_logger.py:41: FutureWarning: The frame.append method is deprecated and will be removed from pandas in a future version. Use pandas.concat instead.\n",
      "  self.df = self.df.append(row, ignore_index=True)\n",
      "[Succeeded / Failed / Skipped / Total] 37 / 335 / 3 / 375:  75%|███████████████▊     | 375/500 [04:47<01:35,  1.30it/s]"
     ]
    },
    {
     "name": "stdout",
     "output_type": "stream",
     "text": [
      "--------------------------------------------- Result 375 ---------------------------------------------\n",
      "[[0 (100%)]] --> [[[FAILED]]]\n",
      "\n",
      "How are you. Wish you a great semester\n",
      "\n",
      "\n"
     ]
    },
    {
     "name": "stderr",
     "output_type": "stream",
     "text": [
      "C:\\Users\\DELL\\anaconda3\\envs\\ta\\lib\\site-packages\\textattack\\loggers\\csv_logger.py:41: FutureWarning: The frame.append method is deprecated and will be removed from pandas in a future version. Use pandas.concat instead.\n",
      "  self.df = self.df.append(row, ignore_index=True)\n",
      "\r",
      "[Succeeded / Failed / Skipped / Total] 37 / 336 / 3 / 376:  75%|███████████████▊     | 376/500 [04:48<01:35,  1.30it/s]"
     ]
    },
    {
     "name": "stdout",
     "output_type": "stream",
     "text": [
      "--------------------------------------------- Result 376 ---------------------------------------------\n",
      "[[0 (100%)]] --> [[[FAILED]]]\n",
      "\n",
      "Actually I decided I was too hungry so I haven't left yet :V\n",
      "\n",
      "\n"
     ]
    },
    {
     "name": "stderr",
     "output_type": "stream",
     "text": [
      "[Succeeded / Failed / Skipped / Total] 37 / 336 / 3 / 376:  75%|███████████████▊     | 377/500 [04:49<01:34,  1.30it/s]C:\\Users\\DELL\\anaconda3\\envs\\ta\\lib\\site-packages\\textattack\\loggers\\csv_logger.py:41: FutureWarning: The frame.append method is deprecated and will be removed from pandas in a future version. Use pandas.concat instead.\n",
      "  self.df = self.df.append(row, ignore_index=True)\n",
      "[Succeeded / Failed / Skipped / Total] 37 / 337 / 3 / 377:  75%|███████████████▊     | 377/500 [04:49<01:34,  1.30it/s]"
     ]
    },
    {
     "name": "stdout",
     "output_type": "stream",
     "text": [
      "--------------------------------------------- Result 377 ---------------------------------------------\n",
      "[[0 (100%)]] --> [[[FAILED]]]\n",
      "\n",
      "I can do that! I want to please you both inside and outside the bedroom...\n",
      "\n",
      "\n"
     ]
    },
    {
     "name": "stderr",
     "output_type": "stream",
     "text": [
      "C:\\Users\\DELL\\anaconda3\\envs\\ta\\lib\\site-packages\\textattack\\loggers\\csv_logger.py:41: FutureWarning: The frame.append method is deprecated and will be removed from pandas in a future version. Use pandas.concat instead.\n",
      "  self.df = self.df.append(row, ignore_index=True)\n",
      "\r",
      "[Succeeded / Failed / Skipped / Total] 37 / 338 / 3 / 378:  76%|███████████████▉     | 378/500 [04:49<01:33,  1.30it/s]"
     ]
    },
    {
     "name": "stdout",
     "output_type": "stream",
     "text": [
      "--------------------------------------------- Result 378 ---------------------------------------------\n",
      "[[0 (100%)]] --> [[[FAILED]]]\n",
      "\n",
      "Sounds good, keep me posted\n",
      "\n",
      "\n"
     ]
    },
    {
     "name": "stderr",
     "output_type": "stream",
     "text": [
      "[Succeeded / Failed / Skipped / Total] 37 / 338 / 3 / 378:  76%|███████████████▉     | 379/500 [04:50<01:32,  1.31it/s]C:\\Users\\DELL\\anaconda3\\envs\\ta\\lib\\site-packages\\textattack\\loggers\\csv_logger.py:41: FutureWarning: The frame.append method is deprecated and will be removed from pandas in a future version. Use pandas.concat instead.\n",
      "  self.df = self.df.append(row, ignore_index=True)\n",
      "[Succeeded / Failed / Skipped / Total] 37 / 339 / 3 / 379:  76%|███████████████▉     | 379/500 [04:50<01:32,  1.31it/s]"
     ]
    },
    {
     "name": "stdout",
     "output_type": "stream",
     "text": [
      "--------------------------------------------- Result 379 ---------------------------------------------\n",
      "[[0 (100%)]] --> [[[FAILED]]]\n",
      "\n",
      "O i played smash bros  &lt;#&gt;  religiously.\n",
      "\n",
      "\n"
     ]
    },
    {
     "name": "stderr",
     "output_type": "stream",
     "text": [
      "C:\\Users\\DELL\\anaconda3\\envs\\ta\\lib\\site-packages\\textattack\\loggers\\csv_logger.py:41: FutureWarning: The frame.append method is deprecated and will be removed from pandas in a future version. Use pandas.concat instead.\n",
      "  self.df = self.df.append(row, ignore_index=True)\n",
      "\r",
      "[Succeeded / Failed / Skipped / Total] 37 / 340 / 3 / 380:  76%|███████████████▉     | 380/500 [04:50<01:31,  1.31it/s]"
     ]
    },
    {
     "name": "stdout",
     "output_type": "stream",
     "text": [
      "--------------------------------------------- Result 380 ---------------------------------------------\n",
      "[[0 (100%)]] --> [[[FAILED]]]\n",
      "\n",
      "Genius what's up. How your brother. Pls send his number to my skype.\n",
      "\n",
      "\n"
     ]
    },
    {
     "name": "stderr",
     "output_type": "stream",
     "text": [
      "[Succeeded / Failed / Skipped / Total] 37 / 340 / 3 / 380:  76%|████████████████     | 381/500 [04:51<01:30,  1.31it/s]C:\\Users\\DELL\\anaconda3\\envs\\ta\\lib\\site-packages\\textattack\\loggers\\csv_logger.py:41: FutureWarning: The frame.append method is deprecated and will be removed from pandas in a future version. Use pandas.concat instead.\n",
      "  self.df = self.df.append(row, ignore_index=True)\n",
      "[Succeeded / Failed / Skipped / Total] 37 / 341 / 3 / 381:  76%|████████████████     | 381/500 [04:51<01:30,  1.31it/s]"
     ]
    },
    {
     "name": "stdout",
     "output_type": "stream",
     "text": [
      "--------------------------------------------- Result 381 ---------------------------------------------\n",
      "[[0 (100%)]] --> [[[FAILED]]]\n",
      "\n",
      "O. Guess they both got screwd\n",
      "\n",
      "\n"
     ]
    },
    {
     "name": "stderr",
     "output_type": "stream",
     "text": [
      "C:\\Users\\DELL\\anaconda3\\envs\\ta\\lib\\site-packages\\textattack\\loggers\\csv_logger.py:41: FutureWarning: The frame.append method is deprecated and will be removed from pandas in a future version. Use pandas.concat instead.\n",
      "  self.df = self.df.append(row, ignore_index=True)\n",
      "\r",
      "[Succeeded / Failed / Skipped / Total] 37 / 342 / 3 / 382:  76%|████████████████     | 382/500 [04:53<01:30,  1.30it/s]"
     ]
    },
    {
     "name": "stdout",
     "output_type": "stream",
     "text": [
      "--------------------------------------------- Result 382 ---------------------------------------------\n",
      "[[0 (100%)]] --> [[[FAILED]]]\n",
      "\n",
      "Dunno, my dad said he coming home 2 bring us out 4 lunch. Yup i go w u lor. I call u when i reach school lor...\n",
      "\n",
      "\n"
     ]
    },
    {
     "name": "stderr",
     "output_type": "stream",
     "text": [
      "[Succeeded / Failed / Skipped / Total] 37 / 342 / 3 / 382:  77%|████████████████     | 383/500 [04:53<01:29,  1.30it/s]C:\\Users\\DELL\\anaconda3\\envs\\ta\\lib\\site-packages\\textattack\\loggers\\csv_logger.py:41: FutureWarning: The frame.append method is deprecated and will be removed from pandas in a future version. Use pandas.concat instead.\n",
      "  self.df = self.df.append(row, ignore_index=True)\n",
      "[Succeeded / Failed / Skipped / Total] 37 / 343 / 3 / 383:  77%|████████████████     | 383/500 [04:53<01:29,  1.30it/s]"
     ]
    },
    {
     "name": "stdout",
     "output_type": "stream",
     "text": [
      "--------------------------------------------- Result 383 ---------------------------------------------\n",
      "[[0 (100%)]] --> [[[FAILED]]]\n",
      "\n",
      "Pls send me your address sir.\n",
      "\n",
      "\n"
     ]
    },
    {
     "name": "stderr",
     "output_type": "stream",
     "text": [
      "C:\\Users\\DELL\\anaconda3\\envs\\ta\\lib\\site-packages\\textattack\\loggers\\csv_logger.py:41: FutureWarning: The frame.append method is deprecated and will be removed from pandas in a future version. Use pandas.concat instead.\n",
      "  self.df = self.df.append(row, ignore_index=True)\n",
      "\r",
      "[Succeeded / Failed / Skipped / Total] 37 / 344 / 3 / 384:  77%|████████████████▏    | 384/500 [04:54<01:28,  1.31it/s]"
     ]
    },
    {
     "name": "stdout",
     "output_type": "stream",
     "text": [
      "--------------------------------------------- Result 384 ---------------------------------------------\n",
      "[[0 (100%)]] --> [[[FAILED]]]\n",
      "\n",
      "Dude u knw also telugu..thts gud..k, gud nyt..\n",
      "\n",
      "\n"
     ]
    },
    {
     "name": "stderr",
     "output_type": "stream",
     "text": [
      "[Succeeded / Failed / Skipped / Total] 37 / 344 / 3 / 384:  77%|████████████████▏    | 385/500 [04:54<01:27,  1.31it/s]C:\\Users\\DELL\\anaconda3\\envs\\ta\\lib\\site-packages\\textattack\\loggers\\csv_logger.py:41: FutureWarning: The frame.append method is deprecated and will be removed from pandas in a future version. Use pandas.concat instead.\n",
      "  self.df = self.df.append(row, ignore_index=True)\n",
      "[Succeeded / Failed / Skipped / Total] 37 / 345 / 3 / 385:  77%|████████████████▏    | 385/500 [04:54<01:27,  1.31it/s]"
     ]
    },
    {
     "name": "stdout",
     "output_type": "stream",
     "text": [
      "--------------------------------------------- Result 385 ---------------------------------------------\n",
      "[[0 (100%)]] --> [[[FAILED]]]\n",
      "\n",
      "You flippin your shit yet?\n",
      "\n",
      "\n"
     ]
    },
    {
     "name": "stderr",
     "output_type": "stream",
     "text": [
      "C:\\Users\\DELL\\anaconda3\\envs\\ta\\lib\\site-packages\\textattack\\loggers\\csv_logger.py:41: FutureWarning: The frame.append method is deprecated and will be removed from pandas in a future version. Use pandas.concat instead.\n",
      "  self.df = self.df.append(row, ignore_index=True)\n",
      "\r",
      "[Succeeded / Failed / Skipped / Total] 37 / 346 / 3 / 386:  77%|████████████████▏    | 386/500 [04:56<01:27,  1.30it/s]"
     ]
    },
    {
     "name": "stdout",
     "output_type": "stream",
     "text": [
      "--------------------------------------------- Result 386 ---------------------------------------------\n",
      "[[1 (100%)]] --> [[[FAILED]]]\n",
      "\n",
      "Your free ringtone is waiting to be collected. Simply text the password \"MIX\" to 85069 to verify. Get Usher and Britney. FML, PO Box 5249, MK17 92H. 450Ppw 16\n",
      "\n",
      "\n"
     ]
    },
    {
     "name": "stderr",
     "output_type": "stream",
     "text": [
      "[Succeeded / Failed / Skipped / Total] 37 / 346 / 3 / 386:  77%|████████████████▎    | 387/500 [04:57<01:26,  1.30it/s]C:\\Users\\DELL\\anaconda3\\envs\\ta\\lib\\site-packages\\textattack\\loggers\\csv_logger.py:41: FutureWarning: The frame.append method is deprecated and will be removed from pandas in a future version. Use pandas.concat instead.\n",
      "  self.df = self.df.append(row, ignore_index=True)\n",
      "[Succeeded / Failed / Skipped / Total] 37 / 347 / 3 / 387:  77%|████████████████▎    | 387/500 [04:57<01:26,  1.30it/s]"
     ]
    },
    {
     "name": "stdout",
     "output_type": "stream",
     "text": [
      "--------------------------------------------- Result 387 ---------------------------------------------\n",
      "[[0 (100%)]] --> [[[FAILED]]]\n",
      "\n",
      "K I'll be sure to get up before noon and see what's what\n",
      "\n",
      "\n"
     ]
    },
    {
     "name": "stderr",
     "output_type": "stream",
     "text": [
      "C:\\Users\\DELL\\anaconda3\\envs\\ta\\lib\\site-packages\\textattack\\loggers\\csv_logger.py:41: FutureWarning: The frame.append method is deprecated and will be removed from pandas in a future version. Use pandas.concat instead.\n",
      "  self.df = self.df.append(row, ignore_index=True)\n",
      "\r",
      "[Succeeded / Failed / Skipped / Total] 37 / 348 / 3 / 388:  78%|████████████████▎    | 388/500 [04:57<01:25,  1.30it/s]"
     ]
    },
    {
     "name": "stdout",
     "output_type": "stream",
     "text": [
      "--------------------------------------------- Result 388 ---------------------------------------------\n",
      "[[0 (100%)]] --> [[[FAILED]]]\n",
      "\n",
      "Babe, I'm back ... Come back to me ...\n",
      "\n",
      "\n"
     ]
    },
    {
     "name": "stderr",
     "output_type": "stream",
     "text": [
      "[Succeeded / Failed / Skipped / Total] 37 / 348 / 3 / 388:  78%|████████████████▎    | 389/500 [04:57<01:25,  1.31it/s]C:\\Users\\DELL\\anaconda3\\envs\\ta\\lib\\site-packages\\textattack\\loggers\\csv_logger.py:41: FutureWarning: The frame.append method is deprecated and will be removed from pandas in a future version. Use pandas.concat instead.\n",
      "  self.df = self.df.append(row, ignore_index=True)\n",
      "[Succeeded / Failed / Skipped / Total] 37 / 349 / 3 / 389:  78%|████████████████▎    | 389/500 [04:57<01:25,  1.31it/s]C:\\Users\\DELL\\anaconda3\\envs\\ta\\lib\\site-packages\\textattack\\loggers\\csv_logger.py:41: FutureWarning: The frame.append method is deprecated and will be removed from pandas in a future version. Use pandas.concat instead.\n",
      "  self.df = self.df.append(row, ignore_index=True)\n",
      "[Succeeded / Failed / Skipped / Total] 37 / 350 / 3 / 390:  78%|████████████████▍    | 390/500 [04:58<01:24,  1.31it/s]"
     ]
    },
    {
     "name": "stdout",
     "output_type": "stream",
     "text": [
      "--------------------------------------------- Result 389 ---------------------------------------------\n",
      "[[0 (100%)]] --> [[[FAILED]]]\n",
      "\n",
      "Ok enjoy . R u there in home.\n",
      "\n",
      "\n",
      "--------------------------------------------- Result 390 ---------------------------------------------\n",
      "[[0 (100%)]] --> [[[FAILED]]]\n",
      "\n",
      "I donno its in your genes or something\n",
      "\n",
      "\n"
     ]
    },
    {
     "name": "stderr",
     "output_type": "stream",
     "text": [
      "[Succeeded / Failed / Skipped / Total] 37 / 350 / 3 / 390:  78%|████████████████▍    | 391/500 [04:58<01:23,  1.31it/s]C:\\Users\\DELL\\anaconda3\\envs\\ta\\lib\\site-packages\\textattack\\loggers\\csv_logger.py:41: FutureWarning: The frame.append method is deprecated and will be removed from pandas in a future version. Use pandas.concat instead.\n",
      "  self.df = self.df.append(row, ignore_index=True)\n",
      "[Succeeded / Failed / Skipped / Total] 37 / 351 / 3 / 391:  78%|████████████████▍    | 391/500 [04:58<01:23,  1.31it/s]"
     ]
    },
    {
     "name": "stdout",
     "output_type": "stream",
     "text": [
      "--------------------------------------------- Result 391 ---------------------------------------------\n",
      "[[0 (100%)]] --> [[[FAILED]]]\n",
      "\n",
      "Hey... What time is your driving on fri? We go for evaluation on fri?\n",
      "\n",
      "\n"
     ]
    },
    {
     "name": "stderr",
     "output_type": "stream",
     "text": [
      "C:\\Users\\DELL\\anaconda3\\envs\\ta\\lib\\site-packages\\textattack\\loggers\\csv_logger.py:41: FutureWarning: The frame.append method is deprecated and will be removed from pandas in a future version. Use pandas.concat instead.\n",
      "  self.df = self.df.append(row, ignore_index=True)\n",
      "\r",
      "[Succeeded / Failed / Skipped / Total] 37 / 352 / 3 / 392:  78%|████████████████▍    | 392/500 [04:59<01:22,  1.31it/s]"
     ]
    },
    {
     "name": "stdout",
     "output_type": "stream",
     "text": [
      "--------------------------------------------- Result 392 ---------------------------------------------\n",
      "[[0 (100%)]] --> [[[FAILED]]]\n",
      "\n",
      "Pls ask macho how much is budget for bb bold 2 is cos i saw a new one for  &lt;#&gt;  dollars.\n",
      "\n",
      "\n"
     ]
    },
    {
     "name": "stderr",
     "output_type": "stream",
     "text": [
      "[Succeeded / Failed / Skipped / Total] 37 / 352 / 3 / 392:  79%|████████████████▌    | 393/500 [05:00<01:21,  1.31it/s]C:\\Users\\DELL\\anaconda3\\envs\\ta\\lib\\site-packages\\textattack\\loggers\\csv_logger.py:41: FutureWarning: The frame.append method is deprecated and will be removed from pandas in a future version. Use pandas.concat instead.\n",
      "  self.df = self.df.append(row, ignore_index=True)\n",
      "[Succeeded / Failed / Skipped / Total] 37 / 353 / 3 / 393:  79%|████████████████▌    | 393/500 [05:00<01:21,  1.31it/s]"
     ]
    },
    {
     "name": "stdout",
     "output_type": "stream",
     "text": [
      "--------------------------------------------- Result 393 ---------------------------------------------\n",
      "[[1 (100%)]] --> [[[FAILED]]]\n",
      "\n",
      "EASTENDERS TV Quiz. What FLOWER does DOT compare herself to? D= VIOLET E= TULIP F= LILY txt D E or F to 84025 NOW 4 chance 2 WIN £100 Cash WKENT/150P16+\n",
      "\n",
      "\n"
     ]
    },
    {
     "name": "stderr",
     "output_type": "stream",
     "text": [
      "C:\\Users\\DELL\\anaconda3\\envs\\ta\\lib\\site-packages\\textattack\\loggers\\csv_logger.py:41: FutureWarning: The frame.append method is deprecated and will be removed from pandas in a future version. Use pandas.concat instead.\n",
      "  self.df = self.df.append(row, ignore_index=True)\n",
      "[Succeeded / Failed / Skipped / Total] 37 / 354 / 3 / 394:  79%|████████████████▌    | 395/500 [05:02<01:20,  1.30it/s]"
     ]
    },
    {
     "name": "stdout",
     "output_type": "stream",
     "text": [
      "--------------------------------------------- Result 394 ---------------------------------------------\n",
      "[[0 (100%)]] --> [[[FAILED]]]\n",
      "\n",
      "Night has ended for another day, morning has come in a special way. May you smile like the sunny rays and leaves your worries at the blue blue bay. Gud mrng\n",
      "\n",
      "\n"
     ]
    },
    {
     "name": "stderr",
     "output_type": "stream",
     "text": [
      "C:\\Users\\DELL\\anaconda3\\envs\\ta\\lib\\site-packages\\textattack\\loggers\\csv_logger.py:41: FutureWarning: The frame.append method is deprecated and will be removed from pandas in a future version. Use pandas.concat instead.\n",
      "  self.df = self.df.append(row, ignore_index=True)\n",
      "\r",
      "[Succeeded / Failed / Skipped / Total] 37 / 355 / 3 / 395:  79%|████████████████▌    | 395/500 [05:02<01:20,  1.30it/s]"
     ]
    },
    {
     "name": "stdout",
     "output_type": "stream",
     "text": [
      "--------------------------------------------- Result 395 ---------------------------------------------\n",
      "[[0 (100%)]] --> [[[FAILED]]]\n",
      "\n",
      "Cool, I'll text you when I'm on the way\n",
      "\n",
      "\n"
     ]
    },
    {
     "name": "stderr",
     "output_type": "stream",
     "text": [
      "C:\\Users\\DELL\\anaconda3\\envs\\ta\\lib\\site-packages\\textattack\\loggers\\csv_logger.py:41: FutureWarning: The frame.append method is deprecated and will be removed from pandas in a future version. Use pandas.concat instead.\n",
      "  self.df = self.df.append(row, ignore_index=True)\n",
      "\r",
      "[Succeeded / Failed / Skipped / Total] 37 / 356 / 3 / 396:  79%|████████████████▋    | 396/500 [05:03<01:19,  1.30it/s]"
     ]
    },
    {
     "name": "stdout",
     "output_type": "stream",
     "text": [
      "--------------------------------------------- Result 396 ---------------------------------------------\n",
      "[[0 (100%)]] --> [[[FAILED]]]\n",
      "\n",
      "Oh ho. Is this the first time u use these type of words\n",
      "\n",
      "\n"
     ]
    },
    {
     "name": "stderr",
     "output_type": "stream",
     "text": [
      "[Succeeded / Failed / Skipped / Total] 37 / 356 / 3 / 396:  79%|████████████████▋    | 397/500 [05:04<01:18,  1.31it/s]C:\\Users\\DELL\\anaconda3\\envs\\ta\\lib\\site-packages\\textattack\\loggers\\csv_logger.py:41: FutureWarning: The frame.append method is deprecated and will be removed from pandas in a future version. Use pandas.concat instead.\n",
      "  self.df = self.df.append(row, ignore_index=True)\n",
      "[Succeeded / Failed / Skipped / Total] 37 / 357 / 3 / 397:  79%|████████████████▋    | 397/500 [05:04<01:18,  1.31it/s]"
     ]
    },
    {
     "name": "stdout",
     "output_type": "stream",
     "text": [
      "--------------------------------------------- Result 397 ---------------------------------------------\n",
      "[[0 (100%)]] --> [[[FAILED]]]\n",
      "\n",
      "I'm at work. Please call\n",
      "\n",
      "\n"
     ]
    },
    {
     "name": "stderr",
     "output_type": "stream",
     "text": [
      "C:\\Users\\DELL\\anaconda3\\envs\\ta\\lib\\site-packages\\textattack\\loggers\\csv_logger.py:41: FutureWarning: The frame.append method is deprecated and will be removed from pandas in a future version. Use pandas.concat instead.\n",
      "  self.df = self.df.append(row, ignore_index=True)\n",
      "\r",
      "[Succeeded / Failed / Skipped / Total] 37 / 358 / 3 / 398:  80%|████████████████▋    | 398/500 [05:04<01:18,  1.31it/s]"
     ]
    },
    {
     "name": "stdout",
     "output_type": "stream",
     "text": [
      "--------------------------------------------- Result 398 ---------------------------------------------\n",
      "[[0 (100%)]] --> [[[FAILED]]]\n",
      "\n",
      "Dont pick up d call when something important is There to tell. Hrishi\n",
      "\n",
      "\n"
     ]
    },
    {
     "name": "stderr",
     "output_type": "stream",
     "text": [
      "[Succeeded / Failed / Skipped / Total] 37 / 358 / 3 / 398:  80%|████████████████▊    | 399/500 [05:06<01:17,  1.30it/s]C:\\Users\\DELL\\anaconda3\\envs\\ta\\lib\\site-packages\\textattack\\loggers\\csv_logger.py:41: FutureWarning: The frame.append method is deprecated and will be removed from pandas in a future version. Use pandas.concat instead.\n",
      "  self.df = self.df.append(row, ignore_index=True)\n",
      "[Succeeded / Failed / Skipped / Total] 37 / 359 / 3 / 399:  80%|████████████████▊    | 399/500 [05:06<01:17,  1.30it/s]"
     ]
    },
    {
     "name": "stdout",
     "output_type": "stream",
     "text": [
      "--------------------------------------------- Result 399 ---------------------------------------------\n",
      "[[1 (100%)]] --> [[[FAILED]]]\n",
      "\n",
      "Panasonic & BluetoothHdset FREE. Nokia FREE. Motorola FREE & DoubleMins & DoubleTxt on Orange contract. Call MobileUpd8 on 08000839402 or call 2optout\n",
      "\n",
      "\n"
     ]
    },
    {
     "name": "stderr",
     "output_type": "stream",
     "text": [
      "C:\\Users\\DELL\\anaconda3\\envs\\ta\\lib\\site-packages\\textattack\\loggers\\csv_logger.py:41: FutureWarning: The frame.append method is deprecated and will be removed from pandas in a future version. Use pandas.concat instead.\n",
      "  self.df = self.df.append(row, ignore_index=True)\n",
      "\r",
      "[Succeeded / Failed / Skipped / Total] 37 / 360 / 3 / 400:  80%|████████████████▊    | 400/500 [05:06<01:16,  1.30it/s]"
     ]
    },
    {
     "name": "stdout",
     "output_type": "stream",
     "text": [
      "--------------------------------------------- Result 400 ---------------------------------------------\n",
      "[[0 (100%)]] --> [[[FAILED]]]\n",
      "\n",
      "Hey tmr maybe can meet you at yck\n",
      "\n",
      "\n"
     ]
    },
    {
     "name": "stderr",
     "output_type": "stream",
     "text": [
      "[Succeeded / Failed / Skipped / Total] 37 / 360 / 3 / 400:  80%|████████████████▊    | 401/500 [05:07<01:15,  1.30it/s]C:\\Users\\DELL\\anaconda3\\envs\\ta\\lib\\site-packages\\textattack\\loggers\\csv_logger.py:41: FutureWarning: The frame.append method is deprecated and will be removed from pandas in a future version. Use pandas.concat instead.\n",
      "  self.df = self.df.append(row, ignore_index=True)\n",
      "[Succeeded / Failed / Skipped / Total] 37 / 361 / 3 / 401:  80%|████████████████▊    | 401/500 [05:07<01:15,  1.30it/s]"
     ]
    },
    {
     "name": "stdout",
     "output_type": "stream",
     "text": [
      "--------------------------------------------- Result 401 ---------------------------------------------\n",
      "[[0 (100%)]] --> [[[FAILED]]]\n",
      "\n",
      "Ya they are well and fine., BBD(pooja) full pimples..even she become quite black..and ur rite here its too cold, wearing sweatter..\n",
      "\n",
      "\n"
     ]
    },
    {
     "name": "stderr",
     "output_type": "stream",
     "text": [
      "C:\\Users\\DELL\\anaconda3\\envs\\ta\\lib\\site-packages\\textattack\\loggers\\csv_logger.py:41: FutureWarning: The frame.append method is deprecated and will be removed from pandas in a future version. Use pandas.concat instead.\n",
      "  self.df = self.df.append(row, ignore_index=True)\n",
      "\r",
      "[Succeeded / Failed / Skipped / Total] 37 / 362 / 3 / 402:  80%|████████████████▉    | 402/500 [05:09<01:15,  1.30it/s]"
     ]
    },
    {
     "name": "stdout",
     "output_type": "stream",
     "text": [
      "--------------------------------------------- Result 402 ---------------------------------------------\n",
      "[[0 (100%)]] --> [[[FAILED]]]\n",
      "\n",
      "Tomarrow i want to got to court. At  &lt;DECIMAL&gt; . So you come to bus stand at 9.\n",
      "\n",
      "\n"
     ]
    },
    {
     "name": "stderr",
     "output_type": "stream",
     "text": [
      "[Succeeded / Failed / Skipped / Total] 37 / 362 / 3 / 402:  81%|████████████████▉    | 403/500 [05:09<01:14,  1.30it/s]C:\\Users\\DELL\\anaconda3\\envs\\ta\\lib\\site-packages\\textattack\\loggers\\csv_logger.py:41: FutureWarning: The frame.append method is deprecated and will be removed from pandas in a future version. Use pandas.concat instead.\n",
      "  self.df = self.df.append(row, ignore_index=True)\n",
      "[Succeeded / Failed / Skipped / Total] 37 / 363 / 3 / 403:  81%|████████████████▉    | 403/500 [05:09<01:14,  1.30it/s]"
     ]
    },
    {
     "name": "stdout",
     "output_type": "stream",
     "text": [
      "--------------------------------------------- Result 403 ---------------------------------------------\n",
      "[[0 (100%)]] --> [[[FAILED]]]\n",
      "\n",
      "Call me when you/carlos is/are here, my phone's vibrate is acting up and I might not hear texts\n",
      "\n",
      "\n"
     ]
    },
    {
     "name": "stderr",
     "output_type": "stream",
     "text": [
      "C:\\Users\\DELL\\anaconda3\\envs\\ta\\lib\\site-packages\\textattack\\loggers\\csv_logger.py:41: FutureWarning: The frame.append method is deprecated and will be removed from pandas in a future version. Use pandas.concat instead.\n",
      "  self.df = self.df.append(row, ignore_index=True)\n",
      "\r",
      "[Succeeded / Failed / Skipped / Total] 38 / 363 / 3 / 404:  81%|████████████████▉    | 404/500 [05:11<01:13,  1.30it/s]"
     ]
    },
    {
     "name": "stdout",
     "output_type": "stream",
     "text": [
      "--------------------------------------------- Result 404 ---------------------------------------------\n",
      "[[1 (100%)]] --> [[0 (51%)]]\n",
      "\n",
      "[[FREE]]>Ringtone! Reply REAL or POLY eg REAL1 1. PushButton 2. DontCha 3. BabyGoodbye 4. GoldDigger 5. WeBeBurnin 1st [[tone]] [[FREE]] and 6 more when u join for £[[3]]/wk\n",
      "\n",
      "[[dislodge]]>Ringtone! Reply REAL or POLY eg REAL1 1. PushButton 2. DontCha 3. BabyGoodbye 4. GoldDigger 5. WeBeBurnin 1st [[intone]] [[gratuitous]] and 6 more when u join for £[[threesome]]/wk\n",
      "\n",
      "\n"
     ]
    },
    {
     "name": "stderr",
     "output_type": "stream",
     "text": [
      "[Succeeded / Failed / Skipped / Total] 38 / 363 / 3 / 404:  81%|█████████████████    | 405/500 [05:12<01:13,  1.30it/s]C:\\Users\\DELL\\anaconda3\\envs\\ta\\lib\\site-packages\\textattack\\loggers\\csv_logger.py:41: FutureWarning: The frame.append method is deprecated and will be removed from pandas in a future version. Use pandas.concat instead.\n",
      "  self.df = self.df.append(row, ignore_index=True)\n",
      "[Succeeded / Failed / Skipped / Total] 38 / 364 / 3 / 405:  81%|█████████████████    | 405/500 [05:12<01:13,  1.30it/s]"
     ]
    },
    {
     "name": "stdout",
     "output_type": "stream",
     "text": [
      "--------------------------------------------- Result 405 ---------------------------------------------\n",
      "[[1 (100%)]] --> [[[FAILED]]]\n",
      "\n",
      "Ur cash-balance is currently 500 pounds - to maximize ur cash-in now send GO to 86688 only 150p/msg. CC 08718720201 HG/Suite342/2Lands Row/W1J6HL\n",
      "\n",
      "\n"
     ]
    },
    {
     "name": "stderr",
     "output_type": "stream",
     "text": [
      "C:\\Users\\DELL\\anaconda3\\envs\\ta\\lib\\site-packages\\textattack\\loggers\\csv_logger.py:41: FutureWarning: The frame.append method is deprecated and will be removed from pandas in a future version. Use pandas.concat instead.\n",
      "  self.df = self.df.append(row, ignore_index=True)\n",
      "\r",
      "[Succeeded / Failed / Skipped / Total] 38 / 365 / 3 / 406:  81%|█████████████████    | 406/500 [05:12<01:12,  1.30it/s]"
     ]
    },
    {
     "name": "stdout",
     "output_type": "stream",
     "text": [
      "--------------------------------------------- Result 406 ---------------------------------------------\n",
      "[[0 (100%)]] --> [[[FAILED]]]\n",
      "\n",
      "Ok going to sleep. Hope i can meet her.\n",
      "\n",
      "\n"
     ]
    },
    {
     "name": "stderr",
     "output_type": "stream",
     "text": [
      "[Succeeded / Failed / Skipped / Total] 38 / 365 / 3 / 406:  81%|█████████████████    | 407/500 [05:13<01:11,  1.30it/s]C:\\Users\\DELL\\anaconda3\\envs\\ta\\lib\\site-packages\\textattack\\loggers\\csv_logger.py:41: FutureWarning: The frame.append method is deprecated and will be removed from pandas in a future version. Use pandas.concat instead.\n",
      "  self.df = self.df.append(row, ignore_index=True)\n",
      "[Succeeded / Failed / Skipped / Total] 38 / 366 / 3 / 407:  81%|█████████████████    | 407/500 [05:13<01:11,  1.30it/s]"
     ]
    },
    {
     "name": "stdout",
     "output_type": "stream",
     "text": [
      "--------------------------------------------- Result 407 ---------------------------------------------\n",
      "[[0 (100%)]] --> [[[FAILED]]]\n",
      "\n",
      "Waqt se pehle or naseeb se zyada kisi ko kuch nahi milta,Zindgi wo nahi he jo hum sochte hai Zindgi wo hai jo ham jeetey hai..........\n",
      "\n",
      "\n"
     ]
    },
    {
     "name": "stderr",
     "output_type": "stream",
     "text": [
      "C:\\Users\\DELL\\anaconda3\\envs\\ta\\lib\\site-packages\\textattack\\loggers\\csv_logger.py:41: FutureWarning: The frame.append method is deprecated and will be removed from pandas in a future version. Use pandas.concat instead.\n",
      "  self.df = self.df.append(row, ignore_index=True)\n",
      "\r",
      "[Succeeded / Failed / Skipped / Total] 38 / 367 / 3 / 408:  82%|█████████████████▏   | 408/500 [05:14<01:10,  1.30it/s]"
     ]
    },
    {
     "name": "stdout",
     "output_type": "stream",
     "text": [
      "--------------------------------------------- Result 408 ---------------------------------------------\n",
      "[[0 (100%)]] --> [[[FAILED]]]\n",
      "\n",
      "Ok lor. I ned 2 go toa payoh 4 a while 2 return smth u wan 2 send me there or wat?\n",
      "\n",
      "\n"
     ]
    },
    {
     "name": "stderr",
     "output_type": "stream",
     "text": [
      "[Succeeded / Failed / Skipped / Total] 38 / 367 / 3 / 408:  82%|█████████████████▏   | 409/500 [05:15<01:10,  1.30it/s]C:\\Users\\DELL\\anaconda3\\envs\\ta\\lib\\site-packages\\textattack\\loggers\\csv_logger.py:41: FutureWarning: The frame.append method is deprecated and will be removed from pandas in a future version. Use pandas.concat instead.\n",
      "  self.df = self.df.append(row, ignore_index=True)\n",
      "[Succeeded / Failed / Skipped / Total] 38 / 368 / 3 / 409:  82%|█████████████████▏   | 409/500 [05:15<01:10,  1.30it/s]"
     ]
    },
    {
     "name": "stdout",
     "output_type": "stream",
     "text": [
      "--------------------------------------------- Result 409 ---------------------------------------------\n",
      "[[0 (100%)]] --> [[[FAILED]]]\n",
      "\n",
      "Yeah, give me a call if you've got a minute\n",
      "\n",
      "\n"
     ]
    },
    {
     "name": "stderr",
     "output_type": "stream",
     "text": [
      "C:\\Users\\DELL\\anaconda3\\envs\\ta\\lib\\site-packages\\textattack\\loggers\\csv_logger.py:41: FutureWarning: The frame.append method is deprecated and will be removed from pandas in a future version. Use pandas.concat instead.\n",
      "  self.df = self.df.append(row, ignore_index=True)\n",
      "\r",
      "[Succeeded / Failed / Skipped / Total] 39 / 368 / 3 / 410:  82%|█████████████████▏   | 410/500 [05:16<01:09,  1.30it/s]"
     ]
    },
    {
     "name": "stdout",
     "output_type": "stream",
     "text": [
      "--------------------------------------------- Result 410 ---------------------------------------------\n",
      "[[1 (98%)]] --> [[0 (55%)]]\n",
      "\n",
      "(Bank of Granite issues Strong-Buy) EXPLOSIVE [[PICK]] FOR OUR MEMBERS *****UP OVER 300% *********** Nasdaq Symbol CDGT That is a $[[5]].00 per..\n",
      "\n",
      "(Bank of Granite issues Strong-Buy) EXPLOSIVE [[blame]] FOR OUR MEMBERS *****UP OVER 300% *********** Nasdaq Symbol CDGT That is a $[[pentad]].00 per..\n",
      "\n",
      "\n"
     ]
    },
    {
     "name": "stderr",
     "output_type": "stream",
     "text": [
      "[Succeeded / Failed / Skipped / Total] 39 / 368 / 3 / 410:  82%|█████████████████▎   | 411/500 [05:17<01:08,  1.29it/s]C:\\Users\\DELL\\anaconda3\\envs\\ta\\lib\\site-packages\\textattack\\loggers\\csv_logger.py:41: FutureWarning: The frame.append method is deprecated and will be removed from pandas in a future version. Use pandas.concat instead.\n",
      "  self.df = self.df.append(row, ignore_index=True)\n",
      "[Succeeded / Failed / Skipped / Total] 39 / 369 / 3 / 411:  82%|█████████████████▎   | 411/500 [05:17<01:08,  1.29it/s]"
     ]
    },
    {
     "name": "stdout",
     "output_type": "stream",
     "text": [
      "--------------------------------------------- Result 411 ---------------------------------------------\n",
      "[[0 (100%)]] --> [[[FAILED]]]\n",
      "\n",
      "Aah! A cuddle would be lush! I'd need lots of tea and soup before any kind of fumbling!\n",
      "\n",
      "\n"
     ]
    },
    {
     "name": "stderr",
     "output_type": "stream",
     "text": [
      "C:\\Users\\DELL\\anaconda3\\envs\\ta\\lib\\site-packages\\textattack\\loggers\\csv_logger.py:41: FutureWarning: The frame.append method is deprecated and will be removed from pandas in a future version. Use pandas.concat instead.\n",
      "  self.df = self.df.append(row, ignore_index=True)\n",
      "\r",
      "[Succeeded / Failed / Skipped / Total] 39 / 370 / 3 / 412:  82%|█████████████████▎   | 412/500 [05:18<01:07,  1.30it/s]"
     ]
    },
    {
     "name": "stdout",
     "output_type": "stream",
     "text": [
      "--------------------------------------------- Result 412 ---------------------------------------------\n",
      "[[0 (100%)]] --> [[[FAILED]]]\n",
      "\n",
      "Rightio. 11.48 it is then. Well arent we all up bright and early this morning.\n",
      "\n",
      "\n"
     ]
    },
    {
     "name": "stderr",
     "output_type": "stream",
     "text": [
      "[Succeeded / Failed / Skipped / Total] 39 / 370 / 3 / 412:  83%|█████████████████▎   | 413/500 [05:19<01:07,  1.29it/s]C:\\Users\\DELL\\anaconda3\\envs\\ta\\lib\\site-packages\\textattack\\loggers\\csv_logger.py:41: FutureWarning: The frame.append method is deprecated and will be removed from pandas in a future version. Use pandas.concat instead.\n",
      "  self.df = self.df.append(row, ignore_index=True)\n",
      "[Succeeded / Failed / Skipped / Total] 39 / 371 / 3 / 413:  83%|█████████████████▎   | 413/500 [05:19<01:07,  1.29it/s]"
     ]
    },
    {
     "name": "stdout",
     "output_type": "stream",
     "text": [
      "--------------------------------------------- Result 413 ---------------------------------------------\n",
      "[[0 (100%)]] --> [[[FAILED]]]\n",
      "\n",
      "Hope you are having a great new semester. Do wish you the very best. You are made for greatness.\n",
      "\n",
      "\n"
     ]
    },
    {
     "name": "stderr",
     "output_type": "stream",
     "text": [
      "C:\\Users\\DELL\\anaconda3\\envs\\ta\\lib\\site-packages\\textattack\\loggers\\csv_logger.py:41: FutureWarning: The frame.append method is deprecated and will be removed from pandas in a future version. Use pandas.concat instead.\n",
      "  self.df = self.df.append(row, ignore_index=True)\n",
      "\r",
      "[Succeeded / Failed / Skipped / Total] 39 / 372 / 3 / 414:  83%|█████████████████▍   | 414/500 [05:19<01:06,  1.29it/s]"
     ]
    },
    {
     "name": "stdout",
     "output_type": "stream",
     "text": [
      "--------------------------------------------- Result 414 ---------------------------------------------\n",
      "[[0 (100%)]] --> [[[FAILED]]]\n",
      "\n",
      "Ok. Me watching tv too.\n",
      "\n",
      "\n"
     ]
    },
    {
     "name": "stderr",
     "output_type": "stream",
     "text": [
      "[Succeeded / Failed / Skipped / Total] 39 / 372 / 3 / 414:  83%|█████████████████▍   | 415/500 [05:20<01:05,  1.30it/s]C:\\Users\\DELL\\anaconda3\\envs\\ta\\lib\\site-packages\\textattack\\loggers\\csv_logger.py:41: FutureWarning: The frame.append method is deprecated and will be removed from pandas in a future version. Use pandas.concat instead.\n",
      "  self.df = self.df.append(row, ignore_index=True)\n",
      "[Succeeded / Failed / Skipped / Total] 40 / 372 / 3 / 415:  83%|█████████████████▍   | 415/500 [05:20<01:05,  1.30it/s]"
     ]
    },
    {
     "name": "stdout",
     "output_type": "stream",
     "text": [
      "--------------------------------------------- Result 415 ---------------------------------------------\n",
      "[[0 (90%)]] --> [[1 (85%)]]\n",
      "\n",
      "Sounds like you have many talents! would you like to [[go]] on a dinner date next week?\n",
      "\n",
      "Sounds like you have many talents! would you like to [[XTC]] on a dinner date next week?\n",
      "\n",
      "\n"
     ]
    },
    {
     "name": "stderr",
     "output_type": "stream",
     "text": [
      "C:\\Users\\DELL\\anaconda3\\envs\\ta\\lib\\site-packages\\textattack\\loggers\\csv_logger.py:41: FutureWarning: The frame.append method is deprecated and will be removed from pandas in a future version. Use pandas.concat instead.\n",
      "  self.df = self.df.append(row, ignore_index=True)\n",
      "\r",
      "[Succeeded / Failed / Skipped / Total] 40 / 373 / 3 / 416:  83%|█████████████████▍   | 416/500 [05:21<01:04,  1.30it/s]"
     ]
    },
    {
     "name": "stdout",
     "output_type": "stream",
     "text": [
      "--------------------------------------------- Result 416 ---------------------------------------------\n",
      "[[0 (100%)]] --> [[[FAILED]]]\n",
      "\n",
      "Yes:)here tv is always available in work place..\n",
      "\n",
      "\n"
     ]
    },
    {
     "name": "stderr",
     "output_type": "stream",
     "text": [
      "[Succeeded / Failed / Skipped / Total] 40 / 373 / 3 / 416:  83%|█████████████████▌   | 417/500 [05:21<01:03,  1.30it/s]C:\\Users\\DELL\\anaconda3\\envs\\ta\\lib\\site-packages\\textattack\\loggers\\csv_logger.py:41: FutureWarning: The frame.append method is deprecated and will be removed from pandas in a future version. Use pandas.concat instead.\n",
      "  self.df = self.df.append(row, ignore_index=True)\n",
      "[Succeeded / Failed / Skipped / Total] 40 / 374 / 3 / 417:  83%|█████████████████▌   | 417/500 [05:21<01:04,  1.30it/s]C:\\Users\\DELL\\anaconda3\\envs\\ta\\lib\\site-packages\\textattack\\loggers\\csv_logger.py:41: FutureWarning: The frame.append method is deprecated and will be removed from pandas in a future version. Use pandas.concat instead.\n",
      "  self.df = self.df.append(row, ignore_index=True)\n",
      "[Succeeded / Failed / Skipped / Total] 40 / 375 / 3 / 418:  84%|█████████████████▌   | 419/500 [05:21<01:02,  1.30it/s]C:\\Users\\DELL\\anaconda3\\envs\\ta\\lib\\site-packages\\textattack\\loggers\\csv_logger.py:41: FutureWarning: The frame.append method is deprecated and will be removed from pandas in a future version. Use pandas.concat instead.\n",
      "  self.df = self.df.append(row, ignore_index=True)\n",
      "[Succeeded / Failed / Skipped / Total] 40 / 376 / 3 / 419:  84%|█████████████████▌   | 419/500 [05:21<01:02,  1.30it/s]"
     ]
    },
    {
     "name": "stdout",
     "output_type": "stream",
     "text": [
      "--------------------------------------------- Result 417 ---------------------------------------------\n",
      "[[0 (100%)]] --> [[[FAILED]]]\n",
      "\n",
      "I'm in class. Will holla later\n",
      "\n",
      "\n",
      "--------------------------------------------- Result 418 ---------------------------------------------\n",
      "[[0 (100%)]] --> [[[FAILED]]]\n",
      "\n",
      "I'm in chennai velachery:)\n",
      "\n",
      "\n",
      "--------------------------------------------- Result 419 ---------------------------------------------\n",
      "[[0 (100%)]] --> [[[FAILED]]]\n",
      "\n",
      "Which channel:-):-):):-).\n",
      "\n",
      "\n"
     ]
    },
    {
     "name": "stderr",
     "output_type": "stream",
     "text": [
      "C:\\Users\\DELL\\anaconda3\\envs\\ta\\lib\\site-packages\\textattack\\loggers\\csv_logger.py:41: FutureWarning: The frame.append method is deprecated and will be removed from pandas in a future version. Use pandas.concat instead.\n",
      "  self.df = self.df.append(row, ignore_index=True)\n",
      "\r",
      "[Succeeded / Failed / Skipped / Total] 40 / 377 / 3 / 420:  84%|█████████████████▋   | 420/500 [05:22<01:01,  1.30it/s]"
     ]
    },
    {
     "name": "stdout",
     "output_type": "stream",
     "text": [
      "--------------------------------------------- Result 420 ---------------------------------------------\n",
      "[[0 (100%)]] --> [[[FAILED]]]\n",
      "\n",
      "I will reach before ten morning\n",
      "\n",
      "\n"
     ]
    },
    {
     "name": "stderr",
     "output_type": "stream",
     "text": [
      "[Succeeded / Failed / Skipped / Total] 40 / 377 / 3 / 420:  84%|█████████████████▋   | 421/500 [05:22<01:00,  1.30it/s]C:\\Users\\DELL\\anaconda3\\envs\\ta\\lib\\site-packages\\textattack\\loggers\\csv_logger.py:41: FutureWarning: The frame.append method is deprecated and will be removed from pandas in a future version. Use pandas.concat instead.\n",
      "  self.df = self.df.append(row, ignore_index=True)\n",
      "[Succeeded / Failed / Skipped / Total] 40 / 378 / 3 / 421:  84%|█████████████████▋   | 421/500 [05:22<01:00,  1.30it/s]"
     ]
    },
    {
     "name": "stdout",
     "output_type": "stream",
     "text": [
      "--------------------------------------------- Result 421 ---------------------------------------------\n",
      "[[0 (100%)]] --> [[[FAILED]]]\n",
      "\n",
      "Sun ah... Thk mayb can if dun have anythin on... Thk have to book e lesson... E pilates is at orchard mrt u noe hor...  \n",
      "\n",
      "\n"
     ]
    },
    {
     "name": "stderr",
     "output_type": "stream",
     "text": [
      "C:\\Users\\DELL\\anaconda3\\envs\\ta\\lib\\site-packages\\textattack\\loggers\\csv_logger.py:41: FutureWarning: The frame.append method is deprecated and will be removed from pandas in a future version. Use pandas.concat instead.\n",
      "  self.df = self.df.append(row, ignore_index=True)\n",
      "\r",
      "[Succeeded / Failed / Skipped / Total] 40 / 379 / 3 / 422:  84%|█████████████████▋   | 422/500 [05:25<01:00,  1.30it/s]"
     ]
    },
    {
     "name": "stdout",
     "output_type": "stream",
     "text": [
      "--------------------------------------------- Result 422 ---------------------------------------------\n",
      "[[0 (100%)]] --> [[[FAILED]]]\n",
      "\n",
      "A lot of this sickness thing going round. Take it easy. Hope u feel better soon. Lol\n",
      "\n",
      "\n"
     ]
    },
    {
     "name": "stderr",
     "output_type": "stream",
     "text": [
      "[Succeeded / Failed / Skipped / Total] 40 / 379 / 3 / 422:  85%|█████████████████▊   | 423/500 [05:26<00:59,  1.30it/s]C:\\Users\\DELL\\anaconda3\\envs\\ta\\lib\\site-packages\\textattack\\loggers\\csv_logger.py:41: FutureWarning: The frame.append method is deprecated and will be removed from pandas in a future version. Use pandas.concat instead.\n",
      "  self.df = self.df.append(row, ignore_index=True)\n",
      "[Succeeded / Failed / Skipped / Total] 40 / 380 / 3 / 423:  85%|█████████████████▊   | 423/500 [05:26<00:59,  1.30it/s]"
     ]
    },
    {
     "name": "stdout",
     "output_type": "stream",
     "text": [
      "--------------------------------------------- Result 423 ---------------------------------------------\n",
      "[[0 (100%)]] --> [[[FAILED]]]\n",
      "\n",
      "Pls what's the full name of joke's school cos fees in university of florida seem to actually be  &lt;#&gt; k. Pls holla back\n",
      "\n",
      "\n"
     ]
    },
    {
     "name": "stderr",
     "output_type": "stream",
     "text": [
      "C:\\Users\\DELL\\anaconda3\\envs\\ta\\lib\\site-packages\\textattack\\loggers\\csv_logger.py:41: FutureWarning: The frame.append method is deprecated and will be removed from pandas in a future version. Use pandas.concat instead.\n",
      "  self.df = self.df.append(row, ignore_index=True)\n",
      "\r",
      "[Succeeded / Failed / Skipped / Total] 40 / 381 / 3 / 424:  85%|█████████████████▊   | 424/500 [05:28<00:58,  1.29it/s]"
     ]
    },
    {
     "name": "stdout",
     "output_type": "stream",
     "text": [
      "--------------------------------------------- Result 424 ---------------------------------------------\n",
      "[[0 (100%)]] --> [[[FAILED]]]\n",
      "\n",
      "Carlos is taking his sweet time as usual so let me know when you and patty are done/want to smoke and I'll tell him to haul ass\n",
      "\n",
      "\n"
     ]
    },
    {
     "name": "stderr",
     "output_type": "stream",
     "text": [
      "[Succeeded / Failed / Skipped / Total] 40 / 381 / 3 / 424:  85%|█████████████████▊   | 425/500 [05:28<00:58,  1.29it/s]C:\\Users\\DELL\\anaconda3\\envs\\ta\\lib\\site-packages\\textattack\\loggers\\csv_logger.py:41: FutureWarning: The frame.append method is deprecated and will be removed from pandas in a future version. Use pandas.concat instead.\n",
      "  self.df = self.df.append(row, ignore_index=True)\n",
      "[Succeeded / Failed / Skipped / Total] 40 / 382 / 3 / 425:  85%|█████████████████▊   | 425/500 [05:28<00:58,  1.29it/s]"
     ]
    },
    {
     "name": "stdout",
     "output_type": "stream",
     "text": [
      "--------------------------------------------- Result 425 ---------------------------------------------\n",
      "[[0 (100%)]] --> [[[FAILED]]]\n",
      "\n",
      "After completed degree. There is no use in joining finance.\n",
      "\n",
      "\n"
     ]
    },
    {
     "name": "stderr",
     "output_type": "stream",
     "text": [
      "C:\\Users\\DELL\\anaconda3\\envs\\ta\\lib\\site-packages\\textattack\\loggers\\csv_logger.py:41: FutureWarning: The frame.append method is deprecated and will be removed from pandas in a future version. Use pandas.concat instead.\n",
      "  self.df = self.df.append(row, ignore_index=True)\n",
      "\r",
      "[Succeeded / Failed / Skipped / Total] 40 / 383 / 3 / 426:  85%|█████████████████▉   | 426/500 [05:29<00:57,  1.29it/s]"
     ]
    },
    {
     "name": "stdout",
     "output_type": "stream",
     "text": [
      "--------------------------------------------- Result 426 ---------------------------------------------\n",
      "[[0 (100%)]] --> [[[FAILED]]]\n",
      "\n",
      "Sorry, I'll call later\n",
      "\n",
      "\n"
     ]
    },
    {
     "name": "stderr",
     "output_type": "stream",
     "text": [
      "[Succeeded / Failed / Skipped / Total] 40 / 383 / 3 / 426:  85%|█████████████████▉   | 427/500 [05:31<00:56,  1.29it/s]C:\\Users\\DELL\\anaconda3\\envs\\ta\\lib\\site-packages\\textattack\\loggers\\csv_logger.py:41: FutureWarning: The frame.append method is deprecated and will be removed from pandas in a future version. Use pandas.concat instead.\n",
      "  self.df = self.df.append(row, ignore_index=True)\n",
      "[Succeeded / Failed / Skipped / Total] 41 / 383 / 3 / 427:  85%|█████████████████▉   | 427/500 [05:31<00:56,  1.29it/s]"
     ]
    },
    {
     "name": "stdout",
     "output_type": "stream",
     "text": [
      "--------------------------------------------- Result 427 ---------------------------------------------\n",
      "[[0 (100%)]] --> [[1 (80%)]]\n",
      "\n",
      "Never [[blame]] a day in ur [[life]]. [[Good]] [[days]] [[give]] [[u]] happiness. [[Bad]] days [[give]] [[u]] [[experience]]. Both are [[essential]] in [[life]]! All are [[Gods]] [[blessings]]! [[good]] [[morning]].:\n",
      "\n",
      "Never [[pick]] a day in ur [[animation]]. [[undecomposed]] [[daytime]] [[generate]] [[uranium]] happiness. [[high-risk]] days [[founder]] [[uranium]] [[live]]. Both are [[requisite]] in [[biography]]! All are [[idol]] [[approval]]! [[expert]] [[daybreak]].:\n",
      "\n",
      "\n"
     ]
    },
    {
     "name": "stderr",
     "output_type": "stream",
     "text": [
      "C:\\Users\\DELL\\anaconda3\\envs\\ta\\lib\\site-packages\\textattack\\loggers\\csv_logger.py:41: FutureWarning: The frame.append method is deprecated and will be removed from pandas in a future version. Use pandas.concat instead.\n",
      "  self.df = self.df.append(row, ignore_index=True)\n",
      "\r",
      "[Succeeded / Failed / Skipped / Total] 42 / 383 / 3 / 428:  86%|█████████████████▉   | 428/500 [05:33<00:56,  1.28it/s]"
     ]
    },
    {
     "name": "stdout",
     "output_type": "stream",
     "text": [
      "--------------------------------------------- Result 428 ---------------------------------------------\n",
      "[[0 (100%)]] --> [[1 (78%)]]\n",
      "\n",
      "By the [[way]], i've [[put]] a [[skip]] [[right]] [[outside]] the [[front]] of the [[house]] so you can [[see]] which [[house]] it is. [[Just]] pull up before it.\n",
      "\n",
      "By the [[mode]], i've [[redact]] a [[hop-skip]] [[correct]] [[remote]] the [[look]] of the [[mansion]] so you can [[determine]] which [[mansion]] it is. [[precisely]] pull up before it.\n",
      "\n",
      "\n"
     ]
    },
    {
     "name": "stderr",
     "output_type": "stream",
     "text": [
      "[Succeeded / Failed / Skipped / Total] 42 / 383 / 3 / 428:  86%|██████████████████   | 429/500 [05:34<00:55,  1.28it/s]C:\\Users\\DELL\\anaconda3\\envs\\ta\\lib\\site-packages\\textattack\\loggers\\csv_logger.py:41: FutureWarning: The frame.append method is deprecated and will be removed from pandas in a future version. Use pandas.concat instead.\n",
      "  self.df = self.df.append(row, ignore_index=True)\n",
      "[Succeeded / Failed / Skipped / Total] 43 / 383 / 3 / 429:  86%|██████████████████   | 429/500 [05:34<00:55,  1.28it/s]"
     ]
    },
    {
     "name": "stdout",
     "output_type": "stream",
     "text": [
      "--------------------------------------------- Result 429 ---------------------------------------------\n",
      "[[0 (100%)]] --> [[1 (93%)]]\n",
      "\n",
      "[[Left]] dessert. U wan me 2 [[go]] suntec [[look]] [[4]] u?\n",
      "\n",
      "[[unexpended]] dessert. U wan me 2 [[XTC]] suntec [[search]] [[quadruplet]] u?\n",
      "\n",
      "\n"
     ]
    },
    {
     "name": "stderr",
     "output_type": "stream",
     "text": [
      "C:\\Users\\DELL\\anaconda3\\envs\\ta\\lib\\site-packages\\textattack\\loggers\\csv_logger.py:41: FutureWarning: The frame.append method is deprecated and will be removed from pandas in a future version. Use pandas.concat instead.\n",
      "  self.df = self.df.append(row, ignore_index=True)\n",
      "\r",
      "[Succeeded / Failed / Skipped / Total] 43 / 384 / 3 / 430:  86%|██████████████████   | 430/500 [05:34<00:54,  1.28it/s]"
     ]
    },
    {
     "name": "stdout",
     "output_type": "stream",
     "text": [
      "--------------------------------------------- Result 430 ---------------------------------------------\n",
      "[[0 (100%)]] --> [[[FAILED]]]\n",
      "\n",
      "Are you not around or just still asleep? :V\n",
      "\n",
      "\n"
     ]
    },
    {
     "name": "stderr",
     "output_type": "stream",
     "text": [
      "[Succeeded / Failed / Skipped / Total] 43 / 384 / 3 / 430:  86%|██████████████████   | 431/500 [05:35<00:53,  1.29it/s]C:\\Users\\DELL\\anaconda3\\envs\\ta\\lib\\site-packages\\textattack\\loggers\\csv_logger.py:41: FutureWarning: The frame.append method is deprecated and will be removed from pandas in a future version. Use pandas.concat instead.\n",
      "  self.df = self.df.append(row, ignore_index=True)\n",
      "[Succeeded / Failed / Skipped / Total] 43 / 385 / 3 / 431:  86%|██████████████████   | 431/500 [05:35<00:53,  1.29it/s]"
     ]
    },
    {
     "name": "stdout",
     "output_type": "stream",
     "text": [
      "--------------------------------------------- Result 431 ---------------------------------------------\n",
      "[[0 (100%)]] --> [[[FAILED]]]\n",
      "\n",
      "Cheers for the card ... Is it that time of year already?\n",
      "\n",
      "\n"
     ]
    },
    {
     "name": "stderr",
     "output_type": "stream",
     "text": [
      "C:\\Users\\DELL\\anaconda3\\envs\\ta\\lib\\site-packages\\textattack\\loggers\\csv_logger.py:41: FutureWarning: The frame.append method is deprecated and will be removed from pandas in a future version. Use pandas.concat instead.\n",
      "  self.df = self.df.append(row, ignore_index=True)\n",
      "\r",
      "[Succeeded / Failed / Skipped / Total] 43 / 386 / 3 / 432:  86%|██████████████████▏  | 432/500 [05:36<00:52,  1.28it/s]"
     ]
    },
    {
     "name": "stdout",
     "output_type": "stream",
     "text": [
      "--------------------------------------------- Result 432 ---------------------------------------------\n",
      "[[0 (100%)]] --> [[[FAILED]]]\n",
      "\n",
      "I had a good time too. Its nice to do something a bit different with my weekends for a change. See ya soon\n",
      "\n",
      "\n"
     ]
    },
    {
     "name": "stderr",
     "output_type": "stream",
     "text": [
      "[Succeeded / Failed / Skipped / Total] 43 / 386 / 3 / 432:  87%|██████████████████▏  | 433/500 [05:37<00:52,  1.28it/s]C:\\Users\\DELL\\anaconda3\\envs\\ta\\lib\\site-packages\\textattack\\loggers\\csv_logger.py:41: FutureWarning: The frame.append method is deprecated and will be removed from pandas in a future version. Use pandas.concat instead.\n",
      "  self.df = self.df.append(row, ignore_index=True)\n",
      "[Succeeded / Failed / Skipped / Total] 44 / 386 / 3 / 433:  87%|██████████████████▏  | 433/500 [05:37<00:52,  1.28it/s]"
     ]
    },
    {
     "name": "stdout",
     "output_type": "stream",
     "text": [
      "--------------------------------------------- Result 433 ---------------------------------------------\n",
      "[[0 (100%)]] --> [[1 (79%)]]\n",
      "\n",
      "cud u [[tell]] ppl im gona b a bit l8 [[cos]] [[2]] [[buses]] hav gon past cos they were full & im [[still]] waitin 4 1. Pete [[x]]\n",
      "\n",
      "cud u [[order]] ppl im gona b a bit l8 [[cobalt]] [[II]] [[double-decker]] hav gon past cos they were full & im [[soundless]] waitin 4 1. Pete [[XTC]]\n",
      "\n",
      "\n"
     ]
    },
    {
     "name": "stderr",
     "output_type": "stream",
     "text": [
      "C:\\Users\\DELL\\anaconda3\\envs\\ta\\lib\\site-packages\\textattack\\loggers\\csv_logger.py:41: FutureWarning: The frame.append method is deprecated and will be removed from pandas in a future version. Use pandas.concat instead.\n",
      "  self.df = self.df.append(row, ignore_index=True)\n",
      "\r",
      "[Succeeded / Failed / Skipped / Total] 44 / 387 / 3 / 434:  87%|██████████████████▏  | 434/500 [05:38<00:51,  1.28it/s]"
     ]
    },
    {
     "name": "stdout",
     "output_type": "stream",
     "text": [
      "--------------------------------------------- Result 434 ---------------------------------------------\n",
      "[[1 (100%)]] --> [[[FAILED]]]\n",
      "\n",
      "Please call our customer service representative on 0800 169 6031 between 10am-9pm as you have WON a guaranteed £1000 cash or £5000 prize!\n",
      "\n",
      "\n"
     ]
    },
    {
     "name": "stderr",
     "output_type": "stream",
     "text": [
      "[Succeeded / Failed / Skipped / Total] 44 / 387 / 3 / 434:  87%|██████████████████▎  | 435/500 [05:39<00:50,  1.28it/s]C:\\Users\\DELL\\anaconda3\\envs\\ta\\lib\\site-packages\\textattack\\loggers\\csv_logger.py:41: FutureWarning: The frame.append method is deprecated and will be removed from pandas in a future version. Use pandas.concat instead.\n",
      "  self.df = self.df.append(row, ignore_index=True)\n",
      "[Succeeded / Failed / Skipped / Total] 44 / 388 / 3 / 435:  87%|██████████████████▎  | 435/500 [05:39<00:50,  1.28it/s]C:\\Users\\DELL\\anaconda3\\envs\\ta\\lib\\site-packages\\textattack\\loggers\\csv_logger.py:41: FutureWarning: The frame.append method is deprecated and will be removed from pandas in a future version. Use pandas.concat instead.\n",
      "  self.df = self.df.append(row, ignore_index=True)\n",
      "[Succeeded / Failed / Skipped / Total] 44 / 389 / 3 / 436:  87%|██████████████████▎  | 436/500 [05:39<00:49,  1.29it/s]"
     ]
    },
    {
     "name": "stdout",
     "output_type": "stream",
     "text": [
      "--------------------------------------------- Result 435 ---------------------------------------------\n",
      "[[0 (100%)]] --> [[[FAILED]]]\n",
      "\n",
      "I'm vivek:)i got call from your number.\n",
      "\n",
      "\n",
      "--------------------------------------------- Result 436 ---------------------------------------------\n",
      "[[0 (100%)]] --> [[[FAILED]]]\n",
      "\n",
      "Then we gotta do it after that\n",
      "\n",
      "\n"
     ]
    },
    {
     "name": "stderr",
     "output_type": "stream",
     "text": [
      "[Succeeded / Failed / Skipped / Total] 44 / 389 / 3 / 436:  87%|██████████████████▎  | 437/500 [05:39<00:48,  1.29it/s]C:\\Users\\DELL\\anaconda3\\envs\\ta\\lib\\site-packages\\textattack\\loggers\\csv_logger.py:41: FutureWarning: The frame.append method is deprecated and will be removed from pandas in a future version. Use pandas.concat instead.\n",
      "  self.df = self.df.append(row, ignore_index=True)\n",
      "[Succeeded / Failed / Skipped / Total] 44 / 390 / 3 / 437:  87%|██████████████████▎  | 437/500 [05:39<00:48,  1.29it/s]"
     ]
    },
    {
     "name": "stdout",
     "output_type": "stream",
     "text": [
      "--------------------------------------------- Result 437 ---------------------------------------------\n",
      "[[0 (100%)]] --> [[[FAILED]]]\n",
      "\n",
      "Thanks. Fills me with complete calm and reassurance! \n",
      "\n",
      "\n"
     ]
    },
    {
     "name": "stderr",
     "output_type": "stream",
     "text": [
      "C:\\Users\\DELL\\anaconda3\\envs\\ta\\lib\\site-packages\\textattack\\loggers\\csv_logger.py:41: FutureWarning: The frame.append method is deprecated and will be removed from pandas in a future version. Use pandas.concat instead.\n",
      "  self.df = self.df.append(row, ignore_index=True)\n",
      "\r",
      "[Succeeded / Failed / Skipped / Total] 44 / 391 / 3 / 438:  88%|██████████████████▍  | 438/500 [05:41<00:48,  1.28it/s]"
     ]
    },
    {
     "name": "stdout",
     "output_type": "stream",
     "text": [
      "--------------------------------------------- Result 438 ---------------------------------------------\n",
      "[[1 (100%)]] --> [[[FAILED]]]\n",
      "\n",
      "Last chance 2 claim ur £150 worth of discount vouchers-Text YES to 85023 now!SavaMob-member offers mobile T Cs 08717898035. £3.00 Sub. 16 . Remove txt X or STOP\n",
      "\n",
      "\n"
     ]
    },
    {
     "name": "stderr",
     "output_type": "stream",
     "text": [
      "[Succeeded / Failed / Skipped / Total] 44 / 391 / 3 / 438:  88%|██████████████████▍  | 439/500 [05:42<00:47,  1.28it/s]C:\\Users\\DELL\\anaconda3\\envs\\ta\\lib\\site-packages\\textattack\\loggers\\csv_logger.py:41: FutureWarning: The frame.append method is deprecated and will be removed from pandas in a future version. Use pandas.concat instead.\n",
      "  self.df = self.df.append(row, ignore_index=True)\n",
      "[Succeeded / Failed / Skipped / Total] 45 / 391 / 3 / 439:  88%|██████████████████▍  | 439/500 [05:42<00:47,  1.28it/s]"
     ]
    },
    {
     "name": "stdout",
     "output_type": "stream",
     "text": [
      "--------------------------------------------- Result 439 ---------------------------------------------\n",
      "[[0 (100%)]] --> [[1 (89%)]]\n",
      "\n",
      "[[I]] [[cant]] [[pick]] the phone [[right]] now. Pls send a message\n",
      "\n",
      "[[iodine]] [[buzzword]] [[option]] the phone [[powerful]] now. Pls send a message\n",
      "\n",
      "\n"
     ]
    },
    {
     "name": "stderr",
     "output_type": "stream",
     "text": [
      "C:\\Users\\DELL\\anaconda3\\envs\\ta\\lib\\site-packages\\textattack\\loggers\\csv_logger.py:41: FutureWarning: The frame.append method is deprecated and will be removed from pandas in a future version. Use pandas.concat instead.\n",
      "  self.df = self.df.append(row, ignore_index=True)\n",
      "\r",
      "[Succeeded / Failed / Skipped / Total] 45 / 392 / 3 / 440:  88%|██████████████████▍  | 440/500 [05:44<00:46,  1.28it/s]"
     ]
    },
    {
     "name": "stdout",
     "output_type": "stream",
     "text": [
      "--------------------------------------------- Result 440 ---------------------------------------------\n",
      "[[1 (100%)]] --> [[[FAILED]]]\n",
      "\n",
      "Welcome to UK-mobile-date this msg is FREE giving you free calling to 08719839835. Future mgs billed at 150p daily. To cancel send \"go stop\" to 89123\n",
      "\n",
      "\n"
     ]
    },
    {
     "name": "stderr",
     "output_type": "stream",
     "text": [
      "[Succeeded / Failed / Skipped / Total] 45 / 392 / 3 / 440:  88%|██████████████████▌  | 441/500 [05:45<00:46,  1.27it/s]C:\\Users\\DELL\\anaconda3\\envs\\ta\\lib\\site-packages\\textattack\\loggers\\csv_logger.py:41: FutureWarning: The frame.append method is deprecated and will be removed from pandas in a future version. Use pandas.concat instead.\n",
      "  self.df = self.df.append(row, ignore_index=True)\n",
      "[Succeeded / Failed / Skipped / Total] 45 / 393 / 3 / 441:  88%|██████████████████▌  | 441/500 [05:46<00:46,  1.27it/s]"
     ]
    },
    {
     "name": "stdout",
     "output_type": "stream",
     "text": [
      "--------------------------------------------- Result 441 ---------------------------------------------\n",
      "[[0 (100%)]] --> [[[FAILED]]]\n",
      "\n",
      "I am thinking of going down to reg for pract lessons.. Flung my advance.. Haha wat time u going?\n",
      "\n",
      "\n"
     ]
    },
    {
     "name": "stderr",
     "output_type": "stream",
     "text": [
      "C:\\Users\\DELL\\anaconda3\\envs\\ta\\lib\\site-packages\\textattack\\loggers\\csv_logger.py:41: FutureWarning: The frame.append method is deprecated and will be removed from pandas in a future version. Use pandas.concat instead.\n",
      "  self.df = self.df.append(row, ignore_index=True)\n",
      "\r",
      "[Succeeded / Failed / Skipped / Total] 45 / 394 / 3 / 442:  88%|██████████████████▌  | 442/500 [05:46<00:45,  1.28it/s]"
     ]
    },
    {
     "name": "stdout",
     "output_type": "stream",
     "text": [
      "--------------------------------------------- Result 442 ---------------------------------------------\n",
      "[[0 (100%)]] --> [[[FAILED]]]\n",
      "\n",
      "Yeah that'd pretty much be the best case scenario\n",
      "\n",
      "\n"
     ]
    },
    {
     "name": "stderr",
     "output_type": "stream",
     "text": [
      "[Succeeded / Failed / Skipped / Total] 45 / 394 / 3 / 442:  89%|██████████████████▌  | 443/500 [05:48<00:44,  1.27it/s]C:\\Users\\DELL\\anaconda3\\envs\\ta\\lib\\site-packages\\textattack\\loggers\\csv_logger.py:41: FutureWarning: The frame.append method is deprecated and will be removed from pandas in a future version. Use pandas.concat instead.\n",
      "  self.df = self.df.append(row, ignore_index=True)\n",
      "[Succeeded / Failed / Skipped / Total] 45 / 395 / 3 / 443:  89%|██████████████████▌  | 443/500 [05:48<00:44,  1.27it/s]"
     ]
    },
    {
     "name": "stdout",
     "output_type": "stream",
     "text": [
      "--------------------------------------------- Result 443 ---------------------------------------------\n",
      "[[1 (100%)]] --> [[[FAILED]]]\n",
      "\n",
      "PRIVATE! Your 2003 Account Statement for 07973788240 shows 800 un-redeemed S. I. M. points. Call 08715203649 Identifier Code: 40533 Expires 31/10/04\n",
      "\n",
      "\n"
     ]
    },
    {
     "name": "stderr",
     "output_type": "stream",
     "text": [
      "C:\\Users\\DELL\\anaconda3\\envs\\ta\\lib\\site-packages\\textattack\\loggers\\csv_logger.py:41: FutureWarning: The frame.append method is deprecated and will be removed from pandas in a future version. Use pandas.concat instead.\n",
      "  self.df = self.df.append(row, ignore_index=True)\n",
      "\r",
      "[Succeeded / Failed / Skipped / Total] 45 / 396 / 3 / 444:  89%|██████████████████▋  | 444/500 [05:48<00:43,  1.27it/s]"
     ]
    },
    {
     "name": "stdout",
     "output_type": "stream",
     "text": [
      "--------------------------------------------- Result 444 ---------------------------------------------\n",
      "[[0 (100%)]] --> [[[FAILED]]]\n",
      "\n",
      "But i have to. I like to have love and arrange.\n",
      "\n",
      "\n"
     ]
    },
    {
     "name": "stderr",
     "output_type": "stream",
     "text": [
      "[Succeeded / Failed / Skipped / Total] 45 / 396 / 3 / 444:  89%|██████████████████▋  | 445/500 [05:49<00:43,  1.27it/s]C:\\Users\\DELL\\anaconda3\\envs\\ta\\lib\\site-packages\\textattack\\loggers\\csv_logger.py:41: FutureWarning: The frame.append method is deprecated and will be removed from pandas in a future version. Use pandas.concat instead.\n",
      "  self.df = self.df.append(row, ignore_index=True)\n",
      "[Succeeded / Failed / Skipped / Total] 46 / 396 / 3 / 445:  89%|██████████████████▋  | 445/500 [05:49<00:43,  1.27it/s]"
     ]
    },
    {
     "name": "stdout",
     "output_type": "stream",
     "text": [
      "--------------------------------------------- Result 445 ---------------------------------------------\n",
      "[[0 (100%)]] --> [[1 (51%)]]\n",
      "\n",
      "[[I]] (Career Tel) have [[added]] [[u]] as a [[contact]] on INDYAROCKS.COM to [[send]] FREE SMS. To remove from phonebook - sms NO to  &lt;#&gt;\n",
      "\n",
      "[[unity]] (Career Tel) have [[summate]] [[U]] as a [[touch]] on INDYAROCKS.COM to [[charge]] FREE SMS. To remove from phonebook - sms NO to  &lt;#&gt;\n",
      "\n",
      "\n"
     ]
    },
    {
     "name": "stderr",
     "output_type": "stream",
     "text": [
      "C:\\Users\\DELL\\anaconda3\\envs\\ta\\lib\\site-packages\\textattack\\loggers\\csv_logger.py:41: FutureWarning: The frame.append method is deprecated and will be removed from pandas in a future version. Use pandas.concat instead.\n",
      "  self.df = self.df.append(row, ignore_index=True)\n",
      "\r",
      "[Succeeded / Failed / Skipped / Total] 46 / 397 / 3 / 446:  89%|██████████████████▋  | 446/500 [05:50<00:42,  1.27it/s]"
     ]
    },
    {
     "name": "stdout",
     "output_type": "stream",
     "text": [
      "--------------------------------------------- Result 446 ---------------------------------------------\n",
      "[[1 (100%)]] --> [[[FAILED]]]\n",
      "\n",
      "This message is free. Welcome to the new & improved Sex & Dogging club! To unsubscribe from this service reply STOP. msgs@150p 18 only\n",
      "\n",
      "\n"
     ]
    },
    {
     "name": "stderr",
     "output_type": "stream",
     "text": [
      "[Succeeded / Failed / Skipped / Total] 46 / 397 / 3 / 446:  89%|██████████████████▊  | 447/500 [05:52<00:41,  1.27it/s]C:\\Users\\DELL\\anaconda3\\envs\\ta\\lib\\site-packages\\textattack\\loggers\\csv_logger.py:41: FutureWarning: The frame.append method is deprecated and will be removed from pandas in a future version. Use pandas.concat instead.\n",
      "  self.df = self.df.append(row, ignore_index=True)\n",
      "[Succeeded / Failed / Skipped / Total] 46 / 398 / 3 / 447:  89%|██████████████████▊  | 447/500 [05:52<00:41,  1.27it/s]"
     ]
    },
    {
     "name": "stdout",
     "output_type": "stream",
     "text": [
      "--------------------------------------------- Result 447 ---------------------------------------------\n",
      "[[0 (100%)]] --> [[[FAILED]]]\n",
      "\n",
      "Thk shld b can... Ya, i wana go 4 lessons... Haha, can go for one whole stretch...\n",
      "\n",
      "\n"
     ]
    },
    {
     "name": "stderr",
     "output_type": "stream",
     "text": [
      "C:\\Users\\DELL\\anaconda3\\envs\\ta\\lib\\site-packages\\textattack\\loggers\\csv_logger.py:41: FutureWarning: The frame.append method is deprecated and will be removed from pandas in a future version. Use pandas.concat instead.\n",
      "  self.df = self.df.append(row, ignore_index=True)\n",
      "\r",
      "[Succeeded / Failed / Skipped / Total] 47 / 398 / 3 / 448:  90%|██████████████████▊  | 448/500 [05:52<00:40,  1.27it/s]"
     ]
    },
    {
     "name": "stdout",
     "output_type": "stream",
     "text": [
      "--------------------------------------------- Result 448 ---------------------------------------------\n",
      "[[0 (100%)]] --> [[1 (52%)]]\n",
      "\n",
      " [[said]] kiss, kiss, i can't do the sound effects! [[He]] is a gorgeous man isn't he! [[Kind]] of person who needs a smile to brighten his day! \n",
      "\n",
      " [[read]] kiss, kiss, i can't do the sound effects! [[helium]] is a gorgeous man isn't he! [[variety]] of person who needs a smile to brighten his day! \n",
      "\n",
      "\n"
     ]
    },
    {
     "name": "stderr",
     "output_type": "stream",
     "text": [
      "[Succeeded / Failed / Skipped / Total] 47 / 398 / 3 / 448:  90%|██████████████████▊  | 449/500 [05:53<00:40,  1.27it/s]C:\\Users\\DELL\\anaconda3\\envs\\ta\\lib\\site-packages\\textattack\\loggers\\csv_logger.py:41: FutureWarning: The frame.append method is deprecated and will be removed from pandas in a future version. Use pandas.concat instead.\n",
      "  self.df = self.df.append(row, ignore_index=True)\n",
      "[Succeeded / Failed / Skipped / Total] 47 / 399 / 3 / 449:  90%|██████████████████▊  | 449/500 [05:53<00:40,  1.27it/s]C:\\Users\\DELL\\anaconda3\\envs\\ta\\lib\\site-packages\\textattack\\loggers\\csv_logger.py:41: FutureWarning: The frame.append method is deprecated and will be removed from pandas in a future version. Use pandas.concat instead.\n",
      "  self.df = self.df.append(row, ignore_index=True)\n",
      "[Succeeded / Failed / Skipped / Total] 47 / 400 / 3 / 450:  90%|██████████████████▉  | 450/500 [05:53<00:39,  1.27it/s]"
     ]
    },
    {
     "name": "stdout",
     "output_type": "stream",
     "text": [
      "--------------------------------------------- Result 449 ---------------------------------------------\n",
      "[[0 (100%)]] --> [[[FAILED]]]\n",
      "\n",
      "I love working from home :)\n",
      "\n",
      "\n",
      "--------------------------------------------- Result 450 ---------------------------------------------\n",
      "[[0 (100%)]] --> [[[FAILED]]]\n",
      "\n",
      "Yup i've finished c ü there...\n",
      "\n",
      "\n"
     ]
    },
    {
     "name": "stderr",
     "output_type": "stream",
     "text": [
      "[Succeeded / Failed / Skipped / Total] 47 / 400 / 3 / 450:  90%|██████████████████▉  | 451/500 [05:54<00:38,  1.27it/s]C:\\Users\\DELL\\anaconda3\\envs\\ta\\lib\\site-packages\\textattack\\loggers\\csv_logger.py:41: FutureWarning: The frame.append method is deprecated and will be removed from pandas in a future version. Use pandas.concat instead.\n",
      "  self.df = self.df.append(row, ignore_index=True)\n",
      "[Succeeded / Failed / Skipped / Total] 47 / 401 / 3 / 451:  90%|██████████████████▉  | 451/500 [05:54<00:38,  1.27it/s]"
     ]
    },
    {
     "name": "stdout",
     "output_type": "stream",
     "text": [
      "--------------------------------------------- Result 451 ---------------------------------------------\n",
      "[[0 (100%)]] --> [[[FAILED]]]\n",
      "\n",
      "K. Did you call me just now ah? \n",
      "\n",
      "\n"
     ]
    },
    {
     "name": "stderr",
     "output_type": "stream",
     "text": [
      "C:\\Users\\DELL\\anaconda3\\envs\\ta\\lib\\site-packages\\textattack\\loggers\\csv_logger.py:41: FutureWarning: The frame.append method is deprecated and will be removed from pandas in a future version. Use pandas.concat instead.\n",
      "  self.df = self.df.append(row, ignore_index=True)\n",
      "\r",
      "[Succeeded / Failed / Skipped / Total] 47 / 402 / 3 / 452:  90%|██████████████████▉  | 452/500 [05:55<00:37,  1.27it/s]"
     ]
    },
    {
     "name": "stdout",
     "output_type": "stream",
     "text": [
      "--------------------------------------------- Result 452 ---------------------------------------------\n",
      "[[0 (100%)]] --> [[[FAILED]]]\n",
      "\n",
      "We took hooch for a walk toaday and i fell over! Splat! Grazed my knees and everything! Should have stayed at home! See you tomorrow! \n",
      "\n",
      "\n"
     ]
    },
    {
     "name": "stderr",
     "output_type": "stream",
     "text": [
      "[Succeeded / Failed / Skipped / Total] 47 / 402 / 3 / 452:  91%|███████████████████  | 453/500 [05:56<00:36,  1.27it/s]C:\\Users\\DELL\\anaconda3\\envs\\ta\\lib\\site-packages\\textattack\\loggers\\csv_logger.py:41: FutureWarning: The frame.append method is deprecated and will be removed from pandas in a future version. Use pandas.concat instead.\n",
      "  self.df = self.df.append(row, ignore_index=True)\n",
      "[Succeeded / Failed / Skipped / Total] 48 / 402 / 3 / 453:  91%|███████████████████  | 453/500 [05:56<00:36,  1.27it/s]C:\\Users\\DELL\\anaconda3\\envs\\ta\\lib\\site-packages\\textattack\\loggers\\csv_logger.py:41: FutureWarning: The frame.append method is deprecated and will be removed from pandas in a future version. Use pandas.concat instead.\n",
      "  self.df = self.df.append(row, ignore_index=True)\n",
      "[Succeeded / Failed / Skipped / Total] 48 / 403 / 3 / 454:  91%|███████████████████  | 454/500 [05:56<00:36,  1.27it/s]"
     ]
    },
    {
     "name": "stdout",
     "output_type": "stream",
     "text": [
      "--------------------------------------------- Result 453 ---------------------------------------------\n",
      "[[0 (99%)]] --> [[1 (99%)]]\n",
      "\n",
      "[[Does]] she usually [[take]] fifteen [[fucking]] minutes to respond to a yes or no question\n",
      "\n",
      "[[fare]] she usually [[subscribe]] fifteen [[crashing]] minutes to respond to a yes or no question\n",
      "\n",
      "\n",
      "--------------------------------------------- Result 454 ---------------------------------------------\n",
      "[[0 (100%)]] --> [[[FAILED]]]\n",
      "\n",
      "Oh ok..\n",
      "\n",
      "\n"
     ]
    },
    {
     "name": "stderr",
     "output_type": "stream",
     "text": [
      "[Succeeded / Failed / Skipped / Total] 48 / 403 / 3 / 454:  91%|███████████████████  | 455/500 [05:57<00:35,  1.27it/s]C:\\Users\\DELL\\anaconda3\\envs\\ta\\lib\\site-packages\\textattack\\loggers\\csv_logger.py:41: FutureWarning: The frame.append method is deprecated and will be removed from pandas in a future version. Use pandas.concat instead.\n",
      "  self.df = self.df.append(row, ignore_index=True)\n",
      "[Succeeded / Failed / Skipped / Total] 48 / 404 / 3 / 455:  91%|███████████████████  | 455/500 [05:57<00:35,  1.27it/s]"
     ]
    },
    {
     "name": "stdout",
     "output_type": "stream",
     "text": [
      "--------------------------------------------- Result 455 ---------------------------------------------\n",
      "[[0 (100%)]] --> [[[FAILED]]]\n",
      "\n",
      "I'll talk to the others and probably just come early tomorrow then\n",
      "\n",
      "\n"
     ]
    },
    {
     "name": "stderr",
     "output_type": "stream",
     "text": [
      "C:\\Users\\DELL\\anaconda3\\envs\\ta\\lib\\site-packages\\textattack\\loggers\\csv_logger.py:41: FutureWarning: The frame.append method is deprecated and will be removed from pandas in a future version. Use pandas.concat instead.\n",
      "  self.df = self.df.append(row, ignore_index=True)\n",
      "\r",
      "[Succeeded / Failed / Skipped / Total] 48 / 405 / 3 / 456:  91%|███████████████████▏ | 456/500 [05:57<00:34,  1.28it/s]"
     ]
    },
    {
     "name": "stdout",
     "output_type": "stream",
     "text": [
      "--------------------------------------------- Result 456 ---------------------------------------------\n",
      "[[0 (100%)]] --> [[[FAILED]]]\n",
      "\n",
      "10 min later k...\n",
      "\n",
      "\n"
     ]
    },
    {
     "name": "stderr",
     "output_type": "stream",
     "text": [
      "[Succeeded / Failed / Skipped / Total] 48 / 405 / 3 / 456:  91%|███████████████████▏ | 457/500 [05:58<00:33,  1.28it/s]C:\\Users\\DELL\\anaconda3\\envs\\ta\\lib\\site-packages\\textattack\\loggers\\csv_logger.py:41: FutureWarning: The frame.append method is deprecated and will be removed from pandas in a future version. Use pandas.concat instead.\n",
      "  self.df = self.df.append(row, ignore_index=True)\n",
      "[Succeeded / Failed / Skipped / Total] 48 / 406 / 3 / 457:  91%|███████████████████▏ | 457/500 [05:58<00:33,  1.28it/s]"
     ]
    },
    {
     "name": "stdout",
     "output_type": "stream",
     "text": [
      "--------------------------------------------- Result 457 ---------------------------------------------\n",
      "[[0 (100%)]] --> [[[FAILED]]]\n",
      "\n",
      "He telling not to tell any one. If so treat for me hi hi hi\n",
      "\n",
      "\n"
     ]
    },
    {
     "name": "stderr",
     "output_type": "stream",
     "text": [
      "C:\\Users\\DELL\\anaconda3\\envs\\ta\\lib\\site-packages\\textattack\\loggers\\csv_logger.py:41: FutureWarning: The frame.append method is deprecated and will be removed from pandas in a future version. Use pandas.concat instead.\n",
      "  self.df = self.df.append(row, ignore_index=True)\n",
      "\r",
      "[Succeeded / Failed / Skipped / Total] 48 / 407 / 3 / 458:  92%|███████████████████▏ | 458/500 [05:59<00:32,  1.28it/s]"
     ]
    },
    {
     "name": "stdout",
     "output_type": "stream",
     "text": [
      "--------------------------------------------- Result 458 ---------------------------------------------\n",
      "[[0 (100%)]] --> [[[FAILED]]]\n",
      "\n",
      "Where do you need to go to get it?\n",
      "\n",
      "\n"
     ]
    },
    {
     "name": "stderr",
     "output_type": "stream",
     "text": [
      "[Succeeded / Failed / Skipped / Total] 48 / 407 / 3 / 458:  92%|███████████████████▎ | 459/500 [06:00<00:32,  1.27it/s]C:\\Users\\DELL\\anaconda3\\envs\\ta\\lib\\site-packages\\textattack\\loggers\\csv_logger.py:41: FutureWarning: The frame.append method is deprecated and will be removed from pandas in a future version. Use pandas.concat instead.\n",
      "  self.df = self.df.append(row, ignore_index=True)\n",
      "[Succeeded / Failed / Skipped / Total] 49 / 407 / 3 / 459:  92%|███████████████████▎ | 459/500 [06:00<00:32,  1.27it/s]"
     ]
    },
    {
     "name": "stdout",
     "output_type": "stream",
     "text": [
      "--------------------------------------------- Result 459 ---------------------------------------------\n",
      "[[0 (100%)]] --> [[1 (69%)]]\n",
      "\n",
      "[[Get]] [[ready]] to [[put]] on your [[excellent]] [[sub]] [[face]] :)\n",
      "\n",
      "[[receive]] [[quick]] to [[redact]] on your [[first-class]] [[zep]] [[font]] :)\n",
      "\n",
      "\n"
     ]
    },
    {
     "name": "stderr",
     "output_type": "stream",
     "text": [
      "C:\\Users\\DELL\\anaconda3\\envs\\ta\\lib\\site-packages\\textattack\\loggers\\csv_logger.py:41: FutureWarning: The frame.append method is deprecated and will be removed from pandas in a future version. Use pandas.concat instead.\n",
      "  self.df = self.df.append(row, ignore_index=True)\n",
      "\r",
      "[Succeeded / Failed / Skipped / Total] 49 / 408 / 3 / 460:  92%|███████████████████▎ | 460/500 [06:00<00:31,  1.28it/s]"
     ]
    },
    {
     "name": "stdout",
     "output_type": "stream",
     "text": [
      "--------------------------------------------- Result 460 ---------------------------------------------\n",
      "[[0 (100%)]] --> [[[FAILED]]]\n",
      "\n",
      "K, if u bored up just come to my home..\n",
      "\n",
      "\n"
     ]
    },
    {
     "name": "stderr",
     "output_type": "stream",
     "text": [
      "[Succeeded / Failed / Skipped / Total] 49 / 408 / 3 / 460:  92%|███████████████████▎ | 461/500 [06:00<00:30,  1.28it/s]C:\\Users\\DELL\\anaconda3\\envs\\ta\\lib\\site-packages\\textattack\\loggers\\csv_logger.py:41: FutureWarning: The frame.append method is deprecated and will be removed from pandas in a future version. Use pandas.concat instead.\n",
      "  self.df = self.df.append(row, ignore_index=True)\n",
      "[Succeeded / Failed / Skipped / Total] 49 / 409 / 3 / 461:  92%|███████████████████▎ | 461/500 [06:00<00:30,  1.28it/s]"
     ]
    },
    {
     "name": "stdout",
     "output_type": "stream",
     "text": [
      "--------------------------------------------- Result 461 ---------------------------------------------\n",
      "[[0 (100%)]] --> [[[FAILED]]]\n",
      "\n",
      "Oh is it? Send me the address\n",
      "\n",
      "\n"
     ]
    },
    {
     "name": "stderr",
     "output_type": "stream",
     "text": [
      "C:\\Users\\DELL\\anaconda3\\envs\\ta\\lib\\site-packages\\textattack\\loggers\\csv_logger.py:41: FutureWarning: The frame.append method is deprecated and will be removed from pandas in a future version. Use pandas.concat instead.\n",
      "  self.df = self.df.append(row, ignore_index=True)\n",
      "\r",
      "[Succeeded / Failed / Skipped / Total] 49 / 410 / 3 / 462:  92%|███████████████████▍ | 462/500 [06:02<00:29,  1.28it/s]"
     ]
    },
    {
     "name": "stdout",
     "output_type": "stream",
     "text": [
      "--------------------------------------------- Result 462 ---------------------------------------------\n",
      "[[1 (100%)]] --> [[[FAILED]]]\n",
      "\n",
      "Thank you, winner notified by sms. Good Luck! No future marketing reply STOP to 84122 customer services 08450542832\n",
      "\n",
      "\n"
     ]
    },
    {
     "name": "stderr",
     "output_type": "stream",
     "text": [
      "[Succeeded / Failed / Skipped / Total] 49 / 410 / 3 / 462:  93%|███████████████████▍ | 463/500 [06:02<00:29,  1.28it/s]C:\\Users\\DELL\\anaconda3\\envs\\ta\\lib\\site-packages\\textattack\\loggers\\csv_logger.py:41: FutureWarning: The frame.append method is deprecated and will be removed from pandas in a future version. Use pandas.concat instead.\n",
      "  self.df = self.df.append(row, ignore_index=True)\n",
      "[Succeeded / Failed / Skipped / Total] 49 / 411 / 3 / 463:  93%|███████████████████▍ | 463/500 [06:03<00:29,  1.28it/s]"
     ]
    },
    {
     "name": "stdout",
     "output_type": "stream",
     "text": [
      "--------------------------------------------- Result 463 ---------------------------------------------\n",
      "[[0 (100%)]] --> [[[FAILED]]]\n",
      "\n",
      "\"Speak only when you feel your words are better than the silence...\" Gud mrng:-)\n",
      "\n",
      "\n"
     ]
    },
    {
     "name": "stderr",
     "output_type": "stream",
     "text": [
      "C:\\Users\\DELL\\anaconda3\\envs\\ta\\lib\\site-packages\\textattack\\loggers\\csv_logger.py:41: FutureWarning: The frame.append method is deprecated and will be removed from pandas in a future version. Use pandas.concat instead.\n",
      "  self.df = self.df.append(row, ignore_index=True)\n",
      "\r",
      "[Succeeded / Failed / Skipped / Total] 49 / 412 / 3 / 464:  93%|███████████████████▍ | 464/500 [06:04<00:28,  1.27it/s]"
     ]
    },
    {
     "name": "stdout",
     "output_type": "stream",
     "text": [
      "--------------------------------------------- Result 464 ---------------------------------------------\n",
      "[[1 (100%)]] --> [[[FAILED]]]\n",
      "\n",
      "Todays Voda numbers ending with 7634 are selected to receive a £350 reward. If you have a match please call 08712300220 quoting claim code 7684 standard rates apply.\n",
      "\n",
      "\n"
     ]
    },
    {
     "name": "stderr",
     "output_type": "stream",
     "text": [
      "[Succeeded / Failed / Skipped / Total] 49 / 412 / 3 / 464:  93%|███████████████████▌ | 465/500 [06:06<00:27,  1.27it/s]C:\\Users\\DELL\\anaconda3\\envs\\ta\\lib\\site-packages\\textattack\\loggers\\csv_logger.py:41: FutureWarning: The frame.append method is deprecated and will be removed from pandas in a future version. Use pandas.concat instead.\n",
      "  self.df = self.df.append(row, ignore_index=True)\n",
      "[Succeeded / Failed / Skipped / Total] 50 / 412 / 3 / 465:  93%|███████████████████▌ | 465/500 [06:06<00:27,  1.27it/s]"
     ]
    },
    {
     "name": "stdout",
     "output_type": "stream",
     "text": [
      "--------------------------------------------- Result 465 ---------------------------------------------\n",
      "[[0 (100%)]] --> [[1 (85%)]]\n",
      "\n",
      "[[Kind]] of. [[Took]] it to garage. Centre [[part]] of exhaust [[needs]] replacing. [[Part]] ordered [[n]] [[taking]] it to be fixed tomo morning.\n",
      "\n",
      "[[variety]] of. [[pack]] it to garage. Centre [[voice]] of exhaust [[demand]] replacing. [[region]] ordered [[nitrogen]] [[subscribe]] it to be fixed tomo morning.\n",
      "\n",
      "\n"
     ]
    },
    {
     "name": "stderr",
     "output_type": "stream",
     "text": [
      "C:\\Users\\DELL\\anaconda3\\envs\\ta\\lib\\site-packages\\textattack\\loggers\\csv_logger.py:41: FutureWarning: The frame.append method is deprecated and will be removed from pandas in a future version. Use pandas.concat instead.\n",
      "  self.df = self.df.append(row, ignore_index=True)\n",
      "[Succeeded / Failed / Skipped / Total] 50 / 413 / 3 / 466:  93%|███████████████████▌ | 467/500 [06:07<00:25,  1.27it/s]C:\\Users\\DELL\\anaconda3\\envs\\ta\\lib\\site-packages\\textattack\\loggers\\csv_logger.py:41: FutureWarning: The frame.append method is deprecated and will be removed from pandas in a future version. Use pandas.concat instead.\n",
      "  self.df = self.df.append(row, ignore_index=True)\n",
      "[Succeeded / Failed / Skipped / Total] 50 / 414 / 3 / 467:  93%|███████████████████▌ | 467/500 [06:07<00:25,  1.27it/s]"
     ]
    },
    {
     "name": "stdout",
     "output_type": "stream",
     "text": [
      "--------------------------------------------- Result 466 ---------------------------------------------\n",
      "[[0 (100%)]] --> [[[FAILED]]]\n",
      "\n",
      "Umma my life and vava umma love you lot dear\n",
      "\n",
      "\n",
      "--------------------------------------------- Result 467 ---------------------------------------------\n",
      "[[0 (100%)]] --> [[[FAILED]]]\n",
      "\n",
      "So what do you guys do.\n",
      "\n",
      "\n"
     ]
    },
    {
     "name": "stderr",
     "output_type": "stream",
     "text": [
      "C:\\Users\\DELL\\anaconda3\\envs\\ta\\lib\\site-packages\\textattack\\loggers\\csv_logger.py:41: FutureWarning: The frame.append method is deprecated and will be removed from pandas in a future version. Use pandas.concat instead.\n",
      "  self.df = self.df.append(row, ignore_index=True)\n",
      "\r",
      "[Succeeded / Failed / Skipped / Total] 50 / 415 / 3 / 468:  94%|███████████████████▋ | 468/500 [06:08<00:25,  1.27it/s]"
     ]
    },
    {
     "name": "stdout",
     "output_type": "stream",
     "text": [
      "--------------------------------------------- Result 468 ---------------------------------------------\n",
      "[[0 (100%)]] --> [[[FAILED]]]\n",
      "\n",
      "Normally i use to drink more water daily:)\n",
      "\n",
      "\n"
     ]
    },
    {
     "name": "stderr",
     "output_type": "stream",
     "text": [
      "[Succeeded / Failed / Skipped / Total] 50 / 415 / 3 / 468:  94%|███████████████████▋ | 469/500 [06:09<00:24,  1.27it/s]C:\\Users\\DELL\\anaconda3\\envs\\ta\\lib\\site-packages\\textattack\\loggers\\csv_logger.py:41: FutureWarning: The frame.append method is deprecated and will be removed from pandas in a future version. Use pandas.concat instead.\n",
      "  self.df = self.df.append(row, ignore_index=True)\n",
      "[Succeeded / Failed / Skipped / Total] 50 / 416 / 3 / 469:  94%|███████████████████▋ | 469/500 [06:09<00:24,  1.27it/s]"
     ]
    },
    {
     "name": "stdout",
     "output_type": "stream",
     "text": [
      "--------------------------------------------- Result 469 ---------------------------------------------\n",
      "[[0 (100%)]] --> [[[FAILED]]]\n",
      "\n",
      "Dont hesitate. You know this is the second time she has had weakness like that. So keep i notebook of what she eat and did the day before or if anything changed the day before so that we can be sure its nothing\n",
      "\n",
      "\n"
     ]
    },
    {
     "name": "stderr",
     "output_type": "stream",
     "text": [
      "C:\\Users\\DELL\\anaconda3\\envs\\ta\\lib\\site-packages\\textattack\\loggers\\csv_logger.py:41: FutureWarning: The frame.append method is deprecated and will be removed from pandas in a future version. Use pandas.concat instead.\n",
      "  self.df = self.df.append(row, ignore_index=True)\n",
      "\r",
      "[Succeeded / Failed / Skipped / Total] 51 / 416 / 3 / 470:  94%|███████████████████▋ | 470/500 [06:10<00:23,  1.27it/s]"
     ]
    },
    {
     "name": "stdout",
     "output_type": "stream",
     "text": [
      "--------------------------------------------- Result 470 ---------------------------------------------\n",
      "[[0 (100%)]] --> [[1 (96%)]]\n",
      "\n",
      "[[Sounds]] [[great]]! Im going to sleep now. [[Have]] a [[good]] night!\n",
      "\n",
      "[[audio]] [[slap-up]]! Im going to sleep now. [[feature]] a [[serious]] night!\n",
      "\n",
      "\n"
     ]
    },
    {
     "name": "stderr",
     "output_type": "stream",
     "text": [
      "[Succeeded / Failed / Skipped / Total] 51 / 416 / 3 / 470:  94%|███████████████████▊ | 471/500 [06:10<00:22,  1.27it/s]C:\\Users\\DELL\\anaconda3\\envs\\ta\\lib\\site-packages\\textattack\\loggers\\csv_logger.py:41: FutureWarning: The frame.append method is deprecated and will be removed from pandas in a future version. Use pandas.concat instead.\n",
      "  self.df = self.df.append(row, ignore_index=True)\n",
      "[Succeeded / Failed / Skipped / Total] 51 / 417 / 3 / 471:  94%|███████████████████▊ | 471/500 [06:11<00:22,  1.27it/s]"
     ]
    },
    {
     "name": "stdout",
     "output_type": "stream",
     "text": [
      "--------------------------------------------- Result 471 ---------------------------------------------\n",
      "[[0 (100%)]] --> [[[FAILED]]]\n",
      "\n",
      "Goodnight da thangam I really miss u dear.\n",
      "\n",
      "\n"
     ]
    },
    {
     "name": "stderr",
     "output_type": "stream",
     "text": [
      "C:\\Users\\DELL\\anaconda3\\envs\\ta\\lib\\site-packages\\textattack\\loggers\\csv_logger.py:41: FutureWarning: The frame.append method is deprecated and will be removed from pandas in a future version. Use pandas.concat instead.\n",
      "  self.df = self.df.append(row, ignore_index=True)\n",
      "\r",
      "[Succeeded / Failed / Skipped / Total] 51 / 418 / 3 / 472:  94%|███████████████████▊ | 472/500 [06:11<00:22,  1.27it/s]"
     ]
    },
    {
     "name": "stdout",
     "output_type": "stream",
     "text": [
      "--------------------------------------------- Result 472 ---------------------------------------------\n",
      "[[0 (100%)]] --> [[[FAILED]]]\n",
      "\n",
      ", how's things? Just a quick question.\n",
      "\n",
      "\n"
     ]
    },
    {
     "name": "stderr",
     "output_type": "stream",
     "text": [
      "[Succeeded / Failed / Skipped / Total] 51 / 418 / 3 / 472:  95%|███████████████████▊ | 473/500 [06:11<00:21,  1.27it/s]C:\\Users\\DELL\\anaconda3\\envs\\ta\\lib\\site-packages\\textattack\\loggers\\csv_logger.py:41: FutureWarning: The frame.append method is deprecated and will be removed from pandas in a future version. Use pandas.concat instead.\n",
      "  self.df = self.df.append(row, ignore_index=True)\n",
      "[Succeeded / Failed / Skipped / Total] 51 / 419 / 3 / 473:  95%|███████████████████▊ | 473/500 [06:11<00:21,  1.27it/s]"
     ]
    },
    {
     "name": "stdout",
     "output_type": "stream",
     "text": [
      "--------------------------------------------- Result 473 ---------------------------------------------\n",
      "[[0 (100%)]] --> [[[FAILED]]]\n",
      "\n",
      "THIS IS A LONG FUCKIN SHOWR\n",
      "\n",
      "\n"
     ]
    },
    {
     "name": "stderr",
     "output_type": "stream",
     "text": [
      "C:\\Users\\DELL\\anaconda3\\envs\\ta\\lib\\site-packages\\textattack\\loggers\\csv_logger.py:41: FutureWarning: The frame.append method is deprecated and will be removed from pandas in a future version. Use pandas.concat instead.\n",
      "  self.df = self.df.append(row, ignore_index=True)\n",
      "\r",
      "[Succeeded / Failed / Skipped / Total] 51 / 420 / 3 / 474:  95%|███████████████████▉ | 474/500 [06:12<00:20,  1.27it/s]"
     ]
    },
    {
     "name": "stdout",
     "output_type": "stream",
     "text": [
      "--------------------------------------------- Result 474 ---------------------------------------------\n",
      "[[0 (100%)]] --> [[[FAILED]]]\n",
      "\n",
      "Pls tell nelson that the bb's are no longer comin. The money i was expecting aint coming\n",
      "\n",
      "\n"
     ]
    },
    {
     "name": "stderr",
     "output_type": "stream",
     "text": [
      "[Succeeded / Failed / Skipped / Total] 51 / 420 / 3 / 474:  95%|███████████████████▉ | 475/500 [06:12<00:19,  1.27it/s]C:\\Users\\DELL\\anaconda3\\envs\\ta\\lib\\site-packages\\textattack\\loggers\\csv_logger.py:41: FutureWarning: The frame.append method is deprecated and will be removed from pandas in a future version. Use pandas.concat instead.\n",
      "  self.df = self.df.append(row, ignore_index=True)\n",
      "[Succeeded / Failed / Skipped / Total] 51 / 421 / 3 / 475:  95%|███████████████████▉ | 475/500 [06:12<00:19,  1.27it/s]"
     ]
    },
    {
     "name": "stdout",
     "output_type": "stream",
     "text": [
      "--------------------------------------------- Result 475 ---------------------------------------------\n",
      "[[0 (100%)]] --> [[[FAILED]]]\n",
      "\n",
      "Gumby's has a special where a  &lt;#&gt; \" cheese pizza is $2 so I know what we're doin tonight\n",
      "\n",
      "\n"
     ]
    },
    {
     "name": "stderr",
     "output_type": "stream",
     "text": [
      "C:\\Users\\DELL\\anaconda3\\envs\\ta\\lib\\site-packages\\textattack\\loggers\\csv_logger.py:41: FutureWarning: The frame.append method is deprecated and will be removed from pandas in a future version. Use pandas.concat instead.\n",
      "  self.df = self.df.append(row, ignore_index=True)\n",
      "\r",
      "[Succeeded / Failed / Skipped / Total] 51 / 422 / 3 / 476:  95%|███████████████████▉ | 476/500 [06:13<00:18,  1.28it/s]"
     ]
    },
    {
     "name": "stdout",
     "output_type": "stream",
     "text": [
      "--------------------------------------------- Result 476 ---------------------------------------------\n",
      "[[0 (100%)]] --> [[[FAILED]]]\n",
      "\n",
      "No he didn't. Spring is coming early yay!\n",
      "\n",
      "\n"
     ]
    },
    {
     "name": "stderr",
     "output_type": "stream",
     "text": [
      "[Succeeded / Failed / Skipped / Total] 51 / 422 / 3 / 476:  95%|████████████████████ | 477/500 [06:14<00:18,  1.27it/s]C:\\Users\\DELL\\anaconda3\\envs\\ta\\lib\\site-packages\\textattack\\loggers\\csv_logger.py:41: FutureWarning: The frame.append method is deprecated and will be removed from pandas in a future version. Use pandas.concat instead.\n",
      "  self.df = self.df.append(row, ignore_index=True)\n",
      "[Succeeded / Failed / Skipped / Total] 52 / 422 / 3 / 477:  95%|████████████████████ | 477/500 [06:14<00:18,  1.27it/s]"
     ]
    },
    {
     "name": "stdout",
     "output_type": "stream",
     "text": [
      "--------------------------------------------- Result 477 ---------------------------------------------\n",
      "[[1 (100%)]] --> [[0 (100%)]]\n",
      "\n",
      "FreeMsg Hey there [[darling]] it's been [[3]] week's now and no [[word]] [[back]]! I'd [[like]] some [[fun]] you up for it [[still]]? [[Tb]] [[ok]]! [[XxX]] [[std]] chgs to [[send]], £[[1]].[[50]] to rcv\n",
      "\n",
      "FreeMsg Hey there [[beloved]] it's been [[threesome]] week's now and no [[parole]] [[hind]]! I'd [[wish]] some [[merriment]] you up for it [[lull]]? [[terbium]] [[okeh]]! [[thirty]] [[STD]] chgs to [[broadcast]], £[[I]].[[L]] to rcv\n",
      "\n",
      "\n"
     ]
    },
    {
     "name": "stderr",
     "output_type": "stream",
     "text": [
      "C:\\Users\\DELL\\anaconda3\\envs\\ta\\lib\\site-packages\\textattack\\loggers\\csv_logger.py:41: FutureWarning: The frame.append method is deprecated and will be removed from pandas in a future version. Use pandas.concat instead.\n",
      "  self.df = self.df.append(row, ignore_index=True)\n",
      "\r",
      "[Succeeded / Failed / Skipped / Total] 52 / 423 / 3 / 478:  96%|████████████████████ | 478/500 [06:16<00:17,  1.27it/s]"
     ]
    },
    {
     "name": "stdout",
     "output_type": "stream",
     "text": [
      "--------------------------------------------- Result 478 ---------------------------------------------\n",
      "[[0 (100%)]] --> [[[FAILED]]]\n",
      "\n",
      "Fuck babe, I miss you sooooo much !! I wish you were here to sleep with me ... My bed is so lonely ... I go now, to sleep ... To dream of you, my love ...\n",
      "\n",
      "\n"
     ]
    },
    {
     "name": "stderr",
     "output_type": "stream",
     "text": [
      "[Succeeded / Failed / Skipped / Total] 52 / 423 / 3 / 478:  96%|████████████████████ | 479/500 [06:17<00:16,  1.27it/s]C:\\Users\\DELL\\anaconda3\\envs\\ta\\lib\\site-packages\\textattack\\loggers\\csv_logger.py:41: FutureWarning: The frame.append method is deprecated and will be removed from pandas in a future version. Use pandas.concat instead.\n",
      "  self.df = self.df.append(row, ignore_index=True)\n",
      "[Succeeded / Failed / Skipped / Total] 52 / 424 / 3 / 479:  96%|████████████████████ | 479/500 [06:17<00:16,  1.27it/s]"
     ]
    },
    {
     "name": "stdout",
     "output_type": "stream",
     "text": [
      "--------------------------------------------- Result 479 ---------------------------------------------\n",
      "[[0 (100%)]] --> [[[FAILED]]]\n",
      "\n",
      "Free any day but i finish at 6 on mon n thurs...\n",
      "\n",
      "\n"
     ]
    },
    {
     "name": "stderr",
     "output_type": "stream",
     "text": [
      "C:\\Users\\DELL\\anaconda3\\envs\\ta\\lib\\site-packages\\textattack\\loggers\\csv_logger.py:41: FutureWarning: The frame.append method is deprecated and will be removed from pandas in a future version. Use pandas.concat instead.\n",
      "  self.df = self.df.append(row, ignore_index=True)\n",
      "\r",
      "[Succeeded / Failed / Skipped / Total] 52 / 425 / 3 / 480:  96%|████████████████████▏| 480/500 [06:17<00:15,  1.27it/s]"
     ]
    },
    {
     "name": "stdout",
     "output_type": "stream",
     "text": [
      "--------------------------------------------- Result 480 ---------------------------------------------\n",
      "[[0 (100%)]] --> [[[FAILED]]]\n",
      "\n",
      "You were supposed to wake ME up &gt;:(\n",
      "\n",
      "\n"
     ]
    },
    {
     "name": "stderr",
     "output_type": "stream",
     "text": [
      "[Succeeded / Failed / Skipped / Total] 52 / 425 / 3 / 480:  96%|████████████████████▏| 481/500 [06:18<00:14,  1.27it/s]C:\\Users\\DELL\\anaconda3\\envs\\ta\\lib\\site-packages\\textattack\\loggers\\csv_logger.py:41: FutureWarning: The frame.append method is deprecated and will be removed from pandas in a future version. Use pandas.concat instead.\n",
      "  self.df = self.df.append(row, ignore_index=True)\n",
      "[Succeeded / Failed / Skipped / Total] 52 / 426 / 3 / 481:  96%|████████████████████▏| 481/500 [06:18<00:14,  1.27it/s]"
     ]
    },
    {
     "name": "stdout",
     "output_type": "stream",
     "text": [
      "--------------------------------------------- Result 481 ---------------------------------------------\n",
      "[[0 (100%)]] --> [[[FAILED]]]\n",
      "\n",
      "So that takes away some money worries\n",
      "\n",
      "\n"
     ]
    },
    {
     "name": "stderr",
     "output_type": "stream",
     "text": [
      "C:\\Users\\DELL\\anaconda3\\envs\\ta\\lib\\site-packages\\textattack\\loggers\\csv_logger.py:41: FutureWarning: The frame.append method is deprecated and will be removed from pandas in a future version. Use pandas.concat instead.\n",
      "  self.df = self.df.append(row, ignore_index=True)\n",
      "\r",
      "[Succeeded / Failed / Skipped / Total] 52 / 427 / 3 / 482:  96%|████████████████████▏| 482/500 [06:18<00:14,  1.27it/s]"
     ]
    },
    {
     "name": "stdout",
     "output_type": "stream",
     "text": [
      "--------------------------------------------- Result 482 ---------------------------------------------\n",
      "[[0 (100%)]] --> [[[FAILED]]]\n",
      "\n",
      "In work now. Going have in few min.\n",
      "\n",
      "\n"
     ]
    },
    {
     "name": "stderr",
     "output_type": "stream",
     "text": [
      "[Succeeded / Failed / Skipped / Total] 52 / 427 / 3 / 482:  97%|████████████████████▎| 483/500 [06:19<00:13,  1.27it/s]C:\\Users\\DELL\\anaconda3\\envs\\ta\\lib\\site-packages\\textattack\\loggers\\csv_logger.py:41: FutureWarning: The frame.append method is deprecated and will be removed from pandas in a future version. Use pandas.concat instead.\n",
      "  self.df = self.df.append(row, ignore_index=True)\n",
      "[Succeeded / Failed / Skipped / Total] 52 / 428 / 3 / 483:  97%|████████████████████▎| 483/500 [06:19<00:13,  1.27it/s]"
     ]
    },
    {
     "name": "stdout",
     "output_type": "stream",
     "text": [
      "--------------------------------------------- Result 483 ---------------------------------------------\n",
      "[[0 (100%)]] --> [[[FAILED]]]\n",
      "\n",
      "Sac needs to carry on:)\n",
      "\n",
      "\n"
     ]
    },
    {
     "name": "stderr",
     "output_type": "stream",
     "text": [
      "C:\\Users\\DELL\\anaconda3\\envs\\ta\\lib\\site-packages\\textattack\\loggers\\csv_logger.py:41: FutureWarning: The frame.append method is deprecated and will be removed from pandas in a future version. Use pandas.concat instead.\n",
      "  self.df = self.df.append(row, ignore_index=True)\n",
      "\r",
      "[Succeeded / Failed / Skipped / Total] 52 / 429 / 3 / 484:  97%|████████████████████▎| 484/500 [06:20<00:12,  1.27it/s]"
     ]
    },
    {
     "name": "stdout",
     "output_type": "stream",
     "text": [
      "--------------------------------------------- Result 484 ---------------------------------------------\n",
      "[[0 (100%)]] --> [[[FAILED]]]\n",
      "\n",
      "Its ok my arm is feeling weak cuz i got a shot so we can go another time\n",
      "\n",
      "\n"
     ]
    },
    {
     "name": "stderr",
     "output_type": "stream",
     "text": [
      "[Succeeded / Failed / Skipped / Total] 52 / 429 / 3 / 484:  97%|████████████████████▎| 485/500 [06:21<00:11,  1.27it/s]C:\\Users\\DELL\\anaconda3\\envs\\ta\\lib\\site-packages\\textattack\\loggers\\csv_logger.py:41: FutureWarning: The frame.append method is deprecated and will be removed from pandas in a future version. Use pandas.concat instead.\n",
      "  self.df = self.df.append(row, ignore_index=True)\n",
      "[Succeeded / Failed / Skipped / Total] 52 / 430 / 3 / 485:  97%|████████████████████▎| 485/500 [06:21<00:11,  1.27it/s]"
     ]
    },
    {
     "name": "stdout",
     "output_type": "stream",
     "text": [
      "--------------------------------------------- Result 485 ---------------------------------------------\n",
      "[[0 (100%)]] --> [[[FAILED]]]\n",
      "\n",
      "So how are you really. What are you up to. How's the masters. And so on.\n",
      "\n",
      "\n"
     ]
    },
    {
     "name": "stderr",
     "output_type": "stream",
     "text": [
      "C:\\Users\\DELL\\anaconda3\\envs\\ta\\lib\\site-packages\\textattack\\loggers\\csv_logger.py:41: FutureWarning: The frame.append method is deprecated and will be removed from pandas in a future version. Use pandas.concat instead.\n",
      "  self.df = self.df.append(row, ignore_index=True)\n",
      "\r",
      "[Succeeded / Failed / Skipped / Total] 52 / 431 / 3 / 486:  97%|████████████████████▍| 486/500 [06:22<00:11,  1.27it/s]"
     ]
    },
    {
     "name": "stdout",
     "output_type": "stream",
     "text": [
      "--------------------------------------------- Result 486 ---------------------------------------------\n",
      "[[0 (100%)]] --> [[[FAILED]]]\n",
      "\n",
      "Mon okie lor... Haha, best is cheap n gd food la, ex oso okie... Depends on whether wana eat western or chinese food... Den which u prefer... \n",
      "\n",
      "\n"
     ]
    },
    {
     "name": "stderr",
     "output_type": "stream",
     "text": [
      "[Succeeded / Failed / Skipped / Total] 52 / 431 / 3 / 486:  97%|████████████████████▍| 487/500 [06:23<00:10,  1.27it/s]C:\\Users\\DELL\\anaconda3\\envs\\ta\\lib\\site-packages\\textattack\\loggers\\csv_logger.py:41: FutureWarning: The frame.append method is deprecated and will be removed from pandas in a future version. Use pandas.concat instead.\n",
      "  self.df = self.df.append(row, ignore_index=True)\n",
      "[Succeeded / Failed / Skipped / Total] 52 / 432 / 3 / 487:  97%|████████████████████▍| 487/500 [06:23<00:10,  1.27it/s]"
     ]
    },
    {
     "name": "stdout",
     "output_type": "stream",
     "text": [
      "--------------------------------------------- Result 487 ---------------------------------------------\n",
      "[[0 (100%)]] --> [[[FAILED]]]\n",
      "\n",
      "MAYBE IF YOU WOKE UP BEFORE FUCKING 3 THIS WOULDN'T BE A PROBLEM.\n",
      "\n",
      "\n"
     ]
    },
    {
     "name": "stderr",
     "output_type": "stream",
     "text": [
      "C:\\Users\\DELL\\anaconda3\\envs\\ta\\lib\\site-packages\\textattack\\loggers\\csv_logger.py:41: FutureWarning: The frame.append method is deprecated and will be removed from pandas in a future version. Use pandas.concat instead.\n",
      "  self.df = self.df.append(row, ignore_index=True)\n",
      "\r",
      "[Succeeded / Failed / Skipped / Total] 52 / 433 / 3 / 488:  98%|████████████████████▍| 488/500 [06:25<00:09,  1.27it/s]"
     ]
    },
    {
     "name": "stdout",
     "output_type": "stream",
     "text": [
      "--------------------------------------------- Result 488 ---------------------------------------------\n",
      "[[1 (100%)]] --> [[[FAILED]]]\n",
      "\n",
      "Sex up ur mobile with a FREE sexy pic of Jordan! Just text BABE to 88600. Then every wk get a sexy celeb! PocketBabe.co.uk 4 more pics. 16 £3/wk 087016248\n",
      "\n",
      "\n"
     ]
    },
    {
     "name": "stderr",
     "output_type": "stream",
     "text": [
      "[Succeeded / Failed / Skipped / Total] 52 / 433 / 3 / 488:  98%|████████████████████▌| 489/500 [06:25<00:08,  1.27it/s]C:\\Users\\DELL\\anaconda3\\envs\\ta\\lib\\site-packages\\textattack\\loggers\\csv_logger.py:41: FutureWarning: The frame.append method is deprecated and will be removed from pandas in a future version. Use pandas.concat instead.\n",
      "  self.df = self.df.append(row, ignore_index=True)\n",
      "[Succeeded / Failed / Skipped / Total] 52 / 434 / 3 / 489:  98%|████████████████████▌| 489/500 [06:25<00:08,  1.27it/s]"
     ]
    },
    {
     "name": "stdout",
     "output_type": "stream",
     "text": [
      "--------------------------------------------- Result 489 ---------------------------------------------\n",
      "[[0 (100%)]] --> [[[FAILED]]]\n",
      "\n",
      "I'm already back home so no probably not\n",
      "\n",
      "\n"
     ]
    },
    {
     "name": "stderr",
     "output_type": "stream",
     "text": [
      "C:\\Users\\DELL\\anaconda3\\envs\\ta\\lib\\site-packages\\textattack\\loggers\\csv_logger.py:41: FutureWarning: The frame.append method is deprecated and will be removed from pandas in a future version. Use pandas.concat instead.\n",
      "  self.df = self.df.append(row, ignore_index=True)\n",
      "\r",
      "[Succeeded / Failed / Skipped / Total] 53 / 434 / 3 / 490:  98%|████████████████████▌| 490/500 [06:26<00:07,  1.27it/s]"
     ]
    },
    {
     "name": "stdout",
     "output_type": "stream",
     "text": [
      "--------------------------------------------- Result 490 ---------------------------------------------\n",
      "[[0 (100%)]] --> [[1 (81%)]]\n",
      "\n",
      "[[Awesome]], I remember the [[last]] time we got [[somebody]] high for the [[first]] [[time]] with diesel :[[V]]\n",
      "\n",
      "[[awe-inspiring]], I remember the [[finale]] time we got [[soul]] high for the [[inaugural]] [[clip]] with diesel :[[volt]]\n",
      "\n",
      "\n"
     ]
    },
    {
     "name": "stderr",
     "output_type": "stream",
     "text": [
      "[Succeeded / Failed / Skipped / Total] 53 / 434 / 3 / 490:  98%|████████████████████▌| 491/500 [06:27<00:07,  1.27it/s]C:\\Users\\DELL\\anaconda3\\envs\\ta\\lib\\site-packages\\textattack\\loggers\\csv_logger.py:41: FutureWarning: The frame.append method is deprecated and will be removed from pandas in a future version. Use pandas.concat instead.\n",
      "  self.df = self.df.append(row, ignore_index=True)\n",
      "[Succeeded / Failed / Skipped / Total] 53 / 435 / 3 / 491:  98%|████████████████████▌| 491/500 [06:27<00:07,  1.27it/s]"
     ]
    },
    {
     "name": "stdout",
     "output_type": "stream",
     "text": [
      "--------------------------------------------- Result 491 ---------------------------------------------\n",
      "[[0 (100%)]] --> [[[FAILED]]]\n",
      "\n",
      "I get out of class in bsn in like  &lt;#&gt;  minutes, you know where advising is?\n",
      "\n",
      "\n"
     ]
    },
    {
     "name": "stderr",
     "output_type": "stream",
     "text": [
      "C:\\Users\\DELL\\anaconda3\\envs\\ta\\lib\\site-packages\\textattack\\loggers\\csv_logger.py:41: FutureWarning: The frame.append method is deprecated and will be removed from pandas in a future version. Use pandas.concat instead.\n",
      "  self.df = self.df.append(row, ignore_index=True)\n",
      "\r",
      "[Succeeded / Failed / Skipped / Total] 53 / 436 / 3 / 492:  98%|████████████████████▋| 492/500 [06:28<00:06,  1.27it/s]"
     ]
    },
    {
     "name": "stdout",
     "output_type": "stream",
     "text": [
      "--------------------------------------------- Result 492 ---------------------------------------------\n",
      "[[0 (100%)]] --> [[[FAILED]]]\n",
      "\n",
      "Hi Dear Call me its urgnt. I don't know whats your problem. You don't want to work or if you have any other problem at least tell me. Wating for your reply.\n",
      "\n",
      "\n"
     ]
    },
    {
     "name": "stderr",
     "output_type": "stream",
     "text": [
      "[Succeeded / Failed / Skipped / Total] 53 / 436 / 3 / 492:  99%|████████████████████▋| 493/500 [06:29<00:05,  1.27it/s]C:\\Users\\DELL\\anaconda3\\envs\\ta\\lib\\site-packages\\textattack\\loggers\\csv_logger.py:41: FutureWarning: The frame.append method is deprecated and will be removed from pandas in a future version. Use pandas.concat instead.\n",
      "  self.df = self.df.append(row, ignore_index=True)\n",
      "[Succeeded / Failed / Skipped / Total] 53 / 437 / 3 / 493:  99%|████████████████████▋| 493/500 [06:29<00:05,  1.27it/s]"
     ]
    },
    {
     "name": "stdout",
     "output_type": "stream",
     "text": [
      "--------------------------------------------- Result 493 ---------------------------------------------\n",
      "[[0 (100%)]] --> [[[FAILED]]]\n",
      "\n",
      "I think we're going to finn's now, come\n",
      "\n",
      "\n"
     ]
    },
    {
     "name": "stderr",
     "output_type": "stream",
     "text": [
      "C:\\Users\\DELL\\anaconda3\\envs\\ta\\lib\\site-packages\\textattack\\loggers\\csv_logger.py:41: FutureWarning: The frame.append method is deprecated and will be removed from pandas in a future version. Use pandas.concat instead.\n",
      "  self.df = self.df.append(row, ignore_index=True)\n",
      "\r",
      "[Succeeded / Failed / Skipped / Total] 53 / 438 / 3 / 494:  99%|████████████████████▋| 494/500 [06:29<00:04,  1.27it/s]"
     ]
    },
    {
     "name": "stdout",
     "output_type": "stream",
     "text": [
      "--------------------------------------------- Result 494 ---------------------------------------------\n",
      "[[0 (100%)]] --> [[[FAILED]]]\n",
      "\n",
      "Is avatar supposed to have subtoitles\n",
      "\n",
      "\n"
     ]
    },
    {
     "name": "stderr",
     "output_type": "stream",
     "text": [
      "[Succeeded / Failed / Skipped / Total] 53 / 438 / 3 / 494:  99%|████████████████████▊| 495/500 [06:30<00:03,  1.27it/s]C:\\Users\\DELL\\anaconda3\\envs\\ta\\lib\\site-packages\\textattack\\loggers\\csv_logger.py:41: FutureWarning: The frame.append method is deprecated and will be removed from pandas in a future version. Use pandas.concat instead.\n",
      "  self.df = self.df.append(row, ignore_index=True)\n",
      "[Succeeded / Failed / Skipped / Total] 53 / 439 / 3 / 495:  99%|████████████████████▊| 495/500 [06:30<00:03,  1.27it/s]"
     ]
    },
    {
     "name": "stdout",
     "output_type": "stream",
     "text": [
      "--------------------------------------------- Result 495 ---------------------------------------------\n",
      "[[0 (100%)]] --> [[[FAILED]]]\n",
      "\n",
      "It certainly puts things into perspective when something like this happens\n",
      "\n",
      "\n"
     ]
    },
    {
     "name": "stderr",
     "output_type": "stream",
     "text": [
      "C:\\Users\\DELL\\anaconda3\\envs\\ta\\lib\\site-packages\\textattack\\loggers\\csv_logger.py:41: FutureWarning: The frame.append method is deprecated and will be removed from pandas in a future version. Use pandas.concat instead.\n",
      "  self.df = self.df.append(row, ignore_index=True)\n",
      "\r",
      "[Succeeded / Failed / Skipped / Total] 53 / 440 / 3 / 496:  99%|████████████████████▊| 496/500 [06:30<00:03,  1.27it/s]"
     ]
    },
    {
     "name": "stdout",
     "output_type": "stream",
     "text": [
      "--------------------------------------------- Result 496 ---------------------------------------------\n",
      "[[0 (100%)]] --> [[[FAILED]]]\n",
      "\n",
      "Oh dang! I didn't mean o send that to you! Lol!\n",
      "\n",
      "\n"
     ]
    },
    {
     "name": "stderr",
     "output_type": "stream",
     "text": [
      "[Succeeded / Failed / Skipped / Total] 53 / 440 / 3 / 496:  99%|████████████████████▊| 497/500 [06:31<00:02,  1.27it/s]C:\\Users\\DELL\\anaconda3\\envs\\ta\\lib\\site-packages\\textattack\\loggers\\csv_logger.py:41: FutureWarning: The frame.append method is deprecated and will be removed from pandas in a future version. Use pandas.concat instead.\n",
      "  self.df = self.df.append(row, ignore_index=True)\n",
      "[Succeeded / Failed / Skipped / Total] 54 / 440 / 3 / 497:  99%|████████████████████▊| 497/500 [06:31<00:02,  1.27it/s]"
     ]
    },
    {
     "name": "stdout",
     "output_type": "stream",
     "text": [
      "--------------------------------------------- Result 497 ---------------------------------------------\n",
      "[[0 (99%)]] --> [[1 (82%)]]\n",
      "\n",
      "[[Book]] which lesson? then you msg me... I will [[call]] up after work or sth... I'm going to get specs. My membership is PX3748\n",
      "\n",
      "[[playscript]] which lesson? then you msg me... I will [[phone]] up after work or sth... I'm going to get specs. My membership is PX3748\n",
      "\n",
      "\n"
     ]
    },
    {
     "name": "stderr",
     "output_type": "stream",
     "text": [
      "C:\\Users\\DELL\\anaconda3\\envs\\ta\\lib\\site-packages\\textattack\\loggers\\csv_logger.py:41: FutureWarning: The frame.append method is deprecated and will be removed from pandas in a future version. Use pandas.concat instead.\n",
      "  self.df = self.df.append(row, ignore_index=True)\n",
      "[Succeeded / Failed / Skipped / Total] 55 / 440 / 3 / 498: 100%|████████████████████▉| 499/500 [06:33<00:00,  1.27it/s]C:\\Users\\DELL\\anaconda3\\envs\\ta\\lib\\site-packages\\textattack\\loggers\\csv_logger.py:41: FutureWarning: The frame.append method is deprecated and will be removed from pandas in a future version. Use pandas.concat instead.\n",
      "  self.df = self.df.append(row, ignore_index=True)\n"
     ]
    },
    {
     "name": "stdout",
     "output_type": "stream",
     "text": [
      "--------------------------------------------- Result 498 ---------------------------------------------\n",
      "[[1 (100%)]] --> [[0 (56%)]]\n",
      "\n",
      "U have a secret [[admirer]] who is [[looking]] [[2]] [[make]] [[contact]] with U-find out who they R*reveal who [[thinks]] UR so special-call on 09058094599\n",
      "\n",
      "U have a secret [[adorer]] who is [[seem]] [[II]] [[constitute]] [[adjoin]] with U-find out who they R*reveal who [[suppose]] UR so special-call on 09058094599\n",
      "\n",
      "\n",
      "--------------------------------------------- Result 499 ---------------------------------------------\n",
      "[[0 (100%)]] --> [[[FAILED]]]\n",
      "\n",
      "You'd like that wouldn't you? Jerk!\n",
      "\n",
      "\n"
     ]
    },
    {
     "name": "stderr",
     "output_type": "stream",
     "text": [
      "[Succeeded / Failed / Skipped / Total] 55 / 441 / 3 / 499: 100%|████████████████████▉| 499/500 [06:33<00:00,  1.27it/s]C:\\Users\\DELL\\anaconda3\\envs\\ta\\lib\\site-packages\\textattack\\loggers\\csv_logger.py:41: FutureWarning: The frame.append method is deprecated and will be removed from pandas in a future version. Use pandas.concat instead.\n",
      "  self.df = self.df.append(row, ignore_index=True)\n",
      "[Succeeded / Failed / Skipped / Total] 55 / 442 / 3 / 500: 100%|█████████████████████| 500/500 [06:35<00:00,  1.27it/s]"
     ]
    },
    {
     "name": "stdout",
     "output_type": "stream",
     "text": [
      "--------------------------------------------- Result 500 ---------------------------------------------\n",
      "[[0 (100%)]] --> [[[FAILED]]]\n",
      "\n",
      "Not a lot has happened here. Feels very quiet. Beth is at her aunts and charlie is working lots. Just me and helen in at the mo. How have you been? \n",
      "\n",
      "\n",
      "\n",
      "+-------------------------------+--------+\n",
      "| Attack Results                |        |\n",
      "+-------------------------------+--------+\n",
      "| Number of successful attacks: | 55     |\n",
      "| Number of failed attacks:     | 442    |\n",
      "| Number of skipped attacks:    | 3      |\n",
      "| Original accuracy:            | 99.4%  |\n",
      "| Accuracy under attack:        | 88.4%  |\n",
      "| Attack success rate:          | 11.07% |\n",
      "| Average perturbed word %:     | 28.7%  |\n",
      "| Average num. words per input: | 15.39  |\n",
      "| Avg num queries:              | 185.22 |\n",
      "+-------------------------------+--------+\n"
     ]
    },
    {
     "name": "stderr",
     "output_type": "stream",
     "text": [
      "\n"
     ]
    }
   ],
   "source": [
    "from tqdm import tqdm # tqdm provides us a nice progress bar.\n",
    "from textattack.loggers import CSVLogger # tracks a dataframe for us.\n",
    "from textattack.attack_results import SuccessfulAttackResult\n",
    "from textattack import Attacker\n",
    "from textattack import AttackArgs\n",
    "from textattack.datasets import Dataset\n",
    "\n",
    "attack_args = AttackArgs(num_examples=-1, random_seed = 765,\n",
    "                         log_to_csv = r'C:\\Users\\DELL\\Text_Augmentation\\sms_spam_dataset_3runs\\resullts\\CheckList\\run3\\pwws_attack_results.csv', \n",
    "                         csv_coloring_style = 'file')\n",
    "\n",
    "attacker = Attacker(attack, dataset, attack_args)\n",
    "\n",
    "attack_results = attacker.attack_dataset()\n"
   ]
  },
  {
   "cell_type": "code",
   "execution_count": 26,
   "id": "da39bfc1",
   "metadata": {
    "scrolled": true
   },
   "outputs": [
    {
     "name": "stderr",
     "output_type": "stream",
     "text": [
      "textattack: Logging to CSV at path results.csv\n",
      "C:\\Users\\DELL\\anaconda3\\envs\\ta\\lib\\site-packages\\textattack\\loggers\\csv_logger.py:41: FutureWarning: The frame.append method is deprecated and will be removed from pandas in a future version. Use pandas.concat instead.\n",
      "  self.df = self.df.append(row, ignore_index=True)\n",
      "C:\\Users\\DELL\\anaconda3\\envs\\ta\\lib\\site-packages\\textattack\\loggers\\csv_logger.py:41: FutureWarning: The frame.append method is deprecated and will be removed from pandas in a future version. Use pandas.concat instead.\n",
      "  self.df = self.df.append(row, ignore_index=True)\n",
      "C:\\Users\\DELL\\anaconda3\\envs\\ta\\lib\\site-packages\\textattack\\loggers\\csv_logger.py:41: FutureWarning: The frame.append method is deprecated and will be removed from pandas in a future version. Use pandas.concat instead.\n",
      "  self.df = self.df.append(row, ignore_index=True)\n",
      "C:\\Users\\DELL\\anaconda3\\envs\\ta\\lib\\site-packages\\textattack\\loggers\\csv_logger.py:41: FutureWarning: The frame.append method is deprecated and will be removed from pandas in a future version. Use pandas.concat instead.\n",
      "  self.df = self.df.append(row, ignore_index=True)\n",
      "C:\\Users\\DELL\\anaconda3\\envs\\ta\\lib\\site-packages\\textattack\\loggers\\csv_logger.py:41: FutureWarning: The frame.append method is deprecated and will be removed from pandas in a future version. Use pandas.concat instead.\n",
      "  self.df = self.df.append(row, ignore_index=True)\n",
      "C:\\Users\\DELL\\anaconda3\\envs\\ta\\lib\\site-packages\\textattack\\loggers\\csv_logger.py:41: FutureWarning: The frame.append method is deprecated and will be removed from pandas in a future version. Use pandas.concat instead.\n",
      "  self.df = self.df.append(row, ignore_index=True)\n",
      "C:\\Users\\DELL\\anaconda3\\envs\\ta\\lib\\site-packages\\textattack\\loggers\\csv_logger.py:41: FutureWarning: The frame.append method is deprecated and will be removed from pandas in a future version. Use pandas.concat instead.\n",
      "  self.df = self.df.append(row, ignore_index=True)\n",
      "C:\\Users\\DELL\\anaconda3\\envs\\ta\\lib\\site-packages\\textattack\\loggers\\csv_logger.py:41: FutureWarning: The frame.append method is deprecated and will be removed from pandas in a future version. Use pandas.concat instead.\n",
      "  self.df = self.df.append(row, ignore_index=True)\n",
      "C:\\Users\\DELL\\anaconda3\\envs\\ta\\lib\\site-packages\\textattack\\loggers\\csv_logger.py:41: FutureWarning: The frame.append method is deprecated and will be removed from pandas in a future version. Use pandas.concat instead.\n",
      "  self.df = self.df.append(row, ignore_index=True)\n",
      "C:\\Users\\DELL\\anaconda3\\envs\\ta\\lib\\site-packages\\textattack\\loggers\\csv_logger.py:41: FutureWarning: The frame.append method is deprecated and will be removed from pandas in a future version. Use pandas.concat instead.\n",
      "  self.df = self.df.append(row, ignore_index=True)\n",
      "C:\\Users\\DELL\\anaconda3\\envs\\ta\\lib\\site-packages\\textattack\\loggers\\csv_logger.py:41: FutureWarning: The frame.append method is deprecated and will be removed from pandas in a future version. Use pandas.concat instead.\n",
      "  self.df = self.df.append(row, ignore_index=True)\n",
      "C:\\Users\\DELL\\anaconda3\\envs\\ta\\lib\\site-packages\\textattack\\loggers\\csv_logger.py:41: FutureWarning: The frame.append method is deprecated and will be removed from pandas in a future version. Use pandas.concat instead.\n",
      "  self.df = self.df.append(row, ignore_index=True)\n",
      "C:\\Users\\DELL\\anaconda3\\envs\\ta\\lib\\site-packages\\textattack\\loggers\\csv_logger.py:41: FutureWarning: The frame.append method is deprecated and will be removed from pandas in a future version. Use pandas.concat instead.\n",
      "  self.df = self.df.append(row, ignore_index=True)\n",
      "C:\\Users\\DELL\\anaconda3\\envs\\ta\\lib\\site-packages\\textattack\\loggers\\csv_logger.py:41: FutureWarning: The frame.append method is deprecated and will be removed from pandas in a future version. Use pandas.concat instead.\n",
      "  self.df = self.df.append(row, ignore_index=True)\n",
      "C:\\Users\\DELL\\anaconda3\\envs\\ta\\lib\\site-packages\\textattack\\loggers\\csv_logger.py:41: FutureWarning: The frame.append method is deprecated and will be removed from pandas in a future version. Use pandas.concat instead.\n",
      "  self.df = self.df.append(row, ignore_index=True)\n",
      "C:\\Users\\DELL\\anaconda3\\envs\\ta\\lib\\site-packages\\textattack\\loggers\\csv_logger.py:41: FutureWarning: The frame.append method is deprecated and will be removed from pandas in a future version. Use pandas.concat instead.\n",
      "  self.df = self.df.append(row, ignore_index=True)\n",
      "C:\\Users\\DELL\\anaconda3\\envs\\ta\\lib\\site-packages\\textattack\\loggers\\csv_logger.py:41: FutureWarning: The frame.append method is deprecated and will be removed from pandas in a future version. Use pandas.concat instead.\n",
      "  self.df = self.df.append(row, ignore_index=True)\n",
      "C:\\Users\\DELL\\anaconda3\\envs\\ta\\lib\\site-packages\\textattack\\loggers\\csv_logger.py:41: FutureWarning: The frame.append method is deprecated and will be removed from pandas in a future version. Use pandas.concat instead.\n",
      "  self.df = self.df.append(row, ignore_index=True)\n",
      "C:\\Users\\DELL\\anaconda3\\envs\\ta\\lib\\site-packages\\textattack\\loggers\\csv_logger.py:41: FutureWarning: The frame.append method is deprecated and will be removed from pandas in a future version. Use pandas.concat instead.\n",
      "  self.df = self.df.append(row, ignore_index=True)\n",
      "C:\\Users\\DELL\\anaconda3\\envs\\ta\\lib\\site-packages\\textattack\\loggers\\csv_logger.py:41: FutureWarning: The frame.append method is deprecated and will be removed from pandas in a future version. Use pandas.concat instead.\n",
      "  self.df = self.df.append(row, ignore_index=True)\n",
      "C:\\Users\\DELL\\anaconda3\\envs\\ta\\lib\\site-packages\\textattack\\loggers\\csv_logger.py:41: FutureWarning: The frame.append method is deprecated and will be removed from pandas in a future version. Use pandas.concat instead.\n",
      "  self.df = self.df.append(row, ignore_index=True)\n",
      "C:\\Users\\DELL\\anaconda3\\envs\\ta\\lib\\site-packages\\textattack\\loggers\\csv_logger.py:41: FutureWarning: The frame.append method is deprecated and will be removed from pandas in a future version. Use pandas.concat instead.\n",
      "  self.df = self.df.append(row, ignore_index=True)\n",
      "C:\\Users\\DELL\\anaconda3\\envs\\ta\\lib\\site-packages\\textattack\\loggers\\csv_logger.py:41: FutureWarning: The frame.append method is deprecated and will be removed from pandas in a future version. Use pandas.concat instead.\n",
      "  self.df = self.df.append(row, ignore_index=True)\n",
      "C:\\Users\\DELL\\anaconda3\\envs\\ta\\lib\\site-packages\\textattack\\loggers\\csv_logger.py:41: FutureWarning: The frame.append method is deprecated and will be removed from pandas in a future version. Use pandas.concat instead.\n",
      "  self.df = self.df.append(row, ignore_index=True)\n",
      "C:\\Users\\DELL\\anaconda3\\envs\\ta\\lib\\site-packages\\textattack\\loggers\\csv_logger.py:41: FutureWarning: The frame.append method is deprecated and will be removed from pandas in a future version. Use pandas.concat instead.\n",
      "  self.df = self.df.append(row, ignore_index=True)\n",
      "C:\\Users\\DELL\\anaconda3\\envs\\ta\\lib\\site-packages\\textattack\\loggers\\csv_logger.py:41: FutureWarning: The frame.append method is deprecated and will be removed from pandas in a future version. Use pandas.concat instead.\n",
      "  self.df = self.df.append(row, ignore_index=True)\n",
      "C:\\Users\\DELL\\anaconda3\\envs\\ta\\lib\\site-packages\\textattack\\loggers\\csv_logger.py:41: FutureWarning: The frame.append method is deprecated and will be removed from pandas in a future version. Use pandas.concat instead.\n",
      "  self.df = self.df.append(row, ignore_index=True)\n",
      "C:\\Users\\DELL\\anaconda3\\envs\\ta\\lib\\site-packages\\textattack\\loggers\\csv_logger.py:41: FutureWarning: The frame.append method is deprecated and will be removed from pandas in a future version. Use pandas.concat instead.\n",
      "  self.df = self.df.append(row, ignore_index=True)\n",
      "C:\\Users\\DELL\\anaconda3\\envs\\ta\\lib\\site-packages\\textattack\\loggers\\csv_logger.py:41: FutureWarning: The frame.append method is deprecated and will be removed from pandas in a future version. Use pandas.concat instead.\n",
      "  self.df = self.df.append(row, ignore_index=True)\n",
      "C:\\Users\\DELL\\anaconda3\\envs\\ta\\lib\\site-packages\\textattack\\loggers\\csv_logger.py:41: FutureWarning: The frame.append method is deprecated and will be removed from pandas in a future version. Use pandas.concat instead.\n",
      "  self.df = self.df.append(row, ignore_index=True)\n",
      "C:\\Users\\DELL\\anaconda3\\envs\\ta\\lib\\site-packages\\textattack\\loggers\\csv_logger.py:41: FutureWarning: The frame.append method is deprecated and will be removed from pandas in a future version. Use pandas.concat instead.\n",
      "  self.df = self.df.append(row, ignore_index=True)\n",
      "C:\\Users\\DELL\\anaconda3\\envs\\ta\\lib\\site-packages\\textattack\\loggers\\csv_logger.py:41: FutureWarning: The frame.append method is deprecated and will be removed from pandas in a future version. Use pandas.concat instead.\n",
      "  self.df = self.df.append(row, ignore_index=True)\n",
      "C:\\Users\\DELL\\anaconda3\\envs\\ta\\lib\\site-packages\\textattack\\loggers\\csv_logger.py:41: FutureWarning: The frame.append method is deprecated and will be removed from pandas in a future version. Use pandas.concat instead.\n",
      "  self.df = self.df.append(row, ignore_index=True)\n",
      "C:\\Users\\DELL\\anaconda3\\envs\\ta\\lib\\site-packages\\textattack\\loggers\\csv_logger.py:41: FutureWarning: The frame.append method is deprecated and will be removed from pandas in a future version. Use pandas.concat instead.\n",
      "  self.df = self.df.append(row, ignore_index=True)\n"
     ]
    },
    {
     "name": "stderr",
     "output_type": "stream",
     "text": [
      "C:\\Users\\DELL\\anaconda3\\envs\\ta\\lib\\site-packages\\textattack\\loggers\\csv_logger.py:41: FutureWarning: The frame.append method is deprecated and will be removed from pandas in a future version. Use pandas.concat instead.\n",
      "  self.df = self.df.append(row, ignore_index=True)\n",
      "C:\\Users\\DELL\\anaconda3\\envs\\ta\\lib\\site-packages\\textattack\\loggers\\csv_logger.py:41: FutureWarning: The frame.append method is deprecated and will be removed from pandas in a future version. Use pandas.concat instead.\n",
      "  self.df = self.df.append(row, ignore_index=True)\n",
      "C:\\Users\\DELL\\anaconda3\\envs\\ta\\lib\\site-packages\\textattack\\loggers\\csv_logger.py:41: FutureWarning: The frame.append method is deprecated and will be removed from pandas in a future version. Use pandas.concat instead.\n",
      "  self.df = self.df.append(row, ignore_index=True)\n",
      "C:\\Users\\DELL\\anaconda3\\envs\\ta\\lib\\site-packages\\textattack\\loggers\\csv_logger.py:41: FutureWarning: The frame.append method is deprecated and will be removed from pandas in a future version. Use pandas.concat instead.\n",
      "  self.df = self.df.append(row, ignore_index=True)\n",
      "C:\\Users\\DELL\\anaconda3\\envs\\ta\\lib\\site-packages\\textattack\\loggers\\csv_logger.py:41: FutureWarning: The frame.append method is deprecated and will be removed from pandas in a future version. Use pandas.concat instead.\n",
      "  self.df = self.df.append(row, ignore_index=True)\n",
      "C:\\Users\\DELL\\anaconda3\\envs\\ta\\lib\\site-packages\\textattack\\loggers\\csv_logger.py:41: FutureWarning: The frame.append method is deprecated and will be removed from pandas in a future version. Use pandas.concat instead.\n",
      "  self.df = self.df.append(row, ignore_index=True)\n",
      "C:\\Users\\DELL\\anaconda3\\envs\\ta\\lib\\site-packages\\textattack\\loggers\\csv_logger.py:41: FutureWarning: The frame.append method is deprecated and will be removed from pandas in a future version. Use pandas.concat instead.\n",
      "  self.df = self.df.append(row, ignore_index=True)\n",
      "C:\\Users\\DELL\\anaconda3\\envs\\ta\\lib\\site-packages\\textattack\\loggers\\csv_logger.py:41: FutureWarning: The frame.append method is deprecated and will be removed from pandas in a future version. Use pandas.concat instead.\n",
      "  self.df = self.df.append(row, ignore_index=True)\n",
      "C:\\Users\\DELL\\anaconda3\\envs\\ta\\lib\\site-packages\\textattack\\loggers\\csv_logger.py:41: FutureWarning: The frame.append method is deprecated and will be removed from pandas in a future version. Use pandas.concat instead.\n",
      "  self.df = self.df.append(row, ignore_index=True)\n",
      "C:\\Users\\DELL\\anaconda3\\envs\\ta\\lib\\site-packages\\textattack\\loggers\\csv_logger.py:41: FutureWarning: The frame.append method is deprecated and will be removed from pandas in a future version. Use pandas.concat instead.\n",
      "  self.df = self.df.append(row, ignore_index=True)\n",
      "C:\\Users\\DELL\\anaconda3\\envs\\ta\\lib\\site-packages\\textattack\\loggers\\csv_logger.py:41: FutureWarning: The frame.append method is deprecated and will be removed from pandas in a future version. Use pandas.concat instead.\n",
      "  self.df = self.df.append(row, ignore_index=True)\n",
      "C:\\Users\\DELL\\anaconda3\\envs\\ta\\lib\\site-packages\\textattack\\loggers\\csv_logger.py:41: FutureWarning: The frame.append method is deprecated and will be removed from pandas in a future version. Use pandas.concat instead.\n",
      "  self.df = self.df.append(row, ignore_index=True)\n",
      "C:\\Users\\DELL\\anaconda3\\envs\\ta\\lib\\site-packages\\textattack\\loggers\\csv_logger.py:41: FutureWarning: The frame.append method is deprecated and will be removed from pandas in a future version. Use pandas.concat instead.\n",
      "  self.df = self.df.append(row, ignore_index=True)\n",
      "C:\\Users\\DELL\\anaconda3\\envs\\ta\\lib\\site-packages\\textattack\\loggers\\csv_logger.py:41: FutureWarning: The frame.append method is deprecated and will be removed from pandas in a future version. Use pandas.concat instead.\n",
      "  self.df = self.df.append(row, ignore_index=True)\n",
      "C:\\Users\\DELL\\anaconda3\\envs\\ta\\lib\\site-packages\\textattack\\loggers\\csv_logger.py:41: FutureWarning: The frame.append method is deprecated and will be removed from pandas in a future version. Use pandas.concat instead.\n",
      "  self.df = self.df.append(row, ignore_index=True)\n",
      "C:\\Users\\DELL\\anaconda3\\envs\\ta\\lib\\site-packages\\textattack\\loggers\\csv_logger.py:41: FutureWarning: The frame.append method is deprecated and will be removed from pandas in a future version. Use pandas.concat instead.\n",
      "  self.df = self.df.append(row, ignore_index=True)\n",
      "C:\\Users\\DELL\\anaconda3\\envs\\ta\\lib\\site-packages\\textattack\\loggers\\csv_logger.py:41: FutureWarning: The frame.append method is deprecated and will be removed from pandas in a future version. Use pandas.concat instead.\n",
      "  self.df = self.df.append(row, ignore_index=True)\n",
      "C:\\Users\\DELL\\anaconda3\\envs\\ta\\lib\\site-packages\\textattack\\loggers\\csv_logger.py:41: FutureWarning: The frame.append method is deprecated and will be removed from pandas in a future version. Use pandas.concat instead.\n",
      "  self.df = self.df.append(row, ignore_index=True)\n",
      "C:\\Users\\DELL\\anaconda3\\envs\\ta\\lib\\site-packages\\textattack\\loggers\\csv_logger.py:41: FutureWarning: The frame.append method is deprecated and will be removed from pandas in a future version. Use pandas.concat instead.\n",
      "  self.df = self.df.append(row, ignore_index=True)\n",
      "C:\\Users\\DELL\\anaconda3\\envs\\ta\\lib\\site-packages\\textattack\\loggers\\csv_logger.py:41: FutureWarning: The frame.append method is deprecated and will be removed from pandas in a future version. Use pandas.concat instead.\n",
      "  self.df = self.df.append(row, ignore_index=True)\n",
      "C:\\Users\\DELL\\anaconda3\\envs\\ta\\lib\\site-packages\\textattack\\loggers\\csv_logger.py:41: FutureWarning: The frame.append method is deprecated and will be removed from pandas in a future version. Use pandas.concat instead.\n",
      "  self.df = self.df.append(row, ignore_index=True)\n",
      "C:\\Users\\DELL\\anaconda3\\envs\\ta\\lib\\site-packages\\textattack\\loggers\\csv_logger.py:41: FutureWarning: The frame.append method is deprecated and will be removed from pandas in a future version. Use pandas.concat instead.\n",
      "  self.df = self.df.append(row, ignore_index=True)\n",
      "C:\\Users\\DELL\\anaconda3\\envs\\ta\\lib\\site-packages\\textattack\\loggers\\csv_logger.py:41: FutureWarning: The frame.append method is deprecated and will be removed from pandas in a future version. Use pandas.concat instead.\n",
      "  self.df = self.df.append(row, ignore_index=True)\n",
      "C:\\Users\\DELL\\anaconda3\\envs\\ta\\lib\\site-packages\\textattack\\loggers\\csv_logger.py:41: FutureWarning: The frame.append method is deprecated and will be removed from pandas in a future version. Use pandas.concat instead.\n",
      "  self.df = self.df.append(row, ignore_index=True)\n",
      "C:\\Users\\DELL\\anaconda3\\envs\\ta\\lib\\site-packages\\textattack\\loggers\\csv_logger.py:41: FutureWarning: The frame.append method is deprecated and will be removed from pandas in a future version. Use pandas.concat instead.\n",
      "  self.df = self.df.append(row, ignore_index=True)\n",
      "C:\\Users\\DELL\\anaconda3\\envs\\ta\\lib\\site-packages\\textattack\\loggers\\csv_logger.py:41: FutureWarning: The frame.append method is deprecated and will be removed from pandas in a future version. Use pandas.concat instead.\n",
      "  self.df = self.df.append(row, ignore_index=True)\n",
      "C:\\Users\\DELL\\anaconda3\\envs\\ta\\lib\\site-packages\\textattack\\loggers\\csv_logger.py:41: FutureWarning: The frame.append method is deprecated and will be removed from pandas in a future version. Use pandas.concat instead.\n",
      "  self.df = self.df.append(row, ignore_index=True)\n",
      "C:\\Users\\DELL\\anaconda3\\envs\\ta\\lib\\site-packages\\textattack\\loggers\\csv_logger.py:41: FutureWarning: The frame.append method is deprecated and will be removed from pandas in a future version. Use pandas.concat instead.\n",
      "  self.df = self.df.append(row, ignore_index=True)\n",
      "C:\\Users\\DELL\\anaconda3\\envs\\ta\\lib\\site-packages\\textattack\\loggers\\csv_logger.py:41: FutureWarning: The frame.append method is deprecated and will be removed from pandas in a future version. Use pandas.concat instead.\n",
      "  self.df = self.df.append(row, ignore_index=True)\n",
      "C:\\Users\\DELL\\anaconda3\\envs\\ta\\lib\\site-packages\\textattack\\loggers\\csv_logger.py:41: FutureWarning: The frame.append method is deprecated and will be removed from pandas in a future version. Use pandas.concat instead.\n",
      "  self.df = self.df.append(row, ignore_index=True)\n",
      "C:\\Users\\DELL\\anaconda3\\envs\\ta\\lib\\site-packages\\textattack\\loggers\\csv_logger.py:41: FutureWarning: The frame.append method is deprecated and will be removed from pandas in a future version. Use pandas.concat instead.\n",
      "  self.df = self.df.append(row, ignore_index=True)\n",
      "C:\\Users\\DELL\\anaconda3\\envs\\ta\\lib\\site-packages\\textattack\\loggers\\csv_logger.py:41: FutureWarning: The frame.append method is deprecated and will be removed from pandas in a future version. Use pandas.concat instead.\n",
      "  self.df = self.df.append(row, ignore_index=True)\n",
      "C:\\Users\\DELL\\anaconda3\\envs\\ta\\lib\\site-packages\\textattack\\loggers\\csv_logger.py:41: FutureWarning: The frame.append method is deprecated and will be removed from pandas in a future version. Use pandas.concat instead.\n",
      "  self.df = self.df.append(row, ignore_index=True)\n",
      "C:\\Users\\DELL\\anaconda3\\envs\\ta\\lib\\site-packages\\textattack\\loggers\\csv_logger.py:41: FutureWarning: The frame.append method is deprecated and will be removed from pandas in a future version. Use pandas.concat instead.\n",
      "  self.df = self.df.append(row, ignore_index=True)\n",
      "C:\\Users\\DELL\\anaconda3\\envs\\ta\\lib\\site-packages\\textattack\\loggers\\csv_logger.py:41: FutureWarning: The frame.append method is deprecated and will be removed from pandas in a future version. Use pandas.concat instead.\n",
      "  self.df = self.df.append(row, ignore_index=True)\n",
      "C:\\Users\\DELL\\anaconda3\\envs\\ta\\lib\\site-packages\\textattack\\loggers\\csv_logger.py:41: FutureWarning: The frame.append method is deprecated and will be removed from pandas in a future version. Use pandas.concat instead.\n",
      "  self.df = self.df.append(row, ignore_index=True)\n"
     ]
    },
    {
     "name": "stderr",
     "output_type": "stream",
     "text": [
      "C:\\Users\\DELL\\anaconda3\\envs\\ta\\lib\\site-packages\\textattack\\loggers\\csv_logger.py:41: FutureWarning: The frame.append method is deprecated and will be removed from pandas in a future version. Use pandas.concat instead.\n",
      "  self.df = self.df.append(row, ignore_index=True)\n",
      "C:\\Users\\DELL\\anaconda3\\envs\\ta\\lib\\site-packages\\textattack\\loggers\\csv_logger.py:41: FutureWarning: The frame.append method is deprecated and will be removed from pandas in a future version. Use pandas.concat instead.\n",
      "  self.df = self.df.append(row, ignore_index=True)\n",
      "C:\\Users\\DELL\\anaconda3\\envs\\ta\\lib\\site-packages\\textattack\\loggers\\csv_logger.py:41: FutureWarning: The frame.append method is deprecated and will be removed from pandas in a future version. Use pandas.concat instead.\n",
      "  self.df = self.df.append(row, ignore_index=True)\n",
      "C:\\Users\\DELL\\anaconda3\\envs\\ta\\lib\\site-packages\\textattack\\loggers\\csv_logger.py:41: FutureWarning: The frame.append method is deprecated and will be removed from pandas in a future version. Use pandas.concat instead.\n",
      "  self.df = self.df.append(row, ignore_index=True)\n",
      "C:\\Users\\DELL\\anaconda3\\envs\\ta\\lib\\site-packages\\textattack\\loggers\\csv_logger.py:41: FutureWarning: The frame.append method is deprecated and will be removed from pandas in a future version. Use pandas.concat instead.\n",
      "  self.df = self.df.append(row, ignore_index=True)\n",
      "C:\\Users\\DELL\\anaconda3\\envs\\ta\\lib\\site-packages\\textattack\\loggers\\csv_logger.py:41: FutureWarning: The frame.append method is deprecated and will be removed from pandas in a future version. Use pandas.concat instead.\n",
      "  self.df = self.df.append(row, ignore_index=True)\n",
      "C:\\Users\\DELL\\anaconda3\\envs\\ta\\lib\\site-packages\\textattack\\loggers\\csv_logger.py:41: FutureWarning: The frame.append method is deprecated and will be removed from pandas in a future version. Use pandas.concat instead.\n",
      "  self.df = self.df.append(row, ignore_index=True)\n",
      "C:\\Users\\DELL\\anaconda3\\envs\\ta\\lib\\site-packages\\textattack\\loggers\\csv_logger.py:41: FutureWarning: The frame.append method is deprecated and will be removed from pandas in a future version. Use pandas.concat instead.\n",
      "  self.df = self.df.append(row, ignore_index=True)\n",
      "C:\\Users\\DELL\\anaconda3\\envs\\ta\\lib\\site-packages\\textattack\\loggers\\csv_logger.py:41: FutureWarning: The frame.append method is deprecated and will be removed from pandas in a future version. Use pandas.concat instead.\n",
      "  self.df = self.df.append(row, ignore_index=True)\n",
      "C:\\Users\\DELL\\anaconda3\\envs\\ta\\lib\\site-packages\\textattack\\loggers\\csv_logger.py:41: FutureWarning: The frame.append method is deprecated and will be removed from pandas in a future version. Use pandas.concat instead.\n",
      "  self.df = self.df.append(row, ignore_index=True)\n",
      "C:\\Users\\DELL\\anaconda3\\envs\\ta\\lib\\site-packages\\textattack\\loggers\\csv_logger.py:41: FutureWarning: The frame.append method is deprecated and will be removed from pandas in a future version. Use pandas.concat instead.\n",
      "  self.df = self.df.append(row, ignore_index=True)\n",
      "C:\\Users\\DELL\\anaconda3\\envs\\ta\\lib\\site-packages\\textattack\\loggers\\csv_logger.py:41: FutureWarning: The frame.append method is deprecated and will be removed from pandas in a future version. Use pandas.concat instead.\n",
      "  self.df = self.df.append(row, ignore_index=True)\n",
      "C:\\Users\\DELL\\anaconda3\\envs\\ta\\lib\\site-packages\\textattack\\loggers\\csv_logger.py:41: FutureWarning: The frame.append method is deprecated and will be removed from pandas in a future version. Use pandas.concat instead.\n",
      "  self.df = self.df.append(row, ignore_index=True)\n",
      "C:\\Users\\DELL\\anaconda3\\envs\\ta\\lib\\site-packages\\textattack\\loggers\\csv_logger.py:41: FutureWarning: The frame.append method is deprecated and will be removed from pandas in a future version. Use pandas.concat instead.\n",
      "  self.df = self.df.append(row, ignore_index=True)\n",
      "C:\\Users\\DELL\\anaconda3\\envs\\ta\\lib\\site-packages\\textattack\\loggers\\csv_logger.py:41: FutureWarning: The frame.append method is deprecated and will be removed from pandas in a future version. Use pandas.concat instead.\n",
      "  self.df = self.df.append(row, ignore_index=True)\n",
      "C:\\Users\\DELL\\anaconda3\\envs\\ta\\lib\\site-packages\\textattack\\loggers\\csv_logger.py:41: FutureWarning: The frame.append method is deprecated and will be removed from pandas in a future version. Use pandas.concat instead.\n",
      "  self.df = self.df.append(row, ignore_index=True)\n",
      "C:\\Users\\DELL\\anaconda3\\envs\\ta\\lib\\site-packages\\textattack\\loggers\\csv_logger.py:41: FutureWarning: The frame.append method is deprecated and will be removed from pandas in a future version. Use pandas.concat instead.\n",
      "  self.df = self.df.append(row, ignore_index=True)\n",
      "C:\\Users\\DELL\\anaconda3\\envs\\ta\\lib\\site-packages\\textattack\\loggers\\csv_logger.py:41: FutureWarning: The frame.append method is deprecated and will be removed from pandas in a future version. Use pandas.concat instead.\n",
      "  self.df = self.df.append(row, ignore_index=True)\n",
      "C:\\Users\\DELL\\anaconda3\\envs\\ta\\lib\\site-packages\\textattack\\loggers\\csv_logger.py:41: FutureWarning: The frame.append method is deprecated and will be removed from pandas in a future version. Use pandas.concat instead.\n",
      "  self.df = self.df.append(row, ignore_index=True)\n",
      "C:\\Users\\DELL\\anaconda3\\envs\\ta\\lib\\site-packages\\textattack\\loggers\\csv_logger.py:41: FutureWarning: The frame.append method is deprecated and will be removed from pandas in a future version. Use pandas.concat instead.\n",
      "  self.df = self.df.append(row, ignore_index=True)\n",
      "C:\\Users\\DELL\\anaconda3\\envs\\ta\\lib\\site-packages\\textattack\\loggers\\csv_logger.py:41: FutureWarning: The frame.append method is deprecated and will be removed from pandas in a future version. Use pandas.concat instead.\n",
      "  self.df = self.df.append(row, ignore_index=True)\n",
      "C:\\Users\\DELL\\anaconda3\\envs\\ta\\lib\\site-packages\\textattack\\loggers\\csv_logger.py:41: FutureWarning: The frame.append method is deprecated and will be removed from pandas in a future version. Use pandas.concat instead.\n",
      "  self.df = self.df.append(row, ignore_index=True)\n",
      "C:\\Users\\DELL\\anaconda3\\envs\\ta\\lib\\site-packages\\textattack\\loggers\\csv_logger.py:41: FutureWarning: The frame.append method is deprecated and will be removed from pandas in a future version. Use pandas.concat instead.\n",
      "  self.df = self.df.append(row, ignore_index=True)\n",
      "C:\\Users\\DELL\\anaconda3\\envs\\ta\\lib\\site-packages\\textattack\\loggers\\csv_logger.py:41: FutureWarning: The frame.append method is deprecated and will be removed from pandas in a future version. Use pandas.concat instead.\n",
      "  self.df = self.df.append(row, ignore_index=True)\n",
      "C:\\Users\\DELL\\anaconda3\\envs\\ta\\lib\\site-packages\\textattack\\loggers\\csv_logger.py:41: FutureWarning: The frame.append method is deprecated and will be removed from pandas in a future version. Use pandas.concat instead.\n",
      "  self.df = self.df.append(row, ignore_index=True)\n",
      "C:\\Users\\DELL\\anaconda3\\envs\\ta\\lib\\site-packages\\textattack\\loggers\\csv_logger.py:41: FutureWarning: The frame.append method is deprecated and will be removed from pandas in a future version. Use pandas.concat instead.\n",
      "  self.df = self.df.append(row, ignore_index=True)\n",
      "C:\\Users\\DELL\\anaconda3\\envs\\ta\\lib\\site-packages\\textattack\\loggers\\csv_logger.py:41: FutureWarning: The frame.append method is deprecated and will be removed from pandas in a future version. Use pandas.concat instead.\n",
      "  self.df = self.df.append(row, ignore_index=True)\n",
      "C:\\Users\\DELL\\anaconda3\\envs\\ta\\lib\\site-packages\\textattack\\loggers\\csv_logger.py:41: FutureWarning: The frame.append method is deprecated and will be removed from pandas in a future version. Use pandas.concat instead.\n",
      "  self.df = self.df.append(row, ignore_index=True)\n",
      "C:\\Users\\DELL\\anaconda3\\envs\\ta\\lib\\site-packages\\textattack\\loggers\\csv_logger.py:41: FutureWarning: The frame.append method is deprecated and will be removed from pandas in a future version. Use pandas.concat instead.\n",
      "  self.df = self.df.append(row, ignore_index=True)\n",
      "C:\\Users\\DELL\\anaconda3\\envs\\ta\\lib\\site-packages\\textattack\\loggers\\csv_logger.py:41: FutureWarning: The frame.append method is deprecated and will be removed from pandas in a future version. Use pandas.concat instead.\n",
      "  self.df = self.df.append(row, ignore_index=True)\n",
      "C:\\Users\\DELL\\anaconda3\\envs\\ta\\lib\\site-packages\\textattack\\loggers\\csv_logger.py:41: FutureWarning: The frame.append method is deprecated and will be removed from pandas in a future version. Use pandas.concat instead.\n",
      "  self.df = self.df.append(row, ignore_index=True)\n",
      "C:\\Users\\DELL\\anaconda3\\envs\\ta\\lib\\site-packages\\textattack\\loggers\\csv_logger.py:41: FutureWarning: The frame.append method is deprecated and will be removed from pandas in a future version. Use pandas.concat instead.\n",
      "  self.df = self.df.append(row, ignore_index=True)\n",
      "C:\\Users\\DELL\\anaconda3\\envs\\ta\\lib\\site-packages\\textattack\\loggers\\csv_logger.py:41: FutureWarning: The frame.append method is deprecated and will be removed from pandas in a future version. Use pandas.concat instead.\n",
      "  self.df = self.df.append(row, ignore_index=True)\n",
      "C:\\Users\\DELL\\anaconda3\\envs\\ta\\lib\\site-packages\\textattack\\loggers\\csv_logger.py:41: FutureWarning: The frame.append method is deprecated and will be removed from pandas in a future version. Use pandas.concat instead.\n",
      "  self.df = self.df.append(row, ignore_index=True)\n",
      "C:\\Users\\DELL\\anaconda3\\envs\\ta\\lib\\site-packages\\textattack\\loggers\\csv_logger.py:41: FutureWarning: The frame.append method is deprecated and will be removed from pandas in a future version. Use pandas.concat instead.\n",
      "  self.df = self.df.append(row, ignore_index=True)\n",
      "C:\\Users\\DELL\\anaconda3\\envs\\ta\\lib\\site-packages\\textattack\\loggers\\csv_logger.py:41: FutureWarning: The frame.append method is deprecated and will be removed from pandas in a future version. Use pandas.concat instead.\n",
      "  self.df = self.df.append(row, ignore_index=True)\n"
     ]
    },
    {
     "name": "stderr",
     "output_type": "stream",
     "text": [
      "C:\\Users\\DELL\\anaconda3\\envs\\ta\\lib\\site-packages\\textattack\\loggers\\csv_logger.py:41: FutureWarning: The frame.append method is deprecated and will be removed from pandas in a future version. Use pandas.concat instead.\n",
      "  self.df = self.df.append(row, ignore_index=True)\n",
      "C:\\Users\\DELL\\anaconda3\\envs\\ta\\lib\\site-packages\\textattack\\loggers\\csv_logger.py:41: FutureWarning: The frame.append method is deprecated and will be removed from pandas in a future version. Use pandas.concat instead.\n",
      "  self.df = self.df.append(row, ignore_index=True)\n",
      "C:\\Users\\DELL\\anaconda3\\envs\\ta\\lib\\site-packages\\textattack\\loggers\\csv_logger.py:41: FutureWarning: The frame.append method is deprecated and will be removed from pandas in a future version. Use pandas.concat instead.\n",
      "  self.df = self.df.append(row, ignore_index=True)\n",
      "C:\\Users\\DELL\\anaconda3\\envs\\ta\\lib\\site-packages\\textattack\\loggers\\csv_logger.py:41: FutureWarning: The frame.append method is deprecated and will be removed from pandas in a future version. Use pandas.concat instead.\n",
      "  self.df = self.df.append(row, ignore_index=True)\n",
      "C:\\Users\\DELL\\anaconda3\\envs\\ta\\lib\\site-packages\\textattack\\loggers\\csv_logger.py:41: FutureWarning: The frame.append method is deprecated and will be removed from pandas in a future version. Use pandas.concat instead.\n",
      "  self.df = self.df.append(row, ignore_index=True)\n",
      "C:\\Users\\DELL\\anaconda3\\envs\\ta\\lib\\site-packages\\textattack\\loggers\\csv_logger.py:41: FutureWarning: The frame.append method is deprecated and will be removed from pandas in a future version. Use pandas.concat instead.\n",
      "  self.df = self.df.append(row, ignore_index=True)\n",
      "C:\\Users\\DELL\\anaconda3\\envs\\ta\\lib\\site-packages\\textattack\\loggers\\csv_logger.py:41: FutureWarning: The frame.append method is deprecated and will be removed from pandas in a future version. Use pandas.concat instead.\n",
      "  self.df = self.df.append(row, ignore_index=True)\n",
      "C:\\Users\\DELL\\anaconda3\\envs\\ta\\lib\\site-packages\\textattack\\loggers\\csv_logger.py:41: FutureWarning: The frame.append method is deprecated and will be removed from pandas in a future version. Use pandas.concat instead.\n",
      "  self.df = self.df.append(row, ignore_index=True)\n",
      "C:\\Users\\DELL\\anaconda3\\envs\\ta\\lib\\site-packages\\textattack\\loggers\\csv_logger.py:41: FutureWarning: The frame.append method is deprecated and will be removed from pandas in a future version. Use pandas.concat instead.\n",
      "  self.df = self.df.append(row, ignore_index=True)\n",
      "C:\\Users\\DELL\\anaconda3\\envs\\ta\\lib\\site-packages\\textattack\\loggers\\csv_logger.py:41: FutureWarning: The frame.append method is deprecated and will be removed from pandas in a future version. Use pandas.concat instead.\n",
      "  self.df = self.df.append(row, ignore_index=True)\n",
      "C:\\Users\\DELL\\anaconda3\\envs\\ta\\lib\\site-packages\\textattack\\loggers\\csv_logger.py:41: FutureWarning: The frame.append method is deprecated and will be removed from pandas in a future version. Use pandas.concat instead.\n",
      "  self.df = self.df.append(row, ignore_index=True)\n",
      "C:\\Users\\DELL\\anaconda3\\envs\\ta\\lib\\site-packages\\textattack\\loggers\\csv_logger.py:41: FutureWarning: The frame.append method is deprecated and will be removed from pandas in a future version. Use pandas.concat instead.\n",
      "  self.df = self.df.append(row, ignore_index=True)\n",
      "C:\\Users\\DELL\\anaconda3\\envs\\ta\\lib\\site-packages\\textattack\\loggers\\csv_logger.py:41: FutureWarning: The frame.append method is deprecated and will be removed from pandas in a future version. Use pandas.concat instead.\n",
      "  self.df = self.df.append(row, ignore_index=True)\n",
      "C:\\Users\\DELL\\anaconda3\\envs\\ta\\lib\\site-packages\\textattack\\loggers\\csv_logger.py:41: FutureWarning: The frame.append method is deprecated and will be removed from pandas in a future version. Use pandas.concat instead.\n",
      "  self.df = self.df.append(row, ignore_index=True)\n",
      "C:\\Users\\DELL\\anaconda3\\envs\\ta\\lib\\site-packages\\textattack\\loggers\\csv_logger.py:41: FutureWarning: The frame.append method is deprecated and will be removed from pandas in a future version. Use pandas.concat instead.\n",
      "  self.df = self.df.append(row, ignore_index=True)\n",
      "C:\\Users\\DELL\\anaconda3\\envs\\ta\\lib\\site-packages\\textattack\\loggers\\csv_logger.py:41: FutureWarning: The frame.append method is deprecated and will be removed from pandas in a future version. Use pandas.concat instead.\n",
      "  self.df = self.df.append(row, ignore_index=True)\n",
      "C:\\Users\\DELL\\anaconda3\\envs\\ta\\lib\\site-packages\\textattack\\loggers\\csv_logger.py:41: FutureWarning: The frame.append method is deprecated and will be removed from pandas in a future version. Use pandas.concat instead.\n",
      "  self.df = self.df.append(row, ignore_index=True)\n",
      "C:\\Users\\DELL\\anaconda3\\envs\\ta\\lib\\site-packages\\textattack\\loggers\\csv_logger.py:41: FutureWarning: The frame.append method is deprecated and will be removed from pandas in a future version. Use pandas.concat instead.\n",
      "  self.df = self.df.append(row, ignore_index=True)\n",
      "C:\\Users\\DELL\\anaconda3\\envs\\ta\\lib\\site-packages\\textattack\\loggers\\csv_logger.py:41: FutureWarning: The frame.append method is deprecated and will be removed from pandas in a future version. Use pandas.concat instead.\n",
      "  self.df = self.df.append(row, ignore_index=True)\n",
      "C:\\Users\\DELL\\anaconda3\\envs\\ta\\lib\\site-packages\\textattack\\loggers\\csv_logger.py:41: FutureWarning: The frame.append method is deprecated and will be removed from pandas in a future version. Use pandas.concat instead.\n",
      "  self.df = self.df.append(row, ignore_index=True)\n",
      "C:\\Users\\DELL\\anaconda3\\envs\\ta\\lib\\site-packages\\textattack\\loggers\\csv_logger.py:41: FutureWarning: The frame.append method is deprecated and will be removed from pandas in a future version. Use pandas.concat instead.\n",
      "  self.df = self.df.append(row, ignore_index=True)\n",
      "C:\\Users\\DELL\\anaconda3\\envs\\ta\\lib\\site-packages\\textattack\\loggers\\csv_logger.py:41: FutureWarning: The frame.append method is deprecated and will be removed from pandas in a future version. Use pandas.concat instead.\n",
      "  self.df = self.df.append(row, ignore_index=True)\n",
      "C:\\Users\\DELL\\anaconda3\\envs\\ta\\lib\\site-packages\\textattack\\loggers\\csv_logger.py:41: FutureWarning: The frame.append method is deprecated and will be removed from pandas in a future version. Use pandas.concat instead.\n",
      "  self.df = self.df.append(row, ignore_index=True)\n",
      "C:\\Users\\DELL\\anaconda3\\envs\\ta\\lib\\site-packages\\textattack\\loggers\\csv_logger.py:41: FutureWarning: The frame.append method is deprecated and will be removed from pandas in a future version. Use pandas.concat instead.\n",
      "  self.df = self.df.append(row, ignore_index=True)\n",
      "C:\\Users\\DELL\\anaconda3\\envs\\ta\\lib\\site-packages\\textattack\\loggers\\csv_logger.py:41: FutureWarning: The frame.append method is deprecated and will be removed from pandas in a future version. Use pandas.concat instead.\n",
      "  self.df = self.df.append(row, ignore_index=True)\n",
      "C:\\Users\\DELL\\anaconda3\\envs\\ta\\lib\\site-packages\\textattack\\loggers\\csv_logger.py:41: FutureWarning: The frame.append method is deprecated and will be removed from pandas in a future version. Use pandas.concat instead.\n",
      "  self.df = self.df.append(row, ignore_index=True)\n",
      "C:\\Users\\DELL\\anaconda3\\envs\\ta\\lib\\site-packages\\textattack\\loggers\\csv_logger.py:41: FutureWarning: The frame.append method is deprecated and will be removed from pandas in a future version. Use pandas.concat instead.\n",
      "  self.df = self.df.append(row, ignore_index=True)\n",
      "C:\\Users\\DELL\\anaconda3\\envs\\ta\\lib\\site-packages\\textattack\\loggers\\csv_logger.py:41: FutureWarning: The frame.append method is deprecated and will be removed from pandas in a future version. Use pandas.concat instead.\n",
      "  self.df = self.df.append(row, ignore_index=True)\n",
      "C:\\Users\\DELL\\anaconda3\\envs\\ta\\lib\\site-packages\\textattack\\loggers\\csv_logger.py:41: FutureWarning: The frame.append method is deprecated and will be removed from pandas in a future version. Use pandas.concat instead.\n",
      "  self.df = self.df.append(row, ignore_index=True)\n",
      "C:\\Users\\DELL\\anaconda3\\envs\\ta\\lib\\site-packages\\textattack\\loggers\\csv_logger.py:41: FutureWarning: The frame.append method is deprecated and will be removed from pandas in a future version. Use pandas.concat instead.\n",
      "  self.df = self.df.append(row, ignore_index=True)\n",
      "C:\\Users\\DELL\\anaconda3\\envs\\ta\\lib\\site-packages\\textattack\\loggers\\csv_logger.py:41: FutureWarning: The frame.append method is deprecated and will be removed from pandas in a future version. Use pandas.concat instead.\n",
      "  self.df = self.df.append(row, ignore_index=True)\n",
      "C:\\Users\\DELL\\anaconda3\\envs\\ta\\lib\\site-packages\\textattack\\loggers\\csv_logger.py:41: FutureWarning: The frame.append method is deprecated and will be removed from pandas in a future version. Use pandas.concat instead.\n",
      "  self.df = self.df.append(row, ignore_index=True)\n",
      "C:\\Users\\DELL\\anaconda3\\envs\\ta\\lib\\site-packages\\textattack\\loggers\\csv_logger.py:41: FutureWarning: The frame.append method is deprecated and will be removed from pandas in a future version. Use pandas.concat instead.\n",
      "  self.df = self.df.append(row, ignore_index=True)\n",
      "C:\\Users\\DELL\\anaconda3\\envs\\ta\\lib\\site-packages\\textattack\\loggers\\csv_logger.py:41: FutureWarning: The frame.append method is deprecated and will be removed from pandas in a future version. Use pandas.concat instead.\n",
      "  self.df = self.df.append(row, ignore_index=True)\n",
      "C:\\Users\\DELL\\anaconda3\\envs\\ta\\lib\\site-packages\\textattack\\loggers\\csv_logger.py:41: FutureWarning: The frame.append method is deprecated and will be removed from pandas in a future version. Use pandas.concat instead.\n",
      "  self.df = self.df.append(row, ignore_index=True)\n",
      "C:\\Users\\DELL\\anaconda3\\envs\\ta\\lib\\site-packages\\textattack\\loggers\\csv_logger.py:41: FutureWarning: The frame.append method is deprecated and will be removed from pandas in a future version. Use pandas.concat instead.\n",
      "  self.df = self.df.append(row, ignore_index=True)\n",
      "C:\\Users\\DELL\\anaconda3\\envs\\ta\\lib\\site-packages\\textattack\\loggers\\csv_logger.py:41: FutureWarning: The frame.append method is deprecated and will be removed from pandas in a future version. Use pandas.concat instead.\n",
      "  self.df = self.df.append(row, ignore_index=True)\n",
      "C:\\Users\\DELL\\anaconda3\\envs\\ta\\lib\\site-packages\\textattack\\loggers\\csv_logger.py:41: FutureWarning: The frame.append method is deprecated and will be removed from pandas in a future version. Use pandas.concat instead.\n",
      "  self.df = self.df.append(row, ignore_index=True)\n",
      "C:\\Users\\DELL\\anaconda3\\envs\\ta\\lib\\site-packages\\textattack\\loggers\\csv_logger.py:41: FutureWarning: The frame.append method is deprecated and will be removed from pandas in a future version. Use pandas.concat instead.\n",
      "  self.df = self.df.append(row, ignore_index=True)\n",
      "C:\\Users\\DELL\\anaconda3\\envs\\ta\\lib\\site-packages\\textattack\\loggers\\csv_logger.py:41: FutureWarning: The frame.append method is deprecated and will be removed from pandas in a future version. Use pandas.concat instead.\n",
      "  self.df = self.df.append(row, ignore_index=True)\n",
      "C:\\Users\\DELL\\anaconda3\\envs\\ta\\lib\\site-packages\\textattack\\loggers\\csv_logger.py:41: FutureWarning: The frame.append method is deprecated and will be removed from pandas in a future version. Use pandas.concat instead.\n",
      "  self.df = self.df.append(row, ignore_index=True)\n",
      "C:\\Users\\DELL\\anaconda3\\envs\\ta\\lib\\site-packages\\textattack\\loggers\\csv_logger.py:41: FutureWarning: The frame.append method is deprecated and will be removed from pandas in a future version. Use pandas.concat instead.\n",
      "  self.df = self.df.append(row, ignore_index=True)\n"
     ]
    },
    {
     "name": "stderr",
     "output_type": "stream",
     "text": [
      "C:\\Users\\DELL\\anaconda3\\envs\\ta\\lib\\site-packages\\textattack\\loggers\\csv_logger.py:41: FutureWarning: The frame.append method is deprecated and will be removed from pandas in a future version. Use pandas.concat instead.\n",
      "  self.df = self.df.append(row, ignore_index=True)\n",
      "C:\\Users\\DELL\\anaconda3\\envs\\ta\\lib\\site-packages\\textattack\\loggers\\csv_logger.py:41: FutureWarning: The frame.append method is deprecated and will be removed from pandas in a future version. Use pandas.concat instead.\n",
      "  self.df = self.df.append(row, ignore_index=True)\n",
      "C:\\Users\\DELL\\anaconda3\\envs\\ta\\lib\\site-packages\\textattack\\loggers\\csv_logger.py:41: FutureWarning: The frame.append method is deprecated and will be removed from pandas in a future version. Use pandas.concat instead.\n",
      "  self.df = self.df.append(row, ignore_index=True)\n",
      "C:\\Users\\DELL\\anaconda3\\envs\\ta\\lib\\site-packages\\textattack\\loggers\\csv_logger.py:41: FutureWarning: The frame.append method is deprecated and will be removed from pandas in a future version. Use pandas.concat instead.\n",
      "  self.df = self.df.append(row, ignore_index=True)\n",
      "C:\\Users\\DELL\\anaconda3\\envs\\ta\\lib\\site-packages\\textattack\\loggers\\csv_logger.py:41: FutureWarning: The frame.append method is deprecated and will be removed from pandas in a future version. Use pandas.concat instead.\n",
      "  self.df = self.df.append(row, ignore_index=True)\n",
      "C:\\Users\\DELL\\anaconda3\\envs\\ta\\lib\\site-packages\\textattack\\loggers\\csv_logger.py:41: FutureWarning: The frame.append method is deprecated and will be removed from pandas in a future version. Use pandas.concat instead.\n",
      "  self.df = self.df.append(row, ignore_index=True)\n",
      "C:\\Users\\DELL\\anaconda3\\envs\\ta\\lib\\site-packages\\textattack\\loggers\\csv_logger.py:41: FutureWarning: The frame.append method is deprecated and will be removed from pandas in a future version. Use pandas.concat instead.\n",
      "  self.df = self.df.append(row, ignore_index=True)\n",
      "C:\\Users\\DELL\\anaconda3\\envs\\ta\\lib\\site-packages\\textattack\\loggers\\csv_logger.py:41: FutureWarning: The frame.append method is deprecated and will be removed from pandas in a future version. Use pandas.concat instead.\n",
      "  self.df = self.df.append(row, ignore_index=True)\n",
      "C:\\Users\\DELL\\anaconda3\\envs\\ta\\lib\\site-packages\\textattack\\loggers\\csv_logger.py:41: FutureWarning: The frame.append method is deprecated and will be removed from pandas in a future version. Use pandas.concat instead.\n",
      "  self.df = self.df.append(row, ignore_index=True)\n",
      "C:\\Users\\DELL\\anaconda3\\envs\\ta\\lib\\site-packages\\textattack\\loggers\\csv_logger.py:41: FutureWarning: The frame.append method is deprecated and will be removed from pandas in a future version. Use pandas.concat instead.\n",
      "  self.df = self.df.append(row, ignore_index=True)\n",
      "C:\\Users\\DELL\\anaconda3\\envs\\ta\\lib\\site-packages\\textattack\\loggers\\csv_logger.py:41: FutureWarning: The frame.append method is deprecated and will be removed from pandas in a future version. Use pandas.concat instead.\n",
      "  self.df = self.df.append(row, ignore_index=True)\n",
      "C:\\Users\\DELL\\anaconda3\\envs\\ta\\lib\\site-packages\\textattack\\loggers\\csv_logger.py:41: FutureWarning: The frame.append method is deprecated and will be removed from pandas in a future version. Use pandas.concat instead.\n",
      "  self.df = self.df.append(row, ignore_index=True)\n",
      "C:\\Users\\DELL\\anaconda3\\envs\\ta\\lib\\site-packages\\textattack\\loggers\\csv_logger.py:41: FutureWarning: The frame.append method is deprecated and will be removed from pandas in a future version. Use pandas.concat instead.\n",
      "  self.df = self.df.append(row, ignore_index=True)\n",
      "C:\\Users\\DELL\\anaconda3\\envs\\ta\\lib\\site-packages\\textattack\\loggers\\csv_logger.py:41: FutureWarning: The frame.append method is deprecated and will be removed from pandas in a future version. Use pandas.concat instead.\n",
      "  self.df = self.df.append(row, ignore_index=True)\n",
      "C:\\Users\\DELL\\anaconda3\\envs\\ta\\lib\\site-packages\\textattack\\loggers\\csv_logger.py:41: FutureWarning: The frame.append method is deprecated and will be removed from pandas in a future version. Use pandas.concat instead.\n",
      "  self.df = self.df.append(row, ignore_index=True)\n",
      "C:\\Users\\DELL\\anaconda3\\envs\\ta\\lib\\site-packages\\textattack\\loggers\\csv_logger.py:41: FutureWarning: The frame.append method is deprecated and will be removed from pandas in a future version. Use pandas.concat instead.\n",
      "  self.df = self.df.append(row, ignore_index=True)\n",
      "C:\\Users\\DELL\\anaconda3\\envs\\ta\\lib\\site-packages\\textattack\\loggers\\csv_logger.py:41: FutureWarning: The frame.append method is deprecated and will be removed from pandas in a future version. Use pandas.concat instead.\n",
      "  self.df = self.df.append(row, ignore_index=True)\n",
      "C:\\Users\\DELL\\anaconda3\\envs\\ta\\lib\\site-packages\\textattack\\loggers\\csv_logger.py:41: FutureWarning: The frame.append method is deprecated and will be removed from pandas in a future version. Use pandas.concat instead.\n",
      "  self.df = self.df.append(row, ignore_index=True)\n",
      "C:\\Users\\DELL\\anaconda3\\envs\\ta\\lib\\site-packages\\textattack\\loggers\\csv_logger.py:41: FutureWarning: The frame.append method is deprecated and will be removed from pandas in a future version. Use pandas.concat instead.\n",
      "  self.df = self.df.append(row, ignore_index=True)\n",
      "C:\\Users\\DELL\\anaconda3\\envs\\ta\\lib\\site-packages\\textattack\\loggers\\csv_logger.py:41: FutureWarning: The frame.append method is deprecated and will be removed from pandas in a future version. Use pandas.concat instead.\n",
      "  self.df = self.df.append(row, ignore_index=True)\n",
      "C:\\Users\\DELL\\anaconda3\\envs\\ta\\lib\\site-packages\\textattack\\loggers\\csv_logger.py:41: FutureWarning: The frame.append method is deprecated and will be removed from pandas in a future version. Use pandas.concat instead.\n",
      "  self.df = self.df.append(row, ignore_index=True)\n",
      "C:\\Users\\DELL\\anaconda3\\envs\\ta\\lib\\site-packages\\textattack\\loggers\\csv_logger.py:41: FutureWarning: The frame.append method is deprecated and will be removed from pandas in a future version. Use pandas.concat instead.\n",
      "  self.df = self.df.append(row, ignore_index=True)\n",
      "C:\\Users\\DELL\\anaconda3\\envs\\ta\\lib\\site-packages\\textattack\\loggers\\csv_logger.py:41: FutureWarning: The frame.append method is deprecated and will be removed from pandas in a future version. Use pandas.concat instead.\n",
      "  self.df = self.df.append(row, ignore_index=True)\n",
      "C:\\Users\\DELL\\anaconda3\\envs\\ta\\lib\\site-packages\\textattack\\loggers\\csv_logger.py:41: FutureWarning: The frame.append method is deprecated and will be removed from pandas in a future version. Use pandas.concat instead.\n",
      "  self.df = self.df.append(row, ignore_index=True)\n",
      "C:\\Users\\DELL\\anaconda3\\envs\\ta\\lib\\site-packages\\textattack\\loggers\\csv_logger.py:41: FutureWarning: The frame.append method is deprecated and will be removed from pandas in a future version. Use pandas.concat instead.\n",
      "  self.df = self.df.append(row, ignore_index=True)\n",
      "C:\\Users\\DELL\\anaconda3\\envs\\ta\\lib\\site-packages\\textattack\\loggers\\csv_logger.py:41: FutureWarning: The frame.append method is deprecated and will be removed from pandas in a future version. Use pandas.concat instead.\n",
      "  self.df = self.df.append(row, ignore_index=True)\n",
      "C:\\Users\\DELL\\anaconda3\\envs\\ta\\lib\\site-packages\\textattack\\loggers\\csv_logger.py:41: FutureWarning: The frame.append method is deprecated and will be removed from pandas in a future version. Use pandas.concat instead.\n",
      "  self.df = self.df.append(row, ignore_index=True)\n",
      "C:\\Users\\DELL\\anaconda3\\envs\\ta\\lib\\site-packages\\textattack\\loggers\\csv_logger.py:41: FutureWarning: The frame.append method is deprecated and will be removed from pandas in a future version. Use pandas.concat instead.\n",
      "  self.df = self.df.append(row, ignore_index=True)\n",
      "C:\\Users\\DELL\\anaconda3\\envs\\ta\\lib\\site-packages\\textattack\\loggers\\csv_logger.py:41: FutureWarning: The frame.append method is deprecated and will be removed from pandas in a future version. Use pandas.concat instead.\n",
      "  self.df = self.df.append(row, ignore_index=True)\n",
      "C:\\Users\\DELL\\anaconda3\\envs\\ta\\lib\\site-packages\\textattack\\loggers\\csv_logger.py:41: FutureWarning: The frame.append method is deprecated and will be removed from pandas in a future version. Use pandas.concat instead.\n",
      "  self.df = self.df.append(row, ignore_index=True)\n",
      "C:\\Users\\DELL\\anaconda3\\envs\\ta\\lib\\site-packages\\textattack\\loggers\\csv_logger.py:41: FutureWarning: The frame.append method is deprecated and will be removed from pandas in a future version. Use pandas.concat instead.\n",
      "  self.df = self.df.append(row, ignore_index=True)\n",
      "C:\\Users\\DELL\\anaconda3\\envs\\ta\\lib\\site-packages\\textattack\\loggers\\csv_logger.py:41: FutureWarning: The frame.append method is deprecated and will be removed from pandas in a future version. Use pandas.concat instead.\n",
      "  self.df = self.df.append(row, ignore_index=True)\n",
      "C:\\Users\\DELL\\anaconda3\\envs\\ta\\lib\\site-packages\\textattack\\loggers\\csv_logger.py:41: FutureWarning: The frame.append method is deprecated and will be removed from pandas in a future version. Use pandas.concat instead.\n",
      "  self.df = self.df.append(row, ignore_index=True)\n",
      "C:\\Users\\DELL\\anaconda3\\envs\\ta\\lib\\site-packages\\textattack\\loggers\\csv_logger.py:41: FutureWarning: The frame.append method is deprecated and will be removed from pandas in a future version. Use pandas.concat instead.\n",
      "  self.df = self.df.append(row, ignore_index=True)\n",
      "C:\\Users\\DELL\\anaconda3\\envs\\ta\\lib\\site-packages\\textattack\\loggers\\csv_logger.py:41: FutureWarning: The frame.append method is deprecated and will be removed from pandas in a future version. Use pandas.concat instead.\n",
      "  self.df = self.df.append(row, ignore_index=True)\n",
      "C:\\Users\\DELL\\anaconda3\\envs\\ta\\lib\\site-packages\\textattack\\loggers\\csv_logger.py:41: FutureWarning: The frame.append method is deprecated and will be removed from pandas in a future version. Use pandas.concat instead.\n",
      "  self.df = self.df.append(row, ignore_index=True)\n",
      "C:\\Users\\DELL\\anaconda3\\envs\\ta\\lib\\site-packages\\textattack\\loggers\\csv_logger.py:41: FutureWarning: The frame.append method is deprecated and will be removed from pandas in a future version. Use pandas.concat instead.\n",
      "  self.df = self.df.append(row, ignore_index=True)\n"
     ]
    },
    {
     "name": "stderr",
     "output_type": "stream",
     "text": [
      "C:\\Users\\DELL\\anaconda3\\envs\\ta\\lib\\site-packages\\textattack\\loggers\\csv_logger.py:41: FutureWarning: The frame.append method is deprecated and will be removed from pandas in a future version. Use pandas.concat instead.\n",
      "  self.df = self.df.append(row, ignore_index=True)\n",
      "C:\\Users\\DELL\\anaconda3\\envs\\ta\\lib\\site-packages\\textattack\\loggers\\csv_logger.py:41: FutureWarning: The frame.append method is deprecated and will be removed from pandas in a future version. Use pandas.concat instead.\n",
      "  self.df = self.df.append(row, ignore_index=True)\n",
      "C:\\Users\\DELL\\anaconda3\\envs\\ta\\lib\\site-packages\\textattack\\loggers\\csv_logger.py:41: FutureWarning: The frame.append method is deprecated and will be removed from pandas in a future version. Use pandas.concat instead.\n",
      "  self.df = self.df.append(row, ignore_index=True)\n",
      "C:\\Users\\DELL\\anaconda3\\envs\\ta\\lib\\site-packages\\textattack\\loggers\\csv_logger.py:41: FutureWarning: The frame.append method is deprecated and will be removed from pandas in a future version. Use pandas.concat instead.\n",
      "  self.df = self.df.append(row, ignore_index=True)\n",
      "C:\\Users\\DELL\\anaconda3\\envs\\ta\\lib\\site-packages\\textattack\\loggers\\csv_logger.py:41: FutureWarning: The frame.append method is deprecated and will be removed from pandas in a future version. Use pandas.concat instead.\n",
      "  self.df = self.df.append(row, ignore_index=True)\n",
      "C:\\Users\\DELL\\anaconda3\\envs\\ta\\lib\\site-packages\\textattack\\loggers\\csv_logger.py:41: FutureWarning: The frame.append method is deprecated and will be removed from pandas in a future version. Use pandas.concat instead.\n",
      "  self.df = self.df.append(row, ignore_index=True)\n",
      "C:\\Users\\DELL\\anaconda3\\envs\\ta\\lib\\site-packages\\textattack\\loggers\\csv_logger.py:41: FutureWarning: The frame.append method is deprecated and will be removed from pandas in a future version. Use pandas.concat instead.\n",
      "  self.df = self.df.append(row, ignore_index=True)\n",
      "C:\\Users\\DELL\\anaconda3\\envs\\ta\\lib\\site-packages\\textattack\\loggers\\csv_logger.py:41: FutureWarning: The frame.append method is deprecated and will be removed from pandas in a future version. Use pandas.concat instead.\n",
      "  self.df = self.df.append(row, ignore_index=True)\n",
      "C:\\Users\\DELL\\anaconda3\\envs\\ta\\lib\\site-packages\\textattack\\loggers\\csv_logger.py:41: FutureWarning: The frame.append method is deprecated and will be removed from pandas in a future version. Use pandas.concat instead.\n",
      "  self.df = self.df.append(row, ignore_index=True)\n",
      "C:\\Users\\DELL\\anaconda3\\envs\\ta\\lib\\site-packages\\textattack\\loggers\\csv_logger.py:41: FutureWarning: The frame.append method is deprecated and will be removed from pandas in a future version. Use pandas.concat instead.\n",
      "  self.df = self.df.append(row, ignore_index=True)\n",
      "C:\\Users\\DELL\\anaconda3\\envs\\ta\\lib\\site-packages\\textattack\\loggers\\csv_logger.py:41: FutureWarning: The frame.append method is deprecated and will be removed from pandas in a future version. Use pandas.concat instead.\n",
      "  self.df = self.df.append(row, ignore_index=True)\n",
      "C:\\Users\\DELL\\anaconda3\\envs\\ta\\lib\\site-packages\\textattack\\loggers\\csv_logger.py:41: FutureWarning: The frame.append method is deprecated and will be removed from pandas in a future version. Use pandas.concat instead.\n",
      "  self.df = self.df.append(row, ignore_index=True)\n",
      "C:\\Users\\DELL\\anaconda3\\envs\\ta\\lib\\site-packages\\textattack\\loggers\\csv_logger.py:41: FutureWarning: The frame.append method is deprecated and will be removed from pandas in a future version. Use pandas.concat instead.\n",
      "  self.df = self.df.append(row, ignore_index=True)\n",
      "C:\\Users\\DELL\\anaconda3\\envs\\ta\\lib\\site-packages\\textattack\\loggers\\csv_logger.py:41: FutureWarning: The frame.append method is deprecated and will be removed from pandas in a future version. Use pandas.concat instead.\n",
      "  self.df = self.df.append(row, ignore_index=True)\n",
      "C:\\Users\\DELL\\anaconda3\\envs\\ta\\lib\\site-packages\\textattack\\loggers\\csv_logger.py:41: FutureWarning: The frame.append method is deprecated and will be removed from pandas in a future version. Use pandas.concat instead.\n",
      "  self.df = self.df.append(row, ignore_index=True)\n",
      "C:\\Users\\DELL\\anaconda3\\envs\\ta\\lib\\site-packages\\textattack\\loggers\\csv_logger.py:41: FutureWarning: The frame.append method is deprecated and will be removed from pandas in a future version. Use pandas.concat instead.\n",
      "  self.df = self.df.append(row, ignore_index=True)\n",
      "C:\\Users\\DELL\\anaconda3\\envs\\ta\\lib\\site-packages\\textattack\\loggers\\csv_logger.py:41: FutureWarning: The frame.append method is deprecated and will be removed from pandas in a future version. Use pandas.concat instead.\n",
      "  self.df = self.df.append(row, ignore_index=True)\n",
      "C:\\Users\\DELL\\anaconda3\\envs\\ta\\lib\\site-packages\\textattack\\loggers\\csv_logger.py:41: FutureWarning: The frame.append method is deprecated and will be removed from pandas in a future version. Use pandas.concat instead.\n",
      "  self.df = self.df.append(row, ignore_index=True)\n",
      "C:\\Users\\DELL\\anaconda3\\envs\\ta\\lib\\site-packages\\textattack\\loggers\\csv_logger.py:41: FutureWarning: The frame.append method is deprecated and will be removed from pandas in a future version. Use pandas.concat instead.\n",
      "  self.df = self.df.append(row, ignore_index=True)\n",
      "C:\\Users\\DELL\\anaconda3\\envs\\ta\\lib\\site-packages\\textattack\\loggers\\csv_logger.py:41: FutureWarning: The frame.append method is deprecated and will be removed from pandas in a future version. Use pandas.concat instead.\n",
      "  self.df = self.df.append(row, ignore_index=True)\n",
      "C:\\Users\\DELL\\anaconda3\\envs\\ta\\lib\\site-packages\\textattack\\loggers\\csv_logger.py:41: FutureWarning: The frame.append method is deprecated and will be removed from pandas in a future version. Use pandas.concat instead.\n",
      "  self.df = self.df.append(row, ignore_index=True)\n",
      "C:\\Users\\DELL\\anaconda3\\envs\\ta\\lib\\site-packages\\textattack\\loggers\\csv_logger.py:41: FutureWarning: The frame.append method is deprecated and will be removed from pandas in a future version. Use pandas.concat instead.\n",
      "  self.df = self.df.append(row, ignore_index=True)\n",
      "C:\\Users\\DELL\\anaconda3\\envs\\ta\\lib\\site-packages\\textattack\\loggers\\csv_logger.py:41: FutureWarning: The frame.append method is deprecated and will be removed from pandas in a future version. Use pandas.concat instead.\n",
      "  self.df = self.df.append(row, ignore_index=True)\n",
      "C:\\Users\\DELL\\anaconda3\\envs\\ta\\lib\\site-packages\\textattack\\loggers\\csv_logger.py:41: FutureWarning: The frame.append method is deprecated and will be removed from pandas in a future version. Use pandas.concat instead.\n",
      "  self.df = self.df.append(row, ignore_index=True)\n",
      "C:\\Users\\DELL\\anaconda3\\envs\\ta\\lib\\site-packages\\textattack\\loggers\\csv_logger.py:41: FutureWarning: The frame.append method is deprecated and will be removed from pandas in a future version. Use pandas.concat instead.\n",
      "  self.df = self.df.append(row, ignore_index=True)\n",
      "C:\\Users\\DELL\\anaconda3\\envs\\ta\\lib\\site-packages\\textattack\\loggers\\csv_logger.py:41: FutureWarning: The frame.append method is deprecated and will be removed from pandas in a future version. Use pandas.concat instead.\n",
      "  self.df = self.df.append(row, ignore_index=True)\n",
      "C:\\Users\\DELL\\anaconda3\\envs\\ta\\lib\\site-packages\\textattack\\loggers\\csv_logger.py:41: FutureWarning: The frame.append method is deprecated and will be removed from pandas in a future version. Use pandas.concat instead.\n",
      "  self.df = self.df.append(row, ignore_index=True)\n",
      "C:\\Users\\DELL\\anaconda3\\envs\\ta\\lib\\site-packages\\textattack\\loggers\\csv_logger.py:41: FutureWarning: The frame.append method is deprecated and will be removed from pandas in a future version. Use pandas.concat instead.\n",
      "  self.df = self.df.append(row, ignore_index=True)\n",
      "C:\\Users\\DELL\\anaconda3\\envs\\ta\\lib\\site-packages\\textattack\\loggers\\csv_logger.py:41: FutureWarning: The frame.append method is deprecated and will be removed from pandas in a future version. Use pandas.concat instead.\n",
      "  self.df = self.df.append(row, ignore_index=True)\n",
      "C:\\Users\\DELL\\anaconda3\\envs\\ta\\lib\\site-packages\\textattack\\loggers\\csv_logger.py:41: FutureWarning: The frame.append method is deprecated and will be removed from pandas in a future version. Use pandas.concat instead.\n",
      "  self.df = self.df.append(row, ignore_index=True)\n",
      "C:\\Users\\DELL\\anaconda3\\envs\\ta\\lib\\site-packages\\textattack\\loggers\\csv_logger.py:41: FutureWarning: The frame.append method is deprecated and will be removed from pandas in a future version. Use pandas.concat instead.\n",
      "  self.df = self.df.append(row, ignore_index=True)\n",
      "C:\\Users\\DELL\\anaconda3\\envs\\ta\\lib\\site-packages\\textattack\\loggers\\csv_logger.py:41: FutureWarning: The frame.append method is deprecated and will be removed from pandas in a future version. Use pandas.concat instead.\n",
      "  self.df = self.df.append(row, ignore_index=True)\n"
     ]
    },
    {
     "name": "stderr",
     "output_type": "stream",
     "text": [
      "C:\\Users\\DELL\\anaconda3\\envs\\ta\\lib\\site-packages\\textattack\\loggers\\csv_logger.py:41: FutureWarning: The frame.append method is deprecated and will be removed from pandas in a future version. Use pandas.concat instead.\n",
      "  self.df = self.df.append(row, ignore_index=True)\n",
      "C:\\Users\\DELL\\anaconda3\\envs\\ta\\lib\\site-packages\\textattack\\loggers\\csv_logger.py:41: FutureWarning: The frame.append method is deprecated and will be removed from pandas in a future version. Use pandas.concat instead.\n",
      "  self.df = self.df.append(row, ignore_index=True)\n",
      "C:\\Users\\DELL\\anaconda3\\envs\\ta\\lib\\site-packages\\textattack\\loggers\\csv_logger.py:41: FutureWarning: The frame.append method is deprecated and will be removed from pandas in a future version. Use pandas.concat instead.\n",
      "  self.df = self.df.append(row, ignore_index=True)\n",
      "C:\\Users\\DELL\\anaconda3\\envs\\ta\\lib\\site-packages\\textattack\\loggers\\csv_logger.py:41: FutureWarning: The frame.append method is deprecated and will be removed from pandas in a future version. Use pandas.concat instead.\n",
      "  self.df = self.df.append(row, ignore_index=True)\n",
      "C:\\Users\\DELL\\anaconda3\\envs\\ta\\lib\\site-packages\\textattack\\loggers\\csv_logger.py:41: FutureWarning: The frame.append method is deprecated and will be removed from pandas in a future version. Use pandas.concat instead.\n",
      "  self.df = self.df.append(row, ignore_index=True)\n",
      "C:\\Users\\DELL\\anaconda3\\envs\\ta\\lib\\site-packages\\textattack\\loggers\\csv_logger.py:41: FutureWarning: The frame.append method is deprecated and will be removed from pandas in a future version. Use pandas.concat instead.\n",
      "  self.df = self.df.append(row, ignore_index=True)\n",
      "C:\\Users\\DELL\\anaconda3\\envs\\ta\\lib\\site-packages\\textattack\\loggers\\csv_logger.py:41: FutureWarning: The frame.append method is deprecated and will be removed from pandas in a future version. Use pandas.concat instead.\n",
      "  self.df = self.df.append(row, ignore_index=True)\n",
      "C:\\Users\\DELL\\anaconda3\\envs\\ta\\lib\\site-packages\\textattack\\loggers\\csv_logger.py:41: FutureWarning: The frame.append method is deprecated and will be removed from pandas in a future version. Use pandas.concat instead.\n",
      "  self.df = self.df.append(row, ignore_index=True)\n",
      "C:\\Users\\DELL\\anaconda3\\envs\\ta\\lib\\site-packages\\textattack\\loggers\\csv_logger.py:41: FutureWarning: The frame.append method is deprecated and will be removed from pandas in a future version. Use pandas.concat instead.\n",
      "  self.df = self.df.append(row, ignore_index=True)\n",
      "C:\\Users\\DELL\\anaconda3\\envs\\ta\\lib\\site-packages\\textattack\\loggers\\csv_logger.py:41: FutureWarning: The frame.append method is deprecated and will be removed from pandas in a future version. Use pandas.concat instead.\n",
      "  self.df = self.df.append(row, ignore_index=True)\n",
      "C:\\Users\\DELL\\anaconda3\\envs\\ta\\lib\\site-packages\\textattack\\loggers\\csv_logger.py:41: FutureWarning: The frame.append method is deprecated and will be removed from pandas in a future version. Use pandas.concat instead.\n",
      "  self.df = self.df.append(row, ignore_index=True)\n",
      "C:\\Users\\DELL\\anaconda3\\envs\\ta\\lib\\site-packages\\textattack\\loggers\\csv_logger.py:41: FutureWarning: The frame.append method is deprecated and will be removed from pandas in a future version. Use pandas.concat instead.\n",
      "  self.df = self.df.append(row, ignore_index=True)\n",
      "C:\\Users\\DELL\\anaconda3\\envs\\ta\\lib\\site-packages\\textattack\\loggers\\csv_logger.py:41: FutureWarning: The frame.append method is deprecated and will be removed from pandas in a future version. Use pandas.concat instead.\n",
      "  self.df = self.df.append(row, ignore_index=True)\n",
      "C:\\Users\\DELL\\anaconda3\\envs\\ta\\lib\\site-packages\\textattack\\loggers\\csv_logger.py:41: FutureWarning: The frame.append method is deprecated and will be removed from pandas in a future version. Use pandas.concat instead.\n",
      "  self.df = self.df.append(row, ignore_index=True)\n",
      "C:\\Users\\DELL\\anaconda3\\envs\\ta\\lib\\site-packages\\textattack\\loggers\\csv_logger.py:41: FutureWarning: The frame.append method is deprecated and will be removed from pandas in a future version. Use pandas.concat instead.\n",
      "  self.df = self.df.append(row, ignore_index=True)\n",
      "C:\\Users\\DELL\\anaconda3\\envs\\ta\\lib\\site-packages\\textattack\\loggers\\csv_logger.py:41: FutureWarning: The frame.append method is deprecated and will be removed from pandas in a future version. Use pandas.concat instead.\n",
      "  self.df = self.df.append(row, ignore_index=True)\n",
      "C:\\Users\\DELL\\anaconda3\\envs\\ta\\lib\\site-packages\\textattack\\loggers\\csv_logger.py:41: FutureWarning: The frame.append method is deprecated and will be removed from pandas in a future version. Use pandas.concat instead.\n",
      "  self.df = self.df.append(row, ignore_index=True)\n",
      "C:\\Users\\DELL\\anaconda3\\envs\\ta\\lib\\site-packages\\textattack\\loggers\\csv_logger.py:41: FutureWarning: The frame.append method is deprecated and will be removed from pandas in a future version. Use pandas.concat instead.\n",
      "  self.df = self.df.append(row, ignore_index=True)\n",
      "C:\\Users\\DELL\\anaconda3\\envs\\ta\\lib\\site-packages\\textattack\\loggers\\csv_logger.py:41: FutureWarning: The frame.append method is deprecated and will be removed from pandas in a future version. Use pandas.concat instead.\n",
      "  self.df = self.df.append(row, ignore_index=True)\n",
      "C:\\Users\\DELL\\anaconda3\\envs\\ta\\lib\\site-packages\\textattack\\loggers\\csv_logger.py:41: FutureWarning: The frame.append method is deprecated and will be removed from pandas in a future version. Use pandas.concat instead.\n",
      "  self.df = self.df.append(row, ignore_index=True)\n",
      "C:\\Users\\DELL\\anaconda3\\envs\\ta\\lib\\site-packages\\textattack\\loggers\\csv_logger.py:41: FutureWarning: The frame.append method is deprecated and will be removed from pandas in a future version. Use pandas.concat instead.\n",
      "  self.df = self.df.append(row, ignore_index=True)\n",
      "C:\\Users\\DELL\\anaconda3\\envs\\ta\\lib\\site-packages\\textattack\\loggers\\csv_logger.py:41: FutureWarning: The frame.append method is deprecated and will be removed from pandas in a future version. Use pandas.concat instead.\n",
      "  self.df = self.df.append(row, ignore_index=True)\n",
      "C:\\Users\\DELL\\anaconda3\\envs\\ta\\lib\\site-packages\\textattack\\loggers\\csv_logger.py:41: FutureWarning: The frame.append method is deprecated and will be removed from pandas in a future version. Use pandas.concat instead.\n",
      "  self.df = self.df.append(row, ignore_index=True)\n",
      "C:\\Users\\DELL\\anaconda3\\envs\\ta\\lib\\site-packages\\textattack\\loggers\\csv_logger.py:41: FutureWarning: The frame.append method is deprecated and will be removed from pandas in a future version. Use pandas.concat instead.\n",
      "  self.df = self.df.append(row, ignore_index=True)\n",
      "C:\\Users\\DELL\\anaconda3\\envs\\ta\\lib\\site-packages\\textattack\\loggers\\csv_logger.py:41: FutureWarning: The frame.append method is deprecated and will be removed from pandas in a future version. Use pandas.concat instead.\n",
      "  self.df = self.df.append(row, ignore_index=True)\n",
      "C:\\Users\\DELL\\anaconda3\\envs\\ta\\lib\\site-packages\\textattack\\loggers\\csv_logger.py:41: FutureWarning: The frame.append method is deprecated and will be removed from pandas in a future version. Use pandas.concat instead.\n",
      "  self.df = self.df.append(row, ignore_index=True)\n",
      "C:\\Users\\DELL\\anaconda3\\envs\\ta\\lib\\site-packages\\textattack\\loggers\\csv_logger.py:41: FutureWarning: The frame.append method is deprecated and will be removed from pandas in a future version. Use pandas.concat instead.\n",
      "  self.df = self.df.append(row, ignore_index=True)\n",
      "C:\\Users\\DELL\\anaconda3\\envs\\ta\\lib\\site-packages\\textattack\\loggers\\csv_logger.py:41: FutureWarning: The frame.append method is deprecated and will be removed from pandas in a future version. Use pandas.concat instead.\n",
      "  self.df = self.df.append(row, ignore_index=True)\n",
      "C:\\Users\\DELL\\anaconda3\\envs\\ta\\lib\\site-packages\\textattack\\loggers\\csv_logger.py:41: FutureWarning: The frame.append method is deprecated and will be removed from pandas in a future version. Use pandas.concat instead.\n",
      "  self.df = self.df.append(row, ignore_index=True)\n",
      "C:\\Users\\DELL\\anaconda3\\envs\\ta\\lib\\site-packages\\textattack\\loggers\\csv_logger.py:41: FutureWarning: The frame.append method is deprecated and will be removed from pandas in a future version. Use pandas.concat instead.\n",
      "  self.df = self.df.append(row, ignore_index=True)\n",
      "C:\\Users\\DELL\\anaconda3\\envs\\ta\\lib\\site-packages\\textattack\\loggers\\csv_logger.py:41: FutureWarning: The frame.append method is deprecated and will be removed from pandas in a future version. Use pandas.concat instead.\n",
      "  self.df = self.df.append(row, ignore_index=True)\n",
      "C:\\Users\\DELL\\anaconda3\\envs\\ta\\lib\\site-packages\\textattack\\loggers\\csv_logger.py:41: FutureWarning: The frame.append method is deprecated and will be removed from pandas in a future version. Use pandas.concat instead.\n",
      "  self.df = self.df.append(row, ignore_index=True)\n",
      "C:\\Users\\DELL\\anaconda3\\envs\\ta\\lib\\site-packages\\textattack\\loggers\\csv_logger.py:41: FutureWarning: The frame.append method is deprecated and will be removed from pandas in a future version. Use pandas.concat instead.\n",
      "  self.df = self.df.append(row, ignore_index=True)\n",
      "C:\\Users\\DELL\\anaconda3\\envs\\ta\\lib\\site-packages\\textattack\\loggers\\csv_logger.py:41: FutureWarning: The frame.append method is deprecated and will be removed from pandas in a future version. Use pandas.concat instead.\n",
      "  self.df = self.df.append(row, ignore_index=True)\n",
      "C:\\Users\\DELL\\anaconda3\\envs\\ta\\lib\\site-packages\\textattack\\loggers\\csv_logger.py:41: FutureWarning: The frame.append method is deprecated and will be removed from pandas in a future version. Use pandas.concat instead.\n",
      "  self.df = self.df.append(row, ignore_index=True)\n",
      "C:\\Users\\DELL\\anaconda3\\envs\\ta\\lib\\site-packages\\textattack\\loggers\\csv_logger.py:41: FutureWarning: The frame.append method is deprecated and will be removed from pandas in a future version. Use pandas.concat instead.\n",
      "  self.df = self.df.append(row, ignore_index=True)\n",
      "C:\\Users\\DELL\\anaconda3\\envs\\ta\\lib\\site-packages\\textattack\\loggers\\csv_logger.py:41: FutureWarning: The frame.append method is deprecated and will be removed from pandas in a future version. Use pandas.concat instead.\n",
      "  self.df = self.df.append(row, ignore_index=True)\n",
      "C:\\Users\\DELL\\anaconda3\\envs\\ta\\lib\\site-packages\\textattack\\loggers\\csv_logger.py:41: FutureWarning: The frame.append method is deprecated and will be removed from pandas in a future version. Use pandas.concat instead.\n",
      "  self.df = self.df.append(row, ignore_index=True)\n",
      "C:\\Users\\DELL\\anaconda3\\envs\\ta\\lib\\site-packages\\textattack\\loggers\\csv_logger.py:41: FutureWarning: The frame.append method is deprecated and will be removed from pandas in a future version. Use pandas.concat instead.\n",
      "  self.df = self.df.append(row, ignore_index=True)\n",
      "C:\\Users\\DELL\\anaconda3\\envs\\ta\\lib\\site-packages\\textattack\\loggers\\csv_logger.py:41: FutureWarning: The frame.append method is deprecated and will be removed from pandas in a future version. Use pandas.concat instead.\n",
      "  self.df = self.df.append(row, ignore_index=True)\n"
     ]
    },
    {
     "name": "stderr",
     "output_type": "stream",
     "text": [
      "C:\\Users\\DELL\\anaconda3\\envs\\ta\\lib\\site-packages\\textattack\\loggers\\csv_logger.py:41: FutureWarning: The frame.append method is deprecated and will be removed from pandas in a future version. Use pandas.concat instead.\n",
      "  self.df = self.df.append(row, ignore_index=True)\n",
      "C:\\Users\\DELL\\anaconda3\\envs\\ta\\lib\\site-packages\\textattack\\loggers\\csv_logger.py:41: FutureWarning: The frame.append method is deprecated and will be removed from pandas in a future version. Use pandas.concat instead.\n",
      "  self.df = self.df.append(row, ignore_index=True)\n",
      "C:\\Users\\DELL\\anaconda3\\envs\\ta\\lib\\site-packages\\textattack\\loggers\\csv_logger.py:41: FutureWarning: The frame.append method is deprecated and will be removed from pandas in a future version. Use pandas.concat instead.\n",
      "  self.df = self.df.append(row, ignore_index=True)\n",
      "C:\\Users\\DELL\\anaconda3\\envs\\ta\\lib\\site-packages\\textattack\\loggers\\csv_logger.py:41: FutureWarning: The frame.append method is deprecated and will be removed from pandas in a future version. Use pandas.concat instead.\n",
      "  self.df = self.df.append(row, ignore_index=True)\n",
      "C:\\Users\\DELL\\anaconda3\\envs\\ta\\lib\\site-packages\\textattack\\loggers\\csv_logger.py:41: FutureWarning: The frame.append method is deprecated and will be removed from pandas in a future version. Use pandas.concat instead.\n",
      "  self.df = self.df.append(row, ignore_index=True)\n",
      "C:\\Users\\DELL\\anaconda3\\envs\\ta\\lib\\site-packages\\textattack\\loggers\\csv_logger.py:41: FutureWarning: The frame.append method is deprecated and will be removed from pandas in a future version. Use pandas.concat instead.\n",
      "  self.df = self.df.append(row, ignore_index=True)\n",
      "C:\\Users\\DELL\\anaconda3\\envs\\ta\\lib\\site-packages\\textattack\\loggers\\csv_logger.py:41: FutureWarning: The frame.append method is deprecated and will be removed from pandas in a future version. Use pandas.concat instead.\n",
      "  self.df = self.df.append(row, ignore_index=True)\n",
      "C:\\Users\\DELL\\anaconda3\\envs\\ta\\lib\\site-packages\\textattack\\loggers\\csv_logger.py:41: FutureWarning: The frame.append method is deprecated and will be removed from pandas in a future version. Use pandas.concat instead.\n",
      "  self.df = self.df.append(row, ignore_index=True)\n",
      "C:\\Users\\DELL\\anaconda3\\envs\\ta\\lib\\site-packages\\textattack\\loggers\\csv_logger.py:41: FutureWarning: The frame.append method is deprecated and will be removed from pandas in a future version. Use pandas.concat instead.\n",
      "  self.df = self.df.append(row, ignore_index=True)\n",
      "C:\\Users\\DELL\\anaconda3\\envs\\ta\\lib\\site-packages\\textattack\\loggers\\csv_logger.py:41: FutureWarning: The frame.append method is deprecated and will be removed from pandas in a future version. Use pandas.concat instead.\n",
      "  self.df = self.df.append(row, ignore_index=True)\n",
      "C:\\Users\\DELL\\anaconda3\\envs\\ta\\lib\\site-packages\\textattack\\loggers\\csv_logger.py:41: FutureWarning: The frame.append method is deprecated and will be removed from pandas in a future version. Use pandas.concat instead.\n",
      "  self.df = self.df.append(row, ignore_index=True)\n",
      "C:\\Users\\DELL\\anaconda3\\envs\\ta\\lib\\site-packages\\textattack\\loggers\\csv_logger.py:41: FutureWarning: The frame.append method is deprecated and will be removed from pandas in a future version. Use pandas.concat instead.\n",
      "  self.df = self.df.append(row, ignore_index=True)\n",
      "C:\\Users\\DELL\\anaconda3\\envs\\ta\\lib\\site-packages\\textattack\\loggers\\csv_logger.py:41: FutureWarning: The frame.append method is deprecated and will be removed from pandas in a future version. Use pandas.concat instead.\n",
      "  self.df = self.df.append(row, ignore_index=True)\n",
      "C:\\Users\\DELL\\anaconda3\\envs\\ta\\lib\\site-packages\\textattack\\loggers\\csv_logger.py:41: FutureWarning: The frame.append method is deprecated and will be removed from pandas in a future version. Use pandas.concat instead.\n",
      "  self.df = self.df.append(row, ignore_index=True)\n",
      "C:\\Users\\DELL\\anaconda3\\envs\\ta\\lib\\site-packages\\textattack\\loggers\\csv_logger.py:41: FutureWarning: The frame.append method is deprecated and will be removed from pandas in a future version. Use pandas.concat instead.\n",
      "  self.df = self.df.append(row, ignore_index=True)\n",
      "C:\\Users\\DELL\\anaconda3\\envs\\ta\\lib\\site-packages\\textattack\\loggers\\csv_logger.py:41: FutureWarning: The frame.append method is deprecated and will be removed from pandas in a future version. Use pandas.concat instead.\n",
      "  self.df = self.df.append(row, ignore_index=True)\n",
      "C:\\Users\\DELL\\anaconda3\\envs\\ta\\lib\\site-packages\\textattack\\loggers\\csv_logger.py:41: FutureWarning: The frame.append method is deprecated and will be removed from pandas in a future version. Use pandas.concat instead.\n",
      "  self.df = self.df.append(row, ignore_index=True)\n",
      "C:\\Users\\DELL\\anaconda3\\envs\\ta\\lib\\site-packages\\textattack\\loggers\\csv_logger.py:41: FutureWarning: The frame.append method is deprecated and will be removed from pandas in a future version. Use pandas.concat instead.\n",
      "  self.df = self.df.append(row, ignore_index=True)\n",
      "C:\\Users\\DELL\\anaconda3\\envs\\ta\\lib\\site-packages\\textattack\\loggers\\csv_logger.py:41: FutureWarning: The frame.append method is deprecated and will be removed from pandas in a future version. Use pandas.concat instead.\n",
      "  self.df = self.df.append(row, ignore_index=True)\n",
      "C:\\Users\\DELL\\anaconda3\\envs\\ta\\lib\\site-packages\\textattack\\loggers\\csv_logger.py:41: FutureWarning: The frame.append method is deprecated and will be removed from pandas in a future version. Use pandas.concat instead.\n",
      "  self.df = self.df.append(row, ignore_index=True)\n",
      "C:\\Users\\DELL\\anaconda3\\envs\\ta\\lib\\site-packages\\textattack\\loggers\\csv_logger.py:41: FutureWarning: The frame.append method is deprecated and will be removed from pandas in a future version. Use pandas.concat instead.\n",
      "  self.df = self.df.append(row, ignore_index=True)\n",
      "C:\\Users\\DELL\\anaconda3\\envs\\ta\\lib\\site-packages\\textattack\\loggers\\csv_logger.py:41: FutureWarning: The frame.append method is deprecated and will be removed from pandas in a future version. Use pandas.concat instead.\n",
      "  self.df = self.df.append(row, ignore_index=True)\n",
      "C:\\Users\\DELL\\anaconda3\\envs\\ta\\lib\\site-packages\\textattack\\loggers\\csv_logger.py:41: FutureWarning: The frame.append method is deprecated and will be removed from pandas in a future version. Use pandas.concat instead.\n",
      "  self.df = self.df.append(row, ignore_index=True)\n",
      "C:\\Users\\DELL\\anaconda3\\envs\\ta\\lib\\site-packages\\textattack\\loggers\\csv_logger.py:41: FutureWarning: The frame.append method is deprecated and will be removed from pandas in a future version. Use pandas.concat instead.\n",
      "  self.df = self.df.append(row, ignore_index=True)\n",
      "C:\\Users\\DELL\\anaconda3\\envs\\ta\\lib\\site-packages\\textattack\\loggers\\csv_logger.py:41: FutureWarning: The frame.append method is deprecated and will be removed from pandas in a future version. Use pandas.concat instead.\n",
      "  self.df = self.df.append(row, ignore_index=True)\n",
      "C:\\Users\\DELL\\anaconda3\\envs\\ta\\lib\\site-packages\\textattack\\loggers\\csv_logger.py:41: FutureWarning: The frame.append method is deprecated and will be removed from pandas in a future version. Use pandas.concat instead.\n",
      "  self.df = self.df.append(row, ignore_index=True)\n",
      "C:\\Users\\DELL\\anaconda3\\envs\\ta\\lib\\site-packages\\textattack\\loggers\\csv_logger.py:41: FutureWarning: The frame.append method is deprecated and will be removed from pandas in a future version. Use pandas.concat instead.\n",
      "  self.df = self.df.append(row, ignore_index=True)\n",
      "C:\\Users\\DELL\\anaconda3\\envs\\ta\\lib\\site-packages\\textattack\\loggers\\csv_logger.py:41: FutureWarning: The frame.append method is deprecated and will be removed from pandas in a future version. Use pandas.concat instead.\n",
      "  self.df = self.df.append(row, ignore_index=True)\n",
      "C:\\Users\\DELL\\anaconda3\\envs\\ta\\lib\\site-packages\\textattack\\loggers\\csv_logger.py:41: FutureWarning: The frame.append method is deprecated and will be removed from pandas in a future version. Use pandas.concat instead.\n",
      "  self.df = self.df.append(row, ignore_index=True)\n",
      "C:\\Users\\DELL\\anaconda3\\envs\\ta\\lib\\site-packages\\textattack\\loggers\\csv_logger.py:41: FutureWarning: The frame.append method is deprecated and will be removed from pandas in a future version. Use pandas.concat instead.\n",
      "  self.df = self.df.append(row, ignore_index=True)\n",
      "C:\\Users\\DELL\\anaconda3\\envs\\ta\\lib\\site-packages\\textattack\\loggers\\csv_logger.py:41: FutureWarning: The frame.append method is deprecated and will be removed from pandas in a future version. Use pandas.concat instead.\n",
      "  self.df = self.df.append(row, ignore_index=True)\n",
      "C:\\Users\\DELL\\anaconda3\\envs\\ta\\lib\\site-packages\\textattack\\loggers\\csv_logger.py:41: FutureWarning: The frame.append method is deprecated and will be removed from pandas in a future version. Use pandas.concat instead.\n",
      "  self.df = self.df.append(row, ignore_index=True)\n",
      "C:\\Users\\DELL\\anaconda3\\envs\\ta\\lib\\site-packages\\textattack\\loggers\\csv_logger.py:41: FutureWarning: The frame.append method is deprecated and will be removed from pandas in a future version. Use pandas.concat instead.\n",
      "  self.df = self.df.append(row, ignore_index=True)\n",
      "C:\\Users\\DELL\\anaconda3\\envs\\ta\\lib\\site-packages\\textattack\\loggers\\csv_logger.py:41: FutureWarning: The frame.append method is deprecated and will be removed from pandas in a future version. Use pandas.concat instead.\n",
      "  self.df = self.df.append(row, ignore_index=True)\n",
      "C:\\Users\\DELL\\anaconda3\\envs\\ta\\lib\\site-packages\\textattack\\loggers\\csv_logger.py:41: FutureWarning: The frame.append method is deprecated and will be removed from pandas in a future version. Use pandas.concat instead.\n",
      "  self.df = self.df.append(row, ignore_index=True)\n",
      "C:\\Users\\DELL\\anaconda3\\envs\\ta\\lib\\site-packages\\textattack\\loggers\\csv_logger.py:41: FutureWarning: The frame.append method is deprecated and will be removed from pandas in a future version. Use pandas.concat instead.\n",
      "  self.df = self.df.append(row, ignore_index=True)\n",
      "C:\\Users\\DELL\\anaconda3\\envs\\ta\\lib\\site-packages\\textattack\\loggers\\csv_logger.py:41: FutureWarning: The frame.append method is deprecated and will be removed from pandas in a future version. Use pandas.concat instead.\n",
      "  self.df = self.df.append(row, ignore_index=True)\n",
      "C:\\Users\\DELL\\anaconda3\\envs\\ta\\lib\\site-packages\\textattack\\loggers\\csv_logger.py:41: FutureWarning: The frame.append method is deprecated and will be removed from pandas in a future version. Use pandas.concat instead.\n",
      "  self.df = self.df.append(row, ignore_index=True)\n",
      "C:\\Users\\DELL\\anaconda3\\envs\\ta\\lib\\site-packages\\textattack\\loggers\\csv_logger.py:41: FutureWarning: The frame.append method is deprecated and will be removed from pandas in a future version. Use pandas.concat instead.\n",
      "  self.df = self.df.append(row, ignore_index=True)\n",
      "C:\\Users\\DELL\\anaconda3\\envs\\ta\\lib\\site-packages\\textattack\\loggers\\csv_logger.py:41: FutureWarning: The frame.append method is deprecated and will be removed from pandas in a future version. Use pandas.concat instead.\n",
      "  self.df = self.df.append(row, ignore_index=True)\n",
      "C:\\Users\\DELL\\anaconda3\\envs\\ta\\lib\\site-packages\\textattack\\loggers\\csv_logger.py:41: FutureWarning: The frame.append method is deprecated and will be removed from pandas in a future version. Use pandas.concat instead.\n",
      "  self.df = self.df.append(row, ignore_index=True)\n"
     ]
    },
    {
     "name": "stderr",
     "output_type": "stream",
     "text": [
      "C:\\Users\\DELL\\anaconda3\\envs\\ta\\lib\\site-packages\\textattack\\loggers\\csv_logger.py:41: FutureWarning: The frame.append method is deprecated and will be removed from pandas in a future version. Use pandas.concat instead.\n",
      "  self.df = self.df.append(row, ignore_index=True)\n",
      "C:\\Users\\DELL\\anaconda3\\envs\\ta\\lib\\site-packages\\textattack\\loggers\\csv_logger.py:41: FutureWarning: The frame.append method is deprecated and will be removed from pandas in a future version. Use pandas.concat instead.\n",
      "  self.df = self.df.append(row, ignore_index=True)\n",
      "C:\\Users\\DELL\\anaconda3\\envs\\ta\\lib\\site-packages\\textattack\\loggers\\csv_logger.py:41: FutureWarning: The frame.append method is deprecated and will be removed from pandas in a future version. Use pandas.concat instead.\n",
      "  self.df = self.df.append(row, ignore_index=True)\n",
      "C:\\Users\\DELL\\anaconda3\\envs\\ta\\lib\\site-packages\\textattack\\loggers\\csv_logger.py:41: FutureWarning: The frame.append method is deprecated and will be removed from pandas in a future version. Use pandas.concat instead.\n",
      "  self.df = self.df.append(row, ignore_index=True)\n",
      "C:\\Users\\DELL\\anaconda3\\envs\\ta\\lib\\site-packages\\textattack\\loggers\\csv_logger.py:41: FutureWarning: The frame.append method is deprecated and will be removed from pandas in a future version. Use pandas.concat instead.\n",
      "  self.df = self.df.append(row, ignore_index=True)\n",
      "C:\\Users\\DELL\\anaconda3\\envs\\ta\\lib\\site-packages\\textattack\\loggers\\csv_logger.py:41: FutureWarning: The frame.append method is deprecated and will be removed from pandas in a future version. Use pandas.concat instead.\n",
      "  self.df = self.df.append(row, ignore_index=True)\n",
      "C:\\Users\\DELL\\anaconda3\\envs\\ta\\lib\\site-packages\\textattack\\loggers\\csv_logger.py:41: FutureWarning: The frame.append method is deprecated and will be removed from pandas in a future version. Use pandas.concat instead.\n",
      "  self.df = self.df.append(row, ignore_index=True)\n",
      "C:\\Users\\DELL\\anaconda3\\envs\\ta\\lib\\site-packages\\textattack\\loggers\\csv_logger.py:41: FutureWarning: The frame.append method is deprecated and will be removed from pandas in a future version. Use pandas.concat instead.\n",
      "  self.df = self.df.append(row, ignore_index=True)\n",
      "C:\\Users\\DELL\\anaconda3\\envs\\ta\\lib\\site-packages\\textattack\\loggers\\csv_logger.py:41: FutureWarning: The frame.append method is deprecated and will be removed from pandas in a future version. Use pandas.concat instead.\n",
      "  self.df = self.df.append(row, ignore_index=True)\n",
      "C:\\Users\\DELL\\anaconda3\\envs\\ta\\lib\\site-packages\\textattack\\loggers\\csv_logger.py:41: FutureWarning: The frame.append method is deprecated and will be removed from pandas in a future version. Use pandas.concat instead.\n",
      "  self.df = self.df.append(row, ignore_index=True)\n",
      "C:\\Users\\DELL\\anaconda3\\envs\\ta\\lib\\site-packages\\textattack\\loggers\\csv_logger.py:41: FutureWarning: The frame.append method is deprecated and will be removed from pandas in a future version. Use pandas.concat instead.\n",
      "  self.df = self.df.append(row, ignore_index=True)\n",
      "C:\\Users\\DELL\\anaconda3\\envs\\ta\\lib\\site-packages\\textattack\\loggers\\csv_logger.py:41: FutureWarning: The frame.append method is deprecated and will be removed from pandas in a future version. Use pandas.concat instead.\n",
      "  self.df = self.df.append(row, ignore_index=True)\n",
      "C:\\Users\\DELL\\anaconda3\\envs\\ta\\lib\\site-packages\\textattack\\loggers\\csv_logger.py:41: FutureWarning: The frame.append method is deprecated and will be removed from pandas in a future version. Use pandas.concat instead.\n",
      "  self.df = self.df.append(row, ignore_index=True)\n",
      "C:\\Users\\DELL\\anaconda3\\envs\\ta\\lib\\site-packages\\textattack\\loggers\\csv_logger.py:41: FutureWarning: The frame.append method is deprecated and will be removed from pandas in a future version. Use pandas.concat instead.\n",
      "  self.df = self.df.append(row, ignore_index=True)\n",
      "C:\\Users\\DELL\\anaconda3\\envs\\ta\\lib\\site-packages\\textattack\\loggers\\csv_logger.py:41: FutureWarning: The frame.append method is deprecated and will be removed from pandas in a future version. Use pandas.concat instead.\n",
      "  self.df = self.df.append(row, ignore_index=True)\n",
      "C:\\Users\\DELL\\anaconda3\\envs\\ta\\lib\\site-packages\\textattack\\loggers\\csv_logger.py:41: FutureWarning: The frame.append method is deprecated and will be removed from pandas in a future version. Use pandas.concat instead.\n",
      "  self.df = self.df.append(row, ignore_index=True)\n",
      "C:\\Users\\DELL\\anaconda3\\envs\\ta\\lib\\site-packages\\textattack\\loggers\\csv_logger.py:41: FutureWarning: The frame.append method is deprecated and will be removed from pandas in a future version. Use pandas.concat instead.\n",
      "  self.df = self.df.append(row, ignore_index=True)\n",
      "C:\\Users\\DELL\\anaconda3\\envs\\ta\\lib\\site-packages\\textattack\\loggers\\csv_logger.py:41: FutureWarning: The frame.append method is deprecated and will be removed from pandas in a future version. Use pandas.concat instead.\n",
      "  self.df = self.df.append(row, ignore_index=True)\n",
      "C:\\Users\\DELL\\anaconda3\\envs\\ta\\lib\\site-packages\\textattack\\loggers\\csv_logger.py:41: FutureWarning: The frame.append method is deprecated and will be removed from pandas in a future version. Use pandas.concat instead.\n",
      "  self.df = self.df.append(row, ignore_index=True)\n",
      "C:\\Users\\DELL\\anaconda3\\envs\\ta\\lib\\site-packages\\textattack\\loggers\\csv_logger.py:41: FutureWarning: The frame.append method is deprecated and will be removed from pandas in a future version. Use pandas.concat instead.\n",
      "  self.df = self.df.append(row, ignore_index=True)\n",
      "C:\\Users\\DELL\\anaconda3\\envs\\ta\\lib\\site-packages\\textattack\\loggers\\csv_logger.py:41: FutureWarning: The frame.append method is deprecated and will be removed from pandas in a future version. Use pandas.concat instead.\n",
      "  self.df = self.df.append(row, ignore_index=True)\n",
      "C:\\Users\\DELL\\anaconda3\\envs\\ta\\lib\\site-packages\\textattack\\loggers\\csv_logger.py:41: FutureWarning: The frame.append method is deprecated and will be removed from pandas in a future version. Use pandas.concat instead.\n",
      "  self.df = self.df.append(row, ignore_index=True)\n",
      "C:\\Users\\DELL\\anaconda3\\envs\\ta\\lib\\site-packages\\textattack\\loggers\\csv_logger.py:41: FutureWarning: The frame.append method is deprecated and will be removed from pandas in a future version. Use pandas.concat instead.\n",
      "  self.df = self.df.append(row, ignore_index=True)\n",
      "C:\\Users\\DELL\\anaconda3\\envs\\ta\\lib\\site-packages\\textattack\\loggers\\csv_logger.py:41: FutureWarning: The frame.append method is deprecated and will be removed from pandas in a future version. Use pandas.concat instead.\n",
      "  self.df = self.df.append(row, ignore_index=True)\n",
      "C:\\Users\\DELL\\anaconda3\\envs\\ta\\lib\\site-packages\\textattack\\loggers\\csv_logger.py:41: FutureWarning: The frame.append method is deprecated and will be removed from pandas in a future version. Use pandas.concat instead.\n",
      "  self.df = self.df.append(row, ignore_index=True)\n",
      "C:\\Users\\DELL\\anaconda3\\envs\\ta\\lib\\site-packages\\textattack\\loggers\\csv_logger.py:41: FutureWarning: The frame.append method is deprecated and will be removed from pandas in a future version. Use pandas.concat instead.\n",
      "  self.df = self.df.append(row, ignore_index=True)\n",
      "C:\\Users\\DELL\\anaconda3\\envs\\ta\\lib\\site-packages\\textattack\\loggers\\csv_logger.py:41: FutureWarning: The frame.append method is deprecated and will be removed from pandas in a future version. Use pandas.concat instead.\n",
      "  self.df = self.df.append(row, ignore_index=True)\n",
      "C:\\Users\\DELL\\anaconda3\\envs\\ta\\lib\\site-packages\\textattack\\loggers\\csv_logger.py:41: FutureWarning: The frame.append method is deprecated and will be removed from pandas in a future version. Use pandas.concat instead.\n",
      "  self.df = self.df.append(row, ignore_index=True)\n",
      "C:\\Users\\DELL\\anaconda3\\envs\\ta\\lib\\site-packages\\textattack\\loggers\\csv_logger.py:41: FutureWarning: The frame.append method is deprecated and will be removed from pandas in a future version. Use pandas.concat instead.\n",
      "  self.df = self.df.append(row, ignore_index=True)\n",
      "C:\\Users\\DELL\\anaconda3\\envs\\ta\\lib\\site-packages\\textattack\\loggers\\csv_logger.py:41: FutureWarning: The frame.append method is deprecated and will be removed from pandas in a future version. Use pandas.concat instead.\n",
      "  self.df = self.df.append(row, ignore_index=True)\n",
      "C:\\Users\\DELL\\anaconda3\\envs\\ta\\lib\\site-packages\\textattack\\loggers\\csv_logger.py:41: FutureWarning: The frame.append method is deprecated and will be removed from pandas in a future version. Use pandas.concat instead.\n",
      "  self.df = self.df.append(row, ignore_index=True)\n"
     ]
    },
    {
     "name": "stderr",
     "output_type": "stream",
     "text": [
      "C:\\Users\\DELL\\anaconda3\\envs\\ta\\lib\\site-packages\\textattack\\loggers\\csv_logger.py:41: FutureWarning: The frame.append method is deprecated and will be removed from pandas in a future version. Use pandas.concat instead.\n",
      "  self.df = self.df.append(row, ignore_index=True)\n",
      "C:\\Users\\DELL\\anaconda3\\envs\\ta\\lib\\site-packages\\textattack\\loggers\\csv_logger.py:41: FutureWarning: The frame.append method is deprecated and will be removed from pandas in a future version. Use pandas.concat instead.\n",
      "  self.df = self.df.append(row, ignore_index=True)\n",
      "C:\\Users\\DELL\\anaconda3\\envs\\ta\\lib\\site-packages\\textattack\\loggers\\csv_logger.py:41: FutureWarning: The frame.append method is deprecated and will be removed from pandas in a future version. Use pandas.concat instead.\n",
      "  self.df = self.df.append(row, ignore_index=True)\n",
      "C:\\Users\\DELL\\anaconda3\\envs\\ta\\lib\\site-packages\\textattack\\loggers\\csv_logger.py:41: FutureWarning: The frame.append method is deprecated and will be removed from pandas in a future version. Use pandas.concat instead.\n",
      "  self.df = self.df.append(row, ignore_index=True)\n",
      "C:\\Users\\DELL\\anaconda3\\envs\\ta\\lib\\site-packages\\textattack\\loggers\\csv_logger.py:41: FutureWarning: The frame.append method is deprecated and will be removed from pandas in a future version. Use pandas.concat instead.\n",
      "  self.df = self.df.append(row, ignore_index=True)\n",
      "C:\\Users\\DELL\\anaconda3\\envs\\ta\\lib\\site-packages\\textattack\\loggers\\csv_logger.py:41: FutureWarning: The frame.append method is deprecated and will be removed from pandas in a future version. Use pandas.concat instead.\n",
      "  self.df = self.df.append(row, ignore_index=True)\n",
      "C:\\Users\\DELL\\anaconda3\\envs\\ta\\lib\\site-packages\\textattack\\loggers\\csv_logger.py:41: FutureWarning: The frame.append method is deprecated and will be removed from pandas in a future version. Use pandas.concat instead.\n",
      "  self.df = self.df.append(row, ignore_index=True)\n",
      "C:\\Users\\DELL\\anaconda3\\envs\\ta\\lib\\site-packages\\textattack\\loggers\\csv_logger.py:41: FutureWarning: The frame.append method is deprecated and will be removed from pandas in a future version. Use pandas.concat instead.\n",
      "  self.df = self.df.append(row, ignore_index=True)\n",
      "C:\\Users\\DELL\\anaconda3\\envs\\ta\\lib\\site-packages\\textattack\\loggers\\csv_logger.py:41: FutureWarning: The frame.append method is deprecated and will be removed from pandas in a future version. Use pandas.concat instead.\n",
      "  self.df = self.df.append(row, ignore_index=True)\n",
      "C:\\Users\\DELL\\anaconda3\\envs\\ta\\lib\\site-packages\\textattack\\loggers\\csv_logger.py:41: FutureWarning: The frame.append method is deprecated and will be removed from pandas in a future version. Use pandas.concat instead.\n",
      "  self.df = self.df.append(row, ignore_index=True)\n",
      "C:\\Users\\DELL\\anaconda3\\envs\\ta\\lib\\site-packages\\textattack\\loggers\\csv_logger.py:41: FutureWarning: The frame.append method is deprecated and will be removed from pandas in a future version. Use pandas.concat instead.\n",
      "  self.df = self.df.append(row, ignore_index=True)\n",
      "C:\\Users\\DELL\\anaconda3\\envs\\ta\\lib\\site-packages\\textattack\\loggers\\csv_logger.py:41: FutureWarning: The frame.append method is deprecated and will be removed from pandas in a future version. Use pandas.concat instead.\n",
      "  self.df = self.df.append(row, ignore_index=True)\n",
      "C:\\Users\\DELL\\anaconda3\\envs\\ta\\lib\\site-packages\\textattack\\loggers\\csv_logger.py:41: FutureWarning: The frame.append method is deprecated and will be removed from pandas in a future version. Use pandas.concat instead.\n",
      "  self.df = self.df.append(row, ignore_index=True)\n",
      "C:\\Users\\DELL\\anaconda3\\envs\\ta\\lib\\site-packages\\textattack\\loggers\\csv_logger.py:41: FutureWarning: The frame.append method is deprecated and will be removed from pandas in a future version. Use pandas.concat instead.\n",
      "  self.df = self.df.append(row, ignore_index=True)\n",
      "C:\\Users\\DELL\\anaconda3\\envs\\ta\\lib\\site-packages\\textattack\\loggers\\csv_logger.py:41: FutureWarning: The frame.append method is deprecated and will be removed from pandas in a future version. Use pandas.concat instead.\n",
      "  self.df = self.df.append(row, ignore_index=True)\n",
      "C:\\Users\\DELL\\anaconda3\\envs\\ta\\lib\\site-packages\\textattack\\loggers\\csv_logger.py:41: FutureWarning: The frame.append method is deprecated and will be removed from pandas in a future version. Use pandas.concat instead.\n",
      "  self.df = self.df.append(row, ignore_index=True)\n",
      "C:\\Users\\DELL\\anaconda3\\envs\\ta\\lib\\site-packages\\textattack\\loggers\\csv_logger.py:41: FutureWarning: The frame.append method is deprecated and will be removed from pandas in a future version. Use pandas.concat instead.\n",
      "  self.df = self.df.append(row, ignore_index=True)\n",
      "C:\\Users\\DELL\\anaconda3\\envs\\ta\\lib\\site-packages\\textattack\\loggers\\csv_logger.py:41: FutureWarning: The frame.append method is deprecated and will be removed from pandas in a future version. Use pandas.concat instead.\n",
      "  self.df = self.df.append(row, ignore_index=True)\n",
      "C:\\Users\\DELL\\anaconda3\\envs\\ta\\lib\\site-packages\\textattack\\loggers\\csv_logger.py:41: FutureWarning: The frame.append method is deprecated and will be removed from pandas in a future version. Use pandas.concat instead.\n",
      "  self.df = self.df.append(row, ignore_index=True)\n",
      "C:\\Users\\DELL\\anaconda3\\envs\\ta\\lib\\site-packages\\textattack\\loggers\\csv_logger.py:41: FutureWarning: The frame.append method is deprecated and will be removed from pandas in a future version. Use pandas.concat instead.\n",
      "  self.df = self.df.append(row, ignore_index=True)\n",
      "C:\\Users\\DELL\\anaconda3\\envs\\ta\\lib\\site-packages\\textattack\\loggers\\csv_logger.py:41: FutureWarning: The frame.append method is deprecated and will be removed from pandas in a future version. Use pandas.concat instead.\n",
      "  self.df = self.df.append(row, ignore_index=True)\n",
      "C:\\Users\\DELL\\anaconda3\\envs\\ta\\lib\\site-packages\\textattack\\loggers\\csv_logger.py:41: FutureWarning: The frame.append method is deprecated and will be removed from pandas in a future version. Use pandas.concat instead.\n",
      "  self.df = self.df.append(row, ignore_index=True)\n",
      "C:\\Users\\DELL\\anaconda3\\envs\\ta\\lib\\site-packages\\textattack\\loggers\\csv_logger.py:41: FutureWarning: The frame.append method is deprecated and will be removed from pandas in a future version. Use pandas.concat instead.\n",
      "  self.df = self.df.append(row, ignore_index=True)\n",
      "C:\\Users\\DELL\\anaconda3\\envs\\ta\\lib\\site-packages\\textattack\\loggers\\csv_logger.py:41: FutureWarning: The frame.append method is deprecated and will be removed from pandas in a future version. Use pandas.concat instead.\n",
      "  self.df = self.df.append(row, ignore_index=True)\n",
      "C:\\Users\\DELL\\anaconda3\\envs\\ta\\lib\\site-packages\\textattack\\loggers\\csv_logger.py:41: FutureWarning: The frame.append method is deprecated and will be removed from pandas in a future version. Use pandas.concat instead.\n",
      "  self.df = self.df.append(row, ignore_index=True)\n",
      "C:\\Users\\DELL\\anaconda3\\envs\\ta\\lib\\site-packages\\textattack\\loggers\\csv_logger.py:41: FutureWarning: The frame.append method is deprecated and will be removed from pandas in a future version. Use pandas.concat instead.\n",
      "  self.df = self.df.append(row, ignore_index=True)\n",
      "C:\\Users\\DELL\\anaconda3\\envs\\ta\\lib\\site-packages\\textattack\\loggers\\csv_logger.py:41: FutureWarning: The frame.append method is deprecated and will be removed from pandas in a future version. Use pandas.concat instead.\n",
      "  self.df = self.df.append(row, ignore_index=True)\n",
      "C:\\Users\\DELL\\anaconda3\\envs\\ta\\lib\\site-packages\\textattack\\loggers\\csv_logger.py:41: FutureWarning: The frame.append method is deprecated and will be removed from pandas in a future version. Use pandas.concat instead.\n",
      "  self.df = self.df.append(row, ignore_index=True)\n",
      "C:\\Users\\DELL\\anaconda3\\envs\\ta\\lib\\site-packages\\textattack\\loggers\\csv_logger.py:41: FutureWarning: The frame.append method is deprecated and will be removed from pandas in a future version. Use pandas.concat instead.\n",
      "  self.df = self.df.append(row, ignore_index=True)\n",
      "C:\\Users\\DELL\\anaconda3\\envs\\ta\\lib\\site-packages\\textattack\\loggers\\csv_logger.py:41: FutureWarning: The frame.append method is deprecated and will be removed from pandas in a future version. Use pandas.concat instead.\n",
      "  self.df = self.df.append(row, ignore_index=True)\n",
      "C:\\Users\\DELL\\anaconda3\\envs\\ta\\lib\\site-packages\\textattack\\loggers\\csv_logger.py:41: FutureWarning: The frame.append method is deprecated and will be removed from pandas in a future version. Use pandas.concat instead.\n",
      "  self.df = self.df.append(row, ignore_index=True)\n",
      "C:\\Users\\DELL\\anaconda3\\envs\\ta\\lib\\site-packages\\textattack\\loggers\\csv_logger.py:41: FutureWarning: The frame.append method is deprecated and will be removed from pandas in a future version. Use pandas.concat instead.\n",
      "  self.df = self.df.append(row, ignore_index=True)\n",
      "C:\\Users\\DELL\\anaconda3\\envs\\ta\\lib\\site-packages\\textattack\\loggers\\csv_logger.py:41: FutureWarning: The frame.append method is deprecated and will be removed from pandas in a future version. Use pandas.concat instead.\n",
      "  self.df = self.df.append(row, ignore_index=True)\n",
      "C:\\Users\\DELL\\anaconda3\\envs\\ta\\lib\\site-packages\\textattack\\loggers\\csv_logger.py:41: FutureWarning: The frame.append method is deprecated and will be removed from pandas in a future version. Use pandas.concat instead.\n",
      "  self.df = self.df.append(row, ignore_index=True)\n",
      "C:\\Users\\DELL\\anaconda3\\envs\\ta\\lib\\site-packages\\textattack\\loggers\\csv_logger.py:41: FutureWarning: The frame.append method is deprecated and will be removed from pandas in a future version. Use pandas.concat instead.\n",
      "  self.df = self.df.append(row, ignore_index=True)\n"
     ]
    },
    {
     "name": "stderr",
     "output_type": "stream",
     "text": [
      "C:\\Users\\DELL\\anaconda3\\envs\\ta\\lib\\site-packages\\textattack\\loggers\\csv_logger.py:41: FutureWarning: The frame.append method is deprecated and will be removed from pandas in a future version. Use pandas.concat instead.\n",
      "  self.df = self.df.append(row, ignore_index=True)\n",
      "C:\\Users\\DELL\\anaconda3\\envs\\ta\\lib\\site-packages\\textattack\\loggers\\csv_logger.py:41: FutureWarning: The frame.append method is deprecated and will be removed from pandas in a future version. Use pandas.concat instead.\n",
      "  self.df = self.df.append(row, ignore_index=True)\n",
      "C:\\Users\\DELL\\anaconda3\\envs\\ta\\lib\\site-packages\\textattack\\loggers\\csv_logger.py:41: FutureWarning: The frame.append method is deprecated and will be removed from pandas in a future version. Use pandas.concat instead.\n",
      "  self.df = self.df.append(row, ignore_index=True)\n",
      "C:\\Users\\DELL\\anaconda3\\envs\\ta\\lib\\site-packages\\textattack\\loggers\\csv_logger.py:41: FutureWarning: The frame.append method is deprecated and will be removed from pandas in a future version. Use pandas.concat instead.\n",
      "  self.df = self.df.append(row, ignore_index=True)\n",
      "C:\\Users\\DELL\\anaconda3\\envs\\ta\\lib\\site-packages\\textattack\\loggers\\csv_logger.py:41: FutureWarning: The frame.append method is deprecated and will be removed from pandas in a future version. Use pandas.concat instead.\n",
      "  self.df = self.df.append(row, ignore_index=True)\n",
      "C:\\Users\\DELL\\anaconda3\\envs\\ta\\lib\\site-packages\\textattack\\loggers\\csv_logger.py:41: FutureWarning: The frame.append method is deprecated and will be removed from pandas in a future version. Use pandas.concat instead.\n",
      "  self.df = self.df.append(row, ignore_index=True)\n",
      "C:\\Users\\DELL\\anaconda3\\envs\\ta\\lib\\site-packages\\textattack\\loggers\\csv_logger.py:41: FutureWarning: The frame.append method is deprecated and will be removed from pandas in a future version. Use pandas.concat instead.\n",
      "  self.df = self.df.append(row, ignore_index=True)\n",
      "C:\\Users\\DELL\\anaconda3\\envs\\ta\\lib\\site-packages\\textattack\\loggers\\csv_logger.py:41: FutureWarning: The frame.append method is deprecated and will be removed from pandas in a future version. Use pandas.concat instead.\n",
      "  self.df = self.df.append(row, ignore_index=True)\n",
      "C:\\Users\\DELL\\anaconda3\\envs\\ta\\lib\\site-packages\\textattack\\loggers\\csv_logger.py:41: FutureWarning: The frame.append method is deprecated and will be removed from pandas in a future version. Use pandas.concat instead.\n",
      "  self.df = self.df.append(row, ignore_index=True)\n",
      "C:\\Users\\DELL\\anaconda3\\envs\\ta\\lib\\site-packages\\textattack\\loggers\\csv_logger.py:41: FutureWarning: The frame.append method is deprecated and will be removed from pandas in a future version. Use pandas.concat instead.\n",
      "  self.df = self.df.append(row, ignore_index=True)\n",
      "C:\\Users\\DELL\\anaconda3\\envs\\ta\\lib\\site-packages\\textattack\\loggers\\csv_logger.py:41: FutureWarning: The frame.append method is deprecated and will be removed from pandas in a future version. Use pandas.concat instead.\n",
      "  self.df = self.df.append(row, ignore_index=True)\n",
      "C:\\Users\\DELL\\anaconda3\\envs\\ta\\lib\\site-packages\\textattack\\loggers\\csv_logger.py:41: FutureWarning: The frame.append method is deprecated and will be removed from pandas in a future version. Use pandas.concat instead.\n",
      "  self.df = self.df.append(row, ignore_index=True)\n",
      "C:\\Users\\DELL\\anaconda3\\envs\\ta\\lib\\site-packages\\textattack\\loggers\\csv_logger.py:41: FutureWarning: The frame.append method is deprecated and will be removed from pandas in a future version. Use pandas.concat instead.\n",
      "  self.df = self.df.append(row, ignore_index=True)\n",
      "C:\\Users\\DELL\\anaconda3\\envs\\ta\\lib\\site-packages\\textattack\\loggers\\csv_logger.py:41: FutureWarning: The frame.append method is deprecated and will be removed from pandas in a future version. Use pandas.concat instead.\n",
      "  self.df = self.df.append(row, ignore_index=True)\n",
      "C:\\Users\\DELL\\anaconda3\\envs\\ta\\lib\\site-packages\\textattack\\loggers\\csv_logger.py:41: FutureWarning: The frame.append method is deprecated and will be removed from pandas in a future version. Use pandas.concat instead.\n",
      "  self.df = self.df.append(row, ignore_index=True)\n",
      "C:\\Users\\DELL\\anaconda3\\envs\\ta\\lib\\site-packages\\textattack\\loggers\\csv_logger.py:41: FutureWarning: The frame.append method is deprecated and will be removed from pandas in a future version. Use pandas.concat instead.\n",
      "  self.df = self.df.append(row, ignore_index=True)\n",
      "C:\\Users\\DELL\\anaconda3\\envs\\ta\\lib\\site-packages\\textattack\\loggers\\csv_logger.py:41: FutureWarning: The frame.append method is deprecated and will be removed from pandas in a future version. Use pandas.concat instead.\n",
      "  self.df = self.df.append(row, ignore_index=True)\n",
      "C:\\Users\\DELL\\anaconda3\\envs\\ta\\lib\\site-packages\\textattack\\loggers\\csv_logger.py:41: FutureWarning: The frame.append method is deprecated and will be removed from pandas in a future version. Use pandas.concat instead.\n",
      "  self.df = self.df.append(row, ignore_index=True)\n",
      "C:\\Users\\DELL\\anaconda3\\envs\\ta\\lib\\site-packages\\textattack\\loggers\\csv_logger.py:41: FutureWarning: The frame.append method is deprecated and will be removed from pandas in a future version. Use pandas.concat instead.\n",
      "  self.df = self.df.append(row, ignore_index=True)\n",
      "C:\\Users\\DELL\\anaconda3\\envs\\ta\\lib\\site-packages\\textattack\\loggers\\csv_logger.py:41: FutureWarning: The frame.append method is deprecated and will be removed from pandas in a future version. Use pandas.concat instead.\n",
      "  self.df = self.df.append(row, ignore_index=True)\n",
      "C:\\Users\\DELL\\anaconda3\\envs\\ta\\lib\\site-packages\\textattack\\loggers\\csv_logger.py:41: FutureWarning: The frame.append method is deprecated and will be removed from pandas in a future version. Use pandas.concat instead.\n",
      "  self.df = self.df.append(row, ignore_index=True)\n",
      "C:\\Users\\DELL\\anaconda3\\envs\\ta\\lib\\site-packages\\textattack\\loggers\\csv_logger.py:41: FutureWarning: The frame.append method is deprecated and will be removed from pandas in a future version. Use pandas.concat instead.\n",
      "  self.df = self.df.append(row, ignore_index=True)\n",
      "C:\\Users\\DELL\\anaconda3\\envs\\ta\\lib\\site-packages\\textattack\\loggers\\csv_logger.py:41: FutureWarning: The frame.append method is deprecated and will be removed from pandas in a future version. Use pandas.concat instead.\n",
      "  self.df = self.df.append(row, ignore_index=True)\n",
      "C:\\Users\\DELL\\anaconda3\\envs\\ta\\lib\\site-packages\\textattack\\loggers\\csv_logger.py:41: FutureWarning: The frame.append method is deprecated and will be removed from pandas in a future version. Use pandas.concat instead.\n",
      "  self.df = self.df.append(row, ignore_index=True)\n",
      "C:\\Users\\DELL\\anaconda3\\envs\\ta\\lib\\site-packages\\textattack\\loggers\\csv_logger.py:41: FutureWarning: The frame.append method is deprecated and will be removed from pandas in a future version. Use pandas.concat instead.\n",
      "  self.df = self.df.append(row, ignore_index=True)\n",
      "C:\\Users\\DELL\\anaconda3\\envs\\ta\\lib\\site-packages\\textattack\\loggers\\csv_logger.py:41: FutureWarning: The frame.append method is deprecated and will be removed from pandas in a future version. Use pandas.concat instead.\n",
      "  self.df = self.df.append(row, ignore_index=True)\n",
      "C:\\Users\\DELL\\anaconda3\\envs\\ta\\lib\\site-packages\\textattack\\loggers\\csv_logger.py:41: FutureWarning: The frame.append method is deprecated and will be removed from pandas in a future version. Use pandas.concat instead.\n",
      "  self.df = self.df.append(row, ignore_index=True)\n",
      "C:\\Users\\DELL\\anaconda3\\envs\\ta\\lib\\site-packages\\textattack\\loggers\\csv_logger.py:41: FutureWarning: The frame.append method is deprecated and will be removed from pandas in a future version. Use pandas.concat instead.\n",
      "  self.df = self.df.append(row, ignore_index=True)\n",
      "C:\\Users\\DELL\\anaconda3\\envs\\ta\\lib\\site-packages\\textattack\\loggers\\csv_logger.py:41: FutureWarning: The frame.append method is deprecated and will be removed from pandas in a future version. Use pandas.concat instead.\n",
      "  self.df = self.df.append(row, ignore_index=True)\n",
      "C:\\Users\\DELL\\anaconda3\\envs\\ta\\lib\\site-packages\\textattack\\loggers\\csv_logger.py:41: FutureWarning: The frame.append method is deprecated and will be removed from pandas in a future version. Use pandas.concat instead.\n",
      "  self.df = self.df.append(row, ignore_index=True)\n",
      "C:\\Users\\DELL\\anaconda3\\envs\\ta\\lib\\site-packages\\textattack\\loggers\\csv_logger.py:41: FutureWarning: The frame.append method is deprecated and will be removed from pandas in a future version. Use pandas.concat instead.\n",
      "  self.df = self.df.append(row, ignore_index=True)\n",
      "C:\\Users\\DELL\\anaconda3\\envs\\ta\\lib\\site-packages\\textattack\\loggers\\csv_logger.py:41: FutureWarning: The frame.append method is deprecated and will be removed from pandas in a future version. Use pandas.concat instead.\n",
      "  self.df = self.df.append(row, ignore_index=True)\n",
      "C:\\Users\\DELL\\anaconda3\\envs\\ta\\lib\\site-packages\\textattack\\loggers\\csv_logger.py:41: FutureWarning: The frame.append method is deprecated and will be removed from pandas in a future version. Use pandas.concat instead.\n",
      "  self.df = self.df.append(row, ignore_index=True)\n",
      "C:\\Users\\DELL\\anaconda3\\envs\\ta\\lib\\site-packages\\textattack\\loggers\\csv_logger.py:41: FutureWarning: The frame.append method is deprecated and will be removed from pandas in a future version. Use pandas.concat instead.\n",
      "  self.df = self.df.append(row, ignore_index=True)\n",
      "C:\\Users\\DELL\\anaconda3\\envs\\ta\\lib\\site-packages\\textattack\\loggers\\csv_logger.py:41: FutureWarning: The frame.append method is deprecated and will be removed from pandas in a future version. Use pandas.concat instead.\n",
      "  self.df = self.df.append(row, ignore_index=True)\n",
      "C:\\Users\\DELL\\anaconda3\\envs\\ta\\lib\\site-packages\\textattack\\loggers\\csv_logger.py:41: FutureWarning: The frame.append method is deprecated and will be removed from pandas in a future version. Use pandas.concat instead.\n",
      "  self.df = self.df.append(row, ignore_index=True)\n",
      "C:\\Users\\DELL\\anaconda3\\envs\\ta\\lib\\site-packages\\textattack\\loggers\\csv_logger.py:41: FutureWarning: The frame.append method is deprecated and will be removed from pandas in a future version. Use pandas.concat instead.\n",
      "  self.df = self.df.append(row, ignore_index=True)\n",
      "C:\\Users\\DELL\\anaconda3\\envs\\ta\\lib\\site-packages\\textattack\\loggers\\csv_logger.py:41: FutureWarning: The frame.append method is deprecated and will be removed from pandas in a future version. Use pandas.concat instead.\n",
      "  self.df = self.df.append(row, ignore_index=True)\n",
      "C:\\Users\\DELL\\anaconda3\\envs\\ta\\lib\\site-packages\\textattack\\loggers\\csv_logger.py:41: FutureWarning: The frame.append method is deprecated and will be removed from pandas in a future version. Use pandas.concat instead.\n",
      "  self.df = self.df.append(row, ignore_index=True)\n"
     ]
    },
    {
     "name": "stderr",
     "output_type": "stream",
     "text": [
      "C:\\Users\\DELL\\anaconda3\\envs\\ta\\lib\\site-packages\\textattack\\loggers\\csv_logger.py:41: FutureWarning: The frame.append method is deprecated and will be removed from pandas in a future version. Use pandas.concat instead.\n",
      "  self.df = self.df.append(row, ignore_index=True)\n",
      "C:\\Users\\DELL\\anaconda3\\envs\\ta\\lib\\site-packages\\textattack\\loggers\\csv_logger.py:41: FutureWarning: The frame.append method is deprecated and will be removed from pandas in a future version. Use pandas.concat instead.\n",
      "  self.df = self.df.append(row, ignore_index=True)\n",
      "C:\\Users\\DELL\\anaconda3\\envs\\ta\\lib\\site-packages\\textattack\\loggers\\csv_logger.py:41: FutureWarning: The frame.append method is deprecated and will be removed from pandas in a future version. Use pandas.concat instead.\n",
      "  self.df = self.df.append(row, ignore_index=True)\n",
      "C:\\Users\\DELL\\anaconda3\\envs\\ta\\lib\\site-packages\\textattack\\loggers\\csv_logger.py:41: FutureWarning: The frame.append method is deprecated and will be removed from pandas in a future version. Use pandas.concat instead.\n",
      "  self.df = self.df.append(row, ignore_index=True)\n",
      "C:\\Users\\DELL\\anaconda3\\envs\\ta\\lib\\site-packages\\textattack\\loggers\\csv_logger.py:41: FutureWarning: The frame.append method is deprecated and will be removed from pandas in a future version. Use pandas.concat instead.\n",
      "  self.df = self.df.append(row, ignore_index=True)\n",
      "C:\\Users\\DELL\\anaconda3\\envs\\ta\\lib\\site-packages\\textattack\\loggers\\csv_logger.py:41: FutureWarning: The frame.append method is deprecated and will be removed from pandas in a future version. Use pandas.concat instead.\n",
      "  self.df = self.df.append(row, ignore_index=True)\n",
      "C:\\Users\\DELL\\anaconda3\\envs\\ta\\lib\\site-packages\\textattack\\loggers\\csv_logger.py:41: FutureWarning: The frame.append method is deprecated and will be removed from pandas in a future version. Use pandas.concat instead.\n",
      "  self.df = self.df.append(row, ignore_index=True)\n",
      "C:\\Users\\DELL\\anaconda3\\envs\\ta\\lib\\site-packages\\textattack\\loggers\\csv_logger.py:41: FutureWarning: The frame.append method is deprecated and will be removed from pandas in a future version. Use pandas.concat instead.\n",
      "  self.df = self.df.append(row, ignore_index=True)\n",
      "C:\\Users\\DELL\\anaconda3\\envs\\ta\\lib\\site-packages\\textattack\\loggers\\csv_logger.py:41: FutureWarning: The frame.append method is deprecated and will be removed from pandas in a future version. Use pandas.concat instead.\n",
      "  self.df = self.df.append(row, ignore_index=True)\n",
      "C:\\Users\\DELL\\anaconda3\\envs\\ta\\lib\\site-packages\\textattack\\loggers\\csv_logger.py:41: FutureWarning: The frame.append method is deprecated and will be removed from pandas in a future version. Use pandas.concat instead.\n",
      "  self.df = self.df.append(row, ignore_index=True)\n",
      "C:\\Users\\DELL\\anaconda3\\envs\\ta\\lib\\site-packages\\textattack\\loggers\\csv_logger.py:41: FutureWarning: The frame.append method is deprecated and will be removed from pandas in a future version. Use pandas.concat instead.\n",
      "  self.df = self.df.append(row, ignore_index=True)\n",
      "C:\\Users\\DELL\\anaconda3\\envs\\ta\\lib\\site-packages\\textattack\\loggers\\csv_logger.py:41: FutureWarning: The frame.append method is deprecated and will be removed from pandas in a future version. Use pandas.concat instead.\n",
      "  self.df = self.df.append(row, ignore_index=True)\n",
      "C:\\Users\\DELL\\anaconda3\\envs\\ta\\lib\\site-packages\\textattack\\loggers\\csv_logger.py:41: FutureWarning: The frame.append method is deprecated and will be removed from pandas in a future version. Use pandas.concat instead.\n",
      "  self.df = self.df.append(row, ignore_index=True)\n",
      "C:\\Users\\DELL\\anaconda3\\envs\\ta\\lib\\site-packages\\textattack\\loggers\\csv_logger.py:41: FutureWarning: The frame.append method is deprecated and will be removed from pandas in a future version. Use pandas.concat instead.\n",
      "  self.df = self.df.append(row, ignore_index=True)\n",
      "C:\\Users\\DELL\\anaconda3\\envs\\ta\\lib\\site-packages\\textattack\\loggers\\csv_logger.py:41: FutureWarning: The frame.append method is deprecated and will be removed from pandas in a future version. Use pandas.concat instead.\n",
      "  self.df = self.df.append(row, ignore_index=True)\n",
      "C:\\Users\\DELL\\anaconda3\\envs\\ta\\lib\\site-packages\\textattack\\loggers\\csv_logger.py:41: FutureWarning: The frame.append method is deprecated and will be removed from pandas in a future version. Use pandas.concat instead.\n",
      "  self.df = self.df.append(row, ignore_index=True)\n",
      "C:\\Users\\DELL\\anaconda3\\envs\\ta\\lib\\site-packages\\textattack\\loggers\\csv_logger.py:41: FutureWarning: The frame.append method is deprecated and will be removed from pandas in a future version. Use pandas.concat instead.\n",
      "  self.df = self.df.append(row, ignore_index=True)\n",
      "C:\\Users\\DELL\\anaconda3\\envs\\ta\\lib\\site-packages\\textattack\\loggers\\csv_logger.py:41: FutureWarning: The frame.append method is deprecated and will be removed from pandas in a future version. Use pandas.concat instead.\n",
      "  self.df = self.df.append(row, ignore_index=True)\n",
      "C:\\Users\\DELL\\anaconda3\\envs\\ta\\lib\\site-packages\\textattack\\loggers\\csv_logger.py:41: FutureWarning: The frame.append method is deprecated and will be removed from pandas in a future version. Use pandas.concat instead.\n",
      "  self.df = self.df.append(row, ignore_index=True)\n",
      "C:\\Users\\DELL\\anaconda3\\envs\\ta\\lib\\site-packages\\textattack\\loggers\\csv_logger.py:41: FutureWarning: The frame.append method is deprecated and will be removed from pandas in a future version. Use pandas.concat instead.\n",
      "  self.df = self.df.append(row, ignore_index=True)\n",
      "C:\\Users\\DELL\\anaconda3\\envs\\ta\\lib\\site-packages\\textattack\\loggers\\csv_logger.py:41: FutureWarning: The frame.append method is deprecated and will be removed from pandas in a future version. Use pandas.concat instead.\n",
      "  self.df = self.df.append(row, ignore_index=True)\n",
      "C:\\Users\\DELL\\anaconda3\\envs\\ta\\lib\\site-packages\\textattack\\loggers\\csv_logger.py:41: FutureWarning: The frame.append method is deprecated and will be removed from pandas in a future version. Use pandas.concat instead.\n",
      "  self.df = self.df.append(row, ignore_index=True)\n",
      "C:\\Users\\DELL\\anaconda3\\envs\\ta\\lib\\site-packages\\textattack\\loggers\\csv_logger.py:41: FutureWarning: The frame.append method is deprecated and will be removed from pandas in a future version. Use pandas.concat instead.\n",
      "  self.df = self.df.append(row, ignore_index=True)\n",
      "C:\\Users\\DELL\\anaconda3\\envs\\ta\\lib\\site-packages\\textattack\\loggers\\csv_logger.py:41: FutureWarning: The frame.append method is deprecated and will be removed from pandas in a future version. Use pandas.concat instead.\n",
      "  self.df = self.df.append(row, ignore_index=True)\n",
      "C:\\Users\\DELL\\anaconda3\\envs\\ta\\lib\\site-packages\\textattack\\loggers\\csv_logger.py:41: FutureWarning: The frame.append method is deprecated and will be removed from pandas in a future version. Use pandas.concat instead.\n",
      "  self.df = self.df.append(row, ignore_index=True)\n",
      "C:\\Users\\DELL\\anaconda3\\envs\\ta\\lib\\site-packages\\textattack\\loggers\\csv_logger.py:41: FutureWarning: The frame.append method is deprecated and will be removed from pandas in a future version. Use pandas.concat instead.\n",
      "  self.df = self.df.append(row, ignore_index=True)\n",
      "C:\\Users\\DELL\\anaconda3\\envs\\ta\\lib\\site-packages\\textattack\\loggers\\csv_logger.py:41: FutureWarning: The frame.append method is deprecated and will be removed from pandas in a future version. Use pandas.concat instead.\n",
      "  self.df = self.df.append(row, ignore_index=True)\n",
      "C:\\Users\\DELL\\anaconda3\\envs\\ta\\lib\\site-packages\\textattack\\loggers\\csv_logger.py:41: FutureWarning: The frame.append method is deprecated and will be removed from pandas in a future version. Use pandas.concat instead.\n",
      "  self.df = self.df.append(row, ignore_index=True)\n",
      "C:\\Users\\DELL\\anaconda3\\envs\\ta\\lib\\site-packages\\textattack\\loggers\\csv_logger.py:41: FutureWarning: The frame.append method is deprecated and will be removed from pandas in a future version. Use pandas.concat instead.\n",
      "  self.df = self.df.append(row, ignore_index=True)\n",
      "C:\\Users\\DELL\\anaconda3\\envs\\ta\\lib\\site-packages\\textattack\\loggers\\csv_logger.py:41: FutureWarning: The frame.append method is deprecated and will be removed from pandas in a future version. Use pandas.concat instead.\n",
      "  self.df = self.df.append(row, ignore_index=True)\n",
      "C:\\Users\\DELL\\anaconda3\\envs\\ta\\lib\\site-packages\\textattack\\loggers\\csv_logger.py:41: FutureWarning: The frame.append method is deprecated and will be removed from pandas in a future version. Use pandas.concat instead.\n",
      "  self.df = self.df.append(row, ignore_index=True)\n"
     ]
    },
    {
     "name": "stderr",
     "output_type": "stream",
     "text": [
      "C:\\Users\\DELL\\anaconda3\\envs\\ta\\lib\\site-packages\\textattack\\loggers\\csv_logger.py:41: FutureWarning: The frame.append method is deprecated and will be removed from pandas in a future version. Use pandas.concat instead.\n",
      "  self.df = self.df.append(row, ignore_index=True)\n",
      "C:\\Users\\DELL\\anaconda3\\envs\\ta\\lib\\site-packages\\textattack\\loggers\\csv_logger.py:41: FutureWarning: The frame.append method is deprecated and will be removed from pandas in a future version. Use pandas.concat instead.\n",
      "  self.df = self.df.append(row, ignore_index=True)\n",
      "C:\\Users\\DELL\\anaconda3\\envs\\ta\\lib\\site-packages\\textattack\\loggers\\csv_logger.py:41: FutureWarning: The frame.append method is deprecated and will be removed from pandas in a future version. Use pandas.concat instead.\n",
      "  self.df = self.df.append(row, ignore_index=True)\n",
      "C:\\Users\\DELL\\anaconda3\\envs\\ta\\lib\\site-packages\\textattack\\loggers\\csv_logger.py:41: FutureWarning: The frame.append method is deprecated and will be removed from pandas in a future version. Use pandas.concat instead.\n",
      "  self.df = self.df.append(row, ignore_index=True)\n",
      "C:\\Users\\DELL\\anaconda3\\envs\\ta\\lib\\site-packages\\textattack\\loggers\\csv_logger.py:41: FutureWarning: The frame.append method is deprecated and will be removed from pandas in a future version. Use pandas.concat instead.\n",
      "  self.df = self.df.append(row, ignore_index=True)\n",
      "C:\\Users\\DELL\\anaconda3\\envs\\ta\\lib\\site-packages\\textattack\\loggers\\csv_logger.py:41: FutureWarning: The frame.append method is deprecated and will be removed from pandas in a future version. Use pandas.concat instead.\n",
      "  self.df = self.df.append(row, ignore_index=True)\n",
      "C:\\Users\\DELL\\anaconda3\\envs\\ta\\lib\\site-packages\\textattack\\loggers\\csv_logger.py:41: FutureWarning: The frame.append method is deprecated and will be removed from pandas in a future version. Use pandas.concat instead.\n",
      "  self.df = self.df.append(row, ignore_index=True)\n",
      "C:\\Users\\DELL\\anaconda3\\envs\\ta\\lib\\site-packages\\textattack\\loggers\\csv_logger.py:41: FutureWarning: The frame.append method is deprecated and will be removed from pandas in a future version. Use pandas.concat instead.\n",
      "  self.df = self.df.append(row, ignore_index=True)\n",
      "C:\\Users\\DELL\\anaconda3\\envs\\ta\\lib\\site-packages\\textattack\\loggers\\csv_logger.py:41: FutureWarning: The frame.append method is deprecated and will be removed from pandas in a future version. Use pandas.concat instead.\n",
      "  self.df = self.df.append(row, ignore_index=True)\n",
      "C:\\Users\\DELL\\anaconda3\\envs\\ta\\lib\\site-packages\\textattack\\loggers\\csv_logger.py:41: FutureWarning: The frame.append method is deprecated and will be removed from pandas in a future version. Use pandas.concat instead.\n",
      "  self.df = self.df.append(row, ignore_index=True)\n",
      "C:\\Users\\DELL\\anaconda3\\envs\\ta\\lib\\site-packages\\textattack\\loggers\\csv_logger.py:41: FutureWarning: The frame.append method is deprecated and will be removed from pandas in a future version. Use pandas.concat instead.\n",
      "  self.df = self.df.append(row, ignore_index=True)\n",
      "C:\\Users\\DELL\\anaconda3\\envs\\ta\\lib\\site-packages\\textattack\\loggers\\csv_logger.py:41: FutureWarning: The frame.append method is deprecated and will be removed from pandas in a future version. Use pandas.concat instead.\n",
      "  self.df = self.df.append(row, ignore_index=True)\n",
      "C:\\Users\\DELL\\anaconda3\\envs\\ta\\lib\\site-packages\\textattack\\loggers\\csv_logger.py:41: FutureWarning: The frame.append method is deprecated and will be removed from pandas in a future version. Use pandas.concat instead.\n",
      "  self.df = self.df.append(row, ignore_index=True)\n",
      "C:\\Users\\DELL\\anaconda3\\envs\\ta\\lib\\site-packages\\textattack\\loggers\\csv_logger.py:41: FutureWarning: The frame.append method is deprecated and will be removed from pandas in a future version. Use pandas.concat instead.\n",
      "  self.df = self.df.append(row, ignore_index=True)\n",
      "C:\\Users\\DELL\\anaconda3\\envs\\ta\\lib\\site-packages\\textattack\\loggers\\csv_logger.py:41: FutureWarning: The frame.append method is deprecated and will be removed from pandas in a future version. Use pandas.concat instead.\n",
      "  self.df = self.df.append(row, ignore_index=True)\n",
      "C:\\Users\\DELL\\anaconda3\\envs\\ta\\lib\\site-packages\\textattack\\loggers\\csv_logger.py:41: FutureWarning: The frame.append method is deprecated and will be removed from pandas in a future version. Use pandas.concat instead.\n",
      "  self.df = self.df.append(row, ignore_index=True)\n",
      "C:\\Users\\DELL\\anaconda3\\envs\\ta\\lib\\site-packages\\textattack\\loggers\\csv_logger.py:41: FutureWarning: The frame.append method is deprecated and will be removed from pandas in a future version. Use pandas.concat instead.\n",
      "  self.df = self.df.append(row, ignore_index=True)\n",
      "C:\\Users\\DELL\\anaconda3\\envs\\ta\\lib\\site-packages\\textattack\\loggers\\csv_logger.py:41: FutureWarning: The frame.append method is deprecated and will be removed from pandas in a future version. Use pandas.concat instead.\n",
      "  self.df = self.df.append(row, ignore_index=True)\n",
      "C:\\Users\\DELL\\anaconda3\\envs\\ta\\lib\\site-packages\\textattack\\loggers\\csv_logger.py:41: FutureWarning: The frame.append method is deprecated and will be removed from pandas in a future version. Use pandas.concat instead.\n",
      "  self.df = self.df.append(row, ignore_index=True)\n",
      "C:\\Users\\DELL\\anaconda3\\envs\\ta\\lib\\site-packages\\textattack\\loggers\\csv_logger.py:41: FutureWarning: The frame.append method is deprecated and will be removed from pandas in a future version. Use pandas.concat instead.\n",
      "  self.df = self.df.append(row, ignore_index=True)\n",
      "C:\\Users\\DELL\\anaconda3\\envs\\ta\\lib\\site-packages\\textattack\\loggers\\csv_logger.py:41: FutureWarning: The frame.append method is deprecated and will be removed from pandas in a future version. Use pandas.concat instead.\n",
      "  self.df = self.df.append(row, ignore_index=True)\n",
      "C:\\Users\\DELL\\anaconda3\\envs\\ta\\lib\\site-packages\\textattack\\loggers\\csv_logger.py:41: FutureWarning: The frame.append method is deprecated and will be removed from pandas in a future version. Use pandas.concat instead.\n",
      "  self.df = self.df.append(row, ignore_index=True)\n",
      "C:\\Users\\DELL\\anaconda3\\envs\\ta\\lib\\site-packages\\textattack\\loggers\\csv_logger.py:41: FutureWarning: The frame.append method is deprecated and will be removed from pandas in a future version. Use pandas.concat instead.\n",
      "  self.df = self.df.append(row, ignore_index=True)\n",
      "C:\\Users\\DELL\\anaconda3\\envs\\ta\\lib\\site-packages\\textattack\\loggers\\csv_logger.py:41: FutureWarning: The frame.append method is deprecated and will be removed from pandas in a future version. Use pandas.concat instead.\n",
      "  self.df = self.df.append(row, ignore_index=True)\n",
      "C:\\Users\\DELL\\anaconda3\\envs\\ta\\lib\\site-packages\\textattack\\loggers\\csv_logger.py:41: FutureWarning: The frame.append method is deprecated and will be removed from pandas in a future version. Use pandas.concat instead.\n",
      "  self.df = self.df.append(row, ignore_index=True)\n",
      "C:\\Users\\DELL\\anaconda3\\envs\\ta\\lib\\site-packages\\textattack\\loggers\\csv_logger.py:41: FutureWarning: The frame.append method is deprecated and will be removed from pandas in a future version. Use pandas.concat instead.\n",
      "  self.df = self.df.append(row, ignore_index=True)\n",
      "C:\\Users\\DELL\\anaconda3\\envs\\ta\\lib\\site-packages\\textattack\\loggers\\csv_logger.py:41: FutureWarning: The frame.append method is deprecated and will be removed from pandas in a future version. Use pandas.concat instead.\n",
      "  self.df = self.df.append(row, ignore_index=True)\n",
      "C:\\Users\\DELL\\anaconda3\\envs\\ta\\lib\\site-packages\\textattack\\loggers\\csv_logger.py:41: FutureWarning: The frame.append method is deprecated and will be removed from pandas in a future version. Use pandas.concat instead.\n",
      "  self.df = self.df.append(row, ignore_index=True)\n",
      "C:\\Users\\DELL\\anaconda3\\envs\\ta\\lib\\site-packages\\textattack\\loggers\\csv_logger.py:41: FutureWarning: The frame.append method is deprecated and will be removed from pandas in a future version. Use pandas.concat instead.\n",
      "  self.df = self.df.append(row, ignore_index=True)\n",
      "C:\\Users\\DELL\\anaconda3\\envs\\ta\\lib\\site-packages\\textattack\\loggers\\csv_logger.py:41: FutureWarning: The frame.append method is deprecated and will be removed from pandas in a future version. Use pandas.concat instead.\n",
      "  self.df = self.df.append(row, ignore_index=True)\n",
      "C:\\Users\\DELL\\anaconda3\\envs\\ta\\lib\\site-packages\\textattack\\loggers\\csv_logger.py:41: FutureWarning: The frame.append method is deprecated and will be removed from pandas in a future version. Use pandas.concat instead.\n",
      "  self.df = self.df.append(row, ignore_index=True)\n",
      "C:\\Users\\DELL\\anaconda3\\envs\\ta\\lib\\site-packages\\textattack\\loggers\\csv_logger.py:41: FutureWarning: The frame.append method is deprecated and will be removed from pandas in a future version. Use pandas.concat instead.\n",
      "  self.df = self.df.append(row, ignore_index=True)\n",
      "C:\\Users\\DELL\\anaconda3\\envs\\ta\\lib\\site-packages\\textattack\\loggers\\csv_logger.py:41: FutureWarning: The frame.append method is deprecated and will be removed from pandas in a future version. Use pandas.concat instead.\n",
      "  self.df = self.df.append(row, ignore_index=True)\n",
      "C:\\Users\\DELL\\anaconda3\\envs\\ta\\lib\\site-packages\\textattack\\loggers\\csv_logger.py:41: FutureWarning: The frame.append method is deprecated and will be removed from pandas in a future version. Use pandas.concat instead.\n",
      "  self.df = self.df.append(row, ignore_index=True)\n",
      "C:\\Users\\DELL\\anaconda3\\envs\\ta\\lib\\site-packages\\textattack\\loggers\\csv_logger.py:41: FutureWarning: The frame.append method is deprecated and will be removed from pandas in a future version. Use pandas.concat instead.\n",
      "  self.df = self.df.append(row, ignore_index=True)\n",
      "C:\\Users\\DELL\\anaconda3\\envs\\ta\\lib\\site-packages\\textattack\\loggers\\csv_logger.py:41: FutureWarning: The frame.append method is deprecated and will be removed from pandas in a future version. Use pandas.concat instead.\n",
      "  self.df = self.df.append(row, ignore_index=True)\n",
      "C:\\Users\\DELL\\anaconda3\\envs\\ta\\lib\\site-packages\\textattack\\loggers\\csv_logger.py:41: FutureWarning: The frame.append method is deprecated and will be removed from pandas in a future version. Use pandas.concat instead.\n",
      "  self.df = self.df.append(row, ignore_index=True)\n",
      "C:\\Users\\DELL\\anaconda3\\envs\\ta\\lib\\site-packages\\textattack\\loggers\\csv_logger.py:41: FutureWarning: The frame.append method is deprecated and will be removed from pandas in a future version. Use pandas.concat instead.\n",
      "  self.df = self.df.append(row, ignore_index=True)\n",
      "C:\\Users\\DELL\\anaconda3\\envs\\ta\\lib\\site-packages\\textattack\\loggers\\csv_logger.py:41: FutureWarning: The frame.append method is deprecated and will be removed from pandas in a future version. Use pandas.concat instead.\n",
      "  self.df = self.df.append(row, ignore_index=True)\n"
     ]
    },
    {
     "name": "stderr",
     "output_type": "stream",
     "text": [
      "C:\\Users\\DELL\\anaconda3\\envs\\ta\\lib\\site-packages\\textattack\\loggers\\csv_logger.py:41: FutureWarning: The frame.append method is deprecated and will be removed from pandas in a future version. Use pandas.concat instead.\n",
      "  self.df = self.df.append(row, ignore_index=True)\n",
      "C:\\Users\\DELL\\anaconda3\\envs\\ta\\lib\\site-packages\\textattack\\loggers\\csv_logger.py:41: FutureWarning: The frame.append method is deprecated and will be removed from pandas in a future version. Use pandas.concat instead.\n",
      "  self.df = self.df.append(row, ignore_index=True)\n",
      "C:\\Users\\DELL\\anaconda3\\envs\\ta\\lib\\site-packages\\textattack\\loggers\\csv_logger.py:41: FutureWarning: The frame.append method is deprecated and will be removed from pandas in a future version. Use pandas.concat instead.\n",
      "  self.df = self.df.append(row, ignore_index=True)\n",
      "C:\\Users\\DELL\\anaconda3\\envs\\ta\\lib\\site-packages\\textattack\\loggers\\csv_logger.py:41: FutureWarning: The frame.append method is deprecated and will be removed from pandas in a future version. Use pandas.concat instead.\n",
      "  self.df = self.df.append(row, ignore_index=True)\n",
      "C:\\Users\\DELL\\anaconda3\\envs\\ta\\lib\\site-packages\\textattack\\loggers\\csv_logger.py:41: FutureWarning: The frame.append method is deprecated and will be removed from pandas in a future version. Use pandas.concat instead.\n",
      "  self.df = self.df.append(row, ignore_index=True)\n",
      "C:\\Users\\DELL\\anaconda3\\envs\\ta\\lib\\site-packages\\textattack\\loggers\\csv_logger.py:41: FutureWarning: The frame.append method is deprecated and will be removed from pandas in a future version. Use pandas.concat instead.\n",
      "  self.df = self.df.append(row, ignore_index=True)\n",
      "C:\\Users\\DELL\\anaconda3\\envs\\ta\\lib\\site-packages\\textattack\\loggers\\csv_logger.py:41: FutureWarning: The frame.append method is deprecated and will be removed from pandas in a future version. Use pandas.concat instead.\n",
      "  self.df = self.df.append(row, ignore_index=True)\n",
      "C:\\Users\\DELL\\anaconda3\\envs\\ta\\lib\\site-packages\\textattack\\loggers\\csv_logger.py:41: FutureWarning: The frame.append method is deprecated and will be removed from pandas in a future version. Use pandas.concat instead.\n",
      "  self.df = self.df.append(row, ignore_index=True)\n",
      "C:\\Users\\DELL\\anaconda3\\envs\\ta\\lib\\site-packages\\textattack\\loggers\\csv_logger.py:41: FutureWarning: The frame.append method is deprecated and will be removed from pandas in a future version. Use pandas.concat instead.\n",
      "  self.df = self.df.append(row, ignore_index=True)\n",
      "C:\\Users\\DELL\\anaconda3\\envs\\ta\\lib\\site-packages\\textattack\\loggers\\csv_logger.py:41: FutureWarning: The frame.append method is deprecated and will be removed from pandas in a future version. Use pandas.concat instead.\n",
      "  self.df = self.df.append(row, ignore_index=True)\n",
      "C:\\Users\\DELL\\anaconda3\\envs\\ta\\lib\\site-packages\\textattack\\loggers\\csv_logger.py:41: FutureWarning: The frame.append method is deprecated and will be removed from pandas in a future version. Use pandas.concat instead.\n",
      "  self.df = self.df.append(row, ignore_index=True)\n",
      "C:\\Users\\DELL\\anaconda3\\envs\\ta\\lib\\site-packages\\textattack\\loggers\\csv_logger.py:41: FutureWarning: The frame.append method is deprecated and will be removed from pandas in a future version. Use pandas.concat instead.\n",
      "  self.df = self.df.append(row, ignore_index=True)\n",
      "C:\\Users\\DELL\\anaconda3\\envs\\ta\\lib\\site-packages\\textattack\\loggers\\csv_logger.py:41: FutureWarning: The frame.append method is deprecated and will be removed from pandas in a future version. Use pandas.concat instead.\n",
      "  self.df = self.df.append(row, ignore_index=True)\n",
      "C:\\Users\\DELL\\anaconda3\\envs\\ta\\lib\\site-packages\\textattack\\loggers\\csv_logger.py:41: FutureWarning: The frame.append method is deprecated and will be removed from pandas in a future version. Use pandas.concat instead.\n",
      "  self.df = self.df.append(row, ignore_index=True)\n",
      "C:\\Users\\DELL\\anaconda3\\envs\\ta\\lib\\site-packages\\textattack\\loggers\\csv_logger.py:41: FutureWarning: The frame.append method is deprecated and will be removed from pandas in a future version. Use pandas.concat instead.\n",
      "  self.df = self.df.append(row, ignore_index=True)\n",
      "C:\\Users\\DELL\\anaconda3\\envs\\ta\\lib\\site-packages\\textattack\\loggers\\csv_logger.py:41: FutureWarning: The frame.append method is deprecated and will be removed from pandas in a future version. Use pandas.concat instead.\n",
      "  self.df = self.df.append(row, ignore_index=True)\n",
      "C:\\Users\\DELL\\anaconda3\\envs\\ta\\lib\\site-packages\\textattack\\loggers\\csv_logger.py:41: FutureWarning: The frame.append method is deprecated and will be removed from pandas in a future version. Use pandas.concat instead.\n",
      "  self.df = self.df.append(row, ignore_index=True)\n",
      "C:\\Users\\DELL\\anaconda3\\envs\\ta\\lib\\site-packages\\textattack\\loggers\\csv_logger.py:41: FutureWarning: The frame.append method is deprecated and will be removed from pandas in a future version. Use pandas.concat instead.\n",
      "  self.df = self.df.append(row, ignore_index=True)\n",
      "C:\\Users\\DELL\\anaconda3\\envs\\ta\\lib\\site-packages\\textattack\\loggers\\csv_logger.py:41: FutureWarning: The frame.append method is deprecated and will be removed from pandas in a future version. Use pandas.concat instead.\n",
      "  self.df = self.df.append(row, ignore_index=True)\n",
      "C:\\Users\\DELL\\anaconda3\\envs\\ta\\lib\\site-packages\\textattack\\loggers\\csv_logger.py:41: FutureWarning: The frame.append method is deprecated and will be removed from pandas in a future version. Use pandas.concat instead.\n",
      "  self.df = self.df.append(row, ignore_index=True)\n",
      "C:\\Users\\DELL\\anaconda3\\envs\\ta\\lib\\site-packages\\textattack\\loggers\\csv_logger.py:41: FutureWarning: The frame.append method is deprecated and will be removed from pandas in a future version. Use pandas.concat instead.\n",
      "  self.df = self.df.append(row, ignore_index=True)\n",
      "C:\\Users\\DELL\\anaconda3\\envs\\ta\\lib\\site-packages\\textattack\\loggers\\csv_logger.py:41: FutureWarning: The frame.append method is deprecated and will be removed from pandas in a future version. Use pandas.concat instead.\n",
      "  self.df = self.df.append(row, ignore_index=True)\n",
      "C:\\Users\\DELL\\anaconda3\\envs\\ta\\lib\\site-packages\\textattack\\loggers\\csv_logger.py:41: FutureWarning: The frame.append method is deprecated and will be removed from pandas in a future version. Use pandas.concat instead.\n",
      "  self.df = self.df.append(row, ignore_index=True)\n",
      "C:\\Users\\DELL\\anaconda3\\envs\\ta\\lib\\site-packages\\textattack\\loggers\\csv_logger.py:41: FutureWarning: The frame.append method is deprecated and will be removed from pandas in a future version. Use pandas.concat instead.\n",
      "  self.df = self.df.append(row, ignore_index=True)\n",
      "C:\\Users\\DELL\\anaconda3\\envs\\ta\\lib\\site-packages\\textattack\\loggers\\csv_logger.py:41: FutureWarning: The frame.append method is deprecated and will be removed from pandas in a future version. Use pandas.concat instead.\n",
      "  self.df = self.df.append(row, ignore_index=True)\n",
      "C:\\Users\\DELL\\anaconda3\\envs\\ta\\lib\\site-packages\\textattack\\loggers\\csv_logger.py:41: FutureWarning: The frame.append method is deprecated and will be removed from pandas in a future version. Use pandas.concat instead.\n",
      "  self.df = self.df.append(row, ignore_index=True)\n",
      "C:\\Users\\DELL\\anaconda3\\envs\\ta\\lib\\site-packages\\textattack\\loggers\\csv_logger.py:41: FutureWarning: The frame.append method is deprecated and will be removed from pandas in a future version. Use pandas.concat instead.\n",
      "  self.df = self.df.append(row, ignore_index=True)\n",
      "C:\\Users\\DELL\\AppData\\Local\\Temp\\ipykernel_15752\\1491129187.py:9: DeprecationWarning: Importing display from IPython.core.display is deprecated since IPython 7.14, please import from IPython display\n",
      "  from IPython.core.display import display, HTML\n"
     ]
    },
    {
     "data": {
      "text/html": [
       "<table border=\"1\" class=\"dataframe\">\n",
       "  <thead>\n",
       "    <tr style=\"text-align: right;\">\n",
       "      <th></th>\n",
       "      <th>original_text</th>\n",
       "      <th>perturbed_text</th>\n",
       "    </tr>\n",
       "  </thead>\n",
       "  <tbody>\n",
       "    <tr>\n",
       "      <th>0</th>\n",
       "      <td>Yeah so basically any <font color = red>time</font> <font color = red>next</font> week you can <font color = red>get</font> <font color = red>away</font> from your <font color = red>mom</font> &<font color = red>amp</font>; <font color = red>get</font> up before <font color = red>3</font></td>\n",
       "      <td>Yeah so basically any <font color = red>meter</font> <font color = red>future</font> week you can <font color = red>arrive</font> <font color = red>aside</font> from your <font color = red>mum</font> &<font color = red>A</font>; <font color = red>puzzle</font> up before <font color = red>triplet</font></td>\n",
       "    </tr>\n",
       "    <tr>\n",
       "      <th>1</th>\n",
       "      <td>Haha... can... <font color = red>But</font> i'm having dinner with my cousin...</td>\n",
       "      <td>Haha... can... <font color = red>just</font> i'm having dinner with my cousin...</td>\n",
       "    </tr>\n",
       "    <tr>\n",
       "      <th>2</th>\n",
       "      <td>How is your <font color = red>schedule</font> <font color = red>next</font> <font color = red>week</font>? <font color = red>I</font> am out of <font color = red>town</font> this weekend.</td>\n",
       "      <td>How is your <font color = red>agenda</font> <font color = red>future</font> <font color = red>workweek</font>? <font color = red>single</font> am out of <font color = red>townsfolk</font> this weekend.</td>\n",
       "    </tr>\n",
       "    <tr>\n",
       "      <th>3</th>\n",
       "      <td><font color = red>Alright</font> i have a new <font color = red>goal</font> now</td>\n",
       "      <td><font color = red>okay</font> i have a new <font color = red>destination</font> now</td>\n",
       "    </tr>\n",
       "    <tr>\n",
       "      <th>4</th>\n",
       "      <td>Check Out Choose Your Babe Videos @ sms.shsex.netUN fgkslpoPW fgkslpo</td>\n",
       "      <td>Check Out Choose Your Babe Videos @ sms.shsex.netUN fgkslpoPW fgkslpo</td>\n",
       "    </tr>\n",
       "    <tr>\n",
       "      <th>5</th>\n",
       "      <td><font color = green>Send</font> a logo <font color = green>2</font> ur <font color = green>lover</font> - 2 <font color = green>names</font> <font color = green>joined</font> by a <font color = green>heart</font>. Txt <font color = green>LOVE</font> NAME1 NAME2 MOBNO eg <font color = green>LOVE</font> <font color = green>ADAM</font> <font color = green>EVE</font> 07123456789 to 87077 <font color = green>Yahoo</font>! POBox36504W45WQ TxtNO <font color = green>4</font> no <font color = green>ads</font> 150p.</td>\n",
       "      <td><font color = green>broadcast</font> a logo <font color = green>II</font> ur <font color = green>fan</font> - 2 <font color = green>gens</font> <font color = green>coupled</font> by a <font color = green>kernel</font>. Txt <font color = green>jazz</font> NAME1 NAME2 MOBNO eg <font color = green>hump</font> <font color = green>XTC</font> <font color = green>even</font> 07123456789 to 87077 <font color = green>bumpkin</font>! POBox36504W45WQ TxtNO <font color = green>IV</font> no <font color = green>ad</font> 150p.</td>\n",
       "    </tr>\n",
       "    <tr>\n",
       "      <th>6</th>\n",
       "      <td><font color = red>Its</font> a <font color = red>site</font> to simulate the <font color = red>test</font>. It just gives you very <font color = red>tough</font> questions to <font color = red>test</font> your <font color = red>readiness</font>.</td>\n",
       "      <td><font color = red>IT</font> a <font color = red>website</font> to simulate the <font color = red>tryout</font>. It just gives you very <font color = red>rugged</font> questions to <font color = red>quiz</font> your <font color = red>set</font>.</td>\n",
       "    </tr>\n",
       "    <tr>\n",
       "      <th>7</th>\n",
       "      <td><font color = red>Sorry</font>, I'll <font color = red>call</font> <font color = red>later</font></td>\n",
       "      <td><font color = red>good-for-nothing</font>, I'll <font color = red>scream</font> <font color = red>after</font></td>\n",
       "    </tr>\n",
       "    <tr>\n",
       "      <th>8</th>\n",
       "      <td>Allo! We have braved the <font color = red>buses</font> and taken on the <font color = red>trains</font> and triumphed. <font color = red>I</font> <font color = red>mean</font> we‘re in <font color = red>b</font>‘<font color = red>ham</font>. <font color = red>Have</font> a <font color = red>jolly</font> <font color = red>good</font> <font color = red>rest</font> of week</td>\n",
       "      <td>Allo! We have braved the <font color = green>double-decker</font> and taken on the <font color = green>geartrain</font> and triumphed. <font color = green>1</font> <font color = green>hateful</font> we‘re in <font color = green>boron</font>‘<font color = green>overplay</font>. <font color = green>feature</font> a <font color = green>josh</font> <font color = green>expert</font> <font color = green>ease</font> of week</td>\n",
       "    </tr>\n",
       "    <tr>\n",
       "      <th>9</th>\n",
       "      <td>Yeah. <font color = red>I</font> <font color = red>got</font> a <font color = red>list</font> with only <font color = red>u</font> and Joanna if I'm feeling <font color = red>really</font> anti social</td>\n",
       "      <td>Yeah. <font color = red>iodine</font> <font color = red>receive</font> a <font color = red>listing</font> with only <font color = red>uranium</font> and Joanna if I'm feeling <font color = red>genuinely</font> anti social</td>\n",
       "    </tr>\n",
       "    <tr>\n",
       "      <th>10</th>\n",
       "      <td><font color = red>Discussed</font> with your <font color = red>mother</font> ah?</td>\n",
       "      <td><font color = red>discourse</font> with your <font color = red>father</font> ah?</td>\n",
       "    </tr>\n",
       "    <tr>\n",
       "      <th>11</th>\n",
       "      <td><font color = green>URGENT</font>! Your <font color = green>mobile</font> No 07xxxxxxxxx won a £2,000 bonus <font color = green>caller</font> <font color = green>prize</font> on 02/06/03! this is the 2nd <font color = green>attempt</font> to <font color = green>reach</font> YOU! <font color = green>call</font> 09066362231 ASAP! BOX97N7QP, 150PPM</td>\n",
       "      <td><font color = green>pressing</font>! Your <font color = green>wandering</font> No 07xxxxxxxxx won a £2,000 bonus <font color = green>company</font> <font color = green>treasure</font> on 02/06/03! this is the 2nd <font color = green>attack</font> to <font color = green>hit</font> YOU! <font color = green>shout</font> 09066362231 ASAP! BOX97N7QP, 150PPM</td>\n",
       "    </tr>\n",
       "    <tr>\n",
       "      <th>12</th>\n",
       "      <td><font color = red>Serious</font>? What <font color = red>like</font> proper <font color = red>tongued</font> her</td>\n",
       "      <td><font color = red>life-threatening</font>? What <font color = red>care</font> proper <font color = red>tongue</font> her</td>\n",
       "    </tr>\n",
       "    <tr>\n",
       "      <th>13</th>\n",
       "      <td><font color = red>Gal</font> <font color = red>n</font> boy <font color = red>walking</font> in d <font color = red>park</font>. gal-can i <font color = red>hold</font> ur <font color = red>hand</font>? boy-y? do <font color = red>u</font> <font color = red>think</font> i would <font color = red>run</font> <font color = red>away</font>? gal-no, jst wana <font color = red>c</font> how it <font color = red>feels</font> walking in <font color = red>heaven</font> with an prince..GN:-)</td>\n",
       "      <td><font color = red>gallon</font> <font color = red>nitrogen</font> boy <font color = red>walk-to</font> in d <font color = red>ballpark</font>. gal-can i <font color = red>handgrip</font> ur <font color = red>script</font>? boy-y? do <font color = red>uranium</font> <font color = red>retrieve</font> i would <font color = red>operate</font> <font color = red>off</font>? gal-no, jst wana <font color = red>100</font> how it <font color = red>flavor</font> walking in <font color = red>paradise</font> with an prince..GN:-)</td>\n",
       "    </tr>\n",
       "    <tr>\n",
       "      <th>14</th>\n",
       "      <td><font color = red>HI</font> HUN! IM <font color = red>NOT</font> COMIN 2NITE-TELL EVERY1 IM <font color = red>SORRY</font> 4 ME, <font color = red>HOPE</font> U AVA GOODTIME!OLI <font color = red>RANG</font> MELNITE IFINK IT <font color = red>MITE</font> B <font color = red>SORTED</font>,<font color = red>BUT</font> IL <font color = red>EXPLAIN</font> EVERYTHIN ON MON.L8RS.<font color = red>x</font></td>\n",
       "      <td><font color = green>hello</font> HUN! IM <font color = green>non</font> COMIN 2NITE-TELL EVERY1 IM <font color = green>good-for-nothing</font> 4 ME, <font color = green>promise</font> U AVA GOODTIME!OLI <font color = green>phone</font> MELNITE IFINK IT <font color = green>touch</font> B <font color = green>screen</font>,<font color = green>simply</font> IL <font color = green>excuse</font> EVERYTHIN ON MON.L8RS.<font color = green>XTC</font></td>\n",
       "    </tr>\n",
       "    <tr>\n",
       "      <th>15</th>\n",
       "      <td><font color = red>Short</font> <font color = red>But</font> Cute : \" <font color = red>Be</font> a <font color = red>good</font> <font color = red>person</font> , but dont <font color = red>try</font> to <font color = red>prove</font>\" ..... Gud mrng...</td>\n",
       "      <td><font color = red>short-circuit</font> <font color = red>simply</font> Cute : \" <font color = red>personify</font> a <font color = red>secure</font> <font color = red>someone</font> , but dont <font color = red>taste</font> to <font color = red>demonstrate</font>\" ..... Gud mrng...</td>\n",
       "    </tr>\n",
       "    <tr>\n",
       "      <th>16</th>\n",
       "      <td><font color = green>Well</font> <font color = green>done</font> ENGLAND! <font color = green>Get</font> the <font color = green>official</font> poly ringtone or colour <font color = green>flag</font> on yer <font color = green>mobile</font>! <font color = green>text</font> <font color = green>TONE</font> or <font color = green>FLAG</font> to 84199 <font color = green>NOW</font>! Opt-out txt ENG <font color = green>STOP</font>. Box39822 W111WX £<font color = green>1</font>.<font color = green>50</font></td>\n",
       "      <td><font color = green>good</font> <font color = green>coif</font> ENGLAND! <font color = green>sire</font> the <font color = green>prescribed</font> poly ringtone or colour <font color = green>masthead</font> on yer <font color = green>wandering</font>! <font color = green>schoolbook</font> <font color = green>timber</font> or <font color = green>pin</font> to 84199 <font color = green>straightaway</font>! Opt-out txt ENG <font color = green>finish</font>. Box39822 W111WX £<font color = green>one</font>.<font color = green>fifty</font></td>\n",
       "    </tr>\n",
       "    <tr>\n",
       "      <th>17</th>\n",
       "      <td>Aight I'll grab something to <font color = red>eat</font> too, text me when you're <font color = red>back</font> at mu</td>\n",
       "      <td>Aight I'll grab something to <font color = red>corrode</font> too, text me when you're <font color = red>gage</font> at mu</td>\n",
       "    </tr>\n",
       "    <tr>\n",
       "      <th>18</th>\n",
       "      <td>K:)k..its <font color = red>good</font>:)when are you <font color = red>going</font>?</td>\n",
       "      <td>K:)k..its <font color = red>estimable</font>:)when are you <font color = red>function</font>?</td>\n",
       "    </tr>\n",
       "    <tr>\n",
       "      <th>19</th>\n",
       "      <td>It <font color = red>took</font> Mr owl <font color = red>3</font> <font color = red>licks</font></td>\n",
       "      <td>It <font color = red>subscribe</font> Mr owl <font color = red>triplet</font> <font color = red>solve</font></td>\n",
       "    </tr>\n",
       "    <tr>\n",
       "      <th>20</th>\n",
       "      <td>A few people are at the game, I'm at the <font color = red>mall</font> with iouri and kaila</td>\n",
       "      <td>A few people are at the game, I'm at the <font color = red>plaza</font> with iouri and kaila</td>\n",
       "    </tr>\n",
       "    <tr>\n",
       "      <th>21</th>\n",
       "      <td>Derp. Which is <font color = red>worse</font>, a dude who <font color = red>always</font> <font color = red>wants</font> to <font color = red>party</font> or a <font color = red>dude</font> who files a complaint about the <font color = red>three</font> <font color = red>drug</font> abusers he <font color = red>lives</font> with</td>\n",
       "      <td>Derp. Which is <font color = red>high-risk</font>, a dude who <font color = red>incessantly</font> <font color = red>wishing</font> to <font color = red>company</font> or a <font color = red>fellow</font> who files a complaint about the <font color = red>3</font> <font color = red>dose</font> abusers he <font color = red>life-time</font> with</td>\n",
       "    </tr>\n",
       "    <tr>\n",
       "      <th>22</th>\n",
       "      <td><font color = red>I</font> want kfc its Tuesday. <font color = red>Only</font> <font color = red>buy</font> 2 meals <font color = red>ONLY</font> 2. No gravy. Only 2 Mark. 2!</td>\n",
       "      <td><font color = green>iodine</font> want kfc its Tuesday. <font color = green>exclusively</font> <font color = green>purchase</font> 2 meals <font color = green>exclusively</font> 2. No gravy. Only 2 Mark. 2!</td>\n",
       "    </tr>\n",
       "    <tr>\n",
       "      <th>23</th>\n",
       "      <td><font color = red>I</font> dont <font color = red>know</font> oh. Hopefully this month.</td>\n",
       "      <td><font color = red>1</font> dont <font color = red>fuck</font> oh. Hopefully this month.</td>\n",
       "    </tr>\n",
       "    <tr>\n",
       "      <th>24</th>\n",
       "      <td><font color = red>Received</font>, <font color = red>understood</font> <font color = red>n</font> <font color = red>acted</font> upon!</td>\n",
       "      <td><font color = red>obtain</font>, <font color = red>infer</font> <font color = red>normality</font> <font color = red>represent</font> upon!</td>\n",
       "    </tr>\n",
       "    <tr>\n",
       "      <th>25</th>\n",
       "      <td>Lol <font color = red>boo</font> <font color = red>I</font> was <font color = red>hoping</font> for a <font color = red>laugh</font></td>\n",
       "      <td>Lol <font color = red>raspberry</font> <font color = red>single</font> was <font color = red>desire</font> for a <font color = red>joke</font></td>\n",
       "    </tr>\n",
       "    <tr>\n",
       "      <th>26</th>\n",
       "      <td>I am not sure about <font color = red>night</font> menu. . . I <font color = red>know</font> only about <font color = red>noon</font> menu</td>\n",
       "      <td>I am not sure about <font color = red>nighttime</font> menu. . . I <font color = red>recognize</font> only about <font color = red>midday</font> menu</td>\n",
       "    </tr>\n",
       "    <tr>\n",
       "      <th>27</th>\n",
       "      <td>Please call our customer <font color = green>service</font> <font color = green>representative</font> on FREEPHONE 0808 145 4742 between 9am-11pm as you have WON a <font color = green>guaranteed</font> £<font color = green>1000</font> cash or £5000 prize!</td>\n",
       "      <td>Please call our customer <font color = green>serve</font> <font color = green>voice</font> on FREEPHONE 0808 145 4742 between 9am-11pm as you have WON a <font color = green>undertake</font> £<font color = green>grand</font> cash or £5000 prize!</td>\n",
       "    </tr>\n",
       "    <tr>\n",
       "      <th>28</th>\n",
       "      <td><font color = red>Not</font> <font color = red>yet</font> had..ya sapna <font color = red>aunty</font> manege y'day hogidhe..chinnu <font color = red>full</font> <font color = red>weak</font> and swalpa <font color = red>black</font> agidhane..</td>\n",
       "      <td><font color = red>non</font> <font color = red>heretofore</font> had..ya sapna <font color = red>aunt</font> manege y'day hogidhe..chinnu <font color = red>total</font> <font color = red>debile</font> and swalpa <font color = red>opprobrious</font> agidhane..</td>\n",
       "    </tr>\n",
       "    <tr>\n",
       "      <th>29</th>\n",
       "      <td><font color = red>Glad</font> it <font color = red>went</font> <font color = red>well</font> :) <font color = red>come</font> over at 11 then we'll have <font color = red>plenty</font> of <font color = red>time</font> before claire <font color = red>goes</font> to <font color = red>work</font>.</td>\n",
       "      <td><font color = red>beaming</font> it <font color = red>expire</font> <font color = red>advantageously</font> :) <font color = red>get</font> over at 11 then we'll have <font color = red>stack</font> of <font color = red>clip</font> before claire <font color = red>XTC</font> to <font color = red>exploit</font>.</td>\n",
       "    </tr>\n",
       "    <tr>\n",
       "      <th>30</th>\n",
       "      <td>Your <font color = red>bill</font> at <font color = red>3</font> is £33.65 so thats not <font color = red>bad</font>!</td>\n",
       "      <td>Your <font color = red>charge</font> at <font color = red>leash</font> is £33.65 so thats not <font color = red>high-risk</font>!</td>\n",
       "    </tr>\n",
       "    <tr>\n",
       "      <th>31</th>\n",
       "      <td>Re your <font color = red>call</font>; You didn't <font color = red>see</font> my facebook huh?</td>\n",
       "      <td>Re your <font color = red>prognosticate</font>; You didn't <font color = red>view</font> my facebook huh?</td>\n",
       "    </tr>\n",
       "    <tr>\n",
       "      <th>32</th>\n",
       "      <td><font color = red>Give</font> <font color = red>one</font> <font color = red>miss</font> from that <font color = red>number</font> please</td>\n",
       "      <td><font color = red>generate</font> <font color = red>matchless</font> <font color = red>overleap</font> from that <font color = red>list</font> please</td>\n",
       "    </tr>\n",
       "    <tr>\n",
       "      <th>33</th>\n",
       "      <td>It's cool, <font color = red>let</font> me <font color = red>know</font> before it kicks off <font color = red>around</font>  &lt;#&gt; , I'll be out and about all day</td>\n",
       "      <td>It's cool, <font color = red>get</font> me <font color = red>live</font> before it kicks off <font color = red>about</font>  &lt;#&gt; , I'll be out and about all day</td>\n",
       "    </tr>\n",
       "    <tr>\n",
       "      <th>34</th>\n",
       "      <td><font color = red>Or</font> <font color = red>I</font> <font color = red>guess</font>  &lt;#&gt;  <font color = red>min</font></td>\n",
       "      <td><font color = red>Oregon</font> <font color = red>iodin</font> <font color = red>venture</font>  &lt;#&gt;  <font color = red>Taiwanese</font></td>\n",
       "    </tr>\n",
       "    <tr>\n",
       "      <th>35</th>\n",
       "      <td>This <font color = red>pen</font> <font color = red>thing</font> is beyond a <font color = red>joke</font>. Wont a <font color = red>Biro</font> do? Don't do a <font color = red>masters</font> as can't do this ever again!</td>\n",
       "      <td>This <font color = red>penitentiary</font> <font color = red>affair</font> is beyond a <font color = red>prank</font>. Wont a <font color = red>ballpoint</font> do? Don't do a <font color = red>professional</font> as can't do this ever again!</td>\n",
       "    </tr>\n",
       "    <tr>\n",
       "      <th>36</th>\n",
       "      <td>NEFT Transaction with <font color = red>reference</font> <font color = red>number</font>  &lt;#&gt;  for <font color = red>Rs</font>. &lt;<font color = red>DECIMAL</font>&gt;  has been credited to the beneficiary <font color = red>account</font> on  &lt;#&gt;  at  &lt;<font color = red>TIME</font>&gt; : &lt;#&gt;</td>\n",
       "      <td>NEFT Transaction with <font color = red>acknowledgment</font> <font color = red>figure</font>  &lt;#&gt;  for <font color = red>radius</font>. &lt;<font color = red>denary</font>&gt;  has been credited to the beneficiary <font color = red>chronicle</font> on  &lt;#&gt;  at  &lt;<font color = red>metre</font>&gt; : &lt;#&gt;</td>\n",
       "    </tr>\n",
       "    <tr>\n",
       "      <th>37</th>\n",
       "      <td><font color = green>Adult</font> 18 Content Your video will be with you shortly</td>\n",
       "      <td><font color = red>grown</font> 18 Content Your video will be with you shortly</td>\n",
       "    </tr>\n",
       "    <tr>\n",
       "      <th>38</th>\n",
       "      <td>Ya tel, wats ur <font color = red>problem</font>..</td>\n",
       "      <td>Ya tel, wats ur <font color = red>job</font>..</td>\n",
       "    </tr>\n",
       "    <tr>\n",
       "      <th>39</th>\n",
       "      <td>We are hoping to <font color = red>get</font> <font color = red>away</font> by <font color = red>7</font>, from Langport. You <font color = red>still</font> up for <font color = red>town</font> tonight?</td>\n",
       "      <td>We are hoping to <font color = red>stupefy</font> <font color = red>aside</font> by <font color = red>seven</font>, from Langport. You <font color = red>tranquilize</font> up for <font color = red>townsfolk</font> tonight?</td>\n",
       "    </tr>\n",
       "    <tr>\n",
       "      <th>40</th>\n",
       "      <td><font color = red>I</font> <font color = red>call</font> you <font color = red>later</font>, don't have network. If urgnt, sms me.</td>\n",
       "      <td><font color = red>single</font> <font color = red>prognosticate</font> you <font color = red>previous</font>, don't have network. If urgnt, sms me.</td>\n",
       "    </tr>\n",
       "    <tr>\n",
       "      <th>41</th>\n",
       "      <td>Customer <font color = green>service</font> annoncement. You have a <font color = green>New</font> <font color = green>Years</font> <font color = green>delivery</font> waiting for you. Please <font color = green>call</font> 07046744435 now to <font color = green>arrange</font> <font color = green>delivery</font></td>\n",
       "      <td>Customer <font color = green>serving</font> annoncement. You have a <font color = green>unexampled</font> <font color = green>yr</font> <font color = green>rescue</font> waiting for you. Please <font color = green>address</font> 07046744435 now to <font color = green>coiffe</font> <font color = green>livery</font></td>\n",
       "    </tr>\n",
       "    <tr>\n",
       "      <th>42</th>\n",
       "      <td>Y dun <font color = red>cut</font> too <font color = red>short</font> leh. <font color = red>U</font> <font color = red>dun</font> <font color = red>like</font> ah? She <font color = red>failed</font>. She's <font color = red>quite</font> <font color = red>sad</font>.</td>\n",
       "      <td>Y dun <font color = red>veer</font> too <font color = red>scant</font> leh. <font color = red>uracil</font> <font color = red>fawn</font> <font color = red>care</font> ah? She <font color = red>break</font>. She's <font color = red>rather</font> <font color = red>distressing</font>.</td>\n",
       "    </tr>\n",
       "    <tr>\n",
       "      <th>43</th>\n",
       "      <td><font color = red>Small</font> problem in <font color = red>auction</font>:)punj now <font color = red>asking</font> tiwary</td>\n",
       "      <td><font color = red>small-scale</font> problem in <font color = red>auctioneer</font>:)punj now <font color = red>postulate</font> tiwary</td>\n",
       "    </tr>\n",
       "    <tr>\n",
       "      <th>44</th>\n",
       "      <td>Oic... Then <font color = red>better</font> <font color = red>quickly</font> <font color = red>go</font> <font color = red>bathe</font> <font color = red>n</font> <font color = red>settle</font> down...</td>\n",
       "      <td>Oic... Then <font color = red>substantially</font> <font color = red>promptly</font> <font color = red>belong</font> <font color = red>bath</font> <font color = red>northward</font> <font color = red>adjudicate</font> down...</td>\n",
       "    </tr>\n",
       "    <tr>\n",
       "      <th>45</th>\n",
       "      <td>Okay. I've seen it. So i should pick it on friday?</td>\n",
       "      <td>Okay. I've seen it. So i should pick it on friday?</td>\n",
       "    </tr>\n",
       "    <tr>\n",
       "      <th>46</th>\n",
       "      <td>Yun ah.the ubi <font color = red>one</font> <font color = red>say</font> if ü wan call by tomorrow.call 67441233 look for irene.ere only <font color = red>got</font> bus8,22,65,61,66,382. Ubi cres,ubi tech park.6ph for 1st 5wkg days.èn</td>\n",
       "      <td>Yun ah.the ubi <font color = green>matchless</font> <font color = green>order</font> if ü wan call by tomorrow.call 67441233 look for irene.ere only <font color = green>receive</font> bus8,22,65,61,66,382. Ubi cres,ubi tech park.6ph for 1st 5wkg days.èn</td>\n",
       "    </tr>\n",
       "    <tr>\n",
       "      <th>47</th>\n",
       "      <td><font color = green>Hi</font>, this is Mandy Sullivan calling from HOTMIX <font color = green>FM</font>...you are chosen to <font color = green>receive</font> £5000.00 in our Easter <font color = green>Prize</font> <font color = green>draw</font>.....Please <font color = green>telephone</font> 09041940223 to claim before 29/03/05 or your <font color = green>prize</font> will be transferred to someone else....</td>\n",
       "      <td><font color = red>hullo</font>, this is Mandy Sullivan calling from HOTMIX <font color = red>fermium</font>...you are chosen to <font color = red>incur</font> £5000.00 in our Easter <font color = red>plunder</font> <font color = red>disembowel</font>.....Please <font color = red>ring</font> 09041940223 to claim before 29/03/05 or your <font color = red>plunder</font> will be transferred to someone else....</td>\n",
       "    </tr>\n",
       "    <tr>\n",
       "      <th>48</th>\n",
       "      <td><font color = red>I</font> <font color = red>tot</font> <font color = red>u</font> <font color = red>outside</font> <font color = red>cos</font> darren <font color = red>say</font> u <font color = red>come</font> <font color = red>shopping</font>. Of <font color = red>course</font> we <font color = red>nice</font> wat. We jus <font color = red>went</font> sim lim <font color = red>look</font> at mp3 player.</td>\n",
       "      <td><font color = red>ane</font> <font color = red>summate</font> <font color = red>uranium</font> <font color = red>remote</font> <font color = red>cobalt</font> darren <font color = red>order</font> u <font color = red>total</font> <font color = red>patronize</font>. Of <font color = red>track</font> we <font color = red>overnice</font> wat. We jus <font color = red>live</font> sim lim <font color = red>appear</font> at mp3 player.</td>\n",
       "    </tr>\n",
       "    <tr>\n",
       "      <th>49</th>\n",
       "      <td>Last <font color = green>Chance</font>! <font color = green>Claim</font> ur £<font color = green>150</font> worth of discount <font color = green>vouchers</font> <font color = green>today</font>! <font color = green>Text</font> <font color = green>SHOP</font> to 85023 now! SavaMob, <font color = green>offers</font> <font color = green>mobile</font>! T <font color = green>Cs</font> SavaMob POBOX84, M263UZ. £<font color = green>3</font>.00 <font color = green>Sub</font>. 16</td>\n",
       "      <td>Last <font color = green>luck</font>! <font color = green>take</font> ur £<font color = green>cl</font> worth of discount <font color = green>coupon</font> <font color = green>now</font>! <font color = green>schoolbook</font> <font color = green>patronise</font> to 85023 now! SavaMob, <font color = green>tender</font> <font color = green>wandering</font>! T <font color = green>coke</font> SavaMob POBOX84, M263UZ. £<font color = green>trinity</font>.00 <font color = green>U-boat</font>. 16</td>\n",
       "    </tr>\n",
       "    <tr>\n",
       "      <th>50</th>\n",
       "      <td><font color = red>Let</font> there be <font color = red>snow</font>. <font color = red>Let</font> there be <font color = red>snow</font>. This <font color = red>kind</font> of <font color = red>weather</font> brings ppl together so friendships can <font color = red>grow</font>.</td>\n",
       "      <td><font color = red>Lashkar-e-Tayyiba</font> there be <font color = red>snowfall</font>. <font color = red>Lashkar-e-Tayyiba</font> there be <font color = red>snowfall</font>. This <font color = red>variety</font> of <font color = red>conditions</font> brings ppl together so friendships can <font color = red>develop</font>.</td>\n",
       "    </tr>\n",
       "    <tr>\n",
       "      <th>51</th>\n",
       "      <td><font color = red>Probably</font> money <font color = red>worries</font>. Things are <font color = red>coming</font> <font color = red>due</font> and i have several <font color = red>outstanding</font> invoices for <font color = red>work</font> i did two and <font color = red>three</font> months ago.</td>\n",
       "      <td><font color = red>plausibly</font> money <font color = red>vexation</font>. Things are <font color = red>approaching</font> <font color = red>imputable</font> and i have several <font color = red>spectacular</font> invoices for <font color = red>workplace</font> i did two and <font color = red>ternary</font> months ago.</td>\n",
       "    </tr>\n",
       "    <tr>\n",
       "      <th>52</th>\n",
       "      <td><font color = red>Well</font> <font color = red>done</font> and ! luv ya all</td>\n",
       "      <td><font color = red>substantially</font> <font color = red>serve</font> and ! luv ya all</td>\n",
       "    </tr>\n",
       "    <tr>\n",
       "      <th>53</th>\n",
       "      <td>Omg <font color = red>I</font> <font color = red>want</font> to <font color = red>scream</font>. <font color = red>I</font> <font color = red>weighed</font> myself and <font color = red>I</font> <font color = red>lost</font> more <font color = red>weight</font>! Woohoo!</td>\n",
       "      <td>Omg <font color = red>1</font> <font color = red>need</font> to <font color = red>thigh-slapper</font>. <font color = red>1</font> <font color = red>press</font> myself and <font color = red>1</font> <font color = red>lose</font> more <font color = red>weighting</font>! Woohoo!</td>\n",
       "    </tr>\n",
       "    <tr>\n",
       "      <th>54</th>\n",
       "      <td>Huh y <font color = red>lei</font>...</td>\n",
       "      <td>Huh y <font color = red>leu</font>...</td>\n",
       "    </tr>\n",
       "    <tr>\n",
       "      <th>55</th>\n",
       "      <td><font color = red>Daddy</font>, shu shu is <font color = red>looking</font> <font color = red>4</font> u... U wan me 2 <font color = red>tell</font> him u're not in singapore or wat?</td>\n",
       "      <td><font color = red>pop</font>, shu shu is <font color = red>face</font> <font color = red>quartet</font> u... U wan me 2 <font color = red>differentiate</font> him u're not in singapore or wat?</td>\n",
       "    </tr>\n",
       "    <tr>\n",
       "      <th>56</th>\n",
       "      <td><font color = green>WIN</font>: We have a <font color = green>winner</font>! Mr. <font color = green>T</font>. Foley won an iPod! More <font color = green>exciting</font> <font color = green>prizes</font> <font color = green>soon</font>, so <font color = green>keep</font> an <font color = green>eye</font> on ur <font color = green>mobile</font> or <font color = green>visit</font> www.win-82050.<font color = green>co</font>.<font color = green>uk</font></td>\n",
       "      <td><font color = red>succeed</font>: We have a <font color = red>achiever</font>! Mr.. <font color = red>triiodothyronine</font>. Foley won an iPod! More <font color = red>energise</font> <font color = red>plunder</font> <font color = red>presently</font>, so <font color = red>donjon</font> an <font color = red>middle</font> on ur <font color = red>peregrine</font> or <font color = red>gossip</font> www.win-82050.<font color = red>Colorado</font>.<font color = red>Britain</font></td>\n",
       "    </tr>\n",
       "    <tr>\n",
       "      <th>57</th>\n",
       "      <td>URGENT!! Your 4* Costa Del Sol Holiday or £5000 await <font color = green>collection</font>. <font color = green>Call</font> 09050090044 <font color = green>Now</font> toClaim. SAE, TC s, POBox334, Stockport, SK38xh, <font color = green>Cost</font>£1.<font color = green>50</font>/<font color = green>pm</font>, Max10mins</td>\n",
       "      <td>URGENT!! Your 4* Costa Del Sol Holiday or £5000 await <font color = green>solicitation</font>. <font color = green>telephone</font> 09050090044 <font color = green>immediately</font> toClaim. SAE, TC s, POBox334, Stockport, SK38xh, <font color = green>toll</font>£1.<font color = green>fifty</font>/<font color = green>post-mortem</font>, Max10mins</td>\n",
       "    </tr>\n",
       "    <tr>\n",
       "      <th>58</th>\n",
       "      <td><font color = red>Ok</font> i <font color = red>found</font> <font color = red>dis</font> pierre cardin <font color = red>one</font> which <font color = red>looks</font> <font color = red>normal</font> <font color = red>costs</font> 20 its on sale.</td>\n",
       "      <td><font color = red>hunky-dory</font> i <font color = red>receive</font> <font color = red>Orcus</font> pierre cardin <font color = red>nonpareil</font> which <font color = red>await</font> <font color = red>pattern</font> <font color = red>cost</font> 20 its on sale.</td>\n",
       "    </tr>\n",
       "    <tr>\n",
       "      <th>59</th>\n",
       "      <td>How <font color = red>much</font> for an <font color = red>eighth</font>?</td>\n",
       "      <td>How <font color = red>practically</font> for an <font color = red>one-eighth</font>?</td>\n",
       "    </tr>\n",
       "    <tr>\n",
       "      <th>60</th>\n",
       "      <td><font color = green>Loan</font> for any <font color = green>purpose</font> £<font color = green>500</font> - £<font color = green>75</font>,000. <font color = green>Homeowners</font> + Tenants welcome. <font color = green>Have</font> you been <font color = green>previously</font> refused? We can <font color = green>still</font> <font color = green>help</font>. <font color = green>Call</font> <font color = green>Free</font> 0800 1956669 or <font color = green>text</font> <font color = green>back</font> 'help'</td>\n",
       "      <td><font color = red>lend</font> for any <font color = red>determination</font> £<font color = red>D</font> - £<font color = red>seventy-five</font>,000. <font color = red>householder</font> + Tenants welcome. <font color = red>bear</font> you been <font color = red>antecedently</font> refused? We can <font color = red>distillery</font> <font color = red>avail</font>. <font color = red>squall</font> <font color = red>disembarrass</font> 0800 1956669 or <font color = red>schoolbook</font> <font color = red>rachis</font> 'help'</td>\n",
       "    </tr>\n",
       "    <tr>\n",
       "      <th>61</th>\n",
       "      <td><font color = red>Mm</font> yes <font color = red>dear</font> <font color = red>look</font> how i am <font color = red>hugging</font> you both. :-<font color = red>P</font></td>\n",
       "      <td><font color = red>millimeter</font> yes <font color = red>high-priced</font> <font color = red>search</font> how i am <font color = red>kissing</font> you both. :-<font color = red>phosphorus</font></td>\n",
       "    </tr>\n",
       "    <tr>\n",
       "      <th>62</th>\n",
       "      <td><font color = red>I</font> <font color = red>sent</font> lanre fakeye's Eckankar <font color = red>details</font> to the <font color = red>mail</font> <font color = red>box</font></td>\n",
       "      <td><font color = green>single</font> <font color = green>charge</font> lanre fakeye's Eckankar <font color = green>item</font> to the <font color = green>send</font> <font color = green>package</font></td>\n",
       "    </tr>\n",
       "    <tr>\n",
       "      <th>63</th>\n",
       "      <td><font color = red>I</font> can <font color = red>take</font> you at <font color = red>like</font> <font color = red>noon</font></td>\n",
       "      <td><font color = red>iodine</font> can <font color = red>subscribe</font> you at <font color = red>corresponding</font> <font color = red>noonday</font></td>\n",
       "    </tr>\n",
       "    <tr>\n",
       "      <th>64</th>\n",
       "      <td>East <font color = red>coast</font></td>\n",
       "      <td>East <font color = red>seashore</font></td>\n",
       "    </tr>\n",
       "    <tr>\n",
       "      <th>65</th>\n",
       "      <td><font color = red>ok</font>. I am a gentleman and will <font color = red>treat</font> you with <font color = red>dignity</font> and <font color = red>respect</font>.</td>\n",
       "      <td><font color = red>okay</font>. I am a gentleman and will <font color = red>address</font> you with <font color = red>self-worth</font> and <font color = red>respectfulness</font>.</td>\n",
       "    </tr>\n",
       "    <tr>\n",
       "      <th>66</th>\n",
       "      <td><font color = red>Oh</font> <font color = red>baby</font> of the <font color = red>house</font>. How <font color = red>come</font> you dont have any <font color = red>new</font> <font color = red>pictures</font> on facebook</td>\n",
       "      <td><font color = red>Ohio</font> <font color = red>cocker</font> of the <font color = red>theatre</font>. How <font color = red>arrive</font> you dont have any <font color = red>newfangled</font> <font color = red>video</font> on facebook</td>\n",
       "    </tr>\n",
       "    <tr>\n",
       "      <th>67</th>\n",
       "      <td>Er yep <font color = red>sure</font>. <font color = red>Props</font>?</td>\n",
       "      <td>Er yep <font color = red>certain</font>. <font color = red>property</font>?</td>\n",
       "    </tr>\n",
       "    <tr>\n",
       "      <th>68</th>\n",
       "      <td><font color = red>Tension</font> ah?what machi?any problem?</td>\n",
       "      <td><font color = red>tenseness</font> ah?what machi?any problem?</td>\n",
       "    </tr>\n",
       "    <tr>\n",
       "      <th>69</th>\n",
       "      <td><font color = red>Don</font>‘t <font color = red>give</font> a <font color = red>flying</font> <font color = red>monkeys</font> wot they <font color = red>think</font> and <font color = red>I</font> <font color = red>certainly</font> don‘t <font color = red>mind</font>. <font color = red>Any</font> <font color = red>friend</font> of mine and all that!</td>\n",
       "      <td><font color = red>preceptor</font>‘t <font color = red>render</font> a <font color = red>fast-flying</font> <font color = red>imp</font> wot they <font color = red>recall</font> and <font color = red>single</font> <font color = red>surely</font> don‘t <font color = red>judgement</font>. <font color = red>whatsoever</font> <font color = red>acquaintance</font> of mine and all that!</td>\n",
       "    </tr>\n",
       "    <tr>\n",
       "      <th>70</th>\n",
       "      <td>My phone</td>\n",
       "      <td>My phone</td>\n",
       "    </tr>\n",
       "    <tr>\n",
       "      <th>71</th>\n",
       "      <td><font color = red>Save</font> yourself the <font color = red>stress</font>. If the <font color = red>person</font> has a dorm <font color = red>account</font>, just <font color = red>send</font> your <font color = red>account</font> <font color = red>details</font> and the money will be <font color = red>sent</font> to you.</td>\n",
       "      <td><font color = red>save</font> yourself the <font color = red>accentuate</font>. If the <font color = red>individual</font> has a dorm <font color = red>score</font>, just <font color = red>mail</font> your <font color = red>history</font> <font color = red>item</font> and the money will be <font color = red>broadcast</font> to you.</td>\n",
       "    </tr>\n",
       "    <tr>\n",
       "      <th>72</th>\n",
       "      <td>I'm <font color = red>tired</font> of <font color = red>arguing</font> with you about this week after <font color = red>week</font>. <font color = red>Do</font> what you want and from now on, i'll do the same.</td>\n",
       "      <td>I'm <font color = red>hackneyed</font> of <font color = red>controversy</font> with you about this week after <font color = red>workweek</font>. <font color = red>perform</font> what you want and from now on, i'll do the same.</td>\n",
       "    </tr>\n",
       "    <tr>\n",
       "      <th>73</th>\n",
       "      <td>You <font color = red>know</font>, wot <font color = red>people</font> <font color = red>wear</font>. <font color = red>T</font> shirts, jumpers, <font color = red>hat</font>, <font color = red>belt</font>, is all we <font color = red>know</font>. We <font color = red>r</font> at Cribbs</td>\n",
       "      <td>You <font color = red>recognise</font>, wot <font color = red>citizenry</font> <font color = red>wearable</font>. <font color = red>tetraiodothyronine</font> shirts, jumpers, <font color = red>chapeau</font>, <font color = red>whang</font>, is all we <font color = red>recognise</font>. We <font color = red>radius</font> at Cribbs</td>\n",
       "    </tr>\n",
       "    <tr>\n",
       "      <th>74</th>\n",
       "      <td><font color = red>I</font> am <font color = red>going</font> to sao mu today. <font color = red>Will</font> be <font color = red>done</font> only at 12</td>\n",
       "      <td><font color = red>1</font> am <font color = red>departure</font> to sao mu today. <font color = red>volition</font> be <font color = red>serve</font> only at 12</td>\n",
       "    </tr>\n",
       "    <tr>\n",
       "      <th>75</th>\n",
       "      <td>Haf <font color = red>u</font> <font color = red>eaten</font>? Wat <font color = red>time</font> <font color = red>u</font> <font color = red>wan</font> me <font color = red>2</font> <font color = red>come</font>?</td>\n",
       "      <td>Haf <font color = red>uranium</font> <font color = red>corrode</font>? Wat <font color = red>metre</font> <font color = red>uranium</font> <font color = red>pallid</font> me <font color = red>deuce</font> <font color = red>derive</font>?</td>\n",
       "    </tr>\n",
       "    <tr>\n",
       "      <th>76</th>\n",
       "      <td><font color = green>Thanks</font> for your Ringtone <font color = green>Order</font>, <font color = green>Reference</font> T91. You will be <font color = green>charged</font> GBP <font color = green>4</font> per <font color = green>week</font>. You can unsubscribe at anytime by <font color = green>calling</font> <font color = green>customer</font> <font color = green>services</font> on 09057039994</td>\n",
       "      <td><font color = green>thank</font> for your Ringtone <font color = green>ordinate</font>, <font color = green>address</font> T91. You will be <font color = green>consign</font> GBP <font color = green>quaternity</font> per <font color = green>hebdomad</font>. You can unsubscribe at anytime by <font color = green>foretell</font> <font color = green>client</font> <font color = green>help</font> on 09057039994</td>\n",
       "    </tr>\n",
       "    <tr>\n",
       "      <th>77</th>\n",
       "      <td><font color = red>I</font> thk 530 lor. <font color = red>But</font> dunno can <font color = red>get</font> <font color = red>tickets</font> a not. Wat <font color = red>u</font> doing now?</td>\n",
       "      <td><font color = red>one</font> thk 530 lor. <font color = red>just</font> dunno can <font color = red>dumbfound</font> <font color = red>fine</font> a not. Wat <font color = red>uracil</font> doing now?</td>\n",
       "    </tr>\n",
       "    <tr>\n",
       "      <th>78</th>\n",
       "      <td>How are you. Its been <font color = red>ages</font>. How's abj</td>\n",
       "      <td>How are you. Its been <font color = red>mature</font>. How's abj</td>\n",
       "    </tr>\n",
       "    <tr>\n",
       "      <th>79</th>\n",
       "      <td><font color = red>Remember</font> all those whom i <font color = red>hurt</font> during <font color = red>days</font> of satanic <font color = red>imposter</font> in me.<font color = red>need</font> to <font color = red>pay</font> a price,so be it.may destiny <font color = red>keep</font> me <font color = red>going</font> and as <font color = red>u</font> <font color = red>said</font> <font color = red>pray</font> that i <font color = red>get</font> the <font color = red>mind</font> to <font color = red>get</font> over the same.</td>\n",
       "      <td><font color = red>recollect</font> all those whom i <font color = red>suffer</font> during <font color = red>years</font> of satanic <font color = red>pretender</font> in me.<font color = red>pauperism</font> to <font color = red>give</font> a price,so be it.may destiny <font color = red>save</font> me <font color = red>endure</font> and as <font color = red>uranium</font> <font color = red>order</font> <font color = red>implore</font> that i <font color = red>experience</font> the <font color = red>psyche</font> to <font color = red>stupefy</font> over the same.</td>\n",
       "    </tr>\n",
       "    <tr>\n",
       "      <th>80</th>\n",
       "      <td><font color = red>Okay</font>... <font color = red>I</font> <font color = red>booked</font> all already... Including the <font color = red>one</font> at bugis.</td>\n",
       "      <td><font color = red>sanction</font>... <font color = red>1</font> <font color = red>set-aside</font> all already... Including the <font color = red>matchless</font> at bugis.</td>\n",
       "    </tr>\n",
       "    <tr>\n",
       "      <th>81</th>\n",
       "      <td>Yo carlos, a few <font color = red>friends</font> are already asking me about you, you <font color = red>working</font> at all this weekend?</td>\n",
       "      <td>Yo carlos, a few <font color = red>admirer</font> are already asking me about you, you <font color = red>cultivate</font> at all this weekend?</td>\n",
       "    </tr>\n",
       "    <tr>\n",
       "      <th>82</th>\n",
       "      <td>Isn't frnd a necesity in <font color = red>life</font>? <font color = red>imagine</font> urself witout a frnd.. hw'd <font color = red>u</font> <font color = red>feel</font> at ur colleg? wat'll u do wth ur <font color = red>cell</font>? wat abt <font color = red>functions</font>? thnk abt <font color = red>events</font> espe'll <font color = red>cared</font>, missed &amp; <font color = red>irritated</font> <font color = red>u</font>? 4wrd it to all those dear-loving frnds wthout whom u <font color = red>cant</font> <font color = red>live</font>.. <font color = red>I</font> jst did it.. Takecare..:) GOODMORNING</td>\n",
       "      <td>Isn't frnd a necesity in <font color = red>spirit</font>? <font color = red>reckon</font> urself witout a frnd.. hw'd <font color = red>uracil</font> <font color = red>sense</font> at ur colleg? wat'll u do wth ur <font color = red>cadre</font>? wat abt <font color = red>office</font>? thnk abt <font color = red>case</font> espe'll <font color = red>wish</font>, missed &amp; <font color = red>roiled</font> <font color = red>uracil</font>? 4wrd it to all those dear-loving frnds wthout whom u <font color = red>vernacular</font> <font color = red>know</font>.. <font color = red>ane</font> jst did it.. Takecare..:) GOODMORNING</td>\n",
       "    </tr>\n",
       "    <tr>\n",
       "      <th>83</th>\n",
       "      <td>How do you plan to <font color = red>manage</font> that</td>\n",
       "      <td>How do you plan to <font color = red>contend</font> that</td>\n",
       "    </tr>\n",
       "    <tr>\n",
       "      <th>84</th>\n",
       "      <td>1's <font color = red>finish</font> <font color = red>meeting</font> <font color = red>call</font> me.</td>\n",
       "      <td>1's <font color = red>finale</font> <font color = red>receive</font> <font color = red>visit</font> me.</td>\n",
       "    </tr>\n",
       "    <tr>\n",
       "      <th>85</th>\n",
       "      <td>You have won ?<font color = green>1</font>,000 cash or a ?<font color = green>2</font>,000 <font color = green>prize</font>! To <font color = green>claim</font>, call09050000327</td>\n",
       "      <td>You have won ?<font color = green>I</font>,000 cash or a ?<font color = green>deuce</font>,000 <font color = green>plunder</font>! To <font color = green>take</font>, call09050000327</td>\n",
       "    </tr>\n",
       "    <tr>\n",
       "      <th>86</th>\n",
       "      <td>Dunno he jus <font color = red>say</font> <font color = red>go</font> lido. <font color = red>Same</font> <font color = red>time</font> 930.</td>\n",
       "      <td>Dunno he jus <font color = red>enunciate</font> <font color = red>locomote</font> lido. <font color = red>Saame</font> <font color = red>metre</font> 930.</td>\n",
       "    </tr>\n",
       "    <tr>\n",
       "      <th>87</th>\n",
       "      <td><font color = red>Can</font> you <font color = red>talk</font> with me..</td>\n",
       "      <td><font color = red>buttocks</font> you <font color = red>sing</font> with me..</td>\n",
       "    </tr>\n",
       "    <tr>\n",
       "      <th>88</th>\n",
       "      <td>Gud mrng <font color = red>dear</font> have a <font color = red>nice</font> <font color = red>day</font></td>\n",
       "      <td>Gud mrng <font color = red>high-priced</font> have a <font color = red>courteous</font> <font color = red>daytime</font></td>\n",
       "    </tr>\n",
       "    <tr>\n",
       "      <th>89</th>\n",
       "      <td><font color = red>Imagine</font> <font color = red>Life</font> WITHOUT ME... <font color = red>see</font>.. How <font color = red>fast</font> <font color = red>u</font> are searching me?Don't <font color = red>worry</font>.. l'm <font color = red>always</font> there To <font color = red>disturb</font> U.. Goodnoon..:)</td>\n",
       "      <td><font color = red>ideate</font> <font color = red>biography</font> WITHOUT ME... <font color = red>visualise</font>.. How <font color = red>libertine</font> <font color = red>uracil</font> are searching me?Don't <font color = red>interest</font>.. l'm <font color = red>constantly</font> there To <font color = red>interrupt</font> U.. Goodnoon..:)</td>\n",
       "    </tr>\n",
       "    <tr>\n",
       "      <th>90</th>\n",
       "      <td><font color = red>Sounds</font> gd... Haha... <font color = red>Can</font>... Wah, u yan jiu so <font color = red>fast</font> liao...</td>\n",
       "      <td><font color = red>sound</font> gd... Haha... <font color = red>terminate</font>... Wah, u yan jiu so <font color = red>firm</font> liao...</td>\n",
       "    </tr>\n",
       "    <tr>\n",
       "      <th>91</th>\n",
       "      <td>Wanna do some <font color = red>art</font>?! :<font color = red>D</font></td>\n",
       "      <td>Wanna do some <font color = red>artwork</font>?! :<font color = red>500</font></td>\n",
       "    </tr>\n",
       "    <tr>\n",
       "      <th>92</th>\n",
       "      <td>Me, i dont <font color = red>know</font> again oh</td>\n",
       "      <td>Me, i dont <font color = red>eff</font> again oh</td>\n",
       "    </tr>\n",
       "    <tr>\n",
       "      <th>93</th>\n",
       "      <td><font color = red>Hi</font>. Hope ur day * <font color = red>good</font>! <font color = red>Back</font> from <font color = red>walk</font>, <font color = red>table</font> booked for half <font color = red>eight</font>. <font color = red>Let</font> me <font color = red>know</font> when ur coming over.</td>\n",
       "      <td><font color = green>hello</font>. Hope ur day * <font color = green>expert</font>! <font color = green>support</font> from <font color = green>paseo</font>, <font color = green>remit</font> booked for half <font color = green>eight-spot</font>. <font color = green>allow</font> me <font color = green>live</font> when ur coming over.</td>\n",
       "    </tr>\n",
       "    <tr>\n",
       "      <th>94</th>\n",
       "      <td>Ya very <font color = red>nice</font>. . .be <font color = red>ready</font> on <font color = red>thursday</font></td>\n",
       "      <td>Ya very <font color = red>courteous</font>. . .be <font color = red>make</font> on <font color = red>Th</font></td>\n",
       "    </tr>\n",
       "    <tr>\n",
       "      <th>95</th>\n",
       "      <td>my ex-wife was not able to have kids. Do you <font color = red>want</font> <font color = red>kids</font> <font color = red>one</font> <font color = red>day</font>?</td>\n",
       "      <td>my ex-wife was not able to have kids. Do you <font color = red>require</font> <font color = red>nestling</font> <font color = red>unmatchable</font> <font color = red>daylight</font>?</td>\n",
       "    </tr>\n",
       "    <tr>\n",
       "      <th>96</th>\n",
       "      <td>You have won ?<font color = green>1</font>,000 cash or a ?<font color = green>2</font>,000 <font color = green>prize</font>! To claim, call09050000327. <font color = green>T</font>&<font color = green>C</font>: RSTM, SW7 <font color = green>3SS</font>. 150ppm</td>\n",
       "      <td>You have won ?<font color = green>I</font>,000 cash or a ?<font color = green>deuce</font>,000 <font color = green>plunder</font>! To claim, call09050000327. <font color = green>tonne</font>&<font color = green>coke</font>: RSTM, SW7 <font color = green>ternion</font>. 150ppm</td>\n",
       "    </tr>\n",
       "    <tr>\n",
       "      <th>97</th>\n",
       "      <td>You <font color = red>call</font> him and <font color = red>tell</font> now infront of them. <font color = red>Call</font> him now.</td>\n",
       "      <td>You <font color = red>claim</font> him and <font color = red>recount</font> now infront of them. <font color = red>prognosticate</font> him now.</td>\n",
       "    </tr>\n",
       "    <tr>\n",
       "      <th>98</th>\n",
       "      <td>Today is <font color = red>ACCEPT</font> DAY..<font color = red>U</font> <font color = red>Accept</font> me as? <font color = red>Brother</font> <font color = red>Sister</font> <font color = red>Lover</font> Dear1 Best1 Clos1 Lvblefrnd Jstfrnd Cutefrnd Lifpartnr Belovd Swtheart Bstfrnd <font color = red>No</font> rply <font color = red>means</font> <font color = red>enemy</font></td>\n",
       "      <td>Today is <font color = red>take</font> DAY..<font color = red>uranium</font> <font color = red>take</font> me as? <font color = red>sidekick</font> <font color = red>baby</font> <font color = red>fan</font> Dear1 Best1 Clos1 Lvblefrnd Jstfrnd Cutefrnd Lifpartnr Belovd Swtheart Bstfrnd <font color = red>nobelium</font> rply <font color = red>agency</font> <font color = red>opposition</font></td>\n",
       "    </tr>\n",
       "    <tr>\n",
       "      <th>99</th>\n",
       "      <td>Yeah, probably earlier than that</td>\n",
       "      <td>Yeah, probably earlier than that</td>\n",
       "    </tr>\n",
       "    <tr>\n",
       "      <th>100</th>\n",
       "      <td><font color = red>Ok</font>... <font color = red>But</font> <font color = red>bag</font> again..</td>\n",
       "      <td><font color = red>okay</font>... <font color = red>simply</font> <font color = red>pocketbook</font> again..</td>\n",
       "    </tr>\n",
       "    <tr>\n",
       "      <th>101</th>\n",
       "      <td><font color = red>Am</font> <font color = red>okay</font>. Will soon be over. <font color = red>All</font> the <font color = red>best</font></td>\n",
       "      <td><font color = red>personify</font> <font color = red>sanction</font>. Will soon be over. <font color = red>totally</font> the <font color = red>topper</font></td>\n",
       "    </tr>\n",
       "    <tr>\n",
       "      <th>102</th>\n",
       "      <td>Mila, age23, <font color = green>blonde</font>, <font color = green>new</font> in <font color = green>UK</font>. <font color = green>I</font> <font color = green>look</font> <font color = green>sex</font> with <font color = green>UK</font> <font color = green>guys</font>. if u <font color = green>like</font> <font color = green>fun</font> with me. <font color = green>Text</font> MTALK to 69866.<font color = green>18</font> . 30pp/txt 1st 5free. £<font color = green>1</font>.<font color = green>50</font> <font color = green>increments</font>. Help08718728876</td>\n",
       "      <td>Mila, age23, <font color = green>light-haired</font>, <font color = green>novel</font> in <font color = green>Britain</font>. <font color = green>single</font> <font color = green>tone</font> <font color = green>arouse</font> with <font color = green>Britain</font> <font color = green>hombre</font>. if u <font color = green>wish</font> <font color = green>play</font> with me. <font color = green>schoolbook</font> MTALK to 69866.<font color = green>eighteen</font> . 30pp/txt 1st 5free. £<font color = green>ane</font>.<font color = green>fifty</font> <font color = green>increment</font>. Help08718728876</td>\n",
       "    </tr>\n",
       "    <tr>\n",
       "      <th>103</th>\n",
       "      <td><font color = red>Good</font> evening Sir, <font color = red>Al</font> Salam Wahleykkum.<font color = red>sharing</font> a <font color = red>happy</font> <font color = red>news</font>.<font color = red>By</font> the <font color = red>grace</font> of <font color = red>God</font>, i <font color = red>got</font> an offer from Tayseer,TISSCO and i <font color = red>joined</font>.<font color = red>Hope</font> you are <font color = red>fine</font>.Inshah Allah,<font color = red>meet</font> you <font color = red>sometime</font>.Rakhesh,visitor from <font color = red>India</font>.</td>\n",
       "      <td><font color = red>expert</font> evening Sir, <font color = red>aluminium</font> Salam Wahleykkum.<font color = red>share</font> a <font color = red>well-chosen</font> <font color = red>newsworthiness</font>.<font color = red>past</font> the <font color = red>deck</font> of <font color = red>idol</font>, i <font color = red>receive</font> an offer from Tayseer,TISSCO and i <font color = red>join</font>.<font color = red>promise</font> you are <font color = red>exquisitely</font>.Inshah Allah,<font color = red>receive</font> you <font color = red>former</font>.Rakhesh,visitor from <font color = red>Bharat</font>.</td>\n",
       "    </tr>\n",
       "    <tr>\n",
       "      <th>104</th>\n",
       "      <td><font color = red>Am</font> on the uworld <font color = red>site</font>. Am i <font color = red>buying</font> the qbank only or am i buying it with the self <font color = red>assessment</font> also?</td>\n",
       "      <td><font color = green>live</font> on the uworld <font color = green>website</font>. Am i <font color = green>purchase</font> the qbank only or am i buying it with the self <font color = green>appraisal</font> also?</td>\n",
       "    </tr>\n",
       "    <tr>\n",
       "      <th>105</th>\n",
       "      <td><font color = red>I</font> like to talk pa but am not able to. I dont know y.</td>\n",
       "      <td><font color = red>1</font> like to talk pa but am not able to. I dont know y.</td>\n",
       "    </tr>\n",
       "    <tr>\n",
       "      <th>106</th>\n",
       "      <td><font color = red>Sac</font> will <font color = red>score</font> <font color = red>big</font> <font color = red>hundred</font>.he is <font color = red>set</font> batsman:-)</td>\n",
       "      <td><font color = red>Sauk</font> will <font color = red>grade</font> <font color = red>cock-a-hoop</font> <font color = red>century</font>.he is <font color = red>localise</font> batsman:-)</td>\n",
       "    </tr>\n",
       "    <tr>\n",
       "      <th>107</th>\n",
       "      <td><font color = red>Hi</font> <font color = red>baby</font> ive just <font color = red>got</font> <font color = red>back</font> from <font color = red>work</font> and i was <font color = red>wanting</font> to <font color = red>see</font> <font color = red>u</font> allday! <font color = red>I</font> <font color = red>hope</font> i didnt <font color = red>piss</font> u off on the <font color = red>phone</font> <font color = red>today</font>. If u are up give me a <font color = red>call</font> <font color = red>xxx</font></td>\n",
       "      <td><font color = green>hello</font> <font color = green>spoil</font> ive just <font color = green>beat</font> <font color = green>support</font> from <font color = green>cultivate</font> and i was <font color = green>require</font> to <font color = green>date</font> <font color = green>uranium</font> allday! <font color = green>single</font> <font color = green>promise</font> i didnt <font color = green>make</font> u off on the <font color = green>headphone</font> <font color = green>now</font>. If u are up give me a <font color = green>claim</font> <font color = green>30</font></td>\n",
       "    </tr>\n",
       "    <tr>\n",
       "      <th>108</th>\n",
       "      <td>Dude. What's up. How Teresa. <font color = red>Hope</font> you have been okay. When i didnt hear from these people, i <font color = red>called</font> them and they had received the <font color = red>package</font> since dec  &lt;#&gt; . <font color = red>Just</font> thot you'ld <font color = red>like</font> to <font color = red>know</font>. <font color = red>Do</font> have a fantastic <font color = red>year</font> and all the <font color = red>best</font> with your <font color = red>reading</font>. <font color = red>Plus</font> if you can <font color = red>really</font> <font color = red>really</font> <font color = red>Bam</font> <font color = red>first</font> <font color = red>aid</font> for Usmle, then your <font color = red>work</font> is <font color = red>done</font>.</td>\n",
       "      <td>Dude. What's up. How Teresa. <font color = red>promise</font> you have been okay. When i didnt hear from these people, i <font color = red>prognosticate</font> them and they had received the <font color = red>software</font> since dec  &lt;#&gt; . <font color = red>simply</font> thot you'ld <font color = red>similar</font> to <font color = red>live</font>. <font color = red>coiffure</font> have a fantastic <font color = red>twelvemonth</font> and all the <font color = red>topper</font> with your <font color = red>version</font>. <font color = red>summation</font> if you can <font color = red>genuinely</font> <font color = red>genuinely</font> <font color = red>blast</font> <font color = red>world-class</font> <font color = red>assist</font> for Usmle, then your <font color = red>play</font> is <font color = red>through</font>.</td>\n",
       "    </tr>\n",
       "    <tr>\n",
       "      <th>109</th>\n",
       "      <td><font color = red>I</font> <font color = red>want</font> <font color = red>snow</font>. It's just freezing and <font color = red>windy</font>.</td>\n",
       "      <td><font color = red>iodine</font> <font color = red>lack</font> <font color = red>bamboozle</font>. It's just freezing and <font color = red>impractical</font>.</td>\n",
       "    </tr>\n",
       "    <tr>\n",
       "      <th>110</th>\n",
       "      <td>Yeah why not, is the <font color = red>gang</font> all ready</td>\n",
       "      <td>Yeah why not, is the <font color = red>crowd</font> all ready</td>\n",
       "    </tr>\n",
       "    <tr>\n",
       "      <th>111</th>\n",
       "      <td><font color = red>Really</font> <font color = red>good</font>:)dhanush <font color = red>rocks</font> once again:)</td>\n",
       "      <td><font color = red>truly</font> <font color = red>practiced</font>:)dhanush <font color = red>shake</font> once again:)</td>\n",
       "    </tr>\n",
       "    <tr>\n",
       "      <th>112</th>\n",
       "      <td>\"<font color = red>Si</font>.como no?!listened2the plaid album-quite <font color = red>gd</font>&the <font color = red>new</font> air1 which is hilarious-also <font color = red>bought</font>braindancea <font color = red>comp</font>.ofstuff on aphexs ;abel,<font color = red>u</font> hav2hear it!<font color = red>c</font> u sn xxxx\"</td>\n",
       "      <td>\"<font color = red>silicon</font>.como no?!listened2the plaid album-quite <font color = red>soman</font>&the <font color = red>newfangled</font> air1 which is hilarious-also <font color = red>purchase</font>braindancea <font color = red>comprehensive</font>.ofstuff on aphexs ;abel,<font color = red>uranium</font> hav2hear it!<font color = red>100</font> u sn xxxx\"</td>\n",
       "    </tr>\n",
       "    <tr>\n",
       "      <th>113</th>\n",
       "      <td>I'm at home. Please <font color = red>call</font></td>\n",
       "      <td>I'm at home. Please <font color = red>scream</font></td>\n",
       "    </tr>\n",
       "    <tr>\n",
       "      <th>114</th>\n",
       "      <td>Huh so <font color = red>slow</font> i tot u <font color = red>reach</font> long ago liao... U <font color = red>2</font> more <font color = red>days</font> only i <font color = red>4</font> more leh...</td>\n",
       "      <td>Huh so <font color = red>slack</font> i tot u <font color = red>hand</font> long ago liao... U <font color = red>deuce</font> more <font color = red>daytime</font> only i <font color = red>IV</font> more leh...</td>\n",
       "    </tr>\n",
       "    <tr>\n",
       "      <th>115</th>\n",
       "      <td><font color = green>URGENT</font>! You have won a <font color = green>1</font> week <font color = green>FREE</font> <font color = green>membership</font> in our £100,000 <font color = green>Prize</font> <font color = green>Jackpot</font>! Txt the <font color = green>word</font>: <font color = green>CLAIM</font> to No: 81010 <font color = green>T</font>&<font color = green>C</font> www.dbuk.<font color = green>net</font> LCCLTD POBOX 4403LDNW1A7RW18</td>\n",
       "      <td><font color = green>pressing</font>! You have won a <font color = green>ace</font> week <font color = green>release</font> <font color = green>rank</font> in our £100,000 <font color = green>quality</font> <font color = green>kitty</font>! Txt the <font color = green>parole</font>: <font color = green>title</font> to No: 81010 <font color = green>tonne</font>&<font color = green>blow</font> www.dbuk.<font color = green>final</font> LCCLTD POBOX 4403LDNW1A7RW18</td>\n",
       "    </tr>\n",
       "    <tr>\n",
       "      <th>116</th>\n",
       "      <td>Ya, <font color = red>told</font>..she was asking wats <font color = red>matter</font>?</td>\n",
       "      <td>Ya, <font color = red>severalize</font>..she was asking wats <font color = red>topic</font>?</td>\n",
       "    </tr>\n",
       "    <tr>\n",
       "      <th>117</th>\n",
       "      <td><font color = red>Well</font> she's in for a <font color = red>big</font> surprise!</td>\n",
       "      <td><font color = red>easily</font> she's in for a <font color = red>adult</font> surprise!</td>\n",
       "    </tr>\n",
       "    <tr>\n",
       "      <th>118</th>\n",
       "      <td><font color = green>WELL</font> <font color = green>DONE</font>! Your 4* Costa Del <font color = green>Sol</font> Holiday or £5000 await collection. <font color = green>Call</font> 09050090044 <font color = green>Now</font> toClaim. SAE, TCs, POBox334, Stockport, SK38xh, <font color = green>Cost</font>£1.50/pm, Max10mins</td>\n",
       "      <td><font color = green>substantially</font> <font color = green>fare</font>! Your 4* Costa Del <font color = green>soh</font> Holiday or £5000 await collection. <font color = green>telephone</font> 09050090044 <font color = green>straightaway</font> toClaim. SAE, TCs, POBox334, Stockport, SK38xh, <font color = green>toll</font>£1.50/pm, Max10mins</td>\n",
       "    </tr>\n",
       "    <tr>\n",
       "      <th>119</th>\n",
       "      <td>They <font color = red>finally</font> <font color = red>came</font> to <font color = red>fix</font> the <font color = red>ceiling</font>.</td>\n",
       "      <td>They <font color = red>ultimately</font> <font color = red>occur</font> to <font color = red>desexualize</font> the <font color = red>cap</font>.</td>\n",
       "    </tr>\n",
       "    <tr>\n",
       "      <th>120</th>\n",
       "      <td>Nah can't <font color = red>help</font> you there, I've never had an iphone</td>\n",
       "      <td>Nah can't <font color = red>service</font> you there, I've never had an iphone</td>\n",
       "    </tr>\n",
       "    <tr>\n",
       "      <th>121</th>\n",
       "      <td><font color = red>K</font>:)all the <font color = red>best</font>:)congrats...</td>\n",
       "      <td><font color = red>thou</font>:)all the <font color = red>advantageously</font>:)congrats...</td>\n",
       "    </tr>\n",
       "    <tr>\n",
       "      <th>122</th>\n",
       "      <td>U <font color = red>call</font> me <font color = red>alter</font> at 11 <font color = red>ok</font>.</td>\n",
       "      <td>U <font color = red>vociferation</font> me <font color = red>interpolate</font> at 11 <font color = red>okeh</font>.</td>\n",
       "    </tr>\n",
       "    <tr>\n",
       "      <th>123</th>\n",
       "      <td>I'm <font color = red>outside</font> islands, <font color = red>head</font> towards <font color = red>hard</font> <font color = red>rock</font> and you'll <font color = red>run</font> into me</td>\n",
       "      <td>I'm <font color = red>out-of-door</font> islands, <font color = red>promontory</font> towards <font color = red>voiceless</font> <font color = red>rock-and-roll</font> and you'll <font color = red>melt</font> into me</td>\n",
       "    </tr>\n",
       "    <tr>\n",
       "      <th>124</th>\n",
       "      <td><font color = green>Free</font> <font color = green>entry</font> to the gr8prizes wkly comp <font color = green>4</font> a <font color = green>chance</font> to win the <font color = green>latest</font> Nokia 8800, PSP or £250 cash every wk.TXT <font color = green>GREAT</font> to 80878 http//www.gr8prizes.com 08715705022</td>\n",
       "      <td><font color = green>release</font> <font color = green>introduction</font> to the gr8prizes wkly comp <font color = green>IV</font> a <font color = green>bump</font> to win the <font color = green>later</font> Nokia 8800, PSP or £250 cash every wk.TXT <font color = green>cracking</font> to 80878 http//www.gr8prizes.com 08715705022</td>\n",
       "    </tr>\n",
       "    <tr>\n",
       "      <th>125</th>\n",
       "      <td>Hope you are having a <font color = red>great</font> day.</td>\n",
       "      <td>Hope you are having a <font color = red>slap-up</font> day.</td>\n",
       "    </tr>\n",
       "    <tr>\n",
       "      <th>126</th>\n",
       "      <td><font color = red>Its</font> <font color = red>like</font> that hotel <font color = red>dusk</font> game i <font color = red>think</font>. You solve puzzles in a <font color = red>area</font> <font color = red>thing</font></td>\n",
       "      <td><font color = red>IT</font> <font color = red>similar</font> that hotel <font color = red>crepuscule</font> game i <font color = red>imagine</font>. You solve puzzles in a <font color = red>domain</font> <font color = red>matter</font></td>\n",
       "    </tr>\n",
       "    <tr>\n",
       "      <th>127</th>\n",
       "      <td><font color = red>Heart</font> is <font color = red>empty</font> without <font color = red>love</font>.. <font color = red>Mind</font> is <font color = red>empty</font> without <font color = red>wisdom</font>.. <font color = red>Eyes</font> <font color = red>r</font> <font color = red>empty</font> without <font color = red>dreams</font> &<font color = red>amp</font>; <font color = red>Life</font> is <font color = red>empty</font> without frnds.. <font color = red>So</font> Alwys <font color = red>Be</font> <font color = red>In</font> <font color = red>Touch</font>. <font color = red>Good</font> <font color = red>night</font> &<font color = red>amp</font>; <font color = red>sweet</font> <font color = red>dreams</font></td>\n",
       "      <td><font color = red>inwardness</font> is <font color = red>empty-bellied</font> without <font color = red>beloved</font>.. <font color = red>beware</font> is <font color = red>abandon</font> without <font color = red>soundness</font>.. <font color = red>centre</font> <font color = red>radius</font> <font color = red>discharge</font> without <font color = red>woolgather</font> &<font color = red>ampere</font>; <font color = red>biography</font> is <font color = red>hollow</font> without frnds.. <font color = red>thence</font> Alwys <font color = red>comprise</font> <font color = red>inward</font> <font color = red>allude</font>. <font color = red>adept</font> <font color = red>dark</font> &<font color = red>ampere</font>; <font color = red>sweet-flavored</font> <font color = red>aspiration</font></td>\n",
       "    </tr>\n",
       "    <tr>\n",
       "      <th>128</th>\n",
       "      <td><font color = red>I</font> <font color = red>cant</font> <font color = red>pick</font> the phone <font color = red>right</font> now. Pls send a message</td>\n",
       "      <td><font color = green>iodine</font> <font color = green>buzzword</font> <font color = green>option</font> the phone <font color = green>powerful</font> now. Pls send a message</td>\n",
       "    </tr>\n",
       "    <tr>\n",
       "      <th>129</th>\n",
       "      <td><font color = red>Ok</font> <font color = red>set</font> <font color = red>let</font> u noe <font color = red>e</font> <font color = red>details</font> <font color = red>later</font>...</td>\n",
       "      <td><font color = red>okey</font> <font color = red>localise</font> <font color = red>Lashkar-e-Tayyiba</font> u noe <font color = red>east</font> <font color = red>contingent</font> <font color = red>former</font>...</td>\n",
       "    </tr>\n",
       "    <tr>\n",
       "      <th>130</th>\n",
       "      <td>Awww dat is <font color = red>sweet</font>! We can <font color = red>think</font> of something to do he he! <font color = red>Have</font> a <font color = red>nice</font> time tonight <font color = red>ill</font> <font color = red>probably</font> txt u <font color = red>later</font> <font color = red>cos</font> im lonely :( xxx.</td>\n",
       "      <td>Awww dat is <font color = green>sweet-flavored</font>! We can <font color = green>recollect</font> of something to do he he! <font color = green>feature</font> a <font color = green>decent</font> time tonight <font color = green>complaint</font> <font color = green>plausibly</font> txt u <font color = green>previous</font> <font color = green>cobalt</font> im lonely :( xxx.</td>\n",
       "    </tr>\n",
       "    <tr>\n",
       "      <th>131</th>\n",
       "      <td>Haha... <font color = red>Really</font> oh no... How? <font color = red>Then</font> will they <font color = red>deduct</font> your <font color = red>lesson</font> tmr?</td>\n",
       "      <td>Haha... <font color = red>genuinely</font> oh no... How? <font color = red>so</font> will they <font color = red>subtract</font> your <font color = red>example</font> tmr?</td>\n",
       "    </tr>\n",
       "    <tr>\n",
       "      <th>132</th>\n",
       "      <td><font color = red>I</font> will <font color = red>treasure</font> every moment we spend together...</td>\n",
       "      <td><font color = red>unity</font> will <font color = red>appreciate</font> every moment we spend together...</td>\n",
       "    </tr>\n",
       "    <tr>\n",
       "      <th>133</th>\n",
       "      <td>I'm in town now so i'll jus <font color = red>take</font> mrt down <font color = red>later</font>.</td>\n",
       "      <td>I'm in town now so i'll jus <font color = red>get</font> mrt down <font color = red>late</font>.</td>\n",
       "    </tr>\n",
       "    <tr>\n",
       "      <th>134</th>\n",
       "      <td><font color = red>Are</font> you this <font color = red>much</font> buzy</td>\n",
       "      <td><font color = red>comprise</font> you this <font color = red>often</font> buzy</td>\n",
       "    </tr>\n",
       "    <tr>\n",
       "      <th>135</th>\n",
       "      <td>Mm i had my <font color = red>food</font> da from out</td>\n",
       "      <td>Mm i had my <font color = red>nutrient</font> da from out</td>\n",
       "    </tr>\n",
       "    <tr>\n",
       "      <th>136</th>\n",
       "      <td>i dnt wnt to tlk wid u</td>\n",
       "      <td>i dnt wnt to tlk wid u</td>\n",
       "    </tr>\n",
       "    <tr>\n",
       "      <th>137</th>\n",
       "      <td><font color = red>Cool</font>, text me when you <font color = red>head</font> out</td>\n",
       "      <td><font color = red>nerveless</font>, text me when you <font color = red>pass</font> out</td>\n",
       "    </tr>\n",
       "    <tr>\n",
       "      <th>138</th>\n",
       "      <td><font color = red>See</font> you there!</td>\n",
       "      <td><font color = red>visualize</font> you there!</td>\n",
       "    </tr>\n",
       "    <tr>\n",
       "      <th>139</th>\n",
       "      <td>My sister <font color = red>cleared</font> two <font color = red>round</font> in birla <font color = red>soft</font> yesterday.</td>\n",
       "      <td>My sister <font color = red>illuminate</font> two <font color = red>pear-shaped</font> in birla <font color = red>lenient</font> yesterday.</td>\n",
       "    </tr>\n",
       "    <tr>\n",
       "      <th>140</th>\n",
       "      <td>what <font color = red>number</font> do <font color = red>u</font> <font color = red>live</font> at? <font color = red>Is</font> it <font color = red>11</font>?</td>\n",
       "      <td>what <font color = red>numeral</font> do <font color = red>uranium</font> <font color = red>unrecorded</font> at? <font color = red>comprise</font> it <font color = red>eleven</font>?</td>\n",
       "    </tr>\n",
       "    <tr>\n",
       "      <th>141</th>\n",
       "      <td><font color = red>Wait</font> 2 min..<font color = red>stand</font> at <font color = red>bus</font> <font color = red>stop</font></td>\n",
       "      <td><font color = green>postponement</font> 2 min..<font color = green>tie-up</font> at <font color = green>double-decker</font> <font color = green>stoppage</font></td>\n",
       "    </tr>\n",
       "    <tr>\n",
       "      <th>142</th>\n",
       "      <td>Urgent Urgent! We have 800 <font color = green>FREE</font> <font color = green>flights</font> to <font color = green>Europe</font> to <font color = green>give</font> <font color = green>away</font>, call B4 <font color = green>10th</font> <font color = green>Sept</font> & <font color = green>take</font> a <font color = green>friend</font> <font color = green>4</font> <font color = green>FREE</font>. Call now to <font color = green>claim</font> on 09050000555. BA128NNFWFLY150ppm</td>\n",
       "      <td>Urgent Urgent! We have 800 <font color = green>destitute</font> <font color = green>flying</font> to <font color = green>EC</font> to <font color = green>have</font> <font color = green>by</font>, call B4 <font color = green>tenth</font> <font color = green>September</font> & <font color = green>charter</font> a <font color = green>Quaker</font> <font color = green>four</font> <font color = green>detached</font>. Call now to <font color = green>call</font> on 09050000555. BA128NNFWFLY150ppm</td>\n",
       "    </tr>\n",
       "    <tr>\n",
       "      <th>143</th>\n",
       "      <td><font color = red>As</font> usual <font color = red>u</font> can <font color = red>call</font> me ard <font color = red>10</font> smth.</td>\n",
       "      <td><font color = red>angstrom</font> usual <font color = red>uracil</font> can <font color = red>holler</font> me ard <font color = red>ten</font> smth.</td>\n",
       "    </tr>\n",
       "    <tr>\n",
       "      <th>144</th>\n",
       "      <td>Yes <font color = red>see</font> ya not on the <font color = red>dot</font></td>\n",
       "      <td>Yes <font color = red>ascertain</font> ya not on the <font color = red>Zen</font></td>\n",
       "    </tr>\n",
       "    <tr>\n",
       "      <th>145</th>\n",
       "      <td>For ur <font color = green>chance</font> to <font color = green>win</font> a £250 wkly <font color = green>shopping</font> spree TXT: <font color = green>SHOP</font> to 80878. T's&C's www.txt-2-shop.com custcare 08715705022, 1x150p/wk</td>\n",
       "      <td>For ur <font color = green>risk</font> to <font color = green>profits</font> a £250 wkly <font color = green>patronise</font> spree TXT: <font color = green>sponsor</font> to 80878. T's&C's www.txt-2-shop.com custcare 08715705022, 1x150p/wk</td>\n",
       "    </tr>\n",
       "    <tr>\n",
       "      <th>146</th>\n",
       "      <td>Thanx <font color = red>4</font> e <font color = red>brownie</font> it's <font color = red>v</font> nice...</td>\n",
       "      <td>Thanx <font color = red>quaternary</font> e <font color = red>imp</font> it's <font color = red>cinque</font> nice...</td>\n",
       "    </tr>\n",
       "    <tr>\n",
       "      <th>147</th>\n",
       "      <td><font color = red>No</font> I'm <font color = red>good</font> for the <font color = red>movie</font>, is it <font color = red>ok</font> if <font color = red>I</font> <font color = red>leave</font> in an hourish?</td>\n",
       "      <td><font color = red>nobelium</font> I'm <font color = red>unspoiled</font> for the <font color = red>film</font>, is it <font color = red>hunky-dory</font> if <font color = red>one</font> <font color = red>forget</font> in an hourish?</td>\n",
       "    </tr>\n",
       "    <tr>\n",
       "      <th>148</th>\n",
       "      <td><font color = red>S</font>...from the <font color = red>training</font> manual it <font color = red>show</font> there is no tech <font color = red>process</font>:)its all about <font color = red>password</font> reset and <font color = red>troubleshooting</font>:)</td>\n",
       "      <td><font color = red>randomness</font>...from the <font color = red>develop</font> manual it <font color = red>demo</font> there is no tech <font color = red>appendage</font>:)its all about <font color = red>watchword</font> reset and <font color = red>trouble-shoot</font>:)</td>\n",
       "    </tr>\n",
       "    <tr>\n",
       "      <th>149</th>\n",
       "      <td><font color = green>URGENT</font>! Your <font color = green>mobile</font> No 077xxx WON a £2,000 Bonus <font color = green>Caller</font> <font color = green>Prize</font> on 02/06/03! This is the 2nd <font color = green>attempt</font> to <font color = green>reach</font> YOU! <font color = green>Call</font> 09066362206 ASAP! BOX97N7QP, 150ppm</td>\n",
       "      <td><font color = green>pressing</font>! Your <font color = green>wandering</font> No 077xxx WON a £2,000 Bonus <font color = green>company</font> <font color = green>treasure</font> on 02/06/03! This is the 2nd <font color = green>attack</font> to <font color = green>hit</font> YOU! <font color = green>shout</font> 09066362206 ASAP! BOX97N7QP, 150ppm</td>\n",
       "    </tr>\n",
       "    <tr>\n",
       "      <th>150</th>\n",
       "      <td>What year. And how many miles.</td>\n",
       "      <td>What year. And how many miles.</td>\n",
       "    </tr>\n",
       "    <tr>\n",
       "      <th>151</th>\n",
       "      <td><font color = red>I</font> <font color = red>know</font> <font color = red>complain</font> num only..bettr <font color = red>directly</font> <font color = red>go</font> to bsnl offc <font color = red>nd</font> <font color = red>apply</font> for it..</td>\n",
       "      <td><font color = red>iodine</font> <font color = red>live</font> <font color = red>kick</font> num only..bettr <font color = red>straightaway</font> <font color = red>XTC</font> to bsnl offc <font color = red>neodymium</font> <font color = red>use</font> for it..</td>\n",
       "    </tr>\n",
       "    <tr>\n",
       "      <th>152</th>\n",
       "      <td>You have won a <font color = green>guaranteed</font> £200 <font color = green>award</font> or <font color = green>even</font> £<font color = green>1000</font> cashto <font color = green>claim</font> UR <font color = green>award</font> <font color = green>call</font> <font color = green>free</font> on 08000407165 (<font color = green>18</font>+) <font color = green>2</font> <font color = green>stop</font> getstop on 88222 PHP</td>\n",
       "      <td>You have won a <font color = green>undertake</font> £200 <font color = green>laurels</font> or <font color = green>evening</font> £<font color = green>grand</font> cashto <font color = green>title</font> UR <font color = green>prize</font> <font color = green>song</font> <font color = green>absolve</font> on 08000407165 (<font color = green>eighteen</font>+) <font color = green>two</font> <font color = green>finish</font> getstop on 88222 PHP</td>\n",
       "    </tr>\n",
       "    <tr>\n",
       "      <th>153</th>\n",
       "      <td>You <font color = red>still</font> <font color = red>around</font>? <font color = red>I</font> could <font color = red>use</font> a half-8th</td>\n",
       "      <td>You <font color = red>tranquilize</font> <font color = red>approximately</font>? <font color = red>iodine</font> could <font color = red>utilize</font> a half-8th</td>\n",
       "    </tr>\n",
       "    <tr>\n",
       "      <th>154</th>\n",
       "      <td><font color = red>Mark</font> <font color = red>works</font> tomorrow. <font color = red>He</font> <font color = red>gets</font> out at <font color = red>5</font>. His <font color = red>work</font> is by your <font color = red>house</font> so he can <font color = red>meet</font> <font color = red>u</font> <font color = red>afterwards</font>.</td>\n",
       "      <td><font color = red>stigmatize</font> <font color = red>cultivate</font> tomorrow. <font color = red>helium</font> <font color = red>aim</font> out at <font color = red>five</font>. His <font color = red>play</font> is by your <font color = red>theater</font> so he can <font color = red>encounter</font> <font color = red>uranium</font> <font color = red>afterward</font>.</td>\n",
       "    </tr>\n",
       "    <tr>\n",
       "      <th>155</th>\n",
       "      <td><font color = red>Or</font> <font color = red>better</font> <font color = red>still</font> can you <font color = red>catch</font> her and <font color = red>let</font> <font color = red>ask</font> her if she can <font color = red>sell</font>  &lt;#&gt;  for me.</td>\n",
       "      <td><font color = red>surgery</font> <font color = red>advantageously</font> <font color = red>tranquilize</font> can you <font color = red>captivate</font> her and <font color = red>Lashkar-e-Tayyiba</font> <font color = red>postulate</font> her if she can <font color = red>betray</font>  &lt;#&gt;  for me.</td>\n",
       "    </tr>\n",
       "    <tr>\n",
       "      <th>156</th>\n",
       "      <td><font color = red>I</font> <font color = red>fetch</font> yun or <font color = red>u</font> <font color = red>fetch</font>?</td>\n",
       "      <td><font color = red>unity</font> <font color = red>convey</font> yun or <font color = red>uranium</font> <font color = red>convey</font>?</td>\n",
       "    </tr>\n",
       "    <tr>\n",
       "      <th>157</th>\n",
       "      <td>I'm in <font color = red>school</font> now n i'll be in da lab doing some <font color = red>stuff</font> <font color = red>give</font> me a <font color = red>call</font> when ü r <font color = red>done</font>.</td>\n",
       "      <td>I'm in <font color = red>train</font> now n i'll be in da lab doing some <font color = red>material</font> <font color = red>make</font> me a <font color = red>song</font> when ü r <font color = red>act</font>.</td>\n",
       "    </tr>\n",
       "    <tr>\n",
       "      <th>158</th>\n",
       "      <td><<font color = green>Forwarded</font> from 448712404000><font color = green>Please</font> <font color = green>CALL</font> 08712404000 <font color = green>immediately</font> as there is an urgent <font color = green>message</font> <font color = green>waiting</font> for you.</td>\n",
       "      <td><<font color = green>forward</font> from 448712404000><font color = green>delight</font> <font color = green>foretell</font> 08712404000 <font color = green>forthwith</font> as there is an urgent <font color = green>substance</font> <font color = green>await</font> for you.</td>\n",
       "    </tr>\n",
       "    <tr>\n",
       "      <th>159</th>\n",
       "      <td><font color = red>Hi</font>, wlcome <font color = red>back</font>, did <font color = red>wonder</font> if you <font color = red>got</font> eaten by a lion or something, nothing <font color = red>much</font></td>\n",
       "      <td><font color = red>how-do-you-do</font>, wlcome <font color = red>backrest</font>, did <font color = red>question</font> if you <font color = red>perplex</font> eaten by a lion or something, nothing <font color = red>practically</font></td>\n",
       "    </tr>\n",
       "    <tr>\n",
       "      <th>160</th>\n",
       "      <td>Carlos'll be here in a <font color = red>minute</font> if you <font color = red>still</font> <font color = red>need</font> to <font color = red>buy</font></td>\n",
       "      <td>Carlos'll be here in a <font color = red>moment</font> if you <font color = red>unruffled</font> <font color = red>pauperism</font> to <font color = red>purchase</font></td>\n",
       "    </tr>\n",
       "    <tr>\n",
       "      <th>161</th>\n",
       "      <td><font color = red>Ok</font>..</td>\n",
       "      <td><font color = red>Oklahoma</font>..</td>\n",
       "    </tr>\n",
       "    <tr>\n",
       "      <th>162</th>\n",
       "      <td>And that's <font color = red>fine</font>, <font color = red>I</font> <font color = red>got</font> <font color = red>enough</font> bud to <font color = red>last</font> most of the <font color = red>night</font> at least</td>\n",
       "      <td>And that's <font color = red>exquisitely</font>, <font color = red>ace</font> <font color = red>perplex</font> <font color = red>decent</font> bud to <font color = red>last-place</font> most of the <font color = red>dark</font> at least</td>\n",
       "    </tr>\n",
       "    <tr>\n",
       "      <th>163</th>\n",
       "      <td><font color = red>Do</font> you <font color = red>hide</font> anythiing or <font color = red>keeping</font> <font color = red>distance</font> from me</td>\n",
       "      <td><font color = red>practise</font> you <font color = red>conceal</font> anythiing or <font color = red>safekeeping</font> <font color = red>aloofness</font> from me</td>\n",
       "    </tr>\n",
       "    <tr>\n",
       "      <th>164</th>\n",
       "      <td><font color = red>Ok</font> then i'll <font color = red>let</font> him noe <font color = red>later</font> n ask him <font color = red>call</font> u tmr...</td>\n",
       "      <td><font color = red>fine</font> then i'll <font color = red>lease</font> him noe <font color = red>subsequently</font> n ask him <font color = red>name</font> u tmr...</td>\n",
       "    </tr>\n",
       "    <tr>\n",
       "      <th>165</th>\n",
       "      <td>You are a <font color = green>winner</font> <font color = green>U</font> have been <font color = green>specially</font> selected <font color = green>2</font> <font color = green>receive</font> £1000 cash or a 4* holiday (<font color = green>flights</font> inc) <font color = green>speak</font> to a <font color = green>live</font> <font color = green>operator</font> <font color = green>2</font> <font color = green>claim</font> 0871277810810</td>\n",
       "      <td>You are a <font color = green>victor</font> <font color = green>uranium</font> have been <font color = green>peculiarly</font> selected <font color = green>two</font> <font color = green>incur</font> £1000 cash or a 4* holiday (<font color = green>flying</font> inc) <font color = green>verbalise</font> to a <font color = green>survive</font> <font color = green>hustler</font> <font color = green>two</font> <font color = green>take</font> 0871277810810</td>\n",
       "    </tr>\n",
       "    <tr>\n",
       "      <th>166</th>\n",
       "      <td><font color = red>But</font> we havent <font color = red>got</font> da <font color = red>topic</font> <font color = red>yet</font> rite?</td>\n",
       "      <td><font color = red>merely</font> we havent <font color = red>incur</font> da <font color = red>matter</font> <font color = red>heretofore</font> rite?</td>\n",
       "    </tr>\n",
       "    <tr>\n",
       "      <th>167</th>\n",
       "      <td>* FREE* <font color = green>POLYPHONIC</font> RINGTONE <font color = green>Text</font> <font color = green>SUPER</font> to 87131 to <font color = green>get</font> your <font color = green>FREE</font> POLY <font color = green>TONE</font> of the <font color = green>week</font> now! <font color = green>16</font> <font color = green>SN</font> PoBox202 NR31 7ZS subscription 450pw</td>\n",
       "      <td>* FREE* <font color = green>contrapuntal</font> RINGTONE <font color = green>textbook</font> <font color = green>extremely</font> to 87131 to <font color = green>beat</font> your <font color = green>release</font> POLY <font color = green>chant</font> of the <font color = green>hebdomad</font> now! <font color = green>XVI</font> <font color = green>tin</font> PoBox202 NR31 7ZS subscription 450pw</td>\n",
       "    </tr>\n",
       "    <tr>\n",
       "      <th>168</th>\n",
       "      <td><font color = red>Tell</font> where you <font color = red>reached</font></td>\n",
       "      <td><font color = red>recount</font> where you <font color = red>touch</font></td>\n",
       "    </tr>\n",
       "    <tr>\n",
       "      <th>169</th>\n",
       "      <td><font color = red>I</font> am in hospital da. . <font color = red>I</font> will <font color = red>return</font> <font color = red>home</font> in evening</td>\n",
       "      <td><font color = red>1</font> am in hospital da. . <font color = red>1</font> will <font color = red>issue</font> <font color = red>internal</font> in evening</td>\n",
       "    </tr>\n",
       "    <tr>\n",
       "      <th>170</th>\n",
       "      <td><font color = red>Also</font> <font color = red>remember</font> the <font color = red>beads</font> don't <font color = red>come</font> off. <font color = red>Ever</font>.</td>\n",
       "      <td><font color = red>likewise</font> <font color = red>commemorate</font> the <font color = red>astragal</font> don't <font color = red>fall</font> off. <font color = red>always</font>.</td>\n",
       "    </tr>\n",
       "    <tr>\n",
       "      <th>171</th>\n",
       "      <td><font color = red>I</font> wanna watch that movie</td>\n",
       "      <td><font color = red>1</font> wanna watch that movie</td>\n",
       "    </tr>\n",
       "    <tr>\n",
       "      <th>172</th>\n",
       "      <td><font color = red>Nothing</font> <font color = red>much</font>, chillin at home. <font color = red>Any</font> <font color = red>super</font> <font color = red>bowl</font> <font color = red>plan</font>?</td>\n",
       "      <td><font color = red>cypher</font> <font color = red>practically</font>, chillin at home. <font color = red>whatever</font> <font color = red>first-rate</font> <font color = red>arena</font> <font color = red>program</font>?</td>\n",
       "    </tr>\n",
       "    <tr>\n",
       "      <th>173</th>\n",
       "      <td>Yup</td>\n",
       "      <td>Yup</td>\n",
       "    </tr>\n",
       "    <tr>\n",
       "      <th>174</th>\n",
       "      <td>LOL .. *grins* .. I'm not babe, but thanks for thinking of me!</td>\n",
       "      <td>LOL .. *grins* .. I'm not babe, but thanks for thinking of me!</td>\n",
       "    </tr>\n",
       "    <tr>\n",
       "      <th>175</th>\n",
       "      <td><font color = red>Happy</font> <font color = red>new</font> <font color = red>year</font> to <font color = red>u</font> and ur <font color = red>family</font>...may this <font color = red>new</font> year <font color = red>bring</font> <font color = red>happiness</font> , <font color = red>stability</font> and <font color = red>tranquility</font> to ur <font color = red>vibrant</font> <font color = red>colourful</font> <font color = red>life</font>:):)</td>\n",
       "      <td><font color = red>felicitous</font> <font color = red>newfangled</font> <font color = red>class</font> to <font color = red>uranium</font> and ur <font color = red>sept</font>...may this <font color = red>Modern</font> year <font color = red>impart</font> <font color = red>felicity</font> , <font color = red>stableness</font> and <font color = red>placidity</font> to ur <font color = red>vivacious</font> <font color = red>colorful</font> <font color = red>life-time</font>:):)</td>\n",
       "    </tr>\n",
       "    <tr>\n",
       "      <th>176</th>\n",
       "      <td><font color = red>I</font> jus <font color = red>reached</font> <font color = red>home</font>. <font color = red>I</font> <font color = red>go</font> bathe <font color = red>first</font>. <font color = red>But</font> my <font color = red>sis</font> <font color = red>using</font> <font color = red>net</font> <font color = red>tell</font> <font color = red>u</font> when she <font color = red>finishes</font> <font color = red>k</font>...</td>\n",
       "      <td><font color = red>unity</font> jus <font color = red>attain</font> <font color = red>domicile</font>. <font color = red>1</font> <font color = red>fail</font> bathe <font color = red>outset</font>. <font color = red>merely</font> my <font color = red>te</font> <font color = red>employ</font> <font color = red>profits</font> <font color = red>secern</font> <font color = red>uracil</font> when she <font color = red>finis</font> <font color = red>thou</font>...</td>\n",
       "    </tr>\n",
       "    <tr>\n",
       "      <th>177</th>\n",
       "      <td><font color = red>Nothing</font> but we jus tot <font color = red>u</font> would <font color = red>ask</font> <font color = red>cos</font> <font color = red>u</font> <font color = red>ba</font> gua... <font color = red>But</font> we <font color = red>went</font> <font color = red>mt</font> faber yest... Yest jus <font color = red>went</font> out already mah so <font color = red>today</font> not <font color = red>going</font> out... Jus <font color = red>call</font> lor...</td>\n",
       "      <td><font color = red>aught</font> but we jus tot <font color = red>uracil</font> would <font color = red>inquire</font> <font color = red>CO</font> <font color = red>uracil</font> <font color = red>AB</font> gua... <font color = red>merely</font> we <font color = red>croak</font> <font color = red>Montana</font> faber yest... Yest jus <font color = red>fit</font> out already mah so <font color = red>now</font> not <font color = red>conk</font> out... Jus <font color = red>foretell</font> lor...</td>\n",
       "    </tr>\n",
       "    <tr>\n",
       "      <th>178</th>\n",
       "      <td><font color = red>Ok</font> lor...</td>\n",
       "      <td><font color = red>okeh</font> lor...</td>\n",
       "    </tr>\n",
       "    <tr>\n",
       "      <th>179</th>\n",
       "      <td><font color = red>1</font>.20 that <font color = red>call</font> <font color = red>cost</font>. Which i <font color = red>guess</font> isnt <font color = red>bad</font>. <font color = red>Miss</font> ya, <font color = red>need</font> ya, <font color = red>want</font> ya, <font color = red>love</font> ya</td>\n",
       "      <td><font color = red>ane</font>.20 that <font color = red>holler</font> <font color = red>be</font>. Which i <font color = red>reckon</font> isnt <font color = red>sorry</font>. <font color = red>fille</font> ya, <font color = red>involve</font> ya, <font color = red>deficiency</font> ya, <font color = red>fuck</font> ya</td>\n",
       "    </tr>\n",
       "    <tr>\n",
       "      <th>180</th>\n",
       "      <td><font color = green>Get</font> a <font color = green>brand</font> new <font color = green>mobile</font> phone by being an agent of The Mob! <font color = green>Plus</font> <font color = green>loads</font> more <font color = green>goodies</font>! For more info just <font color = green>text</font> <font color = green>MAT</font> to 87021.</td>\n",
       "      <td><font color = red>develop</font> a <font color = red>stigmatize</font> new <font color = red>fluid</font> phone by being an agent of The Mob! <font color = red>positive</font> <font color = red>lade</font> more <font color = red>goody</font>! For more info just <font color = red>textbook</font> <font color = red>flatness</font> to 87021.</td>\n",
       "    </tr>\n",
       "    <tr>\n",
       "      <th>181</th>\n",
       "      <td>important information <font color = green>4</font> <font color = green>orange</font> <font color = green>user</font> . today is your lucky day!2find out why log onto http://www.urawinner.com THERE'S <font color = green>A</font> FANTASTIC <font color = green>SURPRISE</font> AWAITING YOU!</td>\n",
       "      <td>important information <font color = red>quatern</font> <font color = red>orangish</font> <font color = red>exploiter</font> . today is your lucky day!2find out why log onto http://www.urawinner.com THERE'S <font color = red>axerophthol</font> FANTASTIC <font color = red>surprisal</font> AWAITING YOU!</td>\n",
       "    </tr>\n",
       "    <tr>\n",
       "      <th>182</th>\n",
       "      <td>They have a thread on the wishlist section of the forums where ppl post nitro requests. Start from the last page and collect from the bottom up.</td>\n",
       "      <td>They have a thread on the wishlist section of the forums where ppl post nitro requests. Start from the last page and collect from the bottom up.</td>\n",
       "    </tr>\n",
       "    <tr>\n",
       "      <th>183</th>\n",
       "      <td>how <font color = red>tall</font> are you princess?</td>\n",
       "      <td>how <font color = red>marvellous</font> are you princess?</td>\n",
       "    </tr>\n",
       "    <tr>\n",
       "      <th>184</th>\n",
       "      <td>Yupz... I've oredi <font color = red>booked</font> <font color = red>slots</font> <font color = red>4</font> my <font color = red>weekends</font> liao...</td>\n",
       "      <td>Yupz... I've oredi <font color = red>reserve</font> <font color = red>slot</font> <font color = red>IV</font> my <font color = red>weekend</font> liao...</td>\n",
       "    </tr>\n",
       "    <tr>\n",
       "      <th>185</th>\n",
       "      <td><font color = red>Check</font> with nuerologist.</td>\n",
       "      <td><font color = red>substantiation</font> with nuerologist.</td>\n",
       "    </tr>\n",
       "    <tr>\n",
       "      <th>186</th>\n",
       "      <td>Honey <font color = red>boo</font> I'm <font color = red>missing</font> u.</td>\n",
       "      <td>Honey <font color = red>snort</font> I'm <font color = red>lack</font> u.</td>\n",
       "    </tr>\n",
       "    <tr>\n",
       "      <th>187</th>\n",
       "      <td>We <font color = red>still</font> on for tonight?</td>\n",
       "      <td>We <font color = red>tranquilize</font> on for tonight?</td>\n",
       "    </tr>\n",
       "    <tr>\n",
       "      <th>188</th>\n",
       "      <td><font color = red>Hi</font> the <font color = red>way</font> <font color = red>I</font> was with <font color = red>u</font> 2day, is the <font color = red>normal</font> <font color = red>way</font>&this is the <font color = red>real</font> me. UR unique&<font color = red>I</font> <font color = red>hope</font> <font color = red>I</font> <font color = red>know</font> <font color = red>u</font> 4 the <font color = red>rest</font> of mylife. <font color = red>Hope</font> <font color = red>u</font> <font color = red>find</font> wot was <font color = red>lost</font>.</td>\n",
       "      <td><font color = red>how-do-you-do</font> the <font color = red>style</font> <font color = red>single</font> was with <font color = red>uranium</font> 2day, is the <font color = red>rule</font> <font color = red>mode</font>&this is the <font color = red>genuine</font> me. UR unique&<font color = red>single</font> <font color = red>promise</font> <font color = red>ace</font> <font color = red>love</font> <font color = red>uranium</font> 4 the <font color = red>stay</font> of mylife. <font color = red>promise</font> <font color = red>uranium</font> <font color = red>breakthrough</font> wot was <font color = red>mixed-up</font>.</td>\n",
       "    </tr>\n",
       "    <tr>\n",
       "      <th>189</th>\n",
       "      <td>Gibbs unsold.mike hussey</td>\n",
       "      <td>Gibbs unsold.mike hussey</td>\n",
       "    </tr>\n",
       "    <tr>\n",
       "      <th>190</th>\n",
       "      <td>What time should <font color = red>I</font> <font color = red>tell</font> my <font color = red>friend</font> to be around?</td>\n",
       "      <td>What time should <font color = red>one</font> <font color = red>recount</font> my <font color = red>admirer</font> to be around?</td>\n",
       "    </tr>\n",
       "    <tr>\n",
       "      <th>191</th>\n",
       "      <td>Joy's <font color = red>father</font> is <font color = red>John</font>. Then <font color = red>John</font> is the ____ of Joy's <font color = red>father</font>. If u ans ths you hav  &lt;#&gt;  IQ. <font color = red>Tis</font> s <font color = red>IAS</font> <font color = red>question</font> <font color = red>try</font> to <font color = red>answer</font>.</td>\n",
       "      <td>Joy's <font color = red>beget</font> is <font color = red>can</font>. Then <font color = red>privy</font> is the ____ of Joy's <font color = red>sire</font>. If u ans ths you hav  &lt;#&gt;  IQ. <font color = red>Ti</font> s <font color = red>IA</font> <font color = red>doubtfulness</font> <font color = red>adjudicate</font> to <font color = red>reply</font>.</td>\n",
       "    </tr>\n",
       "    <tr>\n",
       "      <th>192</th>\n",
       "      <td><font color = red>Bill</font>, as in: <font color = red>Are</font> there any <font color = red>letters</font> for me. i’m <font color = red>expecting</font> <font color = red>one</font> from orange that isn’t a <font color = red>bill</font> but <font color = red>may</font> <font color = red>still</font> <font color = red>say</font> orange on it.</td>\n",
       "      <td><font color = red>banknote</font>, as in: <font color = red>live</font> there any <font color = red>missive</font> for me. i’m <font color = red>await</font> <font color = red>matchless</font> from orange that isn’t a <font color = red>greenback</font> but <font color = red>whitethorn</font> <font color = red>stock-still</font> <font color = red>order</font> orange on it.</td>\n",
       "    </tr>\n",
       "    <tr>\n",
       "      <th>193</th>\n",
       "      <td>Alrite jod hows the <font color = red>revision</font> goin? Keris <font color = red>bin</font> doin a smidgin. <font color = red>N</font> <font color = red>e</font> <font color = red>way</font> <font color = red>u</font> wanna <font color = red>cum</font> over after college?xx</td>\n",
       "      <td>Alrite jod hows the <font color = red>revisal</font> goin? Keris <font color = red>binful</font> doin a smidgin. <font color = red>northward</font> <font color = red>tocopherol</font> <font color = red>manner</font> <font color = red>uracil</font> wanna <font color = red>semen</font> over after college?xx</td>\n",
       "    </tr>\n",
       "    <tr>\n",
       "      <th>194</th>\n",
       "      <td>You're not <font color = red>sure</font> that I'm not <font color = red>trying</font> to <font color = red>make</font> <font color = red>xavier</font> <font color = red>smoke</font> because <font color = red>I</font> don't <font color = red>want</font> to <font color = red>smoke</font> after being <font color = red>told</font> <font color = red>I</font> <font color = red>smoke</font> too <font color = red>much</font>?</td>\n",
       "      <td>You're not <font color = red>certain</font> that I'm not <font color = red>nerve-racking</font> to <font color = red>seduce</font> <font color = red>Xavier</font> <font color = red>smoking</font> because <font color = red>one</font> don't <font color = red>wish</font> to <font color = red>fastball</font> after being <font color = red>recount</font> <font color = red>iodine</font> <font color = red>fastball</font> too <font color = red>practically</font>?</td>\n",
       "    </tr>\n",
       "    <tr>\n",
       "      <th>195</th>\n",
       "      <td>Thanks again for your <font color = red>reply</font> today. When is ur visa <font color = red>coming</font> in. And <font color = red>r</font> <font color = red>u</font> <font color = red>still</font> <font color = red>buying</font> the gucci and <font color = red>bags</font>. My <font color = red>sister</font> <font color = red>things</font> are not <font color = red>easy</font>, uncle <font color = red>john</font> also has his own <font color = red>bills</font> so i <font color = red>really</font> need to <font color = red>think</font> about how to <font color = red>make</font> my own money. <font color = red>Later</font> sha.</td>\n",
       "      <td>Thanks again for your <font color = red>response</font> today. When is ur visa <font color = red>forthcoming</font> in. And <font color = red>roentgen</font> <font color = red>uranium</font> <font color = red>static</font> <font color = red>purchase</font> the gucci and <font color = red>pocketbook</font>. My <font color = red>babe</font> <font color = red>matter</font> are not <font color = red>well-off</font>, uncle <font color = red>lavatory</font> also has his own <font color = red>greenback</font> so i <font color = red>genuinely</font> need to <font color = red>retrieve</font> about how to <font color = red>crap</font> my own money. <font color = red>recent</font> sha.</td>\n",
       "    </tr>\n",
       "    <tr>\n",
       "      <th>196</th>\n",
       "      <td>It could <font color = red>work</font>, we'll <font color = red>reach</font> a consensus at the <font color = red>next</font> <font color = red>meeting</font></td>\n",
       "      <td>It could <font color = red>cultivate</font>, we'll <font color = red>achieve</font> a consensus at the <font color = red>future</font> <font color = red>play</font></td>\n",
       "    </tr>\n",
       "    <tr>\n",
       "      <th>197</th>\n",
       "      <td>Yeah <font color = red>like</font> if it <font color = red>goes</font> <font color = red>like</font> it did with my <font color = red>friends</font> imma <font color = red>flip</font> my <font color = red>shit</font> in <font color = red>like</font> <font color = red>half</font> an hour</td>\n",
       "      <td>Yeah <font color = red>alike</font> if it <font color = red>XTC</font> <font color = red>wish</font> it did with my <font color = red>protagonist</font> imma <font color = red>somersaulting</font> my <font color = red>crap</font> in <font color = red>similar</font> <font color = red>one-half</font> an hour</td>\n",
       "    </tr>\n",
       "    <tr>\n",
       "      <th>198</th>\n",
       "      <td><font color = red>Auntie</font> huai juan never <font color = red>pick</font> up her <font color = red>phone</font></td>\n",
       "      <td><font color = red>aunt</font> huai juan never <font color = red>clean</font> up her <font color = red>earpiece</font></td>\n",
       "    </tr>\n",
       "    <tr>\n",
       "      <th>199</th>\n",
       "      <td>Lol. Well <font color = red>quality</font> aint <font color = red>bad</font> at all so i aint <font color = red>complaining</font></td>\n",
       "      <td>Lol. Well <font color = red>select</font> aint <font color = red>defective</font> at all so i aint <font color = red>plain</font></td>\n",
       "    </tr>\n",
       "    <tr>\n",
       "      <th>200</th>\n",
       "      <td><font color = red>Reverse</font> is <font color = red>cheating</font>. That is not mathematics.</td>\n",
       "      <td><font color = red>setback</font> is <font color = red>unsportsmanlike</font>. That is not mathematics.</td>\n",
       "    </tr>\n",
       "    <tr>\n",
       "      <th>201</th>\n",
       "      <td>* Will be september by then!</td>\n",
       "      <td>* Will be september by then!</td>\n",
       "    </tr>\n",
       "    <tr>\n",
       "      <th>202</th>\n",
       "      <td>Oic cos me n my <font color = red>sis</font> <font color = red>got</font> no <font color = red>lunch</font> <font color = red>today</font> my <font color = red>dad</font> <font color = red>went</font> out... So dunno whether <font color = red>2</font> <font color = red>eat</font> in sch or wat...</td>\n",
       "      <td>Oic cos me n my <font color = red>te</font> <font color = red>dumbfound</font> no <font color = red>tiffin</font> <font color = red>now</font> my <font color = red>pa</font> <font color = red>croak</font> out... So dunno whether <font color = red>deuce</font> <font color = red>rust</font> in sch or wat...</td>\n",
       "    </tr>\n",
       "    <tr>\n",
       "      <th>203</th>\n",
       "      <td>Yes, my reg is  Ciao!</td>\n",
       "      <td>Yes, my reg is  Ciao!</td>\n",
       "    </tr>\n",
       "    <tr>\n",
       "      <th>204</th>\n",
       "      <td>U <font color = red>need</font> my presnts <font color = red>always</font> bcz U <font color = red>cant</font> <font color = red>mis</font> <font color = red>love</font>. \"jeevithathile irulinae neekunna prakasamanu sneham\" prakasam ennal prabha 'That <font color = red>mns</font> prabha is'LOVE' <font color = red>Got</font> it. Dont <font color = red>mis</font> me....</td>\n",
       "      <td>U <font color = red>postulate</font> my presnts <font color = red>invariably</font> bcz U <font color = red>slang</font> <font color = red>mile</font> <font color = red>bang</font>. \"jeevithathile irulinae neekunna prakasamanu sneham\" prakasam ennal prabha 'That <font color = red>MN</font> prabha is'LOVE' <font color = red>convey</font> it. Dont <font color = red>MI</font> me....</td>\n",
       "    </tr>\n",
       "    <tr>\n",
       "      <th>205</th>\n",
       "      <td><font color = red>R</font> <font color = red>U</font> &SAM <font color = red>P</font> <font color = red>IN</font> EACHOTHER. IF WE <font color = red>MEET</font> WE <font color = red>CAN</font> <font color = red>GO</font> <font color = red>2</font> MY <font color = red>HOUSE</font></td>\n",
       "      <td><font color = red>radius</font> <font color = red>uracil</font> &SAM <font color = red>phosphorus</font> <font color = red>inward</font> EACHOTHER. IF WE <font color = red>satisfy</font> WE <font color = red>displace</font> <font color = red>extend</font> <font color = red>two</font> MY <font color = red>firm</font></td>\n",
       "    </tr>\n",
       "    <tr>\n",
       "      <th>206</th>\n",
       "      <td><font color = red>Ok</font> lor... Sony ericsson salesman... <font color = red>I</font> <font color = red>ask</font> shuhui then she <font color = red>say</font> quite <font color = red>gd</font> <font color = red>2</font> <font color = red>use</font> so i <font color = red>considering</font>...</td>\n",
       "      <td><font color = red>fine</font> lor... Sony ericsson salesman... <font color = red>single</font> <font color = red>inquire</font> shuhui then she <font color = red>enjoin</font> quite <font color = red>gadolinium</font> <font color = red>deuce</font> <font color = red>habituate</font> so i <font color = red>deliberate</font>...</td>\n",
       "    </tr>\n",
       "    <tr>\n",
       "      <th>207</th>\n",
       "      <td>And <font color = red>stop</font> <font color = red>wondering</font> \"<font color = red>wow</font> is she ever <font color = red>going</font> to <font color = red>stop</font> tm'ing me ?!\" because <font color = red>I</font> will tm you whenever <font color = red>I</font> <font color = red>want</font> because you are MINE ... *laughs*</td>\n",
       "      <td>And <font color = red>stoppage</font> <font color = red>questioning</font> \"<font color = red>thigh-slapper</font> is she ever <font color = red>expire</font> to <font color = red>terminate</font> tm'ing me ?!\" because <font color = red>ace</font> will tm you whenever <font color = red>single</font> <font color = red>need</font> because you are MINE ... *laughs*</td>\n",
       "    </tr>\n",
       "    <tr>\n",
       "      <th>208</th>\n",
       "      <td><font color = red>One</font> of <font color = red>best</font> <font color = red>dialogue</font> in <font color = red>cute</font> reltnship..!! \"<font color = red>Wen</font> i <font color = red>Die</font>, Dont <font color = red>Come</font> <font color = red>Near</font> My <font color = red>Body</font>..!! Bcoz My <font color = red>Hands</font> May <font color = red>Not</font> <font color = red>Come</font> 2 Wipe Ur <font color = red>Tears</font> <font color = red>Off</font> That <font color = red>Time</font>..!Gud ni8</td>\n",
       "      <td><font color = red>single</font> of <font color = red>trump</font> <font color = red>duologue</font> in <font color = red>precious</font> reltnship..!! \"<font color = red>steatocystoma</font> i <font color = red>exit</font>, Dont <font color = red>arrive</font> <font color = red>penny-pinching</font> My <font color = red>soundbox</font>..!! Bcoz My <font color = red>give</font> May <font color = red>non</font> <font color = red>number</font> 2 Wipe Ur <font color = red>charge</font> <font color = red>cancelled</font> That <font color = red>clip</font>..!Gud ni8</td>\n",
       "    </tr>\n",
       "    <tr>\n",
       "      <th>209</th>\n",
       "      <td>How much did ur hdd casing cost.</td>\n",
       "      <td>How much did ur hdd casing cost.</td>\n",
       "    </tr>\n",
       "    <tr>\n",
       "      <th>210</th>\n",
       "      <td><font color = red>I</font> <font color = red>emailed</font> yifeng my <font color = red>part</font> oredi.. <font color = red>Can</font> ü <font color = red>get</font> it <font color = red>fr</font> him..</td>\n",
       "      <td><font color = red>ane</font> <font color = red>netmail</font> yifeng my <font color = red>function</font> oredi.. <font color = red>terminate</font> ü <font color = red>father</font> it <font color = red>francium</font> him..</td>\n",
       "    </tr>\n",
       "    <tr>\n",
       "      <th>211</th>\n",
       "      <td>Gr8 Poly <font color = green>tones</font> <font color = green>4</font> <font color = green>ALL</font> <font color = green>mobs</font> <font color = green>direct</font> 2u rply with POLY <font color = green>TITLE</font> to 8007 eg POLY BREATHE1 <font color = green>Titles</font>: CRAZYIN, SLEEPINGWITH, FINEST, YMCA :getzed.co.<font color = green>uk</font> POBox365O4W45WQ 300p</td>\n",
       "      <td>Gr8 Poly <font color = green>tone</font> <font color = green>quartet</font> <font color = green>entirely</font> <font color = green>family</font> <font color = green>engineer</font> 2u rply with POLY <font color = green>championship</font> to 8007 eg POLY BREATHE1 <font color = green>style</font>: CRAZYIN, SLEEPINGWITH, FINEST, YMCA :getzed.co.<font color = green>Britain</font> POBox365O4W45WQ 300p</td>\n",
       "    </tr>\n",
       "    <tr>\n",
       "      <th>212</th>\n",
       "      <td>How <font color = red>long</font> does applebees <font color = red>fucking</font> <font color = red>take</font></td>\n",
       "      <td>How <font color = red>prospicient</font> does applebees <font color = red>blooming</font> <font color = red>payoff</font></td>\n",
       "    </tr>\n",
       "    <tr>\n",
       "      <th>213</th>\n",
       "      <td><font color = red>No</font> plm i will <font color = red>come</font> da. <font color = red>On</font> the <font color = red>way</font>.</td>\n",
       "      <td><font color = red>nobelium</font> plm i will <font color = red>semen</font> da. <font color = red>along</font> the <font color = red>manner</font>.</td>\n",
       "    </tr>\n",
       "    <tr>\n",
       "      <th>214</th>\n",
       "      <td>Hey, iouri gave me your <font color = red>number</font>, I'm wylie, ryan's <font color = red>friend</font></td>\n",
       "      <td>Hey, iouri gave me your <font color = red>numerate</font>, I'm wylie, ryan's <font color = red>admirer</font></td>\n",
       "    </tr>\n",
       "    <tr>\n",
       "      <th>215</th>\n",
       "      <td><font color = green>Back</font> 2 work 2morro half term over! <font color = green>Can</font> U C me 2nite <font color = green>4</font> some <font color = green>sexy</font> <font color = green>passion</font> B4 I have 2 go <font color = green>back</font>? <font color = green>Chat</font> <font color = green>NOW</font> 09099726481 Luv DENA <font color = green>Calls</font> £<font color = green>1</font>/minMobsmoreLKPOBOX177HP51FL</td>\n",
       "      <td><font color = red>hind</font> 2 work 2morro half term over! <font color = red>tooshie</font> U C me 2nite <font color = red>quaternion</font> some <font color = red>aphrodisiacal</font> <font color = red>cacoethes</font> B4 I have 2 go <font color = red>rachis</font>? <font color = red>chaffer</font> <font color = red>forthwith</font> 09099726481 Luv DENA <font color = red>hollo</font> £<font color = red>ane</font>/minMobsmoreLKPOBOX177HP51FL</td>\n",
       "    </tr>\n",
       "    <tr>\n",
       "      <th>216</th>\n",
       "      <td><font color = red>I</font> was slept that <font color = red>time</font>.you there?</td>\n",
       "      <td><font color = red>single</font> was slept that <font color = red>sentence</font>.you there?</td>\n",
       "    </tr>\n",
       "    <tr>\n",
       "      <th>217</th>\n",
       "      <td>Let me <font color = red>know</font> how to <font color = red>contact</font> you. I've you <font color = red>settled</font> in a room. <font color = red>Lets</font> <font color = red>know</font> you are <font color = red>ok</font>.</td>\n",
       "      <td>Let me <font color = red>love</font> how to <font color = red>impinging</font> you. I've you <font color = red>finalize</font> in a room. <font color = red>LET</font> <font color = red>recognize</font> you are <font color = red>okay</font>.</td>\n",
       "    </tr>\n",
       "    <tr>\n",
       "      <th>218</th>\n",
       "      <td>If you were/are <font color = red>free</font> i can <font color = red>give</font>. <font color = red>Otherwise</font> nalla adi entey nattil kittum</td>\n",
       "      <td>If you were/are <font color = red>unblock</font> i can <font color = red>present</font>. <font color = red>differently</font> nalla adi entey nattil kittum</td>\n",
       "    </tr>\n",
       "    <tr>\n",
       "      <th>219</th>\n",
       "      <td>Wat <font color = red>u</font> doing there?</td>\n",
       "      <td>Wat <font color = red>uranium</font> doing there?</td>\n",
       "    </tr>\n",
       "    <tr>\n",
       "      <th>220</th>\n",
       "      <td><font color = red>No</font> but the bluray player can</td>\n",
       "      <td><font color = red>nobelium</font> but the bluray player can</td>\n",
       "    </tr>\n",
       "    <tr>\n",
       "      <th>221</th>\n",
       "      <td><font color = red>K</font> I'll be there before <font color = red>4</font>.</td>\n",
       "      <td><font color = red>thou</font> I'll be there before <font color = red>tetrad</font>.</td>\n",
       "    </tr>\n",
       "    <tr>\n",
       "      <th>222</th>\n",
       "      <td>Do you <font color = red>know</font> why <font color = red>god</font> <font color = red>created</font> <font color = red>gap</font> between your <font color = red>fingers</font>..? So that, <font color = red>One</font> who is <font color = red>made</font> for you <font color = red>comes</font> &<font color = red>amp</font>; <font color = red>fills</font> those <font color = red>gaps</font> by <font color = red>holding</font> your <font color = red>hand</font> with <font color = red>LOVE</font>..!</td>\n",
       "      <td>Do you <font color = red>experience</font> why <font color = red>idol</font> <font color = red>create</font> <font color = red>disruption</font> between your <font color = red>digit</font>..? So that, <font color = red>matchless</font> who is <font color = red>ready</font> for you <font color = red>semen</font> &<font color = red>A</font>; <font color = red>replete</font> those <font color = red>opening</font> by <font color = red>entertain</font> your <font color = red>script</font> with <font color = red>lovemaking</font>..!</td>\n",
       "    </tr>\n",
       "    <tr>\n",
       "      <th>223</th>\n",
       "      <td>Hmmm.... Mayb can <font color = red>try</font> e shoppin <font color = red>area</font> <font color = red>one</font>, but <font color = red>forgot</font> <font color = red>e</font> name of hotel...</td>\n",
       "      <td>Hmmm.... Mayb can <font color = red>effort</font> e shoppin <font color = red>expanse</font> <font color = red>I</font>, but <font color = red>block</font> <font color = red>eastward</font> name of hotel...</td>\n",
       "    </tr>\n",
       "    <tr>\n",
       "      <th>224</th>\n",
       "      <td><font color = red>Siva</font> is in <font color = red>hostel</font> aha:-.</td>\n",
       "      <td><font color = red>Shiva</font> is in <font color = red>lodge</font> aha:-.</td>\n",
       "    </tr>\n",
       "    <tr>\n",
       "      <th>225</th>\n",
       "      <td>Goodo! Yes we must <font color = red>speak</font> friday - egg-potato ratio for tortilla <font color = red>needed</font>!</td>\n",
       "      <td>Goodo! Yes we must <font color = red>address</font> friday - egg-potato ratio for tortilla <font color = red>requisite</font>!</td>\n",
       "    </tr>\n",
       "    <tr>\n",
       "      <th>226</th>\n",
       "      <td>would <font color = red>u</font> fuckin <font color = red>believe</font> it they didnt <font color = red>know</font> i had thurs pre <font color = red>booked</font> off so they re <font color = red>cancelled</font> me AGAIN! that <font color = red>needs</font> to <font color = red>b</font> <font color = red>sacked</font></td>\n",
       "      <td>would <font color = red>uracil</font> fuckin <font color = red>trust</font> it they didnt <font color = red>recognise</font> i had thurs pre <font color = red>engaged</font> off so they re <font color = red>offset</font> me AGAIN! that <font color = red>require</font> to <font color = red>bacillus</font> <font color = red>plunder</font></td>\n",
       "    </tr>\n",
       "    <tr>\n",
       "      <th>227</th>\n",
       "      <td><font color = green>Dear</font> Voucher <font color = green>Holder</font> <font color = green>2</font> <font color = green>claim</font> your <font color = green>1st</font> <font color = green>class</font> <font color = green>airport</font> <font color = green>lounge</font> <font color = green>passes</font> when <font color = green>using</font> Your <font color = green>holiday</font> <font color = green>voucher</font> <font color = green>call</font> 08704439680. When <font color = green>booking</font> <font color = green>quote</font> <font color = green>1st</font> class <font color = green>x</font> <font color = green>2</font></td>\n",
       "      <td><font color = green>lamb</font> Voucher <font color = green>bearer</font> <font color = green>two</font> <font color = green>call</font> your <font color = green>first</font> <font color = green>division</font> <font color = green>drome</font> <font color = green>lallygag</font> <font color = green>fleet</font> when <font color = green>utilise</font> Your <font color = green>vacation</font> <font color = green>coupon</font> <font color = green>squall</font> 08704439680. When <font color = green>reserve</font> <font color = green>citation</font> <font color = green>first</font> class <font color = green>tenner</font> <font color = green>two</font></td>\n",
       "    </tr>\n",
       "    <tr>\n",
       "      <th>228</th>\n",
       "      <td>It should <font color = red>take</font> about  &lt;#&gt;  <font color = red>min</font></td>\n",
       "      <td>It should <font color = red>ingest</font> about  &lt;#&gt;  <font color = red>Amoy</font></td>\n",
       "    </tr>\n",
       "    <tr>\n",
       "      <th>229</th>\n",
       "      <td>My slave! I want you to <font color = red>take</font> 2 or 3 pictures of yourself today in bright light on your cell phone! Bright light!</td>\n",
       "      <td>My slave! I want you to <font color = green>subscribe</font> 2 or 3 pictures of yourself today in bright light on your cell phone! Bright light!</td>\n",
       "    </tr>\n",
       "    <tr>\n",
       "      <th>230</th>\n",
       "      <td>Haven't <font color = red>found</font> a <font color = red>way</font> to get another app for your phone, eh ? Will you <font color = red>go</font> to the net cafe ? Did you take that job? Geeee I need you babe. <font color = red>I</font> crave to see you ...</td>\n",
       "      <td>Haven't <font color = green>launch</font> a <font color = green>mode</font> to get another app for your phone, eh ? Will you <font color = green>XTC</font> to the net cafe ? Did you take that job? Geeee I need you babe. <font color = green>1</font> crave to see you ...</td>\n",
       "    </tr>\n",
       "    <tr>\n",
       "      <th>231</th>\n",
       "      <td><font color = red>I</font> love your <font color = red>ass</font>! Do you enjoy <font color = red>doggy</font> <font color = red>style</font>? :)</td>\n",
       "      <td><font color = green>single</font> love your <font color = green>buttocks</font>! Do you enjoy <font color = green>bow-wow</font> <font color = green>mode</font>? :)</td>\n",
       "    </tr>\n",
       "    <tr>\n",
       "      <th>232</th>\n",
       "      <td>1 in cbe. 2 in chennai.</td>\n",
       "      <td>1 in cbe. 2 in chennai.</td>\n",
       "    </tr>\n",
       "    <tr>\n",
       "      <th>233</th>\n",
       "      <td><font color = red>Yeah</font>, <font color = red>probably</font> but not <font color = red>sure</font>. Ilol <font color = red>let</font> <font color = red>u</font> <font color = red>know</font>, but personally <font color = red>I</font> wuldnt <font color = red>bother</font>, then again if ur goin to then <font color = red>I</font> <font color = red>mite</font> as <font color = red>well</font>!!</td>\n",
       "      <td><font color = red>yea</font>, <font color = red>credibly</font> but not <font color = red>indisputable</font>. Ilol <font color = red>lease</font> <font color = red>uracil</font> <font color = red>recognise</font>, but personally <font color = red>single</font> wuldnt <font color = red>nettle</font>, then again if ur goin to then <font color = red>iodine</font> <font color = red>speck</font> as <font color = red>wellspring</font>!!</td>\n",
       "    </tr>\n",
       "    <tr>\n",
       "      <th>234</th>\n",
       "      <td>Happy birthday... May all ur dreams come true...</td>\n",
       "      <td>Happy birthday... May all ur dreams come true...</td>\n",
       "    </tr>\n",
       "    <tr>\n",
       "      <th>235</th>\n",
       "      <td><font color = red>I</font> <font color = red>like</font> to <font color = red>think</font> there's <font color = red>always</font> the <font color = red>possibility</font> of being in a pub <font color = red>later</font>.</td>\n",
       "      <td><font color = red>one</font> <font color = red>similar</font> to <font color = red>imagine</font> there's <font color = red>forever</font> the <font color = red>opening</font> of being in a pub <font color = red>belated</font>.</td>\n",
       "    </tr>\n",
       "    <tr>\n",
       "      <th>236</th>\n",
       "      <td><font color = red>Sorry</font>, my battery <font color = red>died</font>, <font color = red>I</font> can <font color = red>come</font> by but I'm only <font color = red>getting</font> a <font color = red>gram</font> for now, where's your <font color = red>place</font>?</td>\n",
       "      <td><font color = red>good-for-nothing</font>, my battery <font color = red>expire</font>, <font color = red>iodine</font> can <font color = red>arrive</font> by but I'm only <font color = red>acquiring</font> a <font color = red>gm</font> for now, where's your <font color = red>site</font>?</td>\n",
       "    </tr>\n",
       "    <tr>\n",
       "      <th>237</th>\n",
       "      <td>Your <font color = red>opinion</font> about me? <font color = red>1</font>. <font color = red>Over</font> 2. Jada <font color = red>3</font>. Kusruthi <font color = red>4</font>. <font color = red>Lovable</font> <font color = red>5</font>. <font color = red>Silent</font> <font color = red>6</font>. Spl <font color = red>character</font> 7. <font color = red>Not</font> <font color = red>matured</font> <font color = red>8</font>. <font color = red>Stylish</font> 9. <font color = red>Simple</font> Pls <font color = red>reply</font>..</td>\n",
       "      <td>Your <font color = red>view</font> about me? <font color = red>single</font>. <font color = red>terminated</font> 2. Jada <font color = red>triplet</font>. Kusruthi <font color = red>quadruplet</font>. <font color = red>loveable</font> <font color = red>V</font>. <font color = red>soundless</font> <font color = red>sextuplet</font>. Spl <font color = red>quality</font> 7. <font color = red>non</font> <font color = red>mature</font> <font color = red>octet</font>. <font color = red>fashionable</font> 9. <font color = red>round-eyed</font> Pls <font color = red>response</font>..</td>\n",
       "    </tr>\n",
       "    <tr>\n",
       "      <th>238</th>\n",
       "      <td>You are <font color = green>guaranteed</font> the <font color = green>latest</font> Nokia <font color = green>Phone</font>, a 40GB iPod MP3 player or a £500 <font color = green>prize</font>! Txt <font color = green>word</font>: <font color = green>COLLECT</font> to No: 83355! IBHltd LdnW15H 150p/Mtmsgrcvd18</td>\n",
       "      <td>You are <font color = green>insure</font> the <font color = green>later</font> Nokia <font color = green>headphone</font>, a 40GB iPod MP3 player or a £500 <font color = green>select</font>! Txt <font color = green>give-and-take</font>: <font color = green>amass</font> to No: 83355! IBHltd LdnW15H 150p/Mtmsgrcvd18</td>\n",
       "    </tr>\n",
       "    <tr>\n",
       "      <th>239</th>\n",
       "      <td><font color = red>A</font> bloo bloo bloo I'll miss the <font color = red>first</font> <font color = red>bowl</font></td>\n",
       "      <td><font color = red>ampere</font> bloo bloo bloo I'll miss the <font color = red>maiden</font> <font color = red>roll</font></td>\n",
       "    </tr>\n",
       "    <tr>\n",
       "      <th>240</th>\n",
       "      <td><font color = red>Well</font> thats <font color = red>nice</font>. <font color = red>Too</font> <font color = red>bad</font> i cant eat it</td>\n",
       "      <td><font color = red>wellspring</font> thats <font color = red>overnice</font>. <font color = red>overly</font> <font color = red>sorry</font> i cant eat it</td>\n",
       "    </tr>\n",
       "    <tr>\n",
       "      <th>241</th>\n",
       "      <td><font color = red>Dear</font> <font color = red>got</font> train and seat mine lower seat</td>\n",
       "      <td><font color = green>high-priced</font> <font color = green>aim</font> train and seat mine lower seat</td>\n",
       "    </tr>\n",
       "    <tr>\n",
       "      <th>242</th>\n",
       "      <td>URGENT! We are <font color = green>trying</font> to <font color = green>contact</font> <font color = green>U</font>. <font color = green>Todays</font> <font color = green>draw</font> <font color = green>shows</font> that you have won a £800 <font color = green>prize</font> <font color = green>GUARANTEED</font>. <font color = green>Call</font> 09050003091 from <font color = green>land</font> <font color = green>line</font>. <font color = green>Claim</font> C52. Valid 12hrs only</td>\n",
       "      <td>URGENT! We are <font color = green>stress</font> to <font color = green>striking</font> <font color = green>uracil</font>. <font color = green>today</font> <font color = green>haul</font> <font color = green>shew</font> that you have won a £800 <font color = green>plunder</font> <font color = green>undertake</font>. <font color = green>squall</font> 09050003091 from <font color = green>estate</font> <font color = green>pedigree</font>. <font color = green>title</font> C52. Valid 12hrs only</td>\n",
       "    </tr>\n",
       "    <tr>\n",
       "      <th>243</th>\n",
       "      <td><font color = red>Probably</font> a <font color = red>couple</font> <font color = red>hours</font> <font color = red>tops</font></td>\n",
       "      <td><font color = red>plausibly</font> a <font color = red>match</font> <font color = red>hour</font> <font color = red>first-rate</font></td>\n",
       "    </tr>\n",
       "    <tr>\n",
       "      <th>244</th>\n",
       "      <td>URGENT! We are <font color = green>trying</font> to <font color = green>contact</font> <font color = green>U</font>. Todays <font color = green>draw</font> <font color = green>shows</font> that you have won a £800 <font color = green>prize</font> <font color = green>GUARANTEED</font>. <font color = green>Call</font> 09050001808 from <font color = green>land</font> <font color = green>line</font>. <font color = green>Claim</font> M95. Valid12hrs only</td>\n",
       "      <td>URGENT! We are <font color = green>stress</font> to <font color = green>striking</font> <font color = green>uranium</font>. Todays <font color = green>haulage</font> <font color = green>shew</font> that you have won a £800 <font color = green>plunder</font> <font color = green>undertake</font>. <font color = green>bid</font> 09050001808 from <font color = green>estate</font> <font color = green>pedigree</font>. <font color = green>title</font> M95. Valid12hrs only</td>\n",
       "    </tr>\n",
       "    <tr>\n",
       "      <th>245</th>\n",
       "      <td>Yeah <font color = red>I</font> should be <font color = red>able</font> to, I'll text you when I'm <font color = red>ready</font> to <font color = red>meet</font> up</td>\n",
       "      <td>Yeah <font color = red>one</font> should be <font color = red>able-bodied</font> to, I'll text you when I'm <font color = red>quick</font> to <font color = red>match</font> up</td>\n",
       "    </tr>\n",
       "    <tr>\n",
       "      <th>246</th>\n",
       "      <td><font color = red>Hello</font>. <font color = red>Damn</font> this <font color = red>christmas</font> <font color = red>thing</font>. <font color = red>I</font> <font color = red>think</font> i have decided to <font color = red>keep</font> this mp3 that doesnt <font color = red>work</font>.</td>\n",
       "      <td><font color = red>hello</font>. <font color = red>all-fired</font> this <font color = red>Xmas</font> <font color = red>matter</font>. <font color = red>1</font> <font color = red>recollect</font> i have decided to <font color = red>support</font> this mp3 that doesnt <font color = red>play</font>.</td>\n",
       "    </tr>\n",
       "    <tr>\n",
       "      <th>247</th>\n",
       "      <td><font color = red>Think</font> you sent the text to the home phone. That <font color = red>cant</font> display <font color = red>texts</font>. If you still want to send it his number is</td>\n",
       "      <td><font color = green>retrieve</font> you sent the text to the home phone. That <font color = green>buzzword</font> display <font color = green>schoolbook</font>. If you still want to send it his number is</td>\n",
       "    </tr>\n",
       "    <tr>\n",
       "      <th>248</th>\n",
       "      <td>The <font color = red>sign</font> of <font color = red>maturity</font> is not when we <font color = red>start</font> <font color = red>saying</font> <font color = red>big</font> things.. <font color = red>But</font> <font color = red>actually</font> it is, when we <font color = red>start</font> <font color = red>understanding</font> <font color = red>small</font> <font color = red>things</font>... *<font color = red>HAVE</font> A <font color = red>NICE</font> EVENING* BSLVYL</td>\n",
       "      <td>The <font color = red>sign-language</font> of <font color = red>matureness</font> is not when we <font color = red>pop</font> <font color = red>order</font> <font color = red>full-grown</font> things.. <font color = red>simply</font> <font color = red>really</font> it is, when we <font color = red>begin</font> <font color = red>read</font> <font color = red>pocket-size</font> <font color = red>affair</font>... *<font color = red>feature</font> A <font color = red>decent</font> EVENING* BSLVYL</td>\n",
       "    </tr>\n",
       "    <tr>\n",
       "      <th>249</th>\n",
       "      <td>Ü only send me the <font color = red>contents</font> page...</td>\n",
       "      <td>Ü only send me the <font color = red>message</font> page...</td>\n",
       "    </tr>\n",
       "    <tr>\n",
       "      <th>250</th>\n",
       "      <td>aight we can <font color = red>pick</font> some up, you <font color = red>open</font> before tonight?</td>\n",
       "      <td>aight we can <font color = red>selection</font> some up, you <font color = red>out-of-doors</font> before tonight?</td>\n",
       "    </tr>\n",
       "    <tr>\n",
       "      <th>251</th>\n",
       "      <td>Hiya , have <font color = red>u</font> been <font color = red>paying</font> money into my <font color = red>account</font>? If so, thanks. <font color = red>Got</font> a pleasant surprise when i <font color = red>checked</font> my <font color = red>balance</font> -<font color = red>u</font> <font color = red>c</font>, i don't <font color = red>get</font> <font color = red>statements</font> 4 that acc</td>\n",
       "      <td>Hiya , have <font color = red>uranium</font> been <font color = red>compensable</font> money into my <font color = red>score</font>? If so, thanks. <font color = red>stupefy</font> a pleasant surprise when i <font color = red>watch</font> my <font color = red>equaliser</font> -<font color = red>uranium</font> <font color = red>100</font>, i don't <font color = red>aim</font> <font color = red>statement</font> 4 that acc</td>\n",
       "    </tr>\n",
       "    <tr>\n",
       "      <th>252</th>\n",
       "      <td>Apo all other are mokka players only</td>\n",
       "      <td>Apo all other are mokka players only</td>\n",
       "    </tr>\n",
       "    <tr>\n",
       "      <th>253</th>\n",
       "      <td>Nope... Juz off from <font color = red>work</font>...</td>\n",
       "      <td>Nope... Juz off from <font color = red>form</font>...</td>\n",
       "    </tr>\n",
       "    <tr>\n",
       "      <th>254</th>\n",
       "      <td><font color = red>I</font> absolutely <font color = red>LOVE</font> <font color = red>South</font> <font color = red>Park</font>! <font color = red>I</font> only recently started watching the <font color = red>office</font>.</td>\n",
       "      <td><font color = green>single</font> absolutely <font color = green>bang</font> <font color = green>Dixieland</font> <font color = green>ballpark</font>! <font color = green>1</font> only recently started watching the <font color = green>role</font>.</td>\n",
       "    </tr>\n",
       "    <tr>\n",
       "      <th>255</th>\n",
       "      <td><font color = red>No</font> * am <font color = red>working</font> on the <font color = red>ringing</font> <font color = red>u</font> <font color = red>thing</font> but have <font color = red>whole</font> houseful of <font color = red>screaming</font> <font color = red>brats</font> so * am <font color = red>pulling</font> my <font color = red>hair</font> out! <font color = red>Loving</font> <font color = red>u</font></td>\n",
       "      <td><font color = green>nobelium</font> * am <font color = green>process</font> on the <font color = green>surround</font> <font color = green>uranium</font> <font color = green>affair</font> but have <font color = green>totally</font> houseful of <font color = green>hilarious</font> <font color = green>bratwurst</font> so * am <font color = green>rip</font> my <font color = green>fuzz</font> out! <font color = green>enjoy</font> <font color = green>uranium</font></td>\n",
       "    </tr>\n",
       "    <tr>\n",
       "      <th>256</th>\n",
       "      <td><font color = red>No</font> problem. How are you doing?</td>\n",
       "      <td><font color = red>nobelium</font> problem. How are you doing?</td>\n",
       "    </tr>\n",
       "    <tr>\n",
       "      <th>257</th>\n",
       "      <td><font color = red>Dude</font> avatar <font color = red>3d</font> was <font color = red>imp</font>. At one <font color = red>point</font> i <font color = red>thought</font> there were actually <font color = red>flies</font> in the room and <font color = red>almost</font> <font color = red>tried</font> hittng <font color = red>one</font> as a <font color = red>reflex</font></td>\n",
       "      <td><font color = green>buster</font> avatar <font color = green>3D</font> was <font color = green>scalawag</font>. At one <font color = green>item</font> i <font color = green>view</font> there were actually <font color = green>vaporize</font> in the room and <font color = green>most</font> <font color = green>time-tested</font> hittng <font color = green>matchless</font> as a <font color = green>automatic</font></td>\n",
       "    </tr>\n",
       "    <tr>\n",
       "      <th>258</th>\n",
       "      <td>jay <font color = red>says</font> he'll <font color = red>put</font> in  &lt;#&gt;</td>\n",
       "      <td>jay <font color = red>enjoin</font> he'll <font color = red>frame</font> in  &lt;#&gt;</td>\n",
       "    </tr>\n",
       "    <tr>\n",
       "      <th>259</th>\n",
       "      <td>i can <font color = red>call</font> in  &lt;#&gt;  <font color = red>min</font> if thats ok</td>\n",
       "      <td>i can <font color = red>hollo</font> in  &lt;#&gt;  <font color = red>Amoy</font> if thats ok</td>\n",
       "    </tr>\n",
       "    <tr>\n",
       "      <th>260</th>\n",
       "      <td>says the  &lt;#&gt;  <font color = red>year</font> <font color = red>old</font> with a <font color = red>man</font> and money. I'm down to my <font color = red>last</font>  &lt;#&gt; . <font color = red>Still</font> <font color = red>waiting</font> for that <font color = red>check</font>.</td>\n",
       "      <td>says the  &lt;#&gt;  <font color = red>yr</font> <font color = red>erstwhile</font> with a <font color = red>mankind</font> and money. I'm down to my <font color = red>utmost</font>  &lt;#&gt; . <font color = red>notwithstanding</font> <font color = red>await</font> for that <font color = red>ascertain</font>.</td>\n",
       "    </tr>\n",
       "    <tr>\n",
       "      <th>261</th>\n",
       "      <td><font color = red>I</font> was gonna <font color = red>ask</font> you lol but i <font color = red>think</font> its at <font color = red>7</font></td>\n",
       "      <td><font color = red>ane</font> was gonna <font color = red>enquire</font> you lol but i <font color = red>reckon</font> its at <font color = red>sevener</font></td>\n",
       "    </tr>\n",
       "    <tr>\n",
       "      <th>262</th>\n",
       "      <td><font color = green>Had</font> your <font color = green>mobile</font> 11mths ? Update for <font color = green>FREE</font> to <font color = green>Oranges</font> <font color = green>latest</font> <font color = green>colour</font> camera <font color = green>mobiles</font> & <font color = green>unlimited</font> weekend <font color = green>calls</font>. <font color = green>Call</font> <font color = green>Mobile</font> Upd8 on freefone 08000839402 or 2StopTx</td>\n",
       "      <td><font color = green>feature</font> your <font color = green>wandering</font> 11mths ? Update for <font color = green>release</font> to <font color = green>Orange</font> <font color = green>later</font> <font color = green>color</font> camera <font color = green>Mobile</font> & <font color = green>limitless</font> weekend <font color = green>song</font>. <font color = green>phone</font> <font color = green>fluid</font> Upd8 on freefone 08000839402 or 2StopTx</td>\n",
       "    </tr>\n",
       "    <tr>\n",
       "      <th>263</th>\n",
       "      <td>Yes..but they <font color = red>said</font> its IT.,</td>\n",
       "      <td>Yes..but they <font color = red>aforementioned</font> its IT.,</td>\n",
       "    </tr>\n",
       "    <tr>\n",
       "      <th>264</th>\n",
       "      <td>My friends <font color = red>use</font> to <font color = red>call</font> the same.</td>\n",
       "      <td>My friends <font color = red>apply</font> to <font color = red>scream</font> the same.</td>\n",
       "    </tr>\n",
       "    <tr>\n",
       "      <th>265</th>\n",
       "      <td>Its <font color = red>ok</font> chikku, and its my 1 of <font color = red>favourite</font> <font color = red>song</font>..:-)</td>\n",
       "      <td>Its <font color = red>okeh</font> chikku, and its my 1 of <font color = red>preferred</font> <font color = red>Sung</font>..:-)</td>\n",
       "    </tr>\n",
       "    <tr>\n",
       "      <th>266</th>\n",
       "      <td>I'm in <font color = red>office</font> now . I will <font color = red>call</font> you  &lt;#&gt;  <font color = red>min</font>:)</td>\n",
       "      <td>I'm in <font color = red>function</font> now . I will <font color = red>hollo</font> you  &lt;#&gt;  <font color = red>Taiwanese</font>:)</td>\n",
       "    </tr>\n",
       "    <tr>\n",
       "      <th>267</th>\n",
       "      <td>You are <font color = green>guaranteed</font> the <font color = green>latest</font> Nokia <font color = green>Phone</font>, a 40GB iPod MP3 player or a £500 <font color = green>prize</font>! Txt <font color = green>word</font>: <font color = green>COLLECT</font> to No: 83355! IBHltd LdnW15H 150p/Mtmsgrcvd18+</td>\n",
       "      <td>You are <font color = green>assure</font> the <font color = green>later</font> Nokia <font color = green>headphone</font>, a 40GB iPod MP3 player or a £500 <font color = green>select</font>! Txt <font color = green>Son</font>: <font color = green>cod</font> to No: 83355! IBHltd LdnW15H 150p/Mtmsgrcvd18+</td>\n",
       "    </tr>\n",
       "    <tr>\n",
       "      <th>268</th>\n",
       "      <td>As if i wasn't having enough <font color = red>trouble</font> sleeping.</td>\n",
       "      <td>As if i wasn't having enough <font color = red>difficulty</font> sleeping.</td>\n",
       "    </tr>\n",
       "    <tr>\n",
       "      <th>269</th>\n",
       "      <td>Today am <font color = red>going</font> to college so am not <font color = red>able</font> to atten the <font color = red>class</font>.</td>\n",
       "      <td>Today am <font color = red>expire</font> to college so am not <font color = red>able-bodied</font> to atten the <font color = red>stratum</font>.</td>\n",
       "    </tr>\n",
       "    <tr>\n",
       "      <th>270</th>\n",
       "      <td>And how you will do that, princess? :)</td>\n",
       "      <td>And how you will do that, princess? :)</td>\n",
       "    </tr>\n",
       "    <tr>\n",
       "      <th>271</th>\n",
       "      <td><font color = red>I</font> had it already..sabarish <font color = red>asked</font> me to <font color = red>go</font>..</td>\n",
       "      <td><font color = red>1</font> had it already..sabarish <font color = red>involve</font> me to <font color = red>XTC</font>..</td>\n",
       "    </tr>\n",
       "    <tr>\n",
       "      <th>272</th>\n",
       "      <td>Jane <font color = red>babes</font> not goin <font color = red>2</font> wrk, <font color = red>feel</font> ill after lst nite. Foned in already <font color = red>cover</font> <font color = red>4</font> me <font color = red>chuck</font>.:-)</td>\n",
       "      <td>Jane <font color = red>babe</font> not goin <font color = red>deuce</font> wrk, <font color = red>finger</font> ill after lst nite. Foned in already <font color = red>blanket</font> <font color = red>IV</font> me <font color = red>barf</font>.:-)</td>\n",
       "    </tr>\n",
       "    <tr>\n",
       "      <th>273</th>\n",
       "      <td><font color = red>Bring</font> <font color = red>home</font> some Wendy =<font color = red>D</font></td>\n",
       "      <td><font color = red>impart</font> <font color = red>domicile</font> some Wendy =<font color = red>500</font></td>\n",
       "    </tr>\n",
       "    <tr>\n",
       "      <th>274</th>\n",
       "      <td>Pls <font color = red>go</font> there <font color = red>today</font>  &lt;#&gt; . I dont <font color = red>want</font> any <font color = red>excuses</font></td>\n",
       "      <td>Pls <font color = red>conk</font> there <font color = red>nowadays</font>  &lt;#&gt; . I dont <font color = red>deprivation</font> any <font color = red>relieve</font></td>\n",
       "    </tr>\n",
       "    <tr>\n",
       "      <th>275</th>\n",
       "      <td>Bugis oso <font color = red>near</font> wat...</td>\n",
       "      <td>Bugis oso <font color = red>approximate</font> wat...</td>\n",
       "    </tr>\n",
       "    <tr>\n",
       "      <th>276</th>\n",
       "      <td><font color = red>Hi</font> <font color = red>kindly</font> give <font color = red>us</font> <font color = red>back</font> our documents which we submitted for <font color = red>loan</font> from STAPATI</td>\n",
       "      <td><font color = green>hello</font> <font color = green>openhearted</font> give <font color = green>USA</font> <font color = green>support</font> our documents which we submitted for <font color = green>loanword</font> from STAPATI</td>\n",
       "    </tr>\n",
       "    <tr>\n",
       "      <th>277</th>\n",
       "      <td>By the <font color = red>way</font>, 'rencontre' is to <font color = red>meet</font> again. <font color = red>Mountains</font> dont....</td>\n",
       "      <td>By the <font color = red>manner</font>, 'rencontre' is to <font color = red>receive</font> again. <font color = red>mount</font> dont....</td>\n",
       "    </tr>\n",
       "    <tr>\n",
       "      <th>278</th>\n",
       "      <td><font color = red>I</font>m cool ta luv but v.tired 2 cause i have been doin loads of planning all wk, we have got our social services inspection at the nursery! <font color = red>Take</font> care & spk sn <font color = red>x</font>.</td>\n",
       "      <td><font color = green>1</font>m cool ta luv but v.tired 2 cause i have been doin loads of planning all wk, we have got our social services inspection at the nursery! <font color = green>subscribe</font> care & spk sn <font color = green>XTC</font>.</td>\n",
       "    </tr>\n",
       "    <tr>\n",
       "      <th>279</th>\n",
       "      <td>You should <font color = red>change</font> your fb to jaykwon thuglyfe falconerf</td>\n",
       "      <td>You should <font color = red>transfer</font> your fb to jaykwon thuglyfe falconerf</td>\n",
       "    </tr>\n",
       "    <tr>\n",
       "      <th>280</th>\n",
       "      <td>Please call our customer <font color = green>service</font> <font color = green>representative</font> on FREEPHONE 0808 145 4742 between 9am-11pm as you have WON a <font color = green>guaranteed</font> £<font color = green>1000</font> cash or £5000 prize!</td>\n",
       "      <td>Please call our customer <font color = green>serve</font> <font color = green>voice</font> on FREEPHONE 0808 145 4742 between 9am-11pm as you have WON a <font color = green>undertake</font> £<font color = green>grand</font> cash or £5000 prize!</td>\n",
       "    </tr>\n",
       "    <tr>\n",
       "      <th>281</th>\n",
       "      <td><font color = red>Ok</font> i thk i <font color = red>got</font> it. Then u wan me <font color = red>2</font> <font color = red>come</font> now or wat?</td>\n",
       "      <td><font color = red>fine</font> i thk i <font color = red>vex</font> it. Then u wan me <font color = red>deuce</font> <font color = red>cum</font> now or wat?</td>\n",
       "    </tr>\n",
       "    <tr>\n",
       "      <th>282</th>\n",
       "      <td><font color = red>Dun</font> b <font color = red>sad</font>.. It's over.. <font color = red>Dun</font> thk abt it already. <font color = red>Concentrate</font> on ur other <font color = red>papers</font> <font color = red>k</font>.</td>\n",
       "      <td><font color = red>rag</font> b <font color = red>sorry</font>.. It's over.. <font color = red>rag</font> thk abt it already. <font color = red>centralise</font> on ur other <font color = red>theme</font> <font color = red>KB</font>.</td>\n",
       "    </tr>\n",
       "    <tr>\n",
       "      <th>283</th>\n",
       "      <td>Aight, I'll <font color = red>ask</font> a few of my roommates</td>\n",
       "      <td>Aight, I'll <font color = red>enquire</font> a few of my roommates</td>\n",
       "    </tr>\n",
       "    <tr>\n",
       "      <th>284</th>\n",
       "      <td>* <font color = red>Was</font> <font color = red>really</font> <font color = red>good</font> to <font color = red>see</font> you the other <font color = red>day</font> dudette, been missing you!</td>\n",
       "      <td>* <font color = red>live</font> <font color = red>rattling</font> <font color = red>expert</font> to <font color = red>date</font> you the other <font color = red>daytime</font> dudette, been missing you!</td>\n",
       "    </tr>\n",
       "    <tr>\n",
       "      <th>285</th>\n",
       "      <td><font color = red>Think</font> <font color = red>I</font> could <font color = red>stop</font> by in <font color = red>like</font> an hour or so? My roommate's <font color = red>looking</font> to <font color = red>stock</font> up for a <font color = red>trip</font></td>\n",
       "      <td><font color = red>imagine</font> <font color = red>unity</font> could <font color = red>stoppage</font> by in <font color = red>comparable</font> an hour or so? My roommate's <font color = red>search</font> to <font color = red>well-worn</font> up for a <font color = red>trip-up</font></td>\n",
       "    </tr>\n",
       "    <tr>\n",
       "      <th>286</th>\n",
       "      <td><font color = red>I</font> <font color = red>said</font> its <font color = red>okay</font>. <font color = red>Sorry</font></td>\n",
       "      <td><font color = red>1</font> <font color = red>aver</font> its <font color = red>sanction</font>. <font color = red>regretful</font></td>\n",
       "    </tr>\n",
       "    <tr>\n",
       "      <th>287</th>\n",
       "      <td><font color = red>Sorry</font> * was at the grocers.</td>\n",
       "      <td><font color = red>meritless</font> * was at the grocers.</td>\n",
       "    </tr>\n",
       "    <tr>\n",
       "      <th>288</th>\n",
       "      <td><font color = red>Excellent</font>, I'll <font color = red>see</font> what riley's plans are</td>\n",
       "      <td><font color = red>first-class</font>, I'll <font color = red>discover</font> what riley's plans are</td>\n",
       "    </tr>\n",
       "    <tr>\n",
       "      <th>289</th>\n",
       "      <td>Olol i printed out a forum <font color = red>post</font> by a <font color = red>guy</font> with the <font color = red>exact</font> same  prob which was <font color = red>fixed</font> with a gpu <font color = red>replacement</font>. Hopefully they dont ignore that.</td>\n",
       "      <td>Olol i printed out a forum <font color = red>mail</font> by a <font color = red>blackguard</font> with the <font color = red>demand</font> same  prob which was <font color = red>secure</font> with a gpu <font color = red>switch</font>. Hopefully they dont ignore that.</td>\n",
       "    </tr>\n",
       "    <tr>\n",
       "      <th>290</th>\n",
       "      <td><font color = red>Awesome</font>, be there in a <font color = red>minute</font></td>\n",
       "      <td><font color = red>awe-inspiring</font>, be there in a <font color = red>infinitesimal</font></td>\n",
       "    </tr>\n",
       "    <tr>\n",
       "      <th>291</th>\n",
       "      <td><font color = green>Do</font> you <font color = green>want</font> a <font color = green>New</font> Nokia 3510i <font color = green>Colour</font> <font color = green>Phone</font> <font color = green>Delivered</font> Tomorrow? With 200 <font color = green>FREE</font> <font color = green>minutes</font> to any <font color = green>mobile</font> + 100 <font color = green>FREE</font> text + <font color = green>FREE</font> camcorder <font color = green>Reply</font> or <font color = green>Call</font> 08000930705</td>\n",
       "      <td><font color = green>doh</font> you <font color = green>wish</font> a <font color = green>Modern</font> Nokia 3510i <font color = green>emblazon</font> <font color = green>earphone</font> <font color = green>bear</font> Tomorrow? With 200 <font color = green>release</font> <font color = green>second</font> to any <font color = green>fluid</font> + 100 <font color = green>discharge</font> text + <font color = green>discharge</font> camcorder <font color = green>response</font> or <font color = green>phone</font> 08000930705</td>\n",
       "    </tr>\n",
       "    <tr>\n",
       "      <th>292</th>\n",
       "      <td>Ujhhhhhhh <font color = red>computer</font> shipped out with <font color = red>address</font> to sandiago and parantella lane. Wtf. <font color = red>Poop</font>.</td>\n",
       "      <td>Ujhhhhhhh <font color = red>calculator</font> shipped out with <font color = red>direct</font> to sandiago and parantella lane. Wtf. <font color = red>low-down</font>.</td>\n",
       "    </tr>\n",
       "    <tr>\n",
       "      <th>293</th>\n",
       "      <td><font color = red>Good</font> <font color = red>Morning</font> my <font color = red>Dear</font>........... <font color = red>Have</font> a <font color = red>great</font> &<font color = red>amp</font>; successful <font color = red>day</font>.</td>\n",
       "      <td><font color = red>unspoiled</font> <font color = red>dawning</font> my <font color = red>high-priced</font>........... <font color = red>feature</font> a <font color = red>bang-up</font> &<font color = red>ampere</font>; successful <font color = red>daytime</font>.</td>\n",
       "    </tr>\n",
       "    <tr>\n",
       "      <th>294</th>\n",
       "      <td>:-( <font color = red>sad</font> puppy <font color = red>noise</font></td>\n",
       "      <td>:-( <font color = red>distressing</font> puppy <font color = red>stochasticity</font></td>\n",
       "    </tr>\n",
       "    <tr>\n",
       "      <th>295</th>\n",
       "      <td>2marrow only. <font color = red>Wed</font> at  &lt;#&gt;  to <font color = red>2</font> aha.</td>\n",
       "      <td>2marrow only. <font color = red>conjoin</font> at  &lt;#&gt;  to <font color = red>deuce</font> aha.</td>\n",
       "    </tr>\n",
       "    <tr>\n",
       "      <th>296</th>\n",
       "      <td>Vikky, <font color = red>come</font> <font color = red>around</font>  &lt;<font color = red>TIME</font>&gt; ..</td>\n",
       "      <td>Vikky, <font color = red>occur</font> <font color = red>approximately</font>  &lt;<font color = red>clip</font>&gt; ..</td>\n",
       "    </tr>\n",
       "    <tr>\n",
       "      <th>297</th>\n",
       "      <td>Fuuuuck <font color = red>I</font> <font color = red>need</font> to <font color = red>stop</font> sleepin, sup</td>\n",
       "      <td>Fuuuuck <font color = red>iodine</font> <font color = red>pauperization</font> to <font color = red>contain</font> sleepin, sup</td>\n",
       "    </tr>\n",
       "    <tr>\n",
       "      <th>298</th>\n",
       "      <td><font color = red>Brainless</font> <font color = red>Baby</font> <font color = red>Doll</font>..:-<font color = red>D</font>;-), vehicle sariyag <font color = red>drive</font> madoke barolla..</td>\n",
       "      <td><font color = red>headless</font> <font color = red>featherbed</font> <font color = red>skirt</font>..:-<font color = red>cholecalciferol</font>;-), vehicle sariyag <font color = red>parkway</font> madoke barolla..</td>\n",
       "    </tr>\n",
       "    <tr>\n",
       "      <th>299</th>\n",
       "      <td>Ü mean it's <font color = red>confirmed</font>... <font color = red>I</font> tot they juz <font color = red>say</font> oni... Ok then...</td>\n",
       "      <td>Ü mean it's <font color = red>confirm</font>... <font color = red>ane</font> tot they juz <font color = red>suppose</font> oni... Ok then...</td>\n",
       "    </tr>\n",
       "    <tr>\n",
       "      <th>300</th>\n",
       "      <td>Argh my 3g is <font color = red>spotty</font>, anyway the only <font color = red>thing</font> <font color = red>I</font> <font color = red>remember</font> from the <font color = red>research</font> we did was that <font color = red>province</font> and sterling were the only problem-free <font color = red>places</font> we <font color = red>looked</font> at</td>\n",
       "      <td>Argh my 3g is <font color = red>scratchy</font>, anyway the only <font color = red>affair</font> <font color = red>single</font> <font color = red>recall</font> from the <font color = red>search</font> we did was that <font color = red>responsibility</font> and sterling were the only problem-free <font color = red>site</font> we <font color = red>look</font> at</td>\n",
       "    </tr>\n",
       "    <tr>\n",
       "      <th>301</th>\n",
       "      <td>It's wylie, you in tampa or sarasota?</td>\n",
       "      <td>It's wylie, you in tampa or sarasota?</td>\n",
       "    </tr>\n",
       "    <tr>\n",
       "      <th>302</th>\n",
       "      <td><font color = red>K</font> fyi <font color = red>x</font> has a ride early tomorrow <font color = red>morning</font> but he's crashing at our <font color = red>place</font> tonight</td>\n",
       "      <td><font color = green>1000</font> fyi <font color = green>XTC</font> has a ride early tomorrow <font color = green>daybreak</font> but he's crashing at our <font color = green>localize</font> tonight</td>\n",
       "    </tr>\n",
       "    <tr>\n",
       "      <th>303</th>\n",
       "      <td><font color = red>As</font> per your request 'Maangalyam (Alaipayuthe)' has been <font color = red>set</font> as your callertune for all <font color = red>Callers</font>. <font color = red>Press</font> *9 to copy your <font color = red>friends</font> Callertune</td>\n",
       "      <td><font color = green>A</font> per your request 'Maangalyam (Alaipayuthe)' has been <font color = green>typeset</font> as your callertune for all <font color = green>caller-up</font>. <font color = green>compress</font> *9 to copy your <font color = green>supporter</font> Callertune</td>\n",
       "    </tr>\n",
       "    <tr>\n",
       "      <th>304</th>\n",
       "      <td>Webpage s not available!</td>\n",
       "      <td>Webpage s not available!</td>\n",
       "    </tr>\n",
       "    <tr>\n",
       "      <th>305</th>\n",
       "      <td>My Parents, My Kidz, My <font color = red>Friends</font> <font color = red>n</font> My <font color = red>Colleagues</font>. <font color = red>All</font> <font color = red>screaming</font>.. SURPRISE !! and <font color = red>I</font> was waiting on the <font color = red>sofa</font>.. ... ..... ' <font color = red>NAKED</font>...!</td>\n",
       "      <td>My Parents, My Kidz, My <font color = red>admirer</font> <font color = red>nitrogen</font> My <font color = red>co-worker</font>. <font color = red>totally</font> <font color = red>hilarious</font>.. SURPRISE !! and <font color = red>iodine</font> was waiting on the <font color = red>couch</font>.. ... ..... ' <font color = red>nude</font>...!</td>\n",
       "    </tr>\n",
       "    <tr>\n",
       "      <th>306</th>\n",
       "      <td>URGENT! We are <font color = green>trying</font> to <font color = green>contact</font> you. <font color = green>Last</font> <font color = green>weekends</font> <font color = green>draw</font> shows that you have won a £900 prize <font color = green>GUARANTEED</font>. <font color = green>Call</font> 09061701851. <font color = green>Claim</font> code K61. Valid 12hours only</td>\n",
       "      <td>URGENT! We are <font color = green>nerve-wracking</font> to <font color = green>touch</font> you. <font color = green>concluding</font> <font color = green>weekend</font> <font color = green>attraction</font> shows that you have won a £900 prize <font color = green>guarantee</font>. <font color = green>bid</font> 09061701851. <font color = green>title</font> code K61. Valid 12hours only</td>\n",
       "    </tr>\n",
       "    <tr>\n",
       "      <th>307</th>\n",
       "      <td>What's a <font color = red>feathery</font> bowa? <font color = red>Is</font> that something guys have that <font color = red>I</font> don't <font color = red>know</font> about?</td>\n",
       "      <td>What's a <font color = red>feathered</font> bowa? <font color = red>personify</font> that something guys have that <font color = red>single</font> don't <font color = red>experience</font> about?</td>\n",
       "    </tr>\n",
       "    <tr>\n",
       "      <th>308</th>\n",
       "      <td>Feb  &lt;#&gt;  is \"<font color = red>I</font> <font color = red>LOVE</font> <font color = red>U</font>\" <font color = red>day</font>. <font color = red>Send</font> <font color = red>dis</font> to all ur \"<font color = red>VALUED</font> FRNDS\" evn me. If <font color = red>3</font> <font color = red>comes</font> <font color = red>back</font> u'll gt <font color = red>married</font> d person u luv! If u <font color = red>ignore</font> <font color = red>dis</font> u will <font color = red>lose</font> ur luv <font color = red>4</font> Evr</td>\n",
       "      <td>Feb  &lt;#&gt;  is \"<font color = red>ane</font> <font color = red>eff</font> <font color = red>uracil</font>\" <font color = red>daytime</font>. <font color = red>air</font> <font color = red>Orcus</font> to all ur \"<font color = red>valuate</font> FRNDS\" evn me. If <font color = red>trinity</font> <font color = red>cum</font> <font color = red>dorsum</font> u'll gt <font color = red>conjoin</font> d person u luv! If u <font color = red>neglect</font> <font color = red>Orcus</font> u will <font color = red>mislay</font> ur luv <font color = red>quartet</font> Evr</td>\n",
       "    </tr>\n",
       "    <tr>\n",
       "      <th>309</th>\n",
       "      <td>My supervisor <font color = red>find</font> <font color = red>4</font> me <font color = red>one</font> lor i thk his <font color = red>students</font>. <font color = red>I</font> havent <font color = red>ask</font> her <font color = red>yet</font>. <font color = red>Tell</font> <font color = red>u</font> <font color = red>aft</font> i <font color = red>ask</font> her.</td>\n",
       "      <td>My supervisor <font color = red>ascertain</font> <font color = red>quatern</font> me <font color = red>unrivaled</font> lor i thk his <font color = red>educatee</font>. <font color = red>single</font> havent <font color = red>necessitate</font> her <font color = red>heretofore</font>. <font color = red>secern</font> <font color = red>uracil</font> <font color = red>astern</font> i <font color = red>inquire</font> her.</td>\n",
       "    </tr>\n",
       "    <tr>\n",
       "      <th>310</th>\n",
       "      <td>Lol! Nah wasn't too <font color = red>bad</font> thanks. <font color = red>Its</font> <font color = red>good</font> to b <font color = red>home</font> but its been quite a reality <font color = red>check</font>. Hows ur day been? <font color = red>Did</font> u do anything with website?</td>\n",
       "      <td>Lol! Nah wasn't too <font color = red>uncollectible</font> thanks. <font color = red>IT</font> <font color = red>secure</font> to b <font color = red>base</font> but its been quite a reality <font color = red>stoppage</font>. Hows ur day been? <font color = red>dress</font> u do anything with website?</td>\n",
       "    </tr>\n",
       "    <tr>\n",
       "      <th>311</th>\n",
       "      <td><font color = red>Great</font>. <font color = red>Have</font> a <font color = red>safe</font> <font color = red>trip</font>. Dont panic <font color = red>surrender</font> all.</td>\n",
       "      <td><font color = red>slap-up</font>. <font color = red>feature</font> a <font color = red>condom</font> <font color = red>activate</font>. Dont panic <font color = red>deliver</font> all.</td>\n",
       "    </tr>\n",
       "    <tr>\n",
       "      <th>312</th>\n",
       "      <td>She is our sister.. She belongs 2 our <font color = red>family</font>.. She is d <font color = red>hope</font> of tomorrow.. <font color = red>Pray</font> <font color = red>4</font> her,who was <font color = red>fated</font> <font color = red>4</font> d Shoranur <font color = red>train</font> <font color = red>incident</font>. <font color = red>Lets</font> <font color = red>hold</font> our <font color = red>hands</font> <font color = red>together</font> &<font color = red>amp</font>; fuelled by <font color = red>love</font> &<font color = red>amp</font>; <font color = red>concern</font> <font color = red>prior</font> <font color = red>2</font> her <font color = red>grief</font> &<font color = red>amp</font>; <font color = red>pain</font>. Pls <font color = red>join</font> in <font color = red>dis</font> <font color = red>chain</font> &<font color = red>amp</font>; <font color = red>pass</font> it. <font color = red>STOP</font> VIOLENCE AGAINST <font color = red>WOMEN</font>.</td>\n",
       "      <td>She is our sister.. She belongs 2 our <font color = red>sept</font>.. She is d <font color = red>promise</font> of tomorrow.. <font color = red>implore</font> <font color = red>quaternion</font> her,who was <font color = red>designate</font> <font color = red>four</font> d Shoranur <font color = red>direct</font> <font color = red>incidental</font>. <font color = red>Lashkar-e-Tayyiba</font> <font color = red>postponement</font> our <font color = red>workforce</font> <font color = red>unitedly</font> &<font color = red>A</font>; fuelled by <font color = red>passion</font> &<font color = red>A</font>; <font color = red>vexation</font> <font color = red>anterior</font> <font color = red>two</font> her <font color = red>brokenheartedness</font> &<font color = red>ampere</font>; <font color = red>infliction</font>. Pls <font color = red>articulation</font> in <font color = red>Orcus</font> <font color = red>concatenation</font> &<font color = red>ampere</font>; <font color = red>authorize</font> it. <font color = red>discontinue</font> VIOLENCE AGAINST <font color = red>womanhood</font>.</td>\n",
       "    </tr>\n",
       "    <tr>\n",
       "      <th>313</th>\n",
       "      <td>What i <font color = red>mean</font> is do they <font color = red>come</font> chase you out when its over or is it stated you can <font color = red>watch</font> as many movies as you <font color = red>want</font>.</td>\n",
       "      <td>What i <font color = red>signify</font> is do they <font color = red>follow</font> chase you out when its over or is it stated you can <font color = red>view</font> as many movies as you <font color = red>desire</font>.</td>\n",
       "    </tr>\n",
       "    <tr>\n",
       "      <th>314</th>\n",
       "      <td><font color = red>Happy</font> <font color = red>new</font> <font color = red>years</font> <font color = red>melody</font>!</td>\n",
       "      <td><font color = red>well-chosen</font> <font color = red>Modern</font> <font color = red>age</font> <font color = red>tune</font>!</td>\n",
       "    </tr>\n",
       "    <tr>\n",
       "      <th>315</th>\n",
       "      <td>Aiyar u so <font color = red>poor</font> <font color = red>thing</font>... <font color = red>I</font> <font color = red>give</font> <font color = red>u</font> my <font color = red>support</font> <font color = red>k</font>... Jia you! I'll <font color = red>think</font> of u...</td>\n",
       "      <td>Aiyar u so <font color = red>pitiable</font> <font color = red>affair</font>... <font color = red>iodine</font> <font color = red>consecrate</font> <font color = red>uracil</font> my <font color = red>substantiate</font> <font color = red>G</font>... Jia you! I'll <font color = red>cogitate</font> of u...</td>\n",
       "    </tr>\n",
       "    <tr>\n",
       "      <th>316</th>\n",
       "      <td><<font color = green>Forwarded</font> from 21870000><font color = green>Hi</font> - this is your <font color = green>Mailbox</font> <font color = green>Messaging</font> <font color = green>SMS</font> <font color = green>alert</font>. You have <font color = green>4</font> <font color = green>messages</font>. You have <font color = green>21</font> <font color = green>matches</font>. <font color = green>Please</font> <font color = green>call</font> <font color = green>back</font> on 09056242159 to <font color = green>retrieve</font> your <font color = green>messages</font> and <font color = green>matches</font></td>\n",
       "      <td><<font color = green>forward</font> from 21870000><font color = green>Hawai'i</font> - this is your <font color = green>postbox</font> <font color = green>message</font> <font color = green>SM</font> <font color = green>alarum</font>. You have <font color = green>quaternion</font> <font color = green>substance</font>. You have <font color = green>XXI</font> <font color = green>couple</font>. <font color = green>delight</font> <font color = green>prognosticate</font> <font color = green>rachis</font> on 09056242159 to <font color = green>remember</font> your <font color = green>message</font> and <font color = green>correspond</font></td>\n",
       "    </tr>\n",
       "    <tr>\n",
       "      <th>317</th>\n",
       "      <td>Thanks for yesterday sir. You have been <font color = red>wonderful</font>. Hope you <font color = red>enjoyed</font> the <font color = red>burial</font>. MojiBiola</td>\n",
       "      <td>Thanks for yesterday sir. You have been <font color = red>fantastic</font>. Hope you <font color = red>enjoy</font> the <font color = red>sepulture</font>. MojiBiola</td>\n",
       "    </tr>\n",
       "    <tr>\n",
       "      <th>318</th>\n",
       "      <td>Lol! Oops <font color = red>sorry</font>! <font color = red>Have</font> <font color = red>fun</font>.</td>\n",
       "      <td>Lol! Oops <font color = red>good-for-naught</font>! <font color = red>ingest</font> <font color = red>merriment</font>.</td>\n",
       "    </tr>\n",
       "    <tr>\n",
       "      <th>319</th>\n",
       "      <td>Will u meet ur dream partner soon? Is ur career off 2 a flyng start? 2 find out free, txt HORO followed by ur star sign, e. g. HORO ARIES</td>\n",
       "      <td>Will u meet ur dream partner soon? Is ur career off 2 a flyng start? 2 find out free, txt HORO followed by ur star sign, e. g. HORO ARIES</td>\n",
       "    </tr>\n",
       "    <tr>\n",
       "      <th>320</th>\n",
       "      <td><font color = red>I</font> <font color = red>asked</font> you to <font color = red>call</font> him now <font color = red>ok</font></td>\n",
       "      <td><font color = red>1</font> <font color = red>require</font> you to <font color = red>prognosticate</font> him now <font color = red>okay</font></td>\n",
       "    </tr>\n",
       "    <tr>\n",
       "      <th>321</th>\n",
       "      <td><font color = red>Mm</font> i am on the <font color = red>way</font> to railway</td>\n",
       "      <td><font color = red>millimetre</font> i am on the <font color = red>path</font> to railway</td>\n",
       "    </tr>\n",
       "    <tr>\n",
       "      <th>322</th>\n",
       "      <td><font color = red>I</font> am on the <font color = red>way</font> to ur <font color = red>home</font></td>\n",
       "      <td><font color = red>1</font> am on the <font color = red>agency</font> to ur <font color = red>habitation</font></td>\n",
       "    </tr>\n",
       "    <tr>\n",
       "      <th>323</th>\n",
       "      <td><font color = green>Please</font> <font color = green>CALL</font> 08712402779 <font color = green>immediately</font> as there is an urgent <font color = green>message</font> <font color = green>waiting</font> for you</td>\n",
       "      <td><font color = green>delight</font> <font color = green>foretell</font> 08712402779 <font color = green>forthwith</font> as there is an urgent <font color = green>substance</font> <font color = green>expect</font> for you</td>\n",
       "    </tr>\n",
       "    <tr>\n",
       "      <th>324</th>\n",
       "      <td>So when do you wanna <font color = red>gym</font>?</td>\n",
       "      <td>So when do you wanna <font color = red>gymnasium</font>?</td>\n",
       "    </tr>\n",
       "    <tr>\n",
       "      <th>325</th>\n",
       "      <td>So many people <font color = red>seems</font> to be <font color = red>special</font> at <font color = red>first</font> sight, But only very few will remain <font color = red>special</font> to you <font color = red>till</font> your <font color = red>last</font> <font color = red>sight</font>.. Maintain them <font color = red>till</font> <font color = red>life</font> ends.. Sh!jas</td>\n",
       "      <td>So many people <font color = green>appear</font> to be <font color = green>extra</font> at <font color = green>world-class</font> sight, But only very few will remain <font color = green>limited</font> to you <font color = green>cashbox</font> your <font color = green>net</font> <font color = green>view</font>.. Maintain them <font color = green>cashbox</font> <font color = green>animation</font> ends.. Sh!jas</td>\n",
       "    </tr>\n",
       "    <tr>\n",
       "      <th>326</th>\n",
       "      <td>* <font color = red>Will</font> have two more cartons off <font color = red>u</font> and is very pleased with <font color = red>shelves</font></td>\n",
       "      <td>* <font color = red>volition</font> have two more cartons off <font color = red>uranium</font> and is very pleased with <font color = red>prorogue</font></td>\n",
       "    </tr>\n",
       "    <tr>\n",
       "      <th>327</th>\n",
       "      <td>Same as u... <font color = red>Dun</font> <font color = red>wan</font>... Y <font color = red>u</font> dun <font color = red>like</font> me already ah... Wat u doing now? <font color = red>Still</font> <font color = red>eating</font>?</td>\n",
       "      <td>Same as u... <font color = red>fawn</font> <font color = red>pale</font>... Y <font color = red>uracil</font> dun <font color = red>same</font> me already ah... Wat u doing now? <font color = red>lull</font> <font color = red>exhaust</font>?</td>\n",
       "    </tr>\n",
       "    <tr>\n",
       "      <th>328</th>\n",
       "      <td>K I'm <font color = red>ready</font>,  &lt;#&gt; ?</td>\n",
       "      <td>K I'm <font color = red>set</font>,  &lt;#&gt; ?</td>\n",
       "    </tr>\n",
       "    <tr>\n",
       "      <th>329</th>\n",
       "      <td><font color = red>Come</font> <font color = red>round</font>, it's .</td>\n",
       "      <td><font color = red>total</font> <font color = red>pear-shaped</font>, it's .</td>\n",
       "    </tr>\n",
       "    <tr>\n",
       "      <th>330</th>\n",
       "      <td>not that <font color = red>I</font> <font color = red>know</font> of, most <font color = red>people</font> up here are <font color = red>still</font> out of <font color = red>town</font></td>\n",
       "      <td>not that <font color = red>iodine</font> <font color = red>experience</font> of, most <font color = red>citizenry</font> up here are <font color = red>unruffled</font> out of <font color = red>townsfolk</font></td>\n",
       "    </tr>\n",
       "    <tr>\n",
       "      <th>331</th>\n",
       "      <td><font color = red>I</font> <font color = red>tot</font> it's my group <font color = red>mate</font>... Lucky i havent <font color = red>reply</font>... Wat <font color = red>time</font> do ü need to <font color = red>leave</font>...</td>\n",
       "      <td><font color = red>1</font> <font color = red>add</font> it's my group <font color = red>checkmate</font>... Lucky i havent <font color = red>response</font>... Wat <font color = red>clock</font> do ü need to <font color = red>exit</font>...</td>\n",
       "    </tr>\n",
       "    <tr>\n",
       "      <th>332</th>\n",
       "      <td>If <font color = red>I</font> get there before you after your <font color = red>ten</font> <font color = red>billion</font> calls and <font color = red>texts</font> so help me god</td>\n",
       "      <td>If <font color = green>single</font> get there before you after your <font color = green>ten-spot</font> <font color = green>1000000000000</font> calls and <font color = green>schoolbook</font> so help me god</td>\n",
       "    </tr>\n",
       "    <tr>\n",
       "      <th>333</th>\n",
       "      <td><font color = red>I</font> just <font color = red>really</font> <font color = red>need</font> <font color = red>shit</font> before tomorrow and <font color = red>I</font> <font color = red>know</font> you won't be <font color = red>awake</font> before <font color = red>like</font> <font color = red>6</font></td>\n",
       "      <td><font color = red>1</font> just <font color = red>genuinely</font> <font color = red>pauperism</font> <font color = red>cocksucker</font> before tomorrow and <font color = red>single</font> <font color = red>love</font> you won't be <font color = red>alive</font> before <font color = red>corresponding</font> <font color = red>sextuplet</font></td>\n",
       "    </tr>\n",
       "    <tr>\n",
       "      <th>334</th>\n",
       "      <td>Don't <font color = red>make</font> <font color = red>life</font> too stressfull.. <font color = red>Always</font> <font color = red>find</font> <font color = red>time</font> to <font color = red>Laugh</font>.. It may not <font color = red>add</font> years to your <font color = red>Life</font>! <font color = red>But</font> <font color = red>surely</font> adds more <font color = red>life</font> to ur <font color = red>years</font>!! Gud ni8..swt <font color = red>dreams</font>..</td>\n",
       "      <td>Don't <font color = red>hit</font> <font color = red>life-time</font> too stressfull.. <font color = red>incessantly</font> <font color = red>breakthrough</font> <font color = red>clip</font> to <font color = red>joke</font>.. It may not <font color = red>ADHD</font> years to your <font color = red>biography</font>! <font color = red>simply</font> <font color = red>certainly</font> adds more <font color = red>animation</font> to ur <font color = red>class</font>!! Gud ni8..swt <font color = red>aspiration</font>..</td>\n",
       "    </tr>\n",
       "    <tr>\n",
       "      <th>335</th>\n",
       "      <td>Becoz its  &lt;#&gt;  <font color = red>jan</font> whn al the <font color = red>post</font> ofice is in holiday so she cn <font color = red>go</font> fr the <font color = red>post</font> ofice...<font color = red>got</font> it duffer</td>\n",
       "      <td>Becoz its  &lt;#&gt;  <font color = red>January</font> whn al the <font color = red>place</font> ofice is in holiday so she cn <font color = red>conk</font> fr the <font color = red>place</font> ofice...<font color = red>convey</font> it duffer</td>\n",
       "    </tr>\n",
       "    <tr>\n",
       "      <th>336</th>\n",
       "      <td><font color = red>Ok</font> lor. I'm in <font color = red>town</font> now <font color = red>lei</font>.</td>\n",
       "      <td><font color = red>okeh</font> lor. I'm in <font color = red>township</font> now <font color = red>leu</font>.</td>\n",
       "    </tr>\n",
       "    <tr>\n",
       "      <th>337</th>\n",
       "      <td>You do your <font color = red>studies</font> <font color = red>alone</font> without anyones <font color = red>help</font>. If you <font color = red>cant</font> no <font color = red>need</font> to <font color = red>study</font>.</td>\n",
       "      <td>You do your <font color = red>analyse</font> <font color = red>unique</font> without anyones <font color = red>service</font>. If you <font color = red>buzzword</font> no <font color = red>motivation</font> to <font color = red>analyze</font>.</td>\n",
       "    </tr>\n",
       "    <tr>\n",
       "      <th>338</th>\n",
       "      <td>… and don‘t <font color = red>worry</font> we‘ll have <font color = red>finished</font> by <font color = red>march</font> … ish!</td>\n",
       "      <td>… and don‘t <font color = red>vexation</font> we‘ll have <font color = red>cease</font> by <font color = red>Mar</font> … ish!</td>\n",
       "    </tr>\n",
       "    <tr>\n",
       "      <th>339</th>\n",
       "      <td>Hey cutie. How <font color = red>goes</font> it? Here in <font color = red>WALES</font> its <font color = red>kinda</font> <font color = red>ok</font>. There is <font color = red>like</font> hills and <font color = red>shit</font> but i <font color = red>still</font> avent <font color = red>killed</font> myself.</td>\n",
       "      <td>Hey cutie. How <font color = red>get</font> it? Here in <font color = red>Cambria</font> its <font color = red>rather</font> <font color = red>fine</font>. There is <font color = red>similar</font> hills and <font color = red>crap</font> but i <font color = red>tranquilize</font> avent <font color = red>obliterate</font> myself.</td>\n",
       "    </tr>\n",
       "    <tr>\n",
       "      <th>340</th>\n",
       "      <td>Wat <font color = red>r</font> u doing now?</td>\n",
       "      <td>Wat <font color = red>roentgen</font> u doing now?</td>\n",
       "    </tr>\n",
       "    <tr>\n",
       "      <th>341</th>\n",
       "      <td>What <font color = red>class</font> of  &lt;#&gt;  <font color = red>reunion</font>?</td>\n",
       "      <td>What <font color = red>separate</font> of  &lt;#&gt;  <font color = red>reunification</font>?</td>\n",
       "    </tr>\n",
       "    <tr>\n",
       "      <th>342</th>\n",
       "      <td><font color = red>Sorry</font>, <font color = red>went</font> to <font color = red>bed</font> early, nightnight</td>\n",
       "      <td><font color = red>meritless</font>, <font color = red>decease</font> to <font color = red>bottom</font> early, nightnight</td>\n",
       "    </tr>\n",
       "    <tr>\n",
       "      <th>343</th>\n",
       "      <td>Dhoni have <font color = red>luck</font> to <font color = red>win</font> some <font color = red>big</font> <font color = red>title</font>.so we will <font color = red>win</font>:)</td>\n",
       "      <td>Dhoni have <font color = red>fortune</font> to <font color = red>gain</font> some <font color = red>self-aggrandizing</font> <font color = red>claim</font>.so we will <font color = red>advance</font>:)</td>\n",
       "    </tr>\n",
       "    <tr>\n",
       "      <th>344</th>\n",
       "      <td><font color = red>I</font> will <font color = red>come</font> tomorrow di</td>\n",
       "      <td><font color = red>1</font> will <font color = red>occur</font> tomorrow di</td>\n",
       "    </tr>\n",
       "    <tr>\n",
       "      <th>345</th>\n",
       "      <td><font color = red>Also</font> <font color = red>track</font> down any <font color = red>lighters</font> you can <font color = red>find</font></td>\n",
       "      <td><font color = red>likewise</font> <font color = red>rails</font> down any <font color = red>ignitor</font> you can <font color = red>obtain</font></td>\n",
       "    </tr>\n",
       "    <tr>\n",
       "      <th>346</th>\n",
       "      <td><font color = red>Printer</font> is <font color = red>cool</font>. <font color = red>I</font> <font color = red>mean</font> <font color = red>groovy</font>. <font color = red>Wine</font> is groovying</td>\n",
       "      <td><font color = red>pressman</font> is <font color = red>coolheaded</font>. <font color = red>unity</font> <font color = red>signify</font> <font color = red>slap-up</font>. <font color = red>wine-coloured</font> is groovying</td>\n",
       "    </tr>\n",
       "    <tr>\n",
       "      <th>347</th>\n",
       "      <td>Will be out of <font color = red>class</font> in a few hours. <font color = red>Sorry</font></td>\n",
       "      <td>Will be out of <font color = red>category</font> in a few hours. <font color = red>meritless</font></td>\n",
       "    </tr>\n",
       "    <tr>\n",
       "      <th>348</th>\n",
       "      <td>It,,s a taxt <font color = red>massage</font>....tie-pos argh <font color = red>ok</font>! Lool!</td>\n",
       "      <td>It,,s a taxt <font color = red>knead</font>....tie-pos argh <font color = red>fine</font>! Lool!</td>\n",
       "    </tr>\n",
       "    <tr>\n",
       "      <th>349</th>\n",
       "      <td>If <font color = red>u</font> laugh <font color = red>really</font> loud.. If <font color = red>u</font> <font color = red>talk</font> spontaneously.. If <font color = red>u</font> dont <font color = red>care</font> what others <font color = red>feel</font>.. <font color = red>U</font> are <font color = red>probably</font> with your <font color = red>dear</font> &<font color = red>amp</font>; <font color = red>best</font> <font color = red>friends</font>.. GOODEVENING <font color = red>Dear</font>..:)</td>\n",
       "      <td>If <font color = red>uranium</font> laugh <font color = red>genuinely</font> loud.. If <font color = red>uranium</font> <font color = red>verbalize</font> spontaneously.. If <font color = red>uranium</font> dont <font color = red>caution</font> what others <font color = red>look</font>.. <font color = red>uranium</font> are <font color = red>plausibly</font> with your <font color = red>high-priced</font> &<font color = red>A</font>; <font color = red>expert</font> <font color = red>booster</font>.. GOODEVENING <font color = red>high-priced</font>..:)</td>\n",
       "    </tr>\n",
       "    <tr>\n",
       "      <th>350</th>\n",
       "      <td>Yes <font color = red>fine</font></td>\n",
       "      <td>Yes <font color = red>ticket</font></td>\n",
       "    </tr>\n",
       "    <tr>\n",
       "      <th>351</th>\n",
       "      <td><font color = red>Love</font> that holiday Monday <font color = red>feeling</font> <font color = red>even</font> if <font color = red>I</font> have to <font color = red>go</font> to the dentists in an hour</td>\n",
       "      <td><font color = green>enjoy</font> that holiday Monday <font color = green>flavour</font> <font color = green>fifty-fifty</font> if <font color = green>one</font> have to <font color = green>XTC</font> to the dentists in an hour</td>\n",
       "    </tr>\n",
       "    <tr>\n",
       "      <th>352</th>\n",
       "      <td><font color = red>Hope</font> you are feeling <font color = red>great</font>. Pls <font color = red>fill</font> me in. Abiola</td>\n",
       "      <td><font color = red>desire</font> you are feeling <font color = red>expectant</font>. Pls <font color = red>filling</font> me in. Abiola</td>\n",
       "    </tr>\n",
       "    <tr>\n",
       "      <th>353</th>\n",
       "      <td>Hey sweet, I was wondering when you had a moment if you might come to me ? <font color = red>I</font> want to send a file to someone but it won't <font color = red>go</font> over yahoo for them because their connection sucks, remember when you set up that page for me to <font color = red>go</font> to and download the format disc ? Could you tell me how to do that ? Or do you know some other <font color = red>way</font> to download <font color = red>big</font> files ? Because they can download stuff directly from the internet. Any <font color = red>help</font> would be <font color = red>great</font>, my <font color = red>prey</font> ... *teasing kiss*</td>\n",
       "      <td>Hey sweet, I was wondering when you had a moment if you might come to me ? <font color = green>iodine</font> want to send a file to someone but it won't <font color = green>decease</font> over yahoo for them because their connection sucks, remember when you set up that page for me to <font color = green>XTC</font> to and download the format disc ? Could you tell me how to do that ? Or do you know some other <font color = green>mode</font> to download <font color = green>cock-a-hoop</font> files ? Because they can download stuff directly from the internet. Any <font color = green>supporter</font> would be <font color = green>outstanding</font>, my <font color = green>feed</font> ... *teasing kiss*</td>\n",
       "    </tr>\n",
       "    <tr>\n",
       "      <th>354</th>\n",
       "      <td><font color = red>I</font> am <font color = red>taking</font> half day <font color = red>leave</font> bec i am not <font color = red>well</font></td>\n",
       "      <td><font color = red>ane</font> am <font color = red>ingest</font> half day <font color = red>depart</font> bec i am not <font color = red>advantageously</font></td>\n",
       "    </tr>\n",
       "    <tr>\n",
       "      <th>355</th>\n",
       "      <td>Hey what are you doing. Y no <font color = red>reply</font> <font color = red>pa</font>..</td>\n",
       "      <td>Hey what are you doing. Y no <font color = red>response</font> <font color = red>pop</font>..</td>\n",
       "    </tr>\n",
       "    <tr>\n",
       "      <th>356</th>\n",
       "      <td><font color = red>Same</font> here, but <font color = red>I</font> <font color = red>consider</font> <font color = red>walls</font> and <font color = red>bunkers</font> and <font color = red>shit</font> <font color = red>important</font> just because <font color = red>I</font> never <font color = red>play</font> on <font color = red>peaceful</font> but <font color = red>I</font> <font color = red>guess</font> your <font color = red>place</font> is <font color = red>high</font> enough that it don't matter</td>\n",
       "      <td><font color = red>like</font> here, but <font color = red>one</font> <font color = red>believe</font> <font color = red>surround</font> and <font color = red>dugout</font> and <font color = red>make</font> <font color = red>authoritative</font> just because <font color = red>one</font> never <font color = red>recreate</font> on <font color = red>passive</font> but <font color = red>single</font> <font color = red>guesswork</font> your <font color = red>target</font> is <font color = red>luxuriously</font> enough that it don't matter</td>\n",
       "    </tr>\n",
       "    <tr>\n",
       "      <th>357</th>\n",
       "      <td>Hello, my <font color = red>love</font>! How <font color = red>goes</font> that day ? <font color = red>I</font> <font color = red>wish</font> your <font color = red>well</font> and <font color = red>fine</font> babe and hope that you <font color = red>find</font> some job <font color = red>prospects</font>. <font color = red>I</font> miss you, boytoy ... *a <font color = red>teasing</font> kiss*</td>\n",
       "      <td>Hello, my <font color = green>bang</font>! How <font color = green>XTC</font> that day ? <font color = green>single</font> <font color = green>compliments</font> your <font color = green>fountainhead</font> and <font color = green>exquisitely</font> babe and hope that you <font color = green>receive</font> some job <font color = green>view</font>. <font color = green>1</font> miss you, boytoy ... *a <font color = green>card</font> kiss*</td>\n",
       "    </tr>\n",
       "    <tr>\n",
       "      <th>358</th>\n",
       "      <td>Those were my <font color = red>exact</font> <font color = red>intentions</font></td>\n",
       "      <td>Those were my <font color = red>precise</font> <font color = red>purpose</font></td>\n",
       "    </tr>\n",
       "    <tr>\n",
       "      <th>359</th>\n",
       "      <td><font color = red>Sorry</font> da thangam, very very <font color = red>sorry</font> i am <font color = red>held</font> up with prasad.</td>\n",
       "      <td><font color = red>disconsolate</font> da thangam, very very <font color = red>regretful</font> i am <font color = red>concur</font> up with prasad.</td>\n",
       "    </tr>\n",
       "    <tr>\n",
       "      <th>360</th>\n",
       "      <td><font color = green>Shop</font> till u <font color = green>Drop</font>, <font color = green>IS</font> IT YOU, either 10K, 5K, £500 Cash or £100 <font color = green>Travel</font> <font color = green>voucher</font>, <font color = green>Call</font> now, 09064011000. NTT <font color = green>PO</font> <font color = green>Box</font> CR01327BT fixedline Cost 150ppm <font color = green>mobile</font> <font color = green>vary</font></td>\n",
       "      <td><font color = green>shit</font> till u <font color = green>miss</font>, <font color = green>represent</font> IT YOU, either 10K, 5K, £500 Cash or £100 <font color = green>traveling</font> <font color = green>coupon</font>, <font color = green>song</font> now, 09064011000. NTT <font color = green>polonium</font> <font color = green>boxwood</font> CR01327BT fixedline Cost 150ppm <font color = green>fluid</font> <font color = green>variegate</font></td>\n",
       "    </tr>\n",
       "    <tr>\n",
       "      <th>361</th>\n",
       "      <td>Hey i booked the kb on <font color = red>sat</font> already... what other lessons are we going for ah? <font color = red>Keep</font> your <font color = red>sat</font> night free we need to <font color = red>meet</font> and confirm our <font color = red>lodging</font></td>\n",
       "      <td>Hey i booked the kb on <font color = green>baby-sit</font> already... what other lessons are we going for ah? <font color = green>celebrate</font> your <font color = green>model</font> night free we need to <font color = green>match</font> and confirm our <font color = green>charge</font></td>\n",
       "    </tr>\n",
       "    <tr>\n",
       "      <th>362</th>\n",
       "      <td><font color = red>I</font> can <font color = red>probably</font> <font color = red>come</font> by, everybody's <font color = red>done</font> <font color = red>around</font>  &lt;#&gt;  <font color = red>right</font>?</td>\n",
       "      <td><font color = red>ane</font> can <font color = red>likely</font> <font color = red>cum</font> by, everybody's <font color = red>cause</font> <font color = red>approximately</font>  &lt;#&gt;  <font color = red>proper</font>?</td>\n",
       "    </tr>\n",
       "    <tr>\n",
       "      <th>363</th>\n",
       "      <td>have * <font color = red>good</font> weekend.</td>\n",
       "      <td>have * <font color = red>effective</font> weekend.</td>\n",
       "    </tr>\n",
       "    <tr>\n",
       "      <th>364</th>\n",
       "      <td>This is one of the days you have a <font color = red>billion</font> classes, right?</td>\n",
       "      <td>This is one of the days you have a <font color = green>1000000000000</font> classes, right?</td>\n",
       "    </tr>\n",
       "    <tr>\n",
       "      <th>365</th>\n",
       "      <td>Sir, <font color = red>I</font> have been <font color = red>late</font> in <font color = red>paying</font> <font color = red>rent</font> for the <font color = red>past</font> few <font color = red>months</font> and had to <font color = red>pay</font> a $ &lt;#&gt;  <font color = red>charge</font>. <font color = red>I</font> felt it would be inconsiderate of me to <font color = red>nag</font> about something you <font color = red>give</font> at <font color = red>great</font> <font color = red>cost</font> to yourself and that's why i didnt <font color = red>speak</font> up. <font color = red>I</font> however am in a recession and wont be <font color = red>able</font> to <font color = red>pay</font> the <font color = red>charge</font> this month <font color = red>hence</font> my askin <font color = red>well</font> <font color = red>ahead</font> of month's <font color = red>end</font>. <font color = red>Can</font> you <font color = red>please</font> <font color = red>help</font>. Thanks</td>\n",
       "      <td>Sir, <font color = red>ace</font> have been <font color = red>recently</font> in <font color = red>compensable</font> <font color = red>rip</font> for the <font color = red>preceding</font> few <font color = red>month</font> and had to <font color = red>give</font> a $ &lt;#&gt;  <font color = red>guardianship</font>. <font color = red>ace</font> felt it would be inconsiderate of me to <font color = red>hack</font> about something you <font color = red>generate</font> at <font color = red>slap-up</font> <font color = red>price</font> to yourself and that's why i didnt <font color = red>verbalise</font> up. <font color = red>1</font> however am in a recession and wont be <font color = red>able-bodied</font> to <font color = red>remuneration</font> the <font color = red>billing</font> this month <font color = red>so</font> my askin <font color = red>fountainhead</font> <font color = red>forwards</font> of month's <font color = red>closing</font>. <font color = red>crapper</font> you <font color = red>delight</font> <font color = red>service</font>. Thanks</td>\n",
       "    </tr>\n",
       "    <tr>\n",
       "      <th>366</th>\n",
       "      <td>Badrith is only for <font color = red>chennai</font>:)i will surely <font color = red>pick</font> for us:)no <font color = red>competition</font> for him.</td>\n",
       "      <td>Badrith is only for <font color = red>Madras</font>:)i will surely <font color = red>blame</font> for us:)no <font color = red>competitor</font> for him.</td>\n",
       "    </tr>\n",
       "    <tr>\n",
       "      <th>367</th>\n",
       "      <td>&lt;#&gt;  in mca. <font color = red>But</font> not conform.</td>\n",
       "      <td>&lt;#&gt;  in mca. <font color = red>merely</font> not conform.</td>\n",
       "    </tr>\n",
       "    <tr>\n",
       "      <th>368</th>\n",
       "      <td><font color = green>FREE</font> RINGTONE <font color = green>text</font> <font color = green>FIRST</font> to 87131 for a poly or <font color = green>text</font> <font color = green>GET</font> to 87131 for a <font color = green>true</font> <font color = green>tone</font>! <font color = green>Help</font>? 0845 2814032 <font color = green>16</font> after 1st <font color = green>free</font>, <font color = green>tones</font> are 3x£150pw to e£nd txt <font color = green>stop</font></td>\n",
       "      <td><font color = green>barren</font> RINGTONE <font color = green>schoolbook</font> <font color = green>low</font> to 87131 for a poly or <font color = green>schoolbook</font> <font color = green>sire</font> to 87131 for a <font color = green>straight</font> <font color = green>tint</font>! <font color = green>aid</font>? 0845 2814032 <font color = green>XVI</font> after 1st <font color = green>release</font>, <font color = green>flavor</font> are 3x£150pw to e£nd txt <font color = green>finish</font></td>\n",
       "    </tr>\n",
       "    <tr>\n",
       "      <th>369</th>\n",
       "      <td>Lol <font color = red>ok</font> <font color = red>ill</font> <font color = red>try</font> to send. <font color = red>Be</font> warned <font color = red>Sprint</font> is <font color = red>dead</font> <font color = red>slow</font>. You'll prolly <font color = red>get</font> it tomorrow</td>\n",
       "      <td>Lol <font color = red>hunky-dory</font> <font color = red>ominous</font> <font color = red>taste</font> to send. <font color = red>cost</font> warned <font color = red>dash</font> is <font color = red>deadened</font> <font color = red>ho-hum</font>. You'll prolly <font color = red>stupefy</font> it tomorrow</td>\n",
       "    </tr>\n",
       "    <tr>\n",
       "      <th>370</th>\n",
       "      <td>And miss vday the <font color = red>parachute</font> and <font color = red>double</font> coins??? <font color = red>U</font> must not <font color = red>know</font> me very <font color = red>well</font>...</td>\n",
       "      <td>And miss vday the <font color = red>jump</font> and <font color = red>look-alike</font> coins??? <font color = red>uranium</font> must not <font color = red>recognize</font> me very <font color = red>easily</font>...</td>\n",
       "    </tr>\n",
       "    <tr>\n",
       "      <th>371</th>\n",
       "      <td><font color = red>K</font>..i deleted my <font color = red>contact</font> that why?</td>\n",
       "      <td><font color = red>G</font>..i deleted my <font color = red>link</font> that why?</td>\n",
       "    </tr>\n",
       "    <tr>\n",
       "      <th>372</th>\n",
       "      <td>Do you <font color = red>like</font> Italian food?</td>\n",
       "      <td>Do you <font color = red>wish</font> Italian food?</td>\n",
       "    </tr>\n",
       "    <tr>\n",
       "      <th>373</th>\n",
       "      <td>Customer <font color = red>place</font> i will <font color = red>call</font> you</td>\n",
       "      <td>Customer <font color = red>rate</font> i will <font color = red>visit</font> you</td>\n",
       "    </tr>\n",
       "    <tr>\n",
       "      <th>374</th>\n",
       "      <td>How are you. <font color = red>Wish</font> you a <font color = red>great</font> semester</td>\n",
       "      <td>How are you. <font color = red>wishing</font> you a <font color = red>slap-up</font> semester</td>\n",
       "    </tr>\n",
       "    <tr>\n",
       "      <th>375</th>\n",
       "      <td>Actually I decided <font color = red>I</font> was too hungry so I haven't <font color = red>left</font> <font color = red>yet</font> :<font color = red>V</font></td>\n",
       "      <td>Actually I decided <font color = red>iodine</font> was too hungry so I haven't <font color = red>forget</font> <font color = red>nonetheless</font> :<font color = red>five</font></td>\n",
       "    </tr>\n",
       "    <tr>\n",
       "      <th>376</th>\n",
       "      <td><font color = red>I</font> can do that! I want to <font color = red>please</font> you both <font color = red>inside</font> and <font color = red>outside</font> the bedroom...</td>\n",
       "      <td><font color = red>one</font> can do that! I want to <font color = red>delight</font> you both <font color = red>privileged</font> and <font color = red>out-of-door</font> the bedroom...</td>\n",
       "    </tr>\n",
       "    <tr>\n",
       "      <th>377</th>\n",
       "      <td><font color = red>Sounds</font> <font color = red>good</font>, <font color = red>keep</font> me <font color = red>posted</font></td>\n",
       "      <td><font color = red>vocalize</font> <font color = red>skillful</font>, <font color = red>hold</font> me <font color = red>place</font></td>\n",
       "    </tr>\n",
       "    <tr>\n",
       "      <th>378</th>\n",
       "      <td><font color = red>O</font> i <font color = red>played</font> <font color = red>smash</font> bros  &lt;#&gt;  <font color = red>religiously</font>.</td>\n",
       "      <td><font color = red>oxygen</font> i <font color = red>playact</font> <font color = red>knock</font> bros  &lt;#&gt;  <font color = red>sacredly</font>.</td>\n",
       "    </tr>\n",
       "    <tr>\n",
       "      <th>379</th>\n",
       "      <td><font color = red>Genius</font> what's up. How your <font color = red>brother</font>. Pls <font color = red>send</font> his number to my skype.</td>\n",
       "      <td><font color = red>mastermind</font> what's up. How your <font color = red>sidekick</font>. Pls <font color = red>broadcast</font> his number to my skype.</td>\n",
       "    </tr>\n",
       "    <tr>\n",
       "      <th>380</th>\n",
       "      <td>O. <font color = red>Guess</font> they both <font color = red>got</font> screwd</td>\n",
       "      <td>O. <font color = red>opine</font> they both <font color = red>nonplus</font> screwd</td>\n",
       "    </tr>\n",
       "    <tr>\n",
       "      <th>381</th>\n",
       "      <td>Dunno, my <font color = red>dad</font> <font color = red>said</font> he <font color = red>coming</font> <font color = red>home</font> <font color = red>2</font> <font color = red>bring</font> <font color = red>us</font> out <font color = red>4</font> <font color = red>lunch</font>. Yup i <font color = red>go</font> w u lor. I <font color = red>call</font> u when i <font color = red>reach</font> <font color = red>school</font> lor...</td>\n",
       "      <td>Dunno, my <font color = red>daddy</font> <font color = red>aver</font> he <font color = red>fare</font> <font color = red>dwelling</font> <font color = red>deuce</font> <font color = red>work</font> <font color = red>U</font> out <font color = red>IV</font> <font color = red>tiffin</font>. Yup i <font color = red>crack</font> w u lor. I <font color = red>holler</font> u when i <font color = red>scope</font> <font color = red>schoolhouse</font> lor...</td>\n",
       "    </tr>\n",
       "    <tr>\n",
       "      <th>382</th>\n",
       "      <td>Pls <font color = red>send</font> me your <font color = red>address</font> sir.</td>\n",
       "      <td>Pls <font color = red>direct</font> me your <font color = red>accost</font> sir.</td>\n",
       "    </tr>\n",
       "    <tr>\n",
       "      <th>383</th>\n",
       "      <td><font color = red>Dude</font> u knw also telugu..thts gud..<font color = red>k</font>, gud nyt..</td>\n",
       "      <td><font color = red>dandy</font> u knw also telugu..thts gud..<font color = red>KB</font>, gud nyt..</td>\n",
       "    </tr>\n",
       "    <tr>\n",
       "      <th>384</th>\n",
       "      <td>You flippin your <font color = red>shit</font> <font color = red>yet</font>?</td>\n",
       "      <td>You flippin your <font color = red>crap</font> <font color = red>notwithstanding</font>?</td>\n",
       "    </tr>\n",
       "    <tr>\n",
       "      <th>385</th>\n",
       "      <td>Your <font color = green>free</font> ringtone is <font color = green>waiting</font> to be <font color = green>collected</font>. <font color = green>Simply</font> <font color = green>text</font> the <font color = green>password</font> \"<font color = green>MIX</font>\" to 85069 to <font color = green>verify</font>. <font color = green>Get</font> <font color = green>Usher</font> and Britney. FML, <font color = green>PO</font> <font color = green>Box</font> 5249, MK17 92H. 450Ppw <font color = green>16</font></td>\n",
       "      <td>Your <font color = green>release</font> ringtone is <font color = green>waitress</font> to be <font color = green>hoard</font>. <font color = green>only</font> <font color = green>textbook</font> the <font color = green>parole</font> \"<font color = green>meld</font>\" to 85069 to <font color = green>aver</font>. <font color = green>sire</font> <font color = green>Ussher</font> and Britney. FML, <font color = green>polonium</font> <font color = green>boxwood</font> 5249, MK17 92H. 450Ppw <font color = green>XVI</font></td>\n",
       "    </tr>\n",
       "    <tr>\n",
       "      <th>386</th>\n",
       "      <td><font color = red>K</font> I'll be <font color = red>sure</font> to <font color = red>get</font> up before <font color = red>noon</font> and <font color = red>see</font> what's what</td>\n",
       "      <td><font color = red>kilobyte</font> I'll be <font color = red>indisputable</font> to <font color = red>generate</font> up before <font color = red>noonday</font> and <font color = red>visualize</font> what's what</td>\n",
       "    </tr>\n",
       "    <tr>\n",
       "      <th>387</th>\n",
       "      <td>Babe, I'm <font color = red>back</font> ... <font color = red>Come</font> back to me ...</td>\n",
       "      <td>Babe, I'm <font color = red>gage</font> ... <font color = red>total</font> back to me ...</td>\n",
       "    </tr>\n",
       "    <tr>\n",
       "      <th>388</th>\n",
       "      <td><font color = red>Ok</font> <font color = red>enjoy</font> . <font color = red>R</font> u there in <font color = red>home</font>.</td>\n",
       "      <td><font color = red>okeh</font> <font color = red>bask</font> . <font color = red>radius</font> u there in <font color = red>family</font>.</td>\n",
       "    </tr>\n",
       "    <tr>\n",
       "      <th>389</th>\n",
       "      <td><font color = red>I</font> donno its in your <font color = red>genes</font> or something</td>\n",
       "      <td><font color = red>ace</font> donno its in your <font color = red>cistron</font> or something</td>\n",
       "    </tr>\n",
       "    <tr>\n",
       "      <th>390</th>\n",
       "      <td>Hey... What time is your <font color = red>driving</font> on <font color = red>fri</font>? We <font color = red>go</font> for <font color = red>evaluation</font> on <font color = red>fri</font>?</td>\n",
       "      <td>Hey... What time is your <font color = red>ride</font> on <font color = red>Friday</font>? We <font color = red>XTC</font> for <font color = red>rating</font> on <font color = red>Friday</font>?</td>\n",
       "    </tr>\n",
       "    <tr>\n",
       "      <th>391</th>\n",
       "      <td>Pls <font color = red>ask</font> macho how <font color = red>much</font> is budget for bb <font color = red>bold</font> <font color = red>2</font> is <font color = red>cos</font> i <font color = red>saw</font> a <font color = red>new</font> <font color = red>one</font> for  &lt;#&gt;  <font color = red>dollars</font>.</td>\n",
       "      <td>Pls <font color = red>inquire</font> macho how <font color = red>often</font> is budget for bb <font color = red>boldface</font> <font color = red>deuce</font> is <font color = red>cosine</font> i <font color = red>construe</font> a <font color = red>novel</font> <font color = red>nonpareil</font> for  &lt;#&gt;  <font color = red>dollar</font>.</td>\n",
       "    </tr>\n",
       "    <tr>\n",
       "      <th>392</th>\n",
       "      <td>EASTENDERS <font color = green>TV</font> <font color = green>Quiz</font>. What <font color = green>FLOWER</font> does <font color = green>DOT</font> <font color = green>compare</font> herself to? <font color = green>D</font>= VIOLET <font color = green>E</font>= TULIP <font color = green>F</font>= LILY txt <font color = green>D</font> <font color = green>E</font> or F to 84025 <font color = green>NOW</font> <font color = green>4</font> <font color = green>chance</font> <font color = green>2</font> <font color = green>WIN</font> £<font color = green>100</font> Cash WKENT/150P16+</td>\n",
       "      <td>EASTENDERS <font color = green>telly</font> <font color = green>test</font>. What <font color = green>peak</font> does <font color = green>disperse</font> <font color = green>equate</font> herself to? <font color = green>ergocalciferol</font>= VIOLET <font color = green>eastward</font>= TULIP <font color = green>farad</font>= LILY txt <font color = green>viosterol</font> <font color = green>eastward</font> or F to 84025 <font color = green>straightaway</font> <font color = green>quatern</font> <font color = green>adventure</font> <font color = green>two</font> <font color = green>winnings</font> £<font color = green>hundred</font> Cash WKENT/150P16+</td>\n",
       "    </tr>\n",
       "    <tr>\n",
       "      <th>393</th>\n",
       "      <td><font color = red>Night</font> has <font color = red>ended</font> for another <font color = red>day</font>, <font color = red>morning</font> has <font color = red>come</font> in a <font color = red>special</font> <font color = red>way</font>. May you <font color = red>smile</font> <font color = red>like</font> the <font color = red>sunny</font> <font color = red>rays</font> and <font color = red>leaves</font> your <font color = red>worries</font> at the <font color = red>blue</font> <font color = red>blue</font> <font color = red>bay</font>. Gud mrng</td>\n",
       "      <td><font color = red>nighttime</font> has <font color = red>concluded</font> for another <font color = red>daytime</font>, <font color = red>daybreak</font> has <font color = red>fare</font> in a <font color = red>limited</font> <font color = red>style</font>. May you <font color = red>grin</font> <font color = red>alike</font> the <font color = red>gay</font> <font color = red>irradiation</font> and <font color = red>provide</font> your <font color = red>interest</font> at the <font color = red>low-spirited</font> <font color = red>puritanic</font> <font color = red>embayment</font>. Gud mrng</td>\n",
       "    </tr>\n",
       "    <tr>\n",
       "      <th>394</th>\n",
       "      <td><font color = red>Cool</font>, I'll text you when I'm on the <font color = red>way</font></td>\n",
       "      <td><font color = red>nerveless</font>, I'll text you when I'm on the <font color = red>fashion</font></td>\n",
       "    </tr>\n",
       "    <tr>\n",
       "      <th>395</th>\n",
       "      <td><font color = red>Oh</font> <font color = red>ho</font>. <font color = red>Is</font> this the <font color = red>first</font> <font color = red>time</font> <font color = red>u</font> <font color = red>use</font> these <font color = red>type</font> of <font color = red>words</font></td>\n",
       "      <td><font color = red>Ohio</font> <font color = red>holmium</font>. <font color = red>cost</font> this the <font color = red>world-class</font> <font color = red>meter</font> <font color = red>uranium</font> <font color = red>utilise</font> these <font color = red>typecast</font> of <font color = red>give-and-take</font></td>\n",
       "    </tr>\n",
       "    <tr>\n",
       "      <th>396</th>\n",
       "      <td>I'm at <font color = red>work</font>. Please <font color = red>call</font></td>\n",
       "      <td>I'm at <font color = red>play</font>. Please <font color = red>scream</font></td>\n",
       "    </tr>\n",
       "    <tr>\n",
       "      <th>397</th>\n",
       "      <td>Dont <font color = red>pick</font> up d <font color = red>call</font> when something important is <font color = red>There</font> to <font color = red>tell</font>. Hrishi</td>\n",
       "      <td>Dont <font color = red>cull</font> up d <font color = red>hollo</font> when something important is <font color = red>thither</font> to <font color = red>enjoin</font>. Hrishi</td>\n",
       "    </tr>\n",
       "    <tr>\n",
       "      <th>398</th>\n",
       "      <td>Panasonic & BluetoothHdset <font color = green>FREE</font>. Nokia <font color = green>FREE</font>. Motorola <font color = green>FREE</font> & DoubleMins & DoubleTxt on Orange <font color = green>contract</font>. <font color = green>Call</font> MobileUpd8 on 08000839402 or <font color = green>call</font> 2optout</td>\n",
       "      <td>Panasonic & BluetoothHdset <font color = green>release</font>. Nokia <font color = green>release</font>. Motorola <font color = green>release</font> & DoubleMins & DoubleTxt on Orange <font color = green>compact</font>. <font color = green>anticipate</font> MobileUpd8 on 08000839402 or <font color = green>anticipate</font> 2optout</td>\n",
       "    </tr>\n",
       "    <tr>\n",
       "      <th>399</th>\n",
       "      <td>Hey tmr <font color = red>maybe</font> can <font color = red>meet</font> you at yck</td>\n",
       "      <td>Hey tmr <font color = red>perhaps</font> can <font color = red>foregather</font> you at yck</td>\n",
       "    </tr>\n",
       "    <tr>\n",
       "      <th>400</th>\n",
       "      <td>Ya they are <font color = red>well</font> and <font color = red>fine</font>., BBD(pooja) <font color = red>full</font> <font color = red>pimples</font>..<font color = red>even</font> she <font color = red>become</font> quite <font color = red>black</font>..and ur <font color = red>rite</font> here its too <font color = red>cold</font>, <font color = red>wearing</font> sweatter..</td>\n",
       "      <td>Ya they are <font color = red>advantageously</font> and <font color = red>exquisitely</font>., BBD(pooja) <font color = red>wide-cut</font> <font color = red>hickey</font>..<font color = red>fifty-fifty</font> she <font color = red>suit</font> quite <font color = red>pitch-black</font>..and ur <font color = red>ritual</font> here its too <font color = red>moth-eaten</font>, <font color = red>wearying</font> sweatter..</td>\n",
       "    </tr>\n",
       "    <tr>\n",
       "      <th>401</th>\n",
       "      <td>Tomarrow i <font color = red>want</font> to <font color = red>got</font> to <font color = red>court</font>. <font color = red>At</font>  &lt;<font color = red>DECIMAL</font>&gt; . <font color = red>So</font> you <font color = red>come</font> to <font color = red>bus</font> <font color = red>stand</font> at 9.</td>\n",
       "      <td>Tomarrow i <font color = red>privation</font> to <font color = red>perplex</font> to <font color = red>lawcourt</font>. <font color = red>astatine</font>  &lt;<font color = red>denary</font>&gt; . <font color = red>thence</font> you <font color = red>fare</font> to <font color = red>double-decker</font> <font color = red>rack</font> at 9.</td>\n",
       "    </tr>\n",
       "    <tr>\n",
       "      <th>402</th>\n",
       "      <td><font color = red>Call</font> me when you/<font color = red>carlos</font> is/are here, my phone's <font color = red>vibrate</font> is <font color = red>acting</font> up and <font color = red>I</font> <font color = red>might</font> not <font color = red>hear</font> <font color = red>texts</font></td>\n",
       "      <td><font color = red>prognosticate</font> me when you/<font color = red>Sanchez</font> is/are here, my phone's <font color = red>tickle</font> is <font color = red>roleplay</font> up and <font color = red>one</font> <font color = red>power</font> not <font color = red>discover</font> <font color = red>text</font></td>\n",
       "    </tr>\n",
       "    <tr>\n",
       "      <th>403</th>\n",
       "      <td><font color = green>FREE</font>>Ringtone! Reply REAL or POLY eg REAL1 1. PushButton 2. DontCha 3. BabyGoodbye 4. GoldDigger 5. WeBeBurnin 1st <font color = green>tone</font> <font color = green>FREE</font> and 6 more when u join for £<font color = green>3</font>/wk</td>\n",
       "      <td><font color = red>dislodge</font>>Ringtone! Reply REAL or POLY eg REAL1 1. PushButton 2. DontCha 3. BabyGoodbye 4. GoldDigger 5. WeBeBurnin 1st <font color = red>intone</font> <font color = red>gratuitous</font> and 6 more when u join for £<font color = red>threesome</font>/wk</td>\n",
       "    </tr>\n",
       "    <tr>\n",
       "      <th>404</th>\n",
       "      <td>Ur cash-balance is <font color = green>currently</font> <font color = green>500</font> <font color = green>pounds</font> - to maximize ur cash-in now <font color = green>send</font> <font color = green>GO</font> to 86688 only 150p/msg. CC 08718720201 <font color = green>HG</font>/Suite342/2Lands <font color = green>Row</font>/W1J6HL</td>\n",
       "      <td>Ur cash-balance is <font color = green>presently</font> <font color = green>D</font> <font color = green>lb</font> - to maximize ur cash-in now <font color = green>beam</font> <font color = green>rifle</font> to 86688 only 150p/msg. CC 08718720201 <font color = green>mercury</font>/Suite342/2Lands <font color = green>quarrel</font>/W1J6HL</td>\n",
       "    </tr>\n",
       "    <tr>\n",
       "      <th>405</th>\n",
       "      <td><font color = red>Ok</font> going to <font color = red>sleep</font>. <font color = red>Hope</font> i can <font color = red>meet</font> her.</td>\n",
       "      <td><font color = red>okay</font> going to <font color = red>quietus</font>. <font color = red>promise</font> i can <font color = red>contact</font> her.</td>\n",
       "    </tr>\n",
       "    <tr>\n",
       "      <th>406</th>\n",
       "      <td>Waqt se pehle or naseeb se zyada kisi <font color = red>ko</font> kuch nahi milta,Zindgi wo nahi he jo hum sochte hai Zindgi wo hai jo <font color = red>ham</font> jeetey hai..........</td>\n",
       "      <td>Waqt se pehle or naseeb se zyada kisi <font color = red>knockout</font> kuch nahi milta,Zindgi wo nahi he jo hum sochte hai Zindgi wo hai jo <font color = red>overplay</font> jeetey hai..........</td>\n",
       "    </tr>\n",
       "    <tr>\n",
       "      <th>407</th>\n",
       "      <td><font color = red>Ok</font> lor. <font color = red>I</font> ned <font color = red>2</font> <font color = red>go</font> toa payoh <font color = red>4</font> a while <font color = red>2</font> <font color = red>return</font> smth <font color = red>u</font> wan 2 <font color = red>send</font> me there or wat?</td>\n",
       "      <td><font color = red>okeh</font> lor. <font color = red>single</font> ned <font color = red>II</font> <font color = red>XTC</font> toa payoh <font color = red>quadruplet</font> a while <font color = red>two</font> <font color = red>retrovert</font> smth <font color = red>uranium</font> wan 2 <font color = red>broadcast</font> me there or wat?</td>\n",
       "    </tr>\n",
       "    <tr>\n",
       "      <th>408</th>\n",
       "      <td>Yeah, give me a <font color = red>call</font> if you've <font color = red>got</font> a <font color = red>minute</font></td>\n",
       "      <td>Yeah, give me a <font color = red>prognosticate</font> if you've <font color = red>perplex</font> a <font color = red>moment</font></td>\n",
       "    </tr>\n",
       "    <tr>\n",
       "      <th>409</th>\n",
       "      <td>(Bank of Granite issues Strong-Buy) EXPLOSIVE <font color = green>PICK</font> FOR OUR MEMBERS *****UP OVER 300% *********** Nasdaq Symbol CDGT That is a $<font color = green>5</font>.00 per..</td>\n",
       "      <td>(Bank of Granite issues Strong-Buy) EXPLOSIVE <font color = red>blame</font> FOR OUR MEMBERS *****UP OVER 300% *********** Nasdaq Symbol CDGT That is a $<font color = red>pentad</font>.00 per..</td>\n",
       "    </tr>\n",
       "    <tr>\n",
       "      <th>410</th>\n",
       "      <td><font color = red>Aah</font>! A <font color = red>cuddle</font> would be <font color = red>lush</font>! I'd <font color = red>need</font> <font color = red>lots</font> of <font color = red>tea</font> and soup before any <font color = red>kind</font> of <font color = red>fumbling</font>!</td>\n",
       "      <td><font color = red>ooh</font>! A <font color = red>nuzzle</font> would be <font color = red>plush</font>! I'd <font color = red>involve</font> <font color = red>dozens</font> of <font color = red>teatime</font> and soup before any <font color = red>variety</font> of <font color = red>bungling</font>!</td>\n",
       "    </tr>\n",
       "    <tr>\n",
       "      <th>411</th>\n",
       "      <td>Rightio. <font color = red>11</font>.<font color = red>48</font> it is then. <font color = red>Well</font> arent we all up <font color = red>bright</font> and early this <font color = red>morning</font>.</td>\n",
       "      <td>Rightio. <font color = red>XI</font>.<font color = red>xlviii</font> it is then. <font color = red>fountainhead</font> arent we all up <font color = red>burnished</font> and early this <font color = red>forenoon</font>.</td>\n",
       "    </tr>\n",
       "    <tr>\n",
       "      <th>412</th>\n",
       "      <td>Hope you are having a <font color = red>great</font> <font color = red>new</font> semester. <font color = red>Do</font> <font color = red>wish</font> you the very <font color = red>best</font>. You are <font color = red>made</font> for <font color = red>greatness</font>.</td>\n",
       "      <td>Hope you are having a <font color = red>slap-up</font> <font color = red>Modern</font> semester. <font color = red>suffice</font> <font color = red>compliments</font> you the very <font color = red>expert</font>. You are <font color = red>crap</font> for <font color = red>sizeableness</font>.</td>\n",
       "    </tr>\n",
       "    <tr>\n",
       "      <th>413</th>\n",
       "      <td><font color = red>Ok</font>. Me <font color = red>watching</font> <font color = red>tv</font> too.</td>\n",
       "      <td><font color = red>okay</font>. Me <font color = red>view</font> <font color = red>video</font> too.</td>\n",
       "    </tr>\n",
       "    <tr>\n",
       "      <th>414</th>\n",
       "      <td>Sounds like you have many talents! would you like to <font color = red>go</font> on a dinner date next week?</td>\n",
       "      <td>Sounds like you have many talents! would you like to <font color = green>XTC</font> on a dinner date next week?</td>\n",
       "    </tr>\n",
       "    <tr>\n",
       "      <th>415</th>\n",
       "      <td>Yes:)here <font color = red>tv</font> is <font color = red>always</font> available in <font color = red>work</font> <font color = red>place</font>..</td>\n",
       "      <td>Yes:)here <font color = red>telecasting</font> is <font color = red>invariably</font> available in <font color = red>cultivate</font> <font color = red>direct</font>..</td>\n",
       "    </tr>\n",
       "    <tr>\n",
       "      <th>416</th>\n",
       "      <td>I'm in <font color = red>class</font>. <font color = red>Will</font> holla <font color = red>later</font></td>\n",
       "      <td>I'm in <font color = red>assort</font>. <font color = red>bequeath</font> holla <font color = red>late</font></td>\n",
       "    </tr>\n",
       "    <tr>\n",
       "      <th>417</th>\n",
       "      <td>I'm in chennai velachery:)</td>\n",
       "      <td>I'm in chennai velachery:)</td>\n",
       "    </tr>\n",
       "    <tr>\n",
       "      <th>418</th>\n",
       "      <td>Which <font color = red>channel</font>:-):-):):-).</td>\n",
       "      <td>Which <font color = red>convey</font>:-):-):):-).</td>\n",
       "    </tr>\n",
       "    <tr>\n",
       "      <th>419</th>\n",
       "      <td><font color = red>I</font> will <font color = red>reach</font> before ten <font color = red>morning</font></td>\n",
       "      <td><font color = red>unity</font> will <font color = red>achieve</font> before ten <font color = red>daybreak</font></td>\n",
       "    </tr>\n",
       "    <tr>\n",
       "      <th>420</th>\n",
       "      <td><font color = red>Sun</font> ah... Thk mayb can if <font color = red>dun</font> have anythin on... Thk have to <font color = red>book</font> <font color = red>e</font> <font color = red>lesson</font>... <font color = red>E</font> <font color = red>pilates</font> is at <font color = red>orchard</font> mrt <font color = red>u</font> noe hor...</td>\n",
       "      <td><font color = red>Dominicus</font> ah... Thk mayb can if <font color = red>crucify</font> have anythin on... Thk have to <font color = red>Scripture</font> <font color = red>tocopherol</font> <font color = red>moral</font>... <font color = red>east</font> <font color = red>Pilate</font> is at <font color = red>grove</font> mrt <font color = red>uracil</font> noe hor...</td>\n",
       "    </tr>\n",
       "    <tr>\n",
       "      <th>421</th>\n",
       "      <td><font color = red>A</font> <font color = red>lot</font> of this <font color = red>sickness</font> <font color = red>thing</font> <font color = red>going</font> <font color = red>round</font>. <font color = red>Take</font> it <font color = red>easy</font>. Hope <font color = red>u</font> <font color = red>feel</font> <font color = red>better</font> <font color = red>soon</font>. Lol</td>\n",
       "      <td><font color = red>angstrom</font> <font color = red>portion</font> of this <font color = red>malady</font> <font color = red>matter</font> <font color = red>conk</font> <font color = red>bout</font>. <font color = red>ingest</font> it <font color = red>well-to-do</font>. Hope <font color = red>uracil</font> <font color = red>smell</font> <font color = red>easily</font> <font color = red>presently</font>. Lol</td>\n",
       "    </tr>\n",
       "    <tr>\n",
       "      <th>422</th>\n",
       "      <td>Pls what's the <font color = red>full</font> <font color = red>name</font> of joke's <font color = red>school</font> <font color = red>cos</font> <font color = red>fees</font> in university of florida <font color = red>seem</font> to actually be  &lt;#&gt; <font color = red>k</font>. Pls <font color = red>holla</font> <font color = red>back</font></td>\n",
       "      <td>Pls what's the <font color = red>wide-cut</font> <font color = red>advert</font> of joke's <font color = red>train</font> <font color = red>cobalt</font> <font color = red>fee</font> in university of florida <font color = red>appear</font> to actually be  &lt;#&gt; <font color = red>kilobyte</font>. Pls <font color = red>bellowing</font> <font color = red>support</font></td>\n",
       "    </tr>\n",
       "    <tr>\n",
       "      <th>423</th>\n",
       "      <td><font color = red>Carlos</font> is <font color = red>taking</font> his <font color = red>sweet</font> <font color = red>time</font> as <font color = red>usual</font> so <font color = red>let</font> me <font color = red>know</font> when you and patty are <font color = red>done</font>/<font color = red>want</font> to <font color = red>smoke</font> and I'll <font color = red>tell</font> him to <font color = red>haul</font> <font color = red>ass</font></td>\n",
       "      <td><font color = red>Taurus</font> is <font color = red>postulate</font> his <font color = red>sweet-flavored</font> <font color = red>clip</font> as <font color = red>common</font> so <font color = red>get</font> me <font color = red>love</font> when you and patty are <font color = red>dress</font>/<font color = red>privation</font> to <font color = red>fastball</font> and I'll <font color = red>recount</font> him to <font color = red>drag</font> <font color = red>buttocks</font></td>\n",
       "    </tr>\n",
       "    <tr>\n",
       "      <th>424</th>\n",
       "      <td><font color = red>After</font> completed degree. There is no <font color = red>use</font> in <font color = red>joining</font> finance.</td>\n",
       "      <td><font color = red>subsequently</font> completed degree. There is no <font color = red>utilisation</font> in <font color = red>connexion</font> finance.</td>\n",
       "    </tr>\n",
       "    <tr>\n",
       "      <th>425</th>\n",
       "      <td><font color = red>Sorry</font>, I'll <font color = red>call</font> <font color = red>later</font></td>\n",
       "      <td><font color = red>good-for-nothing</font>, I'll <font color = red>scream</font> <font color = red>after</font></td>\n",
       "    </tr>\n",
       "    <tr>\n",
       "      <th>426</th>\n",
       "      <td>Never <font color = red>blame</font> a day in ur <font color = red>life</font>. <font color = red>Good</font> <font color = red>days</font> <font color = red>give</font> <font color = red>u</font> happiness. <font color = red>Bad</font> days <font color = red>give</font> <font color = red>u</font> <font color = red>experience</font>. Both are <font color = red>essential</font> in <font color = red>life</font>! All are <font color = red>Gods</font> <font color = red>blessings</font>! <font color = red>good</font> <font color = red>morning</font>.:</td>\n",
       "      <td>Never <font color = green>pick</font> a day in ur <font color = green>animation</font>. <font color = green>undecomposed</font> <font color = green>daytime</font> <font color = green>generate</font> <font color = green>uranium</font> happiness. <font color = green>high-risk</font> days <font color = green>founder</font> <font color = green>uranium</font> <font color = green>live</font>. Both are <font color = green>requisite</font> in <font color = green>biography</font>! All are <font color = green>idol</font> <font color = green>approval</font>! <font color = green>expert</font> <font color = green>daybreak</font>.:</td>\n",
       "    </tr>\n",
       "    <tr>\n",
       "      <th>427</th>\n",
       "      <td>By the <font color = red>way</font>, i've <font color = red>put</font> a <font color = red>skip</font> <font color = red>right</font> <font color = red>outside</font> the <font color = red>front</font> of the <font color = red>house</font> so you can <font color = red>see</font> which <font color = red>house</font> it is. <font color = red>Just</font> pull up before it.</td>\n",
       "      <td>By the <font color = green>mode</font>, i've <font color = green>redact</font> a <font color = green>hop-skip</font> <font color = green>correct</font> <font color = green>remote</font> the <font color = green>look</font> of the <font color = green>mansion</font> so you can <font color = green>determine</font> which <font color = green>mansion</font> it is. <font color = green>precisely</font> pull up before it.</td>\n",
       "    </tr>\n",
       "    <tr>\n",
       "      <th>428</th>\n",
       "      <td><font color = red>Left</font> dessert. U wan me 2 <font color = red>go</font> suntec <font color = red>look</font> <font color = red>4</font> u?</td>\n",
       "      <td><font color = green>unexpended</font> dessert. U wan me 2 <font color = green>XTC</font> suntec <font color = green>search</font> <font color = green>quadruplet</font> u?</td>\n",
       "    </tr>\n",
       "    <tr>\n",
       "      <th>429</th>\n",
       "      <td><font color = red>Are</font> you not <font color = red>around</font> or just <font color = red>still</font> <font color = red>asleep</font>? :<font color = red>V</font></td>\n",
       "      <td><font color = red>personify</font> you not <font color = red>approximately</font> or just <font color = red>tranquilize</font> <font color = red>deceased</font>? :<font color = red>5</font></td>\n",
       "    </tr>\n",
       "    <tr>\n",
       "      <th>430</th>\n",
       "      <td><font color = red>Cheers</font> for the <font color = red>card</font> ... <font color = red>Is</font> it that <font color = red>time</font> of year already?</td>\n",
       "      <td><font color = red>recreate</font> for the <font color = red>scorecard</font> ... <font color = red>live</font> it that <font color = red>clip</font> of year already?</td>\n",
       "    </tr>\n",
       "    <tr>\n",
       "      <th>431</th>\n",
       "      <td><font color = red>I</font> had a <font color = red>good</font> <font color = red>time</font> too. <font color = red>Its</font> nice to do something a bit <font color = red>different</font> with my <font color = red>weekends</font> for a <font color = red>change</font>. <font color = red>See</font> ya <font color = red>soon</font></td>\n",
       "      <td><font color = red>ace</font> had a <font color = red>skillful</font> <font color = red>clip</font> too. <font color = red>IT</font> nice to do something a bit <font color = red>unlike</font> with my <font color = red>weekend</font> for a <font color = red>variety</font>. <font color = red>view</font> ya <font color = red>shortly</font></td>\n",
       "    </tr>\n",
       "    <tr>\n",
       "      <th>432</th>\n",
       "      <td>cud u <font color = red>tell</font> ppl im gona b a bit l8 <font color = red>cos</font> <font color = red>2</font> <font color = red>buses</font> hav gon past cos they were full & im <font color = red>still</font> waitin 4 1. Pete <font color = red>x</font></td>\n",
       "      <td>cud u <font color = green>order</font> ppl im gona b a bit l8 <font color = green>cobalt</font> <font color = green>II</font> <font color = green>double-decker</font> hav gon past cos they were full & im <font color = green>soundless</font> waitin 4 1. Pete <font color = green>XTC</font></td>\n",
       "    </tr>\n",
       "    <tr>\n",
       "      <th>433</th>\n",
       "      <td>Please <font color = green>call</font> our <font color = green>customer</font> <font color = green>service</font> <font color = green>representative</font> on 0800 169 6031 between 10am-9pm as you have <font color = green>WON</font> a <font color = green>guaranteed</font> £<font color = green>1000</font> cash or £5000 <font color = green>prize</font>!</td>\n",
       "      <td>Please <font color = green>hollo</font> our <font color = green>client</font> <font color = green>serving</font> <font color = green>congressman</font> on 0800 169 6031 between 10am-9pm as you have <font color = green>succeed</font> a <font color = green>undertake</font> £<font color = green>grand</font> cash or £5000 <font color = green>plunder</font>!</td>\n",
       "    </tr>\n",
       "    <tr>\n",
       "      <th>434</th>\n",
       "      <td>I'm vivek:)i <font color = red>got</font> <font color = red>call</font> from your number.</td>\n",
       "      <td>I'm vivek:)i <font color = red>vex</font> <font color = red>phone</font> from your number.</td>\n",
       "    </tr>\n",
       "    <tr>\n",
       "      <th>435</th>\n",
       "      <td>Then we gotta do it after that</td>\n",
       "      <td>Then we gotta do it after that</td>\n",
       "    </tr>\n",
       "    <tr>\n",
       "      <th>436</th>\n",
       "      <td>Thanks. <font color = red>Fills</font> me with <font color = red>complete</font> <font color = red>calm</font> and reassurance!</td>\n",
       "      <td>Thanks. <font color = red>filling</font> me with <font color = red>unadulterated</font> <font color = red>composure</font> and reassurance!</td>\n",
       "    </tr>\n",
       "    <tr>\n",
       "      <th>437</th>\n",
       "      <td><font color = green>Last</font> <font color = green>chance</font> <font color = green>2</font> <font color = green>claim</font> ur £<font color = green>150</font> <font color = green>worth</font> of <font color = green>discount</font> vouchers-Text YES to 85023 now!SavaMob-member <font color = green>offers</font> <font color = green>mobile</font> <font color = green>T</font> <font color = green>Cs</font> 08717898035. £<font color = green>3</font>.00 <font color = green>Sub</font>. <font color = green>16</font> . <font color = green>Remove</font> txt <font color = green>X</font> or <font color = green>STOP</font></td>\n",
       "      <td><font color = green>death</font> <font color = green>risk</font> <font color = green>two</font> <font color = green>arrogate</font> ur £<font color = green>cl</font> <font color = green>deserving</font> of <font color = green>disregard</font> vouchers-Text YES to 85023 now!SavaMob-member <font color = green>tender</font> <font color = green>fluid</font> <font color = green>tonne</font> <font color = green>carbon</font> 08717898035. £<font color = green>trinity</font>.00 <font color = green>U-boat</font>. <font color = green>sixteen</font> . <font color = green>withdraw</font> txt <font color = green>ecstasy</font> or <font color = green>barricade</font></td>\n",
       "    </tr>\n",
       "    <tr>\n",
       "      <th>438</th>\n",
       "      <td><font color = red>I</font> <font color = red>cant</font> <font color = red>pick</font> the phone <font color = red>right</font> now. Pls send a message</td>\n",
       "      <td><font color = green>iodine</font> <font color = green>buzzword</font> <font color = green>option</font> the phone <font color = green>powerful</font> now. Pls send a message</td>\n",
       "    </tr>\n",
       "    <tr>\n",
       "      <th>439</th>\n",
       "      <td><font color = green>Welcome</font> to UK-mobile-date this msg is <font color = green>FREE</font> <font color = green>giving</font> you <font color = green>free</font> calling to 08719839835. <font color = green>Future</font> <font color = green>mgs</font> <font color = green>billed</font> at 150p daily. To <font color = green>cancel</font> <font color = green>send</font> \"<font color = green>go</font> <font color = green>stop</font>\" to 89123</td>\n",
       "      <td><font color = green>receive</font> to UK-mobile-date this msg is <font color = green>relieve</font> <font color = green>apply</font> you <font color = green>destitute</font> calling to 08719839835. <font color = green>hereafter</font> <font color = green>Mg</font> <font color = green>bill</font> at 150p daily. To <font color = green>natural</font> <font color = green>transport</font> \"<font color = green>depart</font> <font color = green>terminate</font>\" to 89123</td>\n",
       "    </tr>\n",
       "    <tr>\n",
       "      <th>440</th>\n",
       "      <td><font color = red>I</font> am <font color = red>thinking</font> of <font color = red>going</font> down to reg for pract <font color = red>lessons</font>.. <font color = red>Flung</font> my <font color = red>advance</font>.. Haha wat <font color = red>time</font> u <font color = red>going</font>?</td>\n",
       "      <td><font color = red>1</font> am <font color = red>intend</font> of <font color = red>expire</font> down to reg for pract <font color = red>example</font>.. <font color = red>dispose</font> my <font color = red>encourage</font>.. Haha wat <font color = red>metre</font> u <font color = red>locomote</font>?</td>\n",
       "    </tr>\n",
       "    <tr>\n",
       "      <th>441</th>\n",
       "      <td>Yeah that'd pretty much be the best <font color = red>case</font> scenario</td>\n",
       "      <td>Yeah that'd pretty much be the best <font color = red>showcase</font> scenario</td>\n",
       "    </tr>\n",
       "    <tr>\n",
       "      <th>442</th>\n",
       "      <td>PRIVATE! Your 2003 <font color = green>Account</font> <font color = green>Statement</font> for 07973788240 <font color = green>shows</font> 800 un-redeemed <font color = green>S</font>. <font color = green>I</font>. <font color = green>M</font>. <font color = green>points</font>. <font color = green>Call</font> 08715203649 Identifier <font color = green>Code</font>: 40533 <font color = green>Expires</font> <font color = green>31</font>/<font color = green>10</font>/04</td>\n",
       "      <td>PRIVATE! Your 2003 <font color = green>report</font> <font color = green>assertion</font> for 07973788240 <font color = green>establish</font> 800 un-redeemed <font color = green>sec</font>. <font color = green>unity</font>. <font color = green>thou</font>. <font color = green>manoeuvre</font>. <font color = green>address</font> 08715203649 Identifier <font color = green>codification</font>: 40533 <font color = green>conk</font> <font color = green>xxxi</font>/<font color = green>decade</font>/04</td>\n",
       "    </tr>\n",
       "    <tr>\n",
       "      <th>443</th>\n",
       "      <td><font color = red>But</font> i have to. <font color = red>I</font> <font color = red>like</font> to have <font color = red>love</font> and <font color = red>arrange</font>.</td>\n",
       "      <td><font color = red>only</font> i have to. <font color = red>one</font> <font color = red>wish</font> to have <font color = red>lovemaking</font> and <font color = red>order</font>.</td>\n",
       "    </tr>\n",
       "    <tr>\n",
       "      <th>444</th>\n",
       "      <td><font color = red>I</font> (Career Tel) have <font color = red>added</font> <font color = red>u</font> as a <font color = red>contact</font> on INDYAROCKS.COM to <font color = red>send</font> FREE SMS. To remove from phonebook - sms NO to  &lt;#&gt;</td>\n",
       "      <td><font color = green>unity</font> (Career Tel) have <font color = green>summate</font> <font color = green>U</font> as a <font color = green>touch</font> on INDYAROCKS.COM to <font color = green>charge</font> FREE SMS. To remove from phonebook - sms NO to  &lt;#&gt;</td>\n",
       "    </tr>\n",
       "    <tr>\n",
       "      <th>445</th>\n",
       "      <td>This <font color = green>message</font> is <font color = green>free</font>. Welcome to the <font color = green>new</font> & <font color = green>improved</font> <font color = green>Sex</font> & <font color = green>Dogging</font> <font color = green>club</font>! To unsubscribe from this <font color = green>service</font> <font color = green>reply</font> <font color = green>STOP</font>. msgs@150p <font color = green>18</font> only</td>\n",
       "      <td>This <font color = green>content</font> is <font color = green>barren</font>. Welcome to the <font color = green>newfangled</font> & <font color = green>meliorate</font> <font color = green>sexuality</font> & <font color = green>persisting</font> <font color = green>guild</font>! To unsubscribe from this <font color = green>overhaul</font> <font color = green>answer</font> <font color = green>catch</font>. msgs@150p <font color = green>XVIII</font> only</td>\n",
       "    </tr>\n",
       "    <tr>\n",
       "      <th>446</th>\n",
       "      <td>Thk shld b can... Ya, i wana <font color = red>go</font> <font color = red>4</font> <font color = red>lessons</font>... Haha, can <font color = red>go</font> for <font color = red>one</font> <font color = red>whole</font> <font color = red>stretch</font>...</td>\n",
       "      <td>Thk shld b can... Ya, i wana <font color = red>XTC</font> <font color = red>quadruplet</font> <font color = red>example</font>... Haha, can <font color = red>XTC</font> for <font color = red>matchless</font> <font color = red>unit</font> <font color = red>debase</font>...</td>\n",
       "    </tr>\n",
       "    <tr>\n",
       "      <th>447</th>\n",
       "      <td><font color = red>said</font> kiss, kiss, i can't do the sound effects! <font color = red>He</font> is a gorgeous man isn't he! <font color = red>Kind</font> of person who needs a smile to brighten his day!</td>\n",
       "      <td><font color = green>read</font> kiss, kiss, i can't do the sound effects! <font color = green>helium</font> is a gorgeous man isn't he! <font color = green>variety</font> of person who needs a smile to brighten his day!</td>\n",
       "    </tr>\n",
       "    <tr>\n",
       "      <th>448</th>\n",
       "      <td><font color = red>I</font> <font color = red>love</font> <font color = red>working</font> from <font color = red>home</font> :)</td>\n",
       "      <td><font color = red>unity</font> <font color = red>lovemaking</font> <font color = red>cultivate</font> from <font color = red>habitation</font> :)</td>\n",
       "    </tr>\n",
       "    <tr>\n",
       "      <th>449</th>\n",
       "      <td>Yup i've <font color = red>finished</font> c ü there...</td>\n",
       "      <td>Yup i've <font color = red>end</font> c ü there...</td>\n",
       "    </tr>\n",
       "    <tr>\n",
       "      <th>450</th>\n",
       "      <td><font color = red>K</font>. <font color = red>Did</font> you <font color = red>call</font> me just now ah?</td>\n",
       "      <td><font color = red>thou</font>. <font color = red>suffice</font> you <font color = red>anticipate</font> me just now ah?</td>\n",
       "    </tr>\n",
       "    <tr>\n",
       "      <th>451</th>\n",
       "      <td>We <font color = red>took</font> hooch for a <font color = red>walk</font> toaday and i <font color = red>fell</font> over! Splat! <font color = red>Grazed</font> my knees and everything! Should have <font color = red>stayed</font> at <font color = red>home</font>! <font color = red>See</font> you tomorrow!</td>\n",
       "      <td>We <font color = red>film</font> hooch for a <font color = red>walking</font> toaday and i <font color = red>fly</font> over! Splat! <font color = red>crease</font> my knees and everything! Should have <font color = red>outride</font> at <font color = red>national</font>! <font color = red>visualize</font> you tomorrow!</td>\n",
       "    </tr>\n",
       "    <tr>\n",
       "      <th>452</th>\n",
       "      <td><font color = red>Does</font> she usually <font color = red>take</font> fifteen <font color = red>fucking</font> minutes to respond to a yes or no question</td>\n",
       "      <td><font color = green>fare</font> she usually <font color = green>subscribe</font> fifteen <font color = green>crashing</font> minutes to respond to a yes or no question</td>\n",
       "    </tr>\n",
       "    <tr>\n",
       "      <th>453</th>\n",
       "      <td><font color = red>Oh</font> <font color = red>ok</font>..</td>\n",
       "      <td><font color = red>Ohio</font> <font color = red>Oklahoma</font>..</td>\n",
       "    </tr>\n",
       "    <tr>\n",
       "      <th>454</th>\n",
       "      <td>I'll talk to the others and probably just <font color = red>come</font> early tomorrow then</td>\n",
       "      <td>I'll talk to the others and probably just <font color = red>arrive</font> early tomorrow then</td>\n",
       "    </tr>\n",
       "    <tr>\n",
       "      <th>455</th>\n",
       "      <td>10 <font color = red>min</font> <font color = red>later</font> <font color = red>k</font>...</td>\n",
       "      <td>10 <font color = red>minute</font> <font color = red>after</font> <font color = red>kilobyte</font>...</td>\n",
       "    </tr>\n",
       "    <tr>\n",
       "      <th>456</th>\n",
       "      <td>He <font color = red>telling</font> not to <font color = red>tell</font> any <font color = red>one</font>. If so <font color = red>treat</font> for me hi hi <font color = red>hi</font></td>\n",
       "      <td>He <font color = red>secernate</font> not to <font color = red>secernate</font> any <font color = red>nonpareil</font>. If so <font color = red>regale</font> for me hi hi <font color = red>hullo</font></td>\n",
       "    </tr>\n",
       "    <tr>\n",
       "      <th>457</th>\n",
       "      <td>Where do you <font color = red>need</font> to <font color = red>go</font> to <font color = red>get</font> it?</td>\n",
       "      <td>Where do you <font color = red>demand</font> to <font color = red>XTC</font> to <font color = red>receive</font> it?</td>\n",
       "    </tr>\n",
       "    <tr>\n",
       "      <th>458</th>\n",
       "      <td><font color = red>Get</font> <font color = red>ready</font> to <font color = red>put</font> on your <font color = red>excellent</font> <font color = red>sub</font> <font color = red>face</font> :)</td>\n",
       "      <td><font color = green>receive</font> <font color = green>quick</font> to <font color = green>redact</font> on your <font color = green>first-class</font> <font color = green>zep</font> <font color = green>font</font> :)</td>\n",
       "    </tr>\n",
       "    <tr>\n",
       "      <th>459</th>\n",
       "      <td><font color = red>K</font>, if u <font color = red>bored</font> up just <font color = red>come</font> to my <font color = red>home</font>..</td>\n",
       "      <td><font color = red>thou</font>, if u <font color = red>bore</font> up just <font color = red>derive</font> to my <font color = red>dwelling</font>..</td>\n",
       "    </tr>\n",
       "    <tr>\n",
       "      <th>460</th>\n",
       "      <td><font color = red>Oh</font> is it? <font color = red>Send</font> me the <font color = red>address</font></td>\n",
       "      <td><font color = red>Ohio</font> is it? <font color = red>direct</font> me the <font color = red>cover</font></td>\n",
       "    </tr>\n",
       "    <tr>\n",
       "      <th>461</th>\n",
       "      <td>Thank you, <font color = green>winner</font> <font color = green>notified</font> by <font color = green>sms</font>. <font color = green>Good</font> <font color = green>Luck</font>! No <font color = green>future</font> <font color = green>marketing</font> <font color = green>reply</font> <font color = green>STOP</font> to 84122 customer <font color = green>services</font> 08450542832</td>\n",
       "      <td>Thank you, <font color = green>victor</font> <font color = green>advise</font> by <font color = green>SM</font>. <font color = green>sound</font> <font color = green>fate</font>! No <font color = green>succeeding</font> <font color = green>market</font> <font color = green>response</font> <font color = green>finish</font> to 84122 customer <font color = green>overhaul</font> 08450542832</td>\n",
       "    </tr>\n",
       "    <tr>\n",
       "      <th>462</th>\n",
       "      <td>\"<font color = red>Speak</font> only when you <font color = red>feel</font> your <font color = red>words</font> are <font color = red>better</font> than the <font color = red>silence</font>...\" Gud mrng:-)</td>\n",
       "      <td>\"<font color = red>verbalize</font> only when you <font color = red>experience</font> your <font color = red>give-and-take</font> are <font color = red>advantageously</font> than the <font color = red>secretiveness</font>...\" Gud mrng:-)</td>\n",
       "    </tr>\n",
       "    <tr>\n",
       "      <th>463</th>\n",
       "      <td><font color = green>Todays</font> Voda <font color = green>numbers</font> <font color = green>ending</font> with 7634 are <font color = green>selected</font> to <font color = green>receive</font> a £350 <font color = green>reward</font>. If you have a <font color = green>match</font> please <font color = green>call</font> 08712300220 quoting <font color = green>claim</font> code 7684 <font color = green>standard</font> <font color = green>rates</font> apply.</td>\n",
       "      <td><font color = green>today</font> Voda <font color = green>act</font> <font color = green>terminate</font> with 7634 are <font color = green>take</font> to <font color = green>meet</font> a £350 <font color = green>wages</font>. If you have a <font color = green>equalise</font> please <font color = green>telephone</font> 08712300220 quoting <font color = green>call</font> code 7684 <font color = green>measure</font> <font color = green>rat</font> apply.</td>\n",
       "    </tr>\n",
       "    <tr>\n",
       "      <th>464</th>\n",
       "      <td><font color = red>Kind</font> of. <font color = red>Took</font> it to garage. Centre <font color = red>part</font> of exhaust <font color = red>needs</font> replacing. <font color = red>Part</font> ordered <font color = red>n</font> <font color = red>taking</font> it to be fixed tomo morning.</td>\n",
       "      <td><font color = green>variety</font> of. <font color = green>pack</font> it to garage. Centre <font color = green>voice</font> of exhaust <font color = green>demand</font> replacing. <font color = green>region</font> ordered <font color = green>nitrogen</font> <font color = green>subscribe</font> it to be fixed tomo morning.</td>\n",
       "    </tr>\n",
       "    <tr>\n",
       "      <th>465</th>\n",
       "      <td><font color = red>Umma</font> my <font color = red>life</font> and vava <font color = red>umma</font> <font color = red>love</font> you <font color = red>lot</font> <font color = red>dear</font></td>\n",
       "      <td><font color = red>Ummah</font> my <font color = red>liveliness</font> and vava <font color = red>Ummah</font> <font color = red>enjoy</font> you <font color = red>hatful</font> <font color = red>lamb</font></td>\n",
       "    </tr>\n",
       "    <tr>\n",
       "      <th>466</th>\n",
       "      <td><font color = red>So</font> what do you guys do.</td>\n",
       "      <td><font color = red>then</font> what do you guys do.</td>\n",
       "    </tr>\n",
       "    <tr>\n",
       "      <th>467</th>\n",
       "      <td><font color = red>Normally</font> i <font color = red>use</font> to <font color = red>drink</font> more <font color = red>water</font> <font color = red>daily</font>:)</td>\n",
       "      <td><font color = red>ordinarily</font> i <font color = red>utilisation</font> to <font color = red>potable</font> more <font color = red>irrigate</font> <font color = red>day-after-day</font>:)</td>\n",
       "    </tr>\n",
       "    <tr>\n",
       "      <th>468</th>\n",
       "      <td>Dont <font color = red>hesitate</font>. You <font color = red>know</font> this is the <font color = red>second</font> <font color = red>time</font> she has had <font color = red>weakness</font> like that. <font color = red>So</font> <font color = red>keep</font> i notebook of what she <font color = red>eat</font> and did the <font color = red>day</font> before or if anything changed the day before so that we can be <font color = red>sure</font> its <font color = red>nothing</font></td>\n",
       "      <td>Dont <font color = red>waver</font>. You <font color = red>recognize</font> this is the <font color = red>endorsement</font> <font color = red>clip</font> she has had <font color = red>failing</font> like that. <font color = red>then</font> <font color = red>hold</font> i notebook of what she <font color = red>consume</font> and did the <font color = red>daytime</font> before or if anything changed the day before so that we can be <font color = red>indisputable</font> its <font color = red>cypher</font></td>\n",
       "    </tr>\n",
       "    <tr>\n",
       "      <th>469</th>\n",
       "      <td><font color = red>Sounds</font> <font color = red>great</font>! Im going to sleep now. <font color = red>Have</font> a <font color = red>good</font> night!</td>\n",
       "      <td><font color = green>audio</font> <font color = green>slap-up</font>! Im going to sleep now. <font color = green>feature</font> a <font color = green>serious</font> night!</td>\n",
       "    </tr>\n",
       "    <tr>\n",
       "      <th>470</th>\n",
       "      <td>Goodnight da thangam <font color = red>I</font> <font color = red>really</font> <font color = red>miss</font> u <font color = red>dear</font>.</td>\n",
       "      <td>Goodnight da thangam <font color = red>ane</font> <font color = red>very</font> <font color = red>missy</font> u <font color = red>affectionately</font>.</td>\n",
       "    </tr>\n",
       "    <tr>\n",
       "      <th>471</th>\n",
       "      <td>, how's things? <font color = red>Just</font> a <font color = red>quick</font> <font color = red>question</font>.</td>\n",
       "      <td>, how's things? <font color = red>simply</font> a <font color = red>straightaway</font> <font color = red>interview</font>.</td>\n",
       "    </tr>\n",
       "    <tr>\n",
       "      <th>472</th>\n",
       "      <td>THIS <font color = red>IS</font> <font color = red>A</font> <font color = red>LONG</font> FUCKIN SHOWR</td>\n",
       "      <td>THIS <font color = red>comprise</font> <font color = red>adenine</font> <font color = red>prospicient</font> FUCKIN SHOWR</td>\n",
       "    </tr>\n",
       "    <tr>\n",
       "      <th>473</th>\n",
       "      <td>Pls <font color = red>tell</font> nelson that the bb's are no <font color = red>longer</font> comin. The money i was <font color = red>expecting</font> aint <font color = red>coming</font></td>\n",
       "      <td>Pls <font color = red>evidence</font> nelson that the bb's are no <font color = red>farsighted</font> comin. The money i was <font color = red>look</font> aint <font color = red>approaching</font></td>\n",
       "    </tr>\n",
       "    <tr>\n",
       "      <th>474</th>\n",
       "      <td>Gumby's has a <font color = red>special</font> where a  &lt;#&gt; \" <font color = red>cheese</font> pizza is $2 so <font color = red>I</font> <font color = red>know</font> what we're doin tonight</td>\n",
       "      <td>Gumby's has a <font color = red>especial</font> where a  &lt;#&gt; \" <font color = red>cheeseflower</font> pizza is $2 so <font color = red>single</font> <font color = red>love</font> what we're doin tonight</td>\n",
       "    </tr>\n",
       "    <tr>\n",
       "      <th>475</th>\n",
       "      <td>No he didn't. <font color = red>Spring</font> is <font color = red>coming</font> <font color = red>early</font> yay!</td>\n",
       "      <td>No he didn't. <font color = red>jump</font> is <font color = red>amount</font> <font color = red>other</font> yay!</td>\n",
       "    </tr>\n",
       "    <tr>\n",
       "      <th>476</th>\n",
       "      <td>FreeMsg Hey there <font color = green>darling</font> it's been <font color = green>3</font> week's now and no <font color = green>word</font> <font color = green>back</font>! I'd <font color = green>like</font> some <font color = green>fun</font> you up for it <font color = green>still</font>? <font color = green>Tb</font> <font color = green>ok</font>! <font color = green>XxX</font> <font color = green>std</font> chgs to <font color = green>send</font>, £<font color = green>1</font>.<font color = green>50</font> to rcv</td>\n",
       "      <td>FreeMsg Hey there <font color = red>beloved</font> it's been <font color = red>threesome</font> week's now and no <font color = red>parole</font> <font color = red>hind</font>! I'd <font color = red>wish</font> some <font color = red>merriment</font> you up for it <font color = red>lull</font>? <font color = red>terbium</font> <font color = red>okeh</font>! <font color = red>thirty</font> <font color = red>STD</font> chgs to <font color = red>broadcast</font>, £<font color = red>I</font>.<font color = red>L</font> to rcv</td>\n",
       "    </tr>\n",
       "    <tr>\n",
       "      <th>477</th>\n",
       "      <td><font color = red>Fuck</font> babe, I miss you sooooo <font color = red>much</font> !! <font color = red>I</font> <font color = red>wish</font> you were here to sleep with me ... My <font color = red>bed</font> is so <font color = red>lonely</font> ... <font color = red>I</font> <font color = red>go</font> now, to <font color = red>sleep</font> ... To <font color = red>dream</font> of you, my <font color = red>love</font> ...</td>\n",
       "      <td><font color = red>fucking</font> babe, I miss you sooooo <font color = red>practically</font> !! <font color = red>single</font> <font color = red>compliments</font> you were here to sleep with me ... My <font color = red>bang</font> is so <font color = red>alone</font> ... <font color = red>single</font> <font color = red>live</font> now, to <font color = red>kip</font> ... To <font color = red>daydream</font> of you, my <font color = red>lovemaking</font> ...</td>\n",
       "    </tr>\n",
       "    <tr>\n",
       "      <th>478</th>\n",
       "      <td><font color = red>Free</font> any <font color = red>day</font> but i <font color = red>finish</font> at <font color = red>6</font> on mon n thurs...</td>\n",
       "      <td><font color = red>loose</font> any <font color = red>daylight</font> but i <font color = red>finis</font> at <font color = red>sixer</font> on mon n thurs...</td>\n",
       "    </tr>\n",
       "    <tr>\n",
       "      <th>479</th>\n",
       "      <td>You were <font color = red>supposed</font> to <font color = red>wake</font> ME up &gt;:(</td>\n",
       "      <td>You were <font color = red>so-called</font> to <font color = red>viewing</font> ME up &gt;:(</td>\n",
       "    </tr>\n",
       "    <tr>\n",
       "      <th>480</th>\n",
       "      <td><font color = red>So</font> that <font color = red>takes</font> <font color = red>away</font> some money <font color = red>worries</font></td>\n",
       "      <td><font color = red>thus</font> that <font color = red>assume</font> <font color = red>by</font> some money <font color = red>interest</font></td>\n",
       "    </tr>\n",
       "    <tr>\n",
       "      <th>481</th>\n",
       "      <td><font color = red>In</font> <font color = red>work</font> now. <font color = red>Going</font> have in few min.</td>\n",
       "      <td><font color = red>inward</font> <font color = red>cultivate</font> now. <font color = red>survive</font> have in few min.</td>\n",
       "    </tr>\n",
       "    <tr>\n",
       "      <th>482</th>\n",
       "      <td>Sac <font color = red>needs</font> to <font color = red>carry</font> on:)</td>\n",
       "      <td>Sac <font color = red>pauperization</font> to <font color = red>conduct</font> on:)</td>\n",
       "    </tr>\n",
       "    <tr>\n",
       "      <th>483</th>\n",
       "      <td>Its <font color = red>ok</font> my <font color = red>arm</font> is feeling <font color = red>weak</font> cuz i <font color = red>got</font> a <font color = red>shot</font> so we can <font color = red>go</font> another <font color = red>time</font></td>\n",
       "      <td>Its <font color = red>okay</font> my <font color = red>gird</font> is feeling <font color = red>faint</font> cuz i <font color = red>vex</font> a <font color = red>scud</font> so we can <font color = red>conk</font> another <font color = red>sentence</font></td>\n",
       "    </tr>\n",
       "    <tr>\n",
       "      <th>484</th>\n",
       "      <td>So how are you <font color = red>really</font>. What are you up to. How's the <font color = red>masters</font>. And so on.</td>\n",
       "      <td>So how are you <font color = red>genuinely</font>. What are you up to. How's the <font color = red>original</font>. And so on.</td>\n",
       "    </tr>\n",
       "    <tr>\n",
       "      <th>485</th>\n",
       "      <td><font color = red>Mon</font> okie lor... Haha, <font color = red>best</font> is <font color = red>cheap</font> <font color = red>n</font> <font color = red>gd</font> food <font color = red>la</font>, <font color = red>ex</font> oso okie... <font color = red>Depends</font> on whether wana <font color = red>eat</font> <font color = red>western</font> or <font color = red>chinese</font> food... <font color = red>Den</font> which <font color = red>u</font> <font color = red>prefer</font>...</td>\n",
       "      <td><font color = red>Monday</font> okie lor... Haha, <font color = red>estimable</font> is <font color = red>meretricious</font> <font color = red>normality</font> <font color = red>gadolinium</font> food <font color = red>lanthanum</font>, <font color = red>passe</font> oso okie... <font color = red>depend</font> on whether wana <font color = red>corrode</font> <font color = red>westerly</font> or <font color = red>Formosan</font> food... <font color = red>hideout</font> which <font color = red>uracil</font> <font color = red>opt</font>...</td>\n",
       "    </tr>\n",
       "    <tr>\n",
       "      <th>486</th>\n",
       "      <td><font color = red>MAYBE</font> IF YOU <font color = red>WOKE</font> UP BEFORE <font color = red>FUCKING</font> <font color = red>3</font> THIS WOULDN'T <font color = red>BE</font> A PROBLEM.</td>\n",
       "      <td><font color = red>perhaps</font> IF YOU <font color = red>wake</font> UP BEFORE <font color = red>crashing</font> <font color = red>troika</font> THIS WOULDN'T <font color = red>cost</font> A PROBLEM.</td>\n",
       "    </tr>\n",
       "    <tr>\n",
       "      <th>487</th>\n",
       "      <td>Sex up ur <font color = green>mobile</font> with a <font color = green>FREE</font> <font color = green>sexy</font> <font color = green>pic</font> of Jordan! <font color = green>Just</font> <font color = green>text</font> BABE to 88600. <font color = green>Then</font> every wk <font color = green>get</font> a <font color = green>sexy</font> celeb! PocketBabe.co.<font color = green>uk</font> <font color = green>4</font> more <font color = green>pics</font>. <font color = green>16</font> £<font color = green>3</font>/wk 087016248</td>\n",
       "      <td>Sex up ur <font color = green>wandering</font> with a <font color = green>barren</font> <font color = green>aphrodisiacal</font> <font color = green>flick</font> of Jordan! <font color = green>scarcely</font> <font color = green>textbook</font> BABE to 88600. <font color = green>so</font> every wk <font color = green>sire</font> a <font color = green>aphrodisiacal</font> celeb! PocketBabe.co.<font color = green>Britain</font> <font color = green>four</font> more <font color = green>film</font>. <font color = green>XVI</font> £<font color = green>trio</font>/wk 087016248</td>\n",
       "    </tr>\n",
       "    <tr>\n",
       "      <th>488</th>\n",
       "      <td>I'm already <font color = red>back</font> <font color = red>home</font> so no <font color = red>probably</font> not</td>\n",
       "      <td>I'm already <font color = red>gage</font> <font color = red>internal</font> so no <font color = red>likely</font> not</td>\n",
       "    </tr>\n",
       "    <tr>\n",
       "      <th>489</th>\n",
       "      <td><font color = red>Awesome</font>, I remember the <font color = red>last</font> time we got <font color = red>somebody</font> high for the <font color = red>first</font> <font color = red>time</font> with diesel :<font color = red>V</font></td>\n",
       "      <td><font color = green>awe-inspiring</font>, I remember the <font color = green>finale</font> time we got <font color = green>soul</font> high for the <font color = green>inaugural</font> <font color = green>clip</font> with diesel :<font color = green>volt</font></td>\n",
       "    </tr>\n",
       "    <tr>\n",
       "      <th>490</th>\n",
       "      <td><font color = red>I</font> <font color = red>get</font> out of <font color = red>class</font> in bsn in <font color = red>like</font>  &lt;#&gt;  <font color = red>minutes</font>, you <font color = red>know</font> where <font color = red>advising</font> is?</td>\n",
       "      <td><font color = red>iodine</font> <font color = red>vex</font> out of <font color = red>form</font> in bsn in <font color = red>corresponding</font>  &lt;#&gt;  <font color = red>instant</font>, you <font color = red>recognise</font> where <font color = red>notify</font> is?</td>\n",
       "    </tr>\n",
       "    <tr>\n",
       "      <th>491</th>\n",
       "      <td><font color = red>Hi</font> <font color = red>Dear</font> Call me its urgnt. <font color = red>I</font> don't <font color = red>know</font> whats your problem. You don't <font color = red>want</font> to <font color = red>work</font> or if you have any other problem at least <font color = red>tell</font> me. Wating for your reply.</td>\n",
       "      <td><font color = red>hello</font> <font color = red>high-priced</font> Call me its urgnt. <font color = red>1</font> don't <font color = red>recognise</font> whats your problem. You don't <font color = red>require</font> to <font color = red>exploit</font> or if you have any other problem at least <font color = red>differentiate</font> me. Wating for your reply.</td>\n",
       "    </tr>\n",
       "    <tr>\n",
       "      <th>492</th>\n",
       "      <td><font color = red>I</font> <font color = red>think</font> we're <font color = red>going</font> to finn's now, <font color = red>come</font></td>\n",
       "      <td><font color = red>1</font> <font color = red>recollect</font> we're <font color = red>release</font> to finn's now, <font color = red>total</font></td>\n",
       "    </tr>\n",
       "    <tr>\n",
       "      <th>493</th>\n",
       "      <td><font color = red>Is</font> <font color = red>avatar</font> <font color = red>supposed</font> to have subtoitles</td>\n",
       "      <td><font color = red>live</font> <font color = red>embodiment</font> <font color = red>hypothesize</font> to have subtoitles</td>\n",
       "    </tr>\n",
       "    <tr>\n",
       "      <th>494</th>\n",
       "      <td>It certainly puts things into perspective when something like this <font color = red>happens</font></td>\n",
       "      <td>It certainly puts things into perspective when something like this <font color = red>encounter</font></td>\n",
       "    </tr>\n",
       "    <tr>\n",
       "      <th>495</th>\n",
       "      <td>Oh dang! <font color = red>I</font> didn't <font color = red>mean</font> o <font color = red>send</font> that to you! Lol!</td>\n",
       "      <td>Oh dang! <font color = red>one</font> didn't <font color = red>beggarly</font> o <font color = red>broadcast</font> that to you! Lol!</td>\n",
       "    </tr>\n",
       "    <tr>\n",
       "      <th>496</th>\n",
       "      <td><font color = red>Book</font> which lesson? then you msg me... I will <font color = red>call</font> up after work or sth... I'm going to get specs. My membership is PX3748</td>\n",
       "      <td><font color = green>playscript</font> which lesson? then you msg me... I will <font color = green>phone</font> up after work or sth... I'm going to get specs. My membership is PX3748</td>\n",
       "    </tr>\n",
       "    <tr>\n",
       "      <th>497</th>\n",
       "      <td>U have a secret <font color = green>admirer</font> who is <font color = green>looking</font> <font color = green>2</font> <font color = green>make</font> <font color = green>contact</font> with U-find out who they R*reveal who <font color = green>thinks</font> UR so special-call on 09058094599</td>\n",
       "      <td>U have a secret <font color = red>adorer</font> who is <font color = red>seem</font> <font color = red>II</font> <font color = red>constitute</font> <font color = red>adjoin</font> with U-find out who they R*reveal who <font color = red>suppose</font> UR so special-call on 09058094599</td>\n",
       "    </tr>\n",
       "    <tr>\n",
       "      <th>498</th>\n",
       "      <td>You'd like that wouldn't you? <font color = red>Jerk</font>!</td>\n",
       "      <td>You'd like that wouldn't you? <font color = red>flick</font>!</td>\n",
       "    </tr>\n",
       "    <tr>\n",
       "      <th>499</th>\n",
       "      <td>Not a <font color = red>lot</font> has <font color = red>happened</font> here. <font color = red>Feels</font> very <font color = red>quiet</font>. Beth is at her <font color = red>aunts</font> and charlie is <font color = red>working</font> <font color = red>lots</font>. <font color = red>Just</font> me and helen in at the <font color = red>mo</font>. How have you been?</td>\n",
       "      <td>Not a <font color = red>fate</font> has <font color = red>materialize</font> here. <font color = red>tone</font> very <font color = red>muted</font>. Beth is at her <font color = red>aunt</font> and charlie is <font color = red>running</font> <font color = red>dozens</font>. <font color = red>precisely</font> me and helen in at the <font color = red>moment</font>. How have you been?</td>\n",
       "    </tr>\n",
       "  </tbody>\n",
       "</table>"
      ],
      "text/plain": [
       "<IPython.core.display.HTML object>"
      ]
     },
     "metadata": {},
     "output_type": "display_data"
    }
   ],
   "source": [
    "import pandas as pd\n",
    "pd.options.display.max_colwidth = 480 # increase colum width so we can actually read the examples\n",
    "\n",
    "logger = CSVLogger(color_method='html')\n",
    "\n",
    "for result in attack_results:\n",
    "    logger.log_attack_result(result)\n",
    "\n",
    "from IPython.core.display import display, HTML\n",
    "display(HTML(logger.df[['original_text', 'perturbed_text']].to_html(escape=False)))\n",
    "results_html = logger.df[['original_text', 'perturbed_text']].to_html(escape=False)\n",
    "path = r'C:\\Users\\DELL\\Text_Augmentation\\sms_spam_dataset_3runs\\resullts\\CheckList\\run3\\pwws_attack_results.html'\n",
    "text_file = open(path, \"w\")\n",
    "text_file.write(results_html.encode(\"gbk\", 'ignore').decode(\"gbk\", \"ignore\"))\n",
    "text_file.close()\n",
    "logger.flush()"
   ]
  },
  {
   "cell_type": "code",
   "execution_count": 27,
   "id": "e568222b",
   "metadata": {
    "scrolled": false
   },
   "outputs": [
    {
     "name": "stdout",
     "output_type": "stream",
     "text": [
      "+-------------------------------+--------+\n",
      "| Attack Results                |        |\n",
      "+-------------------------------+--------+\n",
      "| Number of successful attacks: | 55     |\n",
      "| Number of failed attacks:     | 442    |\n",
      "| Number of skipped attacks:    | 3      |\n",
      "| Original accuracy:            | 99.4%  |\n",
      "| Accuracy under attack:        | 88.4%  |\n",
      "| Attack success rate:          | 11.07% |\n",
      "| Average perturbed word %:     | 28.7%  |\n",
      "| Average num. words per input: | 15.39  |\n",
      "| Avg num queries:              | 185.22 |\n",
      "+-------------------------------+--------+"
     ]
    }
   ],
   "source": [
    "import textattack\n",
    "\n",
    "attack_log_manager = textattack.loggers.AttackLogManager()\n",
    "\n",
    "\n",
    "for result in attack_results:\n",
    "    attack_log_manager.log_result(result)\n",
    "\n",
    "attack_log_manager.enable_stdout()\n",
    "attack_log_manager.log_summary()\n",
    "\n",
    "attack_log_manager.flush()\n"
   ]
  },
  {
   "cell_type": "code",
   "execution_count": null,
   "id": "c38eb837",
   "metadata": {},
   "outputs": [],
   "source": []
  }
 ],
 "metadata": {
  "kernelspec": {
   "display_name": "ta",
   "language": "python",
   "name": "ta"
  },
  "language_info": {
   "codemirror_mode": {
    "name": "ipython",
    "version": 3
   },
   "file_extension": ".py",
   "mimetype": "text/x-python",
   "name": "python",
   "nbconvert_exporter": "python",
   "pygments_lexer": "ipython3",
   "version": "3.8.13"
  }
 },
 "nbformat": 4,
 "nbformat_minor": 5
}
