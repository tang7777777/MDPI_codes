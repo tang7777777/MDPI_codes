{
 "cells": [
  {
   "cell_type": "code",
   "execution_count": 19,
   "id": "36cc277f",
   "metadata": {},
   "outputs": [],
   "source": [
    "import torch\n",
    "from copy import deepcopy\n",
    "from transformers import AutoTokenizer, AutoModelForSequenceClassification\n",
    "from textattack.datasets import HuggingFaceDataset\n",
    "from textattack.models.wrappers import HuggingFaceModelWrapper\n",
    "from textattack.models.wrappers import ModelWrapper\n",
    "from transformers import AutoModelForSequenceClassification, AutoTokenizer\n",
    "\n"
   ]
  },
  {
   "cell_type": "code",
   "execution_count": 20,
   "id": "ec9b8b76",
   "metadata": {},
   "outputs": [
    {
     "name": "stderr",
     "output_type": "stream",
     "text": [
      "Using custom data configuration default\n",
      "Reusing dataset trec (C:\\Users\\DELL\\.cache\\huggingface\\datasets\\trec\\default\\1.1.0\\751da1ab101b8d297a3d6e9c79ee9b0173ff94c4497b75677b59b61d5467a9b9)\n",
      "100%|███████████████████████████████████████████████████████████████████████████████████| 2/2 [00:00<00:00, 674.98it/s]\n"
     ]
    },
    {
     "data": {
      "text/plain": [
       "DatasetDict({\n",
       "    train: Dataset({\n",
       "        features: ['label', 'text'],\n",
       "        num_rows: 5452\n",
       "    })\n",
       "    test: Dataset({\n",
       "        features: ['label', 'text'],\n",
       "        num_rows: 500\n",
       "    })\n",
       "})"
      ]
     },
     "metadata": {},
     "output_type": "display_data"
    },
    {
     "name": "stderr",
     "output_type": "stream",
     "text": [
      "Loading cached shuffled indices for dataset at C:\\Users\\DELL\\.cache\\huggingface\\datasets\\trec\\default\\1.1.0\\751da1ab101b8d297a3d6e9c79ee9b0173ff94c4497b75677b59b61d5467a9b9\\cache-bc761497303cb1ab.arrow\n",
      "Loading cached shuffled indices for dataset at C:\\Users\\DELL\\.cache\\huggingface\\datasets\\trec\\default\\1.1.0\\751da1ab101b8d297a3d6e9c79ee9b0173ff94c4497b75677b59b61d5467a9b9\\cache-d432b7eeb4042bcd.arrow\n"
     ]
    },
    {
     "data": {
      "text/plain": [
       "Dataset({\n",
       "    features: ['label', 'text'],\n",
       "    num_rows: 4500\n",
       "})"
      ]
     },
     "metadata": {},
     "output_type": "display_data"
    },
    {
     "data": {
      "text/plain": [
       "Dataset({\n",
       "    features: ['label', 'text'],\n",
       "    num_rows: 500\n",
       "})"
      ]
     },
     "metadata": {},
     "output_type": "display_data"
    },
    {
     "data": {
      "text/plain": [
       "Dataset({\n",
       "    features: ['label', 'text'],\n",
       "    num_rows: 500\n",
       "})"
      ]
     },
     "metadata": {},
     "output_type": "display_data"
    }
   ],
   "source": [
    "from datasets import load_dataset\n",
    "from datasets import Dataset\n",
    "dataset = load_dataset('trec')\n",
    "#display(dataset)\n",
    "dataset = dataset.remove_columns(\"label-fine\")\n",
    "#display(dataset)\n",
    "dataset = dataset.rename_column(\"label-coarse\", \"label\")\n",
    "display(dataset)\n",
    "\n",
    "\n",
    "train_validation_ds = dataset['train'].shuffle(seed=42).select([i for i in list(range(5000))])\n",
    "train_ds = Dataset.from_dict(train_validation_ds[0:4500])\n",
    "validation_ds = Dataset.from_dict(train_validation_ds[4500:5000])\n",
    "test_ds = dataset['test'].shuffle(seed=42).select([i for i in list(range(500))])\n",
    "\n",
    "display(train_ds)\n",
    "display(validation_ds)\n",
    "display(test_ds)\n",
    "\n",
    "data = test_ds\n",
    "\n",
    "\n",
    "\n"
   ]
  },
  {
   "cell_type": "code",
   "execution_count": 21,
   "id": "e90cd59a",
   "metadata": {},
   "outputs": [
    {
     "data": {
      "text/plain": [
       "Dataset({\n",
       "    features: ['label', 'text'],\n",
       "    num_rows: 500\n",
       "})"
      ]
     },
     "metadata": {},
     "output_type": "display_data"
    },
    {
     "data": {
      "text/plain": [
       "{'label': [4, 0, 1, 4, 1],\n",
       " 'text': ['What is the population of Venezuela ?',\n",
       "  'What does target heart rate mean ?',\n",
       "  'What currency does Luxembourg use ?',\n",
       "  'How long did Rip Van Winkle sleep ?',\n",
       "  'Material called linen is made from what plant ?']}"
      ]
     },
     "metadata": {},
     "output_type": "display_data"
    }
   ],
   "source": [
    "display(data)\n",
    "display(data[0:5])"
   ]
  },
  {
   "cell_type": "code",
   "execution_count": 22,
   "id": "f4eebd5f",
   "metadata": {},
   "outputs": [
    {
     "data": {
      "text/plain": [
       "<textattack.datasets.huggingface_dataset.HuggingFaceDataset at 0x1db28e37d00>"
      ]
     },
     "metadata": {},
     "output_type": "display_data"
    }
   ],
   "source": [
    "import textattack\n",
    "dataset = textattack.datasets.HuggingFaceDataset(data)\n",
    "display(dataset)"
   ]
  },
  {
   "cell_type": "code",
   "execution_count": 23,
   "id": "6407fe57",
   "metadata": {},
   "outputs": [],
   "source": [
    "#attack the original model using TextFooler\n",
    "device = torch.device(str(\"cuda:0\") if torch.cuda.is_available() else \"cpu\") \n",
    "model_path = r'C:\\Users\\DELL\\Text_Augmentation\\trec_dataset_3runs\\models\\CheckList\\run3'\n",
    "tokenizer = AutoTokenizer.from_pretrained(\"distilbert-base-uncased\")\n",
    "model = AutoModelForSequenceClassification.from_pretrained(model_path, num_labels=6)\n",
    "\n",
    "model_wrapper = HuggingFaceModelWrapper(model, tokenizer)\n",
    "\n"
   ]
  },
  {
   "cell_type": "code",
   "execution_count": 24,
   "id": "1ee6adf4",
   "metadata": {
    "scrolled": true
   },
   "outputs": [
    {
     "name": "stderr",
     "output_type": "stream",
     "text": [
      "textattack: Unknown if model of class <class 'transformers.models.distilbert.modeling_distilbert.DistilBertForSequenceClassification'> compatible with goal function <class 'textattack.goal_functions.classification.untargeted_classification.UntargetedClassification'>.\n"
     ]
    },
    {
     "data": {
      "text/plain": [
       "Attack(\n",
       "  (search_method): GreedyWordSwapWIR(\n",
       "    (wir_method):  delete\n",
       "  )\n",
       "  (goal_function):  UntargetedClassification\n",
       "  (transformation):  WordSwapEmbedding(\n",
       "    (max_candidates):  50\n",
       "    (embedding):  WordEmbedding\n",
       "  )\n",
       "  (constraints): \n",
       "    (0): WordEmbeddingDistance(\n",
       "        (embedding):  WordEmbedding\n",
       "        (min_cos_sim):  0.5\n",
       "        (cased):  False\n",
       "        (include_unknown_words):  True\n",
       "        (compare_against_original):  True\n",
       "      )\n",
       "    (1): PartOfSpeech(\n",
       "        (tagger_type):  nltk\n",
       "        (tagset):  universal\n",
       "        (allow_verb_noun_swap):  True\n",
       "        (compare_against_original):  True\n",
       "      )\n",
       "    (2): UniversalSentenceEncoder(\n",
       "        (metric):  angular\n",
       "        (threshold):  0.840845057\n",
       "        (window_size):  15\n",
       "        (skip_text_shorter_than_window):  True\n",
       "        (compare_against_original):  False\n",
       "      )\n",
       "    (3): RepeatModification\n",
       "    (4): StopwordModification\n",
       "    (5): InputColumnModification(\n",
       "        (matching_column_labels):  ['premise', 'hypothesis']\n",
       "        (columns_to_ignore):  {'premise'}\n",
       "      )\n",
       "  (is_black_box):  True\n",
       ")"
      ]
     },
     "metadata": {},
     "output_type": "display_data"
    }
   ],
   "source": [
    "from textattack.attack_recipes.textfooler_jin_2019 import TextFoolerJin2019\n",
    "attack = TextFoolerJin2019.build(model_wrapper)\n",
    "attack.cuda_()\n",
    "display(attack)"
   ]
  },
  {
   "cell_type": "code",
   "execution_count": 25,
   "id": "3344201d",
   "metadata": {
    "scrolled": true
   },
   "outputs": [
    {
     "name": "stderr",
     "output_type": "stream",
     "text": [
      "textattack: Logging to CSV at path C:\\Users\\DELL\\Text_Augmentation\\trec_dataset_3runs\\results\\CheckList\\text_fooler_attack_results\\run3\\results.csv\n"
     ]
    },
    {
     "name": "stdout",
     "output_type": "stream",
     "text": [
      "Attack(\n",
      "  (search_method): GreedyWordSwapWIR(\n",
      "    (wir_method):  delete\n",
      "  )\n",
      "  (goal_function):  UntargetedClassification\n",
      "  (transformation):  WordSwapEmbedding(\n",
      "    (max_candidates):  50\n",
      "    (embedding):  WordEmbedding\n",
      "  )\n",
      "  (constraints): \n",
      "    (0): WordEmbeddingDistance(\n",
      "        (embedding):  WordEmbedding\n",
      "        (min_cos_sim):  0.5\n",
      "        (cased):  False\n",
      "        (include_unknown_words):  True\n",
      "        (compare_against_original):  True\n",
      "      )\n",
      "    (1): PartOfSpeech(\n",
      "        (tagger_type):  nltk\n",
      "        (tagset):  universal\n",
      "        (allow_verb_noun_swap):  True\n",
      "        (compare_against_original):  True\n",
      "      )\n",
      "    (2): UniversalSentenceEncoder(\n",
      "        (metric):  angular\n",
      "        (threshold):  0.840845057\n",
      "        (window_size):  15\n",
      "        (skip_text_shorter_than_window):  True\n",
      "        (compare_against_original):  False\n",
      "      )\n",
      "    (3): RepeatModification\n",
      "    (4): StopwordModification\n",
      "    (5): InputColumnModification(\n",
      "        (matching_column_labels):  ['premise', 'hypothesis']\n",
      "        (columns_to_ignore):  {'premise'}\n",
      "      )\n",
      "  (is_black_box):  True\n",
      ") \n",
      "\n"
     ]
    },
    {
     "name": "stderr",
     "output_type": "stream",
     "text": [
      "  0%|▏                                                                                 | 1/500 [00:06<52:36,  6.33s/it]C:\\Users\\DELL\\anaconda3\\envs\\ta\\lib\\site-packages\\textattack\\loggers\\csv_logger.py:41: FutureWarning: The frame.append method is deprecated and will be removed from pandas in a future version. Use pandas.concat instead.\n",
      "  self.df = self.df.append(row, ignore_index=True)\n",
      "[Succeeded / Failed / Skipped / Total] 1 / 0 / 0 / 1:   0%|                            | 1/500 [00:06<52:43,  6.34s/it]"
     ]
    },
    {
     "name": "stdout",
     "output_type": "stream",
     "text": [
      "--------------------------------------------- Result 1 ---------------------------------------------\n",
      "[[Num (99%)]] --> [[Loc (99%)]]\n",
      "\n",
      "What is the [[population]] of Venezuela ?\n",
      "\n",
      "What is the [[pueblo]] of Venezuela ?\n",
      "\n",
      "\n"
     ]
    },
    {
     "name": "stderr",
     "output_type": "stream",
     "text": [
      "[Succeeded / Failed / Skipped / Total] 1 / 0 / 0 / 1:   0%|                            | 2/500 [00:07<30:33,  3.68s/it]C:\\Users\\DELL\\anaconda3\\envs\\ta\\lib\\site-packages\\textattack\\loggers\\csv_logger.py:41: FutureWarning: The frame.append method is deprecated and will be removed from pandas in a future version. Use pandas.concat instead.\n",
      "  self.df = self.df.append(row, ignore_index=True)\n",
      "[Succeeded / Failed / Skipped / Total] 2 / 0 / 0 / 2:   0%|                            | 2/500 [00:07<30:43,  3.70s/it]"
     ]
    },
    {
     "name": "stdout",
     "output_type": "stream",
     "text": [
      "--------------------------------------------- Result 2 ---------------------------------------------\n",
      "[[Desc (96%)]] --> [[Num (99%)]]\n",
      "\n",
      "What does target heart rate [[mean]] ?\n",
      "\n",
      "What does target heart rate [[averages]] ?\n",
      "\n",
      "\n"
     ]
    },
    {
     "name": "stderr",
     "output_type": "stream",
     "text": [
      "[Succeeded / Failed / Skipped / Total] 2 / 0 / 0 / 2:   1%|▏                           | 3/500 [00:09<26:57,  3.25s/it]C:\\Users\\DELL\\anaconda3\\envs\\ta\\lib\\site-packages\\textattack\\loggers\\csv_logger.py:41: FutureWarning: The frame.append method is deprecated and will be removed from pandas in a future version. Use pandas.concat instead.\n",
      "  self.df = self.df.append(row, ignore_index=True)\n",
      "[Succeeded / Failed / Skipped / Total] 3 / 0 / 0 / 3:   1%|▏                           | 3/500 [00:09<27:04,  3.27s/it]"
     ]
    },
    {
     "name": "stdout",
     "output_type": "stream",
     "text": [
      "--------------------------------------------- Result 3 ---------------------------------------------\n",
      "[[Enty (99%)]] --> [[Loc (99%)]]\n",
      "\n",
      "What [[currency]] does Luxembourg [[use]] ?\n",
      "\n",
      "What [[interchange]] does Luxembourg [[resort]] ?\n",
      "\n",
      "\n"
     ]
    },
    {
     "name": "stderr",
     "output_type": "stream",
     "text": [
      "[Succeeded / Failed / Skipped / Total] 3 / 0 / 0 / 3:   1%|▏                           | 4/500 [00:10<22:18,  2.70s/it]C:\\Users\\DELL\\anaconda3\\envs\\ta\\lib\\site-packages\\textattack\\loggers\\csv_logger.py:41: FutureWarning: The frame.append method is deprecated and will be removed from pandas in a future version. Use pandas.concat instead.\n",
      "  self.df = self.df.append(row, ignore_index=True)\n",
      "[Succeeded / Failed / Skipped / Total] 4 / 0 / 0 / 4:   1%|▏                           | 4/500 [00:10<22:21,  2.70s/it]"
     ]
    },
    {
     "name": "stdout",
     "output_type": "stream",
     "text": [
      "--------------------------------------------- Result 4 ---------------------------------------------\n",
      "[[Num (99%)]] --> [[Desc (98%)]]\n",
      "\n",
      "How [[long]] did Rip Van Winkle sleep ?\n",
      "\n",
      "How [[anymore]] did Rip Van Winkle sleep ?\n",
      "\n",
      "\n"
     ]
    },
    {
     "name": "stderr",
     "output_type": "stream",
     "text": [
      "[Succeeded / Failed / Skipped / Total] 4 / 0 / 0 / 4:   1%|▎                           | 5/500 [00:15<25:19,  3.07s/it]C:\\Users\\DELL\\anaconda3\\envs\\ta\\lib\\site-packages\\textattack\\loggers\\csv_logger.py:41: FutureWarning: The frame.append method is deprecated and will be removed from pandas in a future version. Use pandas.concat instead.\n",
      "  self.df = self.df.append(row, ignore_index=True)\n",
      "[Succeeded / Failed / Skipped / Total] 5 / 0 / 0 / 5:   1%|▎                           | 5/500 [00:15<25:21,  3.07s/it]"
     ]
    },
    {
     "name": "stdout",
     "output_type": "stream",
     "text": [
      "--------------------------------------------- Result 5 ---------------------------------------------\n",
      "[[Enty (99%)]] --> [[Loc (93%)]]\n",
      "\n",
      "Material called linen is [[made]] from what [[plant]] ?\n",
      "\n",
      "Material called linen is [[reached]] from what [[centre]] ?\n",
      "\n",
      "\n"
     ]
    },
    {
     "name": "stderr",
     "output_type": "stream",
     "text": [
      "[Succeeded / Failed / Skipped / Total] 5 / 0 / 0 / 5:   1%|▎                           | 6/500 [00:15<21:54,  2.66s/it]C:\\Users\\DELL\\anaconda3\\envs\\ta\\lib\\site-packages\\textattack\\loggers\\csv_logger.py:41: FutureWarning: The frame.append method is deprecated and will be removed from pandas in a future version. Use pandas.concat instead.\n",
      "  self.df = self.df.append(row, ignore_index=True)\n",
      "[Succeeded / Failed / Skipped / Total] 5 / 1 / 0 / 6:   1%|▎                           | 6/500 [00:15<21:56,  2.66s/it]"
     ]
    },
    {
     "name": "stdout",
     "output_type": "stream",
     "text": [
      "--------------------------------------------- Result 6 ---------------------------------------------\n",
      "[[Desc (98%)]] --> [[[FAILED]]]\n",
      "\n",
      "What is phenylalanine ?\n",
      "\n",
      "\n"
     ]
    },
    {
     "name": "stderr",
     "output_type": "stream",
     "text": [
      "[Succeeded / Failed / Skipped / Total] 5 / 1 / 0 / 6:   1%|▍                           | 7/500 [00:18<21:19,  2.59s/it]C:\\Users\\DELL\\anaconda3\\envs\\ta\\lib\\site-packages\\textattack\\loggers\\csv_logger.py:41: FutureWarning: The frame.append method is deprecated and will be removed from pandas in a future version. Use pandas.concat instead.\n",
      "  self.df = self.df.append(row, ignore_index=True)\n",
      "[Succeeded / Failed / Skipped / Total] 6 / 1 / 0 / 7:   1%|▍                           | 7/500 [00:18<21:20,  2.60s/it]"
     ]
    },
    {
     "name": "stdout",
     "output_type": "stream",
     "text": [
      "--------------------------------------------- Result 7 ---------------------------------------------\n",
      "[[Enty (97%)]] --> [[Hum (96%)]]\n",
      "\n",
      "What is a group of turkeys [[called]] ?\n",
      "\n",
      "What is a group of turkeys [[invited]] ?\n",
      "\n",
      "\n"
     ]
    },
    {
     "name": "stderr",
     "output_type": "stream",
     "text": [
      "[Succeeded / Failed / Skipped / Total] 6 / 1 / 0 / 7:   2%|▍                           | 8/500 [00:19<20:02,  2.44s/it]C:\\Users\\DELL\\anaconda3\\envs\\ta\\lib\\site-packages\\textattack\\loggers\\csv_logger.py:41: FutureWarning: The frame.append method is deprecated and will be removed from pandas in a future version. Use pandas.concat instead.\n",
      "  self.df = self.df.append(row, ignore_index=True)\n",
      "[Succeeded / Failed / Skipped / Total] 6 / 2 / 0 / 8:   2%|▍                           | 8/500 [00:19<20:03,  2.45s/it]"
     ]
    },
    {
     "name": "stdout",
     "output_type": "stream",
     "text": [
      "--------------------------------------------- Result 8 ---------------------------------------------\n",
      "[[Desc (98%)]] --> [[[FAILED]]]\n",
      "\n",
      "What are enzymes ?\n",
      "\n",
      "\n"
     ]
    },
    {
     "name": "stderr",
     "output_type": "stream",
     "text": [
      "[Succeeded / Failed / Skipped / Total] 6 / 2 / 0 / 8:   2%|▌                           | 9/500 [00:20<18:54,  2.31s/it]C:\\Users\\DELL\\anaconda3\\envs\\ta\\lib\\site-packages\\textattack\\loggers\\csv_logger.py:41: FutureWarning: The frame.append method is deprecated and will be removed from pandas in a future version. Use pandas.concat instead.\n",
      "  self.df = self.df.append(row, ignore_index=True)\n",
      "[Succeeded / Failed / Skipped / Total] 7 / 2 / 0 / 9:   2%|▌                           | 9/500 [00:20<18:55,  2.31s/it]"
     ]
    },
    {
     "name": "stdout",
     "output_type": "stream",
     "text": [
      "--------------------------------------------- Result 9 ---------------------------------------------\n",
      "[[Desc (98%)]] --> [[Loc (99%)]]\n",
      "\n",
      "[[Why]] is the sun yellow ?\n",
      "\n",
      "[[Where]] is the sun yellow ?\n",
      "\n",
      "\n"
     ]
    },
    {
     "name": "stderr",
     "output_type": "stream",
     "text": [
      "[Succeeded / Failed / Skipped / Total] 7 / 2 / 0 / 9:   2%|▌                          | 10/500 [00:23<19:12,  2.35s/it]C:\\Users\\DELL\\anaconda3\\envs\\ta\\lib\\site-packages\\textattack\\loggers\\csv_logger.py:41: FutureWarning: The frame.append method is deprecated and will be removed from pandas in a future version. Use pandas.concat instead.\n",
      "  self.df = self.df.append(row, ignore_index=True)\n",
      "[Succeeded / Failed / Skipped / Total] 8 / 2 / 0 / 10:   2%|▌                         | 10/500 [00:23<19:13,  2.35s/it]C:\\Users\\DELL\\anaconda3\\envs\\ta\\lib\\site-packages\\textattack\\loggers\\csv_logger.py:41: FutureWarning: The frame.append method is deprecated and will be removed from pandas in a future version. Use pandas.concat instead.\n",
      "  self.df = self.df.append(row, ignore_index=True)\n",
      "[Succeeded / Failed / Skipped / Total] 8 / 2 / 1 / 11:   2%|▌                         | 11/500 [00:23<17:27,  2.14s/it]"
     ]
    },
    {
     "name": "stdout",
     "output_type": "stream",
     "text": [
      "--------------------------------------------- Result 10 ---------------------------------------------\n",
      "[[Loc (99%)]] --> [[Enty (96%)]]\n",
      "\n",
      "[[What]] [[state]] is the geographic [[center]] of the lower 48 states ?\n",
      "\n",
      "[[Wher]] [[sate]] is the geographic [[plants]] of the lower 48 states ?\n",
      "\n",
      "\n",
      "--------------------------------------------- Result 11 ---------------------------------------------\n",
      "[[Desc (98%)]] --> [[[SKIPPED]]]\n",
      "\n",
      "What is foot and mouth disease ?\n",
      "\n",
      "\n"
     ]
    },
    {
     "name": "stderr",
     "output_type": "stream",
     "text": [
      "[Succeeded / Failed / Skipped / Total] 8 / 2 / 1 / 11:   2%|▌                         | 12/500 [00:24<16:51,  2.07s/it]C:\\Users\\DELL\\anaconda3\\envs\\ta\\lib\\site-packages\\textattack\\loggers\\csv_logger.py:41: FutureWarning: The frame.append method is deprecated and will be removed from pandas in a future version. Use pandas.concat instead.\n",
      "  self.df = self.df.append(row, ignore_index=True)\n",
      "[Succeeded / Failed / Skipped / Total] 8 / 3 / 1 / 12:   2%|▌                         | 12/500 [00:24<16:52,  2.07s/it]"
     ]
    },
    {
     "name": "stdout",
     "output_type": "stream",
     "text": [
      "--------------------------------------------- Result 12 ---------------------------------------------\n",
      "[[Desc (98%)]] --> [[[FAILED]]]\n",
      "\n",
      "What is sonar ?\n",
      "\n",
      "\n"
     ]
    },
    {
     "name": "stderr",
     "output_type": "stream",
     "text": [
      "C:\\Users\\DELL\\anaconda3\\envs\\ta\\lib\\site-packages\\textattack\\loggers\\csv_logger.py:41: FutureWarning: The frame.append method is deprecated and will be removed from pandas in a future version. Use pandas.concat instead.\n",
      "  self.df = self.df.append(row, ignore_index=True)\n",
      "\r",
      "[Succeeded / Failed / Skipped / Total] 9 / 3 / 1 / 13:   3%|▋                         | 13/500 [00:25<15:54,  1.96s/it]"
     ]
    },
    {
     "name": "stdout",
     "output_type": "stream",
     "text": [
      "--------------------------------------------- Result 13 ---------------------------------------------\n",
      "[[Num (99%)]] --> [[Loc (99%)]]\n",
      "\n",
      "[[When]] was Thomas Jefferson born ?\n",
      "\n",
      "[[Where]] was Thomas Jefferson born ?\n",
      "\n",
      "\n"
     ]
    },
    {
     "name": "stderr",
     "output_type": "stream",
     "text": [
      "[Succeeded / Failed / Skipped / Total] 9 / 3 / 1 / 13:   3%|▋                         | 14/500 [00:26<15:29,  1.91s/it]C:\\Users\\DELL\\anaconda3\\envs\\ta\\lib\\site-packages\\textattack\\loggers\\csv_logger.py:41: FutureWarning: The frame.append method is deprecated and will be removed from pandas in a future version. Use pandas.concat instead.\n",
      "  self.df = self.df.append(row, ignore_index=True)\n",
      "[Succeeded / Failed / Skipped / Total] 10 / 3 / 1 / 14:   3%|▋                        | 14/500 [00:26<15:30,  1.91s/it]"
     ]
    },
    {
     "name": "stdout",
     "output_type": "stream",
     "text": [
      "--------------------------------------------- Result 14 ---------------------------------------------\n",
      "[[Enty (67%)]] --> [[Desc (98%)]]\n",
      "\n",
      "What is the Ohio state [[bird]] ?\n",
      "\n",
      "What is the Ohio state [[lovebirds]] ?\n",
      "\n",
      "\n"
     ]
    },
    {
     "name": "stderr",
     "output_type": "stream",
     "text": [
      "C:\\Users\\DELL\\anaconda3\\envs\\ta\\lib\\site-packages\\textattack\\loggers\\csv_logger.py:41: FutureWarning: The frame.append method is deprecated and will be removed from pandas in a future version. Use pandas.concat instead.\n",
      "  self.df = self.df.append(row, ignore_index=True)\n",
      "\r",
      "[Succeeded / Failed / Skipped / Total] 11 / 3 / 1 / 15:   3%|▊                        | 15/500 [00:28<15:34,  1.93s/it]"
     ]
    },
    {
     "name": "stdout",
     "output_type": "stream",
     "text": [
      "--------------------------------------------- Result 15 ---------------------------------------------\n",
      "[[Enty (98%)]] --> [[Desc (98%)]]\n",
      "\n",
      "What are the [[colors]] of the German flag ?\n",
      "\n",
      "What are the [[discoloration]] of the German flag ?\n",
      "\n",
      "\n"
     ]
    },
    {
     "name": "stderr",
     "output_type": "stream",
     "text": [
      "[Succeeded / Failed / Skipped / Total] 11 / 3 / 1 / 15:   3%|▊                        | 16/500 [00:32<16:12,  2.01s/it]C:\\Users\\DELL\\anaconda3\\envs\\ta\\lib\\site-packages\\textattack\\loggers\\csv_logger.py:41: FutureWarning: The frame.append method is deprecated and will be removed from pandas in a future version. Use pandas.concat instead.\n",
      "  self.df = self.df.append(row, ignore_index=True)\n",
      "[Succeeded / Failed / Skipped / Total] 11 / 4 / 1 / 16:   3%|▊                        | 16/500 [00:32<16:12,  2.01s/it]"
     ]
    },
    {
     "name": "stdout",
     "output_type": "stream",
     "text": [
      "--------------------------------------------- Result 16 ---------------------------------------------\n",
      "[[Hum (99%)]] --> [[[FAILED]]]\n",
      "\n",
      "Who won Ms. American in 1989 ?\n",
      "\n",
      "\n"
     ]
    },
    {
     "name": "stderr",
     "output_type": "stream",
     "text": [
      "C:\\Users\\DELL\\anaconda3\\envs\\ta\\lib\\site-packages\\textattack\\loggers\\csv_logger.py:41: FutureWarning: The frame.append method is deprecated and will be removed from pandas in a future version. Use pandas.concat instead.\n",
      "  self.df = self.df.append(row, ignore_index=True)\n",
      "\r",
      "[Succeeded / Failed / Skipped / Total] 12 / 4 / 1 / 17:   3%|▊                        | 17/500 [00:34<16:12,  2.01s/it]"
     ]
    },
    {
     "name": "stdout",
     "output_type": "stream",
     "text": [
      "--------------------------------------------- Result 17 ---------------------------------------------\n",
      "[[Loc (99%)]] --> [[Desc (98%)]]\n",
      "\n",
      "[[Where]] on the body is a mortarboard worn ?\n",
      "\n",
      "[[Why]] on the body is a mortarboard worn ?\n",
      "\n",
      "\n"
     ]
    },
    {
     "name": "stderr",
     "output_type": "stream",
     "text": [
      "[Succeeded / Failed / Skipped / Total] 12 / 4 / 1 / 17:   4%|▉                        | 18/500 [00:35<15:49,  1.97s/it]C:\\Users\\DELL\\anaconda3\\envs\\ta\\lib\\site-packages\\textattack\\loggers\\csv_logger.py:41: FutureWarning: The frame.append method is deprecated and will be removed from pandas in a future version. Use pandas.concat instead.\n",
      "  self.df = self.df.append(row, ignore_index=True)\n",
      "[Succeeded / Failed / Skipped / Total] 13 / 4 / 1 / 18:   4%|▉                        | 18/500 [00:35<15:49,  1.97s/it]"
     ]
    },
    {
     "name": "stdout",
     "output_type": "stream",
     "text": [
      "--------------------------------------------- Result 18 ---------------------------------------------\n",
      "[[Num (99%)]] --> [[Desc (97%)]]\n",
      "\n",
      "What is the [[width]] of a football field ?\n",
      "\n",
      "What is the [[grandeur]] of a football field ?\n",
      "\n",
      "\n"
     ]
    },
    {
     "name": "stderr",
     "output_type": "stream",
     "text": [
      "C:\\Users\\DELL\\anaconda3\\envs\\ta\\lib\\site-packages\\textattack\\loggers\\csv_logger.py:41: FutureWarning: The frame.append method is deprecated and will be removed from pandas in a future version. Use pandas.concat instead.\n",
      "  self.df = self.df.append(row, ignore_index=True)\n",
      "\r",
      "[Succeeded / Failed / Skipped / Total] 13 / 5 / 1 / 19:   4%|▉                        | 19/500 [00:39<16:35,  2.07s/it]"
     ]
    },
    {
     "name": "stdout",
     "output_type": "stream",
     "text": [
      "--------------------------------------------- Result 19 ---------------------------------------------\n",
      "[[Hum (99%)]] --> [[[FAILED]]]\n",
      "\n",
      "Who is the Prime Minister of Canada ?\n",
      "\n",
      "\n"
     ]
    },
    {
     "name": "stderr",
     "output_type": "stream",
     "text": [
      "[Succeeded / Failed / Skipped / Total] 13 / 5 / 1 / 19:   4%|█                        | 20/500 [00:40<16:15,  2.03s/it]C:\\Users\\DELL\\anaconda3\\envs\\ta\\lib\\site-packages\\textattack\\loggers\\csv_logger.py:41: FutureWarning: The frame.append method is deprecated and will be removed from pandas in a future version. Use pandas.concat instead.\n",
      "  self.df = self.df.append(row, ignore_index=True)\n",
      "[Succeeded / Failed / Skipped / Total] 14 / 5 / 1 / 20:   4%|█                        | 20/500 [00:40<16:16,  2.03s/it]"
     ]
    },
    {
     "name": "stdout",
     "output_type": "stream",
     "text": [
      "--------------------------------------------- Result 20 ---------------------------------------------\n",
      "[[Num (99%)]] --> [[Desc (93%)]]\n",
      "\n",
      "What is the conversion [[rate]] between dollars and pounds ?\n",
      "\n",
      "What is the conversion [[rhythm]] between dollars and pounds ?\n",
      "\n",
      "\n"
     ]
    },
    {
     "name": "stderr",
     "output_type": "stream",
     "text": [
      "C:\\Users\\DELL\\anaconda3\\envs\\ta\\lib\\site-packages\\textattack\\loggers\\csv_logger.py:41: FutureWarning: The frame.append method is deprecated and will be removed from pandas in a future version. Use pandas.concat instead.\n",
      "  self.df = self.df.append(row, ignore_index=True)\n",
      "\r",
      "[Succeeded / Failed / Skipped / Total] 14 / 6 / 1 / 21:   4%|█                        | 21/500 [00:41<15:41,  1.97s/it]"
     ]
    },
    {
     "name": "stdout",
     "output_type": "stream",
     "text": [
      "--------------------------------------------- Result 21 ---------------------------------------------\n",
      "[[Desc (98%)]] --> [[[FAILED]]]\n",
      "\n",
      "What is fibromyalgia ?\n",
      "\n",
      "\n"
     ]
    },
    {
     "name": "stderr",
     "output_type": "stream",
     "text": [
      "[Succeeded / Failed / Skipped / Total] 14 / 6 / 1 / 21:   4%|█                        | 22/500 [00:43<15:50,  1.99s/it]C:\\Users\\DELL\\anaconda3\\envs\\ta\\lib\\site-packages\\textattack\\loggers\\csv_logger.py:41: FutureWarning: The frame.append method is deprecated and will be removed from pandas in a future version. Use pandas.concat instead.\n",
      "  self.df = self.df.append(row, ignore_index=True)\n",
      "[Succeeded / Failed / Skipped / Total] 15 / 6 / 1 / 22:   4%|█                        | 22/500 [00:43<15:50,  1.99s/it]"
     ]
    },
    {
     "name": "stdout",
     "output_type": "stream",
     "text": [
      "--------------------------------------------- Result 22 ---------------------------------------------\n",
      "[[Enty (92%)]] --> [[Loc (99%)]]\n",
      "\n",
      "What are the spots on dominoes [[called]] ?\n",
      "\n",
      "What are the spots on dominoes [[telephoned]] ?\n",
      "\n",
      "\n"
     ]
    },
    {
     "name": "stderr",
     "output_type": "stream",
     "text": [
      "C:\\Users\\DELL\\anaconda3\\envs\\ta\\lib\\site-packages\\textattack\\loggers\\csv_logger.py:41: FutureWarning: The frame.append method is deprecated and will be removed from pandas in a future version. Use pandas.concat instead.\n",
      "  self.df = self.df.append(row, ignore_index=True)\n",
      "\r",
      "[Succeeded / Failed / Skipped / Total] 16 / 6 / 1 / 23:   5%|█▏                       | 23/500 [00:45<15:35,  1.96s/it]"
     ]
    },
    {
     "name": "stdout",
     "output_type": "stream",
     "text": [
      "--------------------------------------------- Result 23 ---------------------------------------------\n",
      "[[Loc (99%)]] --> [[Hum (99%)]]\n",
      "\n",
      "What [[city]] is also known as `` The Gateway to the West '' ?\n",
      "\n",
      "What [[mayor]] is also known as `` The Gateway to the West '' ?\n",
      "\n",
      "\n"
     ]
    },
    {
     "name": "stderr",
     "output_type": "stream",
     "text": [
      "[Succeeded / Failed / Skipped / Total] 16 / 6 / 1 / 23:   5%|█▏                       | 24/500 [00:48<15:54,  2.01s/it]C:\\Users\\DELL\\anaconda3\\envs\\ta\\lib\\site-packages\\textattack\\loggers\\csv_logger.py:41: FutureWarning: The frame.append method is deprecated and will be removed from pandas in a future version. Use pandas.concat instead.\n",
      "  self.df = self.df.append(row, ignore_index=True)\n",
      "[Succeeded / Failed / Skipped / Total] 16 / 7 / 1 / 24:   5%|█▏                       | 24/500 [00:48<15:55,  2.01s/it]"
     ]
    },
    {
     "name": "stdout",
     "output_type": "stream",
     "text": [
      "--------------------------------------------- Result 24 ---------------------------------------------\n",
      "[[Hum (99%)]] --> [[[FAILED]]]\n",
      "\n",
      "Who discovered x-rays ?\n",
      "\n",
      "\n"
     ]
    },
    {
     "name": "stderr",
     "output_type": "stream",
     "text": [
      "C:\\Users\\DELL\\anaconda3\\envs\\ta\\lib\\site-packages\\textattack\\loggers\\csv_logger.py:41: FutureWarning: The frame.append method is deprecated and will be removed from pandas in a future version. Use pandas.concat instead.\n",
      "  self.df = self.df.append(row, ignore_index=True)\n",
      "\r",
      "[Succeeded / Failed / Skipped / Total] 17 / 7 / 1 / 25:   5%|█▎                       | 25/500 [00:52<16:35,  2.09s/it]"
     ]
    },
    {
     "name": "stdout",
     "output_type": "stream",
     "text": [
      "--------------------------------------------- Result 25 ---------------------------------------------\n",
      "[[Num (99%)]] --> [[Desc (98%)]]\n",
      "\n",
      "[[How]] [[much]] does water weigh ?\n",
      "\n",
      "[[Why]] [[sizeable]] does water weigh ?\n",
      "\n",
      "\n"
     ]
    },
    {
     "name": "stderr",
     "output_type": "stream",
     "text": [
      "[Succeeded / Failed / Skipped / Total] 17 / 7 / 1 / 25:   5%|█▎                       | 26/500 [00:53<16:09,  2.04s/it]C:\\Users\\DELL\\anaconda3\\envs\\ta\\lib\\site-packages\\textattack\\loggers\\csv_logger.py:41: FutureWarning: The frame.append method is deprecated and will be removed from pandas in a future version. Use pandas.concat instead.\n",
      "  self.df = self.df.append(row, ignore_index=True)\n",
      "[Succeeded / Failed / Skipped / Total] 18 / 7 / 1 / 26:   5%|█▎                       | 26/500 [00:53<16:09,  2.05s/it]"
     ]
    },
    {
     "name": "stdout",
     "output_type": "stream",
     "text": [
      "--------------------------------------------- Result 26 ---------------------------------------------\n",
      "[[Num (99%)]] --> [[Enty (98%)]]\n",
      "\n",
      "Mercury , what [[year]] was it discovered ?\n",
      "\n",
      "Mercury , what [[sunni]] was it discovered ?\n",
      "\n",
      "\n"
     ]
    },
    {
     "name": "stderr",
     "output_type": "stream",
     "text": [
      "C:\\Users\\DELL\\anaconda3\\envs\\ta\\lib\\site-packages\\textattack\\loggers\\csv_logger.py:41: FutureWarning: The frame.append method is deprecated and will be removed from pandas in a future version. Use pandas.concat instead.\n",
      "  self.df = self.df.append(row, ignore_index=True)\n",
      "\r",
      "[Succeeded / Failed / Skipped / Total] 19 / 7 / 1 / 27:   5%|█▎                       | 27/500 [00:55<16:11,  2.05s/it]"
     ]
    },
    {
     "name": "stdout",
     "output_type": "stream",
     "text": [
      "--------------------------------------------- Result 27 ---------------------------------------------\n",
      "[[Loc (99%)]] --> [[Num (99%)]]\n",
      "\n",
      "[[Where]] do apple snails live ?\n",
      "\n",
      "[[When]] do apple snails live ?\n",
      "\n",
      "\n"
     ]
    },
    {
     "name": "stderr",
     "output_type": "stream",
     "text": [
      "[Succeeded / Failed / Skipped / Total] 19 / 7 / 1 / 27:   6%|█▍                       | 28/500 [00:56<15:53,  2.02s/it]C:\\Users\\DELL\\anaconda3\\envs\\ta\\lib\\site-packages\\textattack\\loggers\\csv_logger.py:41: FutureWarning: The frame.append method is deprecated and will be removed from pandas in a future version. Use pandas.concat instead.\n",
      "  self.df = self.df.append(row, ignore_index=True)\n",
      "[Succeeded / Failed / Skipped / Total] 20 / 7 / 1 / 28:   6%|█▍                       | 28/500 [00:56<15:53,  2.02s/it]"
     ]
    },
    {
     "name": "stdout",
     "output_type": "stream",
     "text": [
      "--------------------------------------------- Result 28 ---------------------------------------------\n",
      "[[Loc (99%)]] --> [[Enty (98%)]]\n",
      "\n",
      "What is the rainiest [[place]] on Earth ?\n",
      "\n",
      "What is the rainiest [[loco]] on Earth ?\n",
      "\n",
      "\n"
     ]
    },
    {
     "name": "stderr",
     "output_type": "stream",
     "text": [
      "C:\\Users\\DELL\\anaconda3\\envs\\ta\\lib\\site-packages\\textattack\\loggers\\csv_logger.py:41: FutureWarning: The frame.append method is deprecated and will be removed from pandas in a future version. Use pandas.concat instead.\n",
      "  self.df = self.df.append(row, ignore_index=True)\n",
      "\r",
      "[Succeeded / Failed / Skipped / Total] 20 / 8 / 1 / 29:   6%|█▍                       | 29/500 [00:58<15:50,  2.02s/it]"
     ]
    },
    {
     "name": "stdout",
     "output_type": "stream",
     "text": [
      "--------------------------------------------- Result 29 ---------------------------------------------\n",
      "[[Hum (99%)]] --> [[[FAILED]]]\n",
      "\n",
      "Who invented the hula hoop ?\n",
      "\n",
      "\n"
     ]
    },
    {
     "name": "stderr",
     "output_type": "stream",
     "text": [
      "[Succeeded / Failed / Skipped / Total] 20 / 8 / 1 / 29:   6%|█▌                       | 30/500 [01:00<15:45,  2.01s/it]C:\\Users\\DELL\\anaconda3\\envs\\ta\\lib\\site-packages\\textattack\\loggers\\csv_logger.py:41: FutureWarning: The frame.append method is deprecated and will be removed from pandas in a future version. Use pandas.concat instead.\n",
      "  self.df = self.df.append(row, ignore_index=True)\n",
      "[Succeeded / Failed / Skipped / Total] 21 / 8 / 1 / 30:   6%|█▌                       | 30/500 [01:00<15:45,  2.01s/it]"
     ]
    },
    {
     "name": "stdout",
     "output_type": "stream",
     "text": [
      "--------------------------------------------- Result 30 ---------------------------------------------\n",
      "[[Loc (50%)]] --> [[Enty (99%)]]\n",
      "\n",
      "What is the longest suspension [[bridge]] in the U.S. ?\n",
      "\n",
      "What is the longest suspension [[jumper]] in the U.S. ?\n",
      "\n",
      "\n"
     ]
    },
    {
     "name": "stderr",
     "output_type": "stream",
     "text": [
      "C:\\Users\\DELL\\anaconda3\\envs\\ta\\lib\\site-packages\\textattack\\loggers\\csv_logger.py:41: FutureWarning: The frame.append method is deprecated and will be removed from pandas in a future version. Use pandas.concat instead.\n",
      "  self.df = self.df.append(row, ignore_index=True)\n",
      "\r",
      "[Succeeded / Failed / Skipped / Total] 22 / 8 / 1 / 31:   6%|█▌                       | 31/500 [01:02<15:51,  2.03s/it]"
     ]
    },
    {
     "name": "stdout",
     "output_type": "stream",
     "text": [
      "--------------------------------------------- Result 31 ---------------------------------------------\n",
      "[[Enty (99%)]] --> [[Desc (98%)]]\n",
      "\n",
      "What is plastic [[made]] of ?\n",
      "\n",
      "What is plastic [[posed]] of ?\n",
      "\n",
      "\n"
     ]
    },
    {
     "name": "stderr",
     "output_type": "stream",
     "text": [
      "[Succeeded / Failed / Skipped / Total] 22 / 8 / 1 / 31:   6%|█▌                       | 32/500 [01:04<15:47,  2.03s/it]C:\\Users\\DELL\\anaconda3\\envs\\ta\\lib\\site-packages\\textattack\\loggers\\csv_logger.py:41: FutureWarning: The frame.append method is deprecated and will be removed from pandas in a future version. Use pandas.concat instead.\n",
      "  self.df = self.df.append(row, ignore_index=True)\n",
      "[Succeeded / Failed / Skipped / Total] 23 / 8 / 1 / 32:   6%|█▌                       | 32/500 [01:04<15:48,  2.03s/it]C:\\Users\\DELL\\anaconda3\\envs\\ta\\lib\\site-packages\\textattack\\loggers\\csv_logger.py:41: FutureWarning: The frame.append method is deprecated and will be removed from pandas in a future version. Use pandas.concat instead.\n",
      "  self.df = self.df.append(row, ignore_index=True)\n",
      "[Succeeded / Failed / Skipped / Total] 23 / 8 / 2 / 33:   7%|█▋                       | 33/500 [01:04<15:17,  1.97s/it]"
     ]
    },
    {
     "name": "stdout",
     "output_type": "stream",
     "text": [
      "--------------------------------------------- Result 32 ---------------------------------------------\n",
      "[[Num (99%)]] --> [[Desc (98%)]]\n",
      "\n",
      "How [[far]] is it from Denver to Aspen ?\n",
      "\n",
      "How [[importantly]] is it from Denver to Aspen ?\n",
      "\n",
      "\n",
      "--------------------------------------------- Result 33 ---------------------------------------------\n",
      "[[Desc (97%)]] --> [[[SKIPPED]]]\n",
      "\n",
      "What is the criterion for being legally blind ?\n",
      "\n",
      "\n"
     ]
    },
    {
     "name": "stderr",
     "output_type": "stream",
     "text": [
      "[Succeeded / Failed / Skipped / Total] 23 / 8 / 2 / 33:   7%|█▋                       | 34/500 [01:08<15:35,  2.01s/it]C:\\Users\\DELL\\anaconda3\\envs\\ta\\lib\\site-packages\\textattack\\loggers\\csv_logger.py:41: FutureWarning: The frame.append method is deprecated and will be removed from pandas in a future version. Use pandas.concat instead.\n",
      "  self.df = self.df.append(row, ignore_index=True)\n",
      "[Succeeded / Failed / Skipped / Total] 23 / 9 / 2 / 34:   7%|█▋                       | 34/500 [01:08<15:35,  2.01s/it]"
     ]
    },
    {
     "name": "stdout",
     "output_type": "stream",
     "text": [
      "--------------------------------------------- Result 34 ---------------------------------------------\n",
      "[[Hum (99%)]] --> [[[FAILED]]]\n",
      "\n",
      "Who invented the instant Polaroid camera ?\n",
      "\n",
      "\n"
     ]
    },
    {
     "name": "stderr",
     "output_type": "stream",
     "text": [
      "C:\\Users\\DELL\\anaconda3\\envs\\ta\\lib\\site-packages\\textattack\\loggers\\csv_logger.py:41: FutureWarning: The frame.append method is deprecated and will be removed from pandas in a future version. Use pandas.concat instead.\n",
      "  self.df = self.df.append(row, ignore_index=True)\n",
      "\r",
      "[Succeeded / Failed / Skipped / Total] 24 / 9 / 2 / 35:   7%|█▊                       | 35/500 [01:09<15:20,  1.98s/it]"
     ]
    },
    {
     "name": "stdout",
     "output_type": "stream",
     "text": [
      "--------------------------------------------- Result 35 ---------------------------------------------\n",
      "[[Num (99%)]] --> [[Desc (98%)]]\n",
      "\n",
      "What is the [[distance]] in miles from the earth to the sun ?\n",
      "\n",
      "What is the [[alienation]] in miles from the earth to the sun ?\n",
      "\n",
      "\n"
     ]
    },
    {
     "name": "stderr",
     "output_type": "stream",
     "text": [
      "[Succeeded / Failed / Skipped / Total] 24 / 9 / 2 / 35:   7%|█▊                       | 36/500 [01:10<15:05,  1.95s/it]C:\\Users\\DELL\\anaconda3\\envs\\ta\\lib\\site-packages\\textattack\\loggers\\csv_logger.py:41: FutureWarning: The frame.append method is deprecated and will be removed from pandas in a future version. Use pandas.concat instead.\n",
      "  self.df = self.df.append(row, ignore_index=True)\n",
      "[Succeeded / Failed / Skipped / Total] 25 / 9 / 2 / 36:   7%|█▊                       | 36/500 [01:10<15:05,  1.95s/it]"
     ]
    },
    {
     "name": "stdout",
     "output_type": "stream",
     "text": [
      "--------------------------------------------- Result 36 ---------------------------------------------\n",
      "[[Loc (99%)]] --> [[Enty (98%)]]\n",
      "\n",
      "In which [[state]] would you find the Catskill Mountains ?\n",
      "\n",
      "In which [[sate]] would you find the Catskill Mountains ?\n",
      "\n",
      "\n"
     ]
    },
    {
     "name": "stderr",
     "output_type": "stream",
     "text": [
      "C:\\Users\\DELL\\anaconda3\\envs\\ta\\lib\\site-packages\\textattack\\loggers\\csv_logger.py:41: FutureWarning: The frame.append method is deprecated and will be removed from pandas in a future version. Use pandas.concat instead.\n",
      "  self.df = self.df.append(row, ignore_index=True)\n",
      "\r",
      "[Succeeded / Failed / Skipped / Total] 25 / 10 / 2 / 37:   7%|█▊                      | 37/500 [01:11<14:55,  1.93s/it]"
     ]
    },
    {
     "name": "stdout",
     "output_type": "stream",
     "text": [
      "--------------------------------------------- Result 37 ---------------------------------------------\n",
      "[[Desc (98%)]] --> [[[FAILED]]]\n",
      "\n",
      "What is a prism ?\n",
      "\n",
      "\n"
     ]
    },
    {
     "name": "stderr",
     "output_type": "stream",
     "text": [
      "[Succeeded / Failed / Skipped / Total] 25 / 10 / 2 / 37:   8%|█▊                      | 38/500 [01:13<14:57,  1.94s/it]C:\\Users\\DELL\\anaconda3\\envs\\ta\\lib\\site-packages\\textattack\\loggers\\csv_logger.py:41: FutureWarning: The frame.append method is deprecated and will be removed from pandas in a future version. Use pandas.concat instead.\n",
      "  self.df = self.df.append(row, ignore_index=True)\n",
      "[Succeeded / Failed / Skipped / Total] 26 / 10 / 2 / 38:   8%|█▊                      | 38/500 [01:13<14:57,  1.94s/it]"
     ]
    },
    {
     "name": "stdout",
     "output_type": "stream",
     "text": [
      "--------------------------------------------- Result 38 ---------------------------------------------\n",
      "[[Num (99%)]] --> [[Desc (98%)]]\n",
      "\n",
      "How [[fast]] is sound ?\n",
      "\n",
      "How [[expedite]] is sound ?\n",
      "\n",
      "\n"
     ]
    },
    {
     "name": "stderr",
     "output_type": "stream",
     "text": [
      "C:\\Users\\DELL\\anaconda3\\envs\\ta\\lib\\site-packages\\textattack\\loggers\\csv_logger.py:41: FutureWarning: The frame.append method is deprecated and will be removed from pandas in a future version. Use pandas.concat instead.\n",
      "  self.df = self.df.append(row, ignore_index=True)\n",
      "\r",
      "[Succeeded / Failed / Skipped / Total] 27 / 10 / 2 / 39:   8%|█▊                      | 39/500 [01:15<14:50,  1.93s/it]"
     ]
    },
    {
     "name": "stdout",
     "output_type": "stream",
     "text": [
      "--------------------------------------------- Result 39 ---------------------------------------------\n",
      "[[Desc (96%)]] --> [[Num (99%)]]\n",
      "\n",
      "What does cc in engines [[mean]] ?\n",
      "\n",
      "What does cc in engines [[averages]] ?\n",
      "\n",
      "\n"
     ]
    },
    {
     "name": "stderr",
     "output_type": "stream",
     "text": [
      "[Succeeded / Failed / Skipped / Total] 27 / 10 / 2 / 39:   8%|█▉                      | 40/500 [01:17<14:54,  1.95s/it]C:\\Users\\DELL\\anaconda3\\envs\\ta\\lib\\site-packages\\textattack\\loggers\\csv_logger.py:41: FutureWarning: The frame.append method is deprecated and will be removed from pandas in a future version. Use pandas.concat instead.\n",
      "  self.df = self.df.append(row, ignore_index=True)\n",
      "[Succeeded / Failed / Skipped / Total] 27 / 11 / 2 / 40:   8%|█▉                      | 40/500 [01:17<14:54,  1.95s/it]"
     ]
    },
    {
     "name": "stdout",
     "output_type": "stream",
     "text": [
      "--------------------------------------------- Result 40 ---------------------------------------------\n",
      "[[Desc (98%)]] --> [[[FAILED]]]\n",
      "\n",
      "What is an ulcer ?\n",
      "\n",
      "\n"
     ]
    },
    {
     "name": "stderr",
     "output_type": "stream",
     "text": [
      "C:\\Users\\DELL\\anaconda3\\envs\\ta\\lib\\site-packages\\textattack\\loggers\\csv_logger.py:41: FutureWarning: The frame.append method is deprecated and will be removed from pandas in a future version. Use pandas.concat instead.\n",
      "  self.df = self.df.append(row, ignore_index=True)\n",
      "\r",
      "[Succeeded / Failed / Skipped / Total] 28 / 11 / 2 / 41:   8%|█▉                      | 41/500 [01:21<15:12,  1.99s/it]"
     ]
    },
    {
     "name": "stdout",
     "output_type": "stream",
     "text": [
      "--------------------------------------------- Result 41 ---------------------------------------------\n",
      "[[Desc (98%)]] --> [[Enty (81%)]]\n",
      "\n",
      "What is [[compounded]] [[interest]] ?\n",
      "\n",
      "What is [[deteriorated]] [[valued]] ?\n",
      "\n",
      "\n"
     ]
    },
    {
     "name": "stderr",
     "output_type": "stream",
     "text": [
      "[Succeeded / Failed / Skipped / Total] 28 / 11 / 2 / 41:   8%|██                      | 42/500 [01:22<14:58,  1.96s/it]C:\\Users\\DELL\\anaconda3\\envs\\ta\\lib\\site-packages\\textattack\\loggers\\csv_logger.py:41: FutureWarning: The frame.append method is deprecated and will be removed from pandas in a future version. Use pandas.concat instead.\n",
      "  self.df = self.df.append(row, ignore_index=True)\n",
      "[Succeeded / Failed / Skipped / Total] 29 / 11 / 2 / 42:   8%|██                      | 42/500 [01:22<14:58,  1.96s/it]"
     ]
    },
    {
     "name": "stdout",
     "output_type": "stream",
     "text": [
      "--------------------------------------------- Result 42 ---------------------------------------------\n",
      "[[Abbr (79%)]] --> [[Desc (95%)]]\n",
      "\n",
      "What does CPR [[stand]] for ?\n",
      "\n",
      "What does CPR [[attitude]] for ?\n",
      "\n",
      "\n"
     ]
    },
    {
     "name": "stderr",
     "output_type": "stream",
     "text": [
      "C:\\Users\\DELL\\anaconda3\\envs\\ta\\lib\\site-packages\\textattack\\loggers\\csv_logger.py:41: FutureWarning: The frame.append method is deprecated and will be removed from pandas in a future version. Use pandas.concat instead.\n",
      "  self.df = self.df.append(row, ignore_index=True)\n",
      "\r",
      "[Succeeded / Failed / Skipped / Total] 29 / 12 / 2 / 43:   9%|██                      | 43/500 [01:23<14:42,  1.93s/it]"
     ]
    },
    {
     "name": "stdout",
     "output_type": "stream",
     "text": [
      "--------------------------------------------- Result 43 ---------------------------------------------\n",
      "[[Desc (98%)]] --> [[[FAILED]]]\n",
      "\n",
      "What is hybridization ?\n",
      "\n",
      "\n"
     ]
    },
    {
     "name": "stderr",
     "output_type": "stream",
     "text": [
      "[Succeeded / Failed / Skipped / Total] 29 / 12 / 2 / 43:   9%|██                      | 44/500 [01:25<14:47,  1.95s/it]C:\\Users\\DELL\\anaconda3\\envs\\ta\\lib\\site-packages\\textattack\\loggers\\csv_logger.py:41: FutureWarning: The frame.append method is deprecated and will be removed from pandas in a future version. Use pandas.concat instead.\n",
      "  self.df = self.df.append(row, ignore_index=True)\n",
      "[Succeeded / Failed / Skipped / Total] 30 / 12 / 2 / 44:   9%|██                      | 44/500 [01:25<14:47,  1.95s/it]"
     ]
    },
    {
     "name": "stdout",
     "output_type": "stream",
     "text": [
      "--------------------------------------------- Result 44 ---------------------------------------------\n",
      "[[Num (99%)]] --> [[Desc (98%)]]\n",
      "\n",
      "How [[fast]] is alcohol absorbed ?\n",
      "\n",
      "How [[expedite]] is alcohol absorbed ?\n",
      "\n",
      "\n"
     ]
    },
    {
     "name": "stderr",
     "output_type": "stream",
     "text": [
      "C:\\Users\\DELL\\anaconda3\\envs\\ta\\lib\\site-packages\\textattack\\loggers\\csv_logger.py:41: FutureWarning: The frame.append method is deprecated and will be removed from pandas in a future version. Use pandas.concat instead.\n",
      "  self.df = self.df.append(row, ignore_index=True)\n",
      "\r",
      "[Succeeded / Failed / Skipped / Total] 30 / 13 / 2 / 45:   9%|██▏                     | 45/500 [01:28<14:53,  1.96s/it]"
     ]
    },
    {
     "name": "stdout",
     "output_type": "stream",
     "text": [
      "--------------------------------------------- Result 45 ---------------------------------------------\n",
      "[[Hum (99%)]] --> [[[FAILED]]]\n",
      "\n",
      "Who was the first American to walk in space ?\n",
      "\n",
      "\n"
     ]
    },
    {
     "name": "stderr",
     "output_type": "stream",
     "text": [
      "[Succeeded / Failed / Skipped / Total] 30 / 13 / 2 / 45:   9%|██▏                     | 46/500 [01:29<14:38,  1.94s/it]C:\\Users\\DELL\\anaconda3\\envs\\ta\\lib\\site-packages\\textattack\\loggers\\csv_logger.py:41: FutureWarning: The frame.append method is deprecated and will be removed from pandas in a future version. Use pandas.concat instead.\n",
      "  self.df = self.df.append(row, ignore_index=True)\n",
      "[Succeeded / Failed / Skipped / Total] 30 / 14 / 2 / 46:   9%|██▏                     | 46/500 [01:29<14:38,  1.94s/it]"
     ]
    },
    {
     "name": "stdout",
     "output_type": "stream",
     "text": [
      "--------------------------------------------- Result 46 ---------------------------------------------\n",
      "[[Desc (98%)]] --> [[[FAILED]]]\n",
      "\n",
      "What are pediatricians ?\n",
      "\n",
      "\n"
     ]
    },
    {
     "name": "stderr",
     "output_type": "stream",
     "text": [
      "C:\\Users\\DELL\\anaconda3\\envs\\ta\\lib\\site-packages\\textattack\\loggers\\csv_logger.py:41: FutureWarning: The frame.append method is deprecated and will be removed from pandas in a future version. Use pandas.concat instead.\n",
      "  self.df = self.df.append(row, ignore_index=True)\n",
      "\r",
      "[Succeeded / Failed / Skipped / Total] 31 / 14 / 2 / 47:   9%|██▎                     | 47/500 [01:30<14:32,  1.93s/it]"
     ]
    },
    {
     "name": "stdout",
     "output_type": "stream",
     "text": [
      "--------------------------------------------- Result 47 ---------------------------------------------\n",
      "[[Num (99%)]] --> [[Desc (98%)]]\n",
      "\n",
      "What is the sales tax [[rate]] in New York ?\n",
      "\n",
      "What is the sales tax [[rhythm]] in New York ?\n",
      "\n",
      "\n"
     ]
    },
    {
     "name": "stderr",
     "output_type": "stream",
     "text": [
      "[Succeeded / Failed / Skipped / Total] 31 / 14 / 2 / 47:  10%|██▎                     | 48/500 [01:32<14:28,  1.92s/it]C:\\Users\\DELL\\anaconda3\\envs\\ta\\lib\\site-packages\\textattack\\loggers\\csv_logger.py:41: FutureWarning: The frame.append method is deprecated and will be removed from pandas in a future version. Use pandas.concat instead.\n",
      "  self.df = self.df.append(row, ignore_index=True)\n",
      "[Succeeded / Failed / Skipped / Total] 32 / 14 / 2 / 48:  10%|██▎                     | 48/500 [01:32<14:28,  1.92s/it]"
     ]
    },
    {
     "name": "stdout",
     "output_type": "stream",
     "text": [
      "--------------------------------------------- Result 48 ---------------------------------------------\n",
      "[[Enty (55%)]] --> [[Num (98%)]]\n",
      "\n",
      "What is the money they [[use]] in Zambia ?\n",
      "\n",
      "What is the money they [[operate]] in Zambia ?\n",
      "\n",
      "\n"
     ]
    },
    {
     "name": "stderr",
     "output_type": "stream",
     "text": [
      "C:\\Users\\DELL\\anaconda3\\envs\\ta\\lib\\site-packages\\textattack\\loggers\\csv_logger.py:41: FutureWarning: The frame.append method is deprecated and will be removed from pandas in a future version. Use pandas.concat instead.\n",
      "  self.df = self.df.append(row, ignore_index=True)\n",
      "\r",
      "[Succeeded / Failed / Skipped / Total] 32 / 15 / 2 / 49:  10%|██▎                     | 49/500 [01:33<14:23,  1.91s/it]"
     ]
    },
    {
     "name": "stdout",
     "output_type": "stream",
     "text": [
      "--------------------------------------------- Result 49 ---------------------------------------------\n",
      "[[Desc (98%)]] --> [[[FAILED]]]\n",
      "\n",
      "What is acetic acid ?\n",
      "\n",
      "\n"
     ]
    },
    {
     "name": "stderr",
     "output_type": "stream",
     "text": [
      "[Succeeded / Failed / Skipped / Total] 32 / 15 / 2 / 49:  10%|██▍                     | 50/500 [01:34<14:09,  1.89s/it]C:\\Users\\DELL\\anaconda3\\envs\\ta\\lib\\site-packages\\textattack\\loggers\\csv_logger.py:41: FutureWarning: The frame.append method is deprecated and will be removed from pandas in a future version. Use pandas.concat instead.\n",
      "  self.df = self.df.append(row, ignore_index=True)\n",
      "[Succeeded / Failed / Skipped / Total] 33 / 15 / 2 / 50:  10%|██▍                     | 50/500 [01:34<14:09,  1.89s/it]"
     ]
    },
    {
     "name": "stdout",
     "output_type": "stream",
     "text": [
      "--------------------------------------------- Result 50 ---------------------------------------------\n",
      "[[Num (99%)]] --> [[Loc (99%)]]\n",
      "\n",
      "[[When]] was Lyndon B. Johnson born ?\n",
      "\n",
      "[[Where]] was Lyndon B. Johnson born ?\n",
      "\n",
      "\n"
     ]
    },
    {
     "name": "stderr",
     "output_type": "stream",
     "text": [
      "C:\\Users\\DELL\\anaconda3\\envs\\ta\\lib\\site-packages\\textattack\\loggers\\csv_logger.py:41: FutureWarning: The frame.append method is deprecated and will be removed from pandas in a future version. Use pandas.concat instead.\n",
      "  self.df = self.df.append(row, ignore_index=True)\n",
      "\r",
      "[Succeeded / Failed / Skipped / Total] 34 / 15 / 2 / 51:  10%|██▍                     | 51/500 [01:37<14:20,  1.92s/it]"
     ]
    },
    {
     "name": "stdout",
     "output_type": "stream",
     "text": [
      "--------------------------------------------- Result 51 ---------------------------------------------\n",
      "[[Enty (99%)]] --> [[Hum (98%)]]\n",
      "\n",
      "In what [[spacecraft]] [[did]] U.S. astronaut Alan Shepard make his historic 1961 flight ?\n",
      "\n",
      "In what [[astronaut]] [[fi]] U.S. astronaut Alan Shepard make his historic 1961 flight ?\n",
      "\n",
      "\n"
     ]
    },
    {
     "name": "stderr",
     "output_type": "stream",
     "text": [
      "[Succeeded / Failed / Skipped / Total] 34 / 15 / 2 / 51:  10%|██▍                     | 52/500 [01:39<14:19,  1.92s/it]C:\\Users\\DELL\\anaconda3\\envs\\ta\\lib\\site-packages\\textattack\\loggers\\csv_logger.py:41: FutureWarning: The frame.append method is deprecated and will be removed from pandas in a future version. Use pandas.concat instead.\n",
      "  self.df = self.df.append(row, ignore_index=True)\n",
      "[Succeeded / Failed / Skipped / Total] 35 / 15 / 2 / 52:  10%|██▍                     | 52/500 [01:39<14:19,  1.92s/it]"
     ]
    },
    {
     "name": "stdout",
     "output_type": "stream",
     "text": [
      "--------------------------------------------- Result 52 ---------------------------------------------\n",
      "[[Num (92%)]] --> [[Desc (92%)]]\n",
      "\n",
      "How [[cold]] should a refrigerator be ?\n",
      "\n",
      "How [[nippy]] should a refrigerator be ?\n",
      "\n",
      "\n"
     ]
    },
    {
     "name": "stderr",
     "output_type": "stream",
     "text": [
      "C:\\Users\\DELL\\anaconda3\\envs\\ta\\lib\\site-packages\\textattack\\loggers\\csv_logger.py:41: FutureWarning: The frame.append method is deprecated and will be removed from pandas in a future version. Use pandas.concat instead.\n",
      "  self.df = self.df.append(row, ignore_index=True)\n",
      "\r",
      "[Succeeded / Failed / Skipped / Total] 36 / 15 / 2 / 53:  11%|██▌                     | 53/500 [01:41<14:15,  1.91s/it]"
     ]
    },
    {
     "name": "stdout",
     "output_type": "stream",
     "text": [
      "--------------------------------------------- Result 53 ---------------------------------------------\n",
      "[[Enty (99%)]] --> [[Num (99%)]]\n",
      "\n",
      "What is another astronomic [[term]] for the Northern Lights ?\n",
      "\n",
      "What is another astronomic [[length]] for the Northern Lights ?\n",
      "\n",
      "\n"
     ]
    },
    {
     "name": "stderr",
     "output_type": "stream",
     "text": [
      "[Succeeded / Failed / Skipped / Total] 36 / 15 / 2 / 53:  11%|██▌                     | 54/500 [01:43<14:15,  1.92s/it]C:\\Users\\DELL\\anaconda3\\envs\\ta\\lib\\site-packages\\textattack\\loggers\\csv_logger.py:41: FutureWarning: The frame.append method is deprecated and will be removed from pandas in a future version. Use pandas.concat instead.\n",
      "  self.df = self.df.append(row, ignore_index=True)\n",
      "[Succeeded / Failed / Skipped / Total] 37 / 15 / 2 / 54:  11%|██▌                     | 54/500 [01:43<14:15,  1.92s/it]"
     ]
    },
    {
     "name": "stdout",
     "output_type": "stream",
     "text": [
      "--------------------------------------------- Result 54 ---------------------------------------------\n",
      "[[Loc (99%)]] --> [[Num (99%)]]\n",
      "\n",
      "[[Where]] is the Shawnee National Forest ?\n",
      "\n",
      "[[When]] is the Shawnee National Forest ?\n",
      "\n",
      "\n"
     ]
    },
    {
     "name": "stderr",
     "output_type": "stream",
     "text": [
      "C:\\Users\\DELL\\anaconda3\\envs\\ta\\lib\\site-packages\\textattack\\loggers\\csv_logger.py:41: FutureWarning: The frame.append method is deprecated and will be removed from pandas in a future version. Use pandas.concat instead.\n",
      "  self.df = self.df.append(row, ignore_index=True)\n",
      "\r",
      "[Succeeded / Failed / Skipped / Total] 38 / 15 / 2 / 55:  11%|██▋                     | 55/500 [01:48<14:34,  1.97s/it]"
     ]
    },
    {
     "name": "stdout",
     "output_type": "stream",
     "text": [
      "--------------------------------------------- Result 55 ---------------------------------------------\n",
      "[[Num (99%)]] --> [[Desc (98%)]]\n",
      "\n",
      "[[How]] [[much]] of an apple is water ?\n",
      "\n",
      "[[Why]] [[sizeable]] of an apple is water ?\n",
      "\n",
      "\n"
     ]
    },
    {
     "name": "stderr",
     "output_type": "stream",
     "text": [
      "[Succeeded / Failed / Skipped / Total] 38 / 15 / 2 / 55:  11%|██▋                     | 56/500 [01:50<14:38,  1.98s/it]C:\\Users\\DELL\\anaconda3\\envs\\ta\\lib\\site-packages\\textattack\\loggers\\csv_logger.py:41: FutureWarning: The frame.append method is deprecated and will be removed from pandas in a future version. Use pandas.concat instead.\n",
      "  self.df = self.df.append(row, ignore_index=True)\n",
      "[Succeeded / Failed / Skipped / Total] 38 / 16 / 2 / 56:  11%|██▋                     | 56/500 [01:50<14:38,  1.98s/it]"
     ]
    },
    {
     "name": "stdout",
     "output_type": "stream",
     "text": [
      "--------------------------------------------- Result 56 ---------------------------------------------\n",
      "[[Desc (98%)]] --> [[[FAILED]]]\n",
      "\n",
      "What is strep throat ?\n",
      "\n",
      "\n"
     ]
    },
    {
     "name": "stderr",
     "output_type": "stream",
     "text": [
      "C:\\Users\\DELL\\anaconda3\\envs\\ta\\lib\\site-packages\\textattack\\loggers\\csv_logger.py:41: FutureWarning: The frame.append method is deprecated and will be removed from pandas in a future version. Use pandas.concat instead.\n",
      "  self.df = self.df.append(row, ignore_index=True)\n",
      "\r",
      "[Succeeded / Failed / Skipped / Total] 38 / 17 / 2 / 57:  11%|██▋                     | 57/500 [01:51<14:26,  1.96s/it]"
     ]
    },
    {
     "name": "stdout",
     "output_type": "stream",
     "text": [
      "--------------------------------------------- Result 57 ---------------------------------------------\n",
      "[[Desc (98%)]] --> [[[FAILED]]]\n",
      "\n",
      "What is poliomyelitis ?\n",
      "\n",
      "\n"
     ]
    },
    {
     "name": "stderr",
     "output_type": "stream",
     "text": [
      "[Succeeded / Failed / Skipped / Total] 38 / 17 / 2 / 57:  12%|██▊                     | 58/500 [01:53<14:21,  1.95s/it]C:\\Users\\DELL\\anaconda3\\envs\\ta\\lib\\site-packages\\textattack\\loggers\\csv_logger.py:41: FutureWarning: The frame.append method is deprecated and will be removed from pandas in a future version. Use pandas.concat instead.\n",
      "  self.df = self.df.append(row, ignore_index=True)\n",
      "[Succeeded / Failed / Skipped / Total] 39 / 17 / 2 / 58:  12%|██▊                     | 58/500 [01:53<14:21,  1.95s/it]"
     ]
    },
    {
     "name": "stdout",
     "output_type": "stream",
     "text": [
      "--------------------------------------------- Result 58 ---------------------------------------------\n",
      "[[Num (99%)]] --> [[Desc (98%)]]\n",
      "\n",
      "What is the [[temperature]] at the center of the earth ?\n",
      "\n",
      "What is the [[weatherman]] at the center of the earth ?\n",
      "\n",
      "\n"
     ]
    },
    {
     "name": "stderr",
     "output_type": "stream",
     "text": [
      "C:\\Users\\DELL\\anaconda3\\envs\\ta\\lib\\site-packages\\textattack\\loggers\\csv_logger.py:41: FutureWarning: The frame.append method is deprecated and will be removed from pandas in a future version. Use pandas.concat instead.\n",
      "  self.df = self.df.append(row, ignore_index=True)\n",
      "\r",
      "[Succeeded / Failed / Skipped / Total] 40 / 17 / 2 / 59:  12%|██▊                     | 59/500 [01:55<14:21,  1.95s/it]"
     ]
    },
    {
     "name": "stdout",
     "output_type": "stream",
     "text": [
      "--------------------------------------------- Result 59 ---------------------------------------------\n",
      "[[Loc (99%)]] --> [[Num (99%)]]\n",
      "\n",
      "[[Where]] is the Lourve ?\n",
      "\n",
      "[[When]] is the Lourve ?\n",
      "\n",
      "\n"
     ]
    },
    {
     "name": "stderr",
     "output_type": "stream",
     "text": [
      "[Succeeded / Failed / Skipped / Total] 40 / 17 / 2 / 59:  12%|██▉                     | 60/500 [01:58<14:30,  1.98s/it]C:\\Users\\DELL\\anaconda3\\envs\\ta\\lib\\site-packages\\textattack\\loggers\\csv_logger.py:41: FutureWarning: The frame.append method is deprecated and will be removed from pandas in a future version. Use pandas.concat instead.\n",
      "  self.df = self.df.append(row, ignore_index=True)\n",
      "[Succeeded / Failed / Skipped / Total] 41 / 17 / 2 / 60:  12%|██▉                     | 60/500 [01:58<14:30,  1.98s/it]"
     ]
    },
    {
     "name": "stdout",
     "output_type": "stream",
     "text": [
      "--------------------------------------------- Result 60 ---------------------------------------------\n",
      "[[Enty (99%)]] --> [[Desc (98%)]]\n",
      "\n",
      "What is the [[longest]] [[bone]] in the human body ?\n",
      "\n",
      "What is the [[high]] [[femur]] in the human body ?\n",
      "\n",
      "\n"
     ]
    },
    {
     "name": "stderr",
     "output_type": "stream",
     "text": [
      "C:\\Users\\DELL\\anaconda3\\envs\\ta\\lib\\site-packages\\textattack\\loggers\\csv_logger.py:41: FutureWarning: The frame.append method is deprecated and will be removed from pandas in a future version. Use pandas.concat instead.\n",
      "  self.df = self.df.append(row, ignore_index=True)\n",
      "\r",
      "[Succeeded / Failed / Skipped / Total] 42 / 17 / 2 / 61:  12%|██▉                     | 61/500 [01:59<14:21,  1.96s/it]"
     ]
    },
    {
     "name": "stdout",
     "output_type": "stream",
     "text": [
      "--------------------------------------------- Result 61 ---------------------------------------------\n",
      "[[Loc (99%)]] --> [[Num (99%)]]\n",
      "\n",
      "What [[state]] has the least amount of rain per year ?\n",
      "\n",
      "What [[stat]] has the least amount of rain per year ?\n",
      "\n",
      "\n"
     ]
    },
    {
     "name": "stderr",
     "output_type": "stream",
     "text": [
      "[Succeeded / Failed / Skipped / Total] 42 / 17 / 2 / 61:  12%|██▉                     | 62/500 [02:00<14:13,  1.95s/it]C:\\Users\\DELL\\anaconda3\\envs\\ta\\lib\\site-packages\\textattack\\loggers\\csv_logger.py:41: FutureWarning: The frame.append method is deprecated and will be removed from pandas in a future version. Use pandas.concat instead.\n",
      "  self.df = self.df.append(row, ignore_index=True)\n",
      "[Succeeded / Failed / Skipped / Total] 42 / 18 / 2 / 62:  12%|██▉                     | 62/500 [02:00<14:14,  1.95s/it]"
     ]
    },
    {
     "name": "stdout",
     "output_type": "stream",
     "text": [
      "--------------------------------------------- Result 62 ---------------------------------------------\n",
      "[[Desc (98%)]] --> [[[FAILED]]]\n",
      "\n",
      "What is neurology ?\n",
      "\n",
      "\n"
     ]
    },
    {
     "name": "stderr",
     "output_type": "stream",
     "text": [
      "C:\\Users\\DELL\\anaconda3\\envs\\ta\\lib\\site-packages\\textattack\\loggers\\csv_logger.py:41: FutureWarning: The frame.append method is deprecated and will be removed from pandas in a future version. Use pandas.concat instead.\n",
      "  self.df = self.df.append(row, ignore_index=True)\n",
      "\r",
      "[Succeeded / Failed / Skipped / Total] 43 / 18 / 2 / 63:  13%|███                     | 63/500 [02:03<14:17,  1.96s/it]"
     ]
    },
    {
     "name": "stdout",
     "output_type": "stream",
     "text": [
      "--------------------------------------------- Result 63 ---------------------------------------------\n",
      "[[Enty (99%)]] --> [[Desc (97%)]]\n",
      "\n",
      "What is the statue of liberty [[made]] of ?\n",
      "\n",
      "What is the statue of liberty [[doing]] of ?\n",
      "\n",
      "\n"
     ]
    },
    {
     "name": "stderr",
     "output_type": "stream",
     "text": [
      "[Succeeded / Failed / Skipped / Total] 43 / 18 / 2 / 63:  13%|███                     | 64/500 [02:05<14:14,  1.96s/it]C:\\Users\\DELL\\anaconda3\\envs\\ta\\lib\\site-packages\\textattack\\loggers\\csv_logger.py:41: FutureWarning: The frame.append method is deprecated and will be removed from pandas in a future version. Use pandas.concat instead.\n",
      "  self.df = self.df.append(row, ignore_index=True)\n",
      "[Succeeded / Failed / Skipped / Total] 44 / 18 / 2 / 64:  13%|███                     | 64/500 [02:05<14:14,  1.96s/it]"
     ]
    },
    {
     "name": "stdout",
     "output_type": "stream",
     "text": [
      "--------------------------------------------- Result 64 ---------------------------------------------\n",
      "[[Hum (99%)]] --> [[Desc (98%)]]\n",
      "\n",
      "What was W.C. Fields ' real [[name]] ?\n",
      "\n",
      "What was W.C. Fields ' real [[numerals]] ?\n",
      "\n",
      "\n"
     ]
    },
    {
     "name": "stderr",
     "output_type": "stream",
     "text": [
      "C:\\Users\\DELL\\anaconda3\\envs\\ta\\lib\\site-packages\\textattack\\loggers\\csv_logger.py:41: FutureWarning: The frame.append method is deprecated and will be removed from pandas in a future version. Use pandas.concat instead.\n",
      "  self.df = self.df.append(row, ignore_index=True)\n",
      "\r",
      "[Succeeded / Failed / Skipped / Total] 44 / 19 / 2 / 65:  13%|███                     | 65/500 [02:07<14:10,  1.95s/it]"
     ]
    },
    {
     "name": "stdout",
     "output_type": "stream",
     "text": [
      "--------------------------------------------- Result 65 ---------------------------------------------\n",
      "[[Desc (98%)]] --> [[[FAILED]]]\n",
      "\n",
      "What is solar wind ?\n",
      "\n",
      "\n"
     ]
    },
    {
     "name": "stderr",
     "output_type": "stream",
     "text": [
      "[Succeeded / Failed / Skipped / Total] 44 / 19 / 2 / 65:  13%|███▏                    | 66/500 [02:09<14:09,  1.96s/it]C:\\Users\\DELL\\anaconda3\\envs\\ta\\lib\\site-packages\\textattack\\loggers\\csv_logger.py:41: FutureWarning: The frame.append method is deprecated and will be removed from pandas in a future version. Use pandas.concat instead.\n",
      "  self.df = self.df.append(row, ignore_index=True)\n",
      "[Succeeded / Failed / Skipped / Total] 45 / 19 / 2 / 66:  13%|███▏                    | 66/500 [02:09<14:09,  1.96s/it]"
     ]
    },
    {
     "name": "stdout",
     "output_type": "stream",
     "text": [
      "--------------------------------------------- Result 66 ---------------------------------------------\n",
      "[[Hum (99%)]] --> [[Loc (99%)]]\n",
      "\n",
      "What [[position]] did Willie Davis play in baseball ?\n",
      "\n",
      "What [[vista]] did Willie Davis play in baseball ?\n",
      "\n",
      "\n"
     ]
    },
    {
     "name": "stderr",
     "output_type": "stream",
     "text": [
      "C:\\Users\\DELL\\anaconda3\\envs\\ta\\lib\\site-packages\\textattack\\loggers\\csv_logger.py:41: FutureWarning: The frame.append method is deprecated and will be removed from pandas in a future version. Use pandas.concat instead.\n",
      "  self.df = self.df.append(row, ignore_index=True)\n",
      "\r",
      "[Succeeded / Failed / Skipped / Total] 45 / 20 / 2 / 67:  13%|███▏                    | 67/500 [02:18<14:57,  2.07s/it]"
     ]
    },
    {
     "name": "stdout",
     "output_type": "stream",
     "text": [
      "--------------------------------------------- Result 67 ---------------------------------------------\n",
      "[[Hum (99%)]] --> [[[FAILED]]]\n",
      "\n",
      "Who was the abolitionist who led the raid on Harper 's Ferry in 1859 ?\n",
      "\n",
      "\n"
     ]
    },
    {
     "name": "stderr",
     "output_type": "stream",
     "text": [
      "[Succeeded / Failed / Skipped / Total] 45 / 20 / 2 / 67:  14%|███▎                    | 68/500 [02:24<15:15,  2.12s/it]C:\\Users\\DELL\\anaconda3\\envs\\ta\\lib\\site-packages\\textattack\\loggers\\csv_logger.py:41: FutureWarning: The frame.append method is deprecated and will be removed from pandas in a future version. Use pandas.concat instead.\n",
      "  self.df = self.df.append(row, ignore_index=True)\n",
      "[Succeeded / Failed / Skipped / Total] 45 / 21 / 2 / 68:  14%|███▎                    | 68/500 [02:24<15:15,  2.12s/it]"
     ]
    },
    {
     "name": "stdout",
     "output_type": "stream",
     "text": [
      "--------------------------------------------- Result 68 ---------------------------------------------\n",
      "[[Hum (99%)]] --> [[[FAILED]]]\n",
      "\n",
      "Who was the first woman governor in the U.S. ?\n",
      "\n",
      "\n"
     ]
    },
    {
     "name": "stderr",
     "output_type": "stream",
     "text": [
      "[Succeeded / Failed / Skipped / Total] 45 / 21 / 2 / 68:  14%|███▎                    | 69/500 [02:26<15:13,  2.12s/it]C:\\Users\\DELL\\anaconda3\\envs\\ta\\lib\\site-packages\\textattack\\loggers\\csv_logger.py:41: FutureWarning: The frame.append method is deprecated and will be removed from pandas in a future version. Use pandas.concat instead.\n",
      "  self.df = self.df.append(row, ignore_index=True)\n",
      "[Succeeded / Failed / Skipped / Total] 45 / 22 / 2 / 69:  14%|███▎                    | 69/500 [02:26<15:13,  2.12s/it]"
     ]
    },
    {
     "name": "stdout",
     "output_type": "stream",
     "text": [
      "--------------------------------------------- Result 69 ---------------------------------------------\n",
      "[[Desc (98%)]] --> [[[FAILED]]]\n",
      "\n",
      "What are solar cells ?\n",
      "\n",
      "\n"
     ]
    },
    {
     "name": "stderr",
     "output_type": "stream",
     "text": [
      "[Succeeded / Failed / Skipped / Total] 45 / 22 / 2 / 69:  14%|███▎                    | 70/500 [02:26<15:02,  2.10s/it]C:\\Users\\DELL\\anaconda3\\envs\\ta\\lib\\site-packages\\textattack\\loggers\\csv_logger.py:41: FutureWarning: The frame.append method is deprecated and will be removed from pandas in a future version. Use pandas.concat instead.\n",
      "  self.df = self.df.append(row, ignore_index=True)\n",
      "[Succeeded / Failed / Skipped / Total] 46 / 22 / 2 / 70:  14%|███▎                    | 70/500 [02:26<15:02,  2.10s/it]"
     ]
    },
    {
     "name": "stdout",
     "output_type": "stream",
     "text": [
      "--------------------------------------------- Result 70 ---------------------------------------------\n",
      "[[Num (99%)]] --> [[Loc (99%)]]\n",
      "\n",
      "[[When]] was the telephone invented ?\n",
      "\n",
      "[[Where]] was the telephone invented ?\n",
      "\n",
      "\n"
     ]
    },
    {
     "name": "stderr",
     "output_type": "stream",
     "text": [
      "[Succeeded / Failed / Skipped / Total] 46 / 22 / 2 / 70:  14%|███▍                    | 71/500 [02:28<14:59,  2.10s/it]C:\\Users\\DELL\\anaconda3\\envs\\ta\\lib\\site-packages\\textattack\\loggers\\csv_logger.py:41: FutureWarning: The frame.append method is deprecated and will be removed from pandas in a future version. Use pandas.concat instead.\n",
      "  self.df = self.df.append(row, ignore_index=True)\n",
      "[Succeeded / Failed / Skipped / Total] 47 / 22 / 2 / 71:  14%|███▍                    | 71/500 [02:28<14:59,  2.10s/it]C:\\Users\\DELL\\anaconda3\\envs\\ta\\lib\\site-packages\\textattack\\loggers\\csv_logger.py:41: FutureWarning: The frame.append method is deprecated and will be removed from pandas in a future version. Use pandas.concat instead.\n",
      "  self.df = self.df.append(row, ignore_index=True)\n",
      "[Succeeded / Failed / Skipped / Total] 47 / 22 / 3 / 72:  14%|███▍                    | 72/500 [02:28<14:45,  2.07s/it]"
     ]
    },
    {
     "name": "stdout",
     "output_type": "stream",
     "text": [
      "--------------------------------------------- Result 71 ---------------------------------------------\n",
      "[[Enty (99%)]] --> [[Num (99%)]]\n",
      "\n",
      "What is another [[name]] for vitamin B1 ?\n",
      "\n",
      "What is another [[numbers]] for vitamin B1 ?\n",
      "\n",
      "\n",
      "--------------------------------------------- Result 72 ---------------------------------------------\n",
      "[[Loc (87%)]] --> [[[SKIPPED]]]\n",
      "\n",
      "What is the major fault line near Kentucky ?\n",
      "\n",
      "\n"
     ]
    },
    {
     "name": "stderr",
     "output_type": "stream",
     "text": [
      "[Succeeded / Failed / Skipped / Total] 47 / 22 / 3 / 72:  15%|███▌                    | 73/500 [02:31<14:44,  2.07s/it]C:\\Users\\DELL\\anaconda3\\envs\\ta\\lib\\site-packages\\textattack\\loggers\\csv_logger.py:41: FutureWarning: The frame.append method is deprecated and will be removed from pandas in a future version. Use pandas.concat instead.\n",
      "  self.df = self.df.append(row, ignore_index=True)\n",
      "[Succeeded / Failed / Skipped / Total] 48 / 22 / 3 / 73:  15%|███▌                    | 73/500 [02:31<14:44,  2.07s/it]"
     ]
    },
    {
     "name": "stdout",
     "output_type": "stream",
     "text": [
      "--------------------------------------------- Result 73 ---------------------------------------------\n",
      "[[Loc (99%)]] --> [[Num (99%)]]\n",
      "\n",
      "[[Where]] is the Savannah River ?\n",
      "\n",
      "[[When]] is the Savannah River ?\n",
      "\n",
      "\n"
     ]
    },
    {
     "name": "stderr",
     "output_type": "stream",
     "text": [
      "C:\\Users\\DELL\\anaconda3\\envs\\ta\\lib\\site-packages\\textattack\\loggers\\csv_logger.py:41: FutureWarning: The frame.append method is deprecated and will be removed from pandas in a future version. Use pandas.concat instead.\n",
      "  self.df = self.df.append(row, ignore_index=True)\n",
      "\r",
      "[Succeeded / Failed / Skipped / Total] 49 / 22 / 3 / 74:  15%|███▌                    | 74/500 [02:32<14:38,  2.06s/it]"
     ]
    },
    {
     "name": "stdout",
     "output_type": "stream",
     "text": [
      "--------------------------------------------- Result 74 ---------------------------------------------\n",
      "[[Loc (99%)]] --> [[Enty (99%)]]\n",
      "\n",
      "What [[city]] 's newspaper is called `` The Star '' ?\n",
      "\n",
      "What [[shing]] 's newspaper is called `` The Star '' ?\n",
      "\n",
      "\n"
     ]
    },
    {
     "name": "stderr",
     "output_type": "stream",
     "text": [
      "[Succeeded / Failed / Skipped / Total] 49 / 22 / 3 / 74:  15%|███▌                    | 75/500 [02:34<14:35,  2.06s/it]C:\\Users\\DELL\\anaconda3\\envs\\ta\\lib\\site-packages\\textattack\\loggers\\csv_logger.py:41: FutureWarning: The frame.append method is deprecated and will be removed from pandas in a future version. Use pandas.concat instead.\n",
      "  self.df = self.df.append(row, ignore_index=True)\n",
      "[Succeeded / Failed / Skipped / Total] 50 / 22 / 3 / 75:  15%|███▌                    | 75/500 [02:34<14:35,  2.06s/it]"
     ]
    },
    {
     "name": "stdout",
     "output_type": "stream",
     "text": [
      "--------------------------------------------- Result 75 ---------------------------------------------\n",
      "[[Loc (99%)]] --> [[Enty (99%)]]\n",
      "\n",
      "What [[planet]] has the strongest magnetic field of all the planets ?\n",
      "\n",
      "What [[mondo]] has the strongest magnetic field of all the planets ?\n",
      "\n",
      "\n"
     ]
    },
    {
     "name": "stderr",
     "output_type": "stream",
     "text": [
      "C:\\Users\\DELL\\anaconda3\\envs\\ta\\lib\\site-packages\\textattack\\loggers\\csv_logger.py:41: FutureWarning: The frame.append method is deprecated and will be removed from pandas in a future version. Use pandas.concat instead.\n",
      "  self.df = self.df.append(row, ignore_index=True)\n",
      "\r",
      "[Succeeded / Failed / Skipped / Total] 51 / 22 / 3 / 76:  15%|███▋                    | 76/500 [02:36<14:31,  2.06s/it]"
     ]
    },
    {
     "name": "stdout",
     "output_type": "stream",
     "text": [
      "--------------------------------------------- Result 76 ---------------------------------------------\n",
      "[[Desc (92%)]] --> [[Num (96%)]]\n",
      "\n",
      "What is [[severance]] pay ?\n",
      "\n",
      "What is [[cessation]] pay ?\n",
      "\n",
      "\n"
     ]
    },
    {
     "name": "stderr",
     "output_type": "stream",
     "text": [
      "[Succeeded / Failed / Skipped / Total] 51 / 22 / 3 / 76:  15%|███▋                    | 77/500 [02:38<14:32,  2.06s/it]C:\\Users\\DELL\\anaconda3\\envs\\ta\\lib\\site-packages\\textattack\\loggers\\csv_logger.py:41: FutureWarning: The frame.append method is deprecated and will be removed from pandas in a future version. Use pandas.concat instead.\n",
      "  self.df = self.df.append(row, ignore_index=True)\n",
      "[Succeeded / Failed / Skipped / Total] 52 / 22 / 3 / 77:  15%|███▋                    | 77/500 [02:38<14:32,  2.06s/it]"
     ]
    },
    {
     "name": "stdout",
     "output_type": "stream",
     "text": [
      "--------------------------------------------- Result 77 ---------------------------------------------\n",
      "[[Enty (99%)]] --> [[Hum (96%)]]\n",
      "\n",
      "What [[breed]] of hunting dog did the Beverly Hillbillies own ?\n",
      "\n",
      "What [[breeder]] of hunting dog did the Beverly Hillbillies own ?\n",
      "\n",
      "\n"
     ]
    },
    {
     "name": "stderr",
     "output_type": "stream",
     "text": [
      "C:\\Users\\DELL\\anaconda3\\envs\\ta\\lib\\site-packages\\textattack\\loggers\\csv_logger.py:41: FutureWarning: The frame.append method is deprecated and will be removed from pandas in a future version. Use pandas.concat instead.\n",
      "  self.df = self.df.append(row, ignore_index=True)\n",
      "\r",
      "[Succeeded / Failed / Skipped / Total] 53 / 22 / 3 / 78:  16%|███▋                    | 78/500 [02:40<14:27,  2.05s/it]"
     ]
    },
    {
     "name": "stdout",
     "output_type": "stream",
     "text": [
      "--------------------------------------------- Result 78 ---------------------------------------------\n",
      "[[Num (99%)]] --> [[Loc (99%)]]\n",
      "\n",
      "What is the [[population]] of China ?\n",
      "\n",
      "What is the [[pueblo]] of China ?\n",
      "\n",
      "\n"
     ]
    },
    {
     "name": "stderr",
     "output_type": "stream",
     "text": [
      "[Succeeded / Failed / Skipped / Total] 53 / 22 / 3 / 78:  16%|███▊                    | 79/500 [02:40<14:16,  2.03s/it]C:\\Users\\DELL\\anaconda3\\envs\\ta\\lib\\site-packages\\textattack\\loggers\\csv_logger.py:41: FutureWarning: The frame.append method is deprecated and will be removed from pandas in a future version. Use pandas.concat instead.\n",
      "  self.df = self.df.append(row, ignore_index=True)\n",
      "[Succeeded / Failed / Skipped / Total] 53 / 23 / 3 / 79:  16%|███▊                    | 79/500 [02:40<14:16,  2.03s/it]"
     ]
    },
    {
     "name": "stdout",
     "output_type": "stream",
     "text": [
      "--------------------------------------------- Result 79 ---------------------------------------------\n",
      "[[Desc (98%)]] --> [[[FAILED]]]\n",
      "\n",
      "What are semiconductors ?\n",
      "\n",
      "\n"
     ]
    },
    {
     "name": "stderr",
     "output_type": "stream",
     "text": [
      "C:\\Users\\DELL\\anaconda3\\envs\\ta\\lib\\site-packages\\textattack\\loggers\\csv_logger.py:41: FutureWarning: The frame.append method is deprecated and will be removed from pandas in a future version. Use pandas.concat instead.\n",
      "  self.df = self.df.append(row, ignore_index=True)\n",
      "\r",
      "[Succeeded / Failed / Skipped / Total] 54 / 23 / 3 / 80:  16%|███▊                    | 80/500 [02:42<14:10,  2.03s/it]"
     ]
    },
    {
     "name": "stdout",
     "output_type": "stream",
     "text": [
      "--------------------------------------------- Result 80 ---------------------------------------------\n",
      "[[Loc (99%)]] --> [[Enty (99%)]]\n",
      "\n",
      "What [[body]] of water are the Canary Islands in ?\n",
      "\n",
      "What [[organism]] of water are the Canary Islands in ?\n",
      "\n",
      "\n"
     ]
    },
    {
     "name": "stderr",
     "output_type": "stream",
     "text": [
      "[Succeeded / Failed / Skipped / Total] 54 / 23 / 3 / 80:  16%|███▉                    | 81/500 [02:43<14:04,  2.02s/it]C:\\Users\\DELL\\anaconda3\\envs\\ta\\lib\\site-packages\\textattack\\loggers\\csv_logger.py:41: FutureWarning: The frame.append method is deprecated and will be removed from pandas in a future version. Use pandas.concat instead.\n",
      "  self.df = self.df.append(row, ignore_index=True)\n",
      "[Succeeded / Failed / Skipped / Total] 55 / 23 / 3 / 81:  16%|███▉                    | 81/500 [02:43<14:04,  2.02s/it]C:\\Users\\DELL\\anaconda3\\envs\\ta\\lib\\site-packages\\textattack\\loggers\\csv_logger.py:41: FutureWarning: The frame.append method is deprecated and will be removed from pandas in a future version. Use pandas.concat instead.\n",
      "  self.df = self.df.append(row, ignore_index=True)\n",
      "[Succeeded / Failed / Skipped / Total] 55 / 23 / 4 / 82:  16%|███▉                    | 82/500 [02:43<13:52,  1.99s/it]"
     ]
    },
    {
     "name": "stdout",
     "output_type": "stream",
     "text": [
      "--------------------------------------------- Result 81 ---------------------------------------------\n",
      "[[Desc (97%)]] --> [[Num (99%)]]\n",
      "\n",
      "What does the word fortnight [[mean]] ?\n",
      "\n",
      "What does the word fortnight [[average]] ?\n",
      "\n",
      "\n",
      "--------------------------------------------- Result 82 ---------------------------------------------\n",
      "[[Loc (98%)]] --> [[[SKIPPED]]]\n",
      "\n",
      "What monastery was raided by Vikings in the late eighth century ?\n",
      "\n",
      "\n"
     ]
    },
    {
     "name": "stderr",
     "output_type": "stream",
     "text": [
      "[Succeeded / Failed / Skipped / Total] 55 / 23 / 4 / 82:  17%|███▉                    | 83/500 [02:44<13:48,  1.99s/it]C:\\Users\\DELL\\anaconda3\\envs\\ta\\lib\\site-packages\\textattack\\loggers\\csv_logger.py:41: FutureWarning: The frame.append method is deprecated and will be removed from pandas in a future version. Use pandas.concat instead.\n",
      "  self.df = self.df.append(row, ignore_index=True)\n",
      "[Succeeded / Failed / Skipped / Total] 56 / 23 / 4 / 83:  17%|███▉                    | 83/500 [02:44<13:48,  1.99s/it]"
     ]
    },
    {
     "name": "stdout",
     "output_type": "stream",
     "text": [
      "--------------------------------------------- Result 83 ---------------------------------------------\n",
      "[[Enty (99%)]] --> [[Hum (99%)]]\n",
      "\n",
      "What did Edward Binney and Howard Smith [[invent]] in 1903 ?\n",
      "\n",
      "What did Edward Binney and Howard Smith [[improvise]] in 1903 ?\n",
      "\n",
      "\n"
     ]
    },
    {
     "name": "stderr",
     "output_type": "stream",
     "text": [
      "C:\\Users\\DELL\\anaconda3\\envs\\ta\\lib\\site-packages\\textattack\\loggers\\csv_logger.py:41: FutureWarning: The frame.append method is deprecated and will be removed from pandas in a future version. Use pandas.concat instead.\n",
      "  self.df = self.df.append(row, ignore_index=True)\n",
      "\r",
      "[Succeeded / Failed / Skipped / Total] 57 / 23 / 4 / 84:  17%|████                    | 84/500 [02:45<13:40,  1.97s/it]"
     ]
    },
    {
     "name": "stdout",
     "output_type": "stream",
     "text": [
      "--------------------------------------------- Result 84 ---------------------------------------------\n",
      "[[Num (99%)]] --> [[Loc (99%)]]\n",
      "\n",
      "[[When]] was President Kennedy shot ?\n",
      "\n",
      "[[Where]] was President Kennedy shot ?\n",
      "\n",
      "\n"
     ]
    },
    {
     "name": "stderr",
     "output_type": "stream",
     "text": [
      "[Succeeded / Failed / Skipped / Total] 57 / 23 / 4 / 84:  17%|████                    | 85/500 [02:46<13:31,  1.95s/it]C:\\Users\\DELL\\anaconda3\\envs\\ta\\lib\\site-packages\\textattack\\loggers\\csv_logger.py:41: FutureWarning: The frame.append method is deprecated and will be removed from pandas in a future version. Use pandas.concat instead.\n",
      "  self.df = self.df.append(row, ignore_index=True)\n",
      "[Succeeded / Failed / Skipped / Total] 57 / 24 / 4 / 85:  17%|████                    | 85/500 [02:46<13:31,  1.95s/it]"
     ]
    },
    {
     "name": "stdout",
     "output_type": "stream",
     "text": [
      "--------------------------------------------- Result 85 ---------------------------------------------\n",
      "[[Desc (98%)]] --> [[[FAILED]]]\n",
      "\n",
      "What is a thermometer ?\n",
      "\n",
      "\n"
     ]
    },
    {
     "name": "stderr",
     "output_type": "stream",
     "text": [
      "C:\\Users\\DELL\\anaconda3\\envs\\ta\\lib\\site-packages\\textattack\\loggers\\csv_logger.py:41: FutureWarning: The frame.append method is deprecated and will be removed from pandas in a future version. Use pandas.concat instead.\n",
      "  self.df = self.df.append(row, ignore_index=True)\n",
      "\r",
      "[Succeeded / Failed / Skipped / Total] 58 / 24 / 4 / 86:  17%|████▏                   | 86/500 [02:46<13:21,  1.94s/it]"
     ]
    },
    {
     "name": "stdout",
     "output_type": "stream",
     "text": [
      "--------------------------------------------- Result 86 ---------------------------------------------\n",
      "[[Num (99%)]] --> [[Desc (98%)]]\n",
      "\n",
      "What is the earth 's [[diameter]] ?\n",
      "\n",
      "What is the earth 's [[boron]] ?\n",
      "\n",
      "\n"
     ]
    },
    {
     "name": "stderr",
     "output_type": "stream",
     "text": [
      "[Succeeded / Failed / Skipped / Total] 58 / 24 / 4 / 86:  17%|████▏                   | 87/500 [02:47<13:16,  1.93s/it]C:\\Users\\DELL\\anaconda3\\envs\\ta\\lib\\site-packages\\textattack\\loggers\\csv_logger.py:41: FutureWarning: The frame.append method is deprecated and will be removed from pandas in a future version. Use pandas.concat instead.\n",
      "  self.df = self.df.append(row, ignore_index=True)\n",
      "[Succeeded / Failed / Skipped / Total] 58 / 25 / 4 / 87:  17%|████▏                   | 87/500 [02:47<13:16,  1.93s/it]"
     ]
    },
    {
     "name": "stdout",
     "output_type": "stream",
     "text": [
      "--------------------------------------------- Result 87 ---------------------------------------------\n",
      "[[Desc (98%)]] --> [[[FAILED]]]\n",
      "\n",
      "What is mold ?\n",
      "\n",
      "\n"
     ]
    },
    {
     "name": "stderr",
     "output_type": "stream",
     "text": [
      "C:\\Users\\DELL\\anaconda3\\envs\\ta\\lib\\site-packages\\textattack\\loggers\\csv_logger.py:41: FutureWarning: The frame.append method is deprecated and will be removed from pandas in a future version. Use pandas.concat instead.\n",
      "  self.df = self.df.append(row, ignore_index=True)\n",
      "\r",
      "[Succeeded / Failed / Skipped / Total] 59 / 25 / 4 / 88:  18%|████▏                   | 88/500 [02:52<13:26,  1.96s/it]"
     ]
    },
    {
     "name": "stdout",
     "output_type": "stream",
     "text": [
      "--------------------------------------------- Result 88 ---------------------------------------------\n",
      "[[Desc (97%)]] --> [[Num (99%)]]\n",
      "\n",
      "What does `` [[Sitting]] [[Shiva]] '' [[mean]] ?\n",
      "\n",
      "What does `` [[Sta]] [[Shri]] '' [[averages]] ?\n",
      "\n",
      "\n"
     ]
    },
    {
     "name": "stderr",
     "output_type": "stream",
     "text": [
      "[Succeeded / Failed / Skipped / Total] 59 / 25 / 4 / 88:  18%|████▎                   | 89/500 [02:54<13:25,  1.96s/it]C:\\Users\\DELL\\anaconda3\\envs\\ta\\lib\\site-packages\\textattack\\loggers\\csv_logger.py:41: FutureWarning: The frame.append method is deprecated and will be removed from pandas in a future version. Use pandas.concat instead.\n",
      "  self.df = self.df.append(row, ignore_index=True)\n",
      "[Succeeded / Failed / Skipped / Total] 60 / 25 / 4 / 89:  18%|████▎                   | 89/500 [02:54<13:25,  1.96s/it]"
     ]
    },
    {
     "name": "stdout",
     "output_type": "stream",
     "text": [
      "--------------------------------------------- Result 89 ---------------------------------------------\n",
      "[[Desc (98%)]] --> [[Enty (52%)]]\n",
      "\n",
      "What is desktop [[publishing]] ?\n",
      "\n",
      "What is desktop [[released]] ?\n",
      "\n",
      "\n"
     ]
    },
    {
     "name": "stderr",
     "output_type": "stream",
     "text": [
      "C:\\Users\\DELL\\anaconda3\\envs\\ta\\lib\\site-packages\\textattack\\loggers\\csv_logger.py:41: FutureWarning: The frame.append method is deprecated and will be removed from pandas in a future version. Use pandas.concat instead.\n",
      "  self.df = self.df.append(row, ignore_index=True)\n",
      "\r",
      "[Succeeded / Failed / Skipped / Total] 60 / 26 / 4 / 90:  18%|████▎                   | 90/500 [02:57<13:29,  1.97s/it]"
     ]
    },
    {
     "name": "stdout",
     "output_type": "stream",
     "text": [
      "--------------------------------------------- Result 90 ---------------------------------------------\n",
      "[[Hum (99%)]] --> [[[FAILED]]]\n",
      "\n",
      "Who discovered radium ?\n",
      "\n",
      "\n"
     ]
    },
    {
     "name": "stderr",
     "output_type": "stream",
     "text": [
      "[Succeeded / Failed / Skipped / Total] 60 / 26 / 4 / 90:  18%|████▎                   | 91/500 [03:04<13:49,  2.03s/it]C:\\Users\\DELL\\anaconda3\\envs\\ta\\lib\\site-packages\\textattack\\loggers\\csv_logger.py:41: FutureWarning: The frame.append method is deprecated and will be removed from pandas in a future version. Use pandas.concat instead.\n",
      "  self.df = self.df.append(row, ignore_index=True)\n",
      "[Succeeded / Failed / Skipped / Total] 61 / 26 / 4 / 91:  18%|████▎                   | 91/500 [03:04<13:49,  2.03s/it]"
     ]
    },
    {
     "name": "stdout",
     "output_type": "stream",
     "text": [
      "--------------------------------------------- Result 91 ---------------------------------------------\n",
      "[[Desc (98%)]] --> [[Enty (91%)]]\n",
      "\n",
      "What is [[mad]] [[cow]] [[disease]] ?\n",
      "\n",
      "What is [[furious]] [[madness]] [[epidemic]] ?\n",
      "\n",
      "\n"
     ]
    },
    {
     "name": "stderr",
     "output_type": "stream",
     "text": [
      "[Succeeded / Failed / Skipped / Total] 61 / 26 / 4 / 91:  18%|████▍                   | 92/500 [03:05<13:42,  2.02s/it]C:\\Users\\DELL\\anaconda3\\envs\\ta\\lib\\site-packages\\textattack\\loggers\\csv_logger.py:41: FutureWarning: The frame.append method is deprecated and will be removed from pandas in a future version. Use pandas.concat instead.\n",
      "  self.df = self.df.append(row, ignore_index=True)\n",
      "[Succeeded / Failed / Skipped / Total] 62 / 26 / 4 / 92:  18%|████▍                   | 92/500 [03:05<13:42,  2.02s/it]"
     ]
    },
    {
     "name": "stdout",
     "output_type": "stream",
     "text": [
      "--------------------------------------------- Result 92 ---------------------------------------------\n",
      "[[Loc (99%)]] --> [[Desc (98%)]]\n",
      "\n",
      "What is the [[location]] of Lake Champlain ?\n",
      "\n",
      "What is the [[paging]] of Lake Champlain ?\n",
      "\n",
      "\n"
     ]
    },
    {
     "name": "stderr",
     "output_type": "stream",
     "text": [
      "[Succeeded / Failed / Skipped / Total] 62 / 26 / 4 / 92:  19%|████▍                   | 93/500 [03:06<13:34,  2.00s/it]C:\\Users\\DELL\\anaconda3\\envs\\ta\\lib\\site-packages\\textattack\\loggers\\csv_logger.py:41: FutureWarning: The frame.append method is deprecated and will be removed from pandas in a future version. Use pandas.concat instead.\n",
      "  self.df = self.df.append(row, ignore_index=True)\n",
      "[Succeeded / Failed / Skipped / Total] 63 / 26 / 4 / 93:  19%|████▍                   | 93/500 [03:06<13:35,  2.00s/it]"
     ]
    },
    {
     "name": "stdout",
     "output_type": "stream",
     "text": [
      "--------------------------------------------- Result 93 ---------------------------------------------\n",
      "[[Enty (98%)]] --> [[Num (99%)]]\n",
      "\n",
      "What is the proper [[name]] for a female walrus ?\n",
      "\n",
      "What is the proper [[numbers]] for a female walrus ?\n",
      "\n",
      "\n"
     ]
    },
    {
     "name": "stderr",
     "output_type": "stream",
     "text": [
      "[Succeeded / Failed / Skipped / Total] 63 / 26 / 4 / 93:  19%|████▌                   | 94/500 [03:06<13:25,  1.98s/it]C:\\Users\\DELL\\anaconda3\\envs\\ta\\lib\\site-packages\\textattack\\loggers\\csv_logger.py:41: FutureWarning: The frame.append method is deprecated and will be removed from pandas in a future version. Use pandas.concat instead.\n",
      "  self.df = self.df.append(row, ignore_index=True)\n",
      "[Succeeded / Failed / Skipped / Total] 64 / 26 / 4 / 94:  19%|████▌                   | 94/500 [03:06<13:25,  1.98s/it]"
     ]
    },
    {
     "name": "stdout",
     "output_type": "stream",
     "text": [
      "--------------------------------------------- Result 94 ---------------------------------------------\n",
      "[[Num (99%)]] --> [[Loc (99%)]]\n",
      "\n",
      "[[When]] was Rosa Parks born ?\n",
      "\n",
      "[[Where]] was Rosa Parks born ?\n",
      "\n",
      "\n"
     ]
    },
    {
     "name": "stderr",
     "output_type": "stream",
     "text": [
      "[Succeeded / Failed / Skipped / Total] 64 / 26 / 4 / 94:  19%|████▌                   | 95/500 [03:06<13:16,  1.97s/it]C:\\Users\\DELL\\anaconda3\\envs\\ta\\lib\\site-packages\\textattack\\loggers\\csv_logger.py:41: FutureWarning: The frame.append method is deprecated and will be removed from pandas in a future version. Use pandas.concat instead.\n",
      "  self.df = self.df.append(row, ignore_index=True)\n",
      "[Succeeded / Failed / Skipped / Total] 65 / 26 / 4 / 95:  19%|████▌                   | 95/500 [03:06<13:16,  1.97s/it]"
     ]
    },
    {
     "name": "stdout",
     "output_type": "stream",
     "text": [
      "--------------------------------------------- Result 95 ---------------------------------------------\n",
      "[[Num (99%)]] --> [[Loc (99%)]]\n",
      "\n",
      "[[When]] were William Shakespeare 's twins born ?\n",
      "\n",
      "[[Where]] were William Shakespeare 's twins born ?\n",
      "\n",
      "\n"
     ]
    },
    {
     "name": "stderr",
     "output_type": "stream",
     "text": [
      "[Succeeded / Failed / Skipped / Total] 65 / 26 / 4 / 95:  19%|████▌                   | 96/500 [03:10<13:20,  1.98s/it]C:\\Users\\DELL\\anaconda3\\envs\\ta\\lib\\site-packages\\textattack\\loggers\\csv_logger.py:41: FutureWarning: The frame.append method is deprecated and will be removed from pandas in a future version. Use pandas.concat instead.\n",
      "  self.df = self.df.append(row, ignore_index=True)\n",
      "[Succeeded / Failed / Skipped / Total] 66 / 26 / 4 / 96:  19%|████▌                   | 96/500 [03:10<13:20,  1.98s/it]"
     ]
    },
    {
     "name": "stdout",
     "output_type": "stream",
     "text": [
      "--------------------------------------------- Result 96 ---------------------------------------------\n",
      "[[Enty (98%)]] --> [[Desc (97%)]]\n",
      "\n",
      "What is natural [[gas]] [[composed]] of ?\n",
      "\n",
      "What is natural [[gaza]] [[involve]] of ?\n",
      "\n",
      "\n"
     ]
    },
    {
     "name": "stderr",
     "output_type": "stream",
     "text": [
      "[Succeeded / Failed / Skipped / Total] 66 / 26 / 4 / 96:  19%|████▋                   | 97/500 [03:12<13:17,  1.98s/it]C:\\Users\\DELL\\anaconda3\\envs\\ta\\lib\\site-packages\\textattack\\loggers\\csv_logger.py:41: FutureWarning: The frame.append method is deprecated and will be removed from pandas in a future version. Use pandas.concat instead.\n",
      "  self.df = self.df.append(row, ignore_index=True)\n",
      "[Succeeded / Failed / Skipped / Total] 67 / 26 / 4 / 97:  19%|████▋                   | 97/500 [03:12<13:17,  1.98s/it]"
     ]
    },
    {
     "name": "stdout",
     "output_type": "stream",
     "text": [
      "--------------------------------------------- Result 97 ---------------------------------------------\n",
      "[[Num (99%)]] --> [[Desc (98%)]]\n",
      "\n",
      "How [[tall]] is the Gateway Arch in St. Louis , MO ?\n",
      "\n",
      "How [[whopping]] is the Gateway Arch in St. Louis , MO ?\n",
      "\n",
      "\n"
     ]
    },
    {
     "name": "stderr",
     "output_type": "stream",
     "text": [
      "[Succeeded / Failed / Skipped / Total] 67 / 26 / 4 / 97:  20%|████▋                   | 98/500 [03:13<13:12,  1.97s/it]C:\\Users\\DELL\\anaconda3\\envs\\ta\\lib\\site-packages\\textattack\\loggers\\csv_logger.py:41: FutureWarning: The frame.append method is deprecated and will be removed from pandas in a future version. Use pandas.concat instead.\n",
      "  self.df = self.df.append(row, ignore_index=True)\n",
      "[Succeeded / Failed / Skipped / Total] 67 / 27 / 4 / 98:  20%|████▋                   | 98/500 [03:13<13:12,  1.97s/it]"
     ]
    },
    {
     "name": "stdout",
     "output_type": "stream",
     "text": [
      "--------------------------------------------- Result 98 ---------------------------------------------\n",
      "[[Hum (99%)]] --> [[[FAILED]]]\n",
      "\n",
      "Who was the first governor of Alaska ?\n",
      "\n",
      "\n"
     ]
    },
    {
     "name": "stderr",
     "output_type": "stream",
     "text": [
      "[Succeeded / Failed / Skipped / Total] 67 / 27 / 4 / 98:  20%|████▊                   | 99/500 [03:13<13:04,  1.96s/it]C:\\Users\\DELL\\anaconda3\\envs\\ta\\lib\\site-packages\\textattack\\loggers\\csv_logger.py:41: FutureWarning: The frame.append method is deprecated and will be removed from pandas in a future version. Use pandas.concat instead.\n",
      "  self.df = self.df.append(row, ignore_index=True)\n",
      "[Succeeded / Failed / Skipped / Total] 68 / 27 / 4 / 99:  20%|████▊                   | 99/500 [03:13<13:04,  1.96s/it]"
     ]
    },
    {
     "name": "stdout",
     "output_type": "stream",
     "text": [
      "--------------------------------------------- Result 99 ---------------------------------------------\n",
      "[[Num (99%)]] --> [[Loc (99%)]]\n",
      "\n",
      "[[When]] was the first Wal-Mart store opened ?\n",
      "\n",
      "[[Where]] was the first Wal-Mart store opened ?\n",
      "\n",
      "\n"
     ]
    },
    {
     "name": "stderr",
     "output_type": "stream",
     "text": [
      "[Succeeded / Failed / Skipped / Total] 68 / 27 / 4 / 99:  20%|████▌                  | 100/500 [03:14<12:57,  1.94s/it]C:\\Users\\DELL\\anaconda3\\envs\\ta\\lib\\site-packages\\textattack\\loggers\\csv_logger.py:41: FutureWarning: The frame.append method is deprecated and will be removed from pandas in a future version. Use pandas.concat instead.\n",
      "  self.df = self.df.append(row, ignore_index=True)\n",
      "[Succeeded / Failed / Skipped / Total] 69 / 27 / 4 / 100:  20%|████▍                 | 100/500 [03:14<12:57,  1.94s/it]"
     ]
    },
    {
     "name": "stdout",
     "output_type": "stream",
     "text": [
      "--------------------------------------------- Result 100 ---------------------------------------------\n",
      "[[Loc (99%)]] --> [[Enty (82%)]]\n",
      "\n",
      "[[What]] New York City structure is also known as the Twin Towers ?\n",
      "\n",
      "[[Wher]] New York City structure is also known as the Twin Towers ?\n",
      "\n",
      "\n"
     ]
    },
    {
     "name": "stderr",
     "output_type": "stream",
     "text": [
      "[Succeeded / Failed / Skipped / Total] 69 / 27 / 4 / 100:  20%|████▍                 | 101/500 [03:15<12:52,  1.94s/it]C:\\Users\\DELL\\anaconda3\\envs\\ta\\lib\\site-packages\\textattack\\loggers\\csv_logger.py:41: FutureWarning: The frame.append method is deprecated and will be removed from pandas in a future version. Use pandas.concat instead.\n",
      "  self.df = self.df.append(row, ignore_index=True)\n",
      "[Succeeded / Failed / Skipped / Total] 69 / 28 / 4 / 101:  20%|████▍                 | 101/500 [03:15<12:52,  1.94s/it]"
     ]
    },
    {
     "name": "stdout",
     "output_type": "stream",
     "text": [
      "--------------------------------------------- Result 101 ---------------------------------------------\n",
      "[[Desc (98%)]] --> [[[FAILED]]]\n",
      "\n",
      "What is an antigen ?\n",
      "\n",
      "\n"
     ]
    },
    {
     "name": "stderr",
     "output_type": "stream",
     "text": [
      "[Succeeded / Failed / Skipped / Total] 69 / 28 / 4 / 101:  20%|████▍                 | 102/500 [03:18<12:53,  1.94s/it]C:\\Users\\DELL\\anaconda3\\envs\\ta\\lib\\site-packages\\textattack\\loggers\\csv_logger.py:41: FutureWarning: The frame.append method is deprecated and will be removed from pandas in a future version. Use pandas.concat instead.\n",
      "  self.df = self.df.append(row, ignore_index=True)\n",
      "[Succeeded / Failed / Skipped / Total] 69 / 29 / 4 / 102:  20%|████▍                 | 102/500 [03:18<12:53,  1.94s/it]"
     ]
    },
    {
     "name": "stdout",
     "output_type": "stream",
     "text": [
      "--------------------------------------------- Result 102 ---------------------------------------------\n",
      "[[Desc (98%)]] --> [[[FAILED]]]\n",
      "\n",
      "What is hypertension ?\n",
      "\n",
      "\n"
     ]
    },
    {
     "name": "stderr",
     "output_type": "stream",
     "text": [
      "[Succeeded / Failed / Skipped / Total] 69 / 29 / 4 / 102:  21%|████▌                 | 103/500 [03:19<12:48,  1.94s/it]C:\\Users\\DELL\\anaconda3\\envs\\ta\\lib\\site-packages\\textattack\\loggers\\csv_logger.py:41: FutureWarning: The frame.append method is deprecated and will be removed from pandas in a future version. Use pandas.concat instead.\n",
      "  self.df = self.df.append(row, ignore_index=True)\n",
      "[Succeeded / Failed / Skipped / Total] 69 / 30 / 4 / 103:  21%|████▌                 | 103/500 [03:19<12:48,  1.94s/it]"
     ]
    },
    {
     "name": "stdout",
     "output_type": "stream",
     "text": [
      "--------------------------------------------- Result 103 ---------------------------------------------\n",
      "[[Desc (98%)]] --> [[[FAILED]]]\n",
      "\n",
      "What is caffeine ?\n",
      "\n",
      "\n"
     ]
    },
    {
     "name": "stderr",
     "output_type": "stream",
     "text": [
      "[Succeeded / Failed / Skipped / Total] 69 / 30 / 4 / 103:  21%|████▌                 | 104/500 [03:23<12:55,  1.96s/it]C:\\Users\\DELL\\anaconda3\\envs\\ta\\lib\\site-packages\\textattack\\loggers\\csv_logger.py:41: FutureWarning: The frame.append method is deprecated and will be removed from pandas in a future version. Use pandas.concat instead.\n",
      "  self.df = self.df.append(row, ignore_index=True)\n",
      "[Succeeded / Failed / Skipped / Total] 70 / 30 / 4 / 104:  21%|████▌                 | 104/500 [03:23<12:55,  1.96s/it]"
     ]
    },
    {
     "name": "stdout",
     "output_type": "stream",
     "text": [
      "--------------------------------------------- Result 104 ---------------------------------------------\n",
      "[[Desc (96%)]] --> [[Num (99%)]]\n",
      "\n",
      "What does [[ciao]] [[mean]] ?\n",
      "\n",
      "What does [[adios]] [[average]] ?\n",
      "\n",
      "\n"
     ]
    },
    {
     "name": "stderr",
     "output_type": "stream",
     "text": [
      "[Succeeded / Failed / Skipped / Total] 70 / 30 / 4 / 104:  21%|████▌                 | 105/500 [03:24<12:48,  1.95s/it]C:\\Users\\DELL\\anaconda3\\envs\\ta\\lib\\site-packages\\textattack\\loggers\\csv_logger.py:41: FutureWarning: The frame.append method is deprecated and will be removed from pandas in a future version. Use pandas.concat instead.\n",
      "  self.df = self.df.append(row, ignore_index=True)\n",
      "[Succeeded / Failed / Skipped / Total] 70 / 31 / 4 / 105:  21%|████▌                 | 105/500 [03:24<12:48,  1.95s/it]"
     ]
    },
    {
     "name": "stdout",
     "output_type": "stream",
     "text": [
      "--------------------------------------------- Result 105 ---------------------------------------------\n",
      "[[Hum (99%)]] --> [[[FAILED]]]\n",
      "\n",
      "Who was Galileo ?\n",
      "\n",
      "\n"
     ]
    },
    {
     "name": "stderr",
     "output_type": "stream",
     "text": [
      "[Succeeded / Failed / Skipped / Total] 70 / 31 / 4 / 105:  21%|████▋                 | 106/500 [03:28<12:54,  1.97s/it]C:\\Users\\DELL\\anaconda3\\envs\\ta\\lib\\site-packages\\textattack\\loggers\\csv_logger.py:41: FutureWarning: The frame.append method is deprecated and will be removed from pandas in a future version. Use pandas.concat instead.\n",
      "  self.df = self.df.append(row, ignore_index=True)\n",
      "[Succeeded / Failed / Skipped / Total] 70 / 32 / 4 / 106:  21%|████▋                 | 106/500 [03:28<12:54,  1.97s/it]"
     ]
    },
    {
     "name": "stdout",
     "output_type": "stream",
     "text": [
      "--------------------------------------------- Result 106 ---------------------------------------------\n",
      "[[Hum (99%)]] --> [[[FAILED]]]\n",
      "\n",
      "Who is the only president to serve 2 non-consecutive terms ?\n",
      "\n",
      "\n"
     ]
    },
    {
     "name": "stderr",
     "output_type": "stream",
     "text": [
      "[Succeeded / Failed / Skipped / Total] 70 / 32 / 4 / 106:  21%|████▋                 | 107/500 [03:29<12:49,  1.96s/it]C:\\Users\\DELL\\anaconda3\\envs\\ta\\lib\\site-packages\\textattack\\loggers\\csv_logger.py:41: FutureWarning: The frame.append method is deprecated and will be removed from pandas in a future version. Use pandas.concat instead.\n",
      "  self.df = self.df.append(row, ignore_index=True)\n",
      "[Succeeded / Failed / Skipped / Total] 71 / 32 / 4 / 107:  21%|████▋                 | 107/500 [03:29<12:50,  1.96s/it]"
     ]
    },
    {
     "name": "stdout",
     "output_type": "stream",
     "text": [
      "--------------------------------------------- Result 107 ---------------------------------------------\n",
      "[[Enty (88%)]] --> [[Desc (98%)]]\n",
      "\n",
      "What is the [[source]] of natural gas ?\n",
      "\n",
      "What is the [[origins]] of natural gas ?\n",
      "\n",
      "\n"
     ]
    },
    {
     "name": "stderr",
     "output_type": "stream",
     "text": [
      "[Succeeded / Failed / Skipped / Total] 71 / 32 / 4 / 107:  22%|████▊                 | 108/500 [03:30<12:42,  1.95s/it]C:\\Users\\DELL\\anaconda3\\envs\\ta\\lib\\site-packages\\textattack\\loggers\\csv_logger.py:41: FutureWarning: The frame.append method is deprecated and will be removed from pandas in a future version. Use pandas.concat instead.\n",
      "  self.df = self.df.append(row, ignore_index=True)\n",
      "[Succeeded / Failed / Skipped / Total] 72 / 32 / 4 / 108:  22%|████▊                 | 108/500 [03:30<12:42,  1.95s/it]"
     ]
    },
    {
     "name": "stdout",
     "output_type": "stream",
     "text": [
      "--------------------------------------------- Result 108 ---------------------------------------------\n",
      "[[Num (99%)]] --> [[Loc (99%)]]\n",
      "\n",
      "[[When]] was Hiroshima bombed ?\n",
      "\n",
      "[[Where]] was Hiroshima bombed ?\n",
      "\n",
      "\n"
     ]
    },
    {
     "name": "stderr",
     "output_type": "stream",
     "text": [
      "[Succeeded / Failed / Skipped / Total] 72 / 32 / 4 / 108:  22%|████▊                 | 109/500 [03:31<12:38,  1.94s/it]C:\\Users\\DELL\\anaconda3\\envs\\ta\\lib\\site-packages\\textattack\\loggers\\csv_logger.py:41: FutureWarning: The frame.append method is deprecated and will be removed from pandas in a future version. Use pandas.concat instead.\n",
      "  self.df = self.df.append(row, ignore_index=True)\n",
      "[Succeeded / Failed / Skipped / Total] 72 / 33 / 4 / 109:  22%|████▊                 | 109/500 [03:31<12:38,  1.94s/it]"
     ]
    },
    {
     "name": "stdout",
     "output_type": "stream",
     "text": [
      "--------------------------------------------- Result 109 ---------------------------------------------\n",
      "[[Desc (98%)]] --> [[[FAILED]]]\n",
      "\n",
      "What are sunspots ?\n",
      "\n",
      "\n"
     ]
    },
    {
     "name": "stderr",
     "output_type": "stream",
     "text": [
      "[Succeeded / Failed / Skipped / Total] 72 / 33 / 4 / 109:  22%|████▊                 | 110/500 [03:33<12:35,  1.94s/it]C:\\Users\\DELL\\anaconda3\\envs\\ta\\lib\\site-packages\\textattack\\loggers\\csv_logger.py:41: FutureWarning: The frame.append method is deprecated and will be removed from pandas in a future version. Use pandas.concat instead.\n",
      "  self.df = self.df.append(row, ignore_index=True)\n",
      "[Succeeded / Failed / Skipped / Total] 73 / 33 / 4 / 110:  22%|████▊                 | 110/500 [03:33<12:35,  1.94s/it]"
     ]
    },
    {
     "name": "stdout",
     "output_type": "stream",
     "text": [
      "--------------------------------------------- Result 110 ---------------------------------------------\n",
      "[[Loc (99%)]] --> [[Num (99%)]]\n",
      "\n",
      "[[Where]] is Milan ?\n",
      "\n",
      "[[When]] is Milan ?\n",
      "\n",
      "\n"
     ]
    },
    {
     "name": "stderr",
     "output_type": "stream",
     "text": [
      "[Succeeded / Failed / Skipped / Total] 73 / 33 / 4 / 110:  22%|████▉                 | 111/500 [03:34<12:31,  1.93s/it]C:\\Users\\DELL\\anaconda3\\envs\\ta\\lib\\site-packages\\textattack\\loggers\\csv_logger.py:41: FutureWarning: The frame.append method is deprecated and will be removed from pandas in a future version. Use pandas.concat instead.\n",
      "  self.df = self.df.append(row, ignore_index=True)\n",
      "[Succeeded / Failed / Skipped / Total] 74 / 33 / 4 / 111:  22%|████▉                 | 111/500 [03:34<12:31,  1.93s/it]"
     ]
    },
    {
     "name": "stdout",
     "output_type": "stream",
     "text": [
      "--------------------------------------------- Result 111 ---------------------------------------------\n",
      "[[Loc (99%)]] --> [[Hum (99%)]]\n",
      "\n",
      "What is the largest [[city]] in the world ?\n",
      "\n",
      "What is the largest [[mayor]] in the world ?\n",
      "\n",
      "\n"
     ]
    },
    {
     "name": "stderr",
     "output_type": "stream",
     "text": [
      "[Succeeded / Failed / Skipped / Total] 74 / 33 / 4 / 111:  22%|████▉                 | 112/500 [03:35<12:25,  1.92s/it]C:\\Users\\DELL\\anaconda3\\envs\\ta\\lib\\site-packages\\textattack\\loggers\\csv_logger.py:41: FutureWarning: The frame.append method is deprecated and will be removed from pandas in a future version. Use pandas.concat instead.\n",
      "  self.df = self.df.append(row, ignore_index=True)\n",
      "[Succeeded / Failed / Skipped / Total] 75 / 33 / 4 / 112:  22%|████▉                 | 112/500 [03:35<12:25,  1.92s/it]"
     ]
    },
    {
     "name": "stdout",
     "output_type": "stream",
     "text": [
      "--------------------------------------------- Result 112 ---------------------------------------------\n",
      "[[Num (99%)]] --> [[Desc (97%)]]\n",
      "\n",
      "What is the [[average]] life span for a chicken ?\n",
      "\n",
      "What is the [[means]] life span for a chicken ?\n",
      "\n",
      "\n"
     ]
    },
    {
     "name": "stderr",
     "output_type": "stream",
     "text": [
      "[Succeeded / Failed / Skipped / Total] 75 / 33 / 4 / 112:  23%|████▉                 | 113/500 [03:36<12:21,  1.92s/it]C:\\Users\\DELL\\anaconda3\\envs\\ta\\lib\\site-packages\\textattack\\loggers\\csv_logger.py:41: FutureWarning: The frame.append method is deprecated and will be removed from pandas in a future version. Use pandas.concat instead.\n",
      "  self.df = self.df.append(row, ignore_index=True)\n",
      "[Succeeded / Failed / Skipped / Total] 76 / 33 / 4 / 113:  23%|████▉                 | 113/500 [03:36<12:21,  1.92s/it]"
     ]
    },
    {
     "name": "stdout",
     "output_type": "stream",
     "text": [
      "--------------------------------------------- Result 113 ---------------------------------------------\n",
      "[[Enty (99%)]] --> [[Loc (74%)]]\n",
      "\n",
      "What [[currency]] do they use in Brazil ?\n",
      "\n",
      "What [[interchange]] do they use in Brazil ?\n",
      "\n",
      "\n"
     ]
    },
    {
     "name": "stderr",
     "output_type": "stream",
     "text": [
      "[Succeeded / Failed / Skipped / Total] 76 / 33 / 4 / 113:  23%|█████                 | 114/500 [03:38<12:20,  1.92s/it]C:\\Users\\DELL\\anaconda3\\envs\\ta\\lib\\site-packages\\textattack\\loggers\\csv_logger.py:41: FutureWarning: The frame.append method is deprecated and will be removed from pandas in a future version. Use pandas.concat instead.\n",
      "  self.df = self.df.append(row, ignore_index=True)\n",
      "[Succeeded / Failed / Skipped / Total] 77 / 33 / 4 / 114:  23%|█████                 | 114/500 [03:38<12:20,  1.92s/it]"
     ]
    },
    {
     "name": "stdout",
     "output_type": "stream",
     "text": [
      "--------------------------------------------- Result 114 ---------------------------------------------\n",
      "[[Enty (99%)]] --> [[Desc (97%)]]\n",
      "\n",
      "What are the two [[types]] of twins ?\n",
      "\n",
      "What are the two [[nature]] of twins ?\n",
      "\n",
      "\n"
     ]
    },
    {
     "name": "stderr",
     "output_type": "stream",
     "text": [
      "[Succeeded / Failed / Skipped / Total] 77 / 33 / 4 / 114:  23%|█████                 | 115/500 [03:39<12:14,  1.91s/it]C:\\Users\\DELL\\anaconda3\\envs\\ta\\lib\\site-packages\\textattack\\loggers\\csv_logger.py:41: FutureWarning: The frame.append method is deprecated and will be removed from pandas in a future version. Use pandas.concat instead.\n",
      "  self.df = self.df.append(row, ignore_index=True)\n",
      "[Succeeded / Failed / Skipped / Total] 78 / 33 / 4 / 115:  23%|█████                 | 115/500 [03:39<12:14,  1.91s/it]"
     ]
    },
    {
     "name": "stdout",
     "output_type": "stream",
     "text": [
      "--------------------------------------------- Result 115 ---------------------------------------------\n",
      "[[Loc (99%)]] --> [[Enty (98%)]]\n",
      "\n",
      "What [[continent]] is Argentina on ?\n",
      "\n",
      "What [[chau]] is Argentina on ?\n",
      "\n",
      "\n"
     ]
    },
    {
     "name": "stderr",
     "output_type": "stream",
     "text": [
      "[Succeeded / Failed / Skipped / Total] 78 / 33 / 4 / 115:  23%|█████                 | 116/500 [03:40<12:10,  1.90s/it]C:\\Users\\DELL\\anaconda3\\envs\\ta\\lib\\site-packages\\textattack\\loggers\\csv_logger.py:41: FutureWarning: The frame.append method is deprecated and will be removed from pandas in a future version. Use pandas.concat instead.\n",
      "  self.df = self.df.append(row, ignore_index=True)\n",
      "[Succeeded / Failed / Skipped / Total] 79 / 33 / 4 / 116:  23%|█████                 | 116/500 [03:40<12:10,  1.90s/it]"
     ]
    },
    {
     "name": "stdout",
     "output_type": "stream",
     "text": [
      "--------------------------------------------- Result 116 ---------------------------------------------\n",
      "[[Loc (99%)]] --> [[Enty (98%)]]\n",
      "\n",
      "Which [[country]] gave New York the Statue of Liberty ?\n",
      "\n",
      "Which [[sate]] gave New York the Statue of Liberty ?\n",
      "\n",
      "\n"
     ]
    },
    {
     "name": "stderr",
     "output_type": "stream",
     "text": [
      "[Succeeded / Failed / Skipped / Total] 79 / 33 / 4 / 116:  23%|█████▏                | 117/500 [03:41<12:06,  1.90s/it]C:\\Users\\DELL\\anaconda3\\envs\\ta\\lib\\site-packages\\textattack\\loggers\\csv_logger.py:41: FutureWarning: The frame.append method is deprecated and will be removed from pandas in a future version. Use pandas.concat instead.\n",
      "  self.df = self.df.append(row, ignore_index=True)\n",
      "[Succeeded / Failed / Skipped / Total] 80 / 33 / 4 / 117:  23%|█████▏                | 117/500 [03:41<12:06,  1.90s/it]"
     ]
    },
    {
     "name": "stdout",
     "output_type": "stream",
     "text": [
      "--------------------------------------------- Result 117 ---------------------------------------------\n",
      "[[Loc (99%)]] --> [[Enty (99%)]]\n",
      "\n",
      "What is the fourth highest [[mountain]] in the world ?\n",
      "\n",
      "What is the fourth highest [[mounted]] in the world ?\n",
      "\n",
      "\n"
     ]
    },
    {
     "name": "stderr",
     "output_type": "stream",
     "text": [
      "[Succeeded / Failed / Skipped / Total] 80 / 33 / 4 / 117:  24%|█████▏                | 118/500 [03:42<12:01,  1.89s/it]C:\\Users\\DELL\\anaconda3\\envs\\ta\\lib\\site-packages\\textattack\\loggers\\csv_logger.py:41: FutureWarning: The frame.append method is deprecated and will be removed from pandas in a future version. Use pandas.concat instead.\n",
      "  self.df = self.df.append(row, ignore_index=True)\n",
      "[Succeeded / Failed / Skipped / Total] 81 / 33 / 4 / 118:  24%|█████▏                | 118/500 [03:42<12:01,  1.89s/it]"
     ]
    },
    {
     "name": "stdout",
     "output_type": "stream",
     "text": [
      "--------------------------------------------- Result 118 ---------------------------------------------\n",
      "[[Num (99%)]] --> [[Enty (98%)]]\n",
      "\n",
      "What [[year]] did WWII begin ?\n",
      "\n",
      "What [[ano]] did WWII begin ?\n",
      "\n",
      "\n"
     ]
    },
    {
     "name": "stderr",
     "output_type": "stream",
     "text": [
      "[Succeeded / Failed / Skipped / Total] 81 / 33 / 4 / 118:  24%|█████▏                | 119/500 [03:44<11:57,  1.88s/it]C:\\Users\\DELL\\anaconda3\\envs\\ta\\lib\\site-packages\\textattack\\loggers\\csv_logger.py:41: FutureWarning: The frame.append method is deprecated and will be removed from pandas in a future version. Use pandas.concat instead.\n",
      "  self.df = self.df.append(row, ignore_index=True)\n",
      "[Succeeded / Failed / Skipped / Total] 82 / 33 / 4 / 119:  24%|█████▏                | 119/500 [03:44<11:57,  1.88s/it]"
     ]
    },
    {
     "name": "stdout",
     "output_type": "stream",
     "text": [
      "--------------------------------------------- Result 119 ---------------------------------------------\n",
      "[[Enty (99%)]] --> [[Loc (95%)]]\n",
      "\n",
      "What is Maryland 's state [[bird]] ?\n",
      "\n",
      "What is Maryland 's state [[byrd]] ?\n",
      "\n",
      "\n"
     ]
    },
    {
     "name": "stderr",
     "output_type": "stream",
     "text": [
      "[Succeeded / Failed / Skipped / Total] 82 / 33 / 4 / 119:  24%|█████▎                | 120/500 [03:44<11:51,  1.87s/it]C:\\Users\\DELL\\anaconda3\\envs\\ta\\lib\\site-packages\\textattack\\loggers\\csv_logger.py:41: FutureWarning: The frame.append method is deprecated and will be removed from pandas in a future version. Use pandas.concat instead.\n",
      "  self.df = self.df.append(row, ignore_index=True)\n",
      "[Succeeded / Failed / Skipped / Total] 82 / 34 / 4 / 120:  24%|█████▎                | 120/500 [03:44<11:51,  1.87s/it]"
     ]
    },
    {
     "name": "stdout",
     "output_type": "stream",
     "text": [
      "--------------------------------------------- Result 120 ---------------------------------------------\n",
      "[[Desc (98%)]] --> [[[FAILED]]]\n",
      "\n",
      "What are antacids ?\n",
      "\n",
      "\n"
     ]
    },
    {
     "name": "stderr",
     "output_type": "stream",
     "text": [
      "[Succeeded / Failed / Skipped / Total] 82 / 34 / 4 / 120:  24%|█████▎                | 121/500 [03:45<11:47,  1.87s/it]C:\\Users\\DELL\\anaconda3\\envs\\ta\\lib\\site-packages\\textattack\\loggers\\csv_logger.py:41: FutureWarning: The frame.append method is deprecated and will be removed from pandas in a future version. Use pandas.concat instead.\n",
      "  self.df = self.df.append(row, ignore_index=True)\n",
      "[Succeeded / Failed / Skipped / Total] 83 / 34 / 4 / 121:  24%|█████▎                | 121/500 [03:46<11:47,  1.87s/it]"
     ]
    },
    {
     "name": "stdout",
     "output_type": "stream",
     "text": [
      "--------------------------------------------- Result 121 ---------------------------------------------\n",
      "[[Enty (99%)]] --> [[Loc (99%)]]\n",
      "\n",
      "What is the only [[artery]] that carries blue blood from the heart to the lungs ?\n",
      "\n",
      "What is the only [[highways]] that carries blue blood from the heart to the lungs ?\n",
      "\n",
      "\n"
     ]
    },
    {
     "name": "stderr",
     "output_type": "stream",
     "text": [
      "[Succeeded / Failed / Skipped / Total] 83 / 34 / 4 / 121:  24%|█████▎                | 122/500 [03:56<12:13,  1.94s/it]C:\\Users\\DELL\\anaconda3\\envs\\ta\\lib\\site-packages\\textattack\\loggers\\csv_logger.py:41: FutureWarning: The frame.append method is deprecated and will be removed from pandas in a future version. Use pandas.concat instead.\n",
      "  self.df = self.df.append(row, ignore_index=True)\n",
      "[Succeeded / Failed / Skipped / Total] 84 / 34 / 4 / 122:  24%|█████▎                | 122/500 [03:56<12:13,  1.94s/it]"
     ]
    },
    {
     "name": "stdout",
     "output_type": "stream",
     "text": [
      "--------------------------------------------- Result 122 ---------------------------------------------\n",
      "[[Enty (99%)]] --> [[Desc (97%)]]\n",
      "\n",
      "What [[primary]] [[colors]] [[do]] you [[mix]] to [[make]] [[orange]] ?\n",
      "\n",
      "What [[upfront]] [[nuance]] [[fact]] you [[combinations]] to [[reaching]] [[tangerines]] ?\n",
      "\n",
      "\n"
     ]
    },
    {
     "name": "stderr",
     "output_type": "stream",
     "text": [
      "[Succeeded / Failed / Skipped / Total] 84 / 34 / 4 / 122:  25%|█████▍                | 123/500 [04:00<12:17,  1.96s/it]C:\\Users\\DELL\\anaconda3\\envs\\ta\\lib\\site-packages\\textattack\\loggers\\csv_logger.py:41: FutureWarning: The frame.append method is deprecated and will be removed from pandas in a future version. Use pandas.concat instead.\n",
      "  self.df = self.df.append(row, ignore_index=True)\n",
      "[Succeeded / Failed / Skipped / Total] 84 / 35 / 4 / 123:  25%|█████▍                | 123/500 [04:00<12:17,  1.96s/it]"
     ]
    },
    {
     "name": "stdout",
     "output_type": "stream",
     "text": [
      "--------------------------------------------- Result 123 ---------------------------------------------\n",
      "[[Desc (98%)]] --> [[[FAILED]]]\n",
      "\n",
      "What is home equity ?\n",
      "\n",
      "\n"
     ]
    },
    {
     "name": "stderr",
     "output_type": "stream",
     "text": [
      "[Succeeded / Failed / Skipped / Total] 84 / 35 / 4 / 123:  25%|█████▍                | 124/500 [04:01<12:11,  1.94s/it]C:\\Users\\DELL\\anaconda3\\envs\\ta\\lib\\site-packages\\textattack\\loggers\\csv_logger.py:41: FutureWarning: The frame.append method is deprecated and will be removed from pandas in a future version. Use pandas.concat instead.\n",
      "  self.df = self.df.append(row, ignore_index=True)\n",
      "[Succeeded / Failed / Skipped / Total] 84 / 36 / 4 / 124:  25%|█████▍                | 124/500 [04:01<12:11,  1.94s/it]"
     ]
    },
    {
     "name": "stdout",
     "output_type": "stream",
     "text": [
      "--------------------------------------------- Result 124 ---------------------------------------------\n",
      "[[Desc (98%)]] --> [[[FAILED]]]\n",
      "\n",
      "What is pectin ?\n",
      "\n",
      "\n"
     ]
    },
    {
     "name": "stderr",
     "output_type": "stream",
     "text": [
      "[Succeeded / Failed / Skipped / Total] 84 / 36 / 4 / 124:  25%|█████▌                | 125/500 [04:02<12:08,  1.94s/it]C:\\Users\\DELL\\anaconda3\\envs\\ta\\lib\\site-packages\\textattack\\loggers\\csv_logger.py:41: FutureWarning: The frame.append method is deprecated and will be removed from pandas in a future version. Use pandas.concat instead.\n",
      "  self.df = self.df.append(row, ignore_index=True)\n",
      "[Succeeded / Failed / Skipped / Total] 84 / 37 / 4 / 125:  25%|█████▌                | 125/500 [04:02<12:08,  1.94s/it]"
     ]
    },
    {
     "name": "stdout",
     "output_type": "stream",
     "text": [
      "--------------------------------------------- Result 125 ---------------------------------------------\n",
      "[[Desc (98%)]] --> [[[FAILED]]]\n",
      "\n",
      "What are amphibians ?\n",
      "\n",
      "\n"
     ]
    },
    {
     "name": "stderr",
     "output_type": "stream",
     "text": [
      "[Succeeded / Failed / Skipped / Total] 84 / 37 / 4 / 125:  25%|█████▌                | 126/500 [04:03<12:02,  1.93s/it]C:\\Users\\DELL\\anaconda3\\envs\\ta\\lib\\site-packages\\textattack\\loggers\\csv_logger.py:41: FutureWarning: The frame.append method is deprecated and will be removed from pandas in a future version. Use pandas.concat instead.\n",
      "  self.df = self.df.append(row, ignore_index=True)\n",
      "[Succeeded / Failed / Skipped / Total] 85 / 37 / 4 / 126:  25%|█████▌                | 126/500 [04:03<12:02,  1.93s/it]"
     ]
    },
    {
     "name": "stdout",
     "output_type": "stream",
     "text": [
      "--------------------------------------------- Result 126 ---------------------------------------------\n",
      "[[Num (99%)]] --> [[Loc (99%)]]\n",
      "\n",
      "[[When]] is St. Patrick 's Day ?\n",
      "\n",
      "[[Where]] is St. Patrick 's Day ?\n",
      "\n",
      "\n"
     ]
    },
    {
     "name": "stderr",
     "output_type": "stream",
     "text": [
      "[Succeeded / Failed / Skipped / Total] 85 / 37 / 4 / 126:  25%|█████▌                | 127/500 [04:06<12:05,  1.94s/it]C:\\Users\\DELL\\anaconda3\\envs\\ta\\lib\\site-packages\\textattack\\loggers\\csv_logger.py:41: FutureWarning: The frame.append method is deprecated and will be removed from pandas in a future version. Use pandas.concat instead.\n",
      "  self.df = self.df.append(row, ignore_index=True)\n",
      "[Succeeded / Failed / Skipped / Total] 86 / 37 / 4 / 127:  25%|█████▌                | 127/500 [04:07<12:05,  1.94s/it]"
     ]
    },
    {
     "name": "stdout",
     "output_type": "stream",
     "text": [
      "--------------------------------------------- Result 127 ---------------------------------------------\n",
      "[[Desc (98%)]] --> [[Enty (97%)]]\n",
      "\n",
      "[[How]] [[did]] Janice Joplin die ?\n",
      "\n",
      "[[Consequently]] [[became]] Janice Joplin die ?\n",
      "\n",
      "\n"
     ]
    },
    {
     "name": "stderr",
     "output_type": "stream",
     "text": [
      "[Succeeded / Failed / Skipped / Total] 86 / 37 / 4 / 127:  26%|█████▋                | 128/500 [04:08<12:00,  1.94s/it]C:\\Users\\DELL\\anaconda3\\envs\\ta\\lib\\site-packages\\textattack\\loggers\\csv_logger.py:41: FutureWarning: The frame.append method is deprecated and will be removed from pandas in a future version. Use pandas.concat instead.\n",
      "  self.df = self.df.append(row, ignore_index=True)\n",
      "[Succeeded / Failed / Skipped / Total] 87 / 37 / 4 / 128:  26%|█████▋                | 128/500 [04:08<12:00,  1.94s/it]"
     ]
    },
    {
     "name": "stdout",
     "output_type": "stream",
     "text": [
      "--------------------------------------------- Result 128 ---------------------------------------------\n",
      "[[Loc (99%)]] --> [[Enty (99%)]]\n",
      "\n",
      "What soviet [[seaport]] is on the Black Sea ?\n",
      "\n",
      "What soviet [[wearing]] is on the Black Sea ?\n",
      "\n",
      "\n"
     ]
    },
    {
     "name": "stderr",
     "output_type": "stream",
     "text": [
      "[Succeeded / Failed / Skipped / Total] 87 / 37 / 4 / 128:  26%|█████▋                | 129/500 [04:10<12:00,  1.94s/it]C:\\Users\\DELL\\anaconda3\\envs\\ta\\lib\\site-packages\\textattack\\loggers\\csv_logger.py:41: FutureWarning: The frame.append method is deprecated and will be removed from pandas in a future version. Use pandas.concat instead.\n",
      "  self.df = self.df.append(row, ignore_index=True)\n",
      "[Succeeded / Failed / Skipped / Total] 88 / 37 / 4 / 129:  26%|█████▋                | 129/500 [04:10<12:00,  1.94s/it]"
     ]
    },
    {
     "name": "stdout",
     "output_type": "stream",
     "text": [
      "--------------------------------------------- Result 129 ---------------------------------------------\n",
      "[[Enty (98%)]] --> [[Desc (98%)]]\n",
      "\n",
      "What are cigarettes [[made]] of ?\n",
      "\n",
      "What are cigarettes [[posed]] of ?\n",
      "\n",
      "\n"
     ]
    },
    {
     "name": "stderr",
     "output_type": "stream",
     "text": [
      "[Succeeded / Failed / Skipped / Total] 88 / 37 / 4 / 129:  26%|█████▋                | 130/500 [04:11<11:56,  1.94s/it]C:\\Users\\DELL\\anaconda3\\envs\\ta\\lib\\site-packages\\textattack\\loggers\\csv_logger.py:41: FutureWarning: The frame.append method is deprecated and will be removed from pandas in a future version. Use pandas.concat instead.\n",
      "  self.df = self.df.append(row, ignore_index=True)\n",
      "[Succeeded / Failed / Skipped / Total] 89 / 37 / 4 / 130:  26%|█████▋                | 130/500 [04:11<11:56,  1.94s/it]"
     ]
    },
    {
     "name": "stdout",
     "output_type": "stream",
     "text": [
      "--------------------------------------------- Result 130 ---------------------------------------------\n",
      "[[Loc (99%)]] --> [[Enty (97%)]]\n",
      "\n",
      "What [[river]] runs through Rowe , Italy ?\n",
      "\n",
      "What [[tok]] runs through Rowe , Italy ?\n",
      "\n",
      "\n"
     ]
    },
    {
     "name": "stderr",
     "output_type": "stream",
     "text": [
      "[Succeeded / Failed / Skipped / Total] 89 / 37 / 4 / 130:  26%|█████▊                | 131/500 [04:13<11:53,  1.93s/it]C:\\Users\\DELL\\anaconda3\\envs\\ta\\lib\\site-packages\\textattack\\loggers\\csv_logger.py:41: FutureWarning: The frame.append method is deprecated and will be removed from pandas in a future version. Use pandas.concat instead.\n",
      "  self.df = self.df.append(row, ignore_index=True)\n",
      "[Succeeded / Failed / Skipped / Total] 90 / 37 / 4 / 131:  26%|█████▊                | 131/500 [04:13<11:53,  1.93s/it]"
     ]
    },
    {
     "name": "stdout",
     "output_type": "stream",
     "text": [
      "--------------------------------------------- Result 131 ---------------------------------------------\n",
      "[[Hum (99%)]] --> [[Enty (98%)]]\n",
      "\n",
      "What was J.F.K. 's wife 's [[name]] ?\n",
      "\n",
      "What was J.F.K. 's wife 's [[denomination]] ?\n",
      "\n",
      "\n"
     ]
    },
    {
     "name": "stderr",
     "output_type": "stream",
     "text": [
      "[Succeeded / Failed / Skipped / Total] 90 / 37 / 4 / 131:  26%|█████▊                | 132/500 [04:15<11:53,  1.94s/it]C:\\Users\\DELL\\anaconda3\\envs\\ta\\lib\\site-packages\\textattack\\loggers\\csv_logger.py:41: FutureWarning: The frame.append method is deprecated and will be removed from pandas in a future version. Use pandas.concat instead.\n",
      "  self.df = self.df.append(row, ignore_index=True)\n",
      "[Succeeded / Failed / Skipped / Total] 91 / 37 / 4 / 132:  26%|█████▊                | 132/500 [04:15<11:53,  1.94s/it]"
     ]
    },
    {
     "name": "stdout",
     "output_type": "stream",
     "text": [
      "--------------------------------------------- Result 132 ---------------------------------------------\n",
      "[[Enty (99%)]] --> [[Desc (95%)]]\n",
      "\n",
      "What do you [[call]] a professional map drawer ?\n",
      "\n",
      "What do you [[asking]] a professional map drawer ?\n",
      "\n",
      "\n"
     ]
    },
    {
     "name": "stderr",
     "output_type": "stream",
     "text": [
      "[Succeeded / Failed / Skipped / Total] 91 / 37 / 4 / 132:  27%|█████▊                | 133/500 [04:18<11:52,  1.94s/it]C:\\Users\\DELL\\anaconda3\\envs\\ta\\lib\\site-packages\\textattack\\loggers\\csv_logger.py:41: FutureWarning: The frame.append method is deprecated and will be removed from pandas in a future version. Use pandas.concat instead.\n",
      "  self.df = self.df.append(row, ignore_index=True)\n",
      "[Succeeded / Failed / Skipped / Total] 92 / 37 / 4 / 133:  27%|█████▊                | 133/500 [04:18<11:52,  1.94s/it]"
     ]
    },
    {
     "name": "stdout",
     "output_type": "stream",
     "text": [
      "--------------------------------------------- Result 133 ---------------------------------------------\n",
      "[[Num (99%)]] --> [[Desc (98%)]]\n",
      "\n",
      "How [[old]] was Joan of Arc when she died ?\n",
      "\n",
      "How [[obsolete]] was Joan of Arc when she died ?\n",
      "\n",
      "\n"
     ]
    },
    {
     "name": "stderr",
     "output_type": "stream",
     "text": [
      "[Succeeded / Failed / Skipped / Total] 92 / 37 / 4 / 133:  27%|█████▉                | 134/500 [04:19<11:48,  1.94s/it]C:\\Users\\DELL\\anaconda3\\envs\\ta\\lib\\site-packages\\textattack\\loggers\\csv_logger.py:41: FutureWarning: The frame.append method is deprecated and will be removed from pandas in a future version. Use pandas.concat instead.\n",
      "  self.df = self.df.append(row, ignore_index=True)\n",
      "[Succeeded / Failed / Skipped / Total] 92 / 38 / 4 / 134:  27%|█████▉                | 134/500 [04:19<11:48,  1.94s/it]"
     ]
    },
    {
     "name": "stdout",
     "output_type": "stream",
     "text": [
      "--------------------------------------------- Result 134 ---------------------------------------------\n",
      "[[Desc (98%)]] --> [[[FAILED]]]\n",
      "\n",
      "What are Aborigines ?\n",
      "\n",
      "\n"
     ]
    },
    {
     "name": "stderr",
     "output_type": "stream",
     "text": [
      "[Succeeded / Failed / Skipped / Total] 92 / 38 / 4 / 134:  27%|█████▉                | 135/500 [04:20<11:44,  1.93s/it]C:\\Users\\DELL\\anaconda3\\envs\\ta\\lib\\site-packages\\textattack\\loggers\\csv_logger.py:41: FutureWarning: The frame.append method is deprecated and will be removed from pandas in a future version. Use pandas.concat instead.\n",
      "  self.df = self.df.append(row, ignore_index=True)\n",
      "[Succeeded / Failed / Skipped / Total] 92 / 39 / 4 / 135:  27%|█████▉                | 135/500 [04:20<11:44,  1.93s/it]"
     ]
    },
    {
     "name": "stdout",
     "output_type": "stream",
     "text": [
      "--------------------------------------------- Result 135 ---------------------------------------------\n",
      "[[Desc (97%)]] --> [[[FAILED]]]\n",
      "\n",
      "What are ethics ?\n",
      "\n",
      "\n"
     ]
    },
    {
     "name": "stderr",
     "output_type": "stream",
     "text": [
      "[Succeeded / Failed / Skipped / Total] 92 / 39 / 4 / 135:  27%|█████▉                | 136/500 [04:23<11:44,  1.94s/it]C:\\Users\\DELL\\anaconda3\\envs\\ta\\lib\\site-packages\\textattack\\loggers\\csv_logger.py:41: FutureWarning: The frame.append method is deprecated and will be removed from pandas in a future version. Use pandas.concat instead.\n",
      "  self.df = self.df.append(row, ignore_index=True)\n",
      "[Succeeded / Failed / Skipped / Total] 93 / 39 / 4 / 136:  27%|█████▉                | 136/500 [04:23<11:44,  1.94s/it]"
     ]
    },
    {
     "name": "stdout",
     "output_type": "stream",
     "text": [
      "--------------------------------------------- Result 136 ---------------------------------------------\n",
      "[[Enty (99%)]] --> [[Desc (98%)]]\n",
      "\n",
      "What was President Lyndon Johnson 's reform program [[called]] ?\n",
      "\n",
      "What was President Lyndon Johnson 's reform program [[aspired]] ?\n",
      "\n",
      "\n"
     ]
    },
    {
     "name": "stderr",
     "output_type": "stream",
     "text": [
      "[Succeeded / Failed / Skipped / Total] 93 / 39 / 4 / 136:  27%|██████                | 137/500 [04:24<11:41,  1.93s/it]C:\\Users\\DELL\\anaconda3\\envs\\ta\\lib\\site-packages\\textattack\\loggers\\csv_logger.py:41: FutureWarning: The frame.append method is deprecated and will be removed from pandas in a future version. Use pandas.concat instead.\n",
      "  self.df = self.df.append(row, ignore_index=True)\n",
      "[Succeeded / Failed / Skipped / Total] 94 / 39 / 4 / 137:  27%|██████                | 137/500 [04:24<11:41,  1.93s/it]"
     ]
    },
    {
     "name": "stdout",
     "output_type": "stream",
     "text": [
      "--------------------------------------------- Result 137 ---------------------------------------------\n",
      "[[Num (99%)]] --> [[Desc (98%)]]\n",
      "\n",
      "What is the [[date]] of Mexico 's independence ?\n",
      "\n",
      "What is the [[personals]] of Mexico 's independence ?\n",
      "\n",
      "\n"
     ]
    },
    {
     "name": "stderr",
     "output_type": "stream",
     "text": [
      "[Succeeded / Failed / Skipped / Total] 94 / 39 / 4 / 137:  28%|██████                | 138/500 [04:26<11:39,  1.93s/it]C:\\Users\\DELL\\anaconda3\\envs\\ta\\lib\\site-packages\\textattack\\loggers\\csv_logger.py:41: FutureWarning: The frame.append method is deprecated and will be removed from pandas in a future version. Use pandas.concat instead.\n",
      "  self.df = self.df.append(row, ignore_index=True)\n",
      "[Succeeded / Failed / Skipped / Total] 95 / 39 / 4 / 138:  28%|██████                | 138/500 [04:26<11:39,  1.93s/it]"
     ]
    },
    {
     "name": "stdout",
     "output_type": "stream",
     "text": [
      "--------------------------------------------- Result 138 ---------------------------------------------\n",
      "[[Loc (99%)]] --> [[Num (99%)]]\n",
      "\n",
      "[[Where]] is Hitler buried ?\n",
      "\n",
      "[[When]] is Hitler buried ?\n",
      "\n",
      "\n"
     ]
    },
    {
     "name": "stderr",
     "output_type": "stream",
     "text": [
      "[Succeeded / Failed / Skipped / Total] 95 / 39 / 4 / 138:  28%|██████                | 139/500 [04:29<11:39,  1.94s/it]C:\\Users\\DELL\\anaconda3\\envs\\ta\\lib\\site-packages\\textattack\\loggers\\csv_logger.py:41: FutureWarning: The frame.append method is deprecated and will be removed from pandas in a future version. Use pandas.concat instead.\n",
      "  self.df = self.df.append(row, ignore_index=True)\n",
      "[Succeeded / Failed / Skipped / Total] 96 / 39 / 4 / 139:  28%|██████                | 139/500 [04:29<11:39,  1.94s/it]"
     ]
    },
    {
     "name": "stdout",
     "output_type": "stream",
     "text": [
      "--------------------------------------------- Result 139 ---------------------------------------------\n",
      "[[Enty (99%)]] --> [[Loc (99%)]]\n",
      "\n",
      "What [[color]] is a giraffe 's tongue ?\n",
      "\n",
      "What [[spot]] is a giraffe 's tongue ?\n",
      "\n",
      "\n"
     ]
    },
    {
     "name": "stderr",
     "output_type": "stream",
     "text": [
      "[Succeeded / Failed / Skipped / Total] 96 / 39 / 4 / 139:  28%|██████▏               | 140/500 [04:31<11:38,  1.94s/it]C:\\Users\\DELL\\anaconda3\\envs\\ta\\lib\\site-packages\\textattack\\loggers\\csv_logger.py:41: FutureWarning: The frame.append method is deprecated and will be removed from pandas in a future version. Use pandas.concat instead.\n",
      "  self.df = self.df.append(row, ignore_index=True)\n",
      "[Succeeded / Failed / Skipped / Total] 96 / 40 / 4 / 140:  28%|██████▏               | 140/500 [04:31<11:39,  1.94s/it]"
     ]
    },
    {
     "name": "stdout",
     "output_type": "stream",
     "text": [
      "--------------------------------------------- Result 140 ---------------------------------------------\n",
      "[[Hum (99%)]] --> [[[FAILED]]]\n",
      "\n",
      "Who invented the calculator ?\n",
      "\n",
      "\n"
     ]
    },
    {
     "name": "stderr",
     "output_type": "stream",
     "text": [
      "[Succeeded / Failed / Skipped / Total] 96 / 40 / 4 / 140:  28%|██████▏               | 141/500 [04:33<11:36,  1.94s/it]C:\\Users\\DELL\\anaconda3\\envs\\ta\\lib\\site-packages\\textattack\\loggers\\csv_logger.py:41: FutureWarning: The frame.append method is deprecated and will be removed from pandas in a future version. Use pandas.concat instead.\n",
      "  self.df = self.df.append(row, ignore_index=True)\n",
      "[Succeeded / Failed / Skipped / Total] 96 / 41 / 4 / 141:  28%|██████▏               | 141/500 [04:33<11:36,  1.94s/it]"
     ]
    },
    {
     "name": "stdout",
     "output_type": "stream",
     "text": [
      "--------------------------------------------- Result 141 ---------------------------------------------\n",
      "[[Desc (98%)]] --> [[[FAILED]]]\n",
      "\n",
      "What is a parasite ?\n",
      "\n",
      "\n"
     ]
    },
    {
     "name": "stderr",
     "output_type": "stream",
     "text": [
      "[Succeeded / Failed / Skipped / Total] 96 / 41 / 4 / 141:  28%|██████▏               | 142/500 [04:34<11:33,  1.94s/it]C:\\Users\\DELL\\anaconda3\\envs\\ta\\lib\\site-packages\\textattack\\loggers\\csv_logger.py:41: FutureWarning: The frame.append method is deprecated and will be removed from pandas in a future version. Use pandas.concat instead.\n",
      "  self.df = self.df.append(row, ignore_index=True)\n",
      "[Succeeded / Failed / Skipped / Total] 96 / 42 / 4 / 142:  28%|██████▏               | 142/500 [04:34<11:33,  1.94s/it]"
     ]
    },
    {
     "name": "stdout",
     "output_type": "stream",
     "text": [
      "--------------------------------------------- Result 142 ---------------------------------------------\n",
      "[[Desc (98%)]] --> [[[FAILED]]]\n",
      "\n",
      "What is cryptography ?\n",
      "\n",
      "\n"
     ]
    },
    {
     "name": "stderr",
     "output_type": "stream",
     "text": [
      "[Succeeded / Failed / Skipped / Total] 96 / 42 / 4 / 142:  29%|██████▎               | 143/500 [04:37<11:32,  1.94s/it]C:\\Users\\DELL\\anaconda3\\envs\\ta\\lib\\site-packages\\textattack\\loggers\\csv_logger.py:41: FutureWarning: The frame.append method is deprecated and will be removed from pandas in a future version. Use pandas.concat instead.\n",
      "  self.df = self.df.append(row, ignore_index=True)\n",
      "[Succeeded / Failed / Skipped / Total] 97 / 42 / 4 / 143:  29%|██████▎               | 143/500 [04:37<11:32,  1.94s/it]"
     ]
    },
    {
     "name": "stdout",
     "output_type": "stream",
     "text": [
      "--------------------------------------------- Result 143 ---------------------------------------------\n",
      "[[Enty (99%)]] --> [[Loc (99%)]]\n",
      "\n",
      "What [[color]] are crickets ?\n",
      "\n",
      "What [[spot]] are crickets ?\n",
      "\n",
      "\n"
     ]
    },
    {
     "name": "stderr",
     "output_type": "stream",
     "text": [
      "[Succeeded / Failed / Skipped / Total] 97 / 42 / 4 / 143:  29%|██████▎               | 144/500 [04:39<11:31,  1.94s/it]C:\\Users\\DELL\\anaconda3\\envs\\ta\\lib\\site-packages\\textattack\\loggers\\csv_logger.py:41: FutureWarning: The frame.append method is deprecated and will be removed from pandas in a future version. Use pandas.concat instead.\n",
      "  self.df = self.df.append(row, ignore_index=True)\n",
      "[Succeeded / Failed / Skipped / Total] 98 / 42 / 4 / 144:  29%|██████▎               | 144/500 [04:39<11:32,  1.94s/it]"
     ]
    },
    {
     "name": "stdout",
     "output_type": "stream",
     "text": [
      "--------------------------------------------- Result 144 ---------------------------------------------\n",
      "[[Num (99%)]] --> [[Desc (98%)]]\n",
      "\n",
      "How [[fast]] is the speed of light ?\n",
      "\n",
      "How [[forthwith]] is the speed of light ?\n",
      "\n",
      "\n"
     ]
    },
    {
     "name": "stderr",
     "output_type": "stream",
     "text": [
      "[Succeeded / Failed / Skipped / Total] 98 / 42 / 4 / 144:  29%|██████▍               | 145/500 [04:40<11:27,  1.94s/it]C:\\Users\\DELL\\anaconda3\\envs\\ta\\lib\\site-packages\\textattack\\loggers\\csv_logger.py:41: FutureWarning: The frame.append method is deprecated and will be removed from pandas in a future version. Use pandas.concat instead.\n",
      "  self.df = self.df.append(row, ignore_index=True)\n",
      "[Succeeded / Failed / Skipped / Total] 99 / 42 / 4 / 145:  29%|██████▍               | 145/500 [04:40<11:27,  1.94s/it]"
     ]
    },
    {
     "name": "stdout",
     "output_type": "stream",
     "text": [
      "--------------------------------------------- Result 145 ---------------------------------------------\n",
      "[[Num (99%)]] --> [[Enty (99%)]]\n",
      "\n",
      "What [[year]] did the Titanic start on its journey ?\n",
      "\n",
      "What [[ano]] did the Titanic start on its journey ?\n",
      "\n",
      "\n"
     ]
    },
    {
     "name": "stderr",
     "output_type": "stream",
     "text": [
      "[Succeeded / Failed / Skipped / Total] 99 / 42 / 4 / 145:  29%|██████▍               | 146/500 [04:41<11:22,  1.93s/it]C:\\Users\\DELL\\anaconda3\\envs\\ta\\lib\\site-packages\\textattack\\loggers\\csv_logger.py:41: FutureWarning: The frame.append method is deprecated and will be removed from pandas in a future version. Use pandas.concat instead.\n",
      "  self.df = self.df.append(row, ignore_index=True)\n",
      "[Succeeded / Failed / Skipped / Total] 100 / 42 / 4 / 146:  29%|██████▏              | 146/500 [04:41<11:22,  1.93s/it]C:\\Users\\DELL\\anaconda3\\envs\\ta\\lib\\site-packages\\textattack\\loggers\\csv_logger.py:41: FutureWarning: The frame.append method is deprecated and will be removed from pandas in a future version. Use pandas.concat instead.\n",
      "  self.df = self.df.append(row, ignore_index=True)\n",
      "[Succeeded / Failed / Skipped / Total] 100 / 42 / 5 / 147:  29%|██████▏              | 147/500 [04:41<11:16,  1.92s/it]"
     ]
    },
    {
     "name": "stdout",
     "output_type": "stream",
     "text": [
      "--------------------------------------------- Result 146 ---------------------------------------------\n",
      "[[Loc (99%)]] --> [[Hum (98%)]]\n",
      "\n",
      "What [[state]] did the Battle of Bighorn take place in ?\n",
      "\n",
      "What [[nationals]] did the Battle of Bighorn take place in ?\n",
      "\n",
      "\n",
      "--------------------------------------------- Result 147 ---------------------------------------------\n",
      "[[Desc (90%)]] --> [[[SKIPPED]]]\n",
      "\n",
      "What does the abbreviation SOS mean ?\n",
      "\n",
      "\n"
     ]
    },
    {
     "name": "stderr",
     "output_type": "stream",
     "text": [
      "[Succeeded / Failed / Skipped / Total] 100 / 42 / 5 / 147:  30%|██████▏              | 148/500 [04:43<11:13,  1.91s/it]C:\\Users\\DELL\\anaconda3\\envs\\ta\\lib\\site-packages\\textattack\\loggers\\csv_logger.py:41: FutureWarning: The frame.append method is deprecated and will be removed from pandas in a future version. Use pandas.concat instead.\n",
      "  self.df = self.df.append(row, ignore_index=True)\n",
      "[Succeeded / Failed / Skipped / Total] 101 / 42 / 5 / 148:  30%|██████▏              | 148/500 [04:43<11:13,  1.91s/it]"
     ]
    },
    {
     "name": "stdout",
     "output_type": "stream",
     "text": [
      "--------------------------------------------- Result 148 ---------------------------------------------\n",
      "[[Hum (99%)]] --> [[Enty (99%)]]\n",
      "\n",
      "What baseball [[team]] was the first to make numbers part of their uniform ?\n",
      "\n",
      "What baseball [[devices]] was the first to make numbers part of their uniform ?\n",
      "\n",
      "\n"
     ]
    },
    {
     "name": "stderr",
     "output_type": "stream",
     "text": [
      "C:\\Users\\DELL\\anaconda3\\envs\\ta\\lib\\site-packages\\textattack\\loggers\\csv_logger.py:41: FutureWarning: The frame.append method is deprecated and will be removed from pandas in a future version. Use pandas.concat instead.\n",
      "  self.df = self.df.append(row, ignore_index=True)\n",
      "\r",
      "[Succeeded / Failed / Skipped / Total] 102 / 42 / 5 / 149:  30%|██████▎              | 149/500 [04:44<11:09,  1.91s/it]"
     ]
    },
    {
     "name": "stdout",
     "output_type": "stream",
     "text": [
      "--------------------------------------------- Result 149 ---------------------------------------------\n",
      "[[Num (99%)]] --> [[Desc (98%)]]\n",
      "\n",
      "What is the [[population]] of Australia ?\n",
      "\n",
      "What is the [[volk]] of Australia ?\n",
      "\n",
      "\n"
     ]
    },
    {
     "name": "stderr",
     "output_type": "stream",
     "text": [
      "[Succeeded / Failed / Skipped / Total] 102 / 42 / 5 / 149:  30%|██████▎              | 150/500 [04:45<11:05,  1.90s/it]C:\\Users\\DELL\\anaconda3\\envs\\ta\\lib\\site-packages\\textattack\\loggers\\csv_logger.py:41: FutureWarning: The frame.append method is deprecated and will be removed from pandas in a future version. Use pandas.concat instead.\n",
      "  self.df = self.df.append(row, ignore_index=True)\n",
      "[Succeeded / Failed / Skipped / Total] 103 / 42 / 5 / 150:  30%|██████▎              | 150/500 [04:45<11:05,  1.90s/it]"
     ]
    },
    {
     "name": "stdout",
     "output_type": "stream",
     "text": [
      "--------------------------------------------- Result 150 ---------------------------------------------\n",
      "[[Num (99%)]] --> [[Enty (99%)]]\n",
      "\n",
      "What [[year]] did the U.S. buy Alaska ?\n",
      "\n",
      "What [[ano]] did the U.S. buy Alaska ?\n",
      "\n",
      "\n"
     ]
    },
    {
     "name": "stderr",
     "output_type": "stream",
     "text": [
      "C:\\Users\\DELL\\anaconda3\\envs\\ta\\lib\\site-packages\\textattack\\loggers\\csv_logger.py:41: FutureWarning: The frame.append method is deprecated and will be removed from pandas in a future version. Use pandas.concat instead.\n",
      "  self.df = self.df.append(row, ignore_index=True)\n",
      "\r",
      "[Succeeded / Failed / Skipped / Total] 104 / 42 / 5 / 151:  30%|██████▎              | 151/500 [04:46<11:02,  1.90s/it]"
     ]
    },
    {
     "name": "stdout",
     "output_type": "stream",
     "text": [
      "--------------------------------------------- Result 151 ---------------------------------------------\n",
      "[[Loc (99%)]] --> [[Hum (99%)]]\n",
      "\n",
      "What is the [[capital]] of Mongolia ?\n",
      "\n",
      "What is the [[investor]] of Mongolia ?\n",
      "\n",
      "\n"
     ]
    },
    {
     "name": "stderr",
     "output_type": "stream",
     "text": [
      "[Succeeded / Failed / Skipped / Total] 104 / 42 / 5 / 151:  30%|██████▍              | 152/500 [04:48<11:00,  1.90s/it]C:\\Users\\DELL\\anaconda3\\envs\\ta\\lib\\site-packages\\textattack\\loggers\\csv_logger.py:41: FutureWarning: The frame.append method is deprecated and will be removed from pandas in a future version. Use pandas.concat instead.\n",
      "  self.df = self.df.append(row, ignore_index=True)\n",
      "[Succeeded / Failed / Skipped / Total] 104 / 43 / 5 / 152:  30%|██████▍              | 152/500 [04:48<11:00,  1.90s/it]"
     ]
    },
    {
     "name": "stdout",
     "output_type": "stream",
     "text": [
      "--------------------------------------------- Result 152 ---------------------------------------------\n",
      "[[Enty (99%)]] --> [[[FAILED]]]\n",
      "\n",
      "What was the most popular toy in 1957 ?\n",
      "\n",
      "\n"
     ]
    },
    {
     "name": "stderr",
     "output_type": "stream",
     "text": [
      "C:\\Users\\DELL\\anaconda3\\envs\\ta\\lib\\site-packages\\textattack\\loggers\\csv_logger.py:41: FutureWarning: The frame.append method is deprecated and will be removed from pandas in a future version. Use pandas.concat instead.\n",
      "  self.df = self.df.append(row, ignore_index=True)\n",
      "\r",
      "[Succeeded / Failed / Skipped / Total] 105 / 43 / 5 / 153:  31%|██████▍              | 153/500 [04:49<10:56,  1.89s/it]"
     ]
    },
    {
     "name": "stdout",
     "output_type": "stream",
     "text": [
      "--------------------------------------------- Result 153 ---------------------------------------------\n",
      "[[Num (99%)]] --> [[Desc (77%)]]\n",
      "\n",
      "What is the atomic [[weight]] of silver ?\n",
      "\n",
      "What is the atomic [[sinker]] of silver ?\n",
      "\n",
      "\n"
     ]
    },
    {
     "name": "stderr",
     "output_type": "stream",
     "text": [
      "[Succeeded / Failed / Skipped / Total] 105 / 43 / 5 / 153:  31%|██████▍              | 154/500 [04:58<11:10,  1.94s/it]C:\\Users\\DELL\\anaconda3\\envs\\ta\\lib\\site-packages\\textattack\\loggers\\csv_logger.py:41: FutureWarning: The frame.append method is deprecated and will be removed from pandas in a future version. Use pandas.concat instead.\n",
      "  self.df = self.df.append(row, ignore_index=True)\n",
      "[Succeeded / Failed / Skipped / Total] 105 / 44 / 5 / 154:  31%|██████▍              | 154/500 [04:58<11:10,  1.94s/it]"
     ]
    },
    {
     "name": "stdout",
     "output_type": "stream",
     "text": [
      "--------------------------------------------- Result 154 ---------------------------------------------\n",
      "[[Hum (99%)]] --> [[[FAILED]]]\n",
      "\n",
      "Who was the first US President to ride in an automobile to his inauguration ?\n",
      "\n",
      "\n"
     ]
    },
    {
     "name": "stderr",
     "output_type": "stream",
     "text": [
      "C:\\Users\\DELL\\anaconda3\\envs\\ta\\lib\\site-packages\\textattack\\loggers\\csv_logger.py:41: FutureWarning: The frame.append method is deprecated and will be removed from pandas in a future version. Use pandas.concat instead.\n",
      "  self.df = self.df.append(row, ignore_index=True)\n",
      "\r",
      "[Succeeded / Failed / Skipped / Total] 106 / 44 / 5 / 155:  31%|██████▌              | 155/500 [04:59<11:07,  1.93s/it]"
     ]
    },
    {
     "name": "stdout",
     "output_type": "stream",
     "text": [
      "--------------------------------------------- Result 155 ---------------------------------------------\n",
      "[[Desc (98%)]] --> [[Loc (99%)]]\n",
      "\n",
      "[[Why]] does the moon turn orange ?\n",
      "\n",
      "[[Where]] does the moon turn orange ?\n",
      "\n",
      "\n"
     ]
    },
    {
     "name": "stderr",
     "output_type": "stream",
     "text": [
      "[Succeeded / Failed / Skipped / Total] 106 / 44 / 5 / 155:  31%|██████▌              | 156/500 [05:03<11:08,  1.94s/it]C:\\Users\\DELL\\anaconda3\\envs\\ta\\lib\\site-packages\\textattack\\loggers\\csv_logger.py:41: FutureWarning: The frame.append method is deprecated and will be removed from pandas in a future version. Use pandas.concat instead.\n",
      "  self.df = self.df.append(row, ignore_index=True)\n",
      "[Succeeded / Failed / Skipped / Total] 107 / 44 / 5 / 156:  31%|██████▌              | 156/500 [05:03<11:08,  1.94s/it]"
     ]
    },
    {
     "name": "stdout",
     "output_type": "stream",
     "text": [
      "--------------------------------------------- Result 156 ---------------------------------------------\n",
      "[[Enty (99%)]] --> [[Loc (99%)]]\n",
      "\n",
      "What [[currency]] does Argentina [[use]] ?\n",
      "\n",
      "What [[interchange]] does Argentina [[resort]] ?\n",
      "\n",
      "\n"
     ]
    },
    {
     "name": "stderr",
     "output_type": "stream",
     "text": [
      "C:\\Users\\DELL\\anaconda3\\envs\\ta\\lib\\site-packages\\textattack\\loggers\\csv_logger.py:41: FutureWarning: The frame.append method is deprecated and will be removed from pandas in a future version. Use pandas.concat instead.\n",
      "  self.df = self.df.append(row, ignore_index=True)\n",
      "\r",
      "[Succeeded / Failed / Skipped / Total] 108 / 44 / 5 / 157:  31%|██████▌              | 157/500 [05:03<11:03,  1.93s/it]"
     ]
    },
    {
     "name": "stdout",
     "output_type": "stream",
     "text": [
      "--------------------------------------------- Result 157 ---------------------------------------------\n",
      "[[Enty (99%)]] --> [[Loc (99%)]]\n",
      "\n",
      "What was the first [[satellite]] to go into space ?\n",
      "\n",
      "What was the first [[space]] to go into space ?\n",
      "\n",
      "\n"
     ]
    },
    {
     "name": "stderr",
     "output_type": "stream",
     "text": [
      "[Succeeded / Failed / Skipped / Total] 108 / 44 / 5 / 157:  32%|██████▋              | 158/500 [05:06<11:02,  1.94s/it]C:\\Users\\DELL\\anaconda3\\envs\\ta\\lib\\site-packages\\textattack\\loggers\\csv_logger.py:41: FutureWarning: The frame.append method is deprecated and will be removed from pandas in a future version. Use pandas.concat instead.\n",
      "  self.df = self.df.append(row, ignore_index=True)\n",
      "[Succeeded / Failed / Skipped / Total] 109 / 44 / 5 / 158:  32%|██████▋              | 158/500 [05:06<11:02,  1.94s/it]"
     ]
    },
    {
     "name": "stdout",
     "output_type": "stream",
     "text": [
      "--------------------------------------------- Result 158 ---------------------------------------------\n",
      "[[Desc (98%)]] --> [[Enty (99%)]]\n",
      "\n",
      "What [[causes]] gray hair ?\n",
      "\n",
      "What [[raison]] gray hair ?\n",
      "\n",
      "\n"
     ]
    },
    {
     "name": "stderr",
     "output_type": "stream",
     "text": [
      "C:\\Users\\DELL\\anaconda3\\envs\\ta\\lib\\site-packages\\textattack\\loggers\\csv_logger.py:41: FutureWarning: The frame.append method is deprecated and will be removed from pandas in a future version. Use pandas.concat instead.\n",
      "  self.df = self.df.append(row, ignore_index=True)\n",
      "\r",
      "[Succeeded / Failed / Skipped / Total] 110 / 44 / 5 / 159:  32%|██████▋              | 159/500 [05:07<10:58,  1.93s/it]"
     ]
    },
    {
     "name": "stdout",
     "output_type": "stream",
     "text": [
      "--------------------------------------------- Result 159 ---------------------------------------------\n",
      "[[Abbr (80%)]] --> [[Desc (97%)]]\n",
      "\n",
      "What does I.V. [[stand]] for ?\n",
      "\n",
      "What does I.V. [[attitude]] for ?\n",
      "\n",
      "\n"
     ]
    },
    {
     "name": "stderr",
     "output_type": "stream",
     "text": [
      "[Succeeded / Failed / Skipped / Total] 110 / 44 / 5 / 159:  32%|██████▋              | 160/500 [05:08<10:54,  1.93s/it]C:\\Users\\DELL\\anaconda3\\envs\\ta\\lib\\site-packages\\textattack\\loggers\\csv_logger.py:41: FutureWarning: The frame.append method is deprecated and will be removed from pandas in a future version. Use pandas.concat instead.\n",
      "  self.df = self.df.append(row, ignore_index=True)\n",
      "[Succeeded / Failed / Skipped / Total] 110 / 45 / 5 / 160:  32%|██████▋              | 160/500 [05:08<10:54,  1.93s/it]"
     ]
    },
    {
     "name": "stdout",
     "output_type": "stream",
     "text": [
      "--------------------------------------------- Result 160 ---------------------------------------------\n",
      "[[Desc (98%)]] --> [[[FAILED]]]\n",
      "\n",
      "What is pilates ?\n",
      "\n",
      "\n"
     ]
    },
    {
     "name": "stderr",
     "output_type": "stream",
     "text": [
      "C:\\Users\\DELL\\anaconda3\\envs\\ta\\lib\\site-packages\\textattack\\loggers\\csv_logger.py:41: FutureWarning: The frame.append method is deprecated and will be removed from pandas in a future version. Use pandas.concat instead.\n",
      "  self.df = self.df.append(row, ignore_index=True)\n",
      "\r",
      "[Succeeded / Failed / Skipped / Total] 111 / 45 / 5 / 161:  32%|██████▊              | 161/500 [05:09<10:50,  1.92s/it]"
     ]
    },
    {
     "name": "stdout",
     "output_type": "stream",
     "text": [
      "--------------------------------------------- Result 161 ---------------------------------------------\n",
      "[[Num (98%)]] --> [[Enty (78%)]]\n",
      "\n",
      "Mexican [[pesos]] are worth what in U.S. dollars ?\n",
      "\n",
      "Mexican [[sinker]] are worth what in U.S. dollars ?\n",
      "\n",
      "\n"
     ]
    },
    {
     "name": "stderr",
     "output_type": "stream",
     "text": [
      "[Succeeded / Failed / Skipped / Total] 111 / 45 / 5 / 161:  32%|██████▊              | 162/500 [05:14<10:55,  1.94s/it]C:\\Users\\DELL\\anaconda3\\envs\\ta\\lib\\site-packages\\textattack\\loggers\\csv_logger.py:41: FutureWarning: The frame.append method is deprecated and will be removed from pandas in a future version. Use pandas.concat instead.\n",
      "  self.df = self.df.append(row, ignore_index=True)\n",
      "[Succeeded / Failed / Skipped / Total] 111 / 46 / 5 / 162:  32%|██████▊              | 162/500 [05:14<10:55,  1.94s/it]"
     ]
    },
    {
     "name": "stdout",
     "output_type": "stream",
     "text": [
      "--------------------------------------------- Result 162 ---------------------------------------------\n",
      "[[Hum (99%)]] --> [[[FAILED]]]\n",
      "\n",
      "Who was elected president of South Africa in 1994 ?\n",
      "\n",
      "\n"
     ]
    },
    {
     "name": "stderr",
     "output_type": "stream",
     "text": [
      "C:\\Users\\DELL\\anaconda3\\envs\\ta\\lib\\site-packages\\textattack\\loggers\\csv_logger.py:41: FutureWarning: The frame.append method is deprecated and will be removed from pandas in a future version. Use pandas.concat instead.\n",
      "  self.df = self.df.append(row, ignore_index=True)\n",
      "\r",
      "[Succeeded / Failed / Skipped / Total] 111 / 47 / 5 / 163:  33%|██████▊              | 163/500 [05:14<10:51,  1.93s/it]"
     ]
    },
    {
     "name": "stdout",
     "output_type": "stream",
     "text": [
      "--------------------------------------------- Result 163 ---------------------------------------------\n",
      "[[Desc (98%)]] --> [[[FAILED]]]\n",
      "\n",
      "What is amoxicillin ?\n",
      "\n",
      "\n"
     ]
    },
    {
     "name": "stderr",
     "output_type": "stream",
     "text": [
      "[Succeeded / Failed / Skipped / Total] 111 / 47 / 5 / 163:  33%|██████▉              | 164/500 [05:16<10:49,  1.93s/it]C:\\Users\\DELL\\anaconda3\\envs\\ta\\lib\\site-packages\\textattack\\loggers\\csv_logger.py:41: FutureWarning: The frame.append method is deprecated and will be removed from pandas in a future version. Use pandas.concat instead.\n",
      "  self.df = self.df.append(row, ignore_index=True)\n",
      "[Succeeded / Failed / Skipped / Total] 112 / 47 / 5 / 164:  33%|██████▉              | 164/500 [05:16<10:49,  1.93s/it]"
     ]
    },
    {
     "name": "stdout",
     "output_type": "stream",
     "text": [
      "--------------------------------------------- Result 164 ---------------------------------------------\n",
      "[[Num (99%)]] --> [[Desc (98%)]]\n",
      "\n",
      "How [[far]] is Pluto from the sun ?\n",
      "\n",
      "How [[importantly]] is Pluto from the sun ?\n",
      "\n",
      "\n"
     ]
    },
    {
     "name": "stderr",
     "output_type": "stream",
     "text": [
      "C:\\Users\\DELL\\anaconda3\\envs\\ta\\lib\\site-packages\\textattack\\loggers\\csv_logger.py:41: FutureWarning: The frame.append method is deprecated and will be removed from pandas in a future version. Use pandas.concat instead.\n",
      "  self.df = self.df.append(row, ignore_index=True)\n",
      "\r",
      "[Succeeded / Failed / Skipped / Total] 112 / 48 / 5 / 165:  33%|██████▉              | 165/500 [05:20<10:51,  1.94s/it]"
     ]
    },
    {
     "name": "stdout",
     "output_type": "stream",
     "text": [
      "--------------------------------------------- Result 165 ---------------------------------------------\n",
      "[[Desc (98%)]] --> [[[FAILED]]]\n",
      "\n",
      "What is a fuel cell ?\n",
      "\n",
      "\n"
     ]
    },
    {
     "name": "stderr",
     "output_type": "stream",
     "text": [
      "[Succeeded / Failed / Skipped / Total] 112 / 48 / 5 / 165:  33%|██████▉              | 166/500 [05:21<10:46,  1.94s/it]C:\\Users\\DELL\\anaconda3\\envs\\ta\\lib\\site-packages\\textattack\\loggers\\csv_logger.py:41: FutureWarning: The frame.append method is deprecated and will be removed from pandas in a future version. Use pandas.concat instead.\n",
      "  self.df = self.df.append(row, ignore_index=True)\n",
      "[Succeeded / Failed / Skipped / Total] 112 / 49 / 5 / 166:  33%|██████▉              | 166/500 [05:21<10:46,  1.94s/it]"
     ]
    },
    {
     "name": "stdout",
     "output_type": "stream",
     "text": [
      "--------------------------------------------- Result 166 ---------------------------------------------\n",
      "[[Desc (98%)]] --> [[[FAILED]]]\n",
      "\n",
      "What is propylene glycol ?\n",
      "\n",
      "\n"
     ]
    },
    {
     "name": "stderr",
     "output_type": "stream",
     "text": [
      "C:\\Users\\DELL\\anaconda3\\envs\\ta\\lib\\site-packages\\textattack\\loggers\\csv_logger.py:41: FutureWarning: The frame.append method is deprecated and will be removed from pandas in a future version. Use pandas.concat instead.\n",
      "  self.df = self.df.append(row, ignore_index=True)\n",
      "\r",
      "[Succeeded / Failed / Skipped / Total] 113 / 49 / 5 / 167:  33%|███████              | 167/500 [05:22<10:44,  1.93s/it]"
     ]
    },
    {
     "name": "stdout",
     "output_type": "stream",
     "text": [
      "--------------------------------------------- Result 167 ---------------------------------------------\n",
      "[[Num (72%)]] --> [[Loc (99%)]]\n",
      "\n",
      "What is the [[elevation]] of St. Louis , MO ?\n",
      "\n",
      "What is the [[uppermost]] of St. Louis , MO ?\n",
      "\n",
      "\n"
     ]
    },
    {
     "name": "stderr",
     "output_type": "stream",
     "text": [
      "[Succeeded / Failed / Skipped / Total] 113 / 49 / 5 / 167:  34%|███████              | 168/500 [05:27<10:46,  1.95s/it]C:\\Users\\DELL\\anaconda3\\envs\\ta\\lib\\site-packages\\textattack\\loggers\\csv_logger.py:41: FutureWarning: The frame.append method is deprecated and will be removed from pandas in a future version. Use pandas.concat instead.\n",
      "  self.df = self.df.append(row, ignore_index=True)\n",
      "[Succeeded / Failed / Skipped / Total] 113 / 50 / 5 / 168:  34%|███████              | 168/500 [05:27<10:46,  1.95s/it]"
     ]
    },
    {
     "name": "stdout",
     "output_type": "stream",
     "text": [
      "--------------------------------------------- Result 168 ---------------------------------------------\n",
      "[[Hum (99%)]] --> [[[FAILED]]]\n",
      "\n",
      "Who was the first Prime Minister of Canada ?\n",
      "\n",
      "\n"
     ]
    },
    {
     "name": "stderr",
     "output_type": "stream",
     "text": [
      "C:\\Users\\DELL\\anaconda3\\envs\\ta\\lib\\site-packages\\textattack\\loggers\\csv_logger.py:41: FutureWarning: The frame.append method is deprecated and will be removed from pandas in a future version. Use pandas.concat instead.\n",
      "  self.df = self.df.append(row, ignore_index=True)\n",
      "\r",
      "[Succeeded / Failed / Skipped / Total] 114 / 50 / 5 / 169:  34%|███████              | 169/500 [05:29<10:44,  1.95s/it]"
     ]
    },
    {
     "name": "stdout",
     "output_type": "stream",
     "text": [
      "--------------------------------------------- Result 169 ---------------------------------------------\n",
      "[[Loc (99%)]] --> [[Num (99%)]]\n",
      "\n",
      "[[Where]] is the Mason/Dixon line ?\n",
      "\n",
      "[[When]] is the Mason/Dixon line ?\n",
      "\n",
      "\n"
     ]
    },
    {
     "name": "stderr",
     "output_type": "stream",
     "text": [
      "[Succeeded / Failed / Skipped / Total] 114 / 50 / 5 / 169:  34%|███████▏             | 170/500 [05:30<10:41,  1.94s/it]C:\\Users\\DELL\\anaconda3\\envs\\ta\\lib\\site-packages\\textattack\\loggers\\csv_logger.py:41: FutureWarning: The frame.append method is deprecated and will be removed from pandas in a future version. Use pandas.concat instead.\n",
      "  self.df = self.df.append(row, ignore_index=True)\n",
      "[Succeeded / Failed / Skipped / Total] 115 / 50 / 5 / 170:  34%|███████▏             | 170/500 [05:30<10:41,  1.94s/it]"
     ]
    },
    {
     "name": "stdout",
     "output_type": "stream",
     "text": [
      "--------------------------------------------- Result 170 ---------------------------------------------\n",
      "[[Loc (99%)]] --> [[Enty (88%)]]\n",
      "\n",
      "What [[county]] is Phoenix , AZ in ?\n",
      "\n",
      "What [[prov]] is Phoenix , AZ in ?\n",
      "\n",
      "\n"
     ]
    },
    {
     "name": "stderr",
     "output_type": "stream",
     "text": [
      "C:\\Users\\DELL\\anaconda3\\envs\\ta\\lib\\site-packages\\textattack\\loggers\\csv_logger.py:41: FutureWarning: The frame.append method is deprecated and will be removed from pandas in a future version. Use pandas.concat instead.\n",
      "  self.df = self.df.append(row, ignore_index=True)\n",
      "\r",
      "[Succeeded / Failed / Skipped / Total] 116 / 50 / 5 / 171:  34%|███████▏             | 171/500 [05:31<10:38,  1.94s/it]"
     ]
    },
    {
     "name": "stdout",
     "output_type": "stream",
     "text": [
      "--------------------------------------------- Result 171 ---------------------------------------------\n",
      "[[Desc (98%)]] --> [[Loc (99%)]]\n",
      "\n",
      "[[Why]] in tennis are zero points called love ?\n",
      "\n",
      "[[Where]] in tennis are zero points called love ?\n",
      "\n",
      "\n"
     ]
    },
    {
     "name": "stderr",
     "output_type": "stream",
     "text": [
      "[Succeeded / Failed / Skipped / Total] 116 / 50 / 5 / 171:  34%|███████▏             | 172/500 [05:34<10:37,  1.94s/it]C:\\Users\\DELL\\anaconda3\\envs\\ta\\lib\\site-packages\\textattack\\loggers\\csv_logger.py:41: FutureWarning: The frame.append method is deprecated and will be removed from pandas in a future version. Use pandas.concat instead.\n",
      "  self.df = self.df.append(row, ignore_index=True)\n",
      "[Succeeded / Failed / Skipped / Total] 117 / 50 / 5 / 172:  34%|███████▏             | 172/500 [05:34<10:37,  1.94s/it]"
     ]
    },
    {
     "name": "stdout",
     "output_type": "stream",
     "text": [
      "--------------------------------------------- Result 172 ---------------------------------------------\n",
      "[[Enty (99%)]] --> [[Hum (98%)]]\n",
      "\n",
      "What were Christopher Columbus ' three [[ships]] ?\n",
      "\n",
      "What were Christopher Columbus ' three [[marine]] ?\n",
      "\n",
      "\n"
     ]
    },
    {
     "name": "stderr",
     "output_type": "stream",
     "text": [
      "C:\\Users\\DELL\\anaconda3\\envs\\ta\\lib\\site-packages\\textattack\\loggers\\csv_logger.py:41: FutureWarning: The frame.append method is deprecated and will be removed from pandas in a future version. Use pandas.concat instead.\n",
      "  self.df = self.df.append(row, ignore_index=True)\n",
      "\r",
      "[Succeeded / Failed / Skipped / Total] 118 / 50 / 5 / 173:  35%|███████▎             | 173/500 [05:36<10:36,  1.95s/it]"
     ]
    },
    {
     "name": "stdout",
     "output_type": "stream",
     "text": [
      "--------------------------------------------- Result 173 ---------------------------------------------\n",
      "[[Num (99%)]] --> [[Desc (98%)]]\n",
      "\n",
      "What is the [[speed]] of light ?\n",
      "\n",
      "What is the [[vite]] of light ?\n",
      "\n",
      "\n"
     ]
    },
    {
     "name": "stderr",
     "output_type": "stream",
     "text": [
      "[Succeeded / Failed / Skipped / Total] 118 / 50 / 5 / 173:  35%|███████▎             | 174/500 [05:45<10:46,  1.98s/it]C:\\Users\\DELL\\anaconda3\\envs\\ta\\lib\\site-packages\\textattack\\loggers\\csv_logger.py:41: FutureWarning: The frame.append method is deprecated and will be removed from pandas in a future version. Use pandas.concat instead.\n",
      "  self.df = self.df.append(row, ignore_index=True)\n",
      "[Succeeded / Failed / Skipped / Total] 118 / 51 / 5 / 174:  35%|███████▎             | 174/500 [05:45<10:46,  1.98s/it]"
     ]
    },
    {
     "name": "stdout",
     "output_type": "stream",
     "text": [
      "--------------------------------------------- Result 174 ---------------------------------------------\n",
      "[[Hum (99%)]] --> [[[FAILED]]]\n",
      "\n",
      "Who was the first African American to win the Nobel Prize in literature ?\n",
      "\n",
      "\n"
     ]
    },
    {
     "name": "stderr",
     "output_type": "stream",
     "text": [
      "[Succeeded / Failed / Skipped / Total] 118 / 51 / 5 / 174:  35%|███████▎             | 175/500 [05:48<10:46,  1.99s/it]C:\\Users\\DELL\\anaconda3\\envs\\ta\\lib\\site-packages\\textattack\\loggers\\csv_logger.py:41: FutureWarning: The frame.append method is deprecated and will be removed from pandas in a future version. Use pandas.concat instead.\n",
      "  self.df = self.df.append(row, ignore_index=True)\n",
      "[Succeeded / Failed / Skipped / Total] 118 / 52 / 5 / 175:  35%|███████▎             | 175/500 [05:48<10:46,  1.99s/it]"
     ]
    },
    {
     "name": "stdout",
     "output_type": "stream",
     "text": [
      "--------------------------------------------- Result 175 ---------------------------------------------\n",
      "[[Desc (98%)]] --> [[[FAILED]]]\n",
      "\n",
      "What is the spirometer test ?\n",
      "\n",
      "\n"
     ]
    },
    {
     "name": "stderr",
     "output_type": "stream",
     "text": [
      "[Succeeded / Failed / Skipped / Total] 118 / 52 / 5 / 175:  35%|███████▍             | 176/500 [05:53<10:51,  2.01s/it]C:\\Users\\DELL\\anaconda3\\envs\\ta\\lib\\site-packages\\textattack\\loggers\\csv_logger.py:41: FutureWarning: The frame.append method is deprecated and will be removed from pandas in a future version. Use pandas.concat instead.\n",
      "  self.df = self.df.append(row, ignore_index=True)\n",
      "[Succeeded / Failed / Skipped / Total] 118 / 53 / 5 / 176:  35%|███████▍             | 176/500 [05:53<10:51,  2.01s/it]"
     ]
    },
    {
     "name": "stdout",
     "output_type": "stream",
     "text": [
      "--------------------------------------------- Result 176 ---------------------------------------------\n",
      "[[Loc (99%)]] --> [[[FAILED]]]\n",
      "\n",
      "In Poland , where do most people live ?\n",
      "\n",
      "\n"
     ]
    },
    {
     "name": "stderr",
     "output_type": "stream",
     "text": [
      "[Succeeded / Failed / Skipped / Total] 118 / 53 / 5 / 176:  35%|███████▍             | 177/500 [05:54<10:46,  2.00s/it]C:\\Users\\DELL\\anaconda3\\envs\\ta\\lib\\site-packages\\textattack\\loggers\\csv_logger.py:41: FutureWarning: The frame.append method is deprecated and will be removed from pandas in a future version. Use pandas.concat instead.\n",
      "  self.df = self.df.append(row, ignore_index=True)\n",
      "[Succeeded / Failed / Skipped / Total] 118 / 54 / 5 / 177:  35%|███████▍             | 177/500 [05:54<10:46,  2.00s/it]"
     ]
    },
    {
     "name": "stdout",
     "output_type": "stream",
     "text": [
      "--------------------------------------------- Result 177 ---------------------------------------------\n",
      "[[Desc (98%)]] --> [[[FAILED]]]\n",
      "\n",
      "What is the chunnel ?\n",
      "\n",
      "\n"
     ]
    },
    {
     "name": "stderr",
     "output_type": "stream",
     "text": [
      "[Succeeded / Failed / Skipped / Total] 118 / 54 / 5 / 177:  36%|███████▍             | 178/500 [05:56<10:45,  2.00s/it]C:\\Users\\DELL\\anaconda3\\envs\\ta\\lib\\site-packages\\textattack\\loggers\\csv_logger.py:41: FutureWarning: The frame.append method is deprecated and will be removed from pandas in a future version. Use pandas.concat instead.\n",
      "  self.df = self.df.append(row, ignore_index=True)\n",
      "[Succeeded / Failed / Skipped / Total] 119 / 54 / 5 / 178:  36%|███████▍             | 178/500 [05:56<10:45,  2.00s/it]"
     ]
    },
    {
     "name": "stdout",
     "output_type": "stream",
     "text": [
      "--------------------------------------------- Result 178 ---------------------------------------------\n",
      "[[Num (99%)]] --> [[Desc (98%)]]\n",
      "\n",
      "How [[many]] hearts does an octopus have ?\n",
      "\n",
      "How [[untold]] hearts does an octopus have ?\n",
      "\n",
      "\n"
     ]
    },
    {
     "name": "stderr",
     "output_type": "stream",
     "text": [
      "[Succeeded / Failed / Skipped / Total] 119 / 54 / 5 / 178:  36%|███████▌             | 179/500 [05:59<10:44,  2.01s/it]C:\\Users\\DELL\\anaconda3\\envs\\ta\\lib\\site-packages\\textattack\\loggers\\csv_logger.py:41: FutureWarning: The frame.append method is deprecated and will be removed from pandas in a future version. Use pandas.concat instead.\n",
      "  self.df = self.df.append(row, ignore_index=True)\n",
      "[Succeeded / Failed / Skipped / Total] 120 / 54 / 5 / 179:  36%|███████▌             | 179/500 [05:59<10:44,  2.01s/it]"
     ]
    },
    {
     "name": "stdout",
     "output_type": "stream",
     "text": [
      "--------------------------------------------- Result 179 ---------------------------------------------\n",
      "[[Hum (99%)]] --> [[Enty (99%)]]\n",
      "\n",
      "What is the name of the [[leader]] of Ireland ?\n",
      "\n",
      "What is the name of the [[leiter]] of Ireland ?\n",
      "\n",
      "\n"
     ]
    },
    {
     "name": "stderr",
     "output_type": "stream",
     "text": [
      "[Succeeded / Failed / Skipped / Total] 120 / 54 / 5 / 179:  36%|███████▌             | 180/500 [06:01<10:42,  2.01s/it]C:\\Users\\DELL\\anaconda3\\envs\\ta\\lib\\site-packages\\textattack\\loggers\\csv_logger.py:41: FutureWarning: The frame.append method is deprecated and will be removed from pandas in a future version. Use pandas.concat instead.\n",
      "  self.df = self.df.append(row, ignore_index=True)\n",
      "[Succeeded / Failed / Skipped / Total] 121 / 54 / 5 / 180:  36%|███████▌             | 180/500 [06:01<10:42,  2.01s/it]"
     ]
    },
    {
     "name": "stdout",
     "output_type": "stream",
     "text": [
      "--------------------------------------------- Result 180 ---------------------------------------------\n",
      "[[Loc (99%)]] --> [[Num (99%)]]\n",
      "\n",
      "[[Where]] is the tallest roller coaster located ?\n",
      "\n",
      "[[When]] is the tallest roller coaster located ?\n",
      "\n",
      "\n"
     ]
    },
    {
     "name": "stderr",
     "output_type": "stream",
     "text": [
      "[Succeeded / Failed / Skipped / Total] 121 / 54 / 5 / 180:  36%|███████▌             | 181/500 [06:03<10:40,  2.01s/it]C:\\Users\\DELL\\anaconda3\\envs\\ta\\lib\\site-packages\\textattack\\loggers\\csv_logger.py:41: FutureWarning: The frame.append method is deprecated and will be removed from pandas in a future version. Use pandas.concat instead.\n",
      "  self.df = self.df.append(row, ignore_index=True)\n",
      "[Succeeded / Failed / Skipped / Total] 121 / 55 / 5 / 181:  36%|███████▌             | 181/500 [06:03<10:40,  2.01s/it]"
     ]
    },
    {
     "name": "stdout",
     "output_type": "stream",
     "text": [
      "--------------------------------------------- Result 181 ---------------------------------------------\n",
      "[[Desc (98%)]] --> [[[FAILED]]]\n",
      "\n",
      "What is cholesterol ?\n",
      "\n",
      "\n"
     ]
    },
    {
     "name": "stderr",
     "output_type": "stream",
     "text": [
      "[Succeeded / Failed / Skipped / Total] 121 / 55 / 5 / 181:  36%|███████▋             | 182/500 [06:05<10:38,  2.01s/it]C:\\Users\\DELL\\anaconda3\\envs\\ta\\lib\\site-packages\\textattack\\loggers\\csv_logger.py:41: FutureWarning: The frame.append method is deprecated and will be removed from pandas in a future version. Use pandas.concat instead.\n",
      "  self.df = self.df.append(row, ignore_index=True)\n",
      "[Succeeded / Failed / Skipped / Total] 122 / 55 / 5 / 182:  36%|███████▋             | 182/500 [06:05<10:38,  2.01s/it]"
     ]
    },
    {
     "name": "stdout",
     "output_type": "stream",
     "text": [
      "--------------------------------------------- Result 182 ---------------------------------------------\n",
      "[[Enty (89%)]] --> [[Desc (98%)]]\n",
      "\n",
      "What does a barometer [[measure]] ?\n",
      "\n",
      "What does a barometer [[initiatives]] ?\n",
      "\n",
      "\n"
     ]
    },
    {
     "name": "stderr",
     "output_type": "stream",
     "text": [
      "[Succeeded / Failed / Skipped / Total] 122 / 55 / 5 / 182:  37%|███████▋             | 183/500 [06:10<10:42,  2.03s/it]C:\\Users\\DELL\\anaconda3\\envs\\ta\\lib\\site-packages\\textattack\\loggers\\csv_logger.py:41: FutureWarning: The frame.append method is deprecated and will be removed from pandas in a future version. Use pandas.concat instead.\n",
      "  self.df = self.df.append(row, ignore_index=True)\n",
      "[Succeeded / Failed / Skipped / Total] 123 / 55 / 5 / 183:  37%|███████▋             | 183/500 [06:10<10:42,  2.03s/it]"
     ]
    },
    {
     "name": "stdout",
     "output_type": "stream",
     "text": [
      "--------------------------------------------- Result 183 ---------------------------------------------\n",
      "[[Desc (98%)]] --> [[Enty (92%)]]\n",
      "\n",
      "What is a [[panic]] [[disorder]] ?\n",
      "\n",
      "What is a [[feared]] [[illness]] ?\n",
      "\n",
      "\n"
     ]
    },
    {
     "name": "stderr",
     "output_type": "stream",
     "text": [
      "[Succeeded / Failed / Skipped / Total] 123 / 55 / 5 / 183:  37%|███████▋             | 184/500 [06:12<10:40,  2.03s/it]C:\\Users\\DELL\\anaconda3\\envs\\ta\\lib\\site-packages\\textattack\\loggers\\csv_logger.py:41: FutureWarning: The frame.append method is deprecated and will be removed from pandas in a future version. Use pandas.concat instead.\n",
      "  self.df = self.df.append(row, ignore_index=True)\n",
      "[Succeeded / Failed / Skipped / Total] 123 / 56 / 5 / 184:  37%|███████▋             | 184/500 [06:12<10:40,  2.03s/it]"
     ]
    },
    {
     "name": "stdout",
     "output_type": "stream",
     "text": [
      "--------------------------------------------- Result 184 ---------------------------------------------\n",
      "[[Desc (98%)]] --> [[[FAILED]]]\n",
      "\n",
      "What is carbon dioxide ?\n",
      "\n",
      "\n"
     ]
    },
    {
     "name": "stderr",
     "output_type": "stream",
     "text": [
      "[Succeeded / Failed / Skipped / Total] 123 / 56 / 5 / 184:  37%|███████▊             | 185/500 [06:14<10:36,  2.02s/it]C:\\Users\\DELL\\anaconda3\\envs\\ta\\lib\\site-packages\\textattack\\loggers\\csv_logger.py:41: FutureWarning: The frame.append method is deprecated and will be removed from pandas in a future version. Use pandas.concat instead.\n",
      "  self.df = self.df.append(row, ignore_index=True)\n",
      "[Succeeded / Failed / Skipped / Total] 124 / 56 / 5 / 185:  37%|███████▊             | 185/500 [06:14<10:36,  2.02s/it]C:\\Users\\DELL\\anaconda3\\envs\\ta\\lib\\site-packages\\textattack\\loggers\\csv_logger.py:41: FutureWarning: The frame.append method is deprecated and will be removed from pandas in a future version. Use pandas.concat instead.\n",
      "  self.df = self.df.append(row, ignore_index=True)\n",
      "[Succeeded / Failed / Skipped / Total] 124 / 56 / 6 / 186:  37%|███████▊             | 186/500 [06:14<10:31,  2.01s/it]"
     ]
    },
    {
     "name": "stdout",
     "output_type": "stream",
     "text": [
      "--------------------------------------------- Result 185 ---------------------------------------------\n",
      "[[Enty (98%)]] --> [[Desc (98%)]]\n",
      "\n",
      "What is the active [[ingredient]] in baking soda ?\n",
      "\n",
      "What is the active [[aspects]] in baking soda ?\n",
      "\n",
      "\n",
      "--------------------------------------------- Result 186 ---------------------------------------------\n",
      "[[Desc (56%)]] --> [[[SKIPPED]]]\n",
      "\n",
      "What is the brightest star ?\n",
      "\n",
      "\n"
     ]
    },
    {
     "name": "stderr",
     "output_type": "stream",
     "text": [
      "[Succeeded / Failed / Skipped / Total] 124 / 56 / 6 / 186:  37%|███████▊             | 187/500 [06:22<10:40,  2.05s/it]C:\\Users\\DELL\\anaconda3\\envs\\ta\\lib\\site-packages\\textattack\\loggers\\csv_logger.py:41: FutureWarning: The frame.append method is deprecated and will be removed from pandas in a future version. Use pandas.concat instead.\n",
      "  self.df = self.df.append(row, ignore_index=True)\n",
      "[Succeeded / Failed / Skipped / Total] 124 / 57 / 6 / 187:  37%|███████▊             | 187/500 [06:22<10:40,  2.05s/it]"
     ]
    },
    {
     "name": "stdout",
     "output_type": "stream",
     "text": [
      "--------------------------------------------- Result 187 ---------------------------------------------\n",
      "[[Hum (99%)]] --> [[[FAILED]]]\n",
      "\n",
      "Who wrote `` The Divine Comedy '' ?\n",
      "\n",
      "\n"
     ]
    },
    {
     "name": "stderr",
     "output_type": "stream",
     "text": [
      "C:\\Users\\DELL\\anaconda3\\envs\\ta\\lib\\site-packages\\textattack\\loggers\\csv_logger.py:41: FutureWarning: The frame.append method is deprecated and will be removed from pandas in a future version. Use pandas.concat instead.\n",
      "  self.df = self.df.append(row, ignore_index=True)\n",
      "\r",
      "[Succeeded / Failed / Skipped / Total] 125 / 57 / 6 / 188:  38%|███████▉             | 188/500 [06:24<10:38,  2.05s/it]"
     ]
    },
    {
     "name": "stdout",
     "output_type": "stream",
     "text": [
      "--------------------------------------------- Result 188 ---------------------------------------------\n",
      "[[Num (99%)]] --> [[Enty (99%)]]\n",
      "\n",
      "What [[day]] and [[month]] did John Lennon die ?\n",
      "\n",
      "What [[diaz]] and [[mes]] did John Lennon die ?\n",
      "\n",
      "\n"
     ]
    },
    {
     "name": "stderr",
     "output_type": "stream",
     "text": [
      "[Succeeded / Failed / Skipped / Total] 125 / 57 / 6 / 188:  38%|███████▉             | 189/500 [06:25<10:33,  2.04s/it]C:\\Users\\DELL\\anaconda3\\envs\\ta\\lib\\site-packages\\textattack\\loggers\\csv_logger.py:41: FutureWarning: The frame.append method is deprecated and will be removed from pandas in a future version. Use pandas.concat instead.\n",
      "  self.df = self.df.append(row, ignore_index=True)\n",
      "[Succeeded / Failed / Skipped / Total] 125 / 58 / 6 / 189:  38%|███████▉             | 189/500 [06:25<10:33,  2.04s/it]"
     ]
    },
    {
     "name": "stdout",
     "output_type": "stream",
     "text": [
      "--------------------------------------------- Result 189 ---------------------------------------------\n",
      "[[Desc (98%)]] --> [[[FAILED]]]\n",
      "\n",
      "What is naproxen ?\n",
      "\n",
      "\n"
     ]
    },
    {
     "name": "stderr",
     "output_type": "stream",
     "text": [
      "C:\\Users\\DELL\\anaconda3\\envs\\ta\\lib\\site-packages\\textattack\\loggers\\csv_logger.py:41: FutureWarning: The frame.append method is deprecated and will be removed from pandas in a future version. Use pandas.concat instead.\n",
      "  self.df = self.df.append(row, ignore_index=True)\n",
      "\r",
      "[Succeeded / Failed / Skipped / Total] 126 / 58 / 6 / 190:  38%|███████▉             | 190/500 [06:25<10:29,  2.03s/it]"
     ]
    },
    {
     "name": "stdout",
     "output_type": "stream",
     "text": [
      "--------------------------------------------- Result 190 ---------------------------------------------\n",
      "[[Num (99%)]] --> [[Loc (99%)]]\n",
      "\n",
      "[[When]] did Elvis Presley die ?\n",
      "\n",
      "[[Where]] did Elvis Presley die ?\n",
      "\n",
      "\n"
     ]
    },
    {
     "name": "stderr",
     "output_type": "stream",
     "text": [
      "[Succeeded / Failed / Skipped / Total] 126 / 58 / 6 / 190:  38%|████████             | 191/500 [06:26<10:25,  2.03s/it]C:\\Users\\DELL\\anaconda3\\envs\\ta\\lib\\site-packages\\textattack\\loggers\\csv_logger.py:41: FutureWarning: The frame.append method is deprecated and will be removed from pandas in a future version. Use pandas.concat instead.\n",
      "  self.df = self.df.append(row, ignore_index=True)\n",
      "[Succeeded / Failed / Skipped / Total] 127 / 58 / 6 / 191:  38%|████████             | 191/500 [06:26<10:25,  2.03s/it]"
     ]
    },
    {
     "name": "stdout",
     "output_type": "stream",
     "text": [
      "--------------------------------------------- Result 191 ---------------------------------------------\n",
      "[[Abbr (80%)]] --> [[Desc (95%)]]\n",
      "\n",
      "What does NASA [[stand]] for ?\n",
      "\n",
      "What does NASA [[stance]] for ?\n",
      "\n",
      "\n"
     ]
    },
    {
     "name": "stderr",
     "output_type": "stream",
     "text": [
      "C:\\Users\\DELL\\anaconda3\\envs\\ta\\lib\\site-packages\\textattack\\loggers\\csv_logger.py:41: FutureWarning: The frame.append method is deprecated and will be removed from pandas in a future version. Use pandas.concat instead.\n",
      "  self.df = self.df.append(row, ignore_index=True)\n",
      "\r",
      "[Succeeded / Failed / Skipped / Total] 128 / 58 / 6 / 192:  38%|████████             | 192/500 [06:27<10:22,  2.02s/it]"
     ]
    },
    {
     "name": "stdout",
     "output_type": "stream",
     "text": [
      "--------------------------------------------- Result 192 ---------------------------------------------\n",
      "[[Num (99%)]] --> [[Enty (99%)]]\n",
      "\n",
      "What [[year]] did the Titanic sink ?\n",
      "\n",
      "What [[ano]] did the Titanic sink ?\n",
      "\n",
      "\n"
     ]
    },
    {
     "name": "stderr",
     "output_type": "stream",
     "text": [
      "[Succeeded / Failed / Skipped / Total] 128 / 58 / 6 / 192:  39%|████████             | 193/500 [06:28<10:17,  2.01s/it]C:\\Users\\DELL\\anaconda3\\envs\\ta\\lib\\site-packages\\textattack\\loggers\\csv_logger.py:41: FutureWarning: The frame.append method is deprecated and will be removed from pandas in a future version. Use pandas.concat instead.\n",
      "  self.df = self.df.append(row, ignore_index=True)\n",
      "[Succeeded / Failed / Skipped / Total] 129 / 58 / 6 / 193:  39%|████████             | 193/500 [06:28<10:17,  2.01s/it]"
     ]
    },
    {
     "name": "stdout",
     "output_type": "stream",
     "text": [
      "--------------------------------------------- Result 193 ---------------------------------------------\n",
      "[[Num (99%)]] --> [[Loc (99%)]]\n",
      "\n",
      "[[When]] is hurricane season in the Caribbean ?\n",
      "\n",
      "[[Where]] is hurricane season in the Caribbean ?\n",
      "\n",
      "\n"
     ]
    },
    {
     "name": "stderr",
     "output_type": "stream",
     "text": [
      "C:\\Users\\DELL\\anaconda3\\envs\\ta\\lib\\site-packages\\textattack\\loggers\\csv_logger.py:41: FutureWarning: The frame.append method is deprecated and will be removed from pandas in a future version. Use pandas.concat instead.\n",
      "  self.df = self.df.append(row, ignore_index=True)\n",
      "\r",
      "[Succeeded / Failed / Skipped / Total] 130 / 58 / 6 / 194:  39%|████████▏            | 194/500 [06:34<10:21,  2.03s/it]"
     ]
    },
    {
     "name": "stdout",
     "output_type": "stream",
     "text": [
      "--------------------------------------------- Result 194 ---------------------------------------------\n",
      "[[Enty (99%)]] --> [[Desc (98%)]]\n",
      "\n",
      "What are the [[animals]] that don 't have [[backbones]] [[called]] ?\n",
      "\n",
      "What are the [[weevils]] that don 't have [[fundamentals]] [[asks]] ?\n",
      "\n",
      "\n"
     ]
    },
    {
     "name": "stderr",
     "output_type": "stream",
     "text": [
      "[Succeeded / Failed / Skipped / Total] 130 / 58 / 6 / 194:  39%|████████▏            | 195/500 [06:36<10:20,  2.03s/it]C:\\Users\\DELL\\anaconda3\\envs\\ta\\lib\\site-packages\\textattack\\loggers\\csv_logger.py:41: FutureWarning: The frame.append method is deprecated and will be removed from pandas in a future version. Use pandas.concat instead.\n",
      "  self.df = self.df.append(row, ignore_index=True)\n",
      "[Succeeded / Failed / Skipped / Total] 131 / 58 / 6 / 195:  39%|████████▏            | 195/500 [06:36<10:20,  2.03s/it]"
     ]
    },
    {
     "name": "stdout",
     "output_type": "stream",
     "text": [
      "--------------------------------------------- Result 195 ---------------------------------------------\n",
      "[[Num (98%)]] --> [[Desc (92%)]]\n",
      "\n",
      "What is the [[melting]] point of copper ?\n",
      "\n",
      "What is the [[blending]] point of copper ?\n",
      "\n",
      "\n"
     ]
    },
    {
     "name": "stderr",
     "output_type": "stream",
     "text": [
      "C:\\Users\\DELL\\anaconda3\\envs\\ta\\lib\\site-packages\\textattack\\loggers\\csv_logger.py:41: FutureWarning: The frame.append method is deprecated and will be removed from pandas in a future version. Use pandas.concat instead.\n",
      "  self.df = self.df.append(row, ignore_index=True)\n",
      "\r",
      "[Succeeded / Failed / Skipped / Total] 131 / 59 / 6 / 196:  39%|████████▏            | 196/500 [06:39<10:19,  2.04s/it]"
     ]
    },
    {
     "name": "stdout",
     "output_type": "stream",
     "text": [
      "--------------------------------------------- Result 196 ---------------------------------------------\n",
      "[[Hum (99%)]] --> [[[FAILED]]]\n",
      "\n",
      "Who invented the slinky ?\n",
      "\n",
      "\n"
     ]
    },
    {
     "name": "stderr",
     "output_type": "stream",
     "text": [
      "[Succeeded / Failed / Skipped / Total] 131 / 59 / 6 / 196:  39%|████████▎            | 197/500 [06:43<10:20,  2.05s/it]C:\\Users\\DELL\\anaconda3\\envs\\ta\\lib\\site-packages\\textattack\\loggers\\csv_logger.py:41: FutureWarning: The frame.append method is deprecated and will be removed from pandas in a future version. Use pandas.concat instead.\n",
      "  self.df = self.df.append(row, ignore_index=True)\n",
      "[Succeeded / Failed / Skipped / Total] 132 / 59 / 6 / 197:  39%|████████▎            | 197/500 [06:43<10:20,  2.05s/it]"
     ]
    },
    {
     "name": "stdout",
     "output_type": "stream",
     "text": [
      "--------------------------------------------- Result 197 ---------------------------------------------\n",
      "[[Num (99%)]] --> [[Enty (99%)]]\n",
      "\n",
      "What is the [[average]] [[speed]] of the horses at the Kentucky Derby ?\n",
      "\n",
      "What is the [[midst]] [[swiftest]] of the horses at the Kentucky Derby ?\n",
      "\n",
      "\n"
     ]
    },
    {
     "name": "stderr",
     "output_type": "stream",
     "text": [
      "C:\\Users\\DELL\\anaconda3\\envs\\ta\\lib\\site-packages\\textattack\\loggers\\csv_logger.py:41: FutureWarning: The frame.append method is deprecated and will be removed from pandas in a future version. Use pandas.concat instead.\n",
      "  self.df = self.df.append(row, ignore_index=True)\n",
      "\r",
      "[Succeeded / Failed / Skipped / Total] 133 / 59 / 6 / 198:  40%|████████▎            | 198/500 [06:44<10:17,  2.04s/it]"
     ]
    },
    {
     "name": "stdout",
     "output_type": "stream",
     "text": [
      "--------------------------------------------- Result 198 ---------------------------------------------\n",
      "[[Loc (99%)]] --> [[Hum (99%)]]\n",
      "\n",
      "What is the oldest [[city]] in the United States ?\n",
      "\n",
      "What is the oldest [[mayor]] in the United States ?\n",
      "\n",
      "\n"
     ]
    },
    {
     "name": "stderr",
     "output_type": "stream",
     "text": [
      "[Succeeded / Failed / Skipped / Total] 133 / 59 / 6 / 198:  40%|████████▎            | 199/500 [06:46<10:14,  2.04s/it]C:\\Users\\DELL\\anaconda3\\envs\\ta\\lib\\site-packages\\textattack\\loggers\\csv_logger.py:41: FutureWarning: The frame.append method is deprecated and will be removed from pandas in a future version. Use pandas.concat instead.\n",
      "  self.df = self.df.append(row, ignore_index=True)\n",
      "[Succeeded / Failed / Skipped / Total] 133 / 60 / 6 / 199:  40%|████████▎            | 199/500 [06:46<10:14,  2.04s/it]"
     ]
    },
    {
     "name": "stdout",
     "output_type": "stream",
     "text": [
      "--------------------------------------------- Result 199 ---------------------------------------------\n",
      "[[Desc (98%)]] --> [[[FAILED]]]\n",
      "\n",
      "What is metabolism ?\n",
      "\n",
      "\n"
     ]
    },
    {
     "name": "stderr",
     "output_type": "stream",
     "text": [
      "C:\\Users\\DELL\\anaconda3\\envs\\ta\\lib\\site-packages\\textattack\\loggers\\csv_logger.py:41: FutureWarning: The frame.append method is deprecated and will be removed from pandas in a future version. Use pandas.concat instead.\n",
      "  self.df = self.df.append(row, ignore_index=True)\n",
      "\r",
      "[Succeeded / Failed / Skipped / Total] 134 / 60 / 6 / 200:  40%|████████▍            | 200/500 [06:55<10:23,  2.08s/it]"
     ]
    },
    {
     "name": "stdout",
     "output_type": "stream",
     "text": [
      "--------------------------------------------- Result 200 ---------------------------------------------\n",
      "[[Hum (99%)]] --> [[Enty (95%)]]\n",
      "\n",
      "[[What]] [[American]] [[composer]] [[wrote]] the [[music]] for `` [[West]] [[Side]] [[Story]] '' ?\n",
      "\n",
      "[[Wher]] [[Estados]] [[composition]] [[texts]] the [[concert]] for `` [[Balkans]] [[Lateral]] [[Historian]] '' ?\n",
      "\n",
      "\n"
     ]
    },
    {
     "name": "stderr",
     "output_type": "stream",
     "text": [
      "[Succeeded / Failed / Skipped / Total] 134 / 60 / 6 / 200:  40%|████████▍            | 201/500 [07:01<10:27,  2.10s/it]C:\\Users\\DELL\\anaconda3\\envs\\ta\\lib\\site-packages\\textattack\\loggers\\csv_logger.py:41: FutureWarning: The frame.append method is deprecated and will be removed from pandas in a future version. Use pandas.concat instead.\n",
      "  self.df = self.df.append(row, ignore_index=True)\n",
      "[Succeeded / Failed / Skipped / Total] 134 / 61 / 6 / 201:  40%|████████▍            | 201/500 [07:01<10:27,  2.10s/it]"
     ]
    },
    {
     "name": "stdout",
     "output_type": "stream",
     "text": [
      "--------------------------------------------- Result 201 ---------------------------------------------\n",
      "[[Hum (99%)]] --> [[[FAILED]]]\n",
      "\n",
      "Who painted the ceiling of the Sistine Chapel ?\n",
      "\n",
      "\n"
     ]
    },
    {
     "name": "stderr",
     "output_type": "stream",
     "text": [
      "[Succeeded / Failed / Skipped / Total] 134 / 61 / 6 / 201:  40%|████████▍            | 202/500 [07:03<10:24,  2.10s/it]C:\\Users\\DELL\\anaconda3\\envs\\ta\\lib\\site-packages\\textattack\\loggers\\csv_logger.py:41: FutureWarning: The frame.append method is deprecated and will be removed from pandas in a future version. Use pandas.concat instead.\n",
      "  self.df = self.df.append(row, ignore_index=True)\n",
      "[Succeeded / Failed / Skipped / Total] 134 / 62 / 6 / 202:  40%|████████▍            | 202/500 [07:03<10:24,  2.10s/it]"
     ]
    },
    {
     "name": "stdout",
     "output_type": "stream",
     "text": [
      "--------------------------------------------- Result 202 ---------------------------------------------\n",
      "[[Desc (98%)]] --> [[[FAILED]]]\n",
      "\n",
      "What is an atom ?\n",
      "\n",
      "\n"
     ]
    },
    {
     "name": "stderr",
     "output_type": "stream",
     "text": [
      "[Succeeded / Failed / Skipped / Total] 134 / 62 / 6 / 202:  41%|████████▌            | 203/500 [07:03<10:20,  2.09s/it]C:\\Users\\DELL\\anaconda3\\envs\\ta\\lib\\site-packages\\textattack\\loggers\\csv_logger.py:41: FutureWarning: The frame.append method is deprecated and will be removed from pandas in a future version. Use pandas.concat instead.\n",
      "  self.df = self.df.append(row, ignore_index=True)\n",
      "[Succeeded / Failed / Skipped / Total] 135 / 62 / 6 / 203:  41%|████████▌            | 203/500 [07:03<10:20,  2.09s/it]"
     ]
    },
    {
     "name": "stdout",
     "output_type": "stream",
     "text": [
      "--------------------------------------------- Result 203 ---------------------------------------------\n",
      "[[Enty (99%)]] --> [[Desc (95%)]]\n",
      "\n",
      "What [[fruit]] is Melba sauce made from ?\n",
      "\n",
      "What [[outcome]] is Melba sauce made from ?\n",
      "\n",
      "\n"
     ]
    },
    {
     "name": "stderr",
     "output_type": "stream",
     "text": [
      "[Succeeded / Failed / Skipped / Total] 135 / 62 / 6 / 203:  41%|████████▌            | 204/500 [07:05<10:16,  2.08s/it]C:\\Users\\DELL\\anaconda3\\envs\\ta\\lib\\site-packages\\textattack\\loggers\\csv_logger.py:41: FutureWarning: The frame.append method is deprecated and will be removed from pandas in a future version. Use pandas.concat instead.\n",
      "  self.df = self.df.append(row, ignore_index=True)\n",
      "[Succeeded / Failed / Skipped / Total] 136 / 62 / 6 / 204:  41%|████████▌            | 204/500 [07:05<10:16,  2.08s/it]"
     ]
    },
    {
     "name": "stdout",
     "output_type": "stream",
     "text": [
      "--------------------------------------------- Result 204 ---------------------------------------------\n",
      "[[Enty (68%)]] --> [[Desc (65%)]]\n",
      "\n",
      "What is the birthstone of [[October]] ?\n",
      "\n",
      "What is the birthstone of [[Sep]] ?\n",
      "\n",
      "\n"
     ]
    },
    {
     "name": "stderr",
     "output_type": "stream",
     "text": [
      "[Succeeded / Failed / Skipped / Total] 136 / 62 / 6 / 204:  41%|████████▌            | 205/500 [07:06<10:13,  2.08s/it]C:\\Users\\DELL\\anaconda3\\envs\\ta\\lib\\site-packages\\textattack\\loggers\\csv_logger.py:41: FutureWarning: The frame.append method is deprecated and will be removed from pandas in a future version. Use pandas.concat instead.\n",
      "  self.df = self.df.append(row, ignore_index=True)\n",
      "[Succeeded / Failed / Skipped / Total] 137 / 62 / 6 / 205:  41%|████████▌            | 205/500 [07:06<10:13,  2.08s/it]"
     ]
    },
    {
     "name": "stdout",
     "output_type": "stream",
     "text": [
      "--------------------------------------------- Result 205 ---------------------------------------------\n",
      "[[Num (99%)]] --> [[Desc (98%)]]\n",
      "\n",
      "How [[long]] is the Columbia River in miles ?\n",
      "\n",
      "How [[interminable]] is the Columbia River in miles ?\n",
      "\n",
      "\n"
     ]
    },
    {
     "name": "stderr",
     "output_type": "stream",
     "text": [
      "[Succeeded / Failed / Skipped / Total] 137 / 62 / 6 / 205:  41%|████████▋            | 206/500 [07:08<10:10,  2.08s/it]C:\\Users\\DELL\\anaconda3\\envs\\ta\\lib\\site-packages\\textattack\\loggers\\csv_logger.py:41: FutureWarning: The frame.append method is deprecated and will be removed from pandas in a future version. Use pandas.concat instead.\n",
      "  self.df = self.df.append(row, ignore_index=True)\n",
      "[Succeeded / Failed / Skipped / Total] 137 / 63 / 6 / 206:  41%|████████▋            | 206/500 [07:08<10:10,  2.08s/it]"
     ]
    },
    {
     "name": "stdout",
     "output_type": "stream",
     "text": [
      "--------------------------------------------- Result 206 ---------------------------------------------\n",
      "[[Hum (99%)]] --> [[[FAILED]]]\n",
      "\n",
      "Who was president in 1913 ?\n",
      "\n",
      "\n"
     ]
    },
    {
     "name": "stderr",
     "output_type": "stream",
     "text": [
      "[Succeeded / Failed / Skipped / Total] 137 / 63 / 6 / 206:  41%|████████▋            | 207/500 [07:10<10:09,  2.08s/it]C:\\Users\\DELL\\anaconda3\\envs\\ta\\lib\\site-packages\\textattack\\loggers\\csv_logger.py:41: FutureWarning: The frame.append method is deprecated and will be removed from pandas in a future version. Use pandas.concat instead.\n",
      "  self.df = self.df.append(row, ignore_index=True)\n",
      "[Succeeded / Failed / Skipped / Total] 138 / 63 / 6 / 207:  41%|████████▋            | 207/500 [07:10<10:09,  2.08s/it]"
     ]
    },
    {
     "name": "stdout",
     "output_type": "stream",
     "text": [
      "--------------------------------------------- Result 207 ---------------------------------------------\n",
      "[[Num (99%)]] --> [[Desc (98%)]]\n",
      "\n",
      "How [[many]] Admirals are there in the U.S. Navy ?\n",
      "\n",
      "How [[manifold]] Admirals are there in the U.S. Navy ?\n",
      "\n",
      "\n"
     ]
    },
    {
     "name": "stderr",
     "output_type": "stream",
     "text": [
      "[Succeeded / Failed / Skipped / Total] 138 / 63 / 6 / 207:  42%|████████▋            | 208/500 [07:12<10:06,  2.08s/it]C:\\Users\\DELL\\anaconda3\\envs\\ta\\lib\\site-packages\\textattack\\loggers\\csv_logger.py:41: FutureWarning: The frame.append method is deprecated and will be removed from pandas in a future version. Use pandas.concat instead.\n",
      "  self.df = self.df.append(row, ignore_index=True)\n",
      "[Succeeded / Failed / Skipped / Total] 139 / 63 / 6 / 208:  42%|████████▋            | 208/500 [07:12<10:06,  2.08s/it]C:\\Users\\DELL\\anaconda3\\envs\\ta\\lib\\site-packages\\textattack\\loggers\\csv_logger.py:41: FutureWarning: The frame.append method is deprecated and will be removed from pandas in a future version. Use pandas.concat instead.\n",
      "  self.df = self.df.append(row, ignore_index=True)\n",
      "[Succeeded / Failed / Skipped / Total] 139 / 63 / 7 / 209:  42%|████████▊            | 209/500 [07:12<10:01,  2.07s/it]"
     ]
    },
    {
     "name": "stdout",
     "output_type": "stream",
     "text": [
      "--------------------------------------------- Result 208 ---------------------------------------------\n",
      "[[Num (99%)]] --> [[Loc (99%)]]\n",
      "\n",
      "What is the [[population]] of Nigeria ?\n",
      "\n",
      "What is the [[pueblo]] of Nigeria ?\n",
      "\n",
      "\n",
      "--------------------------------------------- Result 209 ---------------------------------------------\n",
      "[[Hum (98%)]] --> [[[SKIPPED]]]\n",
      "\n",
      "What are the two houses of the Legislative branch ?\n",
      "\n",
      "\n"
     ]
    },
    {
     "name": "stderr",
     "output_type": "stream",
     "text": [
      "[Succeeded / Failed / Skipped / Total] 139 / 63 / 7 / 209:  42%|████████▊            | 210/500 [07:13<09:58,  2.06s/it]C:\\Users\\DELL\\anaconda3\\envs\\ta\\lib\\site-packages\\textattack\\loggers\\csv_logger.py:41: FutureWarning: The frame.append method is deprecated and will be removed from pandas in a future version. Use pandas.concat instead.\n",
      "  self.df = self.df.append(row, ignore_index=True)\n",
      "[Succeeded / Failed / Skipped / Total] 140 / 63 / 7 / 210:  42%|████████▊            | 210/500 [07:13<09:58,  2.06s/it]"
     ]
    },
    {
     "name": "stdout",
     "output_type": "stream",
     "text": [
      "--------------------------------------------- Result 210 ---------------------------------------------\n",
      "[[Num (98%)]] --> [[Enty (98%)]]\n",
      "\n",
      "What was the last [[year]] that the Chicago Cubs won the World Series ?\n",
      "\n",
      "What was the last [[sunni]] that the Chicago Cubs won the World Series ?\n",
      "\n",
      "\n"
     ]
    },
    {
     "name": "stderr",
     "output_type": "stream",
     "text": [
      "C:\\Users\\DELL\\anaconda3\\envs\\ta\\lib\\site-packages\\textattack\\loggers\\csv_logger.py:41: FutureWarning: The frame.append method is deprecated and will be removed from pandas in a future version. Use pandas.concat instead.\n",
      "  self.df = self.df.append(row, ignore_index=True)\n",
      "\r",
      "[Succeeded / Failed / Skipped / Total] 141 / 63 / 7 / 211:  42%|████████▊            | 211/500 [07:14<09:55,  2.06s/it]"
     ]
    },
    {
     "name": "stdout",
     "output_type": "stream",
     "text": [
      "--------------------------------------------- Result 211 ---------------------------------------------\n",
      "[[Num (99%)]] --> [[Enty (76%)]]\n",
      "\n",
      "What is the life [[expectancy]] of a dollar bill ?\n",
      "\n",
      "What is the life [[esperanza]] of a dollar bill ?\n",
      "\n",
      "\n"
     ]
    },
    {
     "name": "stderr",
     "output_type": "stream",
     "text": [
      "[Succeeded / Failed / Skipped / Total] 141 / 63 / 7 / 211:  42%|████████▉            | 212/500 [07:17<09:54,  2.06s/it]C:\\Users\\DELL\\anaconda3\\envs\\ta\\lib\\site-packages\\textattack\\loggers\\csv_logger.py:41: FutureWarning: The frame.append method is deprecated and will be removed from pandas in a future version. Use pandas.concat instead.\n",
      "  self.df = self.df.append(row, ignore_index=True)\n",
      "[Succeeded / Failed / Skipped / Total] 142 / 63 / 7 / 212:  42%|████████▉            | 212/500 [07:17<09:54,  2.06s/it]"
     ]
    },
    {
     "name": "stdout",
     "output_type": "stream",
     "text": [
      "--------------------------------------------- Result 212 ---------------------------------------------\n",
      "[[Num (99%)]] --> [[Desc (98%)]]\n",
      "\n",
      "How [[wide]] is the Milky Way galaxy ?\n",
      "\n",
      "How [[jumbo]] is the Milky Way galaxy ?\n",
      "\n",
      "\n"
     ]
    },
    {
     "name": "stderr",
     "output_type": "stream",
     "text": [
      "C:\\Users\\DELL\\anaconda3\\envs\\ta\\lib\\site-packages\\textattack\\loggers\\csv_logger.py:41: FutureWarning: The frame.append method is deprecated and will be removed from pandas in a future version. Use pandas.concat instead.\n",
      "  self.df = self.df.append(row, ignore_index=True)\n",
      "\r",
      "[Succeeded / Failed / Skipped / Total] 143 / 63 / 7 / 213:  43%|████████▉            | 213/500 [07:18<09:51,  2.06s/it]"
     ]
    },
    {
     "name": "stdout",
     "output_type": "stream",
     "text": [
      "--------------------------------------------- Result 213 ---------------------------------------------\n",
      "[[Enty (99%)]] --> [[Hum (99%)]]\n",
      "\n",
      "Name a [[stimulant]] .\n",
      "\n",
      "Name a [[motivator]] .\n",
      "\n",
      "\n"
     ]
    },
    {
     "name": "stderr",
     "output_type": "stream",
     "text": [
      "[Succeeded / Failed / Skipped / Total] 143 / 63 / 7 / 213:  43%|████████▉            | 214/500 [07:19<09:47,  2.05s/it]C:\\Users\\DELL\\anaconda3\\envs\\ta\\lib\\site-packages\\textattack\\loggers\\csv_logger.py:41: FutureWarning: The frame.append method is deprecated and will be removed from pandas in a future version. Use pandas.concat instead.\n",
      "  self.df = self.df.append(row, ignore_index=True)\n",
      "[Succeeded / Failed / Skipped / Total] 143 / 64 / 7 / 214:  43%|████████▉            | 214/500 [07:19<09:47,  2.05s/it]C:\\Users\\DELL\\anaconda3\\envs\\ta\\lib\\site-packages\\textattack\\loggers\\csv_logger.py:41: FutureWarning: The frame.append method is deprecated and will be removed from pandas in a future version. Use pandas.concat instead.\n",
      "  self.df = self.df.append(row, ignore_index=True)\n",
      "[Succeeded / Failed / Skipped / Total] 143 / 64 / 8 / 215:  43%|█████████            | 215/500 [07:19<09:42,  2.04s/it]"
     ]
    },
    {
     "name": "stdout",
     "output_type": "stream",
     "text": [
      "--------------------------------------------- Result 214 ---------------------------------------------\n",
      "[[Desc (98%)]] --> [[[FAILED]]]\n",
      "\n",
      "What are triglycerides ?\n",
      "\n",
      "\n",
      "--------------------------------------------- Result 215 ---------------------------------------------\n",
      "[[Desc (97%)]] --> [[[SKIPPED]]]\n",
      "\n",
      "What is TMJ ?\n",
      "\n",
      "\n"
     ]
    },
    {
     "name": "stderr",
     "output_type": "stream",
     "text": [
      "[Succeeded / Failed / Skipped / Total] 143 / 64 / 8 / 215:  43%|█████████            | 216/500 [07:21<09:40,  2.04s/it]C:\\Users\\DELL\\anaconda3\\envs\\ta\\lib\\site-packages\\textattack\\loggers\\csv_logger.py:41: FutureWarning: The frame.append method is deprecated and will be removed from pandas in a future version. Use pandas.concat instead.\n",
      "  self.df = self.df.append(row, ignore_index=True)\n",
      "[Succeeded / Failed / Skipped / Total] 144 / 64 / 8 / 216:  43%|█████████            | 216/500 [07:21<09:40,  2.04s/it]"
     ]
    },
    {
     "name": "stdout",
     "output_type": "stream",
     "text": [
      "--------------------------------------------- Result 216 ---------------------------------------------\n",
      "[[Enty (99%)]] --> [[Desc (97%)]]\n",
      "\n",
      "What is the [[name]] of the satellite that the Soviet Union sent into space in 1957 ?\n",
      "\n",
      "What is the [[sake]] of the satellite that the Soviet Union sent into space in 1957 ?\n",
      "\n",
      "\n"
     ]
    },
    {
     "name": "stderr",
     "output_type": "stream",
     "text": [
      "C:\\Users\\DELL\\anaconda3\\envs\\ta\\lib\\site-packages\\textattack\\loggers\\csv_logger.py:41: FutureWarning: The frame.append method is deprecated and will be removed from pandas in a future version. Use pandas.concat instead.\n",
      "  self.df = self.df.append(row, ignore_index=True)\n",
      "\r",
      "[Succeeded / Failed / Skipped / Total] 145 / 64 / 8 / 217:  43%|█████████            | 217/500 [07:29<09:45,  2.07s/it]"
     ]
    },
    {
     "name": "stdout",
     "output_type": "stream",
     "text": [
      "--------------------------------------------- Result 217 ---------------------------------------------\n",
      "[[Num (99%)]] --> [[Enty (94%)]]\n",
      "\n",
      "[[During]] which [[season]] [[do]] most [[thunderstorms]] [[occur]] ?\n",
      "\n",
      "[[Among]] which [[seasons]] [[effected]] most [[rainy]] [[arise]] ?\n",
      "\n",
      "\n"
     ]
    },
    {
     "name": "stderr",
     "output_type": "stream",
     "text": [
      "[Succeeded / Failed / Skipped / Total] 145 / 64 / 8 / 217:  44%|█████████▏           | 218/500 [07:30<09:42,  2.07s/it]C:\\Users\\DELL\\anaconda3\\envs\\ta\\lib\\site-packages\\textattack\\loggers\\csv_logger.py:41: FutureWarning: The frame.append method is deprecated and will be removed from pandas in a future version. Use pandas.concat instead.\n",
      "  self.df = self.df.append(row, ignore_index=True)\n",
      "[Succeeded / Failed / Skipped / Total] 145 / 65 / 8 / 218:  44%|█████████▏           | 218/500 [07:30<09:42,  2.07s/it]"
     ]
    },
    {
     "name": "stdout",
     "output_type": "stream",
     "text": [
      "--------------------------------------------- Result 218 ---------------------------------------------\n",
      "[[Desc (98%)]] --> [[[FAILED]]]\n",
      "\n",
      "What is influenza ?\n",
      "\n",
      "\n"
     ]
    },
    {
     "name": "stderr",
     "output_type": "stream",
     "text": [
      "C:\\Users\\DELL\\anaconda3\\envs\\ta\\lib\\site-packages\\textattack\\loggers\\csv_logger.py:41: FutureWarning: The frame.append method is deprecated and will be removed from pandas in a future version. Use pandas.concat instead.\n",
      "  self.df = self.df.append(row, ignore_index=True)\n",
      "\r",
      "[Succeeded / Failed / Skipped / Total] 145 / 66 / 8 / 219:  44%|█████████▏           | 219/500 [07:34<09:42,  2.07s/it]"
     ]
    },
    {
     "name": "stdout",
     "output_type": "stream",
     "text": [
      "--------------------------------------------- Result 219 ---------------------------------------------\n",
      "[[Hum (99%)]] --> [[[FAILED]]]\n",
      "\n",
      "Who is a German philosopher ?\n",
      "\n",
      "\n"
     ]
    },
    {
     "name": "stderr",
     "output_type": "stream",
     "text": [
      "[Succeeded / Failed / Skipped / Total] 145 / 66 / 8 / 219:  44%|█████████▏           | 220/500 [07:35<09:39,  2.07s/it]C:\\Users\\DELL\\anaconda3\\envs\\ta\\lib\\site-packages\\textattack\\loggers\\csv_logger.py:41: FutureWarning: The frame.append method is deprecated and will be removed from pandas in a future version. Use pandas.concat instead.\n",
      "  self.df = self.df.append(row, ignore_index=True)\n",
      "[Succeeded / Failed / Skipped / Total] 146 / 66 / 8 / 220:  44%|█████████▏           | 220/500 [07:35<09:39,  2.07s/it]"
     ]
    },
    {
     "name": "stdout",
     "output_type": "stream",
     "text": [
      "--------------------------------------------- Result 220 ---------------------------------------------\n",
      "[[Desc (98%)]] --> [[Num (75%)]]\n",
      "\n",
      "What is [[Valentine]] 's Day ?\n",
      "\n",
      "What is [[Valentin]] 's Day ?\n",
      "\n",
      "\n"
     ]
    },
    {
     "name": "stderr",
     "output_type": "stream",
     "text": [
      "C:\\Users\\DELL\\anaconda3\\envs\\ta\\lib\\site-packages\\textattack\\loggers\\csv_logger.py:41: FutureWarning: The frame.append method is deprecated and will be removed from pandas in a future version. Use pandas.concat instead.\n",
      "  self.df = self.df.append(row, ignore_index=True)\n",
      "\r",
      "[Succeeded / Failed / Skipped / Total] 146 / 67 / 8 / 221:  44%|█████████▎           | 221/500 [07:36<09:35,  2.06s/it]"
     ]
    },
    {
     "name": "stdout",
     "output_type": "stream",
     "text": [
      "--------------------------------------------- Result 221 ---------------------------------------------\n",
      "[[Desc (98%)]] --> [[[FAILED]]]\n",
      "\n",
      "What is bandwidth ?\n",
      "\n",
      "\n"
     ]
    },
    {
     "name": "stderr",
     "output_type": "stream",
     "text": [
      "[Succeeded / Failed / Skipped / Total] 146 / 67 / 8 / 221:  44%|█████████▎           | 222/500 [07:38<09:34,  2.07s/it]C:\\Users\\DELL\\anaconda3\\envs\\ta\\lib\\site-packages\\textattack\\loggers\\csv_logger.py:41: FutureWarning: The frame.append method is deprecated and will be removed from pandas in a future version. Use pandas.concat instead.\n",
      "  self.df = self.df.append(row, ignore_index=True)\n",
      "[Succeeded / Failed / Skipped / Total] 147 / 67 / 8 / 222:  44%|█████████▎           | 222/500 [07:38<09:34,  2.07s/it]"
     ]
    },
    {
     "name": "stdout",
     "output_type": "stream",
     "text": [
      "--------------------------------------------- Result 222 ---------------------------------------------\n",
      "[[Loc (99%)]] --> [[Enty (98%)]]\n",
      "\n",
      "What [[imaginary]] line is halfway between the North and South Poles ?\n",
      "\n",
      "What [[faux]] line is halfway between the North and South Poles ?\n",
      "\n",
      "\n"
     ]
    },
    {
     "name": "stderr",
     "output_type": "stream",
     "text": [
      "C:\\Users\\DELL\\anaconda3\\envs\\ta\\lib\\site-packages\\textattack\\loggers\\csv_logger.py:41: FutureWarning: The frame.append method is deprecated and will be removed from pandas in a future version. Use pandas.concat instead.\n",
      "  self.df = self.df.append(row, ignore_index=True)\n",
      "\r",
      "[Succeeded / Failed / Skipped / Total] 147 / 68 / 8 / 223:  45%|█████████▎           | 223/500 [07:41<09:32,  2.07s/it]"
     ]
    },
    {
     "name": "stdout",
     "output_type": "stream",
     "text": [
      "--------------------------------------------- Result 223 ---------------------------------------------\n",
      "[[Desc (98%)]] --> [[[FAILED]]]\n",
      "\n",
      "What is Muscular Dystrophy ?\n",
      "\n",
      "\n"
     ]
    },
    {
     "name": "stderr",
     "output_type": "stream",
     "text": [
      "[Succeeded / Failed / Skipped / Total] 147 / 68 / 8 / 223:  45%|█████████▍           | 224/500 [07:42<09:29,  2.06s/it]C:\\Users\\DELL\\anaconda3\\envs\\ta\\lib\\site-packages\\textattack\\loggers\\csv_logger.py:41: FutureWarning: The frame.append method is deprecated and will be removed from pandas in a future version. Use pandas.concat instead.\n",
      "  self.df = self.df.append(row, ignore_index=True)\n",
      "[Succeeded / Failed / Skipped / Total] 148 / 68 / 8 / 224:  45%|█████████▍           | 224/500 [07:42<09:29,  2.06s/it]"
     ]
    },
    {
     "name": "stdout",
     "output_type": "stream",
     "text": [
      "--------------------------------------------- Result 224 ---------------------------------------------\n",
      "[[Loc (99%)]] --> [[Enty (97%)]]\n",
      "\n",
      "What [[river]] flows between Fargo , North Dakota and Moorhead , Minnesota ?\n",
      "\n",
      "What [[water]] flows between Fargo , North Dakota and Moorhead , Minnesota ?\n",
      "\n",
      "\n"
     ]
    },
    {
     "name": "stderr",
     "output_type": "stream",
     "text": [
      "C:\\Users\\DELL\\anaconda3\\envs\\ta\\lib\\site-packages\\textattack\\loggers\\csv_logger.py:41: FutureWarning: The frame.append method is deprecated and will be removed from pandas in a future version. Use pandas.concat instead.\n",
      "  self.df = self.df.append(row, ignore_index=True)\n",
      "\r",
      "[Succeeded / Failed / Skipped / Total] 148 / 69 / 8 / 225:  45%|█████████▍           | 225/500 [07:49<09:34,  2.09s/it]"
     ]
    },
    {
     "name": "stdout",
     "output_type": "stream",
     "text": [
      "--------------------------------------------- Result 225 ---------------------------------------------\n",
      "[[Hum (99%)]] --> [[[FAILED]]]\n",
      "\n",
      "Who is the congressman from state of Texas on the armed forces committee ?\n",
      "\n",
      "\n"
     ]
    },
    {
     "name": "stderr",
     "output_type": "stream",
     "text": [
      "[Succeeded / Failed / Skipped / Total] 148 / 69 / 8 / 225:  45%|█████████▍           | 226/500 [07:52<09:33,  2.09s/it]C:\\Users\\DELL\\anaconda3\\envs\\ta\\lib\\site-packages\\textattack\\loggers\\csv_logger.py:41: FutureWarning: The frame.append method is deprecated and will be removed from pandas in a future version. Use pandas.concat instead.\n",
      "  self.df = self.df.append(row, ignore_index=True)\n",
      "[Succeeded / Failed / Skipped / Total] 148 / 70 / 8 / 226:  45%|█████████▍           | 226/500 [07:52<09:33,  2.09s/it]"
     ]
    },
    {
     "name": "stdout",
     "output_type": "stream",
     "text": [
      "--------------------------------------------- Result 226 ---------------------------------------------\n",
      "[[Hum (99%)]] --> [[[FAILED]]]\n",
      "\n",
      "Who was the 22nd President of the US ?\n",
      "\n",
      "\n"
     ]
    },
    {
     "name": "stderr",
     "output_type": "stream",
     "text": [
      "[Succeeded / Failed / Skipped / Total] 148 / 70 / 8 / 226:  45%|█████████▌           | 227/500 [07:53<09:29,  2.09s/it]C:\\Users\\DELL\\anaconda3\\envs\\ta\\lib\\site-packages\\textattack\\loggers\\csv_logger.py:41: FutureWarning: The frame.append method is deprecated and will be removed from pandas in a future version. Use pandas.concat instead.\n",
      "  self.df = self.df.append(row, ignore_index=True)\n",
      "[Succeeded / Failed / Skipped / Total] 148 / 71 / 8 / 227:  45%|█████████▌           | 227/500 [07:53<09:29,  2.09s/it]"
     ]
    },
    {
     "name": "stdout",
     "output_type": "stream",
     "text": [
      "--------------------------------------------- Result 227 ---------------------------------------------\n",
      "[[Desc (98%)]] --> [[[FAILED]]]\n",
      "\n",
      "What is die-casting ?\n",
      "\n",
      "\n"
     ]
    },
    {
     "name": "stderr",
     "output_type": "stream",
     "text": [
      "[Succeeded / Failed / Skipped / Total] 148 / 71 / 8 / 227:  46%|█████████▌           | 228/500 [07:55<09:27,  2.09s/it]C:\\Users\\DELL\\anaconda3\\envs\\ta\\lib\\site-packages\\textattack\\loggers\\csv_logger.py:41: FutureWarning: The frame.append method is deprecated and will be removed from pandas in a future version. Use pandas.concat instead.\n",
      "  self.df = self.df.append(row, ignore_index=True)\n",
      "[Succeeded / Failed / Skipped / Total] 148 / 72 / 8 / 228:  46%|█████████▌           | 228/500 [07:55<09:27,  2.09s/it]"
     ]
    },
    {
     "name": "stdout",
     "output_type": "stream",
     "text": [
      "--------------------------------------------- Result 228 ---------------------------------------------\n",
      "[[Desc (98%)]] --> [[[FAILED]]]\n",
      "\n",
      "What is vertigo ?\n",
      "\n",
      "\n"
     ]
    },
    {
     "name": "stderr",
     "output_type": "stream",
     "text": [
      "[Succeeded / Failed / Skipped / Total] 148 / 72 / 8 / 228:  46%|█████████▌           | 229/500 [08:00<09:28,  2.10s/it]C:\\Users\\DELL\\anaconda3\\envs\\ta\\lib\\site-packages\\textattack\\loggers\\csv_logger.py:41: FutureWarning: The frame.append method is deprecated and will be removed from pandas in a future version. Use pandas.concat instead.\n",
      "  self.df = self.df.append(row, ignore_index=True)\n",
      "[Succeeded / Failed / Skipped / Total] 148 / 73 / 8 / 229:  46%|█████████▌           | 229/500 [08:00<09:28,  2.10s/it]"
     ]
    },
    {
     "name": "stdout",
     "output_type": "stream",
     "text": [
      "--------------------------------------------- Result 229 ---------------------------------------------\n",
      "[[Hum (99%)]] --> [[[FAILED]]]\n",
      "\n",
      "Who was the first vice president of the U.S. ?\n",
      "\n",
      "\n"
     ]
    },
    {
     "name": "stderr",
     "output_type": "stream",
     "text": [
      "[Succeeded / Failed / Skipped / Total] 148 / 73 / 8 / 229:  46%|█████████▋           | 230/500 [08:01<09:24,  2.09s/it]C:\\Users\\DELL\\anaconda3\\envs\\ta\\lib\\site-packages\\textattack\\loggers\\csv_logger.py:41: FutureWarning: The frame.append method is deprecated and will be removed from pandas in a future version. Use pandas.concat instead.\n",
      "  self.df = self.df.append(row, ignore_index=True)\n",
      "[Succeeded / Failed / Skipped / Total] 149 / 73 / 8 / 230:  46%|█████████▋           | 230/500 [08:01<09:24,  2.09s/it]"
     ]
    },
    {
     "name": "stdout",
     "output_type": "stream",
     "text": [
      "--------------------------------------------- Result 230 ---------------------------------------------\n",
      "[[Num (99%)]] --> [[Enty (94%)]]\n",
      "\n",
      "What [[year]] did the Andy Griffith show begin ?\n",
      "\n",
      "What [[sunni]] did the Andy Griffith show begin ?\n",
      "\n",
      "\n"
     ]
    },
    {
     "name": "stderr",
     "output_type": "stream",
     "text": [
      "[Succeeded / Failed / Skipped / Total] 149 / 73 / 8 / 230:  46%|█████████▋           | 231/500 [08:01<09:20,  2.09s/it]C:\\Users\\DELL\\anaconda3\\envs\\ta\\lib\\site-packages\\textattack\\loggers\\csv_logger.py:41: FutureWarning: The frame.append method is deprecated and will be removed from pandas in a future version. Use pandas.concat instead.\n",
      "  self.df = self.df.append(row, ignore_index=True)\n",
      "[Succeeded / Failed / Skipped / Total] 150 / 73 / 8 / 231:  46%|█████████▋           | 231/500 [08:01<09:20,  2.09s/it]"
     ]
    },
    {
     "name": "stdout",
     "output_type": "stream",
     "text": [
      "--------------------------------------------- Result 231 ---------------------------------------------\n",
      "[[Num (99%)]] --> [[Loc (99%)]]\n",
      "\n",
      "[[When]] is the summer solstice ?\n",
      "\n",
      "[[Where]] is the summer solstice ?\n",
      "\n",
      "\n"
     ]
    },
    {
     "name": "stderr",
     "output_type": "stream",
     "text": [
      "[Succeeded / Failed / Skipped / Total] 150 / 73 / 8 / 231:  46%|█████████▋           | 232/500 [08:02<09:17,  2.08s/it]C:\\Users\\DELL\\anaconda3\\envs\\ta\\lib\\site-packages\\textattack\\loggers\\csv_logger.py:41: FutureWarning: The frame.append method is deprecated and will be removed from pandas in a future version. Use pandas.concat instead.\n",
      "  self.df = self.df.append(row, ignore_index=True)\n",
      "[Succeeded / Failed / Skipped / Total] 150 / 74 / 8 / 232:  46%|█████████▋           | 232/500 [08:02<09:17,  2.08s/it]"
     ]
    },
    {
     "name": "stdout",
     "output_type": "stream",
     "text": [
      "--------------------------------------------- Result 232 ---------------------------------------------\n",
      "[[Desc (98%)]] --> [[[FAILED]]]\n",
      "\n",
      "What is a carcinogen ?\n",
      "\n",
      "\n"
     ]
    },
    {
     "name": "stderr",
     "output_type": "stream",
     "text": [
      "[Succeeded / Failed / Skipped / Total] 150 / 74 / 8 / 232:  47%|█████████▊           | 233/500 [08:04<09:15,  2.08s/it]C:\\Users\\DELL\\anaconda3\\envs\\ta\\lib\\site-packages\\textattack\\loggers\\csv_logger.py:41: FutureWarning: The frame.append method is deprecated and will be removed from pandas in a future version. Use pandas.concat instead.\n",
      "  self.df = self.df.append(row, ignore_index=True)\n",
      "[Succeeded / Failed / Skipped / Total] 151 / 74 / 8 / 233:  47%|█████████▊           | 233/500 [08:04<09:15,  2.08s/it]"
     ]
    },
    {
     "name": "stdout",
     "output_type": "stream",
     "text": [
      "--------------------------------------------- Result 233 ---------------------------------------------\n",
      "[[Loc (99%)]] --> [[Num (99%)]]\n",
      "\n",
      "[[Where]] is the Grand Canyon ?\n",
      "\n",
      "[[When]] is the Grand Canyon ?\n",
      "\n",
      "\n"
     ]
    },
    {
     "name": "stderr",
     "output_type": "stream",
     "text": [
      "[Succeeded / Failed / Skipped / Total] 151 / 74 / 8 / 233:  47%|█████████▊           | 234/500 [08:05<09:12,  2.08s/it]C:\\Users\\DELL\\anaconda3\\envs\\ta\\lib\\site-packages\\textattack\\loggers\\csv_logger.py:41: FutureWarning: The frame.append method is deprecated and will be removed from pandas in a future version. Use pandas.concat instead.\n",
      "  self.df = self.df.append(row, ignore_index=True)\n",
      "[Succeeded / Failed / Skipped / Total] 152 / 74 / 8 / 234:  47%|█████████▊           | 234/500 [08:05<09:12,  2.08s/it]"
     ]
    },
    {
     "name": "stdout",
     "output_type": "stream",
     "text": [
      "--------------------------------------------- Result 234 ---------------------------------------------\n",
      "[[Num (99%)]] --> [[Loc (99%)]]\n",
      "\n",
      "What is the [[depth]] of the Nile river ?\n",
      "\n",
      "What is the [[deepest]] of the Nile river ?\n",
      "\n",
      "\n"
     ]
    },
    {
     "name": "stderr",
     "output_type": "stream",
     "text": [
      "[Succeeded / Failed / Skipped / Total] 152 / 74 / 8 / 234:  47%|█████████▊           | 235/500 [08:06<09:09,  2.07s/it]C:\\Users\\DELL\\anaconda3\\envs\\ta\\lib\\site-packages\\textattack\\loggers\\csv_logger.py:41: FutureWarning: The frame.append method is deprecated and will be removed from pandas in a future version. Use pandas.concat instead.\n",
      "  self.df = self.df.append(row, ignore_index=True)\n",
      "[Succeeded / Failed / Skipped / Total] 153 / 74 / 8 / 235:  47%|█████████▊           | 235/500 [08:06<09:09,  2.07s/it]"
     ]
    },
    {
     "name": "stdout",
     "output_type": "stream",
     "text": [
      "--------------------------------------------- Result 235 ---------------------------------------------\n",
      "[[Num (99%)]] --> [[Enty (92%)]]\n",
      "\n",
      "What [[date]] was Dwight D. Eisenhower born ?\n",
      "\n",
      "What [[personals]] was Dwight D. Eisenhower born ?\n",
      "\n",
      "\n"
     ]
    },
    {
     "name": "stderr",
     "output_type": "stream",
     "text": [
      "[Succeeded / Failed / Skipped / Total] 153 / 74 / 8 / 235:  47%|█████████▉           | 236/500 [08:09<09:07,  2.07s/it]C:\\Users\\DELL\\anaconda3\\envs\\ta\\lib\\site-packages\\textattack\\loggers\\csv_logger.py:41: FutureWarning: The frame.append method is deprecated and will be removed from pandas in a future version. Use pandas.concat instead.\n",
      "  self.df = self.df.append(row, ignore_index=True)\n",
      "[Succeeded / Failed / Skipped / Total] 154 / 74 / 8 / 236:  47%|█████████▉           | 236/500 [08:09<09:07,  2.07s/it]"
     ]
    },
    {
     "name": "stdout",
     "output_type": "stream",
     "text": [
      "--------------------------------------------- Result 236 ---------------------------------------------\n",
      "[[Enty (98%)]] --> [[Desc (98%)]]\n",
      "\n",
      "What is a baby turkey [[called]] ?\n",
      "\n",
      "What is a baby turkey [[convened]] ?\n",
      "\n",
      "\n"
     ]
    },
    {
     "name": "stderr",
     "output_type": "stream",
     "text": [
      "[Succeeded / Failed / Skipped / Total] 154 / 74 / 8 / 236:  47%|█████████▉           | 237/500 [08:16<09:10,  2.09s/it]C:\\Users\\DELL\\anaconda3\\envs\\ta\\lib\\site-packages\\textattack\\loggers\\csv_logger.py:41: FutureWarning: The frame.append method is deprecated and will be removed from pandas in a future version. Use pandas.concat instead.\n",
      "  self.df = self.df.append(row, ignore_index=True)\n",
      "[Succeeded / Failed / Skipped / Total] 155 / 74 / 8 / 237:  47%|█████████▉           | 237/500 [08:16<09:10,  2.09s/it]"
     ]
    },
    {
     "name": "stdout",
     "output_type": "stream",
     "text": [
      "--------------------------------------------- Result 237 ---------------------------------------------\n",
      "[[Desc (98%)]] --> [[Enty (77%)]]\n",
      "\n",
      "What is the [[difference]] between AM [[radio]] [[stations]] and [[FM]] [[radio]] stations ?\n",
      "\n",
      "What is the [[variant]] between AM [[aired]] [[resorts]] and [[FIM]] [[broadcasted]] stations ?\n",
      "\n",
      "\n"
     ]
    },
    {
     "name": "stderr",
     "output_type": "stream",
     "text": [
      "[Succeeded / Failed / Skipped / Total] 155 / 74 / 8 / 237:  48%|█████████▉           | 238/500 [08:20<09:10,  2.10s/it]C:\\Users\\DELL\\anaconda3\\envs\\ta\\lib\\site-packages\\textattack\\loggers\\csv_logger.py:41: FutureWarning: The frame.append method is deprecated and will be removed from pandas in a future version. Use pandas.concat instead.\n",
      "  self.df = self.df.append(row, ignore_index=True)\n",
      "[Succeeded / Failed / Skipped / Total] 156 / 74 / 8 / 238:  48%|█████████▉           | 238/500 [08:20<09:10,  2.10s/it]"
     ]
    },
    {
     "name": "stdout",
     "output_type": "stream",
     "text": [
      "--------------------------------------------- Result 238 ---------------------------------------------\n",
      "[[Enty (99%)]] --> [[Hum (97%)]]\n",
      "\n",
      "[[Name]] a [[food]] high in zinc .\n",
      "\n",
      "[[Appoints]] a [[restaurant]] high in zinc .\n",
      "\n",
      "\n"
     ]
    },
    {
     "name": "stderr",
     "output_type": "stream",
     "text": [
      "[Succeeded / Failed / Skipped / Total] 156 / 74 / 8 / 238:  48%|██████████           | 239/500 [08:22<09:08,  2.10s/it]C:\\Users\\DELL\\anaconda3\\envs\\ta\\lib\\site-packages\\textattack\\loggers\\csv_logger.py:41: FutureWarning: The frame.append method is deprecated and will be removed from pandas in a future version. Use pandas.concat instead.\n",
      "  self.df = self.df.append(row, ignore_index=True)\n",
      "[Succeeded / Failed / Skipped / Total] 157 / 74 / 8 / 239:  48%|██████████           | 239/500 [08:22<09:08,  2.10s/it]"
     ]
    },
    {
     "name": "stdout",
     "output_type": "stream",
     "text": [
      "--------------------------------------------- Result 239 ---------------------------------------------\n",
      "[[Num (99%)]] --> [[Desc (96%)]]\n",
      "\n",
      "How [[much]] fiber should you have per day ?\n",
      "\n",
      "How [[immensely]] fiber should you have per day ?\n",
      "\n",
      "\n"
     ]
    },
    {
     "name": "stderr",
     "output_type": "stream",
     "text": [
      "[Succeeded / Failed / Skipped / Total] 157 / 74 / 8 / 239:  48%|██████████           | 240/500 [08:25<09:07,  2.10s/it]C:\\Users\\DELL\\anaconda3\\envs\\ta\\lib\\site-packages\\textattack\\loggers\\csv_logger.py:41: FutureWarning: The frame.append method is deprecated and will be removed from pandas in a future version. Use pandas.concat instead.\n",
      "  self.df = self.df.append(row, ignore_index=True)\n",
      "[Succeeded / Failed / Skipped / Total] 158 / 74 / 8 / 240:  48%|██████████           | 240/500 [08:25<09:07,  2.10s/it]"
     ]
    },
    {
     "name": "stdout",
     "output_type": "stream",
     "text": [
      "--------------------------------------------- Result 240 ---------------------------------------------\n",
      "[[Enty (98%)]] --> [[Loc (97%)]]\n",
      "\n",
      "What is the state [[flower]] of Michigan ?\n",
      "\n",
      "What is the state [[dahlias]] of Michigan ?\n",
      "\n",
      "\n"
     ]
    },
    {
     "name": "stderr",
     "output_type": "stream",
     "text": [
      "[Succeeded / Failed / Skipped / Total] 158 / 74 / 8 / 240:  48%|██████████           | 241/500 [08:26<09:04,  2.10s/it]C:\\Users\\DELL\\anaconda3\\envs\\ta\\lib\\site-packages\\textattack\\loggers\\csv_logger.py:41: FutureWarning: The frame.append method is deprecated and will be removed from pandas in a future version. Use pandas.concat instead.\n",
      "  self.df = self.df.append(row, ignore_index=True)\n",
      "[Succeeded / Failed / Skipped / Total] 158 / 75 / 8 / 241:  48%|██████████           | 241/500 [08:26<09:04,  2.10s/it]"
     ]
    },
    {
     "name": "stdout",
     "output_type": "stream",
     "text": [
      "--------------------------------------------- Result 241 ---------------------------------------------\n",
      "[[Loc (99%)]] --> [[[FAILED]]]\n",
      "\n",
      "What hemisphere is the Philippines in ?\n",
      "\n",
      "\n"
     ]
    },
    {
     "name": "stderr",
     "output_type": "stream",
     "text": [
      "[Succeeded / Failed / Skipped / Total] 158 / 75 / 8 / 241:  48%|██████████▏          | 242/500 [08:27<09:00,  2.10s/it]C:\\Users\\DELL\\anaconda3\\envs\\ta\\lib\\site-packages\\textattack\\loggers\\csv_logger.py:41: FutureWarning: The frame.append method is deprecated and will be removed from pandas in a future version. Use pandas.concat instead.\n",
      "  self.df = self.df.append(row, ignore_index=True)\n",
      "[Succeeded / Failed / Skipped / Total] 159 / 75 / 8 / 242:  48%|██████████▏          | 242/500 [08:27<09:00,  2.10s/it]"
     ]
    },
    {
     "name": "stdout",
     "output_type": "stream",
     "text": [
      "--------------------------------------------- Result 242 ---------------------------------------------\n",
      "[[Num (99%)]] --> [[Hum (99%)]]\n",
      "\n",
      "What [[year]] did the United States abolish the draft ?\n",
      "\n",
      "What [[sunni]] did the United States abolish the draft ?\n",
      "\n",
      "\n"
     ]
    },
    {
     "name": "stderr",
     "output_type": "stream",
     "text": [
      "[Succeeded / Failed / Skipped / Total] 159 / 75 / 8 / 242:  49%|██████████▏          | 243/500 [08:28<08:58,  2.09s/it]C:\\Users\\DELL\\anaconda3\\envs\\ta\\lib\\site-packages\\textattack\\loggers\\csv_logger.py:41: FutureWarning: The frame.append method is deprecated and will be removed from pandas in a future version. Use pandas.concat instead.\n",
      "  self.df = self.df.append(row, ignore_index=True)\n",
      "[Succeeded / Failed / Skipped / Total] 160 / 75 / 8 / 243:  49%|██████████▏          | 243/500 [08:28<08:58,  2.09s/it]"
     ]
    },
    {
     "name": "stdout",
     "output_type": "stream",
     "text": [
      "--------------------------------------------- Result 243 ---------------------------------------------\n",
      "[[Loc (99%)]] --> [[Enty (99%)]]\n",
      "\n",
      "What is the [[location]] of the Sea of Tranquility ?\n",
      "\n",
      "What is the [[hire]] of the Sea of Tranquility ?\n",
      "\n",
      "\n"
     ]
    },
    {
     "name": "stderr",
     "output_type": "stream",
     "text": [
      "[Succeeded / Failed / Skipped / Total] 160 / 75 / 8 / 243:  49%|██████████▏          | 244/500 [08:30<08:55,  2.09s/it]C:\\Users\\DELL\\anaconda3\\envs\\ta\\lib\\site-packages\\textattack\\loggers\\csv_logger.py:41: FutureWarning: The frame.append method is deprecated and will be removed from pandas in a future version. Use pandas.concat instead.\n",
      "  self.df = self.df.append(row, ignore_index=True)\n",
      "[Succeeded / Failed / Skipped / Total] 161 / 75 / 8 / 244:  49%|██████████▏          | 244/500 [08:30<08:55,  2.09s/it]"
     ]
    },
    {
     "name": "stdout",
     "output_type": "stream",
     "text": [
      "--------------------------------------------- Result 244 ---------------------------------------------\n",
      "[[Loc (99%)]] --> [[Hum (99%)]]\n",
      "\n",
      "What [[country]] did Ponce de Leon come from ?\n",
      "\n",
      "What [[nationals]] did Ponce de Leon come from ?\n",
      "\n",
      "\n"
     ]
    },
    {
     "name": "stderr",
     "output_type": "stream",
     "text": [
      "[Succeeded / Failed / Skipped / Total] 161 / 75 / 8 / 244:  49%|██████████▎          | 245/500 [08:32<08:53,  2.09s/it]C:\\Users\\DELL\\anaconda3\\envs\\ta\\lib\\site-packages\\textattack\\loggers\\csv_logger.py:41: FutureWarning: The frame.append method is deprecated and will be removed from pandas in a future version. Use pandas.concat instead.\n",
      "  self.df = self.df.append(row, ignore_index=True)\n",
      "[Succeeded / Failed / Skipped / Total] 161 / 76 / 8 / 245:  49%|██████████▎          | 245/500 [08:32<08:53,  2.09s/it]"
     ]
    },
    {
     "name": "stdout",
     "output_type": "stream",
     "text": [
      "--------------------------------------------- Result 245 ---------------------------------------------\n",
      "[[Desc (98%)]] --> [[[FAILED]]]\n",
      "\n",
      "What is the Moulin Rouge ?\n",
      "\n",
      "\n"
     ]
    },
    {
     "name": "stderr",
     "output_type": "stream",
     "text": [
      "[Succeeded / Failed / Skipped / Total] 161 / 76 / 8 / 245:  49%|██████████▎          | 246/500 [08:33<08:50,  2.09s/it]C:\\Users\\DELL\\anaconda3\\envs\\ta\\lib\\site-packages\\textattack\\loggers\\csv_logger.py:41: FutureWarning: The frame.append method is deprecated and will be removed from pandas in a future version. Use pandas.concat instead.\n",
      "  self.df = self.df.append(row, ignore_index=True)\n",
      "[Succeeded / Failed / Skipped / Total] 161 / 77 / 8 / 246:  49%|██████████▎          | 246/500 [08:33<08:50,  2.09s/it]"
     ]
    },
    {
     "name": "stdout",
     "output_type": "stream",
     "text": [
      "--------------------------------------------- Result 246 ---------------------------------------------\n",
      "[[Desc (98%)]] --> [[[FAILED]]]\n",
      "\n",
      "What are coral reefs ?\n",
      "\n",
      "\n"
     ]
    },
    {
     "name": "stderr",
     "output_type": "stream",
     "text": [
      "[Succeeded / Failed / Skipped / Total] 161 / 77 / 8 / 246:  49%|██████████▎          | 247/500 [08:36<08:48,  2.09s/it]C:\\Users\\DELL\\anaconda3\\envs\\ta\\lib\\site-packages\\textattack\\loggers\\csv_logger.py:41: FutureWarning: The frame.append method is deprecated and will be removed from pandas in a future version. Use pandas.concat instead.\n",
      "  self.df = self.df.append(row, ignore_index=True)\n",
      "[Succeeded / Failed / Skipped / Total] 162 / 77 / 8 / 247:  49%|██████████▎          | 247/500 [08:36<08:48,  2.09s/it]"
     ]
    },
    {
     "name": "stdout",
     "output_type": "stream",
     "text": [
      "--------------------------------------------- Result 247 ---------------------------------------------\n",
      "[[Loc (99%)]] --> [[Num (99%)]]\n",
      "\n",
      "[[Where]] is Perth ?\n",
      "\n",
      "[[When]] is Perth ?\n",
      "\n",
      "\n"
     ]
    },
    {
     "name": "stderr",
     "output_type": "stream",
     "text": [
      "[Succeeded / Failed / Skipped / Total] 162 / 77 / 8 / 247:  50%|██████████▍          | 248/500 [08:43<08:51,  2.11s/it]C:\\Users\\DELL\\anaconda3\\envs\\ta\\lib\\site-packages\\textattack\\loggers\\csv_logger.py:41: FutureWarning: The frame.append method is deprecated and will be removed from pandas in a future version. Use pandas.concat instead.\n",
      "  self.df = self.df.append(row, ignore_index=True)\n",
      "[Succeeded / Failed / Skipped / Total] 163 / 77 / 8 / 248:  50%|██████████▍          | 248/500 [08:43<08:51,  2.11s/it]"
     ]
    },
    {
     "name": "stdout",
     "output_type": "stream",
     "text": [
      "--------------------------------------------- Result 248 ---------------------------------------------\n",
      "[[Desc (96%)]] --> [[Num (99%)]]\n",
      "\n",
      "What does Phi Beta [[Kappa]] [[mean]] ?\n",
      "\n",
      "What does Phi Beta [[Phi]] [[average]] ?\n",
      "\n",
      "\n"
     ]
    },
    {
     "name": "stderr",
     "output_type": "stream",
     "text": [
      "[Succeeded / Failed / Skipped / Total] 163 / 77 / 8 / 248:  50%|██████████▍          | 249/500 [08:46<08:50,  2.11s/it]C:\\Users\\DELL\\anaconda3\\envs\\ta\\lib\\site-packages\\textattack\\loggers\\csv_logger.py:41: FutureWarning: The frame.append method is deprecated and will be removed from pandas in a future version. Use pandas.concat instead.\n",
      "  self.df = self.df.append(row, ignore_index=True)\n",
      "[Succeeded / Failed / Skipped / Total] 163 / 78 / 8 / 249:  50%|██████████▍          | 249/500 [08:46<08:50,  2.11s/it]"
     ]
    },
    {
     "name": "stdout",
     "output_type": "stream",
     "text": [
      "--------------------------------------------- Result 249 ---------------------------------------------\n",
      "[[Desc (98%)]] --> [[[FAILED]]]\n",
      "\n",
      "What is Mardi Gras ?\n",
      "\n",
      "\n"
     ]
    },
    {
     "name": "stderr",
     "output_type": "stream",
     "text": [
      "[Succeeded / Failed / Skipped / Total] 163 / 78 / 8 / 249:  50%|██████████▌          | 250/500 [08:48<08:48,  2.12s/it]C:\\Users\\DELL\\anaconda3\\envs\\ta\\lib\\site-packages\\textattack\\loggers\\csv_logger.py:41: FutureWarning: The frame.append method is deprecated and will be removed from pandas in a future version. Use pandas.concat instead.\n",
      "  self.df = self.df.append(row, ignore_index=True)\n",
      "[Succeeded / Failed / Skipped / Total] 163 / 79 / 8 / 250:  50%|██████████▌          | 250/500 [08:48<08:48,  2.12s/it]"
     ]
    },
    {
     "name": "stdout",
     "output_type": "stream",
     "text": [
      "--------------------------------------------- Result 250 ---------------------------------------------\n",
      "[[Enty (99%)]] --> [[[FAILED]]]\n",
      "\n",
      "What currency is used in Algeria ?\n",
      "\n",
      "\n"
     ]
    },
    {
     "name": "stderr",
     "output_type": "stream",
     "text": [
      "[Succeeded / Failed / Skipped / Total] 163 / 79 / 8 / 250:  50%|██████████▌          | 251/500 [08:51<08:47,  2.12s/it]C:\\Users\\DELL\\anaconda3\\envs\\ta\\lib\\site-packages\\textattack\\loggers\\csv_logger.py:41: FutureWarning: The frame.append method is deprecated and will be removed from pandas in a future version. Use pandas.concat instead.\n",
      "  self.df = self.df.append(row, ignore_index=True)\n",
      "[Succeeded / Failed / Skipped / Total] 164 / 79 / 8 / 251:  50%|██████████▌          | 251/500 [08:51<08:47,  2.12s/it]"
     ]
    },
    {
     "name": "stdout",
     "output_type": "stream",
     "text": [
      "--------------------------------------------- Result 251 ---------------------------------------------\n",
      "[[Num (99%)]] --> [[Desc (98%)]]\n",
      "\n",
      "How [[old]] was the youngest president of the United States ?\n",
      "\n",
      "How [[immemorial]] was the youngest president of the United States ?\n",
      "\n",
      "\n"
     ]
    },
    {
     "name": "stderr",
     "output_type": "stream",
     "text": [
      "[Succeeded / Failed / Skipped / Total] 164 / 79 / 8 / 251:  50%|██████████▌          | 252/500 [08:54<08:45,  2.12s/it]C:\\Users\\DELL\\anaconda3\\envs\\ta\\lib\\site-packages\\textattack\\loggers\\csv_logger.py:41: FutureWarning: The frame.append method is deprecated and will be removed from pandas in a future version. Use pandas.concat instead.\n",
      "  self.df = self.df.append(row, ignore_index=True)\n",
      "[Succeeded / Failed / Skipped / Total] 164 / 80 / 8 / 252:  50%|██████████▌          | 252/500 [08:54<08:46,  2.12s/it]"
     ]
    },
    {
     "name": "stdout",
     "output_type": "stream",
     "text": [
      "--------------------------------------------- Result 252 ---------------------------------------------\n",
      "[[Desc (98%)]] --> [[[FAILED]]]\n",
      "\n",
      "What is cerebral palsy ?\n",
      "\n",
      "\n"
     ]
    },
    {
     "name": "stderr",
     "output_type": "stream",
     "text": [
      "[Succeeded / Failed / Skipped / Total] 164 / 80 / 8 / 252:  51%|██████████▋          | 253/500 [08:55<08:43,  2.12s/it]C:\\Users\\DELL\\anaconda3\\envs\\ta\\lib\\site-packages\\textattack\\loggers\\csv_logger.py:41: FutureWarning: The frame.append method is deprecated and will be removed from pandas in a future version. Use pandas.concat instead.\n",
      "  self.df = self.df.append(row, ignore_index=True)\n",
      "[Succeeded / Failed / Skipped / Total] 164 / 81 / 8 / 253:  51%|██████████▋          | 253/500 [08:55<08:43,  2.12s/it]"
     ]
    },
    {
     "name": "stdout",
     "output_type": "stream",
     "text": [
      "--------------------------------------------- Result 253 ---------------------------------------------\n",
      "[[Desc (98%)]] --> [[[FAILED]]]\n",
      "\n",
      "What is foreclosure ?\n",
      "\n",
      "\n"
     ]
    },
    {
     "name": "stderr",
     "output_type": "stream",
     "text": [
      "[Succeeded / Failed / Skipped / Total] 164 / 81 / 8 / 253:  51%|██████████▋          | 254/500 [09:02<08:45,  2.14s/it]C:\\Users\\DELL\\anaconda3\\envs\\ta\\lib\\site-packages\\textattack\\loggers\\csv_logger.py:41: FutureWarning: The frame.append method is deprecated and will be removed from pandas in a future version. Use pandas.concat instead.\n",
      "  self.df = self.df.append(row, ignore_index=True)\n",
      "[Succeeded / Failed / Skipped / Total] 164 / 82 / 8 / 254:  51%|██████████▋          | 254/500 [09:02<08:45,  2.14s/it]"
     ]
    },
    {
     "name": "stdout",
     "output_type": "stream",
     "text": [
      "--------------------------------------------- Result 254 ---------------------------------------------\n",
      "[[Hum (99%)]] --> [[[FAILED]]]\n",
      "\n",
      "Who was the first African American to play for the Brooklyn Dodgers ?\n",
      "\n",
      "\n"
     ]
    },
    {
     "name": "stderr",
     "output_type": "stream",
     "text": [
      "[Succeeded / Failed / Skipped / Total] 164 / 82 / 8 / 254:  51%|██████████▋          | 255/500 [09:04<08:43,  2.13s/it]C:\\Users\\DELL\\anaconda3\\envs\\ta\\lib\\site-packages\\textattack\\loggers\\csv_logger.py:41: FutureWarning: The frame.append method is deprecated and will be removed from pandas in a future version. Use pandas.concat instead.\n",
      "  self.df = self.df.append(row, ignore_index=True)\n",
      "[Succeeded / Failed / Skipped / Total] 165 / 82 / 8 / 255:  51%|██████████▋          | 255/500 [09:04<08:43,  2.14s/it]"
     ]
    },
    {
     "name": "stdout",
     "output_type": "stream",
     "text": [
      "--------------------------------------------- Result 255 ---------------------------------------------\n",
      "[[Num (99%)]] --> [[Enty (98%)]]\n",
      "\n",
      "What is the [[average]] [[weight]] of a Yellow Labrador ?\n",
      "\n",
      "What is the [[middle]] [[sinker]] of a Yellow Labrador ?\n",
      "\n",
      "\n"
     ]
    },
    {
     "name": "stderr",
     "output_type": "stream",
     "text": [
      "[Succeeded / Failed / Skipped / Total] 165 / 82 / 8 / 255:  51%|██████████▊          | 256/500 [09:05<08:39,  2.13s/it]C:\\Users\\DELL\\anaconda3\\envs\\ta\\lib\\site-packages\\textattack\\loggers\\csv_logger.py:41: FutureWarning: The frame.append method is deprecated and will be removed from pandas in a future version. Use pandas.concat instead.\n",
      "  self.df = self.df.append(row, ignore_index=True)\n",
      "[Succeeded / Failed / Skipped / Total] 166 / 82 / 8 / 256:  51%|██████████▊          | 256/500 [09:05<08:39,  2.13s/it]"
     ]
    },
    {
     "name": "stdout",
     "output_type": "stream",
     "text": [
      "--------------------------------------------- Result 256 ---------------------------------------------\n",
      "[[Num (99%)]] --> [[Desc (98%)]]\n",
      "\n",
      "For how [[long]] is an elephant pregnant ?\n",
      "\n",
      "For how [[along]] is an elephant pregnant ?\n",
      "\n",
      "\n"
     ]
    },
    {
     "name": "stderr",
     "output_type": "stream",
     "text": [
      "[Succeeded / Failed / Skipped / Total] 166 / 82 / 8 / 256:  51%|██████████▊          | 257/500 [09:07<08:37,  2.13s/it]C:\\Users\\DELL\\anaconda3\\envs\\ta\\lib\\site-packages\\textattack\\loggers\\csv_logger.py:41: FutureWarning: The frame.append method is deprecated and will be removed from pandas in a future version. Use pandas.concat instead.\n",
      "  self.df = self.df.append(row, ignore_index=True)\n",
      "[Succeeded / Failed / Skipped / Total] 167 / 82 / 8 / 257:  51%|██████████▊          | 257/500 [09:07<08:37,  2.13s/it]"
     ]
    },
    {
     "name": "stdout",
     "output_type": "stream",
     "text": [
      "--------------------------------------------- Result 257 ---------------------------------------------\n",
      "[[Desc (98%)]] --> [[Loc (63%)]]\n",
      "\n",
      "What are [[spider]] [[veins]] ?\n",
      "\n",
      "What are [[chandelier]] [[coastlines]] ?\n",
      "\n",
      "\n"
     ]
    },
    {
     "name": "stderr",
     "output_type": "stream",
     "text": [
      "[Succeeded / Failed / Skipped / Total] 167 / 82 / 8 / 257:  52%|██████████▊          | 258/500 [09:08<08:34,  2.13s/it]C:\\Users\\DELL\\anaconda3\\envs\\ta\\lib\\site-packages\\textattack\\loggers\\csv_logger.py:41: FutureWarning: The frame.append method is deprecated and will be removed from pandas in a future version. Use pandas.concat instead.\n",
      "  self.df = self.df.append(row, ignore_index=True)\n",
      "[Succeeded / Failed / Skipped / Total] 167 / 83 / 8 / 258:  52%|██████████▊          | 258/500 [09:08<08:34,  2.13s/it]"
     ]
    },
    {
     "name": "stdout",
     "output_type": "stream",
     "text": [
      "--------------------------------------------- Result 258 ---------------------------------------------\n",
      "[[Desc (98%)]] --> [[[FAILED]]]\n",
      "\n",
      "What is a tsunami ?\n",
      "\n",
      "\n"
     ]
    },
    {
     "name": "stderr",
     "output_type": "stream",
     "text": [
      "[Succeeded / Failed / Skipped / Total] 167 / 83 / 8 / 258:  52%|██████████▉          | 259/500 [09:11<08:33,  2.13s/it]C:\\Users\\DELL\\anaconda3\\envs\\ta\\lib\\site-packages\\textattack\\loggers\\csv_logger.py:41: FutureWarning: The frame.append method is deprecated and will be removed from pandas in a future version. Use pandas.concat instead.\n",
      "  self.df = self.df.append(row, ignore_index=True)\n",
      "[Succeeded / Failed / Skipped / Total] 167 / 84 / 8 / 259:  52%|██████████▉          | 259/500 [09:11<08:33,  2.13s/it]"
     ]
    },
    {
     "name": "stdout",
     "output_type": "stream",
     "text": [
      "--------------------------------------------- Result 259 ---------------------------------------------\n",
      "[[Hum (99%)]] --> [[[FAILED]]]\n",
      "\n",
      "Who invented the telephone ?\n",
      "\n",
      "\n"
     ]
    },
    {
     "name": "stderr",
     "output_type": "stream",
     "text": [
      "[Succeeded / Failed / Skipped / Total] 167 / 84 / 8 / 259:  52%|██████████▉          | 260/500 [09:12<08:30,  2.13s/it]C:\\Users\\DELL\\anaconda3\\envs\\ta\\lib\\site-packages\\textattack\\loggers\\csv_logger.py:41: FutureWarning: The frame.append method is deprecated and will be removed from pandas in a future version. Use pandas.concat instead.\n",
      "  self.df = self.df.append(row, ignore_index=True)\n",
      "[Succeeded / Failed / Skipped / Total] 168 / 84 / 8 / 260:  52%|██████████▉          | 260/500 [09:12<08:30,  2.13s/it]"
     ]
    },
    {
     "name": "stdout",
     "output_type": "stream",
     "text": [
      "--------------------------------------------- Result 260 ---------------------------------------------\n",
      "[[Loc (98%)]] --> [[Enty (99%)]]\n",
      "\n",
      "What [[city]] 's newspaper is called `` The Enquirer '' ?\n",
      "\n",
      "What [[shing]] 's newspaper is called `` The Enquirer '' ?\n",
      "\n",
      "\n"
     ]
    },
    {
     "name": "stderr",
     "output_type": "stream",
     "text": [
      "[Succeeded / Failed / Skipped / Total] 168 / 84 / 8 / 260:  52%|██████████▉          | 261/500 [09:14<08:27,  2.12s/it]C:\\Users\\DELL\\anaconda3\\envs\\ta\\lib\\site-packages\\textattack\\loggers\\csv_logger.py:41: FutureWarning: The frame.append method is deprecated and will be removed from pandas in a future version. Use pandas.concat instead.\n",
      "  self.df = self.df.append(row, ignore_index=True)\n",
      "[Succeeded / Failed / Skipped / Total] 169 / 84 / 8 / 261:  52%|██████████▉          | 261/500 [09:14<08:27,  2.12s/it]"
     ]
    },
    {
     "name": "stdout",
     "output_type": "stream",
     "text": [
      "--------------------------------------------- Result 261 ---------------------------------------------\n",
      "[[Hum (99%)]] --> [[Enty (95%)]]\n",
      "\n",
      "Which U.S.A. [[president]] appeared on `` Laugh-In '' ?\n",
      "\n",
      "Which U.S.A. [[chairs]] appeared on `` Laugh-In '' ?\n",
      "\n",
      "\n"
     ]
    },
    {
     "name": "stderr",
     "output_type": "stream",
     "text": [
      "[Succeeded / Failed / Skipped / Total] 169 / 84 / 8 / 261:  52%|███████████          | 262/500 [09:17<08:26,  2.13s/it]C:\\Users\\DELL\\anaconda3\\envs\\ta\\lib\\site-packages\\textattack\\loggers\\csv_logger.py:41: FutureWarning: The frame.append method is deprecated and will be removed from pandas in a future version. Use pandas.concat instead.\n",
      "  self.df = self.df.append(row, ignore_index=True)\n",
      "[Succeeded / Failed / Skipped / Total] 170 / 84 / 8 / 262:  52%|███████████          | 262/500 [09:17<08:26,  2.13s/it]"
     ]
    },
    {
     "name": "stdout",
     "output_type": "stream",
     "text": [
      "--------------------------------------------- Result 262 ---------------------------------------------\n",
      "[[Enty (98%)]] --> [[Desc (98%)]]\n",
      "\n",
      "What is Australia 's national [[flower]] ?\n",
      "\n",
      "What is Australia 's national [[blom]] ?\n",
      "\n",
      "\n"
     ]
    },
    {
     "name": "stderr",
     "output_type": "stream",
     "text": [
      "[Succeeded / Failed / Skipped / Total] 170 / 84 / 8 / 262:  53%|███████████          | 263/500 [09:20<08:24,  2.13s/it]C:\\Users\\DELL\\anaconda3\\envs\\ta\\lib\\site-packages\\textattack\\loggers\\csv_logger.py:41: FutureWarning: The frame.append method is deprecated and will be removed from pandas in a future version. Use pandas.concat instead.\n",
      "  self.df = self.df.append(row, ignore_index=True)\n",
      "[Succeeded / Failed / Skipped / Total] 171 / 84 / 8 / 263:  53%|███████████          | 263/500 [09:20<08:24,  2.13s/it]"
     ]
    },
    {
     "name": "stdout",
     "output_type": "stream",
     "text": [
      "--------------------------------------------- Result 263 ---------------------------------------------\n",
      "[[Hum (99%)]] --> [[Enty (69%)]]\n",
      "\n",
      "[[Who]] [[lived]] in the Neuschwanstein castle ?\n",
      "\n",
      "[[Whoever]] [[iife]] in the Neuschwanstein castle ?\n",
      "\n",
      "\n"
     ]
    },
    {
     "name": "stderr",
     "output_type": "stream",
     "text": [
      "[Succeeded / Failed / Skipped / Total] 171 / 84 / 8 / 263:  53%|███████████          | 264/500 [09:22<08:22,  2.13s/it]C:\\Users\\DELL\\anaconda3\\envs\\ta\\lib\\site-packages\\textattack\\loggers\\csv_logger.py:41: FutureWarning: The frame.append method is deprecated and will be removed from pandas in a future version. Use pandas.concat instead.\n",
      "  self.df = self.df.append(row, ignore_index=True)\n",
      "[Succeeded / Failed / Skipped / Total] 172 / 84 / 8 / 264:  53%|███████████          | 264/500 [09:22<08:22,  2.13s/it]"
     ]
    },
    {
     "name": "stdout",
     "output_type": "stream",
     "text": [
      "--------------------------------------------- Result 264 ---------------------------------------------\n",
      "[[Num (99%)]] --> [[Desc (98%)]]\n",
      "\n",
      "How [[far]] away is the moon ?\n",
      "\n",
      "How [[importantly]] away is the moon ?\n",
      "\n",
      "\n"
     ]
    },
    {
     "name": "stderr",
     "output_type": "stream",
     "text": [
      "[Succeeded / Failed / Skipped / Total] 172 / 84 / 8 / 264:  53%|███████████▏         | 265/500 [09:24<08:20,  2.13s/it]C:\\Users\\DELL\\anaconda3\\envs\\ta\\lib\\site-packages\\textattack\\loggers\\csv_logger.py:41: FutureWarning: The frame.append method is deprecated and will be removed from pandas in a future version. Use pandas.concat instead.\n",
      "  self.df = self.df.append(row, ignore_index=True)\n",
      "[Succeeded / Failed / Skipped / Total] 172 / 85 / 8 / 265:  53%|███████████▏         | 265/500 [09:24<08:20,  2.13s/it]"
     ]
    },
    {
     "name": "stdout",
     "output_type": "stream",
     "text": [
      "--------------------------------------------- Result 265 ---------------------------------------------\n",
      "[[Desc (98%)]] --> [[[FAILED]]]\n",
      "\n",
      "What is rheumatoid arthritis ?\n",
      "\n",
      "\n"
     ]
    },
    {
     "name": "stderr",
     "output_type": "stream",
     "text": [
      "[Succeeded / Failed / Skipped / Total] 172 / 85 / 8 / 265:  53%|███████████▏         | 266/500 [09:29<08:21,  2.14s/it]C:\\Users\\DELL\\anaconda3\\envs\\ta\\lib\\site-packages\\textattack\\loggers\\csv_logger.py:41: FutureWarning: The frame.append method is deprecated and will be removed from pandas in a future version. Use pandas.concat instead.\n",
      "  self.df = self.df.append(row, ignore_index=True)\n",
      "[Succeeded / Failed / Skipped / Total] 172 / 86 / 8 / 266:  53%|███████████▏         | 266/500 [09:29<08:21,  2.14s/it]"
     ]
    },
    {
     "name": "stdout",
     "output_type": "stream",
     "text": [
      "--------------------------------------------- Result 266 ---------------------------------------------\n",
      "[[Hum (99%)]] --> [[[FAILED]]]\n",
      "\n",
      "Who developed the Macintosh computer ?\n",
      "\n",
      "\n"
     ]
    },
    {
     "name": "stderr",
     "output_type": "stream",
     "text": [
      "[Succeeded / Failed / Skipped / Total] 172 / 86 / 8 / 266:  53%|███████████▏         | 267/500 [09:31<08:18,  2.14s/it]C:\\Users\\DELL\\anaconda3\\envs\\ta\\lib\\site-packages\\textattack\\loggers\\csv_logger.py:41: FutureWarning: The frame.append method is deprecated and will be removed from pandas in a future version. Use pandas.concat instead.\n",
      "  self.df = self.df.append(row, ignore_index=True)\n",
      "[Succeeded / Failed / Skipped / Total] 173 / 86 / 8 / 267:  53%|███████████▏         | 267/500 [09:31<08:18,  2.14s/it]"
     ]
    },
    {
     "name": "stdout",
     "output_type": "stream",
     "text": [
      "--------------------------------------------- Result 267 ---------------------------------------------\n",
      "[[Num (99%)]] --> [[Desc (98%)]]\n",
      "\n",
      "What is the [[temperature]] of the sun 's surface ?\n",
      "\n",
      "What is the [[meteorology]] of the sun 's surface ?\n",
      "\n",
      "\n"
     ]
    },
    {
     "name": "stderr",
     "output_type": "stream",
     "text": [
      "[Succeeded / Failed / Skipped / Total] 173 / 86 / 8 / 267:  54%|███████████▎         | 268/500 [09:33<08:16,  2.14s/it]C:\\Users\\DELL\\anaconda3\\envs\\ta\\lib\\site-packages\\textattack\\loggers\\csv_logger.py:41: FutureWarning: The frame.append method is deprecated and will be removed from pandas in a future version. Use pandas.concat instead.\n",
      "  self.df = self.df.append(row, ignore_index=True)\n",
      "[Succeeded / Failed / Skipped / Total] 174 / 86 / 8 / 268:  54%|███████████▎         | 268/500 [09:33<08:16,  2.14s/it]"
     ]
    },
    {
     "name": "stdout",
     "output_type": "stream",
     "text": [
      "--------------------------------------------- Result 268 ---------------------------------------------\n",
      "[[Num (99%)]] --> [[Desc (95%)]]\n",
      "\n",
      "How [[many]] gallons of water are there in a cubic foot ?\n",
      "\n",
      "How [[profusion]] gallons of water are there in a cubic foot ?\n",
      "\n",
      "\n"
     ]
    },
    {
     "name": "stderr",
     "output_type": "stream",
     "text": [
      "[Succeeded / Failed / Skipped / Total] 174 / 86 / 8 / 268:  54%|███████████▎         | 269/500 [09:34<08:13,  2.14s/it]C:\\Users\\DELL\\anaconda3\\envs\\ta\\lib\\site-packages\\textattack\\loggers\\csv_logger.py:41: FutureWarning: The frame.append method is deprecated and will be removed from pandas in a future version. Use pandas.concat instead.\n",
      "  self.df = self.df.append(row, ignore_index=True)\n",
      "[Succeeded / Failed / Skipped / Total] 175 / 86 / 8 / 269:  54%|███████████▎         | 269/500 [09:34<08:13,  2.14s/it]"
     ]
    },
    {
     "name": "stdout",
     "output_type": "stream",
     "text": [
      "--------------------------------------------- Result 269 ---------------------------------------------\n",
      "[[Num (99%)]] --> [[Loc (99%)]]\n",
      "\n",
      "[[When]] is Father 's Day ?\n",
      "\n",
      "[[Where]] is Father 's Day ?\n",
      "\n",
      "\n"
     ]
    },
    {
     "name": "stderr",
     "output_type": "stream",
     "text": [
      "[Succeeded / Failed / Skipped / Total] 175 / 86 / 8 / 269:  54%|███████████▎         | 270/500 [09:34<08:09,  2.13s/it]C:\\Users\\DELL\\anaconda3\\envs\\ta\\lib\\site-packages\\textattack\\loggers\\csv_logger.py:41: FutureWarning: The frame.append method is deprecated and will be removed from pandas in a future version. Use pandas.concat instead.\n",
      "  self.df = self.df.append(row, ignore_index=True)\n",
      "[Succeeded / Failed / Skipped / Total] 175 / 87 / 8 / 270:  54%|███████████▎         | 270/500 [09:35<08:09,  2.13s/it]"
     ]
    },
    {
     "name": "stdout",
     "output_type": "stream",
     "text": [
      "--------------------------------------------- Result 270 ---------------------------------------------\n",
      "[[Desc (98%)]] --> [[[FAILED]]]\n",
      "\n",
      "What is neuropathy ?\n",
      "\n",
      "\n"
     ]
    },
    {
     "name": "stderr",
     "output_type": "stream",
     "text": [
      "[Succeeded / Failed / Skipped / Total] 175 / 87 / 8 / 270:  54%|███████████▍         | 271/500 [09:37<08:08,  2.13s/it]C:\\Users\\DELL\\anaconda3\\envs\\ta\\lib\\site-packages\\textattack\\loggers\\csv_logger.py:41: FutureWarning: The frame.append method is deprecated and will be removed from pandas in a future version. Use pandas.concat instead.\n",
      "  self.df = self.df.append(row, ignore_index=True)\n",
      "[Succeeded / Failed / Skipped / Total] 176 / 87 / 8 / 271:  54%|███████████▍         | 271/500 [09:37<08:08,  2.13s/it]"
     ]
    },
    {
     "name": "stdout",
     "output_type": "stream",
     "text": [
      "--------------------------------------------- Result 271 ---------------------------------------------\n",
      "[[Desc (93%)]] --> [[Num (99%)]]\n",
      "\n",
      "What is the pH [[scale]] ?\n",
      "\n",
      "What is the pH [[sized]] ?\n",
      "\n",
      "\n"
     ]
    },
    {
     "name": "stderr",
     "output_type": "stream",
     "text": [
      "[Succeeded / Failed / Skipped / Total] 176 / 87 / 8 / 271:  54%|███████████▍         | 272/500 [09:44<08:10,  2.15s/it]C:\\Users\\DELL\\anaconda3\\envs\\ta\\lib\\site-packages\\textattack\\loggers\\csv_logger.py:41: FutureWarning: The frame.append method is deprecated and will be removed from pandas in a future version. Use pandas.concat instead.\n",
      "  self.df = self.df.append(row, ignore_index=True)\n",
      "[Succeeded / Failed / Skipped / Total] 176 / 88 / 8 / 272:  54%|███████████▍         | 272/500 [09:44<08:10,  2.15s/it]"
     ]
    },
    {
     "name": "stdout",
     "output_type": "stream",
     "text": [
      "--------------------------------------------- Result 272 ---------------------------------------------\n",
      "[[Hum (99%)]] --> [[[FAILED]]]\n",
      "\n",
      "Who is the tallest man in the world ?\n",
      "\n",
      "\n"
     ]
    },
    {
     "name": "stderr",
     "output_type": "stream",
     "text": [
      "[Succeeded / Failed / Skipped / Total] 176 / 88 / 8 / 272:  55%|███████████▍         | 273/500 [09:45<08:06,  2.14s/it]C:\\Users\\DELL\\anaconda3\\envs\\ta\\lib\\site-packages\\textattack\\loggers\\csv_logger.py:41: FutureWarning: The frame.append method is deprecated and will be removed from pandas in a future version. Use pandas.concat instead.\n",
      "  self.df = self.df.append(row, ignore_index=True)\n",
      "[Succeeded / Failed / Skipped / Total] 176 / 89 / 8 / 273:  55%|███████████▍         | 273/500 [09:45<08:06,  2.14s/it]"
     ]
    },
    {
     "name": "stdout",
     "output_type": "stream",
     "text": [
      "--------------------------------------------- Result 273 ---------------------------------------------\n",
      "[[Desc (97%)]] --> [[[FAILED]]]\n",
      "\n",
      "What is quicksilver ?\n",
      "\n",
      "\n"
     ]
    },
    {
     "name": "stderr",
     "output_type": "stream",
     "text": [
      "[Succeeded / Failed / Skipped / Total] 176 / 89 / 8 / 273:  55%|███████████▌         | 274/500 [09:46<08:03,  2.14s/it]C:\\Users\\DELL\\anaconda3\\envs\\ta\\lib\\site-packages\\textattack\\loggers\\csv_logger.py:41: FutureWarning: The frame.append method is deprecated and will be removed from pandas in a future version. Use pandas.concat instead.\n",
      "  self.df = self.df.append(row, ignore_index=True)\n",
      "[Succeeded / Failed / Skipped / Total] 177 / 89 / 8 / 274:  55%|███████████▌         | 274/500 [09:46<08:03,  2.14s/it]C:\\Users\\DELL\\anaconda3\\envs\\ta\\lib\\site-packages\\textattack\\loggers\\csv_logger.py:41: FutureWarning: The frame.append method is deprecated and will be removed from pandas in a future version. Use pandas.concat instead.\n",
      "  self.df = self.df.append(row, ignore_index=True)\n",
      "[Succeeded / Failed / Skipped / Total] 177 / 89 / 9 / 275:  55%|███████████▌         | 275/500 [09:46<07:59,  2.13s/it]"
     ]
    },
    {
     "name": "stdout",
     "output_type": "stream",
     "text": [
      "--------------------------------------------- Result 274 ---------------------------------------------\n",
      "[[Loc (99%)]] --> [[Enty (99%)]]\n",
      "\n",
      "What [[peninsula]] is Spain part of ?\n",
      "\n",
      "What [[korean]] is Spain part of ?\n",
      "\n",
      "\n",
      "--------------------------------------------- Result 275 ---------------------------------------------\n",
      "[[Desc (90%)]] --> [[[SKIPPED]]]\n",
      "\n",
      "What is the Illinois state flower ?\n",
      "\n",
      "\n"
     ]
    },
    {
     "name": "stderr",
     "output_type": "stream",
     "text": [
      "[Succeeded / Failed / Skipped / Total] 177 / 89 / 9 / 275:  55%|███████████▌         | 276/500 [09:48<07:57,  2.13s/it]C:\\Users\\DELL\\anaconda3\\envs\\ta\\lib\\site-packages\\textattack\\loggers\\csv_logger.py:41: FutureWarning: The frame.append method is deprecated and will be removed from pandas in a future version. Use pandas.concat instead.\n",
      "  self.df = self.df.append(row, ignore_index=True)\n",
      "[Succeeded / Failed / Skipped / Total] 178 / 89 / 9 / 276:  55%|███████████▌         | 276/500 [09:48<07:57,  2.13s/it]"
     ]
    },
    {
     "name": "stdout",
     "output_type": "stream",
     "text": [
      "--------------------------------------------- Result 276 ---------------------------------------------\n",
      "[[Loc (99%)]] --> [[Num (99%)]]\n",
      "\n",
      "[[Where]] was the first golf course in the United States ?\n",
      "\n",
      "[[When]] was the first golf course in the United States ?\n",
      "\n",
      "\n"
     ]
    },
    {
     "name": "stderr",
     "output_type": "stream",
     "text": [
      "C:\\Users\\DELL\\anaconda3\\envs\\ta\\lib\\site-packages\\textattack\\loggers\\csv_logger.py:41: FutureWarning: The frame.append method is deprecated and will be removed from pandas in a future version. Use pandas.concat instead.\n",
      "  self.df = self.df.append(row, ignore_index=True)\n",
      "\r",
      "[Succeeded / Failed / Skipped / Total] 178 / 90 / 9 / 277:  55%|███████████▋         | 277/500 [09:49<07:54,  2.13s/it]"
     ]
    },
    {
     "name": "stdout",
     "output_type": "stream",
     "text": [
      "--------------------------------------------- Result 277 ---------------------------------------------\n",
      "[[Desc (98%)]] --> [[[FAILED]]]\n",
      "\n",
      "What is nicotine ?\n",
      "\n",
      "\n"
     ]
    },
    {
     "name": "stderr",
     "output_type": "stream",
     "text": [
      "[Succeeded / Failed / Skipped / Total] 178 / 90 / 9 / 277:  56%|███████████▋         | 278/500 [09:51<07:52,  2.13s/it]C:\\Users\\DELL\\anaconda3\\envs\\ta\\lib\\site-packages\\textattack\\loggers\\csv_logger.py:41: FutureWarning: The frame.append method is deprecated and will be removed from pandas in a future version. Use pandas.concat instead.\n",
      "  self.df = self.df.append(row, ignore_index=True)\n",
      "[Succeeded / Failed / Skipped / Total] 179 / 90 / 9 / 278:  56%|███████████▋         | 278/500 [09:51<07:52,  2.13s/it]"
     ]
    },
    {
     "name": "stdout",
     "output_type": "stream",
     "text": [
      "--------------------------------------------- Result 278 ---------------------------------------------\n",
      "[[Num (99%)]] --> [[Loc (99%)]]\n",
      "\n",
      "What is the [[population]] of Seattle ?\n",
      "\n",
      "What is the [[pueblo]] of Seattle ?\n",
      "\n",
      "\n"
     ]
    },
    {
     "name": "stderr",
     "output_type": "stream",
     "text": [
      "C:\\Users\\DELL\\anaconda3\\envs\\ta\\lib\\site-packages\\textattack\\loggers\\csv_logger.py:41: FutureWarning: The frame.append method is deprecated and will be removed from pandas in a future version. Use pandas.concat instead.\n",
      "  self.df = self.df.append(row, ignore_index=True)\n",
      "\r",
      "[Succeeded / Failed / Skipped / Total] 180 / 90 / 9 / 279:  56%|███████████▋         | 279/500 [09:53<07:50,  2.13s/it]"
     ]
    },
    {
     "name": "stdout",
     "output_type": "stream",
     "text": [
      "--------------------------------------------- Result 279 ---------------------------------------------\n",
      "[[Loc (99%)]] --> [[Enty (96%)]]\n",
      "\n",
      "[[What]] [[planet]] is known as the `` red '' planet ?\n",
      "\n",
      "[[Wher]] [[asteroid]] is known as the `` red '' planet ?\n",
      "\n",
      "\n"
     ]
    },
    {
     "name": "stderr",
     "output_type": "stream",
     "text": [
      "[Succeeded / Failed / Skipped / Total] 180 / 90 / 9 / 279:  56%|███████████▊         | 280/500 [10:02<07:53,  2.15s/it]C:\\Users\\DELL\\anaconda3\\envs\\ta\\lib\\site-packages\\textattack\\loggers\\csv_logger.py:41: FutureWarning: The frame.append method is deprecated and will be removed from pandas in a future version. Use pandas.concat instead.\n",
      "  self.df = self.df.append(row, ignore_index=True)\n",
      "[Succeeded / Failed / Skipped / Total] 180 / 91 / 9 / 280:  56%|███████████▊         | 280/500 [10:02<07:53,  2.15s/it]"
     ]
    },
    {
     "name": "stdout",
     "output_type": "stream",
     "text": [
      "--------------------------------------------- Result 280 ---------------------------------------------\n",
      "[[Hum (99%)]] --> [[[FAILED]]]\n",
      "\n",
      "Who was the first woman killed in the Vietnam War ?\n",
      "\n",
      "\n"
     ]
    },
    {
     "name": "stderr",
     "output_type": "stream",
     "text": [
      "[Succeeded / Failed / Skipped / Total] 180 / 91 / 9 / 280:  56%|███████████▊         | 281/500 [10:04<07:50,  2.15s/it]C:\\Users\\DELL\\anaconda3\\envs\\ta\\lib\\site-packages\\textattack\\loggers\\csv_logger.py:41: FutureWarning: The frame.append method is deprecated and will be removed from pandas in a future version. Use pandas.concat instead.\n",
      "  self.df = self.df.append(row, ignore_index=True)\n",
      "[Succeeded / Failed / Skipped / Total] 181 / 91 / 9 / 281:  56%|███████████▊         | 281/500 [10:04<07:50,  2.15s/it]"
     ]
    },
    {
     "name": "stdout",
     "output_type": "stream",
     "text": [
      "--------------------------------------------- Result 281 ---------------------------------------------\n",
      "[[Num (99%)]] --> [[Loc (98%)]]\n",
      "\n",
      "What is the world 's [[population]] ?\n",
      "\n",
      "What is the world 's [[pueblo]] ?\n",
      "\n",
      "\n"
     ]
    },
    {
     "name": "stderr",
     "output_type": "stream",
     "text": [
      "[Succeeded / Failed / Skipped / Total] 181 / 91 / 9 / 281:  56%|███████████▊         | 282/500 [10:10<07:52,  2.17s/it]C:\\Users\\DELL\\anaconda3\\envs\\ta\\lib\\site-packages\\textattack\\loggers\\csv_logger.py:41: FutureWarning: The frame.append method is deprecated and will be removed from pandas in a future version. Use pandas.concat instead.\n",
      "  self.df = self.df.append(row, ignore_index=True)\n",
      "[Succeeded / Failed / Skipped / Total] 182 / 91 / 9 / 282:  56%|███████████▊         | 282/500 [10:10<07:52,  2.17s/it]"
     ]
    },
    {
     "name": "stdout",
     "output_type": "stream",
     "text": [
      "--------------------------------------------- Result 282 ---------------------------------------------\n",
      "[[Desc (97%)]] --> [[Enty (99%)]]\n",
      "\n",
      "What is [[done]] with worn or [[outdated]] [[flags]] ?\n",
      "\n",
      "What is [[served]] with worn or [[decrepit]] [[dyes]] ?\n",
      "\n",
      "\n"
     ]
    },
    {
     "name": "stderr",
     "output_type": "stream",
     "text": [
      "[Succeeded / Failed / Skipped / Total] 182 / 91 / 9 / 282:  57%|███████████▉         | 283/500 [10:16<07:53,  2.18s/it]C:\\Users\\DELL\\anaconda3\\envs\\ta\\lib\\site-packages\\textattack\\loggers\\csv_logger.py:41: FutureWarning: The frame.append method is deprecated and will be removed from pandas in a future version. Use pandas.concat instead.\n",
      "  self.df = self.df.append(row, ignore_index=True)\n",
      "[Succeeded / Failed / Skipped / Total] 182 / 92 / 9 / 283:  57%|███████████▉         | 283/500 [10:16<07:53,  2.18s/it]"
     ]
    },
    {
     "name": "stdout",
     "output_type": "stream",
     "text": [
      "--------------------------------------------- Result 283 ---------------------------------------------\n",
      "[[Hum (99%)]] --> [[[FAILED]]]\n",
      "\n",
      "Who was the first person to reach the North Pole ?\n",
      "\n",
      "\n"
     ]
    },
    {
     "name": "stderr",
     "output_type": "stream",
     "text": [
      "[Succeeded / Failed / Skipped / Total] 182 / 92 / 9 / 283:  57%|███████████▉         | 284/500 [10:22<07:53,  2.19s/it]C:\\Users\\DELL\\anaconda3\\envs\\ta\\lib\\site-packages\\textattack\\loggers\\csv_logger.py:41: FutureWarning: The frame.append method is deprecated and will be removed from pandas in a future version. Use pandas.concat instead.\n",
      "  self.df = self.df.append(row, ignore_index=True)\n",
      "[Succeeded / Failed / Skipped / Total] 182 / 93 / 9 / 284:  57%|███████████▉         | 284/500 [10:22<07:53,  2.19s/it]C:\\Users\\DELL\\anaconda3\\envs\\ta\\lib\\site-packages\\textattack\\loggers\\csv_logger.py:41: FutureWarning: The frame.append method is deprecated and will be removed from pandas in a future version. Use pandas.concat instead.\n",
      "  self.df = self.df.append(row, ignore_index=True)\n",
      "[Succeeded / Failed / Skipped / Total] 182 / 93 / 10 / 285:  57%|███████████▍        | 285/500 [10:22<07:49,  2.18s/it]"
     ]
    },
    {
     "name": "stdout",
     "output_type": "stream",
     "text": [
      "--------------------------------------------- Result 284 ---------------------------------------------\n",
      "[[Hum (99%)]] --> [[[FAILED]]]\n",
      "\n",
      "Who founded American Red Cross ?\n",
      "\n",
      "\n",
      "--------------------------------------------- Result 285 ---------------------------------------------\n",
      "[[Enty (90%)]] --> [[[SKIPPED]]]\n",
      "\n",
      "What did Jesse Jackson organize ?\n",
      "\n",
      "\n"
     ]
    },
    {
     "name": "stderr",
     "output_type": "stream",
     "text": [
      "[Succeeded / Failed / Skipped / Total] 182 / 93 / 10 / 285:  57%|███████████▍        | 286/500 [10:24<07:47,  2.18s/it]C:\\Users\\DELL\\anaconda3\\envs\\ta\\lib\\site-packages\\textattack\\loggers\\csv_logger.py:41: FutureWarning: The frame.append method is deprecated and will be removed from pandas in a future version. Use pandas.concat instead.\n",
      "  self.df = self.df.append(row, ignore_index=True)\n",
      "[Succeeded / Failed / Skipped / Total] 183 / 93 / 10 / 286:  57%|███████████▍        | 286/500 [10:24<07:47,  2.18s/it]"
     ]
    },
    {
     "name": "stdout",
     "output_type": "stream",
     "text": [
      "--------------------------------------------- Result 286 ---------------------------------------------\n",
      "[[Enty (99%)]] --> [[Desc (96%)]]\n",
      "\n",
      "What is the most frequently spoken [[language]] in the Netherlands ?\n",
      "\n",
      "What is the most frequently spoken [[phraseology]] in the Netherlands ?\n",
      "\n",
      "\n"
     ]
    },
    {
     "name": "stderr",
     "output_type": "stream",
     "text": [
      "C:\\Users\\DELL\\anaconda3\\envs\\ta\\lib\\site-packages\\textattack\\loggers\\csv_logger.py:41: FutureWarning: The frame.append method is deprecated and will be removed from pandas in a future version. Use pandas.concat instead.\n",
      "  self.df = self.df.append(row, ignore_index=True)\n",
      "\r",
      "[Succeeded / Failed / Skipped / Total] 183 / 94 / 10 / 287:  57%|███████████▍        | 287/500 [10:33<07:49,  2.21s/it]"
     ]
    },
    {
     "name": "stdout",
     "output_type": "stream",
     "text": [
      "--------------------------------------------- Result 287 ---------------------------------------------\n",
      "[[Hum (99%)]] --> [[[FAILED]]]\n",
      "\n",
      "Who is the actress known for her role in the movie `` Gypsy '' ?\n",
      "\n",
      "\n"
     ]
    },
    {
     "name": "stderr",
     "output_type": "stream",
     "text": [
      "[Succeeded / Failed / Skipped / Total] 183 / 94 / 10 / 287:  58%|███████████▌        | 288/500 [10:35<07:47,  2.21s/it]C:\\Users\\DELL\\anaconda3\\envs\\ta\\lib\\site-packages\\textattack\\loggers\\csv_logger.py:41: FutureWarning: The frame.append method is deprecated and will be removed from pandas in a future version. Use pandas.concat instead.\n",
      "  self.df = self.df.append(row, ignore_index=True)\n",
      "[Succeeded / Failed / Skipped / Total] 184 / 94 / 10 / 288:  58%|███████████▌        | 288/500 [10:35<07:47,  2.21s/it]"
     ]
    },
    {
     "name": "stdout",
     "output_type": "stream",
     "text": [
      "--------------------------------------------- Result 288 ---------------------------------------------\n",
      "[[Enty (96%)]] --> [[Desc (91%)]]\n",
      "\n",
      "What [[colors]] need to be mixed to get the color pink ?\n",
      "\n",
      "What [[nuance]] need to be mixed to get the color pink ?\n",
      "\n",
      "\n"
     ]
    },
    {
     "name": "stderr",
     "output_type": "stream",
     "text": [
      "[Succeeded / Failed / Skipped / Total] 184 / 94 / 10 / 288:  58%|███████████▌        | 289/500 [10:36<07:44,  2.20s/it]C:\\Users\\DELL\\anaconda3\\envs\\ta\\lib\\site-packages\\textattack\\loggers\\csv_logger.py:41: FutureWarning: The frame.append method is deprecated and will be removed from pandas in a future version. Use pandas.concat instead.\n",
      "  self.df = self.df.append(row, ignore_index=True)\n",
      "[Succeeded / Failed / Skipped / Total] 185 / 94 / 10 / 289:  58%|███████████▌        | 289/500 [10:36<07:44,  2.20s/it]"
     ]
    },
    {
     "name": "stdout",
     "output_type": "stream",
     "text": [
      "--------------------------------------------- Result 289 ---------------------------------------------\n",
      "[[Loc (97%)]] --> [[Hum (97%)]]\n",
      "\n",
      "In the late 1700 's British convicts were used to populate which [[colony]] ?\n",
      "\n",
      "In the late 1700 's British convicts were used to populate which [[colonist]] ?\n",
      "\n",
      "\n"
     ]
    },
    {
     "name": "stderr",
     "output_type": "stream",
     "text": [
      "[Succeeded / Failed / Skipped / Total] 185 / 94 / 10 / 289:  58%|███████████▌        | 290/500 [10:37<07:41,  2.20s/it]C:\\Users\\DELL\\anaconda3\\envs\\ta\\lib\\site-packages\\textattack\\loggers\\csv_logger.py:41: FutureWarning: The frame.append method is deprecated and will be removed from pandas in a future version. Use pandas.concat instead.\n",
      "  self.df = self.df.append(row, ignore_index=True)\n",
      "[Succeeded / Failed / Skipped / Total] 185 / 95 / 10 / 290:  58%|███████████▌        | 290/500 [10:37<07:41,  2.20s/it]"
     ]
    },
    {
     "name": "stdout",
     "output_type": "stream",
     "text": [
      "--------------------------------------------- Result 290 ---------------------------------------------\n",
      "[[Desc (98%)]] --> [[[FAILED]]]\n",
      "\n",
      "What is e-coli ?\n",
      "\n",
      "\n"
     ]
    },
    {
     "name": "stderr",
     "output_type": "stream",
     "text": [
      "[Succeeded / Failed / Skipped / Total] 185 / 95 / 10 / 290:  58%|███████████▋        | 291/500 [10:37<07:38,  2.19s/it]C:\\Users\\DELL\\anaconda3\\envs\\ta\\lib\\site-packages\\textattack\\loggers\\csv_logger.py:41: FutureWarning: The frame.append method is deprecated and will be removed from pandas in a future version. Use pandas.concat instead.\n",
      "  self.df = self.df.append(row, ignore_index=True)\n",
      "[Succeeded / Failed / Skipped / Total] 185 / 96 / 10 / 291:  58%|███████████▋        | 291/500 [10:37<07:38,  2.19s/it]"
     ]
    },
    {
     "name": "stdout",
     "output_type": "stream",
     "text": [
      "--------------------------------------------- Result 291 ---------------------------------------------\n",
      "[[Desc (98%)]] --> [[[FAILED]]]\n",
      "\n",
      "What is angiotensin ?\n",
      "\n",
      "\n"
     ]
    },
    {
     "name": "stderr",
     "output_type": "stream",
     "text": [
      "[Succeeded / Failed / Skipped / Total] 185 / 96 / 10 / 291:  58%|███████████▋        | 292/500 [10:39<07:35,  2.19s/it]C:\\Users\\DELL\\anaconda3\\envs\\ta\\lib\\site-packages\\textattack\\loggers\\csv_logger.py:41: FutureWarning: The frame.append method is deprecated and will be removed from pandas in a future version. Use pandas.concat instead.\n",
      "  self.df = self.df.append(row, ignore_index=True)\n",
      "[Succeeded / Failed / Skipped / Total] 186 / 96 / 10 / 292:  58%|███████████▋        | 292/500 [10:39<07:35,  2.19s/it]"
     ]
    },
    {
     "name": "stdout",
     "output_type": "stream",
     "text": [
      "--------------------------------------------- Result 292 ---------------------------------------------\n",
      "[[Loc (99%)]] --> [[Num (99%)]]\n",
      "\n",
      "[[Where]] is Prince Edward Island ?\n",
      "\n",
      "[[When]] is Prince Edward Island ?\n",
      "\n",
      "\n"
     ]
    },
    {
     "name": "stderr",
     "output_type": "stream",
     "text": [
      "[Succeeded / Failed / Skipped / Total] 186 / 96 / 10 / 292:  59%|███████████▋        | 293/500 [10:41<07:33,  2.19s/it]C:\\Users\\DELL\\anaconda3\\envs\\ta\\lib\\site-packages\\textattack\\loggers\\csv_logger.py:41: FutureWarning: The frame.append method is deprecated and will be removed from pandas in a future version. Use pandas.concat instead.\n",
      "  self.df = self.df.append(row, ignore_index=True)\n",
      "[Succeeded / Failed / Skipped / Total] 187 / 96 / 10 / 293:  59%|███████████▋        | 293/500 [10:41<07:33,  2.19s/it]"
     ]
    },
    {
     "name": "stdout",
     "output_type": "stream",
     "text": [
      "--------------------------------------------- Result 293 ---------------------------------------------\n",
      "[[Loc (99%)]] --> [[Hum (99%)]]\n",
      "\n",
      "What Canadian [[city]] has the largest population ?\n",
      "\n",
      "What Canadian [[mayor]] has the largest population ?\n",
      "\n",
      "\n"
     ]
    },
    {
     "name": "stderr",
     "output_type": "stream",
     "text": [
      "[Succeeded / Failed / Skipped / Total] 187 / 96 / 10 / 293:  59%|███████████▊        | 294/500 [10:43<07:30,  2.19s/it]C:\\Users\\DELL\\anaconda3\\envs\\ta\\lib\\site-packages\\textattack\\loggers\\csv_logger.py:41: FutureWarning: The frame.append method is deprecated and will be removed from pandas in a future version. Use pandas.concat instead.\n",
      "  self.df = self.df.append(row, ignore_index=True)\n",
      "[Succeeded / Failed / Skipped / Total] 188 / 96 / 10 / 294:  59%|███████████▊        | 294/500 [10:43<07:31,  2.19s/it]"
     ]
    },
    {
     "name": "stdout",
     "output_type": "stream",
     "text": [
      "--------------------------------------------- Result 294 ---------------------------------------------\n",
      "[[Num (97%)]] --> [[Desc (97%)]]\n",
      "\n",
      "What is the [[melting]] point of gold ?\n",
      "\n",
      "What is the [[blending]] point of gold ?\n",
      "\n",
      "\n"
     ]
    },
    {
     "name": "stderr",
     "output_type": "stream",
     "text": [
      "[Succeeded / Failed / Skipped / Total] 188 / 96 / 10 / 294:  59%|███████████▊        | 295/500 [10:44<07:28,  2.19s/it]C:\\Users\\DELL\\anaconda3\\envs\\ta\\lib\\site-packages\\textattack\\loggers\\csv_logger.py:41: FutureWarning: The frame.append method is deprecated and will be removed from pandas in a future version. Use pandas.concat instead.\n",
      "  self.df = self.df.append(row, ignore_index=True)\n",
      "[Succeeded / Failed / Skipped / Total] 189 / 96 / 10 / 295:  59%|███████████▊        | 295/500 [10:44<07:28,  2.19s/it]"
     ]
    },
    {
     "name": "stdout",
     "output_type": "stream",
     "text": [
      "--------------------------------------------- Result 295 ---------------------------------------------\n",
      "[[Hum (99%)]] --> [[Enty (95%)]]\n",
      "\n",
      "What French [[ruler]] was defeated at the battle of Waterloo ?\n",
      "\n",
      "What French [[verdict]] was defeated at the battle of Waterloo ?\n",
      "\n",
      "\n"
     ]
    },
    {
     "name": "stderr",
     "output_type": "stream",
     "text": [
      "[Succeeded / Failed / Skipped / Total] 189 / 96 / 10 / 295:  59%|███████████▊        | 296/500 [10:46<07:25,  2.18s/it]C:\\Users\\DELL\\anaconda3\\envs\\ta\\lib\\site-packages\\textattack\\loggers\\csv_logger.py:41: FutureWarning: The frame.append method is deprecated and will be removed from pandas in a future version. Use pandas.concat instead.\n",
      "  self.df = self.df.append(row, ignore_index=True)\n",
      "[Succeeded / Failed / Skipped / Total] 190 / 96 / 10 / 296:  59%|███████████▊        | 296/500 [10:46<07:25,  2.18s/it]"
     ]
    },
    {
     "name": "stdout",
     "output_type": "stream",
     "text": [
      "--------------------------------------------- Result 296 ---------------------------------------------\n",
      "[[Enty (99%)]] --> [[Desc (98%)]]\n",
      "\n",
      "What [[instrument]] did Glenn Miller play ?\n",
      "\n",
      "What [[means]] did Glenn Miller play ?\n",
      "\n",
      "\n"
     ]
    },
    {
     "name": "stderr",
     "output_type": "stream",
     "text": [
      "[Succeeded / Failed / Skipped / Total] 190 / 96 / 10 / 296:  59%|███████████▉        | 297/500 [10:48<07:23,  2.18s/it]C:\\Users\\DELL\\anaconda3\\envs\\ta\\lib\\site-packages\\textattack\\loggers\\csv_logger.py:41: FutureWarning: The frame.append method is deprecated and will be removed from pandas in a future version. Use pandas.concat instead.\n",
      "  self.df = self.df.append(row, ignore_index=True)\n",
      "[Succeeded / Failed / Skipped / Total] 191 / 96 / 10 / 297:  59%|███████████▉        | 297/500 [10:48<07:23,  2.18s/it]"
     ]
    },
    {
     "name": "stdout",
     "output_type": "stream",
     "text": [
      "--------------------------------------------- Result 297 ---------------------------------------------\n",
      "[[Enty (99%)]] --> [[Desc (98%)]]\n",
      "\n",
      "What is the colorful Korean traditional dress [[called]] ?\n",
      "\n",
      "What is the colorful Korean traditional dress [[rang]] ?\n",
      "\n",
      "\n"
     ]
    },
    {
     "name": "stderr",
     "output_type": "stream",
     "text": [
      "[Succeeded / Failed / Skipped / Total] 191 / 96 / 10 / 297:  60%|███████████▉        | 298/500 [10:52<07:22,  2.19s/it]C:\\Users\\DELL\\anaconda3\\envs\\ta\\lib\\site-packages\\textattack\\loggers\\csv_logger.py:41: FutureWarning: The frame.append method is deprecated and will be removed from pandas in a future version. Use pandas.concat instead.\n",
      "  self.df = self.df.append(row, ignore_index=True)\n",
      "[Succeeded / Failed / Skipped / Total] 191 / 97 / 10 / 298:  60%|███████████▉        | 298/500 [10:52<07:22,  2.19s/it]"
     ]
    },
    {
     "name": "stdout",
     "output_type": "stream",
     "text": [
      "--------------------------------------------- Result 298 ---------------------------------------------\n",
      "[[Desc (98%)]] --> [[[FAILED]]]\n",
      "\n",
      "What is Ursa Major ?\n",
      "\n",
      "\n"
     ]
    },
    {
     "name": "stderr",
     "output_type": "stream",
     "text": [
      "[Succeeded / Failed / Skipped / Total] 191 / 97 / 10 / 298:  60%|███████████▉        | 299/500 [10:54<07:20,  2.19s/it]C:\\Users\\DELL\\anaconda3\\envs\\ta\\lib\\site-packages\\textattack\\loggers\\csv_logger.py:41: FutureWarning: The frame.append method is deprecated and will be removed from pandas in a future version. Use pandas.concat instead.\n",
      "  self.df = self.df.append(row, ignore_index=True)\n",
      "[Succeeded / Failed / Skipped / Total] 192 / 97 / 10 / 299:  60%|███████████▉        | 299/500 [10:54<07:20,  2.19s/it]"
     ]
    },
    {
     "name": "stdout",
     "output_type": "stream",
     "text": [
      "--------------------------------------------- Result 299 ---------------------------------------------\n",
      "[[Desc (97%)]] --> [[Enty (78%)]]\n",
      "\n",
      "What is [[semolina]] ?\n",
      "\n",
      "What is [[meal]] ?\n",
      "\n",
      "\n"
     ]
    },
    {
     "name": "stderr",
     "output_type": "stream",
     "text": [
      "[Succeeded / Failed / Skipped / Total] 192 / 97 / 10 / 299:  60%|████████████        | 300/500 [10:56<07:17,  2.19s/it]C:\\Users\\DELL\\anaconda3\\envs\\ta\\lib\\site-packages\\textattack\\loggers\\csv_logger.py:41: FutureWarning: The frame.append method is deprecated and will be removed from pandas in a future version. Use pandas.concat instead.\n",
      "  self.df = self.df.append(row, ignore_index=True)\n",
      "[Succeeded / Failed / Skipped / Total] 193 / 97 / 10 / 300:  60%|████████████        | 300/500 [10:56<07:17,  2.19s/it]"
     ]
    },
    {
     "name": "stdout",
     "output_type": "stream",
     "text": [
      "--------------------------------------------- Result 300 ---------------------------------------------\n",
      "[[Enty (99%)]] --> [[Num (99%)]]\n",
      "\n",
      "What is the scientific [[name]] for elephant ?\n",
      "\n",
      "What is the scientific [[numbers]] for elephant ?\n",
      "\n",
      "\n"
     ]
    },
    {
     "name": "stderr",
     "output_type": "stream",
     "text": [
      "[Succeeded / Failed / Skipped / Total] 193 / 97 / 10 / 300:  60%|████████████        | 301/500 [10:57<07:14,  2.18s/it]C:\\Users\\DELL\\anaconda3\\envs\\ta\\lib\\site-packages\\textattack\\loggers\\csv_logger.py:41: FutureWarning: The frame.append method is deprecated and will be removed from pandas in a future version. Use pandas.concat instead.\n",
      "  self.df = self.df.append(row, ignore_index=True)\n",
      "[Succeeded / Failed / Skipped / Total] 194 / 97 / 10 / 301:  60%|████████████        | 301/500 [10:57<07:14,  2.18s/it]"
     ]
    },
    {
     "name": "stdout",
     "output_type": "stream",
     "text": [
      "--------------------------------------------- Result 301 ---------------------------------------------\n",
      "[[Loc (99%)]] --> [[Desc (98%)]]\n",
      "\n",
      "What is the [[capital]] of Persia ?\n",
      "\n",
      "What is the [[capitalization]] of Persia ?\n",
      "\n",
      "\n"
     ]
    },
    {
     "name": "stderr",
     "output_type": "stream",
     "text": [
      "[Succeeded / Failed / Skipped / Total] 194 / 97 / 10 / 301:  60%|████████████        | 302/500 [10:58<07:11,  2.18s/it]C:\\Users\\DELL\\anaconda3\\envs\\ta\\lib\\site-packages\\textattack\\loggers\\csv_logger.py:41: FutureWarning: The frame.append method is deprecated and will be removed from pandas in a future version. Use pandas.concat instead.\n",
      "  self.df = self.df.append(row, ignore_index=True)\n",
      "[Succeeded / Failed / Skipped / Total] 194 / 98 / 10 / 302:  60%|████████████        | 302/500 [10:58<07:11,  2.18s/it]"
     ]
    },
    {
     "name": "stdout",
     "output_type": "stream",
     "text": [
      "--------------------------------------------- Result 302 ---------------------------------------------\n",
      "[[Desc (98%)]] --> [[[FAILED]]]\n",
      "\n",
      "What are xerophytes ?\n",
      "\n",
      "\n"
     ]
    },
    {
     "name": "stderr",
     "output_type": "stream",
     "text": [
      "[Succeeded / Failed / Skipped / Total] 194 / 98 / 10 / 302:  61%|████████████        | 303/500 [10:59<07:09,  2.18s/it]C:\\Users\\DELL\\anaconda3\\envs\\ta\\lib\\site-packages\\textattack\\loggers\\csv_logger.py:41: FutureWarning: The frame.append method is deprecated and will be removed from pandas in a future version. Use pandas.concat instead.\n",
      "  self.df = self.df.append(row, ignore_index=True)\n",
      "[Succeeded / Failed / Skipped / Total] 194 / 99 / 10 / 303:  61%|████████████        | 303/500 [11:00<07:09,  2.18s/it]"
     ]
    },
    {
     "name": "stdout",
     "output_type": "stream",
     "text": [
      "--------------------------------------------- Result 303 ---------------------------------------------\n",
      "[[Desc (98%)]] --> [[[FAILED]]]\n",
      "\n",
      "What is an annuity ?\n",
      "\n",
      "\n"
     ]
    },
    {
     "name": "stderr",
     "output_type": "stream",
     "text": [
      "[Succeeded / Failed / Skipped / Total] 194 / 99 / 10 / 303:  61%|████████████▏       | 304/500 [11:00<07:05,  2.17s/it]C:\\Users\\DELL\\anaconda3\\envs\\ta\\lib\\site-packages\\textattack\\loggers\\csv_logger.py:41: FutureWarning: The frame.append method is deprecated and will be removed from pandas in a future version. Use pandas.concat instead.\n",
      "  self.df = self.df.append(row, ignore_index=True)\n",
      "[Succeeded / Failed / Skipped / Total] 195 / 99 / 10 / 304:  61%|████████████▏       | 304/500 [11:00<07:05,  2.17s/it]"
     ]
    },
    {
     "name": "stdout",
     "output_type": "stream",
     "text": [
      "--------------------------------------------- Result 304 ---------------------------------------------\n",
      "[[Num (99%)]] --> [[Enty (94%)]]\n",
      "\n",
      "What is Susan B. Anthony 's [[birthday]] ?\n",
      "\n",
      "What is Susan B. Anthony 's [[commemorating]] ?\n",
      "\n",
      "\n"
     ]
    },
    {
     "name": "stderr",
     "output_type": "stream",
     "text": [
      "[Succeeded / Failed / Skipped / Total] 195 / 99 / 10 / 304:  61%|████████████▏       | 305/500 [11:02<07:03,  2.17s/it]C:\\Users\\DELL\\anaconda3\\envs\\ta\\lib\\site-packages\\textattack\\loggers\\csv_logger.py:41: FutureWarning: The frame.append method is deprecated and will be removed from pandas in a future version. Use pandas.concat instead.\n",
      "  self.df = self.df.append(row, ignore_index=True)\n",
      "[Succeeded / Failed / Skipped / Total] 196 / 99 / 10 / 305:  61%|████████████▏       | 305/500 [11:02<07:03,  2.17s/it]"
     ]
    },
    {
     "name": "stdout",
     "output_type": "stream",
     "text": [
      "--------------------------------------------- Result 305 ---------------------------------------------\n",
      "[[Desc (97%)]] --> [[Enty (82%)]]\n",
      "\n",
      "What [[do]] meteorologists do ?\n",
      "\n",
      "What [[soaps]] meteorologists do ?\n",
      "\n",
      "\n"
     ]
    },
    {
     "name": "stderr",
     "output_type": "stream",
     "text": [
      "[Succeeded / Failed / Skipped / Total] 196 / 99 / 10 / 305:  61%|████████████▏       | 306/500 [11:03<07:00,  2.17s/it]C:\\Users\\DELL\\anaconda3\\envs\\ta\\lib\\site-packages\\textattack\\loggers\\csv_logger.py:41: FutureWarning: The frame.append method is deprecated and will be removed from pandas in a future version. Use pandas.concat instead.\n",
      "  self.df = self.df.append(row, ignore_index=True)\n",
      "[Succeeded / Failed / Skipped / Total] 196 / 100 / 10 / 306:  61%|███████████▋       | 306/500 [11:03<07:00,  2.17s/it]"
     ]
    },
    {
     "name": "stdout",
     "output_type": "stream",
     "text": [
      "--------------------------------------------- Result 306 ---------------------------------------------\n",
      "[[Desc (98%)]] --> [[[FAILED]]]\n",
      "\n",
      "What is fungus ?\n",
      "\n",
      "\n"
     ]
    },
    {
     "name": "stderr",
     "output_type": "stream",
     "text": [
      "[Succeeded / Failed / Skipped / Total] 196 / 100 / 10 / 306:  61%|███████████▋       | 307/500 [11:05<06:58,  2.17s/it]C:\\Users\\DELL\\anaconda3\\envs\\ta\\lib\\site-packages\\textattack\\loggers\\csv_logger.py:41: FutureWarning: The frame.append method is deprecated and will be removed from pandas in a future version. Use pandas.concat instead.\n",
      "  self.df = self.df.append(row, ignore_index=True)\n",
      "[Succeeded / Failed / Skipped / Total] 197 / 100 / 10 / 307:  61%|███████████▋       | 307/500 [11:05<06:58,  2.17s/it]"
     ]
    },
    {
     "name": "stdout",
     "output_type": "stream",
     "text": [
      "--------------------------------------------- Result 307 ---------------------------------------------\n",
      "[[Num (99%)]] --> [[Desc (98%)]]\n",
      "\n",
      "How [[far]] is the service line from the net in tennis ?\n",
      "\n",
      "How [[immeasurably]] is the service line from the net in tennis ?\n",
      "\n",
      "\n"
     ]
    },
    {
     "name": "stderr",
     "output_type": "stream",
     "text": [
      "[Succeeded / Failed / Skipped / Total] 197 / 100 / 10 / 307:  62%|███████████▋       | 308/500 [11:08<06:56,  2.17s/it]C:\\Users\\DELL\\anaconda3\\envs\\ta\\lib\\site-packages\\textattack\\loggers\\csv_logger.py:41: FutureWarning: The frame.append method is deprecated and will be removed from pandas in a future version. Use pandas.concat instead.\n",
      "  self.df = self.df.append(row, ignore_index=True)\n",
      "[Succeeded / Failed / Skipped / Total] 198 / 100 / 10 / 308:  62%|███████████▋       | 308/500 [11:08<06:56,  2.17s/it]"
     ]
    },
    {
     "name": "stdout",
     "output_type": "stream",
     "text": [
      "--------------------------------------------- Result 308 ---------------------------------------------\n",
      "[[Enty (99%)]] --> [[Desc (98%)]]\n",
      "\n",
      "What is a baby lion [[called]] ?\n",
      "\n",
      "What is a baby lion [[pleaded]] ?\n",
      "\n",
      "\n"
     ]
    },
    {
     "name": "stderr",
     "output_type": "stream",
     "text": [
      "[Succeeded / Failed / Skipped / Total] 198 / 100 / 10 / 308:  62%|███████████▋       | 309/500 [11:10<06:54,  2.17s/it]C:\\Users\\DELL\\anaconda3\\envs\\ta\\lib\\site-packages\\textattack\\loggers\\csv_logger.py:41: FutureWarning: The frame.append method is deprecated and will be removed from pandas in a future version. Use pandas.concat instead.\n",
      "  self.df = self.df.append(row, ignore_index=True)\n",
      "[Succeeded / Failed / Skipped / Total] 199 / 100 / 10 / 309:  62%|███████████▋       | 309/500 [11:10<06:54,  2.17s/it]"
     ]
    },
    {
     "name": "stdout",
     "output_type": "stream",
     "text": [
      "--------------------------------------------- Result 309 ---------------------------------------------\n",
      "[[Enty (99%)]] --> [[Desc (98%)]]\n",
      "\n",
      "What is the primary [[language]] in Iceland ?\n",
      "\n",
      "What is the primary [[linguistics]] in Iceland ?\n",
      "\n",
      "\n"
     ]
    },
    {
     "name": "stderr",
     "output_type": "stream",
     "text": [
      "[Succeeded / Failed / Skipped / Total] 199 / 100 / 10 / 309:  62%|███████████▊       | 310/500 [11:12<06:52,  2.17s/it]C:\\Users\\DELL\\anaconda3\\envs\\ta\\lib\\site-packages\\textattack\\loggers\\csv_logger.py:41: FutureWarning: The frame.append method is deprecated and will be removed from pandas in a future version. Use pandas.concat instead.\n",
      "  self.df = self.df.append(row, ignore_index=True)\n",
      "[Succeeded / Failed / Skipped / Total] 199 / 101 / 10 / 310:  62%|███████████▊       | 310/500 [11:12<06:52,  2.17s/it]"
     ]
    },
    {
     "name": "stdout",
     "output_type": "stream",
     "text": [
      "--------------------------------------------- Result 310 ---------------------------------------------\n",
      "[[Enty (99%)]] --> [[[FAILED]]]\n",
      "\n",
      "What birthstone is turquoise ?\n",
      "\n",
      "\n"
     ]
    },
    {
     "name": "stderr",
     "output_type": "stream",
     "text": [
      "[Succeeded / Failed / Skipped / Total] 199 / 101 / 10 / 310:  62%|███████████▊       | 311/500 [11:12<06:48,  2.16s/it]C:\\Users\\DELL\\anaconda3\\envs\\ta\\lib\\site-packages\\textattack\\loggers\\csv_logger.py:41: FutureWarning: The frame.append method is deprecated and will be removed from pandas in a future version. Use pandas.concat instead.\n",
      "  self.df = self.df.append(row, ignore_index=True)\n",
      "[Succeeded / Failed / Skipped / Total] 199 / 102 / 10 / 311:  62%|███████████▊       | 311/500 [11:12<06:48,  2.16s/it]"
     ]
    },
    {
     "name": "stdout",
     "output_type": "stream",
     "text": [
      "--------------------------------------------- Result 311 ---------------------------------------------\n",
      "[[Desc (98%)]] --> [[[FAILED]]]\n",
      "\n",
      "What is viscosity ?\n",
      "\n",
      "\n"
     ]
    },
    {
     "name": "stderr",
     "output_type": "stream",
     "text": [
      "[Succeeded / Failed / Skipped / Total] 199 / 102 / 10 / 311:  62%|███████████▊       | 312/500 [11:13<06:45,  2.16s/it]C:\\Users\\DELL\\anaconda3\\envs\\ta\\lib\\site-packages\\textattack\\loggers\\csv_logger.py:41: FutureWarning: The frame.append method is deprecated and will be removed from pandas in a future version. Use pandas.concat instead.\n",
      "  self.df = self.df.append(row, ignore_index=True)\n",
      "[Succeeded / Failed / Skipped / Total] 199 / 103 / 10 / 312:  62%|███████████▊       | 312/500 [11:13<06:45,  2.16s/it]"
     ]
    },
    {
     "name": "stdout",
     "output_type": "stream",
     "text": [
      "--------------------------------------------- Result 312 ---------------------------------------------\n",
      "[[Desc (98%)]] --> [[[FAILED]]]\n",
      "\n",
      "What are polymers ?\n",
      "\n",
      "\n"
     ]
    },
    {
     "name": "stderr",
     "output_type": "stream",
     "text": [
      "[Succeeded / Failed / Skipped / Total] 199 / 103 / 10 / 312:  63%|███████████▉       | 313/500 [11:15<06:43,  2.16s/it]C:\\Users\\DELL\\anaconda3\\envs\\ta\\lib\\site-packages\\textattack\\loggers\\csv_logger.py:41: FutureWarning: The frame.append method is deprecated and will be removed from pandas in a future version. Use pandas.concat instead.\n",
      "  self.df = self.df.append(row, ignore_index=True)\n",
      "[Succeeded / Failed / Skipped / Total] 199 / 104 / 10 / 313:  63%|███████████▉       | 313/500 [11:15<06:43,  2.16s/it]"
     ]
    },
    {
     "name": "stdout",
     "output_type": "stream",
     "text": [
      "--------------------------------------------- Result 313 ---------------------------------------------\n",
      "[[Desc (98%)]] --> [[[FAILED]]]\n",
      "\n",
      "What is sodium chloride ?\n",
      "\n",
      "\n"
     ]
    },
    {
     "name": "stderr",
     "output_type": "stream",
     "text": [
      "[Succeeded / Failed / Skipped / Total] 199 / 104 / 10 / 313:  63%|███████████▉       | 314/500 [11:18<06:41,  2.16s/it]C:\\Users\\DELL\\anaconda3\\envs\\ta\\lib\\site-packages\\textattack\\loggers\\csv_logger.py:41: FutureWarning: The frame.append method is deprecated and will be removed from pandas in a future version. Use pandas.concat instead.\n",
      "  self.df = self.df.append(row, ignore_index=True)\n",
      "[Succeeded / Failed / Skipped / Total] 200 / 104 / 10 / 314:  63%|███████████▉       | 314/500 [11:18<06:41,  2.16s/it]"
     ]
    },
    {
     "name": "stdout",
     "output_type": "stream",
     "text": [
      "--------------------------------------------- Result 314 ---------------------------------------------\n",
      "[[Num (99%)]] --> [[Desc (98%)]]\n",
      "\n",
      "What is the [[average]] body [[temperature]] ?\n",
      "\n",
      "What is the [[mean]] body [[weather]] ?\n",
      "\n",
      "\n"
     ]
    },
    {
     "name": "stderr",
     "output_type": "stream",
     "text": [
      "[Succeeded / Failed / Skipped / Total] 200 / 104 / 10 / 314:  63%|███████████▉       | 315/500 [11:18<06:38,  2.16s/it]C:\\Users\\DELL\\anaconda3\\envs\\ta\\lib\\site-packages\\textattack\\loggers\\csv_logger.py:41: FutureWarning: The frame.append method is deprecated and will be removed from pandas in a future version. Use pandas.concat instead.\n",
      "  self.df = self.df.append(row, ignore_index=True)\n",
      "[Succeeded / Failed / Skipped / Total] 201 / 104 / 10 / 315:  63%|███████████▉       | 315/500 [11:18<06:38,  2.16s/it]"
     ]
    },
    {
     "name": "stdout",
     "output_type": "stream",
     "text": [
      "--------------------------------------------- Result 315 ---------------------------------------------\n",
      "[[Num (99%)]] --> [[Enty (95%)]]\n",
      "\n",
      "What [[year]] was Mozart born ?\n",
      "\n",
      "What [[roku]] was Mozart born ?\n",
      "\n",
      "\n"
     ]
    },
    {
     "name": "stderr",
     "output_type": "stream",
     "text": [
      "[Succeeded / Failed / Skipped / Total] 201 / 104 / 10 / 315:  63%|████████████       | 316/500 [11:19<06:35,  2.15s/it]C:\\Users\\DELL\\anaconda3\\envs\\ta\\lib\\site-packages\\textattack\\loggers\\csv_logger.py:41: FutureWarning: The frame.append method is deprecated and will be removed from pandas in a future version. Use pandas.concat instead.\n",
      "  self.df = self.df.append(row, ignore_index=True)\n",
      "[Succeeded / Failed / Skipped / Total] 201 / 105 / 10 / 316:  63%|████████████       | 316/500 [11:19<06:35,  2.15s/it]"
     ]
    },
    {
     "name": "stdout",
     "output_type": "stream",
     "text": [
      "--------------------------------------------- Result 316 ---------------------------------------------\n",
      "[[Desc (98%)]] --> [[[FAILED]]]\n",
      "\n",
      "What is supernova ?\n",
      "\n",
      "\n"
     ]
    },
    {
     "name": "stderr",
     "output_type": "stream",
     "text": [
      "[Succeeded / Failed / Skipped / Total] 201 / 105 / 10 / 316:  63%|████████████       | 317/500 [11:21<06:33,  2.15s/it]C:\\Users\\DELL\\anaconda3\\envs\\ta\\lib\\site-packages\\textattack\\loggers\\csv_logger.py:41: FutureWarning: The frame.append method is deprecated and will be removed from pandas in a future version. Use pandas.concat instead.\n",
      "  self.df = self.df.append(row, ignore_index=True)\n",
      "[Succeeded / Failed / Skipped / Total] 202 / 105 / 10 / 317:  63%|████████████       | 317/500 [11:21<06:33,  2.15s/it]"
     ]
    },
    {
     "name": "stdout",
     "output_type": "stream",
     "text": [
      "--------------------------------------------- Result 317 ---------------------------------------------\n",
      "[[Num (99%)]] --> [[Desc (96%)]]\n",
      "\n",
      "What is the [[length]] of the coastline of the state of Alaska ?\n",
      "\n",
      "What is the [[durability]] of the coastline of the state of Alaska ?\n",
      "\n",
      "\n"
     ]
    },
    {
     "name": "stderr",
     "output_type": "stream",
     "text": [
      "[Succeeded / Failed / Skipped / Total] 202 / 105 / 10 / 317:  64%|████████████       | 318/500 [11:21<06:30,  2.14s/it]C:\\Users\\DELL\\anaconda3\\envs\\ta\\lib\\site-packages\\textattack\\loggers\\csv_logger.py:41: FutureWarning: The frame.append method is deprecated and will be removed from pandas in a future version. Use pandas.concat instead.\n",
      "  self.df = self.df.append(row, ignore_index=True)\n",
      "[Succeeded / Failed / Skipped / Total] 203 / 105 / 10 / 318:  64%|████████████       | 318/500 [11:21<06:30,  2.14s/it]"
     ]
    },
    {
     "name": "stdout",
     "output_type": "stream",
     "text": [
      "--------------------------------------------- Result 318 ---------------------------------------------\n",
      "[[Desc (98%)]] --> [[Enty (96%)]]\n",
      "\n",
      "What is [[epilepsy]] ?\n",
      "\n",
      "What is [[seized]] ?\n",
      "\n",
      "\n"
     ]
    },
    {
     "name": "stderr",
     "output_type": "stream",
     "text": [
      "[Succeeded / Failed / Skipped / Total] 203 / 105 / 10 / 318:  64%|████████████       | 319/500 [11:22<06:27,  2.14s/it]C:\\Users\\DELL\\anaconda3\\envs\\ta\\lib\\site-packages\\textattack\\loggers\\csv_logger.py:41: FutureWarning: The frame.append method is deprecated and will be removed from pandas in a future version. Use pandas.concat instead.\n",
      "  self.df = self.df.append(row, ignore_index=True)\n",
      "[Succeeded / Failed / Skipped / Total] 204 / 105 / 10 / 319:  64%|████████████       | 319/500 [11:22<06:27,  2.14s/it]"
     ]
    },
    {
     "name": "stdout",
     "output_type": "stream",
     "text": [
      "--------------------------------------------- Result 319 ---------------------------------------------\n",
      "[[Num (99%)]] --> [[Loc (99%)]]\n",
      "\n",
      "[[When]] was Algeria colonized ?\n",
      "\n",
      "[[Where]] was Algeria colonized ?\n",
      "\n",
      "\n"
     ]
    },
    {
     "name": "stderr",
     "output_type": "stream",
     "text": [
      "[Succeeded / Failed / Skipped / Total] 204 / 105 / 10 / 319:  64%|████████████▏      | 320/500 [11:23<06:24,  2.14s/it]C:\\Users\\DELL\\anaconda3\\envs\\ta\\lib\\site-packages\\textattack\\loggers\\csv_logger.py:41: FutureWarning: The frame.append method is deprecated and will be removed from pandas in a future version. Use pandas.concat instead.\n",
      "  self.df = self.df.append(row, ignore_index=True)\n",
      "[Succeeded / Failed / Skipped / Total] 205 / 105 / 10 / 320:  64%|████████████▏      | 320/500 [11:23<06:24,  2.14s/it]"
     ]
    },
    {
     "name": "stdout",
     "output_type": "stream",
     "text": [
      "--------------------------------------------- Result 320 ---------------------------------------------\n",
      "[[Hum (99%)]] --> [[Enty (76%)]]\n",
      "\n",
      "What [[person]] 's head is on a dime ?\n",
      "\n",
      "What [[capita]] 's head is on a dime ?\n",
      "\n",
      "\n"
     ]
    },
    {
     "name": "stderr",
     "output_type": "stream",
     "text": [
      "[Succeeded / Failed / Skipped / Total] 205 / 105 / 10 / 320:  64%|████████████▏      | 321/500 [11:26<06:22,  2.14s/it]C:\\Users\\DELL\\anaconda3\\envs\\ta\\lib\\site-packages\\textattack\\loggers\\csv_logger.py:41: FutureWarning: The frame.append method is deprecated and will be removed from pandas in a future version. Use pandas.concat instead.\n",
      "  self.df = self.df.append(row, ignore_index=True)\n",
      "[Succeeded / Failed / Skipped / Total] 206 / 105 / 10 / 321:  64%|████████████▏      | 321/500 [11:26<06:22,  2.14s/it]"
     ]
    },
    {
     "name": "stdout",
     "output_type": "stream",
     "text": [
      "--------------------------------------------- Result 321 ---------------------------------------------\n",
      "[[Loc (99%)]] --> [[Enty (99%)]]\n",
      "\n",
      "What are Canada 's two [[territories]] ?\n",
      "\n",
      "What are Canada 's two [[zona]] ?\n",
      "\n",
      "\n"
     ]
    },
    {
     "name": "stderr",
     "output_type": "stream",
     "text": [
      "[Succeeded / Failed / Skipped / Total] 206 / 105 / 10 / 321:  64%|████████████▏      | 322/500 [11:28<06:20,  2.14s/it]C:\\Users\\DELL\\anaconda3\\envs\\ta\\lib\\site-packages\\textattack\\loggers\\csv_logger.py:41: FutureWarning: The frame.append method is deprecated and will be removed from pandas in a future version. Use pandas.concat instead.\n",
      "  self.df = self.df.append(row, ignore_index=True)\n",
      "[Succeeded / Failed / Skipped / Total] 207 / 105 / 10 / 322:  64%|████████████▏      | 322/500 [11:28<06:20,  2.14s/it]"
     ]
    },
    {
     "name": "stdout",
     "output_type": "stream",
     "text": [
      "--------------------------------------------- Result 322 ---------------------------------------------\n",
      "[[Loc (99%)]] --> [[Num (99%)]]\n",
      "\n",
      "[[Where]] is the volcano Olympus Mons located ?\n",
      "\n",
      "[[When]] is the volcano Olympus Mons located ?\n",
      "\n",
      "\n"
     ]
    },
    {
     "name": "stderr",
     "output_type": "stream",
     "text": [
      "[Succeeded / Failed / Skipped / Total] 207 / 105 / 10 / 322:  65%|████████████▎      | 323/500 [11:31<06:18,  2.14s/it]C:\\Users\\DELL\\anaconda3\\envs\\ta\\lib\\site-packages\\textattack\\loggers\\csv_logger.py:41: FutureWarning: The frame.append method is deprecated and will be removed from pandas in a future version. Use pandas.concat instead.\n",
      "  self.df = self.df.append(row, ignore_index=True)\n",
      "[Succeeded / Failed / Skipped / Total] 208 / 105 / 10 / 323:  65%|████████████▎      | 323/500 [11:31<06:18,  2.14s/it]"
     ]
    },
    {
     "name": "stdout",
     "output_type": "stream",
     "text": [
      "--------------------------------------------- Result 323 ---------------------------------------------\n",
      "[[Loc (98%)]] --> [[Desc (98%)]]\n",
      "\n",
      "What is the street [[address]] of the White House ?\n",
      "\n",
      "What is the street [[solution]] of the White House ?\n",
      "\n",
      "\n"
     ]
    },
    {
     "name": "stderr",
     "output_type": "stream",
     "text": [
      "[Succeeded / Failed / Skipped / Total] 208 / 105 / 10 / 323:  65%|████████████▎      | 324/500 [11:34<06:17,  2.14s/it]C:\\Users\\DELL\\anaconda3\\envs\\ta\\lib\\site-packages\\textattack\\loggers\\csv_logger.py:41: FutureWarning: The frame.append method is deprecated and will be removed from pandas in a future version. Use pandas.concat instead.\n",
      "  self.df = self.df.append(row, ignore_index=True)\n",
      "[Succeeded / Failed / Skipped / Total] 209 / 105 / 10 / 324:  65%|████████████▎      | 324/500 [11:34<06:17,  2.14s/it]"
     ]
    },
    {
     "name": "stdout",
     "output_type": "stream",
     "text": [
      "--------------------------------------------- Result 324 ---------------------------------------------\n",
      "[[Enty (99%)]] --> [[Desc (93%)]]\n",
      "\n",
      "What do you [[call]] a word that is spelled the same backwards and forwards ?\n",
      "\n",
      "What do you [[asking]] a word that is spelled the same backwards and forwards ?\n",
      "\n",
      "\n"
     ]
    },
    {
     "name": "stderr",
     "output_type": "stream",
     "text": [
      "[Succeeded / Failed / Skipped / Total] 209 / 105 / 10 / 324:  65%|████████████▎      | 325/500 [11:36<06:15,  2.14s/it]C:\\Users\\DELL\\anaconda3\\envs\\ta\\lib\\site-packages\\textattack\\loggers\\csv_logger.py:41: FutureWarning: The frame.append method is deprecated and will be removed from pandas in a future version. Use pandas.concat instead.\n",
      "  self.df = self.df.append(row, ignore_index=True)\n",
      "[Succeeded / Failed / Skipped / Total] 210 / 105 / 10 / 325:  65%|████████████▎      | 325/500 [11:36<06:15,  2.14s/it]"
     ]
    },
    {
     "name": "stdout",
     "output_type": "stream",
     "text": [
      "--------------------------------------------- Result 325 ---------------------------------------------\n",
      "[[Enty (99%)]] --> [[Desc (96%)]]\n",
      "\n",
      "What do you [[call]] a newborn kangaroo ?\n",
      "\n",
      "What do you [[asking]] a newborn kangaroo ?\n",
      "\n",
      "\n"
     ]
    },
    {
     "name": "stderr",
     "output_type": "stream",
     "text": [
      "[Succeeded / Failed / Skipped / Total] 210 / 105 / 10 / 325:  65%|████████████▍      | 326/500 [11:37<06:12,  2.14s/it]C:\\Users\\DELL\\anaconda3\\envs\\ta\\lib\\site-packages\\textattack\\loggers\\csv_logger.py:41: FutureWarning: The frame.append method is deprecated and will be removed from pandas in a future version. Use pandas.concat instead.\n",
      "  self.df = self.df.append(row, ignore_index=True)\n",
      "[Succeeded / Failed / Skipped / Total] 210 / 106 / 10 / 326:  65%|████████████▍      | 326/500 [11:38<06:12,  2.14s/it]"
     ]
    },
    {
     "name": "stdout",
     "output_type": "stream",
     "text": [
      "--------------------------------------------- Result 326 ---------------------------------------------\n",
      "[[Desc (98%)]] --> [[[FAILED]]]\n",
      "\n",
      "What is autism ?\n",
      "\n",
      "\n"
     ]
    },
    {
     "name": "stderr",
     "output_type": "stream",
     "text": [
      "[Succeeded / Failed / Skipped / Total] 210 / 106 / 10 / 326:  65%|████████████▍      | 327/500 [11:39<06:10,  2.14s/it]C:\\Users\\DELL\\anaconda3\\envs\\ta\\lib\\site-packages\\textattack\\loggers\\csv_logger.py:41: FutureWarning: The frame.append method is deprecated and will be removed from pandas in a future version. Use pandas.concat instead.\n",
      "  self.df = self.df.append(row, ignore_index=True)\n",
      "[Succeeded / Failed / Skipped / Total] 211 / 106 / 10 / 327:  65%|████████████▍      | 327/500 [11:39<06:10,  2.14s/it]"
     ]
    },
    {
     "name": "stdout",
     "output_type": "stream",
     "text": [
      "--------------------------------------------- Result 327 ---------------------------------------------\n",
      "[[Hum (99%)]] --> [[Desc (97%)]]\n",
      "\n",
      "What is Shakespeare 's [[nickname]] ?\n",
      "\n",
      "What is Shakespeare 's [[falsify]] ?\n",
      "\n",
      "\n"
     ]
    },
    {
     "name": "stderr",
     "output_type": "stream",
     "text": [
      "[Succeeded / Failed / Skipped / Total] 211 / 106 / 10 / 327:  66%|████████████▍      | 328/500 [11:42<06:08,  2.14s/it]C:\\Users\\DELL\\anaconda3\\envs\\ta\\lib\\site-packages\\textattack\\loggers\\csv_logger.py:41: FutureWarning: The frame.append method is deprecated and will be removed from pandas in a future version. Use pandas.concat instead.\n",
      "  self.df = self.df.append(row, ignore_index=True)\n",
      "[Succeeded / Failed / Skipped / Total] 212 / 106 / 10 / 328:  66%|████████████▍      | 328/500 [11:42<06:08,  2.14s/it]"
     ]
    },
    {
     "name": "stdout",
     "output_type": "stream",
     "text": [
      "--------------------------------------------- Result 328 ---------------------------------------------\n",
      "[[Num (83%)]] --> [[Desc (97%)]]\n",
      "\n",
      "What is the [[speed]] hummingbirds fly ?\n",
      "\n",
      "What is the [[quickens]] hummingbirds fly ?\n",
      "\n",
      "\n"
     ]
    },
    {
     "name": "stderr",
     "output_type": "stream",
     "text": [
      "[Succeeded / Failed / Skipped / Total] 212 / 106 / 10 / 328:  66%|████████████▌      | 329/500 [11:44<06:05,  2.14s/it]C:\\Users\\DELL\\anaconda3\\envs\\ta\\lib\\site-packages\\textattack\\loggers\\csv_logger.py:41: FutureWarning: The frame.append method is deprecated and will be removed from pandas in a future version. Use pandas.concat instead.\n",
      "  self.df = self.df.append(row, ignore_index=True)\n",
      "[Succeeded / Failed / Skipped / Total] 212 / 107 / 10 / 329:  66%|████████████▌      | 329/500 [11:44<06:05,  2.14s/it]"
     ]
    },
    {
     "name": "stdout",
     "output_type": "stream",
     "text": [
      "--------------------------------------------- Result 329 ---------------------------------------------\n",
      "[[Desc (98%)]] --> [[[FAILED]]]\n",
      "\n",
      "What is genocide ?\n",
      "\n",
      "\n"
     ]
    },
    {
     "name": "stderr",
     "output_type": "stream",
     "text": [
      "[Succeeded / Failed / Skipped / Total] 212 / 107 / 10 / 329:  66%|████████████▌      | 330/500 [11:47<06:04,  2.14s/it]C:\\Users\\DELL\\anaconda3\\envs\\ta\\lib\\site-packages\\textattack\\loggers\\csv_logger.py:41: FutureWarning: The frame.append method is deprecated and will be removed from pandas in a future version. Use pandas.concat instead.\n",
      "  self.df = self.df.append(row, ignore_index=True)\n",
      "[Succeeded / Failed / Skipped / Total] 212 / 108 / 10 / 330:  66%|████████████▌      | 330/500 [11:47<06:04,  2.14s/it]"
     ]
    },
    {
     "name": "stdout",
     "output_type": "stream",
     "text": [
      "--------------------------------------------- Result 330 ---------------------------------------------\n",
      "[[Hum (99%)]] --> [[[FAILED]]]\n",
      "\n",
      "Who discovered oxygen ?\n",
      "\n",
      "\n"
     ]
    },
    {
     "name": "stderr",
     "output_type": "stream",
     "text": [
      "[Succeeded / Failed / Skipped / Total] 212 / 108 / 10 / 330:  66%|████████████▌      | 331/500 [11:48<06:01,  2.14s/it]C:\\Users\\DELL\\anaconda3\\envs\\ta\\lib\\site-packages\\textattack\\loggers\\csv_logger.py:41: FutureWarning: The frame.append method is deprecated and will be removed from pandas in a future version. Use pandas.concat instead.\n",
      "  self.df = self.df.append(row, ignore_index=True)\n",
      "[Succeeded / Failed / Skipped / Total] 213 / 108 / 10 / 331:  66%|████████████▌      | 331/500 [11:48<06:01,  2.14s/it]"
     ]
    },
    {
     "name": "stdout",
     "output_type": "stream",
     "text": [
      "--------------------------------------------- Result 331 ---------------------------------------------\n",
      "[[Num (99%)]] --> [[Loc (99%)]]\n",
      "\n",
      "[[When]] did Hawaii become a state ?\n",
      "\n",
      "[[Where]] did Hawaii become a state ?\n",
      "\n",
      "\n"
     ]
    },
    {
     "name": "stderr",
     "output_type": "stream",
     "text": [
      "[Succeeded / Failed / Skipped / Total] 213 / 108 / 10 / 331:  66%|████████████▌      | 332/500 [11:50<05:59,  2.14s/it]C:\\Users\\DELL\\anaconda3\\envs\\ta\\lib\\site-packages\\textattack\\loggers\\csv_logger.py:41: FutureWarning: The frame.append method is deprecated and will be removed from pandas in a future version. Use pandas.concat instead.\n",
      "  self.df = self.df.append(row, ignore_index=True)\n",
      "[Succeeded / Failed / Skipped / Total] 214 / 108 / 10 / 332:  66%|████████████▌      | 332/500 [11:50<05:59,  2.14s/it]"
     ]
    },
    {
     "name": "stdout",
     "output_type": "stream",
     "text": [
      "--------------------------------------------- Result 332 ---------------------------------------------\n",
      "[[Hum (68%)]] --> [[Loc (99%)]]\n",
      "\n",
      "What is the oldest [[university]] in the US ?\n",
      "\n",
      "What is the oldest [[campus]] in the US ?\n",
      "\n",
      "\n"
     ]
    },
    {
     "name": "stderr",
     "output_type": "stream",
     "text": [
      "[Succeeded / Failed / Skipped / Total] 214 / 108 / 10 / 332:  67%|████████████▋      | 333/500 [11:52<05:57,  2.14s/it]C:\\Users\\DELL\\anaconda3\\envs\\ta\\lib\\site-packages\\textattack\\loggers\\csv_logger.py:41: FutureWarning: The frame.append method is deprecated and will be removed from pandas in a future version. Use pandas.concat instead.\n",
      "  self.df = self.df.append(row, ignore_index=True)\n",
      "[Succeeded / Failed / Skipped / Total] 215 / 108 / 10 / 333:  67%|████████████▋      | 333/500 [11:52<05:57,  2.14s/it]"
     ]
    },
    {
     "name": "stdout",
     "output_type": "stream",
     "text": [
      "--------------------------------------------- Result 333 ---------------------------------------------\n",
      "[[Num (99%)]] --> [[Desc (98%)]]\n",
      "\n",
      "How [[many]] liters in a gallon ?\n",
      "\n",
      "How [[miscellaneous]] liters in a gallon ?\n",
      "\n",
      "\n"
     ]
    },
    {
     "name": "stderr",
     "output_type": "stream",
     "text": [
      "[Succeeded / Failed / Skipped / Total] 215 / 108 / 10 / 333:  67%|████████████▋      | 334/500 [11:55<05:55,  2.14s/it]C:\\Users\\DELL\\anaconda3\\envs\\ta\\lib\\site-packages\\textattack\\loggers\\csv_logger.py:41: FutureWarning: The frame.append method is deprecated and will be removed from pandas in a future version. Use pandas.concat instead.\n",
      "  self.df = self.df.append(row, ignore_index=True)\n",
      "[Succeeded / Failed / Skipped / Total] 216 / 108 / 10 / 334:  67%|████████████▋      | 334/500 [11:55<05:55,  2.14s/it]"
     ]
    },
    {
     "name": "stdout",
     "output_type": "stream",
     "text": [
      "--------------------------------------------- Result 334 ---------------------------------------------\n",
      "[[Enty (99%)]] --> [[Loc (99%)]]\n",
      "\n",
      "What [[color]] is yak milk ?\n",
      "\n",
      "What [[spot]] is yak milk ?\n",
      "\n",
      "\n"
     ]
    },
    {
     "name": "stderr",
     "output_type": "stream",
     "text": [
      "[Succeeded / Failed / Skipped / Total] 216 / 108 / 10 / 334:  67%|████████████▋      | 335/500 [11:56<05:52,  2.14s/it]C:\\Users\\DELL\\anaconda3\\envs\\ta\\lib\\site-packages\\textattack\\loggers\\csv_logger.py:41: FutureWarning: The frame.append method is deprecated and will be removed from pandas in a future version. Use pandas.concat instead.\n",
      "  self.df = self.df.append(row, ignore_index=True)\n",
      "[Succeeded / Failed / Skipped / Total] 217 / 108 / 10 / 335:  67%|████████████▋      | 335/500 [11:56<05:52,  2.14s/it]"
     ]
    },
    {
     "name": "stdout",
     "output_type": "stream",
     "text": [
      "--------------------------------------------- Result 335 ---------------------------------------------\n",
      "[[Num (99%)]] --> [[Enty (99%)]]\n",
      "\n",
      "What [[year]] did Canada join the United Nations ?\n",
      "\n",
      "What [[roku]] did Canada join the United Nations ?\n",
      "\n",
      "\n"
     ]
    },
    {
     "name": "stderr",
     "output_type": "stream",
     "text": [
      "[Succeeded / Failed / Skipped / Total] 217 / 108 / 10 / 335:  67%|████████████▊      | 336/500 [11:56<05:49,  2.13s/it]C:\\Users\\DELL\\anaconda3\\envs\\ta\\lib\\site-packages\\textattack\\loggers\\csv_logger.py:41: FutureWarning: The frame.append method is deprecated and will be removed from pandas in a future version. Use pandas.concat instead.\n",
      "  self.df = self.df.append(row, ignore_index=True)\n",
      "[Succeeded / Failed / Skipped / Total] 218 / 108 / 10 / 336:  67%|████████████▊      | 336/500 [11:57<05:49,  2.13s/it]C:\\Users\\DELL\\anaconda3\\envs\\ta\\lib\\site-packages\\textattack\\loggers\\csv_logger.py:41: FutureWarning: The frame.append method is deprecated and will be removed from pandas in a future version. Use pandas.concat instead.\n",
      "  self.df = self.df.append(row, ignore_index=True)\n",
      "[Succeeded / Failed / Skipped / Total] 218 / 108 / 11 / 337:  67%|████████████▊      | 337/500 [11:57<05:46,  2.13s/it]"
     ]
    },
    {
     "name": "stdout",
     "output_type": "stream",
     "text": [
      "--------------------------------------------- Result 336 ---------------------------------------------\n",
      "[[Num (99%)]] --> [[Loc (99%)]]\n",
      "\n",
      "[[When]] was Abraham Lincoln born ?\n",
      "\n",
      "[[Where]] was Abraham Lincoln born ?\n",
      "\n",
      "\n",
      "--------------------------------------------- Result 337 ---------------------------------------------\n",
      "[[Desc (60%)]] --> [[[SKIPPED]]]\n",
      "\n",
      "What are the twin cities ?\n",
      "\n",
      "\n"
     ]
    },
    {
     "name": "stderr",
     "output_type": "stream",
     "text": [
      "[Succeeded / Failed / Skipped / Total] 218 / 108 / 11 / 337:  68%|████████████▊      | 338/500 [11:58<05:44,  2.13s/it]C:\\Users\\DELL\\anaconda3\\envs\\ta\\lib\\site-packages\\textattack\\loggers\\csv_logger.py:41: FutureWarning: The frame.append method is deprecated and will be removed from pandas in a future version. Use pandas.concat instead.\n",
      "  self.df = self.df.append(row, ignore_index=True)\n",
      "[Succeeded / Failed / Skipped / Total] 218 / 109 / 11 / 338:  68%|████████████▊      | 338/500 [11:58<05:44,  2.13s/it]"
     ]
    },
    {
     "name": "stdout",
     "output_type": "stream",
     "text": [
      "--------------------------------------------- Result 338 ---------------------------------------------\n",
      "[[Desc (98%)]] --> [[[FAILED]]]\n",
      "\n",
      "What is a thyroid ?\n",
      "\n",
      "\n"
     ]
    },
    {
     "name": "stderr",
     "output_type": "stream",
     "text": [
      "C:\\Users\\DELL\\anaconda3\\envs\\ta\\lib\\site-packages\\textattack\\loggers\\csv_logger.py:41: FutureWarning: The frame.append method is deprecated and will be removed from pandas in a future version. Use pandas.concat instead.\n",
      "  self.df = self.df.append(row, ignore_index=True)\n",
      "\r",
      "[Succeeded / Failed / Skipped / Total] 218 / 110 / 11 / 339:  68%|████████████▉      | 339/500 [12:01<05:42,  2.13s/it]"
     ]
    },
    {
     "name": "stdout",
     "output_type": "stream",
     "text": [
      "--------------------------------------------- Result 339 ---------------------------------------------\n",
      "[[Desc (98%)]] --> [[[FAILED]]]\n",
      "\n",
      "What are invertebrates ?\n",
      "\n",
      "\n"
     ]
    },
    {
     "name": "stderr",
     "output_type": "stream",
     "text": [
      "[Succeeded / Failed / Skipped / Total] 218 / 110 / 11 / 339:  68%|████████████▉      | 340/500 [12:01<05:39,  2.12s/it]C:\\Users\\DELL\\anaconda3\\envs\\ta\\lib\\site-packages\\textattack\\loggers\\csv_logger.py:41: FutureWarning: The frame.append method is deprecated and will be removed from pandas in a future version. Use pandas.concat instead.\n",
      "  self.df = self.df.append(row, ignore_index=True)\n",
      "[Succeeded / Failed / Skipped / Total] 219 / 110 / 11 / 340:  68%|████████████▉      | 340/500 [12:01<05:39,  2.12s/it]"
     ]
    },
    {
     "name": "stdout",
     "output_type": "stream",
     "text": [
      "--------------------------------------------- Result 340 ---------------------------------------------\n",
      "[[Loc (99%)]] --> [[Enty (98%)]]\n",
      "\n",
      "What [[continent]] is Egypt on ?\n",
      "\n",
      "What [[chau]] is Egypt on ?\n",
      "\n",
      "\n"
     ]
    },
    {
     "name": "stderr",
     "output_type": "stream",
     "text": [
      "C:\\Users\\DELL\\anaconda3\\envs\\ta\\lib\\site-packages\\textattack\\loggers\\csv_logger.py:41: FutureWarning: The frame.append method is deprecated and will be removed from pandas in a future version. Use pandas.concat instead.\n",
      "  self.df = self.df.append(row, ignore_index=True)\n",
      "\r",
      "[Succeeded / Failed / Skipped / Total] 219 / 111 / 11 / 341:  68%|████████████▉      | 341/500 [12:02<05:36,  2.12s/it]"
     ]
    },
    {
     "name": "stdout",
     "output_type": "stream",
     "text": [
      "--------------------------------------------- Result 341 ---------------------------------------------\n",
      "[[Desc (97%)]] --> [[[FAILED]]]\n",
      "\n",
      "What is Wimbledon ?\n",
      "\n",
      "\n"
     ]
    },
    {
     "name": "stderr",
     "output_type": "stream",
     "text": [
      "[Succeeded / Failed / Skipped / Total] 219 / 111 / 11 / 341:  68%|████████████▉      | 342/500 [12:03<05:34,  2.11s/it]C:\\Users\\DELL\\anaconda3\\envs\\ta\\lib\\site-packages\\textattack\\loggers\\csv_logger.py:41: FutureWarning: The frame.append method is deprecated and will be removed from pandas in a future version. Use pandas.concat instead.\n",
      "  self.df = self.df.append(row, ignore_index=True)\n",
      "[Succeeded / Failed / Skipped / Total] 220 / 111 / 11 / 342:  68%|████████████▉      | 342/500 [12:03<05:34,  2.11s/it]"
     ]
    },
    {
     "name": "stdout",
     "output_type": "stream",
     "text": [
      "--------------------------------------------- Result 342 ---------------------------------------------\n",
      "[[Num (99%)]] --> [[Desc (97%)]]\n",
      "\n",
      "What is the [[diameter]] of a golf ball ?\n",
      "\n",
      "What is the [[boring]] of a golf ball ?\n",
      "\n",
      "\n"
     ]
    },
    {
     "name": "stderr",
     "output_type": "stream",
     "text": [
      "C:\\Users\\DELL\\anaconda3\\envs\\ta\\lib\\site-packages\\textattack\\loggers\\csv_logger.py:41: FutureWarning: The frame.append method is deprecated and will be removed from pandas in a future version. Use pandas.concat instead.\n",
      "  self.df = self.df.append(row, ignore_index=True)\n",
      "\r",
      "[Succeeded / Failed / Skipped / Total] 221 / 111 / 11 / 343:  69%|█████████████      | 343/500 [12:04<05:31,  2.11s/it]"
     ]
    },
    {
     "name": "stdout",
     "output_type": "stream",
     "text": [
      "--------------------------------------------- Result 343 ---------------------------------------------\n",
      "[[Desc (98%)]] --> [[Enty (97%)]]\n",
      "\n",
      "What does your spleen [[do]] ?\n",
      "\n",
      "What does your spleen [[get]] ?\n",
      "\n",
      "\n"
     ]
    },
    {
     "name": "stderr",
     "output_type": "stream",
     "text": [
      "[Succeeded / Failed / Skipped / Total] 221 / 111 / 11 / 343:  69%|█████████████      | 344/500 [12:05<05:28,  2.11s/it]C:\\Users\\DELL\\anaconda3\\envs\\ta\\lib\\site-packages\\textattack\\loggers\\csv_logger.py:41: FutureWarning: The frame.append method is deprecated and will be removed from pandas in a future version. Use pandas.concat instead.\n",
      "  self.df = self.df.append(row, ignore_index=True)\n",
      "[Succeeded / Failed / Skipped / Total] 222 / 111 / 11 / 344:  69%|█████████████      | 344/500 [12:05<05:28,  2.11s/it]"
     ]
    },
    {
     "name": "stdout",
     "output_type": "stream",
     "text": [
      "--------------------------------------------- Result 344 ---------------------------------------------\n",
      "[[Num (99%)]] --> [[Desc (98%)]]\n",
      "\n",
      "How [[far]] is a nautical mile ?\n",
      "\n",
      "How [[importantly]] is a nautical mile ?\n",
      "\n",
      "\n"
     ]
    },
    {
     "name": "stderr",
     "output_type": "stream",
     "text": [
      "C:\\Users\\DELL\\anaconda3\\envs\\ta\\lib\\site-packages\\textattack\\loggers\\csv_logger.py:41: FutureWarning: The frame.append method is deprecated and will be removed from pandas in a future version. Use pandas.concat instead.\n",
      "  self.df = self.df.append(row, ignore_index=True)\n",
      "\r",
      "[Succeeded / Failed / Skipped / Total] 223 / 111 / 11 / 345:  69%|█████████████      | 345/500 [12:05<05:26,  2.10s/it]"
     ]
    },
    {
     "name": "stdout",
     "output_type": "stream",
     "text": [
      "--------------------------------------------- Result 345 ---------------------------------------------\n",
      "[[Num (99%)]] --> [[Loc (99%)]]\n",
      "\n",
      "[[When]] was the first liver transplant ?\n",
      "\n",
      "[[Where]] was the first liver transplant ?\n",
      "\n",
      "\n"
     ]
    },
    {
     "name": "stderr",
     "output_type": "stream",
     "text": [
      "[Succeeded / Failed / Skipped / Total] 223 / 111 / 11 / 345:  69%|█████████████▏     | 346/500 [12:06<05:23,  2.10s/it]C:\\Users\\DELL\\anaconda3\\envs\\ta\\lib\\site-packages\\textattack\\loggers\\csv_logger.py:41: FutureWarning: The frame.append method is deprecated and will be removed from pandas in a future version. Use pandas.concat instead.\n",
      "  self.df = self.df.append(row, ignore_index=True)\n",
      "[Succeeded / Failed / Skipped / Total] 223 / 112 / 11 / 346:  69%|█████████████▏     | 346/500 [12:06<05:23,  2.10s/it]"
     ]
    },
    {
     "name": "stdout",
     "output_type": "stream",
     "text": [
      "--------------------------------------------- Result 346 ---------------------------------------------\n",
      "[[Hum (99%)]] --> [[[FAILED]]]\n",
      "\n",
      "Who is the governor of Alaska ?\n",
      "\n",
      "\n"
     ]
    },
    {
     "name": "stderr",
     "output_type": "stream",
     "text": [
      "C:\\Users\\DELL\\anaconda3\\envs\\ta\\lib\\site-packages\\textattack\\loggers\\csv_logger.py:41: FutureWarning: The frame.append method is deprecated and will be removed from pandas in a future version. Use pandas.concat instead.\n",
      "  self.df = self.df.append(row, ignore_index=True)\n",
      "\r",
      "[Succeeded / Failed / Skipped / Total] 224 / 112 / 11 / 347:  69%|█████████████▏     | 347/500 [12:08<05:21,  2.10s/it]"
     ]
    },
    {
     "name": "stdout",
     "output_type": "stream",
     "text": [
      "--------------------------------------------- Result 347 ---------------------------------------------\n",
      "[[Loc (99%)]] --> [[Num (99%)]]\n",
      "\n",
      "[[Where]] is the Eiffel Tower ?\n",
      "\n",
      "[[When]] is the Eiffel Tower ?\n",
      "\n",
      "\n"
     ]
    },
    {
     "name": "stderr",
     "output_type": "stream",
     "text": [
      "[Succeeded / Failed / Skipped / Total] 224 / 112 / 11 / 347:  70%|█████████████▏     | 348/500 [12:11<05:19,  2.10s/it]C:\\Users\\DELL\\anaconda3\\envs\\ta\\lib\\site-packages\\textattack\\loggers\\csv_logger.py:41: FutureWarning: The frame.append method is deprecated and will be removed from pandas in a future version. Use pandas.concat instead.\n",
      "  self.df = self.df.append(row, ignore_index=True)\n",
      "[Succeeded / Failed / Skipped / Total] 225 / 112 / 11 / 348:  70%|█████████████▏     | 348/500 [12:11<05:19,  2.10s/it]"
     ]
    },
    {
     "name": "stdout",
     "output_type": "stream",
     "text": [
      "--------------------------------------------- Result 348 ---------------------------------------------\n",
      "[[Hum (99%)]] --> [[Enty (89%)]]\n",
      "\n",
      "Which [[comedian]] 's signature line is `` Can we talk '' ?\n",
      "\n",
      "Which [[funniest]] 's signature line is `` Can we talk '' ?\n",
      "\n",
      "\n"
     ]
    },
    {
     "name": "stderr",
     "output_type": "stream",
     "text": [
      "C:\\Users\\DELL\\anaconda3\\envs\\ta\\lib\\site-packages\\textattack\\loggers\\csv_logger.py:41: FutureWarning: The frame.append method is deprecated and will be removed from pandas in a future version. Use pandas.concat instead.\n",
      "  self.df = self.df.append(row, ignore_index=True)\n",
      "\r",
      "[Succeeded / Failed / Skipped / Total] 225 / 113 / 11 / 349:  70%|█████████████▎     | 349/500 [12:14<05:17,  2.10s/it]"
     ]
    },
    {
     "name": "stdout",
     "output_type": "stream",
     "text": [
      "--------------------------------------------- Result 349 ---------------------------------------------\n",
      "[[Desc (98%)]] --> [[[FAILED]]]\n",
      "\n",
      "What is nuclear power ?\n",
      "\n",
      "\n"
     ]
    },
    {
     "name": "stderr",
     "output_type": "stream",
     "text": [
      "[Succeeded / Failed / Skipped / Total] 225 / 113 / 11 / 349:  70%|█████████████▎     | 350/500 [12:15<05:15,  2.10s/it]C:\\Users\\DELL\\anaconda3\\envs\\ta\\lib\\site-packages\\textattack\\loggers\\csv_logger.py:41: FutureWarning: The frame.append method is deprecated and will be removed from pandas in a future version. Use pandas.concat instead.\n",
      "  self.df = self.df.append(row, ignore_index=True)\n",
      "[Succeeded / Failed / Skipped / Total] 226 / 113 / 11 / 350:  70%|█████████████▎     | 350/500 [12:15<05:15,  2.10s/it]"
     ]
    },
    {
     "name": "stdout",
     "output_type": "stream",
     "text": [
      "--------------------------------------------- Result 350 ---------------------------------------------\n",
      "[[Num (99%)]] --> [[Desc (97%)]]\n",
      "\n",
      "What is the murder [[rate]] in Windsor , Ontario ?\n",
      "\n",
      "What is the murder [[spleen]] in Windsor , Ontario ?\n",
      "\n",
      "\n"
     ]
    },
    {
     "name": "stderr",
     "output_type": "stream",
     "text": [
      "C:\\Users\\DELL\\anaconda3\\envs\\ta\\lib\\site-packages\\textattack\\loggers\\csv_logger.py:41: FutureWarning: The frame.append method is deprecated and will be removed from pandas in a future version. Use pandas.concat instead.\n",
      "  self.df = self.df.append(row, ignore_index=True)\n",
      "\r",
      "[Succeeded / Failed / Skipped / Total] 227 / 113 / 11 / 351:  70%|█████████████▎     | 351/500 [12:17<05:13,  2.10s/it]"
     ]
    },
    {
     "name": "stdout",
     "output_type": "stream",
     "text": [
      "--------------------------------------------- Result 351 ---------------------------------------------\n",
      "[[Loc (99%)]] --> [[Num (99%)]]\n",
      "\n",
      "[[Where]] is John Wayne airport ?\n",
      "\n",
      "[[When]] is John Wayne airport ?\n",
      "\n",
      "\n"
     ]
    },
    {
     "name": "stderr",
     "output_type": "stream",
     "text": [
      "[Succeeded / Failed / Skipped / Total] 227 / 113 / 11 / 351:  70%|█████████████▍     | 352/500 [12:19<05:10,  2.10s/it]C:\\Users\\DELL\\anaconda3\\envs\\ta\\lib\\site-packages\\textattack\\loggers\\csv_logger.py:41: FutureWarning: The frame.append method is deprecated and will be removed from pandas in a future version. Use pandas.concat instead.\n",
      "  self.df = self.df.append(row, ignore_index=True)\n",
      "[Succeeded / Failed / Skipped / Total] 228 / 113 / 11 / 352:  70%|█████████████▍     | 352/500 [12:19<05:10,  2.10s/it]"
     ]
    },
    {
     "name": "stdout",
     "output_type": "stream",
     "text": [
      "--------------------------------------------- Result 352 ---------------------------------------------\n",
      "[[Enty (95%)]] --> [[Desc (84%)]]\n",
      "\n",
      "What [[gasses]] are in the troposphere ?\n",
      "\n",
      "What [[evaporation]] are in the troposphere ?\n",
      "\n",
      "\n"
     ]
    },
    {
     "name": "stderr",
     "output_type": "stream",
     "text": [
      "C:\\Users\\DELL\\anaconda3\\envs\\ta\\lib\\site-packages\\textattack\\loggers\\csv_logger.py:41: FutureWarning: The frame.append method is deprecated and will be removed from pandas in a future version. Use pandas.concat instead.\n",
      "  self.df = self.df.append(row, ignore_index=True)\n",
      "\r",
      "[Succeeded / Failed / Skipped / Total] 229 / 113 / 11 / 353:  71%|█████████████▍     | 353/500 [12:24<05:09,  2.11s/it]"
     ]
    },
    {
     "name": "stdout",
     "output_type": "stream",
     "text": [
      "--------------------------------------------- Result 353 ---------------------------------------------\n",
      "[[Desc (98%)]] --> [[Num (99%)]]\n",
      "\n",
      "What is the [[effect]] of [[acid]] [[rain]] ?\n",
      "\n",
      "What is the [[upshot]] of [[amino]] [[rainy]] ?\n",
      "\n",
      "\n"
     ]
    },
    {
     "name": "stderr",
     "output_type": "stream",
     "text": [
      "[Succeeded / Failed / Skipped / Total] 229 / 113 / 11 / 353:  71%|█████████████▍     | 354/500 [12:25<05:07,  2.11s/it]C:\\Users\\DELL\\anaconda3\\envs\\ta\\lib\\site-packages\\textattack\\loggers\\csv_logger.py:41: FutureWarning: The frame.append method is deprecated and will be removed from pandas in a future version. Use pandas.concat instead.\n",
      "  self.df = self.df.append(row, ignore_index=True)\n",
      "[Succeeded / Failed / Skipped / Total] 230 / 113 / 11 / 354:  71%|█████████████▍     | 354/500 [12:25<05:07,  2.11s/it]"
     ]
    },
    {
     "name": "stdout",
     "output_type": "stream",
     "text": [
      "--------------------------------------------- Result 354 ---------------------------------------------\n",
      "[[Num (99%)]] --> [[Desc (98%)]]\n",
      "\n",
      "The sun 's core , what is the [[temperature]] ?\n",
      "\n",
      "The sun 's core , what is the [[weatherman]] ?\n",
      "\n",
      "\n"
     ]
    },
    {
     "name": "stderr",
     "output_type": "stream",
     "text": [
      "C:\\Users\\DELL\\anaconda3\\envs\\ta\\lib\\site-packages\\textattack\\loggers\\csv_logger.py:41: FutureWarning: The frame.append method is deprecated and will be removed from pandas in a future version. Use pandas.concat instead.\n",
      "  self.df = self.df.append(row, ignore_index=True)\n",
      "\r",
      "[Succeeded / Failed / Skipped / Total] 230 / 114 / 11 / 355:  71%|█████████████▍     | 355/500 [12:26<05:05,  2.10s/it]"
     ]
    },
    {
     "name": "stdout",
     "output_type": "stream",
     "text": [
      "--------------------------------------------- Result 355 ---------------------------------------------\n",
      "[[Desc (98%)]] --> [[[FAILED]]]\n",
      "\n",
      "What is an earthquake ?\n",
      "\n",
      "\n"
     ]
    },
    {
     "name": "stderr",
     "output_type": "stream",
     "text": [
      "[Succeeded / Failed / Skipped / Total] 230 / 114 / 11 / 355:  71%|█████████████▌     | 356/500 [12:30<05:03,  2.11s/it]C:\\Users\\DELL\\anaconda3\\envs\\ta\\lib\\site-packages\\textattack\\loggers\\csv_logger.py:41: FutureWarning: The frame.append method is deprecated and will be removed from pandas in a future version. Use pandas.concat instead.\n",
      "  self.df = self.df.append(row, ignore_index=True)\n",
      "[Succeeded / Failed / Skipped / Total] 231 / 114 / 11 / 356:  71%|█████████████▌     | 356/500 [12:30<05:03,  2.11s/it]"
     ]
    },
    {
     "name": "stdout",
     "output_type": "stream",
     "text": [
      "--------------------------------------------- Result 356 ---------------------------------------------\n",
      "[[Enty (99%)]] --> [[Loc (60%)]]\n",
      "\n",
      "What 's the [[easiest]] way to [[remove]] wallpaper ?\n",
      "\n",
      "What 's the [[shortest]] way to [[dismount]] wallpaper ?\n",
      "\n",
      "\n"
     ]
    },
    {
     "name": "stderr",
     "output_type": "stream",
     "text": [
      "C:\\Users\\DELL\\anaconda3\\envs\\ta\\lib\\site-packages\\textattack\\loggers\\csv_logger.py:41: FutureWarning: The frame.append method is deprecated and will be removed from pandas in a future version. Use pandas.concat instead.\n",
      "  self.df = self.df.append(row, ignore_index=True)\n",
      "\r",
      "[Succeeded / Failed / Skipped / Total] 231 / 115 / 11 / 357:  71%|█████████████▌     | 357/500 [12:31<05:01,  2.11s/it]"
     ]
    },
    {
     "name": "stdout",
     "output_type": "stream",
     "text": [
      "--------------------------------------------- Result 357 ---------------------------------------------\n",
      "[[Desc (98%)]] --> [[[FAILED]]]\n",
      "\n",
      "What is a biosphere ?\n",
      "\n",
      "\n"
     ]
    },
    {
     "name": "stderr",
     "output_type": "stream",
     "text": [
      "[Succeeded / Failed / Skipped / Total] 231 / 115 / 11 / 357:  72%|█████████████▌     | 358/500 [12:34<04:59,  2.11s/it]C:\\Users\\DELL\\anaconda3\\envs\\ta\\lib\\site-packages\\textattack\\loggers\\csv_logger.py:41: FutureWarning: The frame.append method is deprecated and will be removed from pandas in a future version. Use pandas.concat instead.\n",
      "  self.df = self.df.append(row, ignore_index=True)\n",
      "[Succeeded / Failed / Skipped / Total] 232 / 115 / 11 / 358:  72%|█████████████▌     | 358/500 [12:34<04:59,  2.11s/it]"
     ]
    },
    {
     "name": "stdout",
     "output_type": "stream",
     "text": [
      "--------------------------------------------- Result 358 ---------------------------------------------\n",
      "[[Num (99%)]] --> [[Desc (96%)]]\n",
      "\n",
      "How [[many]] pounds in a ton ?\n",
      "\n",
      "How [[miscellaneous]] pounds in a ton ?\n",
      "\n",
      "\n"
     ]
    },
    {
     "name": "stderr",
     "output_type": "stream",
     "text": [
      "C:\\Users\\DELL\\anaconda3\\envs\\ta\\lib\\site-packages\\textattack\\loggers\\csv_logger.py:41: FutureWarning: The frame.append method is deprecated and will be removed from pandas in a future version. Use pandas.concat instead.\n",
      "  self.df = self.df.append(row, ignore_index=True)\n",
      "\r",
      "[Succeeded / Failed / Skipped / Total] 233 / 115 / 11 / 359:  72%|█████████████▋     | 359/500 [12:38<04:57,  2.11s/it]"
     ]
    },
    {
     "name": "stdout",
     "output_type": "stream",
     "text": [
      "--------------------------------------------- Result 359 ---------------------------------------------\n",
      "[[Enty (99%)]] --> [[Num (97%)]]\n",
      "\n",
      "What is the [[smallest]] [[bird]] in Britain ?\n",
      "\n",
      "What is the [[minimum]] [[plumes]] in Britain ?\n",
      "\n",
      "\n"
     ]
    },
    {
     "name": "stderr",
     "output_type": "stream",
     "text": [
      "[Succeeded / Failed / Skipped / Total] 233 / 115 / 11 / 359:  72%|█████████████▋     | 360/500 [12:38<04:55,  2.11s/it]C:\\Users\\DELL\\anaconda3\\envs\\ta\\lib\\site-packages\\textattack\\loggers\\csv_logger.py:41: FutureWarning: The frame.append method is deprecated and will be removed from pandas in a future version. Use pandas.concat instead.\n",
      "  self.df = self.df.append(row, ignore_index=True)\n",
      "[Succeeded / Failed / Skipped / Total] 233 / 116 / 11 / 360:  72%|█████████████▋     | 360/500 [12:38<04:55,  2.11s/it]"
     ]
    },
    {
     "name": "stdout",
     "output_type": "stream",
     "text": [
      "--------------------------------------------- Result 360 ---------------------------------------------\n",
      "[[Desc (98%)]] --> [[[FAILED]]]\n",
      "\n",
      "What is dianetics ?\n",
      "\n",
      "\n"
     ]
    },
    {
     "name": "stderr",
     "output_type": "stream",
     "text": [
      "C:\\Users\\DELL\\anaconda3\\envs\\ta\\lib\\site-packages\\textattack\\loggers\\csv_logger.py:41: FutureWarning: The frame.append method is deprecated and will be removed from pandas in a future version. Use pandas.concat instead.\n",
      "  self.df = self.df.append(row, ignore_index=True)\n",
      "\r",
      "[Succeeded / Failed / Skipped / Total] 234 / 116 / 11 / 361:  72%|█████████████▋     | 361/500 [12:40<04:52,  2.11s/it]"
     ]
    },
    {
     "name": "stdout",
     "output_type": "stream",
     "text": [
      "--------------------------------------------- Result 361 ---------------------------------------------\n",
      "[[Desc (98%)]] --> [[Num (99%)]]\n",
      "\n",
      "What is the [[effect]] of volcanoes on the climate ?\n",
      "\n",
      "What is the [[incidence]] of volcanoes on the climate ?\n",
      "\n",
      "\n"
     ]
    },
    {
     "name": "stderr",
     "output_type": "stream",
     "text": [
      "[Succeeded / Failed / Skipped / Total] 234 / 116 / 11 / 361:  72%|█████████████▊     | 362/500 [12:43<04:51,  2.11s/it]C:\\Users\\DELL\\anaconda3\\envs\\ta\\lib\\site-packages\\textattack\\loggers\\csv_logger.py:41: FutureWarning: The frame.append method is deprecated and will be removed from pandas in a future version. Use pandas.concat instead.\n",
      "  self.df = self.df.append(row, ignore_index=True)\n",
      "[Succeeded / Failed / Skipped / Total] 234 / 117 / 11 / 362:  72%|█████████████▊     | 362/500 [12:43<04:51,  2.11s/it]"
     ]
    },
    {
     "name": "stdout",
     "output_type": "stream",
     "text": [
      "--------------------------------------------- Result 362 ---------------------------------------------\n",
      "[[Desc (98%)]] --> [[[FAILED]]]\n",
      "\n",
      "What are capers ?\n",
      "\n",
      "\n"
     ]
    },
    {
     "name": "stderr",
     "output_type": "stream",
     "text": [
      "C:\\Users\\DELL\\anaconda3\\envs\\ta\\lib\\site-packages\\textattack\\loggers\\csv_logger.py:41: FutureWarning: The frame.append method is deprecated and will be removed from pandas in a future version. Use pandas.concat instead.\n",
      "  self.df = self.df.append(row, ignore_index=True)\n",
      "\r",
      "[Succeeded / Failed / Skipped / Total] 235 / 117 / 11 / 363:  73%|█████████████▊     | 363/500 [12:46<04:49,  2.11s/it]"
     ]
    },
    {
     "name": "stdout",
     "output_type": "stream",
     "text": [
      "--------------------------------------------- Result 363 ---------------------------------------------\n",
      "[[Num (99%)]] --> [[Desc (98%)]]\n",
      "\n",
      "How [[often]] does Old Faithful erupt at Yellowstone National Park ?\n",
      "\n",
      "How [[methodically]] does Old Faithful erupt at Yellowstone National Park ?\n",
      "\n",
      "\n"
     ]
    },
    {
     "name": "stderr",
     "output_type": "stream",
     "text": [
      "[Succeeded / Failed / Skipped / Total] 235 / 117 / 11 / 363:  73%|█████████████▊     | 364/500 [12:48<04:46,  2.11s/it]C:\\Users\\DELL\\anaconda3\\envs\\ta\\lib\\site-packages\\textattack\\loggers\\csv_logger.py:41: FutureWarning: The frame.append method is deprecated and will be removed from pandas in a future version. Use pandas.concat instead.\n",
      "  self.df = self.df.append(row, ignore_index=True)\n",
      "[Succeeded / Failed / Skipped / Total] 236 / 117 / 11 / 364:  73%|█████████████▊     | 364/500 [12:48<04:46,  2.11s/it]"
     ]
    },
    {
     "name": "stdout",
     "output_type": "stream",
     "text": [
      "--------------------------------------------- Result 364 ---------------------------------------------\n",
      "[[Num (99%)]] --> [[Loc (97%)]]\n",
      "\n",
      "[[How]] many Great Lakes are there ?\n",
      "\n",
      "[[Hence]] many Great Lakes are there ?\n",
      "\n",
      "\n"
     ]
    },
    {
     "name": "stderr",
     "output_type": "stream",
     "text": [
      "C:\\Users\\DELL\\anaconda3\\envs\\ta\\lib\\site-packages\\textattack\\loggers\\csv_logger.py:41: FutureWarning: The frame.append method is deprecated and will be removed from pandas in a future version. Use pandas.concat instead.\n",
      "  self.df = self.df.append(row, ignore_index=True)\n",
      "\r",
      "[Succeeded / Failed / Skipped / Total] 237 / 117 / 11 / 365:  73%|█████████████▊     | 365/500 [12:48<04:44,  2.11s/it]"
     ]
    },
    {
     "name": "stdout",
     "output_type": "stream",
     "text": [
      "--------------------------------------------- Result 365 ---------------------------------------------\n",
      "[[Num (99%)]] --> [[Loc (99%)]]\n",
      "\n",
      "[[When]] was Ulysses S. Grant born ?\n",
      "\n",
      "[[Where]] was Ulysses S. Grant born ?\n",
      "\n",
      "\n"
     ]
    },
    {
     "name": "stderr",
     "output_type": "stream",
     "text": [
      "[Succeeded / Failed / Skipped / Total] 237 / 117 / 11 / 365:  73%|█████████████▉     | 366/500 [12:51<04:42,  2.11s/it]C:\\Users\\DELL\\anaconda3\\envs\\ta\\lib\\site-packages\\textattack\\loggers\\csv_logger.py:41: FutureWarning: The frame.append method is deprecated and will be removed from pandas in a future version. Use pandas.concat instead.\n",
      "  self.df = self.df.append(row, ignore_index=True)\n",
      "[Succeeded / Failed / Skipped / Total] 238 / 117 / 11 / 366:  73%|█████████████▉     | 366/500 [12:51<04:42,  2.11s/it]"
     ]
    },
    {
     "name": "stdout",
     "output_type": "stream",
     "text": [
      "--------------------------------------------- Result 366 ---------------------------------------------\n",
      "[[Loc (99%)]] --> [[Num (99%)]]\n",
      "\n",
      "[[Where]] did Howard Hughes die ?\n",
      "\n",
      "[[When]] did Howard Hughes die ?\n",
      "\n",
      "\n"
     ]
    },
    {
     "name": "stderr",
     "output_type": "stream",
     "text": [
      "C:\\Users\\DELL\\anaconda3\\envs\\ta\\lib\\site-packages\\textattack\\loggers\\csv_logger.py:41: FutureWarning: The frame.append method is deprecated and will be removed from pandas in a future version. Use pandas.concat instead.\n",
      "  self.df = self.df.append(row, ignore_index=True)\n",
      "[Succeeded / Failed / Skipped / Total] 238 / 118 / 11 / 367:  74%|█████████████▉     | 368/500 [13:00<04:40,  2.12s/it]C:\\Users\\DELL\\anaconda3\\envs\\ta\\lib\\site-packages\\textattack\\loggers\\csv_logger.py:41: FutureWarning: The frame.append method is deprecated and will be removed from pandas in a future version. Use pandas.concat instead.\n",
      "  self.df = self.df.append(row, ignore_index=True)\n",
      "[Succeeded / Failed / Skipped / Total] 238 / 118 / 12 / 368:  74%|█████████████▉     | 368/500 [13:00<04:40,  2.12s/it]"
     ]
    },
    {
     "name": "stdout",
     "output_type": "stream",
     "text": [
      "--------------------------------------------- Result 367 ---------------------------------------------\n",
      "[[Hum (99%)]] --> [[[FAILED]]]\n",
      "\n",
      "Who was the first man to fly across the Pacific Ocean ?\n",
      "\n",
      "\n",
      "--------------------------------------------- Result 368 ---------------------------------------------\n",
      "[[Desc (84%)]] --> [[[SKIPPED]]]\n",
      "\n",
      "What is the birthstone for June ?\n",
      "\n",
      "\n"
     ]
    },
    {
     "name": "stderr",
     "output_type": "stream",
     "text": [
      "C:\\Users\\DELL\\anaconda3\\envs\\ta\\lib\\site-packages\\textattack\\loggers\\csv_logger.py:41: FutureWarning: The frame.append method is deprecated and will be removed from pandas in a future version. Use pandas.concat instead.\n",
      "  self.df = self.df.append(row, ignore_index=True)\n",
      "\r",
      "[Succeeded / Failed / Skipped / Total] 238 / 119 / 12 / 369:  74%|██████████████     | 369/500 [13:05<04:38,  2.13s/it]"
     ]
    },
    {
     "name": "stdout",
     "output_type": "stream",
     "text": [
      "--------------------------------------------- Result 369 ---------------------------------------------\n",
      "[[Hum (99%)]] --> [[[FAILED]]]\n",
      "\n",
      "Who killed John F. Kennedy ?\n",
      "\n",
      "\n"
     ]
    },
    {
     "name": "stderr",
     "output_type": "stream",
     "text": [
      "[Succeeded / Failed / Skipped / Total] 238 / 119 / 12 / 369:  74%|██████████████     | 370/500 [13:06<04:36,  2.13s/it]C:\\Users\\DELL\\anaconda3\\envs\\ta\\lib\\site-packages\\textattack\\loggers\\csv_logger.py:41: FutureWarning: The frame.append method is deprecated and will be removed from pandas in a future version. Use pandas.concat instead.\n",
      "  self.df = self.df.append(row, ignore_index=True)\n",
      "[Succeeded / Failed / Skipped / Total] 238 / 120 / 12 / 370:  74%|██████████████     | 370/500 [13:06<04:36,  2.13s/it]"
     ]
    },
    {
     "name": "stdout",
     "output_type": "stream",
     "text": [
      "--------------------------------------------- Result 370 ---------------------------------------------\n",
      "[[Desc (98%)]] --> [[[FAILED]]]\n",
      "\n",
      "What is nepotism ?\n",
      "\n",
      "\n"
     ]
    },
    {
     "name": "stderr",
     "output_type": "stream",
     "text": [
      "C:\\Users\\DELL\\anaconda3\\envs\\ta\\lib\\site-packages\\textattack\\loggers\\csv_logger.py:41: FutureWarning: The frame.append method is deprecated and will be removed from pandas in a future version. Use pandas.concat instead.\n",
      "  self.df = self.df.append(row, ignore_index=True)\n",
      "\r",
      "[Succeeded / Failed / Skipped / Total] 238 / 121 / 12 / 371:  74%|██████████████     | 371/500 [13:09<04:34,  2.13s/it]"
     ]
    },
    {
     "name": "stdout",
     "output_type": "stream",
     "text": [
      "--------------------------------------------- Result 371 ---------------------------------------------\n",
      "[[Desc (98%)]] --> [[[FAILED]]]\n",
      "\n",
      "What is ozone depletion ?\n",
      "\n",
      "\n"
     ]
    },
    {
     "name": "stderr",
     "output_type": "stream",
     "text": [
      "[Succeeded / Failed / Skipped / Total] 238 / 121 / 12 / 371:  74%|██████████████▏    | 372/500 [13:11<04:32,  2.13s/it]C:\\Users\\DELL\\anaconda3\\envs\\ta\\lib\\site-packages\\textattack\\loggers\\csv_logger.py:41: FutureWarning: The frame.append method is deprecated and will be removed from pandas in a future version. Use pandas.concat instead.\n",
      "  self.df = self.df.append(row, ignore_index=True)\n",
      "[Succeeded / Failed / Skipped / Total] 239 / 121 / 12 / 372:  74%|██████████████▏    | 372/500 [13:11<04:32,  2.13s/it]"
     ]
    },
    {
     "name": "stdout",
     "output_type": "stream",
     "text": [
      "--------------------------------------------- Result 372 ---------------------------------------------\n",
      "[[Num (99%)]] --> [[Desc (98%)]]\n",
      "\n",
      "How [[tall]] is the Sears Building ?\n",
      "\n",
      "How [[whopping]] is the Sears Building ?\n",
      "\n",
      "\n"
     ]
    },
    {
     "name": "stderr",
     "output_type": "stream",
     "text": [
      "C:\\Users\\DELL\\anaconda3\\envs\\ta\\lib\\site-packages\\textattack\\loggers\\csv_logger.py:41: FutureWarning: The frame.append method is deprecated and will be removed from pandas in a future version. Use pandas.concat instead.\n",
      "  self.df = self.df.append(row, ignore_index=True)\n",
      "\r",
      "[Succeeded / Failed / Skipped / Total] 240 / 121 / 12 / 373:  75%|██████████████▏    | 373/500 [13:13<04:30,  2.13s/it]"
     ]
    },
    {
     "name": "stdout",
     "output_type": "stream",
     "text": [
      "--------------------------------------------- Result 373 ---------------------------------------------\n",
      "[[Desc (98%)]] --> [[Loc (99%)]]\n",
      "\n",
      "[[Why]] is a ladybug helpful ?\n",
      "\n",
      "[[Where]] is a ladybug helpful ?\n",
      "\n",
      "\n"
     ]
    },
    {
     "name": "stderr",
     "output_type": "stream",
     "text": [
      "[Succeeded / Failed / Skipped / Total] 240 / 121 / 12 / 373:  75%|██████████████▏    | 374/500 [13:14<04:27,  2.12s/it]C:\\Users\\DELL\\anaconda3\\envs\\ta\\lib\\site-packages\\textattack\\loggers\\csv_logger.py:41: FutureWarning: The frame.append method is deprecated and will be removed from pandas in a future version. Use pandas.concat instead.\n",
      "  self.df = self.df.append(row, ignore_index=True)\n",
      "[Succeeded / Failed / Skipped / Total] 241 / 121 / 12 / 374:  75%|██████████████▏    | 374/500 [13:14<04:27,  2.12s/it]"
     ]
    },
    {
     "name": "stdout",
     "output_type": "stream",
     "text": [
      "--------------------------------------------- Result 374 ---------------------------------------------\n",
      "[[Abbr (81%)]] --> [[Desc (66%)]]\n",
      "\n",
      "What does the acronym NASA [[stand]] for ?\n",
      "\n",
      "What does the acronym NASA [[stance]] for ?\n",
      "\n",
      "\n"
     ]
    },
    {
     "name": "stderr",
     "output_type": "stream",
     "text": [
      "C:\\Users\\DELL\\anaconda3\\envs\\ta\\lib\\site-packages\\textattack\\loggers\\csv_logger.py:41: FutureWarning: The frame.append method is deprecated and will be removed from pandas in a future version. Use pandas.concat instead.\n",
      "  self.df = self.df.append(row, ignore_index=True)\n",
      "\r",
      "[Succeeded / Failed / Skipped / Total] 242 / 121 / 12 / 375:  75%|██████████████▎    | 375/500 [13:16<04:25,  2.12s/it]"
     ]
    },
    {
     "name": "stdout",
     "output_type": "stream",
     "text": [
      "--------------------------------------------- Result 375 ---------------------------------------------\n",
      "[[Loc (99%)]] --> [[Enty (99%)]]\n",
      "\n",
      "Which [[country]] has the most water pollution ?\n",
      "\n",
      "Which [[sate]] has the most water pollution ?\n",
      "\n",
      "\n"
     ]
    },
    {
     "name": "stderr",
     "output_type": "stream",
     "text": [
      "[Succeeded / Failed / Skipped / Total] 242 / 121 / 12 / 375:  75%|██████████████▎    | 376/500 [13:18<04:23,  2.12s/it]C:\\Users\\DELL\\anaconda3\\envs\\ta\\lib\\site-packages\\textattack\\loggers\\csv_logger.py:41: FutureWarning: The frame.append method is deprecated and will be removed from pandas in a future version. Use pandas.concat instead.\n",
      "  self.df = self.df.append(row, ignore_index=True)\n",
      "[Succeeded / Failed / Skipped / Total] 243 / 121 / 12 / 376:  75%|██████████████▎    | 376/500 [13:18<04:23,  2.12s/it]"
     ]
    },
    {
     "name": "stdout",
     "output_type": "stream",
     "text": [
      "--------------------------------------------- Result 376 ---------------------------------------------\n",
      "[[Enty (99%)]] --> [[Desc (98%)]]\n",
      "\n",
      "What is the [[heaviest]] naturally occurring [[element]] ?\n",
      "\n",
      "What is the [[gravest]] naturally occurring [[aspect]] ?\n",
      "\n",
      "\n"
     ]
    },
    {
     "name": "stderr",
     "output_type": "stream",
     "text": [
      "C:\\Users\\DELL\\anaconda3\\envs\\ta\\lib\\site-packages\\textattack\\loggers\\csv_logger.py:41: FutureWarning: The frame.append method is deprecated and will be removed from pandas in a future version. Use pandas.concat instead.\n",
      "  self.df = self.df.append(row, ignore_index=True)\n",
      "\r",
      "[Succeeded / Failed / Skipped / Total] 244 / 121 / 12 / 377:  75%|██████████████▎    | 377/500 [13:21<04:21,  2.13s/it]"
     ]
    },
    {
     "name": "stdout",
     "output_type": "stream",
     "text": [
      "--------------------------------------------- Result 377 ---------------------------------------------\n",
      "[[Enty (99%)]] --> [[Desc (97%)]]\n",
      "\n",
      "What is a group of frogs [[called]] ?\n",
      "\n",
      "What is a group of frogs [[asks]] ?\n",
      "\n",
      "\n"
     ]
    },
    {
     "name": "stderr",
     "output_type": "stream",
     "text": [
      "[Succeeded / Failed / Skipped / Total] 244 / 121 / 12 / 377:  76%|██████████████▎    | 378/500 [13:22<04:18,  2.12s/it]C:\\Users\\DELL\\anaconda3\\envs\\ta\\lib\\site-packages\\textattack\\loggers\\csv_logger.py:41: FutureWarning: The frame.append method is deprecated and will be removed from pandas in a future version. Use pandas.concat instead.\n",
      "  self.df = self.df.append(row, ignore_index=True)\n",
      "[Succeeded / Failed / Skipped / Total] 245 / 121 / 12 / 378:  76%|██████████████▎    | 378/500 [13:22<04:18,  2.12s/it]"
     ]
    },
    {
     "name": "stdout",
     "output_type": "stream",
     "text": [
      "--------------------------------------------- Result 378 ---------------------------------------------\n",
      "[[Abbr (78%)]] --> [[Desc (98%)]]\n",
      "\n",
      "What is the [[abbreviation]] for Texas ?\n",
      "\n",
      "What is the [[jargon]] for Texas ?\n",
      "\n",
      "\n"
     ]
    },
    {
     "name": "stderr",
     "output_type": "stream",
     "text": [
      "C:\\Users\\DELL\\anaconda3\\envs\\ta\\lib\\site-packages\\textattack\\loggers\\csv_logger.py:41: FutureWarning: The frame.append method is deprecated and will be removed from pandas in a future version. Use pandas.concat instead.\n",
      "  self.df = self.df.append(row, ignore_index=True)\n",
      "\r",
      "[Succeeded / Failed / Skipped / Total] 246 / 121 / 12 / 379:  76%|██████████████▍    | 379/500 [13:24<04:16,  2.12s/it]"
     ]
    },
    {
     "name": "stdout",
     "output_type": "stream",
     "text": [
      "--------------------------------------------- Result 379 ---------------------------------------------\n",
      "[[Enty (99%)]] --> [[Desc (75%)]]\n",
      "\n",
      "What kind of [[dog]] was Toto in the Wizard of Oz ?\n",
      "\n",
      "What kind of [[schnauzer]] was Toto in the Wizard of Oz ?\n",
      "\n",
      "\n"
     ]
    },
    {
     "name": "stderr",
     "output_type": "stream",
     "text": [
      "[Succeeded / Failed / Skipped / Total] 246 / 121 / 12 / 379:  76%|██████████████▍    | 380/500 [13:29<04:15,  2.13s/it]C:\\Users\\DELL\\anaconda3\\envs\\ta\\lib\\site-packages\\textattack\\loggers\\csv_logger.py:41: FutureWarning: The frame.append method is deprecated and will be removed from pandas in a future version. Use pandas.concat instead.\n",
      "  self.df = self.df.append(row, ignore_index=True)\n",
      "[Succeeded / Failed / Skipped / Total] 247 / 121 / 12 / 380:  76%|██████████████▍    | 380/500 [13:29<04:15,  2.13s/it]"
     ]
    },
    {
     "name": "stdout",
     "output_type": "stream",
     "text": [
      "--------------------------------------------- Result 380 ---------------------------------------------\n",
      "[[Num (99%)]] --> [[Desc (98%)]]\n",
      "\n",
      "[[How]] [[much]] does the human adult female brain weigh ?\n",
      "\n",
      "[[Why]] [[sizeable]] does the human adult female brain weigh ?\n",
      "\n",
      "\n"
     ]
    },
    {
     "name": "stderr",
     "output_type": "stream",
     "text": [
      "C:\\Users\\DELL\\anaconda3\\envs\\ta\\lib\\site-packages\\textattack\\loggers\\csv_logger.py:41: FutureWarning: The frame.append method is deprecated and will be removed from pandas in a future version. Use pandas.concat instead.\n",
      "  self.df = self.df.append(row, ignore_index=True)\n",
      "\r",
      "[Succeeded / Failed / Skipped / Total] 248 / 121 / 12 / 381:  76%|██████████████▍    | 381/500 [13:30<04:13,  2.13s/it]"
     ]
    },
    {
     "name": "stdout",
     "output_type": "stream",
     "text": [
      "--------------------------------------------- Result 381 ---------------------------------------------\n",
      "[[Loc (98%)]] --> [[Desc (98%)]]\n",
      "\n",
      "What is the National [[Park]] in Utah ?\n",
      "\n",
      "What is the National [[Pak]] in Utah ?\n",
      "\n",
      "\n"
     ]
    },
    {
     "name": "stderr",
     "output_type": "stream",
     "text": [
      "[Succeeded / Failed / Skipped / Total] 248 / 121 / 12 / 381:  76%|██████████████▌    | 382/500 [13:30<04:10,  2.12s/it]C:\\Users\\DELL\\anaconda3\\envs\\ta\\lib\\site-packages\\textattack\\loggers\\csv_logger.py:41: FutureWarning: The frame.append method is deprecated and will be removed from pandas in a future version. Use pandas.concat instead.\n",
      "  self.df = self.df.append(row, ignore_index=True)\n",
      "[Succeeded / Failed / Skipped / Total] 249 / 121 / 12 / 382:  76%|██████████████▌    | 382/500 [13:30<04:10,  2.12s/it]"
     ]
    },
    {
     "name": "stdout",
     "output_type": "stream",
     "text": [
      "--------------------------------------------- Result 382 ---------------------------------------------\n",
      "[[Num (99%)]] --> [[Loc (99%)]]\n",
      "\n",
      "[[When]] did North Carolina enter the union ?\n",
      "\n",
      "[[Where]] did North Carolina enter the union ?\n",
      "\n",
      "\n"
     ]
    },
    {
     "name": "stderr",
     "output_type": "stream",
     "text": [
      "C:\\Users\\DELL\\anaconda3\\envs\\ta\\lib\\site-packages\\textattack\\loggers\\csv_logger.py:41: FutureWarning: The frame.append method is deprecated and will be removed from pandas in a future version. Use pandas.concat instead.\n",
      "  self.df = self.df.append(row, ignore_index=True)\n",
      "\r",
      "[Succeeded / Failed / Skipped / Total] 250 / 121 / 12 / 383:  77%|██████████████▌    | 383/500 [13:35<04:09,  2.13s/it]"
     ]
    },
    {
     "name": "stdout",
     "output_type": "stream",
     "text": [
      "--------------------------------------------- Result 383 ---------------------------------------------\n",
      "[[Enty (99%)]] --> [[Hum (99%)]]\n",
      "\n",
      "What precious [[stone]] is a [[form]] of pure carbon ?\n",
      "\n",
      "What precious [[pierre]] is a [[foreman]] of pure carbon ?\n",
      "\n",
      "\n"
     ]
    },
    {
     "name": "stderr",
     "output_type": "stream",
     "text": [
      "[Succeeded / Failed / Skipped / Total] 250 / 121 / 12 / 383:  77%|██████████████▌    | 384/500 [13:38<04:07,  2.13s/it]C:\\Users\\DELL\\anaconda3\\envs\\ta\\lib\\site-packages\\textattack\\loggers\\csv_logger.py:41: FutureWarning: The frame.append method is deprecated and will be removed from pandas in a future version. Use pandas.concat instead.\n",
      "  self.df = self.df.append(row, ignore_index=True)\n",
      "[Succeeded / Failed / Skipped / Total] 251 / 121 / 12 / 384:  77%|██████████████▌    | 384/500 [13:38<04:07,  2.13s/it]"
     ]
    },
    {
     "name": "stdout",
     "output_type": "stream",
     "text": [
      "--------------------------------------------- Result 384 ---------------------------------------------\n",
      "[[Enty (98%)]] --> [[Loc (99%)]]\n",
      "\n",
      "What is Hawaii 's state [[flower]] ?\n",
      "\n",
      "What is Hawaii 's state [[bloomed]] ?\n",
      "\n",
      "\n"
     ]
    },
    {
     "name": "stderr",
     "output_type": "stream",
     "text": [
      "C:\\Users\\DELL\\anaconda3\\envs\\ta\\lib\\site-packages\\textattack\\loggers\\csv_logger.py:41: FutureWarning: The frame.append method is deprecated and will be removed from pandas in a future version. Use pandas.concat instead.\n",
      "  self.df = self.df.append(row, ignore_index=True)\n",
      "\r",
      "[Succeeded / Failed / Skipped / Total] 252 / 121 / 12 / 385:  77%|██████████████▋    | 385/500 [13:39<04:04,  2.13s/it]"
     ]
    },
    {
     "name": "stdout",
     "output_type": "stream",
     "text": [
      "--------------------------------------------- Result 385 ---------------------------------------------\n",
      "[[Num (99%)]] --> [[Enty (98%)]]\n",
      "\n",
      "What [[year]] did the Milwaukee Braves become the Atlanta Braves ?\n",
      "\n",
      "What [[ano]] did the Milwaukee Braves become the Atlanta Braves ?\n",
      "\n",
      "\n"
     ]
    },
    {
     "name": "stderr",
     "output_type": "stream",
     "text": [
      "[Succeeded / Failed / Skipped / Total] 252 / 121 / 12 / 385:  77%|██████████████▋    | 386/500 [13:40<04:02,  2.13s/it]C:\\Users\\DELL\\anaconda3\\envs\\ta\\lib\\site-packages\\textattack\\loggers\\csv_logger.py:41: FutureWarning: The frame.append method is deprecated and will be removed from pandas in a future version. Use pandas.concat instead.\n",
      "  self.df = self.df.append(row, ignore_index=True)\n",
      "[Succeeded / Failed / Skipped / Total] 253 / 121 / 12 / 386:  77%|██████████████▋    | 386/500 [13:40<04:02,  2.13s/it]"
     ]
    },
    {
     "name": "stdout",
     "output_type": "stream",
     "text": [
      "--------------------------------------------- Result 386 ---------------------------------------------\n",
      "[[Num (99%)]] --> [[Desc (97%)]]\n",
      "\n",
      "What is the [[percentage]] of water content in the human body ?\n",
      "\n",
      "What is the [[exchanges]] of water content in the human body ?\n",
      "\n",
      "\n"
     ]
    },
    {
     "name": "stderr",
     "output_type": "stream",
     "text": [
      "C:\\Users\\DELL\\anaconda3\\envs\\ta\\lib\\site-packages\\textattack\\loggers\\csv_logger.py:41: FutureWarning: The frame.append method is deprecated and will be removed from pandas in a future version. Use pandas.concat instead.\n",
      "  self.df = self.df.append(row, ignore_index=True)\n",
      "\r",
      "[Succeeded / Failed / Skipped / Total] 253 / 122 / 12 / 387:  77%|██████████████▋    | 387/500 [13:44<04:00,  2.13s/it]"
     ]
    },
    {
     "name": "stdout",
     "output_type": "stream",
     "text": [
      "--------------------------------------------- Result 387 ---------------------------------------------\n",
      "[[Hum (99%)]] --> [[[FAILED]]]\n",
      "\n",
      "Who discovered America ?\n",
      "\n",
      "\n"
     ]
    },
    {
     "name": "stderr",
     "output_type": "stream",
     "text": [
      "[Succeeded / Failed / Skipped / Total] 253 / 122 / 12 / 387:  78%|██████████████▋    | 388/500 [13:45<03:58,  2.13s/it]C:\\Users\\DELL\\anaconda3\\envs\\ta\\lib\\site-packages\\textattack\\loggers\\csv_logger.py:41: FutureWarning: The frame.append method is deprecated and will be removed from pandas in a future version. Use pandas.concat instead.\n",
      "  self.df = self.df.append(row, ignore_index=True)\n",
      "[Succeeded / Failed / Skipped / Total] 254 / 122 / 12 / 388:  78%|██████████████▋    | 388/500 [13:45<03:58,  2.13s/it]"
     ]
    },
    {
     "name": "stdout",
     "output_type": "stream",
     "text": [
      "--------------------------------------------- Result 388 ---------------------------------------------\n",
      "[[Num (99%)]] --> [[Enty (98%)]]\n",
      "\n",
      "What [[year]] did the NFL go on strike ?\n",
      "\n",
      "What [[roku]] did the NFL go on strike ?\n",
      "\n",
      "\n"
     ]
    },
    {
     "name": "stderr",
     "output_type": "stream",
     "text": [
      "C:\\Users\\DELL\\anaconda3\\envs\\ta\\lib\\site-packages\\textattack\\loggers\\csv_logger.py:41: FutureWarning: The frame.append method is deprecated and will be removed from pandas in a future version. Use pandas.concat instead.\n",
      "  self.df = self.df.append(row, ignore_index=True)\n",
      "\r",
      "[Succeeded / Failed / Skipped / Total] 254 / 123 / 12 / 389:  78%|██████████████▊    | 389/500 [13:46<03:55,  2.13s/it]"
     ]
    },
    {
     "name": "stdout",
     "output_type": "stream",
     "text": [
      "--------------------------------------------- Result 389 ---------------------------------------------\n",
      "[[Hum (99%)]] --> [[[FAILED]]]\n",
      "\n",
      "Who is Duke Ellington ?\n",
      "\n",
      "\n"
     ]
    },
    {
     "name": "stderr",
     "output_type": "stream",
     "text": [
      "[Succeeded / Failed / Skipped / Total] 254 / 123 / 12 / 389:  78%|██████████████▊    | 390/500 [13:49<03:53,  2.13s/it]C:\\Users\\DELL\\anaconda3\\envs\\ta\\lib\\site-packages\\textattack\\loggers\\csv_logger.py:41: FutureWarning: The frame.append method is deprecated and will be removed from pandas in a future version. Use pandas.concat instead.\n",
      "  self.df = self.df.append(row, ignore_index=True)\n",
      "[Succeeded / Failed / Skipped / Total] 255 / 123 / 12 / 390:  78%|██████████████▊    | 390/500 [13:49<03:53,  2.13s/it]"
     ]
    },
    {
     "name": "stdout",
     "output_type": "stream",
     "text": [
      "--------------------------------------------- Result 390 ---------------------------------------------\n",
      "[[Enty (93%)]] --> [[Hum (59%)]]\n",
      "\n",
      "The U.S. Department of [[Treasury]] first issued paper currency for the U.S. during which war ?\n",
      "\n",
      "The U.S. Department of [[Treasurer]] first issued paper currency for the U.S. during which war ?\n",
      "\n",
      "\n"
     ]
    },
    {
     "name": "stderr",
     "output_type": "stream",
     "text": [
      "C:\\Users\\DELL\\anaconda3\\envs\\ta\\lib\\site-packages\\textattack\\loggers\\csv_logger.py:41: FutureWarning: The frame.append method is deprecated and will be removed from pandas in a future version. Use pandas.concat instead.\n",
      "  self.df = self.df.append(row, ignore_index=True)\n",
      "\r",
      "[Succeeded / Failed / Skipped / Total] 256 / 123 / 12 / 391:  78%|██████████████▊    | 391/500 [13:52<03:51,  2.13s/it]"
     ]
    },
    {
     "name": "stdout",
     "output_type": "stream",
     "text": [
      "--------------------------------------------- Result 391 ---------------------------------------------\n",
      "[[Enty (99%)]] --> [[Desc (98%)]]\n",
      "\n",
      "What is pastrami [[made]] of ?\n",
      "\n",
      "What is pastrami [[posed]] of ?\n",
      "\n",
      "\n"
     ]
    },
    {
     "name": "stderr",
     "output_type": "stream",
     "text": [
      "[Succeeded / Failed / Skipped / Total] 256 / 123 / 12 / 391:  78%|██████████████▉    | 392/500 [13:52<03:49,  2.12s/it]C:\\Users\\DELL\\anaconda3\\envs\\ta\\lib\\site-packages\\textattack\\loggers\\csv_logger.py:41: FutureWarning: The frame.append method is deprecated and will be removed from pandas in a future version. Use pandas.concat instead.\n",
      "  self.df = self.df.append(row, ignore_index=True)\n",
      "[Succeeded / Failed / Skipped / Total] 256 / 124 / 12 / 392:  78%|██████████████▉    | 392/500 [13:52<03:49,  2.12s/it]"
     ]
    },
    {
     "name": "stdout",
     "output_type": "stream",
     "text": [
      "--------------------------------------------- Result 392 ---------------------------------------------\n",
      "[[Desc (98%)]] --> [[[FAILED]]]\n",
      "\n",
      "What is peyote ?\n",
      "\n",
      "\n"
     ]
    },
    {
     "name": "stderr",
     "output_type": "stream",
     "text": [
      "C:\\Users\\DELL\\anaconda3\\envs\\ta\\lib\\site-packages\\textattack\\loggers\\csv_logger.py:41: FutureWarning: The frame.append method is deprecated and will be removed from pandas in a future version. Use pandas.concat instead.\n",
      "  self.df = self.df.append(row, ignore_index=True)\n",
      "\r",
      "[Succeeded / Failed / Skipped / Total] 257 / 124 / 12 / 393:  79%|██████████████▉    | 393/500 [13:54<03:47,  2.12s/it]"
     ]
    },
    {
     "name": "stdout",
     "output_type": "stream",
     "text": [
      "--------------------------------------------- Result 393 ---------------------------------------------\n",
      "[[Enty (99%)]] --> [[Num (99%)]]\n",
      "\n",
      "What was the [[name]] of the plane Lindbergh flew solo across the Atlantic ?\n",
      "\n",
      "What was the [[numbers]] of the plane Lindbergh flew solo across the Atlantic ?\n",
      "\n",
      "\n"
     ]
    },
    {
     "name": "stderr",
     "output_type": "stream",
     "text": [
      "[Succeeded / Failed / Skipped / Total] 257 / 124 / 12 / 393:  79%|██████████████▉    | 394/500 [13:59<03:45,  2.13s/it]C:\\Users\\DELL\\anaconda3\\envs\\ta\\lib\\site-packages\\textattack\\loggers\\csv_logger.py:41: FutureWarning: The frame.append method is deprecated and will be removed from pandas in a future version. Use pandas.concat instead.\n",
      "  self.df = self.df.append(row, ignore_index=True)\n",
      "[Succeeded / Failed / Skipped / Total] 257 / 125 / 12 / 394:  79%|██████████████▉    | 394/500 [13:59<03:45,  2.13s/it]"
     ]
    },
    {
     "name": "stdout",
     "output_type": "stream",
     "text": [
      "--------------------------------------------- Result 394 ---------------------------------------------\n",
      "[[Hum (99%)]] --> [[[FAILED]]]\n",
      "\n",
      "Who was the 23rd president of the United States ?\n",
      "\n",
      "\n"
     ]
    },
    {
     "name": "stderr",
     "output_type": "stream",
     "text": [
      "C:\\Users\\DELL\\anaconda3\\envs\\ta\\lib\\site-packages\\textattack\\loggers\\csv_logger.py:41: FutureWarning: The frame.append method is deprecated and will be removed from pandas in a future version. Use pandas.concat instead.\n",
      "  self.df = self.df.append(row, ignore_index=True)\n",
      "\r",
      "[Succeeded / Failed / Skipped / Total] 257 / 126 / 12 / 395:  79%|███████████████    | 395/500 [14:05<03:44,  2.14s/it]"
     ]
    },
    {
     "name": "stdout",
     "output_type": "stream",
     "text": [
      "--------------------------------------------- Result 395 ---------------------------------------------\n",
      "[[Hum (99%)]] --> [[[FAILED]]]\n",
      "\n",
      "Who was the first female United States Representative ?\n",
      "\n",
      "\n"
     ]
    },
    {
     "name": "stderr",
     "output_type": "stream",
     "text": [
      "[Succeeded / Failed / Skipped / Total] 257 / 126 / 12 / 395:  79%|███████████████    | 396/500 [14:05<03:42,  2.14s/it]C:\\Users\\DELL\\anaconda3\\envs\\ta\\lib\\site-packages\\textattack\\loggers\\csv_logger.py:41: FutureWarning: The frame.append method is deprecated and will be removed from pandas in a future version. Use pandas.concat instead.\n",
      "  self.df = self.df.append(row, ignore_index=True)\n",
      "[Succeeded / Failed / Skipped / Total] 258 / 126 / 12 / 396:  79%|███████████████    | 396/500 [14:05<03:42,  2.14s/it]"
     ]
    },
    {
     "name": "stdout",
     "output_type": "stream",
     "text": [
      "--------------------------------------------- Result 396 ---------------------------------------------\n",
      "[[Num (99%)]] --> [[Enty (99%)]]\n",
      "\n",
      "What [[year]] was the Mona Lisa painted ?\n",
      "\n",
      "What [[sunni]] was the Mona Lisa painted ?\n",
      "\n",
      "\n"
     ]
    },
    {
     "name": "stderr",
     "output_type": "stream",
     "text": [
      "C:\\Users\\DELL\\anaconda3\\envs\\ta\\lib\\site-packages\\textattack\\loggers\\csv_logger.py:41: FutureWarning: The frame.append method is deprecated and will be removed from pandas in a future version. Use pandas.concat instead.\n",
      "  self.df = self.df.append(row, ignore_index=True)\n",
      "\r",
      "[Succeeded / Failed / Skipped / Total] 259 / 126 / 12 / 397:  79%|███████████████    | 397/500 [14:07<03:39,  2.14s/it]"
     ]
    },
    {
     "name": "stdout",
     "output_type": "stream",
     "text": [
      "--------------------------------------------- Result 397 ---------------------------------------------\n",
      "[[Loc (99%)]] --> [[Num (99%)]]\n",
      "\n",
      "[[Where]] are the National Archives ?\n",
      "\n",
      "[[When]] are the National Archives ?\n",
      "\n",
      "\n"
     ]
    },
    {
     "name": "stderr",
     "output_type": "stream",
     "text": [
      "[Succeeded / Failed / Skipped / Total] 259 / 126 / 12 / 397:  80%|███████████████    | 398/500 [14:09<03:37,  2.13s/it]C:\\Users\\DELL\\anaconda3\\envs\\ta\\lib\\site-packages\\textattack\\loggers\\csv_logger.py:41: FutureWarning: The frame.append method is deprecated and will be removed from pandas in a future version. Use pandas.concat instead.\n",
      "  self.df = self.df.append(row, ignore_index=True)\n",
      "[Succeeded / Failed / Skipped / Total] 259 / 127 / 12 / 398:  80%|███████████████    | 398/500 [14:09<03:37,  2.13s/it]"
     ]
    },
    {
     "name": "stdout",
     "output_type": "stream",
     "text": [
      "--------------------------------------------- Result 398 ---------------------------------------------\n",
      "[[Desc (98%)]] --> [[[FAILED]]]\n",
      "\n",
      "What is acupuncture ?\n",
      "\n",
      "\n"
     ]
    },
    {
     "name": "stderr",
     "output_type": "stream",
     "text": [
      "C:\\Users\\DELL\\anaconda3\\envs\\ta\\lib\\site-packages\\textattack\\loggers\\csv_logger.py:41: FutureWarning: The frame.append method is deprecated and will be removed from pandas in a future version. Use pandas.concat instead.\n",
      "  self.df = self.df.append(row, ignore_index=True)\n",
      "\r",
      "[Succeeded / Failed / Skipped / Total] 260 / 127 / 12 / 399:  80%|███████████████▏   | 399/500 [14:12<03:35,  2.14s/it]"
     ]
    },
    {
     "name": "stdout",
     "output_type": "stream",
     "text": [
      "--------------------------------------------- Result 399 ---------------------------------------------\n",
      "[[Desc (98%)]] --> [[Num (94%)]]\n",
      "\n",
      "What is the [[Milky]] [[Way]] ?\n",
      "\n",
      "What is the [[Creamy]] [[Distances]] ?\n",
      "\n",
      "\n"
     ]
    },
    {
     "name": "stderr",
     "output_type": "stream",
     "text": [
      "[Succeeded / Failed / Skipped / Total] 260 / 127 / 12 / 399:  80%|███████████████▏   | 400/500 [14:12<03:33,  2.13s/it]C:\\Users\\DELL\\anaconda3\\envs\\ta\\lib\\site-packages\\textattack\\loggers\\csv_logger.py:41: FutureWarning: The frame.append method is deprecated and will be removed from pandas in a future version. Use pandas.concat instead.\n",
      "  self.df = self.df.append(row, ignore_index=True)\n",
      "[Succeeded / Failed / Skipped / Total] 261 / 127 / 12 / 400:  80%|███████████████▏   | 400/500 [14:12<03:33,  2.13s/it]"
     ]
    },
    {
     "name": "stdout",
     "output_type": "stream",
     "text": [
      "--------------------------------------------- Result 400 ---------------------------------------------\n",
      "[[Num (99%)]] --> [[Loc (99%)]]\n",
      "\n",
      "[[When]] was the Boston tea party ?\n",
      "\n",
      "[[Where]] was the Boston tea party ?\n",
      "\n",
      "\n"
     ]
    },
    {
     "name": "stderr",
     "output_type": "stream",
     "text": [
      "C:\\Users\\DELL\\anaconda3\\envs\\ta\\lib\\site-packages\\textattack\\loggers\\csv_logger.py:41: FutureWarning: The frame.append method is deprecated and will be removed from pandas in a future version. Use pandas.concat instead.\n",
      "  self.df = self.df.append(row, ignore_index=True)\n",
      "\r",
      "[Succeeded / Failed / Skipped / Total] 262 / 127 / 12 / 401:  80%|███████████████▏   | 401/500 [14:13<03:30,  2.13s/it]"
     ]
    },
    {
     "name": "stdout",
     "output_type": "stream",
     "text": [
      "--------------------------------------------- Result 401 ---------------------------------------------\n",
      "[[Num (99%)]] --> [[Enty (98%)]]\n",
      "\n",
      "What [[year]] did Oklahoma become a state ?\n",
      "\n",
      "What [[ano]] did Oklahoma become a state ?\n",
      "\n",
      "\n"
     ]
    },
    {
     "name": "stderr",
     "output_type": "stream",
     "text": [
      "[Succeeded / Failed / Skipped / Total] 262 / 127 / 12 / 401:  80%|███████████████▎   | 402/500 [14:16<03:28,  2.13s/it]C:\\Users\\DELL\\anaconda3\\envs\\ta\\lib\\site-packages\\textattack\\loggers\\csv_logger.py:41: FutureWarning: The frame.append method is deprecated and will be removed from pandas in a future version. Use pandas.concat instead.\n",
      "  self.df = self.df.append(row, ignore_index=True)\n",
      "[Succeeded / Failed / Skipped / Total] 262 / 128 / 12 / 402:  80%|███████████████▎   | 402/500 [14:16<03:28,  2.13s/it]"
     ]
    },
    {
     "name": "stdout",
     "output_type": "stream",
     "text": [
      "--------------------------------------------- Result 402 ---------------------------------------------\n",
      "[[Desc (98%)]] --> [[[FAILED]]]\n",
      "\n",
      "What is acid rain ?\n",
      "\n",
      "\n"
     ]
    },
    {
     "name": "stderr",
     "output_type": "stream",
     "text": [
      "C:\\Users\\DELL\\anaconda3\\envs\\ta\\lib\\site-packages\\textattack\\loggers\\csv_logger.py:41: FutureWarning: The frame.append method is deprecated and will be removed from pandas in a future version. Use pandas.concat instead.\n",
      "  self.df = self.df.append(row, ignore_index=True)\n",
      "\r",
      "[Succeeded / Failed / Skipped / Total] 263 / 128 / 12 / 403:  81%|███████████████▎   | 403/500 [14:20<03:27,  2.13s/it]"
     ]
    },
    {
     "name": "stdout",
     "output_type": "stream",
     "text": [
      "--------------------------------------------- Result 403 ---------------------------------------------\n",
      "[[Enty (99%)]] --> [[Desc (96%)]]\n",
      "\n",
      "What is the most [[common]] eye [[color]] ?\n",
      "\n",
      "What is the most [[mutual]] eye [[nuance]] ?\n",
      "\n",
      "\n"
     ]
    },
    {
     "name": "stderr",
     "output_type": "stream",
     "text": [
      "[Succeeded / Failed / Skipped / Total] 263 / 128 / 12 / 403:  81%|███████████████▎   | 404/500 [14:21<03:24,  2.13s/it]C:\\Users\\DELL\\anaconda3\\envs\\ta\\lib\\site-packages\\textattack\\loggers\\csv_logger.py:41: FutureWarning: The frame.append method is deprecated and will be removed from pandas in a future version. Use pandas.concat instead.\n",
      "  self.df = self.df.append(row, ignore_index=True)\n",
      "[Succeeded / Failed / Skipped / Total] 263 / 129 / 12 / 404:  81%|███████████████▎   | 404/500 [14:21<03:24,  2.13s/it]"
     ]
    },
    {
     "name": "stdout",
     "output_type": "stream",
     "text": [
      "--------------------------------------------- Result 404 ---------------------------------------------\n",
      "[[Desc (98%)]] --> [[[FAILED]]]\n",
      "\n",
      "What is leukemia ?\n",
      "\n",
      "\n"
     ]
    },
    {
     "name": "stderr",
     "output_type": "stream",
     "text": [
      "C:\\Users\\DELL\\anaconda3\\envs\\ta\\lib\\site-packages\\textattack\\loggers\\csv_logger.py:41: FutureWarning: The frame.append method is deprecated and will be removed from pandas in a future version. Use pandas.concat instead.\n",
      "  self.df = self.df.append(row, ignore_index=True)\n",
      "\r",
      "[Succeeded / Failed / Skipped / Total] 263 / 130 / 12 / 405:  81%|███████████████▍   | 405/500 [14:22<03:22,  2.13s/it]"
     ]
    },
    {
     "name": "stdout",
     "output_type": "stream",
     "text": [
      "--------------------------------------------- Result 405 ---------------------------------------------\n",
      "[[Hum (99%)]] --> [[[FAILED]]]\n",
      "\n",
      "Who was Abraham Lincoln ?\n",
      "\n",
      "\n"
     ]
    },
    {
     "name": "stderr",
     "output_type": "stream",
     "text": [
      "[Succeeded / Failed / Skipped / Total] 263 / 130 / 12 / 405:  81%|███████████████▍   | 406/500 [14:24<03:20,  2.13s/it]C:\\Users\\DELL\\anaconda3\\envs\\ta\\lib\\site-packages\\textattack\\loggers\\csv_logger.py:41: FutureWarning: The frame.append method is deprecated and will be removed from pandas in a future version. Use pandas.concat instead.\n",
      "  self.df = self.df.append(row, ignore_index=True)\n",
      "[Succeeded / Failed / Skipped / Total] 264 / 130 / 12 / 406:  81%|███████████████▍   | 406/500 [14:24<03:20,  2.13s/it]C:\\Users\\DELL\\anaconda3\\envs\\ta\\lib\\site-packages\\textattack\\loggers\\csv_logger.py:41: FutureWarning: The frame.append method is deprecated and will be removed from pandas in a future version. Use pandas.concat instead.\n",
      "  self.df = self.df.append(row, ignore_index=True)\n",
      "[Succeeded / Failed / Skipped / Total] 264 / 130 / 13 / 407:  81%|███████████████▍   | 407/500 [14:24<03:17,  2.13s/it]"
     ]
    },
    {
     "name": "stdout",
     "output_type": "stream",
     "text": [
      "--------------------------------------------- Result 406 ---------------------------------------------\n",
      "[[Enty (99%)]] --> [[Hum (98%)]]\n",
      "\n",
      "What [[type]] of polymer is used for bulletproof vests ?\n",
      "\n",
      "What [[guy]] of polymer is used for bulletproof vests ?\n",
      "\n",
      "\n",
      "--------------------------------------------- Result 407 ---------------------------------------------\n",
      "[[Num (98%)]] --> [[[SKIPPED]]]\n",
      "\n",
      "What is the longest major league baseball-winning streak ?\n",
      "\n",
      "\n"
     ]
    },
    {
     "name": "stderr",
     "output_type": "stream",
     "text": [
      "[Succeeded / Failed / Skipped / Total] 264 / 130 / 13 / 407:  82%|███████████████▌   | 408/500 [14:28<03:15,  2.13s/it]C:\\Users\\DELL\\anaconda3\\envs\\ta\\lib\\site-packages\\textattack\\loggers\\csv_logger.py:41: FutureWarning: The frame.append method is deprecated and will be removed from pandas in a future version. Use pandas.concat instead.\n",
      "  self.df = self.df.append(row, ignore_index=True)\n",
      "[Succeeded / Failed / Skipped / Total] 265 / 130 / 13 / 408:  82%|███████████████▌   | 408/500 [14:28<03:15,  2.13s/it]"
     ]
    },
    {
     "name": "stdout",
     "output_type": "stream",
     "text": [
      "--------------------------------------------- Result 408 ---------------------------------------------\n",
      "[[Num (99%)]] --> [[Desc (98%)]]\n",
      "\n",
      "[[How]] [[much]] was a ticket for the Titanic ?\n",
      "\n",
      "[[Why]] [[sizeable]] was a ticket for the Titanic ?\n",
      "\n",
      "\n"
     ]
    },
    {
     "name": "stderr",
     "output_type": "stream",
     "text": [
      "C:\\Users\\DELL\\anaconda3\\envs\\ta\\lib\\site-packages\\textattack\\loggers\\csv_logger.py:41: FutureWarning: The frame.append method is deprecated and will be removed from pandas in a future version. Use pandas.concat instead.\n",
      "  self.df = self.df.append(row, ignore_index=True)\n",
      "\r",
      "[Succeeded / Failed / Skipped / Total] 266 / 130 / 13 / 409:  82%|███████████████▌   | 409/500 [14:30<03:13,  2.13s/it]"
     ]
    },
    {
     "name": "stdout",
     "output_type": "stream",
     "text": [
      "--------------------------------------------- Result 409 ---------------------------------------------\n",
      "[[Num (99%)]] --> [[Desc (96%)]]\n",
      "\n",
      "How [[many]] feet in a mile ?\n",
      "\n",
      "How [[profusion]] feet in a mile ?\n",
      "\n",
      "\n"
     ]
    },
    {
     "name": "stderr",
     "output_type": "stream",
     "text": [
      "[Succeeded / Failed / Skipped / Total] 266 / 130 / 13 / 409:  82%|███████████████▌   | 410/500 [14:31<03:11,  2.12s/it]C:\\Users\\DELL\\anaconda3\\envs\\ta\\lib\\site-packages\\textattack\\loggers\\csv_logger.py:41: FutureWarning: The frame.append method is deprecated and will be removed from pandas in a future version. Use pandas.concat instead.\n",
      "  self.df = self.df.append(row, ignore_index=True)\n",
      "[Succeeded / Failed / Skipped / Total] 267 / 130 / 13 / 410:  82%|███████████████▌   | 410/500 [14:31<03:11,  2.12s/it]"
     ]
    },
    {
     "name": "stdout",
     "output_type": "stream",
     "text": [
      "--------------------------------------------- Result 410 ---------------------------------------------\n",
      "[[Loc (99%)]] --> [[Enty (85%)]]\n",
      "\n",
      "What [[strait]] separates North America from Asia ?\n",
      "\n",
      "What [[hoi]] separates North America from Asia ?\n",
      "\n",
      "\n"
     ]
    },
    {
     "name": "stderr",
     "output_type": "stream",
     "text": [
      "C:\\Users\\DELL\\anaconda3\\envs\\ta\\lib\\site-packages\\textattack\\loggers\\csv_logger.py:41: FutureWarning: The frame.append method is deprecated and will be removed from pandas in a future version. Use pandas.concat instead.\n",
      "  self.df = self.df.append(row, ignore_index=True)\n",
      "\r",
      "[Succeeded / Failed / Skipped / Total] 268 / 130 / 13 / 411:  82%|███████████████▌   | 411/500 [14:32<03:08,  2.12s/it]"
     ]
    },
    {
     "name": "stdout",
     "output_type": "stream",
     "text": [
      "--------------------------------------------- Result 411 ---------------------------------------------\n",
      "[[Loc (99%)]] --> [[Desc (98%)]]\n",
      "\n",
      "What is the [[capital]] of Zimbabwe ?\n",
      "\n",
      "What is the [[capitalization]] of Zimbabwe ?\n",
      "\n",
      "\n"
     ]
    },
    {
     "name": "stderr",
     "output_type": "stream",
     "text": [
      "[Succeeded / Failed / Skipped / Total] 268 / 130 / 13 / 411:  82%|███████████████▋   | 412/500 [14:33<03:06,  2.12s/it]C:\\Users\\DELL\\anaconda3\\envs\\ta\\lib\\site-packages\\textattack\\loggers\\csv_logger.py:41: FutureWarning: The frame.append method is deprecated and will be removed from pandas in a future version. Use pandas.concat instead.\n",
      "  self.df = self.df.append(row, ignore_index=True)\n",
      "[Succeeded / Failed / Skipped / Total] 269 / 130 / 13 / 412:  82%|███████████████▋   | 412/500 [14:33<03:06,  2.12s/it]"
     ]
    },
    {
     "name": "stdout",
     "output_type": "stream",
     "text": [
      "--------------------------------------------- Result 412 ---------------------------------------------\n",
      "[[Hum (99%)]] --> [[Enty (99%)]]\n",
      "\n",
      "Which [[president]] was unmarried ?\n",
      "\n",
      "Which [[wheelchairs]] was unmarried ?\n",
      "\n",
      "\n"
     ]
    },
    {
     "name": "stderr",
     "output_type": "stream",
     "text": [
      "C:\\Users\\DELL\\anaconda3\\envs\\ta\\lib\\site-packages\\textattack\\loggers\\csv_logger.py:41: FutureWarning: The frame.append method is deprecated and will be removed from pandas in a future version. Use pandas.concat instead.\n",
      "  self.df = self.df.append(row, ignore_index=True)\n",
      "\r",
      "[Succeeded / Failed / Skipped / Total] 270 / 130 / 13 / 413:  83%|███████████████▋   | 413/500 [14:33<03:04,  2.12s/it]"
     ]
    },
    {
     "name": "stdout",
     "output_type": "stream",
     "text": [
      "--------------------------------------------- Result 413 ---------------------------------------------\n",
      "[[Num (99%)]] --> [[Loc (99%)]]\n",
      "\n",
      "[[When]] was the first stamp issued ?\n",
      "\n",
      "[[Where]] was the first stamp issued ?\n",
      "\n",
      "\n"
     ]
    },
    {
     "name": "stderr",
     "output_type": "stream",
     "text": [
      "[Succeeded / Failed / Skipped / Total] 270 / 130 / 13 / 413:  83%|███████████████▋   | 414/500 [14:35<03:01,  2.11s/it]C:\\Users\\DELL\\anaconda3\\envs\\ta\\lib\\site-packages\\textattack\\loggers\\csv_logger.py:41: FutureWarning: The frame.append method is deprecated and will be removed from pandas in a future version. Use pandas.concat instead.\n",
      "  self.df = self.df.append(row, ignore_index=True)\n",
      "[Succeeded / Failed / Skipped / Total] 271 / 130 / 13 / 414:  83%|███████████████▋   | 414/500 [14:35<03:01,  2.11s/it]"
     ]
    },
    {
     "name": "stdout",
     "output_type": "stream",
     "text": [
      "--------------------------------------------- Result 414 ---------------------------------------------\n",
      "[[Loc (99%)]] --> [[Enty (58%)]]\n",
      "\n",
      "Which [[mountain]] range in North America stretches from Maine to Georgia ?\n",
      "\n",
      "Which [[mounted]] range in North America stretches from Maine to Georgia ?\n",
      "\n",
      "\n"
     ]
    },
    {
     "name": "stderr",
     "output_type": "stream",
     "text": [
      "C:\\Users\\DELL\\anaconda3\\envs\\ta\\lib\\site-packages\\textattack\\loggers\\csv_logger.py:41: FutureWarning: The frame.append method is deprecated and will be removed from pandas in a future version. Use pandas.concat instead.\n",
      "  self.df = self.df.append(row, ignore_index=True)\n",
      "\r",
      "[Succeeded / Failed / Skipped / Total] 272 / 130 / 13 / 415:  83%|███████████████▊   | 415/500 [14:36<02:59,  2.11s/it]"
     ]
    },
    {
     "name": "stdout",
     "output_type": "stream",
     "text": [
      "--------------------------------------------- Result 415 ---------------------------------------------\n",
      "[[Enty (96%)]] --> [[Desc (94%)]]\n",
      "\n",
      "What kind of [[gas]] is in a fluorescent bulb ?\n",
      "\n",
      "What kind of [[gassy]] is in a fluorescent bulb ?\n",
      "\n",
      "\n"
     ]
    },
    {
     "name": "stderr",
     "output_type": "stream",
     "text": [
      "[Succeeded / Failed / Skipped / Total] 272 / 130 / 13 / 415:  83%|███████████████▊   | 416/500 [14:37<02:57,  2.11s/it]C:\\Users\\DELL\\anaconda3\\envs\\ta\\lib\\site-packages\\textattack\\loggers\\csv_logger.py:41: FutureWarning: The frame.append method is deprecated and will be removed from pandas in a future version. Use pandas.concat instead.\n",
      "  self.df = self.df.append(row, ignore_index=True)\n",
      "[Succeeded / Failed / Skipped / Total] 273 / 130 / 13 / 416:  83%|███████████████▊   | 416/500 [14:37<02:57,  2.11s/it]"
     ]
    },
    {
     "name": "stdout",
     "output_type": "stream",
     "text": [
      "--------------------------------------------- Result 416 ---------------------------------------------\n",
      "[[Enty (99%)]] --> [[Hum (98%)]]\n",
      "\n",
      "What [[mineral]] helps prevent osteoporosis ?\n",
      "\n",
      "What [[miner]] helps prevent osteoporosis ?\n",
      "\n",
      "\n"
     ]
    },
    {
     "name": "stderr",
     "output_type": "stream",
     "text": [
      "C:\\Users\\DELL\\anaconda3\\envs\\ta\\lib\\site-packages\\textattack\\loggers\\csv_logger.py:41: FutureWarning: The frame.append method is deprecated and will be removed from pandas in a future version. Use pandas.concat instead.\n",
      "  self.df = self.df.append(row, ignore_index=True)\n",
      "\r",
      "[Succeeded / Failed / Skipped / Total] 274 / 130 / 13 / 417:  83%|███████████████▊   | 417/500 [14:39<02:55,  2.11s/it]"
     ]
    },
    {
     "name": "stdout",
     "output_type": "stream",
     "text": [
      "--------------------------------------------- Result 417 ---------------------------------------------\n",
      "[[Loc (99%)]] --> [[Num (99%)]]\n",
      "\n",
      "[[Where]] is the Mall of the America ?\n",
      "\n",
      "[[When]] is the Mall of the America ?\n",
      "\n",
      "\n"
     ]
    },
    {
     "name": "stderr",
     "output_type": "stream",
     "text": [
      "[Succeeded / Failed / Skipped / Total] 274 / 130 / 13 / 417:  84%|███████████████▉   | 418/500 [14:41<02:52,  2.11s/it]C:\\Users\\DELL\\anaconda3\\envs\\ta\\lib\\site-packages\\textattack\\loggers\\csv_logger.py:41: FutureWarning: The frame.append method is deprecated and will be removed from pandas in a future version. Use pandas.concat instead.\n",
      "  self.df = self.df.append(row, ignore_index=True)\n",
      "[Succeeded / Failed / Skipped / Total] 274 / 131 / 13 / 418:  84%|███████████████▉   | 418/500 [14:41<02:52,  2.11s/it]"
     ]
    },
    {
     "name": "stdout",
     "output_type": "stream",
     "text": [
      "--------------------------------------------- Result 418 ---------------------------------------------\n",
      "[[Desc (98%)]] --> [[[FAILED]]]\n",
      "\n",
      "What are pathogens ?\n",
      "\n",
      "\n"
     ]
    },
    {
     "name": "stderr",
     "output_type": "stream",
     "text": [
      "C:\\Users\\DELL\\anaconda3\\envs\\ta\\lib\\site-packages\\textattack\\loggers\\csv_logger.py:41: FutureWarning: The frame.append method is deprecated and will be removed from pandas in a future version. Use pandas.concat instead.\n",
      "  self.df = self.df.append(row, ignore_index=True)\n",
      "\r",
      "[Succeeded / Failed / Skipped / Total] 275 / 131 / 13 / 419:  84%|███████████████▉   | 419/500 [14:43<02:50,  2.11s/it]"
     ]
    },
    {
     "name": "stdout",
     "output_type": "stream",
     "text": [
      "--------------------------------------------- Result 419 ---------------------------------------------\n",
      "[[Loc (99%)]] --> [[Hum (99%)]]\n",
      "\n",
      "What [[city]] had a world fair in 1900 ?\n",
      "\n",
      "What [[mayor]] had a world fair in 1900 ?\n",
      "\n",
      "\n"
     ]
    },
    {
     "name": "stderr",
     "output_type": "stream",
     "text": [
      "[Succeeded / Failed / Skipped / Total] 275 / 131 / 13 / 419:  84%|███████████████▉   | 420/500 [14:43<02:48,  2.10s/it]C:\\Users\\DELL\\anaconda3\\envs\\ta\\lib\\site-packages\\textattack\\loggers\\csv_logger.py:41: FutureWarning: The frame.append method is deprecated and will be removed from pandas in a future version. Use pandas.concat instead.\n",
      "  self.df = self.df.append(row, ignore_index=True)\n",
      "[Succeeded / Failed / Skipped / Total] 276 / 131 / 13 / 420:  84%|███████████████▉   | 420/500 [14:43<02:48,  2.10s/it]"
     ]
    },
    {
     "name": "stdout",
     "output_type": "stream",
     "text": [
      "--------------------------------------------- Result 420 ---------------------------------------------\n",
      "[[Num (99%)]] --> [[Loc (99%)]]\n",
      "\n",
      "[[When]] did the Hindenberg crash ?\n",
      "\n",
      "[[Where]] did the Hindenberg crash ?\n",
      "\n",
      "\n"
     ]
    },
    {
     "name": "stderr",
     "output_type": "stream",
     "text": [
      "C:\\Users\\DELL\\anaconda3\\envs\\ta\\lib\\site-packages\\textattack\\loggers\\csv_logger.py:41: FutureWarning: The frame.append method is deprecated and will be removed from pandas in a future version. Use pandas.concat instead.\n",
      "  self.df = self.df.append(row, ignore_index=True)\n",
      "\r",
      "[Succeeded / Failed / Skipped / Total] 276 / 132 / 13 / 421:  84%|███████████████▉   | 421/500 [14:47<02:46,  2.11s/it]"
     ]
    },
    {
     "name": "stdout",
     "output_type": "stream",
     "text": [
      "--------------------------------------------- Result 421 ---------------------------------------------\n",
      "[[Desc (98%)]] --> [[[FAILED]]]\n",
      "\n",
      "What is bangers and mash ?\n",
      "\n",
      "\n"
     ]
    },
    {
     "name": "stderr",
     "output_type": "stream",
     "text": [
      "[Succeeded / Failed / Skipped / Total] 276 / 132 / 13 / 421:  84%|████████████████   | 422/500 [14:47<02:44,  2.10s/it]C:\\Users\\DELL\\anaconda3\\envs\\ta\\lib\\site-packages\\textattack\\loggers\\csv_logger.py:41: FutureWarning: The frame.append method is deprecated and will be removed from pandas in a future version. Use pandas.concat instead.\n",
      "  self.df = self.df.append(row, ignore_index=True)\n",
      "[Succeeded / Failed / Skipped / Total] 276 / 133 / 13 / 422:  84%|████████████████   | 422/500 [14:47<02:44,  2.10s/it]"
     ]
    },
    {
     "name": "stdout",
     "output_type": "stream",
     "text": [
      "--------------------------------------------- Result 422 ---------------------------------------------\n",
      "[[Desc (98%)]] --> [[[FAILED]]]\n",
      "\n",
      "What is nanotechnology ?\n",
      "\n",
      "\n"
     ]
    },
    {
     "name": "stderr",
     "output_type": "stream",
     "text": [
      "C:\\Users\\DELL\\anaconda3\\envs\\ta\\lib\\site-packages\\textattack\\loggers\\csv_logger.py:41: FutureWarning: The frame.append method is deprecated and will be removed from pandas in a future version. Use pandas.concat instead.\n",
      "  self.df = self.df.append(row, ignore_index=True)\n",
      "[Succeeded / Failed / Skipped / Total] 277 / 133 / 13 / 423:  85%|████████████████   | 424/500 [14:50<02:39,  2.10s/it]C:\\Users\\DELL\\anaconda3\\envs\\ta\\lib\\site-packages\\textattack\\loggers\\csv_logger.py:41: FutureWarning: The frame.append method is deprecated and will be removed from pandas in a future version. Use pandas.concat instead.\n",
      "  self.df = self.df.append(row, ignore_index=True)\n",
      "[Succeeded / Failed / Skipped / Total] 277 / 133 / 14 / 424:  85%|████████████████   | 424/500 [14:50<02:39,  2.10s/it]"
     ]
    },
    {
     "name": "stdout",
     "output_type": "stream",
     "text": [
      "--------------------------------------------- Result 423 ---------------------------------------------\n",
      "[[Enty (99%)]] --> [[Desc (97%)]]\n",
      "\n",
      "What do bats [[eat]] ?\n",
      "\n",
      "What do bats [[essen]] ?\n",
      "\n",
      "\n",
      "--------------------------------------------- Result 424 ---------------------------------------------\n",
      "[[Num (98%)]] --> [[[SKIPPED]]]\n",
      "\n",
      "What is the electrical output in Madrid , Spain ?\n",
      "\n",
      "\n"
     ]
    },
    {
     "name": "stderr",
     "output_type": "stream",
     "text": [
      "C:\\Users\\DELL\\anaconda3\\envs\\ta\\lib\\site-packages\\textattack\\loggers\\csv_logger.py:41: FutureWarning: The frame.append method is deprecated and will be removed from pandas in a future version. Use pandas.concat instead.\n",
      "  self.df = self.df.append(row, ignore_index=True)\n",
      "\r",
      "[Succeeded / Failed / Skipped / Total] 278 / 133 / 14 / 425:  85%|████████████████▏  | 425/500 [14:52<02:37,  2.10s/it]"
     ]
    },
    {
     "name": "stdout",
     "output_type": "stream",
     "text": [
      "--------------------------------------------- Result 425 ---------------------------------------------\n",
      "[[Loc (99%)]] --> [[Enty (97%)]]\n",
      "\n",
      "What [[county]] is Modesto , California in ?\n",
      "\n",
      "What [[prov]] is Modesto , California in ?\n",
      "\n",
      "\n"
     ]
    },
    {
     "name": "stderr",
     "output_type": "stream",
     "text": [
      "[Succeeded / Failed / Skipped / Total] 278 / 133 / 14 / 425:  85%|████████████████▏  | 426/500 [14:52<02:35,  2.10s/it]C:\\Users\\DELL\\anaconda3\\envs\\ta\\lib\\site-packages\\textattack\\loggers\\csv_logger.py:41: FutureWarning: The frame.append method is deprecated and will be removed from pandas in a future version. Use pandas.concat instead.\n",
      "  self.df = self.df.append(row, ignore_index=True)\n",
      "[Succeeded / Failed / Skipped / Total] 278 / 134 / 14 / 426:  85%|████████████████▏  | 426/500 [14:52<02:35,  2.10s/it]"
     ]
    },
    {
     "name": "stdout",
     "output_type": "stream",
     "text": [
      "--------------------------------------------- Result 426 ---------------------------------------------\n",
      "[[Desc (98%)]] --> [[[FAILED]]]\n",
      "\n",
      "What is amitriptyline ?\n",
      "\n",
      "\n"
     ]
    },
    {
     "name": "stderr",
     "output_type": "stream",
     "text": [
      "C:\\Users\\DELL\\anaconda3\\envs\\ta\\lib\\site-packages\\textattack\\loggers\\csv_logger.py:41: FutureWarning: The frame.append method is deprecated and will be removed from pandas in a future version. Use pandas.concat instead.\n",
      "  self.df = self.df.append(row, ignore_index=True)\n",
      "\r",
      "[Succeeded / Failed / Skipped / Total] 278 / 135 / 14 / 427:  85%|████████████████▏  | 427/500 [14:53<02:32,  2.09s/it]"
     ]
    },
    {
     "name": "stdout",
     "output_type": "stream",
     "text": [
      "--------------------------------------------- Result 427 ---------------------------------------------\n",
      "[[Desc (98%)]] --> [[[FAILED]]]\n",
      "\n",
      "What is an eclipse ?\n",
      "\n",
      "\n"
     ]
    },
    {
     "name": "stderr",
     "output_type": "stream",
     "text": [
      "[Succeeded / Failed / Skipped / Total] 278 / 135 / 14 / 427:  86%|████████████████▎  | 428/500 [14:58<02:31,  2.10s/it]C:\\Users\\DELL\\anaconda3\\envs\\ta\\lib\\site-packages\\textattack\\loggers\\csv_logger.py:41: FutureWarning: The frame.append method is deprecated and will be removed from pandas in a future version. Use pandas.concat instead.\n",
      "  self.df = self.df.append(row, ignore_index=True)\n",
      "[Succeeded / Failed / Skipped / Total] 278 / 136 / 14 / 428:  86%|████████████████▎  | 428/500 [14:58<02:31,  2.10s/it]"
     ]
    },
    {
     "name": "stdout",
     "output_type": "stream",
     "text": [
      "--------------------------------------------- Result 428 ---------------------------------------------\n",
      "[[Hum (99%)]] --> [[[FAILED]]]\n",
      "\n",
      "Who developed the vaccination against polio ?\n",
      "\n",
      "\n"
     ]
    },
    {
     "name": "stderr",
     "output_type": "stream",
     "text": [
      "C:\\Users\\DELL\\anaconda3\\envs\\ta\\lib\\site-packages\\textattack\\loggers\\csv_logger.py:41: FutureWarning: The frame.append method is deprecated and will be removed from pandas in a future version. Use pandas.concat instead.\n",
      "  self.df = self.df.append(row, ignore_index=True)\n",
      "\r",
      "[Succeeded / Failed / Skipped / Total] 278 / 137 / 14 / 429:  86%|████████████████▎  | 429/500 [14:59<02:28,  2.10s/it]"
     ]
    },
    {
     "name": "stdout",
     "output_type": "stream",
     "text": [
      "--------------------------------------------- Result 429 ---------------------------------------------\n",
      "[[Desc (98%)]] --> [[[FAILED]]]\n",
      "\n",
      "What is acetaminophen ?\n",
      "\n",
      "\n"
     ]
    },
    {
     "name": "stderr",
     "output_type": "stream",
     "text": [
      "[Succeeded / Failed / Skipped / Total] 278 / 137 / 14 / 429:  86%|████████████████▎  | 430/500 [15:01<02:26,  2.10s/it]C:\\Users\\DELL\\anaconda3\\envs\\ta\\lib\\site-packages\\textattack\\loggers\\csv_logger.py:41: FutureWarning: The frame.append method is deprecated and will be removed from pandas in a future version. Use pandas.concat instead.\n",
      "  self.df = self.df.append(row, ignore_index=True)\n",
      "[Succeeded / Failed / Skipped / Total] 279 / 137 / 14 / 430:  86%|████████████████▎  | 430/500 [15:01<02:26,  2.10s/it]"
     ]
    },
    {
     "name": "stdout",
     "output_type": "stream",
     "text": [
      "--------------------------------------------- Result 430 ---------------------------------------------\n",
      "[[Num (99%)]] --> [[Desc (98%)]]\n",
      "\n",
      "How [[old]] do you have to be in order to rent a car in Italy ?\n",
      "\n",
      "How [[vieux]] do you have to be in order to rent a car in Italy ?\n",
      "\n",
      "\n"
     ]
    },
    {
     "name": "stderr",
     "output_type": "stream",
     "text": [
      "C:\\Users\\DELL\\anaconda3\\envs\\ta\\lib\\site-packages\\textattack\\loggers\\csv_logger.py:41: FutureWarning: The frame.append method is deprecated and will be removed from pandas in a future version. Use pandas.concat instead.\n",
      "  self.df = self.df.append(row, ignore_index=True)\n",
      "\r",
      "[Succeeded / Failed / Skipped / Total] 280 / 137 / 14 / 431:  86%|████████████████▍  | 431/500 [15:02<02:24,  2.09s/it]"
     ]
    },
    {
     "name": "stdout",
     "output_type": "stream",
     "text": [
      "--------------------------------------------- Result 431 ---------------------------------------------\n",
      "[[Num (99%)]] --> [[Hum (99%)]]\n",
      "\n",
      "What [[year]] did Mussolini seize power in Italy ?\n",
      "\n",
      "What [[sunni]] did Mussolini seize power in Italy ?\n",
      "\n",
      "\n"
     ]
    },
    {
     "name": "stderr",
     "output_type": "stream",
     "text": [
      "[Succeeded / Failed / Skipped / Total] 280 / 137 / 14 / 431:  86%|████████████████▍  | 432/500 [15:06<02:22,  2.10s/it]C:\\Users\\DELL\\anaconda3\\envs\\ta\\lib\\site-packages\\textattack\\loggers\\csv_logger.py:41: FutureWarning: The frame.append method is deprecated and will be removed from pandas in a future version. Use pandas.concat instead.\n",
      "  self.df = self.df.append(row, ignore_index=True)\n",
      "[Succeeded / Failed / Skipped / Total] 281 / 137 / 14 / 432:  86%|████████████████▍  | 432/500 [15:06<02:22,  2.10s/it]"
     ]
    },
    {
     "name": "stdout",
     "output_type": "stream",
     "text": [
      "--------------------------------------------- Result 432 ---------------------------------------------\n",
      "[[Enty (99%)]] --> [[Desc (98%)]]\n",
      "\n",
      "What [[type]] of [[currency]] is used in [[Australia]] ?\n",
      "\n",
      "What [[nature]] of [[interchange]] is used in [[Zealanders]] ?\n",
      "\n",
      "\n"
     ]
    },
    {
     "name": "stderr",
     "output_type": "stream",
     "text": [
      "C:\\Users\\DELL\\anaconda3\\envs\\ta\\lib\\site-packages\\textattack\\loggers\\csv_logger.py:41: FutureWarning: The frame.append method is deprecated and will be removed from pandas in a future version. Use pandas.concat instead.\n",
      "  self.df = self.df.append(row, ignore_index=True)\n",
      "\r",
      "[Succeeded / Failed / Skipped / Total] 281 / 138 / 14 / 433:  87%|████████████████▍  | 433/500 [15:10<02:20,  2.10s/it]"
     ]
    },
    {
     "name": "stdout",
     "output_type": "stream",
     "text": [
      "--------------------------------------------- Result 433 ---------------------------------------------\n",
      "[[Desc (98%)]] --> [[[FAILED]]]\n",
      "\n",
      "What is pneumonia ?\n",
      "\n",
      "\n"
     ]
    },
    {
     "name": "stderr",
     "output_type": "stream",
     "text": [
      "[Succeeded / Failed / Skipped / Total] 281 / 138 / 14 / 433:  87%|████████████████▍  | 434/500 [15:12<02:18,  2.10s/it]C:\\Users\\DELL\\anaconda3\\envs\\ta\\lib\\site-packages\\textattack\\loggers\\csv_logger.py:41: FutureWarning: The frame.append method is deprecated and will be removed from pandas in a future version. Use pandas.concat instead.\n",
      "  self.df = self.df.append(row, ignore_index=True)\n",
      "[Succeeded / Failed / Skipped / Total] 282 / 138 / 14 / 434:  87%|████████████████▍  | 434/500 [15:12<02:18,  2.10s/it]"
     ]
    },
    {
     "name": "stdout",
     "output_type": "stream",
     "text": [
      "--------------------------------------------- Result 434 ---------------------------------------------\n",
      "[[Enty (98%)]] --> [[Loc (99%)]]\n",
      "\n",
      "What [[color]] is indigo ?\n",
      "\n",
      "What [[spot]] is indigo ?\n",
      "\n",
      "\n"
     ]
    },
    {
     "name": "stderr",
     "output_type": "stream",
     "text": [
      "C:\\Users\\DELL\\anaconda3\\envs\\ta\\lib\\site-packages\\textattack\\loggers\\csv_logger.py:41: FutureWarning: The frame.append method is deprecated and will be removed from pandas in a future version. Use pandas.concat instead.\n",
      "  self.df = self.df.append(row, ignore_index=True)\n",
      "[Succeeded / Failed / Skipped / Total] 282 / 139 / 14 / 435:  87%|████████████████▌  | 436/500 [15:16<02:14,  2.10s/it]C:\\Users\\DELL\\anaconda3\\envs\\ta\\lib\\site-packages\\textattack\\loggers\\csv_logger.py:41: FutureWarning: The frame.append method is deprecated and will be removed from pandas in a future version. Use pandas.concat instead.\n",
      "  self.df = self.df.append(row, ignore_index=True)\n",
      "[Succeeded / Failed / Skipped / Total] 282 / 139 / 15 / 436:  87%|████████████████▌  | 436/500 [15:16<02:14,  2.10s/it]"
     ]
    },
    {
     "name": "stdout",
     "output_type": "stream",
     "text": [
      "--------------------------------------------- Result 435 ---------------------------------------------\n",
      "[[Desc (98%)]] --> [[[FAILED]]]\n",
      "\n",
      "What does a defibrillator do ?\n",
      "\n",
      "\n",
      "--------------------------------------------- Result 436 ---------------------------------------------\n",
      "[[Desc (96%)]] --> [[[SKIPPED]]]\n",
      "\n",
      "What does the technical term ISDN mean ?\n",
      "\n",
      "\n"
     ]
    },
    {
     "name": "stderr",
     "output_type": "stream",
     "text": [
      "C:\\Users\\DELL\\anaconda3\\envs\\ta\\lib\\site-packages\\textattack\\loggers\\csv_logger.py:41: FutureWarning: The frame.append method is deprecated and will be removed from pandas in a future version. Use pandas.concat instead.\n",
      "  self.df = self.df.append(row, ignore_index=True)\n",
      "\r",
      "[Succeeded / Failed / Skipped / Total] 283 / 139 / 15 / 437:  87%|████████████████▌  | 437/500 [15:18<02:12,  2.10s/it]"
     ]
    },
    {
     "name": "stdout",
     "output_type": "stream",
     "text": [
      "--------------------------------------------- Result 437 ---------------------------------------------\n",
      "[[Loc (99%)]] --> [[Num (99%)]]\n",
      "\n",
      "[[Where]] are the Rocky Mountains ?\n",
      "\n",
      "[[When]] are the Rocky Mountains ?\n",
      "\n",
      "\n"
     ]
    },
    {
     "name": "stderr",
     "output_type": "stream",
     "text": [
      "[Succeeded / Failed / Skipped / Total] 283 / 139 / 15 / 437:  88%|████████████████▋  | 438/500 [15:21<02:10,  2.10s/it]C:\\Users\\DELL\\anaconda3\\envs\\ta\\lib\\site-packages\\textattack\\loggers\\csv_logger.py:41: FutureWarning: The frame.append method is deprecated and will be removed from pandas in a future version. Use pandas.concat instead.\n",
      "  self.df = self.df.append(row, ignore_index=True)\n",
      "[Succeeded / Failed / Skipped / Total] 284 / 139 / 15 / 438:  88%|████████████████▋  | 438/500 [15:21<02:10,  2.10s/it]"
     ]
    },
    {
     "name": "stdout",
     "output_type": "stream",
     "text": [
      "--------------------------------------------- Result 438 ---------------------------------------------\n",
      "[[Num (99%)]] --> [[Desc (98%)]]\n",
      "\n",
      "What is the gestation [[period]] for a cat ?\n",
      "\n",
      "What is the gestation [[tiempo]] for a cat ?\n",
      "\n",
      "\n"
     ]
    },
    {
     "name": "stderr",
     "output_type": "stream",
     "text": [
      "C:\\Users\\DELL\\anaconda3\\envs\\ta\\lib\\site-packages\\textattack\\loggers\\csv_logger.py:41: FutureWarning: The frame.append method is deprecated and will be removed from pandas in a future version. Use pandas.concat instead.\n",
      "  self.df = self.df.append(row, ignore_index=True)\n",
      "\r",
      "[Succeeded / Failed / Skipped / Total] 284 / 140 / 15 / 439:  88%|████████████████▋  | 439/500 [15:27<02:08,  2.11s/it]"
     ]
    },
    {
     "name": "stdout",
     "output_type": "stream",
     "text": [
      "--------------------------------------------- Result 439 ---------------------------------------------\n",
      "[[Hum (99%)]] --> [[[FAILED]]]\n",
      "\n",
      "Who invented Trivial Pursuit ?\n",
      "\n",
      "\n"
     ]
    },
    {
     "name": "stderr",
     "output_type": "stream",
     "text": [
      "[Succeeded / Failed / Skipped / Total] 284 / 140 / 15 / 439:  88%|████████████████▋  | 440/500 [15:28<02:06,  2.11s/it]C:\\Users\\DELL\\anaconda3\\envs\\ta\\lib\\site-packages\\textattack\\loggers\\csv_logger.py:41: FutureWarning: The frame.append method is deprecated and will be removed from pandas in a future version. Use pandas.concat instead.\n",
      "  self.df = self.df.append(row, ignore_index=True)\n",
      "[Succeeded / Failed / Skipped / Total] 284 / 141 / 15 / 440:  88%|████████████████▋  | 440/500 [15:28<02:06,  2.11s/it]"
     ]
    },
    {
     "name": "stdout",
     "output_type": "stream",
     "text": [
      "--------------------------------------------- Result 440 ---------------------------------------------\n",
      "[[Desc (98%)]] --> [[[FAILED]]]\n",
      "\n",
      "What is a micron ?\n",
      "\n",
      "\n"
     ]
    },
    {
     "name": "stderr",
     "output_type": "stream",
     "text": [
      "C:\\Users\\DELL\\anaconda3\\envs\\ta\\lib\\site-packages\\textattack\\loggers\\csv_logger.py:41: FutureWarning: The frame.append method is deprecated and will be removed from pandas in a future version. Use pandas.concat instead.\n",
      "  self.df = self.df.append(row, ignore_index=True)\n",
      "\r",
      "[Succeeded / Failed / Skipped / Total] 285 / 141 / 15 / 441:  88%|████████████████▊  | 441/500 [15:30<02:04,  2.11s/it]"
     ]
    },
    {
     "name": "stdout",
     "output_type": "stream",
     "text": [
      "--------------------------------------------- Result 441 ---------------------------------------------\n",
      "[[Loc (99%)]] --> [[Hum (99%)]]\n",
      "\n",
      "What is the largest [[city]] in the U.S. ?\n",
      "\n",
      "What is the largest [[mayor]] in the U.S. ?\n",
      "\n",
      "\n"
     ]
    },
    {
     "name": "stderr",
     "output_type": "stream",
     "text": [
      "[Succeeded / Failed / Skipped / Total] 285 / 141 / 15 / 441:  88%|████████████████▊  | 442/500 [15:31<02:02,  2.11s/it]C:\\Users\\DELL\\anaconda3\\envs\\ta\\lib\\site-packages\\textattack\\loggers\\csv_logger.py:41: FutureWarning: The frame.append method is deprecated and will be removed from pandas in a future version. Use pandas.concat instead.\n",
      "  self.df = self.df.append(row, ignore_index=True)\n",
      "[Succeeded / Failed / Skipped / Total] 286 / 141 / 15 / 442:  88%|████████████████▊  | 442/500 [15:31<02:02,  2.11s/it]"
     ]
    },
    {
     "name": "stdout",
     "output_type": "stream",
     "text": [
      "--------------------------------------------- Result 442 ---------------------------------------------\n",
      "[[Loc (99%)]] --> [[Desc (97%)]]\n",
      "\n",
      "What is the [[capital]] of Ethiopia ?\n",
      "\n",
      "What is the [[capitalization]] of Ethiopia ?\n",
      "\n",
      "\n"
     ]
    },
    {
     "name": "stderr",
     "output_type": "stream",
     "text": [
      "C:\\Users\\DELL\\anaconda3\\envs\\ta\\lib\\site-packages\\textattack\\loggers\\csv_logger.py:41: FutureWarning: The frame.append method is deprecated and will be removed from pandas in a future version. Use pandas.concat instead.\n",
      "  self.df = self.df.append(row, ignore_index=True)\n",
      "\r",
      "[Succeeded / Failed / Skipped / Total] 287 / 141 / 15 / 443:  89%|████████████████▊  | 443/500 [15:32<02:00,  2.11s/it]"
     ]
    },
    {
     "name": "stdout",
     "output_type": "stream",
     "text": [
      "--------------------------------------------- Result 443 ---------------------------------------------\n",
      "[[Num (96%)]] --> [[Enty (84%)]]\n",
      "\n",
      "Developing nations comprise what [[percentage]] of the world 's population ?\n",
      "\n",
      "Developing nations comprise what [[exchanges]] of the world 's population ?\n",
      "\n",
      "\n"
     ]
    },
    {
     "name": "stderr",
     "output_type": "stream",
     "text": [
      "[Succeeded / Failed / Skipped / Total] 287 / 141 / 15 / 443:  89%|████████████████▊  | 444/500 [15:33<01:57,  2.10s/it]C:\\Users\\DELL\\anaconda3\\envs\\ta\\lib\\site-packages\\textattack\\loggers\\csv_logger.py:41: FutureWarning: The frame.append method is deprecated and will be removed from pandas in a future version. Use pandas.concat instead.\n",
      "  self.df = self.df.append(row, ignore_index=True)\n",
      "[Succeeded / Failed / Skipped / Total] 288 / 141 / 15 / 444:  89%|████████████████▊  | 444/500 [15:33<01:57,  2.10s/it]"
     ]
    },
    {
     "name": "stdout",
     "output_type": "stream",
     "text": [
      "--------------------------------------------- Result 444 ---------------------------------------------\n",
      "[[Loc (99%)]] --> [[Enty (87%)]]\n",
      "\n",
      "What [[province]] is Montreal in ?\n",
      "\n",
      "What [[prov]] is Montreal in ?\n",
      "\n",
      "\n"
     ]
    },
    {
     "name": "stderr",
     "output_type": "stream",
     "text": [
      "C:\\Users\\DELL\\anaconda3\\envs\\ta\\lib\\site-packages\\textattack\\loggers\\csv_logger.py:41: FutureWarning: The frame.append method is deprecated and will be removed from pandas in a future version. Use pandas.concat instead.\n",
      "  self.df = self.df.append(row, ignore_index=True)\n",
      "\r",
      "[Succeeded / Failed / Skipped / Total] 288 / 142 / 15 / 445:  89%|████████████████▉  | 445/500 [15:35<01:55,  2.10s/it]"
     ]
    },
    {
     "name": "stdout",
     "output_type": "stream",
     "text": [
      "--------------------------------------------- Result 445 ---------------------------------------------\n",
      "[[Desc (98%)]] --> [[[FAILED]]]\n",
      "\n",
      "What is a shaman ?\n",
      "\n",
      "\n"
     ]
    },
    {
     "name": "stderr",
     "output_type": "stream",
     "text": [
      "[Succeeded / Failed / Skipped / Total] 288 / 142 / 15 / 445:  89%|████████████████▉  | 446/500 [15:38<01:53,  2.10s/it]C:\\Users\\DELL\\anaconda3\\envs\\ta\\lib\\site-packages\\textattack\\loggers\\csv_logger.py:41: FutureWarning: The frame.append method is deprecated and will be removed from pandas in a future version. Use pandas.concat instead.\n",
      "  self.df = self.df.append(row, ignore_index=True)\n",
      "[Succeeded / Failed / Skipped / Total] 289 / 142 / 15 / 446:  89%|████████████████▉  | 446/500 [15:38<01:53,  2.10s/it]"
     ]
    },
    {
     "name": "stdout",
     "output_type": "stream",
     "text": [
      "--------------------------------------------- Result 446 ---------------------------------------------\n",
      "[[Hum (98%)]] --> [[Enty (98%)]]\n",
      "\n",
      "What chain [[store]] is headquartered in Bentonville , Arkansas ?\n",
      "\n",
      "What chain [[stockpile]] is headquartered in Bentonville , Arkansas ?\n",
      "\n",
      "\n"
     ]
    },
    {
     "name": "stderr",
     "output_type": "stream",
     "text": [
      "C:\\Users\\DELL\\anaconda3\\envs\\ta\\lib\\site-packages\\textattack\\loggers\\csv_logger.py:41: FutureWarning: The frame.append method is deprecated and will be removed from pandas in a future version. Use pandas.concat instead.\n",
      "  self.df = self.df.append(row, ignore_index=True)\n",
      "\r",
      "[Succeeded / Failed / Skipped / Total] 289 / 143 / 15 / 447:  89%|████████████████▉  | 447/500 [15:40<01:51,  2.10s/it]"
     ]
    },
    {
     "name": "stdout",
     "output_type": "stream",
     "text": [
      "--------------------------------------------- Result 447 ---------------------------------------------\n",
      "[[Desc (97%)]] --> [[[FAILED]]]\n",
      "\n",
      "What is an obtuse angle ?\n",
      "\n",
      "\n"
     ]
    },
    {
     "name": "stderr",
     "output_type": "stream",
     "text": [
      "[Succeeded / Failed / Skipped / Total] 289 / 143 / 15 / 447:  90%|█████████████████  | 448/500 [15:42<01:49,  2.10s/it]C:\\Users\\DELL\\anaconda3\\envs\\ta\\lib\\site-packages\\textattack\\loggers\\csv_logger.py:41: FutureWarning: The frame.append method is deprecated and will be removed from pandas in a future version. Use pandas.concat instead.\n",
      "  self.df = self.df.append(row, ignore_index=True)\n",
      "[Succeeded / Failed / Skipped / Total] 290 / 143 / 15 / 448:  90%|█████████████████  | 448/500 [15:42<01:49,  2.10s/it]"
     ]
    },
    {
     "name": "stdout",
     "output_type": "stream",
     "text": [
      "--------------------------------------------- Result 448 ---------------------------------------------\n",
      "[[Loc (99%)]] --> [[Num (99%)]]\n",
      "\n",
      "[[Where]] is the Little League Museum ?\n",
      "\n",
      "[[When]] is the Little League Museum ?\n",
      "\n",
      "\n"
     ]
    },
    {
     "name": "stderr",
     "output_type": "stream",
     "text": [
      "C:\\Users\\DELL\\anaconda3\\envs\\ta\\lib\\site-packages\\textattack\\loggers\\csv_logger.py:41: FutureWarning: The frame.append method is deprecated and will be removed from pandas in a future version. Use pandas.concat instead.\n",
      "  self.df = self.df.append(row, ignore_index=True)\n",
      "\r",
      "[Succeeded / Failed / Skipped / Total] 291 / 143 / 15 / 449:  90%|█████████████████  | 449/500 [15:43<01:47,  2.10s/it]"
     ]
    },
    {
     "name": "stdout",
     "output_type": "stream",
     "text": [
      "--------------------------------------------- Result 449 ---------------------------------------------\n",
      "[[Loc (99%)]] --> [[Desc (98%)]]\n",
      "\n",
      "What is the [[capital]] of Yugoslavia ?\n",
      "\n",
      "What is the [[capitalization]] of Yugoslavia ?\n",
      "\n",
      "\n"
     ]
    },
    {
     "name": "stderr",
     "output_type": "stream",
     "text": [
      "[Succeeded / Failed / Skipped / Total] 291 / 143 / 15 / 449:  90%|█████████████████  | 450/500 [15:46<01:45,  2.10s/it]C:\\Users\\DELL\\anaconda3\\envs\\ta\\lib\\site-packages\\textattack\\loggers\\csv_logger.py:41: FutureWarning: The frame.append method is deprecated and will be removed from pandas in a future version. Use pandas.concat instead.\n",
      "  self.df = self.df.append(row, ignore_index=True)\n",
      "[Succeeded / Failed / Skipped / Total] 292 / 143 / 15 / 450:  90%|█████████████████  | 450/500 [15:46<01:45,  2.10s/it]"
     ]
    },
    {
     "name": "stdout",
     "output_type": "stream",
     "text": [
      "--------------------------------------------- Result 450 ---------------------------------------------\n",
      "[[Enty (97%)]] --> [[Desc (89%)]]\n",
      "\n",
      "What is a mirror [[made]] out of ?\n",
      "\n",
      "What is a mirror [[doing]] out of ?\n",
      "\n",
      "\n"
     ]
    },
    {
     "name": "stderr",
     "output_type": "stream",
     "text": [
      "C:\\Users\\DELL\\anaconda3\\envs\\ta\\lib\\site-packages\\textattack\\loggers\\csv_logger.py:41: FutureWarning: The frame.append method is deprecated and will be removed from pandas in a future version. Use pandas.concat instead.\n",
      "  self.df = self.df.append(row, ignore_index=True)\n",
      "\r",
      "[Succeeded / Failed / Skipped / Total] 292 / 144 / 15 / 451:  90%|█████████████████▏ | 451/500 [15:49<01:43,  2.11s/it]"
     ]
    },
    {
     "name": "stdout",
     "output_type": "stream",
     "text": [
      "--------------------------------------------- Result 451 ---------------------------------------------\n",
      "[[Desc (98%)]] --> [[[FAILED]]]\n",
      "\n",
      "What is bipolar disorder ?\n",
      "\n",
      "\n"
     ]
    },
    {
     "name": "stderr",
     "output_type": "stream",
     "text": [
      "[Succeeded / Failed / Skipped / Total] 292 / 144 / 15 / 451:  90%|█████████████████▏ | 452/500 [15:50<01:40,  2.10s/it]C:\\Users\\DELL\\anaconda3\\envs\\ta\\lib\\site-packages\\textattack\\loggers\\csv_logger.py:41: FutureWarning: The frame.append method is deprecated and will be removed from pandas in a future version. Use pandas.concat instead.\n",
      "  self.df = self.df.append(row, ignore_index=True)\n",
      "[Succeeded / Failed / Skipped / Total] 293 / 144 / 15 / 452:  90%|█████████████████▏ | 452/500 [15:50<01:40,  2.10s/it]"
     ]
    },
    {
     "name": "stdout",
     "output_type": "stream",
     "text": [
      "--------------------------------------------- Result 452 ---------------------------------------------\n",
      "[[Num (99%)]] --> [[Loc (99%)]]\n",
      "\n",
      "[[When]] was the first kidney transplant ?\n",
      "\n",
      "[[Where]] was the first kidney transplant ?\n",
      "\n",
      "\n"
     ]
    },
    {
     "name": "stderr",
     "output_type": "stream",
     "text": [
      "C:\\Users\\DELL\\anaconda3\\envs\\ta\\lib\\site-packages\\textattack\\loggers\\csv_logger.py:41: FutureWarning: The frame.append method is deprecated and will be removed from pandas in a future version. Use pandas.concat instead.\n",
      "  self.df = self.df.append(row, ignore_index=True)\n",
      "\r",
      "[Succeeded / Failed / Skipped / Total] 293 / 145 / 15 / 453:  91%|█████████████████▏ | 453/500 [15:52<01:38,  2.10s/it]"
     ]
    },
    {
     "name": "stdout",
     "output_type": "stream",
     "text": [
      "--------------------------------------------- Result 453 ---------------------------------------------\n",
      "[[Desc (98%)]] --> [[[FAILED]]]\n",
      "\n",
      "What is osteoporosis ?\n",
      "\n",
      "\n"
     ]
    },
    {
     "name": "stderr",
     "output_type": "stream",
     "text": [
      "[Succeeded / Failed / Skipped / Total] 293 / 145 / 15 / 453:  91%|█████████████████▎ | 454/500 [15:54<01:36,  2.10s/it]C:\\Users\\DELL\\anaconda3\\envs\\ta\\lib\\site-packages\\textattack\\loggers\\csv_logger.py:41: FutureWarning: The frame.append method is deprecated and will be removed from pandas in a future version. Use pandas.concat instead.\n",
      "  self.df = self.df.append(row, ignore_index=True)\n",
      "[Succeeded / Failed / Skipped / Total] 294 / 145 / 15 / 454:  91%|█████████████████▎ | 454/500 [15:54<01:36,  2.10s/it]"
     ]
    },
    {
     "name": "stdout",
     "output_type": "stream",
     "text": [
      "--------------------------------------------- Result 454 ---------------------------------------------\n",
      "[[Num (98%)]] --> [[Enty (94%)]]\n",
      "\n",
      "What is the life [[expectancy]] for crickets ?\n",
      "\n",
      "What is the life [[desired]] for crickets ?\n",
      "\n",
      "\n"
     ]
    },
    {
     "name": "stderr",
     "output_type": "stream",
     "text": [
      "C:\\Users\\DELL\\anaconda3\\envs\\ta\\lib\\site-packages\\textattack\\loggers\\csv_logger.py:41: FutureWarning: The frame.append method is deprecated and will be removed from pandas in a future version. Use pandas.concat instead.\n",
      "  self.df = self.df.append(row, ignore_index=True)\n",
      "\r",
      "[Succeeded / Failed / Skipped / Total] 295 / 145 / 15 / 455:  91%|█████████████████▎ | 455/500 [15:56<01:34,  2.10s/it]"
     ]
    },
    {
     "name": "stdout",
     "output_type": "stream",
     "text": [
      "--------------------------------------------- Result 455 ---------------------------------------------\n",
      "[[Loc (99%)]] --> [[Num (99%)]]\n",
      "\n",
      "[[Where]] are the British crown jewels kept ?\n",
      "\n",
      "[[When]] are the British crown jewels kept ?\n",
      "\n",
      "\n"
     ]
    },
    {
     "name": "stderr",
     "output_type": "stream",
     "text": [
      "[Succeeded / Failed / Skipped / Total] 295 / 145 / 15 / 455:  91%|█████████████████▎ | 456/500 [16:03<01:32,  2.11s/it]C:\\Users\\DELL\\anaconda3\\envs\\ta\\lib\\site-packages\\textattack\\loggers\\csv_logger.py:41: FutureWarning: The frame.append method is deprecated and will be removed from pandas in a future version. Use pandas.concat instead.\n",
      "  self.df = self.df.append(row, ignore_index=True)\n",
      "[Succeeded / Failed / Skipped / Total] 295 / 146 / 15 / 456:  91%|█████████████████▎ | 456/500 [16:03<01:32,  2.11s/it]"
     ]
    },
    {
     "name": "stdout",
     "output_type": "stream",
     "text": [
      "--------------------------------------------- Result 456 ---------------------------------------------\n",
      "[[Hum (99%)]] --> [[[FAILED]]]\n",
      "\n",
      "Who was the first U.S. president to appear on TV ?\n",
      "\n",
      "\n"
     ]
    },
    {
     "name": "stderr",
     "output_type": "stream",
     "text": [
      "C:\\Users\\DELL\\anaconda3\\envs\\ta\\lib\\site-packages\\textattack\\loggers\\csv_logger.py:41: FutureWarning: The frame.append method is deprecated and will be removed from pandas in a future version. Use pandas.concat instead.\n",
      "  self.df = self.df.append(row, ignore_index=True)\n",
      "\r",
      "[Succeeded / Failed / Skipped / Total] 296 / 146 / 15 / 457:  91%|█████████████████▎ | 457/500 [16:04<01:30,  2.11s/it]"
     ]
    },
    {
     "name": "stdout",
     "output_type": "stream",
     "text": [
      "--------------------------------------------- Result 457 ---------------------------------------------\n",
      "[[Loc (80%)]] --> [[Enty (84%)]]\n",
      "\n",
      "What is the highest [[dam]] in the U.S. ?\n",
      "\n",
      "What is the highest [[daffy]] in the U.S. ?\n",
      "\n",
      "\n"
     ]
    },
    {
     "name": "stderr",
     "output_type": "stream",
     "text": [
      "[Succeeded / Failed / Skipped / Total] 296 / 146 / 15 / 457:  92%|█████████████████▍ | 458/500 [16:10<01:28,  2.12s/it]C:\\Users\\DELL\\anaconda3\\envs\\ta\\lib\\site-packages\\textattack\\loggers\\csv_logger.py:41: FutureWarning: The frame.append method is deprecated and will be removed from pandas in a future version. Use pandas.concat instead.\n",
      "  self.df = self.df.append(row, ignore_index=True)\n",
      "[Succeeded / Failed / Skipped / Total] 296 / 147 / 15 / 458:  92%|█████████████████▍ | 458/500 [16:10<01:28,  2.12s/it]C:\\Users\\DELL\\anaconda3\\envs\\ta\\lib\\site-packages\\textattack\\loggers\\csv_logger.py:41: FutureWarning: The frame.append method is deprecated and will be removed from pandas in a future version. Use pandas.concat instead.\n",
      "  self.df = self.df.append(row, ignore_index=True)\n",
      "[Succeeded / Failed / Skipped / Total] 296 / 147 / 16 / 459:  92%|█████████████████▍ | 459/500 [16:10<01:26,  2.11s/it]"
     ]
    },
    {
     "name": "stdout",
     "output_type": "stream",
     "text": [
      "--------------------------------------------- Result 458 ---------------------------------------------\n",
      "[[Hum (99%)]] --> [[[FAILED]]]\n",
      "\n",
      "Who wrote the hymn `` Amazing Grace '' ?\n",
      "\n",
      "\n",
      "--------------------------------------------- Result 459 ---------------------------------------------\n",
      "[[Desc (63%)]] --> [[[SKIPPED]]]\n",
      "\n",
      "What is the sales tax in Minnesota ?\n",
      "\n",
      "\n"
     ]
    },
    {
     "name": "stderr",
     "output_type": "stream",
     "text": [
      "[Succeeded / Failed / Skipped / Total] 296 / 147 / 16 / 459:  92%|█████████████████▍ | 460/500 [16:11<01:24,  2.11s/it]C:\\Users\\DELL\\anaconda3\\envs\\ta\\lib\\site-packages\\textattack\\loggers\\csv_logger.py:41: FutureWarning: The frame.append method is deprecated and will be removed from pandas in a future version. Use pandas.concat instead.\n",
      "  self.df = self.df.append(row, ignore_index=True)\n",
      "[Succeeded / Failed / Skipped / Total] 296 / 148 / 16 / 460:  92%|█████████████████▍ | 460/500 [16:11<01:24,  2.11s/it]"
     ]
    },
    {
     "name": "stdout",
     "output_type": "stream",
     "text": [
      "--------------------------------------------- Result 460 ---------------------------------------------\n",
      "[[Desc (98%)]] --> [[[FAILED]]]\n",
      "\n",
      "What are Quaaludes ?\n",
      "\n",
      "\n"
     ]
    },
    {
     "name": "stderr",
     "output_type": "stream",
     "text": [
      "C:\\Users\\DELL\\anaconda3\\envs\\ta\\lib\\site-packages\\textattack\\loggers\\csv_logger.py:41: FutureWarning: The frame.append method is deprecated and will be removed from pandas in a future version. Use pandas.concat instead.\n",
      "  self.df = self.df.append(row, ignore_index=True)\n",
      "\r",
      "[Succeeded / Failed / Skipped / Total] 297 / 148 / 16 / 461:  92%|█████████████████▌ | 461/500 [16:12<01:22,  2.11s/it]"
     ]
    },
    {
     "name": "stdout",
     "output_type": "stream",
     "text": [
      "--------------------------------------------- Result 461 ---------------------------------------------\n",
      "[[Enty (99%)]] --> [[Hum (99%)]]\n",
      "\n",
      "What is the most popular [[sport]] in Japan ?\n",
      "\n",
      "What is the most popular [[sportsmen]] in Japan ?\n",
      "\n",
      "\n"
     ]
    },
    {
     "name": "stderr",
     "output_type": "stream",
     "text": [
      "[Succeeded / Failed / Skipped / Total] 297 / 148 / 16 / 461:  92%|█████████████████▌ | 462/500 [16:13<01:20,  2.11s/it]C:\\Users\\DELL\\anaconda3\\envs\\ta\\lib\\site-packages\\textattack\\loggers\\csv_logger.py:41: FutureWarning: The frame.append method is deprecated and will be removed from pandas in a future version. Use pandas.concat instead.\n",
      "  self.df = self.df.append(row, ignore_index=True)\n",
      "[Succeeded / Failed / Skipped / Total] 298 / 148 / 16 / 462:  92%|█████████████████▌ | 462/500 [16:13<01:20,  2.11s/it]"
     ]
    },
    {
     "name": "stdout",
     "output_type": "stream",
     "text": [
      "--------------------------------------------- Result 462 ---------------------------------------------\n",
      "[[Enty (99%)]] --> [[Loc (97%)]]\n",
      "\n",
      "What [[metal]] has the highest melting point ?\n",
      "\n",
      "What [[mittal]] has the highest melting point ?\n",
      "\n",
      "\n"
     ]
    },
    {
     "name": "stderr",
     "output_type": "stream",
     "text": [
      "C:\\Users\\DELL\\anaconda3\\envs\\ta\\lib\\site-packages\\textattack\\loggers\\csv_logger.py:41: FutureWarning: The frame.append method is deprecated and will be removed from pandas in a future version. Use pandas.concat instead.\n",
      "  self.df = self.df.append(row, ignore_index=True)\n",
      "\r",
      "[Succeeded / Failed / Skipped / Total] 299 / 148 / 16 / 463:  93%|█████████████████▌ | 463/500 [16:13<01:17,  2.10s/it]"
     ]
    },
    {
     "name": "stdout",
     "output_type": "stream",
     "text": [
      "--------------------------------------------- Result 463 ---------------------------------------------\n",
      "[[Abbr (80%)]] --> [[Desc (95%)]]\n",
      "\n",
      "What does USPS [[stand]] for ?\n",
      "\n",
      "What does USPS [[attitude]] for ?\n",
      "\n",
      "\n"
     ]
    },
    {
     "name": "stderr",
     "output_type": "stream",
     "text": [
      "[Succeeded / Failed / Skipped / Total] 299 / 148 / 16 / 463:  93%|█████████████████▋ | 464/500 [16:14<01:15,  2.10s/it]C:\\Users\\DELL\\anaconda3\\envs\\ta\\lib\\site-packages\\textattack\\loggers\\csv_logger.py:41: FutureWarning: The frame.append method is deprecated and will be removed from pandas in a future version. Use pandas.concat instead.\n",
      "  self.df = self.df.append(row, ignore_index=True)\n",
      "[Succeeded / Failed / Skipped / Total] 300 / 148 / 16 / 464:  93%|█████████████████▋ | 464/500 [16:14<01:15,  2.10s/it]"
     ]
    },
    {
     "name": "stdout",
     "output_type": "stream",
     "text": [
      "--------------------------------------------- Result 464 ---------------------------------------------\n",
      "[[Loc (99%)]] --> [[Enty (99%)]]\n",
      "\n",
      "What French [[province]] is cognac produced in ?\n",
      "\n",
      "What French [[boycotting]] is cognac produced in ?\n",
      "\n",
      "\n"
     ]
    },
    {
     "name": "stderr",
     "output_type": "stream",
     "text": [
      "C:\\Users\\DELL\\anaconda3\\envs\\ta\\lib\\site-packages\\textattack\\loggers\\csv_logger.py:41: FutureWarning: The frame.append method is deprecated and will be removed from pandas in a future version. Use pandas.concat instead.\n",
      "  self.df = self.df.append(row, ignore_index=True)\n",
      "\r",
      "[Succeeded / Failed / Skipped / Total] 301 / 148 / 16 / 465:  93%|█████████████████▋ | 465/500 [16:17<01:13,  2.10s/it]"
     ]
    },
    {
     "name": "stdout",
     "output_type": "stream",
     "text": [
      "--------------------------------------------- Result 465 ---------------------------------------------\n",
      "[[Enty (98%)]] --> [[Loc (99%)]]\n",
      "\n",
      "What [[color]] is a poison arrow frog ?\n",
      "\n",
      "What [[spot]] is a poison arrow frog ?\n",
      "\n",
      "\n"
     ]
    },
    {
     "name": "stderr",
     "output_type": "stream",
     "text": [
      "[Succeeded / Failed / Skipped / Total] 301 / 148 / 16 / 465:  93%|█████████████████▋ | 466/500 [16:19<01:11,  2.10s/it]C:\\Users\\DELL\\anaconda3\\envs\\ta\\lib\\site-packages\\textattack\\loggers\\csv_logger.py:41: FutureWarning: The frame.append method is deprecated and will be removed from pandas in a future version. Use pandas.concat instead.\n",
      "  self.df = self.df.append(row, ignore_index=True)\n",
      "[Succeeded / Failed / Skipped / Total] 302 / 148 / 16 / 466:  93%|█████████████████▋ | 466/500 [16:19<01:11,  2.10s/it]"
     ]
    },
    {
     "name": "stdout",
     "output_type": "stream",
     "text": [
      "--------------------------------------------- Result 466 ---------------------------------------------\n",
      "[[Enty (99%)]] --> [[Num (99%)]]\n",
      "\n",
      "What is the [[name]] given to the Tiger at Louisiana State University ?\n",
      "\n",
      "What is the [[numbers]] given to the Tiger at Louisiana State University ?\n",
      "\n",
      "\n"
     ]
    },
    {
     "name": "stderr",
     "output_type": "stream",
     "text": [
      "C:\\Users\\DELL\\anaconda3\\envs\\ta\\lib\\site-packages\\textattack\\loggers\\csv_logger.py:41: FutureWarning: The frame.append method is deprecated and will be removed from pandas in a future version. Use pandas.concat instead.\n",
      "  self.df = self.df.append(row, ignore_index=True)\n",
      "\r",
      "[Succeeded / Failed / Skipped / Total] 303 / 148 / 16 / 467:  93%|█████████████████▋ | 467/500 [16:21<01:09,  2.10s/it]"
     ]
    },
    {
     "name": "stdout",
     "output_type": "stream",
     "text": [
      "--------------------------------------------- Result 467 ---------------------------------------------\n",
      "[[Loc (99%)]] --> [[Hum (99%)]]\n",
      "\n",
      "What [[city]] has the zip code of 35824 ?\n",
      "\n",
      "What [[mayor]] has the zip code of 35824 ?\n",
      "\n",
      "\n"
     ]
    },
    {
     "name": "stderr",
     "output_type": "stream",
     "text": [
      "[Succeeded / Failed / Skipped / Total] 303 / 148 / 16 / 467:  94%|█████████████████▊ | 468/500 [16:21<01:07,  2.10s/it]C:\\Users\\DELL\\anaconda3\\envs\\ta\\lib\\site-packages\\textattack\\loggers\\csv_logger.py:41: FutureWarning: The frame.append method is deprecated and will be removed from pandas in a future version. Use pandas.concat instead.\n",
      "  self.df = self.df.append(row, ignore_index=True)\n",
      "[Succeeded / Failed / Skipped / Total] 304 / 148 / 16 / 468:  94%|█████████████████▊ | 468/500 [16:21<01:07,  2.10s/it]"
     ]
    },
    {
     "name": "stdout",
     "output_type": "stream",
     "text": [
      "--------------------------------------------- Result 468 ---------------------------------------------\n",
      "[[Num (99%)]] --> [[Loc (99%)]]\n",
      "\n",
      "[[When]] did John F. Kennedy get elected as President ?\n",
      "\n",
      "[[Where]] did John F. Kennedy get elected as President ?\n",
      "\n",
      "\n"
     ]
    },
    {
     "name": "stderr",
     "output_type": "stream",
     "text": [
      "C:\\Users\\DELL\\anaconda3\\envs\\ta\\lib\\site-packages\\textattack\\loggers\\csv_logger.py:41: FutureWarning: The frame.append method is deprecated and will be removed from pandas in a future version. Use pandas.concat instead.\n",
      "  self.df = self.df.append(row, ignore_index=True)\n",
      "\r",
      "[Succeeded / Failed / Skipped / Total] 304 / 149 / 16 / 469:  94%|█████████████████▊ | 469/500 [16:26<01:05,  2.10s/it]"
     ]
    },
    {
     "name": "stdout",
     "output_type": "stream",
     "text": [
      "--------------------------------------------- Result 469 ---------------------------------------------\n",
      "[[Desc (98%)]] --> [[[FAILED]]]\n",
      "\n",
      "What is pulmonary fibrosis ?\n",
      "\n",
      "\n"
     ]
    },
    {
     "name": "stderr",
     "output_type": "stream",
     "text": [
      "[Succeeded / Failed / Skipped / Total] 304 / 149 / 16 / 469:  94%|█████████████████▊ | 470/500 [16:26<01:02,  2.10s/it]C:\\Users\\DELL\\anaconda3\\envs\\ta\\lib\\site-packages\\textattack\\loggers\\csv_logger.py:41: FutureWarning: The frame.append method is deprecated and will be removed from pandas in a future version. Use pandas.concat instead.\n",
      "  self.df = self.df.append(row, ignore_index=True)\n",
      "[Succeeded / Failed / Skipped / Total] 305 / 149 / 16 / 470:  94%|█████████████████▊ | 470/500 [16:26<01:02,  2.10s/it]"
     ]
    },
    {
     "name": "stdout",
     "output_type": "stream",
     "text": [
      "--------------------------------------------- Result 470 ---------------------------------------------\n",
      "[[Loc (99%)]] --> [[Num (72%)]]\n",
      "\n",
      "What is the deepest [[lake]] in the US ?\n",
      "\n",
      "What is the deepest [[lakh]] in the US ?\n",
      "\n",
      "\n"
     ]
    },
    {
     "name": "stderr",
     "output_type": "stream",
     "text": [
      "C:\\Users\\DELL\\anaconda3\\envs\\ta\\lib\\site-packages\\textattack\\loggers\\csv_logger.py:41: FutureWarning: The frame.append method is deprecated and will be removed from pandas in a future version. Use pandas.concat instead.\n",
      "  self.df = self.df.append(row, ignore_index=True)\n",
      "\r",
      "[Succeeded / Failed / Skipped / Total] 305 / 150 / 16 / 471:  94%|█████████████████▉ | 471/500 [16:29<01:00,  2.10s/it]"
     ]
    },
    {
     "name": "stdout",
     "output_type": "stream",
     "text": [
      "--------------------------------------------- Result 471 ---------------------------------------------\n",
      "[[Desc (98%)]] --> [[[FAILED]]]\n",
      "\n",
      "What is schizophrenia ?\n",
      "\n",
      "\n"
     ]
    },
    {
     "name": "stderr",
     "output_type": "stream",
     "text": [
      "[Succeeded / Failed / Skipped / Total] 305 / 150 / 16 / 471:  94%|█████████████████▉ | 472/500 [16:31<00:58,  2.10s/it]C:\\Users\\DELL\\anaconda3\\envs\\ta\\lib\\site-packages\\textattack\\loggers\\csv_logger.py:41: FutureWarning: The frame.append method is deprecated and will be removed from pandas in a future version. Use pandas.concat instead.\n",
      "  self.df = self.df.append(row, ignore_index=True)\n",
      "[Succeeded / Failed / Skipped / Total] 306 / 150 / 16 / 472:  94%|█████████████████▉ | 472/500 [16:31<00:58,  2.10s/it]"
     ]
    },
    {
     "name": "stdout",
     "output_type": "stream",
     "text": [
      "--------------------------------------------- Result 472 ---------------------------------------------\n",
      "[[Num (99%)]] --> [[Desc (98%)]]\n",
      "\n",
      "How [[old]] was Elvis Presley when he died ?\n",
      "\n",
      "How [[obsolete]] was Elvis Presley when he died ?\n",
      "\n",
      "\n"
     ]
    },
    {
     "name": "stderr",
     "output_type": "stream",
     "text": [
      "C:\\Users\\DELL\\anaconda3\\envs\\ta\\lib\\site-packages\\textattack\\loggers\\csv_logger.py:41: FutureWarning: The frame.append method is deprecated and will be removed from pandas in a future version. Use pandas.concat instead.\n",
      "  self.df = self.df.append(row, ignore_index=True)\n",
      "\r",
      "[Succeeded / Failed / Skipped / Total] 307 / 150 / 16 / 473:  95%|█████████████████▉ | 473/500 [16:33<00:56,  2.10s/it]"
     ]
    },
    {
     "name": "stdout",
     "output_type": "stream",
     "text": [
      "--------------------------------------------- Result 473 ---------------------------------------------\n",
      "[[Enty (99%)]] --> [[Num (99%)]]\n",
      "\n",
      "What is the [[name]] of William Penn 's ship ?\n",
      "\n",
      "What is the [[numbers]] of William Penn 's ship ?\n",
      "\n",
      "\n"
     ]
    },
    {
     "name": "stderr",
     "output_type": "stream",
     "text": [
      "[Succeeded / Failed / Skipped / Total] 307 / 150 / 16 / 473:  95%|██████████████████ | 474/500 [16:35<00:54,  2.10s/it]C:\\Users\\DELL\\anaconda3\\envs\\ta\\lib\\site-packages\\textattack\\loggers\\csv_logger.py:41: FutureWarning: The frame.append method is deprecated and will be removed from pandas in a future version. Use pandas.concat instead.\n",
      "  self.df = self.df.append(row, ignore_index=True)\n",
      "[Succeeded / Failed / Skipped / Total] 308 / 150 / 16 / 474:  95%|██████████████████ | 474/500 [16:35<00:54,  2.10s/it]"
     ]
    },
    {
     "name": "stdout",
     "output_type": "stream",
     "text": [
      "--------------------------------------------- Result 474 ---------------------------------------------\n",
      "[[Loc (99%)]] --> [[Num (99%)]]\n",
      "\n",
      "[[Where]] is the Euphrates River ?\n",
      "\n",
      "[[When]] is the Euphrates River ?\n",
      "\n",
      "\n"
     ]
    },
    {
     "name": "stderr",
     "output_type": "stream",
     "text": [
      "C:\\Users\\DELL\\anaconda3\\envs\\ta\\lib\\site-packages\\textattack\\loggers\\csv_logger.py:41: FutureWarning: The frame.append method is deprecated and will be removed from pandas in a future version. Use pandas.concat instead.\n",
      "  self.df = self.df.append(row, ignore_index=True)\n",
      "\r",
      "[Succeeded / Failed / Skipped / Total] 309 / 150 / 16 / 475:  95%|██████████████████ | 475/500 [16:37<00:52,  2.10s/it]"
     ]
    },
    {
     "name": "stdout",
     "output_type": "stream",
     "text": [
      "--------------------------------------------- Result 475 ---------------------------------------------\n",
      "[[Hum (99%)]] --> [[Enty (99%)]]\n",
      "\n",
      "What is the name of the chocolate [[company]] in San Francisco ?\n",
      "\n",
      "What is the name of the chocolate [[undertaken]] in San Francisco ?\n",
      "\n",
      "\n"
     ]
    },
    {
     "name": "stderr",
     "output_type": "stream",
     "text": [
      "[Succeeded / Failed / Skipped / Total] 309 / 150 / 16 / 475:  95%|██████████████████ | 476/500 [16:38<00:50,  2.10s/it]C:\\Users\\DELL\\anaconda3\\envs\\ta\\lib\\site-packages\\textattack\\loggers\\csv_logger.py:41: FutureWarning: The frame.append method is deprecated and will be removed from pandas in a future version. Use pandas.concat instead.\n",
      "  self.df = self.df.append(row, ignore_index=True)\n",
      "[Succeeded / Failed / Skipped / Total] 310 / 150 / 16 / 476:  95%|██████████████████ | 476/500 [16:38<00:50,  2.10s/it]"
     ]
    },
    {
     "name": "stdout",
     "output_type": "stream",
     "text": [
      "--------------------------------------------- Result 476 ---------------------------------------------\n",
      "[[Hum (95%)]] --> [[Enty (99%)]]\n",
      "\n",
      "George Bush purchased a small interest in which baseball [[team]] ?\n",
      "\n",
      "George Bush purchased a small interest in which baseball [[device]] ?\n",
      "\n",
      "\n"
     ]
    },
    {
     "name": "stderr",
     "output_type": "stream",
     "text": [
      "C:\\Users\\DELL\\anaconda3\\envs\\ta\\lib\\site-packages\\textattack\\loggers\\csv_logger.py:41: FutureWarning: The frame.append method is deprecated and will be removed from pandas in a future version. Use pandas.concat instead.\n",
      "  self.df = self.df.append(row, ignore_index=True)\n",
      "\r",
      "[Succeeded / Failed / Skipped / Total] 311 / 150 / 16 / 477:  95%|██████████████████▏| 477/500 [16:41<00:48,  2.10s/it]"
     ]
    },
    {
     "name": "stdout",
     "output_type": "stream",
     "text": [
      "--------------------------------------------- Result 477 ---------------------------------------------\n",
      "[[Desc (98%)]] --> [[Enty (98%)]]\n",
      "\n",
      "[[How]] [[do]] you measure earthquakes ?\n",
      "\n",
      "[[Consequently]] [[soaps]] you measure earthquakes ?\n",
      "\n",
      "\n"
     ]
    },
    {
     "name": "stderr",
     "output_type": "stream",
     "text": [
      "[Succeeded / Failed / Skipped / Total] 311 / 150 / 16 / 477:  96%|██████████████████▏| 478/500 [16:42<00:46,  2.10s/it]C:\\Users\\DELL\\anaconda3\\envs\\ta\\lib\\site-packages\\textattack\\loggers\\csv_logger.py:41: FutureWarning: The frame.append method is deprecated and will be removed from pandas in a future version. Use pandas.concat instead.\n",
      "  self.df = self.df.append(row, ignore_index=True)\n",
      "[Succeeded / Failed / Skipped / Total] 312 / 150 / 16 / 478:  96%|██████████████████▏| 478/500 [16:42<00:46,  2.10s/it]"
     ]
    },
    {
     "name": "stdout",
     "output_type": "stream",
     "text": [
      "--------------------------------------------- Result 478 ---------------------------------------------\n",
      "[[Loc (65%)]] --> [[Hum (97%)]]\n",
      "\n",
      "What U.S. [[state]] 's motto is `` Live free or Die '' ?\n",
      "\n",
      "What U.S. [[nationals]] 's motto is `` Live free or Die '' ?\n",
      "\n",
      "\n"
     ]
    },
    {
     "name": "stderr",
     "output_type": "stream",
     "text": [
      "C:\\Users\\DELL\\anaconda3\\envs\\ta\\lib\\site-packages\\textattack\\loggers\\csv_logger.py:41: FutureWarning: The frame.append method is deprecated and will be removed from pandas in a future version. Use pandas.concat instead.\n",
      "  self.df = self.df.append(row, ignore_index=True)\n",
      "\r",
      "[Succeeded / Failed / Skipped / Total] 312 / 151 / 16 / 479:  96%|██████████████████▏| 479/500 [16:44<00:44,  2.10s/it]"
     ]
    },
    {
     "name": "stdout",
     "output_type": "stream",
     "text": [
      "--------------------------------------------- Result 479 ---------------------------------------------\n",
      "[[Desc (98%)]] --> [[[FAILED]]]\n",
      "\n",
      "What are platelets ?\n",
      "\n",
      "\n"
     ]
    },
    {
     "name": "stderr",
     "output_type": "stream",
     "text": [
      "[Succeeded / Failed / Skipped / Total] 312 / 151 / 16 / 479:  96%|██████████████████▏| 480/500 [16:46<00:41,  2.10s/it]C:\\Users\\DELL\\anaconda3\\envs\\ta\\lib\\site-packages\\textattack\\loggers\\csv_logger.py:41: FutureWarning: The frame.append method is deprecated and will be removed from pandas in a future version. Use pandas.concat instead.\n",
      "  self.df = self.df.append(row, ignore_index=True)\n",
      "[Succeeded / Failed / Skipped / Total] 313 / 151 / 16 / 480:  96%|██████████████████▏| 480/500 [16:46<00:41,  2.10s/it]"
     ]
    },
    {
     "name": "stdout",
     "output_type": "stream",
     "text": [
      "--------------------------------------------- Result 480 ---------------------------------------------\n",
      "[[Enty (99%)]] --> [[Num (99%)]]\n",
      "\n",
      "What was the [[name]] of the first U.S. satellite sent into space ?\n",
      "\n",
      "What was the [[numbers]] of the first U.S. satellite sent into space ?\n",
      "\n",
      "\n"
     ]
    },
    {
     "name": "stderr",
     "output_type": "stream",
     "text": [
      "C:\\Users\\DELL\\anaconda3\\envs\\ta\\lib\\site-packages\\textattack\\loggers\\csv_logger.py:41: FutureWarning: The frame.append method is deprecated and will be removed from pandas in a future version. Use pandas.concat instead.\n",
      "  self.df = self.df.append(row, ignore_index=True)\n",
      "\r",
      "[Succeeded / Failed / Skipped / Total] 313 / 152 / 16 / 481:  96%|██████████████████▎| 481/500 [16:47<00:39,  2.09s/it]"
     ]
    },
    {
     "name": "stdout",
     "output_type": "stream",
     "text": [
      "--------------------------------------------- Result 481 ---------------------------------------------\n",
      "[[Desc (97%)]] --> [[[FAILED]]]\n",
      "\n",
      "What is Teflon ?\n",
      "\n",
      "\n"
     ]
    },
    {
     "name": "stderr",
     "output_type": "stream",
     "text": [
      "[Succeeded / Failed / Skipped / Total] 313 / 152 / 16 / 481:  96%|██████████████████▎| 482/500 [16:49<00:37,  2.10s/it]C:\\Users\\DELL\\anaconda3\\envs\\ta\\lib\\site-packages\\textattack\\loggers\\csv_logger.py:41: FutureWarning: The frame.append method is deprecated and will be removed from pandas in a future version. Use pandas.concat instead.\n",
      "  self.df = self.df.append(row, ignore_index=True)\n",
      "[Succeeded / Failed / Skipped / Total] 314 / 152 / 16 / 482:  96%|██████████████████▎| 482/500 [16:49<00:37,  2.10s/it]"
     ]
    },
    {
     "name": "stdout",
     "output_type": "stream",
     "text": [
      "--------------------------------------------- Result 482 ---------------------------------------------\n",
      "[[Enty (99%)]] --> [[Desc (59%)]]\n",
      "\n",
      "What [[color]] does litmus paper turn when it comes into contact with a strong acid ?\n",
      "\n",
      "What [[pigmentation]] does litmus paper turn when it comes into contact with a strong acid ?\n",
      "\n",
      "\n"
     ]
    },
    {
     "name": "stderr",
     "output_type": "stream",
     "text": [
      "C:\\Users\\DELL\\anaconda3\\envs\\ta\\lib\\site-packages\\textattack\\loggers\\csv_logger.py:41: FutureWarning: The frame.append method is deprecated and will be removed from pandas in a future version. Use pandas.concat instead.\n",
      "  self.df = self.df.append(row, ignore_index=True)\n",
      "\r",
      "[Succeeded / Failed / Skipped / Total] 315 / 152 / 16 / 483:  97%|██████████████████▎| 483/500 [16:51<00:35,  2.09s/it]"
     ]
    },
    {
     "name": "stdout",
     "output_type": "stream",
     "text": [
      "--------------------------------------------- Result 483 ---------------------------------------------\n",
      "[[Loc (99%)]] --> [[Hum (99%)]]\n",
      "\n",
      "What [[river]] in the US is known as the Big Muddy ?\n",
      "\n",
      "What [[revere]] in the US is known as the Big Muddy ?\n",
      "\n",
      "\n"
     ]
    },
    {
     "name": "stderr",
     "output_type": "stream",
     "text": [
      "[Succeeded / Failed / Skipped / Total] 315 / 152 / 16 / 483:  97%|██████████████████▍| 484/500 [16:53<00:33,  2.09s/it]C:\\Users\\DELL\\anaconda3\\envs\\ta\\lib\\site-packages\\textattack\\loggers\\csv_logger.py:41: FutureWarning: The frame.append method is deprecated and will be removed from pandas in a future version. Use pandas.concat instead.\n",
      "  self.df = self.df.append(row, ignore_index=True)\n",
      "[Succeeded / Failed / Skipped / Total] 316 / 152 / 16 / 484:  97%|██████████████████▍| 484/500 [16:53<00:33,  2.09s/it]"
     ]
    },
    {
     "name": "stdout",
     "output_type": "stream",
     "text": [
      "--------------------------------------------- Result 484 ---------------------------------------------\n",
      "[[Desc (91%)]] --> [[Enty (86%)]]\n",
      "\n",
      "What is the [[esophagus]] used for ?\n",
      "\n",
      "What is the [[digestive]] used for ?\n",
      "\n",
      "\n"
     ]
    },
    {
     "name": "stderr",
     "output_type": "stream",
     "text": [
      "C:\\Users\\DELL\\anaconda3\\envs\\ta\\lib\\site-packages\\textattack\\loggers\\csv_logger.py:41: FutureWarning: The frame.append method is deprecated and will be removed from pandas in a future version. Use pandas.concat instead.\n",
      "  self.df = self.df.append(row, ignore_index=True)\n",
      "\r",
      "[Succeeded / Failed / Skipped / Total] 317 / 152 / 16 / 485:  97%|██████████████████▍| 485/500 [16:55<00:31,  2.09s/it]"
     ]
    },
    {
     "name": "stdout",
     "output_type": "stream",
     "text": [
      "--------------------------------------------- Result 485 ---------------------------------------------\n",
      "[[Loc (99%)]] --> [[Num (99%)]]\n",
      "\n",
      "[[Where]] is the volcano Mauna Loa ?\n",
      "\n",
      "[[When]] is the volcano Mauna Loa ?\n",
      "\n",
      "\n"
     ]
    },
    {
     "name": "stderr",
     "output_type": "stream",
     "text": [
      "[Succeeded / Failed / Skipped / Total] 317 / 152 / 16 / 485:  97%|██████████████████▍| 486/500 [16:57<00:29,  2.09s/it]C:\\Users\\DELL\\anaconda3\\envs\\ta\\lib\\site-packages\\textattack\\loggers\\csv_logger.py:41: FutureWarning: The frame.append method is deprecated and will be removed from pandas in a future version. Use pandas.concat instead.\n",
      "  self.df = self.df.append(row, ignore_index=True)\n",
      "[Succeeded / Failed / Skipped / Total] 317 / 153 / 16 / 486:  97%|██████████████████▍| 486/500 [16:57<00:29,  2.09s/it]"
     ]
    },
    {
     "name": "stdout",
     "output_type": "stream",
     "text": [
      "--------------------------------------------- Result 486 ---------------------------------------------\n",
      "[[Desc (98%)]] --> [[[FAILED]]]\n",
      "\n",
      "What is diabetes ?\n",
      "\n",
      "\n"
     ]
    },
    {
     "name": "stderr",
     "output_type": "stream",
     "text": [
      "C:\\Users\\DELL\\anaconda3\\envs\\ta\\lib\\site-packages\\textattack\\loggers\\csv_logger.py:41: FutureWarning: The frame.append method is deprecated and will be removed from pandas in a future version. Use pandas.concat instead.\n",
      "  self.df = self.df.append(row, ignore_index=True)\n",
      "\r",
      "[Succeeded / Failed / Skipped / Total] 318 / 153 / 16 / 487:  97%|██████████████████▌| 487/500 [16:58<00:27,  2.09s/it]"
     ]
    },
    {
     "name": "stdout",
     "output_type": "stream",
     "text": [
      "--------------------------------------------- Result 487 ---------------------------------------------\n",
      "[[Num (99%)]] --> [[Hum (98%)]]\n",
      "\n",
      "What [[date]] did Neil Armstrong land on the moon ?\n",
      "\n",
      "What [[personals]] did Neil Armstrong land on the moon ?\n",
      "\n",
      "\n"
     ]
    },
    {
     "name": "stderr",
     "output_type": "stream",
     "text": [
      "[Succeeded / Failed / Skipped / Total] 318 / 153 / 16 / 487:  98%|██████████████████▌| 488/500 [17:01<00:25,  2.09s/it]C:\\Users\\DELL\\anaconda3\\envs\\ta\\lib\\site-packages\\textattack\\loggers\\csv_logger.py:41: FutureWarning: The frame.append method is deprecated and will be removed from pandas in a future version. Use pandas.concat instead.\n",
      "  self.df = self.df.append(row, ignore_index=True)\n",
      "[Succeeded / Failed / Skipped / Total] 319 / 153 / 16 / 488:  98%|██████████████████▌| 488/500 [17:01<00:25,  2.09s/it]"
     ]
    },
    {
     "name": "stdout",
     "output_type": "stream",
     "text": [
      "--------------------------------------------- Result 488 ---------------------------------------------\n",
      "[[Hum (99%)]] --> [[Enty (99%)]]\n",
      "\n",
      "What is the name of Neil Armstrong 's [[wife]] ?\n",
      "\n",
      "What is the name of Neil Armstrong 's [[missus]] ?\n",
      "\n",
      "\n"
     ]
    },
    {
     "name": "stderr",
     "output_type": "stream",
     "text": [
      "C:\\Users\\DELL\\anaconda3\\envs\\ta\\lib\\site-packages\\textattack\\loggers\\csv_logger.py:41: FutureWarning: The frame.append method is deprecated and will be removed from pandas in a future version. Use pandas.concat instead.\n",
      "  self.df = self.df.append(row, ignore_index=True)\n",
      "\r",
      "[Succeeded / Failed / Skipped / Total] 319 / 154 / 16 / 489:  98%|██████████████████▌| 489/500 [17:02<00:22,  2.09s/it]"
     ]
    },
    {
     "name": "stdout",
     "output_type": "stream",
     "text": [
      "--------------------------------------------- Result 489 ---------------------------------------------\n",
      "[[Desc (98%)]] --> [[[FAILED]]]\n",
      "\n",
      "What is phosphorus ?\n",
      "\n",
      "\n"
     ]
    },
    {
     "name": "stderr",
     "output_type": "stream",
     "text": [
      "[Succeeded / Failed / Skipped / Total] 319 / 154 / 16 / 489:  98%|██████████████████▌| 490/500 [17:03<00:20,  2.09s/it]C:\\Users\\DELL\\anaconda3\\envs\\ta\\lib\\site-packages\\textattack\\loggers\\csv_logger.py:41: FutureWarning: The frame.append method is deprecated and will be removed from pandas in a future version. Use pandas.concat instead.\n",
      "  self.df = self.df.append(row, ignore_index=True)\n",
      "[Succeeded / Failed / Skipped / Total] 319 / 155 / 16 / 490:  98%|██████████████████▌| 490/500 [17:03<00:20,  2.09s/it]"
     ]
    },
    {
     "name": "stdout",
     "output_type": "stream",
     "text": [
      "--------------------------------------------- Result 490 ---------------------------------------------\n",
      "[[Desc (98%)]] --> [[[FAILED]]]\n",
      "\n",
      "What is myopia ?\n",
      "\n",
      "\n"
     ]
    },
    {
     "name": "stderr",
     "output_type": "stream",
     "text": [
      "C:\\Users\\DELL\\anaconda3\\envs\\ta\\lib\\site-packages\\textattack\\loggers\\csv_logger.py:41: FutureWarning: The frame.append method is deprecated and will be removed from pandas in a future version. Use pandas.concat instead.\n",
      "  self.df = self.df.append(row, ignore_index=True)\n",
      "\r",
      "[Succeeded / Failed / Skipped / Total] 320 / 155 / 16 / 491:  98%|██████████████████▋| 491/500 [17:03<00:18,  2.09s/it]"
     ]
    },
    {
     "name": "stdout",
     "output_type": "stream",
     "text": [
      "--------------------------------------------- Result 491 ---------------------------------------------\n",
      "[[Num (99%)]] --> [[Loc (99%)]]\n",
      "\n",
      "[[When]] is the official first day of summer ?\n",
      "\n",
      "[[Where]] is the official first day of summer ?\n",
      "\n",
      "\n"
     ]
    },
    {
     "name": "stderr",
     "output_type": "stream",
     "text": [
      "[Succeeded / Failed / Skipped / Total] 320 / 155 / 16 / 491:  98%|██████████████████▋| 492/500 [17:04<00:16,  2.08s/it]C:\\Users\\DELL\\anaconda3\\envs\\ta\\lib\\site-packages\\textattack\\loggers\\csv_logger.py:41: FutureWarning: The frame.append method is deprecated and will be removed from pandas in a future version. Use pandas.concat instead.\n",
      "  self.df = self.df.append(row, ignore_index=True)\n",
      "[Succeeded / Failed / Skipped / Total] 320 / 156 / 16 / 492:  98%|██████████████████▋| 492/500 [17:04<00:16,  2.08s/it]"
     ]
    },
    {
     "name": "stdout",
     "output_type": "stream",
     "text": [
      "--------------------------------------------- Result 492 ---------------------------------------------\n",
      "[[Desc (98%)]] --> [[[FAILED]]]\n",
      "\n",
      "What is bio-diversity ?\n",
      "\n",
      "\n"
     ]
    },
    {
     "name": "stderr",
     "output_type": "stream",
     "text": [
      "C:\\Users\\DELL\\anaconda3\\envs\\ta\\lib\\site-packages\\textattack\\loggers\\csv_logger.py:41: FutureWarning: The frame.append method is deprecated and will be removed from pandas in a future version. Use pandas.concat instead.\n",
      "  self.df = self.df.append(row, ignore_index=True)\n",
      "\r",
      "[Succeeded / Failed / Skipped / Total] 321 / 156 / 16 / 493:  99%|██████████████████▋| 493/500 [17:05<00:14,  2.08s/it]"
     ]
    },
    {
     "name": "stdout",
     "output_type": "stream",
     "text": [
      "--------------------------------------------- Result 493 ---------------------------------------------\n",
      "[[Num (99%)]] --> [[Loc (99%)]]\n",
      "\n",
      "[[When]] did Idaho become a state ?\n",
      "\n",
      "[[Where]] did Idaho become a state ?\n",
      "\n",
      "\n"
     ]
    },
    {
     "name": "stderr",
     "output_type": "stream",
     "text": [
      "[Succeeded / Failed / Skipped / Total] 321 / 156 / 16 / 493:  99%|██████████████████▊| 494/500 [17:06<00:12,  2.08s/it]C:\\Users\\DELL\\anaconda3\\envs\\ta\\lib\\site-packages\\textattack\\loggers\\csv_logger.py:41: FutureWarning: The frame.append method is deprecated and will be removed from pandas in a future version. Use pandas.concat instead.\n",
      "  self.df = self.df.append(row, ignore_index=True)\n",
      "[Succeeded / Failed / Skipped / Total] 322 / 156 / 16 / 494:  99%|██████████████████▊| 494/500 [17:06<00:12,  2.08s/it]"
     ]
    },
    {
     "name": "stdout",
     "output_type": "stream",
     "text": [
      "--------------------------------------------- Result 494 ---------------------------------------------\n",
      "[[Enty (99%)]] --> [[Num (99%)]]\n",
      "\n",
      "What is the [[name]] of Roy Roger 's dog ?\n",
      "\n",
      "What is the [[numbers]] of Roy Roger 's dog ?\n",
      "\n",
      "\n"
     ]
    },
    {
     "name": "stderr",
     "output_type": "stream",
     "text": [
      "C:\\Users\\DELL\\anaconda3\\envs\\ta\\lib\\site-packages\\textattack\\loggers\\csv_logger.py:41: FutureWarning: The frame.append method is deprecated and will be removed from pandas in a future version. Use pandas.concat instead.\n",
      "  self.df = self.df.append(row, ignore_index=True)\n",
      "\r",
      "[Succeeded / Failed / Skipped / Total] 323 / 156 / 16 / 495:  99%|██████████████████▊| 495/500 [17:10<00:10,  2.08s/it]"
     ]
    },
    {
     "name": "stdout",
     "output_type": "stream",
     "text": [
      "--------------------------------------------- Result 495 ---------------------------------------------\n",
      "[[Desc (97%)]] --> [[Num (62%)]]\n",
      "\n",
      "What is [[relative]] [[humidity]] ?\n",
      "\n",
      "What is [[thereto]] [[rainfall]] ?\n",
      "\n",
      "\n"
     ]
    },
    {
     "name": "stderr",
     "output_type": "stream",
     "text": [
      "[Succeeded / Failed / Skipped / Total] 323 / 156 / 16 / 495:  99%|██████████████████▊| 496/500 [17:12<00:08,  2.08s/it]C:\\Users\\DELL\\anaconda3\\envs\\ta\\lib\\site-packages\\textattack\\loggers\\csv_logger.py:41: FutureWarning: The frame.append method is deprecated and will be removed from pandas in a future version. Use pandas.concat instead.\n",
      "  self.df = self.df.append(row, ignore_index=True)\n",
      "[Succeeded / Failed / Skipped / Total] 324 / 156 / 16 / 496:  99%|██████████████████▊| 496/500 [17:12<00:08,  2.08s/it]"
     ]
    },
    {
     "name": "stdout",
     "output_type": "stream",
     "text": [
      "--------------------------------------------- Result 496 ---------------------------------------------\n",
      "[[Loc (99%)]] --> [[Num (99%)]]\n",
      "\n",
      "[[Where]] is the Orinoco River ?\n",
      "\n",
      "[[When]] is the Orinoco River ?\n",
      "\n",
      "\n"
     ]
    },
    {
     "name": "stderr",
     "output_type": "stream",
     "text": [
      "C:\\Users\\DELL\\anaconda3\\envs\\ta\\lib\\site-packages\\textattack\\loggers\\csv_logger.py:41: FutureWarning: The frame.append method is deprecated and will be removed from pandas in a future version. Use pandas.concat instead.\n",
      "  self.df = self.df.append(row, ignore_index=True)\n",
      "\r",
      "[Succeeded / Failed / Skipped / Total] 324 / 157 / 16 / 497:  99%|██████████████████▉| 497/500 [17:13<00:06,  2.08s/it]"
     ]
    },
    {
     "name": "stdout",
     "output_type": "stream",
     "text": [
      "--------------------------------------------- Result 497 ---------------------------------------------\n",
      "[[Desc (98%)]] --> [[[FAILED]]]\n",
      "\n",
      "What is cryogenics ?\n",
      "\n",
      "\n"
     ]
    },
    {
     "name": "stderr",
     "output_type": "stream",
     "text": [
      "[Succeeded / Failed / Skipped / Total] 324 / 157 / 16 / 497: 100%|██████████████████▉| 498/500 [17:15<00:04,  2.08s/it]C:\\Users\\DELL\\anaconda3\\envs\\ta\\lib\\site-packages\\textattack\\loggers\\csv_logger.py:41: FutureWarning: The frame.append method is deprecated and will be removed from pandas in a future version. Use pandas.concat instead.\n",
      "  self.df = self.df.append(row, ignore_index=True)\n",
      "[Succeeded / Failed / Skipped / Total] 325 / 157 / 16 / 498: 100%|██████████████████▉| 498/500 [17:15<00:04,  2.08s/it]"
     ]
    },
    {
     "name": "stdout",
     "output_type": "stream",
     "text": [
      "--------------------------------------------- Result 498 ---------------------------------------------\n",
      "[[Enty (99%)]] --> [[Hum (99%)]]\n",
      "\n",
      "What was FDR 's [[dog]] 's name ?\n",
      "\n",
      "What was FDR 's [[stacy]] 's name ?\n",
      "\n",
      "\n"
     ]
    },
    {
     "name": "stderr",
     "output_type": "stream",
     "text": [
      "C:\\Users\\DELL\\anaconda3\\envs\\ta\\lib\\site-packages\\textattack\\loggers\\csv_logger.py:41: FutureWarning: The frame.append method is deprecated and will be removed from pandas in a future version. Use pandas.concat instead.\n",
      "  self.df = self.df.append(row, ignore_index=True)\n",
      "\r",
      "[Succeeded / Failed / Skipped / Total] 326 / 157 / 16 / 499: 100%|██████████████████▉| 499/500 [17:17<00:02,  2.08s/it]"
     ]
    },
    {
     "name": "stdout",
     "output_type": "stream",
     "text": [
      "--------------------------------------------- Result 499 ---------------------------------------------\n",
      "[[Enty (98%)]] --> [[Loc (98%)]]\n",
      "\n",
      "What is New York 's state [[bird]] ?\n",
      "\n",
      "What is New York 's state [[corral]] ?\n",
      "\n",
      "\n"
     ]
    },
    {
     "name": "stderr",
     "output_type": "stream",
     "text": [
      "[Succeeded / Failed / Skipped / Total] 326 / 157 / 16 / 499: 100%|███████████████████| 500/500 [17:19<00:00,  2.08s/it]C:\\Users\\DELL\\anaconda3\\envs\\ta\\lib\\site-packages\\textattack\\loggers\\csv_logger.py:41: FutureWarning: The frame.append method is deprecated and will be removed from pandas in a future version. Use pandas.concat instead.\n",
      "  self.df = self.df.append(row, ignore_index=True)\n",
      "[Succeeded / Failed / Skipped / Total] 327 / 157 / 16 / 500: 100%|███████████████████| 500/500 [17:19<00:00,  2.08s/it]"
     ]
    },
    {
     "name": "stdout",
     "output_type": "stream",
     "text": [
      "--------------------------------------------- Result 500 ---------------------------------------------\n",
      "[[Loc (99%)]] --> [[Num (99%)]]\n",
      "\n",
      "[[Where]] is the Holland Tunnel ?\n",
      "\n",
      "[[When]] is the Holland Tunnel ?\n",
      "\n",
      "\n",
      "\n",
      "+-------------------------------+--------+\n",
      "| Attack Results                |        |\n",
      "+-------------------------------+--------+\n",
      "| Number of successful attacks: | 327    |\n",
      "| Number of failed attacks:     | 157    |\n",
      "| Number of skipped attacks:    | 16     |\n",
      "| Original accuracy:            | 96.8%  |\n",
      "| Accuracy under attack:        | 31.4%  |\n",
      "| Attack success rate:          | 67.56% |\n",
      "| Average perturbed word %:     | 17.75% |\n",
      "| Average num. words per input: | 6.5    |\n",
      "| Avg num queries:              | 37.76  |\n",
      "+-------------------------------+--------+\n"
     ]
    },
    {
     "name": "stderr",
     "output_type": "stream",
     "text": [
      "\n"
     ]
    }
   ],
   "source": [
    "from tqdm import tqdm # tqdm provides us a nice progress bar.\n",
    "from textattack.loggers import CSVLogger # tracks a dataframe for us.\n",
    "from textattack.attack_results import SuccessfulAttackResult\n",
    "from textattack import Attacker\n",
    "from textattack import AttackArgs\n",
    "from textattack.datasets import Dataset\n",
    "\n",
    "attack_args = AttackArgs(num_examples=-1, random_seed = 765,\n",
    "                         log_to_csv = r'C:\\Users\\DELL\\Text_Augmentation\\trec_dataset_3runs\\results\\CheckList\\text_fooler_attack_results\\run3\\results.csv', \n",
    "                         csv_coloring_style = 'file')\n",
    "\n",
    "attacker = Attacker(attack, dataset, attack_args)\n",
    "\n",
    "attack_results = attacker.attack_dataset()\n"
   ]
  },
  {
   "cell_type": "code",
   "execution_count": 26,
   "id": "da39bfc1",
   "metadata": {
    "scrolled": true
   },
   "outputs": [
    {
     "name": "stderr",
     "output_type": "stream",
     "text": [
      "textattack: Logging to CSV at path results.csv\n",
      "C:\\Users\\DELL\\anaconda3\\envs\\ta\\lib\\site-packages\\textattack\\loggers\\csv_logger.py:41: FutureWarning: The frame.append method is deprecated and will be removed from pandas in a future version. Use pandas.concat instead.\n",
      "  self.df = self.df.append(row, ignore_index=True)\n",
      "C:\\Users\\DELL\\anaconda3\\envs\\ta\\lib\\site-packages\\textattack\\loggers\\csv_logger.py:41: FutureWarning: The frame.append method is deprecated and will be removed from pandas in a future version. Use pandas.concat instead.\n",
      "  self.df = self.df.append(row, ignore_index=True)\n",
      "C:\\Users\\DELL\\anaconda3\\envs\\ta\\lib\\site-packages\\textattack\\loggers\\csv_logger.py:41: FutureWarning: The frame.append method is deprecated and will be removed from pandas in a future version. Use pandas.concat instead.\n",
      "  self.df = self.df.append(row, ignore_index=True)\n",
      "C:\\Users\\DELL\\anaconda3\\envs\\ta\\lib\\site-packages\\textattack\\loggers\\csv_logger.py:41: FutureWarning: The frame.append method is deprecated and will be removed from pandas in a future version. Use pandas.concat instead.\n",
      "  self.df = self.df.append(row, ignore_index=True)\n",
      "C:\\Users\\DELL\\anaconda3\\envs\\ta\\lib\\site-packages\\textattack\\loggers\\csv_logger.py:41: FutureWarning: The frame.append method is deprecated and will be removed from pandas in a future version. Use pandas.concat instead.\n",
      "  self.df = self.df.append(row, ignore_index=True)\n",
      "C:\\Users\\DELL\\anaconda3\\envs\\ta\\lib\\site-packages\\textattack\\loggers\\csv_logger.py:41: FutureWarning: The frame.append method is deprecated and will be removed from pandas in a future version. Use pandas.concat instead.\n",
      "  self.df = self.df.append(row, ignore_index=True)\n",
      "C:\\Users\\DELL\\anaconda3\\envs\\ta\\lib\\site-packages\\textattack\\loggers\\csv_logger.py:41: FutureWarning: The frame.append method is deprecated and will be removed from pandas in a future version. Use pandas.concat instead.\n",
      "  self.df = self.df.append(row, ignore_index=True)\n",
      "C:\\Users\\DELL\\anaconda3\\envs\\ta\\lib\\site-packages\\textattack\\loggers\\csv_logger.py:41: FutureWarning: The frame.append method is deprecated and will be removed from pandas in a future version. Use pandas.concat instead.\n",
      "  self.df = self.df.append(row, ignore_index=True)\n",
      "C:\\Users\\DELL\\anaconda3\\envs\\ta\\lib\\site-packages\\textattack\\loggers\\csv_logger.py:41: FutureWarning: The frame.append method is deprecated and will be removed from pandas in a future version. Use pandas.concat instead.\n",
      "  self.df = self.df.append(row, ignore_index=True)\n",
      "C:\\Users\\DELL\\anaconda3\\envs\\ta\\lib\\site-packages\\textattack\\loggers\\csv_logger.py:41: FutureWarning: The frame.append method is deprecated and will be removed from pandas in a future version. Use pandas.concat instead.\n",
      "  self.df = self.df.append(row, ignore_index=True)\n",
      "C:\\Users\\DELL\\anaconda3\\envs\\ta\\lib\\site-packages\\textattack\\loggers\\csv_logger.py:41: FutureWarning: The frame.append method is deprecated and will be removed from pandas in a future version. Use pandas.concat instead.\n",
      "  self.df = self.df.append(row, ignore_index=True)\n",
      "C:\\Users\\DELL\\anaconda3\\envs\\ta\\lib\\site-packages\\textattack\\loggers\\csv_logger.py:41: FutureWarning: The frame.append method is deprecated and will be removed from pandas in a future version. Use pandas.concat instead.\n",
      "  self.df = self.df.append(row, ignore_index=True)\n",
      "C:\\Users\\DELL\\anaconda3\\envs\\ta\\lib\\site-packages\\textattack\\loggers\\csv_logger.py:41: FutureWarning: The frame.append method is deprecated and will be removed from pandas in a future version. Use pandas.concat instead.\n",
      "  self.df = self.df.append(row, ignore_index=True)\n",
      "C:\\Users\\DELL\\anaconda3\\envs\\ta\\lib\\site-packages\\textattack\\loggers\\csv_logger.py:41: FutureWarning: The frame.append method is deprecated and will be removed from pandas in a future version. Use pandas.concat instead.\n",
      "  self.df = self.df.append(row, ignore_index=True)\n",
      "C:\\Users\\DELL\\anaconda3\\envs\\ta\\lib\\site-packages\\textattack\\loggers\\csv_logger.py:41: FutureWarning: The frame.append method is deprecated and will be removed from pandas in a future version. Use pandas.concat instead.\n",
      "  self.df = self.df.append(row, ignore_index=True)\n",
      "C:\\Users\\DELL\\anaconda3\\envs\\ta\\lib\\site-packages\\textattack\\loggers\\csv_logger.py:41: FutureWarning: The frame.append method is deprecated and will be removed from pandas in a future version. Use pandas.concat instead.\n",
      "  self.df = self.df.append(row, ignore_index=True)\n",
      "C:\\Users\\DELL\\anaconda3\\envs\\ta\\lib\\site-packages\\textattack\\loggers\\csv_logger.py:41: FutureWarning: The frame.append method is deprecated and will be removed from pandas in a future version. Use pandas.concat instead.\n",
      "  self.df = self.df.append(row, ignore_index=True)\n",
      "C:\\Users\\DELL\\anaconda3\\envs\\ta\\lib\\site-packages\\textattack\\loggers\\csv_logger.py:41: FutureWarning: The frame.append method is deprecated and will be removed from pandas in a future version. Use pandas.concat instead.\n",
      "  self.df = self.df.append(row, ignore_index=True)\n",
      "C:\\Users\\DELL\\anaconda3\\envs\\ta\\lib\\site-packages\\textattack\\loggers\\csv_logger.py:41: FutureWarning: The frame.append method is deprecated and will be removed from pandas in a future version. Use pandas.concat instead.\n",
      "  self.df = self.df.append(row, ignore_index=True)\n",
      "C:\\Users\\DELL\\anaconda3\\envs\\ta\\lib\\site-packages\\textattack\\loggers\\csv_logger.py:41: FutureWarning: The frame.append method is deprecated and will be removed from pandas in a future version. Use pandas.concat instead.\n",
      "  self.df = self.df.append(row, ignore_index=True)\n",
      "C:\\Users\\DELL\\anaconda3\\envs\\ta\\lib\\site-packages\\textattack\\loggers\\csv_logger.py:41: FutureWarning: The frame.append method is deprecated and will be removed from pandas in a future version. Use pandas.concat instead.\n",
      "  self.df = self.df.append(row, ignore_index=True)\n",
      "C:\\Users\\DELL\\anaconda3\\envs\\ta\\lib\\site-packages\\textattack\\loggers\\csv_logger.py:41: FutureWarning: The frame.append method is deprecated and will be removed from pandas in a future version. Use pandas.concat instead.\n",
      "  self.df = self.df.append(row, ignore_index=True)\n",
      "C:\\Users\\DELL\\anaconda3\\envs\\ta\\lib\\site-packages\\textattack\\loggers\\csv_logger.py:41: FutureWarning: The frame.append method is deprecated and will be removed from pandas in a future version. Use pandas.concat instead.\n",
      "  self.df = self.df.append(row, ignore_index=True)\n",
      "C:\\Users\\DELL\\anaconda3\\envs\\ta\\lib\\site-packages\\textattack\\loggers\\csv_logger.py:41: FutureWarning: The frame.append method is deprecated and will be removed from pandas in a future version. Use pandas.concat instead.\n",
      "  self.df = self.df.append(row, ignore_index=True)\n",
      "C:\\Users\\DELL\\anaconda3\\envs\\ta\\lib\\site-packages\\textattack\\loggers\\csv_logger.py:41: FutureWarning: The frame.append method is deprecated and will be removed from pandas in a future version. Use pandas.concat instead.\n",
      "  self.df = self.df.append(row, ignore_index=True)\n",
      "C:\\Users\\DELL\\anaconda3\\envs\\ta\\lib\\site-packages\\textattack\\loggers\\csv_logger.py:41: FutureWarning: The frame.append method is deprecated and will be removed from pandas in a future version. Use pandas.concat instead.\n",
      "  self.df = self.df.append(row, ignore_index=True)\n",
      "C:\\Users\\DELL\\anaconda3\\envs\\ta\\lib\\site-packages\\textattack\\loggers\\csv_logger.py:41: FutureWarning: The frame.append method is deprecated and will be removed from pandas in a future version. Use pandas.concat instead.\n",
      "  self.df = self.df.append(row, ignore_index=True)\n",
      "C:\\Users\\DELL\\anaconda3\\envs\\ta\\lib\\site-packages\\textattack\\loggers\\csv_logger.py:41: FutureWarning: The frame.append method is deprecated and will be removed from pandas in a future version. Use pandas.concat instead.\n",
      "  self.df = self.df.append(row, ignore_index=True)\n",
      "C:\\Users\\DELL\\anaconda3\\envs\\ta\\lib\\site-packages\\textattack\\loggers\\csv_logger.py:41: FutureWarning: The frame.append method is deprecated and will be removed from pandas in a future version. Use pandas.concat instead.\n",
      "  self.df = self.df.append(row, ignore_index=True)\n",
      "C:\\Users\\DELL\\anaconda3\\envs\\ta\\lib\\site-packages\\textattack\\loggers\\csv_logger.py:41: FutureWarning: The frame.append method is deprecated and will be removed from pandas in a future version. Use pandas.concat instead.\n",
      "  self.df = self.df.append(row, ignore_index=True)\n",
      "C:\\Users\\DELL\\anaconda3\\envs\\ta\\lib\\site-packages\\textattack\\loggers\\csv_logger.py:41: FutureWarning: The frame.append method is deprecated and will be removed from pandas in a future version. Use pandas.concat instead.\n",
      "  self.df = self.df.append(row, ignore_index=True)\n",
      "C:\\Users\\DELL\\anaconda3\\envs\\ta\\lib\\site-packages\\textattack\\loggers\\csv_logger.py:41: FutureWarning: The frame.append method is deprecated and will be removed from pandas in a future version. Use pandas.concat instead.\n",
      "  self.df = self.df.append(row, ignore_index=True)\n",
      "C:\\Users\\DELL\\anaconda3\\envs\\ta\\lib\\site-packages\\textattack\\loggers\\csv_logger.py:41: FutureWarning: The frame.append method is deprecated and will be removed from pandas in a future version. Use pandas.concat instead.\n",
      "  self.df = self.df.append(row, ignore_index=True)\n",
      "C:\\Users\\DELL\\anaconda3\\envs\\ta\\lib\\site-packages\\textattack\\loggers\\csv_logger.py:41: FutureWarning: The frame.append method is deprecated and will be removed from pandas in a future version. Use pandas.concat instead.\n",
      "  self.df = self.df.append(row, ignore_index=True)\n",
      "C:\\Users\\DELL\\anaconda3\\envs\\ta\\lib\\site-packages\\textattack\\loggers\\csv_logger.py:41: FutureWarning: The frame.append method is deprecated and will be removed from pandas in a future version. Use pandas.concat instead.\n",
      "  self.df = self.df.append(row, ignore_index=True)\n",
      "C:\\Users\\DELL\\anaconda3\\envs\\ta\\lib\\site-packages\\textattack\\loggers\\csv_logger.py:41: FutureWarning: The frame.append method is deprecated and will be removed from pandas in a future version. Use pandas.concat instead.\n",
      "  self.df = self.df.append(row, ignore_index=True)\n",
      "C:\\Users\\DELL\\anaconda3\\envs\\ta\\lib\\site-packages\\textattack\\loggers\\csv_logger.py:41: FutureWarning: The frame.append method is deprecated and will be removed from pandas in a future version. Use pandas.concat instead.\n",
      "  self.df = self.df.append(row, ignore_index=True)\n",
      "C:\\Users\\DELL\\anaconda3\\envs\\ta\\lib\\site-packages\\textattack\\loggers\\csv_logger.py:41: FutureWarning: The frame.append method is deprecated and will be removed from pandas in a future version. Use pandas.concat instead.\n",
      "  self.df = self.df.append(row, ignore_index=True)\n",
      "C:\\Users\\DELL\\anaconda3\\envs\\ta\\lib\\site-packages\\textattack\\loggers\\csv_logger.py:41: FutureWarning: The frame.append method is deprecated and will be removed from pandas in a future version. Use pandas.concat instead.\n",
      "  self.df = self.df.append(row, ignore_index=True)\n"
     ]
    },
    {
     "name": "stderr",
     "output_type": "stream",
     "text": [
      "C:\\Users\\DELL\\anaconda3\\envs\\ta\\lib\\site-packages\\textattack\\loggers\\csv_logger.py:41: FutureWarning: The frame.append method is deprecated and will be removed from pandas in a future version. Use pandas.concat instead.\n",
      "  self.df = self.df.append(row, ignore_index=True)\n",
      "C:\\Users\\DELL\\anaconda3\\envs\\ta\\lib\\site-packages\\textattack\\loggers\\csv_logger.py:41: FutureWarning: The frame.append method is deprecated and will be removed from pandas in a future version. Use pandas.concat instead.\n",
      "  self.df = self.df.append(row, ignore_index=True)\n",
      "C:\\Users\\DELL\\anaconda3\\envs\\ta\\lib\\site-packages\\textattack\\loggers\\csv_logger.py:41: FutureWarning: The frame.append method is deprecated and will be removed from pandas in a future version. Use pandas.concat instead.\n",
      "  self.df = self.df.append(row, ignore_index=True)\n",
      "C:\\Users\\DELL\\anaconda3\\envs\\ta\\lib\\site-packages\\textattack\\loggers\\csv_logger.py:41: FutureWarning: The frame.append method is deprecated and will be removed from pandas in a future version. Use pandas.concat instead.\n",
      "  self.df = self.df.append(row, ignore_index=True)\n",
      "C:\\Users\\DELL\\anaconda3\\envs\\ta\\lib\\site-packages\\textattack\\loggers\\csv_logger.py:41: FutureWarning: The frame.append method is deprecated and will be removed from pandas in a future version. Use pandas.concat instead.\n",
      "  self.df = self.df.append(row, ignore_index=True)\n",
      "C:\\Users\\DELL\\anaconda3\\envs\\ta\\lib\\site-packages\\textattack\\loggers\\csv_logger.py:41: FutureWarning: The frame.append method is deprecated and will be removed from pandas in a future version. Use pandas.concat instead.\n",
      "  self.df = self.df.append(row, ignore_index=True)\n",
      "C:\\Users\\DELL\\anaconda3\\envs\\ta\\lib\\site-packages\\textattack\\loggers\\csv_logger.py:41: FutureWarning: The frame.append method is deprecated and will be removed from pandas in a future version. Use pandas.concat instead.\n",
      "  self.df = self.df.append(row, ignore_index=True)\n",
      "C:\\Users\\DELL\\anaconda3\\envs\\ta\\lib\\site-packages\\textattack\\loggers\\csv_logger.py:41: FutureWarning: The frame.append method is deprecated and will be removed from pandas in a future version. Use pandas.concat instead.\n",
      "  self.df = self.df.append(row, ignore_index=True)\n",
      "C:\\Users\\DELL\\anaconda3\\envs\\ta\\lib\\site-packages\\textattack\\loggers\\csv_logger.py:41: FutureWarning: The frame.append method is deprecated and will be removed from pandas in a future version. Use pandas.concat instead.\n",
      "  self.df = self.df.append(row, ignore_index=True)\n",
      "C:\\Users\\DELL\\anaconda3\\envs\\ta\\lib\\site-packages\\textattack\\loggers\\csv_logger.py:41: FutureWarning: The frame.append method is deprecated and will be removed from pandas in a future version. Use pandas.concat instead.\n",
      "  self.df = self.df.append(row, ignore_index=True)\n",
      "C:\\Users\\DELL\\anaconda3\\envs\\ta\\lib\\site-packages\\textattack\\loggers\\csv_logger.py:41: FutureWarning: The frame.append method is deprecated and will be removed from pandas in a future version. Use pandas.concat instead.\n",
      "  self.df = self.df.append(row, ignore_index=True)\n",
      "C:\\Users\\DELL\\anaconda3\\envs\\ta\\lib\\site-packages\\textattack\\loggers\\csv_logger.py:41: FutureWarning: The frame.append method is deprecated and will be removed from pandas in a future version. Use pandas.concat instead.\n",
      "  self.df = self.df.append(row, ignore_index=True)\n",
      "C:\\Users\\DELL\\anaconda3\\envs\\ta\\lib\\site-packages\\textattack\\loggers\\csv_logger.py:41: FutureWarning: The frame.append method is deprecated and will be removed from pandas in a future version. Use pandas.concat instead.\n",
      "  self.df = self.df.append(row, ignore_index=True)\n",
      "C:\\Users\\DELL\\anaconda3\\envs\\ta\\lib\\site-packages\\textattack\\loggers\\csv_logger.py:41: FutureWarning: The frame.append method is deprecated and will be removed from pandas in a future version. Use pandas.concat instead.\n",
      "  self.df = self.df.append(row, ignore_index=True)\n",
      "C:\\Users\\DELL\\anaconda3\\envs\\ta\\lib\\site-packages\\textattack\\loggers\\csv_logger.py:41: FutureWarning: The frame.append method is deprecated and will be removed from pandas in a future version. Use pandas.concat instead.\n",
      "  self.df = self.df.append(row, ignore_index=True)\n",
      "C:\\Users\\DELL\\anaconda3\\envs\\ta\\lib\\site-packages\\textattack\\loggers\\csv_logger.py:41: FutureWarning: The frame.append method is deprecated and will be removed from pandas in a future version. Use pandas.concat instead.\n",
      "  self.df = self.df.append(row, ignore_index=True)\n",
      "C:\\Users\\DELL\\anaconda3\\envs\\ta\\lib\\site-packages\\textattack\\loggers\\csv_logger.py:41: FutureWarning: The frame.append method is deprecated and will be removed from pandas in a future version. Use pandas.concat instead.\n",
      "  self.df = self.df.append(row, ignore_index=True)\n",
      "C:\\Users\\DELL\\anaconda3\\envs\\ta\\lib\\site-packages\\textattack\\loggers\\csv_logger.py:41: FutureWarning: The frame.append method is deprecated and will be removed from pandas in a future version. Use pandas.concat instead.\n",
      "  self.df = self.df.append(row, ignore_index=True)\n",
      "C:\\Users\\DELL\\anaconda3\\envs\\ta\\lib\\site-packages\\textattack\\loggers\\csv_logger.py:41: FutureWarning: The frame.append method is deprecated and will be removed from pandas in a future version. Use pandas.concat instead.\n",
      "  self.df = self.df.append(row, ignore_index=True)\n",
      "C:\\Users\\DELL\\anaconda3\\envs\\ta\\lib\\site-packages\\textattack\\loggers\\csv_logger.py:41: FutureWarning: The frame.append method is deprecated and will be removed from pandas in a future version. Use pandas.concat instead.\n",
      "  self.df = self.df.append(row, ignore_index=True)\n",
      "C:\\Users\\DELL\\anaconda3\\envs\\ta\\lib\\site-packages\\textattack\\loggers\\csv_logger.py:41: FutureWarning: The frame.append method is deprecated and will be removed from pandas in a future version. Use pandas.concat instead.\n",
      "  self.df = self.df.append(row, ignore_index=True)\n",
      "C:\\Users\\DELL\\anaconda3\\envs\\ta\\lib\\site-packages\\textattack\\loggers\\csv_logger.py:41: FutureWarning: The frame.append method is deprecated and will be removed from pandas in a future version. Use pandas.concat instead.\n",
      "  self.df = self.df.append(row, ignore_index=True)\n",
      "C:\\Users\\DELL\\anaconda3\\envs\\ta\\lib\\site-packages\\textattack\\loggers\\csv_logger.py:41: FutureWarning: The frame.append method is deprecated and will be removed from pandas in a future version. Use pandas.concat instead.\n",
      "  self.df = self.df.append(row, ignore_index=True)\n",
      "C:\\Users\\DELL\\anaconda3\\envs\\ta\\lib\\site-packages\\textattack\\loggers\\csv_logger.py:41: FutureWarning: The frame.append method is deprecated and will be removed from pandas in a future version. Use pandas.concat instead.\n",
      "  self.df = self.df.append(row, ignore_index=True)\n",
      "C:\\Users\\DELL\\anaconda3\\envs\\ta\\lib\\site-packages\\textattack\\loggers\\csv_logger.py:41: FutureWarning: The frame.append method is deprecated and will be removed from pandas in a future version. Use pandas.concat instead.\n",
      "  self.df = self.df.append(row, ignore_index=True)\n",
      "C:\\Users\\DELL\\anaconda3\\envs\\ta\\lib\\site-packages\\textattack\\loggers\\csv_logger.py:41: FutureWarning: The frame.append method is deprecated and will be removed from pandas in a future version. Use pandas.concat instead.\n",
      "  self.df = self.df.append(row, ignore_index=True)\n",
      "C:\\Users\\DELL\\anaconda3\\envs\\ta\\lib\\site-packages\\textattack\\loggers\\csv_logger.py:41: FutureWarning: The frame.append method is deprecated and will be removed from pandas in a future version. Use pandas.concat instead.\n",
      "  self.df = self.df.append(row, ignore_index=True)\n",
      "C:\\Users\\DELL\\anaconda3\\envs\\ta\\lib\\site-packages\\textattack\\loggers\\csv_logger.py:41: FutureWarning: The frame.append method is deprecated and will be removed from pandas in a future version. Use pandas.concat instead.\n",
      "  self.df = self.df.append(row, ignore_index=True)\n",
      "C:\\Users\\DELL\\anaconda3\\envs\\ta\\lib\\site-packages\\textattack\\loggers\\csv_logger.py:41: FutureWarning: The frame.append method is deprecated and will be removed from pandas in a future version. Use pandas.concat instead.\n",
      "  self.df = self.df.append(row, ignore_index=True)\n",
      "C:\\Users\\DELL\\anaconda3\\envs\\ta\\lib\\site-packages\\textattack\\loggers\\csv_logger.py:41: FutureWarning: The frame.append method is deprecated and will be removed from pandas in a future version. Use pandas.concat instead.\n",
      "  self.df = self.df.append(row, ignore_index=True)\n",
      "C:\\Users\\DELL\\anaconda3\\envs\\ta\\lib\\site-packages\\textattack\\loggers\\csv_logger.py:41: FutureWarning: The frame.append method is deprecated and will be removed from pandas in a future version. Use pandas.concat instead.\n",
      "  self.df = self.df.append(row, ignore_index=True)\n",
      "C:\\Users\\DELL\\anaconda3\\envs\\ta\\lib\\site-packages\\textattack\\loggers\\csv_logger.py:41: FutureWarning: The frame.append method is deprecated and will be removed from pandas in a future version. Use pandas.concat instead.\n",
      "  self.df = self.df.append(row, ignore_index=True)\n",
      "C:\\Users\\DELL\\anaconda3\\envs\\ta\\lib\\site-packages\\textattack\\loggers\\csv_logger.py:41: FutureWarning: The frame.append method is deprecated and will be removed from pandas in a future version. Use pandas.concat instead.\n",
      "  self.df = self.df.append(row, ignore_index=True)\n",
      "C:\\Users\\DELL\\anaconda3\\envs\\ta\\lib\\site-packages\\textattack\\loggers\\csv_logger.py:41: FutureWarning: The frame.append method is deprecated and will be removed from pandas in a future version. Use pandas.concat instead.\n",
      "  self.df = self.df.append(row, ignore_index=True)\n",
      "C:\\Users\\DELL\\anaconda3\\envs\\ta\\lib\\site-packages\\textattack\\loggers\\csv_logger.py:41: FutureWarning: The frame.append method is deprecated and will be removed from pandas in a future version. Use pandas.concat instead.\n",
      "  self.df = self.df.append(row, ignore_index=True)\n",
      "C:\\Users\\DELL\\anaconda3\\envs\\ta\\lib\\site-packages\\textattack\\loggers\\csv_logger.py:41: FutureWarning: The frame.append method is deprecated and will be removed from pandas in a future version. Use pandas.concat instead.\n",
      "  self.df = self.df.append(row, ignore_index=True)\n",
      "C:\\Users\\DELL\\anaconda3\\envs\\ta\\lib\\site-packages\\textattack\\loggers\\csv_logger.py:41: FutureWarning: The frame.append method is deprecated and will be removed from pandas in a future version. Use pandas.concat instead.\n",
      "  self.df = self.df.append(row, ignore_index=True)\n",
      "C:\\Users\\DELL\\anaconda3\\envs\\ta\\lib\\site-packages\\textattack\\loggers\\csv_logger.py:41: FutureWarning: The frame.append method is deprecated and will be removed from pandas in a future version. Use pandas.concat instead.\n",
      "  self.df = self.df.append(row, ignore_index=True)\n",
      "C:\\Users\\DELL\\anaconda3\\envs\\ta\\lib\\site-packages\\textattack\\loggers\\csv_logger.py:41: FutureWarning: The frame.append method is deprecated and will be removed from pandas in a future version. Use pandas.concat instead.\n",
      "  self.df = self.df.append(row, ignore_index=True)\n",
      "C:\\Users\\DELL\\anaconda3\\envs\\ta\\lib\\site-packages\\textattack\\loggers\\csv_logger.py:41: FutureWarning: The frame.append method is deprecated and will be removed from pandas in a future version. Use pandas.concat instead.\n",
      "  self.df = self.df.append(row, ignore_index=True)\n",
      "C:\\Users\\DELL\\anaconda3\\envs\\ta\\lib\\site-packages\\textattack\\loggers\\csv_logger.py:41: FutureWarning: The frame.append method is deprecated and will be removed from pandas in a future version. Use pandas.concat instead.\n",
      "  self.df = self.df.append(row, ignore_index=True)\n",
      "C:\\Users\\DELL\\anaconda3\\envs\\ta\\lib\\site-packages\\textattack\\loggers\\csv_logger.py:41: FutureWarning: The frame.append method is deprecated and will be removed from pandas in a future version. Use pandas.concat instead.\n",
      "  self.df = self.df.append(row, ignore_index=True)\n",
      "C:\\Users\\DELL\\anaconda3\\envs\\ta\\lib\\site-packages\\textattack\\loggers\\csv_logger.py:41: FutureWarning: The frame.append method is deprecated and will be removed from pandas in a future version. Use pandas.concat instead.\n",
      "  self.df = self.df.append(row, ignore_index=True)\n",
      "C:\\Users\\DELL\\anaconda3\\envs\\ta\\lib\\site-packages\\textattack\\loggers\\csv_logger.py:41: FutureWarning: The frame.append method is deprecated and will be removed from pandas in a future version. Use pandas.concat instead.\n",
      "  self.df = self.df.append(row, ignore_index=True)\n",
      "C:\\Users\\DELL\\anaconda3\\envs\\ta\\lib\\site-packages\\textattack\\loggers\\csv_logger.py:41: FutureWarning: The frame.append method is deprecated and will be removed from pandas in a future version. Use pandas.concat instead.\n",
      "  self.df = self.df.append(row, ignore_index=True)\n",
      "C:\\Users\\DELL\\anaconda3\\envs\\ta\\lib\\site-packages\\textattack\\loggers\\csv_logger.py:41: FutureWarning: The frame.append method is deprecated and will be removed from pandas in a future version. Use pandas.concat instead.\n",
      "  self.df = self.df.append(row, ignore_index=True)\n",
      "C:\\Users\\DELL\\anaconda3\\envs\\ta\\lib\\site-packages\\textattack\\loggers\\csv_logger.py:41: FutureWarning: The frame.append method is deprecated and will be removed from pandas in a future version. Use pandas.concat instead.\n",
      "  self.df = self.df.append(row, ignore_index=True)\n",
      "C:\\Users\\DELL\\anaconda3\\envs\\ta\\lib\\site-packages\\textattack\\loggers\\csv_logger.py:41: FutureWarning: The frame.append method is deprecated and will be removed from pandas in a future version. Use pandas.concat instead.\n",
      "  self.df = self.df.append(row, ignore_index=True)\n",
      "C:\\Users\\DELL\\anaconda3\\envs\\ta\\lib\\site-packages\\textattack\\loggers\\csv_logger.py:41: FutureWarning: The frame.append method is deprecated and will be removed from pandas in a future version. Use pandas.concat instead.\n",
      "  self.df = self.df.append(row, ignore_index=True)\n",
      "C:\\Users\\DELL\\anaconda3\\envs\\ta\\lib\\site-packages\\textattack\\loggers\\csv_logger.py:41: FutureWarning: The frame.append method is deprecated and will be removed from pandas in a future version. Use pandas.concat instead.\n",
      "  self.df = self.df.append(row, ignore_index=True)\n",
      "C:\\Users\\DELL\\anaconda3\\envs\\ta\\lib\\site-packages\\textattack\\loggers\\csv_logger.py:41: FutureWarning: The frame.append method is deprecated and will be removed from pandas in a future version. Use pandas.concat instead.\n",
      "  self.df = self.df.append(row, ignore_index=True)\n",
      "C:\\Users\\DELL\\anaconda3\\envs\\ta\\lib\\site-packages\\textattack\\loggers\\csv_logger.py:41: FutureWarning: The frame.append method is deprecated and will be removed from pandas in a future version. Use pandas.concat instead.\n",
      "  self.df = self.df.append(row, ignore_index=True)\n",
      "C:\\Users\\DELL\\anaconda3\\envs\\ta\\lib\\site-packages\\textattack\\loggers\\csv_logger.py:41: FutureWarning: The frame.append method is deprecated and will be removed from pandas in a future version. Use pandas.concat instead.\n",
      "  self.df = self.df.append(row, ignore_index=True)\n",
      "C:\\Users\\DELL\\anaconda3\\envs\\ta\\lib\\site-packages\\textattack\\loggers\\csv_logger.py:41: FutureWarning: The frame.append method is deprecated and will be removed from pandas in a future version. Use pandas.concat instead.\n",
      "  self.df = self.df.append(row, ignore_index=True)\n",
      "C:\\Users\\DELL\\anaconda3\\envs\\ta\\lib\\site-packages\\textattack\\loggers\\csv_logger.py:41: FutureWarning: The frame.append method is deprecated and will be removed from pandas in a future version. Use pandas.concat instead.\n",
      "  self.df = self.df.append(row, ignore_index=True)\n"
     ]
    },
    {
     "name": "stderr",
     "output_type": "stream",
     "text": [
      "C:\\Users\\DELL\\anaconda3\\envs\\ta\\lib\\site-packages\\textattack\\loggers\\csv_logger.py:41: FutureWarning: The frame.append method is deprecated and will be removed from pandas in a future version. Use pandas.concat instead.\n",
      "  self.df = self.df.append(row, ignore_index=True)\n",
      "C:\\Users\\DELL\\anaconda3\\envs\\ta\\lib\\site-packages\\textattack\\loggers\\csv_logger.py:41: FutureWarning: The frame.append method is deprecated and will be removed from pandas in a future version. Use pandas.concat instead.\n",
      "  self.df = self.df.append(row, ignore_index=True)\n",
      "C:\\Users\\DELL\\anaconda3\\envs\\ta\\lib\\site-packages\\textattack\\loggers\\csv_logger.py:41: FutureWarning: The frame.append method is deprecated and will be removed from pandas in a future version. Use pandas.concat instead.\n",
      "  self.df = self.df.append(row, ignore_index=True)\n",
      "C:\\Users\\DELL\\anaconda3\\envs\\ta\\lib\\site-packages\\textattack\\loggers\\csv_logger.py:41: FutureWarning: The frame.append method is deprecated and will be removed from pandas in a future version. Use pandas.concat instead.\n",
      "  self.df = self.df.append(row, ignore_index=True)\n",
      "C:\\Users\\DELL\\anaconda3\\envs\\ta\\lib\\site-packages\\textattack\\loggers\\csv_logger.py:41: FutureWarning: The frame.append method is deprecated and will be removed from pandas in a future version. Use pandas.concat instead.\n",
      "  self.df = self.df.append(row, ignore_index=True)\n",
      "C:\\Users\\DELL\\anaconda3\\envs\\ta\\lib\\site-packages\\textattack\\loggers\\csv_logger.py:41: FutureWarning: The frame.append method is deprecated and will be removed from pandas in a future version. Use pandas.concat instead.\n",
      "  self.df = self.df.append(row, ignore_index=True)\n",
      "C:\\Users\\DELL\\anaconda3\\envs\\ta\\lib\\site-packages\\textattack\\loggers\\csv_logger.py:41: FutureWarning: The frame.append method is deprecated and will be removed from pandas in a future version. Use pandas.concat instead.\n",
      "  self.df = self.df.append(row, ignore_index=True)\n",
      "C:\\Users\\DELL\\anaconda3\\envs\\ta\\lib\\site-packages\\textattack\\loggers\\csv_logger.py:41: FutureWarning: The frame.append method is deprecated and will be removed from pandas in a future version. Use pandas.concat instead.\n",
      "  self.df = self.df.append(row, ignore_index=True)\n",
      "C:\\Users\\DELL\\anaconda3\\envs\\ta\\lib\\site-packages\\textattack\\loggers\\csv_logger.py:41: FutureWarning: The frame.append method is deprecated and will be removed from pandas in a future version. Use pandas.concat instead.\n",
      "  self.df = self.df.append(row, ignore_index=True)\n",
      "C:\\Users\\DELL\\anaconda3\\envs\\ta\\lib\\site-packages\\textattack\\loggers\\csv_logger.py:41: FutureWarning: The frame.append method is deprecated and will be removed from pandas in a future version. Use pandas.concat instead.\n",
      "  self.df = self.df.append(row, ignore_index=True)\n",
      "C:\\Users\\DELL\\anaconda3\\envs\\ta\\lib\\site-packages\\textattack\\loggers\\csv_logger.py:41: FutureWarning: The frame.append method is deprecated and will be removed from pandas in a future version. Use pandas.concat instead.\n",
      "  self.df = self.df.append(row, ignore_index=True)\n",
      "C:\\Users\\DELL\\anaconda3\\envs\\ta\\lib\\site-packages\\textattack\\loggers\\csv_logger.py:41: FutureWarning: The frame.append method is deprecated and will be removed from pandas in a future version. Use pandas.concat instead.\n",
      "  self.df = self.df.append(row, ignore_index=True)\n",
      "C:\\Users\\DELL\\anaconda3\\envs\\ta\\lib\\site-packages\\textattack\\loggers\\csv_logger.py:41: FutureWarning: The frame.append method is deprecated and will be removed from pandas in a future version. Use pandas.concat instead.\n",
      "  self.df = self.df.append(row, ignore_index=True)\n",
      "C:\\Users\\DELL\\anaconda3\\envs\\ta\\lib\\site-packages\\textattack\\loggers\\csv_logger.py:41: FutureWarning: The frame.append method is deprecated and will be removed from pandas in a future version. Use pandas.concat instead.\n",
      "  self.df = self.df.append(row, ignore_index=True)\n",
      "C:\\Users\\DELL\\anaconda3\\envs\\ta\\lib\\site-packages\\textattack\\loggers\\csv_logger.py:41: FutureWarning: The frame.append method is deprecated and will be removed from pandas in a future version. Use pandas.concat instead.\n",
      "  self.df = self.df.append(row, ignore_index=True)\n",
      "C:\\Users\\DELL\\anaconda3\\envs\\ta\\lib\\site-packages\\textattack\\loggers\\csv_logger.py:41: FutureWarning: The frame.append method is deprecated and will be removed from pandas in a future version. Use pandas.concat instead.\n",
      "  self.df = self.df.append(row, ignore_index=True)\n",
      "C:\\Users\\DELL\\anaconda3\\envs\\ta\\lib\\site-packages\\textattack\\loggers\\csv_logger.py:41: FutureWarning: The frame.append method is deprecated and will be removed from pandas in a future version. Use pandas.concat instead.\n",
      "  self.df = self.df.append(row, ignore_index=True)\n",
      "C:\\Users\\DELL\\anaconda3\\envs\\ta\\lib\\site-packages\\textattack\\loggers\\csv_logger.py:41: FutureWarning: The frame.append method is deprecated and will be removed from pandas in a future version. Use pandas.concat instead.\n",
      "  self.df = self.df.append(row, ignore_index=True)\n",
      "C:\\Users\\DELL\\anaconda3\\envs\\ta\\lib\\site-packages\\textattack\\loggers\\csv_logger.py:41: FutureWarning: The frame.append method is deprecated and will be removed from pandas in a future version. Use pandas.concat instead.\n",
      "  self.df = self.df.append(row, ignore_index=True)\n",
      "C:\\Users\\DELL\\anaconda3\\envs\\ta\\lib\\site-packages\\textattack\\loggers\\csv_logger.py:41: FutureWarning: The frame.append method is deprecated and will be removed from pandas in a future version. Use pandas.concat instead.\n",
      "  self.df = self.df.append(row, ignore_index=True)\n",
      "C:\\Users\\DELL\\anaconda3\\envs\\ta\\lib\\site-packages\\textattack\\loggers\\csv_logger.py:41: FutureWarning: The frame.append method is deprecated and will be removed from pandas in a future version. Use pandas.concat instead.\n",
      "  self.df = self.df.append(row, ignore_index=True)\n",
      "C:\\Users\\DELL\\anaconda3\\envs\\ta\\lib\\site-packages\\textattack\\loggers\\csv_logger.py:41: FutureWarning: The frame.append method is deprecated and will be removed from pandas in a future version. Use pandas.concat instead.\n",
      "  self.df = self.df.append(row, ignore_index=True)\n",
      "C:\\Users\\DELL\\anaconda3\\envs\\ta\\lib\\site-packages\\textattack\\loggers\\csv_logger.py:41: FutureWarning: The frame.append method is deprecated and will be removed from pandas in a future version. Use pandas.concat instead.\n",
      "  self.df = self.df.append(row, ignore_index=True)\n",
      "C:\\Users\\DELL\\anaconda3\\envs\\ta\\lib\\site-packages\\textattack\\loggers\\csv_logger.py:41: FutureWarning: The frame.append method is deprecated and will be removed from pandas in a future version. Use pandas.concat instead.\n",
      "  self.df = self.df.append(row, ignore_index=True)\n",
      "C:\\Users\\DELL\\anaconda3\\envs\\ta\\lib\\site-packages\\textattack\\loggers\\csv_logger.py:41: FutureWarning: The frame.append method is deprecated and will be removed from pandas in a future version. Use pandas.concat instead.\n",
      "  self.df = self.df.append(row, ignore_index=True)\n",
      "C:\\Users\\DELL\\anaconda3\\envs\\ta\\lib\\site-packages\\textattack\\loggers\\csv_logger.py:41: FutureWarning: The frame.append method is deprecated and will be removed from pandas in a future version. Use pandas.concat instead.\n",
      "  self.df = self.df.append(row, ignore_index=True)\n",
      "C:\\Users\\DELL\\anaconda3\\envs\\ta\\lib\\site-packages\\textattack\\loggers\\csv_logger.py:41: FutureWarning: The frame.append method is deprecated and will be removed from pandas in a future version. Use pandas.concat instead.\n",
      "  self.df = self.df.append(row, ignore_index=True)\n",
      "C:\\Users\\DELL\\anaconda3\\envs\\ta\\lib\\site-packages\\textattack\\loggers\\csv_logger.py:41: FutureWarning: The frame.append method is deprecated and will be removed from pandas in a future version. Use pandas.concat instead.\n",
      "  self.df = self.df.append(row, ignore_index=True)\n",
      "C:\\Users\\DELL\\anaconda3\\envs\\ta\\lib\\site-packages\\textattack\\loggers\\csv_logger.py:41: FutureWarning: The frame.append method is deprecated and will be removed from pandas in a future version. Use pandas.concat instead.\n",
      "  self.df = self.df.append(row, ignore_index=True)\n",
      "C:\\Users\\DELL\\anaconda3\\envs\\ta\\lib\\site-packages\\textattack\\loggers\\csv_logger.py:41: FutureWarning: The frame.append method is deprecated and will be removed from pandas in a future version. Use pandas.concat instead.\n",
      "  self.df = self.df.append(row, ignore_index=True)\n",
      "C:\\Users\\DELL\\anaconda3\\envs\\ta\\lib\\site-packages\\textattack\\loggers\\csv_logger.py:41: FutureWarning: The frame.append method is deprecated and will be removed from pandas in a future version. Use pandas.concat instead.\n",
      "  self.df = self.df.append(row, ignore_index=True)\n",
      "C:\\Users\\DELL\\anaconda3\\envs\\ta\\lib\\site-packages\\textattack\\loggers\\csv_logger.py:41: FutureWarning: The frame.append method is deprecated and will be removed from pandas in a future version. Use pandas.concat instead.\n",
      "  self.df = self.df.append(row, ignore_index=True)\n",
      "C:\\Users\\DELL\\anaconda3\\envs\\ta\\lib\\site-packages\\textattack\\loggers\\csv_logger.py:41: FutureWarning: The frame.append method is deprecated and will be removed from pandas in a future version. Use pandas.concat instead.\n",
      "  self.df = self.df.append(row, ignore_index=True)\n",
      "C:\\Users\\DELL\\anaconda3\\envs\\ta\\lib\\site-packages\\textattack\\loggers\\csv_logger.py:41: FutureWarning: The frame.append method is deprecated and will be removed from pandas in a future version. Use pandas.concat instead.\n",
      "  self.df = self.df.append(row, ignore_index=True)\n",
      "C:\\Users\\DELL\\anaconda3\\envs\\ta\\lib\\site-packages\\textattack\\loggers\\csv_logger.py:41: FutureWarning: The frame.append method is deprecated and will be removed from pandas in a future version. Use pandas.concat instead.\n",
      "  self.df = self.df.append(row, ignore_index=True)\n",
      "C:\\Users\\DELL\\anaconda3\\envs\\ta\\lib\\site-packages\\textattack\\loggers\\csv_logger.py:41: FutureWarning: The frame.append method is deprecated and will be removed from pandas in a future version. Use pandas.concat instead.\n",
      "  self.df = self.df.append(row, ignore_index=True)\n",
      "C:\\Users\\DELL\\anaconda3\\envs\\ta\\lib\\site-packages\\textattack\\loggers\\csv_logger.py:41: FutureWarning: The frame.append method is deprecated and will be removed from pandas in a future version. Use pandas.concat instead.\n",
      "  self.df = self.df.append(row, ignore_index=True)\n",
      "C:\\Users\\DELL\\anaconda3\\envs\\ta\\lib\\site-packages\\textattack\\loggers\\csv_logger.py:41: FutureWarning: The frame.append method is deprecated and will be removed from pandas in a future version. Use pandas.concat instead.\n",
      "  self.df = self.df.append(row, ignore_index=True)\n",
      "C:\\Users\\DELL\\anaconda3\\envs\\ta\\lib\\site-packages\\textattack\\loggers\\csv_logger.py:41: FutureWarning: The frame.append method is deprecated and will be removed from pandas in a future version. Use pandas.concat instead.\n",
      "  self.df = self.df.append(row, ignore_index=True)\n",
      "C:\\Users\\DELL\\anaconda3\\envs\\ta\\lib\\site-packages\\textattack\\loggers\\csv_logger.py:41: FutureWarning: The frame.append method is deprecated and will be removed from pandas in a future version. Use pandas.concat instead.\n",
      "  self.df = self.df.append(row, ignore_index=True)\n",
      "C:\\Users\\DELL\\anaconda3\\envs\\ta\\lib\\site-packages\\textattack\\loggers\\csv_logger.py:41: FutureWarning: The frame.append method is deprecated and will be removed from pandas in a future version. Use pandas.concat instead.\n",
      "  self.df = self.df.append(row, ignore_index=True)\n",
      "C:\\Users\\DELL\\anaconda3\\envs\\ta\\lib\\site-packages\\textattack\\loggers\\csv_logger.py:41: FutureWarning: The frame.append method is deprecated and will be removed from pandas in a future version. Use pandas.concat instead.\n",
      "  self.df = self.df.append(row, ignore_index=True)\n",
      "C:\\Users\\DELL\\anaconda3\\envs\\ta\\lib\\site-packages\\textattack\\loggers\\csv_logger.py:41: FutureWarning: The frame.append method is deprecated and will be removed from pandas in a future version. Use pandas.concat instead.\n",
      "  self.df = self.df.append(row, ignore_index=True)\n",
      "C:\\Users\\DELL\\anaconda3\\envs\\ta\\lib\\site-packages\\textattack\\loggers\\csv_logger.py:41: FutureWarning: The frame.append method is deprecated and will be removed from pandas in a future version. Use pandas.concat instead.\n",
      "  self.df = self.df.append(row, ignore_index=True)\n"
     ]
    },
    {
     "name": "stderr",
     "output_type": "stream",
     "text": [
      "C:\\Users\\DELL\\anaconda3\\envs\\ta\\lib\\site-packages\\textattack\\loggers\\csv_logger.py:41: FutureWarning: The frame.append method is deprecated and will be removed from pandas in a future version. Use pandas.concat instead.\n",
      "  self.df = self.df.append(row, ignore_index=True)\n",
      "C:\\Users\\DELL\\anaconda3\\envs\\ta\\lib\\site-packages\\textattack\\loggers\\csv_logger.py:41: FutureWarning: The frame.append method is deprecated and will be removed from pandas in a future version. Use pandas.concat instead.\n",
      "  self.df = self.df.append(row, ignore_index=True)\n",
      "C:\\Users\\DELL\\anaconda3\\envs\\ta\\lib\\site-packages\\textattack\\loggers\\csv_logger.py:41: FutureWarning: The frame.append method is deprecated and will be removed from pandas in a future version. Use pandas.concat instead.\n",
      "  self.df = self.df.append(row, ignore_index=True)\n",
      "C:\\Users\\DELL\\anaconda3\\envs\\ta\\lib\\site-packages\\textattack\\loggers\\csv_logger.py:41: FutureWarning: The frame.append method is deprecated and will be removed from pandas in a future version. Use pandas.concat instead.\n",
      "  self.df = self.df.append(row, ignore_index=True)\n",
      "C:\\Users\\DELL\\anaconda3\\envs\\ta\\lib\\site-packages\\textattack\\loggers\\csv_logger.py:41: FutureWarning: The frame.append method is deprecated and will be removed from pandas in a future version. Use pandas.concat instead.\n",
      "  self.df = self.df.append(row, ignore_index=True)\n",
      "C:\\Users\\DELL\\anaconda3\\envs\\ta\\lib\\site-packages\\textattack\\loggers\\csv_logger.py:41: FutureWarning: The frame.append method is deprecated and will be removed from pandas in a future version. Use pandas.concat instead.\n",
      "  self.df = self.df.append(row, ignore_index=True)\n",
      "C:\\Users\\DELL\\anaconda3\\envs\\ta\\lib\\site-packages\\textattack\\loggers\\csv_logger.py:41: FutureWarning: The frame.append method is deprecated and will be removed from pandas in a future version. Use pandas.concat instead.\n",
      "  self.df = self.df.append(row, ignore_index=True)\n",
      "C:\\Users\\DELL\\anaconda3\\envs\\ta\\lib\\site-packages\\textattack\\loggers\\csv_logger.py:41: FutureWarning: The frame.append method is deprecated and will be removed from pandas in a future version. Use pandas.concat instead.\n",
      "  self.df = self.df.append(row, ignore_index=True)\n",
      "C:\\Users\\DELL\\anaconda3\\envs\\ta\\lib\\site-packages\\textattack\\loggers\\csv_logger.py:41: FutureWarning: The frame.append method is deprecated and will be removed from pandas in a future version. Use pandas.concat instead.\n",
      "  self.df = self.df.append(row, ignore_index=True)\n",
      "C:\\Users\\DELL\\anaconda3\\envs\\ta\\lib\\site-packages\\textattack\\loggers\\csv_logger.py:41: FutureWarning: The frame.append method is deprecated and will be removed from pandas in a future version. Use pandas.concat instead.\n",
      "  self.df = self.df.append(row, ignore_index=True)\n",
      "C:\\Users\\DELL\\anaconda3\\envs\\ta\\lib\\site-packages\\textattack\\loggers\\csv_logger.py:41: FutureWarning: The frame.append method is deprecated and will be removed from pandas in a future version. Use pandas.concat instead.\n",
      "  self.df = self.df.append(row, ignore_index=True)\n",
      "C:\\Users\\DELL\\anaconda3\\envs\\ta\\lib\\site-packages\\textattack\\loggers\\csv_logger.py:41: FutureWarning: The frame.append method is deprecated and will be removed from pandas in a future version. Use pandas.concat instead.\n",
      "  self.df = self.df.append(row, ignore_index=True)\n",
      "C:\\Users\\DELL\\anaconda3\\envs\\ta\\lib\\site-packages\\textattack\\loggers\\csv_logger.py:41: FutureWarning: The frame.append method is deprecated and will be removed from pandas in a future version. Use pandas.concat instead.\n",
      "  self.df = self.df.append(row, ignore_index=True)\n",
      "C:\\Users\\DELL\\anaconda3\\envs\\ta\\lib\\site-packages\\textattack\\loggers\\csv_logger.py:41: FutureWarning: The frame.append method is deprecated and will be removed from pandas in a future version. Use pandas.concat instead.\n",
      "  self.df = self.df.append(row, ignore_index=True)\n",
      "C:\\Users\\DELL\\anaconda3\\envs\\ta\\lib\\site-packages\\textattack\\loggers\\csv_logger.py:41: FutureWarning: The frame.append method is deprecated and will be removed from pandas in a future version. Use pandas.concat instead.\n",
      "  self.df = self.df.append(row, ignore_index=True)\n",
      "C:\\Users\\DELL\\anaconda3\\envs\\ta\\lib\\site-packages\\textattack\\loggers\\csv_logger.py:41: FutureWarning: The frame.append method is deprecated and will be removed from pandas in a future version. Use pandas.concat instead.\n",
      "  self.df = self.df.append(row, ignore_index=True)\n",
      "C:\\Users\\DELL\\anaconda3\\envs\\ta\\lib\\site-packages\\textattack\\loggers\\csv_logger.py:41: FutureWarning: The frame.append method is deprecated and will be removed from pandas in a future version. Use pandas.concat instead.\n",
      "  self.df = self.df.append(row, ignore_index=True)\n",
      "C:\\Users\\DELL\\anaconda3\\envs\\ta\\lib\\site-packages\\textattack\\loggers\\csv_logger.py:41: FutureWarning: The frame.append method is deprecated and will be removed from pandas in a future version. Use pandas.concat instead.\n",
      "  self.df = self.df.append(row, ignore_index=True)\n",
      "C:\\Users\\DELL\\anaconda3\\envs\\ta\\lib\\site-packages\\textattack\\loggers\\csv_logger.py:41: FutureWarning: The frame.append method is deprecated and will be removed from pandas in a future version. Use pandas.concat instead.\n",
      "  self.df = self.df.append(row, ignore_index=True)\n",
      "C:\\Users\\DELL\\anaconda3\\envs\\ta\\lib\\site-packages\\textattack\\loggers\\csv_logger.py:41: FutureWarning: The frame.append method is deprecated and will be removed from pandas in a future version. Use pandas.concat instead.\n",
      "  self.df = self.df.append(row, ignore_index=True)\n",
      "C:\\Users\\DELL\\anaconda3\\envs\\ta\\lib\\site-packages\\textattack\\loggers\\csv_logger.py:41: FutureWarning: The frame.append method is deprecated and will be removed from pandas in a future version. Use pandas.concat instead.\n",
      "  self.df = self.df.append(row, ignore_index=True)\n",
      "C:\\Users\\DELL\\anaconda3\\envs\\ta\\lib\\site-packages\\textattack\\loggers\\csv_logger.py:41: FutureWarning: The frame.append method is deprecated and will be removed from pandas in a future version. Use pandas.concat instead.\n",
      "  self.df = self.df.append(row, ignore_index=True)\n",
      "C:\\Users\\DELL\\anaconda3\\envs\\ta\\lib\\site-packages\\textattack\\loggers\\csv_logger.py:41: FutureWarning: The frame.append method is deprecated and will be removed from pandas in a future version. Use pandas.concat instead.\n",
      "  self.df = self.df.append(row, ignore_index=True)\n",
      "C:\\Users\\DELL\\anaconda3\\envs\\ta\\lib\\site-packages\\textattack\\loggers\\csv_logger.py:41: FutureWarning: The frame.append method is deprecated and will be removed from pandas in a future version. Use pandas.concat instead.\n",
      "  self.df = self.df.append(row, ignore_index=True)\n",
      "C:\\Users\\DELL\\anaconda3\\envs\\ta\\lib\\site-packages\\textattack\\loggers\\csv_logger.py:41: FutureWarning: The frame.append method is deprecated and will be removed from pandas in a future version. Use pandas.concat instead.\n",
      "  self.df = self.df.append(row, ignore_index=True)\n",
      "C:\\Users\\DELL\\anaconda3\\envs\\ta\\lib\\site-packages\\textattack\\loggers\\csv_logger.py:41: FutureWarning: The frame.append method is deprecated and will be removed from pandas in a future version. Use pandas.concat instead.\n",
      "  self.df = self.df.append(row, ignore_index=True)\n",
      "C:\\Users\\DELL\\anaconda3\\envs\\ta\\lib\\site-packages\\textattack\\loggers\\csv_logger.py:41: FutureWarning: The frame.append method is deprecated and will be removed from pandas in a future version. Use pandas.concat instead.\n",
      "  self.df = self.df.append(row, ignore_index=True)\n",
      "C:\\Users\\DELL\\anaconda3\\envs\\ta\\lib\\site-packages\\textattack\\loggers\\csv_logger.py:41: FutureWarning: The frame.append method is deprecated and will be removed from pandas in a future version. Use pandas.concat instead.\n",
      "  self.df = self.df.append(row, ignore_index=True)\n",
      "C:\\Users\\DELL\\anaconda3\\envs\\ta\\lib\\site-packages\\textattack\\loggers\\csv_logger.py:41: FutureWarning: The frame.append method is deprecated and will be removed from pandas in a future version. Use pandas.concat instead.\n",
      "  self.df = self.df.append(row, ignore_index=True)\n",
      "C:\\Users\\DELL\\anaconda3\\envs\\ta\\lib\\site-packages\\textattack\\loggers\\csv_logger.py:41: FutureWarning: The frame.append method is deprecated and will be removed from pandas in a future version. Use pandas.concat instead.\n",
      "  self.df = self.df.append(row, ignore_index=True)\n",
      "C:\\Users\\DELL\\anaconda3\\envs\\ta\\lib\\site-packages\\textattack\\loggers\\csv_logger.py:41: FutureWarning: The frame.append method is deprecated and will be removed from pandas in a future version. Use pandas.concat instead.\n",
      "  self.df = self.df.append(row, ignore_index=True)\n",
      "C:\\Users\\DELL\\anaconda3\\envs\\ta\\lib\\site-packages\\textattack\\loggers\\csv_logger.py:41: FutureWarning: The frame.append method is deprecated and will be removed from pandas in a future version. Use pandas.concat instead.\n",
      "  self.df = self.df.append(row, ignore_index=True)\n",
      "C:\\Users\\DELL\\anaconda3\\envs\\ta\\lib\\site-packages\\textattack\\loggers\\csv_logger.py:41: FutureWarning: The frame.append method is deprecated and will be removed from pandas in a future version. Use pandas.concat instead.\n",
      "  self.df = self.df.append(row, ignore_index=True)\n",
      "C:\\Users\\DELL\\anaconda3\\envs\\ta\\lib\\site-packages\\textattack\\loggers\\csv_logger.py:41: FutureWarning: The frame.append method is deprecated and will be removed from pandas in a future version. Use pandas.concat instead.\n",
      "  self.df = self.df.append(row, ignore_index=True)\n",
      "C:\\Users\\DELL\\anaconda3\\envs\\ta\\lib\\site-packages\\textattack\\loggers\\csv_logger.py:41: FutureWarning: The frame.append method is deprecated and will be removed from pandas in a future version. Use pandas.concat instead.\n",
      "  self.df = self.df.append(row, ignore_index=True)\n",
      "C:\\Users\\DELL\\anaconda3\\envs\\ta\\lib\\site-packages\\textattack\\loggers\\csv_logger.py:41: FutureWarning: The frame.append method is deprecated and will be removed from pandas in a future version. Use pandas.concat instead.\n",
      "  self.df = self.df.append(row, ignore_index=True)\n",
      "C:\\Users\\DELL\\anaconda3\\envs\\ta\\lib\\site-packages\\textattack\\loggers\\csv_logger.py:41: FutureWarning: The frame.append method is deprecated and will be removed from pandas in a future version. Use pandas.concat instead.\n",
      "  self.df = self.df.append(row, ignore_index=True)\n",
      "C:\\Users\\DELL\\anaconda3\\envs\\ta\\lib\\site-packages\\textattack\\loggers\\csv_logger.py:41: FutureWarning: The frame.append method is deprecated and will be removed from pandas in a future version. Use pandas.concat instead.\n",
      "  self.df = self.df.append(row, ignore_index=True)\n",
      "C:\\Users\\DELL\\anaconda3\\envs\\ta\\lib\\site-packages\\textattack\\loggers\\csv_logger.py:41: FutureWarning: The frame.append method is deprecated and will be removed from pandas in a future version. Use pandas.concat instead.\n",
      "  self.df = self.df.append(row, ignore_index=True)\n",
      "C:\\Users\\DELL\\anaconda3\\envs\\ta\\lib\\site-packages\\textattack\\loggers\\csv_logger.py:41: FutureWarning: The frame.append method is deprecated and will be removed from pandas in a future version. Use pandas.concat instead.\n",
      "  self.df = self.df.append(row, ignore_index=True)\n",
      "C:\\Users\\DELL\\anaconda3\\envs\\ta\\lib\\site-packages\\textattack\\loggers\\csv_logger.py:41: FutureWarning: The frame.append method is deprecated and will be removed from pandas in a future version. Use pandas.concat instead.\n",
      "  self.df = self.df.append(row, ignore_index=True)\n",
      "C:\\Users\\DELL\\anaconda3\\envs\\ta\\lib\\site-packages\\textattack\\loggers\\csv_logger.py:41: FutureWarning: The frame.append method is deprecated and will be removed from pandas in a future version. Use pandas.concat instead.\n",
      "  self.df = self.df.append(row, ignore_index=True)\n",
      "C:\\Users\\DELL\\anaconda3\\envs\\ta\\lib\\site-packages\\textattack\\loggers\\csv_logger.py:41: FutureWarning: The frame.append method is deprecated and will be removed from pandas in a future version. Use pandas.concat instead.\n",
      "  self.df = self.df.append(row, ignore_index=True)\n",
      "C:\\Users\\DELL\\anaconda3\\envs\\ta\\lib\\site-packages\\textattack\\loggers\\csv_logger.py:41: FutureWarning: The frame.append method is deprecated and will be removed from pandas in a future version. Use pandas.concat instead.\n",
      "  self.df = self.df.append(row, ignore_index=True)\n",
      "C:\\Users\\DELL\\anaconda3\\envs\\ta\\lib\\site-packages\\textattack\\loggers\\csv_logger.py:41: FutureWarning: The frame.append method is deprecated and will be removed from pandas in a future version. Use pandas.concat instead.\n",
      "  self.df = self.df.append(row, ignore_index=True)\n",
      "C:\\Users\\DELL\\anaconda3\\envs\\ta\\lib\\site-packages\\textattack\\loggers\\csv_logger.py:41: FutureWarning: The frame.append method is deprecated and will be removed from pandas in a future version. Use pandas.concat instead.\n",
      "  self.df = self.df.append(row, ignore_index=True)\n",
      "C:\\Users\\DELL\\anaconda3\\envs\\ta\\lib\\site-packages\\textattack\\loggers\\csv_logger.py:41: FutureWarning: The frame.append method is deprecated and will be removed from pandas in a future version. Use pandas.concat instead.\n",
      "  self.df = self.df.append(row, ignore_index=True)\n",
      "C:\\Users\\DELL\\anaconda3\\envs\\ta\\lib\\site-packages\\textattack\\loggers\\csv_logger.py:41: FutureWarning: The frame.append method is deprecated and will be removed from pandas in a future version. Use pandas.concat instead.\n",
      "  self.df = self.df.append(row, ignore_index=True)\n",
      "C:\\Users\\DELL\\anaconda3\\envs\\ta\\lib\\site-packages\\textattack\\loggers\\csv_logger.py:41: FutureWarning: The frame.append method is deprecated and will be removed from pandas in a future version. Use pandas.concat instead.\n",
      "  self.df = self.df.append(row, ignore_index=True)\n",
      "C:\\Users\\DELL\\anaconda3\\envs\\ta\\lib\\site-packages\\textattack\\loggers\\csv_logger.py:41: FutureWarning: The frame.append method is deprecated and will be removed from pandas in a future version. Use pandas.concat instead.\n",
      "  self.df = self.df.append(row, ignore_index=True)\n",
      "C:\\Users\\DELL\\anaconda3\\envs\\ta\\lib\\site-packages\\textattack\\loggers\\csv_logger.py:41: FutureWarning: The frame.append method is deprecated and will be removed from pandas in a future version. Use pandas.concat instead.\n",
      "  self.df = self.df.append(row, ignore_index=True)\n"
     ]
    },
    {
     "name": "stderr",
     "output_type": "stream",
     "text": [
      "C:\\Users\\DELL\\anaconda3\\envs\\ta\\lib\\site-packages\\textattack\\loggers\\csv_logger.py:41: FutureWarning: The frame.append method is deprecated and will be removed from pandas in a future version. Use pandas.concat instead.\n",
      "  self.df = self.df.append(row, ignore_index=True)\n",
      "C:\\Users\\DELL\\anaconda3\\envs\\ta\\lib\\site-packages\\textattack\\loggers\\csv_logger.py:41: FutureWarning: The frame.append method is deprecated and will be removed from pandas in a future version. Use pandas.concat instead.\n",
      "  self.df = self.df.append(row, ignore_index=True)\n",
      "C:\\Users\\DELL\\anaconda3\\envs\\ta\\lib\\site-packages\\textattack\\loggers\\csv_logger.py:41: FutureWarning: The frame.append method is deprecated and will be removed from pandas in a future version. Use pandas.concat instead.\n",
      "  self.df = self.df.append(row, ignore_index=True)\n",
      "C:\\Users\\DELL\\anaconda3\\envs\\ta\\lib\\site-packages\\textattack\\loggers\\csv_logger.py:41: FutureWarning: The frame.append method is deprecated and will be removed from pandas in a future version. Use pandas.concat instead.\n",
      "  self.df = self.df.append(row, ignore_index=True)\n",
      "C:\\Users\\DELL\\anaconda3\\envs\\ta\\lib\\site-packages\\textattack\\loggers\\csv_logger.py:41: FutureWarning: The frame.append method is deprecated and will be removed from pandas in a future version. Use pandas.concat instead.\n",
      "  self.df = self.df.append(row, ignore_index=True)\n",
      "C:\\Users\\DELL\\anaconda3\\envs\\ta\\lib\\site-packages\\textattack\\loggers\\csv_logger.py:41: FutureWarning: The frame.append method is deprecated and will be removed from pandas in a future version. Use pandas.concat instead.\n",
      "  self.df = self.df.append(row, ignore_index=True)\n",
      "C:\\Users\\DELL\\anaconda3\\envs\\ta\\lib\\site-packages\\textattack\\loggers\\csv_logger.py:41: FutureWarning: The frame.append method is deprecated and will be removed from pandas in a future version. Use pandas.concat instead.\n",
      "  self.df = self.df.append(row, ignore_index=True)\n",
      "C:\\Users\\DELL\\anaconda3\\envs\\ta\\lib\\site-packages\\textattack\\loggers\\csv_logger.py:41: FutureWarning: The frame.append method is deprecated and will be removed from pandas in a future version. Use pandas.concat instead.\n",
      "  self.df = self.df.append(row, ignore_index=True)\n",
      "C:\\Users\\DELL\\anaconda3\\envs\\ta\\lib\\site-packages\\textattack\\loggers\\csv_logger.py:41: FutureWarning: The frame.append method is deprecated and will be removed from pandas in a future version. Use pandas.concat instead.\n",
      "  self.df = self.df.append(row, ignore_index=True)\n",
      "C:\\Users\\DELL\\anaconda3\\envs\\ta\\lib\\site-packages\\textattack\\loggers\\csv_logger.py:41: FutureWarning: The frame.append method is deprecated and will be removed from pandas in a future version. Use pandas.concat instead.\n",
      "  self.df = self.df.append(row, ignore_index=True)\n",
      "C:\\Users\\DELL\\anaconda3\\envs\\ta\\lib\\site-packages\\textattack\\loggers\\csv_logger.py:41: FutureWarning: The frame.append method is deprecated and will be removed from pandas in a future version. Use pandas.concat instead.\n",
      "  self.df = self.df.append(row, ignore_index=True)\n",
      "C:\\Users\\DELL\\anaconda3\\envs\\ta\\lib\\site-packages\\textattack\\loggers\\csv_logger.py:41: FutureWarning: The frame.append method is deprecated and will be removed from pandas in a future version. Use pandas.concat instead.\n",
      "  self.df = self.df.append(row, ignore_index=True)\n",
      "C:\\Users\\DELL\\anaconda3\\envs\\ta\\lib\\site-packages\\textattack\\loggers\\csv_logger.py:41: FutureWarning: The frame.append method is deprecated and will be removed from pandas in a future version. Use pandas.concat instead.\n",
      "  self.df = self.df.append(row, ignore_index=True)\n",
      "C:\\Users\\DELL\\anaconda3\\envs\\ta\\lib\\site-packages\\textattack\\loggers\\csv_logger.py:41: FutureWarning: The frame.append method is deprecated and will be removed from pandas in a future version. Use pandas.concat instead.\n",
      "  self.df = self.df.append(row, ignore_index=True)\n",
      "C:\\Users\\DELL\\anaconda3\\envs\\ta\\lib\\site-packages\\textattack\\loggers\\csv_logger.py:41: FutureWarning: The frame.append method is deprecated and will be removed from pandas in a future version. Use pandas.concat instead.\n",
      "  self.df = self.df.append(row, ignore_index=True)\n",
      "C:\\Users\\DELL\\anaconda3\\envs\\ta\\lib\\site-packages\\textattack\\loggers\\csv_logger.py:41: FutureWarning: The frame.append method is deprecated and will be removed from pandas in a future version. Use pandas.concat instead.\n",
      "  self.df = self.df.append(row, ignore_index=True)\n",
      "C:\\Users\\DELL\\anaconda3\\envs\\ta\\lib\\site-packages\\textattack\\loggers\\csv_logger.py:41: FutureWarning: The frame.append method is deprecated and will be removed from pandas in a future version. Use pandas.concat instead.\n",
      "  self.df = self.df.append(row, ignore_index=True)\n",
      "C:\\Users\\DELL\\anaconda3\\envs\\ta\\lib\\site-packages\\textattack\\loggers\\csv_logger.py:41: FutureWarning: The frame.append method is deprecated and will be removed from pandas in a future version. Use pandas.concat instead.\n",
      "  self.df = self.df.append(row, ignore_index=True)\n",
      "C:\\Users\\DELL\\anaconda3\\envs\\ta\\lib\\site-packages\\textattack\\loggers\\csv_logger.py:41: FutureWarning: The frame.append method is deprecated and will be removed from pandas in a future version. Use pandas.concat instead.\n",
      "  self.df = self.df.append(row, ignore_index=True)\n",
      "C:\\Users\\DELL\\anaconda3\\envs\\ta\\lib\\site-packages\\textattack\\loggers\\csv_logger.py:41: FutureWarning: The frame.append method is deprecated and will be removed from pandas in a future version. Use pandas.concat instead.\n",
      "  self.df = self.df.append(row, ignore_index=True)\n",
      "C:\\Users\\DELL\\anaconda3\\envs\\ta\\lib\\site-packages\\textattack\\loggers\\csv_logger.py:41: FutureWarning: The frame.append method is deprecated and will be removed from pandas in a future version. Use pandas.concat instead.\n",
      "  self.df = self.df.append(row, ignore_index=True)\n",
      "C:\\Users\\DELL\\anaconda3\\envs\\ta\\lib\\site-packages\\textattack\\loggers\\csv_logger.py:41: FutureWarning: The frame.append method is deprecated and will be removed from pandas in a future version. Use pandas.concat instead.\n",
      "  self.df = self.df.append(row, ignore_index=True)\n",
      "C:\\Users\\DELL\\anaconda3\\envs\\ta\\lib\\site-packages\\textattack\\loggers\\csv_logger.py:41: FutureWarning: The frame.append method is deprecated and will be removed from pandas in a future version. Use pandas.concat instead.\n",
      "  self.df = self.df.append(row, ignore_index=True)\n",
      "C:\\Users\\DELL\\anaconda3\\envs\\ta\\lib\\site-packages\\textattack\\loggers\\csv_logger.py:41: FutureWarning: The frame.append method is deprecated and will be removed from pandas in a future version. Use pandas.concat instead.\n",
      "  self.df = self.df.append(row, ignore_index=True)\n",
      "C:\\Users\\DELL\\anaconda3\\envs\\ta\\lib\\site-packages\\textattack\\loggers\\csv_logger.py:41: FutureWarning: The frame.append method is deprecated and will be removed from pandas in a future version. Use pandas.concat instead.\n",
      "  self.df = self.df.append(row, ignore_index=True)\n",
      "C:\\Users\\DELL\\anaconda3\\envs\\ta\\lib\\site-packages\\textattack\\loggers\\csv_logger.py:41: FutureWarning: The frame.append method is deprecated and will be removed from pandas in a future version. Use pandas.concat instead.\n",
      "  self.df = self.df.append(row, ignore_index=True)\n",
      "C:\\Users\\DELL\\anaconda3\\envs\\ta\\lib\\site-packages\\textattack\\loggers\\csv_logger.py:41: FutureWarning: The frame.append method is deprecated and will be removed from pandas in a future version. Use pandas.concat instead.\n",
      "  self.df = self.df.append(row, ignore_index=True)\n",
      "C:\\Users\\DELL\\anaconda3\\envs\\ta\\lib\\site-packages\\textattack\\loggers\\csv_logger.py:41: FutureWarning: The frame.append method is deprecated and will be removed from pandas in a future version. Use pandas.concat instead.\n",
      "  self.df = self.df.append(row, ignore_index=True)\n",
      "C:\\Users\\DELL\\anaconda3\\envs\\ta\\lib\\site-packages\\textattack\\loggers\\csv_logger.py:41: FutureWarning: The frame.append method is deprecated and will be removed from pandas in a future version. Use pandas.concat instead.\n",
      "  self.df = self.df.append(row, ignore_index=True)\n",
      "C:\\Users\\DELL\\anaconda3\\envs\\ta\\lib\\site-packages\\textattack\\loggers\\csv_logger.py:41: FutureWarning: The frame.append method is deprecated and will be removed from pandas in a future version. Use pandas.concat instead.\n",
      "  self.df = self.df.append(row, ignore_index=True)\n",
      "C:\\Users\\DELL\\anaconda3\\envs\\ta\\lib\\site-packages\\textattack\\loggers\\csv_logger.py:41: FutureWarning: The frame.append method is deprecated and will be removed from pandas in a future version. Use pandas.concat instead.\n",
      "  self.df = self.df.append(row, ignore_index=True)\n",
      "C:\\Users\\DELL\\anaconda3\\envs\\ta\\lib\\site-packages\\textattack\\loggers\\csv_logger.py:41: FutureWarning: The frame.append method is deprecated and will be removed from pandas in a future version. Use pandas.concat instead.\n",
      "  self.df = self.df.append(row, ignore_index=True)\n",
      "C:\\Users\\DELL\\anaconda3\\envs\\ta\\lib\\site-packages\\textattack\\loggers\\csv_logger.py:41: FutureWarning: The frame.append method is deprecated and will be removed from pandas in a future version. Use pandas.concat instead.\n",
      "  self.df = self.df.append(row, ignore_index=True)\n",
      "C:\\Users\\DELL\\anaconda3\\envs\\ta\\lib\\site-packages\\textattack\\loggers\\csv_logger.py:41: FutureWarning: The frame.append method is deprecated and will be removed from pandas in a future version. Use pandas.concat instead.\n",
      "  self.df = self.df.append(row, ignore_index=True)\n",
      "C:\\Users\\DELL\\anaconda3\\envs\\ta\\lib\\site-packages\\textattack\\loggers\\csv_logger.py:41: FutureWarning: The frame.append method is deprecated and will be removed from pandas in a future version. Use pandas.concat instead.\n",
      "  self.df = self.df.append(row, ignore_index=True)\n",
      "C:\\Users\\DELL\\anaconda3\\envs\\ta\\lib\\site-packages\\textattack\\loggers\\csv_logger.py:41: FutureWarning: The frame.append method is deprecated and will be removed from pandas in a future version. Use pandas.concat instead.\n",
      "  self.df = self.df.append(row, ignore_index=True)\n",
      "C:\\Users\\DELL\\anaconda3\\envs\\ta\\lib\\site-packages\\textattack\\loggers\\csv_logger.py:41: FutureWarning: The frame.append method is deprecated and will be removed from pandas in a future version. Use pandas.concat instead.\n",
      "  self.df = self.df.append(row, ignore_index=True)\n",
      "C:\\Users\\DELL\\anaconda3\\envs\\ta\\lib\\site-packages\\textattack\\loggers\\csv_logger.py:41: FutureWarning: The frame.append method is deprecated and will be removed from pandas in a future version. Use pandas.concat instead.\n",
      "  self.df = self.df.append(row, ignore_index=True)\n",
      "C:\\Users\\DELL\\anaconda3\\envs\\ta\\lib\\site-packages\\textattack\\loggers\\csv_logger.py:41: FutureWarning: The frame.append method is deprecated and will be removed from pandas in a future version. Use pandas.concat instead.\n",
      "  self.df = self.df.append(row, ignore_index=True)\n",
      "C:\\Users\\DELL\\anaconda3\\envs\\ta\\lib\\site-packages\\textattack\\loggers\\csv_logger.py:41: FutureWarning: The frame.append method is deprecated and will be removed from pandas in a future version. Use pandas.concat instead.\n",
      "  self.df = self.df.append(row, ignore_index=True)\n",
      "C:\\Users\\DELL\\anaconda3\\envs\\ta\\lib\\site-packages\\textattack\\loggers\\csv_logger.py:41: FutureWarning: The frame.append method is deprecated and will be removed from pandas in a future version. Use pandas.concat instead.\n",
      "  self.df = self.df.append(row, ignore_index=True)\n",
      "C:\\Users\\DELL\\anaconda3\\envs\\ta\\lib\\site-packages\\textattack\\loggers\\csv_logger.py:41: FutureWarning: The frame.append method is deprecated and will be removed from pandas in a future version. Use pandas.concat instead.\n",
      "  self.df = self.df.append(row, ignore_index=True)\n",
      "C:\\Users\\DELL\\anaconda3\\envs\\ta\\lib\\site-packages\\textattack\\loggers\\csv_logger.py:41: FutureWarning: The frame.append method is deprecated and will be removed from pandas in a future version. Use pandas.concat instead.\n",
      "  self.df = self.df.append(row, ignore_index=True)\n",
      "C:\\Users\\DELL\\anaconda3\\envs\\ta\\lib\\site-packages\\textattack\\loggers\\csv_logger.py:41: FutureWarning: The frame.append method is deprecated and will be removed from pandas in a future version. Use pandas.concat instead.\n",
      "  self.df = self.df.append(row, ignore_index=True)\n",
      "C:\\Users\\DELL\\anaconda3\\envs\\ta\\lib\\site-packages\\textattack\\loggers\\csv_logger.py:41: FutureWarning: The frame.append method is deprecated and will be removed from pandas in a future version. Use pandas.concat instead.\n",
      "  self.df = self.df.append(row, ignore_index=True)\n",
      "C:\\Users\\DELL\\anaconda3\\envs\\ta\\lib\\site-packages\\textattack\\loggers\\csv_logger.py:41: FutureWarning: The frame.append method is deprecated and will be removed from pandas in a future version. Use pandas.concat instead.\n",
      "  self.df = self.df.append(row, ignore_index=True)\n",
      "C:\\Users\\DELL\\anaconda3\\envs\\ta\\lib\\site-packages\\textattack\\loggers\\csv_logger.py:41: FutureWarning: The frame.append method is deprecated and will be removed from pandas in a future version. Use pandas.concat instead.\n",
      "  self.df = self.df.append(row, ignore_index=True)\n",
      "C:\\Users\\DELL\\anaconda3\\envs\\ta\\lib\\site-packages\\textattack\\loggers\\csv_logger.py:41: FutureWarning: The frame.append method is deprecated and will be removed from pandas in a future version. Use pandas.concat instead.\n",
      "  self.df = self.df.append(row, ignore_index=True)\n"
     ]
    },
    {
     "name": "stderr",
     "output_type": "stream",
     "text": [
      "C:\\Users\\DELL\\anaconda3\\envs\\ta\\lib\\site-packages\\textattack\\loggers\\csv_logger.py:41: FutureWarning: The frame.append method is deprecated and will be removed from pandas in a future version. Use pandas.concat instead.\n",
      "  self.df = self.df.append(row, ignore_index=True)\n",
      "C:\\Users\\DELL\\anaconda3\\envs\\ta\\lib\\site-packages\\textattack\\loggers\\csv_logger.py:41: FutureWarning: The frame.append method is deprecated and will be removed from pandas in a future version. Use pandas.concat instead.\n",
      "  self.df = self.df.append(row, ignore_index=True)\n",
      "C:\\Users\\DELL\\anaconda3\\envs\\ta\\lib\\site-packages\\textattack\\loggers\\csv_logger.py:41: FutureWarning: The frame.append method is deprecated and will be removed from pandas in a future version. Use pandas.concat instead.\n",
      "  self.df = self.df.append(row, ignore_index=True)\n",
      "C:\\Users\\DELL\\anaconda3\\envs\\ta\\lib\\site-packages\\textattack\\loggers\\csv_logger.py:41: FutureWarning: The frame.append method is deprecated and will be removed from pandas in a future version. Use pandas.concat instead.\n",
      "  self.df = self.df.append(row, ignore_index=True)\n",
      "C:\\Users\\DELL\\anaconda3\\envs\\ta\\lib\\site-packages\\textattack\\loggers\\csv_logger.py:41: FutureWarning: The frame.append method is deprecated and will be removed from pandas in a future version. Use pandas.concat instead.\n",
      "  self.df = self.df.append(row, ignore_index=True)\n",
      "C:\\Users\\DELL\\anaconda3\\envs\\ta\\lib\\site-packages\\textattack\\loggers\\csv_logger.py:41: FutureWarning: The frame.append method is deprecated and will be removed from pandas in a future version. Use pandas.concat instead.\n",
      "  self.df = self.df.append(row, ignore_index=True)\n",
      "C:\\Users\\DELL\\anaconda3\\envs\\ta\\lib\\site-packages\\textattack\\loggers\\csv_logger.py:41: FutureWarning: The frame.append method is deprecated and will be removed from pandas in a future version. Use pandas.concat instead.\n",
      "  self.df = self.df.append(row, ignore_index=True)\n",
      "C:\\Users\\DELL\\anaconda3\\envs\\ta\\lib\\site-packages\\textattack\\loggers\\csv_logger.py:41: FutureWarning: The frame.append method is deprecated and will be removed from pandas in a future version. Use pandas.concat instead.\n",
      "  self.df = self.df.append(row, ignore_index=True)\n",
      "C:\\Users\\DELL\\anaconda3\\envs\\ta\\lib\\site-packages\\textattack\\loggers\\csv_logger.py:41: FutureWarning: The frame.append method is deprecated and will be removed from pandas in a future version. Use pandas.concat instead.\n",
      "  self.df = self.df.append(row, ignore_index=True)\n",
      "C:\\Users\\DELL\\anaconda3\\envs\\ta\\lib\\site-packages\\textattack\\loggers\\csv_logger.py:41: FutureWarning: The frame.append method is deprecated and will be removed from pandas in a future version. Use pandas.concat instead.\n",
      "  self.df = self.df.append(row, ignore_index=True)\n",
      "C:\\Users\\DELL\\anaconda3\\envs\\ta\\lib\\site-packages\\textattack\\loggers\\csv_logger.py:41: FutureWarning: The frame.append method is deprecated and will be removed from pandas in a future version. Use pandas.concat instead.\n",
      "  self.df = self.df.append(row, ignore_index=True)\n",
      "C:\\Users\\DELL\\anaconda3\\envs\\ta\\lib\\site-packages\\textattack\\loggers\\csv_logger.py:41: FutureWarning: The frame.append method is deprecated and will be removed from pandas in a future version. Use pandas.concat instead.\n",
      "  self.df = self.df.append(row, ignore_index=True)\n",
      "C:\\Users\\DELL\\anaconda3\\envs\\ta\\lib\\site-packages\\textattack\\loggers\\csv_logger.py:41: FutureWarning: The frame.append method is deprecated and will be removed from pandas in a future version. Use pandas.concat instead.\n",
      "  self.df = self.df.append(row, ignore_index=True)\n",
      "C:\\Users\\DELL\\anaconda3\\envs\\ta\\lib\\site-packages\\textattack\\loggers\\csv_logger.py:41: FutureWarning: The frame.append method is deprecated and will be removed from pandas in a future version. Use pandas.concat instead.\n",
      "  self.df = self.df.append(row, ignore_index=True)\n",
      "C:\\Users\\DELL\\anaconda3\\envs\\ta\\lib\\site-packages\\textattack\\loggers\\csv_logger.py:41: FutureWarning: The frame.append method is deprecated and will be removed from pandas in a future version. Use pandas.concat instead.\n",
      "  self.df = self.df.append(row, ignore_index=True)\n",
      "C:\\Users\\DELL\\anaconda3\\envs\\ta\\lib\\site-packages\\textattack\\loggers\\csv_logger.py:41: FutureWarning: The frame.append method is deprecated and will be removed from pandas in a future version. Use pandas.concat instead.\n",
      "  self.df = self.df.append(row, ignore_index=True)\n",
      "C:\\Users\\DELL\\anaconda3\\envs\\ta\\lib\\site-packages\\textattack\\loggers\\csv_logger.py:41: FutureWarning: The frame.append method is deprecated and will be removed from pandas in a future version. Use pandas.concat instead.\n",
      "  self.df = self.df.append(row, ignore_index=True)\n",
      "C:\\Users\\DELL\\anaconda3\\envs\\ta\\lib\\site-packages\\textattack\\loggers\\csv_logger.py:41: FutureWarning: The frame.append method is deprecated and will be removed from pandas in a future version. Use pandas.concat instead.\n",
      "  self.df = self.df.append(row, ignore_index=True)\n",
      "C:\\Users\\DELL\\anaconda3\\envs\\ta\\lib\\site-packages\\textattack\\loggers\\csv_logger.py:41: FutureWarning: The frame.append method is deprecated and will be removed from pandas in a future version. Use pandas.concat instead.\n",
      "  self.df = self.df.append(row, ignore_index=True)\n",
      "C:\\Users\\DELL\\anaconda3\\envs\\ta\\lib\\site-packages\\textattack\\loggers\\csv_logger.py:41: FutureWarning: The frame.append method is deprecated and will be removed from pandas in a future version. Use pandas.concat instead.\n",
      "  self.df = self.df.append(row, ignore_index=True)\n",
      "C:\\Users\\DELL\\anaconda3\\envs\\ta\\lib\\site-packages\\textattack\\loggers\\csv_logger.py:41: FutureWarning: The frame.append method is deprecated and will be removed from pandas in a future version. Use pandas.concat instead.\n",
      "  self.df = self.df.append(row, ignore_index=True)\n",
      "C:\\Users\\DELL\\anaconda3\\envs\\ta\\lib\\site-packages\\textattack\\loggers\\csv_logger.py:41: FutureWarning: The frame.append method is deprecated and will be removed from pandas in a future version. Use pandas.concat instead.\n",
      "  self.df = self.df.append(row, ignore_index=True)\n",
      "C:\\Users\\DELL\\anaconda3\\envs\\ta\\lib\\site-packages\\textattack\\loggers\\csv_logger.py:41: FutureWarning: The frame.append method is deprecated and will be removed from pandas in a future version. Use pandas.concat instead.\n",
      "  self.df = self.df.append(row, ignore_index=True)\n",
      "C:\\Users\\DELL\\anaconda3\\envs\\ta\\lib\\site-packages\\textattack\\loggers\\csv_logger.py:41: FutureWarning: The frame.append method is deprecated and will be removed from pandas in a future version. Use pandas.concat instead.\n",
      "  self.df = self.df.append(row, ignore_index=True)\n",
      "C:\\Users\\DELL\\anaconda3\\envs\\ta\\lib\\site-packages\\textattack\\loggers\\csv_logger.py:41: FutureWarning: The frame.append method is deprecated and will be removed from pandas in a future version. Use pandas.concat instead.\n",
      "  self.df = self.df.append(row, ignore_index=True)\n",
      "C:\\Users\\DELL\\anaconda3\\envs\\ta\\lib\\site-packages\\textattack\\loggers\\csv_logger.py:41: FutureWarning: The frame.append method is deprecated and will be removed from pandas in a future version. Use pandas.concat instead.\n",
      "  self.df = self.df.append(row, ignore_index=True)\n",
      "C:\\Users\\DELL\\anaconda3\\envs\\ta\\lib\\site-packages\\textattack\\loggers\\csv_logger.py:41: FutureWarning: The frame.append method is deprecated and will be removed from pandas in a future version. Use pandas.concat instead.\n",
      "  self.df = self.df.append(row, ignore_index=True)\n",
      "C:\\Users\\DELL\\anaconda3\\envs\\ta\\lib\\site-packages\\textattack\\loggers\\csv_logger.py:41: FutureWarning: The frame.append method is deprecated and will be removed from pandas in a future version. Use pandas.concat instead.\n",
      "  self.df = self.df.append(row, ignore_index=True)\n",
      "C:\\Users\\DELL\\anaconda3\\envs\\ta\\lib\\site-packages\\textattack\\loggers\\csv_logger.py:41: FutureWarning: The frame.append method is deprecated and will be removed from pandas in a future version. Use pandas.concat instead.\n",
      "  self.df = self.df.append(row, ignore_index=True)\n",
      "C:\\Users\\DELL\\anaconda3\\envs\\ta\\lib\\site-packages\\textattack\\loggers\\csv_logger.py:41: FutureWarning: The frame.append method is deprecated and will be removed from pandas in a future version. Use pandas.concat instead.\n",
      "  self.df = self.df.append(row, ignore_index=True)\n",
      "C:\\Users\\DELL\\anaconda3\\envs\\ta\\lib\\site-packages\\textattack\\loggers\\csv_logger.py:41: FutureWarning: The frame.append method is deprecated and will be removed from pandas in a future version. Use pandas.concat instead.\n",
      "  self.df = self.df.append(row, ignore_index=True)\n",
      "C:\\Users\\DELL\\anaconda3\\envs\\ta\\lib\\site-packages\\textattack\\loggers\\csv_logger.py:41: FutureWarning: The frame.append method is deprecated and will be removed from pandas in a future version. Use pandas.concat instead.\n",
      "  self.df = self.df.append(row, ignore_index=True)\n",
      "C:\\Users\\DELL\\anaconda3\\envs\\ta\\lib\\site-packages\\textattack\\loggers\\csv_logger.py:41: FutureWarning: The frame.append method is deprecated and will be removed from pandas in a future version. Use pandas.concat instead.\n",
      "  self.df = self.df.append(row, ignore_index=True)\n",
      "C:\\Users\\DELL\\anaconda3\\envs\\ta\\lib\\site-packages\\textattack\\loggers\\csv_logger.py:41: FutureWarning: The frame.append method is deprecated and will be removed from pandas in a future version. Use pandas.concat instead.\n",
      "  self.df = self.df.append(row, ignore_index=True)\n",
      "C:\\Users\\DELL\\anaconda3\\envs\\ta\\lib\\site-packages\\textattack\\loggers\\csv_logger.py:41: FutureWarning: The frame.append method is deprecated and will be removed from pandas in a future version. Use pandas.concat instead.\n",
      "  self.df = self.df.append(row, ignore_index=True)\n",
      "C:\\Users\\DELL\\anaconda3\\envs\\ta\\lib\\site-packages\\textattack\\loggers\\csv_logger.py:41: FutureWarning: The frame.append method is deprecated and will be removed from pandas in a future version. Use pandas.concat instead.\n",
      "  self.df = self.df.append(row, ignore_index=True)\n",
      "C:\\Users\\DELL\\anaconda3\\envs\\ta\\lib\\site-packages\\textattack\\loggers\\csv_logger.py:41: FutureWarning: The frame.append method is deprecated and will be removed from pandas in a future version. Use pandas.concat instead.\n",
      "  self.df = self.df.append(row, ignore_index=True)\n",
      "C:\\Users\\DELL\\anaconda3\\envs\\ta\\lib\\site-packages\\textattack\\loggers\\csv_logger.py:41: FutureWarning: The frame.append method is deprecated and will be removed from pandas in a future version. Use pandas.concat instead.\n",
      "  self.df = self.df.append(row, ignore_index=True)\n",
      "C:\\Users\\DELL\\anaconda3\\envs\\ta\\lib\\site-packages\\textattack\\loggers\\csv_logger.py:41: FutureWarning: The frame.append method is deprecated and will be removed from pandas in a future version. Use pandas.concat instead.\n",
      "  self.df = self.df.append(row, ignore_index=True)\n",
      "C:\\Users\\DELL\\anaconda3\\envs\\ta\\lib\\site-packages\\textattack\\loggers\\csv_logger.py:41: FutureWarning: The frame.append method is deprecated and will be removed from pandas in a future version. Use pandas.concat instead.\n",
      "  self.df = self.df.append(row, ignore_index=True)\n",
      "C:\\Users\\DELL\\anaconda3\\envs\\ta\\lib\\site-packages\\textattack\\loggers\\csv_logger.py:41: FutureWarning: The frame.append method is deprecated and will be removed from pandas in a future version. Use pandas.concat instead.\n",
      "  self.df = self.df.append(row, ignore_index=True)\n",
      "C:\\Users\\DELL\\anaconda3\\envs\\ta\\lib\\site-packages\\textattack\\loggers\\csv_logger.py:41: FutureWarning: The frame.append method is deprecated and will be removed from pandas in a future version. Use pandas.concat instead.\n",
      "  self.df = self.df.append(row, ignore_index=True)\n",
      "C:\\Users\\DELL\\anaconda3\\envs\\ta\\lib\\site-packages\\textattack\\loggers\\csv_logger.py:41: FutureWarning: The frame.append method is deprecated and will be removed from pandas in a future version. Use pandas.concat instead.\n",
      "  self.df = self.df.append(row, ignore_index=True)\n",
      "C:\\Users\\DELL\\anaconda3\\envs\\ta\\lib\\site-packages\\textattack\\loggers\\csv_logger.py:41: FutureWarning: The frame.append method is deprecated and will be removed from pandas in a future version. Use pandas.concat instead.\n",
      "  self.df = self.df.append(row, ignore_index=True)\n",
      "C:\\Users\\DELL\\anaconda3\\envs\\ta\\lib\\site-packages\\textattack\\loggers\\csv_logger.py:41: FutureWarning: The frame.append method is deprecated and will be removed from pandas in a future version. Use pandas.concat instead.\n",
      "  self.df = self.df.append(row, ignore_index=True)\n",
      "C:\\Users\\DELL\\anaconda3\\envs\\ta\\lib\\site-packages\\textattack\\loggers\\csv_logger.py:41: FutureWarning: The frame.append method is deprecated and will be removed from pandas in a future version. Use pandas.concat instead.\n",
      "  self.df = self.df.append(row, ignore_index=True)\n",
      "C:\\Users\\DELL\\anaconda3\\envs\\ta\\lib\\site-packages\\textattack\\loggers\\csv_logger.py:41: FutureWarning: The frame.append method is deprecated and will be removed from pandas in a future version. Use pandas.concat instead.\n",
      "  self.df = self.df.append(row, ignore_index=True)\n",
      "C:\\Users\\DELL\\anaconda3\\envs\\ta\\lib\\site-packages\\textattack\\loggers\\csv_logger.py:41: FutureWarning: The frame.append method is deprecated and will be removed from pandas in a future version. Use pandas.concat instead.\n",
      "  self.df = self.df.append(row, ignore_index=True)\n",
      "C:\\Users\\DELL\\anaconda3\\envs\\ta\\lib\\site-packages\\textattack\\loggers\\csv_logger.py:41: FutureWarning: The frame.append method is deprecated and will be removed from pandas in a future version. Use pandas.concat instead.\n",
      "  self.df = self.df.append(row, ignore_index=True)\n",
      "C:\\Users\\DELL\\anaconda3\\envs\\ta\\lib\\site-packages\\textattack\\loggers\\csv_logger.py:41: FutureWarning: The frame.append method is deprecated and will be removed from pandas in a future version. Use pandas.concat instead.\n",
      "  self.df = self.df.append(row, ignore_index=True)\n"
     ]
    },
    {
     "name": "stderr",
     "output_type": "stream",
     "text": [
      "C:\\Users\\DELL\\anaconda3\\envs\\ta\\lib\\site-packages\\textattack\\loggers\\csv_logger.py:41: FutureWarning: The frame.append method is deprecated and will be removed from pandas in a future version. Use pandas.concat instead.\n",
      "  self.df = self.df.append(row, ignore_index=True)\n",
      "C:\\Users\\DELL\\anaconda3\\envs\\ta\\lib\\site-packages\\textattack\\loggers\\csv_logger.py:41: FutureWarning: The frame.append method is deprecated and will be removed from pandas in a future version. Use pandas.concat instead.\n",
      "  self.df = self.df.append(row, ignore_index=True)\n",
      "C:\\Users\\DELL\\anaconda3\\envs\\ta\\lib\\site-packages\\textattack\\loggers\\csv_logger.py:41: FutureWarning: The frame.append method is deprecated and will be removed from pandas in a future version. Use pandas.concat instead.\n",
      "  self.df = self.df.append(row, ignore_index=True)\n",
      "C:\\Users\\DELL\\anaconda3\\envs\\ta\\lib\\site-packages\\textattack\\loggers\\csv_logger.py:41: FutureWarning: The frame.append method is deprecated and will be removed from pandas in a future version. Use pandas.concat instead.\n",
      "  self.df = self.df.append(row, ignore_index=True)\n",
      "C:\\Users\\DELL\\anaconda3\\envs\\ta\\lib\\site-packages\\textattack\\loggers\\csv_logger.py:41: FutureWarning: The frame.append method is deprecated and will be removed from pandas in a future version. Use pandas.concat instead.\n",
      "  self.df = self.df.append(row, ignore_index=True)\n",
      "C:\\Users\\DELL\\anaconda3\\envs\\ta\\lib\\site-packages\\textattack\\loggers\\csv_logger.py:41: FutureWarning: The frame.append method is deprecated and will be removed from pandas in a future version. Use pandas.concat instead.\n",
      "  self.df = self.df.append(row, ignore_index=True)\n",
      "C:\\Users\\DELL\\anaconda3\\envs\\ta\\lib\\site-packages\\textattack\\loggers\\csv_logger.py:41: FutureWarning: The frame.append method is deprecated and will be removed from pandas in a future version. Use pandas.concat instead.\n",
      "  self.df = self.df.append(row, ignore_index=True)\n",
      "C:\\Users\\DELL\\anaconda3\\envs\\ta\\lib\\site-packages\\textattack\\loggers\\csv_logger.py:41: FutureWarning: The frame.append method is deprecated and will be removed from pandas in a future version. Use pandas.concat instead.\n",
      "  self.df = self.df.append(row, ignore_index=True)\n",
      "C:\\Users\\DELL\\anaconda3\\envs\\ta\\lib\\site-packages\\textattack\\loggers\\csv_logger.py:41: FutureWarning: The frame.append method is deprecated and will be removed from pandas in a future version. Use pandas.concat instead.\n",
      "  self.df = self.df.append(row, ignore_index=True)\n",
      "C:\\Users\\DELL\\anaconda3\\envs\\ta\\lib\\site-packages\\textattack\\loggers\\csv_logger.py:41: FutureWarning: The frame.append method is deprecated and will be removed from pandas in a future version. Use pandas.concat instead.\n",
      "  self.df = self.df.append(row, ignore_index=True)\n",
      "C:\\Users\\DELL\\anaconda3\\envs\\ta\\lib\\site-packages\\textattack\\loggers\\csv_logger.py:41: FutureWarning: The frame.append method is deprecated and will be removed from pandas in a future version. Use pandas.concat instead.\n",
      "  self.df = self.df.append(row, ignore_index=True)\n",
      "C:\\Users\\DELL\\anaconda3\\envs\\ta\\lib\\site-packages\\textattack\\loggers\\csv_logger.py:41: FutureWarning: The frame.append method is deprecated and will be removed from pandas in a future version. Use pandas.concat instead.\n",
      "  self.df = self.df.append(row, ignore_index=True)\n",
      "C:\\Users\\DELL\\anaconda3\\envs\\ta\\lib\\site-packages\\textattack\\loggers\\csv_logger.py:41: FutureWarning: The frame.append method is deprecated and will be removed from pandas in a future version. Use pandas.concat instead.\n",
      "  self.df = self.df.append(row, ignore_index=True)\n",
      "C:\\Users\\DELL\\anaconda3\\envs\\ta\\lib\\site-packages\\textattack\\loggers\\csv_logger.py:41: FutureWarning: The frame.append method is deprecated and will be removed from pandas in a future version. Use pandas.concat instead.\n",
      "  self.df = self.df.append(row, ignore_index=True)\n",
      "C:\\Users\\DELL\\anaconda3\\envs\\ta\\lib\\site-packages\\textattack\\loggers\\csv_logger.py:41: FutureWarning: The frame.append method is deprecated and will be removed from pandas in a future version. Use pandas.concat instead.\n",
      "  self.df = self.df.append(row, ignore_index=True)\n",
      "C:\\Users\\DELL\\anaconda3\\envs\\ta\\lib\\site-packages\\textattack\\loggers\\csv_logger.py:41: FutureWarning: The frame.append method is deprecated and will be removed from pandas in a future version. Use pandas.concat instead.\n",
      "  self.df = self.df.append(row, ignore_index=True)\n",
      "C:\\Users\\DELL\\anaconda3\\envs\\ta\\lib\\site-packages\\textattack\\loggers\\csv_logger.py:41: FutureWarning: The frame.append method is deprecated and will be removed from pandas in a future version. Use pandas.concat instead.\n",
      "  self.df = self.df.append(row, ignore_index=True)\n",
      "C:\\Users\\DELL\\anaconda3\\envs\\ta\\lib\\site-packages\\textattack\\loggers\\csv_logger.py:41: FutureWarning: The frame.append method is deprecated and will be removed from pandas in a future version. Use pandas.concat instead.\n",
      "  self.df = self.df.append(row, ignore_index=True)\n",
      "C:\\Users\\DELL\\anaconda3\\envs\\ta\\lib\\site-packages\\textattack\\loggers\\csv_logger.py:41: FutureWarning: The frame.append method is deprecated and will be removed from pandas in a future version. Use pandas.concat instead.\n",
      "  self.df = self.df.append(row, ignore_index=True)\n",
      "C:\\Users\\DELL\\anaconda3\\envs\\ta\\lib\\site-packages\\textattack\\loggers\\csv_logger.py:41: FutureWarning: The frame.append method is deprecated and will be removed from pandas in a future version. Use pandas.concat instead.\n",
      "  self.df = self.df.append(row, ignore_index=True)\n",
      "C:\\Users\\DELL\\anaconda3\\envs\\ta\\lib\\site-packages\\textattack\\loggers\\csv_logger.py:41: FutureWarning: The frame.append method is deprecated and will be removed from pandas in a future version. Use pandas.concat instead.\n",
      "  self.df = self.df.append(row, ignore_index=True)\n",
      "C:\\Users\\DELL\\anaconda3\\envs\\ta\\lib\\site-packages\\textattack\\loggers\\csv_logger.py:41: FutureWarning: The frame.append method is deprecated and will be removed from pandas in a future version. Use pandas.concat instead.\n",
      "  self.df = self.df.append(row, ignore_index=True)\n",
      "C:\\Users\\DELL\\anaconda3\\envs\\ta\\lib\\site-packages\\textattack\\loggers\\csv_logger.py:41: FutureWarning: The frame.append method is deprecated and will be removed from pandas in a future version. Use pandas.concat instead.\n",
      "  self.df = self.df.append(row, ignore_index=True)\n",
      "C:\\Users\\DELL\\anaconda3\\envs\\ta\\lib\\site-packages\\textattack\\loggers\\csv_logger.py:41: FutureWarning: The frame.append method is deprecated and will be removed from pandas in a future version. Use pandas.concat instead.\n",
      "  self.df = self.df.append(row, ignore_index=True)\n",
      "C:\\Users\\DELL\\anaconda3\\envs\\ta\\lib\\site-packages\\textattack\\loggers\\csv_logger.py:41: FutureWarning: The frame.append method is deprecated and will be removed from pandas in a future version. Use pandas.concat instead.\n",
      "  self.df = self.df.append(row, ignore_index=True)\n",
      "C:\\Users\\DELL\\anaconda3\\envs\\ta\\lib\\site-packages\\textattack\\loggers\\csv_logger.py:41: FutureWarning: The frame.append method is deprecated and will be removed from pandas in a future version. Use pandas.concat instead.\n",
      "  self.df = self.df.append(row, ignore_index=True)\n",
      "C:\\Users\\DELL\\anaconda3\\envs\\ta\\lib\\site-packages\\textattack\\loggers\\csv_logger.py:41: FutureWarning: The frame.append method is deprecated and will be removed from pandas in a future version. Use pandas.concat instead.\n",
      "  self.df = self.df.append(row, ignore_index=True)\n",
      "C:\\Users\\DELL\\anaconda3\\envs\\ta\\lib\\site-packages\\textattack\\loggers\\csv_logger.py:41: FutureWarning: The frame.append method is deprecated and will be removed from pandas in a future version. Use pandas.concat instead.\n",
      "  self.df = self.df.append(row, ignore_index=True)\n",
      "C:\\Users\\DELL\\anaconda3\\envs\\ta\\lib\\site-packages\\textattack\\loggers\\csv_logger.py:41: FutureWarning: The frame.append method is deprecated and will be removed from pandas in a future version. Use pandas.concat instead.\n",
      "  self.df = self.df.append(row, ignore_index=True)\n",
      "C:\\Users\\DELL\\anaconda3\\envs\\ta\\lib\\site-packages\\textattack\\loggers\\csv_logger.py:41: FutureWarning: The frame.append method is deprecated and will be removed from pandas in a future version. Use pandas.concat instead.\n",
      "  self.df = self.df.append(row, ignore_index=True)\n",
      "C:\\Users\\DELL\\anaconda3\\envs\\ta\\lib\\site-packages\\textattack\\loggers\\csv_logger.py:41: FutureWarning: The frame.append method is deprecated and will be removed from pandas in a future version. Use pandas.concat instead.\n",
      "  self.df = self.df.append(row, ignore_index=True)\n",
      "C:\\Users\\DELL\\anaconda3\\envs\\ta\\lib\\site-packages\\textattack\\loggers\\csv_logger.py:41: FutureWarning: The frame.append method is deprecated and will be removed from pandas in a future version. Use pandas.concat instead.\n",
      "  self.df = self.df.append(row, ignore_index=True)\n",
      "C:\\Users\\DELL\\anaconda3\\envs\\ta\\lib\\site-packages\\textattack\\loggers\\csv_logger.py:41: FutureWarning: The frame.append method is deprecated and will be removed from pandas in a future version. Use pandas.concat instead.\n",
      "  self.df = self.df.append(row, ignore_index=True)\n",
      "C:\\Users\\DELL\\anaconda3\\envs\\ta\\lib\\site-packages\\textattack\\loggers\\csv_logger.py:41: FutureWarning: The frame.append method is deprecated and will be removed from pandas in a future version. Use pandas.concat instead.\n",
      "  self.df = self.df.append(row, ignore_index=True)\n",
      "C:\\Users\\DELL\\anaconda3\\envs\\ta\\lib\\site-packages\\textattack\\loggers\\csv_logger.py:41: FutureWarning: The frame.append method is deprecated and will be removed from pandas in a future version. Use pandas.concat instead.\n",
      "  self.df = self.df.append(row, ignore_index=True)\n",
      "C:\\Users\\DELL\\anaconda3\\envs\\ta\\lib\\site-packages\\textattack\\loggers\\csv_logger.py:41: FutureWarning: The frame.append method is deprecated and will be removed from pandas in a future version. Use pandas.concat instead.\n",
      "  self.df = self.df.append(row, ignore_index=True)\n",
      "C:\\Users\\DELL\\anaconda3\\envs\\ta\\lib\\site-packages\\textattack\\loggers\\csv_logger.py:41: FutureWarning: The frame.append method is deprecated and will be removed from pandas in a future version. Use pandas.concat instead.\n",
      "  self.df = self.df.append(row, ignore_index=True)\n",
      "C:\\Users\\DELL\\anaconda3\\envs\\ta\\lib\\site-packages\\textattack\\loggers\\csv_logger.py:41: FutureWarning: The frame.append method is deprecated and will be removed from pandas in a future version. Use pandas.concat instead.\n",
      "  self.df = self.df.append(row, ignore_index=True)\n",
      "C:\\Users\\DELL\\anaconda3\\envs\\ta\\lib\\site-packages\\textattack\\loggers\\csv_logger.py:41: FutureWarning: The frame.append method is deprecated and will be removed from pandas in a future version. Use pandas.concat instead.\n",
      "  self.df = self.df.append(row, ignore_index=True)\n",
      "C:\\Users\\DELL\\anaconda3\\envs\\ta\\lib\\site-packages\\textattack\\loggers\\csv_logger.py:41: FutureWarning: The frame.append method is deprecated and will be removed from pandas in a future version. Use pandas.concat instead.\n",
      "  self.df = self.df.append(row, ignore_index=True)\n",
      "C:\\Users\\DELL\\anaconda3\\envs\\ta\\lib\\site-packages\\textattack\\loggers\\csv_logger.py:41: FutureWarning: The frame.append method is deprecated and will be removed from pandas in a future version. Use pandas.concat instead.\n",
      "  self.df = self.df.append(row, ignore_index=True)\n",
      "C:\\Users\\DELL\\anaconda3\\envs\\ta\\lib\\site-packages\\textattack\\loggers\\csv_logger.py:41: FutureWarning: The frame.append method is deprecated and will be removed from pandas in a future version. Use pandas.concat instead.\n",
      "  self.df = self.df.append(row, ignore_index=True)\n",
      "C:\\Users\\DELL\\anaconda3\\envs\\ta\\lib\\site-packages\\textattack\\loggers\\csv_logger.py:41: FutureWarning: The frame.append method is deprecated and will be removed from pandas in a future version. Use pandas.concat instead.\n",
      "  self.df = self.df.append(row, ignore_index=True)\n",
      "C:\\Users\\DELL\\anaconda3\\envs\\ta\\lib\\site-packages\\textattack\\loggers\\csv_logger.py:41: FutureWarning: The frame.append method is deprecated and will be removed from pandas in a future version. Use pandas.concat instead.\n",
      "  self.df = self.df.append(row, ignore_index=True)\n",
      "C:\\Users\\DELL\\anaconda3\\envs\\ta\\lib\\site-packages\\textattack\\loggers\\csv_logger.py:41: FutureWarning: The frame.append method is deprecated and will be removed from pandas in a future version. Use pandas.concat instead.\n",
      "  self.df = self.df.append(row, ignore_index=True)\n",
      "C:\\Users\\DELL\\anaconda3\\envs\\ta\\lib\\site-packages\\textattack\\loggers\\csv_logger.py:41: FutureWarning: The frame.append method is deprecated and will be removed from pandas in a future version. Use pandas.concat instead.\n",
      "  self.df = self.df.append(row, ignore_index=True)\n"
     ]
    },
    {
     "name": "stderr",
     "output_type": "stream",
     "text": [
      "C:\\Users\\DELL\\anaconda3\\envs\\ta\\lib\\site-packages\\textattack\\loggers\\csv_logger.py:41: FutureWarning: The frame.append method is deprecated and will be removed from pandas in a future version. Use pandas.concat instead.\n",
      "  self.df = self.df.append(row, ignore_index=True)\n",
      "C:\\Users\\DELL\\anaconda3\\envs\\ta\\lib\\site-packages\\textattack\\loggers\\csv_logger.py:41: FutureWarning: The frame.append method is deprecated and will be removed from pandas in a future version. Use pandas.concat instead.\n",
      "  self.df = self.df.append(row, ignore_index=True)\n",
      "C:\\Users\\DELL\\anaconda3\\envs\\ta\\lib\\site-packages\\textattack\\loggers\\csv_logger.py:41: FutureWarning: The frame.append method is deprecated and will be removed from pandas in a future version. Use pandas.concat instead.\n",
      "  self.df = self.df.append(row, ignore_index=True)\n",
      "C:\\Users\\DELL\\anaconda3\\envs\\ta\\lib\\site-packages\\textattack\\loggers\\csv_logger.py:41: FutureWarning: The frame.append method is deprecated and will be removed from pandas in a future version. Use pandas.concat instead.\n",
      "  self.df = self.df.append(row, ignore_index=True)\n",
      "C:\\Users\\DELL\\anaconda3\\envs\\ta\\lib\\site-packages\\textattack\\loggers\\csv_logger.py:41: FutureWarning: The frame.append method is deprecated and will be removed from pandas in a future version. Use pandas.concat instead.\n",
      "  self.df = self.df.append(row, ignore_index=True)\n",
      "C:\\Users\\DELL\\anaconda3\\envs\\ta\\lib\\site-packages\\textattack\\loggers\\csv_logger.py:41: FutureWarning: The frame.append method is deprecated and will be removed from pandas in a future version. Use pandas.concat instead.\n",
      "  self.df = self.df.append(row, ignore_index=True)\n",
      "C:\\Users\\DELL\\anaconda3\\envs\\ta\\lib\\site-packages\\textattack\\loggers\\csv_logger.py:41: FutureWarning: The frame.append method is deprecated and will be removed from pandas in a future version. Use pandas.concat instead.\n",
      "  self.df = self.df.append(row, ignore_index=True)\n",
      "C:\\Users\\DELL\\anaconda3\\envs\\ta\\lib\\site-packages\\textattack\\loggers\\csv_logger.py:41: FutureWarning: The frame.append method is deprecated and will be removed from pandas in a future version. Use pandas.concat instead.\n",
      "  self.df = self.df.append(row, ignore_index=True)\n",
      "C:\\Users\\DELL\\anaconda3\\envs\\ta\\lib\\site-packages\\textattack\\loggers\\csv_logger.py:41: FutureWarning: The frame.append method is deprecated and will be removed from pandas in a future version. Use pandas.concat instead.\n",
      "  self.df = self.df.append(row, ignore_index=True)\n",
      "C:\\Users\\DELL\\anaconda3\\envs\\ta\\lib\\site-packages\\textattack\\loggers\\csv_logger.py:41: FutureWarning: The frame.append method is deprecated and will be removed from pandas in a future version. Use pandas.concat instead.\n",
      "  self.df = self.df.append(row, ignore_index=True)\n",
      "C:\\Users\\DELL\\anaconda3\\envs\\ta\\lib\\site-packages\\textattack\\loggers\\csv_logger.py:41: FutureWarning: The frame.append method is deprecated and will be removed from pandas in a future version. Use pandas.concat instead.\n",
      "  self.df = self.df.append(row, ignore_index=True)\n",
      "C:\\Users\\DELL\\anaconda3\\envs\\ta\\lib\\site-packages\\textattack\\loggers\\csv_logger.py:41: FutureWarning: The frame.append method is deprecated and will be removed from pandas in a future version. Use pandas.concat instead.\n",
      "  self.df = self.df.append(row, ignore_index=True)\n",
      "C:\\Users\\DELL\\anaconda3\\envs\\ta\\lib\\site-packages\\textattack\\loggers\\csv_logger.py:41: FutureWarning: The frame.append method is deprecated and will be removed from pandas in a future version. Use pandas.concat instead.\n",
      "  self.df = self.df.append(row, ignore_index=True)\n",
      "C:\\Users\\DELL\\anaconda3\\envs\\ta\\lib\\site-packages\\textattack\\loggers\\csv_logger.py:41: FutureWarning: The frame.append method is deprecated and will be removed from pandas in a future version. Use pandas.concat instead.\n",
      "  self.df = self.df.append(row, ignore_index=True)\n",
      "C:\\Users\\DELL\\anaconda3\\envs\\ta\\lib\\site-packages\\textattack\\loggers\\csv_logger.py:41: FutureWarning: The frame.append method is deprecated and will be removed from pandas in a future version. Use pandas.concat instead.\n",
      "  self.df = self.df.append(row, ignore_index=True)\n",
      "C:\\Users\\DELL\\anaconda3\\envs\\ta\\lib\\site-packages\\textattack\\loggers\\csv_logger.py:41: FutureWarning: The frame.append method is deprecated and will be removed from pandas in a future version. Use pandas.concat instead.\n",
      "  self.df = self.df.append(row, ignore_index=True)\n",
      "C:\\Users\\DELL\\anaconda3\\envs\\ta\\lib\\site-packages\\textattack\\loggers\\csv_logger.py:41: FutureWarning: The frame.append method is deprecated and will be removed from pandas in a future version. Use pandas.concat instead.\n",
      "  self.df = self.df.append(row, ignore_index=True)\n",
      "C:\\Users\\DELL\\anaconda3\\envs\\ta\\lib\\site-packages\\textattack\\loggers\\csv_logger.py:41: FutureWarning: The frame.append method is deprecated and will be removed from pandas in a future version. Use pandas.concat instead.\n",
      "  self.df = self.df.append(row, ignore_index=True)\n",
      "C:\\Users\\DELL\\anaconda3\\envs\\ta\\lib\\site-packages\\textattack\\loggers\\csv_logger.py:41: FutureWarning: The frame.append method is deprecated and will be removed from pandas in a future version. Use pandas.concat instead.\n",
      "  self.df = self.df.append(row, ignore_index=True)\n",
      "C:\\Users\\DELL\\anaconda3\\envs\\ta\\lib\\site-packages\\textattack\\loggers\\csv_logger.py:41: FutureWarning: The frame.append method is deprecated and will be removed from pandas in a future version. Use pandas.concat instead.\n",
      "  self.df = self.df.append(row, ignore_index=True)\n",
      "C:\\Users\\DELL\\anaconda3\\envs\\ta\\lib\\site-packages\\textattack\\loggers\\csv_logger.py:41: FutureWarning: The frame.append method is deprecated and will be removed from pandas in a future version. Use pandas.concat instead.\n",
      "  self.df = self.df.append(row, ignore_index=True)\n",
      "C:\\Users\\DELL\\anaconda3\\envs\\ta\\lib\\site-packages\\textattack\\loggers\\csv_logger.py:41: FutureWarning: The frame.append method is deprecated and will be removed from pandas in a future version. Use pandas.concat instead.\n",
      "  self.df = self.df.append(row, ignore_index=True)\n",
      "C:\\Users\\DELL\\anaconda3\\envs\\ta\\lib\\site-packages\\textattack\\loggers\\csv_logger.py:41: FutureWarning: The frame.append method is deprecated and will be removed from pandas in a future version. Use pandas.concat instead.\n",
      "  self.df = self.df.append(row, ignore_index=True)\n",
      "C:\\Users\\DELL\\anaconda3\\envs\\ta\\lib\\site-packages\\textattack\\loggers\\csv_logger.py:41: FutureWarning: The frame.append method is deprecated and will be removed from pandas in a future version. Use pandas.concat instead.\n",
      "  self.df = self.df.append(row, ignore_index=True)\n",
      "C:\\Users\\DELL\\anaconda3\\envs\\ta\\lib\\site-packages\\textattack\\loggers\\csv_logger.py:41: FutureWarning: The frame.append method is deprecated and will be removed from pandas in a future version. Use pandas.concat instead.\n",
      "  self.df = self.df.append(row, ignore_index=True)\n",
      "C:\\Users\\DELL\\anaconda3\\envs\\ta\\lib\\site-packages\\textattack\\loggers\\csv_logger.py:41: FutureWarning: The frame.append method is deprecated and will be removed from pandas in a future version. Use pandas.concat instead.\n",
      "  self.df = self.df.append(row, ignore_index=True)\n",
      "C:\\Users\\DELL\\anaconda3\\envs\\ta\\lib\\site-packages\\textattack\\loggers\\csv_logger.py:41: FutureWarning: The frame.append method is deprecated and will be removed from pandas in a future version. Use pandas.concat instead.\n",
      "  self.df = self.df.append(row, ignore_index=True)\n",
      "C:\\Users\\DELL\\anaconda3\\envs\\ta\\lib\\site-packages\\textattack\\loggers\\csv_logger.py:41: FutureWarning: The frame.append method is deprecated and will be removed from pandas in a future version. Use pandas.concat instead.\n",
      "  self.df = self.df.append(row, ignore_index=True)\n",
      "C:\\Users\\DELL\\anaconda3\\envs\\ta\\lib\\site-packages\\textattack\\loggers\\csv_logger.py:41: FutureWarning: The frame.append method is deprecated and will be removed from pandas in a future version. Use pandas.concat instead.\n",
      "  self.df = self.df.append(row, ignore_index=True)\n",
      "C:\\Users\\DELL\\anaconda3\\envs\\ta\\lib\\site-packages\\textattack\\loggers\\csv_logger.py:41: FutureWarning: The frame.append method is deprecated and will be removed from pandas in a future version. Use pandas.concat instead.\n",
      "  self.df = self.df.append(row, ignore_index=True)\n",
      "C:\\Users\\DELL\\anaconda3\\envs\\ta\\lib\\site-packages\\textattack\\loggers\\csv_logger.py:41: FutureWarning: The frame.append method is deprecated and will be removed from pandas in a future version. Use pandas.concat instead.\n",
      "  self.df = self.df.append(row, ignore_index=True)\n",
      "C:\\Users\\DELL\\anaconda3\\envs\\ta\\lib\\site-packages\\textattack\\loggers\\csv_logger.py:41: FutureWarning: The frame.append method is deprecated and will be removed from pandas in a future version. Use pandas.concat instead.\n",
      "  self.df = self.df.append(row, ignore_index=True)\n",
      "C:\\Users\\DELL\\anaconda3\\envs\\ta\\lib\\site-packages\\textattack\\loggers\\csv_logger.py:41: FutureWarning: The frame.append method is deprecated and will be removed from pandas in a future version. Use pandas.concat instead.\n",
      "  self.df = self.df.append(row, ignore_index=True)\n",
      "C:\\Users\\DELL\\anaconda3\\envs\\ta\\lib\\site-packages\\textattack\\loggers\\csv_logger.py:41: FutureWarning: The frame.append method is deprecated and will be removed from pandas in a future version. Use pandas.concat instead.\n",
      "  self.df = self.df.append(row, ignore_index=True)\n",
      "C:\\Users\\DELL\\anaconda3\\envs\\ta\\lib\\site-packages\\textattack\\loggers\\csv_logger.py:41: FutureWarning: The frame.append method is deprecated and will be removed from pandas in a future version. Use pandas.concat instead.\n",
      "  self.df = self.df.append(row, ignore_index=True)\n",
      "C:\\Users\\DELL\\anaconda3\\envs\\ta\\lib\\site-packages\\textattack\\loggers\\csv_logger.py:41: FutureWarning: The frame.append method is deprecated and will be removed from pandas in a future version. Use pandas.concat instead.\n",
      "  self.df = self.df.append(row, ignore_index=True)\n",
      "C:\\Users\\DELL\\anaconda3\\envs\\ta\\lib\\site-packages\\textattack\\loggers\\csv_logger.py:41: FutureWarning: The frame.append method is deprecated and will be removed from pandas in a future version. Use pandas.concat instead.\n",
      "  self.df = self.df.append(row, ignore_index=True)\n",
      "C:\\Users\\DELL\\anaconda3\\envs\\ta\\lib\\site-packages\\textattack\\loggers\\csv_logger.py:41: FutureWarning: The frame.append method is deprecated and will be removed from pandas in a future version. Use pandas.concat instead.\n",
      "  self.df = self.df.append(row, ignore_index=True)\n",
      "C:\\Users\\DELL\\anaconda3\\envs\\ta\\lib\\site-packages\\textattack\\loggers\\csv_logger.py:41: FutureWarning: The frame.append method is deprecated and will be removed from pandas in a future version. Use pandas.concat instead.\n",
      "  self.df = self.df.append(row, ignore_index=True)\n",
      "C:\\Users\\DELL\\anaconda3\\envs\\ta\\lib\\site-packages\\textattack\\loggers\\csv_logger.py:41: FutureWarning: The frame.append method is deprecated and will be removed from pandas in a future version. Use pandas.concat instead.\n",
      "  self.df = self.df.append(row, ignore_index=True)\n",
      "C:\\Users\\DELL\\anaconda3\\envs\\ta\\lib\\site-packages\\textattack\\loggers\\csv_logger.py:41: FutureWarning: The frame.append method is deprecated and will be removed from pandas in a future version. Use pandas.concat instead.\n",
      "  self.df = self.df.append(row, ignore_index=True)\n",
      "C:\\Users\\DELL\\anaconda3\\envs\\ta\\lib\\site-packages\\textattack\\loggers\\csv_logger.py:41: FutureWarning: The frame.append method is deprecated and will be removed from pandas in a future version. Use pandas.concat instead.\n",
      "  self.df = self.df.append(row, ignore_index=True)\n",
      "C:\\Users\\DELL\\anaconda3\\envs\\ta\\lib\\site-packages\\textattack\\loggers\\csv_logger.py:41: FutureWarning: The frame.append method is deprecated and will be removed from pandas in a future version. Use pandas.concat instead.\n",
      "  self.df = self.df.append(row, ignore_index=True)\n",
      "C:\\Users\\DELL\\anaconda3\\envs\\ta\\lib\\site-packages\\textattack\\loggers\\csv_logger.py:41: FutureWarning: The frame.append method is deprecated and will be removed from pandas in a future version. Use pandas.concat instead.\n",
      "  self.df = self.df.append(row, ignore_index=True)\n",
      "C:\\Users\\DELL\\anaconda3\\envs\\ta\\lib\\site-packages\\textattack\\loggers\\csv_logger.py:41: FutureWarning: The frame.append method is deprecated and will be removed from pandas in a future version. Use pandas.concat instead.\n",
      "  self.df = self.df.append(row, ignore_index=True)\n",
      "C:\\Users\\DELL\\anaconda3\\envs\\ta\\lib\\site-packages\\textattack\\loggers\\csv_logger.py:41: FutureWarning: The frame.append method is deprecated and will be removed from pandas in a future version. Use pandas.concat instead.\n",
      "  self.df = self.df.append(row, ignore_index=True)\n",
      "C:\\Users\\DELL\\anaconda3\\envs\\ta\\lib\\site-packages\\textattack\\loggers\\csv_logger.py:41: FutureWarning: The frame.append method is deprecated and will be removed from pandas in a future version. Use pandas.concat instead.\n",
      "  self.df = self.df.append(row, ignore_index=True)\n",
      "C:\\Users\\DELL\\anaconda3\\envs\\ta\\lib\\site-packages\\textattack\\loggers\\csv_logger.py:41: FutureWarning: The frame.append method is deprecated and will be removed from pandas in a future version. Use pandas.concat instead.\n",
      "  self.df = self.df.append(row, ignore_index=True)\n",
      "C:\\Users\\DELL\\anaconda3\\envs\\ta\\lib\\site-packages\\textattack\\loggers\\csv_logger.py:41: FutureWarning: The frame.append method is deprecated and will be removed from pandas in a future version. Use pandas.concat instead.\n",
      "  self.df = self.df.append(row, ignore_index=True)\n",
      "C:\\Users\\DELL\\anaconda3\\envs\\ta\\lib\\site-packages\\textattack\\loggers\\csv_logger.py:41: FutureWarning: The frame.append method is deprecated and will be removed from pandas in a future version. Use pandas.concat instead.\n",
      "  self.df = self.df.append(row, ignore_index=True)\n"
     ]
    },
    {
     "name": "stderr",
     "output_type": "stream",
     "text": [
      "C:\\Users\\DELL\\anaconda3\\envs\\ta\\lib\\site-packages\\textattack\\loggers\\csv_logger.py:41: FutureWarning: The frame.append method is deprecated and will be removed from pandas in a future version. Use pandas.concat instead.\n",
      "  self.df = self.df.append(row, ignore_index=True)\n",
      "C:\\Users\\DELL\\anaconda3\\envs\\ta\\lib\\site-packages\\textattack\\loggers\\csv_logger.py:41: FutureWarning: The frame.append method is deprecated and will be removed from pandas in a future version. Use pandas.concat instead.\n",
      "  self.df = self.df.append(row, ignore_index=True)\n",
      "C:\\Users\\DELL\\anaconda3\\envs\\ta\\lib\\site-packages\\textattack\\loggers\\csv_logger.py:41: FutureWarning: The frame.append method is deprecated and will be removed from pandas in a future version. Use pandas.concat instead.\n",
      "  self.df = self.df.append(row, ignore_index=True)\n",
      "C:\\Users\\DELL\\anaconda3\\envs\\ta\\lib\\site-packages\\textattack\\loggers\\csv_logger.py:41: FutureWarning: The frame.append method is deprecated and will be removed from pandas in a future version. Use pandas.concat instead.\n",
      "  self.df = self.df.append(row, ignore_index=True)\n",
      "C:\\Users\\DELL\\anaconda3\\envs\\ta\\lib\\site-packages\\textattack\\loggers\\csv_logger.py:41: FutureWarning: The frame.append method is deprecated and will be removed from pandas in a future version. Use pandas.concat instead.\n",
      "  self.df = self.df.append(row, ignore_index=True)\n",
      "C:\\Users\\DELL\\anaconda3\\envs\\ta\\lib\\site-packages\\textattack\\loggers\\csv_logger.py:41: FutureWarning: The frame.append method is deprecated and will be removed from pandas in a future version. Use pandas.concat instead.\n",
      "  self.df = self.df.append(row, ignore_index=True)\n",
      "C:\\Users\\DELL\\anaconda3\\envs\\ta\\lib\\site-packages\\textattack\\loggers\\csv_logger.py:41: FutureWarning: The frame.append method is deprecated and will be removed from pandas in a future version. Use pandas.concat instead.\n",
      "  self.df = self.df.append(row, ignore_index=True)\n",
      "C:\\Users\\DELL\\anaconda3\\envs\\ta\\lib\\site-packages\\textattack\\loggers\\csv_logger.py:41: FutureWarning: The frame.append method is deprecated and will be removed from pandas in a future version. Use pandas.concat instead.\n",
      "  self.df = self.df.append(row, ignore_index=True)\n",
      "C:\\Users\\DELL\\anaconda3\\envs\\ta\\lib\\site-packages\\textattack\\loggers\\csv_logger.py:41: FutureWarning: The frame.append method is deprecated and will be removed from pandas in a future version. Use pandas.concat instead.\n",
      "  self.df = self.df.append(row, ignore_index=True)\n",
      "C:\\Users\\DELL\\anaconda3\\envs\\ta\\lib\\site-packages\\textattack\\loggers\\csv_logger.py:41: FutureWarning: The frame.append method is deprecated and will be removed from pandas in a future version. Use pandas.concat instead.\n",
      "  self.df = self.df.append(row, ignore_index=True)\n",
      "C:\\Users\\DELL\\anaconda3\\envs\\ta\\lib\\site-packages\\textattack\\loggers\\csv_logger.py:41: FutureWarning: The frame.append method is deprecated and will be removed from pandas in a future version. Use pandas.concat instead.\n",
      "  self.df = self.df.append(row, ignore_index=True)\n",
      "C:\\Users\\DELL\\anaconda3\\envs\\ta\\lib\\site-packages\\textattack\\loggers\\csv_logger.py:41: FutureWarning: The frame.append method is deprecated and will be removed from pandas in a future version. Use pandas.concat instead.\n",
      "  self.df = self.df.append(row, ignore_index=True)\n",
      "C:\\Users\\DELL\\anaconda3\\envs\\ta\\lib\\site-packages\\textattack\\loggers\\csv_logger.py:41: FutureWarning: The frame.append method is deprecated and will be removed from pandas in a future version. Use pandas.concat instead.\n",
      "  self.df = self.df.append(row, ignore_index=True)\n",
      "C:\\Users\\DELL\\anaconda3\\envs\\ta\\lib\\site-packages\\textattack\\loggers\\csv_logger.py:41: FutureWarning: The frame.append method is deprecated and will be removed from pandas in a future version. Use pandas.concat instead.\n",
      "  self.df = self.df.append(row, ignore_index=True)\n",
      "C:\\Users\\DELL\\anaconda3\\envs\\ta\\lib\\site-packages\\textattack\\loggers\\csv_logger.py:41: FutureWarning: The frame.append method is deprecated and will be removed from pandas in a future version. Use pandas.concat instead.\n",
      "  self.df = self.df.append(row, ignore_index=True)\n",
      "C:\\Users\\DELL\\anaconda3\\envs\\ta\\lib\\site-packages\\textattack\\loggers\\csv_logger.py:41: FutureWarning: The frame.append method is deprecated and will be removed from pandas in a future version. Use pandas.concat instead.\n",
      "  self.df = self.df.append(row, ignore_index=True)\n",
      "C:\\Users\\DELL\\anaconda3\\envs\\ta\\lib\\site-packages\\textattack\\loggers\\csv_logger.py:41: FutureWarning: The frame.append method is deprecated and will be removed from pandas in a future version. Use pandas.concat instead.\n",
      "  self.df = self.df.append(row, ignore_index=True)\n",
      "C:\\Users\\DELL\\anaconda3\\envs\\ta\\lib\\site-packages\\textattack\\loggers\\csv_logger.py:41: FutureWarning: The frame.append method is deprecated and will be removed from pandas in a future version. Use pandas.concat instead.\n",
      "  self.df = self.df.append(row, ignore_index=True)\n",
      "C:\\Users\\DELL\\anaconda3\\envs\\ta\\lib\\site-packages\\textattack\\loggers\\csv_logger.py:41: FutureWarning: The frame.append method is deprecated and will be removed from pandas in a future version. Use pandas.concat instead.\n",
      "  self.df = self.df.append(row, ignore_index=True)\n",
      "C:\\Users\\DELL\\anaconda3\\envs\\ta\\lib\\site-packages\\textattack\\loggers\\csv_logger.py:41: FutureWarning: The frame.append method is deprecated and will be removed from pandas in a future version. Use pandas.concat instead.\n",
      "  self.df = self.df.append(row, ignore_index=True)\n",
      "C:\\Users\\DELL\\anaconda3\\envs\\ta\\lib\\site-packages\\textattack\\loggers\\csv_logger.py:41: FutureWarning: The frame.append method is deprecated and will be removed from pandas in a future version. Use pandas.concat instead.\n",
      "  self.df = self.df.append(row, ignore_index=True)\n",
      "C:\\Users\\DELL\\anaconda3\\envs\\ta\\lib\\site-packages\\textattack\\loggers\\csv_logger.py:41: FutureWarning: The frame.append method is deprecated and will be removed from pandas in a future version. Use pandas.concat instead.\n",
      "  self.df = self.df.append(row, ignore_index=True)\n",
      "C:\\Users\\DELL\\anaconda3\\envs\\ta\\lib\\site-packages\\textattack\\loggers\\csv_logger.py:41: FutureWarning: The frame.append method is deprecated and will be removed from pandas in a future version. Use pandas.concat instead.\n",
      "  self.df = self.df.append(row, ignore_index=True)\n",
      "C:\\Users\\DELL\\anaconda3\\envs\\ta\\lib\\site-packages\\textattack\\loggers\\csv_logger.py:41: FutureWarning: The frame.append method is deprecated and will be removed from pandas in a future version. Use pandas.concat instead.\n",
      "  self.df = self.df.append(row, ignore_index=True)\n",
      "C:\\Users\\DELL\\anaconda3\\envs\\ta\\lib\\site-packages\\textattack\\loggers\\csv_logger.py:41: FutureWarning: The frame.append method is deprecated and will be removed from pandas in a future version. Use pandas.concat instead.\n",
      "  self.df = self.df.append(row, ignore_index=True)\n",
      "C:\\Users\\DELL\\anaconda3\\envs\\ta\\lib\\site-packages\\textattack\\loggers\\csv_logger.py:41: FutureWarning: The frame.append method is deprecated and will be removed from pandas in a future version. Use pandas.concat instead.\n",
      "  self.df = self.df.append(row, ignore_index=True)\n",
      "C:\\Users\\DELL\\anaconda3\\envs\\ta\\lib\\site-packages\\textattack\\loggers\\csv_logger.py:41: FutureWarning: The frame.append method is deprecated and will be removed from pandas in a future version. Use pandas.concat instead.\n",
      "  self.df = self.df.append(row, ignore_index=True)\n",
      "C:\\Users\\DELL\\anaconda3\\envs\\ta\\lib\\site-packages\\textattack\\loggers\\csv_logger.py:41: FutureWarning: The frame.append method is deprecated and will be removed from pandas in a future version. Use pandas.concat instead.\n",
      "  self.df = self.df.append(row, ignore_index=True)\n",
      "C:\\Users\\DELL\\anaconda3\\envs\\ta\\lib\\site-packages\\textattack\\loggers\\csv_logger.py:41: FutureWarning: The frame.append method is deprecated and will be removed from pandas in a future version. Use pandas.concat instead.\n",
      "  self.df = self.df.append(row, ignore_index=True)\n",
      "C:\\Users\\DELL\\anaconda3\\envs\\ta\\lib\\site-packages\\textattack\\loggers\\csv_logger.py:41: FutureWarning: The frame.append method is deprecated and will be removed from pandas in a future version. Use pandas.concat instead.\n",
      "  self.df = self.df.append(row, ignore_index=True)\n",
      "C:\\Users\\DELL\\anaconda3\\envs\\ta\\lib\\site-packages\\textattack\\loggers\\csv_logger.py:41: FutureWarning: The frame.append method is deprecated and will be removed from pandas in a future version. Use pandas.concat instead.\n",
      "  self.df = self.df.append(row, ignore_index=True)\n",
      "C:\\Users\\DELL\\anaconda3\\envs\\ta\\lib\\site-packages\\textattack\\loggers\\csv_logger.py:41: FutureWarning: The frame.append method is deprecated and will be removed from pandas in a future version. Use pandas.concat instead.\n",
      "  self.df = self.df.append(row, ignore_index=True)\n",
      "C:\\Users\\DELL\\anaconda3\\envs\\ta\\lib\\site-packages\\textattack\\loggers\\csv_logger.py:41: FutureWarning: The frame.append method is deprecated and will be removed from pandas in a future version. Use pandas.concat instead.\n",
      "  self.df = self.df.append(row, ignore_index=True)\n",
      "C:\\Users\\DELL\\anaconda3\\envs\\ta\\lib\\site-packages\\textattack\\loggers\\csv_logger.py:41: FutureWarning: The frame.append method is deprecated and will be removed from pandas in a future version. Use pandas.concat instead.\n",
      "  self.df = self.df.append(row, ignore_index=True)\n",
      "C:\\Users\\DELL\\anaconda3\\envs\\ta\\lib\\site-packages\\textattack\\loggers\\csv_logger.py:41: FutureWarning: The frame.append method is deprecated and will be removed from pandas in a future version. Use pandas.concat instead.\n",
      "  self.df = self.df.append(row, ignore_index=True)\n",
      "C:\\Users\\DELL\\anaconda3\\envs\\ta\\lib\\site-packages\\textattack\\loggers\\csv_logger.py:41: FutureWarning: The frame.append method is deprecated and will be removed from pandas in a future version. Use pandas.concat instead.\n",
      "  self.df = self.df.append(row, ignore_index=True)\n",
      "C:\\Users\\DELL\\anaconda3\\envs\\ta\\lib\\site-packages\\textattack\\loggers\\csv_logger.py:41: FutureWarning: The frame.append method is deprecated and will be removed from pandas in a future version. Use pandas.concat instead.\n",
      "  self.df = self.df.append(row, ignore_index=True)\n",
      "C:\\Users\\DELL\\anaconda3\\envs\\ta\\lib\\site-packages\\textattack\\loggers\\csv_logger.py:41: FutureWarning: The frame.append method is deprecated and will be removed from pandas in a future version. Use pandas.concat instead.\n",
      "  self.df = self.df.append(row, ignore_index=True)\n",
      "C:\\Users\\DELL\\anaconda3\\envs\\ta\\lib\\site-packages\\textattack\\loggers\\csv_logger.py:41: FutureWarning: The frame.append method is deprecated and will be removed from pandas in a future version. Use pandas.concat instead.\n",
      "  self.df = self.df.append(row, ignore_index=True)\n",
      "C:\\Users\\DELL\\anaconda3\\envs\\ta\\lib\\site-packages\\textattack\\loggers\\csv_logger.py:41: FutureWarning: The frame.append method is deprecated and will be removed from pandas in a future version. Use pandas.concat instead.\n",
      "  self.df = self.df.append(row, ignore_index=True)\n",
      "C:\\Users\\DELL\\anaconda3\\envs\\ta\\lib\\site-packages\\textattack\\loggers\\csv_logger.py:41: FutureWarning: The frame.append method is deprecated and will be removed from pandas in a future version. Use pandas.concat instead.\n",
      "  self.df = self.df.append(row, ignore_index=True)\n",
      "C:\\Users\\DELL\\anaconda3\\envs\\ta\\lib\\site-packages\\textattack\\loggers\\csv_logger.py:41: FutureWarning: The frame.append method is deprecated and will be removed from pandas in a future version. Use pandas.concat instead.\n",
      "  self.df = self.df.append(row, ignore_index=True)\n",
      "C:\\Users\\DELL\\anaconda3\\envs\\ta\\lib\\site-packages\\textattack\\loggers\\csv_logger.py:41: FutureWarning: The frame.append method is deprecated and will be removed from pandas in a future version. Use pandas.concat instead.\n",
      "  self.df = self.df.append(row, ignore_index=True)\n",
      "C:\\Users\\DELL\\anaconda3\\envs\\ta\\lib\\site-packages\\textattack\\loggers\\csv_logger.py:41: FutureWarning: The frame.append method is deprecated and will be removed from pandas in a future version. Use pandas.concat instead.\n",
      "  self.df = self.df.append(row, ignore_index=True)\n",
      "C:\\Users\\DELL\\anaconda3\\envs\\ta\\lib\\site-packages\\textattack\\loggers\\csv_logger.py:41: FutureWarning: The frame.append method is deprecated and will be removed from pandas in a future version. Use pandas.concat instead.\n",
      "  self.df = self.df.append(row, ignore_index=True)\n",
      "C:\\Users\\DELL\\anaconda3\\envs\\ta\\lib\\site-packages\\textattack\\loggers\\csv_logger.py:41: FutureWarning: The frame.append method is deprecated and will be removed from pandas in a future version. Use pandas.concat instead.\n",
      "  self.df = self.df.append(row, ignore_index=True)\n",
      "C:\\Users\\DELL\\anaconda3\\envs\\ta\\lib\\site-packages\\textattack\\loggers\\csv_logger.py:41: FutureWarning: The frame.append method is deprecated and will be removed from pandas in a future version. Use pandas.concat instead.\n",
      "  self.df = self.df.append(row, ignore_index=True)\n"
     ]
    },
    {
     "name": "stderr",
     "output_type": "stream",
     "text": [
      "C:\\Users\\DELL\\anaconda3\\envs\\ta\\lib\\site-packages\\textattack\\loggers\\csv_logger.py:41: FutureWarning: The frame.append method is deprecated and will be removed from pandas in a future version. Use pandas.concat instead.\n",
      "  self.df = self.df.append(row, ignore_index=True)\n",
      "C:\\Users\\DELL\\anaconda3\\envs\\ta\\lib\\site-packages\\textattack\\loggers\\csv_logger.py:41: FutureWarning: The frame.append method is deprecated and will be removed from pandas in a future version. Use pandas.concat instead.\n",
      "  self.df = self.df.append(row, ignore_index=True)\n",
      "C:\\Users\\DELL\\anaconda3\\envs\\ta\\lib\\site-packages\\textattack\\loggers\\csv_logger.py:41: FutureWarning: The frame.append method is deprecated and will be removed from pandas in a future version. Use pandas.concat instead.\n",
      "  self.df = self.df.append(row, ignore_index=True)\n",
      "C:\\Users\\DELL\\anaconda3\\envs\\ta\\lib\\site-packages\\textattack\\loggers\\csv_logger.py:41: FutureWarning: The frame.append method is deprecated and will be removed from pandas in a future version. Use pandas.concat instead.\n",
      "  self.df = self.df.append(row, ignore_index=True)\n",
      "C:\\Users\\DELL\\anaconda3\\envs\\ta\\lib\\site-packages\\textattack\\loggers\\csv_logger.py:41: FutureWarning: The frame.append method is deprecated and will be removed from pandas in a future version. Use pandas.concat instead.\n",
      "  self.df = self.df.append(row, ignore_index=True)\n",
      "C:\\Users\\DELL\\anaconda3\\envs\\ta\\lib\\site-packages\\textattack\\loggers\\csv_logger.py:41: FutureWarning: The frame.append method is deprecated and will be removed from pandas in a future version. Use pandas.concat instead.\n",
      "  self.df = self.df.append(row, ignore_index=True)\n",
      "C:\\Users\\DELL\\anaconda3\\envs\\ta\\lib\\site-packages\\textattack\\loggers\\csv_logger.py:41: FutureWarning: The frame.append method is deprecated and will be removed from pandas in a future version. Use pandas.concat instead.\n",
      "  self.df = self.df.append(row, ignore_index=True)\n",
      "C:\\Users\\DELL\\anaconda3\\envs\\ta\\lib\\site-packages\\textattack\\loggers\\csv_logger.py:41: FutureWarning: The frame.append method is deprecated and will be removed from pandas in a future version. Use pandas.concat instead.\n",
      "  self.df = self.df.append(row, ignore_index=True)\n",
      "C:\\Users\\DELL\\anaconda3\\envs\\ta\\lib\\site-packages\\textattack\\loggers\\csv_logger.py:41: FutureWarning: The frame.append method is deprecated and will be removed from pandas in a future version. Use pandas.concat instead.\n",
      "  self.df = self.df.append(row, ignore_index=True)\n",
      "C:\\Users\\DELL\\anaconda3\\envs\\ta\\lib\\site-packages\\textattack\\loggers\\csv_logger.py:41: FutureWarning: The frame.append method is deprecated and will be removed from pandas in a future version. Use pandas.concat instead.\n",
      "  self.df = self.df.append(row, ignore_index=True)\n",
      "C:\\Users\\DELL\\anaconda3\\envs\\ta\\lib\\site-packages\\textattack\\loggers\\csv_logger.py:41: FutureWarning: The frame.append method is deprecated and will be removed from pandas in a future version. Use pandas.concat instead.\n",
      "  self.df = self.df.append(row, ignore_index=True)\n",
      "C:\\Users\\DELL\\anaconda3\\envs\\ta\\lib\\site-packages\\textattack\\loggers\\csv_logger.py:41: FutureWarning: The frame.append method is deprecated and will be removed from pandas in a future version. Use pandas.concat instead.\n",
      "  self.df = self.df.append(row, ignore_index=True)\n",
      "C:\\Users\\DELL\\anaconda3\\envs\\ta\\lib\\site-packages\\textattack\\loggers\\csv_logger.py:41: FutureWarning: The frame.append method is deprecated and will be removed from pandas in a future version. Use pandas.concat instead.\n",
      "  self.df = self.df.append(row, ignore_index=True)\n",
      "C:\\Users\\DELL\\anaconda3\\envs\\ta\\lib\\site-packages\\textattack\\loggers\\csv_logger.py:41: FutureWarning: The frame.append method is deprecated and will be removed from pandas in a future version. Use pandas.concat instead.\n",
      "  self.df = self.df.append(row, ignore_index=True)\n",
      "C:\\Users\\DELL\\anaconda3\\envs\\ta\\lib\\site-packages\\textattack\\loggers\\csv_logger.py:41: FutureWarning: The frame.append method is deprecated and will be removed from pandas in a future version. Use pandas.concat instead.\n",
      "  self.df = self.df.append(row, ignore_index=True)\n",
      "C:\\Users\\DELL\\anaconda3\\envs\\ta\\lib\\site-packages\\textattack\\loggers\\csv_logger.py:41: FutureWarning: The frame.append method is deprecated and will be removed from pandas in a future version. Use pandas.concat instead.\n",
      "  self.df = self.df.append(row, ignore_index=True)\n",
      "C:\\Users\\DELL\\anaconda3\\envs\\ta\\lib\\site-packages\\textattack\\loggers\\csv_logger.py:41: FutureWarning: The frame.append method is deprecated and will be removed from pandas in a future version. Use pandas.concat instead.\n",
      "  self.df = self.df.append(row, ignore_index=True)\n",
      "C:\\Users\\DELL\\anaconda3\\envs\\ta\\lib\\site-packages\\textattack\\loggers\\csv_logger.py:41: FutureWarning: The frame.append method is deprecated and will be removed from pandas in a future version. Use pandas.concat instead.\n",
      "  self.df = self.df.append(row, ignore_index=True)\n",
      "C:\\Users\\DELL\\anaconda3\\envs\\ta\\lib\\site-packages\\textattack\\loggers\\csv_logger.py:41: FutureWarning: The frame.append method is deprecated and will be removed from pandas in a future version. Use pandas.concat instead.\n",
      "  self.df = self.df.append(row, ignore_index=True)\n",
      "C:\\Users\\DELL\\anaconda3\\envs\\ta\\lib\\site-packages\\textattack\\loggers\\csv_logger.py:41: FutureWarning: The frame.append method is deprecated and will be removed from pandas in a future version. Use pandas.concat instead.\n",
      "  self.df = self.df.append(row, ignore_index=True)\n",
      "C:\\Users\\DELL\\anaconda3\\envs\\ta\\lib\\site-packages\\textattack\\loggers\\csv_logger.py:41: FutureWarning: The frame.append method is deprecated and will be removed from pandas in a future version. Use pandas.concat instead.\n",
      "  self.df = self.df.append(row, ignore_index=True)\n",
      "C:\\Users\\DELL\\anaconda3\\envs\\ta\\lib\\site-packages\\textattack\\loggers\\csv_logger.py:41: FutureWarning: The frame.append method is deprecated and will be removed from pandas in a future version. Use pandas.concat instead.\n",
      "  self.df = self.df.append(row, ignore_index=True)\n",
      "C:\\Users\\DELL\\anaconda3\\envs\\ta\\lib\\site-packages\\textattack\\loggers\\csv_logger.py:41: FutureWarning: The frame.append method is deprecated and will be removed from pandas in a future version. Use pandas.concat instead.\n",
      "  self.df = self.df.append(row, ignore_index=True)\n",
      "C:\\Users\\DELL\\anaconda3\\envs\\ta\\lib\\site-packages\\textattack\\loggers\\csv_logger.py:41: FutureWarning: The frame.append method is deprecated and will be removed from pandas in a future version. Use pandas.concat instead.\n",
      "  self.df = self.df.append(row, ignore_index=True)\n",
      "C:\\Users\\DELL\\anaconda3\\envs\\ta\\lib\\site-packages\\textattack\\loggers\\csv_logger.py:41: FutureWarning: The frame.append method is deprecated and will be removed from pandas in a future version. Use pandas.concat instead.\n",
      "  self.df = self.df.append(row, ignore_index=True)\n",
      "C:\\Users\\DELL\\anaconda3\\envs\\ta\\lib\\site-packages\\textattack\\loggers\\csv_logger.py:41: FutureWarning: The frame.append method is deprecated and will be removed from pandas in a future version. Use pandas.concat instead.\n",
      "  self.df = self.df.append(row, ignore_index=True)\n",
      "C:\\Users\\DELL\\anaconda3\\envs\\ta\\lib\\site-packages\\textattack\\loggers\\csv_logger.py:41: FutureWarning: The frame.append method is deprecated and will be removed from pandas in a future version. Use pandas.concat instead.\n",
      "  self.df = self.df.append(row, ignore_index=True)\n",
      "C:\\Users\\DELL\\anaconda3\\envs\\ta\\lib\\site-packages\\textattack\\loggers\\csv_logger.py:41: FutureWarning: The frame.append method is deprecated and will be removed from pandas in a future version. Use pandas.concat instead.\n",
      "  self.df = self.df.append(row, ignore_index=True)\n",
      "C:\\Users\\DELL\\anaconda3\\envs\\ta\\lib\\site-packages\\textattack\\loggers\\csv_logger.py:41: FutureWarning: The frame.append method is deprecated and will be removed from pandas in a future version. Use pandas.concat instead.\n",
      "  self.df = self.df.append(row, ignore_index=True)\n",
      "C:\\Users\\DELL\\anaconda3\\envs\\ta\\lib\\site-packages\\textattack\\loggers\\csv_logger.py:41: FutureWarning: The frame.append method is deprecated and will be removed from pandas in a future version. Use pandas.concat instead.\n",
      "  self.df = self.df.append(row, ignore_index=True)\n",
      "C:\\Users\\DELL\\anaconda3\\envs\\ta\\lib\\site-packages\\textattack\\loggers\\csv_logger.py:41: FutureWarning: The frame.append method is deprecated and will be removed from pandas in a future version. Use pandas.concat instead.\n",
      "  self.df = self.df.append(row, ignore_index=True)\n",
      "C:\\Users\\DELL\\anaconda3\\envs\\ta\\lib\\site-packages\\textattack\\loggers\\csv_logger.py:41: FutureWarning: The frame.append method is deprecated and will be removed from pandas in a future version. Use pandas.concat instead.\n",
      "  self.df = self.df.append(row, ignore_index=True)\n",
      "C:\\Users\\DELL\\anaconda3\\envs\\ta\\lib\\site-packages\\textattack\\loggers\\csv_logger.py:41: FutureWarning: The frame.append method is deprecated and will be removed from pandas in a future version. Use pandas.concat instead.\n",
      "  self.df = self.df.append(row, ignore_index=True)\n",
      "C:\\Users\\DELL\\anaconda3\\envs\\ta\\lib\\site-packages\\textattack\\loggers\\csv_logger.py:41: FutureWarning: The frame.append method is deprecated and will be removed from pandas in a future version. Use pandas.concat instead.\n",
      "  self.df = self.df.append(row, ignore_index=True)\n",
      "C:\\Users\\DELL\\anaconda3\\envs\\ta\\lib\\site-packages\\textattack\\loggers\\csv_logger.py:41: FutureWarning: The frame.append method is deprecated and will be removed from pandas in a future version. Use pandas.concat instead.\n",
      "  self.df = self.df.append(row, ignore_index=True)\n",
      "C:\\Users\\DELL\\anaconda3\\envs\\ta\\lib\\site-packages\\textattack\\loggers\\csv_logger.py:41: FutureWarning: The frame.append method is deprecated and will be removed from pandas in a future version. Use pandas.concat instead.\n",
      "  self.df = self.df.append(row, ignore_index=True)\n",
      "C:\\Users\\DELL\\anaconda3\\envs\\ta\\lib\\site-packages\\textattack\\loggers\\csv_logger.py:41: FutureWarning: The frame.append method is deprecated and will be removed from pandas in a future version. Use pandas.concat instead.\n",
      "  self.df = self.df.append(row, ignore_index=True)\n",
      "C:\\Users\\DELL\\anaconda3\\envs\\ta\\lib\\site-packages\\textattack\\loggers\\csv_logger.py:41: FutureWarning: The frame.append method is deprecated and will be removed from pandas in a future version. Use pandas.concat instead.\n",
      "  self.df = self.df.append(row, ignore_index=True)\n",
      "C:\\Users\\DELL\\anaconda3\\envs\\ta\\lib\\site-packages\\textattack\\loggers\\csv_logger.py:41: FutureWarning: The frame.append method is deprecated and will be removed from pandas in a future version. Use pandas.concat instead.\n",
      "  self.df = self.df.append(row, ignore_index=True)\n",
      "C:\\Users\\DELL\\anaconda3\\envs\\ta\\lib\\site-packages\\textattack\\loggers\\csv_logger.py:41: FutureWarning: The frame.append method is deprecated and will be removed from pandas in a future version. Use pandas.concat instead.\n",
      "  self.df = self.df.append(row, ignore_index=True)\n",
      "C:\\Users\\DELL\\anaconda3\\envs\\ta\\lib\\site-packages\\textattack\\loggers\\csv_logger.py:41: FutureWarning: The frame.append method is deprecated and will be removed from pandas in a future version. Use pandas.concat instead.\n",
      "  self.df = self.df.append(row, ignore_index=True)\n",
      "C:\\Users\\DELL\\anaconda3\\envs\\ta\\lib\\site-packages\\textattack\\loggers\\csv_logger.py:41: FutureWarning: The frame.append method is deprecated and will be removed from pandas in a future version. Use pandas.concat instead.\n",
      "  self.df = self.df.append(row, ignore_index=True)\n",
      "C:\\Users\\DELL\\anaconda3\\envs\\ta\\lib\\site-packages\\textattack\\loggers\\csv_logger.py:41: FutureWarning: The frame.append method is deprecated and will be removed from pandas in a future version. Use pandas.concat instead.\n",
      "  self.df = self.df.append(row, ignore_index=True)\n",
      "C:\\Users\\DELL\\anaconda3\\envs\\ta\\lib\\site-packages\\textattack\\loggers\\csv_logger.py:41: FutureWarning: The frame.append method is deprecated and will be removed from pandas in a future version. Use pandas.concat instead.\n",
      "  self.df = self.df.append(row, ignore_index=True)\n",
      "C:\\Users\\DELL\\anaconda3\\envs\\ta\\lib\\site-packages\\textattack\\loggers\\csv_logger.py:41: FutureWarning: The frame.append method is deprecated and will be removed from pandas in a future version. Use pandas.concat instead.\n",
      "  self.df = self.df.append(row, ignore_index=True)\n"
     ]
    },
    {
     "name": "stderr",
     "output_type": "stream",
     "text": [
      "C:\\Users\\DELL\\anaconda3\\envs\\ta\\lib\\site-packages\\textattack\\loggers\\csv_logger.py:41: FutureWarning: The frame.append method is deprecated and will be removed from pandas in a future version. Use pandas.concat instead.\n",
      "  self.df = self.df.append(row, ignore_index=True)\n",
      "C:\\Users\\DELL\\anaconda3\\envs\\ta\\lib\\site-packages\\textattack\\loggers\\csv_logger.py:41: FutureWarning: The frame.append method is deprecated and will be removed from pandas in a future version. Use pandas.concat instead.\n",
      "  self.df = self.df.append(row, ignore_index=True)\n",
      "C:\\Users\\DELL\\anaconda3\\envs\\ta\\lib\\site-packages\\textattack\\loggers\\csv_logger.py:41: FutureWarning: The frame.append method is deprecated and will be removed from pandas in a future version. Use pandas.concat instead.\n",
      "  self.df = self.df.append(row, ignore_index=True)\n",
      "C:\\Users\\DELL\\anaconda3\\envs\\ta\\lib\\site-packages\\textattack\\loggers\\csv_logger.py:41: FutureWarning: The frame.append method is deprecated and will be removed from pandas in a future version. Use pandas.concat instead.\n",
      "  self.df = self.df.append(row, ignore_index=True)\n",
      "C:\\Users\\DELL\\anaconda3\\envs\\ta\\lib\\site-packages\\textattack\\loggers\\csv_logger.py:41: FutureWarning: The frame.append method is deprecated and will be removed from pandas in a future version. Use pandas.concat instead.\n",
      "  self.df = self.df.append(row, ignore_index=True)\n",
      "C:\\Users\\DELL\\anaconda3\\envs\\ta\\lib\\site-packages\\textattack\\loggers\\csv_logger.py:41: FutureWarning: The frame.append method is deprecated and will be removed from pandas in a future version. Use pandas.concat instead.\n",
      "  self.df = self.df.append(row, ignore_index=True)\n",
      "C:\\Users\\DELL\\anaconda3\\envs\\ta\\lib\\site-packages\\textattack\\loggers\\csv_logger.py:41: FutureWarning: The frame.append method is deprecated and will be removed from pandas in a future version. Use pandas.concat instead.\n",
      "  self.df = self.df.append(row, ignore_index=True)\n",
      "C:\\Users\\DELL\\anaconda3\\envs\\ta\\lib\\site-packages\\textattack\\loggers\\csv_logger.py:41: FutureWarning: The frame.append method is deprecated and will be removed from pandas in a future version. Use pandas.concat instead.\n",
      "  self.df = self.df.append(row, ignore_index=True)\n",
      "C:\\Users\\DELL\\anaconda3\\envs\\ta\\lib\\site-packages\\textattack\\loggers\\csv_logger.py:41: FutureWarning: The frame.append method is deprecated and will be removed from pandas in a future version. Use pandas.concat instead.\n",
      "  self.df = self.df.append(row, ignore_index=True)\n",
      "C:\\Users\\DELL\\anaconda3\\envs\\ta\\lib\\site-packages\\textattack\\loggers\\csv_logger.py:41: FutureWarning: The frame.append method is deprecated and will be removed from pandas in a future version. Use pandas.concat instead.\n",
      "  self.df = self.df.append(row, ignore_index=True)\n",
      "C:\\Users\\DELL\\anaconda3\\envs\\ta\\lib\\site-packages\\textattack\\loggers\\csv_logger.py:41: FutureWarning: The frame.append method is deprecated and will be removed from pandas in a future version. Use pandas.concat instead.\n",
      "  self.df = self.df.append(row, ignore_index=True)\n",
      "C:\\Users\\DELL\\anaconda3\\envs\\ta\\lib\\site-packages\\textattack\\loggers\\csv_logger.py:41: FutureWarning: The frame.append method is deprecated and will be removed from pandas in a future version. Use pandas.concat instead.\n",
      "  self.df = self.df.append(row, ignore_index=True)\n",
      "C:\\Users\\DELL\\anaconda3\\envs\\ta\\lib\\site-packages\\textattack\\loggers\\csv_logger.py:41: FutureWarning: The frame.append method is deprecated and will be removed from pandas in a future version. Use pandas.concat instead.\n",
      "  self.df = self.df.append(row, ignore_index=True)\n",
      "C:\\Users\\DELL\\anaconda3\\envs\\ta\\lib\\site-packages\\textattack\\loggers\\csv_logger.py:41: FutureWarning: The frame.append method is deprecated and will be removed from pandas in a future version. Use pandas.concat instead.\n",
      "  self.df = self.df.append(row, ignore_index=True)\n",
      "C:\\Users\\DELL\\anaconda3\\envs\\ta\\lib\\site-packages\\textattack\\loggers\\csv_logger.py:41: FutureWarning: The frame.append method is deprecated and will be removed from pandas in a future version. Use pandas.concat instead.\n",
      "  self.df = self.df.append(row, ignore_index=True)\n",
      "C:\\Users\\DELL\\anaconda3\\envs\\ta\\lib\\site-packages\\textattack\\loggers\\csv_logger.py:41: FutureWarning: The frame.append method is deprecated and will be removed from pandas in a future version. Use pandas.concat instead.\n",
      "  self.df = self.df.append(row, ignore_index=True)\n",
      "C:\\Users\\DELL\\anaconda3\\envs\\ta\\lib\\site-packages\\textattack\\loggers\\csv_logger.py:41: FutureWarning: The frame.append method is deprecated and will be removed from pandas in a future version. Use pandas.concat instead.\n",
      "  self.df = self.df.append(row, ignore_index=True)\n",
      "C:\\Users\\DELL\\anaconda3\\envs\\ta\\lib\\site-packages\\textattack\\loggers\\csv_logger.py:41: FutureWarning: The frame.append method is deprecated and will be removed from pandas in a future version. Use pandas.concat instead.\n",
      "  self.df = self.df.append(row, ignore_index=True)\n",
      "C:\\Users\\DELL\\anaconda3\\envs\\ta\\lib\\site-packages\\textattack\\loggers\\csv_logger.py:41: FutureWarning: The frame.append method is deprecated and will be removed from pandas in a future version. Use pandas.concat instead.\n",
      "  self.df = self.df.append(row, ignore_index=True)\n",
      "C:\\Users\\DELL\\anaconda3\\envs\\ta\\lib\\site-packages\\textattack\\loggers\\csv_logger.py:41: FutureWarning: The frame.append method is deprecated and will be removed from pandas in a future version. Use pandas.concat instead.\n",
      "  self.df = self.df.append(row, ignore_index=True)\n",
      "C:\\Users\\DELL\\anaconda3\\envs\\ta\\lib\\site-packages\\textattack\\loggers\\csv_logger.py:41: FutureWarning: The frame.append method is deprecated and will be removed from pandas in a future version. Use pandas.concat instead.\n",
      "  self.df = self.df.append(row, ignore_index=True)\n",
      "C:\\Users\\DELL\\anaconda3\\envs\\ta\\lib\\site-packages\\textattack\\loggers\\csv_logger.py:41: FutureWarning: The frame.append method is deprecated and will be removed from pandas in a future version. Use pandas.concat instead.\n",
      "  self.df = self.df.append(row, ignore_index=True)\n",
      "C:\\Users\\DELL\\anaconda3\\envs\\ta\\lib\\site-packages\\textattack\\loggers\\csv_logger.py:41: FutureWarning: The frame.append method is deprecated and will be removed from pandas in a future version. Use pandas.concat instead.\n",
      "  self.df = self.df.append(row, ignore_index=True)\n",
      "C:\\Users\\DELL\\anaconda3\\envs\\ta\\lib\\site-packages\\textattack\\loggers\\csv_logger.py:41: FutureWarning: The frame.append method is deprecated and will be removed from pandas in a future version. Use pandas.concat instead.\n",
      "  self.df = self.df.append(row, ignore_index=True)\n",
      "C:\\Users\\DELL\\anaconda3\\envs\\ta\\lib\\site-packages\\textattack\\loggers\\csv_logger.py:41: FutureWarning: The frame.append method is deprecated and will be removed from pandas in a future version. Use pandas.concat instead.\n",
      "  self.df = self.df.append(row, ignore_index=True)\n",
      "C:\\Users\\DELL\\AppData\\Local\\Temp\\ipykernel_8172\\55946441.py:9: DeprecationWarning: Importing display from IPython.core.display is deprecated since IPython 7.14, please import from IPython display\n",
      "  from IPython.core.display import display, HTML\n"
     ]
    },
    {
     "data": {
      "text/html": [
       "<table border=\"1\" class=\"dataframe\">\n",
       "  <thead>\n",
       "    <tr style=\"text-align: right;\">\n",
       "      <th></th>\n",
       "      <th>original_text</th>\n",
       "      <th>perturbed_text</th>\n",
       "    </tr>\n",
       "  </thead>\n",
       "  <tbody>\n",
       "    <tr>\n",
       "      <th>0</th>\n",
       "      <td>What is the <font color = yellow>population</font> of Venezuela ?</td>\n",
       "      <td>What is the <font color = orange>pueblo</font> of Venezuela ?</td>\n",
       "    </tr>\n",
       "    <tr>\n",
       "      <th>1</th>\n",
       "      <td>What does target heart rate <font color = red>mean</font> ?</td>\n",
       "      <td>What does target heart rate <font color = yellow>averages</font> ?</td>\n",
       "    </tr>\n",
       "    <tr>\n",
       "      <th>2</th>\n",
       "      <td>What <font color = green>currency</font> does Luxembourg <font color = green>use</font> ?</td>\n",
       "      <td>What <font color = orange>interchange</font> does Luxembourg <font color = orange>resort</font> ?</td>\n",
       "    </tr>\n",
       "    <tr>\n",
       "      <th>3</th>\n",
       "      <td>How <font color = yellow>long</font> did Rip Van Winkle sleep ?</td>\n",
       "      <td>How <font color = red>anymore</font> did Rip Van Winkle sleep ?</td>\n",
       "    </tr>\n",
       "    <tr>\n",
       "      <th>4</th>\n",
       "      <td>Material called linen is <font color = green>made</font> from what <font color = green>plant</font> ?</td>\n",
       "      <td>Material called linen is <font color = orange>reached</font> from what <font color = orange>centre</font> ?</td>\n",
       "    </tr>\n",
       "    <tr>\n",
       "      <th>5</th>\n",
       "      <td>What is phenylalanine ?</td>\n",
       "      <td>What is phenylalanine ?</td>\n",
       "    </tr>\n",
       "    <tr>\n",
       "      <th>6</th>\n",
       "      <td>What is a group of turkeys <font color = green>called</font> ?</td>\n",
       "      <td>What is a group of turkeys <font color = purple>invited</font> ?</td>\n",
       "    </tr>\n",
       "    <tr>\n",
       "      <th>7</th>\n",
       "      <td>What are <font color = red>enzymes</font> ?</td>\n",
       "      <td>What are <font color = red>digested</font> ?</td>\n",
       "    </tr>\n",
       "    <tr>\n",
       "      <th>8</th>\n",
       "      <td><font color = red>Why</font> is the sun yellow ?</td>\n",
       "      <td><font color = orange>Where</font> is the sun yellow ?</td>\n",
       "    </tr>\n",
       "    <tr>\n",
       "      <th>9</th>\n",
       "      <td><font color = orange>What</font> <font color = orange>state</font> is the geographic <font color = orange>center</font> of the lower 48 states ?</td>\n",
       "      <td><font color = green>Wher</font> <font color = green>sate</font> is the geographic <font color = green>plants</font> of the lower 48 states ?</td>\n",
       "    </tr>\n",
       "    <tr>\n",
       "      <th>10</th>\n",
       "      <td>What is foot and mouth disease ?</td>\n",
       "      <td>What is foot and mouth disease ?</td>\n",
       "    </tr>\n",
       "    <tr>\n",
       "      <th>11</th>\n",
       "      <td>What is <font color = red>sonar</font> ?</td>\n",
       "      <td>What is <font color = red>audible</font> ?</td>\n",
       "    </tr>\n",
       "    <tr>\n",
       "      <th>12</th>\n",
       "      <td><font color = yellow>When</font> was Thomas Jefferson born ?</td>\n",
       "      <td><font color = orange>Where</font> was Thomas Jefferson born ?</td>\n",
       "    </tr>\n",
       "    <tr>\n",
       "      <th>13</th>\n",
       "      <td>What is the Ohio state <font color = green>bird</font> ?</td>\n",
       "      <td>What is the Ohio state <font color = red>lovebirds</font> ?</td>\n",
       "    </tr>\n",
       "    <tr>\n",
       "      <th>14</th>\n",
       "      <td>What are the <font color = green>colors</font> of the German flag ?</td>\n",
       "      <td>What are the <font color = red>discoloration</font> of the German flag ?</td>\n",
       "    </tr>\n",
       "    <tr>\n",
       "      <th>15</th>\n",
       "      <td>Who won <font color = purple>Ms</font>. American in 1989 ?</td>\n",
       "      <td>Who won <font color = purple>Heidi</font>. American in 1989 ?</td>\n",
       "    </tr>\n",
       "    <tr>\n",
       "      <th>16</th>\n",
       "      <td><font color = orange>Where</font> on the body is a mortarboard worn ?</td>\n",
       "      <td><font color = red>Why</font> on the body is a mortarboard worn ?</td>\n",
       "    </tr>\n",
       "    <tr>\n",
       "      <th>17</th>\n",
       "      <td>What is the <font color = yellow>width</font> of a football field ?</td>\n",
       "      <td>What is the <font color = red>grandeur</font> of a football field ?</td>\n",
       "    </tr>\n",
       "    <tr>\n",
       "      <th>18</th>\n",
       "      <td>Who is the <font color = purple>Prime</font> <font color = purple>Minister</font> of <font color = purple>Canada</font> ?</td>\n",
       "      <td>Who is the <font color = purple>Frst</font> <font color = purple>Ministry</font> of <font color = purple>Countries</font> ?</td>\n",
       "    </tr>\n",
       "    <tr>\n",
       "      <th>19</th>\n",
       "      <td>What is the conversion <font color = yellow>rate</font> between dollars and pounds ?</td>\n",
       "      <td>What is the conversion <font color = red>rhythm</font> between dollars and pounds ?</td>\n",
       "    </tr>\n",
       "    <tr>\n",
       "      <th>20</th>\n",
       "      <td>What is fibromyalgia ?</td>\n",
       "      <td>What is fibromyalgia ?</td>\n",
       "    </tr>\n",
       "    <tr>\n",
       "      <th>21</th>\n",
       "      <td>What are the spots on dominoes <font color = green>called</font> ?</td>\n",
       "      <td>What are the spots on dominoes <font color = orange>telephoned</font> ?</td>\n",
       "    </tr>\n",
       "    <tr>\n",
       "      <th>22</th>\n",
       "      <td>What <font color = orange>city</font> is also known as `` The Gateway to the West '' ?</td>\n",
       "      <td>What <font color = purple>mayor</font> is also known as `` The Gateway to the West '' ?</td>\n",
       "    </tr>\n",
       "    <tr>\n",
       "      <th>23</th>\n",
       "      <td>Who <font color = purple>discovered</font> x-rays ?</td>\n",
       "      <td>Who <font color = purple>identifying</font> x-rays ?</td>\n",
       "    </tr>\n",
       "    <tr>\n",
       "      <th>24</th>\n",
       "      <td><font color = yellow>How</font> <font color = yellow>much</font> does water weigh ?</td>\n",
       "      <td><font color = red>Why</font> <font color = red>sizeable</font> does water weigh ?</td>\n",
       "    </tr>\n",
       "    <tr>\n",
       "      <th>25</th>\n",
       "      <td>Mercury , what <font color = yellow>year</font> was it discovered ?</td>\n",
       "      <td>Mercury , what <font color = green>sunni</font> was it discovered ?</td>\n",
       "    </tr>\n",
       "    <tr>\n",
       "      <th>26</th>\n",
       "      <td><font color = orange>Where</font> do apple snails live ?</td>\n",
       "      <td><font color = yellow>When</font> do apple snails live ?</td>\n",
       "    </tr>\n",
       "    <tr>\n",
       "      <th>27</th>\n",
       "      <td>What is the rainiest <font color = orange>place</font> on Earth ?</td>\n",
       "      <td>What is the rainiest <font color = green>loco</font> on Earth ?</td>\n",
       "    </tr>\n",
       "    <tr>\n",
       "      <th>28</th>\n",
       "      <td>Who <font color = purple>invented</font> the <font color = purple>hula</font> <font color = purple>hoop</font> ?</td>\n",
       "      <td>Who <font color = purple>coined</font> the <font color = purple>aloha</font> <font color = purple>clog</font> ?</td>\n",
       "    </tr>\n",
       "    <tr>\n",
       "      <th>29</th>\n",
       "      <td>What is the longest suspension <font color = orange>bridge</font> in the U.S. ?</td>\n",
       "      <td>What is the longest suspension <font color = green>jumper</font> in the U.S. ?</td>\n",
       "    </tr>\n",
       "    <tr>\n",
       "      <th>30</th>\n",
       "      <td>What is plastic <font color = green>made</font> of ?</td>\n",
       "      <td>What is plastic <font color = red>posed</font> of ?</td>\n",
       "    </tr>\n",
       "    <tr>\n",
       "      <th>31</th>\n",
       "      <td>How <font color = yellow>far</font> is it from Denver to Aspen ?</td>\n",
       "      <td>How <font color = red>importantly</font> is it from Denver to Aspen ?</td>\n",
       "    </tr>\n",
       "    <tr>\n",
       "      <th>32</th>\n",
       "      <td>What is the criterion for being legally blind ?</td>\n",
       "      <td>What is the criterion for being legally blind ?</td>\n",
       "    </tr>\n",
       "    <tr>\n",
       "      <th>33</th>\n",
       "      <td>Who <font color = purple>invented</font> the <font color = purple>instant</font> Polaroid <font color = purple>camera</font> ?</td>\n",
       "      <td>Who <font color = purple>inventing</font> the <font color = purple>instantaneous</font> Polaroid <font color = purple>cameras</font> ?</td>\n",
       "    </tr>\n",
       "    <tr>\n",
       "      <th>34</th>\n",
       "      <td>What is the <font color = yellow>distance</font> in miles from the earth to the sun ?</td>\n",
       "      <td>What is the <font color = red>alienation</font> in miles from the earth to the sun ?</td>\n",
       "    </tr>\n",
       "    <tr>\n",
       "      <th>35</th>\n",
       "      <td>In which <font color = orange>state</font> would you find the Catskill Mountains ?</td>\n",
       "      <td>In which <font color = green>sate</font> would you find the Catskill Mountains ?</td>\n",
       "    </tr>\n",
       "    <tr>\n",
       "      <th>36</th>\n",
       "      <td>What is a <font color = red>prism</font> ?</td>\n",
       "      <td>What is a <font color = red>corner</font> ?</td>\n",
       "    </tr>\n",
       "    <tr>\n",
       "      <th>37</th>\n",
       "      <td>How <font color = yellow>fast</font> is sound ?</td>\n",
       "      <td>How <font color = red>expedite</font> is sound ?</td>\n",
       "    </tr>\n",
       "    <tr>\n",
       "      <th>38</th>\n",
       "      <td>What does cc in engines <font color = red>mean</font> ?</td>\n",
       "      <td>What does cc in engines <font color = yellow>averages</font> ?</td>\n",
       "    </tr>\n",
       "    <tr>\n",
       "      <th>39</th>\n",
       "      <td>What is an <font color = red>ulcer</font> ?</td>\n",
       "      <td>What is an <font color = red>polyps</font> ?</td>\n",
       "    </tr>\n",
       "    <tr>\n",
       "      <th>40</th>\n",
       "      <td>What is <font color = red>compounded</font> <font color = red>interest</font> ?</td>\n",
       "      <td>What is <font color = green>deteriorated</font> <font color = green>valued</font> ?</td>\n",
       "    </tr>\n",
       "    <tr>\n",
       "      <th>41</th>\n",
       "      <td>What does CPR <font color = blue>stand</font> for ?</td>\n",
       "      <td>What does CPR <font color = red>attitude</font> for ?</td>\n",
       "    </tr>\n",
       "    <tr>\n",
       "      <th>42</th>\n",
       "      <td>What is hybridization ?</td>\n",
       "      <td>What is hybridization ?</td>\n",
       "    </tr>\n",
       "    <tr>\n",
       "      <th>43</th>\n",
       "      <td>How <font color = yellow>fast</font> is alcohol absorbed ?</td>\n",
       "      <td>How <font color = red>expedite</font> is alcohol absorbed ?</td>\n",
       "    </tr>\n",
       "    <tr>\n",
       "      <th>44</th>\n",
       "      <td>Who was the first American to <font color = purple>walk</font> in <font color = purple>space</font> ?</td>\n",
       "      <td>Who was the first American to <font color = purple>tour</font> in <font color = purple>aerospace</font> ?</td>\n",
       "    </tr>\n",
       "    <tr>\n",
       "      <th>45</th>\n",
       "      <td>What are pediatricians ?</td>\n",
       "      <td>What are pediatricians ?</td>\n",
       "    </tr>\n",
       "    <tr>\n",
       "      <th>46</th>\n",
       "      <td>What is the sales tax <font color = yellow>rate</font> in New York ?</td>\n",
       "      <td>What is the sales tax <font color = red>rhythm</font> in New York ?</td>\n",
       "    </tr>\n",
       "    <tr>\n",
       "      <th>47</th>\n",
       "      <td>What is the money they <font color = green>use</font> in Zambia ?</td>\n",
       "      <td>What is the money they <font color = yellow>operate</font> in Zambia ?</td>\n",
       "    </tr>\n",
       "    <tr>\n",
       "      <th>48</th>\n",
       "      <td>What is acetic <font color = red>acid</font> ?</td>\n",
       "      <td>What is acetic <font color = red>soured</font> ?</td>\n",
       "    </tr>\n",
       "    <tr>\n",
       "      <th>49</th>\n",
       "      <td><font color = yellow>When</font> was Lyndon B. Johnson born ?</td>\n",
       "      <td><font color = orange>Where</font> was Lyndon B. Johnson born ?</td>\n",
       "    </tr>\n",
       "    <tr>\n",
       "      <th>50</th>\n",
       "      <td>In what <font color = green>spacecraft</font> <font color = green>did</font> U.S. astronaut Alan Shepard make his historic 1961 flight ?</td>\n",
       "      <td>In what <font color = purple>astronaut</font> <font color = purple>fi</font> U.S. astronaut Alan Shepard make his historic 1961 flight ?</td>\n",
       "    </tr>\n",
       "    <tr>\n",
       "      <th>51</th>\n",
       "      <td>How <font color = yellow>cold</font> should a refrigerator be ?</td>\n",
       "      <td>How <font color = red>nippy</font> should a refrigerator be ?</td>\n",
       "    </tr>\n",
       "    <tr>\n",
       "      <th>52</th>\n",
       "      <td>What is another astronomic <font color = green>term</font> for the Northern Lights ?</td>\n",
       "      <td>What is another astronomic <font color = yellow>length</font> for the Northern Lights ?</td>\n",
       "    </tr>\n",
       "    <tr>\n",
       "      <th>53</th>\n",
       "      <td><font color = orange>Where</font> is the Shawnee National Forest ?</td>\n",
       "      <td><font color = yellow>When</font> is the Shawnee National Forest ?</td>\n",
       "    </tr>\n",
       "    <tr>\n",
       "      <th>54</th>\n",
       "      <td><font color = yellow>How</font> <font color = yellow>much</font> of an apple is water ?</td>\n",
       "      <td><font color = red>Why</font> <font color = red>sizeable</font> of an apple is water ?</td>\n",
       "    </tr>\n",
       "    <tr>\n",
       "      <th>55</th>\n",
       "      <td>What is <font color = red>strep</font> <font color = red>throat</font> ?</td>\n",
       "      <td>What is <font color = red>herpes</font> <font color = red>mouth</font> ?</td>\n",
       "    </tr>\n",
       "    <tr>\n",
       "      <th>56</th>\n",
       "      <td>What is poliomyelitis ?</td>\n",
       "      <td>What is poliomyelitis ?</td>\n",
       "    </tr>\n",
       "    <tr>\n",
       "      <th>57</th>\n",
       "      <td>What is the <font color = yellow>temperature</font> at the center of the earth ?</td>\n",
       "      <td>What is the <font color = red>weatherman</font> at the center of the earth ?</td>\n",
       "    </tr>\n",
       "    <tr>\n",
       "      <th>58</th>\n",
       "      <td><font color = orange>Where</font> is the Lourve ?</td>\n",
       "      <td><font color = yellow>When</font> is the Lourve ?</td>\n",
       "    </tr>\n",
       "    <tr>\n",
       "      <th>59</th>\n",
       "      <td>What is the <font color = green>longest</font> <font color = green>bone</font> in the human body ?</td>\n",
       "      <td>What is the <font color = red>high</font> <font color = red>femur</font> in the human body ?</td>\n",
       "    </tr>\n",
       "    <tr>\n",
       "      <th>60</th>\n",
       "      <td>What <font color = orange>state</font> has the least amount of rain per year ?</td>\n",
       "      <td>What <font color = yellow>stat</font> has the least amount of rain per year ?</td>\n",
       "    </tr>\n",
       "    <tr>\n",
       "      <th>61</th>\n",
       "      <td>What is <font color = red>neurology</font> ?</td>\n",
       "      <td>What is <font color = red>parkinson</font> ?</td>\n",
       "    </tr>\n",
       "    <tr>\n",
       "      <th>62</th>\n",
       "      <td>What is the statue of liberty <font color = green>made</font> of ?</td>\n",
       "      <td>What is the statue of liberty <font color = red>doing</font> of ?</td>\n",
       "    </tr>\n",
       "    <tr>\n",
       "      <th>63</th>\n",
       "      <td>What was W.C. Fields ' real <font color = purple>name</font> ?</td>\n",
       "      <td>What was W.C. Fields ' real <font color = red>numerals</font> ?</td>\n",
       "    </tr>\n",
       "    <tr>\n",
       "      <th>64</th>\n",
       "      <td>What is <font color = red>solar</font> <font color = red>wind</font> ?</td>\n",
       "      <td>What is <font color = red>sun</font> <font color = red>turbine</font> ?</td>\n",
       "    </tr>\n",
       "    <tr>\n",
       "      <th>65</th>\n",
       "      <td>What <font color = purple>position</font> did Willie Davis play in baseball ?</td>\n",
       "      <td>What <font color = orange>vista</font> did Willie Davis play in baseball ?</td>\n",
       "    </tr>\n",
       "    <tr>\n",
       "      <th>66</th>\n",
       "      <td>Who was the <font color = purple>abolitionist</font> who <font color = purple>led</font> the <font color = purple>raid</font> on <font color = purple>Harper</font> 's <font color = purple>Ferry</font> in 1859 ?</td>\n",
       "      <td>Who was the <font color = purple>cancellations</font> who <font color = purple>resulted</font> the <font color = purple>strike</font> on <font color = purple>Port</font> 's <font color = purple>Ferries</font> in 1859 ?</td>\n",
       "    </tr>\n",
       "    <tr>\n",
       "      <th>67</th>\n",
       "      <td>Who was the first <font color = purple>woman</font> <font color = purple>governor</font> in the <font color = purple>U</font>.<font color = purple>S</font>. ?</td>\n",
       "      <td>Who was the first <font color = purple>ladies</font> <font color = purple>governing</font> in the <font color = purple>xin</font>.<font color = purple>secs</font>. ?</td>\n",
       "    </tr>\n",
       "    <tr>\n",
       "      <th>68</th>\n",
       "      <td>What are <font color = red>solar</font> <font color = red>cells</font> ?</td>\n",
       "      <td>What are <font color = red>sunscreen</font> <font color = red>pile</font> ?</td>\n",
       "    </tr>\n",
       "    <tr>\n",
       "      <th>69</th>\n",
       "      <td><font color = yellow>When</font> was the telephone invented ?</td>\n",
       "      <td><font color = orange>Where</font> was the telephone invented ?</td>\n",
       "    </tr>\n",
       "    <tr>\n",
       "      <th>70</th>\n",
       "      <td>What is another <font color = green>name</font> for vitamin B1 ?</td>\n",
       "      <td>What is another <font color = yellow>numbers</font> for vitamin B1 ?</td>\n",
       "    </tr>\n",
       "    <tr>\n",
       "      <th>71</th>\n",
       "      <td>What is the major fault line near Kentucky ?</td>\n",
       "      <td>What is the major fault line near Kentucky ?</td>\n",
       "    </tr>\n",
       "    <tr>\n",
       "      <th>72</th>\n",
       "      <td><font color = orange>Where</font> is the Savannah River ?</td>\n",
       "      <td><font color = yellow>When</font> is the Savannah River ?</td>\n",
       "    </tr>\n",
       "    <tr>\n",
       "      <th>73</th>\n",
       "      <td>What <font color = orange>city</font> 's newspaper is called `` The Star '' ?</td>\n",
       "      <td>What <font color = green>shing</font> 's newspaper is called `` The Star '' ?</td>\n",
       "    </tr>\n",
       "    <tr>\n",
       "      <th>74</th>\n",
       "      <td>What <font color = orange>planet</font> has the strongest magnetic field of all the planets ?</td>\n",
       "      <td>What <font color = green>mondo</font> has the strongest magnetic field of all the planets ?</td>\n",
       "    </tr>\n",
       "    <tr>\n",
       "      <th>75</th>\n",
       "      <td>What is <font color = red>severance</font> pay ?</td>\n",
       "      <td>What is <font color = yellow>cessation</font> pay ?</td>\n",
       "    </tr>\n",
       "    <tr>\n",
       "      <th>76</th>\n",
       "      <td>What <font color = green>breed</font> of hunting dog did the Beverly Hillbillies own ?</td>\n",
       "      <td>What <font color = purple>breeder</font> of hunting dog did the Beverly Hillbillies own ?</td>\n",
       "    </tr>\n",
       "    <tr>\n",
       "      <th>77</th>\n",
       "      <td>What is the <font color = yellow>population</font> of China ?</td>\n",
       "      <td>What is the <font color = orange>pueblo</font> of China ?</td>\n",
       "    </tr>\n",
       "    <tr>\n",
       "      <th>78</th>\n",
       "      <td>What are semiconductors ?</td>\n",
       "      <td>What are semiconductors ?</td>\n",
       "    </tr>\n",
       "    <tr>\n",
       "      <th>79</th>\n",
       "      <td>What <font color = orange>body</font> of water are the Canary Islands in ?</td>\n",
       "      <td>What <font color = green>organism</font> of water are the Canary Islands in ?</td>\n",
       "    </tr>\n",
       "    <tr>\n",
       "      <th>80</th>\n",
       "      <td>What does the word fortnight <font color = red>mean</font> ?</td>\n",
       "      <td>What does the word fortnight <font color = yellow>average</font> ?</td>\n",
       "    </tr>\n",
       "    <tr>\n",
       "      <th>81</th>\n",
       "      <td>What monastery was raided by Vikings in the late eighth century ?</td>\n",
       "      <td>What monastery was raided by Vikings in the late eighth century ?</td>\n",
       "    </tr>\n",
       "    <tr>\n",
       "      <th>82</th>\n",
       "      <td>What did Edward Binney and Howard Smith <font color = green>invent</font> in 1903 ?</td>\n",
       "      <td>What did Edward Binney and Howard Smith <font color = purple>improvise</font> in 1903 ?</td>\n",
       "    </tr>\n",
       "    <tr>\n",
       "      <th>83</th>\n",
       "      <td><font color = yellow>When</font> was President Kennedy shot ?</td>\n",
       "      <td><font color = orange>Where</font> was President Kennedy shot ?</td>\n",
       "    </tr>\n",
       "    <tr>\n",
       "      <th>84</th>\n",
       "      <td>What is a <font color = red>thermometer</font> ?</td>\n",
       "      <td>What is a <font color = red>bulbs</font> ?</td>\n",
       "    </tr>\n",
       "    <tr>\n",
       "      <th>85</th>\n",
       "      <td>What is the earth 's <font color = yellow>diameter</font> ?</td>\n",
       "      <td>What is the earth 's <font color = red>boron</font> ?</td>\n",
       "    </tr>\n",
       "    <tr>\n",
       "      <th>86</th>\n",
       "      <td>What is <font color = red>mold</font> ?</td>\n",
       "      <td>What is <font color = red>shrooms</font> ?</td>\n",
       "    </tr>\n",
       "    <tr>\n",
       "      <th>87</th>\n",
       "      <td>What does `` <font color = red>Sitting</font> <font color = red>Shiva</font> '' <font color = red>mean</font> ?</td>\n",
       "      <td>What does `` <font color = yellow>Sta</font> <font color = yellow>Shri</font> '' <font color = yellow>averages</font> ?</td>\n",
       "    </tr>\n",
       "    <tr>\n",
       "      <th>88</th>\n",
       "      <td>What is desktop <font color = red>publishing</font> ?</td>\n",
       "      <td>What is desktop <font color = green>released</font> ?</td>\n",
       "    </tr>\n",
       "    <tr>\n",
       "      <th>89</th>\n",
       "      <td>Who <font color = purple>discovered</font> <font color = purple>radium</font> ?</td>\n",
       "      <td>Who <font color = purple>locate</font> <font color = purple>transistor</font> ?</td>\n",
       "    </tr>\n",
       "    <tr>\n",
       "      <th>90</th>\n",
       "      <td>What is <font color = red>mad</font> <font color = red>cow</font> <font color = red>disease</font> ?</td>\n",
       "      <td>What is <font color = green>furious</font> <font color = green>madness</font> <font color = green>epidemic</font> ?</td>\n",
       "    </tr>\n",
       "    <tr>\n",
       "      <th>91</th>\n",
       "      <td>What is the <font color = orange>location</font> of Lake Champlain ?</td>\n",
       "      <td>What is the <font color = red>paging</font> of Lake Champlain ?</td>\n",
       "    </tr>\n",
       "    <tr>\n",
       "      <th>92</th>\n",
       "      <td>What is the proper <font color = green>name</font> for a female walrus ?</td>\n",
       "      <td>What is the proper <font color = yellow>numbers</font> for a female walrus ?</td>\n",
       "    </tr>\n",
       "    <tr>\n",
       "      <th>93</th>\n",
       "      <td><font color = yellow>When</font> was Rosa Parks born ?</td>\n",
       "      <td><font color = orange>Where</font> was Rosa Parks born ?</td>\n",
       "    </tr>\n",
       "    <tr>\n",
       "      <th>94</th>\n",
       "      <td><font color = yellow>When</font> were William Shakespeare 's twins born ?</td>\n",
       "      <td><font color = orange>Where</font> were William Shakespeare 's twins born ?</td>\n",
       "    </tr>\n",
       "    <tr>\n",
       "      <th>95</th>\n",
       "      <td>What is natural <font color = green>gas</font> <font color = green>composed</font> of ?</td>\n",
       "      <td>What is natural <font color = red>gaza</font> <font color = red>involve</font> of ?</td>\n",
       "    </tr>\n",
       "    <tr>\n",
       "      <th>96</th>\n",
       "      <td>How <font color = yellow>tall</font> is the Gateway Arch in St. Louis , MO ?</td>\n",
       "      <td>How <font color = red>whopping</font> is the Gateway Arch in St. Louis , MO ?</td>\n",
       "    </tr>\n",
       "    <tr>\n",
       "      <th>97</th>\n",
       "      <td>Who was the first <font color = purple>governor</font> of <font color = purple>Alaska</font> ?</td>\n",
       "      <td>Who was the first <font color = purple>governing</font> of <font color = purple>Alabama</font> ?</td>\n",
       "    </tr>\n",
       "    <tr>\n",
       "      <th>98</th>\n",
       "      <td><font color = yellow>When</font> was the first Wal-Mart store opened ?</td>\n",
       "      <td><font color = orange>Where</font> was the first Wal-Mart store opened ?</td>\n",
       "    </tr>\n",
       "    <tr>\n",
       "      <th>99</th>\n",
       "      <td><font color = orange>What</font> New York City structure is also known as the Twin Towers ?</td>\n",
       "      <td><font color = green>Wher</font> New York City structure is also known as the Twin Towers ?</td>\n",
       "    </tr>\n",
       "    <tr>\n",
       "      <th>100</th>\n",
       "      <td>What is an <font color = red>antigen</font> ?</td>\n",
       "      <td>What is an <font color = red>protein</font> ?</td>\n",
       "    </tr>\n",
       "    <tr>\n",
       "      <th>101</th>\n",
       "      <td>What is <font color = red>hypertension</font> ?</td>\n",
       "      <td>What is <font color = red>clot</font> ?</td>\n",
       "    </tr>\n",
       "    <tr>\n",
       "      <th>102</th>\n",
       "      <td>What is <font color = red>caffeine</font> ?</td>\n",
       "      <td>What is <font color = red>coffe</font> ?</td>\n",
       "    </tr>\n",
       "    <tr>\n",
       "      <th>103</th>\n",
       "      <td>What does <font color = red>ciao</font> <font color = red>mean</font> ?</td>\n",
       "      <td>What does <font color = yellow>adios</font> <font color = yellow>average</font> ?</td>\n",
       "    </tr>\n",
       "    <tr>\n",
       "      <th>104</th>\n",
       "      <td>Who was <font color = purple>Galileo</font> ?</td>\n",
       "      <td>Who was <font color = purple>Copernicus</font> ?</td>\n",
       "    </tr>\n",
       "    <tr>\n",
       "      <th>105</th>\n",
       "      <td>Who is the only <font color = purple>president</font> to <font color = purple>serve</font> 2 non-consecutive <font color = purple>terms</font> ?</td>\n",
       "      <td>Who is the only <font color = purple>chairmanship</font> to <font color = purple>cater</font> 2 non-consecutive <font color = purple>prescriptions</font> ?</td>\n",
       "    </tr>\n",
       "    <tr>\n",
       "      <th>106</th>\n",
       "      <td>What is the <font color = green>source</font> of natural gas ?</td>\n",
       "      <td>What is the <font color = red>origins</font> of natural gas ?</td>\n",
       "    </tr>\n",
       "    <tr>\n",
       "      <th>107</th>\n",
       "      <td><font color = yellow>When</font> was Hiroshima bombed ?</td>\n",
       "      <td><font color = orange>Where</font> was Hiroshima bombed ?</td>\n",
       "    </tr>\n",
       "    <tr>\n",
       "      <th>108</th>\n",
       "      <td>What are <font color = red>sunspots</font> ?</td>\n",
       "      <td>What are <font color = red>spots</font> ?</td>\n",
       "    </tr>\n",
       "    <tr>\n",
       "      <th>109</th>\n",
       "      <td><font color = orange>Where</font> is Milan ?</td>\n",
       "      <td><font color = yellow>When</font> is Milan ?</td>\n",
       "    </tr>\n",
       "    <tr>\n",
       "      <th>110</th>\n",
       "      <td>What is the largest <font color = orange>city</font> in the world ?</td>\n",
       "      <td>What is the largest <font color = purple>mayor</font> in the world ?</td>\n",
       "    </tr>\n",
       "    <tr>\n",
       "      <th>111</th>\n",
       "      <td>What is the <font color = yellow>average</font> life span for a chicken ?</td>\n",
       "      <td>What is the <font color = red>means</font> life span for a chicken ?</td>\n",
       "    </tr>\n",
       "    <tr>\n",
       "      <th>112</th>\n",
       "      <td>What <font color = green>currency</font> do they use in Brazil ?</td>\n",
       "      <td>What <font color = orange>interchange</font> do they use in Brazil ?</td>\n",
       "    </tr>\n",
       "    <tr>\n",
       "      <th>113</th>\n",
       "      <td>What are the two <font color = green>types</font> of twins ?</td>\n",
       "      <td>What are the two <font color = red>nature</font> of twins ?</td>\n",
       "    </tr>\n",
       "    <tr>\n",
       "      <th>114</th>\n",
       "      <td>What <font color = orange>continent</font> is Argentina on ?</td>\n",
       "      <td>What <font color = green>chau</font> is Argentina on ?</td>\n",
       "    </tr>\n",
       "    <tr>\n",
       "      <th>115</th>\n",
       "      <td>Which <font color = orange>country</font> gave New York the Statue of Liberty ?</td>\n",
       "      <td>Which <font color = green>sate</font> gave New York the Statue of Liberty ?</td>\n",
       "    </tr>\n",
       "    <tr>\n",
       "      <th>116</th>\n",
       "      <td>What is the fourth highest <font color = orange>mountain</font> in the world ?</td>\n",
       "      <td>What is the fourth highest <font color = green>mounted</font> in the world ?</td>\n",
       "    </tr>\n",
       "    <tr>\n",
       "      <th>117</th>\n",
       "      <td>What <font color = yellow>year</font> did WWII begin ?</td>\n",
       "      <td>What <font color = green>ano</font> did WWII begin ?</td>\n",
       "    </tr>\n",
       "    <tr>\n",
       "      <th>118</th>\n",
       "      <td>What is Maryland 's state <font color = green>bird</font> ?</td>\n",
       "      <td>What is Maryland 's state <font color = orange>byrd</font> ?</td>\n",
       "    </tr>\n",
       "    <tr>\n",
       "      <th>119</th>\n",
       "      <td>What are antacids ?</td>\n",
       "      <td>What are antacids ?</td>\n",
       "    </tr>\n",
       "    <tr>\n",
       "      <th>120</th>\n",
       "      <td>What is the only <font color = green>artery</font> that carries blue blood from the heart to the lungs ?</td>\n",
       "      <td>What is the only <font color = orange>highways</font> that carries blue blood from the heart to the lungs ?</td>\n",
       "    </tr>\n",
       "    <tr>\n",
       "      <th>121</th>\n",
       "      <td>What <font color = green>primary</font> <font color = green>colors</font> <font color = green>do</font> you <font color = green>mix</font> to <font color = green>make</font> <font color = green>orange</font> ?</td>\n",
       "      <td>What <font color = red>upfront</font> <font color = red>nuance</font> <font color = red>fact</font> you <font color = red>combinations</font> to <font color = red>reaching</font> <font color = red>tangerines</font> ?</td>\n",
       "    </tr>\n",
       "    <tr>\n",
       "      <th>122</th>\n",
       "      <td>What is home <font color = red>equity</font> ?</td>\n",
       "      <td>What is home <font color = red>justo</font> ?</td>\n",
       "    </tr>\n",
       "    <tr>\n",
       "      <th>123</th>\n",
       "      <td>What is pectin ?</td>\n",
       "      <td>What is pectin ?</td>\n",
       "    </tr>\n",
       "    <tr>\n",
       "      <th>124</th>\n",
       "      <td>What are <font color = red>amphibians</font> ?</td>\n",
       "      <td>What are <font color = red>marsupials</font> ?</td>\n",
       "    </tr>\n",
       "    <tr>\n",
       "      <th>125</th>\n",
       "      <td><font color = yellow>When</font> is St. Patrick 's Day ?</td>\n",
       "      <td><font color = orange>Where</font> is St. Patrick 's Day ?</td>\n",
       "    </tr>\n",
       "    <tr>\n",
       "      <th>126</th>\n",
       "      <td><font color = red>How</font> <font color = red>did</font> Janice Joplin die ?</td>\n",
       "      <td><font color = green>Consequently</font> <font color = green>became</font> Janice Joplin die ?</td>\n",
       "    </tr>\n",
       "    <tr>\n",
       "      <th>127</th>\n",
       "      <td>What soviet <font color = orange>seaport</font> is on the Black Sea ?</td>\n",
       "      <td>What soviet <font color = green>wearing</font> is on the Black Sea ?</td>\n",
       "    </tr>\n",
       "    <tr>\n",
       "      <th>128</th>\n",
       "      <td>What are cigarettes <font color = green>made</font> of ?</td>\n",
       "      <td>What are cigarettes <font color = red>posed</font> of ?</td>\n",
       "    </tr>\n",
       "    <tr>\n",
       "      <th>129</th>\n",
       "      <td>What <font color = orange>river</font> runs through Rowe , Italy ?</td>\n",
       "      <td>What <font color = green>tok</font> runs through Rowe , Italy ?</td>\n",
       "    </tr>\n",
       "    <tr>\n",
       "      <th>130</th>\n",
       "      <td>What was J.F.K. 's wife 's <font color = purple>name</font> ?</td>\n",
       "      <td>What was J.F.K. 's wife 's <font color = green>denomination</font> ?</td>\n",
       "    </tr>\n",
       "    <tr>\n",
       "      <th>131</th>\n",
       "      <td>What do you <font color = green>call</font> a professional map drawer ?</td>\n",
       "      <td>What do you <font color = red>asking</font> a professional map drawer ?</td>\n",
       "    </tr>\n",
       "    <tr>\n",
       "      <th>132</th>\n",
       "      <td>How <font color = yellow>old</font> was Joan of Arc when she died ?</td>\n",
       "      <td>How <font color = red>obsolete</font> was Joan of Arc when she died ?</td>\n",
       "    </tr>\n",
       "    <tr>\n",
       "      <th>133</th>\n",
       "      <td>What are <font color = red>Aborigines</font> ?</td>\n",
       "      <td>What are <font color = red>Natives</font> ?</td>\n",
       "    </tr>\n",
       "    <tr>\n",
       "      <th>134</th>\n",
       "      <td>What are <font color = red>ethics</font> ?</td>\n",
       "      <td>What are <font color = red>mores</font> ?</td>\n",
       "    </tr>\n",
       "    <tr>\n",
       "      <th>135</th>\n",
       "      <td>What was President Lyndon Johnson 's reform program <font color = green>called</font> ?</td>\n",
       "      <td>What was President Lyndon Johnson 's reform program <font color = red>aspired</font> ?</td>\n",
       "    </tr>\n",
       "    <tr>\n",
       "      <th>136</th>\n",
       "      <td>What is the <font color = yellow>date</font> of Mexico 's independence ?</td>\n",
       "      <td>What is the <font color = red>personals</font> of Mexico 's independence ?</td>\n",
       "    </tr>\n",
       "    <tr>\n",
       "      <th>137</th>\n",
       "      <td><font color = orange>Where</font> is Hitler buried ?</td>\n",
       "      <td><font color = yellow>When</font> is Hitler buried ?</td>\n",
       "    </tr>\n",
       "    <tr>\n",
       "      <th>138</th>\n",
       "      <td>What <font color = green>color</font> is a giraffe 's tongue ?</td>\n",
       "      <td>What <font color = orange>spot</font> is a giraffe 's tongue ?</td>\n",
       "    </tr>\n",
       "    <tr>\n",
       "      <th>139</th>\n",
       "      <td>Who <font color = purple>invented</font> the <font color = purple>calculator</font> ?</td>\n",
       "      <td>Who <font color = purple>inventing</font> the <font color = purple>calculations</font> ?</td>\n",
       "    </tr>\n",
       "    <tr>\n",
       "      <th>140</th>\n",
       "      <td>What is a <font color = red>parasite</font> ?</td>\n",
       "      <td>What is a <font color = red>pest</font> ?</td>\n",
       "    </tr>\n",
       "    <tr>\n",
       "      <th>141</th>\n",
       "      <td>What is <font color = red>cryptography</font> ?</td>\n",
       "      <td>What is <font color = red>encoded</font> ?</td>\n",
       "    </tr>\n",
       "    <tr>\n",
       "      <th>142</th>\n",
       "      <td>What <font color = green>color</font> are crickets ?</td>\n",
       "      <td>What <font color = orange>spot</font> are crickets ?</td>\n",
       "    </tr>\n",
       "    <tr>\n",
       "      <th>143</th>\n",
       "      <td>How <font color = yellow>fast</font> is the speed of light ?</td>\n",
       "      <td>How <font color = red>forthwith</font> is the speed of light ?</td>\n",
       "    </tr>\n",
       "    <tr>\n",
       "      <th>144</th>\n",
       "      <td>What <font color = yellow>year</font> did the Titanic start on its journey ?</td>\n",
       "      <td>What <font color = green>ano</font> did the Titanic start on its journey ?</td>\n",
       "    </tr>\n",
       "    <tr>\n",
       "      <th>145</th>\n",
       "      <td>What <font color = orange>state</font> did the Battle of Bighorn take place in ?</td>\n",
       "      <td>What <font color = purple>nationals</font> did the Battle of Bighorn take place in ?</td>\n",
       "    </tr>\n",
       "    <tr>\n",
       "      <th>146</th>\n",
       "      <td>What does the abbreviation SOS mean ?</td>\n",
       "      <td>What does the abbreviation SOS mean ?</td>\n",
       "    </tr>\n",
       "    <tr>\n",
       "      <th>147</th>\n",
       "      <td>What baseball <font color = purple>team</font> was the first to make numbers part of their uniform ?</td>\n",
       "      <td>What baseball <font color = green>devices</font> was the first to make numbers part of their uniform ?</td>\n",
       "    </tr>\n",
       "    <tr>\n",
       "      <th>148</th>\n",
       "      <td>What is the <font color = yellow>population</font> of Australia ?</td>\n",
       "      <td>What is the <font color = red>volk</font> of Australia ?</td>\n",
       "    </tr>\n",
       "    <tr>\n",
       "      <th>149</th>\n",
       "      <td>What <font color = yellow>year</font> did the U.S. buy Alaska ?</td>\n",
       "      <td>What <font color = green>ano</font> did the U.S. buy Alaska ?</td>\n",
       "    </tr>\n",
       "    <tr>\n",
       "      <th>150</th>\n",
       "      <td>What is the <font color = orange>capital</font> of Mongolia ?</td>\n",
       "      <td>What is the <font color = purple>investor</font> of Mongolia ?</td>\n",
       "    </tr>\n",
       "    <tr>\n",
       "      <th>151</th>\n",
       "      <td>What was the most <font color = green>popular</font> <font color = green>toy</font> in 1957 ?</td>\n",
       "      <td>What was the most <font color = green>chic</font> <font color = green>cheek</font> in 1957 ?</td>\n",
       "    </tr>\n",
       "    <tr>\n",
       "      <th>152</th>\n",
       "      <td>What is the atomic <font color = yellow>weight</font> of silver ?</td>\n",
       "      <td>What is the atomic <font color = red>sinker</font> of silver ?</td>\n",
       "    </tr>\n",
       "    <tr>\n",
       "      <th>153</th>\n",
       "      <td>Who was the first <font color = purple>US</font> <font color = purple>President</font> to ride in an <font color = purple>automobile</font> to his <font color = purple>inauguration</font> ?</td>\n",
       "      <td>Who was the first <font color = purple>AMERICAS</font> <font color = purple>Minister</font> to ride in an <font color = purple>tricycle</font> to his <font color = purple>commencement</font> ?</td>\n",
       "    </tr>\n",
       "    <tr>\n",
       "      <th>154</th>\n",
       "      <td><font color = red>Why</font> does the moon turn orange ?</td>\n",
       "      <td><font color = orange>Where</font> does the moon turn orange ?</td>\n",
       "    </tr>\n",
       "    <tr>\n",
       "      <th>155</th>\n",
       "      <td>What <font color = green>currency</font> does Argentina <font color = green>use</font> ?</td>\n",
       "      <td>What <font color = orange>interchange</font> does Argentina <font color = orange>resort</font> ?</td>\n",
       "    </tr>\n",
       "    <tr>\n",
       "      <th>156</th>\n",
       "      <td>What was the first <font color = green>satellite</font> to go into space ?</td>\n",
       "      <td>What was the first <font color = orange>space</font> to go into space ?</td>\n",
       "    </tr>\n",
       "    <tr>\n",
       "      <th>157</th>\n",
       "      <td>What <font color = red>causes</font> gray hair ?</td>\n",
       "      <td>What <font color = green>raison</font> gray hair ?</td>\n",
       "    </tr>\n",
       "    <tr>\n",
       "      <th>158</th>\n",
       "      <td>What does I.V. <font color = blue>stand</font> for ?</td>\n",
       "      <td>What does I.V. <font color = red>attitude</font> for ?</td>\n",
       "    </tr>\n",
       "    <tr>\n",
       "      <th>159</th>\n",
       "      <td>What is <font color = red>pilates</font> ?</td>\n",
       "      <td>What is <font color = red>workout</font> ?</td>\n",
       "    </tr>\n",
       "    <tr>\n",
       "      <th>160</th>\n",
       "      <td>Mexican <font color = yellow>pesos</font> are worth what in U.S. dollars ?</td>\n",
       "      <td>Mexican <font color = green>sinker</font> are worth what in U.S. dollars ?</td>\n",
       "    </tr>\n",
       "    <tr>\n",
       "      <th>161</th>\n",
       "      <td>Who was <font color = purple>elected</font> <font color = purple>president</font> of <font color = purple>South</font> <font color = purple>Africa</font> in 1994 ?</td>\n",
       "      <td>Who was <font color = purple>opting</font> <font color = purple>presidency</font> of <font color = purple>Westerly</font> <font color = purple>Tanzania</font> in 1994 ?</td>\n",
       "    </tr>\n",
       "    <tr>\n",
       "      <th>162</th>\n",
       "      <td>What is amoxicillin ?</td>\n",
       "      <td>What is amoxicillin ?</td>\n",
       "    </tr>\n",
       "    <tr>\n",
       "      <th>163</th>\n",
       "      <td>How <font color = yellow>far</font> is Pluto from the sun ?</td>\n",
       "      <td>How <font color = red>importantly</font> is Pluto from the sun ?</td>\n",
       "    </tr>\n",
       "    <tr>\n",
       "      <th>164</th>\n",
       "      <td>What is a <font color = red>fuel</font> <font color = red>cell</font> ?</td>\n",
       "      <td>What is a <font color = red>yau</font> <font color = red>stacks</font> ?</td>\n",
       "    </tr>\n",
       "    <tr>\n",
       "      <th>165</th>\n",
       "      <td>What is propylene glycol ?</td>\n",
       "      <td>What is propylene glycol ?</td>\n",
       "    </tr>\n",
       "    <tr>\n",
       "      <th>166</th>\n",
       "      <td>What is the <font color = yellow>elevation</font> of St. Louis , MO ?</td>\n",
       "      <td>What is the <font color = orange>uppermost</font> of St. Louis , MO ?</td>\n",
       "    </tr>\n",
       "    <tr>\n",
       "      <th>167</th>\n",
       "      <td>Who was the first <font color = purple>Prime</font> <font color = purple>Minister</font> of Canada ?</td>\n",
       "      <td>Who was the first <font color = purple>Frst</font> <font color = purple>Ministry</font> of Canada ?</td>\n",
       "    </tr>\n",
       "    <tr>\n",
       "      <th>168</th>\n",
       "      <td><font color = orange>Where</font> is the Mason/Dixon line ?</td>\n",
       "      <td><font color = yellow>When</font> is the Mason/Dixon line ?</td>\n",
       "    </tr>\n",
       "    <tr>\n",
       "      <th>169</th>\n",
       "      <td>What <font color = orange>county</font> is Phoenix , AZ in ?</td>\n",
       "      <td>What <font color = green>prov</font> is Phoenix , AZ in ?</td>\n",
       "    </tr>\n",
       "    <tr>\n",
       "      <th>170</th>\n",
       "      <td><font color = red>Why</font> in tennis are zero points called love ?</td>\n",
       "      <td><font color = orange>Where</font> in tennis are zero points called love ?</td>\n",
       "    </tr>\n",
       "    <tr>\n",
       "      <th>171</th>\n",
       "      <td>What were Christopher Columbus ' three <font color = green>ships</font> ?</td>\n",
       "      <td>What were Christopher Columbus ' three <font color = purple>marine</font> ?</td>\n",
       "    </tr>\n",
       "    <tr>\n",
       "      <th>172</th>\n",
       "      <td>What is the <font color = yellow>speed</font> of light ?</td>\n",
       "      <td>What is the <font color = red>vite</font> of light ?</td>\n",
       "    </tr>\n",
       "    <tr>\n",
       "      <th>173</th>\n",
       "      <td>Who was the first African <font color = purple>American</font> to <font color = purple>win</font> the <font color = purple>Nobel</font> <font color = purple>Prize</font> in <font color = purple>literature</font> ?</td>\n",
       "      <td>Who was the first African <font color = purple>Americano</font> to <font color = purple>avail</font> the <font color = purple>Fellowship</font> <font color = purple>Scholarships</font> in <font color = purple>journals</font> ?</td>\n",
       "    </tr>\n",
       "    <tr>\n",
       "      <th>174</th>\n",
       "      <td>What is the spirometer <font color = red>test</font> ?</td>\n",
       "      <td>What is the spirometer <font color = red>verify</font> ?</td>\n",
       "    </tr>\n",
       "    <tr>\n",
       "      <th>175</th>\n",
       "      <td><font color = orange>In</font> <font color = orange>Poland</font> , where <font color = orange>do</font> most <font color = orange>people</font> <font color = orange>live</font> ?</td>\n",
       "      <td><font color = orange>From</font> <font color = orange>Zloty</font> , where <font color = orange>played</font> most <font color = orange>resident</font> <font color = orange>resident</font> ?</td>\n",
       "    </tr>\n",
       "    <tr>\n",
       "      <th>176</th>\n",
       "      <td>What is the chunnel ?</td>\n",
       "      <td>What is the chunnel ?</td>\n",
       "    </tr>\n",
       "    <tr>\n",
       "      <th>177</th>\n",
       "      <td>How <font color = yellow>many</font> hearts does an octopus have ?</td>\n",
       "      <td>How <font color = red>untold</font> hearts does an octopus have ?</td>\n",
       "    </tr>\n",
       "    <tr>\n",
       "      <th>178</th>\n",
       "      <td>What is the name of the <font color = purple>leader</font> of Ireland ?</td>\n",
       "      <td>What is the name of the <font color = green>leiter</font> of Ireland ?</td>\n",
       "    </tr>\n",
       "    <tr>\n",
       "      <th>179</th>\n",
       "      <td><font color = orange>Where</font> is the tallest roller coaster located ?</td>\n",
       "      <td><font color = yellow>When</font> is the tallest roller coaster located ?</td>\n",
       "    </tr>\n",
       "    <tr>\n",
       "      <th>180</th>\n",
       "      <td>What is <font color = red>cholesterol</font> ?</td>\n",
       "      <td>What is <font color = red>fats</font> ?</td>\n",
       "    </tr>\n",
       "    <tr>\n",
       "      <th>181</th>\n",
       "      <td>What does a barometer <font color = green>measure</font> ?</td>\n",
       "      <td>What does a barometer <font color = red>initiatives</font> ?</td>\n",
       "    </tr>\n",
       "    <tr>\n",
       "      <th>182</th>\n",
       "      <td>What is a <font color = red>panic</font> <font color = red>disorder</font> ?</td>\n",
       "      <td>What is a <font color = green>feared</font> <font color = green>illness</font> ?</td>\n",
       "    </tr>\n",
       "    <tr>\n",
       "      <th>183</th>\n",
       "      <td>What is carbon <font color = red>dioxide</font> ?</td>\n",
       "      <td>What is carbon <font color = red>acetone</font> ?</td>\n",
       "    </tr>\n",
       "    <tr>\n",
       "      <th>184</th>\n",
       "      <td>What is the active <font color = green>ingredient</font> in baking soda ?</td>\n",
       "      <td>What is the active <font color = red>aspects</font> in baking soda ?</td>\n",
       "    </tr>\n",
       "    <tr>\n",
       "      <th>185</th>\n",
       "      <td>What is the brightest star ?</td>\n",
       "      <td>What is the brightest star ?</td>\n",
       "    </tr>\n",
       "    <tr>\n",
       "      <th>186</th>\n",
       "      <td>Who <font color = purple>wrote</font> `` The <font color = purple>Divine</font> <font color = purple>Comedy</font> '' ?</td>\n",
       "      <td>Who <font color = purple>editor</font> `` The <font color = purple>Yummy</font> <font color = purple>Satire</font> '' ?</td>\n",
       "    </tr>\n",
       "    <tr>\n",
       "      <th>187</th>\n",
       "      <td>What <font color = yellow>day</font> and <font color = yellow>month</font> did John Lennon die ?</td>\n",
       "      <td>What <font color = green>diaz</font> and <font color = green>mes</font> did John Lennon die ?</td>\n",
       "    </tr>\n",
       "    <tr>\n",
       "      <th>188</th>\n",
       "      <td>What is naproxen ?</td>\n",
       "      <td>What is naproxen ?</td>\n",
       "    </tr>\n",
       "    <tr>\n",
       "      <th>189</th>\n",
       "      <td><font color = yellow>When</font> did Elvis Presley die ?</td>\n",
       "      <td><font color = orange>Where</font> did Elvis Presley die ?</td>\n",
       "    </tr>\n",
       "    <tr>\n",
       "      <th>190</th>\n",
       "      <td>What does NASA <font color = blue>stand</font> for ?</td>\n",
       "      <td>What does NASA <font color = red>stance</font> for ?</td>\n",
       "    </tr>\n",
       "    <tr>\n",
       "      <th>191</th>\n",
       "      <td>What <font color = yellow>year</font> did the Titanic sink ?</td>\n",
       "      <td>What <font color = green>ano</font> did the Titanic sink ?</td>\n",
       "    </tr>\n",
       "    <tr>\n",
       "      <th>192</th>\n",
       "      <td><font color = yellow>When</font> is hurricane season in the Caribbean ?</td>\n",
       "      <td><font color = orange>Where</font> is hurricane season in the Caribbean ?</td>\n",
       "    </tr>\n",
       "    <tr>\n",
       "      <th>193</th>\n",
       "      <td>What are the <font color = green>animals</font> that don 't have <font color = green>backbones</font> <font color = green>called</font> ?</td>\n",
       "      <td>What are the <font color = red>weevils</font> that don 't have <font color = red>fundamentals</font> <font color = red>asks</font> ?</td>\n",
       "    </tr>\n",
       "    <tr>\n",
       "      <th>194</th>\n",
       "      <td>What is the <font color = yellow>melting</font> point of copper ?</td>\n",
       "      <td>What is the <font color = red>blending</font> point of copper ?</td>\n",
       "    </tr>\n",
       "    <tr>\n",
       "      <th>195</th>\n",
       "      <td>Who <font color = purple>invented</font> the <font color = purple>slinky</font> ?</td>\n",
       "      <td>Who <font color = purple>manufactured</font> the <font color = purple>fishnet</font> ?</td>\n",
       "    </tr>\n",
       "    <tr>\n",
       "      <th>196</th>\n",
       "      <td>What is the <font color = yellow>average</font> <font color = yellow>speed</font> of the horses at the Kentucky Derby ?</td>\n",
       "      <td>What is the <font color = green>midst</font> <font color = green>swiftest</font> of the horses at the Kentucky Derby ?</td>\n",
       "    </tr>\n",
       "    <tr>\n",
       "      <th>197</th>\n",
       "      <td>What is the oldest <font color = orange>city</font> in the United States ?</td>\n",
       "      <td>What is the oldest <font color = purple>mayor</font> in the United States ?</td>\n",
       "    </tr>\n",
       "    <tr>\n",
       "      <th>198</th>\n",
       "      <td>What is <font color = red>metabolism</font> ?</td>\n",
       "      <td>What is <font color = red>calories</font> ?</td>\n",
       "    </tr>\n",
       "    <tr>\n",
       "      <th>199</th>\n",
       "      <td><font color = purple>What</font> <font color = purple>American</font> <font color = purple>composer</font> <font color = purple>wrote</font> the <font color = purple>music</font> for `` <font color = purple>West</font> <font color = purple>Side</font> <font color = purple>Story</font> '' ?</td>\n",
       "      <td><font color = green>Wher</font> <font color = green>Estados</font> <font color = green>composition</font> <font color = green>texts</font> the <font color = green>concert</font> for `` <font color = green>Balkans</font> <font color = green>Lateral</font> <font color = green>Historian</font> '' ?</td>\n",
       "    </tr>\n",
       "    <tr>\n",
       "      <th>200</th>\n",
       "      <td>Who <font color = purple>painted</font> the <font color = purple>ceiling</font> of the Sistine <font color = purple>Chapel</font> ?</td>\n",
       "      <td>Who <font color = purple>pastel</font> the <font color = purple>limiting</font> of the Sistine <font color = purple>Barish</font> ?</td>\n",
       "    </tr>\n",
       "    <tr>\n",
       "      <th>201</th>\n",
       "      <td>What is an <font color = red>atom</font> ?</td>\n",
       "      <td>What is an <font color = red>electrons</font> ?</td>\n",
       "    </tr>\n",
       "    <tr>\n",
       "      <th>202</th>\n",
       "      <td>What <font color = green>fruit</font> is Melba sauce made from ?</td>\n",
       "      <td>What <font color = red>outcome</font> is Melba sauce made from ?</td>\n",
       "    </tr>\n",
       "    <tr>\n",
       "      <th>203</th>\n",
       "      <td>What is the birthstone of <font color = green>October</font> ?</td>\n",
       "      <td>What is the birthstone of <font color = red>Sep</font> ?</td>\n",
       "    </tr>\n",
       "    <tr>\n",
       "      <th>204</th>\n",
       "      <td>How <font color = yellow>long</font> is the Columbia River in miles ?</td>\n",
       "      <td>How <font color = red>interminable</font> is the Columbia River in miles ?</td>\n",
       "    </tr>\n",
       "    <tr>\n",
       "      <th>205</th>\n",
       "      <td>Who was <font color = purple>president</font> in 1913 ?</td>\n",
       "      <td>Who was <font color = purple>chairmanship</font> in 1913 ?</td>\n",
       "    </tr>\n",
       "    <tr>\n",
       "      <th>206</th>\n",
       "      <td>How <font color = yellow>many</font> Admirals are there in the U.S. Navy ?</td>\n",
       "      <td>How <font color = red>manifold</font> Admirals are there in the U.S. Navy ?</td>\n",
       "    </tr>\n",
       "    <tr>\n",
       "      <th>207</th>\n",
       "      <td>What is the <font color = yellow>population</font> of Nigeria ?</td>\n",
       "      <td>What is the <font color = orange>pueblo</font> of Nigeria ?</td>\n",
       "    </tr>\n",
       "    <tr>\n",
       "      <th>208</th>\n",
       "      <td>What are the two houses of the Legislative branch ?</td>\n",
       "      <td>What are the two houses of the Legislative branch ?</td>\n",
       "    </tr>\n",
       "    <tr>\n",
       "      <th>209</th>\n",
       "      <td>What was the last <font color = yellow>year</font> that the Chicago Cubs won the World Series ?</td>\n",
       "      <td>What was the last <font color = green>sunni</font> that the Chicago Cubs won the World Series ?</td>\n",
       "    </tr>\n",
       "    <tr>\n",
       "      <th>210</th>\n",
       "      <td>What is the life <font color = yellow>expectancy</font> of a dollar bill ?</td>\n",
       "      <td>What is the life <font color = green>esperanza</font> of a dollar bill ?</td>\n",
       "    </tr>\n",
       "    <tr>\n",
       "      <th>211</th>\n",
       "      <td>How <font color = yellow>wide</font> is the Milky Way galaxy ?</td>\n",
       "      <td>How <font color = red>jumbo</font> is the Milky Way galaxy ?</td>\n",
       "    </tr>\n",
       "    <tr>\n",
       "      <th>212</th>\n",
       "      <td>Name a <font color = green>stimulant</font> .</td>\n",
       "      <td>Name a <font color = purple>motivator</font> .</td>\n",
       "    </tr>\n",
       "    <tr>\n",
       "      <th>213</th>\n",
       "      <td>What are triglycerides ?</td>\n",
       "      <td>What are triglycerides ?</td>\n",
       "    </tr>\n",
       "    <tr>\n",
       "      <th>214</th>\n",
       "      <td>What is TMJ ?</td>\n",
       "      <td>What is TMJ ?</td>\n",
       "    </tr>\n",
       "    <tr>\n",
       "      <th>215</th>\n",
       "      <td>What is the <font color = green>name</font> of the satellite that the Soviet Union sent into space in 1957 ?</td>\n",
       "      <td>What is the <font color = red>sake</font> of the satellite that the Soviet Union sent into space in 1957 ?</td>\n",
       "    </tr>\n",
       "    <tr>\n",
       "      <th>216</th>\n",
       "      <td><font color = yellow>During</font> which <font color = yellow>season</font> <font color = yellow>do</font> most <font color = yellow>thunderstorms</font> <font color = yellow>occur</font> ?</td>\n",
       "      <td><font color = green>Among</font> which <font color = green>seasons</font> <font color = green>effected</font> most <font color = green>rainy</font> <font color = green>arise</font> ?</td>\n",
       "    </tr>\n",
       "    <tr>\n",
       "      <th>217</th>\n",
       "      <td>What is <font color = red>influenza</font> ?</td>\n",
       "      <td>What is <font color = red>epidemic</font> ?</td>\n",
       "    </tr>\n",
       "    <tr>\n",
       "      <th>218</th>\n",
       "      <td>Who is a <font color = purple>German</font> <font color = purple>philosopher</font> ?</td>\n",
       "      <td>Who is a <font color = purple>Hessian</font> <font color = purple>theory</font> ?</td>\n",
       "    </tr>\n",
       "    <tr>\n",
       "      <th>219</th>\n",
       "      <td>What is <font color = red>Valentine</font> 's Day ?</td>\n",
       "      <td>What is <font color = yellow>Valentin</font> 's Day ?</td>\n",
       "    </tr>\n",
       "    <tr>\n",
       "      <th>220</th>\n",
       "      <td>What is <font color = red>bandwidth</font> ?</td>\n",
       "      <td>What is <font color = red>width</font> ?</td>\n",
       "    </tr>\n",
       "    <tr>\n",
       "      <th>221</th>\n",
       "      <td>What <font color = orange>imaginary</font> line is halfway between the North and South Poles ?</td>\n",
       "      <td>What <font color = green>faux</font> line is halfway between the North and South Poles ?</td>\n",
       "    </tr>\n",
       "    <tr>\n",
       "      <th>222</th>\n",
       "      <td>What is Muscular <font color = red>Dystrophy</font> ?</td>\n",
       "      <td>What is Muscular <font color = red>Cystic</font> ?</td>\n",
       "    </tr>\n",
       "    <tr>\n",
       "      <th>223</th>\n",
       "      <td>What <font color = orange>river</font> flows between Fargo , North Dakota and Moorhead , Minnesota ?</td>\n",
       "      <td>What <font color = green>water</font> flows between Fargo , North Dakota and Moorhead , Minnesota ?</td>\n",
       "    </tr>\n",
       "    <tr>\n",
       "      <th>224</th>\n",
       "      <td>Who is the <font color = purple>congressman</font> from <font color = purple>state</font> of <font color = purple>Texas</font> on the <font color = purple>armed</font> forces <font color = purple>committee</font> ?</td>\n",
       "      <td>Who is the <font color = purple>senate</font> from <font color = purple>countries</font> of <font color = purple>Texarkana</font> on the <font color = purple>navy</font> forces <font color = purple>committees</font> ?</td>\n",
       "    </tr>\n",
       "    <tr>\n",
       "      <th>225</th>\n",
       "      <td>Who was the 22nd <font color = purple>President</font> of the <font color = purple>US</font> ?</td>\n",
       "      <td>Who was the 22nd <font color = purple>Chairmanship</font> of the <font color = purple>VS</font> ?</td>\n",
       "    </tr>\n",
       "    <tr>\n",
       "      <th>226</th>\n",
       "      <td>What is die-casting ?</td>\n",
       "      <td>What is die-casting ?</td>\n",
       "    </tr>\n",
       "    <tr>\n",
       "      <th>227</th>\n",
       "      <td>What is <font color = red>vertigo</font> ?</td>\n",
       "      <td>What is <font color = red>giddy</font> ?</td>\n",
       "    </tr>\n",
       "    <tr>\n",
       "      <th>228</th>\n",
       "      <td>Who was the first <font color = purple>vice</font> <font color = purple>president</font> of the <font color = purple>U</font>.<font color = purple>S</font>. ?</td>\n",
       "      <td>Who was the first <font color = purple>aide</font> <font color = purple>preside</font> of the <font color = purple>ni</font>.<font color = purple>secs</font>. ?</td>\n",
       "    </tr>\n",
       "    <tr>\n",
       "      <th>229</th>\n",
       "      <td>What <font color = yellow>year</font> did the Andy Griffith show begin ?</td>\n",
       "      <td>What <font color = green>sunni</font> did the Andy Griffith show begin ?</td>\n",
       "    </tr>\n",
       "    <tr>\n",
       "      <th>230</th>\n",
       "      <td><font color = yellow>When</font> is the summer solstice ?</td>\n",
       "      <td><font color = orange>Where</font> is the summer solstice ?</td>\n",
       "    </tr>\n",
       "    <tr>\n",
       "      <th>231</th>\n",
       "      <td>What is a carcinogen ?</td>\n",
       "      <td>What is a carcinogen ?</td>\n",
       "    </tr>\n",
       "    <tr>\n",
       "      <th>232</th>\n",
       "      <td><font color = orange>Where</font> is the Grand Canyon ?</td>\n",
       "      <td><font color = yellow>When</font> is the Grand Canyon ?</td>\n",
       "    </tr>\n",
       "    <tr>\n",
       "      <th>233</th>\n",
       "      <td>What is the <font color = yellow>depth</font> of the Nile river ?</td>\n",
       "      <td>What is the <font color = orange>deepest</font> of the Nile river ?</td>\n",
       "    </tr>\n",
       "    <tr>\n",
       "      <th>234</th>\n",
       "      <td>What <font color = yellow>date</font> was Dwight D. Eisenhower born ?</td>\n",
       "      <td>What <font color = green>personals</font> was Dwight D. Eisenhower born ?</td>\n",
       "    </tr>\n",
       "    <tr>\n",
       "      <th>235</th>\n",
       "      <td>What is a baby turkey <font color = green>called</font> ?</td>\n",
       "      <td>What is a baby turkey <font color = red>convened</font> ?</td>\n",
       "    </tr>\n",
       "    <tr>\n",
       "      <th>236</th>\n",
       "      <td>What is the <font color = red>difference</font> between AM <font color = red>radio</font> <font color = red>stations</font> and <font color = red>FM</font> <font color = red>radio</font> stations ?</td>\n",
       "      <td>What is the <font color = green>variant</font> between AM <font color = green>aired</font> <font color = green>resorts</font> and <font color = green>FIM</font> <font color = green>broadcasted</font> stations ?</td>\n",
       "    </tr>\n",
       "    <tr>\n",
       "      <th>237</th>\n",
       "      <td><font color = green>Name</font> a <font color = green>food</font> high in zinc .</td>\n",
       "      <td><font color = purple>Appoints</font> a <font color = purple>restaurant</font> high in zinc .</td>\n",
       "    </tr>\n",
       "    <tr>\n",
       "      <th>238</th>\n",
       "      <td>How <font color = yellow>much</font> fiber should you have per day ?</td>\n",
       "      <td>How <font color = red>immensely</font> fiber should you have per day ?</td>\n",
       "    </tr>\n",
       "    <tr>\n",
       "      <th>239</th>\n",
       "      <td>What is the state <font color = green>flower</font> of Michigan ?</td>\n",
       "      <td>What is the state <font color = orange>dahlias</font> of Michigan ?</td>\n",
       "    </tr>\n",
       "    <tr>\n",
       "      <th>240</th>\n",
       "      <td>What hemisphere is the Philippines in ?</td>\n",
       "      <td>What hemisphere is the Philippines in ?</td>\n",
       "    </tr>\n",
       "    <tr>\n",
       "      <th>241</th>\n",
       "      <td>What <font color = yellow>year</font> did the United States abolish the draft ?</td>\n",
       "      <td>What <font color = purple>sunni</font> did the United States abolish the draft ?</td>\n",
       "    </tr>\n",
       "    <tr>\n",
       "      <th>242</th>\n",
       "      <td>What is the <font color = orange>location</font> of the Sea of Tranquility ?</td>\n",
       "      <td>What is the <font color = green>hire</font> of the Sea of Tranquility ?</td>\n",
       "    </tr>\n",
       "    <tr>\n",
       "      <th>243</th>\n",
       "      <td>What <font color = orange>country</font> did Ponce de Leon come from ?</td>\n",
       "      <td>What <font color = purple>nationals</font> did Ponce de Leon come from ?</td>\n",
       "    </tr>\n",
       "    <tr>\n",
       "      <th>244</th>\n",
       "      <td>What is the <font color = red>Moulin</font> <font color = red>Rouge</font> ?</td>\n",
       "      <td>What is the <font color = red>Mullen</font> <font color = red>Rode</font> ?</td>\n",
       "    </tr>\n",
       "    <tr>\n",
       "      <th>245</th>\n",
       "      <td>What are <font color = red>coral</font> <font color = red>reefs</font> ?</td>\n",
       "      <td>What are <font color = red>reefs</font> <font color = red>atoll</font> ?</td>\n",
       "    </tr>\n",
       "    <tr>\n",
       "      <th>246</th>\n",
       "      <td><font color = orange>Where</font> is Perth ?</td>\n",
       "      <td><font color = yellow>When</font> is Perth ?</td>\n",
       "    </tr>\n",
       "    <tr>\n",
       "      <th>247</th>\n",
       "      <td>What does Phi Beta <font color = red>Kappa</font> <font color = red>mean</font> ?</td>\n",
       "      <td>What does Phi Beta <font color = yellow>Phi</font> <font color = yellow>average</font> ?</td>\n",
       "    </tr>\n",
       "    <tr>\n",
       "      <th>248</th>\n",
       "      <td>What is <font color = red>Mardi</font> <font color = red>Gras</font> ?</td>\n",
       "      <td>What is <font color = red>Mon</font> <font color = red>Gallant</font> ?</td>\n",
       "    </tr>\n",
       "    <tr>\n",
       "      <th>249</th>\n",
       "      <td>What <font color = green>currency</font> is used in <font color = green>Algeria</font> ?</td>\n",
       "      <td>What <font color = green>dollar</font> is used in <font color = green>Alger</font> ?</td>\n",
       "    </tr>\n",
       "    <tr>\n",
       "      <th>250</th>\n",
       "      <td>How <font color = yellow>old</font> was the youngest president of the United States ?</td>\n",
       "      <td>How <font color = red>immemorial</font> was the youngest president of the United States ?</td>\n",
       "    </tr>\n",
       "    <tr>\n",
       "      <th>251</th>\n",
       "      <td>What is cerebral <font color = red>palsy</font> ?</td>\n",
       "      <td>What is cerebral <font color = red>rut</font> ?</td>\n",
       "    </tr>\n",
       "    <tr>\n",
       "      <th>252</th>\n",
       "      <td>What is <font color = red>foreclosure</font> ?</td>\n",
       "      <td>What is <font color = red>seizure</font> ?</td>\n",
       "    </tr>\n",
       "    <tr>\n",
       "      <th>253</th>\n",
       "      <td>Who was the first African <font color = purple>American</font> to <font color = purple>play</font> for the <font color = purple>Brooklyn</font> <font color = purple>Dodgers</font> ?</td>\n",
       "      <td>Who was the first African <font color = purple>America</font> to <font color = purple>playing</font> for the <font color = purple>Newark</font> <font color = purple>Blackhawks</font> ?</td>\n",
       "    </tr>\n",
       "    <tr>\n",
       "      <th>254</th>\n",
       "      <td>What is the <font color = yellow>average</font> <font color = yellow>weight</font> of a Yellow Labrador ?</td>\n",
       "      <td>What is the <font color = green>middle</font> <font color = green>sinker</font> of a Yellow Labrador ?</td>\n",
       "    </tr>\n",
       "    <tr>\n",
       "      <th>255</th>\n",
       "      <td>For how <font color = yellow>long</font> is an elephant pregnant ?</td>\n",
       "      <td>For how <font color = red>along</font> is an elephant pregnant ?</td>\n",
       "    </tr>\n",
       "    <tr>\n",
       "      <th>256</th>\n",
       "      <td>What are <font color = red>spider</font> <font color = red>veins</font> ?</td>\n",
       "      <td>What are <font color = orange>chandelier</font> <font color = orange>coastlines</font> ?</td>\n",
       "    </tr>\n",
       "    <tr>\n",
       "      <th>257</th>\n",
       "      <td>What is a <font color = red>tsunami</font> ?</td>\n",
       "      <td>What is a <font color = red>tides</font> ?</td>\n",
       "    </tr>\n",
       "    <tr>\n",
       "      <th>258</th>\n",
       "      <td>Who <font color = purple>invented</font> the <font color = purple>telephone</font> ?</td>\n",
       "      <td>Who <font color = purple>manufactured</font> the <font color = purple>cellphones</font> ?</td>\n",
       "    </tr>\n",
       "    <tr>\n",
       "      <th>259</th>\n",
       "      <td>What <font color = orange>city</font> 's newspaper is called `` The Enquirer '' ?</td>\n",
       "      <td>What <font color = green>shing</font> 's newspaper is called `` The Enquirer '' ?</td>\n",
       "    </tr>\n",
       "    <tr>\n",
       "      <th>260</th>\n",
       "      <td>Which U.S.A. <font color = purple>president</font> appeared on `` Laugh-In '' ?</td>\n",
       "      <td>Which U.S.A. <font color = green>chairs</font> appeared on `` Laugh-In '' ?</td>\n",
       "    </tr>\n",
       "    <tr>\n",
       "      <th>261</th>\n",
       "      <td>What is Australia 's national <font color = green>flower</font> ?</td>\n",
       "      <td>What is Australia 's national <font color = red>blom</font> ?</td>\n",
       "    </tr>\n",
       "    <tr>\n",
       "      <th>262</th>\n",
       "      <td><font color = purple>Who</font> <font color = purple>lived</font> in the Neuschwanstein castle ?</td>\n",
       "      <td><font color = green>Whoever</font> <font color = green>iife</font> in the Neuschwanstein castle ?</td>\n",
       "    </tr>\n",
       "    <tr>\n",
       "      <th>263</th>\n",
       "      <td>How <font color = yellow>far</font> away is the moon ?</td>\n",
       "      <td>How <font color = red>importantly</font> away is the moon ?</td>\n",
       "    </tr>\n",
       "    <tr>\n",
       "      <th>264</th>\n",
       "      <td>What is rheumatoid <font color = red>arthritis</font> ?</td>\n",
       "      <td>What is rheumatoid <font color = red>colds</font> ?</td>\n",
       "    </tr>\n",
       "    <tr>\n",
       "      <th>265</th>\n",
       "      <td>Who <font color = purple>developed</font> the <font color = purple>Macintosh</font> <font color = purple>computer</font> ?</td>\n",
       "      <td>Who <font color = purple>prepare</font> the <font color = purple>Eam</font> <font color = purple>device</font> ?</td>\n",
       "    </tr>\n",
       "    <tr>\n",
       "      <th>266</th>\n",
       "      <td>What is the <font color = yellow>temperature</font> of the sun 's surface ?</td>\n",
       "      <td>What is the <font color = red>meteorology</font> of the sun 's surface ?</td>\n",
       "    </tr>\n",
       "    <tr>\n",
       "      <th>267</th>\n",
       "      <td>How <font color = yellow>many</font> gallons of water are there in a cubic foot ?</td>\n",
       "      <td>How <font color = red>profusion</font> gallons of water are there in a cubic foot ?</td>\n",
       "    </tr>\n",
       "    <tr>\n",
       "      <th>268</th>\n",
       "      <td><font color = yellow>When</font> is Father 's Day ?</td>\n",
       "      <td><font color = orange>Where</font> is Father 's Day ?</td>\n",
       "    </tr>\n",
       "    <tr>\n",
       "      <th>269</th>\n",
       "      <td>What is neuropathy ?</td>\n",
       "      <td>What is neuropathy ?</td>\n",
       "    </tr>\n",
       "    <tr>\n",
       "      <th>270</th>\n",
       "      <td>What is the pH <font color = red>scale</font> ?</td>\n",
       "      <td>What is the pH <font color = yellow>sized</font> ?</td>\n",
       "    </tr>\n",
       "    <tr>\n",
       "      <th>271</th>\n",
       "      <td>Who is the <font color = purple>tallest</font> <font color = purple>man</font> in the <font color = purple>world</font> ?</td>\n",
       "      <td>Who is the <font color = purple>nicest</font> <font color = purple>comrade</font> in the <font color = purple>globo</font> ?</td>\n",
       "    </tr>\n",
       "    <tr>\n",
       "      <th>272</th>\n",
       "      <td>What is quicksilver ?</td>\n",
       "      <td>What is quicksilver ?</td>\n",
       "    </tr>\n",
       "    <tr>\n",
       "      <th>273</th>\n",
       "      <td>What <font color = orange>peninsula</font> is Spain part of ?</td>\n",
       "      <td>What <font color = green>korean</font> is Spain part of ?</td>\n",
       "    </tr>\n",
       "    <tr>\n",
       "      <th>274</th>\n",
       "      <td>What is the Illinois state flower ?</td>\n",
       "      <td>What is the Illinois state flower ?</td>\n",
       "    </tr>\n",
       "    <tr>\n",
       "      <th>275</th>\n",
       "      <td><font color = orange>Where</font> was the first golf course in the United States ?</td>\n",
       "      <td><font color = yellow>When</font> was the first golf course in the United States ?</td>\n",
       "    </tr>\n",
       "    <tr>\n",
       "      <th>276</th>\n",
       "      <td>What is <font color = red>nicotine</font> ?</td>\n",
       "      <td>What is <font color = red>nst</font> ?</td>\n",
       "    </tr>\n",
       "    <tr>\n",
       "      <th>277</th>\n",
       "      <td>What is the <font color = yellow>population</font> of Seattle ?</td>\n",
       "      <td>What is the <font color = orange>pueblo</font> of Seattle ?</td>\n",
       "    </tr>\n",
       "    <tr>\n",
       "      <th>278</th>\n",
       "      <td><font color = orange>What</font> <font color = orange>planet</font> is known as the `` red '' planet ?</td>\n",
       "      <td><font color = green>Wher</font> <font color = green>asteroid</font> is known as the `` red '' planet ?</td>\n",
       "    </tr>\n",
       "    <tr>\n",
       "      <th>279</th>\n",
       "      <td>Who was the first <font color = purple>woman</font> <font color = purple>killed</font> in the Vietnam <font color = purple>War</font> ?</td>\n",
       "      <td>Who was the first <font color = purple>daughter</font> <font color = purple>murder</font> in the Vietnam <font color = purple>Wartime</font> ?</td>\n",
       "    </tr>\n",
       "    <tr>\n",
       "      <th>280</th>\n",
       "      <td>What is the world 's <font color = yellow>population</font> ?</td>\n",
       "      <td>What is the world 's <font color = orange>pueblo</font> ?</td>\n",
       "    </tr>\n",
       "    <tr>\n",
       "      <th>281</th>\n",
       "      <td>What is <font color = red>done</font> with worn or <font color = red>outdated</font> <font color = red>flags</font> ?</td>\n",
       "      <td>What is <font color = green>served</font> with worn or <font color = green>decrepit</font> <font color = green>dyes</font> ?</td>\n",
       "    </tr>\n",
       "    <tr>\n",
       "      <th>282</th>\n",
       "      <td>Who was the first <font color = purple>person</font> to <font color = purple>reach</font> the <font color = purple>North</font> <font color = purple>Pole</font> ?</td>\n",
       "      <td>Who was the first <font color = purple>personnel</font> to <font color = purple>realise</font> the <font color = purple>Ireland</font> <font color = purple>Flagpole</font> ?</td>\n",
       "    </tr>\n",
       "    <tr>\n",
       "      <th>283</th>\n",
       "      <td>Who <font color = purple>founded</font> <font color = purple>American</font> <font color = purple>Red</font> <font color = purple>Cross</font> ?</td>\n",
       "      <td>Who <font color = purple>justify</font> <font color = purple>Us</font> <font color = purple>Reid</font> <font color = purple>Passage</font> ?</td>\n",
       "    </tr>\n",
       "    <tr>\n",
       "      <th>284</th>\n",
       "      <td>What did Jesse Jackson organize ?</td>\n",
       "      <td>What did Jesse Jackson organize ?</td>\n",
       "    </tr>\n",
       "    <tr>\n",
       "      <th>285</th>\n",
       "      <td>What is the most frequently spoken <font color = green>language</font> in the Netherlands ?</td>\n",
       "      <td>What is the most frequently spoken <font color = red>phraseology</font> in the Netherlands ?</td>\n",
       "    </tr>\n",
       "    <tr>\n",
       "      <th>286</th>\n",
       "      <td>Who is the <font color = purple>actress</font> <font color = purple>known</font> for her <font color = purple>role</font> in the <font color = purple>movie</font> `` <font color = purple>Gypsy</font> '' ?</td>\n",
       "      <td>Who is the <font color = purple>agent</font> <font color = purple>acquaintance</font> for her <font color = purple>functions</font> in the <font color = purple>moviemaking</font> `` <font color = purple>Gypsies</font> '' ?</td>\n",
       "    </tr>\n",
       "    <tr>\n",
       "      <th>287</th>\n",
       "      <td>What <font color = green>colors</font> need to be mixed to get the color pink ?</td>\n",
       "      <td>What <font color = red>nuance</font> need to be mixed to get the color pink ?</td>\n",
       "    </tr>\n",
       "    <tr>\n",
       "      <th>288</th>\n",
       "      <td>In the late 1700 's British convicts were used to populate which <font color = orange>colony</font> ?</td>\n",
       "      <td>In the late 1700 's British convicts were used to populate which <font color = purple>colonist</font> ?</td>\n",
       "    </tr>\n",
       "    <tr>\n",
       "      <th>289</th>\n",
       "      <td>What is e-coli ?</td>\n",
       "      <td>What is e-coli ?</td>\n",
       "    </tr>\n",
       "    <tr>\n",
       "      <th>290</th>\n",
       "      <td>What is angiotensin ?</td>\n",
       "      <td>What is angiotensin ?</td>\n",
       "    </tr>\n",
       "    <tr>\n",
       "      <th>291</th>\n",
       "      <td><font color = orange>Where</font> is Prince Edward Island ?</td>\n",
       "      <td><font color = yellow>When</font> is Prince Edward Island ?</td>\n",
       "    </tr>\n",
       "    <tr>\n",
       "      <th>292</th>\n",
       "      <td>What Canadian <font color = orange>city</font> has the largest population ?</td>\n",
       "      <td>What Canadian <font color = purple>mayor</font> has the largest population ?</td>\n",
       "    </tr>\n",
       "    <tr>\n",
       "      <th>293</th>\n",
       "      <td>What is the <font color = yellow>melting</font> point of gold ?</td>\n",
       "      <td>What is the <font color = red>blending</font> point of gold ?</td>\n",
       "    </tr>\n",
       "    <tr>\n",
       "      <th>294</th>\n",
       "      <td>What French <font color = purple>ruler</font> was defeated at the battle of Waterloo ?</td>\n",
       "      <td>What French <font color = green>verdict</font> was defeated at the battle of Waterloo ?</td>\n",
       "    </tr>\n",
       "    <tr>\n",
       "      <th>295</th>\n",
       "      <td>What <font color = green>instrument</font> did Glenn Miller play ?</td>\n",
       "      <td>What <font color = red>means</font> did Glenn Miller play ?</td>\n",
       "    </tr>\n",
       "    <tr>\n",
       "      <th>296</th>\n",
       "      <td>What is the colorful Korean traditional dress <font color = green>called</font> ?</td>\n",
       "      <td>What is the colorful Korean traditional dress <font color = red>rang</font> ?</td>\n",
       "    </tr>\n",
       "    <tr>\n",
       "      <th>297</th>\n",
       "      <td>What is Ursa <font color = red>Major</font> ?</td>\n",
       "      <td>What is Ursa <font color = red>Serious</font> ?</td>\n",
       "    </tr>\n",
       "    <tr>\n",
       "      <th>298</th>\n",
       "      <td>What is <font color = red>semolina</font> ?</td>\n",
       "      <td>What is <font color = green>meal</font> ?</td>\n",
       "    </tr>\n",
       "    <tr>\n",
       "      <th>299</th>\n",
       "      <td>What is the scientific <font color = green>name</font> for elephant ?</td>\n",
       "      <td>What is the scientific <font color = yellow>numbers</font> for elephant ?</td>\n",
       "    </tr>\n",
       "    <tr>\n",
       "      <th>300</th>\n",
       "      <td>What is the <font color = orange>capital</font> of Persia ?</td>\n",
       "      <td>What is the <font color = red>capitalization</font> of Persia ?</td>\n",
       "    </tr>\n",
       "    <tr>\n",
       "      <th>301</th>\n",
       "      <td>What are xerophytes ?</td>\n",
       "      <td>What are xerophytes ?</td>\n",
       "    </tr>\n",
       "    <tr>\n",
       "      <th>302</th>\n",
       "      <td>What is an <font color = red>annuity</font> ?</td>\n",
       "      <td>What is an <font color = red>rent</font> ?</td>\n",
       "    </tr>\n",
       "    <tr>\n",
       "      <th>303</th>\n",
       "      <td>What is Susan B. Anthony 's <font color = yellow>birthday</font> ?</td>\n",
       "      <td>What is Susan B. Anthony 's <font color = green>commemorating</font> ?</td>\n",
       "    </tr>\n",
       "    <tr>\n",
       "      <th>304</th>\n",
       "      <td>What <font color = red>do</font> meteorologists do ?</td>\n",
       "      <td>What <font color = green>soaps</font> meteorologists do ?</td>\n",
       "    </tr>\n",
       "    <tr>\n",
       "      <th>305</th>\n",
       "      <td>What is <font color = red>fungus</font> ?</td>\n",
       "      <td>What is <font color = red>shrooms</font> ?</td>\n",
       "    </tr>\n",
       "    <tr>\n",
       "      <th>306</th>\n",
       "      <td>How <font color = yellow>far</font> is the service line from the net in tennis ?</td>\n",
       "      <td>How <font color = red>immeasurably</font> is the service line from the net in tennis ?</td>\n",
       "    </tr>\n",
       "    <tr>\n",
       "      <th>307</th>\n",
       "      <td>What is a baby lion <font color = green>called</font> ?</td>\n",
       "      <td>What is a baby lion <font color = red>pleaded</font> ?</td>\n",
       "    </tr>\n",
       "    <tr>\n",
       "      <th>308</th>\n",
       "      <td>What is the primary <font color = green>language</font> in Iceland ?</td>\n",
       "      <td>What is the primary <font color = red>linguistics</font> in Iceland ?</td>\n",
       "    </tr>\n",
       "    <tr>\n",
       "      <th>309</th>\n",
       "      <td>What birthstone is <font color = green>turquoise</font> ?</td>\n",
       "      <td>What birthstone is <font color = green>aquamarine</font> ?</td>\n",
       "    </tr>\n",
       "    <tr>\n",
       "      <th>310</th>\n",
       "      <td>What is viscosity ?</td>\n",
       "      <td>What is viscosity ?</td>\n",
       "    </tr>\n",
       "    <tr>\n",
       "      <th>311</th>\n",
       "      <td>What are polymers ?</td>\n",
       "      <td>What are polymers ?</td>\n",
       "    </tr>\n",
       "    <tr>\n",
       "      <th>312</th>\n",
       "      <td>What is sodium chloride ?</td>\n",
       "      <td>What is sodium chloride ?</td>\n",
       "    </tr>\n",
       "    <tr>\n",
       "      <th>313</th>\n",
       "      <td>What is the <font color = yellow>average</font> body <font color = yellow>temperature</font> ?</td>\n",
       "      <td>What is the <font color = red>mean</font> body <font color = red>weather</font> ?</td>\n",
       "    </tr>\n",
       "    <tr>\n",
       "      <th>314</th>\n",
       "      <td>What <font color = yellow>year</font> was Mozart born ?</td>\n",
       "      <td>What <font color = green>roku</font> was Mozart born ?</td>\n",
       "    </tr>\n",
       "    <tr>\n",
       "      <th>315</th>\n",
       "      <td>What is supernova ?</td>\n",
       "      <td>What is supernova ?</td>\n",
       "    </tr>\n",
       "    <tr>\n",
       "      <th>316</th>\n",
       "      <td>What is the <font color = yellow>length</font> of the coastline of the state of Alaska ?</td>\n",
       "      <td>What is the <font color = red>durability</font> of the coastline of the state of Alaska ?</td>\n",
       "    </tr>\n",
       "    <tr>\n",
       "      <th>317</th>\n",
       "      <td>What is <font color = red>epilepsy</font> ?</td>\n",
       "      <td>What is <font color = green>seized</font> ?</td>\n",
       "    </tr>\n",
       "    <tr>\n",
       "      <th>318</th>\n",
       "      <td><font color = yellow>When</font> was Algeria colonized ?</td>\n",
       "      <td><font color = orange>Where</font> was Algeria colonized ?</td>\n",
       "    </tr>\n",
       "    <tr>\n",
       "      <th>319</th>\n",
       "      <td>What <font color = purple>person</font> 's head is on a dime ?</td>\n",
       "      <td>What <font color = green>capita</font> 's head is on a dime ?</td>\n",
       "    </tr>\n",
       "    <tr>\n",
       "      <th>320</th>\n",
       "      <td>What are Canada 's two <font color = orange>territories</font> ?</td>\n",
       "      <td>What are Canada 's two <font color = green>zona</font> ?</td>\n",
       "    </tr>\n",
       "    <tr>\n",
       "      <th>321</th>\n",
       "      <td><font color = orange>Where</font> is the volcano Olympus Mons located ?</td>\n",
       "      <td><font color = yellow>When</font> is the volcano Olympus Mons located ?</td>\n",
       "    </tr>\n",
       "    <tr>\n",
       "      <th>322</th>\n",
       "      <td>What is the street <font color = orange>address</font> of the White House ?</td>\n",
       "      <td>What is the street <font color = red>solution</font> of the White House ?</td>\n",
       "    </tr>\n",
       "    <tr>\n",
       "      <th>323</th>\n",
       "      <td>What do you <font color = green>call</font> a word that is spelled the same backwards and forwards ?</td>\n",
       "      <td>What do you <font color = red>asking</font> a word that is spelled the same backwards and forwards ?</td>\n",
       "    </tr>\n",
       "    <tr>\n",
       "      <th>324</th>\n",
       "      <td>What do you <font color = green>call</font> a newborn kangaroo ?</td>\n",
       "      <td>What do you <font color = red>asking</font> a newborn kangaroo ?</td>\n",
       "    </tr>\n",
       "    <tr>\n",
       "      <th>325</th>\n",
       "      <td>What is <font color = red>autism</font> ?</td>\n",
       "      <td>What is <font color = red>tourette</font> ?</td>\n",
       "    </tr>\n",
       "    <tr>\n",
       "      <th>326</th>\n",
       "      <td>What is Shakespeare 's <font color = purple>nickname</font> ?</td>\n",
       "      <td>What is Shakespeare 's <font color = red>falsify</font> ?</td>\n",
       "    </tr>\n",
       "    <tr>\n",
       "      <th>327</th>\n",
       "      <td>What is the <font color = yellow>speed</font> hummingbirds fly ?</td>\n",
       "      <td>What is the <font color = red>quickens</font> hummingbirds fly ?</td>\n",
       "    </tr>\n",
       "    <tr>\n",
       "      <th>328</th>\n",
       "      <td>What is <font color = red>genocide</font> ?</td>\n",
       "      <td>What is <font color = red>shoah</font> ?</td>\n",
       "    </tr>\n",
       "    <tr>\n",
       "      <th>329</th>\n",
       "      <td>Who <font color = purple>discovered</font> oxygen ?</td>\n",
       "      <td>Who <font color = purple>reveal</font> oxygen ?</td>\n",
       "    </tr>\n",
       "    <tr>\n",
       "      <th>330</th>\n",
       "      <td><font color = yellow>When</font> did Hawaii become a state ?</td>\n",
       "      <td><font color = orange>Where</font> did Hawaii become a state ?</td>\n",
       "    </tr>\n",
       "    <tr>\n",
       "      <th>331</th>\n",
       "      <td>What is the oldest <font color = purple>university</font> in the US ?</td>\n",
       "      <td>What is the oldest <font color = orange>campus</font> in the US ?</td>\n",
       "    </tr>\n",
       "    <tr>\n",
       "      <th>332</th>\n",
       "      <td>How <font color = yellow>many</font> liters in a gallon ?</td>\n",
       "      <td>How <font color = red>miscellaneous</font> liters in a gallon ?</td>\n",
       "    </tr>\n",
       "    <tr>\n",
       "      <th>333</th>\n",
       "      <td>What <font color = green>color</font> is yak milk ?</td>\n",
       "      <td>What <font color = orange>spot</font> is yak milk ?</td>\n",
       "    </tr>\n",
       "    <tr>\n",
       "      <th>334</th>\n",
       "      <td>What <font color = yellow>year</font> did Canada join the United Nations ?</td>\n",
       "      <td>What <font color = green>roku</font> did Canada join the United Nations ?</td>\n",
       "    </tr>\n",
       "    <tr>\n",
       "      <th>335</th>\n",
       "      <td><font color = yellow>When</font> was Abraham Lincoln born ?</td>\n",
       "      <td><font color = orange>Where</font> was Abraham Lincoln born ?</td>\n",
       "    </tr>\n",
       "    <tr>\n",
       "      <th>336</th>\n",
       "      <td>What are the twin cities ?</td>\n",
       "      <td>What are the twin cities ?</td>\n",
       "    </tr>\n",
       "    <tr>\n",
       "      <th>337</th>\n",
       "      <td>What is a <font color = red>thyroid</font> ?</td>\n",
       "      <td>What is a <font color = red>iodine</font> ?</td>\n",
       "    </tr>\n",
       "    <tr>\n",
       "      <th>338</th>\n",
       "      <td>What are <font color = red>invertebrates</font> ?</td>\n",
       "      <td>What are <font color = red>barnacles</font> ?</td>\n",
       "    </tr>\n",
       "    <tr>\n",
       "      <th>339</th>\n",
       "      <td>What <font color = orange>continent</font> is Egypt on ?</td>\n",
       "      <td>What <font color = green>chau</font> is Egypt on ?</td>\n",
       "    </tr>\n",
       "    <tr>\n",
       "      <th>340</th>\n",
       "      <td>What is <font color = red>Wimbledon</font> ?</td>\n",
       "      <td>What is <font color = red>Nadal</font> ?</td>\n",
       "    </tr>\n",
       "    <tr>\n",
       "      <th>341</th>\n",
       "      <td>What is the <font color = yellow>diameter</font> of a golf ball ?</td>\n",
       "      <td>What is the <font color = red>boring</font> of a golf ball ?</td>\n",
       "    </tr>\n",
       "    <tr>\n",
       "      <th>342</th>\n",
       "      <td>What does your spleen <font color = red>do</font> ?</td>\n",
       "      <td>What does your spleen <font color = green>get</font> ?</td>\n",
       "    </tr>\n",
       "    <tr>\n",
       "      <th>343</th>\n",
       "      <td>How <font color = yellow>far</font> is a nautical mile ?</td>\n",
       "      <td>How <font color = red>importantly</font> is a nautical mile ?</td>\n",
       "    </tr>\n",
       "    <tr>\n",
       "      <th>344</th>\n",
       "      <td><font color = yellow>When</font> was the first liver transplant ?</td>\n",
       "      <td><font color = orange>Where</font> was the first liver transplant ?</td>\n",
       "    </tr>\n",
       "    <tr>\n",
       "      <th>345</th>\n",
       "      <td>Who is the <font color = purple>governor</font> of <font color = purple>Alaska</font> ?</td>\n",
       "      <td>Who is the <font color = purple>governing</font> of <font color = purple>Alabama</font> ?</td>\n",
       "    </tr>\n",
       "    <tr>\n",
       "      <th>346</th>\n",
       "      <td><font color = orange>Where</font> is the Eiffel Tower ?</td>\n",
       "      <td><font color = yellow>When</font> is the Eiffel Tower ?</td>\n",
       "    </tr>\n",
       "    <tr>\n",
       "      <th>347</th>\n",
       "      <td>Which <font color = purple>comedian</font> 's signature line is `` Can we talk '' ?</td>\n",
       "      <td>Which <font color = green>funniest</font> 's signature line is `` Can we talk '' ?</td>\n",
       "    </tr>\n",
       "    <tr>\n",
       "      <th>348</th>\n",
       "      <td>What is <font color = red>nuclear</font> <font color = red>power</font> ?</td>\n",
       "      <td>What is <font color = red>thermonuclear</font> <font color = red>horsepower</font> ?</td>\n",
       "    </tr>\n",
       "    <tr>\n",
       "      <th>349</th>\n",
       "      <td>What is the murder <font color = yellow>rate</font> in Windsor , Ontario ?</td>\n",
       "      <td>What is the murder <font color = red>spleen</font> in Windsor , Ontario ?</td>\n",
       "    </tr>\n",
       "    <tr>\n",
       "      <th>350</th>\n",
       "      <td><font color = orange>Where</font> is John Wayne airport ?</td>\n",
       "      <td><font color = yellow>When</font> is John Wayne airport ?</td>\n",
       "    </tr>\n",
       "    <tr>\n",
       "      <th>351</th>\n",
       "      <td>What <font color = green>gasses</font> are in the troposphere ?</td>\n",
       "      <td>What <font color = red>evaporation</font> are in the troposphere ?</td>\n",
       "    </tr>\n",
       "    <tr>\n",
       "      <th>352</th>\n",
       "      <td>What is the <font color = red>effect</font> of <font color = red>acid</font> <font color = red>rain</font> ?</td>\n",
       "      <td>What is the <font color = yellow>upshot</font> of <font color = yellow>amino</font> <font color = yellow>rainy</font> ?</td>\n",
       "    </tr>\n",
       "    <tr>\n",
       "      <th>353</th>\n",
       "      <td>The sun 's core , what is the <font color = yellow>temperature</font> ?</td>\n",
       "      <td>The sun 's core , what is the <font color = red>weatherman</font> ?</td>\n",
       "    </tr>\n",
       "    <tr>\n",
       "      <th>354</th>\n",
       "      <td>What is an <font color = red>earthquake</font> ?</td>\n",
       "      <td>What is an <font color = red>rattles</font> ?</td>\n",
       "    </tr>\n",
       "    <tr>\n",
       "      <th>355</th>\n",
       "      <td>What 's the <font color = green>easiest</font> way to <font color = green>remove</font> wallpaper ?</td>\n",
       "      <td>What 's the <font color = orange>shortest</font> way to <font color = orange>dismount</font> wallpaper ?</td>\n",
       "    </tr>\n",
       "    <tr>\n",
       "      <th>356</th>\n",
       "      <td>What is a <font color = red>biosphere</font> ?</td>\n",
       "      <td>What is a <font color = red>lifeforms</font> ?</td>\n",
       "    </tr>\n",
       "    <tr>\n",
       "      <th>357</th>\n",
       "      <td>How <font color = yellow>many</font> pounds in a ton ?</td>\n",
       "      <td>How <font color = red>miscellaneous</font> pounds in a ton ?</td>\n",
       "    </tr>\n",
       "    <tr>\n",
       "      <th>358</th>\n",
       "      <td>What is the <font color = green>smallest</font> <font color = green>bird</font> in Britain ?</td>\n",
       "      <td>What is the <font color = yellow>minimum</font> <font color = yellow>plumes</font> in Britain ?</td>\n",
       "    </tr>\n",
       "    <tr>\n",
       "      <th>359</th>\n",
       "      <td>What is dianetics ?</td>\n",
       "      <td>What is dianetics ?</td>\n",
       "    </tr>\n",
       "    <tr>\n",
       "      <th>360</th>\n",
       "      <td>What is the <font color = red>effect</font> of volcanoes on the climate ?</td>\n",
       "      <td>What is the <font color = yellow>incidence</font> of volcanoes on the climate ?</td>\n",
       "    </tr>\n",
       "    <tr>\n",
       "      <th>361</th>\n",
       "      <td>What are <font color = red>capers</font> ?</td>\n",
       "      <td>What are <font color = red>marinated</font> ?</td>\n",
       "    </tr>\n",
       "    <tr>\n",
       "      <th>362</th>\n",
       "      <td>How <font color = yellow>often</font> does Old Faithful erupt at Yellowstone National Park ?</td>\n",
       "      <td>How <font color = red>methodically</font> does Old Faithful erupt at Yellowstone National Park ?</td>\n",
       "    </tr>\n",
       "    <tr>\n",
       "      <th>363</th>\n",
       "      <td><font color = yellow>How</font> many Great Lakes are there ?</td>\n",
       "      <td><font color = orange>Hence</font> many Great Lakes are there ?</td>\n",
       "    </tr>\n",
       "    <tr>\n",
       "      <th>364</th>\n",
       "      <td><font color = yellow>When</font> was Ulysses S. Grant born ?</td>\n",
       "      <td><font color = orange>Where</font> was Ulysses S. Grant born ?</td>\n",
       "    </tr>\n",
       "    <tr>\n",
       "      <th>365</th>\n",
       "      <td><font color = orange>Where</font> did Howard Hughes die ?</td>\n",
       "      <td><font color = yellow>When</font> did Howard Hughes die ?</td>\n",
       "    </tr>\n",
       "    <tr>\n",
       "      <th>366</th>\n",
       "      <td>Who was the first <font color = purple>man</font> to <font color = purple>fly</font> across the <font color = purple>Pacific</font> <font color = purple>Ocean</font> ?</td>\n",
       "      <td>Who was the first <font color = purple>mating</font> to <font color = purple>flies</font> across the <font color = purple>Paz</font> <font color = purple>Marines</font> ?</td>\n",
       "    </tr>\n",
       "    <tr>\n",
       "      <th>367</th>\n",
       "      <td>What is the birthstone for June ?</td>\n",
       "      <td>What is the birthstone for June ?</td>\n",
       "    </tr>\n",
       "    <tr>\n",
       "      <th>368</th>\n",
       "      <td>Who <font color = purple>killed</font> <font color = purple>John</font> <font color = purple>F</font>. <font color = purple>Kennedy</font> ?</td>\n",
       "      <td>Who <font color = purple>fatality</font> <font color = purple>June</font> <font color = purple>ja</font>. <font color = purple>Jfk</font> ?</td>\n",
       "    </tr>\n",
       "    <tr>\n",
       "      <th>369</th>\n",
       "      <td>What is <font color = red>nepotism</font> ?</td>\n",
       "      <td>What is <font color = red>sponsoring</font> ?</td>\n",
       "    </tr>\n",
       "    <tr>\n",
       "      <th>370</th>\n",
       "      <td>What is ozone <font color = red>depletion</font> ?</td>\n",
       "      <td>What is ozone <font color = red>exhausted</font> ?</td>\n",
       "    </tr>\n",
       "    <tr>\n",
       "      <th>371</th>\n",
       "      <td>How <font color = yellow>tall</font> is the Sears Building ?</td>\n",
       "      <td>How <font color = red>whopping</font> is the Sears Building ?</td>\n",
       "    </tr>\n",
       "    <tr>\n",
       "      <th>372</th>\n",
       "      <td><font color = red>Why</font> is a ladybug helpful ?</td>\n",
       "      <td><font color = orange>Where</font> is a ladybug helpful ?</td>\n",
       "    </tr>\n",
       "    <tr>\n",
       "      <th>373</th>\n",
       "      <td>What does the acronym NASA <font color = blue>stand</font> for ?</td>\n",
       "      <td>What does the acronym NASA <font color = red>stance</font> for ?</td>\n",
       "    </tr>\n",
       "    <tr>\n",
       "      <th>374</th>\n",
       "      <td>Which <font color = orange>country</font> has the most water pollution ?</td>\n",
       "      <td>Which <font color = green>sate</font> has the most water pollution ?</td>\n",
       "    </tr>\n",
       "    <tr>\n",
       "      <th>375</th>\n",
       "      <td>What is the <font color = green>heaviest</font> naturally occurring <font color = green>element</font> ?</td>\n",
       "      <td>What is the <font color = red>gravest</font> naturally occurring <font color = red>aspect</font> ?</td>\n",
       "    </tr>\n",
       "    <tr>\n",
       "      <th>376</th>\n",
       "      <td>What is a group of frogs <font color = green>called</font> ?</td>\n",
       "      <td>What is a group of frogs <font color = red>asks</font> ?</td>\n",
       "    </tr>\n",
       "    <tr>\n",
       "      <th>377</th>\n",
       "      <td>What is the <font color = blue>abbreviation</font> for Texas ?</td>\n",
       "      <td>What is the <font color = red>jargon</font> for Texas ?</td>\n",
       "    </tr>\n",
       "    <tr>\n",
       "      <th>378</th>\n",
       "      <td>What kind of <font color = green>dog</font> was Toto in the Wizard of Oz ?</td>\n",
       "      <td>What kind of <font color = red>schnauzer</font> was Toto in the Wizard of Oz ?</td>\n",
       "    </tr>\n",
       "    <tr>\n",
       "      <th>379</th>\n",
       "      <td><font color = yellow>How</font> <font color = yellow>much</font> does the human adult female brain weigh ?</td>\n",
       "      <td><font color = red>Why</font> <font color = red>sizeable</font> does the human adult female brain weigh ?</td>\n",
       "    </tr>\n",
       "    <tr>\n",
       "      <th>380</th>\n",
       "      <td>What is the National <font color = orange>Park</font> in Utah ?</td>\n",
       "      <td>What is the National <font color = red>Pak</font> in Utah ?</td>\n",
       "    </tr>\n",
       "    <tr>\n",
       "      <th>381</th>\n",
       "      <td><font color = yellow>When</font> did North Carolina enter the union ?</td>\n",
       "      <td><font color = orange>Where</font> did North Carolina enter the union ?</td>\n",
       "    </tr>\n",
       "    <tr>\n",
       "      <th>382</th>\n",
       "      <td>What precious <font color = green>stone</font> is a <font color = green>form</font> of pure carbon ?</td>\n",
       "      <td>What precious <font color = purple>pierre</font> is a <font color = purple>foreman</font> of pure carbon ?</td>\n",
       "    </tr>\n",
       "    <tr>\n",
       "      <th>383</th>\n",
       "      <td>What is Hawaii 's state <font color = green>flower</font> ?</td>\n",
       "      <td>What is Hawaii 's state <font color = orange>bloomed</font> ?</td>\n",
       "    </tr>\n",
       "    <tr>\n",
       "      <th>384</th>\n",
       "      <td>What <font color = yellow>year</font> did the Milwaukee Braves become the Atlanta Braves ?</td>\n",
       "      <td>What <font color = green>ano</font> did the Milwaukee Braves become the Atlanta Braves ?</td>\n",
       "    </tr>\n",
       "    <tr>\n",
       "      <th>385</th>\n",
       "      <td>What is the <font color = yellow>percentage</font> of water content in the human body ?</td>\n",
       "      <td>What is the <font color = red>exchanges</font> of water content in the human body ?</td>\n",
       "    </tr>\n",
       "    <tr>\n",
       "      <th>386</th>\n",
       "      <td>Who <font color = purple>discovered</font> <font color = purple>America</font> ?</td>\n",
       "      <td>Who <font color = purple>detect</font> <font color = purple>Usa</font> ?</td>\n",
       "    </tr>\n",
       "    <tr>\n",
       "      <th>387</th>\n",
       "      <td>What <font color = yellow>year</font> did the NFL go on strike ?</td>\n",
       "      <td>What <font color = green>roku</font> did the NFL go on strike ?</td>\n",
       "    </tr>\n",
       "    <tr>\n",
       "      <th>388</th>\n",
       "      <td><font color = purple>Who</font> is Duke Ellington ?</td>\n",
       "      <td><font color = purple>Whoever</font> is Duke Ellington ?</td>\n",
       "    </tr>\n",
       "    <tr>\n",
       "      <th>389</th>\n",
       "      <td>The U.S. Department of <font color = green>Treasury</font> first issued paper currency for the U.S. during which war ?</td>\n",
       "      <td>The U.S. Department of <font color = purple>Treasurer</font> first issued paper currency for the U.S. during which war ?</td>\n",
       "    </tr>\n",
       "    <tr>\n",
       "      <th>390</th>\n",
       "      <td>What is pastrami <font color = green>made</font> of ?</td>\n",
       "      <td>What is pastrami <font color = red>posed</font> of ?</td>\n",
       "    </tr>\n",
       "    <tr>\n",
       "      <th>391</th>\n",
       "      <td>What is <font color = red>peyote</font> ?</td>\n",
       "      <td>What is <font color = red>mescaline</font> ?</td>\n",
       "    </tr>\n",
       "    <tr>\n",
       "      <th>392</th>\n",
       "      <td>What was the <font color = green>name</font> of the plane Lindbergh flew solo across the Atlantic ?</td>\n",
       "      <td>What was the <font color = yellow>numbers</font> of the plane Lindbergh flew solo across the Atlantic ?</td>\n",
       "    </tr>\n",
       "    <tr>\n",
       "      <th>393</th>\n",
       "      <td>Who was the 23rd <font color = purple>president</font> of the <font color = purple>United</font> <font color = purple>States</font> ?</td>\n",
       "      <td>Who was the 23rd <font color = purple>chairmanship</font> of the <font color = purple>Harmonize</font> <font color = purple>Countries</font> ?</td>\n",
       "    </tr>\n",
       "    <tr>\n",
       "      <th>394</th>\n",
       "      <td>Who was the first <font color = purple>female</font> <font color = purple>United</font> <font color = purple>States</font> <font color = purple>Representative</font> ?</td>\n",
       "      <td>Who was the first <font color = purple>dame</font> <font color = purple>Nations</font> <font color = purple>Countries</font> <font color = purple>Represented</font> ?</td>\n",
       "    </tr>\n",
       "    <tr>\n",
       "      <th>395</th>\n",
       "      <td>What <font color = yellow>year</font> was the Mona Lisa painted ?</td>\n",
       "      <td>What <font color = green>sunni</font> was the Mona Lisa painted ?</td>\n",
       "    </tr>\n",
       "    <tr>\n",
       "      <th>396</th>\n",
       "      <td><font color = orange>Where</font> are the National Archives ?</td>\n",
       "      <td><font color = yellow>When</font> are the National Archives ?</td>\n",
       "    </tr>\n",
       "    <tr>\n",
       "      <th>397</th>\n",
       "      <td>What is <font color = red>acupuncture</font> ?</td>\n",
       "      <td>What is <font color = red>needling</font> ?</td>\n",
       "    </tr>\n",
       "    <tr>\n",
       "      <th>398</th>\n",
       "      <td>What is the <font color = red>Milky</font> <font color = red>Way</font> ?</td>\n",
       "      <td>What is the <font color = yellow>Creamy</font> <font color = yellow>Distances</font> ?</td>\n",
       "    </tr>\n",
       "    <tr>\n",
       "      <th>399</th>\n",
       "      <td><font color = yellow>When</font> was the Boston tea party ?</td>\n",
       "      <td><font color = orange>Where</font> was the Boston tea party ?</td>\n",
       "    </tr>\n",
       "    <tr>\n",
       "      <th>400</th>\n",
       "      <td>What <font color = yellow>year</font> did Oklahoma become a state ?</td>\n",
       "      <td>What <font color = green>ano</font> did Oklahoma become a state ?</td>\n",
       "    </tr>\n",
       "    <tr>\n",
       "      <th>401</th>\n",
       "      <td>What is <font color = red>acid</font> <font color = red>rain</font> ?</td>\n",
       "      <td>What is <font color = red>rainy</font> <font color = red>rainfall</font> ?</td>\n",
       "    </tr>\n",
       "    <tr>\n",
       "      <th>402</th>\n",
       "      <td>What is the most <font color = green>common</font> eye <font color = green>color</font> ?</td>\n",
       "      <td>What is the most <font color = red>mutual</font> eye <font color = red>nuance</font> ?</td>\n",
       "    </tr>\n",
       "    <tr>\n",
       "      <th>403</th>\n",
       "      <td>What is <font color = red>leukemia</font> ?</td>\n",
       "      <td>What is <font color = red>oncology</font> ?</td>\n",
       "    </tr>\n",
       "    <tr>\n",
       "      <th>404</th>\n",
       "      <td>Who was <font color = purple>Abraham</font> <font color = purple>Lincoln</font> ?</td>\n",
       "      <td>Who was <font color = purple>Samuel</font> <font color = purple>Clicking</font> ?</td>\n",
       "    </tr>\n",
       "    <tr>\n",
       "      <th>405</th>\n",
       "      <td>What <font color = green>type</font> of polymer is used for bulletproof vests ?</td>\n",
       "      <td>What <font color = purple>guy</font> of polymer is used for bulletproof vests ?</td>\n",
       "    </tr>\n",
       "    <tr>\n",
       "      <th>406</th>\n",
       "      <td>What is the longest major league baseball-winning streak ?</td>\n",
       "      <td>What is the longest major league baseball-winning streak ?</td>\n",
       "    </tr>\n",
       "    <tr>\n",
       "      <th>407</th>\n",
       "      <td><font color = yellow>How</font> <font color = yellow>much</font> was a ticket for the Titanic ?</td>\n",
       "      <td><font color = red>Why</font> <font color = red>sizeable</font> was a ticket for the Titanic ?</td>\n",
       "    </tr>\n",
       "    <tr>\n",
       "      <th>408</th>\n",
       "      <td>How <font color = yellow>many</font> feet in a mile ?</td>\n",
       "      <td>How <font color = red>profusion</font> feet in a mile ?</td>\n",
       "    </tr>\n",
       "    <tr>\n",
       "      <th>409</th>\n",
       "      <td>What <font color = orange>strait</font> separates North America from Asia ?</td>\n",
       "      <td>What <font color = green>hoi</font> separates North America from Asia ?</td>\n",
       "    </tr>\n",
       "    <tr>\n",
       "      <th>410</th>\n",
       "      <td>What is the <font color = orange>capital</font> of Zimbabwe ?</td>\n",
       "      <td>What is the <font color = red>capitalization</font> of Zimbabwe ?</td>\n",
       "    </tr>\n",
       "    <tr>\n",
       "      <th>411</th>\n",
       "      <td>Which <font color = purple>president</font> was unmarried ?</td>\n",
       "      <td>Which <font color = green>wheelchairs</font> was unmarried ?</td>\n",
       "    </tr>\n",
       "    <tr>\n",
       "      <th>412</th>\n",
       "      <td><font color = yellow>When</font> was the first stamp issued ?</td>\n",
       "      <td><font color = orange>Where</font> was the first stamp issued ?</td>\n",
       "    </tr>\n",
       "    <tr>\n",
       "      <th>413</th>\n",
       "      <td>Which <font color = orange>mountain</font> range in North America stretches from Maine to Georgia ?</td>\n",
       "      <td>Which <font color = green>mounted</font> range in North America stretches from Maine to Georgia ?</td>\n",
       "    </tr>\n",
       "    <tr>\n",
       "      <th>414</th>\n",
       "      <td>What kind of <font color = green>gas</font> is in a fluorescent bulb ?</td>\n",
       "      <td>What kind of <font color = red>gassy</font> is in a fluorescent bulb ?</td>\n",
       "    </tr>\n",
       "    <tr>\n",
       "      <th>415</th>\n",
       "      <td>What <font color = green>mineral</font> helps prevent osteoporosis ?</td>\n",
       "      <td>What <font color = purple>miner</font> helps prevent osteoporosis ?</td>\n",
       "    </tr>\n",
       "    <tr>\n",
       "      <th>416</th>\n",
       "      <td><font color = orange>Where</font> is the Mall of the America ?</td>\n",
       "      <td><font color = yellow>When</font> is the Mall of the America ?</td>\n",
       "    </tr>\n",
       "    <tr>\n",
       "      <th>417</th>\n",
       "      <td>What are <font color = red>pathogens</font> ?</td>\n",
       "      <td>What are <font color = red>infection</font> ?</td>\n",
       "    </tr>\n",
       "    <tr>\n",
       "      <th>418</th>\n",
       "      <td>What <font color = orange>city</font> had a world fair in 1900 ?</td>\n",
       "      <td>What <font color = purple>mayor</font> had a world fair in 1900 ?</td>\n",
       "    </tr>\n",
       "    <tr>\n",
       "      <th>419</th>\n",
       "      <td><font color = yellow>When</font> did the Hindenberg crash ?</td>\n",
       "      <td><font color = orange>Where</font> did the Hindenberg crash ?</td>\n",
       "    </tr>\n",
       "    <tr>\n",
       "      <th>420</th>\n",
       "      <td>What is <font color = red>bangers</font> and <font color = red>mash</font> ?</td>\n",
       "      <td>What is <font color = red>crackers</font> and <font color = red>sandor</font> ?</td>\n",
       "    </tr>\n",
       "    <tr>\n",
       "      <th>421</th>\n",
       "      <td>What is nanotechnology ?</td>\n",
       "      <td>What is nanotechnology ?</td>\n",
       "    </tr>\n",
       "    <tr>\n",
       "      <th>422</th>\n",
       "      <td>What do bats <font color = green>eat</font> ?</td>\n",
       "      <td>What do bats <font color = red>essen</font> ?</td>\n",
       "    </tr>\n",
       "    <tr>\n",
       "      <th>423</th>\n",
       "      <td>What is the electrical output in Madrid , Spain ?</td>\n",
       "      <td>What is the electrical output in Madrid , Spain ?</td>\n",
       "    </tr>\n",
       "    <tr>\n",
       "      <th>424</th>\n",
       "      <td>What <font color = orange>county</font> is Modesto , California in ?</td>\n",
       "      <td>What <font color = green>prov</font> is Modesto , California in ?</td>\n",
       "    </tr>\n",
       "    <tr>\n",
       "      <th>425</th>\n",
       "      <td>What is amitriptyline ?</td>\n",
       "      <td>What is amitriptyline ?</td>\n",
       "    </tr>\n",
       "    <tr>\n",
       "      <th>426</th>\n",
       "      <td>What is an <font color = red>eclipse</font> ?</td>\n",
       "      <td>What is an <font color = red>overshadow</font> ?</td>\n",
       "    </tr>\n",
       "    <tr>\n",
       "      <th>427</th>\n",
       "      <td>Who <font color = purple>developed</font> the <font color = purple>vaccination</font> against <font color = purple>polio</font> ?</td>\n",
       "      <td>Who <font color = purple>formulate</font> the <font color = purple>smallpox</font> against <font color = purple>vaccines</font> ?</td>\n",
       "    </tr>\n",
       "    <tr>\n",
       "      <th>428</th>\n",
       "      <td>What is acetaminophen ?</td>\n",
       "      <td>What is acetaminophen ?</td>\n",
       "    </tr>\n",
       "    <tr>\n",
       "      <th>429</th>\n",
       "      <td>How <font color = yellow>old</font> do you have to be in order to rent a car in Italy ?</td>\n",
       "      <td>How <font color = red>vieux</font> do you have to be in order to rent a car in Italy ?</td>\n",
       "    </tr>\n",
       "    <tr>\n",
       "      <th>430</th>\n",
       "      <td>What <font color = yellow>year</font> did Mussolini seize power in Italy ?</td>\n",
       "      <td>What <font color = purple>sunni</font> did Mussolini seize power in Italy ?</td>\n",
       "    </tr>\n",
       "    <tr>\n",
       "      <th>431</th>\n",
       "      <td>What <font color = green>type</font> of <font color = green>currency</font> is used in <font color = green>Australia</font> ?</td>\n",
       "      <td>What <font color = red>nature</font> of <font color = red>interchange</font> is used in <font color = red>Zealanders</font> ?</td>\n",
       "    </tr>\n",
       "    <tr>\n",
       "      <th>432</th>\n",
       "      <td>What is <font color = red>pneumonia</font> ?</td>\n",
       "      <td>What is <font color = red>coughing</font> ?</td>\n",
       "    </tr>\n",
       "    <tr>\n",
       "      <th>433</th>\n",
       "      <td>What <font color = green>color</font> is indigo ?</td>\n",
       "      <td>What <font color = orange>spot</font> is indigo ?</td>\n",
       "    </tr>\n",
       "    <tr>\n",
       "      <th>434</th>\n",
       "      <td>What <font color = red>does</font> a <font color = red>defibrillator</font> <font color = red>do</font> ?</td>\n",
       "      <td>What <font color = red>wanting</font> a <font color = red>defib</font> <font color = red>make</font> ?</td>\n",
       "    </tr>\n",
       "    <tr>\n",
       "      <th>435</th>\n",
       "      <td>What does the technical term ISDN mean ?</td>\n",
       "      <td>What does the technical term ISDN mean ?</td>\n",
       "    </tr>\n",
       "    <tr>\n",
       "      <th>436</th>\n",
       "      <td><font color = orange>Where</font> are the Rocky Mountains ?</td>\n",
       "      <td><font color = yellow>When</font> are the Rocky Mountains ?</td>\n",
       "    </tr>\n",
       "    <tr>\n",
       "      <th>437</th>\n",
       "      <td>What is the gestation <font color = yellow>period</font> for a cat ?</td>\n",
       "      <td>What is the gestation <font color = red>tiempo</font> for a cat ?</td>\n",
       "    </tr>\n",
       "    <tr>\n",
       "      <th>438</th>\n",
       "      <td>Who <font color = purple>invented</font> <font color = purple>Trivial</font> <font color = purple>Pursuit</font> ?</td>\n",
       "      <td>Who <font color = purple>fabricate</font> <font color = purple>Lesser</font> <font color = purple>Accomplishments</font> ?</td>\n",
       "    </tr>\n",
       "    <tr>\n",
       "      <th>439</th>\n",
       "      <td>What is a micron ?</td>\n",
       "      <td>What is a micron ?</td>\n",
       "    </tr>\n",
       "    <tr>\n",
       "      <th>440</th>\n",
       "      <td>What is the largest <font color = orange>city</font> in the U.S. ?</td>\n",
       "      <td>What is the largest <font color = purple>mayor</font> in the U.S. ?</td>\n",
       "    </tr>\n",
       "    <tr>\n",
       "      <th>441</th>\n",
       "      <td>What is the <font color = orange>capital</font> of Ethiopia ?</td>\n",
       "      <td>What is the <font color = red>capitalization</font> of Ethiopia ?</td>\n",
       "    </tr>\n",
       "    <tr>\n",
       "      <th>442</th>\n",
       "      <td>Developing nations comprise what <font color = yellow>percentage</font> of the world 's population ?</td>\n",
       "      <td>Developing nations comprise what <font color = green>exchanges</font> of the world 's population ?</td>\n",
       "    </tr>\n",
       "    <tr>\n",
       "      <th>443</th>\n",
       "      <td>What <font color = orange>province</font> is Montreal in ?</td>\n",
       "      <td>What <font color = green>prov</font> is Montreal in ?</td>\n",
       "    </tr>\n",
       "    <tr>\n",
       "      <th>444</th>\n",
       "      <td>What is a <font color = red>shaman</font> ?</td>\n",
       "      <td>What is a <font color = red>wiz</font> ?</td>\n",
       "    </tr>\n",
       "    <tr>\n",
       "      <th>445</th>\n",
       "      <td>What chain <font color = purple>store</font> is headquartered in Bentonville , Arkansas ?</td>\n",
       "      <td>What chain <font color = green>stockpile</font> is headquartered in Bentonville , Arkansas ?</td>\n",
       "    </tr>\n",
       "    <tr>\n",
       "      <th>446</th>\n",
       "      <td>What is an obtuse <font color = red>angle</font> ?</td>\n",
       "      <td>What is an obtuse <font color = red>standpoint</font> ?</td>\n",
       "    </tr>\n",
       "    <tr>\n",
       "      <th>447</th>\n",
       "      <td><font color = orange>Where</font> is the Little League Museum ?</td>\n",
       "      <td><font color = yellow>When</font> is the Little League Museum ?</td>\n",
       "    </tr>\n",
       "    <tr>\n",
       "      <th>448</th>\n",
       "      <td>What is the <font color = orange>capital</font> of Yugoslavia ?</td>\n",
       "      <td>What is the <font color = red>capitalization</font> of Yugoslavia ?</td>\n",
       "    </tr>\n",
       "    <tr>\n",
       "      <th>449</th>\n",
       "      <td>What is a mirror <font color = green>made</font> out of ?</td>\n",
       "      <td>What is a mirror <font color = red>doing</font> out of ?</td>\n",
       "    </tr>\n",
       "    <tr>\n",
       "      <th>450</th>\n",
       "      <td>What is bipolar <font color = red>disorder</font> ?</td>\n",
       "      <td>What is bipolar <font color = red>disquiet</font> ?</td>\n",
       "    </tr>\n",
       "    <tr>\n",
       "      <th>451</th>\n",
       "      <td><font color = yellow>When</font> was the first kidney transplant ?</td>\n",
       "      <td><font color = orange>Where</font> was the first kidney transplant ?</td>\n",
       "    </tr>\n",
       "    <tr>\n",
       "      <th>452</th>\n",
       "      <td>What is <font color = red>osteoporosis</font> ?</td>\n",
       "      <td>What is <font color = red>rickets</font> ?</td>\n",
       "    </tr>\n",
       "    <tr>\n",
       "      <th>453</th>\n",
       "      <td>What is the life <font color = yellow>expectancy</font> for crickets ?</td>\n",
       "      <td>What is the life <font color = green>desired</font> for crickets ?</td>\n",
       "    </tr>\n",
       "    <tr>\n",
       "      <th>454</th>\n",
       "      <td><font color = orange>Where</font> are the British crown jewels kept ?</td>\n",
       "      <td><font color = yellow>When</font> are the British crown jewels kept ?</td>\n",
       "    </tr>\n",
       "    <tr>\n",
       "      <th>455</th>\n",
       "      <td>Who was the first U.<font color = purple>S</font>. <font color = purple>president</font> to <font color = purple>appear</font> on <font color = purple>TV</font> ?</td>\n",
       "      <td>Who was the first U.<font color = purple>secs</font>. <font color = purple>chairmanship</font> to <font color = purple>visualize</font> on <font color = purple>BROADCASTING</font> ?</td>\n",
       "    </tr>\n",
       "    <tr>\n",
       "      <th>456</th>\n",
       "      <td>What is the highest <font color = orange>dam</font> in the U.S. ?</td>\n",
       "      <td>What is the highest <font color = green>daffy</font> in the U.S. ?</td>\n",
       "    </tr>\n",
       "    <tr>\n",
       "      <th>457</th>\n",
       "      <td>Who <font color = purple>wrote</font> the <font color = purple>hymn</font> `` <font color = purple>Amazing</font> <font color = purple>Grace</font> '' ?</td>\n",
       "      <td>Who <font color = purple>write</font> the <font color = purple>anthem</font> `` <font color = purple>Resplendent</font> <font color = purple>Thanked</font> '' ?</td>\n",
       "    </tr>\n",
       "    <tr>\n",
       "      <th>458</th>\n",
       "      <td>What is the sales tax in Minnesota ?</td>\n",
       "      <td>What is the sales tax in Minnesota ?</td>\n",
       "    </tr>\n",
       "    <tr>\n",
       "      <th>459</th>\n",
       "      <td>What are <font color = red>Quaaludes</font> ?</td>\n",
       "      <td>What are <font color = red>Roofies</font> ?</td>\n",
       "    </tr>\n",
       "    <tr>\n",
       "      <th>460</th>\n",
       "      <td>What is the most popular <font color = green>sport</font> in Japan ?</td>\n",
       "      <td>What is the most popular <font color = purple>sportsmen</font> in Japan ?</td>\n",
       "    </tr>\n",
       "    <tr>\n",
       "      <th>461</th>\n",
       "      <td>What <font color = green>metal</font> has the highest melting point ?</td>\n",
       "      <td>What <font color = orange>mittal</font> has the highest melting point ?</td>\n",
       "    </tr>\n",
       "    <tr>\n",
       "      <th>462</th>\n",
       "      <td>What does USPS <font color = blue>stand</font> for ?</td>\n",
       "      <td>What does USPS <font color = red>attitude</font> for ?</td>\n",
       "    </tr>\n",
       "    <tr>\n",
       "      <th>463</th>\n",
       "      <td>What French <font color = orange>province</font> is cognac produced in ?</td>\n",
       "      <td>What French <font color = green>boycotting</font> is cognac produced in ?</td>\n",
       "    </tr>\n",
       "    <tr>\n",
       "      <th>464</th>\n",
       "      <td>What <font color = green>color</font> is a poison arrow frog ?</td>\n",
       "      <td>What <font color = orange>spot</font> is a poison arrow frog ?</td>\n",
       "    </tr>\n",
       "    <tr>\n",
       "      <th>465</th>\n",
       "      <td>What is the <font color = green>name</font> given to the Tiger at Louisiana State University ?</td>\n",
       "      <td>What is the <font color = yellow>numbers</font> given to the Tiger at Louisiana State University ?</td>\n",
       "    </tr>\n",
       "    <tr>\n",
       "      <th>466</th>\n",
       "      <td>What <font color = orange>city</font> has the zip code of 35824 ?</td>\n",
       "      <td>What <font color = purple>mayor</font> has the zip code of 35824 ?</td>\n",
       "    </tr>\n",
       "    <tr>\n",
       "      <th>467</th>\n",
       "      <td><font color = yellow>When</font> did John F. Kennedy get elected as President ?</td>\n",
       "      <td><font color = orange>Where</font> did John F. Kennedy get elected as President ?</td>\n",
       "    </tr>\n",
       "    <tr>\n",
       "      <th>468</th>\n",
       "      <td>What is <font color = red>pulmonary</font> <font color = red>fibrosis</font> ?</td>\n",
       "      <td>What is <font color = red>dragon</font> <font color = red>renal</font> ?</td>\n",
       "    </tr>\n",
       "    <tr>\n",
       "      <th>469</th>\n",
       "      <td>What is the deepest <font color = orange>lake</font> in the US ?</td>\n",
       "      <td>What is the deepest <font color = yellow>lakh</font> in the US ?</td>\n",
       "    </tr>\n",
       "    <tr>\n",
       "      <th>470</th>\n",
       "      <td>What is <font color = red>schizophrenia</font> ?</td>\n",
       "      <td>What is <font color = red>tourette</font> ?</td>\n",
       "    </tr>\n",
       "    <tr>\n",
       "      <th>471</th>\n",
       "      <td>How <font color = yellow>old</font> was Elvis Presley when he died ?</td>\n",
       "      <td>How <font color = red>obsolete</font> was Elvis Presley when he died ?</td>\n",
       "    </tr>\n",
       "    <tr>\n",
       "      <th>472</th>\n",
       "      <td>What is the <font color = green>name</font> of William Penn 's ship ?</td>\n",
       "      <td>What is the <font color = yellow>numbers</font> of William Penn 's ship ?</td>\n",
       "    </tr>\n",
       "    <tr>\n",
       "      <th>473</th>\n",
       "      <td><font color = orange>Where</font> is the Euphrates River ?</td>\n",
       "      <td><font color = yellow>When</font> is the Euphrates River ?</td>\n",
       "    </tr>\n",
       "    <tr>\n",
       "      <th>474</th>\n",
       "      <td>What is the name of the chocolate <font color = purple>company</font> in San Francisco ?</td>\n",
       "      <td>What is the name of the chocolate <font color = green>undertaken</font> in San Francisco ?</td>\n",
       "    </tr>\n",
       "    <tr>\n",
       "      <th>475</th>\n",
       "      <td>George Bush purchased a small interest in which baseball <font color = purple>team</font> ?</td>\n",
       "      <td>George Bush purchased a small interest in which baseball <font color = green>device</font> ?</td>\n",
       "    </tr>\n",
       "    <tr>\n",
       "      <th>476</th>\n",
       "      <td><font color = red>How</font> <font color = red>do</font> you measure earthquakes ?</td>\n",
       "      <td><font color = green>Consequently</font> <font color = green>soaps</font> you measure earthquakes ?</td>\n",
       "    </tr>\n",
       "    <tr>\n",
       "      <th>477</th>\n",
       "      <td>What U.S. <font color = orange>state</font> 's motto is `` Live free or Die '' ?</td>\n",
       "      <td>What U.S. <font color = purple>nationals</font> 's motto is `` Live free or Die '' ?</td>\n",
       "    </tr>\n",
       "    <tr>\n",
       "      <th>478</th>\n",
       "      <td>What are <font color = red>platelets</font> ?</td>\n",
       "      <td>What are <font color = red>booklet</font> ?</td>\n",
       "    </tr>\n",
       "    <tr>\n",
       "      <th>479</th>\n",
       "      <td>What was the <font color = green>name</font> of the first U.S. satellite sent into space ?</td>\n",
       "      <td>What was the <font color = yellow>numbers</font> of the first U.S. satellite sent into space ?</td>\n",
       "    </tr>\n",
       "    <tr>\n",
       "      <th>480</th>\n",
       "      <td>What is Teflon ?</td>\n",
       "      <td>What is Teflon ?</td>\n",
       "    </tr>\n",
       "    <tr>\n",
       "      <th>481</th>\n",
       "      <td>What <font color = green>color</font> does litmus paper turn when it comes into contact with a strong acid ?</td>\n",
       "      <td>What <font color = red>pigmentation</font> does litmus paper turn when it comes into contact with a strong acid ?</td>\n",
       "    </tr>\n",
       "    <tr>\n",
       "      <th>482</th>\n",
       "      <td>What <font color = orange>river</font> in the US is known as the Big Muddy ?</td>\n",
       "      <td>What <font color = purple>revere</font> in the US is known as the Big Muddy ?</td>\n",
       "    </tr>\n",
       "    <tr>\n",
       "      <th>483</th>\n",
       "      <td>What is the <font color = red>esophagus</font> used for ?</td>\n",
       "      <td>What is the <font color = green>digestive</font> used for ?</td>\n",
       "    </tr>\n",
       "    <tr>\n",
       "      <th>484</th>\n",
       "      <td><font color = orange>Where</font> is the volcano Mauna Loa ?</td>\n",
       "      <td><font color = yellow>When</font> is the volcano Mauna Loa ?</td>\n",
       "    </tr>\n",
       "    <tr>\n",
       "      <th>485</th>\n",
       "      <td>What is <font color = red>diabetes</font> ?</td>\n",
       "      <td>What is <font color = red>sugar</font> ?</td>\n",
       "    </tr>\n",
       "    <tr>\n",
       "      <th>486</th>\n",
       "      <td>What <font color = yellow>date</font> did Neil Armstrong land on the moon ?</td>\n",
       "      <td>What <font color = purple>personals</font> did Neil Armstrong land on the moon ?</td>\n",
       "    </tr>\n",
       "    <tr>\n",
       "      <th>487</th>\n",
       "      <td>What is the name of Neil Armstrong 's <font color = purple>wife</font> ?</td>\n",
       "      <td>What is the name of Neil Armstrong 's <font color = green>missus</font> ?</td>\n",
       "    </tr>\n",
       "    <tr>\n",
       "      <th>488</th>\n",
       "      <td>What is <font color = red>phosphorus</font> ?</td>\n",
       "      <td>What is <font color = red>percent</font> ?</td>\n",
       "    </tr>\n",
       "    <tr>\n",
       "      <th>489</th>\n",
       "      <td>What is <font color = red>myopia</font> ?</td>\n",
       "      <td>What is <font color = red>nearsighted</font> ?</td>\n",
       "    </tr>\n",
       "    <tr>\n",
       "      <th>490</th>\n",
       "      <td><font color = yellow>When</font> is the official first day of summer ?</td>\n",
       "      <td><font color = orange>Where</font> is the official first day of summer ?</td>\n",
       "    </tr>\n",
       "    <tr>\n",
       "      <th>491</th>\n",
       "      <td>What is bio-diversity ?</td>\n",
       "      <td>What is bio-diversity ?</td>\n",
       "    </tr>\n",
       "    <tr>\n",
       "      <th>492</th>\n",
       "      <td><font color = yellow>When</font> did Idaho become a state ?</td>\n",
       "      <td><font color = orange>Where</font> did Idaho become a state ?</td>\n",
       "    </tr>\n",
       "    <tr>\n",
       "      <th>493</th>\n",
       "      <td>What is the <font color = green>name</font> of Roy Roger 's dog ?</td>\n",
       "      <td>What is the <font color = yellow>numbers</font> of Roy Roger 's dog ?</td>\n",
       "    </tr>\n",
       "    <tr>\n",
       "      <th>494</th>\n",
       "      <td>What is <font color = red>relative</font> <font color = red>humidity</font> ?</td>\n",
       "      <td>What is <font color = yellow>thereto</font> <font color = yellow>rainfall</font> ?</td>\n",
       "    </tr>\n",
       "    <tr>\n",
       "      <th>495</th>\n",
       "      <td><font color = orange>Where</font> is the Orinoco River ?</td>\n",
       "      <td><font color = yellow>When</font> is the Orinoco River ?</td>\n",
       "    </tr>\n",
       "    <tr>\n",
       "      <th>496</th>\n",
       "      <td>What is cryogenics ?</td>\n",
       "      <td>What is cryogenics ?</td>\n",
       "    </tr>\n",
       "    <tr>\n",
       "      <th>497</th>\n",
       "      <td>What was FDR 's <font color = green>dog</font> 's name ?</td>\n",
       "      <td>What was FDR 's <font color = purple>stacy</font> 's name ?</td>\n",
       "    </tr>\n",
       "    <tr>\n",
       "      <th>498</th>\n",
       "      <td>What is New York 's state <font color = green>bird</font> ?</td>\n",
       "      <td>What is New York 's state <font color = orange>corral</font> ?</td>\n",
       "    </tr>\n",
       "    <tr>\n",
       "      <th>499</th>\n",
       "      <td><font color = orange>Where</font> is the Holland Tunnel ?</td>\n",
       "      <td><font color = yellow>When</font> is the Holland Tunnel ?</td>\n",
       "    </tr>\n",
       "  </tbody>\n",
       "</table>"
      ],
      "text/plain": [
       "<IPython.core.display.HTML object>"
      ]
     },
     "metadata": {},
     "output_type": "display_data"
    }
   ],
   "source": [
    "import pandas as pd\n",
    "pd.options.display.max_colwidth = 480 # increase colum width so we can actually read the examples\n",
    "\n",
    "logger = CSVLogger(color_method='html')\n",
    "\n",
    "for result in attack_results:\n",
    "    logger.log_attack_result(result)\n",
    "\n",
    "from IPython.core.display import display, HTML\n",
    "display(HTML(logger.df[['original_text', 'perturbed_text']].to_html(escape=False)))\n",
    "results_html = logger.df[['original_text', 'perturbed_text']].to_html(escape=False)\n",
    "path = r'C:\\Users\\DELL\\Text_Augmentation\\trec_dataset_3runs\\results\\CheckList\\text_fooler_attack_results\\run3\\results.html'\n",
    "text_file = open(path, \"w\")\n",
    "text_file.write(results_html.encode(\"gbk\", 'ignore').decode(\"gbk\", \"ignore\"))\n",
    "text_file.close()\n",
    "logger.flush()"
   ]
  },
  {
   "cell_type": "code",
   "execution_count": 27,
   "id": "e568222b",
   "metadata": {
    "scrolled": false
   },
   "outputs": [
    {
     "name": "stdout",
     "output_type": "stream",
     "text": [
      "+-------------------------------+--------+\n",
      "| Attack Results                |        |\n",
      "+-------------------------------+--------+\n",
      "| Number of successful attacks: | 327    |\n",
      "| Number of failed attacks:     | 157    |\n",
      "| Number of skipped attacks:    | 16     |\n",
      "| Original accuracy:            | 96.8%  |\n",
      "| Accuracy under attack:        | 31.4%  |\n",
      "| Attack success rate:          | 67.56% |\n",
      "| Average perturbed word %:     | 17.75% |\n",
      "| Average num. words per input: | 6.5    |\n",
      "| Avg num queries:              | 37.76  |\n",
      "+-------------------------------+--------+"
     ]
    }
   ],
   "source": [
    "import textattack\n",
    "\n",
    "attack_log_manager = textattack.loggers.AttackLogManager()\n",
    "\n",
    "\n",
    "for result in attack_results:\n",
    "    attack_log_manager.log_result(result)\n",
    "\n",
    "attack_log_manager.enable_stdout()\n",
    "attack_log_manager.log_summary()\n",
    "\n",
    "attack_log_manager.flush()\n"
   ]
  },
  {
   "cell_type": "code",
   "execution_count": null,
   "id": "60a6cbbe",
   "metadata": {},
   "outputs": [],
   "source": []
  }
 ],
 "metadata": {
  "kernelspec": {
   "display_name": "ta",
   "language": "python",
   "name": "ta"
  },
  "language_info": {
   "codemirror_mode": {
    "name": "ipython",
    "version": 3
   },
   "file_extension": ".py",
   "mimetype": "text/x-python",
   "name": "python",
   "nbconvert_exporter": "python",
   "pygments_lexer": "ipython3",
   "version": "3.8.13"
  }
 },
 "nbformat": 4,
 "nbformat_minor": 5
}
